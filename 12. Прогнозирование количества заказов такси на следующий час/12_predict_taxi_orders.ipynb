{
 "cells": [
  {
   "cell_type": "markdown",
   "metadata": {
    "toc": true
   },
   "source": [
    "<h1>Содержание<span class=\"tocSkip\"></span></h1>\n",
    "<div class=\"toc\"><ul class=\"toc-item\"><li><span><a href=\"#Подготовка\" data-toc-modified-id=\"Подготовка-1\"><span class=\"toc-item-num\">1&nbsp;&nbsp;</span>Подготовка</a></span><ul class=\"toc-item\"><li><span><a href=\"#Первичный-осмотр-данных\" data-toc-modified-id=\"Первичный-осмотр-данных-1.1\"><span class=\"toc-item-num\">1.1&nbsp;&nbsp;</span>Первичный осмотр данных</a></span></li><li><span><a href=\"#Преобразование-данных\" data-toc-modified-id=\"Преобразование-данных-1.2\"><span class=\"toc-item-num\">1.2&nbsp;&nbsp;</span>Преобразование данных</a></span></li></ul></li><li><span><a href=\"#Анализ\" data-toc-modified-id=\"Анализ-2\"><span class=\"toc-item-num\">2&nbsp;&nbsp;</span>Анализ</a></span><ul class=\"toc-item\"><li><span><a href=\"#График-за-неделю\" data-toc-modified-id=\"График-за-неделю-2.1\"><span class=\"toc-item-num\">2.1&nbsp;&nbsp;</span>График за неделю</a></span></li><li><span><a href=\"#График-за-2-месяца\" data-toc-modified-id=\"График-за-2-месяца-2.2\"><span class=\"toc-item-num\">2.2&nbsp;&nbsp;</span>График за 2 месяца</a></span></li><li><span><a href=\"#График-за-все-время\" data-toc-modified-id=\"График-за-все-время-2.3\"><span class=\"toc-item-num\">2.3&nbsp;&nbsp;</span>График за все время</a></span></li><li><span><a href=\"#Вывод\" data-toc-modified-id=\"Вывод-2.4\"><span class=\"toc-item-num\">2.4&nbsp;&nbsp;</span>Вывод</a></span></li></ul></li><li><span><a href=\"#Обучение\" data-toc-modified-id=\"Обучение-3\"><span class=\"toc-item-num\">3&nbsp;&nbsp;</span>Обучение</a></span><ul class=\"toc-item\"><li><span><a href=\"#Разбиваем-на-выборки\" data-toc-modified-id=\"Разбиваем-на-выборки-3.1\"><span class=\"toc-item-num\">3.1&nbsp;&nbsp;</span>Разбиваем на выборки</a></span></li><li><span><a href=\"#Функции-подбора-параметров\" data-toc-modified-id=\"Функции-подбора-параметров-3.2\"><span class=\"toc-item-num\">3.2&nbsp;&nbsp;</span>Функции подбора параметров</a></span></li><li><span><a href=\"#LinearRegression\" data-toc-modified-id=\"LinearRegression-3.3\"><span class=\"toc-item-num\">3.3&nbsp;&nbsp;</span>LinearRegression</a></span></li><li><span><a href=\"#RidgeCV\" data-toc-modified-id=\"RidgeCV-3.4\"><span class=\"toc-item-num\">3.4&nbsp;&nbsp;</span>RidgeCV</a></span></li><li><span><a href=\"#DecisionTreeRegressor\" data-toc-modified-id=\"DecisionTreeRegressor-3.5\"><span class=\"toc-item-num\">3.5&nbsp;&nbsp;</span>DecisionTreeRegressor</a></span></li><li><span><a href=\"#RandomForestRegressor\" data-toc-modified-id=\"RandomForestRegressor-3.6\"><span class=\"toc-item-num\">3.6&nbsp;&nbsp;</span>RandomForestRegressor</a></span></li><li><span><a href=\"#LGBMRegressor\" data-toc-modified-id=\"LGBMRegressor-3.7\"><span class=\"toc-item-num\">3.7&nbsp;&nbsp;</span>LGBMRegressor</a></span></li><li><span><a href=\"#Вывод\" data-toc-modified-id=\"Вывод-3.8\"><span class=\"toc-item-num\">3.8&nbsp;&nbsp;</span>Вывод</a></span></li></ul></li><li><span><a href=\"#Тестирование\" data-toc-modified-id=\"Тестирование-4\"><span class=\"toc-item-num\">4&nbsp;&nbsp;</span>Тестирование</a></span><ul class=\"toc-item\"><li><span><a href=\"#LGBMRegressor\" data-toc-modified-id=\"LGBMRegressor-4.1\"><span class=\"toc-item-num\">4.1&nbsp;&nbsp;</span>LGBMRegressor</a></span></li><li><span><a href=\"#RandomForestRegressor\" data-toc-modified-id=\"RandomForestRegressor-4.2\"><span class=\"toc-item-num\">4.2&nbsp;&nbsp;</span>RandomForestRegressor</a></span></li><li><span><a href=\"#Факт-/-предсказание\" data-toc-modified-id=\"Факт-/-предсказание-4.3\"><span class=\"toc-item-num\">4.3&nbsp;&nbsp;</span>Факт / предсказание</a></span></li><li><span><a href=\"#Предсказание-заказов-на-следующий-час\" data-toc-modified-id=\"Предсказание-заказов-на-следующий-час-4.4\"><span class=\"toc-item-num\">4.4&nbsp;&nbsp;</span>Предсказание заказов на следующий час</a></span></li></ul></li><li><span><a href=\"#Вывод\" data-toc-modified-id=\"Вывод-5\"><span class=\"toc-item-num\">5&nbsp;&nbsp;</span>Вывод</a></span></li></ul></div>"
   ]
  },
  {
   "cell_type": "markdown",
   "metadata": {},
   "source": [
    "#  Прогнозирование заказов такси"
   ]
  },
  {
   "cell_type": "markdown",
   "metadata": {},
   "source": [
    "Компания «Чётенькое такси» собрала исторические данные о заказах такси в аэропортах. Чтобы привлекать больше водителей в период пиковой нагрузки, нужно спрогнозировать количество заказов такси на следующий час. \n",
    "\n",
    "Данные лежат в файле `taxi.csv`. Количество заказов находится в столбце `num_orders` (от англ. *number of orders*, «число заказов»)."
   ]
  },
  {
   "cell_type": "code",
   "execution_count": 1,
   "metadata": {},
   "outputs": [],
   "source": [
    "import pandas as pd\n",
    "import numpy as np\n",
    "from statsmodels.tsa.seasonal import seasonal_decompose\n",
    "\n",
    "from sklearn.model_selection import GridSearchCV\n",
    "from sklearn.model_selection import train_test_split\n",
    "from sklearn.model_selection import TimeSeriesSplit\n",
    "\n",
    "import matplotlib.pyplot as plt\n",
    "from sklearn.metrics import mean_squared_error\n",
    "from sklearn.metrics import make_scorer\n",
    "\n",
    "from sklearn.linear_model import LinearRegression\n",
    "from sklearn.tree import DecisionTreeRegressor\n",
    "from sklearn.ensemble import RandomForestRegressor\n",
    "from sklearn.linear_model import RidgeCV\n",
    "\n",
    "from lightgbm import LGBMRegressor\n",
    "\n",
    "import seaborn as sns\n",
    "sns.set_style('white')\n",
    "\n",
    "from datetime import datetime\n",
    "\n",
    "import warnings\n",
    "warnings.filterwarnings(\"ignore\")\n",
    "\n",
    "pd.options.display.float_format = '{:,.4f}'.format"
   ]
  },
  {
   "cell_type": "markdown",
   "metadata": {},
   "source": [
    "## Подготовка"
   ]
  },
  {
   "cell_type": "markdown",
   "metadata": {},
   "source": [
    "### Первичный осмотр данных"
   ]
  },
  {
   "cell_type": "code",
   "execution_count": 2,
   "metadata": {},
   "outputs": [],
   "source": [
    "data = pd.read_csv(r'/datasets/taxi.csv')"
   ]
  },
  {
   "cell_type": "code",
   "execution_count": 3,
   "metadata": {},
   "outputs": [
    {
     "data": {
      "text/html": [
       "<div>\n",
       "<style scoped>\n",
       "    .dataframe tbody tr th:only-of-type {\n",
       "        vertical-align: middle;\n",
       "    }\n",
       "\n",
       "    .dataframe tbody tr th {\n",
       "        vertical-align: top;\n",
       "    }\n",
       "\n",
       "    .dataframe thead th {\n",
       "        text-align: right;\n",
       "    }\n",
       "</style>\n",
       "<table border=\"1\" class=\"dataframe\">\n",
       "  <thead>\n",
       "    <tr style=\"text-align: right;\">\n",
       "      <th></th>\n",
       "      <th>datetime</th>\n",
       "      <th>num_orders</th>\n",
       "    </tr>\n",
       "  </thead>\n",
       "  <tbody>\n",
       "    <tr>\n",
       "      <th>0</th>\n",
       "      <td>2018-03-01 00:00:00</td>\n",
       "      <td>9</td>\n",
       "    </tr>\n",
       "    <tr>\n",
       "      <th>1</th>\n",
       "      <td>2018-03-01 00:10:00</td>\n",
       "      <td>14</td>\n",
       "    </tr>\n",
       "    <tr>\n",
       "      <th>2</th>\n",
       "      <td>2018-03-01 00:20:00</td>\n",
       "      <td>28</td>\n",
       "    </tr>\n",
       "  </tbody>\n",
       "</table>\n",
       "</div>"
      ],
      "text/plain": [
       "              datetime  num_orders\n",
       "0  2018-03-01 00:00:00           9\n",
       "1  2018-03-01 00:10:00          14\n",
       "2  2018-03-01 00:20:00          28"
      ]
     },
     "execution_count": 3,
     "metadata": {},
     "output_type": "execute_result"
    }
   ],
   "source": [
    "data.head(3)"
   ]
  },
  {
   "cell_type": "code",
   "execution_count": 4,
   "metadata": {},
   "outputs": [
    {
     "name": "stdout",
     "output_type": "stream",
     "text": [
      "<class 'pandas.core.frame.DataFrame'>\n",
      "RangeIndex: 26496 entries, 0 to 26495\n",
      "Data columns (total 2 columns):\n",
      " #   Column      Non-Null Count  Dtype \n",
      "---  ------      --------------  ----- \n",
      " 0   datetime    26496 non-null  object\n",
      " 1   num_orders  26496 non-null  int64 \n",
      "dtypes: int64(1), object(1)\n",
      "memory usage: 414.1+ KB\n"
     ]
    }
   ],
   "source": [
    "data.info()"
   ]
  },
  {
   "cell_type": "code",
   "execution_count": 5,
   "metadata": {},
   "outputs": [
    {
     "data": {
      "text/html": [
       "<div>\n",
       "<style scoped>\n",
       "    .dataframe tbody tr th:only-of-type {\n",
       "        vertical-align: middle;\n",
       "    }\n",
       "\n",
       "    .dataframe tbody tr th {\n",
       "        vertical-align: top;\n",
       "    }\n",
       "\n",
       "    .dataframe thead th {\n",
       "        text-align: right;\n",
       "    }\n",
       "</style>\n",
       "<table border=\"1\" class=\"dataframe\">\n",
       "  <thead>\n",
       "    <tr style=\"text-align: right;\">\n",
       "      <th></th>\n",
       "      <th>datetime</th>\n",
       "      <th>num_orders</th>\n",
       "    </tr>\n",
       "  </thead>\n",
       "  <tbody>\n",
       "    <tr>\n",
       "      <th>count</th>\n",
       "      <td>26496</td>\n",
       "      <td>26,496.0000</td>\n",
       "    </tr>\n",
       "    <tr>\n",
       "      <th>unique</th>\n",
       "      <td>26496</td>\n",
       "      <td>NaN</td>\n",
       "    </tr>\n",
       "    <tr>\n",
       "      <th>top</th>\n",
       "      <td>2018-07-28 03:50:00</td>\n",
       "      <td>NaN</td>\n",
       "    </tr>\n",
       "    <tr>\n",
       "      <th>freq</th>\n",
       "      <td>1</td>\n",
       "      <td>NaN</td>\n",
       "    </tr>\n",
       "    <tr>\n",
       "      <th>mean</th>\n",
       "      <td>NaN</td>\n",
       "      <td>14.0705</td>\n",
       "    </tr>\n",
       "    <tr>\n",
       "      <th>std</th>\n",
       "      <td>NaN</td>\n",
       "      <td>9.2113</td>\n",
       "    </tr>\n",
       "    <tr>\n",
       "      <th>min</th>\n",
       "      <td>NaN</td>\n",
       "      <td>0.0000</td>\n",
       "    </tr>\n",
       "    <tr>\n",
       "      <th>25%</th>\n",
       "      <td>NaN</td>\n",
       "      <td>8.0000</td>\n",
       "    </tr>\n",
       "    <tr>\n",
       "      <th>50%</th>\n",
       "      <td>NaN</td>\n",
       "      <td>13.0000</td>\n",
       "    </tr>\n",
       "    <tr>\n",
       "      <th>75%</th>\n",
       "      <td>NaN</td>\n",
       "      <td>19.0000</td>\n",
       "    </tr>\n",
       "    <tr>\n",
       "      <th>max</th>\n",
       "      <td>NaN</td>\n",
       "      <td>119.0000</td>\n",
       "    </tr>\n",
       "  </tbody>\n",
       "</table>\n",
       "</div>"
      ],
      "text/plain": [
       "                   datetime  num_orders\n",
       "count                 26496 26,496.0000\n",
       "unique                26496         NaN\n",
       "top     2018-07-28 03:50:00         NaN\n",
       "freq                      1         NaN\n",
       "mean                    NaN     14.0705\n",
       "std                     NaN      9.2113\n",
       "min                     NaN      0.0000\n",
       "25%                     NaN      8.0000\n",
       "50%                     NaN     13.0000\n",
       "75%                     NaN     19.0000\n",
       "max                     NaN    119.0000"
      ]
     },
     "execution_count": 5,
     "metadata": {},
     "output_type": "execute_result"
    }
   ],
   "source": [
    "data.describe(include='all')"
   ]
  },
  {
   "cell_type": "code",
   "execution_count": 6,
   "metadata": {},
   "outputs": [
    {
     "data": {
      "text/html": [
       "<style  type=\"text/css\" >\n",
       "#T_ad3e5_row0_col0,#T_ad3e5_row0_col1,#T_ad3e5_row1_col0,#T_ad3e5_row1_col1{\n",
       "            background-color:  #3b4cc0;\n",
       "            color:  #f1f1f1;\n",
       "        }</style><table id=\"T_ad3e5_\" ><thead>    <tr>        <th class=\"blank level0\" ></th>        <th class=\"col_heading level0 col0\" >percent_na</th>        <th class=\"col_heading level0 col1\" >count_na</th>    </tr></thead><tbody>\n",
       "                <tr>\n",
       "                        <th id=\"T_ad3e5_level0_row0\" class=\"row_heading level0 row0\" >datetime</th>\n",
       "                        <td id=\"T_ad3e5_row0_col0\" class=\"data row0 col0\" >0.000000</td>\n",
       "                        <td id=\"T_ad3e5_row0_col1\" class=\"data row0 col1\" >0.000000</td>\n",
       "            </tr>\n",
       "            <tr>\n",
       "                        <th id=\"T_ad3e5_level0_row1\" class=\"row_heading level0 row1\" >num_orders</th>\n",
       "                        <td id=\"T_ad3e5_row1_col0\" class=\"data row1 col0\" >0.000000</td>\n",
       "                        <td id=\"T_ad3e5_row1_col1\" class=\"data row1 col1\" >0.000000</td>\n",
       "            </tr>\n",
       "    </tbody></table>"
      ],
      "text/plain": [
       "<pandas.io.formats.style.Styler at 0x7f1d9421b250>"
      ]
     },
     "execution_count": 6,
     "metadata": {},
     "output_type": "execute_result"
    }
   ],
   "source": [
    "pd.DataFrame(\n",
    "    [round((data.isna().mean()*100),2), data.isna().sum()]).T \\\n",
    "    .rename(columns={0: 'percent_na', 1: 'count_na'}) \\\n",
    "    .sort_values(by='count_na', ascending=False) \\\n",
    "    .style.background_gradient('coolwarm')"
   ]
  },
  {
   "cell_type": "markdown",
   "metadata": {},
   "source": [
    "<div style=\"border:solid green 2.0px; padding: 10px\"> \n",
    "\n",
    "Данные сожержат количество дату с гранулярностью в 10 мин и суммарное количество заказов за этот промежуток времени.\n",
    "\n",
    "Пропусков нет\n",
    "<div>"
   ]
  },
  {
   "cell_type": "code",
   "execution_count": null,
   "metadata": {},
   "outputs": [],
   "source": []
  },
  {
   "cell_type": "markdown",
   "metadata": {},
   "source": [
    "### Преобразование данных"
   ]
  },
  {
   "cell_type": "markdown",
   "metadata": {},
   "source": [
    "<div style=\"border:solid green 2.0px; padding: 10px\"> \n",
    "\n",
    " - назначим дату индексом\n",
    " - отсортируем по данные по времени для корректного обучения моделей   \n",
    " - ресемплируем данные до одного часа, просуммировав количество заказов в каждом часу\n",
    "    \n",
    "Пропусков нет\n",
    "<div>"
   ]
  },
  {
   "cell_type": "code",
   "execution_count": 7,
   "metadata": {},
   "outputs": [],
   "source": [
    "data['datetime'] = data['datetime'].astype('datetime64')"
   ]
  },
  {
   "cell_type": "code",
   "execution_count": 8,
   "metadata": {},
   "outputs": [
    {
     "data": {
      "text/plain": [
       "True"
      ]
     },
     "execution_count": 8,
     "metadata": {},
     "output_type": "execute_result"
    }
   ],
   "source": [
    "data = data.set_index('datetime')\n",
    "data.sort_index(inplace=True)\n",
    "data.index.is_monotonic"
   ]
  },
  {
   "cell_type": "code",
   "execution_count": 9,
   "metadata": {},
   "outputs": [],
   "source": [
    "data = data.resample('1H').sum()"
   ]
  },
  {
   "cell_type": "code",
   "execution_count": 10,
   "metadata": {},
   "outputs": [
    {
     "data": {
      "text/plain": [
       "True"
      ]
     },
     "execution_count": 10,
     "metadata": {},
     "output_type": "execute_result"
    }
   ],
   "source": [
    "data.index.is_monotonic"
   ]
  },
  {
   "cell_type": "code",
   "execution_count": null,
   "metadata": {},
   "outputs": [],
   "source": []
  },
  {
   "cell_type": "markdown",
   "metadata": {},
   "source": [
    "## Анализ"
   ]
  },
  {
   "cell_type": "markdown",
   "metadata": {},
   "source": [
    "<div style=\"border:solid green 2.0px; padding: 10px\"> \n",
    "\n",
    "Напишем функцию, **graph_time_series** которая \n",
    " -  принимает на вход временной ряд и ширину окна:\n",
    " -  возвращает график, на котором:\n",
    "   -  временной ряд разложен на тренд, сезонность и остатки\n",
    "   -  добавлены скользящее среднее и стандартное отклонение\n",
    "    \n",
    "<div>"
   ]
  },
  {
   "cell_type": "code",
   "execution_count": 11,
   "metadata": {},
   "outputs": [],
   "source": [
    "def graph_time_series(df, date_min, date_max, rolling_size):\n",
    "    data = df[date_min: date_max]\n",
    "    decomposed = seasonal_decompose(data)\n",
    "    mean_data = data.rolling(rolling_size).mean().squeeze()\n",
    "    std_data = data.rolling(rolling_size).std().squeeze()\n",
    "    \n",
    "    fig, axes = plt.subplots(5, 1, figsize=(18, 10), sharex=True)\n",
    "    ax1 = sns.lineplot(data=decomposed.trend,       label='Тренд',                  color = 'green',  ax=axes[0])\n",
    "    ax2 = sns.lineplot(data=decomposed.seasonal,    label='Сезонность',             color = 'blue',   ax=axes[1])\n",
    "    ax3 = sns.lineplot(data=decomposed.resid,       label='Остатки',                color = 'red',    ax=axes[2])\n",
    "    ax4 = sns.lineplot(data=mean_data,              label='Среднее',                color = 'orange', ax=axes[3])\n",
    "    ax5 = sns.lineplot(data=std_data,               label='Стандартное отклонение', color = 'gray',   ax=axes[4])\n",
    "    \n",
    "    fig.suptitle(f'Разложение временного ряда: динамика количества поездок', fontsize=20)\n",
    "    ax1.set(ylabel = 'Количество')\n",
    "    ax2.set(ylabel = 'Количество')\n",
    "    ax3.set(ylabel = 'Количество')\n",
    "    ax4.set(ylabel = 'Количество')\n",
    "    ax5.set(ylabel = 'Количество')\n",
    "    plt.xlabel('Дата', fontsize=14)"
   ]
  },
  {
   "cell_type": "code",
   "execution_count": null,
   "metadata": {},
   "outputs": [],
   "source": []
  },
  {
   "cell_type": "markdown",
   "metadata": {},
   "source": [
    "### График за неделю"
   ]
  },
  {
   "cell_type": "code",
   "execution_count": 12,
   "metadata": {},
   "outputs": [
    {
     "data": {
      "image/png": "[encoded data removed]",
      "text/plain": [
       "<Figure size 1296x720 with 5 Axes>"
      ]
     },
     "metadata": {},
     "output_type": "display_data"
    }
   ],
   "source": [
    "graph_time_series(data, '05-01-2018', '05-07-2018', 24)"
   ]
  },
  {
   "cell_type": "code",
   "execution_count": null,
   "metadata": {},
   "outputs": [],
   "source": []
  },
  {
   "cell_type": "markdown",
   "metadata": {},
   "source": [
    "### График за 2 месяца"
   ]
  },
  {
   "cell_type": "code",
   "execution_count": 13,
   "metadata": {},
   "outputs": [
    {
     "data": {
      "image/png": "[encoded data removed]",
      "text/plain": [
       "<Figure size 1296x720 with 5 Axes>"
      ]
     },
     "metadata": {},
     "output_type": "display_data"
    }
   ],
   "source": [
    "graph_time_series(data, '05-01-2018', '06-30-2018', 100)"
   ]
  },
  {
   "cell_type": "code",
   "execution_count": null,
   "metadata": {},
   "outputs": [],
   "source": []
  },
  {
   "cell_type": "markdown",
   "metadata": {},
   "source": [
    "### График за все время"
   ]
  },
  {
   "cell_type": "code",
   "execution_count": 14,
   "metadata": {},
   "outputs": [
    {
     "data": {
      "image/png": "[encoded data removed]",
      "text/plain": [
       "<Figure size 1296x720 with 5 Axes>"
      ]
     },
     "metadata": {},
     "output_type": "display_data"
    }
   ],
   "source": [
    "graph_time_series(data, '03-01-2018', '08-31-2018', 100)"
   ]
  },
  {
   "cell_type": "code",
   "execution_count": null,
   "metadata": {},
   "outputs": [],
   "source": []
  },
  {
   "cell_type": "markdown",
   "metadata": {},
   "source": [
    "### Вывод"
   ]
  },
  {
   "cell_type": "markdown",
   "metadata": {},
   "source": [
    "<div style=\"border:solid green 2.0px; padding: 10px\"> \n",
    "\n",
    "Мы видим:\n",
    "- тренд. имеет две составляющие:\n",
    "    - колебания поездок в разные дни недели: в выходные и праздники количество поездок больше\n",
    "    - общий восходящий тренд от месяца к месяцу количества поездок. это подтверждает увеличивающееся среднее. возможно есть фактор сезонности  времени года, но данных у нас мало, чтобы это утверждать\n",
    "- сезонность. в данном случае сезонностью выступают колебания количества поездок в течение дня: вечером видим пики активности, глубокой ночью спады\n",
    " - остатки. необъясненная трендами и сезонностью дисперсия\n",
    "    \n",
    "    \n",
    "<div>"
   ]
  },
  {
   "cell_type": "code",
   "execution_count": null,
   "metadata": {},
   "outputs": [],
   "source": []
  },
  {
   "cell_type": "markdown",
   "metadata": {},
   "source": [
    "## Обучение"
   ]
  },
  {
   "cell_type": "markdown",
   "metadata": {},
   "source": [
    "### Разбиваем на выборки"
   ]
  },
  {
   "cell_type": "markdown",
   "metadata": {},
   "source": [
    "<div style=\"border:solid green 2.0px; padding: 10px\"> \n",
    "\n",
    "Отделим от данных тестовую выборку, составляющую 10 процентов от всей, и отложим ее в сторону.\n",
    "Все остальное потом будем делить на обучающую и валидационную\n",
    "    \n",
    "<div>"
   ]
  },
  {
   "cell_type": "code",
   "execution_count": 18,
   "metadata": {},
   "outputs": [
    {
     "name": "stdout",
     "output_type": "stream",
     "text": [
      "Размер исходной выборки: (4416, 1)\n",
      "Размер обучающей+валидационной выборки: (3974, 1)\n",
      "Размер тестовой выборки: (442, 1)\n"
     ]
    }
   ],
   "source": [
    "data_notest, data_test = train_test_split(data, test_size=0.1, random_state=12345, shuffle=False)\n",
    "\n",
    "print(f'Размер исходной выборки: {data.shape}')\n",
    "print(f'Размер обучающей+валидационной выборки: {data_notest.shape}')\n",
    "print(f'Размер тестовой выборки: {data_test.shape}')"
   ]
  },
  {
   "cell_type": "code",
   "execution_count": null,
   "metadata": {},
   "outputs": [],
   "source": []
  },
  {
   "cell_type": "markdown",
   "metadata": {},
   "source": [
    "<div style=\"border:solid green 2.0px; padding: 10px\"> \n",
    "\n",
    "Функция **make_features_and_split**:\n",
    " - вычисляет новые фичи в зависимости от переданных параметров: \n",
    "   - max_lag: максимальный размер отставания \n",
    "   - rolling_mean_size: ширина окна\n",
    "    \n",
    " - делит выборку на трейн и тест\n",
    "\n",
    "    \n",
    "Она нам будет полезна при автоматическом подборе оптимального отставания и ширины окна\n",
    "<div>"
   ]
  },
  {
   "cell_type": "code",
   "execution_count": 73,
   "metadata": {},
   "outputs": [],
   "source": [
    "def make_features_and_split(df, max_lag, rolling_mean_size, test_size=0.2):\n",
    "    data = df.copy()\n",
    "    #преобразуем ряд в стационарный\n",
    "    #data = (data-data.shift()).dropna()\n",
    "    \n",
    "    #добавляем день, месяц, год, день недели\n",
    "    #data['year'] = data.index.year\n",
    "    #data['month'] = data.index.month\n",
    "    #data['day'] = data.index.day\n",
    "    data['hour'] = data.index.hour\n",
    "    data['dayofweek'] = data.index.dayofweek\n",
    "    \n",
    "    #добавляем переменные с отстающими значениями\n",
    "    for lag in range(1, max_lag + 1):\n",
    "        data['lag_{}'.format(lag)] = data['num_orders'].shift(lag)\n",
    "\n",
    "    #добавляем скользящее среднее\n",
    "    data['rolling_mean'] = data['num_orders'].shift().rolling(rolling_mean_size).mean()\n",
    "    \n",
    "    #делим на тренировочную и валидационную выборки\n",
    "    train, valid = train_test_split(data, shuffle=False, test_size=test_size)\n",
    "    train = train.dropna()\n",
    "    \n",
    "    features_train = train.drop('num_orders', axis=1)\n",
    "    features_valid = valid.drop('num_orders', axis=1)\n",
    "    target_train = train['num_orders']\n",
    "    target_valid = valid['num_orders']\n",
    "    \n",
    "    return features_train, target_train, features_valid, target_valid"
   ]
  },
  {
   "cell_type": "code",
   "execution_count": null,
   "metadata": {},
   "outputs": [],
   "source": []
  },
  {
   "cell_type": "markdown",
   "metadata": {},
   "source": [
    "### Функции подбора параметров"
   ]
  },
  {
   "cell_type": "markdown",
   "metadata": {},
   "source": [
    "<div style=\"border:solid green 2.0px; padding: 10px\"> \n",
    "\n",
    "Функции **timeline_find_parametrs и timeline_find_parametrs_grid** служат для автоматического подбора оптимального размера отставания и ширины окна. Мы в цикле перебираем эти параметры, в зависимости от них на вход модели или эстиматору подаются разные датафреймы, на которых модель обучается. \n",
    "\n",
    "Возвращают датафрейм с оптимальными сочетаниями гиперпараметров модели (если применимо), размера отставания и ширины окна\n",
    "    \n",
    "Функция **timeline_find_parametrs** предназначена для моделей, в которых мы не перебираем гиперпараметры\n",
    "    \n",
    "Функция **timeline_find_parametrs_grid** предназначена для моделей, в которых мы перебираем гиперпараметры\n",
    "    \n",
    "<div>"
   ]
  },
  {
   "cell_type": "code",
   "execution_count": 20,
   "metadata": {},
   "outputs": [],
   "source": [
    "def timeline_find_parametrs (df, model_type, range_max_lag, range_rolling_mean_size):\n",
    "    \n",
    "    # Датафрейм, который будет хранить результаты моделей\n",
    "    results = pd.DataFrame(columns=['model', 'max_lag', 'rolling_mean_size', 'rmse'])\n",
    "    model = model_type()\n",
    "\n",
    "    # Перебираем отставания\n",
    "    for max_lag in range_max_lag:\n",
    "\n",
    "        # Перебираем ширину окна\n",
    "        for rolling_mean_size in range_rolling_mean_size:\n",
    "\n",
    "            # Добавляем фичи и делим на трейн и тест\n",
    "            features_train, target_train, features_valid, target_valid = make_features_and_split(df, max_lag, rolling_mean_size)\n",
    "\n",
    "            # Обучаем\n",
    "            model.fit(features_train, target_train)\n",
    "            \n",
    "            # Предсказываем\n",
    "            predict_valid = model.predict(features_valid)  \n",
    "\n",
    "            # Считаем RMSE\n",
    "            rmse_model = mean_squared_error(target_valid, predict_valid)**0.5\n",
    "            results.loc[len(results)] = [model, max_lag, rolling_mean_size, rmse_model]\n",
    "    return results\n",
    "        \n",
    "    "
   ]
  },
  {
   "cell_type": "code",
   "execution_count": 21,
   "metadata": {},
   "outputs": [],
   "source": [
    "def timeline_find_parametrs_grid(df, model_type, param, range_max_lag, range_rolling_mean_size):\n",
    "    \n",
    "    # Датафрейм, который будет хранить результаты моделей\n",
    "    results = pd.DataFrame(columns=['model', 'max_lag', 'rolling_mean_size', 'rmse'])\n",
    "\n",
    "    searcher = GridSearchCV(model_type(), param_grid = param, scoring=rmse_scorer, cv=TimeSeriesSplit(n_splits=5))\n",
    "    \n",
    "    # Перебираем отставания\n",
    "    for max_lag in range_max_lag:\n",
    "\n",
    "        # Перебираем ширину окна\n",
    "        for rolling_mean_size in range_rolling_mean_size:\n",
    "            print(max_lag, rolling_mean_size)\n",
    "            \n",
    "            # Добавляем фичи и делим на трейн и тест\n",
    "            features_train, target_train, features_valid, target_valid = make_features_and_split(df, max_lag, rolling_mean_size)\n",
    "            \n",
    "            # Получаем оптимальные гиперпараметры\n",
    "            searcher.fit(features_train, target_train)\n",
    "            \n",
    "            # Обучаемся на оптимальных гиперпараметрах\n",
    "            model = model_type(**searcher.best_params_)\n",
    "            model.fit(features_train, target_train)\n",
    "\n",
    "            # Предсказываем\n",
    "            predict_valid = model.predict(features_valid)  \n",
    "            \n",
    "            # Считаем RMSE            \n",
    "            rmse_model = mean_squared_error(target_valid, predict_valid)**0.5\n",
    "            results.loc[len(results)] = [model, max_lag, rolling_mean_size, rmse_model]\n",
    "    return results"
   ]
  },
  {
   "cell_type": "code",
   "execution_count": null,
   "metadata": {},
   "outputs": [],
   "source": []
  },
  {
   "cell_type": "code",
   "execution_count": null,
   "metadata": {},
   "outputs": [],
   "source": []
  },
  {
   "cell_type": "markdown",
   "metadata": {},
   "source": [
    "<div style=\"border:solid green 2.0px; padding: 10px\"> \n",
    "\n",
    "Попробуем несколько разных моделей\n",
    "    \n",
    "<div>"
   ]
  },
  {
   "cell_type": "markdown",
   "metadata": {},
   "source": [
    "### LinearRegression"
   ]
  },
  {
   "cell_type": "code",
   "execution_count": 74,
   "metadata": {},
   "outputs": [],
   "source": [
    "results_lr = timeline_find_parametrs(\n",
    "    df = data_notest, \n",
    "    model_type=LinearRegression, \n",
    "    range_max_lag=range(1, 3+1, 1), \n",
    "    range_rolling_mean_size=range(24,72+1,24)\n",
    ")"
   ]
  },
  {
   "cell_type": "code",
   "execution_count": 75,
   "metadata": {},
   "outputs": [
    {
     "data": {
      "text/html": [
       "<div>\n",
       "<style scoped>\n",
       "    .dataframe tbody tr th:only-of-type {\n",
       "        vertical-align: middle;\n",
       "    }\n",
       "\n",
       "    .dataframe tbody tr th {\n",
       "        vertical-align: top;\n",
       "    }\n",
       "\n",
       "    .dataframe thead th {\n",
       "        text-align: right;\n",
       "    }\n",
       "</style>\n",
       "<table border=\"1\" class=\"dataframe\">\n",
       "  <thead>\n",
       "    <tr style=\"text-align: right;\">\n",
       "      <th></th>\n",
       "      <th>model</th>\n",
       "      <th>max_lag</th>\n",
       "      <th>rolling_mean_size</th>\n",
       "      <th>rmse</th>\n",
       "    </tr>\n",
       "  </thead>\n",
       "  <tbody>\n",
       "    <tr>\n",
       "      <th>8</th>\n",
       "      <td>LinearRegression()</td>\n",
       "      <td>3</td>\n",
       "      <td>72</td>\n",
       "      <td>38.6262</td>\n",
       "    </tr>\n",
       "  </tbody>\n",
       "</table>\n",
       "</div>"
      ],
      "text/plain": [
       "                model max_lag rolling_mean_size    rmse\n",
       "8  LinearRegression()       3                72 38.6262"
      ]
     },
     "execution_count": 75,
     "metadata": {},
     "output_type": "execute_result"
    }
   ],
   "source": [
    "results_lr.query(f\"rmse=={results_lr['rmse'].min()}\")"
   ]
  },
  {
   "cell_type": "code",
   "execution_count": null,
   "metadata": {},
   "outputs": [],
   "source": []
  },
  {
   "cell_type": "markdown",
   "metadata": {},
   "source": [
    "### RidgeCV"
   ]
  },
  {
   "cell_type": "code",
   "execution_count": 76,
   "metadata": {},
   "outputs": [],
   "source": [
    "results_rcv = timeline_find_parametrs(\n",
    "    df = data_notest, \n",
    "    model_type=RidgeCV, \n",
    "    range_max_lag=range(1, 3+1, 1), \n",
    "    range_rolling_mean_size=range(24, 72+1, 24)\n",
    ")"
   ]
  },
  {
   "cell_type": "code",
   "execution_count": 77,
   "metadata": {},
   "outputs": [
    {
     "data": {
      "text/html": [
       "<div>\n",
       "<style scoped>\n",
       "    .dataframe tbody tr th:only-of-type {\n",
       "        vertical-align: middle;\n",
       "    }\n",
       "\n",
       "    .dataframe tbody tr th {\n",
       "        vertical-align: top;\n",
       "    }\n",
       "\n",
       "    .dataframe thead th {\n",
       "        text-align: right;\n",
       "    }\n",
       "</style>\n",
       "<table border=\"1\" class=\"dataframe\">\n",
       "  <thead>\n",
       "    <tr style=\"text-align: right;\">\n",
       "      <th></th>\n",
       "      <th>model</th>\n",
       "      <th>max_lag</th>\n",
       "      <th>rolling_mean_size</th>\n",
       "      <th>rmse</th>\n",
       "    </tr>\n",
       "  </thead>\n",
       "  <tbody>\n",
       "    <tr>\n",
       "      <th>8</th>\n",
       "      <td>RidgeCV(alphas=array([ 0.1,  1. , 10. ]))</td>\n",
       "      <td>3</td>\n",
       "      <td>72</td>\n",
       "      <td>38.6262</td>\n",
       "    </tr>\n",
       "  </tbody>\n",
       "</table>\n",
       "</div>"
      ],
      "text/plain": [
       "                                       model max_lag rolling_mean_size    rmse\n",
       "8  RidgeCV(alphas=array([ 0.1,  1. , 10. ]))       3                72 38.6262"
      ]
     },
     "execution_count": 77,
     "metadata": {},
     "output_type": "execute_result"
    }
   ],
   "source": [
    "results_rcv.query(f\"rmse=={results_rcv['rmse'].min()}\")"
   ]
  },
  {
   "cell_type": "code",
   "execution_count": null,
   "metadata": {},
   "outputs": [],
   "source": []
  },
  {
   "cell_type": "markdown",
   "metadata": {},
   "source": [
    "### DecisionTreeRegressor"
   ]
  },
  {
   "cell_type": "code",
   "execution_count": 78,
   "metadata": {},
   "outputs": [],
   "source": [
    "def rmse(y_true, y_pred):\n",
    "    error = (y_true - y_pred) ** 2\n",
    "    return np.sqrt(np.mean(error))\n",
    "\n",
    "rmse_scorer = make_scorer(\n",
    "    rmse,\n",
    "    greater_is_better=False\n",
    ")"
   ]
  },
  {
   "cell_type": "code",
   "execution_count": 79,
   "metadata": {},
   "outputs": [],
   "source": [
    "param = {\n",
    "    'max_depth': range (1, 10, 1),\n",
    "    'max_features': range (1, 10, 1)\n",
    "       }"
   ]
  },
  {
   "cell_type": "code",
   "execution_count": 80,
   "metadata": {},
   "outputs": [
    {
     "name": "stdout",
     "output_type": "stream",
     "text": [
      "1 24\n",
      "1 48\n",
      "1 72\n",
      "2 24\n",
      "2 48\n",
      "2 72\n",
      "3 24\n",
      "3 48\n",
      "3 72\n"
     ]
    }
   ],
   "source": [
    "results_dtr = timeline_find_parametrs_grid(\n",
    "    df = data_notest, \n",
    "    model_type=DecisionTreeRegressor, \n",
    "    param=param, \n",
    "    range_max_lag=range(1, 3+1, 1),\n",
    "    range_rolling_mean_size=range(24, 72+1, 24)\n",
    ")"
   ]
  },
  {
   "cell_type": "code",
   "execution_count": 81,
   "metadata": {},
   "outputs": [
    {
     "data": {
      "text/html": [
       "<div>\n",
       "<style scoped>\n",
       "    .dataframe tbody tr th:only-of-type {\n",
       "        vertical-align: middle;\n",
       "    }\n",
       "\n",
       "    .dataframe tbody tr th {\n",
       "        vertical-align: top;\n",
       "    }\n",
       "\n",
       "    .dataframe thead th {\n",
       "        text-align: right;\n",
       "    }\n",
       "</style>\n",
       "<table border=\"1\" class=\"dataframe\">\n",
       "  <thead>\n",
       "    <tr style=\"text-align: right;\">\n",
       "      <th></th>\n",
       "      <th>model</th>\n",
       "      <th>max_lag</th>\n",
       "      <th>rolling_mean_size</th>\n",
       "      <th>rmse</th>\n",
       "    </tr>\n",
       "  </thead>\n",
       "  <tbody>\n",
       "    <tr>\n",
       "      <th>5</th>\n",
       "      <td>DecisionTreeRegressor(max_depth=8, max_feature...</td>\n",
       "      <td>2</td>\n",
       "      <td>72</td>\n",
       "      <td>34.5527</td>\n",
       "    </tr>\n",
       "  </tbody>\n",
       "</table>\n",
       "</div>"
      ],
      "text/plain": [
       "                                               model max_lag  \\\n",
       "5  DecisionTreeRegressor(max_depth=8, max_feature...       2   \n",
       "\n",
       "  rolling_mean_size    rmse  \n",
       "5                72 34.5527  "
      ]
     },
     "execution_count": 81,
     "metadata": {},
     "output_type": "execute_result"
    }
   ],
   "source": [
    "results_dtr.query(f\"rmse=={results_dtr['rmse'].min()}\")"
   ]
  },
  {
   "cell_type": "code",
   "execution_count": 82,
   "metadata": {},
   "outputs": [
    {
     "data": {
      "text/plain": [
       "DecisionTreeRegressor(max_depth=8, max_features=5)"
      ]
     },
     "execution_count": 82,
     "metadata": {},
     "output_type": "execute_result"
    }
   ],
   "source": [
    "results_dtr.query(f\"rmse=={results_dtr['rmse'].min()}\")['model'].iloc[0]"
   ]
  },
  {
   "cell_type": "code",
   "execution_count": null,
   "metadata": {},
   "outputs": [],
   "source": []
  },
  {
   "cell_type": "markdown",
   "metadata": {},
   "source": [
    "### RandomForestRegressor"
   ]
  },
  {
   "cell_type": "code",
   "execution_count": 83,
   "metadata": {},
   "outputs": [],
   "source": [
    "param = {\n",
    "    'max_depth': range(1, 10, 2),\n",
    "    'n_estimators': range(10, 50, 10)\n",
    "}"
   ]
  },
  {
   "cell_type": "code",
   "execution_count": 84,
   "metadata": {},
   "outputs": [
    {
     "name": "stdout",
     "output_type": "stream",
     "text": [
      "1 24\n",
      "1 48\n",
      "1 72\n",
      "2 24\n",
      "2 48\n",
      "2 72\n",
      "3 24\n",
      "3 48\n",
      "3 72\n"
     ]
    }
   ],
   "source": [
    "results_rfr = timeline_find_parametrs_grid(\n",
    "    df = data_notest, \n",
    "    model_type=RandomForestRegressor, \n",
    "    param=param, \n",
    "    range_max_lag=range(1, 3+1, 1),\n",
    "    range_rolling_mean_size=range(24, 72+1, 24)\n",
    ")"
   ]
  },
  {
   "cell_type": "code",
   "execution_count": 85,
   "metadata": {},
   "outputs": [
    {
     "data": {
      "text/html": [
       "<div>\n",
       "<style scoped>\n",
       "    .dataframe tbody tr th:only-of-type {\n",
       "        vertical-align: middle;\n",
       "    }\n",
       "\n",
       "    .dataframe tbody tr th {\n",
       "        vertical-align: top;\n",
       "    }\n",
       "\n",
       "    .dataframe thead th {\n",
       "        text-align: right;\n",
       "    }\n",
       "</style>\n",
       "<table border=\"1\" class=\"dataframe\">\n",
       "  <thead>\n",
       "    <tr style=\"text-align: right;\">\n",
       "      <th></th>\n",
       "      <th>model</th>\n",
       "      <th>max_lag</th>\n",
       "      <th>rolling_mean_size</th>\n",
       "      <th>rmse</th>\n",
       "    </tr>\n",
       "  </thead>\n",
       "  <tbody>\n",
       "    <tr>\n",
       "      <th>8</th>\n",
       "      <td>(DecisionTreeRegressor(max_depth=9, max_featur...</td>\n",
       "      <td>3</td>\n",
       "      <td>72</td>\n",
       "      <td>32.6609</td>\n",
       "    </tr>\n",
       "  </tbody>\n",
       "</table>\n",
       "</div>"
      ],
      "text/plain": [
       "                                               model max_lag  \\\n",
       "8  (DecisionTreeRegressor(max_depth=9, max_featur...       3   \n",
       "\n",
       "  rolling_mean_size    rmse  \n",
       "8                72 32.6609  "
      ]
     },
     "execution_count": 85,
     "metadata": {},
     "output_type": "execute_result"
    }
   ],
   "source": [
    "results_rfr.query(f\"rmse=={results_rfr['rmse'].min()}\")"
   ]
  },
  {
   "cell_type": "code",
   "execution_count": 86,
   "metadata": {},
   "outputs": [
    {
     "data": {
      "text/plain": [
       "RandomForestRegressor(max_depth=9, n_estimators=40)"
      ]
     },
     "execution_count": 86,
     "metadata": {},
     "output_type": "execute_result"
    }
   ],
   "source": [
    "results_rfr.query(f\"rmse=={results_rfr['rmse'].min()}\")['model'].iloc[0]"
   ]
  },
  {
   "cell_type": "code",
   "execution_count": null,
   "metadata": {},
   "outputs": [],
   "source": []
  },
  {
   "cell_type": "markdown",
   "metadata": {},
   "source": [
    "### LGBMRegressor"
   ]
  },
  {
   "cell_type": "code",
   "execution_count": 87,
   "metadata": {},
   "outputs": [],
   "source": [
    "param = {\n",
    "    'objective': ['regression'], \n",
    "    'learning_rate': [0.1],\n",
    "    'num_leaves': range(10, 50, 20),\n",
    "    'max_depth': [2, 4, 6],\n",
    "    'subsample': [0.8], \n",
    "    'colsample_bytree': [0.8]\n",
    "    }"
   ]
  },
  {
   "cell_type": "code",
   "execution_count": 88,
   "metadata": {},
   "outputs": [
    {
     "name": "stdout",
     "output_type": "stream",
     "text": [
      "1 24\n",
      "1 48\n",
      "1 72\n",
      "2 24\n",
      "2 48\n",
      "2 72\n",
      "3 24\n",
      "3 48\n",
      "3 72\n"
     ]
    }
   ],
   "source": [
    "results_lgbm = timeline_find_parametrs_grid(\n",
    "    df = data_notest, \n",
    "    model_type=LGBMRegressor, \n",
    "    param=param, \n",
    "    range_max_lag=range(1, 3+1, 1),\n",
    "    range_rolling_mean_size=range(24, 72+1, 24)\n",
    ")"
   ]
  },
  {
   "cell_type": "code",
   "execution_count": 89,
   "metadata": {},
   "outputs": [
    {
     "data": {
      "text/html": [
       "<div>\n",
       "<style scoped>\n",
       "    .dataframe tbody tr th:only-of-type {\n",
       "        vertical-align: middle;\n",
       "    }\n",
       "\n",
       "    .dataframe tbody tr th {\n",
       "        vertical-align: top;\n",
       "    }\n",
       "\n",
       "    .dataframe thead th {\n",
       "        text-align: right;\n",
       "    }\n",
       "</style>\n",
       "<table border=\"1\" class=\"dataframe\">\n",
       "  <thead>\n",
       "    <tr style=\"text-align: right;\">\n",
       "      <th></th>\n",
       "      <th>model</th>\n",
       "      <th>max_lag</th>\n",
       "      <th>rolling_mean_size</th>\n",
       "      <th>rmse</th>\n",
       "    </tr>\n",
       "  </thead>\n",
       "  <tbody>\n",
       "    <tr>\n",
       "      <th>5</th>\n",
       "      <td>LGBMRegressor(colsample_bytree=0.8, max_depth=...</td>\n",
       "      <td>2</td>\n",
       "      <td>72</td>\n",
       "      <td>32.0850</td>\n",
       "    </tr>\n",
       "  </tbody>\n",
       "</table>\n",
       "</div>"
      ],
      "text/plain": [
       "                                               model max_lag  \\\n",
       "5  LGBMRegressor(colsample_bytree=0.8, max_depth=...       2   \n",
       "\n",
       "  rolling_mean_size    rmse  \n",
       "5                72 32.0850  "
      ]
     },
     "execution_count": 89,
     "metadata": {},
     "output_type": "execute_result"
    }
   ],
   "source": [
    "results_lgbm.query(f\"rmse=={results_lgbm['rmse'].min()}\")"
   ]
  },
  {
   "cell_type": "code",
   "execution_count": 90,
   "metadata": {},
   "outputs": [
    {
     "data": {
      "text/plain": [
       "LGBMRegressor(colsample_bytree=0.8, max_depth=4, num_leaves=30,\n",
       "              objective='regression', subsample=0.8)"
      ]
     },
     "execution_count": 90,
     "metadata": {},
     "output_type": "execute_result"
    }
   ],
   "source": [
    "results_lgbm.query(f\"rmse=={results_lgbm['rmse'].min()}\")['model'].iloc[0]"
   ]
  },
  {
   "cell_type": "code",
   "execution_count": null,
   "metadata": {},
   "outputs": [],
   "source": []
  },
  {
   "cell_type": "markdown",
   "metadata": {},
   "source": [
    "### Вывод"
   ]
  },
  {
   "cell_type": "markdown",
   "metadata": {},
   "source": [
    "<div style=\"border:solid green 2.0px; padding: 10px\"> \n",
    "\n",
    "**На валидационной выборке** лучшее качестов по мерке RMSE:\n",
    "\n",
    " - Лучше всего себя показала модель LGBMRegressor\n",
    " - С небольшим оставанием идет модель RandomForestRegressor\n",
    " - На третьем месте DecisionTreeRegressor\n",
    " - Линейные модели показали себя хуже всего    \n",
    "    \n",
    "\n",
    "<span style=\"color: white\">. </span>   \n",
    "    \n",
    "Выделим **две модели** с точки зрения качества и проверим на тестовой выборке.\n",
    "Это:\n",
    "    \n",
    " - **LGBMRegressor** \n",
    "   - Гиперпараметры:\n",
    "     - colsample_bytree = 0.8\n",
    "     - learning_rate = 0.1\n",
    "     - max_depth = 4\n",
    "     - num_leaves = 30\n",
    "     - objective = 'regression'\n",
    "     - subsample = 0.8\n",
    "   - Параметры признаков:\n",
    "     - max_lag = 2\n",
    "     - rolling_mean_size = 72\n",
    "\n",
    "    \n",
    " - **RandomForestRegressor** \n",
    "   - Гиперпараметры:\n",
    "     - max_depth = 9\n",
    "     - n_estimators = 40\n",
    "   - Параметры признаков:\n",
    "     - max_lag = 3\n",
    "     - rolling_mean_size = 72\n",
    "\n",
    "<div>"
   ]
  },
  {
   "cell_type": "code",
   "execution_count": null,
   "metadata": {},
   "outputs": [],
   "source": []
  },
  {
   "cell_type": "code",
   "execution_count": null,
   "metadata": {},
   "outputs": [],
   "source": []
  },
  {
   "cell_type": "markdown",
   "metadata": {},
   "source": [
    "## Тестирование"
   ]
  },
  {
   "cell_type": "markdown",
   "metadata": {},
   "source": [
    "<div style=\"border:solid green 2.0px; padding: 10px\"> \n",
    "\n",
    "Протестируем модели для выбора лучшей, для этого \n",
    " - обучим модели с лучшими параметрами на тренировочной + валидационной выборке\n",
    " - предскажем значения тестовой выборки\n",
    " - посчитаем rmse\n",
    "\n",
    "\n",
    "Мы знаем, что тестовая выборка представляет из себя последние 10% по дате от всей выборки. \n",
    "Поэтому, воспользуясь функцией make_features_and_split с test_size=0.1 мы получим все ту же тестовую выборку\n",
    "<div>"
   ]
  },
  {
   "cell_type": "code",
   "execution_count": null,
   "metadata": {},
   "outputs": [],
   "source": []
  },
  {
   "cell_type": "markdown",
   "metadata": {},
   "source": [
    "### LGBMRegressor"
   ]
  },
  {
   "cell_type": "code",
   "execution_count": 92,
   "metadata": {},
   "outputs": [
    {
     "data": {
      "text/plain": [
       "43.82673992836315"
      ]
     },
     "execution_count": 92,
     "metadata": {},
     "output_type": "execute_result"
    }
   ],
   "source": [
    "model = LGBMRegressor(\n",
    "    colsample_bytree = 0.8,\n",
    "    learning_rate = 0.1,\n",
    "    max_depth = 4,\n",
    "    num_leaves = 30,\n",
    "    objective = 'regression',\n",
    "    subsample = 0.8\n",
    ")\n",
    "\n",
    "features_train, target_train, features_test, target_test = make_features_and_split(data, 2, 72, test_size=0.1)\n",
    "\n",
    "model.fit(features_train, target_train)\n",
    "predict_test = model.predict(features_test)\n",
    "rmse_model = mean_squared_error(target_test, predict_test)**0.5\n",
    "rmse_model"
   ]
  },
  {
   "cell_type": "code",
   "execution_count": null,
   "metadata": {},
   "outputs": [],
   "source": []
  },
  {
   "cell_type": "markdown",
   "metadata": {},
   "source": [
    "### RandomForestRegressor"
   ]
  },
  {
   "cell_type": "code",
   "execution_count": 94,
   "metadata": {},
   "outputs": [
    {
     "data": {
      "text/plain": [
       "48.68365949778723"
      ]
     },
     "execution_count": 94,
     "metadata": {},
     "output_type": "execute_result"
    }
   ],
   "source": [
    "model = RandomForestRegressor(\n",
    "    max_depth = 9,\n",
    "    n_estimators = 40\n",
    ")\n",
    "\n",
    "features_train, target_train, features_test, target_test = make_features_and_split(data, 3, 72, test_size=0.1)\n",
    "\n",
    "model.fit(features_train, target_train)\n",
    "predict_test = model.predict(features_test)\n",
    "rmse_model = mean_squared_error(target_test, predict_test)**0.5\n",
    "rmse_model"
   ]
  },
  {
   "cell_type": "code",
   "execution_count": null,
   "metadata": {},
   "outputs": [],
   "source": []
  },
  {
   "cell_type": "code",
   "execution_count": null,
   "metadata": {},
   "outputs": [],
   "source": []
  },
  {
   "cell_type": "markdown",
   "metadata": {},
   "source": [
    "### Факт / предсказание"
   ]
  },
  {
   "cell_type": "code",
   "execution_count": 125,
   "metadata": {},
   "outputs": [],
   "source": [
    "model = LGBMRegressor(\n",
    "    colsample_bytree = 0.8,\n",
    "    learning_rate = 0.1,\n",
    "    max_depth = 4,\n",
    "    num_leaves = 30,\n",
    "    objective = 'regression',\n",
    "    subsample = 0.8\n",
    ")\n",
    "\n",
    "features_train, target_train, features_test, target_test = make_features_and_split(data, 2, 72, test_size=0.1)\n",
    "\n",
    "model.fit(features_train, target_train)\n",
    "predict_test = model.predict(features_test)"
   ]
  },
  {
   "cell_type": "code",
   "execution_count": 126,
   "metadata": {
    "scrolled": false
   },
   "outputs": [
    {
     "data": {
      "image/png": "[encoded data removed]",
      "text/plain": [
       "<Figure size 1152x576 with 1 Axes>"
      ]
     },
     "metadata": {},
     "output_type": "display_data"
    }
   ],
   "source": [
    "plt.subplots(figsize = (16,8))\n",
    "predict = pd.Series(predict_test, index=target_test.index)\n",
    "\n",
    "sns.lineplot(x=target_test.index, y=target_test.values, label='Реальные', color = 'g', linewidth = 2)\n",
    "sns.lineplot(x=predict.index, y=predict.values, label='Предсказанные', color = 'r', linewidth = 2)\n",
    "plt.xlabel('Дата', fontsize = 14)\n",
    "plt.ylabel('Количество', fontsize = 14)\n",
    "plt.title('Сравнение предсказанных и реальных значений', fontsize = 15);\n",
    "plt.xlim(datetime(2018, 8, 19), datetime(2018, 8, 21))\n",
    "plt.xticks(rotation=45);"
   ]
  },
  {
   "cell_type": "code",
   "execution_count": null,
   "metadata": {},
   "outputs": [],
   "source": []
  },
  {
   "cell_type": "markdown",
   "metadata": {},
   "source": [
    "### Предсказание заказов на следующий час"
   ]
  },
  {
   "cell_type": "markdown",
   "metadata": {},
   "source": [
    "<div style=\"border:solid green 2.0px; padding: 10px\"> \n",
    "На тестовой выборке лучше всего себя показала модель LGBMRegressor.\n",
    "На ней предскажем количество заказов такси на следующий час\n",
    "    \n",
    "Для этого:\n",
    " - добавим в выборку одно наблюдение, соответствующее следующему часу\n",
    " - обучим модель на всей выборке (т.к. в данных используются данные часов, идущих непосредственно перед предсказанным значением), кроме одного нового наблюдения\n",
    "<div>"
   ]
  },
  {
   "cell_type": "code",
   "execution_count": 127,
   "metadata": {},
   "outputs": [
    {
     "data": {
      "text/plain": [
       "array([228.84265801])"
      ]
     },
     "execution_count": 127,
     "metadata": {},
     "output_type": "execute_result"
    }
   ],
   "source": [
    "model = LGBMRegressor(\n",
    "    colsample_bytree = 0.8,\n",
    "    learning_rate = 0.1,\n",
    "    max_depth = 4,\n",
    "    num_leaves = 30,\n",
    "    objective = 'regression',\n",
    "    subsample = 0.8\n",
    ")\n",
    "\n",
    "next_hour = data.index.max() + pd.to_timedelta(pd.Timedelta(hours=1))\n",
    "\n",
    "features_train, target_train, features_test, target_test = make_features_and_split(\n",
    "    data.append(pd.DataFrame(pd.Series(0, index =[next_hour]), columns=['num_orders'])), \n",
    "    max_lag = 2, \n",
    "    rolling_mean_size = 72, \n",
    "    test_size=1/(data.shape[0]+1))\n",
    "\n",
    "model.fit(features_train, target_train)\n",
    "\n",
    "\n",
    "predict_test = model.predict(features_test)\n",
    "predict_test\n"
   ]
  },
  {
   "cell_type": "code",
   "execution_count": null,
   "metadata": {},
   "outputs": [],
   "source": []
  },
  {
   "cell_type": "code",
   "execution_count": 128,
   "metadata": {},
   "outputs": [
    {
     "data": {
      "text/html": [
       "<div>\n",
       "<style scoped>\n",
       "    .dataframe tbody tr th:only-of-type {\n",
       "        vertical-align: middle;\n",
       "    }\n",
       "\n",
       "    .dataframe tbody tr th {\n",
       "        vertical-align: top;\n",
       "    }\n",
       "\n",
       "    .dataframe thead th {\n",
       "        text-align: right;\n",
       "    }\n",
       "</style>\n",
       "<table border=\"1\" class=\"dataframe\">\n",
       "  <thead>\n",
       "    <tr style=\"text-align: right;\">\n",
       "      <th></th>\n",
       "      <th>num_orders</th>\n",
       "    </tr>\n",
       "    <tr>\n",
       "      <th>datetime</th>\n",
       "      <th></th>\n",
       "    </tr>\n",
       "  </thead>\n",
       "  <tbody>\n",
       "    <tr>\n",
       "      <th>2018-08-31 14:00:00</th>\n",
       "      <td>133</td>\n",
       "    </tr>\n",
       "    <tr>\n",
       "      <th>2018-08-31 15:00:00</th>\n",
       "      <td>116</td>\n",
       "    </tr>\n",
       "    <tr>\n",
       "      <th>2018-08-31 16:00:00</th>\n",
       "      <td>197</td>\n",
       "    </tr>\n",
       "    <tr>\n",
       "      <th>2018-08-31 17:00:00</th>\n",
       "      <td>217</td>\n",
       "    </tr>\n",
       "    <tr>\n",
       "      <th>2018-08-31 18:00:00</th>\n",
       "      <td>207</td>\n",
       "    </tr>\n",
       "    <tr>\n",
       "      <th>2018-08-31 19:00:00</th>\n",
       "      <td>136</td>\n",
       "    </tr>\n",
       "    <tr>\n",
       "      <th>2018-08-31 20:00:00</th>\n",
       "      <td>154</td>\n",
       "    </tr>\n",
       "    <tr>\n",
       "      <th>2018-08-31 21:00:00</th>\n",
       "      <td>159</td>\n",
       "    </tr>\n",
       "    <tr>\n",
       "      <th>2018-08-31 22:00:00</th>\n",
       "      <td>223</td>\n",
       "    </tr>\n",
       "    <tr>\n",
       "      <th>2018-08-31 23:00:00</th>\n",
       "      <td>205</td>\n",
       "    </tr>\n",
       "  </tbody>\n",
       "</table>\n",
       "</div>"
      ],
      "text/plain": [
       "                     num_orders\n",
       "datetime                       \n",
       "2018-08-31 14:00:00         133\n",
       "2018-08-31 15:00:00         116\n",
       "2018-08-31 16:00:00         197\n",
       "2018-08-31 17:00:00         217\n",
       "2018-08-31 18:00:00         207\n",
       "2018-08-31 19:00:00         136\n",
       "2018-08-31 20:00:00         154\n",
       "2018-08-31 21:00:00         159\n",
       "2018-08-31 22:00:00         223\n",
       "2018-08-31 23:00:00         205"
      ]
     },
     "execution_count": 128,
     "metadata": {},
     "output_type": "execute_result"
    }
   ],
   "source": [
    "data.tail(10)"
   ]
  },
  {
   "cell_type": "code",
   "execution_count": null,
   "metadata": {},
   "outputs": [],
   "source": []
  },
  {
   "cell_type": "markdown",
   "metadata": {},
   "source": [
    "## Вывод"
   ]
  },
  {
   "cell_type": "markdown",
   "metadata": {},
   "source": [
    "<div style=\"border:solid green 2.0px; padding: 10px\"> \n",
    "\n",
    "В процессе проекта мы выяснили, для нашей задачи регрессии лучше всего подходит **LGBMRegressor**.\n",
    "\n",
    "Модель удовлетворительно справляется с предсказанием колебпнии заказов от часа к часу, однако сглаживает сильные всплески и падения.\n",
    "    \n",
    "С ее помощью мы **предсказали значение заказов на следующий час: 229**\n",
    "<div>"
   ]
  }
 ],
 "metadata": {
  "ExecuteTimeLog": [
   {
    "duration": 379,
    "start_time": "2022-04-25T08:07:55.270Z"
   },
   {
    "duration": 39,
    "start_time": "2022-04-25T08:07:57.034Z"
   },
   {
    "duration": 14,
    "start_time": "2022-04-25T08:10:10.293Z"
   },
   {
    "duration": 12,
    "start_time": "2022-04-25T08:10:13.558Z"
   },
   {
    "duration": 13,
    "start_time": "2022-04-25T08:10:23.448Z"
   },
   {
    "duration": 564,
    "start_time": "2022-04-25T08:10:58.341Z"
   },
   {
    "duration": 4,
    "start_time": "2022-04-25T08:26:51.034Z"
   },
   {
    "duration": 4,
    "start_time": "2022-04-25T08:26:58.028Z"
   },
   {
    "duration": 200,
    "start_time": "2022-04-25T08:32:53.665Z"
   },
   {
    "duration": 30,
    "start_time": "2022-04-25T08:35:40.349Z"
   },
   {
    "duration": 10,
    "start_time": "2022-04-25T08:36:09.687Z"
   },
   {
    "duration": 9,
    "start_time": "2022-04-25T08:39:25.647Z"
   },
   {
    "duration": 265,
    "start_time": "2022-04-25T08:40:29.504Z"
   },
   {
    "duration": 76,
    "start_time": "2022-04-25T08:44:42.537Z"
   },
   {
    "duration": 10,
    "start_time": "2022-04-25T08:45:09.966Z"
   },
   {
    "duration": 10,
    "start_time": "2022-04-25T08:47:05.547Z"
   },
   {
    "duration": 2406,
    "start_time": "2022-04-25T08:47:45.126Z"
   },
   {
    "duration": 32,
    "start_time": "2022-04-25T08:49:48.249Z"
   },
   {
    "duration": 8,
    "start_time": "2022-04-25T08:49:48.704Z"
   },
   {
    "duration": 13,
    "start_time": "2022-04-25T08:49:49.086Z"
   },
   {
    "duration": 30,
    "start_time": "2022-04-25T08:49:49.407Z"
   },
   {
    "duration": 23,
    "start_time": "2022-04-25T08:49:49.836Z"
   },
   {
    "duration": 8,
    "start_time": "2022-04-25T08:49:51.698Z"
   },
   {
    "duration": 6,
    "start_time": "2022-04-25T08:50:06.986Z"
   },
   {
    "duration": 13,
    "start_time": "2022-04-25T08:53:31.167Z"
   },
   {
    "duration": 6,
    "start_time": "2022-04-25T08:53:40.568Z"
   },
   {
    "duration": 369,
    "start_time": "2022-04-25T08:53:44.274Z"
   },
   {
    "duration": 293,
    "start_time": "2022-04-25T08:56:00.107Z"
   },
   {
    "duration": 397,
    "start_time": "2022-04-25T08:58:02.852Z"
   },
   {
    "duration": 276,
    "start_time": "2022-04-25T08:58:58.267Z"
   },
   {
    "duration": 198,
    "start_time": "2022-04-25T08:59:10.015Z"
   },
   {
    "duration": 309,
    "start_time": "2022-04-25T08:59:22.653Z"
   },
   {
    "duration": 191,
    "start_time": "2022-04-25T08:59:31.628Z"
   },
   {
    "duration": 254,
    "start_time": "2022-04-25T09:01:06.755Z"
   },
   {
    "duration": 640,
    "start_time": "2022-04-25T09:02:41.726Z"
   },
   {
    "duration": 49,
    "start_time": "2022-04-25T09:03:57.506Z"
   },
   {
    "duration": 3,
    "start_time": "2022-04-25T09:04:08.707Z"
   },
   {
    "duration": 700,
    "start_time": "2022-04-25T09:04:13.068Z"
   },
   {
    "duration": 604,
    "start_time": "2022-04-25T09:04:49.486Z"
   },
   {
    "duration": 669,
    "start_time": "2022-04-25T09:06:05.448Z"
   },
   {
    "duration": 713,
    "start_time": "2022-04-25T09:06:45.040Z"
   },
   {
    "duration": 880,
    "start_time": "2022-04-25T09:08:43.907Z"
   },
   {
    "duration": 762,
    "start_time": "2022-04-25T09:09:13.647Z"
   },
   {
    "duration": 672,
    "start_time": "2022-04-25T09:11:43.575Z"
   },
   {
    "duration": 1615,
    "start_time": "2022-04-25T09:12:23.967Z"
   },
   {
    "duration": 710,
    "start_time": "2022-04-25T09:16:41.827Z"
   },
   {
    "duration": 2,
    "start_time": "2022-04-25T09:20:08.288Z"
   },
   {
    "duration": 260,
    "start_time": "2022-04-25T09:22:13.147Z"
   },
   {
    "duration": 439,
    "start_time": "2022-04-25T09:22:45.556Z"
   },
   {
    "duration": 310,
    "start_time": "2022-04-25T09:23:34.729Z"
   },
   {
    "duration": 26,
    "start_time": "2022-04-25T09:26:52.569Z"
   },
   {
    "duration": 26,
    "start_time": "2022-04-25T09:27:07.156Z"
   },
   {
    "duration": 7,
    "start_time": "2022-04-25T09:27:07.467Z"
   },
   {
    "duration": 20,
    "start_time": "2022-04-25T09:27:07.745Z"
   },
   {
    "duration": 27,
    "start_time": "2022-04-25T09:27:07.947Z"
   },
   {
    "duration": 18,
    "start_time": "2022-04-25T09:27:08.148Z"
   },
   {
    "duration": 9,
    "start_time": "2022-04-25T09:27:09.515Z"
   },
   {
    "duration": 6,
    "start_time": "2022-04-25T09:27:09.987Z"
   },
   {
    "duration": 6,
    "start_time": "2022-04-25T09:27:10.667Z"
   },
   {
    "duration": 697,
    "start_time": "2022-04-25T09:27:13.248Z"
   },
   {
    "duration": 9,
    "start_time": "2022-04-25T09:36:33.439Z"
   },
   {
    "duration": 7,
    "start_time": "2022-04-25T09:36:42.130Z"
   },
   {
    "duration": 6,
    "start_time": "2022-04-25T09:36:50.767Z"
   },
   {
    "duration": 63,
    "start_time": "2022-04-25T09:41:33.698Z"
   },
   {
    "duration": 414,
    "start_time": "2022-04-25T09:43:34.115Z"
   },
   {
    "duration": 563,
    "start_time": "2022-04-25T09:44:51.247Z"
   },
   {
    "duration": 702,
    "start_time": "2022-04-25T09:45:00.787Z"
   },
   {
    "duration": 624,
    "start_time": "2022-04-25T09:45:54.967Z"
   },
   {
    "duration": 622,
    "start_time": "2022-04-25T09:46:44.868Z"
   },
   {
    "duration": 617,
    "start_time": "2022-04-25T09:48:34.637Z"
   },
   {
    "duration": 641,
    "start_time": "2022-04-25T09:49:10.337Z"
   },
   {
    "duration": 1193,
    "start_time": "2022-04-25T09:52:23.008Z"
   },
   {
    "duration": 1135,
    "start_time": "2022-04-25T09:53:09.641Z"
   },
   {
    "duration": 1018,
    "start_time": "2022-04-25T09:53:19.030Z"
   },
   {
    "duration": 3,
    "start_time": "2022-04-25T09:57:31.962Z"
   },
   {
    "duration": 2452,
    "start_time": "2022-04-25T09:57:33.127Z"
   },
   {
    "duration": 3,
    "start_time": "2022-04-25T09:59:20.467Z"
   },
   {
    "duration": 9,
    "start_time": "2022-04-25T09:59:21.603Z"
   },
   {
    "duration": 2,
    "start_time": "2022-04-25T09:59:33.667Z"
   },
   {
    "duration": 6,
    "start_time": "2022-04-25T09:59:33.886Z"
   },
   {
    "duration": 5,
    "start_time": "2022-04-25T10:03:06.967Z"
   },
   {
    "duration": 6,
    "start_time": "2022-04-25T10:03:19.137Z"
   },
   {
    "duration": 984,
    "start_time": "2022-04-25T10:03:19.527Z"
   },
   {
    "duration": 12,
    "start_time": "2022-04-25T10:05:01.237Z"
   },
   {
    "duration": 6,
    "start_time": "2022-04-25T10:05:46.947Z"
   },
   {
    "duration": 994,
    "start_time": "2022-04-25T10:05:47.389Z"
   },
   {
    "duration": 10,
    "start_time": "2022-04-25T10:06:45.028Z"
   },
   {
    "duration": 1136,
    "start_time": "2022-04-25T10:06:45.482Z"
   },
   {
    "duration": 8,
    "start_time": "2022-04-25T10:07:02.227Z"
   },
   {
    "duration": 12,
    "start_time": "2022-04-25T10:07:15.407Z"
   },
   {
    "duration": 6,
    "start_time": "2022-04-25T10:07:28.227Z"
   },
   {
    "duration": 5,
    "start_time": "2022-04-25T10:07:45.948Z"
   },
   {
    "duration": 23,
    "start_time": "2022-04-25T10:07:46.795Z"
   },
   {
    "duration": 13,
    "start_time": "2022-04-25T10:08:20.567Z"
   },
   {
    "duration": 14,
    "start_time": "2022-04-25T10:08:24.847Z"
   },
   {
    "duration": 19,
    "start_time": "2022-04-25T10:09:06.151Z"
   },
   {
    "duration": 2316,
    "start_time": "2022-04-25T10:09:26.772Z"
   },
   {
    "duration": 151,
    "start_time": "2022-04-25T10:36:47.555Z"
   },
   {
    "duration": 9,
    "start_time": "2022-04-25T10:36:56.874Z"
   },
   {
    "duration": 6,
    "start_time": "2022-04-25T11:05:59.665Z"
   },
   {
    "duration": 176,
    "start_time": "2022-04-25T11:08:36.996Z"
   },
   {
    "duration": 7,
    "start_time": "2022-04-25T11:08:41.483Z"
   },
   {
    "duration": 6,
    "start_time": "2022-04-25T11:10:59.977Z"
   },
   {
    "duration": 618,
    "start_time": "2022-04-25T11:11:01.740Z"
   },
   {
    "duration": 6,
    "start_time": "2022-04-25T11:11:30.149Z"
   },
   {
    "duration": 983,
    "start_time": "2022-04-25T11:11:30.577Z"
   },
   {
    "duration": 7,
    "start_time": "2022-04-25T11:12:03.239Z"
   },
   {
    "duration": 939,
    "start_time": "2022-04-25T11:12:04.329Z"
   },
   {
    "duration": 914,
    "start_time": "2022-04-25T11:12:13.337Z"
   },
   {
    "duration": 6,
    "start_time": "2022-04-25T11:12:26.873Z"
   },
   {
    "duration": 936,
    "start_time": "2022-04-25T11:12:27.257Z"
   },
   {
    "duration": 9,
    "start_time": "2022-04-25T11:12:47.593Z"
   },
   {
    "duration": 1510,
    "start_time": "2022-04-25T11:12:47.962Z"
   },
   {
    "duration": 8,
    "start_time": "2022-04-25T11:16:19.125Z"
   },
   {
    "duration": 1662,
    "start_time": "2022-04-25T11:16:19.347Z"
   },
   {
    "duration": 7,
    "start_time": "2022-04-25T11:16:50.837Z"
   },
   {
    "duration": 1463,
    "start_time": "2022-04-25T11:16:51.416Z"
   },
   {
    "duration": 7,
    "start_time": "2022-04-25T11:17:06.615Z"
   },
   {
    "duration": 943,
    "start_time": "2022-04-25T11:17:09.136Z"
   },
   {
    "duration": 11,
    "start_time": "2022-04-25T11:17:15.438Z"
   },
   {
    "duration": 1169,
    "start_time": "2022-04-25T11:17:16.940Z"
   },
   {
    "duration": 13,
    "start_time": "2022-04-25T11:17:58.724Z"
   },
   {
    "duration": 954,
    "start_time": "2022-04-25T11:17:59.037Z"
   },
   {
    "duration": 7,
    "start_time": "2022-04-25T11:21:49.185Z"
   },
   {
    "duration": 936,
    "start_time": "2022-04-25T11:21:49.556Z"
   },
   {
    "duration": 8,
    "start_time": "2022-04-25T11:22:17.518Z"
   },
   {
    "duration": 1026,
    "start_time": "2022-04-25T11:22:17.817Z"
   },
   {
    "duration": 7,
    "start_time": "2022-04-25T11:23:33.177Z"
   },
   {
    "duration": 974,
    "start_time": "2022-04-25T11:23:33.410Z"
   },
   {
    "duration": 1398,
    "start_time": "2022-04-25T12:13:37.164Z"
   },
   {
    "duration": 11,
    "start_time": "2022-04-25T12:14:55.608Z"
   },
   {
    "duration": 392,
    "start_time": "2022-04-25T12:15:34.668Z"
   },
   {
    "duration": 8,
    "start_time": "2022-04-25T12:15:44.772Z"
   },
   {
    "duration": 8,
    "start_time": "2022-04-25T12:17:22.112Z"
   },
   {
    "duration": 7,
    "start_time": "2022-04-25T12:30:37.212Z"
   },
   {
    "duration": 18,
    "start_time": "2022-04-25T12:34:17.042Z"
   },
   {
    "duration": 5,
    "start_time": "2022-04-25T12:34:19.763Z"
   },
   {
    "duration": 2389,
    "start_time": "2022-04-25T12:34:20.124Z"
   },
   {
    "duration": 13,
    "start_time": "2022-04-25T12:34:40.423Z"
   },
   {
    "duration": 24,
    "start_time": "2022-04-25T12:35:26.445Z"
   },
   {
    "duration": 7,
    "start_time": "2022-04-25T12:35:26.705Z"
   },
   {
    "duration": 19,
    "start_time": "2022-04-25T12:35:26.884Z"
   },
   {
    "duration": 43,
    "start_time": "2022-04-25T12:35:27.063Z"
   },
   {
    "duration": 29,
    "start_time": "2022-04-25T12:35:27.343Z"
   },
   {
    "duration": 8,
    "start_time": "2022-04-25T12:35:28.441Z"
   },
   {
    "duration": 6,
    "start_time": "2022-04-25T12:35:28.631Z"
   },
   {
    "duration": 7,
    "start_time": "2022-04-25T12:35:28.863Z"
   },
   {
    "duration": 6,
    "start_time": "2022-04-25T12:35:29.443Z"
   },
   {
    "duration": 8,
    "start_time": "2022-04-25T12:35:29.664Z"
   },
   {
    "duration": 7,
    "start_time": "2022-04-25T12:35:29.942Z"
   },
   {
    "duration": 6,
    "start_time": "2022-04-25T12:35:45.466Z"
   },
   {
    "duration": 1094,
    "start_time": "2022-04-25T12:35:45.783Z"
   },
   {
    "duration": 9,
    "start_time": "2022-04-25T12:35:52.823Z"
   },
   {
    "duration": 7,
    "start_time": "2022-04-25T12:35:55.103Z"
   },
   {
    "duration": 4,
    "start_time": "2022-04-25T12:36:24.784Z"
   },
   {
    "duration": 12,
    "start_time": "2022-04-25T12:36:25.344Z"
   },
   {
    "duration": 8,
    "start_time": "2022-04-25T12:37:09.683Z"
   },
   {
    "duration": 4,
    "start_time": "2022-04-25T12:37:13.883Z"
   },
   {
    "duration": 24,
    "start_time": "2022-04-25T12:37:14.143Z"
   },
   {
    "duration": 24,
    "start_time": "2022-04-25T12:37:21.683Z"
   },
   {
    "duration": 28,
    "start_time": "2022-04-25T12:37:26.122Z"
   },
   {
    "duration": 7,
    "start_time": "2022-04-25T12:37:26.301Z"
   },
   {
    "duration": 13,
    "start_time": "2022-04-25T12:37:26.539Z"
   },
   {
    "duration": 34,
    "start_time": "2022-04-25T12:37:26.709Z"
   },
   {
    "duration": 20,
    "start_time": "2022-04-25T12:37:26.896Z"
   },
   {
    "duration": 7,
    "start_time": "2022-04-25T12:37:28.063Z"
   },
   {
    "duration": 6,
    "start_time": "2022-04-25T12:37:28.208Z"
   },
   {
    "duration": 7,
    "start_time": "2022-04-25T12:37:28.404Z"
   },
   {
    "duration": 7,
    "start_time": "2022-04-25T12:37:29.204Z"
   },
   {
    "duration": 1091,
    "start_time": "2022-04-25T12:37:29.563Z"
   },
   {
    "duration": 8,
    "start_time": "2022-04-25T12:37:32.084Z"
   },
   {
    "duration": 14,
    "start_time": "2022-04-25T12:37:33.123Z"
   },
   {
    "duration": 4,
    "start_time": "2022-04-25T12:37:33.704Z"
   },
   {
    "duration": 25,
    "start_time": "2022-04-25T12:37:35.364Z"
   },
   {
    "duration": 21,
    "start_time": "2022-04-25T12:37:40.263Z"
   },
   {
    "duration": 11,
    "start_time": "2022-04-25T12:39:05.945Z"
   },
   {
    "duration": 45,
    "start_time": "2022-04-25T12:41:37.523Z"
   },
   {
    "duration": 11,
    "start_time": "2022-04-25T12:41:37.705Z"
   },
   {
    "duration": 12,
    "start_time": "2022-04-25T12:41:37.868Z"
   },
   {
    "duration": 26,
    "start_time": "2022-04-25T12:41:38.063Z"
   },
   {
    "duration": 18,
    "start_time": "2022-04-25T12:41:38.263Z"
   },
   {
    "duration": 7,
    "start_time": "2022-04-25T12:41:39.171Z"
   },
   {
    "duration": 5,
    "start_time": "2022-04-25T12:41:39.352Z"
   },
   {
    "duration": 9,
    "start_time": "2022-04-25T12:41:39.524Z"
   },
   {
    "duration": 9,
    "start_time": "2022-04-25T12:41:39.917Z"
   },
   {
    "duration": 1217,
    "start_time": "2022-04-25T12:41:40.085Z"
   },
   {
    "duration": 9,
    "start_time": "2022-04-25T12:41:41.304Z"
   },
   {
    "duration": 10,
    "start_time": "2022-04-25T12:41:41.324Z"
   },
   {
    "duration": 4,
    "start_time": "2022-04-25T12:41:41.845Z"
   },
   {
    "duration": 35,
    "start_time": "2022-04-25T12:41:42.884Z"
   },
   {
    "duration": 33,
    "start_time": "2022-04-25T12:41:51.544Z"
   },
   {
    "duration": 28,
    "start_time": "2022-04-25T12:42:19.163Z"
   },
   {
    "duration": 8,
    "start_time": "2022-04-25T12:42:19.376Z"
   },
   {
    "duration": 12,
    "start_time": "2022-04-25T12:42:19.582Z"
   },
   {
    "duration": 26,
    "start_time": "2022-04-25T12:42:19.758Z"
   },
   {
    "duration": 17,
    "start_time": "2022-04-25T12:42:19.944Z"
   },
   {
    "duration": 8,
    "start_time": "2022-04-25T12:42:20.950Z"
   },
   {
    "duration": 6,
    "start_time": "2022-04-25T12:42:21.093Z"
   },
   {
    "duration": 10,
    "start_time": "2022-04-25T12:42:21.303Z"
   },
   {
    "duration": 11,
    "start_time": "2022-04-25T12:42:21.703Z"
   },
   {
    "duration": 1148,
    "start_time": "2022-04-25T12:42:21.860Z"
   },
   {
    "duration": 18,
    "start_time": "2022-04-25T12:42:23.010Z"
   },
   {
    "duration": 16,
    "start_time": "2022-04-25T12:42:23.029Z"
   },
   {
    "duration": 4,
    "start_time": "2022-04-25T12:42:24.003Z"
   },
   {
    "duration": 20,
    "start_time": "2022-04-25T12:42:24.504Z"
   },
   {
    "duration": 40,
    "start_time": "2022-04-25T12:42:33.784Z"
   },
   {
    "duration": 34,
    "start_time": "2022-04-25T12:42:38.884Z"
   },
   {
    "duration": 7,
    "start_time": "2022-04-25T12:44:37.104Z"
   },
   {
    "duration": 9,
    "start_time": "2022-04-25T12:44:42.863Z"
   },
   {
    "duration": 5,
    "start_time": "2022-04-25T12:51:58.664Z"
   },
   {
    "duration": 14,
    "start_time": "2022-04-25T12:52:08.891Z"
   },
   {
    "duration": 10,
    "start_time": "2022-04-25T12:52:14.392Z"
   },
   {
    "duration": 25,
    "start_time": "2022-04-25T12:54:16.338Z"
   },
   {
    "duration": 14,
    "start_time": "2022-04-25T12:58:34.681Z"
   },
   {
    "duration": 11,
    "start_time": "2022-04-25T12:58:36.984Z"
   },
   {
    "duration": 14,
    "start_time": "2022-04-25T12:58:41.244Z"
   },
   {
    "duration": 5,
    "start_time": "2022-04-25T13:00:17.645Z"
   },
   {
    "duration": 21,
    "start_time": "2022-04-25T13:00:18.983Z"
   },
   {
    "duration": 15,
    "start_time": "2022-04-25T13:00:19.364Z"
   },
   {
    "duration": 15,
    "start_time": "2022-04-25T13:00:22.864Z"
   },
   {
    "duration": 14,
    "start_time": "2022-04-25T13:00:50.742Z"
   },
   {
    "duration": 10,
    "start_time": "2022-04-25T13:00:51.044Z"
   },
   {
    "duration": 14,
    "start_time": "2022-04-25T13:01:04.811Z"
   },
   {
    "duration": 47,
    "start_time": "2022-04-25T13:01:05.197Z"
   },
   {
    "duration": 23,
    "start_time": "2022-04-25T13:01:10.564Z"
   },
   {
    "duration": 148,
    "start_time": "2022-04-25T13:01:11.885Z"
   },
   {
    "duration": 18,
    "start_time": "2022-04-25T13:01:26.047Z"
   },
   {
    "duration": 160,
    "start_time": "2022-04-25T13:01:26.574Z"
   },
   {
    "duration": 14,
    "start_time": "2022-04-25T13:01:41.883Z"
   },
   {
    "duration": 150,
    "start_time": "2022-04-25T13:01:42.483Z"
   },
   {
    "duration": 14,
    "start_time": "2022-04-25T13:01:56.691Z"
   },
   {
    "duration": 10,
    "start_time": "2022-04-25T13:01:57.063Z"
   },
   {
    "duration": 12,
    "start_time": "2022-04-25T13:02:01.284Z"
   },
   {
    "duration": 12,
    "start_time": "2022-04-25T13:02:12.583Z"
   },
   {
    "duration": 13,
    "start_time": "2022-04-25T13:06:14.483Z"
   },
   {
    "duration": 10,
    "start_time": "2022-04-25T13:06:15.204Z"
   },
   {
    "duration": 16,
    "start_time": "2022-04-25T13:06:20.204Z"
   },
   {
    "duration": 10,
    "start_time": "2022-04-25T13:06:20.492Z"
   },
   {
    "duration": 28,
    "start_time": "2022-04-25T13:06:31.622Z"
   },
   {
    "duration": 57,
    "start_time": "2022-04-25T13:06:31.992Z"
   },
   {
    "duration": 24,
    "start_time": "2022-04-25T13:06:41.244Z"
   },
   {
    "duration": 59,
    "start_time": "2022-04-25T13:06:41.571Z"
   },
   {
    "duration": 25,
    "start_time": "2022-04-25T13:06:51.263Z"
   },
   {
    "duration": 30,
    "start_time": "2022-04-25T13:06:51.512Z"
   },
   {
    "duration": 24,
    "start_time": "2022-04-25T13:06:55.444Z"
   },
   {
    "duration": 99,
    "start_time": "2022-04-25T13:06:55.743Z"
   },
   {
    "duration": 14,
    "start_time": "2022-04-25T13:07:16.583Z"
   },
   {
    "duration": 9,
    "start_time": "2022-04-25T13:07:16.804Z"
   },
   {
    "duration": 19,
    "start_time": "2022-04-25T13:07:20.911Z"
   },
   {
    "duration": 9,
    "start_time": "2022-04-25T13:07:21.239Z"
   },
   {
    "duration": 25,
    "start_time": "2022-04-25T13:07:25.345Z"
   },
   {
    "duration": 26,
    "start_time": "2022-04-25T13:07:25.603Z"
   },
   {
    "duration": 6,
    "start_time": "2022-04-25T14:19:52.848Z"
   },
   {
    "duration": 28,
    "start_time": "2022-04-25T14:24:54.273Z"
   },
   {
    "duration": 167,
    "start_time": "2022-04-25T14:24:54.860Z"
   },
   {
    "duration": 27,
    "start_time": "2022-04-25T14:25:26.035Z"
   },
   {
    "duration": 17,
    "start_time": "2022-04-25T14:25:26.236Z"
   },
   {
    "duration": 5,
    "start_time": "2022-04-25T14:35:13.688Z"
   },
   {
    "duration": 5,
    "start_time": "2022-04-25T14:43:57.008Z"
   },
   {
    "duration": 139,
    "start_time": "2022-04-25T14:48:49.312Z"
   },
   {
    "duration": 140,
    "start_time": "2022-04-25T14:49:24.609Z"
   },
   {
    "duration": 6,
    "start_time": "2022-04-25T14:49:43.177Z"
   },
   {
    "duration": 237,
    "start_time": "2022-04-25T14:49:46.488Z"
   },
   {
    "duration": 62228,
    "start_time": "2022-04-25T14:50:11.796Z"
   },
   {
    "duration": 2299,
    "start_time": "2022-04-25T14:52:16.507Z"
   },
   {
    "duration": 12,
    "start_time": "2022-04-25T14:52:33.470Z"
   },
   {
    "duration": 11,
    "start_time": "2022-04-25T14:52:40.208Z"
   },
   {
    "duration": 5,
    "start_time": "2022-04-25T14:53:49.207Z"
   },
   {
    "duration": 4409,
    "start_time": "2022-04-25T14:53:52.737Z"
   },
   {
    "duration": 6,
    "start_time": "2022-04-25T14:54:02.387Z"
   },
   {
    "duration": 24602,
    "start_time": "2022-04-25T14:54:03.680Z"
   },
   {
    "duration": 5,
    "start_time": "2022-04-25T14:54:51.723Z"
   },
   {
    "duration": 17,
    "start_time": "2022-04-25T14:54:52.655Z"
   },
   {
    "duration": 5,
    "start_time": "2022-04-25T14:55:29.248Z"
   },
   {
    "duration": 29595,
    "start_time": "2022-04-25T14:55:29.735Z"
   },
   {
    "duration": 12,
    "start_time": "2022-04-25T14:56:07.195Z"
   },
   {
    "duration": 37,
    "start_time": "2022-04-25T14:59:59.208Z"
   },
   {
    "duration": 6,
    "start_time": "2022-04-25T15:05:45.197Z"
   },
   {
    "duration": 3,
    "start_time": "2022-04-25T15:13:15.069Z"
   },
   {
    "duration": 3,
    "start_time": "2022-04-25T15:13:44.428Z"
   },
   {
    "duration": 3,
    "start_time": "2022-04-25T15:13:47.568Z"
   },
   {
    "duration": 31237,
    "start_time": "2022-04-25T15:13:49.128Z"
   },
   {
    "duration": 2270,
    "start_time": "2022-04-25T15:18:00.828Z"
   },
   {
    "duration": 11,
    "start_time": "2022-04-25T15:18:15.769Z"
   },
   {
    "duration": 4829,
    "start_time": "2022-04-25T15:18:33.563Z"
   },
   {
    "duration": 29,
    "start_time": "2022-04-25T15:18:38.394Z"
   },
   {
    "duration": 15,
    "start_time": "2022-04-25T15:18:52.232Z"
   },
   {
    "duration": 29314,
    "start_time": "2022-04-25T15:19:11.722Z"
   },
   {
    "duration": 87,
    "start_time": "2022-04-25T15:19:41.038Z"
   },
   {
    "duration": 12,
    "start_time": "2022-04-25T15:19:41.127Z"
   },
   {
    "duration": 12,
    "start_time": "2022-04-25T15:20:08.309Z"
   },
   {
    "duration": 10,
    "start_time": "2022-04-25T15:20:09.668Z"
   },
   {
    "duration": 11,
    "start_time": "2022-04-25T15:20:24.068Z"
   },
   {
    "duration": 11,
    "start_time": "2022-04-25T15:20:28.465Z"
   },
   {
    "duration": 11,
    "start_time": "2022-04-25T15:20:46.067Z"
   },
   {
    "duration": 4,
    "start_time": "2022-04-25T15:22:28.011Z"
   },
   {
    "duration": 4558,
    "start_time": "2022-04-25T15:22:30.788Z"
   },
   {
    "duration": 23,
    "start_time": "2022-04-25T15:22:37.627Z"
   },
   {
    "duration": 134,
    "start_time": "2022-04-25T15:23:19.368Z"
   },
   {
    "duration": 5,
    "start_time": "2022-04-25T15:23:22.655Z"
   },
   {
    "duration": 13,
    "start_time": "2022-04-25T15:24:03.645Z"
   },
   {
    "duration": 7,
    "start_time": "2022-04-25T15:24:17.670Z"
   },
   {
    "duration": 6,
    "start_time": "2022-04-25T15:24:25.708Z"
   },
   {
    "duration": 30,
    "start_time": "2022-04-25T15:38:37.710Z"
   },
   {
    "duration": 5,
    "start_time": "2022-04-25T15:39:14.522Z"
   },
   {
    "duration": 32441,
    "start_time": "2022-04-25T15:39:17.591Z"
   },
   {
    "duration": 5,
    "start_time": "2022-04-25T15:41:52.548Z"
   },
   {
    "duration": 6,
    "start_time": "2022-04-25T15:42:06.842Z"
   },
   {
    "duration": 22,
    "start_time": "2022-04-25T15:44:28.728Z"
   },
   {
    "duration": 4,
    "start_time": "2022-04-25T15:44:40.867Z"
   },
   {
    "duration": 28,
    "start_time": "2022-04-25T15:44:42.248Z"
   },
   {
    "duration": 8,
    "start_time": "2022-04-25T15:45:20.608Z"
   },
   {
    "duration": 31,
    "start_time": "2022-04-25T15:45:27.295Z"
   },
   {
    "duration": 7,
    "start_time": "2022-04-25T15:46:09.029Z"
   },
   {
    "duration": 3,
    "start_time": "2022-04-25T15:46:09.375Z"
   },
   {
    "duration": 17,
    "start_time": "2022-04-25T15:46:09.887Z"
   },
   {
    "duration": 4,
    "start_time": "2022-04-25T15:47:26.567Z"
   },
   {
    "duration": 3,
    "start_time": "2022-04-25T15:47:26.828Z"
   },
   {
    "duration": 18,
    "start_time": "2022-04-25T15:47:27.328Z"
   },
   {
    "duration": 4,
    "start_time": "2022-04-25T15:48:01.688Z"
   },
   {
    "duration": 3,
    "start_time": "2022-04-25T15:48:01.877Z"
   },
   {
    "duration": 11,
    "start_time": "2022-04-25T15:48:02.407Z"
   },
   {
    "duration": 4,
    "start_time": "2022-04-25T15:48:10.036Z"
   },
   {
    "duration": 3,
    "start_time": "2022-04-25T15:48:10.388Z"
   },
   {
    "duration": 9,
    "start_time": "2022-04-25T15:48:10.748Z"
   },
   {
    "duration": 4,
    "start_time": "2022-04-25T15:48:26.448Z"
   },
   {
    "duration": 3,
    "start_time": "2022-04-25T15:48:26.807Z"
   },
   {
    "duration": 139,
    "start_time": "2022-04-25T15:48:27.387Z"
   },
   {
    "duration": 5,
    "start_time": "2022-04-25T15:48:31.932Z"
   },
   {
    "duration": 3,
    "start_time": "2022-04-25T15:48:32.275Z"
   },
   {
    "duration": 1247,
    "start_time": "2022-04-25T15:48:32.598Z"
   },
   {
    "duration": 5,
    "start_time": "2022-04-25T15:48:39.347Z"
   },
   {
    "duration": 4,
    "start_time": "2022-04-25T15:48:39.607Z"
   },
   {
    "duration": 1221,
    "start_time": "2022-04-25T15:48:39.927Z"
   },
   {
    "duration": 5,
    "start_time": "2022-04-25T15:49:05.347Z"
   },
   {
    "duration": 4,
    "start_time": "2022-04-25T15:49:05.648Z"
   },
   {
    "duration": 2303,
    "start_time": "2022-04-25T15:49:05.967Z"
   },
   {
    "duration": 8,
    "start_time": "2022-04-25T15:50:46.348Z"
   },
   {
    "duration": 3,
    "start_time": "2022-04-25T15:50:46.747Z"
   },
   {
    "duration": 132,
    "start_time": "2022-04-25T15:50:47.337Z"
   },
   {
    "duration": 5,
    "start_time": "2022-04-25T15:54:18.662Z"
   },
   {
    "duration": 2,
    "start_time": "2022-04-25T15:54:18.713Z"
   },
   {
    "duration": 1275,
    "start_time": "2022-04-25T15:54:19.329Z"
   },
   {
    "duration": 3,
    "start_time": "2022-04-25T15:57:43.655Z"
   },
   {
    "duration": 28720,
    "start_time": "2022-04-25T15:57:51.208Z"
   },
   {
    "duration": 30167,
    "start_time": "2022-04-25T16:00:21.300Z"
   },
   {
    "duration": 9,
    "start_time": "2022-04-25T16:00:51.469Z"
   },
   {
    "duration": 11,
    "start_time": "2022-04-25T16:01:41.868Z"
   },
   {
    "duration": 497993,
    "start_time": "2022-04-25T16:02:56.508Z"
   },
   {
    "duration": 12,
    "start_time": "2022-04-25T16:12:45.988Z"
   },
   {
    "duration": 3,
    "start_time": "2022-04-25T16:16:08.026Z"
   },
   {
    "duration": 55764,
    "start_time": "2022-04-25T16:16:08.370Z"
   },
   {
    "duration": 98,
    "start_time": "2022-04-25T16:17:04.150Z"
   },
   {
    "duration": 13,
    "start_time": "2022-04-25T16:28:57.349Z"
   },
   {
    "duration": 6,
    "start_time": "2022-04-25T16:29:16.337Z"
   },
   {
    "duration": 42,
    "start_time": "2022-04-25T16:29:16.888Z"
   },
   {
    "duration": 4,
    "start_time": "2022-04-25T16:29:39.029Z"
   },
   {
    "duration": 2808689,
    "start_time": "2022-04-25T16:29:40.898Z"
   },
   {
    "duration": 2219,
    "start_time": "2022-04-25T17:16:29.590Z"
   },
   {
    "duration": 0,
    "start_time": "2022-04-25T17:16:31.812Z"
   },
   {
    "duration": 10,
    "start_time": "2022-04-25T18:44:43.979Z"
   },
   {
    "duration": 20,
    "start_time": "2022-04-25T18:45:15.057Z"
   },
   {
    "duration": 11,
    "start_time": "2022-04-25T18:45:37.609Z"
   },
   {
    "duration": 16,
    "start_time": "2022-04-25T18:45:48.951Z"
   },
   {
    "duration": 17,
    "start_time": "2022-04-25T18:45:52.207Z"
   },
   {
    "duration": 9,
    "start_time": "2022-04-25T18:46:00.057Z"
   },
   {
    "duration": 28,
    "start_time": "2022-04-25T18:46:31.569Z"
   },
   {
    "duration": 9,
    "start_time": "2022-04-25T18:46:31.726Z"
   },
   {
    "duration": 12,
    "start_time": "2022-04-25T18:46:32.068Z"
   },
   {
    "duration": 46,
    "start_time": "2022-04-25T18:46:32.429Z"
   },
   {
    "duration": 20,
    "start_time": "2022-04-25T18:46:33.949Z"
   },
   {
    "duration": 8,
    "start_time": "2022-04-25T18:47:02.058Z"
   },
   {
    "duration": 7,
    "start_time": "2022-04-25T18:47:03.095Z"
   },
   {
    "duration": 9,
    "start_time": "2022-04-25T18:47:05.262Z"
   },
   {
    "duration": 4,
    "start_time": "2022-04-25T18:47:08.079Z"
   },
   {
    "duration": 894,
    "start_time": "2022-04-25T18:48:32.468Z"
   },
   {
    "duration": 1028,
    "start_time": "2022-04-25T18:49:44.916Z"
   },
   {
    "duration": 1611,
    "start_time": "2022-04-25T18:51:26.088Z"
   },
   {
    "duration": 4,
    "start_time": "2022-04-25T18:52:06.296Z"
   },
   {
    "duration": 4,
    "start_time": "2022-04-25T18:52:14.155Z"
   },
   {
    "duration": 1621,
    "start_time": "2022-04-25T18:52:21.736Z"
   },
   {
    "duration": 775,
    "start_time": "2022-04-25T18:59:44.247Z"
   },
   {
    "duration": 861,
    "start_time": "2022-04-25T19:00:41.962Z"
   },
   {
    "duration": 1094,
    "start_time": "2022-04-25T19:00:53.091Z"
   },
   {
    "duration": 19,
    "start_time": "2022-04-25T19:01:01.401Z"
   },
   {
    "duration": 15,
    "start_time": "2022-04-25T19:01:12.482Z"
   },
   {
    "duration": 759,
    "start_time": "2022-04-25T19:01:16.053Z"
   },
   {
    "duration": 1031,
    "start_time": "2022-04-25T19:01:30.970Z"
   },
   {
    "duration": 790,
    "start_time": "2022-04-25T19:01:37.342Z"
   },
   {
    "duration": 1061,
    "start_time": "2022-04-25T19:01:58.402Z"
   },
   {
    "duration": 806,
    "start_time": "2022-04-25T19:02:16.854Z"
   },
   {
    "duration": 745,
    "start_time": "2022-04-25T19:02:25.804Z"
   },
   {
    "duration": 858,
    "start_time": "2022-04-25T19:02:35.610Z"
   },
   {
    "duration": 863,
    "start_time": "2022-04-25T19:02:50.453Z"
   },
   {
    "duration": 898,
    "start_time": "2022-04-25T19:02:57.290Z"
   },
   {
    "duration": 9,
    "start_time": "2022-04-25T19:11:05.922Z"
   },
   {
    "duration": 6,
    "start_time": "2022-04-25T19:19:28.490Z"
   },
   {
    "duration": 4,
    "start_time": "2022-04-25T19:24:03.514Z"
   },
   {
    "duration": 5,
    "start_time": "2022-04-25T19:26:40.163Z"
   },
   {
    "duration": 7,
    "start_time": "2022-04-25T19:28:50.450Z"
   },
   {
    "duration": 9,
    "start_time": "2022-04-25T19:31:07.331Z"
   },
   {
    "duration": 46808,
    "start_time": "2022-04-25T19:34:54.648Z"
   },
   {
    "duration": 22,
    "start_time": "2022-04-25T19:35:41.523Z"
   },
   {
    "duration": 4350,
    "start_time": "2022-04-26T19:14:17.052Z"
   },
   {
    "duration": 26,
    "start_time": "2022-04-26T19:14:24.873Z"
   },
   {
    "duration": 10,
    "start_time": "2022-04-26T19:14:25.322Z"
   },
   {
    "duration": 12,
    "start_time": "2022-04-26T19:14:25.857Z"
   },
   {
    "duration": 26,
    "start_time": "2022-04-26T19:14:26.258Z"
   },
   {
    "duration": 50,
    "start_time": "2022-04-26T19:14:26.463Z"
   },
   {
    "duration": 7,
    "start_time": "2022-04-26T19:15:54.912Z"
   },
   {
    "duration": 7,
    "start_time": "2022-04-26T19:15:55.649Z"
   },
   {
    "duration": 8,
    "start_time": "2022-04-26T19:15:56.168Z"
   },
   {
    "duration": 4,
    "start_time": "2022-04-26T19:15:56.374Z"
   },
   {
    "duration": 6,
    "start_time": "2022-04-26T19:15:58.472Z"
   },
   {
    "duration": 845,
    "start_time": "2022-04-26T19:16:00.473Z"
   },
   {
    "duration": 971,
    "start_time": "2022-04-26T19:16:04.308Z"
   },
   {
    "duration": 1313,
    "start_time": "2022-04-26T19:16:05.281Z"
   },
   {
    "duration": 5,
    "start_time": "2022-04-26T19:17:54.189Z"
   },
   {
    "duration": 4,
    "start_time": "2022-04-26T19:17:57.492Z"
   },
   {
    "duration": 2163,
    "start_time": "2022-04-27T07:34:13.032Z"
   },
   {
    "duration": 32,
    "start_time": "2022-04-27T07:34:16.261Z"
   },
   {
    "duration": 10,
    "start_time": "2022-04-27T07:34:16.645Z"
   },
   {
    "duration": 21,
    "start_time": "2022-04-27T07:34:17.133Z"
   },
   {
    "duration": 38,
    "start_time": "2022-04-27T07:34:17.407Z"
   },
   {
    "duration": 60,
    "start_time": "2022-04-27T07:34:17.669Z"
   },
   {
    "duration": 7,
    "start_time": "2022-04-27T07:34:19.173Z"
   },
   {
    "duration": 6,
    "start_time": "2022-04-27T07:34:19.501Z"
   },
   {
    "duration": 8,
    "start_time": "2022-04-27T07:34:19.853Z"
   },
   {
    "duration": 6,
    "start_time": "2022-04-27T07:34:20.110Z"
   },
   {
    "duration": 8,
    "start_time": "2022-04-27T07:34:21.102Z"
   },
   {
    "duration": 1080,
    "start_time": "2022-04-27T07:34:21.685Z"
   },
   {
    "duration": 1006,
    "start_time": "2022-04-27T07:34:23.965Z"
   },
   {
    "duration": 1467,
    "start_time": "2022-04-27T07:34:25.181Z"
   },
   {
    "duration": 4,
    "start_time": "2022-04-27T07:34:34.551Z"
   },
   {
    "duration": 7,
    "start_time": "2022-04-27T07:34:37.342Z"
   },
   {
    "duration": 4,
    "start_time": "2022-04-27T07:34:48.471Z"
   },
   {
    "duration": 4,
    "start_time": "2022-04-27T07:34:51.838Z"
   },
   {
    "duration": 5,
    "start_time": "2022-04-27T07:34:52.790Z"
   },
   {
    "duration": 5,
    "start_time": "2022-04-27T07:37:25.701Z"
   },
   {
    "duration": 6,
    "start_time": "2022-04-27T07:37:28.101Z"
   },
   {
    "duration": 6,
    "start_time": "2022-04-27T07:37:28.597Z"
   },
   {
    "duration": 4,
    "start_time": "2022-04-27T07:37:59.940Z"
   },
   {
    "duration": 200,
    "start_time": "2022-04-27T07:38:17.796Z"
   },
   {
    "duration": 8,
    "start_time": "2022-04-27T07:38:57.501Z"
   },
   {
    "duration": 195,
    "start_time": "2022-04-27T07:39:36.514Z"
   },
   {
    "duration": 5,
    "start_time": "2022-04-27T07:39:42.416Z"
   },
   {
    "duration": 4,
    "start_time": "2022-04-27T07:39:50.253Z"
   },
   {
    "duration": 414,
    "start_time": "2022-04-27T07:41:06.428Z"
   },
   {
    "duration": 12,
    "start_time": "2022-04-27T07:41:07.517Z"
   },
   {
    "duration": 3,
    "start_time": "2022-04-27T07:41:52.917Z"
   },
   {
    "duration": 545,
    "start_time": "2022-04-27T07:42:01.764Z"
   },
   {
    "duration": 15,
    "start_time": "2022-04-27T07:42:05.498Z"
   },
   {
    "duration": 247,
    "start_time": "2022-04-27T07:42:27.380Z"
   },
   {
    "duration": 13,
    "start_time": "2022-04-27T07:42:27.796Z"
   },
   {
    "duration": 246,
    "start_time": "2022-04-27T07:46:30.989Z"
   },
   {
    "duration": 13,
    "start_time": "2022-04-27T07:46:31.373Z"
   },
   {
    "duration": 4745,
    "start_time": "2022-04-27T07:46:56.270Z"
   },
   {
    "duration": 185,
    "start_time": "2022-04-27T07:47:01.018Z"
   },
   {
    "duration": 2,
    "start_time": "2022-04-27T07:47:15.506Z"
   },
   {
    "duration": 3,
    "start_time": "2022-04-27T07:47:15.829Z"
   },
   {
    "duration": 17775,
    "start_time": "2022-04-27T07:47:16.359Z"
   },
   {
    "duration": 10,
    "start_time": "2022-04-27T07:47:34.136Z"
   },
   {
    "duration": 3,
    "start_time": "2022-04-27T07:48:05.071Z"
   },
   {
    "duration": 81387,
    "start_time": "2022-04-27T07:48:24.679Z"
   },
   {
    "duration": 22,
    "start_time": "2022-04-27T07:49:46.068Z"
   },
   {
    "duration": 3,
    "start_time": "2022-04-27T07:50:13.342Z"
   },
   {
    "duration": 4346127,
    "start_time": "2022-04-27T07:50:13.719Z"
   },
   {
    "duration": 0,
    "start_time": "2022-04-27T09:02:39.847Z"
   },
   {
    "duration": 12,
    "start_time": "2022-04-27T09:02:54.502Z"
   },
   {
    "duration": 5,
    "start_time": "2022-04-27T09:03:44.454Z"
   },
   {
    "duration": 3,
    "start_time": "2022-04-27T09:03:52.639Z"
   },
   {
    "duration": 8360646,
    "start_time": "2022-04-27T09:03:52.870Z"
   },
   {
    "duration": 16,
    "start_time": "2022-04-27T11:32:07.561Z"
   },
   {
    "duration": 10,
    "start_time": "2022-04-27T11:32:20.928Z"
   },
   {
    "duration": 17,
    "start_time": "2022-04-27T11:34:13.460Z"
   },
   {
    "duration": 138,
    "start_time": "2022-04-27T11:34:30.613Z"
   },
   {
    "duration": 42684,
    "start_time": "2022-04-27T11:35:11.146Z"
   },
   {
    "duration": 27,
    "start_time": "2022-04-27T11:36:31.134Z"
   },
   {
    "duration": 28,
    "start_time": "2022-04-27T11:36:35.498Z"
   },
   {
    "duration": 23,
    "start_time": "2022-04-27T11:36:38.762Z"
   },
   {
    "duration": 25,
    "start_time": "2022-04-27T11:36:41.291Z"
   },
   {
    "duration": 39413,
    "start_time": "2022-04-27T11:36:50.060Z"
   },
   {
    "duration": 42,
    "start_time": "2022-04-27T11:41:33.897Z"
   },
   {
    "duration": 22,
    "start_time": "2022-04-27T11:41:43.662Z"
   },
   {
    "duration": 19,
    "start_time": "2022-04-27T11:41:47.464Z"
   },
   {
    "duration": 6,
    "start_time": "2022-04-27T11:45:20.762Z"
   },
   {
    "duration": 183,
    "start_time": "2022-04-27T11:51:02.197Z"
   },
   {
    "duration": 16,
    "start_time": "2022-04-27T11:51:34.952Z"
   },
   {
    "duration": 32,
    "start_time": "2022-04-27T11:51:37.391Z"
   },
   {
    "duration": 18,
    "start_time": "2022-04-27T11:51:41.661Z"
   },
   {
    "duration": 19,
    "start_time": "2022-04-27T11:51:45.656Z"
   },
   {
    "duration": 33,
    "start_time": "2022-04-27T11:51:49.182Z"
   },
   {
    "duration": 16,
    "start_time": "2022-04-27T11:51:52.173Z"
   },
   {
    "duration": 5,
    "start_time": "2022-04-27T11:53:01.486Z"
   },
   {
    "duration": 187,
    "start_time": "2022-04-27T11:53:24.028Z"
   },
   {
    "duration": 6,
    "start_time": "2022-04-27T11:54:30.936Z"
   },
   {
    "duration": 17,
    "start_time": "2022-04-27T11:54:42.966Z"
   },
   {
    "duration": 18,
    "start_time": "2022-04-27T11:55:02.159Z"
   },
   {
    "duration": 6,
    "start_time": "2022-04-27T11:56:12.540Z"
   },
   {
    "duration": 31,
    "start_time": "2022-04-27T11:56:12.832Z"
   },
   {
    "duration": 462,
    "start_time": "2022-04-27T11:56:23.382Z"
   },
   {
    "duration": 21,
    "start_time": "2022-04-27T11:56:24.103Z"
   },
   {
    "duration": 4,
    "start_time": "2022-04-27T11:58:28.752Z"
   },
   {
    "duration": 5,
    "start_time": "2022-04-27T11:58:59.880Z"
   },
   {
    "duration": 19,
    "start_time": "2022-04-27T11:59:04.913Z"
   },
   {
    "duration": 20,
    "start_time": "2022-04-27T11:59:08.128Z"
   },
   {
    "duration": 6,
    "start_time": "2022-04-27T12:02:37.599Z"
   },
   {
    "duration": 28,
    "start_time": "2022-04-27T12:02:43.134Z"
   },
   {
    "duration": 5,
    "start_time": "2022-04-27T12:03:19.479Z"
   },
   {
    "duration": 40,
    "start_time": "2022-04-27T12:03:22.390Z"
   },
   {
    "duration": 7,
    "start_time": "2022-04-27T12:03:29.739Z"
   },
   {
    "duration": 32,
    "start_time": "2022-04-27T12:03:30.418Z"
   },
   {
    "duration": 6,
    "start_time": "2022-04-27T12:03:35.293Z"
   },
   {
    "duration": 18,
    "start_time": "2022-04-27T12:03:35.981Z"
   },
   {
    "duration": 5,
    "start_time": "2022-04-27T12:03:39.190Z"
   },
   {
    "duration": 39,
    "start_time": "2022-04-27T12:03:39.694Z"
   },
   {
    "duration": 7,
    "start_time": "2022-04-27T12:03:45.198Z"
   },
   {
    "duration": 15,
    "start_time": "2022-04-27T12:03:45.941Z"
   },
   {
    "duration": 24,
    "start_time": "2022-04-27T12:05:10.175Z"
   },
   {
    "duration": 16,
    "start_time": "2022-04-27T12:05:13.845Z"
   },
   {
    "duration": 23,
    "start_time": "2022-04-27T12:05:17.071Z"
   },
   {
    "duration": 23,
    "start_time": "2022-04-27T12:05:20.374Z"
   },
   {
    "duration": 24,
    "start_time": "2022-04-27T12:05:29.033Z"
   },
   {
    "duration": 28,
    "start_time": "2022-04-27T12:05:36.033Z"
   },
   {
    "duration": 7,
    "start_time": "2022-04-27T12:08:34.739Z"
   },
   {
    "duration": 7,
    "start_time": "2022-04-27T12:08:56.150Z"
   },
   {
    "duration": 5,
    "start_time": "2022-04-27T12:09:07.879Z"
   },
   {
    "duration": 7,
    "start_time": "2022-04-27T12:09:26.776Z"
   },
   {
    "duration": 6,
    "start_time": "2022-04-27T12:09:30.820Z"
   },
   {
    "duration": 8,
    "start_time": "2022-04-27T12:09:48.134Z"
   },
   {
    "duration": 7,
    "start_time": "2022-04-27T12:10:14.686Z"
   },
   {
    "duration": 8,
    "start_time": "2022-04-27T12:11:08.405Z"
   },
   {
    "duration": 12,
    "start_time": "2022-04-27T12:11:18.433Z"
   },
   {
    "duration": 1262,
    "start_time": "2022-04-27T12:12:35.065Z"
   },
   {
    "duration": 18,
    "start_time": "2022-04-27T12:12:36.451Z"
   },
   {
    "duration": 889,
    "start_time": "2022-04-27T12:12:51.534Z"
   },
   {
    "duration": 14,
    "start_time": "2022-04-27T12:12:52.425Z"
   },
   {
    "duration": 26,
    "start_time": "2022-04-27T12:13:10.126Z"
   },
   {
    "duration": 16,
    "start_time": "2022-04-27T12:14:25.113Z"
   },
   {
    "duration": 6,
    "start_time": "2022-04-27T12:14:43.249Z"
   },
   {
    "duration": 5,
    "start_time": "2022-04-27T12:14:53.444Z"
   },
   {
    "duration": 7,
    "start_time": "2022-04-27T12:15:05.553Z"
   },
   {
    "duration": 7,
    "start_time": "2022-04-27T12:15:12.273Z"
   },
   {
    "duration": 7,
    "start_time": "2022-04-27T12:15:41.585Z"
   },
   {
    "duration": 10,
    "start_time": "2022-04-27T12:15:50.577Z"
   },
   {
    "duration": 807,
    "start_time": "2022-04-27T12:19:23.445Z"
   },
   {
    "duration": 808,
    "start_time": "2022-04-27T12:20:16.771Z"
   },
   {
    "duration": 9,
    "start_time": "2022-04-27T12:22:52.995Z"
   },
   {
    "duration": 8,
    "start_time": "2022-04-27T12:24:19.628Z"
   },
   {
    "duration": 5,
    "start_time": "2022-04-27T12:27:07.658Z"
   },
   {
    "duration": 1109,
    "start_time": "2022-04-27T12:27:21.208Z"
   },
   {
    "duration": 10,
    "start_time": "2022-04-27T12:27:23.792Z"
   },
   {
    "duration": 7,
    "start_time": "2022-04-27T12:27:46.977Z"
   },
   {
    "duration": 8,
    "start_time": "2022-04-27T12:31:03.433Z"
   },
   {
    "duration": 6,
    "start_time": "2022-04-27T12:31:03.933Z"
   },
   {
    "duration": 1178,
    "start_time": "2022-04-27T12:31:53.969Z"
   },
   {
    "duration": 12,
    "start_time": "2022-04-27T12:31:55.150Z"
   },
   {
    "duration": 4,
    "start_time": "2022-04-27T12:32:50.675Z"
   },
   {
    "duration": 6,
    "start_time": "2022-04-27T12:32:56.430Z"
   },
   {
    "duration": 8,
    "start_time": "2022-04-27T12:32:56.810Z"
   },
   {
    "duration": 1333,
    "start_time": "2022-04-27T12:33:00.282Z"
   },
   {
    "duration": 20,
    "start_time": "2022-04-27T12:33:01.617Z"
   },
   {
    "duration": 5,
    "start_time": "2022-04-27T12:33:33.148Z"
   },
   {
    "duration": 102,
    "start_time": "2022-04-27T12:33:48.040Z"
   },
   {
    "duration": 5,
    "start_time": "2022-04-27T12:35:15.245Z"
   },
   {
    "duration": 99,
    "start_time": "2022-04-27T12:35:20.364Z"
   },
   {
    "duration": 9,
    "start_time": "2022-04-27T12:36:12.136Z"
   },
   {
    "duration": 139,
    "start_time": "2022-04-27T12:36:25.988Z"
   },
   {
    "duration": 13,
    "start_time": "2022-04-27T12:36:30.399Z"
   },
   {
    "duration": 8,
    "start_time": "2022-04-27T12:37:49.871Z"
   },
   {
    "duration": 319,
    "start_time": "2022-04-27T12:37:59.789Z"
   },
   {
    "duration": 10,
    "start_time": "2022-04-27T12:38:00.457Z"
   },
   {
    "duration": 14,
    "start_time": "2022-04-27T12:38:05.946Z"
   },
   {
    "duration": 4006,
    "start_time": "2022-04-27T12:38:18.302Z"
   },
   {
    "duration": 28,
    "start_time": "2022-04-27T12:38:22.314Z"
   },
   {
    "duration": 4,
    "start_time": "2022-04-27T12:38:32.062Z"
   },
   {
    "duration": 4,
    "start_time": "2022-04-27T12:38:32.285Z"
   },
   {
    "duration": 43599,
    "start_time": "2022-04-27T12:38:32.529Z"
   },
   {
    "duration": 24,
    "start_time": "2022-04-27T12:39:16.131Z"
   },
   {
    "duration": 169,
    "start_time": "2022-04-27T12:40:00.486Z"
   },
   {
    "duration": 15,
    "start_time": "2022-04-27T12:40:01.837Z"
   },
   {
    "duration": 798,
    "start_time": "2022-04-27T12:40:20.441Z"
   },
   {
    "duration": 485,
    "start_time": "2022-04-27T12:40:35.657Z"
   },
   {
    "duration": 310,
    "start_time": "2022-04-27T12:40:46.028Z"
   },
   {
    "duration": 32,
    "start_time": "2022-04-27T12:41:08.062Z"
   },
   {
    "duration": 11,
    "start_time": "2022-04-27T12:41:39.428Z"
   },
   {
    "duration": 3,
    "start_time": "2022-04-27T12:42:12.944Z"
   },
   {
    "duration": 165474,
    "start_time": "2022-04-27T12:42:13.375Z"
   },
   {
    "duration": 23,
    "start_time": "2022-04-27T12:44:58.854Z"
   },
   {
    "duration": 8,
    "start_time": "2022-04-27T12:44:58.879Z"
   },
   {
    "duration": 40,
    "start_time": "2022-04-27T12:45:05.118Z"
   },
   {
    "duration": 8,
    "start_time": "2022-04-27T12:45:13.254Z"
   },
   {
    "duration": 295,
    "start_time": "2022-04-27T12:46:10.878Z"
   },
   {
    "duration": 823,
    "start_time": "2022-04-27T12:47:01.734Z"
   },
   {
    "duration": 5,
    "start_time": "2022-04-27T12:53:29.852Z"
   },
   {
    "duration": 5,
    "start_time": "2022-04-27T12:54:52.793Z"
   },
   {
    "duration": 6,
    "start_time": "2022-04-27T12:54:57.753Z"
   },
   {
    "duration": 5,
    "start_time": "2022-04-27T12:54:58.145Z"
   },
   {
    "duration": 234,
    "start_time": "2022-04-27T12:55:19.774Z"
   },
   {
    "duration": 19,
    "start_time": "2022-04-27T12:55:20.398Z"
   },
   {
    "duration": 3807,
    "start_time": "2022-04-27T12:55:37.630Z"
   },
   {
    "duration": 29,
    "start_time": "2022-04-27T12:55:41.500Z"
   },
   {
    "duration": 9,
    "start_time": "2022-04-27T12:55:41.726Z"
   },
   {
    "duration": 302,
    "start_time": "2022-04-27T12:56:11.318Z"
   },
   {
    "duration": 19,
    "start_time": "2022-04-27T12:56:11.627Z"
   },
   {
    "duration": 4134,
    "start_time": "2022-04-27T12:56:12.279Z"
   },
   {
    "duration": 103,
    "start_time": "2022-04-27T12:56:16.418Z"
   },
   {
    "duration": 32,
    "start_time": "2022-04-27T12:56:16.526Z"
   },
   {
    "duration": 20,
    "start_time": "2022-04-27T12:56:16.560Z"
   },
   {
    "duration": 42370,
    "start_time": "2022-04-27T12:56:16.581Z"
   },
   {
    "duration": 22,
    "start_time": "2022-04-27T12:56:58.953Z"
   },
   {
    "duration": 7,
    "start_time": "2022-04-27T12:56:58.977Z"
   },
   {
    "duration": 4,
    "start_time": "2022-04-27T12:56:58.986Z"
   },
   {
    "duration": 167308,
    "start_time": "2022-04-27T12:56:58.992Z"
   },
   {
    "duration": 33,
    "start_time": "2022-04-27T12:59:46.308Z"
   },
   {
    "duration": 15,
    "start_time": "2022-04-27T12:59:46.343Z"
   },
   {
    "duration": 10,
    "start_time": "2022-04-27T12:59:46.362Z"
   },
   {
    "duration": 5057743,
    "start_time": "2022-04-27T12:59:46.373Z"
   },
   {
    "duration": 11,
    "start_time": "2022-04-27T14:24:04.118Z"
   },
   {
    "duration": 11,
    "start_time": "2022-04-27T14:24:04.131Z"
   },
   {
    "duration": 5,
    "start_time": "2022-04-27T14:45:52.780Z"
   },
   {
    "duration": 155,
    "start_time": "2022-04-27T14:46:02.652Z"
   },
   {
    "duration": 10,
    "start_time": "2022-04-27T14:46:03.227Z"
   },
   {
    "duration": 3130,
    "start_time": "2022-04-27T14:46:06.875Z"
   },
   {
    "duration": 95,
    "start_time": "2022-04-27T14:46:10.008Z"
   },
   {
    "duration": 3,
    "start_time": "2022-04-27T14:46:16.787Z"
   },
   {
    "duration": 3,
    "start_time": "2022-04-27T14:46:17.090Z"
   },
   {
    "duration": 33127,
    "start_time": "2022-04-27T14:46:17.563Z"
   },
   {
    "duration": 10,
    "start_time": "2022-04-27T14:46:54.675Z"
   },
   {
    "duration": 5,
    "start_time": "2022-04-27T14:47:25.909Z"
   },
   {
    "duration": 124452,
    "start_time": "2022-04-27T14:47:26.868Z"
   },
   {
    "duration": 19,
    "start_time": "2022-04-27T14:50:00.118Z"
   },
   {
    "duration": 7,
    "start_time": "2022-04-27T14:50:02.252Z"
   },
   {
    "duration": 3,
    "start_time": "2022-04-27T14:50:08.764Z"
   },
   {
    "duration": 684451,
    "start_time": "2022-04-27T14:50:09.860Z"
   },
   {
    "duration": 10,
    "start_time": "2022-04-27T15:01:34.314Z"
   },
   {
    "duration": 8,
    "start_time": "2022-04-27T15:01:34.326Z"
   },
   {
    "duration": 1427,
    "start_time": "2022-04-27T15:23:08.997Z"
   },
   {
    "duration": 270,
    "start_time": "2022-04-27T15:29:02.446Z"
   },
   {
    "duration": 32807,
    "start_time": "2022-04-27T17:32:45.999Z"
   },
   {
    "duration": 129,
    "start_time": "2022-04-27T17:36:59.097Z"
   },
   {
    "duration": 10,
    "start_time": "2022-04-27T17:37:01.643Z"
   },
   {
    "duration": 661,
    "start_time": "2022-04-27T17:39:00.613Z"
   },
   {
    "duration": 735,
    "start_time": "2022-04-27T17:44:16.765Z"
   },
   {
    "duration": 949,
    "start_time": "2022-04-27T17:44:54.346Z"
   },
   {
    "duration": 18,
    "start_time": "2022-04-27T17:45:14.326Z"
   },
   {
    "duration": 919,
    "start_time": "2022-04-27T17:45:36.435Z"
   },
   {
    "duration": 1054,
    "start_time": "2022-04-27T17:45:45.265Z"
   },
   {
    "duration": 15,
    "start_time": "2022-04-27T17:45:57.805Z"
   },
   {
    "duration": 1204,
    "start_time": "2022-04-27T17:46:03.170Z"
   },
   {
    "duration": 1324,
    "start_time": "2022-04-27T17:46:11.005Z"
   },
   {
    "duration": 1564,
    "start_time": "2022-04-27T17:49:41.964Z"
   },
   {
    "duration": 121,
    "start_time": "2022-04-27T17:49:43.530Z"
   },
   {
    "duration": 9,
    "start_time": "2022-04-27T17:49:43.653Z"
   },
   {
    "duration": 10,
    "start_time": "2022-04-27T17:49:43.664Z"
   },
   {
    "duration": 22,
    "start_time": "2022-04-27T17:49:43.675Z"
   },
   {
    "duration": 46,
    "start_time": "2022-04-27T17:49:43.699Z"
   },
   {
    "duration": 8,
    "start_time": "2022-04-27T17:49:44.250Z"
   },
   {
    "duration": 6,
    "start_time": "2022-04-27T17:49:44.383Z"
   },
   {
    "duration": 9,
    "start_time": "2022-04-27T17:49:44.551Z"
   },
   {
    "duration": 4,
    "start_time": "2022-04-27T17:49:44.730Z"
   },
   {
    "duration": 5,
    "start_time": "2022-04-27T17:49:45.493Z"
   },
   {
    "duration": 810,
    "start_time": "2022-04-27T17:49:46.364Z"
   },
   {
    "duration": 970,
    "start_time": "2022-04-27T17:49:47.175Z"
   },
   {
    "duration": 1307,
    "start_time": "2022-04-27T17:49:48.147Z"
   },
   {
    "duration": 778,
    "start_time": "2022-04-27T17:49:49.456Z"
   },
   {
    "duration": 959,
    "start_time": "2022-04-27T17:49:50.236Z"
   },
   {
    "duration": 1306,
    "start_time": "2022-04-27T17:49:51.197Z"
   },
   {
    "duration": 5,
    "start_time": "2022-04-27T17:49:52.505Z"
   },
   {
    "duration": 9,
    "start_time": "2022-04-27T17:49:52.512Z"
   },
   {
    "duration": 4,
    "start_time": "2022-04-27T17:49:52.759Z"
   },
   {
    "duration": 5,
    "start_time": "2022-04-27T17:49:52.971Z"
   },
   {
    "duration": 139,
    "start_time": "2022-04-27T17:49:53.972Z"
   },
   {
    "duration": 40,
    "start_time": "2022-04-27T17:49:54.162Z"
   },
   {
    "duration": 1448,
    "start_time": "2022-04-27T17:49:54.963Z"
   },
   {
    "duration": 92,
    "start_time": "2022-04-27T17:49:56.414Z"
   },
   {
    "duration": 93,
    "start_time": "2022-04-27T17:49:56.508Z"
   },
   {
    "duration": 4,
    "start_time": "2022-04-27T17:49:56.604Z"
   },
   {
    "duration": 13527,
    "start_time": "2022-04-27T17:49:56.610Z"
   },
   {
    "duration": 9,
    "start_time": "2022-04-27T17:50:10.139Z"
   },
   {
    "duration": 9,
    "start_time": "2022-04-27T17:50:10.150Z"
   },
   {
    "duration": 3,
    "start_time": "2022-04-27T17:50:10.160Z"
   },
   {
    "duration": 50507,
    "start_time": "2022-04-27T17:50:10.164Z"
   },
   {
    "duration": 28,
    "start_time": "2022-04-27T17:51:00.673Z"
   },
   {
    "duration": 6,
    "start_time": "2022-04-27T17:51:00.703Z"
   },
   {
    "duration": 9,
    "start_time": "2022-04-27T17:51:00.710Z"
   },
   {
    "duration": 74998,
    "start_time": "2022-04-27T17:51:00.720Z"
   },
   {
    "duration": 15,
    "start_time": "2022-04-27T17:52:15.801Z"
   },
   {
    "duration": 13,
    "start_time": "2022-04-27T17:52:15.818Z"
   },
   {
    "duration": 225,
    "start_time": "2022-04-27T18:00:36.283Z"
   },
   {
    "duration": 280,
    "start_time": "2022-04-27T18:01:27.692Z"
   },
   {
    "duration": 138,
    "start_time": "2022-04-27T18:03:12.373Z"
   },
   {
    "duration": 6,
    "start_time": "2022-04-27T18:03:44.484Z"
   },
   {
    "duration": 254,
    "start_time": "2022-04-27T18:10:31.365Z"
   },
   {
    "duration": 4,
    "start_time": "2022-04-27T18:10:42.364Z"
   },
   {
    "duration": 9617,
    "start_time": "2022-04-27T18:10:45.884Z"
   },
   {
    "duration": 229,
    "start_time": "2022-04-27T18:10:55.503Z"
   },
   {
    "duration": 9,
    "start_time": "2022-04-27T18:10:59.805Z"
   },
   {
    "duration": 7,
    "start_time": "2022-04-27T18:14:08.687Z"
   },
   {
    "duration": 206,
    "start_time": "2022-04-27T18:14:20.804Z"
   },
   {
    "duration": 6,
    "start_time": "2022-04-27T18:15:01.244Z"
   },
   {
    "duration": 3,
    "start_time": "2022-04-27T18:17:46.765Z"
   },
   {
    "duration": 211,
    "start_time": "2022-04-27T18:17:53.245Z"
   },
   {
    "duration": 274,
    "start_time": "2022-04-27T18:18:24.244Z"
   },
   {
    "duration": 10,
    "start_time": "2022-04-27T18:31:32.041Z"
   },
   {
    "duration": 145,
    "start_time": "2022-04-27T18:36:59.568Z"
   },
   {
    "duration": 11,
    "start_time": "2022-04-27T18:37:14.423Z"
   },
   {
    "duration": 12,
    "start_time": "2022-04-27T18:37:39.179Z"
   },
   {
    "duration": 9,
    "start_time": "2022-04-27T18:39:27.543Z"
   },
   {
    "duration": 9,
    "start_time": "2022-04-27T18:39:32.284Z"
   },
   {
    "duration": 12,
    "start_time": "2022-04-27T18:40:44.711Z"
   },
   {
    "duration": 12,
    "start_time": "2022-04-27T18:41:32.703Z"
   },
   {
    "duration": 148,
    "start_time": "2022-04-27T18:43:09.623Z"
   },
   {
    "duration": 9,
    "start_time": "2022-04-27T18:43:39.077Z"
   },
   {
    "duration": 10,
    "start_time": "2022-04-27T18:44:26.891Z"
   },
   {
    "duration": 144,
    "start_time": "2022-04-27T18:44:33.051Z"
   },
   {
    "duration": 144,
    "start_time": "2022-04-27T18:44:52.499Z"
   },
   {
    "duration": 7,
    "start_time": "2022-04-27T18:45:28.364Z"
   },
   {
    "duration": 14,
    "start_time": "2022-04-27T18:45:58.042Z"
   },
   {
    "duration": 5,
    "start_time": "2022-04-27T18:46:10.066Z"
   },
   {
    "duration": 9,
    "start_time": "2022-04-27T18:46:39.643Z"
   },
   {
    "duration": 243,
    "start_time": "2022-04-27T18:46:46.063Z"
   },
   {
    "duration": 288,
    "start_time": "2022-04-27T18:46:50.463Z"
   },
   {
    "duration": 4,
    "start_time": "2022-04-27T18:55:06.712Z"
   },
   {
    "duration": 112,
    "start_time": "2022-04-27T18:55:15.363Z"
   },
   {
    "duration": 10,
    "start_time": "2022-04-27T18:55:15.758Z"
   },
   {
    "duration": 1452,
    "start_time": "2022-04-27T18:55:21.057Z"
   },
   {
    "duration": 99,
    "start_time": "2022-04-27T18:55:22.602Z"
   },
   {
    "duration": 3,
    "start_time": "2022-04-27T18:55:28.084Z"
   },
   {
    "duration": 3,
    "start_time": "2022-04-27T18:55:28.303Z"
   },
   {
    "duration": 14517,
    "start_time": "2022-04-27T18:55:29.545Z"
   },
   {
    "duration": 11,
    "start_time": "2022-04-27T18:55:44.063Z"
   },
   {
    "duration": 12,
    "start_time": "2022-04-27T18:55:44.075Z"
   },
   {
    "duration": 13,
    "start_time": "2022-04-27T18:55:44.089Z"
   },
   {
    "duration": 52197,
    "start_time": "2022-04-27T18:55:44.103Z"
   },
   {
    "duration": 19,
    "start_time": "2022-04-27T18:56:36.302Z"
   },
   {
    "duration": 8,
    "start_time": "2022-04-27T18:56:36.322Z"
   },
   {
    "duration": 4,
    "start_time": "2022-04-27T18:56:36.331Z"
   },
   {
    "duration": 76666,
    "start_time": "2022-04-27T18:56:36.336Z"
   },
   {
    "duration": 11,
    "start_time": "2022-04-27T18:57:53.004Z"
   },
   {
    "duration": 9,
    "start_time": "2022-04-27T18:57:53.017Z"
   },
   {
    "duration": 997,
    "start_time": "2022-04-27T18:58:46.704Z"
   },
   {
    "duration": 27756,
    "start_time": "2022-04-27T20:25:36.046Z"
   },
   {
    "duration": 4,
    "start_time": "2022-04-27T20:27:11.514Z"
   },
   {
    "duration": 285,
    "start_time": "2022-04-27T20:27:18.066Z"
   },
   {
    "duration": 9100,
    "start_time": "2022-04-27T20:28:32.507Z"
   },
   {
    "duration": 12,
    "start_time": "2022-04-27T20:29:33.047Z"
   },
   {
    "duration": 280,
    "start_time": "2022-04-27T20:30:22.826Z"
   },
   {
    "duration": 318,
    "start_time": "2022-04-27T20:31:44.886Z"
   },
   {
    "duration": 340,
    "start_time": "2022-04-27T20:33:42.330Z"
   },
   {
    "duration": 518,
    "start_time": "2022-04-27T20:33:49.463Z"
   },
   {
    "duration": 331,
    "start_time": "2022-04-27T20:34:37.288Z"
   },
   {
    "duration": 348,
    "start_time": "2022-04-27T20:35:27.506Z"
   },
   {
    "duration": 358,
    "start_time": "2022-04-27T20:35:52.527Z"
   },
   {
    "duration": 414,
    "start_time": "2022-04-27T20:35:58.267Z"
   },
   {
    "duration": 350,
    "start_time": "2022-04-27T20:37:15.792Z"
   },
   {
    "duration": 335,
    "start_time": "2022-04-27T20:37:23.914Z"
   },
   {
    "duration": 369,
    "start_time": "2022-04-27T20:39:59.395Z"
   },
   {
    "duration": 9,
    "start_time": "2022-04-27T20:41:25.473Z"
   },
   {
    "duration": 3,
    "start_time": "2022-04-27T20:41:37.353Z"
   },
   {
    "duration": 4,
    "start_time": "2022-04-27T20:41:51.213Z"
   },
   {
    "duration": 478,
    "start_time": "2022-04-27T20:42:22.413Z"
   },
   {
    "duration": 344,
    "start_time": "2022-04-27T20:43:00.733Z"
   },
   {
    "duration": 305,
    "start_time": "2022-04-27T20:43:11.913Z"
   },
   {
    "duration": 413,
    "start_time": "2022-04-27T20:43:20.294Z"
   },
   {
    "duration": 290,
    "start_time": "2022-04-27T20:43:37.713Z"
   },
   {
    "duration": 333,
    "start_time": "2022-04-27T20:43:48.821Z"
   },
   {
    "duration": 310,
    "start_time": "2022-04-27T20:43:59.614Z"
   },
   {
    "duration": 324,
    "start_time": "2022-04-27T20:44:14.155Z"
   },
   {
    "duration": 303,
    "start_time": "2022-04-27T20:45:48.955Z"
   },
   {
    "duration": 602,
    "start_time": "2022-04-27T20:51:28.592Z"
   },
   {
    "duration": 10786,
    "start_time": "2022-04-27T20:54:46.919Z"
   },
   {
    "duration": 5,
    "start_time": "2022-04-27T20:55:22.495Z"
   },
   {
    "duration": 320,
    "start_time": "2022-04-27T20:55:25.592Z"
   },
   {
    "duration": 282,
    "start_time": "2022-04-27T20:55:32.331Z"
   },
   {
    "duration": 7630,
    "start_time": "2022-04-27T20:56:06.571Z"
   },
   {
    "duration": 348,
    "start_time": "2022-04-27T20:56:14.203Z"
   },
   {
    "duration": 9454,
    "start_time": "2022-04-27T20:56:14.553Z"
   },
   {
    "duration": 7,
    "start_time": "2022-04-27T20:56:24.009Z"
   }
  ],
  "kernelspec": {
   "display_name": "Python 3 (ipykernel)",
   "language": "python",
   "name": "python3"
  },
  "language_info": {
   "codemirror_mode": {
    "name": "ipython",
    "version": 3
   },
   "file_extension": ".py",
   "mimetype": "text/x-python",
   "name": "python",
   "nbconvert_exporter": "python",
   "pygments_lexer": "ipython3",
   "version": "3.9.7"
  },
  "toc": {
   "base_numbering": 1,
   "nav_menu": {},
   "number_sections": true,
   "sideBar": true,
   "skip_h1_title": true,
   "title_cell": "Содержание",
   "title_sidebar": "Contents",
   "toc_cell": true,
   "toc_position": {
    "height": "calc(100% - 180px)",
    "left": "10px",
    "top": "150px",
    "width": "287.391px"
   },
   "toc_section_display": true,
   "toc_window_display": true
  }
 },
 "nbformat": 4,
 "nbformat_minor": 2
}
