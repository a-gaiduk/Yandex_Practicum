{
 "cells": [
  {
   "cell_type": "markdown",
   "metadata": {
    "toc": true
   },
   "source": [
    "<h1>Содержание<span class=\"tocSkip\"></span></h1>\n",
    "<div class=\"toc\"><ul class=\"toc-item\"><li><span><a href=\"#Загрузка-данных\" data-toc-modified-id=\"Загрузка-данных-1\"><span class=\"toc-item-num\">1&nbsp;&nbsp;</span>Загрузка данных</a></span></li><li><span><a href=\"#Умножение-матриц\" data-toc-modified-id=\"Умножение-матриц-2\"><span class=\"toc-item-num\">2&nbsp;&nbsp;</span>Умножение матриц</a></span></li><li><span><a href=\"#Алгоритм-преобразования\" data-toc-modified-id=\"Алгоритм-преобразования-3\"><span class=\"toc-item-num\">3&nbsp;&nbsp;</span>Алгоритм преобразования</a></span></li><li><span><a href=\"#Проверка-алгоритма\" data-toc-modified-id=\"Проверка-алгоритма-4\"><span class=\"toc-item-num\">4&nbsp;&nbsp;</span>Проверка алгоритма</a></span><ul class=\"toc-item\"><li><span><a href=\"#Делим-на-train-test\" data-toc-modified-id=\"Делим-на-train-test-4.1\"><span class=\"toc-item-num\">4.1&nbsp;&nbsp;</span>Делим на train-test</a></span></li><li><span><a href=\"#Модель-на-исходный-данных\" data-toc-modified-id=\"Модель-на-исходный-данных-4.2\"><span class=\"toc-item-num\">4.2&nbsp;&nbsp;</span>Модель на исходный данных</a></span></li><li><span><a href=\"#Модель-на-преобразованных-данных\" data-toc-modified-id=\"Модель-на-преобразованных-данных-4.3\"><span class=\"toc-item-num\">4.3&nbsp;&nbsp;</span>Модель на преобразованных данных</a></span></li></ul></li><li><span><a href=\"#Вывод\" data-toc-modified-id=\"Вывод-5\"><span class=\"toc-item-num\">5&nbsp;&nbsp;</span>Вывод</a></span></li></ul></div>"
   ]
  },
  {
   "cell_type": "markdown",
   "metadata": {},
   "source": [
    "# Защита персональных данных клиентов"
   ]
  },
  {
   "cell_type": "markdown",
   "metadata": {},
   "source": [
    "Нужно защитить данные клиентов страховой компании «Хоть потоп». Разрабатываем такой метод преобразования данных, чтобы по ним было сложно восстановить персональную информацию. \n",
    "\n",
    "Нужно защитить данные, чтобы при преобразовании качество моделей машинного обучения не ухудшилось."
   ]
  },
  {
   "cell_type": "code",
   "execution_count": 1,
   "metadata": {},
   "outputs": [],
   "source": [
    "import pandas as pd\n",
    "import numpy as np\n",
    "\n",
    "from sklearn.linear_model import LinearRegression\n",
    "from sklearn.model_selection import train_test_split\n",
    "from sklearn.metrics import r2_score"
   ]
  },
  {
   "cell_type": "markdown",
   "metadata": {},
   "source": [
    "## Загрузка данных"
   ]
  },
  {
   "cell_type": "code",
   "execution_count": 2,
   "metadata": {},
   "outputs": [],
   "source": [
    "insurance_df = pd.read_csv('/datasets/insurance.csv')"
   ]
  },
  {
   "cell_type": "code",
   "execution_count": 3,
   "metadata": {},
   "outputs": [
    {
     "name": "stdout",
     "output_type": "stream",
     "text": [
      "<class 'pandas.core.frame.DataFrame'>\n",
      "RangeIndex: 5000 entries, 0 to 4999\n",
      "Data columns (total 5 columns):\n",
      " #   Column             Non-Null Count  Dtype  \n",
      "---  ------             --------------  -----  \n",
      " 0   Пол                5000 non-null   int64  \n",
      " 1   Возраст            5000 non-null   float64\n",
      " 2   Зарплата           5000 non-null   float64\n",
      " 3   Члены семьи        5000 non-null   int64  \n",
      " 4   Страховые выплаты  5000 non-null   int64  \n",
      "dtypes: float64(2), int64(3)\n",
      "memory usage: 195.4 KB\n"
     ]
    }
   ],
   "source": [
    "insurance_df.info()"
   ]
  },
  {
   "cell_type": "code",
   "execution_count": 4,
   "metadata": {},
   "outputs": [
    {
     "data": {
      "text/html": [
       "<div>\n",
       "<style scoped>\n",
       "    .dataframe tbody tr th:only-of-type {\n",
       "        vertical-align: middle;\n",
       "    }\n",
       "\n",
       "    .dataframe tbody tr th {\n",
       "        vertical-align: top;\n",
       "    }\n",
       "\n",
       "    .dataframe thead th {\n",
       "        text-align: right;\n",
       "    }\n",
       "</style>\n",
       "<table border=\"1\" class=\"dataframe\">\n",
       "  <thead>\n",
       "    <tr style=\"text-align: right;\">\n",
       "      <th></th>\n",
       "      <th>Пол</th>\n",
       "      <th>Возраст</th>\n",
       "      <th>Зарплата</th>\n",
       "      <th>Члены семьи</th>\n",
       "      <th>Страховые выплаты</th>\n",
       "    </tr>\n",
       "  </thead>\n",
       "  <tbody>\n",
       "    <tr>\n",
       "      <th>0</th>\n",
       "      <td>1</td>\n",
       "      <td>41.0</td>\n",
       "      <td>49600.0</td>\n",
       "      <td>1</td>\n",
       "      <td>0</td>\n",
       "    </tr>\n",
       "    <tr>\n",
       "      <th>1</th>\n",
       "      <td>0</td>\n",
       "      <td>46.0</td>\n",
       "      <td>38000.0</td>\n",
       "      <td>1</td>\n",
       "      <td>1</td>\n",
       "    </tr>\n",
       "    <tr>\n",
       "      <th>2</th>\n",
       "      <td>0</td>\n",
       "      <td>29.0</td>\n",
       "      <td>21000.0</td>\n",
       "      <td>0</td>\n",
       "      <td>0</td>\n",
       "    </tr>\n",
       "  </tbody>\n",
       "</table>\n",
       "</div>"
      ],
      "text/plain": [
       "   Пол  Возраст  Зарплата  Члены семьи  Страховые выплаты\n",
       "0    1     41.0   49600.0            1                  0\n",
       "1    0     46.0   38000.0            1                  1\n",
       "2    0     29.0   21000.0            0                  0"
      ]
     },
     "execution_count": 4,
     "metadata": {},
     "output_type": "execute_result"
    }
   ],
   "source": [
    "insurance_df.head(3)"
   ]
  },
  {
   "cell_type": "code",
   "execution_count": 5,
   "metadata": {},
   "outputs": [
    {
     "data": {
      "text/html": [
       "<div>\n",
       "<style scoped>\n",
       "    .dataframe tbody tr th:only-of-type {\n",
       "        vertical-align: middle;\n",
       "    }\n",
       "\n",
       "    .dataframe tbody tr th {\n",
       "        vertical-align: top;\n",
       "    }\n",
       "\n",
       "    .dataframe thead th {\n",
       "        text-align: right;\n",
       "    }\n",
       "</style>\n",
       "<table border=\"1\" class=\"dataframe\">\n",
       "  <thead>\n",
       "    <tr style=\"text-align: right;\">\n",
       "      <th></th>\n",
       "      <th>Пол</th>\n",
       "      <th>Возраст</th>\n",
       "      <th>Зарплата</th>\n",
       "      <th>Члены семьи</th>\n",
       "      <th>Страховые выплаты</th>\n",
       "    </tr>\n",
       "  </thead>\n",
       "  <tbody>\n",
       "    <tr>\n",
       "      <th>count</th>\n",
       "      <td>5000.000000</td>\n",
       "      <td>5000.000000</td>\n",
       "      <td>5000.000000</td>\n",
       "      <td>5000.000000</td>\n",
       "      <td>5000.000000</td>\n",
       "    </tr>\n",
       "    <tr>\n",
       "      <th>mean</th>\n",
       "      <td>0.499000</td>\n",
       "      <td>30.952800</td>\n",
       "      <td>39916.360000</td>\n",
       "      <td>1.194200</td>\n",
       "      <td>0.148000</td>\n",
       "    </tr>\n",
       "    <tr>\n",
       "      <th>std</th>\n",
       "      <td>0.500049</td>\n",
       "      <td>8.440807</td>\n",
       "      <td>9900.083569</td>\n",
       "      <td>1.091387</td>\n",
       "      <td>0.463183</td>\n",
       "    </tr>\n",
       "    <tr>\n",
       "      <th>min</th>\n",
       "      <td>0.000000</td>\n",
       "      <td>18.000000</td>\n",
       "      <td>5300.000000</td>\n",
       "      <td>0.000000</td>\n",
       "      <td>0.000000</td>\n",
       "    </tr>\n",
       "    <tr>\n",
       "      <th>25%</th>\n",
       "      <td>0.000000</td>\n",
       "      <td>24.000000</td>\n",
       "      <td>33300.000000</td>\n",
       "      <td>0.000000</td>\n",
       "      <td>0.000000</td>\n",
       "    </tr>\n",
       "    <tr>\n",
       "      <th>50%</th>\n",
       "      <td>0.000000</td>\n",
       "      <td>30.000000</td>\n",
       "      <td>40200.000000</td>\n",
       "      <td>1.000000</td>\n",
       "      <td>0.000000</td>\n",
       "    </tr>\n",
       "    <tr>\n",
       "      <th>75%</th>\n",
       "      <td>1.000000</td>\n",
       "      <td>37.000000</td>\n",
       "      <td>46600.000000</td>\n",
       "      <td>2.000000</td>\n",
       "      <td>0.000000</td>\n",
       "    </tr>\n",
       "    <tr>\n",
       "      <th>max</th>\n",
       "      <td>1.000000</td>\n",
       "      <td>65.000000</td>\n",
       "      <td>79000.000000</td>\n",
       "      <td>6.000000</td>\n",
       "      <td>5.000000</td>\n",
       "    </tr>\n",
       "  </tbody>\n",
       "</table>\n",
       "</div>"
      ],
      "text/plain": [
       "               Пол      Возраст      Зарплата  Члены семьи  Страховые выплаты\n",
       "count  5000.000000  5000.000000   5000.000000  5000.000000        5000.000000\n",
       "mean      0.499000    30.952800  39916.360000     1.194200           0.148000\n",
       "std       0.500049     8.440807   9900.083569     1.091387           0.463183\n",
       "min       0.000000    18.000000   5300.000000     0.000000           0.000000\n",
       "25%       0.000000    24.000000  33300.000000     0.000000           0.000000\n",
       "50%       0.000000    30.000000  40200.000000     1.000000           0.000000\n",
       "75%       1.000000    37.000000  46600.000000     2.000000           0.000000\n",
       "max       1.000000    65.000000  79000.000000     6.000000           5.000000"
      ]
     },
     "execution_count": 5,
     "metadata": {},
     "output_type": "execute_result"
    }
   ],
   "source": [
    "insurance_df.describe()"
   ]
  },
  {
   "cell_type": "code",
   "execution_count": null,
   "metadata": {},
   "outputs": [],
   "source": []
  },
  {
   "cell_type": "code",
   "execution_count": null,
   "metadata": {},
   "outputs": [],
   "source": []
  },
  {
   "cell_type": "markdown",
   "metadata": {},
   "source": [
    "## Умножение матриц"
   ]
  },
  {
   "cell_type": "markdown",
   "metadata": {},
   "source": [
    "В этом задании вы можете записывать формулы в *Jupyter Notebook.*\n",
    "\n",
    "Чтобы записать формулу внутри текста, окружите её символами доллара \\\\$; если снаружи —  двойными символами \\\\$\\\\$. Эти формулы записываются на языке вёрстки *LaTeX.* \n",
    "\n",
    "Для примера мы записали формулы линейной регрессии. Можете их скопировать и отредактировать, чтобы решить задачу.\n",
    "\n",
    "Работать в *LaTeX* необязательно."
   ]
  },
  {
   "cell_type": "markdown",
   "metadata": {},
   "source": [
    "Обозначения:\n",
    "\n",
    "- $X$ — матрица признаков (нулевой столбец состоит из единиц)\n",
    "\n",
    "- $y$ — вектор целевого признака\n",
    "\n",
    "- $P$ — матрица, на которую умножаются признаки\n",
    "\n",
    "- $w$ — вектор весов линейной регрессии (нулевой элемент равен сдвигу)"
   ]
  },
  {
   "cell_type": "markdown",
   "metadata": {},
   "source": [
    "Предсказания:\n",
    "\n",
    "$$\n",
    "a = Xw\n",
    "$$\n",
    "\n",
    "Задача обучения:\n",
    "\n",
    "$$\n",
    "w = \\arg\\min_w MSE(Xw, y)\n",
    "$$\n",
    "\n",
    "Формула обучения:\n",
    "\n",
    "$$\n",
    "w = (X^T X)^{-1} X^T y\n",
    "$$"
   ]
  },
  {
   "cell_type": "markdown",
   "metadata": {},
   "source": [
    "**Вопрос:** Признаки умножают на обратимую матрицу. Изменится ли качество линейной регрессии? (Её можно обучить заново.)\n",
    "\n",
    "**Ответ:** Не изменится\n",
    "\n",
    "<span style=\"color: white\">. </span>\n",
    "\n",
    "**Обоснование:** \n",
    "\n",
    "- $M = XP$ — новая матрица признаков, полученная путем умножения X на P\n",
    "- $a_n$ — новые предсказания\n",
    "\n",
    "<span style=\"color: white\">. </span>\n",
    "\n",
    "Для преобразований нам понадобятся несколько свойств матриц:\n",
    "- $(AB)^{-1} = B^{-1} A^{-1}$\n",
    "- $(AB)^T = B^T A^T$\n",
    "- $A^T (A^T)^{-1} = E$\n",
    "\n",
    "<span style=\"color: white\">. </span>\n",
    "\n",
    "Преобразования:\n",
    "\n",
    "$a = Xw; M=XP$\n",
    "    \n",
    "$\n",
    "a_n =\n",
    "$\n",
    "\n",
    "$\n",
    "= M (M^T M)^{-1} M^T y = ~~\n",
    "$\n",
    "\n",
    "$\n",
    "= XP ((XP)^T (XP))^{-1} (XP)^T y = \n",
    "$\n",
    "\n",
    "$\n",
    "= XP (P^T X^T XP)^{-1} P^T X^T y = \n",
    "$\n",
    "\n",
    "$\n",
    "= XP (X^T XP)^{-1} (P^T)^{-1} P^T X^T y = \n",
    "$\n",
    "\n",
    "$\n",
    "= XP P^{-1} (X^T X)^{-1} E X^T y = \n",
    "$\n",
    "\n",
    "$\n",
    "= X (X^T X)^{-1} X^T y = \n",
    "$\n",
    "\n",
    "$\n",
    "= Xw = a\n",
    "$\n",
    "\n",
    "    \n",
    "\n",
    "\n",
    "\n",
    "\n",
    "<span style=\"color: white\">. </span>\n",
    "\n",
    "Видим, что $a_n = a$. Предсказания не изменились\n",
    "\n",
    "$\n",
    "= Xw = a\n",
    "$\n"
   ]
  },
  {
   "cell_type": "markdown",
   "metadata": {},
   "source": [
    "$a' = XP(P^T X^T XP)^{-1}  P^T X^T y $, Пусть $A = P^T$, $B = X^T X$, $C = P$. Тогда мы получим: $a' = X P P^{-1} (X^T X)^{-1} (P^T)^{-1} P^T X^T y$"
   ]
  },
  {
   "cell_type": "markdown",
   "metadata": {},
   "source": [
    "## Алгоритм преобразования"
   ]
  },
  {
   "cell_type": "markdown",
   "metadata": {},
   "source": [
    "**Алгоритм**\n",
    "- генерация случайной матрицы\n",
    "- проверка сгенерированной матрицы на обратимость\n",
    "- получение новой матрицы признаков путем умножения исходной матрицы признаков на сгенерированную\n",
    "- обучение и тестирование модели на новой матрице признаков"
   ]
  },
  {
   "cell_type": "markdown",
   "metadata": {},
   "source": [
    "**Обоснование**\n",
    "\n",
    "Умножение исходной матрицы признаков на случайную обратимую матрицу позволит защитить данные страховой компании"
   ]
  },
  {
   "cell_type": "code",
   "execution_count": null,
   "metadata": {},
   "outputs": [],
   "source": []
  },
  {
   "cell_type": "markdown",
   "metadata": {},
   "source": [
    "## Проверка алгоритма"
   ]
  },
  {
   "cell_type": "markdown",
   "metadata": {},
   "source": [
    "### Делим на train-test"
   ]
  },
  {
   "cell_type": "code",
   "execution_count": 6,
   "metadata": {},
   "outputs": [],
   "source": [
    "features = insurance_df.drop(['Страховые выплаты'], axis=1)\n",
    "target   = insurance_df['Страховые выплаты']"
   ]
  },
  {
   "cell_type": "code",
   "execution_count": 7,
   "metadata": {},
   "outputs": [],
   "source": [
    "features_train, features_test, target_train, target_test = train_test_split(\n",
    "    features, target, test_size=0.25, random_state=123)"
   ]
  },
  {
   "cell_type": "code",
   "execution_count": null,
   "metadata": {},
   "outputs": [],
   "source": []
  },
  {
   "cell_type": "markdown",
   "metadata": {},
   "source": [
    "### Модель на исходный данных"
   ]
  },
  {
   "cell_type": "code",
   "execution_count": 8,
   "metadata": {},
   "outputs": [
    {
     "name": "stdout",
     "output_type": "stream",
     "text": [
      "0.43018469990933306\n"
     ]
    }
   ],
   "source": [
    "model = LinearRegression()\n",
    "model.fit(features_train, target_train)\n",
    "predict_orig = model.predict(features_test)\n",
    "score_orig = r2_score(target_test, predict_orig)\n",
    "print(score_orig)"
   ]
  },
  {
   "cell_type": "code",
   "execution_count": null,
   "metadata": {},
   "outputs": [],
   "source": []
  },
  {
   "cell_type": "markdown",
   "metadata": {},
   "source": [
    "### Модель на преобразованных данных"
   ]
  },
  {
   "cell_type": "code",
   "execution_count": 9,
   "metadata": {},
   "outputs": [
    {
     "data": {
      "text/plain": [
       "(3750, 4)"
      ]
     },
     "execution_count": 9,
     "metadata": {},
     "output_type": "execute_result"
    }
   ],
   "source": [
    "features_train.shape"
   ]
  },
  {
   "cell_type": "code",
   "execution_count": null,
   "metadata": {},
   "outputs": [],
   "source": []
  },
  {
   "cell_type": "markdown",
   "metadata": {},
   "source": [
    "<div style=\"border:solid gray 2.0px; padding: 10px\"> \n",
    "    \n",
    "Сгенерируем случайную матрицу и проверим ее на обратимость\n",
    "\n",
    "<div>"
   ]
  },
  {
   "cell_type": "code",
   "execution_count": 10,
   "metadata": {},
   "outputs": [
    {
     "name": "stdout",
     "output_type": "stream",
     "text": [
      "[[ 0.79058454  0.982222    0.48370816  0.16115818]\n",
      " [-1.63305592 -1.64286113 -1.46535984 -0.03019158]\n",
      " [ 1.55557552  0.77150317  0.39576258 -0.35660662]\n",
      " [ 0.27616132  1.25590901 -1.69365889 -0.05922331]]\n"
     ]
    }
   ],
   "source": [
    "P = [[np.random.normal() for i in range(4)]    for j in range(4)]\n",
    "P = np.array(P)\n",
    "print(P)"
   ]
  },
  {
   "cell_type": "code",
   "execution_count": 11,
   "metadata": {},
   "outputs": [
    {
     "data": {
      "text/plain": [
       "array([[ 3.03500859,  1.99636364,  1.29520426, -0.55780966],\n",
       "       [-2.02405152, -1.7060546 , -0.88506262,  0.69120116],\n",
       "       [-1.26669588, -1.07337672, -0.45982138, -0.13096385],\n",
       "       [ 7.45446636,  3.82624843,  0.42057359, -1.08321534]])"
      ]
     },
     "execution_count": 11,
     "metadata": {},
     "output_type": "execute_result"
    }
   ],
   "source": [
    "np.linalg.inv(P)"
   ]
  },
  {
   "cell_type": "code",
   "execution_count": null,
   "metadata": {},
   "outputs": [],
   "source": []
  },
  {
   "cell_type": "markdown",
   "metadata": {},
   "source": [
    "<div style=\"border:solid gray 2.0px; padding: 10px\"> \n",
    "    \n",
    "Преобразуем данные и проверим качество модели\n",
    "\n",
    "<div>"
   ]
  },
  {
   "cell_type": "code",
   "execution_count": 12,
   "metadata": {},
   "outputs": [],
   "source": [
    "features_train_rec = np.dot(features_train, P)\n",
    "features_test_rec = np.dot(features_test, P)"
   ]
  },
  {
   "cell_type": "code",
   "execution_count": 13,
   "metadata": {},
   "outputs": [
    {
     "name": "stdout",
     "output_type": "stream",
     "text": [
      "0.4301846999101382\n"
     ]
    }
   ],
   "source": [
    "model = LinearRegression()\n",
    "model.fit(features_train_rec, target_train)\n",
    "predict_rec = model.predict(features_test_rec)\n",
    "score_rec = r2_score(target_test, predict_rec)\n",
    "print(score_rec)"
   ]
  },
  {
   "cell_type": "code",
   "execution_count": null,
   "metadata": {},
   "outputs": [],
   "source": []
  },
  {
   "cell_type": "code",
   "execution_count": 14,
   "metadata": {},
   "outputs": [
    {
     "name": "stdout",
     "output_type": "stream",
     "text": [
      "1.5373924355799318e-11 3.1941116418465754e-12\n"
     ]
    }
   ],
   "source": [
    "print(max(predict_orig - predict_rec),min(predict_orig - predict_rec))"
   ]
  },
  {
   "cell_type": "markdown",
   "metadata": {},
   "source": [
    "<div style=\"border:solid gray 2.0px; padding: 10px\"> \n",
    "   \n",
    "Видим, что до и после преобразований:\n",
    "- качество модели идентичное\n",
    "- пресказания совпадают\n",
    "\n",
    "<div>"
   ]
  },
  {
   "cell_type": "code",
   "execution_count": null,
   "metadata": {},
   "outputs": [],
   "source": []
  },
  {
   "cell_type": "markdown",
   "metadata": {},
   "source": [
    "## Вывод"
   ]
  },
  {
   "cell_type": "markdown",
   "metadata": {},
   "source": [
    "<div style=\"border:solid gray 2.0px; padding: 10px\"> \n",
    "    \n",
    "**Вывод:**\n",
    "\n",
    "Мы выяснили, что умножение признаков на обратимую матрицу не влияет на качетво модели линейной регрессии.\n",
    "    \n",
    "Таким образом, умножив матрицу признаков на случайную обратимую матрицу, мы защитим данные клиентов, не потеряв в качетве модели.\n",
    "    \n",
    "    \n",
    "    \n",
    "<div>"
   ]
  },
  {
   "cell_type": "code",
   "execution_count": null,
   "metadata": {},
   "outputs": [],
   "source": []
  }
 ],
 "metadata": {
  "ExecuteTimeLog": [
   {
    "duration": 472,
    "start_time": "2022-03-30T08:40:05.501Z"
   },
   {
    "duration": 28,
    "start_time": "2022-03-30T08:40:51.022Z"
   },
   {
    "duration": 17,
    "start_time": "2022-03-30T08:40:59.782Z"
   },
   {
    "duration": 13,
    "start_time": "2022-03-30T08:41:11.562Z"
   },
   {
    "duration": 22,
    "start_time": "2022-03-30T08:42:14.342Z"
   },
   {
    "duration": 579,
    "start_time": "2022-04-01T11:36:17.699Z"
   },
   {
    "duration": 65,
    "start_time": "2022-04-01T11:36:21.080Z"
   },
   {
    "duration": 9,
    "start_time": "2022-04-01T11:36:30.697Z"
   },
   {
    "duration": 1708,
    "start_time": "2022-04-01T11:36:35.592Z"
   },
   {
    "duration": 30,
    "start_time": "2022-04-01T11:36:37.303Z"
   },
   {
    "duration": 15,
    "start_time": "2022-04-01T11:36:37.335Z"
   },
   {
    "duration": 23,
    "start_time": "2022-04-01T11:36:37.353Z"
   },
   {
    "duration": 66,
    "start_time": "2022-04-01T11:36:37.378Z"
   },
   {
    "duration": 5,
    "start_time": "2022-04-01T11:36:43.121Z"
   },
   {
    "duration": 100,
    "start_time": "2022-04-01T11:36:44.323Z"
   },
   {
    "duration": 4,
    "start_time": "2022-04-01T11:37:03.961Z"
   },
   {
    "duration": 6,
    "start_time": "2022-04-01T11:37:13.165Z"
   },
   {
    "duration": 10,
    "start_time": "2022-04-01T11:37:13.174Z"
   },
   {
    "duration": 18,
    "start_time": "2022-04-01T11:37:25.008Z"
   },
   {
    "duration": 4,
    "start_time": "2022-04-01T11:38:05.809Z"
   },
   {
    "duration": 24,
    "start_time": "2022-04-01T11:40:23.434Z"
   },
   {
    "duration": 11,
    "start_time": "2022-04-01T11:40:42.433Z"
   },
   {
    "duration": 12,
    "start_time": "2022-04-01T11:40:55.345Z"
   },
   {
    "duration": 6,
    "start_time": "2022-04-01T11:41:00.361Z"
   },
   {
    "duration": 11,
    "start_time": "2022-04-01T11:44:46.858Z"
   },
   {
    "duration": 6,
    "start_time": "2022-04-01T11:44:52.594Z"
   },
   {
    "duration": 6,
    "start_time": "2022-04-01T11:45:06.970Z"
   },
   {
    "duration": 12,
    "start_time": "2022-04-01T11:50:41.876Z"
   },
   {
    "duration": 6,
    "start_time": "2022-04-01T11:50:49.123Z"
   },
   {
    "duration": 4,
    "start_time": "2022-04-01T11:51:44.173Z"
   },
   {
    "duration": 11,
    "start_time": "2022-04-01T11:52:03.204Z"
   },
   {
    "duration": 5,
    "start_time": "2022-04-01T11:52:19.604Z"
   },
   {
    "duration": 8,
    "start_time": "2022-04-01T11:52:20.372Z"
   },
   {
    "duration": 11,
    "start_time": "2022-04-01T11:54:14.136Z"
   },
   {
    "duration": 8,
    "start_time": "2022-04-01T11:54:19.972Z"
   },
   {
    "duration": 13,
    "start_time": "2022-04-01T12:13:41.434Z"
   },
   {
    "duration": 15,
    "start_time": "2022-04-01T12:14:01.674Z"
   },
   {
    "duration": 8,
    "start_time": "2022-04-01T12:14:08.113Z"
   },
   {
    "duration": 6,
    "start_time": "2022-04-01T12:14:22.721Z"
   },
   {
    "duration": 6,
    "start_time": "2022-04-01T12:14:49.033Z"
   },
   {
    "duration": 5,
    "start_time": "2022-04-01T12:14:58.869Z"
   },
   {
    "duration": 6,
    "start_time": "2022-04-01T12:15:02.850Z"
   },
   {
    "duration": 5,
    "start_time": "2022-04-01T12:37:23.033Z"
   },
   {
    "duration": 1619,
    "start_time": "2022-04-01T13:03:15.119Z"
   },
   {
    "duration": 20,
    "start_time": "2022-04-01T13:03:16.740Z"
   },
   {
    "duration": 16,
    "start_time": "2022-04-01T13:03:16.763Z"
   },
   {
    "duration": 22,
    "start_time": "2022-04-01T13:03:16.950Z"
   },
   {
    "duration": 34,
    "start_time": "2022-04-01T13:03:17.519Z"
   },
   {
    "duration": 1575,
    "start_time": "2022-04-01T13:11:12.328Z"
   },
   {
    "duration": 20,
    "start_time": "2022-04-01T13:11:13.906Z"
   },
   {
    "duration": 20,
    "start_time": "2022-04-01T13:11:13.927Z"
   },
   {
    "duration": 22,
    "start_time": "2022-04-01T13:11:13.950Z"
   },
   {
    "duration": 31,
    "start_time": "2022-04-01T13:11:13.974Z"
   },
   {
    "duration": 5,
    "start_time": "2022-04-01T13:11:15.752Z"
   },
   {
    "duration": 7,
    "start_time": "2022-04-01T13:11:15.936Z"
   },
   {
    "duration": 147,
    "start_time": "2022-04-01T13:11:16.512Z"
   },
   {
    "duration": 5,
    "start_time": "2022-04-01T13:11:17.064Z"
   },
   {
    "duration": 6,
    "start_time": "2022-04-01T13:11:17.609Z"
   },
   {
    "duration": 7,
    "start_time": "2022-04-01T13:11:17.800Z"
   },
   {
    "duration": 5,
    "start_time": "2022-04-01T13:11:18.368Z"
   },
   {
    "duration": 14,
    "start_time": "2022-04-01T13:11:18.567Z"
   },
   {
    "duration": 5,
    "start_time": "2022-04-01T13:11:18.943Z"
   },
   {
    "duration": 9,
    "start_time": "2022-04-01T13:11:29.456Z"
   },
   {
    "duration": 5,
    "start_time": "2022-04-01T13:11:32.312Z"
   },
   {
    "duration": 1691,
    "start_time": "2022-04-01T13:11:55.844Z"
   },
   {
    "duration": 21,
    "start_time": "2022-04-01T13:11:57.538Z"
   },
   {
    "duration": 18,
    "start_time": "2022-04-01T13:11:57.562Z"
   },
   {
    "duration": 52,
    "start_time": "2022-04-01T13:11:57.584Z"
   },
   {
    "duration": 32,
    "start_time": "2022-04-01T13:11:57.642Z"
   },
   {
    "duration": 6,
    "start_time": "2022-04-01T13:11:59.964Z"
   },
   {
    "duration": 8,
    "start_time": "2022-04-01T13:12:00.324Z"
   },
   {
    "duration": 14,
    "start_time": "2022-04-01T13:12:01.236Z"
   },
   {
    "duration": 6,
    "start_time": "2022-04-01T13:12:03.300Z"
   },
   {
    "duration": 5,
    "start_time": "2022-04-01T13:12:04.485Z"
   },
   {
    "duration": 8,
    "start_time": "2022-04-01T13:12:04.916Z"
   },
   {
    "duration": 5,
    "start_time": "2022-04-01T13:12:05.852Z"
   },
   {
    "duration": 8,
    "start_time": "2022-04-01T13:12:06.236Z"
   },
   {
    "duration": 5,
    "start_time": "2022-04-01T13:12:08.829Z"
   },
   {
    "duration": 118,
    "start_time": "2022-04-03T10:55:03.693Z"
   },
   {
    "duration": 167,
    "start_time": "2022-04-03T12:34:47.298Z"
   }
  ],
  "kernelspec": {
   "display_name": "Python 3 (ipykernel)",
   "language": "python",
   "name": "python3"
  },
  "language_info": {
   "codemirror_mode": {
    "name": "ipython",
    "version": 3
   },
   "file_extension": ".py",
   "mimetype": "text/x-python",
   "name": "python",
   "nbconvert_exporter": "python",
   "pygments_lexer": "ipython3",
   "version": "3.9.7"
  },
  "toc": {
   "base_numbering": 1,
   "nav_menu": {},
   "number_sections": true,
   "sideBar": true,
   "skip_h1_title": true,
   "title_cell": "Содержание",
   "title_sidebar": "Contents",
   "toc_cell": true,
   "toc_position": {},
   "toc_section_display": true,
   "toc_window_display": true
  }
 },
 "nbformat": 4,
 "nbformat_minor": 2
}
