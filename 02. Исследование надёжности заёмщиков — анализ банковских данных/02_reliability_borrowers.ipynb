{
 "cells": [
  {
   "cell_type": "markdown",
   "metadata": {},
   "source": [
    "# Исследование надёжности заёмщиков\n",
    "\n",
    "Заказчик — кредитный отдел банка. Нужно разобраться, влияет ли семейное положение и количество детей клиента на факт погашения кредита в срок. Входные данные от банка — статистика о платёжеспособности клиентов.\n",
    "\n",
    "Результаты исследования будут учтены при построении модели **кредитного скоринга** — специальной системы, которая оценивает способность потенциального заёмщика вернуть кредит банку."
   ]
  },
  {
   "cell_type": "markdown",
   "metadata": {},
   "source": [
    "## Общая информация"
   ]
  },
  {
   "cell_type": "code",
   "execution_count": 2,
   "metadata": {},
   "outputs": [],
   "source": [
    "import pandas as pd\n",
    "data = pd.read_csv('/datasets/data.csv')"
   ]
  },
  {
   "cell_type": "code",
   "execution_count": 3,
   "metadata": {},
   "outputs": [
    {
     "name": "stdout",
     "output_type": "stream",
     "text": [
      "<class 'pandas.core.frame.DataFrame'>\n",
      "RangeIndex: 21525 entries, 0 to 21524\n",
      "Data columns (total 12 columns):\n",
      "children            21525 non-null int64\n",
      "days_employed       19351 non-null float64\n",
      "dob_years           21525 non-null int64\n",
      "education           21525 non-null object\n",
      "education_id        21525 non-null int64\n",
      "family_status       21525 non-null object\n",
      "family_status_id    21525 non-null int64\n",
      "gender              21525 non-null object\n",
      "income_type         21525 non-null object\n",
      "debt                21525 non-null int64\n",
      "total_income        19351 non-null float64\n",
      "purpose             21525 non-null object\n",
      "dtypes: float64(2), int64(5), object(5)\n",
      "memory usage: 2.0+ MB\n"
     ]
    }
   ],
   "source": [
    "data.info()"
   ]
  },
  {
   "cell_type": "code",
   "execution_count": 4,
   "metadata": {},
   "outputs": [
    {
     "data": {
      "text/html": [
       "<div>\n",
       "<style scoped>\n",
       "    .dataframe tbody tr th:only-of-type {\n",
       "        vertical-align: middle;\n",
       "    }\n",
       "\n",
       "    .dataframe tbody tr th {\n",
       "        vertical-align: top;\n",
       "    }\n",
       "\n",
       "    .dataframe thead th {\n",
       "        text-align: right;\n",
       "    }\n",
       "</style>\n",
       "<table border=\"1\" class=\"dataframe\">\n",
       "  <thead>\n",
       "    <tr style=\"text-align: right;\">\n",
       "      <th></th>\n",
       "      <th>children</th>\n",
       "      <th>days_employed</th>\n",
       "      <th>dob_years</th>\n",
       "      <th>education</th>\n",
       "      <th>education_id</th>\n",
       "      <th>family_status</th>\n",
       "      <th>family_status_id</th>\n",
       "      <th>gender</th>\n",
       "      <th>income_type</th>\n",
       "      <th>debt</th>\n",
       "      <th>total_income</th>\n",
       "      <th>purpose</th>\n",
       "    </tr>\n",
       "  </thead>\n",
       "  <tbody>\n",
       "    <tr>\n",
       "      <td>0</td>\n",
       "      <td>1</td>\n",
       "      <td>-8437.673028</td>\n",
       "      <td>42</td>\n",
       "      <td>высшее</td>\n",
       "      <td>0</td>\n",
       "      <td>женат / замужем</td>\n",
       "      <td>0</td>\n",
       "      <td>F</td>\n",
       "      <td>сотрудник</td>\n",
       "      <td>0</td>\n",
       "      <td>253875.639453</td>\n",
       "      <td>покупка жилья</td>\n",
       "    </tr>\n",
       "    <tr>\n",
       "      <td>1</td>\n",
       "      <td>1</td>\n",
       "      <td>-4024.803754</td>\n",
       "      <td>36</td>\n",
       "      <td>среднее</td>\n",
       "      <td>1</td>\n",
       "      <td>женат / замужем</td>\n",
       "      <td>0</td>\n",
       "      <td>F</td>\n",
       "      <td>сотрудник</td>\n",
       "      <td>0</td>\n",
       "      <td>112080.014102</td>\n",
       "      <td>приобретение автомобиля</td>\n",
       "    </tr>\n",
       "    <tr>\n",
       "      <td>2</td>\n",
       "      <td>0</td>\n",
       "      <td>-5623.422610</td>\n",
       "      <td>33</td>\n",
       "      <td>Среднее</td>\n",
       "      <td>1</td>\n",
       "      <td>женат / замужем</td>\n",
       "      <td>0</td>\n",
       "      <td>M</td>\n",
       "      <td>сотрудник</td>\n",
       "      <td>0</td>\n",
       "      <td>145885.952297</td>\n",
       "      <td>покупка жилья</td>\n",
       "    </tr>\n",
       "    <tr>\n",
       "      <td>3</td>\n",
       "      <td>3</td>\n",
       "      <td>-4124.747207</td>\n",
       "      <td>32</td>\n",
       "      <td>среднее</td>\n",
       "      <td>1</td>\n",
       "      <td>женат / замужем</td>\n",
       "      <td>0</td>\n",
       "      <td>M</td>\n",
       "      <td>сотрудник</td>\n",
       "      <td>0</td>\n",
       "      <td>267628.550329</td>\n",
       "      <td>дополнительное образование</td>\n",
       "    </tr>\n",
       "    <tr>\n",
       "      <td>4</td>\n",
       "      <td>0</td>\n",
       "      <td>340266.072047</td>\n",
       "      <td>53</td>\n",
       "      <td>среднее</td>\n",
       "      <td>1</td>\n",
       "      <td>гражданский брак</td>\n",
       "      <td>1</td>\n",
       "      <td>F</td>\n",
       "      <td>пенсионер</td>\n",
       "      <td>0</td>\n",
       "      <td>158616.077870</td>\n",
       "      <td>сыграть свадьбу</td>\n",
       "    </tr>\n",
       "  </tbody>\n",
       "</table>\n",
       "</div>"
      ],
      "text/plain": [
       "   children  days_employed  dob_years education  education_id  \\\n",
       "0         1   -8437.673028         42    высшее             0   \n",
       "1         1   -4024.803754         36   среднее             1   \n",
       "2         0   -5623.422610         33   Среднее             1   \n",
       "3         3   -4124.747207         32   среднее             1   \n",
       "4         0  340266.072047         53   среднее             1   \n",
       "\n",
       "      family_status  family_status_id gender income_type  debt   total_income  \\\n",
       "0   женат / замужем                 0      F   сотрудник     0  253875.639453   \n",
       "1   женат / замужем                 0      F   сотрудник     0  112080.014102   \n",
       "2   женат / замужем                 0      M   сотрудник     0  145885.952297   \n",
       "3   женат / замужем                 0      M   сотрудник     0  267628.550329   \n",
       "4  гражданский брак                 1      F   пенсионер     0  158616.077870   \n",
       "\n",
       "                      purpose  \n",
       "0               покупка жилья  \n",
       "1     приобретение автомобиля  \n",
       "2               покупка жилья  \n",
       "3  дополнительное образование  \n",
       "4             сыграть свадьбу  "
      ]
     },
     "execution_count": 4,
     "metadata": {},
     "output_type": "execute_result"
    }
   ],
   "source": [
    "data.head(5)"
   ]
  },
  {
   "cell_type": "markdown",
   "metadata": {},
   "source": [
    "**Вывод**"
   ]
  },
  {
   "cell_type": "markdown",
   "metadata": {},
   "source": [
    " - В датафрейме 21525 строк\n",
    " - В столбцах days_employed, total_income есть пропуски. Причем одинаковое количество в обоих столбцах\n",
    " - По первым пяти строчкам видно, что в столбце days_employed есть как положительные, так и отрицательные значения"
   ]
  },
  {
   "cell_type": "markdown",
   "metadata": {},
   "source": [
    "**Проверим пропуски (пока просто, до обработки). Сначала почистим данные, потом будем восстанавливать**"
   ]
  },
  {
   "cell_type": "code",
   "execution_count": 5,
   "metadata": {},
   "outputs": [],
   "source": [
    "data_len_raw = data.shape[0]"
   ]
  },
  {
   "cell_type": "code",
   "execution_count": 6,
   "metadata": {},
   "outputs": [
    {
     "data": {
      "text/plain": [
       "children               0\n",
       "days_employed       2174\n",
       "dob_years              0\n",
       "education              0\n",
       "education_id           0\n",
       "family_status          0\n",
       "family_status_id       0\n",
       "gender                 0\n",
       "income_type            0\n",
       "debt                   0\n",
       "total_income        2174\n",
       "purpose                0\n",
       "dtype: int64"
      ]
     },
     "execution_count": 6,
     "metadata": {},
     "output_type": "execute_result"
    }
   ],
   "source": [
    "data.isna().sum()"
   ]
  },
  {
   "cell_type": "code",
   "execution_count": 7,
   "metadata": {},
   "outputs": [
    {
     "name": "stdout",
     "output_type": "stream",
     "text": [
      "Объединение количества пропусков в столбцах days_employed и total_income: 2174\n",
      "Пересечение количества пропусков в столбцах days_employed и total_income: 2174\n"
     ]
    }
   ],
   "source": [
    "print(f\"Объединение количества пропусков в столбцах days_employed и total_income: {data.loc[data['days_employed'].isna() | data['days_employed'].isna()].shape[0]}\")\n",
    "print(f\"Пересечение количества пропусков в столбцах days_employed и total_income: {data.loc[data['days_employed'].isna() & data['days_employed'].isna()].shape[0]}\")"
   ]
  },
  {
   "cell_type": "markdown",
   "metadata": {},
   "source": [
    "- В 10% случаев мы видим пропуски в данных. Пропуски в данных наблюдаются одновременно в двух столбцах: трудовой стаж и зарплата, что похоже на системную ошибку. Возможно при выгрузке данных происходит сбой. Возможно, или эти поля можно не заполнять, если клитент зарплатный\n",
    "- Процент пропусков достаточно велик, чтобы полностью исключать эти строки их анализа. Исключение строк может исказить общую картину. Поэтому, будем восстанавливать данные"
   ]
  },
  {
   "cell_type": "code",
   "execution_count": null,
   "metadata": {},
   "outputs": [],
   "source": []
  },
  {
   "cell_type": "markdown",
   "metadata": {},
   "source": [
    "## Исследование данных"
   ]
  },
  {
   "cell_type": "markdown",
   "metadata": {},
   "source": [
    "### Сначала изучим данные на выбросы прежде, чем восполнять пропуски"
   ]
  },
  {
   "cell_type": "markdown",
   "metadata": {},
   "source": [
    "#### **children - количество детей**"
   ]
  },
  {
   "cell_type": "code",
   "execution_count": 8,
   "metadata": {},
   "outputs": [
    {
     "data": {
      "text/plain": [
       " 0     14149\n",
       " 1      4818\n",
       " 2      2055\n",
       " 3       330\n",
       " 20       76\n",
       "-1        47\n",
       " 4        41\n",
       " 5         9\n",
       "Name: children, dtype: int64"
      ]
     },
     "execution_count": 8,
     "metadata": {},
     "output_type": "execute_result"
    }
   ],
   "source": [
    "data['children'].value_counts()"
   ]
  },
  {
   "cell_type": "markdown",
   "metadata": {},
   "source": [
    "- Отрицательное количество детей - это странно, эти значения не можем считать валидными\n",
    "- Число 20 - тоже необычное. Чисто теоретически, такое возможно. но в данных мы видим значения от 0 до 5, и сразу 20. Будем считать это выбросом\n",
    "- Т.к. мы изучаем двияние от количества детей, не валидные значения нам не подходят. Удаляем такие записи"
   ]
  },
  {
   "cell_type": "code",
   "execution_count": 9,
   "metadata": {},
   "outputs": [
    {
     "data": {
      "text/plain": [
       "0    14149\n",
       "1     4818\n",
       "2     2055\n",
       "3      330\n",
       "4       41\n",
       "5        9\n",
       "Name: children, dtype: int64"
      ]
     },
     "execution_count": 9,
     "metadata": {},
     "output_type": "execute_result"
    }
   ],
   "source": [
    "data = data.query(\"children>=0 and children!=20\")\n",
    "data['children'].value_counts()"
   ]
  },
  {
   "cell_type": "code",
   "execution_count": null,
   "metadata": {},
   "outputs": [],
   "source": []
  },
  {
   "cell_type": "markdown",
   "metadata": {},
   "source": [
    "\n",
    "#### **days_employed: общий трудовой стаж в днях**"
   ]
  },
  {
   "cell_type": "code",
   "execution_count": 10,
   "metadata": {},
   "outputs": [
    {
     "data": {
      "text/plain": [
       "<matplotlib.axes._subplots.AxesSubplot at 0x7f7a2fd13150>"
      ]
     },
     "execution_count": 10,
     "metadata": {},
     "output_type": "execute_result"
    },
    {
     "data": {
      "image/png": "[encoded data removed]",
      "text/plain": [
       "<Figure size 1080x360 with 1 Axes>"
      ]
     },
     "metadata": {
      "needs_background": "light"
     },
     "output_type": "display_data"
    }
   ],
   "source": [
    "data['days_employed'].plot(kind='hist', title='days_employed', bins=50, figsize=(15,5))"
   ]
  },
  {
   "cell_type": "code",
   "execution_count": 12,
   "metadata": {},
   "outputs": [
    {
     "data": {
      "text/plain": [
       "3431"
      ]
     },
     "execution_count": 12,
     "metadata": {},
     "output_type": "execute_result"
    }
   ],
   "source": [
    "data.query(\"days_employed>=0\").shape[0]"
   ]
  },
  {
   "cell_type": "markdown",
   "metadata": {},
   "source": [
    "Видим странную картину: \n",
    "- большая часть значений меньше нуля. Можно предположить, что это количество считается от текущего дня в обратную сторону. Домножим на -1.\n",
    "- есть значения, корые намного больше нуля: около 300-400тыс. Нужно выяснить у владельца данных, откуда такие значения. Сецчас у нас такой возможности нет. Затираем эти значения как не валидные (сами строчки отставяем)"
   ]
  },
  {
   "cell_type": "code",
   "execution_count": 13,
   "metadata": {},
   "outputs": [
    {
     "data": {
      "text/plain": [
       "<matplotlib.axes._subplots.AxesSubplot at 0x7f7a32c1c190>"
      ]
     },
     "execution_count": 13,
     "metadata": {},
     "output_type": "execute_result"
    },
    {
     "data": {
      "image/png": "[encoded data removed]",
      "text/plain": [
       "<Figure size 1080x360 with 1 Axes>"
      ]
     },
     "metadata": {
      "needs_background": "light"
     },
     "output_type": "display_data"
    }
   ],
   "source": [
    "data['days_employed']= data['days_employed'][data['days_employed'] <= 0]\n",
    "data['days_employed'] = data['days_employed']*(-1)\n",
    "data['days_employed'].plot(kind='hist', title='days_employed', bins=50, figsize=(15,5))"
   ]
  },
  {
   "cell_type": "markdown",
   "metadata": {},
   "source": [
    "#### **dob_years - возраст клиента в годах**"
   ]
  },
  {
   "cell_type": "code",
   "execution_count": 14,
   "metadata": {},
   "outputs": [
    {
     "data": {
      "text/plain": [
       "<matplotlib.axes._subplots.AxesSubplot at 0x7f7a26cebe10>"
      ]
     },
     "execution_count": 14,
     "metadata": {},
     "output_type": "execute_result"
    },
    {
     "data": {
      "image/png": "[encoded data removed]",
      "text/plain": [
       "<Figure size 1080x360 with 1 Axes>"
      ]
     },
     "metadata": {
      "needs_background": "light"
     },
     "output_type": "display_data"
    }
   ],
   "source": [
    "data['dob_years'].plot(kind='hist', title='dob_years', bins=20, figsize=(15,5))"
   ]
  },
  {
   "cell_type": "markdown",
   "metadata": {},
   "source": [
    " - Слишком маленький возраст не позволяет брать кредит. Данные, имеющие значение меньше 18 лет считаем не валидными\n",
    " - Таких значений не много, пренебрежем ими, удалив полностью строки"
   ]
  },
  {
   "cell_type": "code",
   "execution_count": 15,
   "metadata": {},
   "outputs": [
    {
     "data": {
      "text/plain": [
       "<matplotlib.axes._subplots.AxesSubplot at 0x7f7a26bb8f90>"
      ]
     },
     "execution_count": 15,
     "metadata": {},
     "output_type": "execute_result"
    },
    {
     "data": {
      "image/png": "[encoded data removed]",
      "text/plain": [
       "<Figure size 1080x360 with 1 Axes>"
      ]
     },
     "metadata": {
      "needs_background": "light"
     },
     "output_type": "display_data"
    }
   ],
   "source": [
    "data = data.query(\"dob_years>=18\")\n",
    "data['dob_years'].plot(kind='hist', title='dob_years', bins=20, figsize=(15,5))"
   ]
  },
  {
   "cell_type": "code",
   "execution_count": null,
   "metadata": {},
   "outputs": [],
   "source": []
  },
  {
   "cell_type": "markdown",
   "metadata": {},
   "source": [
    "#### **education - Образование**"
   ]
  },
  {
   "cell_type": "code",
   "execution_count": 16,
   "metadata": {},
   "outputs": [
    {
     "data": {
      "text/plain": [
       "среднее                13609\n",
       "высшее                  4666\n",
       "СРЕДНЕЕ                  764\n",
       "Среднее                  700\n",
       "неоконченное высшее      663\n",
       "ВЫСШЕЕ                   270\n",
       "Высшее                   266\n",
       "начальное                250\n",
       "Неоконченное высшее       47\n",
       "НЕОКОНЧЕННОЕ ВЫСШЕЕ       29\n",
       "НАЧАЛЬНОЕ                 17\n",
       "Начальное                 15\n",
       "ученая степень             4\n",
       "Ученая степень             1\n",
       "УЧЕНАЯ СТЕПЕНЬ             1\n",
       "Name: education, dtype: int64"
      ]
     },
     "execution_count": 16,
     "metadata": {},
     "output_type": "execute_result"
    }
   ],
   "source": [
    "data['education'].value_counts()"
   ]
  },
  {
   "cell_type": "code",
   "execution_count": 17,
   "metadata": {},
   "outputs": [
    {
     "data": {
      "text/plain": [
       "среднее                15073\n",
       "высшее                  5202\n",
       "неоконченное высшее      739\n",
       "начальное                282\n",
       "ученая степень             6\n",
       "Name: education, dtype: int64"
      ]
     },
     "execution_count": 17,
     "metadata": {},
     "output_type": "execute_result"
    }
   ],
   "source": [
    "#Приведем в нижний регистр\n",
    "data['education'] = data['education'].str.lower()\n",
    "data['education'].value_counts()"
   ]
  },
  {
   "cell_type": "code",
   "execution_count": null,
   "metadata": {},
   "outputs": [],
   "source": []
  },
  {
   "cell_type": "markdown",
   "metadata": {},
   "source": [
    "#### **education_id - идентификатор уровня образования**"
   ]
  },
  {
   "cell_type": "code",
   "execution_count": 18,
   "metadata": {},
   "outputs": [
    {
     "data": {
      "text/plain": [
       "education            education_id\n",
       "высшее               0                5202\n",
       "начальное            3                 282\n",
       "неоконченное высшее  2                 739\n",
       "среднее              1               15073\n",
       "ученая степень       4                   6\n",
       "Name: education, dtype: int64"
      ]
     },
     "execution_count": 18,
     "metadata": {},
     "output_type": "execute_result"
    }
   ],
   "source": [
    "data.groupby(['education', 'education_id'])['education'].count()"
   ]
  },
  {
   "cell_type": "code",
   "execution_count": null,
   "metadata": {},
   "outputs": [],
   "source": []
  },
  {
   "cell_type": "markdown",
   "metadata": {},
   "source": [
    "#### **family_status — семейное положение**"
   ]
  },
  {
   "cell_type": "code",
   "execution_count": 19,
   "metadata": {},
   "outputs": [
    {
     "data": {
      "text/plain": [
       "женат / замужем          12254\n",
       "гражданский брак          4139\n",
       "Не женат / не замужем     2783\n",
       "в разводе                 1179\n",
       "вдовец / вдова             947\n",
       "Name: family_status, dtype: int64"
      ]
     },
     "execution_count": 19,
     "metadata": {},
     "output_type": "execute_result"
    }
   ],
   "source": [
    "data['family_status'].value_counts()"
   ]
  },
  {
   "cell_type": "code",
   "execution_count": null,
   "metadata": {},
   "outputs": [],
   "source": []
  },
  {
   "cell_type": "markdown",
   "metadata": {},
   "source": [
    "#### **family_status_id — идентификатор семейного положения**"
   ]
  },
  {
   "cell_type": "code",
   "execution_count": 20,
   "metadata": {},
   "outputs": [
    {
     "data": {
      "text/plain": [
       "family_status          family_status_id\n",
       "Не женат / не замужем  4                    2783\n",
       "в разводе              3                    1179\n",
       "вдовец / вдова         2                     947\n",
       "гражданский брак       1                    4139\n",
       "женат / замужем        0                   12254\n",
       "Name: education, dtype: int64"
      ]
     },
     "execution_count": 20,
     "metadata": {},
     "output_type": "execute_result"
    }
   ],
   "source": [
    "data.groupby(['family_status', 'family_status_id'])['education'].count()"
   ]
  },
  {
   "cell_type": "code",
   "execution_count": null,
   "metadata": {},
   "outputs": [],
   "source": []
  },
  {
   "cell_type": "markdown",
   "metadata": {},
   "source": [
    "#### **gender — пол клиента**"
   ]
  },
  {
   "cell_type": "code",
   "execution_count": 21,
   "metadata": {},
   "outputs": [
    {
     "data": {
      "text/plain": [
       "F      14083\n",
       "M       7218\n",
       "XNA        1\n",
       "Name: gender, dtype: int64"
      ]
     },
     "execution_count": 21,
     "metadata": {},
     "output_type": "execute_result"
    }
   ],
   "source": [
    "data['gender'].value_counts()"
   ]
  },
  {
   "cell_type": "markdown",
   "metadata": {},
   "source": [
    "XNA - это нет данных, видимо. Оставим"
   ]
  },
  {
   "cell_type": "code",
   "execution_count": null,
   "metadata": {},
   "outputs": [],
   "source": []
  },
  {
   "cell_type": "markdown",
   "metadata": {},
   "source": [
    "#### **income_type — тип занятости**"
   ]
  },
  {
   "cell_type": "code",
   "execution_count": 22,
   "metadata": {},
   "outputs": [
    {
     "data": {
      "text/plain": [
       "сотрудник          10996\n",
       "компаньон           5034\n",
       "пенсионер           3819\n",
       "госслужащий         1447\n",
       "предприниматель        2\n",
       "безработный            2\n",
       "в декрете              1\n",
       "студент                1\n",
       "Name: income_type, dtype: int64"
      ]
     },
     "execution_count": 22,
     "metadata": {},
     "output_type": "execute_result"
    }
   ],
   "source": [
    "data['income_type'].value_counts()"
   ]
  },
  {
   "cell_type": "code",
   "execution_count": null,
   "metadata": {},
   "outputs": [],
   "source": []
  },
  {
   "cell_type": "markdown",
   "metadata": {},
   "source": [
    "#### **debt — имел ли задолженность по возврату кредитов**"
   ]
  },
  {
   "cell_type": "code",
   "execution_count": 23,
   "metadata": {},
   "outputs": [
    {
     "data": {
      "text/plain": [
       "0    19578\n",
       "1     1724\n",
       "Name: debt, dtype: int64"
      ]
     },
     "execution_count": 23,
     "metadata": {},
     "output_type": "execute_result"
    }
   ],
   "source": [
    "data['debt'].value_counts()"
   ]
  },
  {
   "cell_type": "code",
   "execution_count": null,
   "metadata": {},
   "outputs": [],
   "source": []
  },
  {
   "cell_type": "markdown",
   "metadata": {},
   "source": [
    "#### **total_income — ежемесячный доход**"
   ]
  },
  {
   "cell_type": "code",
   "execution_count": 24,
   "metadata": {},
   "outputs": [
    {
     "data": {
      "text/plain": [
       "<matplotlib.axes._subplots.AxesSubplot at 0x7f7a26ad28d0>"
      ]
     },
     "execution_count": 24,
     "metadata": {},
     "output_type": "execute_result"
    },
    {
     "data": {
      "image/png": "[encoded data removed]",
      "text/plain": [
       "<Figure size 1080x360 with 1 Axes>"
      ]
     },
     "metadata": {
      "needs_background": "light"
     },
     "output_type": "display_data"
    }
   ],
   "source": [
    "data['total_income'].plot(kind='hist', title='total_income', bins=50, figsize=(15,5))"
   ]
  },
  {
   "cell_type": "markdown",
   "metadata": {},
   "source": [
    "**ок**"
   ]
  },
  {
   "cell_type": "code",
   "execution_count": null,
   "metadata": {},
   "outputs": [],
   "source": []
  },
  {
   "cell_type": "markdown",
   "metadata": {},
   "source": [
    "#### **purpose — цель получения кредита**"
   ]
  },
  {
   "cell_type": "code",
   "execution_count": 25,
   "metadata": {},
   "outputs": [
    {
     "data": {
      "text/plain": [
       "свадьба                                   791\n",
       "на проведение свадьбы                     768\n",
       "сыграть свадьбу                           764\n",
       "операции с недвижимостью                  670\n",
       "покупка коммерческой недвижимости         658\n",
       "покупка жилья для сдачи                   649\n",
       "операции с коммерческой недвижимостью     644\n",
       "операции с жильем                         642\n",
       "покупка жилья для семьи                   639\n",
       "жилье                                     636\n",
       "покупка жилья                             635\n",
       "недвижимость                              628\n",
       "операции со своей недвижимостью           626\n",
       "строительство собственной недвижимости    626\n",
       "строительство недвижимости                620\n",
       "строительство жилой недвижимости          619\n",
       "покупка своего жилья                      618\n",
       "покупка недвижимости                      616\n",
       "ремонт жилью                              607\n",
       "покупка жилой недвижимости                600\n",
       "на покупку своего автомобиля              501\n",
       "заняться высшим образованием              493\n",
       "автомобиль                                488\n",
       "сделка с подержанным автомобилем          482\n",
       "автомобили                                474\n",
       "свой автомобиль                           472\n",
       "на покупку подержанного автомобиля        472\n",
       "на покупку автомобиля                     466\n",
       "приобретение автомобиля                   458\n",
       "дополнительное образование                455\n",
       "сделка с автомобилем                      454\n",
       "высшее образование                        444\n",
       "получение дополнительного образования     443\n",
       "получение образования                     440\n",
       "образование                               439\n",
       "профильное образование                    431\n",
       "получение высшего образования             423\n",
       "заняться образованием                     411\n",
       "Name: purpose, dtype: int64"
      ]
     },
     "execution_count": 25,
     "metadata": {},
     "output_type": "execute_result"
    }
   ],
   "source": [
    "data['purpose'].value_counts()"
   ]
  },
  {
   "cell_type": "markdown",
   "metadata": {},
   "source": [
    "**Это пока оставим. Выглядит нормально**"
   ]
  },
  {
   "cell_type": "code",
   "execution_count": null,
   "metadata": {},
   "outputs": [],
   "source": []
  },
  {
   "cell_type": "markdown",
   "metadata": {},
   "source": [
    "**Посмотрим, сколько данных осталось**"
   ]
  },
  {
   "cell_type": "code",
   "execution_count": 26,
   "metadata": {
    "scrolled": true
   },
   "outputs": [
    {
     "name": "stdout",
     "output_type": "stream",
     "text": [
      "Было данных до чистки: 21525\n",
      "Стало данных после чистки: 21302\n",
      "Процент удаленных данных данных:  1.04\n"
     ]
    }
   ],
   "source": [
    "print (f\"Было данных до чистки: {data_len_raw}\")\n",
    "print (f\"Стало данных после чистки: {data.shape[0]}\")\n",
    "print (f\"Процент удаленных данных данных: {(data_len_raw - data.shape[0]) / data_len_raw * 100: .2f}\")"
   ]
  },
  {
   "cell_type": "markdown",
   "metadata": {},
   "source": [
    "### Обработка пропусков"
   ]
  },
  {
   "cell_type": "code",
   "execution_count": 27,
   "metadata": {},
   "outputs": [
    {
     "name": "stdout",
     "output_type": "stream",
     "text": [
      "<class 'pandas.core.frame.DataFrame'>\n",
      "Int64Index: 21302 entries, 0 to 21524\n",
      "Data columns (total 12 columns):\n",
      "children            21302 non-null int64\n",
      "days_employed       15736 non-null float64\n",
      "dob_years           21302 non-null int64\n",
      "education           21302 non-null object\n",
      "education_id        21302 non-null int64\n",
      "family_status       21302 non-null object\n",
      "family_status_id    21302 non-null int64\n",
      "gender              21302 non-null object\n",
      "income_type         21302 non-null object\n",
      "debt                21302 non-null int64\n",
      "total_income        19150 non-null float64\n",
      "purpose             21302 non-null object\n",
      "dtypes: float64(2), int64(5), object(5)\n",
      "memory usage: 2.1+ MB\n"
     ]
    }
   ],
   "source": [
    "data.info()"
   ]
  },
  {
   "cell_type": "code",
   "execution_count": null,
   "metadata": {},
   "outputs": [],
   "source": []
  },
  {
   "cell_type": "markdown",
   "metadata": {},
   "source": [
    "#### **Изучение пропусков**"
   ]
  },
  {
   "cell_type": "code",
   "execution_count": 29,
   "metadata": {},
   "outputs": [
    {
     "data": {
      "text/plain": [
       "children               0\n",
       "days_employed       5566\n",
       "dob_years              0\n",
       "education              0\n",
       "education_id           0\n",
       "family_status          0\n",
       "family_status_id       0\n",
       "gender                 0\n",
       "income_type            0\n",
       "debt                   0\n",
       "total_income        2152\n",
       "purpose                0\n",
       "dtype: int64"
      ]
     },
     "execution_count": 29,
     "metadata": {},
     "output_type": "execute_result"
    }
   ],
   "source": [
    "data.isna().sum()"
   ]
  },
  {
   "cell_type": "code",
   "execution_count": 30,
   "metadata": {},
   "outputs": [
    {
     "name": "stdout",
     "output_type": "stream",
     "text": [
      "Объединение количества пропусков в столбцах days_employed и total_income: 5566\n",
      "Пересечение количества пропусков в столбцах days_employed и total_income: 2152\n"
     ]
    }
   ],
   "source": [
    "print(\"Объединение количества пропусков в столбцах days_employed и total_income:\", data.query(\"days_employed.isna() or total_income.isna()\").shape[0])\n",
    "print(\"Пересечение количества пропусков в столбцах days_employed и total_income:\", data.query(\"days_employed.isna() and total_income.isna()\").shape[0])"
   ]
  },
  {
   "cell_type": "code",
   "execution_count": null,
   "metadata": {},
   "outputs": [],
   "source": []
  },
  {
   "cell_type": "markdown",
   "metadata": {},
   "source": [
    "#### **Группировка возраста для даленьйшего восстановления пропусков по этой переменной**"
   ]
  },
  {
   "cell_type": "markdown",
   "metadata": {},
   "source": [
    "- Нам нужно восстановить данные в двух столбцах: days_employed(общий трудовой стаж в днях) и total_income(ежемесячный доход)\n",
    "- Данные будем восстанавливать не из расчета \"среднее по больнице\". Будем смотреть на возрастной интервал и образование. Пол брать не будем, т.к.верим, что это тут не при чем =)\n",
    "- сгруппируем возраст в возрастные интервалы для дальнейшего восстановления пропущенных значений "
   ]
  },
  {
   "cell_type": "code",
   "execution_count": 31,
   "metadata": {},
   "outputs": [
    {
     "name": "stdout",
     "output_type": "stream",
     "text": [
      "3. 36-45      5596\n",
      "2. 26-35      5326\n",
      "4. 46-55      4802\n",
      "5. Выше 55    4349\n",
      "1. 18-25      1229\n",
      "Name: dob_years_group, dtype: int64\n"
     ]
    }
   ],
   "source": [
    "def age_group(age):\n",
    "    #сгруппируем возраст в возрастные интервалы\n",
    "    if age >= 18 and age <= 25:\n",
    "        return '1. 18-25'\n",
    "    if age >= 26 and age <= 35:\n",
    "        return '2. 26-35'\n",
    "    if age >= 36 and age <= 45:\n",
    "        return '3. 36-45'\n",
    "    if age >= 46 and age <= 55:\n",
    "        return '4. 46-55'\n",
    "    if age >= 55:\n",
    "        return '5. Выше 55'\n",
    "    \n",
    "data['dob_years_group'] = data['dob_years'].apply(age_group)\n",
    "print(data['dob_years_group'].value_counts())"
   ]
  },
  {
   "cell_type": "code",
   "execution_count": null,
   "metadata": {},
   "outputs": [],
   "source": []
  },
  {
   "cell_type": "markdown",
   "metadata": {},
   "source": [
    "#### **Заполнение пропусков**"
   ]
  },
  {
   "cell_type": "markdown",
   "metadata": {},
   "source": [
    " **заполним пропуски**\n",
    "- циклом проходимся по каждой группе DataFrame и заполсяем пропущенные значения соответствующей статистикой\n",
    "- пропуски заполняем по принципу:\n",
    "  - переменную days_employed заполняем средним значением этой переменной в соответствующей группе\n",
    "  - переменную total_income заполняем медианным значением этой переменной в соответствующей группе. Медиану взял для того, чтобы исключить сильное влияние очень богатых людей"
   ]
  },
  {
   "cell_type": "code",
   "execution_count": 33,
   "metadata": {},
   "outputs": [],
   "source": [
    "#### заполняем пропуски\n",
    "\n",
    "emptydata = data[0:0] \n",
    "#проходимся цикром по уникальным значениям переменных education и dob_years_group\n",
    "for education in data['education'].unique():\n",
    "    for year in data['dob_years_group'].unique():\n",
    "        \n",
    "        #currdata - это часть DataFrame data, отфильтрованная по двум переменным (year, education)\n",
    "        currdata = data.query(f\"dob_years_group == '{year}' and education=='{education}'\")\n",
    "        curr_mean_employed = data.query(f\"dob_years_group == '{year}' and education=='{education}'\")['days_employed'].mean()\n",
    "        curr_median_income = data.query(f\"dob_years_group == '{year}' and education=='{education}'\")['total_income'].median()\n",
    "\n",
    "        #восполняем пропуски\n",
    "        currdata.loc[currdata['days_employed'].isna(), 'days_employed'] = curr_mean_employed\n",
    "        currdata.loc[currdata['total_income'].isna(), 'total_income'] = curr_median_income\n",
    "        \n",
    "        #объединяем курси в общий DataFrame\n",
    "        emptydata = emptydata.append(currdata)\n",
    "data = emptydata"
   ]
  },
  {
   "cell_type": "code",
   "execution_count": 34,
   "metadata": {},
   "outputs": [
    {
     "name": "stdout",
     "output_type": "stream",
     "text": [
      "<class 'pandas.core.frame.DataFrame'>\n",
      "Int64Index: 21302 entries, 0 to 12786\n",
      "Data columns (total 13 columns):\n",
      "children            21302 non-null int64\n",
      "days_employed       21302 non-null float64\n",
      "dob_years           21302 non-null int64\n",
      "education           21302 non-null object\n",
      "education_id        21302 non-null int64\n",
      "family_status       21302 non-null object\n",
      "family_status_id    21302 non-null int64\n",
      "gender              21302 non-null object\n",
      "income_type         21302 non-null object\n",
      "debt                21302 non-null int64\n",
      "total_income        21302 non-null float64\n",
      "purpose             21302 non-null object\n",
      "dob_years_group     21302 non-null object\n",
      "dtypes: float64(2), int64(5), object(6)\n",
      "memory usage: 2.3+ MB\n"
     ]
    }
   ],
   "source": [
    "data.info()"
   ]
  },
  {
   "cell_type": "markdown",
   "metadata": {},
   "source": [
    "**Вывод**"
   ]
  },
  {
   "cell_type": "markdown",
   "metadata": {},
   "source": [
    "Были обнаружены пропуски в двух столбцах:\n",
    " - days_employed\n",
    " - total_income\n",
    " \n",
    "В переменной days_employed так же были не валидные значения, которые мы исключили перед тем, как восстанавливать данные"
   ]
  },
  {
   "cell_type": "code",
   "execution_count": null,
   "metadata": {},
   "outputs": [],
   "source": []
  },
  {
   "cell_type": "markdown",
   "metadata": {},
   "source": [
    "### Замена типа данных"
   ]
  },
  {
   "cell_type": "code",
   "execution_count": 35,
   "metadata": {},
   "outputs": [
    {
     "name": "stdout",
     "output_type": "stream",
     "text": [
      "<class 'pandas.core.frame.DataFrame'>\n",
      "Int64Index: 21302 entries, 0 to 12786\n",
      "Data columns (total 13 columns):\n",
      "children            21302 non-null int64\n",
      "days_employed       21302 non-null int64\n",
      "dob_years           21302 non-null int64\n",
      "education           21302 non-null object\n",
      "education_id        21302 non-null int64\n",
      "family_status       21302 non-null object\n",
      "family_status_id    21302 non-null int64\n",
      "gender              21302 non-null object\n",
      "income_type         21302 non-null object\n",
      "debt                21302 non-null int64\n",
      "total_income        21302 non-null int64\n",
      "purpose             21302 non-null object\n",
      "dob_years_group     21302 non-null object\n",
      "dtypes: int64(7), object(6)\n",
      "memory usage: 2.3+ MB\n"
     ]
    }
   ],
   "source": [
    "data['days_employed'] = data['days_employed'].astype(int) \n",
    "data['total_income'] = data['total_income'].astype(int) \n",
    "data.info()"
   ]
  },
  {
   "cell_type": "markdown",
   "metadata": {},
   "source": [
    "**Вывод**"
   ]
  },
  {
   "cell_type": "markdown",
   "metadata": {},
   "source": [
    "Т.к. нужен перевод в целое число, используем метод astype, который позводит это сделать"
   ]
  },
  {
   "cell_type": "markdown",
   "metadata": {},
   "source": [
    "### Обработка дубликатов"
   ]
  },
  {
   "cell_type": "code",
   "execution_count": 36,
   "metadata": {},
   "outputs": [
    {
     "name": "stdout",
     "output_type": "stream",
     "text": [
      "Количество дубликатов до удаления:  71\n",
      "Количество дубликатов после удаления:  0\n"
     ]
    }
   ],
   "source": [
    "print (f\"Количество дубликатов до удаления: \", data.duplicated().sum())\n",
    "data = data.drop_duplicates().reset_index(drop = True)\n",
    "print (f\"Количество дубликатов после удаления: \", data.duplicated().sum())"
   ]
  },
  {
   "cell_type": "markdown",
   "metadata": {},
   "source": [
    "**Вывод**"
   ]
  },
  {
   "cell_type": "markdown",
   "metadata": {},
   "source": [
    "- Дубликаты в переменной education, связанные с регистром значений, мы убрали в рамках чистки данных\n",
    "- Полные дубликаты убрали методом drop_duplicates"
   ]
  },
  {
   "cell_type": "code",
   "execution_count": null,
   "metadata": {},
   "outputs": [],
   "source": []
  },
  {
   "cell_type": "markdown",
   "metadata": {},
   "source": [
    "### Лемматизация"
   ]
  },
  {
   "cell_type": "code",
   "execution_count": 37,
   "metadata": {},
   "outputs": [
    {
     "data": {
      "text/html": [
       "<div>\n",
       "<style scoped>\n",
       "    .dataframe tbody tr th:only-of-type {\n",
       "        vertical-align: middle;\n",
       "    }\n",
       "\n",
       "    .dataframe tbody tr th {\n",
       "        vertical-align: top;\n",
       "    }\n",
       "\n",
       "    .dataframe thead th {\n",
       "        text-align: right;\n",
       "    }\n",
       "</style>\n",
       "<table border=\"1\" class=\"dataframe\">\n",
       "  <thead>\n",
       "    <tr style=\"text-align: right;\">\n",
       "      <th></th>\n",
       "      <th>children</th>\n",
       "      <th>days_employed</th>\n",
       "      <th>dob_years</th>\n",
       "      <th>education</th>\n",
       "      <th>education_id</th>\n",
       "      <th>family_status</th>\n",
       "      <th>family_status_id</th>\n",
       "      <th>gender</th>\n",
       "      <th>income_type</th>\n",
       "      <th>debt</th>\n",
       "      <th>total_income</th>\n",
       "      <th>purpose</th>\n",
       "      <th>dob_years_group</th>\n",
       "    </tr>\n",
       "  </thead>\n",
       "  <tbody>\n",
       "    <tr>\n",
       "      <td>0</td>\n",
       "      <td>1</td>\n",
       "      <td>8437</td>\n",
       "      <td>42</td>\n",
       "      <td>высшее</td>\n",
       "      <td>0</td>\n",
       "      <td>женат / замужем</td>\n",
       "      <td>0</td>\n",
       "      <td>F</td>\n",
       "      <td>сотрудник</td>\n",
       "      <td>0</td>\n",
       "      <td>253875</td>\n",
       "      <td>покупка жилья</td>\n",
       "      <td>3. 36-45</td>\n",
       "    </tr>\n",
       "    <tr>\n",
       "      <td>1</td>\n",
       "      <td>0</td>\n",
       "      <td>2879</td>\n",
       "      <td>43</td>\n",
       "      <td>высшее</td>\n",
       "      <td>0</td>\n",
       "      <td>женат / замужем</td>\n",
       "      <td>0</td>\n",
       "      <td>F</td>\n",
       "      <td>компаньон</td>\n",
       "      <td>0</td>\n",
       "      <td>240525</td>\n",
       "      <td>операции с жильем</td>\n",
       "      <td>3. 36-45</td>\n",
       "    </tr>\n",
       "    <tr>\n",
       "      <td>2</td>\n",
       "      <td>2</td>\n",
       "      <td>4171</td>\n",
       "      <td>36</td>\n",
       "      <td>высшее</td>\n",
       "      <td>0</td>\n",
       "      <td>женат / замужем</td>\n",
       "      <td>0</td>\n",
       "      <td>M</td>\n",
       "      <td>компаньон</td>\n",
       "      <td>0</td>\n",
       "      <td>113943</td>\n",
       "      <td>покупка недвижимости</td>\n",
       "      <td>3. 36-45</td>\n",
       "    </tr>\n",
       "    <tr>\n",
       "      <td>3</td>\n",
       "      <td>0</td>\n",
       "      <td>6448</td>\n",
       "      <td>43</td>\n",
       "      <td>высшее</td>\n",
       "      <td>0</td>\n",
       "      <td>гражданский брак</td>\n",
       "      <td>1</td>\n",
       "      <td>F</td>\n",
       "      <td>компаньон</td>\n",
       "      <td>0</td>\n",
       "      <td>154128</td>\n",
       "      <td>приобретение автомобиля</td>\n",
       "      <td>3. 36-45</td>\n",
       "    </tr>\n",
       "    <tr>\n",
       "      <td>4</td>\n",
       "      <td>0</td>\n",
       "      <td>335</td>\n",
       "      <td>36</td>\n",
       "      <td>высшее</td>\n",
       "      <td>0</td>\n",
       "      <td>женат / замужем</td>\n",
       "      <td>0</td>\n",
       "      <td>M</td>\n",
       "      <td>сотрудник</td>\n",
       "      <td>0</td>\n",
       "      <td>414404</td>\n",
       "      <td>недвижимость</td>\n",
       "      <td>3. 36-45</td>\n",
       "    </tr>\n",
       "  </tbody>\n",
       "</table>\n",
       "</div>"
      ],
      "text/plain": [
       "   children  days_employed  dob_years education  education_id  \\\n",
       "0         1           8437         42    высшее             0   \n",
       "1         0           2879         43    высшее             0   \n",
       "2         2           4171         36    высшее             0   \n",
       "3         0           6448         43    высшее             0   \n",
       "4         0            335         36    высшее             0   \n",
       "\n",
       "      family_status  family_status_id gender income_type  debt  total_income  \\\n",
       "0   женат / замужем                 0      F   сотрудник     0        253875   \n",
       "1   женат / замужем                 0      F   компаньон     0        240525   \n",
       "2   женат / замужем                 0      M   компаньон     0        113943   \n",
       "3  гражданский брак                 1      F   компаньон     0        154128   \n",
       "4   женат / замужем                 0      M   сотрудник     0        414404   \n",
       "\n",
       "                   purpose dob_years_group  \n",
       "0            покупка жилья        3. 36-45  \n",
       "1        операции с жильем        3. 36-45  \n",
       "2     покупка недвижимости        3. 36-45  \n",
       "3  приобретение автомобиля        3. 36-45  \n",
       "4             недвижимость        3. 36-45  "
      ]
     },
     "execution_count": 37,
     "metadata": {},
     "output_type": "execute_result"
    }
   ],
   "source": [
    "data.head(5)"
   ]
  },
  {
   "cell_type": "markdown",
   "metadata": {},
   "source": [
    "#### Добавим новый столбец, содержащий спиоск слов в именительном падеже из значения в столбце purpose"
   ]
  },
  {
   "cell_type": "code",
   "execution_count": 38,
   "metadata": {},
   "outputs": [],
   "source": [
    "from pymystem3 import Mystem\n",
    "from collections import Counter\n",
    "m = Mystem() "
   ]
  },
  {
   "cell_type": "code",
   "execution_count": 39,
   "metadata": {},
   "outputs": [],
   "source": [
    "def lemma(text):\n",
    "    lemmas = m.lemmatize(text)\n",
    "    return lemmas\n",
    "\n",
    "data['purpose_list'] = data['purpose'].apply(lemma)"
   ]
  },
  {
   "cell_type": "code",
   "execution_count": 40,
   "metadata": {},
   "outputs": [
    {
     "data": {
      "text/html": [
       "<div>\n",
       "<style scoped>\n",
       "    .dataframe tbody tr th:only-of-type {\n",
       "        vertical-align: middle;\n",
       "    }\n",
       "\n",
       "    .dataframe tbody tr th {\n",
       "        vertical-align: top;\n",
       "    }\n",
       "\n",
       "    .dataframe thead th {\n",
       "        text-align: right;\n",
       "    }\n",
       "</style>\n",
       "<table border=\"1\" class=\"dataframe\">\n",
       "  <thead>\n",
       "    <tr style=\"text-align: right;\">\n",
       "      <th></th>\n",
       "      <th>purpose</th>\n",
       "      <th>purpose_list</th>\n",
       "    </tr>\n",
       "  </thead>\n",
       "  <tbody>\n",
       "    <tr>\n",
       "      <td>0</td>\n",
       "      <td>покупка жилья</td>\n",
       "      <td>[покупка,  , жилье, \\n]</td>\n",
       "    </tr>\n",
       "    <tr>\n",
       "      <td>1</td>\n",
       "      <td>операции с жильем</td>\n",
       "      <td>[операция,  , с,  , жилье, \\n]</td>\n",
       "    </tr>\n",
       "    <tr>\n",
       "      <td>2</td>\n",
       "      <td>покупка недвижимости</td>\n",
       "      <td>[покупка,  , недвижимость, \\n]</td>\n",
       "    </tr>\n",
       "    <tr>\n",
       "      <td>3</td>\n",
       "      <td>приобретение автомобиля</td>\n",
       "      <td>[приобретение,  , автомобиль, \\n]</td>\n",
       "    </tr>\n",
       "    <tr>\n",
       "      <td>4</td>\n",
       "      <td>недвижимость</td>\n",
       "      <td>[недвижимость, \\n]</td>\n",
       "    </tr>\n",
       "  </tbody>\n",
       "</table>\n",
       "</div>"
      ],
      "text/plain": [
       "                   purpose                       purpose_list\n",
       "0            покупка жилья            [покупка,  , жилье, \\n]\n",
       "1        операции с жильем     [операция,  , с,  , жилье, \\n]\n",
       "2     покупка недвижимости     [покупка,  , недвижимость, \\n]\n",
       "3  приобретение автомобиля  [приобретение,  , автомобиль, \\n]\n",
       "4             недвижимость                 [недвижимость, \\n]"
      ]
     },
     "execution_count": 40,
     "metadata": {},
     "output_type": "execute_result"
    }
   ],
   "source": [
    "data[['purpose', 'purpose_list']].head(5)"
   ]
  },
  {
   "cell_type": "code",
   "execution_count": null,
   "metadata": {},
   "outputs": [],
   "source": []
  },
  {
   "cell_type": "markdown",
   "metadata": {},
   "source": [
    "#### Сделаем частотку слов, которые встречаются в столбце lemma_list для дальнейшей группировки"
   ]
  },
  {
   "cell_type": "code",
   "execution_count": 41,
   "metadata": {},
   "outputs": [],
   "source": [
    "from pandas.core.common import flatten"
   ]
  },
  {
   "cell_type": "code",
   "execution_count": 42,
   "metadata": {},
   "outputs": [
    {
     "data": {
      "text/plain": [
       "                  33245\n",
       "\\n                21231\n",
       "недвижимость       6291\n",
       "покупка            5839\n",
       "жилье              4413\n",
       "автомобиль         4258\n",
       "образование        3970\n",
       "с                  2886\n",
       "операция           2576\n",
       "свадьба            2299\n",
       "свой               2212\n",
       "на                 2196\n",
       "строительство      1862\n",
       "высокий            1359\n",
       "получение          1304\n",
       "коммерческий       1298\n",
       "для                1283\n",
       "жилой              1216\n",
       "сделка              933\n",
       "заниматься          900\n",
       "дополнительный      895\n",
       "проведение          759\n",
       "сыграть             755\n",
       "сдача               647\n",
       "семья               636\n",
       "собственный         626\n",
       "со                  623\n",
       "ремонт              602\n",
       "подержанный         479\n",
       "подержать           471\n",
       "приобретение        457\n",
       "профильный          431\n",
       "dtype: int64"
      ]
     },
     "execution_count": 42,
     "metadata": {},
     "output_type": "execute_result"
    }
   ],
   "source": [
    "purpose_list = data['purpose_list'].to_list()\n",
    "purpose_list = list(flatten(purpose_list))\n",
    "pd.Series(purpose_list).value_counts()"
   ]
  },
  {
   "cell_type": "code",
   "execution_count": 186,
   "metadata": {},
   "outputs": [
    {
     "data": {
      "text/plain": [
       "32"
      ]
     },
     "execution_count": 186,
     "metadata": {},
     "output_type": "execute_result"
    }
   ],
   "source": [
    "len(pd.Series(purpose_list).value_counts())"
   ]
  },
  {
   "cell_type": "markdown",
   "metadata": {},
   "source": [
    "**Вывод**"
   ]
  },
  {
   "cell_type": "markdown",
   "metadata": {},
   "source": [
    "Мы выделили леммы значений столбца purpose. Для этого:\n",
    " - добавили столбец lemma_list в DataDrame,  который содержит список из значения столбца purpose.\n",
    "   на основе этого столбца в дальнейшем будем проводить категоризацию целей кредита\n",
    " - построили частотное распределение слов, встречающихся в новом столбце lemma_list\n",
    " - видим 32 встречающихся слова. Кроме нужных, среди них пробелы, предлоги, и другое.\n",
    " - мы видим такие категории:\n",
    "        '1. покупка недвижимости / жилья'\n",
    "        '2. строительство недвижимости / жилья'\n",
    "        '3. автомобиль'\n",
    "        '4. образование'\n",
    "        '5. ремонт'\n",
    "        '6. свадьба'\n",
    "        '7. операция'\n",
    "        '8. жилье (без уточнения)'\n",
    "        '9. недвижимость (без уточнения)'"
   ]
  },
  {
   "cell_type": "code",
   "execution_count": null,
   "metadata": {},
   "outputs": [],
   "source": []
  },
  {
   "cell_type": "markdown",
   "metadata": {},
   "source": [
    "### Категоризация данных"
   ]
  },
  {
   "cell_type": "markdown",
   "metadata": {},
   "source": [
    "#### purpose - цель получения кредита"
   ]
  },
  {
   "cell_type": "code",
   "execution_count": 43,
   "metadata": {},
   "outputs": [],
   "source": [
    "def purpose_group(col):\n",
    "    #сгруппируем возраст в возрастные интервалы\n",
    "    if 'недвижимость' in col and 'покупка' in col:\n",
    "        return '1. покупка недвижимости / жилья'\n",
    "    if 'жилье' in col and 'покупка' in col:\n",
    "        return '1. покупка недвижимости / жилья'\n",
    "    if 'недвижимость' in col and 'строительство' in col:\n",
    "        return '2. строительство недвижимости / жилья'\n",
    "    if 'жилье' in col and 'строительство' in col:\n",
    "        return '2. строительство недвижимости / жилья'\n",
    "    if 'автомобиль' in col:\n",
    "        return '3. автомобиль'\n",
    "    if 'образование' in col:\n",
    "        return '4. образование'\n",
    "    if 'ремонт' in col:\n",
    "        return '5. ремонт'\n",
    "    if 'свадьба' in col:\n",
    "        return '6. свадьба'\n",
    "    if 'операция' in col:\n",
    "        return '7. операция'\n",
    "    if 'жилье' in col:\n",
    "        return '8. жилье (без уточнения)'\n",
    "    if 'недвижимость' in col:\n",
    "        return '9. недвижимость (без уточнения)'\n",
    "    \n",
    "data['purpose_group'] = data['purpose_list'].apply(purpose_group)"
   ]
  },
  {
   "cell_type": "code",
   "execution_count": 44,
   "metadata": {},
   "outputs": [
    {
     "data": {
      "text/plain": [
       "0"
      ]
     },
     "execution_count": 44,
     "metadata": {},
     "output_type": "execute_result"
    }
   ],
   "source": [
    "data.query('purpose_group.isnull()').shape[0]"
   ]
  },
  {
   "cell_type": "code",
   "execution_count": 45,
   "metadata": {},
   "outputs": [
    {
     "data": {
      "text/plain": [
       "1. покупка недвижимости / жилья          4402\n",
       "3. автомобиль                            4258\n",
       "4. образование                           3970\n",
       "7. операция                              2576\n",
       "6. свадьба                               2299\n",
       "2. строительство недвижимости / жилья    1862\n",
       "8. жилье (без уточнения)                  635\n",
       "9. недвижимость (без уточнения)           627\n",
       "5. ремонт                                 602\n",
       "Name: purpose_group, dtype: int64"
      ]
     },
     "execution_count": 45,
     "metadata": {},
     "output_type": "execute_result"
    }
   ],
   "source": [
    "data['purpose_group'].value_counts()"
   ]
  },
  {
   "cell_type": "code",
   "execution_count": null,
   "metadata": {},
   "outputs": [],
   "source": []
  },
  {
   "cell_type": "markdown",
   "metadata": {},
   "source": [
    "#### total_income -  ежемесячный доход"
   ]
  },
  {
   "cell_type": "code",
   "execution_count": 46,
   "metadata": {},
   "outputs": [
    {
     "data": {
      "text/plain": [
       "<matplotlib.axes._subplots.AxesSubplot at 0x7f7a78cabb90>"
      ]
     },
     "execution_count": 46,
     "metadata": {},
     "output_type": "execute_result"
    },
    {
     "data": {
      "image/png": "[encoded data removed]",
      "text/plain": [
       "<Figure size 720x360 with 1 Axes>"
      ]
     },
     "metadata": {
      "needs_background": "light"
     },
     "output_type": "display_data"
    }
   ],
   "source": [
    "data['total_income'].plot(kind='hist', title='total_income', bins=50, figsize=(10,5))"
   ]
  },
  {
   "cell_type": "code",
   "execution_count": 47,
   "metadata": {},
   "outputs": [],
   "source": [
    "def income_group(col):\n",
    "    if col<30000:\n",
    "        return '1. Менее 30000'\n",
    "    if col>=30000 and col<50000:\n",
    "        return '2. 30000 - 50000'\n",
    "    if col>=50000 and col<80000:\n",
    "        return '3. 50000 - 80000'\n",
    "    if col>=80000 and col<120000:\n",
    "        return '4. 80000 - 120000'\n",
    "    if col>=120000 and col<160000:\n",
    "        return '5. 120000 - 160000'\n",
    "    if col>=160000 and col<200000:\n",
    "        return '6. 160000 - 200000'\n",
    "    if col>=200000 and col<300000:\n",
    "        return '7. 200000 - 300000'\n",
    "    if col>=300000 and col<500000:\n",
    "        return '8. 300000 - 500000'\n",
    "    if col>500000:\n",
    "        return '9. Более 500000'\n",
    "    \n",
    "data['total_income_group'] = data['total_income'].apply(income_group)"
   ]
  },
  {
   "cell_type": "code",
   "execution_count": 48,
   "metadata": {},
   "outputs": [
    {
     "data": {
      "text/plain": [
       "0"
      ]
     },
     "execution_count": 48,
     "metadata": {},
     "output_type": "execute_result"
    }
   ],
   "source": [
    "data.query('total_income_group.isnull()').shape[0]"
   ]
  },
  {
   "cell_type": "code",
   "execution_count": 49,
   "metadata": {},
   "outputs": [
    {
     "data": {
      "text/plain": [
       "5. 120000 - 160000    5750\n",
       "4. 80000 - 120000     4533\n",
       "6. 160000 - 200000    3683\n",
       "7. 200000 - 300000    3543\n",
       "3. 50000 - 80000      1884\n",
       "8. 300000 - 500000    1247\n",
       "2. 30000 - 50000       347\n",
       "9. Более 500000        222\n",
       "1. Менее 30000          22\n",
       "Name: total_income_group, dtype: int64"
      ]
     },
     "execution_count": 49,
     "metadata": {},
     "output_type": "execute_result"
    }
   ],
   "source": [
    "data['total_income_group'].value_counts()"
   ]
  },
  {
   "cell_type": "markdown",
   "metadata": {},
   "source": [
    "**Вывод**"
   ]
  },
  {
   "cell_type": "markdown",
   "metadata": {},
   "source": [
    "Мы получили:\n",
    " - переменную с возрастными интервалами (dob_years_group) на основе переменной возраст(dob_years)\n",
    " - переменную с сгруппированными целями кредита (purpose_group) на основе переменной purpose\n",
    " - переменную с сгруппированным доходом (total_income_group) на основе переменной total_income"
   ]
  },
  {
   "cell_type": "code",
   "execution_count": null,
   "metadata": {},
   "outputs": [],
   "source": []
  },
  {
   "cell_type": "markdown",
   "metadata": {},
   "source": [
    "### Есть ли зависимость между наличием детей и возвратом кредита в срок?"
   ]
  },
  {
   "cell_type": "code",
   "execution_count": 238,
   "metadata": {},
   "outputs": [
    {
     "data": {
      "text/html": [
       "<div>\n",
       "<style scoped>\n",
       "    .dataframe tbody tr th:only-of-type {\n",
       "        vertical-align: middle;\n",
       "    }\n",
       "\n",
       "    .dataframe tbody tr th {\n",
       "        vertical-align: top;\n",
       "    }\n",
       "\n",
       "    .dataframe thead th {\n",
       "        text-align: right;\n",
       "    }\n",
       "</style>\n",
       "<table border=\"1\" class=\"dataframe\">\n",
       "  <thead>\n",
       "    <tr style=\"text-align: right;\">\n",
       "      <th></th>\n",
       "      <th>children</th>\n",
       "    </tr>\n",
       "    <tr>\n",
       "      <th>debt</th>\n",
       "      <th></th>\n",
       "    </tr>\n",
       "  </thead>\n",
       "  <tbody>\n",
       "    <tr>\n",
       "      <td>0</td>\n",
       "      <td>0.468396</td>\n",
       "    </tr>\n",
       "    <tr>\n",
       "      <td>1</td>\n",
       "      <td>0.537123</td>\n",
       "    </tr>\n",
       "  </tbody>\n",
       "</table>\n",
       "</div>"
      ],
      "text/plain": [
       "      children\n",
       "debt          \n",
       "0     0.468396\n",
       "1     0.537123"
      ]
     },
     "execution_count": 238,
     "metadata": {},
     "output_type": "execute_result"
    }
   ],
   "source": [
    "data.groupby('debt').agg({'children': 'mean'})"
   ]
  },
  {
   "cell_type": "markdown",
   "metadata": {},
   "source": [
    "Мы получаем, что среднее количество детей среди тех, кто имел задолженность, выше"
   ]
  },
  {
   "cell_type": "code",
   "execution_count": 54,
   "metadata": {},
   "outputs": [
    {
     "data": {
      "text/html": [
       "<div>\n",
       "<style scoped>\n",
       "    .dataframe tbody tr th:only-of-type {\n",
       "        vertical-align: middle;\n",
       "    }\n",
       "\n",
       "    .dataframe tbody tr th {\n",
       "        vertical-align: top;\n",
       "    }\n",
       "\n",
       "    .dataframe thead th {\n",
       "        text-align: right;\n",
       "    }\n",
       "</style>\n",
       "<table border=\"1\" class=\"dataframe\">\n",
       "  <thead>\n",
       "    <tr style=\"text-align: right;\">\n",
       "      <th>children</th>\n",
       "      <th>0</th>\n",
       "      <th>1</th>\n",
       "      <th>2</th>\n",
       "      <th>3</th>\n",
       "      <th>4</th>\n",
       "      <th>5</th>\n",
       "    </tr>\n",
       "  </thead>\n",
       "  <tbody>\n",
       "    <tr>\n",
       "      <td>debt</td>\n",
       "      <td>0.075453</td>\n",
       "      <td>0.092028</td>\n",
       "      <td>0.095145</td>\n",
       "      <td>0.082317</td>\n",
       "      <td>0.097561</td>\n",
       "      <td>0.0</td>\n",
       "    </tr>\n",
       "  </tbody>\n",
       "</table>\n",
       "</div>"
      ],
      "text/plain": [
       "children         0         1         2         3         4    5\n",
       "debt      0.075453  0.092028  0.095145  0.082317  0.097561  0.0"
      ]
     },
     "execution_count": 54,
     "metadata": {},
     "output_type": "execute_result"
    }
   ],
   "source": [
    "#Рассчитаем вероятность просрочки кредита в разрезе количества детей:\n",
    "pd.pivot_table(data, values=[\"debt\"], columns=[\"children\"], aggfunc='mean')"
   ]
  },
  {
   "cell_type": "code",
   "execution_count": 239,
   "metadata": {},
   "outputs": [
    {
     "data": {
      "text/plain": [
       "<matplotlib.axes._subplots.AxesSubplot at 0x7f4c1deb8d10>"
      ]
     },
     "execution_count": 239,
     "metadata": {},
     "output_type": "execute_result"
    },
    {
     "data": {
      "image/png": "[encoded data removed]",
      "text/plain": [
       "<Figure size 864x288 with 1 Axes>"
      ]
     },
     "metadata": {
      "needs_background": "light"
     },
     "output_type": "display_data"
    }
   ],
   "source": [
    "data.groupby('children').agg({'debt': 'mean'}).reset_index().plot(kind='bar', x='children', y='debt', title='title', figsize=(12,4))"
   ]
  },
  {
   "cell_type": "markdown",
   "metadata": {},
   "source": [
    "**Вывод**"
   ]
  },
  {
   "cell_type": "markdown",
   "metadata": {},
   "source": [
    "- По первой аггрегированной таблице мы получаем, что среднее количество детей среди тех, кто имел задолженность, выше\n",
    "- по второму графику теория подтверждается: клиенты без детей реже допускают задолженности по крудиту. \n",
    "- у 5-ти детных совсем нет задолженностей. но в выборке их мало и они славо влияют на общую статистику"
   ]
  },
  {
   "cell_type": "code",
   "execution_count": null,
   "metadata": {},
   "outputs": [],
   "source": []
  },
  {
   "cell_type": "markdown",
   "metadata": {},
   "source": [
    "###  Есть ли зависимость между семейным положением и возвратом кредита в срок?"
   ]
  },
  {
   "cell_type": "code",
   "execution_count": 56,
   "metadata": {},
   "outputs": [
    {
     "data": {
      "text/html": [
       "<div>\n",
       "<style scoped>\n",
       "    .dataframe tbody tr th:only-of-type {\n",
       "        vertical-align: middle;\n",
       "    }\n",
       "\n",
       "    .dataframe tbody tr th {\n",
       "        vertical-align: top;\n",
       "    }\n",
       "\n",
       "    .dataframe thead th {\n",
       "        text-align: right;\n",
       "    }\n",
       "</style>\n",
       "<table border=\"1\" class=\"dataframe\">\n",
       "  <thead>\n",
       "    <tr style=\"text-align: right;\">\n",
       "      <th>family_status</th>\n",
       "      <th>Не женат / не замужем</th>\n",
       "      <th>в разводе</th>\n",
       "      <th>вдовец / вдова</th>\n",
       "      <th>гражданский брак</th>\n",
       "      <th>женат / замужем</th>\n",
       "    </tr>\n",
       "  </thead>\n",
       "  <tbody>\n",
       "    <tr>\n",
       "      <td>debt</td>\n",
       "      <td>0.097842</td>\n",
       "      <td>0.071247</td>\n",
       "      <td>0.065539</td>\n",
       "      <td>0.093119</td>\n",
       "      <td>0.075575</td>\n",
       "    </tr>\n",
       "  </tbody>\n",
       "</table>\n",
       "</div>"
      ],
      "text/plain": [
       "family_status  Не женат / не замужем  в разводе  вдовец / вдова  \\\n",
       "debt                        0.097842   0.071247        0.065539   \n",
       "\n",
       "family_status  гражданский брак  женат / замужем  \n",
       "debt                   0.093119         0.075575  "
      ]
     },
     "execution_count": 56,
     "metadata": {},
     "output_type": "execute_result"
    }
   ],
   "source": [
    "#Рассчитаем вероятность просрочки кредита в разрезе семейного положения:\n",
    "pd.pivot_table(data, values=[\"debt\"], columns=[\"family_status\"], aggfunc='mean')"
   ]
  },
  {
   "cell_type": "code",
   "execution_count": 57,
   "metadata": {},
   "outputs": [
    {
     "data": {
      "text/html": [
       "<div>\n",
       "<style scoped>\n",
       "    .dataframe tbody tr th:only-of-type {\n",
       "        vertical-align: middle;\n",
       "    }\n",
       "\n",
       "    .dataframe tbody tr th {\n",
       "        vertical-align: top;\n",
       "    }\n",
       "\n",
       "    .dataframe thead tr th {\n",
       "        text-align: left;\n",
       "    }\n",
       "\n",
       "    .dataframe thead tr:last-of-type th {\n",
       "        text-align: right;\n",
       "    }\n",
       "</style>\n",
       "<table border=\"1\" class=\"dataframe\">\n",
       "  <thead>\n",
       "    <tr>\n",
       "      <th></th>\n",
       "      <th colspan=\"5\" halign=\"left\">debt</th>\n",
       "    </tr>\n",
       "    <tr>\n",
       "      <th>family_status</th>\n",
       "      <th>Не женат / не замужем</th>\n",
       "      <th>в разводе</th>\n",
       "      <th>вдовец / вдова</th>\n",
       "      <th>гражданский брак</th>\n",
       "      <th>женат / замужем</th>\n",
       "    </tr>\n",
       "    <tr>\n",
       "      <th>children</th>\n",
       "      <th></th>\n",
       "      <th></th>\n",
       "      <th></th>\n",
       "      <th></th>\n",
       "      <th></th>\n",
       "    </tr>\n",
       "  </thead>\n",
       "  <tbody>\n",
       "    <tr>\n",
       "      <td>0</td>\n",
       "      <td>0.093375</td>\n",
       "      <td>0.070785</td>\n",
       "      <td>0.061758</td>\n",
       "      <td>0.083548</td>\n",
       "      <td>0.069114</td>\n",
       "    </tr>\n",
       "    <tr>\n",
       "      <td>1</td>\n",
       "      <td>0.114094</td>\n",
       "      <td>0.067524</td>\n",
       "      <td>0.090909</td>\n",
       "      <td>0.119312</td>\n",
       "      <td>0.082210</td>\n",
       "    </tr>\n",
       "    <tr>\n",
       "      <td>2</td>\n",
       "      <td>0.121622</td>\n",
       "      <td>0.088608</td>\n",
       "      <td>0.150000</td>\n",
       "      <td>0.087977</td>\n",
       "      <td>0.095082</td>\n",
       "    </tr>\n",
       "    <tr>\n",
       "      <td>3</td>\n",
       "      <td>0.125000</td>\n",
       "      <td>0.090909</td>\n",
       "      <td>0.000000</td>\n",
       "      <td>0.142857</td>\n",
       "      <td>0.068826</td>\n",
       "    </tr>\n",
       "    <tr>\n",
       "      <td>4</td>\n",
       "      <td>0.500000</td>\n",
       "      <td>0.000000</td>\n",
       "      <td>0.000000</td>\n",
       "      <td>0.000000</td>\n",
       "      <td>0.103448</td>\n",
       "    </tr>\n",
       "    <tr>\n",
       "      <td>5</td>\n",
       "      <td>NaN</td>\n",
       "      <td>NaN</td>\n",
       "      <td>NaN</td>\n",
       "      <td>0.000000</td>\n",
       "      <td>0.000000</td>\n",
       "    </tr>\n",
       "  </tbody>\n",
       "</table>\n",
       "</div>"
      ],
      "text/plain": [
       "                               debt                                            \\\n",
       "family_status Не женат / не замужем в разводе вдовец / вдова гражданский брак   \n",
       "children                                                                        \n",
       "0                          0.093375  0.070785       0.061758         0.083548   \n",
       "1                          0.114094  0.067524       0.090909         0.119312   \n",
       "2                          0.121622  0.088608       0.150000         0.087977   \n",
       "3                          0.125000  0.090909       0.000000         0.142857   \n",
       "4                          0.500000  0.000000       0.000000         0.000000   \n",
       "5                               NaN       NaN            NaN         0.000000   \n",
       "\n",
       "                               \n",
       "family_status женат / замужем  \n",
       "children                       \n",
       "0                    0.069114  \n",
       "1                    0.082210  \n",
       "2                    0.095082  \n",
       "3                    0.068826  \n",
       "4                    0.103448  \n",
       "5                    0.000000  "
      ]
     },
     "execution_count": 57,
     "metadata": {},
     "output_type": "execute_result"
    }
   ],
   "source": [
    "#Рассчитаем вероятность просрочки кредита в разрезе семейного положения и кол-ва детей:\n",
    "pd.pivot_table(data, index=[\"children\"], values=[\"debt\"], columns=[\"family_status\"], aggfunc='mean')"
   ]
  },
  {
   "cell_type": "code",
   "execution_count": null,
   "metadata": {},
   "outputs": [],
   "source": []
  },
  {
   "cell_type": "code",
   "execution_count": 240,
   "metadata": {},
   "outputs": [
    {
     "data": {
      "text/plain": [
       "<matplotlib.axes._subplots.AxesSubplot at 0x7f4c1ddefa50>"
      ]
     },
     "execution_count": 240,
     "metadata": {},
     "output_type": "execute_result"
    },
    {
     "data": {
      "image/png": "[encoded data removed]",
      "text/plain": [
       "<Figure size 864x288 with 1 Axes>"
      ]
     },
     "metadata": {
      "needs_background": "light"
     },
     "output_type": "display_data"
    }
   ],
   "source": [
    "data.groupby('family_status').agg({'debt': 'mean'}).reset_index().plot(kind='bar', x='family_status', y='debt', title='', figsize=(12,4))"
   ]
  },
  {
   "cell_type": "markdown",
   "metadata": {},
   "source": [
    "**Вывод**"
   ]
  },
  {
   "cell_type": "markdown",
   "metadata": {},
   "source": [
    " Видим, что семейное положение влияет на возврат кредита: не женатые и пары в гражданском браке допускают просрочки чаще"
   ]
  },
  {
   "cell_type": "code",
   "execution_count": null,
   "metadata": {},
   "outputs": [],
   "source": []
  },
  {
   "cell_type": "markdown",
   "metadata": {},
   "source": [
    "### Есть ли зависимость между уровнем дохода и возвратом кредита в срок?"
   ]
  },
  {
   "cell_type": "code",
   "execution_count": 241,
   "metadata": {},
   "outputs": [
    {
     "data": {
      "text/html": [
       "<div>\n",
       "<style scoped>\n",
       "    .dataframe tbody tr th:only-of-type {\n",
       "        vertical-align: middle;\n",
       "    }\n",
       "\n",
       "    .dataframe tbody tr th {\n",
       "        vertical-align: top;\n",
       "    }\n",
       "\n",
       "    .dataframe thead th {\n",
       "        text-align: right;\n",
       "    }\n",
       "</style>\n",
       "<table border=\"1\" class=\"dataframe\">\n",
       "  <thead>\n",
       "    <tr style=\"text-align: right;\">\n",
       "      <th></th>\n",
       "      <th>total_income</th>\n",
       "    </tr>\n",
       "    <tr>\n",
       "      <th>debt</th>\n",
       "      <th></th>\n",
       "    </tr>\n",
       "  </thead>\n",
       "  <tbody>\n",
       "    <tr>\n",
       "      <td>0</td>\n",
       "      <td>165889.196751</td>\n",
       "    </tr>\n",
       "    <tr>\n",
       "      <td>1</td>\n",
       "      <td>161177.529280</td>\n",
       "    </tr>\n",
       "  </tbody>\n",
       "</table>\n",
       "</div>"
      ],
      "text/plain": [
       "       total_income\n",
       "debt               \n",
       "0     165889.196751\n",
       "1     161177.529280"
      ]
     },
     "execution_count": 241,
     "metadata": {},
     "output_type": "execute_result"
    }
   ],
   "source": [
    "data.groupby('debt').agg({'total_income': 'mean'})"
   ]
  },
  {
   "cell_type": "code",
   "execution_count": 59,
   "metadata": {},
   "outputs": [
    {
     "data": {
      "text/html": [
       "<div>\n",
       "<style scoped>\n",
       "    .dataframe tbody tr th:only-of-type {\n",
       "        vertical-align: middle;\n",
       "    }\n",
       "\n",
       "    .dataframe tbody tr th {\n",
       "        vertical-align: top;\n",
       "    }\n",
       "\n",
       "    .dataframe thead th {\n",
       "        text-align: right;\n",
       "    }\n",
       "</style>\n",
       "<table border=\"1\" class=\"dataframe\">\n",
       "  <thead>\n",
       "    <tr style=\"text-align: right;\">\n",
       "      <th>total_income_group</th>\n",
       "      <th>1. Менее 30000</th>\n",
       "      <th>2. 30000 - 50000</th>\n",
       "      <th>3. 50000 - 80000</th>\n",
       "      <th>4. 80000 - 120000</th>\n",
       "      <th>5. 120000 - 160000</th>\n",
       "      <th>6. 160000 - 200000</th>\n",
       "      <th>7. 200000 - 300000</th>\n",
       "      <th>8. 300000 - 500000</th>\n",
       "      <th>9. Более 500000</th>\n",
       "    </tr>\n",
       "  </thead>\n",
       "  <tbody>\n",
       "    <tr>\n",
       "      <td>debt</td>\n",
       "      <td>0.090909</td>\n",
       "      <td>0.060519</td>\n",
       "      <td>0.080149</td>\n",
       "      <td>0.082285</td>\n",
       "      <td>0.090435</td>\n",
       "      <td>0.081998</td>\n",
       "      <td>0.070279</td>\n",
       "      <td>0.073777</td>\n",
       "      <td>0.063063</td>\n",
       "    </tr>\n",
       "  </tbody>\n",
       "</table>\n",
       "</div>"
      ],
      "text/plain": [
       "total_income_group  1. Менее 30000  2. 30000 - 50000  3. 50000 - 80000  \\\n",
       "debt                      0.090909          0.060519          0.080149   \n",
       "\n",
       "total_income_group  4. 80000 - 120000  5. 120000 - 160000  6. 160000 - 200000  \\\n",
       "debt                         0.082285            0.090435            0.081998   \n",
       "\n",
       "total_income_group  7. 200000 - 300000  8. 300000 - 500000  9. Более 500000  \n",
       "debt                          0.070279            0.073777         0.063063  "
      ]
     },
     "execution_count": 59,
     "metadata": {},
     "output_type": "execute_result"
    }
   ],
   "source": [
    "#Рассчитаем вероятность просрочки кредита в разрезе дохода:\n",
    "pd.pivot_table(data, values=[\"debt\"], columns=[\"total_income_group\"], aggfunc='mean')"
   ]
  },
  {
   "cell_type": "code",
   "execution_count": 242,
   "metadata": {},
   "outputs": [
    {
     "data": {
      "text/plain": [
       "<matplotlib.axes._subplots.AxesSubplot at 0x7f4c1deb91d0>"
      ]
     },
     "execution_count": 242,
     "metadata": {},
     "output_type": "execute_result"
    },
    {
     "data": {
      "image/png": "[encoded data removed]",
      "text/plain": [
       "<Figure size 864x288 with 1 Axes>"
      ]
     },
     "metadata": {
      "needs_background": "light"
     },
     "output_type": "display_data"
    }
   ],
   "source": [
    "data.groupby('total_income_group').agg({'debt': 'mean'}).reset_index().plot(kind='bar', x='total_income_group', y='debt', title='', figsize=(12,4))"
   ]
  },
  {
   "cell_type": "markdown",
   "metadata": {},
   "source": [
    "**Вывод**"
   ]
  },
  {
   "cell_type": "markdown",
   "metadata": {},
   "source": [
    " - Доход тех, кто позволяет себе просрочки по кредиту чуть ниже. Но разница не большая\n",
    " - По графику видим, что вероятность просрочки у людей и очень низким (до 30000) и средним (120000-160000) выше. Клиенты с очень высоким доходом (более 500000) позволяют себе просрочки заменто реже"
   ]
  },
  {
   "cell_type": "markdown",
   "metadata": {},
   "source": [
    "### Как разные цели кредита влияют на его возврат в срок?"
   ]
  },
  {
   "cell_type": "code",
   "execution_count": 62,
   "metadata": {},
   "outputs": [
    {
     "data": {
      "text/html": [
       "<div>\n",
       "<style scoped>\n",
       "    .dataframe tbody tr th:only-of-type {\n",
       "        vertical-align: middle;\n",
       "    }\n",
       "\n",
       "    .dataframe tbody tr th {\n",
       "        vertical-align: top;\n",
       "    }\n",
       "\n",
       "    .dataframe thead th {\n",
       "        text-align: right;\n",
       "    }\n",
       "</style>\n",
       "<table border=\"1\" class=\"dataframe\">\n",
       "  <thead>\n",
       "    <tr style=\"text-align: right;\">\n",
       "      <th></th>\n",
       "      <th>purpose_group</th>\n",
       "      <th>debt</th>\n",
       "    </tr>\n",
       "  </thead>\n",
       "  <tbody>\n",
       "    <tr>\n",
       "      <td>0</td>\n",
       "      <td>1. покупка недвижимости / жилья</td>\n",
       "      <td>0.069968</td>\n",
       "    </tr>\n",
       "    <tr>\n",
       "      <td>1</td>\n",
       "      <td>2. строительство недвижимости / жилья</td>\n",
       "      <td>0.076799</td>\n",
       "    </tr>\n",
       "    <tr>\n",
       "      <td>2</td>\n",
       "      <td>3. автомобиль</td>\n",
       "      <td>0.093236</td>\n",
       "    </tr>\n",
       "    <tr>\n",
       "      <td>3</td>\n",
       "      <td>4. образование</td>\n",
       "      <td>0.092947</td>\n",
       "    </tr>\n",
       "    <tr>\n",
       "      <td>4</td>\n",
       "      <td>5. ремонт</td>\n",
       "      <td>0.058140</td>\n",
       "    </tr>\n",
       "    <tr>\n",
       "      <td>5</td>\n",
       "      <td>6. свадьба</td>\n",
       "      <td>0.078730</td>\n",
       "    </tr>\n",
       "    <tr>\n",
       "      <td>6</td>\n",
       "      <td>7. операция</td>\n",
       "      <td>0.079193</td>\n",
       "    </tr>\n",
       "    <tr>\n",
       "      <td>7</td>\n",
       "      <td>8. жилье (без уточнения)</td>\n",
       "      <td>0.072441</td>\n",
       "    </tr>\n",
       "    <tr>\n",
       "      <td>8</td>\n",
       "      <td>9. недвижимость (без уточнения)</td>\n",
       "      <td>0.065391</td>\n",
       "    </tr>\n",
       "  </tbody>\n",
       "</table>\n",
       "</div>"
      ],
      "text/plain": [
       "                           purpose_group      debt\n",
       "0        1. покупка недвижимости / жилья  0.069968\n",
       "1  2. строительство недвижимости / жилья  0.076799\n",
       "2                          3. автомобиль  0.093236\n",
       "3                         4. образование  0.092947\n",
       "4                              5. ремонт  0.058140\n",
       "5                             6. свадьба  0.078730\n",
       "6                            7. операция  0.079193\n",
       "7               8. жилье (без уточнения)  0.072441\n",
       "8        9. недвижимость (без уточнения)  0.065391"
      ]
     },
     "execution_count": 62,
     "metadata": {},
     "output_type": "execute_result"
    }
   ],
   "source": [
    "#Рассчитаем вероятность просрочки кредита в целей кредита:\n",
    "pd.pivot_table(data, values=[\"debt\"], index=[\"purpose_group\"], aggfunc='mean').reset_index()"
   ]
  },
  {
   "cell_type": "code",
   "execution_count": 243,
   "metadata": {},
   "outputs": [
    {
     "data": {
      "text/plain": [
       "<matplotlib.axes._subplots.AxesSubplot at 0x7f4c1de84650>"
      ]
     },
     "execution_count": 243,
     "metadata": {},
     "output_type": "execute_result"
    },
    {
     "data": {
      "image/png": "[encoded data removed]",
      "text/plain": [
       "<Figure size 864x288 with 1 Axes>"
      ]
     },
     "metadata": {
      "needs_background": "light"
     },
     "output_type": "display_data"
    }
   ],
   "source": [
    "data.groupby('purpose_group').agg({'debt': 'mean'}).reset_index().plot(kind='bar', x='purpose_group', y='debt', title='', figsize=(12,4))"
   ]
  },
  {
   "cell_type": "markdown",
   "metadata": {},
   "source": [
    "**Вывод**"
   ]
  },
  {
   "cell_type": "markdown",
   "metadata": {},
   "source": [
    " - если одним прекрасным утром человек решил смнить жизнь: купил беху в кредит и в кредит взял курс на Практикуме - это рисковый парень во всех смыслах"
   ]
  },
  {
   "cell_type": "markdown",
   "metadata": {},
   "source": [
    "## Общий вывод"
   ]
  },
  {
   "cell_type": "markdown",
   "metadata": {},
   "source": [
    "1. Проанализировали данные, выявив:\n",
    "  - не валидные значения в некоторых столбцах (children, days_employed)\n",
    "  - пропуски (в столбцах days_employed, total_income)\n",
    "  - дубликаты как в одлельных переменных, так и целые строчки\n",
    "  \n",
    "2. Почистили данные, удалили выбросы\n",
    "3. Исследовали васивимость отдачи кредита от ряда переменных, попутно проведя категоризацию переменных\n",
    "\n",
    "\n",
    "4. В результате анализа сделали выводы:\n",
    "   - клиенты без детей в среднем отдают кредиты лучше\n",
    "   - не женатые и пары в гражданском браке под повышенным риском не отдачи кредита\n",
    "   - доход имеет значение, то не такое сильное, как стоило ожидать\n",
    "   - студенты Практикум и не тольно на авто в кредит тоже в зоне риска )) А вот деньги, взятые на ремонт и покупку жилья, отдают хорошо\n",
    "   "
   ]
  }
 ],
 "metadata": {
  "ExecuteTimeLog": [
   {
    "duration": 582,
    "start_time": "2021-11-29T13:22:18.083Z"
   },
   {
    "duration": 56,
    "start_time": "2021-11-29T13:22:33.645Z"
   },
   {
    "duration": 47,
    "start_time": "2021-11-29T13:25:00.087Z"
   },
   {
    "duration": 10,
    "start_time": "2021-11-29T13:25:12.430Z"
   },
   {
    "duration": 17,
    "start_time": "2021-11-29T13:25:12.958Z"
   },
   {
    "duration": 8,
    "start_time": "2021-11-29T13:44:04.166Z"
   },
   {
    "duration": 369,
    "start_time": "2021-11-29T13:45:20.302Z"
   },
   {
    "duration": 1103,
    "start_time": "2021-11-29T13:45:45.060Z"
   },
   {
    "duration": 262,
    "start_time": "2021-11-29T13:45:52.633Z"
   },
   {
    "duration": 7,
    "start_time": "2021-11-29T13:47:11.912Z"
   },
   {
    "duration": 2,
    "start_time": "2021-11-29T13:49:50.880Z"
   },
   {
    "duration": 250,
    "start_time": "2021-11-29T13:55:05.455Z"
   },
   {
    "duration": 225,
    "start_time": "2021-11-29T13:55:41.419Z"
   },
   {
    "duration": 19,
    "start_time": "2021-11-29T14:02:04.634Z"
   },
   {
    "duration": 10,
    "start_time": "2021-11-29T14:04:24.840Z"
   },
   {
    "duration": 313,
    "start_time": "2021-11-29T14:05:37.184Z"
   },
   {
    "duration": 286,
    "start_time": "2021-11-29T14:06:10.015Z"
   },
   {
    "duration": 9,
    "start_time": "2021-11-29T14:06:13.741Z"
   },
   {
    "duration": 8,
    "start_time": "2021-11-29T14:06:22.863Z"
   },
   {
    "duration": 108,
    "start_time": "2021-11-29T14:10:24.239Z"
   },
   {
    "duration": 271,
    "start_time": "2021-11-29T14:10:34.414Z"
   },
   {
    "duration": 11,
    "start_time": "2021-11-29T14:10:47.214Z"
   },
   {
    "duration": 17,
    "start_time": "2021-11-29T14:12:32.980Z"
   },
   {
    "duration": 119,
    "start_time": "2021-11-29T14:23:45.735Z"
   },
   {
    "duration": 89,
    "start_time": "2021-11-29T14:24:18.099Z"
   },
   {
    "duration": 18,
    "start_time": "2021-11-29T14:24:36.794Z"
   },
   {
    "duration": 17,
    "start_time": "2021-11-29T14:26:14.655Z"
   },
   {
    "duration": 439,
    "start_time": "2021-11-29T14:31:48.593Z"
   },
   {
    "duration": 18,
    "start_time": "2021-11-29T14:32:08.451Z"
   },
   {
    "duration": 16,
    "start_time": "2021-11-29T14:32:34.652Z"
   },
   {
    "duration": 17,
    "start_time": "2021-11-29T14:32:45.474Z"
   },
   {
    "duration": 18,
    "start_time": "2021-11-29T14:33:46.104Z"
   },
   {
    "duration": 17,
    "start_time": "2021-11-29T14:37:10.887Z"
   },
   {
    "duration": 3,
    "start_time": "2021-11-29T14:37:33.195Z"
   },
   {
    "duration": 15,
    "start_time": "2021-11-29T14:39:49.847Z"
   },
   {
    "duration": 13,
    "start_time": "2021-11-29T15:09:19.276Z"
   },
   {
    "duration": 283,
    "start_time": "2021-11-29T15:12:02.428Z"
   },
   {
    "duration": 16,
    "start_time": "2021-11-29T15:18:28.714Z"
   },
   {
    "duration": 2,
    "start_time": "2021-11-29T15:25:40.176Z"
   },
   {
    "duration": 166,
    "start_time": "2021-11-29T15:27:09.802Z"
   },
   {
    "duration": 212,
    "start_time": "2021-11-29T15:37:31.143Z"
   },
   {
    "duration": 9,
    "start_time": "2021-11-29T15:47:37.514Z"
   },
   {
    "duration": 176,
    "start_time": "2021-11-29T15:48:07.534Z"
   },
   {
    "duration": 96,
    "start_time": "2021-11-29T15:59:22.541Z"
   },
   {
    "duration": 16,
    "start_time": "2021-11-29T15:59:27.982Z"
   },
   {
    "duration": 17,
    "start_time": "2021-11-29T16:00:11.453Z"
   },
   {
    "duration": 13,
    "start_time": "2021-11-29T16:01:27.904Z"
   },
   {
    "duration": 14,
    "start_time": "2021-11-29T16:02:09.413Z"
   },
   {
    "duration": 15,
    "start_time": "2021-11-29T16:02:36.811Z"
   },
   {
    "duration": 4,
    "start_time": "2021-11-29T16:19:03.534Z"
   },
   {
    "duration": 16,
    "start_time": "2021-11-29T16:19:38.680Z"
   },
   {
    "duration": 6,
    "start_time": "2021-11-29T16:19:56.925Z"
   },
   {
    "duration": 18,
    "start_time": "2021-11-29T16:20:23.422Z"
   },
   {
    "duration": 5,
    "start_time": "2021-11-29T16:21:30.164Z"
   },
   {
    "duration": 335,
    "start_time": "2021-11-29T16:23:06.603Z"
   },
   {
    "duration": 13,
    "start_time": "2021-11-29T16:32:42.913Z"
   },
   {
    "duration": 15,
    "start_time": "2021-11-29T16:36:20.292Z"
   },
   {
    "duration": 43,
    "start_time": "2021-11-29T16:37:41.613Z"
   },
   {
    "duration": 38,
    "start_time": "2021-11-29T16:37:56.073Z"
   },
   {
    "duration": 96,
    "start_time": "2021-11-29T16:43:27.713Z"
   },
   {
    "duration": 164,
    "start_time": "2021-11-29T16:44:11.343Z"
   },
   {
    "duration": 155,
    "start_time": "2021-11-29T16:44:55.294Z"
   },
   {
    "duration": 484,
    "start_time": "2021-11-29T16:46:11.794Z"
   },
   {
    "duration": 153,
    "start_time": "2021-11-29T16:46:23.882Z"
   },
   {
    "duration": 145,
    "start_time": "2021-11-29T16:48:41.946Z"
   },
   {
    "duration": 163,
    "start_time": "2021-11-29T16:52:18.234Z"
   },
   {
    "duration": 85,
    "start_time": "2021-11-29T16:53:38.735Z"
   },
   {
    "duration": 170,
    "start_time": "2021-11-29T16:55:14.697Z"
   },
   {
    "duration": 114,
    "start_time": "2021-11-29T16:55:25.837Z"
   },
   {
    "duration": 195,
    "start_time": "2021-11-29T16:55:32.833Z"
   },
   {
    "duration": 174,
    "start_time": "2021-11-29T16:57:24.393Z"
   },
   {
    "duration": 293,
    "start_time": "2021-11-29T16:59:16.815Z"
   },
   {
    "duration": 329,
    "start_time": "2021-11-29T16:59:50.195Z"
   },
   {
    "duration": 298,
    "start_time": "2021-11-29T17:00:52.233Z"
   },
   {
    "duration": 4,
    "start_time": "2021-11-29T17:01:09.670Z"
   },
   {
    "duration": 306,
    "start_time": "2021-11-29T17:01:24.303Z"
   },
   {
    "duration": 6,
    "start_time": "2021-11-29T17:02:15.105Z"
   },
   {
    "duration": 49,
    "start_time": "2021-11-29T17:02:37.773Z"
   },
   {
    "duration": 11,
    "start_time": "2021-11-29T17:02:38.488Z"
   },
   {
    "duration": 12,
    "start_time": "2021-11-29T17:02:39.028Z"
   },
   {
    "duration": 17,
    "start_time": "2021-11-29T17:02:46.552Z"
   },
   {
    "duration": 172,
    "start_time": "2021-11-29T17:02:51.104Z"
   },
   {
    "duration": 194,
    "start_time": "2021-11-29T17:02:51.945Z"
   },
   {
    "duration": 170,
    "start_time": "2021-11-29T17:02:56.253Z"
   },
   {
    "duration": 4,
    "start_time": "2021-11-29T17:02:59.602Z"
   },
   {
    "duration": 8,
    "start_time": "2021-11-29T17:03:08.644Z"
   },
   {
    "duration": 10,
    "start_time": "2021-11-29T17:03:22.953Z"
   },
   {
    "duration": 50,
    "start_time": "2021-11-29T17:04:24.293Z"
   },
   {
    "duration": 11,
    "start_time": "2021-11-29T17:04:24.484Z"
   },
   {
    "duration": 11,
    "start_time": "2021-11-29T17:04:24.685Z"
   },
   {
    "duration": 17,
    "start_time": "2021-11-29T17:04:25.885Z"
   },
   {
    "duration": 181,
    "start_time": "2021-11-29T17:04:27.145Z"
   },
   {
    "duration": 183,
    "start_time": "2021-11-29T17:04:29.335Z"
   },
   {
    "duration": 224,
    "start_time": "2021-11-29T17:04:38.922Z"
   },
   {
    "duration": 3,
    "start_time": "2021-11-29T17:04:41.665Z"
   },
   {
    "duration": 9,
    "start_time": "2021-11-29T17:04:44.026Z"
   },
   {
    "duration": 46,
    "start_time": "2021-11-29T17:05:34.733Z"
   },
   {
    "duration": 11,
    "start_time": "2021-11-29T17:05:34.933Z"
   },
   {
    "duration": 11,
    "start_time": "2021-11-29T17:05:35.118Z"
   },
   {
    "duration": 19,
    "start_time": "2021-11-29T17:05:36.280Z"
   },
   {
    "duration": 172,
    "start_time": "2021-11-29T17:05:36.841Z"
   },
   {
    "duration": 180,
    "start_time": "2021-11-29T17:05:37.145Z"
   },
   {
    "duration": 173,
    "start_time": "2021-11-29T17:05:38.013Z"
   },
   {
    "duration": 5,
    "start_time": "2021-11-29T17:05:41.305Z"
   },
   {
    "duration": 11,
    "start_time": "2021-11-29T17:05:41.505Z"
   },
   {
    "duration": 7,
    "start_time": "2021-11-29T17:05:55.376Z"
   },
   {
    "duration": 9,
    "start_time": "2021-11-29T17:07:47.567Z"
   },
   {
    "duration": 9,
    "start_time": "2021-11-29T17:08:18.606Z"
   },
   {
    "duration": 48,
    "start_time": "2021-11-29T17:08:31.705Z"
   },
   {
    "duration": 10,
    "start_time": "2021-11-29T17:08:31.926Z"
   },
   {
    "duration": 11,
    "start_time": "2021-11-29T17:08:32.104Z"
   },
   {
    "duration": 18,
    "start_time": "2021-11-29T17:08:33.246Z"
   },
   {
    "duration": 165,
    "start_time": "2021-11-29T17:08:34.205Z"
   },
   {
    "duration": 179,
    "start_time": "2021-11-29T17:08:34.827Z"
   },
   {
    "duration": 11,
    "start_time": "2021-11-29T17:08:37.748Z"
   },
   {
    "duration": 450,
    "start_time": "2021-11-29T17:10:56.768Z"
   },
   {
    "duration": 173,
    "start_time": "2021-11-29T17:11:34.260Z"
   },
   {
    "duration": 310,
    "start_time": "2021-11-29T17:11:55.675Z"
   },
   {
    "duration": 48,
    "start_time": "2021-11-29T17:12:50.937Z"
   },
   {
    "duration": 11,
    "start_time": "2021-11-29T17:12:51.591Z"
   },
   {
    "duration": 11,
    "start_time": "2021-11-29T17:12:56.245Z"
   },
   {
    "duration": 7151,
    "start_time": "2021-11-29T17:17:02.306Z"
   },
   {
    "duration": 295,
    "start_time": "2021-11-29T17:17:48.966Z"
   },
   {
    "duration": 316,
    "start_time": "2021-11-29T17:19:44.886Z"
   },
   {
    "duration": 195,
    "start_time": "2021-11-29T17:20:08.505Z"
   },
   {
    "duration": 300,
    "start_time": "2021-11-29T17:20:21.185Z"
   },
   {
    "duration": 400,
    "start_time": "2021-12-01T20:14:11.037Z"
   },
   {
    "duration": 690,
    "start_time": "2021-12-01T20:14:15.897Z"
   },
   {
    "duration": 13,
    "start_time": "2021-12-01T20:14:16.588Z"
   },
   {
    "duration": 18,
    "start_time": "2021-12-01T20:14:19.057Z"
   },
   {
    "duration": 21,
    "start_time": "2021-12-01T20:14:24.310Z"
   },
   {
    "duration": 285,
    "start_time": "2021-12-01T20:15:09.785Z"
   },
   {
    "duration": 4,
    "start_time": "2021-12-01T20:16:41.896Z"
   },
   {
    "duration": 4,
    "start_time": "2021-12-01T20:17:20.520Z"
   },
   {
    "duration": 378,
    "start_time": "2021-12-01T20:18:09.591Z"
   },
   {
    "duration": 214,
    "start_time": "2021-12-01T20:20:52.756Z"
   },
   {
    "duration": 192,
    "start_time": "2021-12-01T20:21:05.357Z"
   },
   {
    "duration": 230,
    "start_time": "2021-12-01T20:21:13.572Z"
   },
   {
    "duration": 185,
    "start_time": "2021-12-01T20:21:24.457Z"
   },
   {
    "duration": 203,
    "start_time": "2021-12-01T20:21:28.356Z"
   },
   {
    "duration": 128,
    "start_time": "2021-12-01T20:21:58.216Z"
   },
   {
    "duration": 6,
    "start_time": "2021-12-01T20:22:38.316Z"
   },
   {
    "duration": 7,
    "start_time": "2021-12-01T20:27:01.722Z"
   },
   {
    "duration": 12,
    "start_time": "2021-12-01T20:38:18.137Z"
   },
   {
    "duration": 222,
    "start_time": "2021-12-01T20:40:21.158Z"
   },
   {
    "duration": 242,
    "start_time": "2021-12-01T20:41:00.020Z"
   },
   {
    "duration": 245,
    "start_time": "2021-12-01T20:41:45.957Z"
   },
   {
    "duration": 394,
    "start_time": "2021-12-01T20:42:01.258Z"
   },
   {
    "duration": 7,
    "start_time": "2021-12-01T20:42:08.317Z"
   },
   {
    "duration": 23,
    "start_time": "2021-12-01T20:44:51.057Z"
   },
   {
    "duration": 15,
    "start_time": "2021-12-01T20:45:30.324Z"
   },
   {
    "duration": 3,
    "start_time": "2021-12-01T20:45:45.517Z"
   },
   {
    "duration": 4,
    "start_time": "2021-12-01T20:48:42.238Z"
   },
   {
    "duration": 2,
    "start_time": "2021-12-01T20:48:48.757Z"
   },
   {
    "duration": 389,
    "start_time": "2021-12-01T20:50:02.117Z"
   },
   {
    "duration": 267,
    "start_time": "2021-12-01T20:50:50.005Z"
   },
   {
    "duration": 51,
    "start_time": "2021-12-01T20:56:31.847Z"
   },
   {
    "duration": 11,
    "start_time": "2021-12-01T20:56:32.157Z"
   },
   {
    "duration": 11,
    "start_time": "2021-12-01T20:56:32.817Z"
   },
   {
    "duration": 6,
    "start_time": "2021-12-01T20:56:34.437Z"
   },
   {
    "duration": 10,
    "start_time": "2021-12-01T20:56:35.109Z"
   },
   {
    "duration": 244,
    "start_time": "2021-12-01T20:56:36.137Z"
   },
   {
    "duration": 2,
    "start_time": "2021-12-01T20:56:37.112Z"
   },
   {
    "duration": 8,
    "start_time": "2021-12-01T20:56:38.057Z"
   },
   {
    "duration": 3,
    "start_time": "2021-12-01T20:56:39.037Z"
   },
   {
    "duration": 5,
    "start_time": "2021-12-01T20:57:03.538Z"
   },
   {
    "duration": 350,
    "start_time": "2021-12-01T20:57:10.677Z"
   },
   {
    "duration": 258,
    "start_time": "2021-12-01T20:57:40.165Z"
   },
   {
    "duration": 4,
    "start_time": "2021-12-01T20:58:20.530Z"
   },
   {
    "duration": 15,
    "start_time": "2021-12-01T20:59:14.237Z"
   },
   {
    "duration": 7,
    "start_time": "2021-12-01T21:01:33.817Z"
   },
   {
    "duration": 228,
    "start_time": "2021-12-01T21:03:10.317Z"
   },
   {
    "duration": 51,
    "start_time": "2021-12-01T21:03:22.097Z"
   },
   {
    "duration": 11,
    "start_time": "2021-12-01T21:03:22.317Z"
   },
   {
    "duration": 12,
    "start_time": "2021-12-01T21:03:22.537Z"
   },
   {
    "duration": 6,
    "start_time": "2021-12-01T21:03:26.494Z"
   },
   {
    "duration": 11,
    "start_time": "2021-12-01T21:03:26.557Z"
   },
   {
    "duration": 256,
    "start_time": "2021-12-01T21:03:28.337Z"
   },
   {
    "duration": 3,
    "start_time": "2021-12-01T21:03:42.506Z"
   },
   {
    "duration": 7,
    "start_time": "2021-12-01T21:03:42.866Z"
   },
   {
    "duration": 264,
    "start_time": "2021-12-01T21:03:51.977Z"
   },
   {
    "duration": 243,
    "start_time": "2021-12-01T21:05:02.799Z"
   },
   {
    "duration": 183,
    "start_time": "2021-12-01T21:05:08.178Z"
   },
   {
    "duration": 203,
    "start_time": "2021-12-01T21:09:29.097Z"
   },
   {
    "duration": 8,
    "start_time": "2021-12-01T21:10:20.858Z"
   },
   {
    "duration": 19,
    "start_time": "2021-12-01T21:12:55.405Z"
   },
   {
    "duration": 24,
    "start_time": "2021-12-01T21:14:53.556Z"
   },
   {
    "duration": 22,
    "start_time": "2021-12-01T21:15:07.258Z"
   },
   {
    "duration": 380,
    "start_time": "2021-12-01T21:15:36.925Z"
   },
   {
    "duration": 15,
    "start_time": "2021-12-01T21:15:48.517Z"
   },
   {
    "duration": 10,
    "start_time": "2021-12-01T21:16:07.797Z"
   },
   {
    "duration": 9,
    "start_time": "2021-12-01T21:16:52.257Z"
   },
   {
    "duration": 8,
    "start_time": "2021-12-01T21:20:21.377Z"
   },
   {
    "duration": 11,
    "start_time": "2021-12-01T21:21:03.658Z"
   },
   {
    "duration": 7,
    "start_time": "2021-12-01T21:22:07.945Z"
   },
   {
    "duration": 8,
    "start_time": "2021-12-01T21:27:52.257Z"
   },
   {
    "duration": 8,
    "start_time": "2021-12-01T21:28:09.597Z"
   },
   {
    "duration": 210,
    "start_time": "2021-12-01T21:29:37.617Z"
   },
   {
    "duration": 351,
    "start_time": "2021-12-01T21:29:51.697Z"
   },
   {
    "duration": 11,
    "start_time": "2021-12-01T21:30:29.597Z"
   },
   {
    "duration": 217,
    "start_time": "2021-12-01T21:32:57.578Z"
   },
   {
    "duration": 491,
    "start_time": "2021-12-01T21:33:03.858Z"
   },
   {
    "duration": 401,
    "start_time": "2021-12-01T21:33:09.232Z"
   },
   {
    "duration": 317,
    "start_time": "2021-12-01T21:33:18.871Z"
   },
   {
    "duration": 358,
    "start_time": "2021-12-01T21:33:27.370Z"
   },
   {
    "duration": 56,
    "start_time": "2021-12-01T21:34:08.057Z"
   },
   {
    "duration": 11,
    "start_time": "2021-12-01T21:34:08.297Z"
   },
   {
    "duration": 12,
    "start_time": "2021-12-01T21:34:08.477Z"
   },
   {
    "duration": 6,
    "start_time": "2021-12-01T21:34:10.265Z"
   },
   {
    "duration": 12,
    "start_time": "2021-12-01T21:34:11.257Z"
   },
   {
    "duration": 437,
    "start_time": "2021-12-01T21:34:12.565Z"
   },
   {
    "duration": 3,
    "start_time": "2021-12-01T21:34:16.677Z"
   },
   {
    "duration": 8,
    "start_time": "2021-12-01T21:34:16.977Z"
   },
   {
    "duration": 307,
    "start_time": "2021-12-01T21:34:19.492Z"
   },
   {
    "duration": 233,
    "start_time": "2021-12-01T21:34:23.086Z"
   },
   {
    "duration": 244,
    "start_time": "2021-12-01T21:34:28.357Z"
   },
   {
    "duration": 7,
    "start_time": "2021-12-01T21:34:37.177Z"
   },
   {
    "duration": 18,
    "start_time": "2021-12-01T21:34:37.398Z"
   },
   {
    "duration": 12,
    "start_time": "2021-12-01T21:34:38.017Z"
   },
   {
    "duration": 10,
    "start_time": "2021-12-01T21:34:38.741Z"
   },
   {
    "duration": 13,
    "start_time": "2021-12-01T21:34:40.057Z"
   },
   {
    "duration": 10,
    "start_time": "2021-12-01T21:34:42.937Z"
   },
   {
    "duration": 11,
    "start_time": "2021-12-01T21:34:43.765Z"
   },
   {
    "duration": 5,
    "start_time": "2021-12-01T21:34:44.877Z"
   },
   {
    "duration": 281,
    "start_time": "2021-12-01T21:34:45.697Z"
   },
   {
    "duration": 9,
    "start_time": "2021-12-01T21:34:55.171Z"
   },
   {
    "duration": 23,
    "start_time": "2021-12-01T21:35:27.623Z"
   },
   {
    "duration": 328,
    "start_time": "2021-12-01T21:36:06.178Z"
   },
   {
    "duration": 54,
    "start_time": "2021-12-01T21:38:08.886Z"
   },
   {
    "duration": 11,
    "start_time": "2021-12-01T21:38:09.117Z"
   },
   {
    "duration": 11,
    "start_time": "2021-12-01T21:38:09.358Z"
   },
   {
    "duration": 16,
    "start_time": "2021-12-01T21:38:17.298Z"
   },
   {
    "duration": 25,
    "start_time": "2021-12-01T21:44:34.997Z"
   },
   {
    "duration": 24,
    "start_time": "2021-12-01T21:45:40.505Z"
   },
   {
    "duration": 23,
    "start_time": "2021-12-01T21:48:05.146Z"
   },
   {
    "duration": 55,
    "start_time": "2021-12-01T21:50:31.518Z"
   },
   {
    "duration": 13,
    "start_time": "2021-12-01T21:50:31.758Z"
   },
   {
    "duration": 13,
    "start_time": "2021-12-01T21:50:31.977Z"
   },
   {
    "duration": 19,
    "start_time": "2021-12-01T21:50:34.001Z"
   },
   {
    "duration": 6,
    "start_time": "2021-12-01T21:50:35.963Z"
   },
   {
    "duration": 11,
    "start_time": "2021-12-01T21:50:36.358Z"
   },
   {
    "duration": 458,
    "start_time": "2021-12-01T21:50:37.038Z"
   },
   {
    "duration": 8,
    "start_time": "2021-12-01T21:50:37.498Z"
   },
   {
    "duration": 9,
    "start_time": "2021-12-01T21:50:37.697Z"
   },
   {
    "duration": 602,
    "start_time": "2021-12-01T21:50:38.280Z"
   },
   {
    "duration": 371,
    "start_time": "2021-12-01T21:50:39.985Z"
   },
   {
    "duration": 262,
    "start_time": "2021-12-01T21:50:40.957Z"
   },
   {
    "duration": 8,
    "start_time": "2021-12-01T21:50:43.017Z"
   },
   {
    "duration": 18,
    "start_time": "2021-12-01T21:50:43.566Z"
   },
   {
    "duration": 12,
    "start_time": "2021-12-01T21:50:44.817Z"
   },
   {
    "duration": 7,
    "start_time": "2021-12-01T21:50:46.718Z"
   },
   {
    "duration": 11,
    "start_time": "2021-12-01T21:50:48.478Z"
   },
   {
    "duration": 8,
    "start_time": "2021-12-01T21:50:57.217Z"
   },
   {
    "duration": 8,
    "start_time": "2021-12-01T21:50:59.485Z"
   },
   {
    "duration": 6,
    "start_time": "2021-12-01T21:51:00.657Z"
   },
   {
    "duration": 421,
    "start_time": "2021-12-01T21:51:01.481Z"
   },
   {
    "duration": 12,
    "start_time": "2021-12-01T21:51:04.958Z"
   },
   {
    "duration": 53,
    "start_time": "2021-12-01T21:52:37.650Z"
   },
   {
    "duration": 22,
    "start_time": "2021-12-01T21:52:57.278Z"
   },
   {
    "duration": 54,
    "start_time": "2021-12-01T21:53:57.818Z"
   },
   {
    "duration": 12,
    "start_time": "2021-12-01T21:53:58.057Z"
   },
   {
    "duration": 12,
    "start_time": "2021-12-01T21:53:58.237Z"
   },
   {
    "duration": 22,
    "start_time": "2021-12-01T21:54:00.346Z"
   },
   {
    "duration": 24,
    "start_time": "2021-12-01T21:54:06.638Z"
   },
   {
    "duration": 6,
    "start_time": "2021-12-01T21:54:07.717Z"
   },
   {
    "duration": 11,
    "start_time": "2021-12-01T21:54:08.078Z"
   },
   {
    "duration": 302,
    "start_time": "2021-12-01T21:54:08.615Z"
   },
   {
    "duration": 2,
    "start_time": "2021-12-01T21:54:08.919Z"
   },
   {
    "duration": 8,
    "start_time": "2021-12-01T21:54:08.937Z"
   },
   {
    "duration": 324,
    "start_time": "2021-12-01T21:54:09.363Z"
   },
   {
    "duration": 244,
    "start_time": "2021-12-01T21:54:09.858Z"
   },
   {
    "duration": 248,
    "start_time": "2021-12-01T21:54:10.218Z"
   },
   {
    "duration": 8,
    "start_time": "2021-12-01T21:54:10.773Z"
   },
   {
    "duration": 17,
    "start_time": "2021-12-01T21:54:10.978Z"
   },
   {
    "duration": 11,
    "start_time": "2021-12-01T21:54:11.530Z"
   },
   {
    "duration": 9,
    "start_time": "2021-12-01T21:54:12.477Z"
   },
   {
    "duration": 11,
    "start_time": "2021-12-01T21:54:13.738Z"
   },
   {
    "duration": 7,
    "start_time": "2021-12-01T21:54:14.798Z"
   },
   {
    "duration": 8,
    "start_time": "2021-12-01T21:54:15.817Z"
   },
   {
    "duration": 6,
    "start_time": "2021-12-01T21:54:16.974Z"
   },
   {
    "duration": 282,
    "start_time": "2021-12-01T21:54:17.876Z"
   },
   {
    "duration": 8,
    "start_time": "2021-12-01T21:54:19.786Z"
   },
   {
    "duration": 24,
    "start_time": "2021-12-01T21:54:33.078Z"
   },
   {
    "duration": 26,
    "start_time": "2021-12-01T21:55:16.839Z"
   },
   {
    "duration": 125,
    "start_time": "2021-12-01T21:58:22.749Z"
   },
   {
    "duration": 371,
    "start_time": "2021-12-01T21:58:30.686Z"
   },
   {
    "duration": 61,
    "start_time": "2021-12-01T21:58:38.065Z"
   },
   {
    "duration": 13,
    "start_time": "2021-12-01T21:58:38.280Z"
   },
   {
    "duration": 14,
    "start_time": "2021-12-01T21:58:38.457Z"
   },
   {
    "duration": 47,
    "start_time": "2021-12-01T21:58:39.318Z"
   },
   {
    "duration": 7,
    "start_time": "2021-12-01T21:58:40.357Z"
   },
   {
    "duration": 11,
    "start_time": "2021-12-01T21:58:40.725Z"
   },
   {
    "duration": 392,
    "start_time": "2021-12-01T21:58:41.257Z"
   },
   {
    "duration": 3,
    "start_time": "2021-12-01T21:58:41.651Z"
   },
   {
    "duration": 10,
    "start_time": "2021-12-01T21:58:41.734Z"
   },
   {
    "duration": 319,
    "start_time": "2021-12-01T21:58:42.022Z"
   },
   {
    "duration": 378,
    "start_time": "2021-12-01T21:58:42.552Z"
   },
   {
    "duration": 396,
    "start_time": "2021-12-01T21:58:42.932Z"
   },
   {
    "duration": 9,
    "start_time": "2021-12-01T21:58:43.457Z"
   },
   {
    "duration": 18,
    "start_time": "2021-12-01T21:58:43.648Z"
   },
   {
    "duration": 12,
    "start_time": "2021-12-01T21:58:44.298Z"
   },
   {
    "duration": 8,
    "start_time": "2021-12-01T21:58:45.308Z"
   },
   {
    "duration": 14,
    "start_time": "2021-12-01T21:58:46.697Z"
   },
   {
    "duration": 10,
    "start_time": "2021-12-01T21:58:48.418Z"
   },
   {
    "duration": 11,
    "start_time": "2021-12-01T21:58:49.157Z"
   },
   {
    "duration": 7,
    "start_time": "2021-12-01T21:58:50.280Z"
   },
   {
    "duration": 421,
    "start_time": "2021-12-01T21:58:51.625Z"
   },
   {
    "duration": 8,
    "start_time": "2021-12-01T21:58:54.197Z"
   },
   {
    "duration": 4,
    "start_time": "2021-12-01T21:58:56.637Z"
   },
   {
    "duration": 12,
    "start_time": "2021-12-01T22:03:12.578Z"
   },
   {
    "duration": 15,
    "start_time": "2021-12-01T22:09:45.857Z"
   },
   {
    "duration": 390,
    "start_time": "2021-12-01T22:26:21.257Z"
   },
   {
    "duration": 243,
    "start_time": "2021-12-01T22:30:08.805Z"
   },
   {
    "duration": 253,
    "start_time": "2021-12-01T22:32:12.217Z"
   },
   {
    "duration": 389,
    "start_time": "2021-12-01T22:39:33.098Z"
   },
   {
    "duration": 399,
    "start_time": "2021-12-01T22:39:43.326Z"
   },
   {
    "duration": 386,
    "start_time": "2021-12-01T22:44:46.879Z"
   },
   {
    "duration": 415,
    "start_time": "2021-12-01T22:49:10.018Z"
   },
   {
    "duration": 376,
    "start_time": "2021-12-01T22:49:26.137Z"
   },
   {
    "duration": 6697,
    "start_time": "2021-12-01T22:54:11.018Z"
   },
   {
    "duration": 6835,
    "start_time": "2021-12-01T22:57:04.877Z"
   },
   {
    "duration": 9,
    "start_time": "2021-12-01T22:58:28.022Z"
   },
   {
    "duration": 4,
    "start_time": "2021-12-01T22:58:33.885Z"
   },
   {
    "duration": 379,
    "start_time": "2021-12-01T22:58:40.258Z"
   },
   {
    "duration": 9,
    "start_time": "2021-12-01T22:59:20.937Z"
   },
   {
    "duration": 6,
    "start_time": "2021-12-01T23:01:48.478Z"
   },
   {
    "duration": 4,
    "start_time": "2021-12-01T23:02:02.778Z"
   },
   {
    "duration": 5,
    "start_time": "2021-12-01T23:02:30.638Z"
   },
   {
    "duration": 4,
    "start_time": "2021-12-01T23:02:45.958Z"
   },
   {
    "duration": 57,
    "start_time": "2021-12-01T23:02:59.058Z"
   },
   {
    "duration": 12,
    "start_time": "2021-12-01T23:02:59.265Z"
   },
   {
    "duration": 12,
    "start_time": "2021-12-01T23:02:59.437Z"
   },
   {
    "duration": 32,
    "start_time": "2021-12-01T23:03:00.338Z"
   },
   {
    "duration": 8,
    "start_time": "2021-12-01T23:03:01.437Z"
   },
   {
    "duration": 11,
    "start_time": "2021-12-01T23:03:01.777Z"
   },
   {
    "duration": 448,
    "start_time": "2021-12-01T23:03:02.358Z"
   },
   {
    "duration": 2,
    "start_time": "2021-12-01T23:03:02.809Z"
   },
   {
    "duration": 19,
    "start_time": "2021-12-01T23:03:02.814Z"
   },
   {
    "duration": 453,
    "start_time": "2021-12-01T23:03:03.077Z"
   },
   {
    "duration": 350,
    "start_time": "2021-12-01T23:03:03.658Z"
   },
   {
    "duration": 252,
    "start_time": "2021-12-01T23:03:04.057Z"
   },
   {
    "duration": 8,
    "start_time": "2021-12-01T23:03:04.646Z"
   },
   {
    "duration": 17,
    "start_time": "2021-12-01T23:03:04.817Z"
   },
   {
    "duration": 11,
    "start_time": "2021-12-01T23:03:05.396Z"
   },
   {
    "duration": 11,
    "start_time": "2021-12-01T23:03:06.217Z"
   },
   {
    "duration": 10,
    "start_time": "2021-12-01T23:03:07.017Z"
   },
   {
    "duration": 8,
    "start_time": "2021-12-01T23:03:07.837Z"
   },
   {
    "duration": 7,
    "start_time": "2021-12-01T23:03:08.638Z"
   },
   {
    "duration": 6,
    "start_time": "2021-12-01T23:03:09.438Z"
   },
   {
    "duration": 291,
    "start_time": "2021-12-01T23:03:10.418Z"
   },
   {
    "duration": 8,
    "start_time": "2021-12-01T23:03:11.217Z"
   },
   {
    "duration": 4,
    "start_time": "2021-12-01T23:03:12.237Z"
   },
   {
    "duration": 12,
    "start_time": "2021-12-01T23:03:15.227Z"
   },
   {
    "duration": 30,
    "start_time": "2021-12-01T23:03:16.018Z"
   },
   {
    "duration": 23,
    "start_time": "2021-12-01T23:03:21.218Z"
   },
   {
    "duration": 349,
    "start_time": "2021-12-01T23:03:23.257Z"
   },
   {
    "duration": 4,
    "start_time": "2021-12-01T23:03:34.198Z"
   },
   {
    "duration": 500,
    "start_time": "2021-12-01T23:03:41.985Z"
   },
   {
    "duration": 401,
    "start_time": "2021-12-01T23:05:39.876Z"
   },
   {
    "duration": 358,
    "start_time": "2021-12-01T23:05:51.357Z"
   },
   {
    "duration": 4,
    "start_time": "2021-12-01T23:05:54.877Z"
   },
   {
    "duration": 24,
    "start_time": "2021-12-01T23:06:07.738Z"
   },
   {
    "duration": 6,
    "start_time": "2021-12-01T23:06:33.481Z"
   },
   {
    "duration": 343,
    "start_time": "2021-12-01T23:07:06.957Z"
   },
   {
    "duration": 407,
    "start_time": "2021-12-01T23:07:35.958Z"
   },
   {
    "duration": 371,
    "start_time": "2021-12-01T23:07:58.698Z"
   },
   {
    "duration": 5,
    "start_time": "2021-12-01T23:08:25.438Z"
   },
   {
    "duration": 12,
    "start_time": "2021-12-01T23:09:23.057Z"
   },
   {
    "duration": 374,
    "start_time": "2021-12-01T23:09:47.998Z"
   },
   {
    "duration": 373,
    "start_time": "2021-12-01T23:10:29.738Z"
   },
   {
    "duration": 6,
    "start_time": "2021-12-01T23:10:36.126Z"
   },
   {
    "duration": 562,
    "start_time": "2021-12-01T23:11:39.238Z"
   },
   {
    "duration": 340,
    "start_time": "2021-12-01T23:12:14.545Z"
   },
   {
    "duration": 344,
    "start_time": "2021-12-01T23:12:55.078Z"
   },
   {
    "duration": 6,
    "start_time": "2021-12-01T23:13:00.817Z"
   },
   {
    "duration": 371,
    "start_time": "2021-12-01T23:13:42.865Z"
   },
   {
    "duration": 496,
    "start_time": "2021-12-01T23:14:00.978Z"
   },
   {
    "duration": 14,
    "start_time": "2021-12-01T23:14:03.877Z"
   },
   {
    "duration": 513,
    "start_time": "2021-12-01T23:14:29.798Z"
   },
   {
    "duration": 21,
    "start_time": "2021-12-01T23:14:42.917Z"
   },
   {
    "duration": 18,
    "start_time": "2021-12-01T23:15:58.618Z"
   },
   {
    "duration": 368,
    "start_time": "2021-12-01T23:16:12.265Z"
   },
   {
    "duration": 6,
    "start_time": "2021-12-01T23:16:29.057Z"
   },
   {
    "duration": 7,
    "start_time": "2021-12-01T23:16:44.565Z"
   },
   {
    "duration": 380,
    "start_time": "2021-12-01T23:16:50.118Z"
   },
   {
    "duration": 6,
    "start_time": "2021-12-01T23:17:20.778Z"
   },
   {
    "duration": 6,
    "start_time": "2021-12-01T23:17:32.597Z"
   },
   {
    "duration": 539,
    "start_time": "2021-12-01T23:18:16.197Z"
   },
   {
    "duration": 509,
    "start_time": "2021-12-01T23:18:23.417Z"
   },
   {
    "duration": 516,
    "start_time": "2021-12-01T23:18:37.757Z"
   },
   {
    "duration": 464,
    "start_time": "2021-12-01T23:19:40.957Z"
   },
   {
    "duration": 15,
    "start_time": "2021-12-01T23:19:48.757Z"
   },
   {
    "duration": 556,
    "start_time": "2021-12-01T23:20:13.358Z"
   },
   {
    "duration": 289,
    "start_time": "2021-12-01T23:22:19.591Z"
   },
   {
    "duration": 426,
    "start_time": "2021-12-01T23:22:28.384Z"
   },
   {
    "duration": 727,
    "start_time": "2021-12-01T23:23:07.798Z"
   },
   {
    "duration": 128,
    "start_time": "2021-12-01T23:23:44.937Z"
   },
   {
    "duration": 135,
    "start_time": "2021-12-01T23:24:07.067Z"
   },
   {
    "duration": 596,
    "start_time": "2021-12-01T23:24:21.387Z"
   },
   {
    "duration": 792,
    "start_time": "2021-12-01T23:24:37.698Z"
   },
   {
    "duration": 983,
    "start_time": "2021-12-01T23:25:08.497Z"
   },
   {
    "duration": 560,
    "start_time": "2021-12-01T23:27:34.306Z"
   },
   {
    "duration": 546,
    "start_time": "2021-12-01T23:28:24.366Z"
   },
   {
    "duration": 8910,
    "start_time": "2021-12-01T23:29:35.777Z"
   },
   {
    "duration": 10,
    "start_time": "2021-12-01T23:29:50.317Z"
   },
   {
    "duration": 382,
    "start_time": "2021-12-01T23:31:48.419Z"
   },
   {
    "duration": 387,
    "start_time": "2021-12-01T23:33:18.926Z"
   },
   {
    "duration": 375,
    "start_time": "2021-12-01T23:33:35.626Z"
   },
   {
    "duration": 368,
    "start_time": "2021-12-01T23:33:41.606Z"
   },
   {
    "duration": 394,
    "start_time": "2021-12-01T23:33:55.590Z"
   },
   {
    "duration": 524,
    "start_time": "2021-12-01T23:34:53.766Z"
   },
   {
    "duration": 14,
    "start_time": "2021-12-01T23:35:10.818Z"
   },
   {
    "duration": 542,
    "start_time": "2021-12-01T23:35:47.258Z"
   },
   {
    "duration": 718,
    "start_time": "2021-12-01T23:37:19.028Z"
   },
   {
    "duration": 959,
    "start_time": "2021-12-01T23:37:24.826Z"
   },
   {
    "duration": 759,
    "start_time": "2021-12-01T23:40:00.207Z"
   },
   {
    "duration": 616,
    "start_time": "2021-12-01T23:41:01.838Z"
   },
   {
    "duration": 480,
    "start_time": "2021-12-01T23:41:57.018Z"
   },
   {
    "duration": 9242,
    "start_time": "2021-12-01T23:45:54.366Z"
   },
   {
    "duration": 133,
    "start_time": "2021-12-01T23:46:56.006Z"
   },
   {
    "duration": 121,
    "start_time": "2021-12-01T23:47:16.538Z"
   },
   {
    "duration": 367,
    "start_time": "2021-12-01T23:47:31.833Z"
   },
   {
    "duration": 2481,
    "start_time": "2021-12-01T23:47:39.506Z"
   },
   {
    "duration": 2536,
    "start_time": "2021-12-01T23:48:12.486Z"
   },
   {
    "duration": 498,
    "start_time": "2021-12-01T23:49:44.326Z"
   },
   {
    "duration": 5791,
    "start_time": "2021-12-01T23:49:52.418Z"
   },
   {
    "duration": 747,
    "start_time": "2021-12-01T23:51:05.026Z"
   },
   {
    "duration": 20,
    "start_time": "2021-12-01T23:51:10.258Z"
   },
   {
    "duration": 306,
    "start_time": "2021-12-01T23:52:17.757Z"
   },
   {
    "duration": 303,
    "start_time": "2021-12-01T23:52:20.378Z"
   },
   {
    "duration": 2,
    "start_time": "2021-12-01T23:53:13.646Z"
   },
   {
    "duration": 3,
    "start_time": "2021-12-01T23:53:16.097Z"
   },
   {
    "duration": 495,
    "start_time": "2021-12-01T23:54:37.978Z"
   },
   {
    "duration": 15,
    "start_time": "2021-12-01T23:54:38.617Z"
   },
   {
    "duration": 4,
    "start_time": "2021-12-01T23:55:28.219Z"
   },
   {
    "duration": 344,
    "start_time": "2021-12-02T15:50:52.460Z"
   },
   {
    "duration": 693,
    "start_time": "2021-12-02T15:50:57.823Z"
   },
   {
    "duration": 12,
    "start_time": "2021-12-02T15:50:58.518Z"
   },
   {
    "duration": 25,
    "start_time": "2021-12-02T15:50:58.532Z"
   },
   {
    "duration": 25,
    "start_time": "2021-12-02T15:50:59.163Z"
   },
   {
    "duration": 7,
    "start_time": "2021-12-02T15:51:00.237Z"
   },
   {
    "duration": 11,
    "start_time": "2021-12-02T15:51:00.614Z"
   },
   {
    "duration": 401,
    "start_time": "2021-12-02T15:51:01.167Z"
   },
   {
    "duration": 2,
    "start_time": "2021-12-02T15:51:01.570Z"
   },
   {
    "duration": 29,
    "start_time": "2021-12-02T15:51:01.574Z"
   },
   {
    "duration": 331,
    "start_time": "2021-12-02T15:51:01.997Z"
   },
   {
    "duration": 301,
    "start_time": "2021-12-02T15:51:02.516Z"
   },
   {
    "duration": 257,
    "start_time": "2021-12-02T15:51:02.977Z"
   },
   {
    "duration": 12,
    "start_time": "2021-12-02T15:51:03.551Z"
   },
   {
    "duration": 17,
    "start_time": "2021-12-02T15:51:03.907Z"
   },
   {
    "duration": 11,
    "start_time": "2021-12-02T15:51:04.362Z"
   },
   {
    "duration": 8,
    "start_time": "2021-12-02T15:51:05.258Z"
   },
   {
    "duration": 13,
    "start_time": "2021-12-02T15:51:06.582Z"
   },
   {
    "duration": 7,
    "start_time": "2021-12-02T15:51:08.082Z"
   },
   {
    "duration": 13,
    "start_time": "2021-12-02T15:51:09.642Z"
   },
   {
    "duration": 7,
    "start_time": "2021-12-02T15:51:11.190Z"
   },
   {
    "duration": 303,
    "start_time": "2021-12-02T15:51:12.902Z"
   },
   {
    "duration": 9,
    "start_time": "2021-12-02T15:51:14.818Z"
   },
   {
    "duration": 4,
    "start_time": "2021-12-02T15:51:16.161Z"
   },
   {
    "duration": 11,
    "start_time": "2021-12-02T15:51:18.782Z"
   },
   {
    "duration": 22,
    "start_time": "2021-12-02T15:51:19.899Z"
   },
   {
    "duration": 16,
    "start_time": "2021-12-02T15:51:22.054Z"
   },
   {
    "duration": 629,
    "start_time": "2021-12-02T15:51:23.754Z"
   },
   {
    "duration": 15,
    "start_time": "2021-12-02T15:51:39.024Z"
   },
   {
    "duration": 12,
    "start_time": "2021-12-02T15:51:52.442Z"
   },
   {
    "duration": 19,
    "start_time": "2021-12-02T15:53:16.602Z"
   },
   {
    "duration": 17,
    "start_time": "2021-12-02T15:56:09.802Z"
   },
   {
    "duration": 57,
    "start_time": "2021-12-02T15:57:02.152Z"
   },
   {
    "duration": 4,
    "start_time": "2021-12-02T15:59:22.322Z"
   },
   {
    "duration": 5,
    "start_time": "2021-12-02T15:59:42.422Z"
   },
   {
    "duration": 11,
    "start_time": "2021-12-02T16:03:37.102Z"
   },
   {
    "duration": 309,
    "start_time": "2021-12-02T16:06:02.127Z"
   },
   {
    "duration": 656,
    "start_time": "2021-12-02T16:06:02.538Z"
   },
   {
    "duration": 17,
    "start_time": "2021-12-02T16:06:09.662Z"
   },
   {
    "duration": 659,
    "start_time": "2021-12-02T16:07:04.944Z"
   },
   {
    "duration": 3210,
    "start_time": "2021-12-02T16:11:46.622Z"
   },
   {
    "duration": 6,
    "start_time": "2021-12-02T16:12:04.583Z"
   },
   {
    "duration": 7343,
    "start_time": "2021-12-02T16:12:16.040Z"
   },
   {
    "duration": 15,
    "start_time": "2021-12-02T16:12:40.923Z"
   },
   {
    "duration": 283,
    "start_time": "2021-12-02T17:16:43.676Z"
   },
   {
    "duration": 4,
    "start_time": "2021-12-02T17:18:40.697Z"
   },
   {
    "duration": 86,
    "start_time": "2021-12-02T17:18:44.797Z"
   },
   {
    "duration": 264,
    "start_time": "2021-12-02T17:23:26.257Z"
   },
   {
    "duration": 264,
    "start_time": "2021-12-02T17:34:08.368Z"
   },
   {
    "duration": 91,
    "start_time": "2021-12-02T17:34:24.737Z"
   },
   {
    "duration": 10,
    "start_time": "2021-12-02T17:34:54.568Z"
   },
   {
    "duration": 5,
    "start_time": "2021-12-02T17:36:14.754Z"
   },
   {
    "duration": 20,
    "start_time": "2021-12-02T17:37:56.889Z"
   },
   {
    "duration": 3984,
    "start_time": "2021-12-02T17:37:57.137Z"
   },
   {
    "duration": 10,
    "start_time": "2021-12-02T17:38:01.123Z"
   },
   {
    "duration": 106,
    "start_time": "2021-12-02T17:40:37.769Z"
   },
   {
    "duration": 114,
    "start_time": "2021-12-02T17:41:03.847Z"
   },
   {
    "duration": 122,
    "start_time": "2021-12-02T17:41:09.330Z"
   },
   {
    "duration": 2,
    "start_time": "2021-12-02T17:41:14.577Z"
   },
   {
    "duration": 21,
    "start_time": "2021-12-02T18:03:25.598Z"
   },
   {
    "duration": 99,
    "start_time": "2021-12-02T18:41:01.898Z"
   },
   {
    "duration": 1232,
    "start_time": "2021-12-02T18:41:28.681Z"
   },
   {
    "duration": 1216,
    "start_time": "2021-12-02T18:41:58.923Z"
   },
   {
    "duration": 1197,
    "start_time": "2021-12-02T18:42:09.983Z"
   },
   {
    "duration": 1182,
    "start_time": "2021-12-02T18:43:37.244Z"
   },
   {
    "duration": 10,
    "start_time": "2021-12-02T18:43:59.443Z"
   },
   {
    "duration": 12,
    "start_time": "2021-12-02T18:45:03.480Z"
   },
   {
    "duration": 15,
    "start_time": "2021-12-02T18:45:53.923Z"
   },
   {
    "duration": 22,
    "start_time": "2021-12-02T18:46:36.575Z"
   },
   {
    "duration": 19,
    "start_time": "2021-12-02T18:46:59.363Z"
   },
   {
    "duration": 11,
    "start_time": "2021-12-02T18:49:20.963Z"
   },
   {
    "duration": 11,
    "start_time": "2021-12-02T18:49:22.103Z"
   },
   {
    "duration": 8,
    "start_time": "2021-12-02T18:49:41.783Z"
   },
   {
    "duration": 52,
    "start_time": "2021-12-02T18:50:20.343Z"
   },
   {
    "duration": 11,
    "start_time": "2021-12-02T18:50:20.642Z"
   },
   {
    "duration": 13,
    "start_time": "2021-12-02T18:50:20.964Z"
   },
   {
    "duration": 25,
    "start_time": "2021-12-02T18:50:22.143Z"
   },
   {
    "duration": 6,
    "start_time": "2021-12-02T18:50:23.303Z"
   },
   {
    "duration": 10,
    "start_time": "2021-12-02T18:50:23.699Z"
   },
   {
    "duration": 290,
    "start_time": "2021-12-02T18:50:24.283Z"
   },
   {
    "duration": 2,
    "start_time": "2021-12-02T18:50:24.576Z"
   },
   {
    "duration": 8,
    "start_time": "2021-12-02T18:50:24.643Z"
   },
   {
    "duration": 296,
    "start_time": "2021-12-02T18:50:25.043Z"
   },
   {
    "duration": 299,
    "start_time": "2021-12-02T18:50:25.651Z"
   },
   {
    "duration": 245,
    "start_time": "2021-12-02T18:50:26.079Z"
   },
   {
    "duration": 8,
    "start_time": "2021-12-02T18:50:26.663Z"
   },
   {
    "duration": 18,
    "start_time": "2021-12-02T18:50:26.863Z"
   },
   {
    "duration": 13,
    "start_time": "2021-12-02T18:50:27.462Z"
   },
   {
    "duration": 7,
    "start_time": "2021-12-02T18:50:29.284Z"
   },
   {
    "duration": 9,
    "start_time": "2021-12-02T18:50:38.363Z"
   },
   {
    "duration": 8,
    "start_time": "2021-12-02T18:50:39.403Z"
   },
   {
    "duration": 8,
    "start_time": "2021-12-02T18:50:40.182Z"
   },
   {
    "duration": 6,
    "start_time": "2021-12-02T18:50:41.023Z"
   },
   {
    "duration": 286,
    "start_time": "2021-12-02T18:50:41.822Z"
   },
   {
    "duration": 8,
    "start_time": "2021-12-02T18:50:42.851Z"
   },
   {
    "duration": 3,
    "start_time": "2021-12-02T18:50:44.309Z"
   },
   {
    "duration": 11,
    "start_time": "2021-12-02T18:51:09.823Z"
   },
   {
    "duration": 25,
    "start_time": "2021-12-02T18:51:12.656Z"
   },
   {
    "duration": 14,
    "start_time": "2021-12-02T18:51:14.643Z"
   },
   {
    "duration": 549,
    "start_time": "2021-12-02T18:51:16.864Z"
   },
   {
    "duration": 15,
    "start_time": "2021-12-02T18:51:19.263Z"
   },
   {
    "duration": 4,
    "start_time": "2021-12-02T18:51:26.306Z"
   },
   {
    "duration": 43,
    "start_time": "2021-12-02T18:51:28.623Z"
   },
   {
    "duration": 12,
    "start_time": "2021-12-02T18:51:34.412Z"
   },
   {
    "duration": 22,
    "start_time": "2021-12-02T18:51:39.554Z"
   },
   {
    "duration": 3329,
    "start_time": "2021-12-02T18:51:39.815Z"
   },
   {
    "duration": 16,
    "start_time": "2021-12-02T18:51:43.146Z"
   },
   {
    "duration": 3,
    "start_time": "2021-12-02T18:52:04.843Z"
   },
   {
    "duration": 98,
    "start_time": "2021-12-02T18:52:05.403Z"
   },
   {
    "duration": 20,
    "start_time": "2021-12-02T18:52:06.219Z"
   },
   {
    "duration": 14,
    "start_time": "2021-12-02T18:52:18.023Z"
   },
   {
    "duration": 14,
    "start_time": "2021-12-02T18:52:19.063Z"
   },
   {
    "duration": 14,
    "start_time": "2021-12-02T18:59:29.820Z"
   },
   {
    "duration": 13,
    "start_time": "2021-12-02T19:02:46.801Z"
   },
   {
    "duration": 13,
    "start_time": "2021-12-02T19:03:52.300Z"
   },
   {
    "duration": 9,
    "start_time": "2021-12-02T19:07:08.107Z"
   },
   {
    "duration": 11,
    "start_time": "2021-12-02T19:07:29.560Z"
   },
   {
    "duration": 263,
    "start_time": "2021-12-02T19:08:52.140Z"
   },
   {
    "duration": 289,
    "start_time": "2021-12-02T19:09:05.162Z"
   },
   {
    "duration": 22,
    "start_time": "2021-12-02T19:09:15.073Z"
   },
   {
    "duration": 9,
    "start_time": "2021-12-02T19:14:18.100Z"
   },
   {
    "duration": 7934,
    "start_time": "2021-12-02T19:16:41.132Z"
   },
   {
    "duration": 9,
    "start_time": "2021-12-02T19:17:09.720Z"
   },
   {
    "duration": 215,
    "start_time": "2021-12-02T19:17:17.500Z"
   },
   {
    "duration": 10,
    "start_time": "2021-12-02T19:19:44.951Z"
   },
   {
    "duration": 266,
    "start_time": "2021-12-02T19:19:56.840Z"
   },
   {
    "duration": 10,
    "start_time": "2021-12-02T19:20:01.087Z"
   },
   {
    "duration": 9,
    "start_time": "2021-12-02T19:20:11.054Z"
   },
   {
    "duration": 202,
    "start_time": "2021-12-02T19:21:57.980Z"
   },
   {
    "duration": 7999,
    "start_time": "2021-12-02T19:30:29.021Z"
   },
   {
    "duration": 190,
    "start_time": "2021-12-02T19:31:17.471Z"
   },
   {
    "duration": 9,
    "start_time": "2021-12-02T19:38:44.558Z"
   },
   {
    "duration": 202436,
    "start_time": "2021-12-02T19:40:55.500Z"
   },
   {
    "duration": 253,
    "start_time": "2021-12-02T19:52:03.180Z"
   },
   {
    "duration": 17,
    "start_time": "2021-12-02T20:18:47.660Z"
   },
   {
    "duration": 10,
    "start_time": "2021-12-02T20:19:21.539Z"
   },
   {
    "duration": 13,
    "start_time": "2021-12-02T20:20:25.941Z"
   },
   {
    "duration": 15,
    "start_time": "2021-12-02T20:20:26.500Z"
   },
   {
    "duration": 7,
    "start_time": "2021-12-02T20:20:38.301Z"
   },
   {
    "duration": 13,
    "start_time": "2021-12-02T20:20:55.180Z"
   },
   {
    "duration": 9,
    "start_time": "2021-12-02T20:20:55.540Z"
   },
   {
    "duration": 7,
    "start_time": "2021-12-02T20:20:56.609Z"
   },
   {
    "duration": 12,
    "start_time": "2021-12-02T20:22:34.060Z"
   },
   {
    "duration": 10,
    "start_time": "2021-12-02T20:22:34.360Z"
   },
   {
    "duration": 10,
    "start_time": "2021-12-02T20:22:35.760Z"
   },
   {
    "duration": 81,
    "start_time": "2021-12-02T20:23:10.255Z"
   },
   {
    "duration": 102,
    "start_time": "2021-12-02T20:23:30.539Z"
   },
   {
    "duration": 32,
    "start_time": "2021-12-02T20:23:37.898Z"
   },
   {
    "duration": 12,
    "start_time": "2021-12-02T20:24:03.539Z"
   },
   {
    "duration": 11,
    "start_time": "2021-12-02T20:24:03.940Z"
   },
   {
    "duration": 11,
    "start_time": "2021-12-02T20:24:05.861Z"
   },
   {
    "duration": 13,
    "start_time": "2021-12-02T20:24:29.002Z"
   },
   {
    "duration": 11,
    "start_time": "2021-12-02T20:24:29.349Z"
   },
   {
    "duration": 7,
    "start_time": "2021-12-02T20:24:31.010Z"
   },
   {
    "duration": 32,
    "start_time": "2021-12-02T20:24:33.722Z"
   },
   {
    "duration": 12,
    "start_time": "2021-12-02T20:25:01.079Z"
   },
   {
    "duration": 10,
    "start_time": "2021-12-02T20:25:01.462Z"
   },
   {
    "duration": 7,
    "start_time": "2021-12-02T20:25:02.563Z"
   },
   {
    "duration": 29,
    "start_time": "2021-12-02T20:25:04.699Z"
   },
   {
    "duration": 14,
    "start_time": "2021-12-02T20:25:56.759Z"
   },
   {
    "duration": 9,
    "start_time": "2021-12-02T20:25:57.100Z"
   },
   {
    "duration": 17,
    "start_time": "2021-12-02T20:26:14.819Z"
   },
   {
    "duration": 10,
    "start_time": "2021-12-02T20:26:15.179Z"
   },
   {
    "duration": 17,
    "start_time": "2021-12-02T20:26:32.239Z"
   },
   {
    "duration": 9,
    "start_time": "2021-12-02T20:26:32.614Z"
   },
   {
    "duration": 8,
    "start_time": "2021-12-02T20:26:33.598Z"
   },
   {
    "duration": 24,
    "start_time": "2021-12-02T20:26:34.539Z"
   },
   {
    "duration": 18,
    "start_time": "2021-12-02T20:27:26.499Z"
   },
   {
    "duration": 11,
    "start_time": "2021-12-02T20:27:26.859Z"
   },
   {
    "duration": 8,
    "start_time": "2021-12-02T20:27:27.768Z"
   },
   {
    "duration": 15,
    "start_time": "2021-12-02T20:27:30.399Z"
   },
   {
    "duration": 18,
    "start_time": "2021-12-02T20:28:34.819Z"
   },
   {
    "duration": 9,
    "start_time": "2021-12-02T20:28:35.079Z"
   },
   {
    "duration": 17,
    "start_time": "2021-12-02T20:28:59.339Z"
   },
   {
    "duration": 9,
    "start_time": "2021-12-02T20:28:59.659Z"
   },
   {
    "duration": 18,
    "start_time": "2021-12-02T20:29:14.548Z"
   },
   {
    "duration": 9,
    "start_time": "2021-12-02T20:29:14.919Z"
   },
   {
    "duration": 17,
    "start_time": "2021-12-02T20:29:50.980Z"
   },
   {
    "duration": 10,
    "start_time": "2021-12-02T20:29:51.198Z"
   },
   {
    "duration": 19,
    "start_time": "2021-12-02T20:30:15.000Z"
   },
   {
    "duration": 8,
    "start_time": "2021-12-02T20:30:15.298Z"
   },
   {
    "duration": 7,
    "start_time": "2021-12-02T20:30:16.515Z"
   },
   {
    "duration": 266,
    "start_time": "2021-12-02T20:30:43.480Z"
   },
   {
    "duration": 16,
    "start_time": "2021-12-02T20:30:45.939Z"
   },
   {
    "duration": 7,
    "start_time": "2021-12-02T20:30:50.820Z"
   },
   {
    "duration": 16,
    "start_time": "2021-12-02T20:31:17.459Z"
   },
   {
    "duration": 7,
    "start_time": "2021-12-02T20:31:19.167Z"
   },
   {
    "duration": 9,
    "start_time": "2021-12-02T20:31:32.659Z"
   },
   {
    "duration": 16,
    "start_time": "2021-12-02T20:31:47.079Z"
   },
   {
    "duration": 8,
    "start_time": "2021-12-02T20:31:47.299Z"
   },
   {
    "duration": 7,
    "start_time": "2021-12-02T20:31:48.499Z"
   },
   {
    "duration": 225,
    "start_time": "2021-12-02T20:32:22.639Z"
   },
   {
    "duration": 225,
    "start_time": "2021-12-02T20:41:40.019Z"
   },
   {
    "duration": 63,
    "start_time": "2021-12-02T21:06:07.118Z"
   },
   {
    "duration": 13,
    "start_time": "2021-12-02T21:06:07.299Z"
   },
   {
    "duration": 13,
    "start_time": "2021-12-02T21:06:07.498Z"
   },
   {
    "duration": 24,
    "start_time": "2021-12-02T21:06:08.398Z"
   },
   {
    "duration": 7,
    "start_time": "2021-12-02T21:06:09.427Z"
   },
   {
    "duration": 10,
    "start_time": "2021-12-02T21:06:09.779Z"
   },
   {
    "duration": 317,
    "start_time": "2021-12-02T21:06:10.319Z"
   },
   {
    "duration": 4,
    "start_time": "2021-12-02T21:06:10.644Z"
   },
   {
    "duration": 8,
    "start_time": "2021-12-02T21:06:10.689Z"
   },
   {
    "duration": 324,
    "start_time": "2021-12-02T21:06:11.058Z"
   },
   {
    "duration": 276,
    "start_time": "2021-12-02T21:06:11.618Z"
   },
   {
    "duration": 282,
    "start_time": "2021-12-02T21:06:12.000Z"
   },
   {
    "duration": 11,
    "start_time": "2021-12-02T21:06:12.554Z"
   },
   {
    "duration": 18,
    "start_time": "2021-12-02T21:06:12.758Z"
   },
   {
    "duration": 10,
    "start_time": "2021-12-02T21:06:13.295Z"
   },
   {
    "duration": 8,
    "start_time": "2021-12-02T21:06:14.078Z"
   },
   {
    "duration": 13,
    "start_time": "2021-12-02T21:06:14.838Z"
   },
   {
    "duration": 8,
    "start_time": "2021-12-02T21:06:15.598Z"
   },
   {
    "duration": 7,
    "start_time": "2021-12-02T21:06:16.379Z"
   },
   {
    "duration": 9,
    "start_time": "2021-12-02T21:06:17.159Z"
   },
   {
    "duration": 323,
    "start_time": "2021-12-02T21:06:17.918Z"
   },
   {
    "duration": 11,
    "start_time": "2021-12-02T21:06:18.651Z"
   },
   {
    "duration": 4,
    "start_time": "2021-12-02T21:06:19.430Z"
   },
   {
    "duration": 12,
    "start_time": "2021-12-02T21:06:20.021Z"
   },
   {
    "duration": 27,
    "start_time": "2021-12-02T21:06:20.419Z"
   },
   {
    "duration": 14,
    "start_time": "2021-12-02T21:06:21.227Z"
   },
   {
    "duration": 619,
    "start_time": "2021-12-02T21:06:22.040Z"
   },
   {
    "duration": 16,
    "start_time": "2021-12-02T21:06:22.661Z"
   },
   {
    "duration": 5,
    "start_time": "2021-12-02T21:06:23.438Z"
   },
   {
    "duration": 46,
    "start_time": "2021-12-02T21:06:24.479Z"
   },
   {
    "duration": 12,
    "start_time": "2021-12-02T21:06:25.279Z"
   },
   {
    "duration": 3,
    "start_time": "2021-12-02T21:06:25.710Z"
   },
   {
    "duration": 4237,
    "start_time": "2021-12-02T21:06:25.933Z"
   },
   {
    "duration": 24,
    "start_time": "2021-12-02T21:06:30.173Z"
   },
   {
    "duration": 3,
    "start_time": "2021-12-02T21:06:30.199Z"
   },
   {
    "duration": 208,
    "start_time": "2021-12-02T21:06:30.205Z"
   },
   {
    "duration": 56,
    "start_time": "2021-12-02T21:06:30.415Z"
   },
   {
    "duration": 32,
    "start_time": "2021-12-02T21:06:30.473Z"
   },
   {
    "duration": 34,
    "start_time": "2021-12-02T21:06:30.507Z"
   },
   {
    "duration": 11,
    "start_time": "2021-12-02T21:06:30.546Z"
   },
   {
    "duration": 317,
    "start_time": "2021-12-02T21:06:30.560Z"
   },
   {
    "duration": 16,
    "start_time": "2021-12-02T21:06:31.919Z"
   },
   {
    "duration": 13,
    "start_time": "2021-12-02T21:06:32.199Z"
   },
   {
    "duration": 8,
    "start_time": "2021-12-02T21:06:32.459Z"
   },
   {
    "duration": 9,
    "start_time": "2021-12-02T21:06:38.279Z"
   },
   {
    "duration": 199,
    "start_time": "2021-12-02T21:06:38.919Z"
   },
   {
    "duration": 282,
    "start_time": "2021-12-02T21:06:40.060Z"
   },
   {
    "duration": 10,
    "start_time": "2021-12-02T21:06:41.420Z"
   },
   {
    "duration": 234,
    "start_time": "2021-12-02T21:06:41.738Z"
   },
   {
    "duration": 268,
    "start_time": "2021-12-02T21:06:45.218Z"
   },
   {
    "duration": 1405,
    "start_time": "2021-12-03T10:19:33.424Z"
   },
   {
    "duration": 630,
    "start_time": "2021-12-03T10:19:39.579Z"
   },
   {
    "duration": 10,
    "start_time": "2021-12-03T10:19:40.211Z"
   },
   {
    "duration": 21,
    "start_time": "2021-12-03T10:19:41.303Z"
   },
   {
    "duration": 3,
    "start_time": "2021-12-03T10:19:57.816Z"
   },
   {
    "duration": 10,
    "start_time": "2021-12-03T10:20:01.583Z"
   },
   {
    "duration": 20,
    "start_time": "2021-12-03T10:38:12.924Z"
   },
   {
    "duration": 20,
    "start_time": "2021-12-03T10:38:47.101Z"
   },
   {
    "duration": 6,
    "start_time": "2021-12-03T10:39:00.275Z"
   },
   {
    "duration": 8,
    "start_time": "2021-12-03T10:39:48.938Z"
   },
   {
    "duration": 6,
    "start_time": "2021-12-03T10:39:54.406Z"
   },
   {
    "duration": 7,
    "start_time": "2021-12-03T10:40:06.740Z"
   },
   {
    "duration": 8,
    "start_time": "2021-12-03T10:40:18.197Z"
   },
   {
    "duration": 20,
    "start_time": "2021-12-03T10:40:26.358Z"
   },
   {
    "duration": 10,
    "start_time": "2021-12-03T10:45:05.604Z"
   },
   {
    "duration": 6,
    "start_time": "2021-12-03T10:47:02.299Z"
   },
   {
    "duration": 7,
    "start_time": "2021-12-03T10:47:47.836Z"
   },
   {
    "duration": 3,
    "start_time": "2021-12-03T10:49:34.141Z"
   },
   {
    "duration": 8,
    "start_time": "2021-12-03T10:51:36.685Z"
   },
   {
    "duration": 4,
    "start_time": "2021-12-03T10:55:44.576Z"
   },
   {
    "duration": 46,
    "start_time": "2021-12-03T10:55:56.496Z"
   },
   {
    "duration": 12,
    "start_time": "2021-12-03T10:55:56.862Z"
   },
   {
    "duration": 11,
    "start_time": "2021-12-03T10:55:57.353Z"
   },
   {
    "duration": 3,
    "start_time": "2021-12-03T10:55:59.535Z"
   },
   {
    "duration": 10,
    "start_time": "2021-12-03T10:56:03.599Z"
   },
   {
    "duration": 7,
    "start_time": "2021-12-03T10:56:04.128Z"
   },
   {
    "duration": 5,
    "start_time": "2021-12-03T10:56:06.720Z"
   },
   {
    "duration": 14,
    "start_time": "2021-12-03T10:56:07.726Z"
   },
   {
    "duration": 334,
    "start_time": "2021-12-03T10:56:08.558Z"
   },
   {
    "duration": 2,
    "start_time": "2021-12-03T10:56:09.425Z"
   },
   {
    "duration": 7,
    "start_time": "2021-12-03T10:56:09.759Z"
   },
   {
    "duration": 294,
    "start_time": "2021-12-03T10:56:10.241Z"
   },
   {
    "duration": 260,
    "start_time": "2021-12-03T10:56:12.094Z"
   },
   {
    "duration": 232,
    "start_time": "2021-12-03T10:56:12.528Z"
   },
   {
    "duration": 8,
    "start_time": "2021-12-03T10:56:13.117Z"
   },
   {
    "duration": 18,
    "start_time": "2021-12-03T10:56:13.326Z"
   },
   {
    "duration": 11,
    "start_time": "2021-12-03T10:56:13.990Z"
   },
   {
    "duration": 7,
    "start_time": "2021-12-03T10:56:16.739Z"
   },
   {
    "duration": 9,
    "start_time": "2021-12-03T10:56:18.653Z"
   },
   {
    "duration": 7,
    "start_time": "2021-12-03T10:56:20.126Z"
   },
   {
    "duration": 8,
    "start_time": "2021-12-03T10:56:21.742Z"
   },
   {
    "duration": 6,
    "start_time": "2021-12-03T10:56:22.574Z"
   },
   {
    "duration": 270,
    "start_time": "2021-12-03T10:56:23.421Z"
   },
   {
    "duration": 8,
    "start_time": "2021-12-03T10:56:25.616Z"
   },
   {
    "duration": 3,
    "start_time": "2021-12-03T10:56:28.862Z"
   },
   {
    "duration": 3,
    "start_time": "2021-12-03T10:57:05.401Z"
   },
   {
    "duration": 3,
    "start_time": "2021-12-03T10:57:39.014Z"
   },
   {
    "duration": 4,
    "start_time": "2021-12-03T10:58:12.353Z"
   },
   {
    "duration": 4,
    "start_time": "2021-12-03T10:58:26.962Z"
   },
   {
    "duration": 3,
    "start_time": "2021-12-03T10:59:54.183Z"
   },
   {
    "duration": 313,
    "start_time": "2021-12-03T11:00:09.443Z"
   },
   {
    "duration": 432,
    "start_time": "2021-12-03T11:00:14.674Z"
   },
   {
    "duration": 5,
    "start_time": "2021-12-03T11:01:10.360Z"
   },
   {
    "duration": 294,
    "start_time": "2021-12-03T11:02:24.260Z"
   },
   {
    "duration": 4,
    "start_time": "2021-12-03T11:02:30.947Z"
   },
   {
    "duration": 93,
    "start_time": "2021-12-03T11:02:38.879Z"
   },
   {
    "duration": 5,
    "start_time": "2021-12-03T11:03:25.077Z"
   },
   {
    "duration": 4,
    "start_time": "2021-12-03T11:04:07.843Z"
   },
   {
    "duration": 93,
    "start_time": "2021-12-03T11:06:43.992Z"
   },
   {
    "duration": 4,
    "start_time": "2021-12-03T11:06:54.326Z"
   },
   {
    "duration": 4,
    "start_time": "2021-12-03T11:07:54.137Z"
   },
   {
    "duration": 4,
    "start_time": "2021-12-03T11:08:01.575Z"
   },
   {
    "duration": 4,
    "start_time": "2021-12-03T11:08:17.379Z"
   },
   {
    "duration": 685,
    "start_time": "2021-12-03T11:11:13.227Z"
   },
   {
    "duration": 4,
    "start_time": "2021-12-03T11:12:29.145Z"
   },
   {
    "duration": 3,
    "start_time": "2021-12-03T11:13:34.235Z"
   },
   {
    "duration": 10,
    "start_time": "2021-12-03T11:13:55.746Z"
   },
   {
    "duration": 9,
    "start_time": "2021-12-03T11:14:31.117Z"
   },
   {
    "duration": 48,
    "start_time": "2021-12-03T11:14:48.106Z"
   },
   {
    "duration": 12,
    "start_time": "2021-12-03T11:14:48.506Z"
   },
   {
    "duration": 12,
    "start_time": "2021-12-03T11:14:48.723Z"
   },
   {
    "duration": 3,
    "start_time": "2021-12-03T11:14:49.609Z"
   },
   {
    "duration": 9,
    "start_time": "2021-12-03T11:14:50.520Z"
   },
   {
    "duration": 9,
    "start_time": "2021-12-03T11:14:50.698Z"
   },
   {
    "duration": 6,
    "start_time": "2021-12-03T11:14:51.866Z"
   },
   {
    "duration": 11,
    "start_time": "2021-12-03T11:14:52.249Z"
   },
   {
    "duration": 320,
    "start_time": "2021-12-03T11:14:52.780Z"
   },
   {
    "duration": 2,
    "start_time": "2021-12-03T11:14:53.102Z"
   },
   {
    "duration": 8,
    "start_time": "2021-12-03T11:14:53.137Z"
   },
   {
    "duration": 300,
    "start_time": "2021-12-03T11:14:53.482Z"
   },
   {
    "duration": 249,
    "start_time": "2021-12-03T11:14:54.061Z"
   },
   {
    "duration": 251,
    "start_time": "2021-12-03T11:14:54.405Z"
   },
   {
    "duration": 8,
    "start_time": "2021-12-03T11:14:54.988Z"
   },
   {
    "duration": 16,
    "start_time": "2021-12-03T11:14:55.179Z"
   },
   {
    "duration": 11,
    "start_time": "2021-12-03T11:14:55.769Z"
   },
   {
    "duration": 8,
    "start_time": "2021-12-03T11:14:56.633Z"
   },
   {
    "duration": 10,
    "start_time": "2021-12-03T11:14:57.641Z"
   },
   {
    "duration": 7,
    "start_time": "2021-12-03T11:14:58.506Z"
   },
   {
    "duration": 8,
    "start_time": "2021-12-03T11:14:59.477Z"
   },
   {
    "duration": 6,
    "start_time": "2021-12-03T11:15:01.450Z"
   },
   {
    "duration": 295,
    "start_time": "2021-12-03T11:15:02.586Z"
   },
   {
    "duration": 7,
    "start_time": "2021-12-03T11:15:05.068Z"
   },
   {
    "duration": 3,
    "start_time": "2021-12-03T11:15:10.026Z"
   },
   {
    "duration": 12,
    "start_time": "2021-12-03T11:15:21.962Z"
   },
   {
    "duration": 3,
    "start_time": "2021-12-03T11:15:23.034Z"
   },
   {
    "duration": 10,
    "start_time": "2021-12-03T11:15:28.261Z"
   },
   {
    "duration": 8,
    "start_time": "2021-12-03T11:15:32.874Z"
   },
   {
    "duration": 4,
    "start_time": "2021-12-03T11:15:51.788Z"
   },
   {
    "duration": 4,
    "start_time": "2021-12-03T12:11:52.720Z"
   },
   {
    "duration": 8,
    "start_time": "2021-12-03T12:12:05.265Z"
   },
   {
    "duration": 372,
    "start_time": "2021-12-03T12:12:14.304Z"
   },
   {
    "duration": 298,
    "start_time": "2021-12-03T12:12:22.257Z"
   },
   {
    "duration": 9,
    "start_time": "2021-12-03T12:12:27.680Z"
   },
   {
    "duration": 4,
    "start_time": "2021-12-03T12:12:40.769Z"
   },
   {
    "duration": 9,
    "start_time": "2021-12-03T12:13:45.313Z"
   },
   {
    "duration": 4,
    "start_time": "2021-12-03T12:14:49.810Z"
   },
   {
    "duration": 3,
    "start_time": "2021-12-03T12:15:08.451Z"
   },
   {
    "duration": 3,
    "start_time": "2021-12-03T12:15:25.763Z"
   },
   {
    "duration": 3,
    "start_time": "2021-12-03T12:15:30.371Z"
   },
   {
    "duration": 273,
    "start_time": "2021-12-03T12:15:34.626Z"
   },
   {
    "duration": 6,
    "start_time": "2021-12-03T12:15:47.083Z"
   },
   {
    "duration": 6,
    "start_time": "2021-12-03T12:16:13.154Z"
   },
   {
    "duration": 3,
    "start_time": "2021-12-03T12:16:20.275Z"
   },
   {
    "duration": 7,
    "start_time": "2021-12-03T12:16:34.876Z"
   },
   {
    "duration": 101,
    "start_time": "2021-12-03T12:17:31.620Z"
   },
   {
    "duration": 113,
    "start_time": "2021-12-03T12:25:14.922Z"
   },
   {
    "duration": 99,
    "start_time": "2021-12-03T12:25:18.750Z"
   },
   {
    "duration": 6,
    "start_time": "2021-12-03T12:25:31.700Z"
   },
   {
    "duration": 7,
    "start_time": "2021-12-03T12:33:46.638Z"
   },
   {
    "duration": 106,
    "start_time": "2021-12-03T12:33:51.374Z"
   },
   {
    "duration": 7,
    "start_time": "2021-12-03T12:34:22.030Z"
   },
   {
    "duration": 7,
    "start_time": "2021-12-03T12:37:20.224Z"
   },
   {
    "duration": 97,
    "start_time": "2021-12-03T12:37:52.481Z"
   },
   {
    "duration": 89,
    "start_time": "2021-12-03T12:37:59.520Z"
   },
   {
    "duration": 97,
    "start_time": "2021-12-03T12:38:02.945Z"
   },
   {
    "duration": 92,
    "start_time": "2021-12-03T12:38:07.360Z"
   },
   {
    "duration": 741,
    "start_time": "2021-12-03T12:38:12.397Z"
   },
   {
    "duration": 4,
    "start_time": "2021-12-03T12:38:31.330Z"
   },
   {
    "duration": 88,
    "start_time": "2021-12-03T12:40:02.515Z"
   },
   {
    "duration": 88,
    "start_time": "2021-12-03T12:40:37.203Z"
   },
   {
    "duration": 25,
    "start_time": "2021-12-03T12:40:57.506Z"
   },
   {
    "duration": 10,
    "start_time": "2021-12-03T12:41:10.985Z"
   },
   {
    "duration": 700,
    "start_time": "2021-12-03T12:41:28.067Z"
   },
   {
    "duration": 3,
    "start_time": "2021-12-03T12:41:34.768Z"
   },
   {
    "duration": 98,
    "start_time": "2021-12-03T12:41:43.587Z"
   },
   {
    "duration": 3,
    "start_time": "2021-12-03T12:41:53.363Z"
   },
   {
    "duration": 10,
    "start_time": "2021-12-03T12:42:00.836Z"
   },
   {
    "duration": 89,
    "start_time": "2021-12-03T12:42:14.172Z"
   },
   {
    "duration": 120,
    "start_time": "2021-12-03T12:43:58.868Z"
   },
   {
    "duration": 110,
    "start_time": "2021-12-03T12:44:09.925Z"
   },
   {
    "duration": 10,
    "start_time": "2021-12-03T12:46:06.406Z"
   },
   {
    "duration": 9,
    "start_time": "2021-12-03T12:46:20.374Z"
   },
   {
    "duration": 9,
    "start_time": "2021-12-03T12:46:37.543Z"
   },
   {
    "duration": 14,
    "start_time": "2021-12-03T12:47:03.463Z"
   },
   {
    "duration": 47,
    "start_time": "2021-12-03T12:53:43.770Z"
   },
   {
    "duration": 10,
    "start_time": "2021-12-03T12:53:43.978Z"
   },
   {
    "duration": 10,
    "start_time": "2021-12-03T12:53:44.177Z"
   },
   {
    "duration": 3,
    "start_time": "2021-12-03T12:53:45.162Z"
   },
   {
    "duration": 9,
    "start_time": "2021-12-03T12:53:45.929Z"
   },
   {
    "duration": 7,
    "start_time": "2021-12-03T12:53:46.122Z"
   },
   {
    "duration": 6,
    "start_time": "2021-12-03T12:53:47.273Z"
   },
   {
    "duration": 11,
    "start_time": "2021-12-03T12:53:47.673Z"
   },
   {
    "duration": 269,
    "start_time": "2021-12-03T12:53:48.268Z"
   },
   {
    "duration": 2,
    "start_time": "2021-12-03T12:53:48.543Z"
   },
   {
    "duration": 7,
    "start_time": "2021-12-03T12:53:48.682Z"
   },
   {
    "duration": 350,
    "start_time": "2021-12-03T12:53:49.082Z"
   },
   {
    "duration": 223,
    "start_time": "2021-12-03T12:53:49.674Z"
   },
   {
    "duration": 237,
    "start_time": "2021-12-03T12:53:50.074Z"
   },
   {
    "duration": 8,
    "start_time": "2021-12-03T12:53:50.665Z"
   },
   {
    "duration": 16,
    "start_time": "2021-12-03T12:53:50.874Z"
   },
   {
    "duration": 12,
    "start_time": "2021-12-03T12:53:51.449Z"
   },
   {
    "duration": 7,
    "start_time": "2021-12-03T12:53:52.220Z"
   },
   {
    "duration": 9,
    "start_time": "2021-12-03T12:53:52.970Z"
   },
   {
    "duration": 7,
    "start_time": "2021-12-03T12:53:53.778Z"
   },
   {
    "duration": 9,
    "start_time": "2021-12-03T12:53:54.590Z"
   },
   {
    "duration": 6,
    "start_time": "2021-12-03T12:53:55.418Z"
   },
   {
    "duration": 282,
    "start_time": "2021-12-03T12:53:56.249Z"
   },
   {
    "duration": 7,
    "start_time": "2021-12-03T12:53:57.162Z"
   },
   {
    "duration": 4,
    "start_time": "2021-12-03T12:53:58.602Z"
   },
   {
    "duration": 11,
    "start_time": "2021-12-03T12:54:00.820Z"
   },
   {
    "duration": 3,
    "start_time": "2021-12-03T12:54:02.714Z"
   },
   {
    "duration": 10,
    "start_time": "2021-12-03T12:54:05.738Z"
   },
   {
    "duration": 14,
    "start_time": "2021-12-03T12:54:06.539Z"
   },
   {
    "duration": 13,
    "start_time": "2021-12-03T12:54:11.530Z"
   },
   {
    "duration": 520,
    "start_time": "2021-12-03T12:54:19.728Z"
   },
   {
    "duration": 500,
    "start_time": "2021-12-03T12:54:23.659Z"
   },
   {
    "duration": 15,
    "start_time": "2021-12-03T12:54:26.618Z"
   },
   {
    "duration": 15,
    "start_time": "2021-12-03T12:54:37.594Z"
   },
   {
    "duration": 48,
    "start_time": "2021-12-03T12:54:54.715Z"
   },
   {
    "duration": 11,
    "start_time": "2021-12-03T12:55:04.827Z"
   },
   {
    "duration": 8,
    "start_time": "2021-12-03T12:55:12.749Z"
   },
   {
    "duration": 3222,
    "start_time": "2021-12-03T12:55:13.979Z"
   },
   {
    "duration": 18,
    "start_time": "2021-12-03T12:55:17.203Z"
   },
   {
    "duration": 3,
    "start_time": "2021-12-03T12:55:21.467Z"
   },
   {
    "duration": 108,
    "start_time": "2021-12-03T12:55:23.355Z"
   },
   {
    "duration": 22,
    "start_time": "2021-12-03T12:55:36.811Z"
   },
   {
    "duration": 99,
    "start_time": "2021-12-03T13:04:28.262Z"
   },
   {
    "duration": 93,
    "start_time": "2021-12-03T13:04:56.658Z"
   },
   {
    "duration": 89,
    "start_time": "2021-12-03T13:07:12.053Z"
   },
   {
    "duration": 92,
    "start_time": "2021-12-03T13:07:24.867Z"
   },
   {
    "duration": 86,
    "start_time": "2021-12-03T13:14:29.752Z"
   },
   {
    "duration": 93,
    "start_time": "2021-12-03T13:14:41.609Z"
   },
   {
    "duration": 287,
    "start_time": "2021-12-03T19:00:30.198Z"
   },
   {
    "duration": 747,
    "start_time": "2021-12-03T19:00:35.440Z"
   },
   {
    "duration": 12,
    "start_time": "2021-12-03T19:00:36.190Z"
   },
   {
    "duration": 26,
    "start_time": "2021-12-03T19:00:36.204Z"
   },
   {
    "duration": 4,
    "start_time": "2021-12-03T19:00:36.806Z"
   },
   {
    "duration": 11,
    "start_time": "2021-12-03T19:00:37.545Z"
   },
   {
    "duration": 10,
    "start_time": "2021-12-03T19:00:37.745Z"
   },
   {
    "duration": 7,
    "start_time": "2021-12-03T19:00:38.886Z"
   },
   {
    "duration": 17,
    "start_time": "2021-12-03T19:00:39.245Z"
   },
   {
    "duration": 399,
    "start_time": "2021-12-03T19:00:39.824Z"
   },
   {
    "duration": 2,
    "start_time": "2021-12-03T19:00:40.225Z"
   },
   {
    "duration": 14,
    "start_time": "2021-12-03T19:00:40.229Z"
   },
   {
    "duration": 337,
    "start_time": "2021-12-03T19:00:40.605Z"
   },
   {
    "duration": 329,
    "start_time": "2021-12-03T19:00:41.181Z"
   },
   {
    "duration": 267,
    "start_time": "2021-12-03T19:00:41.581Z"
   },
   {
    "duration": 8,
    "start_time": "2021-12-03T19:00:42.185Z"
   },
   {
    "duration": 19,
    "start_time": "2021-12-03T19:00:42.366Z"
   },
   {
    "duration": 13,
    "start_time": "2021-12-03T19:00:42.965Z"
   },
   {
    "duration": 9,
    "start_time": "2021-12-03T19:00:43.773Z"
   },
   {
    "duration": 12,
    "start_time": "2021-12-03T19:00:44.565Z"
   },
   {
    "duration": 9,
    "start_time": "2021-12-03T19:00:45.385Z"
   },
   {
    "duration": 9,
    "start_time": "2021-12-03T19:00:46.185Z"
   },
   {
    "duration": 7,
    "start_time": "2021-12-03T19:00:47.043Z"
   },
   {
    "duration": 301,
    "start_time": "2021-12-03T19:00:47.846Z"
   },
   {
    "duration": 9,
    "start_time": "2021-12-03T19:00:48.726Z"
   },
   {
    "duration": 5,
    "start_time": "2021-12-03T19:00:49.706Z"
   },
   {
    "duration": 13,
    "start_time": "2021-12-03T19:00:52.268Z"
   },
   {
    "duration": 2,
    "start_time": "2021-12-03T19:00:53.168Z"
   },
   {
    "duration": 11,
    "start_time": "2021-12-03T19:01:35.953Z"
   },
   {
    "duration": 17,
    "start_time": "2021-12-03T19:01:36.825Z"
   },
   {
    "duration": 17,
    "start_time": "2021-12-03T19:01:43.265Z"
   },
   {
    "duration": 606,
    "start_time": "2021-12-03T19:01:46.541Z"
   },
   {
    "duration": 600,
    "start_time": "2021-12-03T19:01:50.047Z"
   },
   {
    "duration": 28,
    "start_time": "2021-12-03T19:01:50.649Z"
   },
   {
    "duration": 17,
    "start_time": "2021-12-03T19:01:55.186Z"
   },
   {
    "duration": 55,
    "start_time": "2021-12-03T19:02:43.586Z"
   },
   {
    "duration": 14,
    "start_time": "2021-12-03T19:02:45.646Z"
   },
   {
    "duration": 15,
    "start_time": "2021-12-03T19:02:46.265Z"
   },
   {
    "duration": 3859,
    "start_time": "2021-12-03T19:02:46.535Z"
   },
   {
    "duration": 17,
    "start_time": "2021-12-03T19:02:50.397Z"
   },
   {
    "duration": 3,
    "start_time": "2021-12-03T19:02:54.385Z"
   },
   {
    "duration": 124,
    "start_time": "2021-12-03T19:02:55.245Z"
   },
   {
    "duration": 20,
    "start_time": "2021-12-03T19:06:10.659Z"
   },
   {
    "duration": 20,
    "start_time": "2021-12-03T19:06:13.399Z"
   },
   {
    "duration": 8,
    "start_time": "2021-12-03T19:06:13.899Z"
   },
   {
    "duration": 271,
    "start_time": "2021-12-03T19:06:40.880Z"
   },
   {
    "duration": 14,
    "start_time": "2021-12-03T19:06:41.739Z"
   },
   {
    "duration": 14,
    "start_time": "2021-12-03T19:06:42.034Z"
   },
   {
    "duration": 9,
    "start_time": "2021-12-03T19:06:42.314Z"
   },
   {
    "duration": 303,
    "start_time": "2021-12-03T19:11:43.379Z"
   },
   {
    "duration": 259,
    "start_time": "2021-12-03T19:11:50.521Z"
   },
   {
    "duration": 15,
    "start_time": "2021-12-03T19:11:57.760Z"
   },
   {
    "duration": 16,
    "start_time": "2021-12-03T19:12:04.319Z"
   },
   {
    "duration": 16,
    "start_time": "2021-12-03T19:12:55.312Z"
   },
   {
    "duration": 17,
    "start_time": "2021-12-03T19:13:33.481Z"
   },
   {
    "duration": 16,
    "start_time": "2021-12-03T19:14:18.579Z"
   },
   {
    "duration": 24,
    "start_time": "2021-12-03T19:16:24.439Z"
   },
   {
    "duration": 20,
    "start_time": "2021-12-03T19:18:59.419Z"
   },
   {
    "duration": 19,
    "start_time": "2021-12-03T19:23:35.387Z"
   },
   {
    "duration": 15,
    "start_time": "2021-12-03T19:23:50.759Z"
   },
   {
    "duration": 15,
    "start_time": "2021-12-03T19:24:02.359Z"
   },
   {
    "duration": 17,
    "start_time": "2021-12-03T19:24:40.447Z"
   }
  ],
  "kernelspec": {
   "display_name": "Python 3 (ipykernel)",
   "language": "python",
   "name": "python3"
  },
  "language_info": {
   "codemirror_mode": {
    "name": "ipython",
    "version": 3
   },
   "file_extension": ".py",
   "mimetype": "text/x-python",
   "name": "python",
   "nbconvert_exporter": "python",
   "pygments_lexer": "ipython3",
   "version": "3.9.7"
  },
  "toc": {
   "base_numbering": 1,
   "nav_menu": {},
   "number_sections": true,
   "sideBar": true,
   "skip_h1_title": true,
   "title_cell": "Table of Contents",
   "title_sidebar": "Contents",
   "toc_cell": false,
   "toc_position": {
    "height": "calc(100% - 180px)",
    "left": "10px",
    "top": "150px",
    "width": "366.391px"
   },
   "toc_section_display": true,
   "toc_window_display": true
  }
 },
 "nbformat": 4,
 "nbformat_minor": 2
}
