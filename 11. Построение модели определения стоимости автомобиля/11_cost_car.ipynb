{
 "cells": [
  {
   "cell_type": "markdown",
   "metadata": {},
   "source": [
    "# Определение стоимости автомобилей"
   ]
  },
  {
   "cell_type": "markdown",
   "metadata": {},
   "source": [
    "Сервис по продаже автомобилей с пробегом «Не бит, не крашен» разрабатывает приложение для привлечения новых клиентов. В нём можно быстро узнать рыночную стоимость своего автомобиля. В нашем распоряжении исторические данные: технические характеристики, комплектации и цены автомобилей. Нужно построить модель для определения стоимости. \n",
    "\n",
    "Заказчику важны:\n",
    "\n",
    "- качество предсказания;\n",
    "- скорость предсказания;\n",
    "- время обучения."
   ]
  },
  {
   "cell_type": "code",
   "execution_count": 89,
   "metadata": {},
   "outputs": [],
   "source": [
    "import pandas as pd\n",
    "import numpy as np\n",
    "\n",
    "from sklearn.model_selection import train_test_split\n",
    "from sklearn.model_selection import cross_val_score\n",
    "\n",
    "from sklearn.model_selection import GridSearchCV\n",
    "from sklearn.model_selection import RandomizedSearchCV\n",
    "\n",
    "from sklearn import metrics\n",
    "from sklearn.metrics import mean_squared_error\n",
    "from sklearn.metrics import make_scorer\n",
    "\n",
    "from sklearn.preprocessing import OneHotEncoder\n",
    "from sklearn.preprocessing import StandardScaler\n",
    "from sklearn.preprocessing import OrdinalEncoder\n",
    "\n",
    "from sklearn.linear_model import LinearRegression\n",
    "from sklearn.linear_model import RidgeCV\n",
    "from sklearn.ensemble import RandomForestRegressor\n",
    "from sklearn.neighbors import KNeighborsRegressor\n",
    "from sklearn.tree import DecisionTreeRegressor\n",
    "\n",
    "import lightgbm as lgb\n",
    "from catboost import CatBoostRegressor\n",
    "\n",
    "import matplotlib.pyplot as plt\n",
    "import seaborn as sns\n",
    "\n",
    "pd.options.display.float_format = '{:,.2f}'.format"
   ]
  },
  {
   "cell_type": "markdown",
   "metadata": {},
   "source": [
    "## Подготовка данных"
   ]
  },
  {
   "cell_type": "markdown",
   "metadata": {},
   "source": [
    "### Первичный осмотр данных"
   ]
  },
  {
   "cell_type": "code",
   "execution_count": 39,
   "metadata": {},
   "outputs": [],
   "source": [
    "data = pd.read_csv(r'datasets/autos.csv')"
   ]
  },
  {
   "cell_type": "code",
   "execution_count": 40,
   "metadata": {},
   "outputs": [
    {
     "name": "stdout",
     "output_type": "stream",
     "text": [
      "<class 'pandas.core.frame.DataFrame'>\n",
      "RangeIndex: 354369 entries, 0 to 354368\n",
      "Data columns (total 16 columns):\n",
      " #   Column             Non-Null Count   Dtype \n",
      "---  ------             --------------   ----- \n",
      " 0   DateCrawled        354369 non-null  object\n",
      " 1   Price              354369 non-null  int64 \n",
      " 2   VehicleType        316879 non-null  object\n",
      " 3   RegistrationYear   354369 non-null  int64 \n",
      " 4   Gearbox            334536 non-null  object\n",
      " 5   Power              354369 non-null  int64 \n",
      " 6   Model              334664 non-null  object\n",
      " 7   Kilometer          354369 non-null  int64 \n",
      " 8   RegistrationMonth  354369 non-null  int64 \n",
      " 9   FuelType           321474 non-null  object\n",
      " 10  Brand              354369 non-null  object\n",
      " 11  NotRepaired        283215 non-null  object\n",
      " 12  DateCreated        354369 non-null  object\n",
      " 13  NumberOfPictures   354369 non-null  int64 \n",
      " 14  PostalCode         354369 non-null  int64 \n",
      " 15  LastSeen           354369 non-null  object\n",
      "dtypes: int64(7), object(9)\n",
      "memory usage: 43.3+ MB\n"
     ]
    }
   ],
   "source": [
    "data.info()"
   ]
  },
  {
   "cell_type": "code",
   "execution_count": 41,
   "metadata": {},
   "outputs": [
    {
     "data": {
      "text/html": [
       "<div>\n",
       "<style scoped>\n",
       "    .dataframe tbody tr th:only-of-type {\n",
       "        vertical-align: middle;\n",
       "    }\n",
       "\n",
       "    .dataframe tbody tr th {\n",
       "        vertical-align: top;\n",
       "    }\n",
       "\n",
       "    .dataframe thead th {\n",
       "        text-align: right;\n",
       "    }\n",
       "</style>\n",
       "<table border=\"1\" class=\"dataframe\">\n",
       "  <thead>\n",
       "    <tr style=\"text-align: right;\">\n",
       "      <th></th>\n",
       "      <th>Price</th>\n",
       "      <th>RegistrationYear</th>\n",
       "      <th>Power</th>\n",
       "      <th>Kilometer</th>\n",
       "      <th>RegistrationMonth</th>\n",
       "      <th>NumberOfPictures</th>\n",
       "      <th>PostalCode</th>\n",
       "    </tr>\n",
       "  </thead>\n",
       "  <tbody>\n",
       "    <tr>\n",
       "      <th>count</th>\n",
       "      <td>354,369.00</td>\n",
       "      <td>354,369.00</td>\n",
       "      <td>354,369.00</td>\n",
       "      <td>354,369.00</td>\n",
       "      <td>354,369.00</td>\n",
       "      <td>354,369.00</td>\n",
       "      <td>354,369.00</td>\n",
       "    </tr>\n",
       "    <tr>\n",
       "      <th>mean</th>\n",
       "      <td>4,416.66</td>\n",
       "      <td>2,004.23</td>\n",
       "      <td>110.09</td>\n",
       "      <td>128,211.17</td>\n",
       "      <td>5.71</td>\n",
       "      <td>0.00</td>\n",
       "      <td>50,508.69</td>\n",
       "    </tr>\n",
       "    <tr>\n",
       "      <th>std</th>\n",
       "      <td>4,514.16</td>\n",
       "      <td>90.23</td>\n",
       "      <td>189.85</td>\n",
       "      <td>37,905.34</td>\n",
       "      <td>3.73</td>\n",
       "      <td>0.00</td>\n",
       "      <td>25,783.10</td>\n",
       "    </tr>\n",
       "    <tr>\n",
       "      <th>min</th>\n",
       "      <td>0.00</td>\n",
       "      <td>1,000.00</td>\n",
       "      <td>0.00</td>\n",
       "      <td>5,000.00</td>\n",
       "      <td>0.00</td>\n",
       "      <td>0.00</td>\n",
       "      <td>1,067.00</td>\n",
       "    </tr>\n",
       "    <tr>\n",
       "      <th>25%</th>\n",
       "      <td>1,050.00</td>\n",
       "      <td>1,999.00</td>\n",
       "      <td>69.00</td>\n",
       "      <td>125,000.00</td>\n",
       "      <td>3.00</td>\n",
       "      <td>0.00</td>\n",
       "      <td>30,165.00</td>\n",
       "    </tr>\n",
       "    <tr>\n",
       "      <th>50%</th>\n",
       "      <td>2,700.00</td>\n",
       "      <td>2,003.00</td>\n",
       "      <td>105.00</td>\n",
       "      <td>150,000.00</td>\n",
       "      <td>6.00</td>\n",
       "      <td>0.00</td>\n",
       "      <td>49,413.00</td>\n",
       "    </tr>\n",
       "    <tr>\n",
       "      <th>75%</th>\n",
       "      <td>6,400.00</td>\n",
       "      <td>2,008.00</td>\n",
       "      <td>143.00</td>\n",
       "      <td>150,000.00</td>\n",
       "      <td>9.00</td>\n",
       "      <td>0.00</td>\n",
       "      <td>71,083.00</td>\n",
       "    </tr>\n",
       "    <tr>\n",
       "      <th>max</th>\n",
       "      <td>20,000.00</td>\n",
       "      <td>9,999.00</td>\n",
       "      <td>20,000.00</td>\n",
       "      <td>150,000.00</td>\n",
       "      <td>12.00</td>\n",
       "      <td>0.00</td>\n",
       "      <td>99,998.00</td>\n",
       "    </tr>\n",
       "  </tbody>\n",
       "</table>\n",
       "</div>"
      ],
      "text/plain": [
       "           Price  RegistrationYear      Power  Kilometer  RegistrationMonth  \\\n",
       "count 354,369.00        354,369.00 354,369.00 354,369.00         354,369.00   \n",
       "mean    4,416.66          2,004.23     110.09 128,211.17               5.71   \n",
       "std     4,514.16             90.23     189.85  37,905.34               3.73   \n",
       "min         0.00          1,000.00       0.00   5,000.00               0.00   \n",
       "25%     1,050.00          1,999.00      69.00 125,000.00               3.00   \n",
       "50%     2,700.00          2,003.00     105.00 150,000.00               6.00   \n",
       "75%     6,400.00          2,008.00     143.00 150,000.00               9.00   \n",
       "max    20,000.00          9,999.00  20,000.00 150,000.00              12.00   \n",
       "\n",
       "       NumberOfPictures  PostalCode  \n",
       "count        354,369.00  354,369.00  \n",
       "mean               0.00   50,508.69  \n",
       "std                0.00   25,783.10  \n",
       "min                0.00    1,067.00  \n",
       "25%                0.00   30,165.00  \n",
       "50%                0.00   49,413.00  \n",
       "75%                0.00   71,083.00  \n",
       "max                0.00   99,998.00  "
      ]
     },
     "execution_count": 41,
     "metadata": {},
     "output_type": "execute_result"
    }
   ],
   "source": [
    "data.describe()"
   ]
  },
  {
   "cell_type": "code",
   "execution_count": 42,
   "metadata": {
    "scrolled": true
   },
   "outputs": [
    {
     "data": {
      "text/html": [
       "<style type=\"text/css\">\n",
       "#T_e1671_row0_col0, #T_e1671_row0_col1 {\n",
       "  background-color: #b40426;\n",
       "  color: #f1f1f1;\n",
       "}\n",
       "#T_e1671_row1_col0, #T_e1671_row1_col1 {\n",
       "  background-color: #e3d9d3;\n",
       "  color: #000000;\n",
       "}\n",
       "#T_e1671_row2_col0, #T_e1671_row2_col1 {\n",
       "  background-color: #d3dbe7;\n",
       "  color: #000000;\n",
       "}\n",
       "#T_e1671_row3_col0, #T_e1671_row3_col1 {\n",
       "  background-color: #97b8ff;\n",
       "  color: #000000;\n",
       "}\n",
       "#T_e1671_row4_col0, #T_e1671_row4_col1 {\n",
       "  background-color: #96b7ff;\n",
       "  color: #000000;\n",
       "}\n",
       "#T_e1671_row5_col0, #T_e1671_row5_col1, #T_e1671_row6_col0, #T_e1671_row6_col1, #T_e1671_row7_col0, #T_e1671_row7_col1, #T_e1671_row8_col0, #T_e1671_row8_col1, #T_e1671_row9_col0, #T_e1671_row9_col1, #T_e1671_row10_col0, #T_e1671_row10_col1, #T_e1671_row11_col0, #T_e1671_row11_col1, #T_e1671_row12_col0, #T_e1671_row12_col1, #T_e1671_row13_col0, #T_e1671_row13_col1, #T_e1671_row14_col0, #T_e1671_row14_col1, #T_e1671_row15_col0, #T_e1671_row15_col1 {\n",
       "  background-color: #3b4cc0;\n",
       "  color: #f1f1f1;\n",
       "}\n",
       "</style>\n",
       "<table id=\"T_e1671_\">\n",
       "  <thead>\n",
       "    <tr>\n",
       "      <th class=\"blank level0\" >&nbsp;</th>\n",
       "      <th class=\"col_heading level0 col0\" >percent_na</th>\n",
       "      <th class=\"col_heading level0 col1\" >count_na</th>\n",
       "    </tr>\n",
       "  </thead>\n",
       "  <tbody>\n",
       "    <tr>\n",
       "      <th id=\"T_e1671_level0_row0\" class=\"row_heading level0 row0\" >NotRepaired</th>\n",
       "      <td id=\"T_e1671_row0_col0\" class=\"data row0 col0\" >20.080000</td>\n",
       "      <td id=\"T_e1671_row0_col1\" class=\"data row0 col1\" >71154.000000</td>\n",
       "    </tr>\n",
       "    <tr>\n",
       "      <th id=\"T_e1671_level0_row1\" class=\"row_heading level0 row1\" >VehicleType</th>\n",
       "      <td id=\"T_e1671_row1_col0\" class=\"data row1 col0\" >10.580000</td>\n",
       "      <td id=\"T_e1671_row1_col1\" class=\"data row1 col1\" >37490.000000</td>\n",
       "    </tr>\n",
       "    <tr>\n",
       "      <th id=\"T_e1671_level0_row2\" class=\"row_heading level0 row2\" >FuelType</th>\n",
       "      <td id=\"T_e1671_row2_col0\" class=\"data row2 col0\" >9.280000</td>\n",
       "      <td id=\"T_e1671_row2_col1\" class=\"data row2 col1\" >32895.000000</td>\n",
       "    </tr>\n",
       "    <tr>\n",
       "      <th id=\"T_e1671_level0_row3\" class=\"row_heading level0 row3\" >Gearbox</th>\n",
       "      <td id=\"T_e1671_row3_col0\" class=\"data row3 col0\" >5.600000</td>\n",
       "      <td id=\"T_e1671_row3_col1\" class=\"data row3 col1\" >19833.000000</td>\n",
       "    </tr>\n",
       "    <tr>\n",
       "      <th id=\"T_e1671_level0_row4\" class=\"row_heading level0 row4\" >Model</th>\n",
       "      <td id=\"T_e1671_row4_col0\" class=\"data row4 col0\" >5.560000</td>\n",
       "      <td id=\"T_e1671_row4_col1\" class=\"data row4 col1\" >19705.000000</td>\n",
       "    </tr>\n",
       "    <tr>\n",
       "      <th id=\"T_e1671_level0_row5\" class=\"row_heading level0 row5\" >DateCrawled</th>\n",
       "      <td id=\"T_e1671_row5_col0\" class=\"data row5 col0\" >0.000000</td>\n",
       "      <td id=\"T_e1671_row5_col1\" class=\"data row5 col1\" >0.000000</td>\n",
       "    </tr>\n",
       "    <tr>\n",
       "      <th id=\"T_e1671_level0_row6\" class=\"row_heading level0 row6\" >Price</th>\n",
       "      <td id=\"T_e1671_row6_col0\" class=\"data row6 col0\" >0.000000</td>\n",
       "      <td id=\"T_e1671_row6_col1\" class=\"data row6 col1\" >0.000000</td>\n",
       "    </tr>\n",
       "    <tr>\n",
       "      <th id=\"T_e1671_level0_row7\" class=\"row_heading level0 row7\" >RegistrationYear</th>\n",
       "      <td id=\"T_e1671_row7_col0\" class=\"data row7 col0\" >0.000000</td>\n",
       "      <td id=\"T_e1671_row7_col1\" class=\"data row7 col1\" >0.000000</td>\n",
       "    </tr>\n",
       "    <tr>\n",
       "      <th id=\"T_e1671_level0_row8\" class=\"row_heading level0 row8\" >Power</th>\n",
       "      <td id=\"T_e1671_row8_col0\" class=\"data row8 col0\" >0.000000</td>\n",
       "      <td id=\"T_e1671_row8_col1\" class=\"data row8 col1\" >0.000000</td>\n",
       "    </tr>\n",
       "    <tr>\n",
       "      <th id=\"T_e1671_level0_row9\" class=\"row_heading level0 row9\" >Kilometer</th>\n",
       "      <td id=\"T_e1671_row9_col0\" class=\"data row9 col0\" >0.000000</td>\n",
       "      <td id=\"T_e1671_row9_col1\" class=\"data row9 col1\" >0.000000</td>\n",
       "    </tr>\n",
       "    <tr>\n",
       "      <th id=\"T_e1671_level0_row10\" class=\"row_heading level0 row10\" >RegistrationMonth</th>\n",
       "      <td id=\"T_e1671_row10_col0\" class=\"data row10 col0\" >0.000000</td>\n",
       "      <td id=\"T_e1671_row10_col1\" class=\"data row10 col1\" >0.000000</td>\n",
       "    </tr>\n",
       "    <tr>\n",
       "      <th id=\"T_e1671_level0_row11\" class=\"row_heading level0 row11\" >Brand</th>\n",
       "      <td id=\"T_e1671_row11_col0\" class=\"data row11 col0\" >0.000000</td>\n",
       "      <td id=\"T_e1671_row11_col1\" class=\"data row11 col1\" >0.000000</td>\n",
       "    </tr>\n",
       "    <tr>\n",
       "      <th id=\"T_e1671_level0_row12\" class=\"row_heading level0 row12\" >DateCreated</th>\n",
       "      <td id=\"T_e1671_row12_col0\" class=\"data row12 col0\" >0.000000</td>\n",
       "      <td id=\"T_e1671_row12_col1\" class=\"data row12 col1\" >0.000000</td>\n",
       "    </tr>\n",
       "    <tr>\n",
       "      <th id=\"T_e1671_level0_row13\" class=\"row_heading level0 row13\" >NumberOfPictures</th>\n",
       "      <td id=\"T_e1671_row13_col0\" class=\"data row13 col0\" >0.000000</td>\n",
       "      <td id=\"T_e1671_row13_col1\" class=\"data row13 col1\" >0.000000</td>\n",
       "    </tr>\n",
       "    <tr>\n",
       "      <th id=\"T_e1671_level0_row14\" class=\"row_heading level0 row14\" >PostalCode</th>\n",
       "      <td id=\"T_e1671_row14_col0\" class=\"data row14 col0\" >0.000000</td>\n",
       "      <td id=\"T_e1671_row14_col1\" class=\"data row14 col1\" >0.000000</td>\n",
       "    </tr>\n",
       "    <tr>\n",
       "      <th id=\"T_e1671_level0_row15\" class=\"row_heading level0 row15\" >LastSeen</th>\n",
       "      <td id=\"T_e1671_row15_col0\" class=\"data row15 col0\" >0.000000</td>\n",
       "      <td id=\"T_e1671_row15_col1\" class=\"data row15 col1\" >0.000000</td>\n",
       "    </tr>\n",
       "  </tbody>\n",
       "</table>\n"
      ],
      "text/plain": [
       "<pandas.io.formats.style.Styler at 0x22974509ac0>"
      ]
     },
     "execution_count": 42,
     "metadata": {},
     "output_type": "execute_result"
    }
   ],
   "source": [
    "pd.DataFrame(\n",
    "    [round((data.isna().mean()*100),2), data.isna().sum()]).T \\\n",
    "    .rename(columns={0: 'percent_na', 1: 'count_na'}) \\\n",
    "    .sort_values(by='count_na', ascending=False) \\\n",
    "    .style.background_gradient('coolwarm')"
   ]
  },
  {
   "cell_type": "code",
   "execution_count": null,
   "metadata": {},
   "outputs": [],
   "source": []
  },
  {
   "cell_type": "code",
   "execution_count": 43,
   "metadata": {},
   "outputs": [
    {
     "data": {
      "text/plain": [
       "no     247161\n",
       "yes     36054\n",
       "Name: NotRepaired, dtype: int64"
      ]
     },
     "execution_count": 43,
     "metadata": {},
     "output_type": "execute_result"
    }
   ],
   "source": [
    "data['NotRepaired'].value_counts()"
   ]
  },
  {
   "cell_type": "code",
   "execution_count": 44,
   "metadata": {},
   "outputs": [
    {
     "data": {
      "text/plain": [
       "sedan          91457\n",
       "small          79831\n",
       "wagon          65166\n",
       "bus            28775\n",
       "convertible    20203\n",
       "coupe          16163\n",
       "suv            11996\n",
       "other           3288\n",
       "Name: VehicleType, dtype: int64"
      ]
     },
     "execution_count": 44,
     "metadata": {},
     "output_type": "execute_result"
    }
   ],
   "source": [
    "data['VehicleType'].value_counts()"
   ]
  },
  {
   "cell_type": "code",
   "execution_count": 45,
   "metadata": {
    "scrolled": true
   },
   "outputs": [
    {
     "data": {
      "text/plain": [
       "petrol      216352\n",
       "gasoline     98720\n",
       "lpg           5310\n",
       "cng            565\n",
       "hybrid         233\n",
       "other          204\n",
       "electric        90\n",
       "Name: FuelType, dtype: int64"
      ]
     },
     "execution_count": 45,
     "metadata": {},
     "output_type": "execute_result"
    }
   ],
   "source": [
    "data['FuelType'].value_counts()"
   ]
  },
  {
   "cell_type": "code",
   "execution_count": 46,
   "metadata": {},
   "outputs": [
    {
     "data": {
      "text/plain": [
       "manual    268251\n",
       "auto       66285\n",
       "Name: Gearbox, dtype: int64"
      ]
     },
     "execution_count": 46,
     "metadata": {},
     "output_type": "execute_result"
    }
   ],
   "source": [
    "data['Gearbox'].value_counts()"
   ]
  },
  {
   "cell_type": "code",
   "execution_count": 47,
   "metadata": {},
   "outputs": [
    {
     "data": {
      "text/plain": [
       "golf     29232\n",
       "other    24421\n",
       "3er      19761\n",
       "polo     13066\n",
       "corsa    12570\n",
       "Name: Model, dtype: int64"
      ]
     },
     "execution_count": 47,
     "metadata": {},
     "output_type": "execute_result"
    }
   ],
   "source": [
    "data['Model'].value_counts().head(5)"
   ]
  },
  {
   "cell_type": "code",
   "execution_count": 48,
   "metadata": {},
   "outputs": [
    {
     "data": {
      "text/plain": [
       "0    354369\n",
       "Name: NumberOfPictures, dtype: int64"
      ]
     },
     "execution_count": 48,
     "metadata": {},
     "output_type": "execute_result"
    }
   ],
   "source": [
    "data['NumberOfPictures'].value_counts().head(5)"
   ]
  },
  {
   "cell_type": "code",
   "execution_count": 49,
   "metadata": {},
   "outputs": [
    {
     "data": {
      "text/plain": [
       "0     37352\n",
       "3     34373\n",
       "6     31508\n",
       "4     29270\n",
       "5     29153\n",
       "7     27213\n",
       "10    26099\n",
       "12    24289\n",
       "11    24186\n",
       "9     23813\n",
       "1     23219\n",
       "8     22627\n",
       "2     21267\n",
       "Name: RegistrationMonth, dtype: int64"
      ]
     },
     "execution_count": 49,
     "metadata": {},
     "output_type": "execute_result"
    }
   ],
   "source": [
    "data['RegistrationMonth'].value_counts()"
   ]
  },
  {
   "cell_type": "code",
   "execution_count": null,
   "metadata": {},
   "outputs": [],
   "source": []
  },
  {
   "cell_type": "markdown",
   "metadata": {},
   "source": [
    "### Исследование данных"
   ]
  },
  {
   "cell_type": "markdown",
   "metadata": {},
   "source": [
    "<div style=\"border:solid blue 2.0px; padding: 10px\"> \n",
    "\n",
    "Построим распределения значений цены, пробега и мощности для определения выбросов\n",
    "\n",
    "</div>"
   ]
  },
  {
   "cell_type": "code",
   "execution_count": 50,
   "metadata": {},
   "outputs": [],
   "source": [
    "value_dict = {\n",
    "    'DateCrawled'      : 'дата скачивания анкеты из базы'                  ,\n",
    "    'VehicleType'      : 'тип автомобильного кузова'                       ,\n",
    "    'RegistrationYear' : 'год регистрации автомобиля'                      ,\n",
    "    'Gearbox'          : 'тип коробки передач'                             ,\n",
    "    'Power'            : 'мощность (л. с.)'                                ,\n",
    "    'Model'            : 'модель автомобиля'                               ,\n",
    "    'Kilometer'        : 'пробег (км)'                                     ,\n",
    "    'RegistrationMonth': 'месяц регистрации автомобиля'                    ,\n",
    "    'FuelType'         : 'тип топлива'                                     ,\n",
    "    'Brand'            : 'марка автомобиля'                                ,\n",
    "    'NotRepaired'      : 'была машина в ремонте или нет'                   ,\n",
    "    'DateCreated'      : 'дата создания анкеты'                            ,\n",
    "    'NumberOfPictures' : 'количество фотографий автомобиля'                ,\n",
    "    'PostalCode'       : 'почтовый индекс владельца анкеты (пользователя)' ,\n",
    "    'LastSeen'         : 'дата последней активности пользователя'          ,\n",
    "    'Price'            : 'цена (евро)'\n",
    "    }\n"
   ]
  },
  {
   "cell_type": "code",
   "execution_count": 51,
   "metadata": {},
   "outputs": [],
   "source": [
    "def graph_hist_box (df, col):\n",
    "    label = value_dict.get(col)\n",
    "    fig, axes = plt.subplots(2, 1, figsize=(15, 8), sharex=True)\n",
    "    ax1 = sns.boxplot(data = df, x=col, color=\"green\", ax=axes[0])\n",
    "    ax2 = sns.histplot(df[col], color=\"green\", label=\"\", kde=True, ax=axes[1])\n",
    "    ax1.set(xlabel = '')\n",
    "    ax2.set(xlabel = '')\n",
    "    ax2.set(ylabel = 'Количество')\n",
    "    plt.xlabel(label, fontsize=14)\n",
    "    fig.suptitle(f'Распределение значений столбца: {label}', fontsize=20)"
   ]
  },
  {
   "cell_type": "code",
   "execution_count": 52,
   "metadata": {},
   "outputs": [
    {
     "data": {
      "image/png": "[encoded data removed]",
      "text/plain": [
       "<Figure size 1080x576 with 2 Axes>"
      ]
     },
     "metadata": {
      "needs_background": "light"
     },
     "output_type": "display_data"
    }
   ],
   "source": [
    "graph_hist_box(data, 'Price')"
   ]
  },
  {
   "cell_type": "code",
   "execution_count": null,
   "metadata": {},
   "outputs": [],
   "source": []
  },
  {
   "cell_type": "code",
   "execution_count": 53,
   "metadata": {},
   "outputs": [
    {
     "data": {
      "image/png": "[encoded data removed]",
      "text/plain": [
       "<Figure size 1080x576 with 2 Axes>"
      ]
     },
     "metadata": {
      "needs_background": "light"
     },
     "output_type": "display_data"
    }
   ],
   "source": [
    "graph_hist_box(data, 'Power')"
   ]
  },
  {
   "cell_type": "code",
   "execution_count": null,
   "metadata": {},
   "outputs": [],
   "source": []
  },
  {
   "cell_type": "markdown",
   "metadata": {},
   "source": [
    "<div style=\"border:solid gray 2.0px; padding: 10px\"> \n",
    "\n",
    "Посмотрим на график мощности по-ближе\n",
    "\n",
    "</div>"
   ]
  },
  {
   "cell_type": "code",
   "execution_count": 54,
   "metadata": {},
   "outputs": [
    {
     "data": {
      "image/png": "[encoded data removed]",
      "text/plain": [
       "<Figure size 1080x576 with 1 Axes>"
      ]
     },
     "metadata": {
      "needs_background": "light"
     },
     "output_type": "display_data"
    }
   ],
   "source": [
    "plt.subplots(figsize = (15,8))\n",
    "Power = data.query('Power<=400')['Power']\n",
    "sns.histplot(Power, color=\"green\", label=\"\", kde=True)\n",
    "plt.xlabel('Мощность (л.с.)', fontsize = 12)\n",
    "plt.ylabel('Количество', fontsize = 12)\n",
    "plt.title('Гистограмма мощности авто', fontsize = 15);"
   ]
  },
  {
   "cell_type": "code",
   "execution_count": null,
   "metadata": {},
   "outputs": [],
   "source": []
  },
  {
   "cell_type": "code",
   "execution_count": 55,
   "metadata": {},
   "outputs": [
    {
     "data": {
      "image/png": "[encoded data removed]",
      "text/plain": [
       "<Figure size 1080x576 with 2 Axes>"
      ]
     },
     "metadata": {
      "needs_background": "light"
     },
     "output_type": "display_data"
    }
   ],
   "source": [
    "graph_hist_box(data, 'Kilometer')"
   ]
  },
  {
   "cell_type": "code",
   "execution_count": null,
   "metadata": {},
   "outputs": [],
   "source": []
  },
  {
   "cell_type": "markdown",
   "metadata": {},
   "source": [
    "<div style=\"border:solid blue 2.0px; padding: 10px\"> \n",
    "\n",
    " - цена: есть довольно много значений с нулевой ценой\n",
    " - мощность. видим много выбросов в сторону больших значений, а так же много значений с нулевой мощностью\n",
    " - пробег. значения вполне вменяемые\n",
    "\n",
    "</div>"
   ]
  },
  {
   "cell_type": "code",
   "execution_count": null,
   "metadata": {},
   "outputs": [],
   "source": []
  },
  {
   "cell_type": "markdown",
   "metadata": {},
   "source": [
    "### Чистка, восстановление данных"
   ]
  },
  {
   "cell_type": "markdown",
   "metadata": {},
   "source": [
    "<div style=\"border:solid blue 2.0px; padding: 10px\"> \n",
    "    \n",
    "1. Будем исходить из предположения, что наш сервис при приеме заявок сможет проверять входные данные на базовую валидность.\n",
    "\n",
    "    За базовые проверки примем:\n",
    "     - дата регистрации автомобиля не может быть раньше 1950 года\n",
    "     - месяц покупки варьируется в диапазоне от 1 до 12. есть большое количество анкет с не заполненным месяцем (около 10%). чтобы такие не удалять - заполним отсутствующие данные срединным месяцем в году\n",
    "     - дата регистрации автомобиля не может быть позже даты создания анкеты\n",
    "     - дата создания анкеты не может быть раньше даты скачивания из базы\n",
    "     - цена авто не может быть дешевле 100 евро\n",
    "     - мощность авто находится в диапазоне от 10 до 1500 лс\n",
    "     - модель авто (как и марка) обязательны к заполнению\n",
    "\n",
    "    Таким обрабом, на вход будут поступать данные, проведшие первичную валидацию. Поэтому из предоставленного датасета нам так же необходимо убрать ошибочно заполненные анкеты\n",
    "\n",
    "    \n",
    "2.  Пропуски в категориальных переменных заполним значением \"no answer\"\n",
    "\n",
    "</div>"
   ]
  },
  {
   "cell_type": "code",
   "execution_count": null,
   "metadata": {},
   "outputs": [],
   "source": []
  },
  {
   "cell_type": "code",
   "execution_count": 56,
   "metadata": {},
   "outputs": [],
   "source": [
    "full_sample_value = data.shape[0]"
   ]
  },
  {
   "cell_type": "code",
   "execution_count": 57,
   "metadata": {},
   "outputs": [],
   "source": [
    "def check(df, rule, full_sample_value = full_sample_value):\n",
    "    print(f'До проверки: {df.shape[0]} наблюдений ({round(df.shape[0]/full_sample_value*100,2)} % от исходной выборки)')\n",
    "    df = df.query(rule, engine='python')\n",
    "    print(f'После проверки: {df.shape[0]} наблюдений ({round(df.shape[0]/full_sample_value*100,2)} % от исходной выборки)')\n",
    "    return df"
   ]
  },
  {
   "cell_type": "code",
   "execution_count": 58,
   "metadata": {},
   "outputs": [],
   "source": [
    "data['RegistrationMonth'] = data['RegistrationMonth'].replace(to_replace = 0, value = 6)"
   ]
  },
  {
   "cell_type": "code",
   "execution_count": 59,
   "metadata": {},
   "outputs": [
    {
     "name": "stdout",
     "output_type": "stream",
     "text": [
      "До проверки: 354369 наблюдений (100.0 % от исходной выборки)\n",
      "После проверки: 339593 наблюдений (95.83 % от исходной выборки)\n"
     ]
    }
   ],
   "source": [
    "data = check(data, 'RegistrationYear>=1950 and RegistrationYear<=2016')"
   ]
  },
  {
   "cell_type": "code",
   "execution_count": null,
   "metadata": {},
   "outputs": [],
   "source": []
  },
  {
   "cell_type": "code",
   "execution_count": 60,
   "metadata": {},
   "outputs": [],
   "source": [
    "data['RegistrationDate'] = pd.to_datetime(data.RegistrationYear.astype(str) + '/' + data.RegistrationMonth.astype(str) + '/01')\n",
    "data['DateCreated'] = pd.to_datetime(data['DateCreated'], format='%Y-%m-%d %H:%M:%S') "
   ]
  },
  {
   "cell_type": "code",
   "execution_count": 61,
   "metadata": {},
   "outputs": [
    {
     "name": "stdout",
     "output_type": "stream",
     "text": [
      "До проверки: 339593 наблюдений (95.83 % от исходной выборки)\n",
      "После проверки: 331610 наблюдений (93.58 % от исходной выборки)\n"
     ]
    }
   ],
   "source": [
    "data = check(data, 'DateCreated>=RegistrationDate')"
   ]
  },
  {
   "cell_type": "code",
   "execution_count": 62,
   "metadata": {},
   "outputs": [
    {
     "name": "stdout",
     "output_type": "stream",
     "text": [
      "До проверки: 331610 наблюдений (93.58 % от исходной выборки)\n",
      "После проверки: 331610 наблюдений (93.58 % от исходной выборки)\n"
     ]
    }
   ],
   "source": [
    "data['DateCrawled'] = pd.to_datetime(data['DateCrawled'], format='%Y-%m-%d %H:%M:%S') \n",
    "data = check(data, 'DateCrawled>=RegistrationDate')"
   ]
  },
  {
   "cell_type": "code",
   "execution_count": 63,
   "metadata": {},
   "outputs": [
    {
     "name": "stdout",
     "output_type": "stream",
     "text": [
      "До проверки: 331610 наблюдений (93.58 % от исходной выборки)\n",
      "После проверки: 319877 наблюдений (90.27 % от исходной выборки)\n"
     ]
    }
   ],
   "source": [
    "data = check(data, 'Price>=100')"
   ]
  },
  {
   "cell_type": "code",
   "execution_count": 64,
   "metadata": {},
   "outputs": [
    {
     "name": "stdout",
     "output_type": "stream",
     "text": [
      "До проверки: 319877 наблюдений (90.27 % от исходной выборки)\n",
      "После проверки: 305750 наблюдений (86.28 % от исходной выборки)\n"
     ]
    }
   ],
   "source": [
    "data = check(data, 'Model.notnull()')"
   ]
  },
  {
   "cell_type": "code",
   "execution_count": 65,
   "metadata": {},
   "outputs": [
    {
     "name": "stdout",
     "output_type": "stream",
     "text": [
      "До проверки: 305750 наблюдений (86.28 % от исходной выборки)\n",
      "После проверки: 279875 наблюдений (78.98 % от исходной выборки)\n"
     ]
    }
   ],
   "source": [
    "data = check(data, 'Power>=10 and Power<=1500')"
   ]
  },
  {
   "cell_type": "code",
   "execution_count": 66,
   "metadata": {},
   "outputs": [],
   "source": [
    "data['NotRepaired'] = data['NotRepaired'].fillna('no answer')\n",
    "data['VehicleType'] = data['VehicleType'].fillna('no answer')\n",
    "data['FuelType']    = data['FuelType'].fillna('no answer')\n",
    "data['Gearbox']     = data['Gearbox'].fillna('no answer')"
   ]
  },
  {
   "cell_type": "code",
   "execution_count": null,
   "metadata": {},
   "outputs": [],
   "source": []
  },
  {
   "cell_type": "markdown",
   "metadata": {},
   "source": [
    "<div style=\"border:solid blue 2.0px; padding: 10px\"> \n",
    "Вычислим возраст авто на момент скачивания анкеты\n",
    "</div>"
   ]
  },
  {
   "cell_type": "code",
   "execution_count": 67,
   "metadata": {},
   "outputs": [],
   "source": [
    "data['DateCrawled'] = pd.to_datetime(data['DateCrawled'], format='%Y-%m-%d %H:%M:%S') \n",
    "data['Age'] = (data['DateCrawled']-data['RegistrationDate']).dt.days"
   ]
  },
  {
   "cell_type": "code",
   "execution_count": 68,
   "metadata": {},
   "outputs": [],
   "source": [
    "value_dict['Age'] = 'Возраст авто (дней)'"
   ]
  },
  {
   "cell_type": "code",
   "execution_count": 70,
   "metadata": {},
   "outputs": [],
   "source": [
    "data = data.drop(\n",
    "    ['DateCrawled', \n",
    "     'PostalCode', \n",
    "     'LastSeen', \n",
    "     'RegistrationYear', \n",
    "     'RegistrationMonth', \n",
    "     'RegistrationDate', \n",
    "     'DateCreated',\n",
    "     'NumberOfPictures'\n",
    "    ], \n",
    "    axis=1)"
   ]
  },
  {
   "cell_type": "code",
   "execution_count": 71,
   "metadata": {
    "scrolled": true
   },
   "outputs": [
    {
     "name": "stdout",
     "output_type": "stream",
     "text": [
      "<class 'pandas.core.frame.DataFrame'>\n",
      "Int64Index: 279875 entries, 2 to 354368\n",
      "Data columns (total 10 columns):\n",
      " #   Column       Non-Null Count   Dtype \n",
      "---  ------       --------------   ----- \n",
      " 0   Price        279875 non-null  int64 \n",
      " 1   VehicleType  279875 non-null  object\n",
      " 2   Gearbox      279875 non-null  object\n",
      " 3   Power        279875 non-null  int64 \n",
      " 4   Model        279875 non-null  object\n",
      " 5   Kilometer    279875 non-null  int64 \n",
      " 6   FuelType     279875 non-null  object\n",
      " 7   Brand        279875 non-null  object\n",
      " 8   NotRepaired  279875 non-null  object\n",
      " 9   Age          279875 non-null  int64 \n",
      "dtypes: int64(4), object(6)\n",
      "memory usage: 23.5+ MB\n"
     ]
    }
   ],
   "source": [
    "data.info()"
   ]
  },
  {
   "cell_type": "code",
   "execution_count": null,
   "metadata": {},
   "outputs": [],
   "source": []
  },
  {
   "cell_type": "code",
   "execution_count": null,
   "metadata": {},
   "outputs": [],
   "source": []
  },
  {
   "cell_type": "markdown",
   "metadata": {},
   "source": [
    "<div style=\"border:solid blue 2.0px; padding: 10px\"> \n",
    "Проверим распределения после чистки\n",
    "</div>"
   ]
  },
  {
   "cell_type": "code",
   "execution_count": 75,
   "metadata": {},
   "outputs": [
    {
     "data": {
      "image/png": "[encoded data removed]",
      "text/plain": [
       "<Figure size 1080x576 with 2 Axes>"
      ]
     },
     "metadata": {
      "needs_background": "light"
     },
     "output_type": "display_data"
    }
   ],
   "source": [
    "graph_hist_box(data, 'Price')"
   ]
  },
  {
   "cell_type": "code",
   "execution_count": 76,
   "metadata": {},
   "outputs": [
    {
     "data": {
      "image/png": "[encoded data removed]",
      "text/plain": [
       "<Figure size 1080x576 with 2 Axes>"
      ]
     },
     "metadata": {
      "needs_background": "light"
     },
     "output_type": "display_data"
    }
   ],
   "source": [
    "graph_hist_box(data, 'Power')"
   ]
  },
  {
   "cell_type": "code",
   "execution_count": 77,
   "metadata": {},
   "outputs": [
    {
     "data": {
      "image/png": "[encoded data removed]",
      "text/plain": [
       "<Figure size 1080x576 with 2 Axes>"
      ]
     },
     "metadata": {
      "needs_background": "light"
     },
     "output_type": "display_data"
    }
   ],
   "source": [
    "graph_hist_box(data, 'Kilometer')"
   ]
  },
  {
   "cell_type": "code",
   "execution_count": 149,
   "metadata": {},
   "outputs": [
    {
     "data": {
      "image/png": "[encoded data removed]",
      "text/plain": [
       "<Figure size 1080x576 with 2 Axes>"
      ]
     },
     "metadata": {
      "needs_background": "light"
     },
     "output_type": "display_data"
    }
   ],
   "source": [
    "graph_hist_box(data, 'Age')"
   ]
  },
  {
   "cell_type": "markdown",
   "metadata": {},
   "source": [
    "<div style=\"border:solid blue 2.0px; padding: 10px\"> \n",
    "Стало лучше )\n",
    "</div>"
   ]
  },
  {
   "cell_type": "code",
   "execution_count": null,
   "metadata": {},
   "outputs": [],
   "source": []
  },
  {
   "cell_type": "markdown",
   "metadata": {},
   "source": [
    "### Разбиваем на выборки"
   ]
  },
  {
   "cell_type": "code",
   "execution_count": 79,
   "metadata": {
    "scrolled": true
   },
   "outputs": [
    {
     "name": "stdout",
     "output_type": "stream",
     "text": [
      "Размер исходной выборки: (279875, 10)\n",
      "Размер обучающей выборки: (167925, 10)\n",
      "Размер валидационной выборки: (139938, 10)\n",
      "Размер тестовой выборки: (139937, 10)\n"
     ]
    }
   ],
   "source": [
    "data_train, data_notrain = train_test_split(data, test_size=0.4, random_state=12345)\n",
    "data_test, data_valid = train_test_split(data, test_size=0.5, random_state=12345)\n",
    "\n",
    "print(f'Размер исходной выборки: {data.shape}')\n",
    "print(f'Размер обучающей выборки: {data_train.shape}')\n",
    "print(f'Размер валидационной выборки: {data_valid.shape}')\n",
    "print(f'Размер тестовой выборки: {data_test.shape}')"
   ]
  },
  {
   "cell_type": "code",
   "execution_count": 82,
   "metadata": {},
   "outputs": [],
   "source": [
    "features_train = data_train.drop('Price', axis=1)\n",
    "target_train = data_train['Price']\n",
    "\n",
    "features_valid = data_valid.drop('Price', axis=1)\n",
    "target_valid = data_valid['Price']\n",
    "\n",
    "features_test = data_test.drop('Price', axis=1)\n",
    "target_test = data_test['Price']"
   ]
  },
  {
   "cell_type": "code",
   "execution_count": null,
   "metadata": {},
   "outputs": [],
   "source": []
  },
  {
   "cell_type": "markdown",
   "metadata": {},
   "source": [
    "### Кодирование категориальных признаков"
   ]
  },
  {
   "cell_type": "code",
   "execution_count": 93,
   "metadata": {},
   "outputs": [],
   "source": [
    "categorical_var = ['VehicleType', 'Gearbox', 'FuelType', 'NotRepaired', 'Brand', 'Model']\n",
    "numeric_var = ['Power', 'Kilometer', 'Age']"
   ]
  },
  {
   "cell_type": "code",
   "execution_count": null,
   "metadata": {},
   "outputs": [],
   "source": []
  },
  {
   "cell_type": "markdown",
   "metadata": {},
   "source": [
    "#### OneHotEncoder"
   ]
  },
  {
   "cell_type": "code",
   "execution_count": 94,
   "metadata": {},
   "outputs": [
    {
     "data": {
      "text/plain": [
       "OneHotEncoder(handle_unknown='ignore', sparse=False)"
      ]
     },
     "execution_count": 94,
     "metadata": {},
     "output_type": "execute_result"
    }
   ],
   "source": [
    "enc = OneHotEncoder(handle_unknown='ignore', sparse=False)\n",
    "enc.fit(features_train[categorical_var])"
   ]
  },
  {
   "cell_type": "code",
   "execution_count": 95,
   "metadata": {},
   "outputs": [],
   "source": [
    "features_train_ohe = pd.concat(\n",
    "    [features_train[numeric_var],\n",
    "    pd.DataFrame(enc.transform(features_train[categorical_var]), index = features_train.index)],\n",
    "    axis=1\n",
    ")\n",
    "\n",
    "features_valid_ohe = pd.concat(\n",
    "    [features_valid[numeric_var],\n",
    "    pd.DataFrame(enc.transform(features_valid[categorical_var]), index = features_valid.index)],\n",
    "    axis=1\n",
    ")\n",
    "\n",
    "features_test_ohe = pd.concat(\n",
    "    [features_test[numeric_var],\n",
    "    pd.DataFrame(enc.transform(features_test[categorical_var]), index = features_test.index)],\n",
    "    axis=1\n",
    ")"
   ]
  },
  {
   "cell_type": "code",
   "execution_count": null,
   "metadata": {},
   "outputs": [],
   "source": []
  },
  {
   "cell_type": "markdown",
   "metadata": {},
   "source": [
    "#### OrdinalEncoder"
   ]
  },
  {
   "cell_type": "code",
   "execution_count": 97,
   "metadata": {},
   "outputs": [
    {
     "data": {
      "text/plain": [
       "OrdinalEncoder()"
      ]
     },
     "execution_count": 97,
     "metadata": {},
     "output_type": "execute_result"
    }
   ],
   "source": [
    "enc = OrdinalEncoder()\n",
    "enc.fit(features_train[categorical_var])"
   ]
  },
  {
   "cell_type": "code",
   "execution_count": 98,
   "metadata": {},
   "outputs": [],
   "source": [
    "features_train_ore = pd.concat(\n",
    "    [features_train[numeric_var],\n",
    "    pd.DataFrame(enc.transform(features_train[categorical_var]), index = features_train.index)],\n",
    "    axis=1\n",
    ")\n",
    "\n",
    "features_valid_ore = pd.concat(\n",
    "    [features_valid[numeric_var],\n",
    "    pd.DataFrame(enc.transform(features_valid[categorical_var]), index = features_valid.index)],\n",
    "    axis=1\n",
    ")\n",
    "\n",
    "features_test_ore = pd.concat(\n",
    "    [features_test[numeric_var],\n",
    "    pd.DataFrame(enc.transform(features_test[categorical_var]), index = features_test.index)],\n",
    "    axis=1\n",
    ")"
   ]
  },
  {
   "cell_type": "code",
   "execution_count": 99,
   "metadata": {},
   "outputs": [
    {
     "data": {
      "text/html": [
       "<div>\n",
       "<style scoped>\n",
       "    .dataframe tbody tr th:only-of-type {\n",
       "        vertical-align: middle;\n",
       "    }\n",
       "\n",
       "    .dataframe tbody tr th {\n",
       "        vertical-align: top;\n",
       "    }\n",
       "\n",
       "    .dataframe thead th {\n",
       "        text-align: right;\n",
       "    }\n",
       "</style>\n",
       "<table border=\"1\" class=\"dataframe\">\n",
       "  <thead>\n",
       "    <tr style=\"text-align: right;\">\n",
       "      <th></th>\n",
       "      <th>Power</th>\n",
       "      <th>Kilometer</th>\n",
       "      <th>Age</th>\n",
       "      <th>0</th>\n",
       "      <th>1</th>\n",
       "      <th>2</th>\n",
       "      <th>3</th>\n",
       "      <th>4</th>\n",
       "      <th>5</th>\n",
       "    </tr>\n",
       "  </thead>\n",
       "  <tbody>\n",
       "    <tr>\n",
       "      <th>227647</th>\n",
       "      <td>69</td>\n",
       "      <td>70000</td>\n",
       "      <td>3574</td>\n",
       "      <td>6.00</td>\n",
       "      <td>1.00</td>\n",
       "      <td>7.00</td>\n",
       "      <td>0.00</td>\n",
       "      <td>35.00</td>\n",
       "      <td>244.00</td>\n",
       "    </tr>\n",
       "    <tr>\n",
       "      <th>285144</th>\n",
       "      <td>140</td>\n",
       "      <td>150000</td>\n",
       "      <td>3585</td>\n",
       "      <td>8.00</td>\n",
       "      <td>0.00</td>\n",
       "      <td>5.00</td>\n",
       "      <td>0.00</td>\n",
       "      <td>37.00</td>\n",
       "      <td>170.00</td>\n",
       "    </tr>\n",
       "    <tr>\n",
       "      <th>39265</th>\n",
       "      <td>82</td>\n",
       "      <td>60000</td>\n",
       "      <td>1902</td>\n",
       "      <td>6.00</td>\n",
       "      <td>1.00</td>\n",
       "      <td>7.00</td>\n",
       "      <td>0.00</td>\n",
       "      <td>10.00</td>\n",
       "      <td>102.00</td>\n",
       "    </tr>\n",
       "    <tr>\n",
       "      <th>101910</th>\n",
       "      <td>165</td>\n",
       "      <td>150000</td>\n",
       "      <td>5680</td>\n",
       "      <td>8.00</td>\n",
       "      <td>1.00</td>\n",
       "      <td>7.00</td>\n",
       "      <td>0.00</td>\n",
       "      <td>38.00</td>\n",
       "      <td>228.00</td>\n",
       "    </tr>\n",
       "    <tr>\n",
       "      <th>291852</th>\n",
       "      <td>125</td>\n",
       "      <td>150000</td>\n",
       "      <td>5198</td>\n",
       "      <td>0.00</td>\n",
       "      <td>1.00</td>\n",
       "      <td>7.00</td>\n",
       "      <td>2.00</td>\n",
       "      <td>24.00</td>\n",
       "      <td>248.00</td>\n",
       "    </tr>\n",
       "  </tbody>\n",
       "</table>\n",
       "</div>"
      ],
      "text/plain": [
       "        Power  Kilometer   Age    0    1    2    3     4      5\n",
       "227647     69      70000  3574 6.00 1.00 7.00 0.00 35.00 244.00\n",
       "285144    140     150000  3585 8.00 0.00 5.00 0.00 37.00 170.00\n",
       "39265      82      60000  1902 6.00 1.00 7.00 0.00 10.00 102.00\n",
       "101910    165     150000  5680 8.00 1.00 7.00 0.00 38.00 228.00\n",
       "291852    125     150000  5198 0.00 1.00 7.00 2.00 24.00 248.00"
      ]
     },
     "execution_count": 99,
     "metadata": {},
     "output_type": "execute_result"
    }
   ],
   "source": [
    "features_train_ore.head(5)"
   ]
  },
  {
   "cell_type": "code",
   "execution_count": null,
   "metadata": {},
   "outputs": [],
   "source": []
  },
  {
   "cell_type": "markdown",
   "metadata": {},
   "source": [
    "## Обучение моделей"
   ]
  },
  {
   "cell_type": "markdown",
   "metadata": {},
   "source": [
    "<div style=\"border:solid blue 2.0px; padding: 10px\"> \n",
    "    \n",
    "Напишем функцию rmse_scorer, которая будет принимать на вход действительные значения и предсказания модели, а возвращать значение метрики rmse\n",
    "    \n",
    "</div>"
   ]
  },
  {
   "cell_type": "code",
   "execution_count": 100,
   "metadata": {},
   "outputs": [],
   "source": [
    "def rmse(y_true, y_pred):\n",
    "    error = (y_true - y_pred) ** 2\n",
    "    return np.sqrt(np.mean(error))\n",
    "\n",
    "rmse_scorer = make_scorer(\n",
    "    rmse,\n",
    "    greater_is_better=False\n",
    ")"
   ]
  },
  {
   "cell_type": "markdown",
   "metadata": {},
   "source": [
    "### LinearRegression"
   ]
  },
  {
   "cell_type": "code",
   "execution_count": 132,
   "metadata": {},
   "outputs": [
    {
     "name": "stdout",
     "output_type": "stream",
     "text": [
      "Wall time: 2.4 s\n",
      "Wall time: 1.23 s\n"
     ]
    },
    {
     "data": {
      "text/plain": [
       "2551.242247231241"
      ]
     },
     "execution_count": 132,
     "metadata": {},
     "output_type": "execute_result"
    }
   ],
   "source": [
    "model = LinearRegression()\n",
    "%time model.fit(features_train_ohe, target_train)\n",
    "\n",
    "%time predict_model = model.predict(features_valid_ohe)\n",
    "predict_model = pd.Series(predict_model, index=target_valid.index)\n",
    "rmse_model = mean_squared_error(target_valid, predict_model)**0.5\n",
    "rmse_model"
   ]
  },
  {
   "cell_type": "code",
   "execution_count": null,
   "metadata": {},
   "outputs": [],
   "source": []
  },
  {
   "cell_type": "markdown",
   "metadata": {},
   "source": [
    "### RidgeCV"
   ]
  },
  {
   "cell_type": "code",
   "execution_count": null,
   "metadata": {},
   "outputs": [],
   "source": []
  },
  {
   "cell_type": "code",
   "execution_count": 133,
   "metadata": {},
   "outputs": [
    {
     "name": "stdout",
     "output_type": "stream",
     "text": [
      "Wall time: 4.54 s\n",
      "Wall time: 183 ms\n"
     ]
    },
    {
     "data": {
      "text/plain": [
       "3058.64960218366"
      ]
     },
     "execution_count": 133,
     "metadata": {},
     "output_type": "execute_result"
    }
   ],
   "source": [
    "model = RidgeCV()\n",
    "%time model.fit(features_train_ohe, target_train)\n",
    "\n",
    "%time predict_model = model.predict(features_valid_ohe)\n",
    "predict_model = pd.Series(predict_model, index=target_valid.index)\n",
    "rmse_model = mean_squared_error(target_valid, predict_model)**0.5\n",
    "rmse_model"
   ]
  },
  {
   "cell_type": "code",
   "execution_count": null,
   "metadata": {},
   "outputs": [],
   "source": []
  },
  {
   "cell_type": "markdown",
   "metadata": {},
   "source": [
    "### DecisionTreeRegressor"
   ]
  },
  {
   "cell_type": "code",
   "execution_count": 103,
   "metadata": {},
   "outputs": [],
   "source": [
    "param = {\n",
    "    'max_depth': range (1, 30, 2),\n",
    "    'max_features': range (1, 10, 1)\n",
    "       }"
   ]
  },
  {
   "cell_type": "code",
   "execution_count": 104,
   "metadata": {},
   "outputs": [
    {
     "data": {
      "text/plain": [
       "GridSearchCV(cv=5, estimator=DecisionTreeRegressor(),\n",
       "             param_grid={'max_depth': range(1, 30, 2),\n",
       "                         'max_features': range(1, 10)},\n",
       "             scoring=make_scorer(rmse, greater_is_better=False))"
      ]
     },
     "execution_count": 104,
     "metadata": {},
     "output_type": "execute_result"
    }
   ],
   "source": [
    "searcher = GridSearchCV(DecisionTreeRegressor(), param, scoring=rmse_scorer, cv=5)\n",
    "searcher.fit(features_train_ohe, target_train)"
   ]
  },
  {
   "cell_type": "code",
   "execution_count": 105,
   "metadata": {},
   "outputs": [
    {
     "data": {
      "text/plain": [
       "{'max_depth': 29, 'max_features': 8}"
      ]
     },
     "execution_count": 105,
     "metadata": {},
     "output_type": "execute_result"
    }
   ],
   "source": [
    "searcher.best_params_"
   ]
  },
  {
   "cell_type": "code",
   "execution_count": 134,
   "metadata": {},
   "outputs": [
    {
     "name": "stdout",
     "output_type": "stream",
     "text": [
      "Wall time: 759 ms\n",
      "Wall time: 261 ms\n"
     ]
    },
    {
     "data": {
      "text/plain": [
       "2871.839042135452"
      ]
     },
     "execution_count": 134,
     "metadata": {},
     "output_type": "execute_result"
    }
   ],
   "source": [
    "model = DecisionTreeRegressor(max_depth=29, max_features=8)\n",
    "%time model.fit(features_train_ohe, target_train)\n",
    "\n",
    "%time predict_model = model.predict(features_valid_ohe)\n",
    "predict_model = pd.Series(predict_model, index=target_valid.index)\n",
    "rmse_model = mean_squared_error(target_valid, predict_model)**0.5\n",
    "rmse_model"
   ]
  },
  {
   "cell_type": "code",
   "execution_count": null,
   "metadata": {},
   "outputs": [],
   "source": []
  },
  {
   "cell_type": "markdown",
   "metadata": {},
   "source": [
    "### RandomForestRegressor"
   ]
  },
  {
   "cell_type": "code",
   "execution_count": 109,
   "metadata": {},
   "outputs": [],
   "source": [
    "param = {\n",
    "    'max_depth': range(1, 10, 2),\n",
    "    'n_estimators': range(20, 100, 20)\n",
    "}"
   ]
  },
  {
   "cell_type": "code",
   "execution_count": 110,
   "metadata": {},
   "outputs": [
    {
     "data": {
      "text/plain": [
       "RandomizedSearchCV(cv=5, estimator=RandomForestRegressor(random_state=42),\n",
       "                   param_distributions={'max_depth': range(1, 10, 2),\n",
       "                                        'n_estimators': range(20, 100, 20)},\n",
       "                   scoring=make_scorer(rmse, greater_is_better=False))"
      ]
     },
     "execution_count": 110,
     "metadata": {},
     "output_type": "execute_result"
    }
   ],
   "source": [
    "searcher = RandomizedSearchCV(RandomForestRegressor(random_state=42), param, scoring=rmse_scorer, cv=5)\n",
    "searcher.fit(features_train_ore, target_train)"
   ]
  },
  {
   "cell_type": "code",
   "execution_count": 111,
   "metadata": {},
   "outputs": [
    {
     "data": {
      "text/plain": [
       "{'n_estimators': 80, 'max_depth': 9}"
      ]
     },
     "execution_count": 111,
     "metadata": {},
     "output_type": "execute_result"
    }
   ],
   "source": [
    "searcher.best_params_"
   ]
  },
  {
   "cell_type": "code",
   "execution_count": null,
   "metadata": {},
   "outputs": [],
   "source": []
  },
  {
   "cell_type": "code",
   "execution_count": 136,
   "metadata": {},
   "outputs": [
    {
     "name": "stdout",
     "output_type": "stream",
     "text": [
      "Wall time: 13.9 s\n",
      "Wall time: 742 ms\n"
     ]
    },
    {
     "data": {
      "text/plain": [
       "1886.1488132750214"
      ]
     },
     "execution_count": 136,
     "metadata": {},
     "output_type": "execute_result"
    }
   ],
   "source": [
    "model = RandomForestRegressor(\n",
    "    n_estimators=80,\n",
    "    max_depth=9,\n",
    "    random_state=42)\n",
    "\n",
    "%time model.fit(features_train_ore, target_train)\n",
    "\n",
    "%time predict_model = model.predict(features_valid_ore)\n",
    "predict_model = pd.Series(predict_model, index=target_valid.index)\n",
    "rmse_model = mean_squared_error(target_valid, predict_model)**0.5\n",
    "rmse_model"
   ]
  },
  {
   "cell_type": "code",
   "execution_count": null,
   "metadata": {},
   "outputs": [],
   "source": []
  },
  {
   "cell_type": "markdown",
   "metadata": {},
   "source": [
    "### CatBoostRegressor"
   ]
  },
  {
   "cell_type": "code",
   "execution_count": 123,
   "metadata": {},
   "outputs": [
    {
     "name": "stdout",
     "output_type": "stream",
     "text": [
      "<class 'pandas.core.frame.DataFrame'>\n",
      "Int64Index: 167925 entries, 227647 to 275487\n",
      "Data columns (total 9 columns):\n",
      " #   Column     Non-Null Count   Dtype  \n",
      "---  ------     --------------   -----  \n",
      " 0   Power      167925 non-null  int64  \n",
      " 1   Kilometer  167925 non-null  int64  \n",
      " 2   Age        167925 non-null  int64  \n",
      " 3   0          167925 non-null  float64\n",
      " 4   1          167925 non-null  float64\n",
      " 5   2          167925 non-null  float64\n",
      " 6   3          167925 non-null  float64\n",
      " 7   4          167925 non-null  float64\n",
      " 8   5          167925 non-null  float64\n",
      "dtypes: float64(6), int64(3)\n",
      "memory usage: 12.8 MB\n"
     ]
    }
   ],
   "source": [
    "features_train_ore.info()"
   ]
  },
  {
   "cell_type": "code",
   "execution_count": 124,
   "metadata": {},
   "outputs": [
    {
     "data": {
      "text/plain": [
       "227647    5990\n",
       "285144    6999\n",
       "39265     6000\n",
       "101910    2400\n",
       "291852     999\n",
       "Name: Price, dtype: int64"
      ]
     },
     "execution_count": 124,
     "metadata": {},
     "output_type": "execute_result"
    }
   ],
   "source": [
    "target_train.head(5)"
   ]
  },
  {
   "cell_type": "code",
   "execution_count": 125,
   "metadata": {},
   "outputs": [],
   "source": [
    "from catboost import CatBoostRegressor"
   ]
  },
  {
   "cell_type": "code",
   "execution_count": 126,
   "metadata": {},
   "outputs": [],
   "source": [
    "grid = {'learning_rate': [0.1],\n",
    "        'depth': [2, 4 ,6, 8, 10],\n",
    "        'l2_leaf_reg': [1, 3],\n",
    "        'iterations': [1000]}"
   ]
  },
  {
   "cell_type": "code",
   "execution_count": 127,
   "metadata": {},
   "outputs": [],
   "source": [
    "model = CatBoostRegressor(loss_function='RMSE', verbose=50)"
   ]
  },
  {
   "cell_type": "code",
   "execution_count": 128,
   "metadata": {
    "scrolled": true
   },
   "outputs": [
    {
     "name": "stdout",
     "output_type": "stream",
     "text": [
      "0:\tlearn: 6263.8238310\ttest: 6212.1243841\tbest: 6212.1243841 (0)\ttotal: 156ms\tremaining: 2m 35s\n",
      "50:\tlearn: 2275.2345413\ttest: 2257.8174165\tbest: 2257.8174165 (50)\ttotal: 416ms\tremaining: 7.74s\n",
      "100:\tlearn: 2095.7327857\ttest: 2085.1159905\tbest: 2085.1159905 (100)\ttotal: 645ms\tremaining: 5.74s\n",
      "150:\tlearn: 2003.8732210\ttest: 1997.6924437\tbest: 1997.6924437 (150)\ttotal: 882ms\tremaining: 4.96s\n",
      "200:\tlearn: 1944.4252023\ttest: 1942.9699179\tbest: 1942.9699179 (200)\ttotal: 1.13s\tremaining: 4.49s\n",
      "250:\tlearn: 1905.5314620\ttest: 1907.1755845\tbest: 1907.1755845 (250)\ttotal: 1.38s\tremaining: 4.11s\n",
      "300:\tlearn: 1878.0396789\ttest: 1881.3558423\tbest: 1881.3558423 (300)\ttotal: 1.61s\tremaining: 3.73s\n",
      "350:\tlearn: 1856.6794824\ttest: 1861.7554229\tbest: 1861.7554229 (350)\ttotal: 1.85s\tremaining: 3.42s\n",
      "400:\tlearn: 1840.4397091\ttest: 1846.7437571\tbest: 1846.7437571 (400)\ttotal: 2.1s\tremaining: 3.14s\n",
      "450:\tlearn: 1826.3527702\ttest: 1833.7199396\tbest: 1833.7199396 (450)\ttotal: 2.36s\tremaining: 2.88s\n",
      "500:\tlearn: 1814.6121771\ttest: 1823.0695589\tbest: 1823.0695589 (500)\ttotal: 2.61s\tremaining: 2.6s\n",
      "550:\tlearn: 1805.1113642\ttest: 1814.6262908\tbest: 1814.6262908 (550)\ttotal: 2.84s\tremaining: 2.32s\n",
      "600:\tlearn: 1796.3687984\ttest: 1807.0360678\tbest: 1807.0360678 (600)\ttotal: 3.08s\tremaining: 2.04s\n",
      "650:\tlearn: 1788.3219155\ttest: 1800.2016583\tbest: 1800.2016583 (650)\ttotal: 3.32s\tremaining: 1.78s\n",
      "700:\tlearn: 1781.1538393\ttest: 1794.2608962\tbest: 1794.2608962 (700)\ttotal: 3.58s\tremaining: 1.53s\n",
      "750:\tlearn: 1775.0517956\ttest: 1789.1662410\tbest: 1789.1662410 (750)\ttotal: 3.87s\tremaining: 1.28s\n",
      "800:\tlearn: 1769.7045243\ttest: 1784.3078649\tbest: 1784.3078649 (800)\ttotal: 4.11s\tremaining: 1.02s\n",
      "850:\tlearn: 1764.7363085\ttest: 1779.7453629\tbest: 1779.7453629 (850)\ttotal: 4.35s\tremaining: 762ms\n",
      "900:\tlearn: 1760.1223029\ttest: 1775.9640928\tbest: 1775.9640928 (900)\ttotal: 4.58s\tremaining: 504ms\n",
      "950:\tlearn: 1755.7173278\ttest: 1771.9540315\tbest: 1771.9540315 (950)\ttotal: 4.82s\tremaining: 248ms\n",
      "999:\tlearn: 1751.4276852\ttest: 1768.2128122\tbest: 1768.2128122 (999)\ttotal: 5.04s\tremaining: 0us\n",
      "\n",
      "bestTest = 1768.212812\n",
      "bestIteration = 999\n",
      "\n",
      "0:\tloss: 1768.2128122\tbest: 1768.2128122 (0)\ttotal: 5.17s\tremaining: 46.5s\n",
      "0:\tlearn: 6263.8728287\ttest: 6212.1735495\tbest: 6212.1735495 (0)\ttotal: 6.45ms\tremaining: 6.44s\n",
      "50:\tlearn: 2275.3832328\ttest: 2257.9595283\tbest: 2257.9595283 (50)\ttotal: 265ms\tremaining: 4.94s\n",
      "100:\tlearn: 2096.0317957\ttest: 2085.3067532\tbest: 2085.3067532 (100)\ttotal: 504ms\tremaining: 4.48s\n",
      "150:\tlearn: 2002.7313378\ttest: 1996.2425741\tbest: 1996.2425741 (150)\ttotal: 744ms\tremaining: 4.18s\n",
      "200:\tlearn: 1946.2815095\ttest: 1944.0792281\tbest: 1944.0792281 (200)\ttotal: 982ms\tremaining: 3.9s\n",
      "250:\tlearn: 1907.5592636\ttest: 1909.3576893\tbest: 1909.3576893 (250)\ttotal: 1.24s\tremaining: 3.69s\n",
      "300:\tlearn: 1879.5257046\ttest: 1883.2564761\tbest: 1883.2564761 (300)\ttotal: 1.48s\tremaining: 3.42s\n",
      "350:\tlearn: 1858.4573984\ttest: 1864.2045690\tbest: 1864.2045690 (350)\ttotal: 1.73s\tremaining: 3.19s\n",
      "400:\tlearn: 1842.6356523\ttest: 1849.4384342\tbest: 1849.4384342 (400)\ttotal: 1.98s\tremaining: 2.95s\n",
      "450:\tlearn: 1827.7828158\ttest: 1835.7896591\tbest: 1835.7896591 (450)\ttotal: 2.25s\tremaining: 2.74s\n",
      "500:\tlearn: 1816.5705307\ttest: 1825.0776743\tbest: 1825.0776743 (500)\ttotal: 2.54s\tremaining: 2.52s\n",
      "550:\tlearn: 1806.2406163\ttest: 1815.7687558\tbest: 1815.7687558 (550)\ttotal: 2.8s\tremaining: 2.28s\n",
      "600:\tlearn: 1797.5628204\ttest: 1808.1974905\tbest: 1808.1974905 (600)\ttotal: 3.07s\tremaining: 2.04s\n",
      "650:\tlearn: 1789.6756529\ttest: 1801.7662258\tbest: 1801.7662258 (650)\ttotal: 3.32s\tremaining: 1.78s\n",
      "700:\tlearn: 1782.7315615\ttest: 1795.4591780\tbest: 1795.4591780 (700)\ttotal: 3.55s\tremaining: 1.51s\n",
      "750:\tlearn: 1776.6620875\ttest: 1789.9977761\tbest: 1789.9331239 (749)\ttotal: 3.79s\tremaining: 1.26s\n",
      "800:\tlearn: 1770.9009976\ttest: 1785.0373920\tbest: 1785.0373920 (800)\ttotal: 4.04s\tremaining: 1s\n",
      "850:\tlearn: 1765.6474373\ttest: 1780.5279566\tbest: 1780.5279566 (850)\ttotal: 4.28s\tremaining: 750ms\n",
      "900:\tlearn: 1760.9019381\ttest: 1776.2996639\tbest: 1776.2810501 (899)\ttotal: 4.52s\tremaining: 497ms\n",
      "950:\tlearn: 1756.0887976\ttest: 1772.1898811\tbest: 1772.1898811 (950)\ttotal: 4.78s\tremaining: 246ms\n",
      "999:\tlearn: 1751.8730176\ttest: 1768.2177618\tbest: 1768.2015797 (998)\ttotal: 5.01s\tremaining: 0us\n",
      "\n",
      "bestTest = 1768.20158\n",
      "bestIteration = 998\n",
      "\n",
      "1:\tloss: 1768.2015797\tbest: 1768.2015797 (1)\ttotal: 10.2s\tremaining: 40.9s\n",
      "0:\tlearn: 6231.9450474\ttest: 6181.6220945\tbest: 6181.6220945 (0)\ttotal: 7.23ms\tremaining: 7.22s\n",
      "50:\tlearn: 2016.2531801\ttest: 2008.3892200\tbest: 2008.3892200 (50)\ttotal: 303ms\tremaining: 5.63s\n",
      "100:\tlearn: 1868.0384820\ttest: 1870.6153546\tbest: 1870.6153546 (100)\ttotal: 629ms\tremaining: 5.59s\n",
      "150:\tlearn: 1787.4493840\ttest: 1795.7885400\tbest: 1795.7885400 (150)\ttotal: 933ms\tremaining: 5.25s\n",
      "200:\tlearn: 1745.2853357\ttest: 1759.4057989\tbest: 1759.4057989 (200)\ttotal: 1.23s\tremaining: 4.9s\n",
      "250:\tlearn: 1715.7741141\ttest: 1734.6708705\tbest: 1734.6708705 (250)\ttotal: 1.55s\tremaining: 4.63s\n",
      "300:\tlearn: 1693.2494400\ttest: 1716.9342650\tbest: 1716.9342650 (300)\ttotal: 1.85s\tremaining: 4.29s\n",
      "350:\tlearn: 1675.8691668\ttest: 1705.0782780\tbest: 1705.0782780 (350)\ttotal: 2.16s\tremaining: 3.99s\n",
      "400:\tlearn: 1660.4179367\ttest: 1692.0969333\tbest: 1692.0969333 (400)\ttotal: 2.49s\tremaining: 3.71s\n",
      "450:\tlearn: 1646.8959953\ttest: 1681.9012558\tbest: 1681.9012558 (450)\ttotal: 2.81s\tremaining: 3.42s\n",
      "500:\tlearn: 1635.4838050\ttest: 1673.1423117\tbest: 1673.1423117 (500)\ttotal: 3.1s\tremaining: 3.09s\n",
      "550:\tlearn: 1625.2087304\ttest: 1665.2009422\tbest: 1665.2009422 (550)\ttotal: 3.39s\tremaining: 2.77s\n",
      "600:\tlearn: 1615.4868709\ttest: 1659.0450482\tbest: 1659.0450482 (600)\ttotal: 3.68s\tremaining: 2.44s\n",
      "650:\tlearn: 1606.1186372\ttest: 1652.3989120\tbest: 1652.3989120 (650)\ttotal: 3.98s\tremaining: 2.13s\n",
      "700:\tlearn: 1598.4511960\ttest: 1646.9032483\tbest: 1646.9032483 (700)\ttotal: 4.27s\tremaining: 1.82s\n",
      "750:\tlearn: 1591.0184631\ttest: 1641.1794877\tbest: 1641.1794877 (750)\ttotal: 4.56s\tremaining: 1.51s\n",
      "800:\tlearn: 1584.4152991\ttest: 1637.1250154\tbest: 1637.1250154 (800)\ttotal: 4.86s\tremaining: 1.21s\n",
      "850:\tlearn: 1578.2052760\ttest: 1633.1854939\tbest: 1633.1854939 (850)\ttotal: 5.16s\tremaining: 903ms\n",
      "900:\tlearn: 1571.2818702\ttest: 1628.6102353\tbest: 1628.6102353 (900)\ttotal: 5.44s\tremaining: 598ms\n",
      "950:\tlearn: 1565.9056026\ttest: 1624.6199663\tbest: 1624.6199663 (950)\ttotal: 5.73s\tremaining: 295ms\n",
      "999:\tlearn: 1560.0721361\ttest: 1621.7239649\tbest: 1621.7239649 (999)\ttotal: 6.02s\tremaining: 0us\n",
      "\n",
      "bestTest = 1621.723965\n",
      "bestIteration = 999\n",
      "\n",
      "2:\tloss: 1621.7239649\tbest: 1621.7239649 (2)\ttotal: 16.3s\tremaining: 38s\n",
      "0:\tlearn: 6232.0694047\ttest: 6181.7466572\tbest: 6181.7466572 (0)\ttotal: 6.59ms\tremaining: 6.59s\n",
      "50:\tlearn: 2013.2460462\ttest: 2005.9437055\tbest: 2005.9437055 (50)\ttotal: 298ms\tremaining: 5.55s\n",
      "100:\tlearn: 1863.7134571\ttest: 1863.8463042\tbest: 1863.8463042 (100)\ttotal: 587ms\tremaining: 5.22s\n",
      "150:\tlearn: 1789.7875988\ttest: 1795.9919718\tbest: 1795.9919718 (150)\ttotal: 882ms\tremaining: 4.96s\n",
      "200:\tlearn: 1748.5811499\ttest: 1760.1949305\tbest: 1760.1949305 (200)\ttotal: 1.18s\tremaining: 4.68s\n",
      "250:\tlearn: 1721.1193610\ttest: 1738.0934602\tbest: 1738.0934602 (250)\ttotal: 1.47s\tremaining: 4.39s\n",
      "300:\tlearn: 1697.4248174\ttest: 1717.8022485\tbest: 1717.8022485 (300)\ttotal: 1.76s\tremaining: 4.1s\n",
      "350:\tlearn: 1679.2381355\ttest: 1704.8749748\tbest: 1704.8749748 (350)\ttotal: 2.06s\tremaining: 3.82s\n",
      "400:\tlearn: 1664.5717416\ttest: 1693.5815148\tbest: 1693.5815148 (400)\ttotal: 2.35s\tremaining: 3.51s\n",
      "450:\tlearn: 1650.7634395\ttest: 1682.8297568\tbest: 1682.8297568 (450)\ttotal: 2.64s\tremaining: 3.22s\n",
      "500:\tlearn: 1638.9332973\ttest: 1673.7486242\tbest: 1673.7486242 (500)\ttotal: 2.94s\tremaining: 2.93s\n",
      "550:\tlearn: 1628.7468922\ttest: 1667.0746500\tbest: 1667.0746500 (550)\ttotal: 3.24s\tremaining: 2.64s\n",
      "600:\tlearn: 1618.8393988\ttest: 1659.8492306\tbest: 1659.8492306 (600)\ttotal: 3.54s\tremaining: 2.35s\n",
      "650:\tlearn: 1609.5250864\ttest: 1653.0001223\tbest: 1652.9966480 (649)\ttotal: 3.83s\tremaining: 2.06s\n",
      "700:\tlearn: 1600.9443551\ttest: 1646.8388741\tbest: 1646.7217614 (697)\ttotal: 4.14s\tremaining: 1.76s\n",
      "750:\tlearn: 1593.5901460\ttest: 1641.3904615\tbest: 1641.3904615 (750)\ttotal: 4.43s\tremaining: 1.47s\n",
      "800:\tlearn: 1586.8459734\ttest: 1637.1208332\tbest: 1637.1208332 (800)\ttotal: 4.72s\tremaining: 1.17s\n",
      "850:\tlearn: 1580.6770566\ttest: 1633.1106756\tbest: 1633.1106756 (850)\ttotal: 5.03s\tremaining: 880ms\n",
      "900:\tlearn: 1574.5137620\ttest: 1629.1376867\tbest: 1629.1376867 (900)\ttotal: 5.32s\tremaining: 584ms\n",
      "950:\tlearn: 1568.8045793\ttest: 1625.5884953\tbest: 1625.5884953 (950)\ttotal: 5.61s\tremaining: 289ms\n",
      "999:\tlearn: 1563.7949677\ttest: 1622.6854879\tbest: 1622.6854879 (999)\ttotal: 5.9s\tremaining: 0us\n",
      "\n",
      "bestTest = 1622.685488\n",
      "bestIteration = 999\n",
      "\n",
      "3:\tloss: 1622.6854879\tbest: 1621.7239649 (2)\ttotal: 22.3s\tremaining: 33.4s\n",
      "0:\tlearn: 6212.9700935\ttest: 6164.0754452\tbest: 6164.0754452 (0)\ttotal: 9.13ms\tremaining: 9.12s\n",
      "50:\tlearn: 1876.8361262\ttest: 1876.0728617\tbest: 1876.0728617 (50)\ttotal: 365ms\tremaining: 6.79s\n",
      "100:\tlearn: 1743.6963595\ttest: 1758.6281422\tbest: 1758.6281422 (100)\ttotal: 716ms\tremaining: 6.37s\n",
      "150:\tlearn: 1680.2925387\ttest: 1706.2403420\tbest: 1706.2403420 (150)\ttotal: 1.08s\tremaining: 6.07s\n",
      "200:\tlearn: 1641.6891552\ttest: 1678.2860271\tbest: 1678.2860271 (200)\ttotal: 1.43s\tremaining: 5.7s\n",
      "250:\tlearn: 1613.4190447\ttest: 1658.8392712\tbest: 1658.8392712 (250)\ttotal: 1.79s\tremaining: 5.34s\n",
      "300:\tlearn: 1591.1328218\ttest: 1642.4934998\tbest: 1642.4934998 (300)\ttotal: 2.15s\tremaining: 4.99s\n",
      "350:\tlearn: 1571.3594345\ttest: 1630.5096186\tbest: 1630.5096186 (350)\ttotal: 2.5s\tremaining: 4.63s\n",
      "400:\tlearn: 1553.0584949\ttest: 1617.0735707\tbest: 1617.0735707 (400)\ttotal: 2.86s\tremaining: 4.27s\n",
      "450:\tlearn: 1537.3878873\ttest: 1607.4340546\tbest: 1607.4340546 (450)\ttotal: 3.22s\tremaining: 3.92s\n",
      "500:\tlearn: 1523.5824500\ttest: 1599.5184911\tbest: 1599.5184911 (500)\ttotal: 3.58s\tremaining: 3.56s\n",
      "550:\tlearn: 1510.7349090\ttest: 1592.3762464\tbest: 1592.3762464 (550)\ttotal: 3.94s\tremaining: 3.21s\n",
      "600:\tlearn: 1499.5422340\ttest: 1586.2543093\tbest: 1586.2543093 (600)\ttotal: 4.29s\tremaining: 2.85s\n",
      "650:\tlearn: 1489.6505715\ttest: 1581.4515876\tbest: 1581.4515876 (650)\ttotal: 4.65s\tremaining: 2.49s\n",
      "700:\tlearn: 1480.5415281\ttest: 1577.8356676\tbest: 1577.8356676 (700)\ttotal: 5.01s\tremaining: 2.14s\n",
      "750:\tlearn: 1472.0433157\ttest: 1574.7399927\tbest: 1574.7399927 (750)\ttotal: 5.37s\tremaining: 1.78s\n",
      "800:\tlearn: 1464.2483204\ttest: 1571.5729789\tbest: 1571.5183504 (799)\ttotal: 5.72s\tremaining: 1.42s\n",
      "850:\tlearn: 1456.4426239\ttest: 1567.8174907\tbest: 1567.8174907 (850)\ttotal: 6.09s\tremaining: 1.06s\n",
      "900:\tlearn: 1448.9789191\ttest: 1565.0867157\tbest: 1564.9994706 (899)\ttotal: 6.45s\tremaining: 708ms\n",
      "950:\tlearn: 1441.7777415\ttest: 1562.0061963\tbest: 1562.0061963 (950)\ttotal: 6.81s\tremaining: 351ms\n",
      "999:\tlearn: 1435.6047672\ttest: 1559.2030913\tbest: 1559.2030913 (999)\ttotal: 7.17s\tremaining: 0us\n",
      "\n",
      "bestTest = 1559.203091\n",
      "bestIteration = 999\n",
      "\n",
      "4:\tloss: 1559.2030913\tbest: 1559.2030913 (4)\ttotal: 29.5s\tremaining: 29.5s\n",
      "0:\tlearn: 6213.4137919\ttest: 6164.5066275\tbest: 6164.5066275 (0)\ttotal: 8.05ms\tremaining: 8.04s\n",
      "50:\tlearn: 1886.9516439\ttest: 1884.1993621\tbest: 1884.1993621 (50)\ttotal: 371ms\tremaining: 6.9s\n",
      "100:\tlearn: 1748.7526677\ttest: 1757.7715367\tbest: 1757.7715367 (100)\ttotal: 736ms\tremaining: 6.55s\n",
      "150:\tlearn: 1686.9995177\ttest: 1707.4655947\tbest: 1707.4655947 (150)\ttotal: 1.09s\tremaining: 6.16s\n",
      "200:\tlearn: 1646.2281976\ttest: 1676.1392725\tbest: 1676.1392725 (200)\ttotal: 1.46s\tremaining: 5.79s\n",
      "250:\tlearn: 1617.2184830\ttest: 1655.9636744\tbest: 1655.9636744 (250)\ttotal: 1.83s\tremaining: 5.45s\n",
      "300:\tlearn: 1594.5256399\ttest: 1639.4449558\tbest: 1639.4449558 (300)\ttotal: 2.19s\tremaining: 5.1s\n",
      "350:\tlearn: 1576.2199119\ttest: 1626.7907876\tbest: 1626.7907876 (350)\ttotal: 2.55s\tremaining: 4.72s\n",
      "400:\tlearn: 1558.7852887\ttest: 1615.4932478\tbest: 1615.4932478 (400)\ttotal: 2.92s\tremaining: 4.37s\n",
      "450:\tlearn: 1544.6409479\ttest: 1606.8646204\tbest: 1606.8646204 (450)\ttotal: 3.29s\tremaining: 4s\n",
      "500:\tlearn: 1531.0865731\ttest: 1598.5492786\tbest: 1598.5492786 (500)\ttotal: 3.65s\tremaining: 3.64s\n",
      "550:\tlearn: 1519.4006673\ttest: 1591.9362507\tbest: 1591.9283260 (549)\ttotal: 4.02s\tremaining: 3.28s\n",
      "600:\tlearn: 1508.9285165\ttest: 1586.7150627\tbest: 1586.7150627 (600)\ttotal: 4.38s\tremaining: 2.91s\n",
      "650:\tlearn: 1499.1042504\ttest: 1582.2823101\tbest: 1582.2823101 (650)\ttotal: 4.75s\tremaining: 2.55s\n",
      "700:\tlearn: 1490.5961949\ttest: 1578.4836469\tbest: 1578.4836469 (700)\ttotal: 5.12s\tremaining: 2.18s\n",
      "750:\tlearn: 1482.6147693\ttest: 1574.1646683\tbest: 1574.1646683 (750)\ttotal: 5.48s\tremaining: 1.82s\n",
      "800:\tlearn: 1475.0243730\ttest: 1570.9113811\tbest: 1570.9113811 (800)\ttotal: 5.85s\tremaining: 1.45s\n",
      "850:\tlearn: 1467.2758931\ttest: 1567.1451694\tbest: 1567.1283286 (849)\ttotal: 6.22s\tremaining: 1.09s\n",
      "900:\tlearn: 1460.7515388\ttest: 1564.1992734\tbest: 1564.1565194 (899)\ttotal: 6.59s\tremaining: 724ms\n",
      "950:\tlearn: 1454.3296633\ttest: 1561.2211687\tbest: 1561.1928575 (949)\ttotal: 6.95s\tremaining: 358ms\n",
      "999:\tlearn: 1447.7517953\ttest: 1558.3778134\tbest: 1558.3778134 (999)\ttotal: 7.3s\tremaining: 0us\n",
      "\n",
      "bestTest = 1558.377813\n",
      "bestIteration = 999\n",
      "\n",
      "5:\tloss: 1558.3778134\tbest: 1558.3778134 (5)\ttotal: 36.9s\tremaining: 24.6s\n",
      "0:\tlearn: 6205.0483136\ttest: 6156.4747075\tbest: 6156.4747075 (0)\ttotal: 10.5ms\tremaining: 10.5s\n",
      "50:\tlearn: 1781.9584299\ttest: 1792.2925830\tbest: 1792.2925830 (50)\ttotal: 499ms\tremaining: 9.29s\n",
      "100:\tlearn: 1655.9798298\ttest: 1684.8225763\tbest: 1684.8225763 (100)\ttotal: 982ms\tremaining: 8.74s\n",
      "150:\tlearn: 1594.5473195\ttest: 1642.8610088\tbest: 1642.8610088 (150)\ttotal: 1.47s\tremaining: 8.27s\n",
      "200:\tlearn: 1552.2558053\ttest: 1617.3849882\tbest: 1617.3849882 (200)\ttotal: 1.95s\tremaining: 7.77s\n",
      "250:\tlearn: 1520.5908010\ttest: 1601.1211058\tbest: 1601.1211058 (250)\ttotal: 2.44s\tremaining: 7.29s\n",
      "300:\tlearn: 1495.1669736\ttest: 1586.4498121\tbest: 1586.4498121 (300)\ttotal: 2.92s\tremaining: 6.79s\n",
      "350:\tlearn: 1473.4918365\ttest: 1576.9939951\tbest: 1576.9939951 (350)\ttotal: 3.41s\tremaining: 6.31s\n",
      "400:\tlearn: 1453.8152898\ttest: 1568.5473777\tbest: 1568.4831937 (398)\ttotal: 3.9s\tremaining: 5.82s\n",
      "450:\tlearn: 1436.8941403\ttest: 1562.0438309\tbest: 1562.0438309 (450)\ttotal: 4.38s\tremaining: 5.33s\n",
      "500:\tlearn: 1421.3234659\ttest: 1555.3111660\tbest: 1555.3111660 (500)\ttotal: 4.87s\tremaining: 4.85s\n",
      "550:\tlearn: 1407.5006505\ttest: 1551.5944570\tbest: 1551.5944570 (550)\ttotal: 5.37s\tremaining: 4.38s\n",
      "600:\tlearn: 1395.0207345\ttest: 1548.0094544\tbest: 1548.0094544 (600)\ttotal: 5.87s\tremaining: 3.89s\n",
      "650:\tlearn: 1383.2165672\ttest: 1543.3535731\tbest: 1543.3535731 (650)\ttotal: 6.37s\tremaining: 3.42s\n",
      "700:\tlearn: 1372.1414414\ttest: 1540.1901097\tbest: 1540.0780875 (697)\ttotal: 6.87s\tremaining: 2.93s\n",
      "750:\tlearn: 1361.9094441\ttest: 1537.6614691\tbest: 1537.6197793 (749)\ttotal: 7.37s\tremaining: 2.44s\n",
      "800:\tlearn: 1352.6119249\ttest: 1534.6267723\tbest: 1534.6267723 (800)\ttotal: 7.87s\tremaining: 1.95s\n",
      "850:\tlearn: 1343.4972199\ttest: 1532.8341862\tbest: 1532.8341862 (850)\ttotal: 8.37s\tremaining: 1.47s\n",
      "900:\tlearn: 1334.4753087\ttest: 1530.8047995\tbest: 1530.7941225 (899)\ttotal: 8.87s\tremaining: 975ms\n",
      "950:\tlearn: 1325.9522654\ttest: 1529.2132637\tbest: 1529.1603640 (949)\ttotal: 9.38s\tremaining: 483ms\n",
      "999:\tlearn: 1318.9931035\ttest: 1528.0439500\tbest: 1528.0439500 (999)\ttotal: 9.87s\tremaining: 0us\n",
      "\n",
      "bestTest = 1528.04395\n",
      "bestIteration = 999\n",
      "\n",
      "6:\tloss: 1528.0439500\tbest: 1528.0439500 (6)\ttotal: 46.8s\tremaining: 20.1s\n",
      "0:\tlearn: 6206.0909584\ttest: 6157.4937147\tbest: 6157.4937147 (0)\ttotal: 12.3ms\tremaining: 12.3s\n",
      "50:\tlearn: 1781.9789618\ttest: 1790.9730357\tbest: 1790.9730357 (50)\ttotal: 514ms\tremaining: 9.57s\n",
      "100:\tlearn: 1665.8661941\ttest: 1694.4792592\tbest: 1694.4792592 (100)\ttotal: 1.01s\tremaining: 9.02s\n",
      "150:\tlearn: 1604.3316535\ttest: 1648.7345299\tbest: 1648.7345299 (150)\ttotal: 1.52s\tremaining: 8.54s\n",
      "200:\tlearn: 1562.7856795\ttest: 1620.5809764\tbest: 1620.5809764 (200)\ttotal: 2.02s\tremaining: 8.02s\n",
      "250:\tlearn: 1531.2342704\ttest: 1600.9086502\tbest: 1600.9086502 (250)\ttotal: 2.52s\tremaining: 7.53s\n",
      "300:\tlearn: 1506.0986784\ttest: 1586.1440085\tbest: 1586.1440085 (300)\ttotal: 3.02s\tremaining: 7.01s\n",
      "350:\tlearn: 1485.2423025\ttest: 1575.7351846\tbest: 1575.7351846 (350)\ttotal: 3.52s\tremaining: 6.51s\n",
      "400:\tlearn: 1466.9552478\ttest: 1567.4062095\tbest: 1567.4062095 (400)\ttotal: 4.02s\tremaining: 6.01s\n",
      "450:\tlearn: 1450.4612794\ttest: 1560.6154213\tbest: 1560.6154213 (450)\ttotal: 4.52s\tremaining: 5.51s\n",
      "500:\tlearn: 1436.4033819\ttest: 1555.4065000\tbest: 1555.4065000 (500)\ttotal: 5.03s\tremaining: 5s\n",
      "550:\tlearn: 1423.0234453\ttest: 1550.0441713\tbest: 1550.0441713 (550)\ttotal: 5.54s\tremaining: 4.51s\n",
      "600:\tlearn: 1411.3694162\ttest: 1545.9196678\tbest: 1545.9196678 (600)\ttotal: 6.04s\tremaining: 4.01s\n",
      "650:\tlearn: 1401.4394957\ttest: 1540.8059829\tbest: 1540.8059829 (650)\ttotal: 6.54s\tremaining: 3.51s\n",
      "700:\tlearn: 1391.3154710\ttest: 1537.6108375\tbest: 1537.6108375 (700)\ttotal: 7.04s\tremaining: 3s\n",
      "750:\tlearn: 1381.5683597\ttest: 1534.5089589\tbest: 1534.4475790 (748)\ttotal: 7.54s\tremaining: 2.5s\n",
      "800:\tlearn: 1372.5411088\ttest: 1531.4418046\tbest: 1531.4418046 (800)\ttotal: 8.05s\tremaining: 2s\n",
      "850:\tlearn: 1363.6584839\ttest: 1529.6624542\tbest: 1529.6041901 (849)\ttotal: 8.55s\tremaining: 1.5s\n",
      "900:\tlearn: 1355.8354246\ttest: 1527.0438396\tbest: 1527.0438396 (900)\ttotal: 9.05s\tremaining: 995ms\n",
      "950:\tlearn: 1348.1060768\ttest: 1525.4153968\tbest: 1525.4153968 (950)\ttotal: 9.56s\tremaining: 492ms\n",
      "999:\tlearn: 1340.6428632\ttest: 1523.8799545\tbest: 1523.8799545 (999)\ttotal: 10s\tremaining: 0us\n",
      "\n",
      "bestTest = 1523.879954\n",
      "bestIteration = 999\n",
      "\n",
      "7:\tloss: 1523.8799545\tbest: 1523.8799545 (7)\ttotal: 56.9s\tremaining: 14.2s\n",
      "0:\tlearn: 6202.7271071\ttest: 6154.7499828\tbest: 6154.7499828 (0)\ttotal: 22ms\tremaining: 22s\n",
      "50:\tlearn: 1696.1291024\ttest: 1721.9677450\tbest: 1721.9677450 (50)\ttotal: 967ms\tremaining: 18s\n",
      "100:\tlearn: 1581.6617424\ttest: 1637.6529235\tbest: 1637.6529235 (100)\ttotal: 1.91s\tremaining: 17s\n",
      "150:\tlearn: 1512.8225183\ttest: 1595.5148841\tbest: 1595.5148841 (150)\ttotal: 2.86s\tremaining: 16.1s\n",
      "200:\tlearn: 1467.5485951\ttest: 1571.8622511\tbest: 1571.8622511 (200)\ttotal: 3.8s\tremaining: 15.1s\n",
      "250:\tlearn: 1430.2477099\ttest: 1555.4678486\tbest: 1555.4678486 (250)\ttotal: 4.74s\tremaining: 14.2s\n",
      "300:\tlearn: 1401.7228407\ttest: 1545.7522771\tbest: 1545.7246807 (299)\ttotal: 5.69s\tremaining: 13.2s\n",
      "350:\tlearn: 1377.8452378\ttest: 1536.4615051\tbest: 1536.4615051 (350)\ttotal: 6.63s\tremaining: 12.3s\n",
      "400:\tlearn: 1355.9147742\ttest: 1530.2713675\tbest: 1530.2713675 (400)\ttotal: 7.57s\tremaining: 11.3s\n",
      "450:\tlearn: 1336.1046304\ttest: 1525.6859638\tbest: 1525.6859638 (450)\ttotal: 8.51s\tremaining: 10.4s\n",
      "500:\tlearn: 1317.1427295\ttest: 1521.0085236\tbest: 1520.9377258 (499)\ttotal: 9.46s\tremaining: 9.42s\n",
      "550:\tlearn: 1302.1993379\ttest: 1518.1979158\tbest: 1518.1979158 (550)\ttotal: 10.4s\tremaining: 8.47s\n",
      "600:\tlearn: 1287.4286181\ttest: 1515.0304249\tbest: 1515.0304249 (600)\ttotal: 11.3s\tremaining: 7.52s\n",
      "650:\tlearn: 1274.2496441\ttest: 1512.5330323\tbest: 1512.5330323 (650)\ttotal: 12.3s\tremaining: 6.58s\n",
      "700:\tlearn: 1261.3124710\ttest: 1509.4321823\tbest: 1509.4321823 (700)\ttotal: 13.2s\tremaining: 5.64s\n",
      "750:\tlearn: 1249.7237594\ttest: 1508.4427775\tbest: 1508.4427775 (750)\ttotal: 14.2s\tremaining: 4.7s\n",
      "800:\tlearn: 1238.1638936\ttest: 1507.8579236\tbest: 1507.8344453 (795)\ttotal: 15.1s\tremaining: 3.75s\n",
      "850:\tlearn: 1227.5714844\ttest: 1506.1547808\tbest: 1506.1547808 (850)\ttotal: 16.1s\tremaining: 2.81s\n",
      "900:\tlearn: 1216.8667243\ttest: 1505.1478302\tbest: 1505.0856881 (898)\ttotal: 17s\tremaining: 1.87s\n",
      "950:\tlearn: 1207.2495064\ttest: 1505.1740260\tbest: 1505.0571822 (948)\ttotal: 17.9s\tremaining: 925ms\n",
      "999:\tlearn: 1199.2376266\ttest: 1504.7186400\tbest: 1504.6900519 (998)\ttotal: 18.9s\tremaining: 0us\n",
      "\n",
      "bestTest = 1504.690052\n",
      "bestIteration = 998\n",
      "\n",
      "8:\tloss: 1504.6900519\tbest: 1504.6900519 (8)\ttotal: 1m 15s\tremaining: 8.43s\n",
      "0:\tlearn: 6204.3991192\ttest: 6156.3598875\tbest: 6156.3598875 (0)\ttotal: 19.6ms\tremaining: 19.5s\n",
      "50:\tlearn: 1706.1726492\ttest: 1729.2364183\tbest: 1729.2364183 (50)\ttotal: 972ms\tremaining: 18.1s\n",
      "100:\tlearn: 1595.6088773\ttest: 1645.0366720\tbest: 1645.0366720 (100)\ttotal: 1.93s\tremaining: 17.2s\n",
      "150:\tlearn: 1530.3165634\ttest: 1603.4135594\tbest: 1603.4135594 (150)\ttotal: 2.89s\tremaining: 16.2s\n",
      "200:\tlearn: 1487.0390857\ttest: 1579.4915601\tbest: 1579.4915601 (200)\ttotal: 3.84s\tremaining: 15.3s\n",
      "250:\tlearn: 1452.3807442\ttest: 1563.7029560\tbest: 1563.7029560 (250)\ttotal: 4.81s\tremaining: 14.4s\n",
      "300:\tlearn: 1423.6421389\ttest: 1551.3209279\tbest: 1551.3209279 (300)\ttotal: 5.76s\tremaining: 13.4s\n",
      "350:\tlearn: 1400.0019434\ttest: 1543.0373236\tbest: 1543.0373236 (350)\ttotal: 6.72s\tremaining: 12.4s\n",
      "400:\tlearn: 1379.2868956\ttest: 1536.4927382\tbest: 1536.4927382 (400)\ttotal: 7.67s\tremaining: 11.5s\n",
      "450:\tlearn: 1360.2950440\ttest: 1531.0032114\tbest: 1531.0032114 (450)\ttotal: 8.62s\tremaining: 10.5s\n",
      "500:\tlearn: 1344.0189598\ttest: 1527.5927308\tbest: 1527.5927308 (500)\ttotal: 9.56s\tremaining: 9.53s\n",
      "550:\tlearn: 1328.2054702\ttest: 1523.5301068\tbest: 1523.5301068 (550)\ttotal: 10.5s\tremaining: 8.57s\n",
      "600:\tlearn: 1313.0008325\ttest: 1519.8755158\tbest: 1519.8755158 (600)\ttotal: 11.5s\tremaining: 7.61s\n",
      "650:\tlearn: 1300.0854781\ttest: 1517.2805324\tbest: 1517.2740912 (649)\ttotal: 12.4s\tremaining: 6.65s\n",
      "700:\tlearn: 1288.5426876\ttest: 1515.2434872\tbest: 1515.2434872 (700)\ttotal: 13.4s\tremaining: 5.7s\n",
      "750:\tlearn: 1278.1697223\ttest: 1513.6846619\tbest: 1513.6461243 (746)\ttotal: 14.3s\tremaining: 4.74s\n",
      "800:\tlearn: 1268.1634909\ttest: 1511.7172461\tbest: 1511.6901496 (799)\ttotal: 15.3s\tremaining: 3.79s\n",
      "850:\tlearn: 1258.4140016\ttest: 1510.0732185\tbest: 1510.0469814 (849)\ttotal: 16.2s\tremaining: 2.84s\n",
      "900:\tlearn: 1249.2495237\ttest: 1508.5453315\tbest: 1508.5453315 (900)\ttotal: 17.2s\tremaining: 1.89s\n",
      "950:\tlearn: 1240.2376238\ttest: 1507.5458659\tbest: 1507.5458659 (950)\ttotal: 18.1s\tremaining: 933ms\n",
      "999:\tlearn: 1231.6349541\ttest: 1506.9505864\tbest: 1506.9505864 (999)\ttotal: 19s\tremaining: 0us\n",
      "\n",
      "bestTest = 1506.950586\n",
      "bestIteration = 999\n",
      "\n",
      "9:\tloss: 1506.9505864\tbest: 1504.6900519 (8)\ttotal: 1m 34s\tremaining: 0us\n",
      "Estimating final quality...\n",
      "0:\tlearn: 6196.9266535\ttest: 6197.7090819\tbest: 6197.7090819 (0)\n",
      "50:\tlearn: 1696.9944907\ttest: 1736.9433518\tbest: 1736.9433518 (50)\n",
      "100:\tlearn: 1576.6426664\ttest: 1646.8618298\tbest: 1646.8618298 (100)\n",
      "150:\tlearn: 1509.4825412\ttest: 1605.3579013\tbest: 1605.3579013 (150)\n",
      "200:\tlearn: 1459.7746180\ttest: 1578.5203049\tbest: 1578.5203049 (200)\n",
      "250:\tlearn: 1421.6627688\ttest: 1562.2157873\tbest: 1562.2157873 (250)\n",
      "300:\tlearn: 1390.6097581\ttest: 1549.9956829\tbest: 1549.9956829 (300)\n",
      "350:\tlearn: 1363.3000522\ttest: 1541.1670633\tbest: 1541.1670633 (350)\n",
      "400:\tlearn: 1338.3334688\ttest: 1534.7090984\tbest: 1534.7090984 (400)\n",
      "450:\tlearn: 1318.0242445\ttest: 1529.3663471\tbest: 1529.3663471 (450)\n",
      "500:\tlearn: 1298.9664198\ttest: 1524.9840343\tbest: 1524.9840343 (500)\n",
      "550:\tlearn: 1281.4141201\ttest: 1521.6180021\tbest: 1521.6180021 (550)\n",
      "600:\tlearn: 1265.4723530\ttest: 1519.2466299\tbest: 1519.2466299 (600)\n",
      "650:\tlearn: 1250.8673648\ttest: 1516.4543169\tbest: 1516.4543169 (650)\n",
      "700:\tlearn: 1237.2759018\ttest: 1514.4644950\tbest: 1514.4644950 (700)\n",
      "750:\tlearn: 1224.4645155\ttest: 1513.1740064\tbest: 1513.1740064 (750)\n",
      "800:\tlearn: 1212.1267362\ttest: 1511.6018947\tbest: 1511.6018947 (800)\n",
      "850:\tlearn: 1201.5757643\ttest: 1510.3649193\tbest: 1510.3649193 (850)\n",
      "900:\tlearn: 1190.9259520\ttest: 1508.9256792\tbest: 1508.9256792 (900)\n",
      "950:\tlearn: 1181.2265148\ttest: 1507.9568699\tbest: 1507.9480255 (949)\n",
      "999:\tlearn: 1171.7636550\ttest: 1506.8850851\tbest: 1506.8850851 (999)\ttotal: 1m 11s\tremaining: 0us\n"
     ]
    }
   ],
   "source": [
    "grid_search_result = model.grid_search(grid,\n",
    "                                       X=features_train_ore,\n",
    "                                       y=target_train)"
   ]
  },
  {
   "cell_type": "code",
   "execution_count": 129,
   "metadata": {},
   "outputs": [
    {
     "data": {
      "text/plain": [
       "{'depth': 10, 'l2_leaf_reg': 1, 'iterations': 1000, 'learning_rate': 0.1}"
      ]
     },
     "execution_count": 129,
     "metadata": {},
     "output_type": "execute_result"
    }
   ],
   "source": [
    "grid_search_result['params']"
   ]
  },
  {
   "cell_type": "code",
   "execution_count": 137,
   "metadata": {
    "scrolled": false
   },
   "outputs": [
    {
     "name": "stdout",
     "output_type": "stream",
     "text": [
      "0:\tlearn: 4295.3468560\ttotal: 26.1ms\tremaining: 26.1s\n",
      "200:\tlearn: 1476.1485967\ttotal: 4.41s\tremaining: 17.5s\n",
      "400:\tlearn: 1369.4288540\ttotal: 8.72s\tremaining: 13s\n",
      "600:\tlearn: 1306.8781449\ttotal: 13s\tremaining: 8.65s\n",
      "800:\tlearn: 1260.9007109\ttotal: 17.5s\tremaining: 4.36s\n",
      "999:\tlearn: 1224.2008557\ttotal: 22s\tremaining: 0us\n",
      "Wall time: 22.5 s\n",
      "Wall time: 172 ms\n"
     ]
    },
    {
     "data": {
      "text/plain": [
       "1442.406440530502"
      ]
     },
     "execution_count": 137,
     "metadata": {},
     "output_type": "execute_result"
    }
   ],
   "source": [
    "model = CatBoostRegressor(loss_function='RMSE', iterations=1000, depth=10, l2_leaf_reg=1, learning_rate=0.1) \n",
    "%time model.fit(features_train_ore, target_train, verbose=200) \n",
    "\n",
    "%time predict_model = model.predict(features_valid_ore)\n",
    "rmse_model = mean_squared_error(target_valid, predict_model)**0.5\n",
    "rmse_model"
   ]
  },
  {
   "cell_type": "code",
   "execution_count": null,
   "metadata": {},
   "outputs": [],
   "source": []
  },
  {
   "cell_type": "markdown",
   "metadata": {},
   "source": [
    "### Lightgbm"
   ]
  },
  {
   "cell_type": "code",
   "execution_count": 140,
   "metadata": {},
   "outputs": [],
   "source": [
    "for cat in categorical_var:\n",
    "    features_train[cat] = features_train[cat].astype('category')\n",
    "    features_test[cat] = features_test[cat].astype('category')\n",
    "    features_valid[cat] = features_valid[cat].astype('category')    "
   ]
  },
  {
   "cell_type": "code",
   "execution_count": 141,
   "metadata": {},
   "outputs": [],
   "source": [
    "params = {\n",
    "    'objective': ['regression'], \n",
    "    'learning_rate': [0.1],\n",
    "    'num_leaves': range(10, 100, 20),\n",
    "    'max_depth': [2, 4, 6, 8, 10],\n",
    "    'subsample': [0.8], \n",
    "    'colsample_bytree': [0.8]\n",
    "    }"
   ]
  },
  {
   "cell_type": "code",
   "execution_count": 142,
   "metadata": {},
   "outputs": [
    {
     "data": {
      "text/plain": [
       "({'colsample_bytree': 0.8,\n",
       "  'learning_rate': 0.1,\n",
       "  'max_depth': 10,\n",
       "  'num_leaves': 90,\n",
       "  'objective': 'regression',\n",
       "  'subsample': 0.8},\n",
       " -1569.2121757666162)"
      ]
     },
     "execution_count": 142,
     "metadata": {},
     "output_type": "execute_result"
    }
   ],
   "source": [
    "model = lgb.LGBMRegressor()\n",
    "gsearch = GridSearchCV(estimator=model, param_grid=params, scoring=rmse_scorer, cv=5)\n",
    "gsearch.fit(features_train_ore, target_train)\n",
    "gsearch.best_params_, gsearch.best_score_"
   ]
  },
  {
   "cell_type": "code",
   "execution_count": null,
   "metadata": {},
   "outputs": [],
   "source": []
  },
  {
   "cell_type": "code",
   "execution_count": 144,
   "metadata": {},
   "outputs": [
    {
     "name": "stdout",
     "output_type": "stream",
     "text": [
      "Wall time: 334 ms\n",
      "Wall time: 93.7 ms\n"
     ]
    },
    {
     "data": {
      "text/plain": [
       "1549.2238176692188"
      ]
     },
     "execution_count": 144,
     "metadata": {},
     "output_type": "execute_result"
    }
   ],
   "source": [
    "model = lgb.LGBMRegressor(\n",
    "    colsample_bytree = 0.8,\n",
    "    learning_rate = 0.1,\n",
    "    max_depth = 10,\n",
    "    num_leaves = 90,\n",
    "    objective = 'regression',\n",
    "    subsample = 0.8\n",
    ")\n",
    "\n",
    "%time model.fit(features_train_ore, target_train)\n",
    "%time predict_model = model.predict(features_valid_ore)\n",
    "rmse_model = mean_squared_error(target_valid, predict_model)**0.5\n",
    "rmse_model"
   ]
  },
  {
   "cell_type": "code",
   "execution_count": null,
   "metadata": {},
   "outputs": [],
   "source": []
  },
  {
   "cell_type": "code",
   "execution_count": null,
   "metadata": {},
   "outputs": [],
   "source": []
  },
  {
   "cell_type": "markdown",
   "metadata": {},
   "source": [
    "## Анализ моделей"
   ]
  },
  {
   "cell_type": "markdown",
   "metadata": {},
   "source": [
    "### Общий анализ"
   ]
  },
  {
   "cell_type": "markdown",
   "metadata": {},
   "source": [
    "<div style=\"border:solid blue 2.0px; padding: 10px\"> \n",
    "    \n",
    "Соберем данные о времени обучения и предсказания в одном месте\n",
    "\n",
    "</div>"
   ]
  },
  {
   "cell_type": "code",
   "execution_count": 146,
   "metadata": {},
   "outputs": [],
   "source": [
    "fit_predict_time = pd.DataFrame(columns=['model', 'fit_time', 'predict time', 'rmse'])"
   ]
  },
  {
   "cell_type": "code",
   "execution_count": 147,
   "metadata": {},
   "outputs": [],
   "source": [
    "fit_predict_time.loc[len(fit_predict_time)] = ['LinearRegression'     , 2.4,   1.23,  2551]\n",
    "fit_predict_time.loc[len(fit_predict_time)] = ['RidgeCV'              , 4.5,   0.18,  3058]\n",
    "fit_predict_time.loc[len(fit_predict_time)] = ['DecisionTreeRegressor', 0.76,  0.261, 2871]\n",
    "fit_predict_time.loc[len(fit_predict_time)] = ['RandomForestRegressor', 13.9,  0.762, 1886]\n",
    "fit_predict_time.loc[len(fit_predict_time)] = ['CatBoostRegressor'    , 22.5,  0.172, 1442]\n",
    "fit_predict_time.loc[len(fit_predict_time)] = ['LGBMRegressor'        , 0.33,  0.094, 1549]"
   ]
  },
  {
   "cell_type": "code",
   "execution_count": 148,
   "metadata": {},
   "outputs": [
    {
     "data": {
      "text/html": [
       "<div>\n",
       "<style scoped>\n",
       "    .dataframe tbody tr th:only-of-type {\n",
       "        vertical-align: middle;\n",
       "    }\n",
       "\n",
       "    .dataframe tbody tr th {\n",
       "        vertical-align: top;\n",
       "    }\n",
       "\n",
       "    .dataframe thead th {\n",
       "        text-align: right;\n",
       "    }\n",
       "</style>\n",
       "<table border=\"1\" class=\"dataframe\">\n",
       "  <thead>\n",
       "    <tr style=\"text-align: right;\">\n",
       "      <th></th>\n",
       "      <th>model</th>\n",
       "      <th>fit_time</th>\n",
       "      <th>predict time</th>\n",
       "      <th>rmse</th>\n",
       "    </tr>\n",
       "  </thead>\n",
       "  <tbody>\n",
       "    <tr>\n",
       "      <th>0</th>\n",
       "      <td>LinearRegression</td>\n",
       "      <td>2.40</td>\n",
       "      <td>1.23</td>\n",
       "      <td>2551</td>\n",
       "    </tr>\n",
       "    <tr>\n",
       "      <th>1</th>\n",
       "      <td>RidgeCV</td>\n",
       "      <td>4.50</td>\n",
       "      <td>0.18</td>\n",
       "      <td>3058</td>\n",
       "    </tr>\n",
       "    <tr>\n",
       "      <th>2</th>\n",
       "      <td>DecisionTreeRegressor</td>\n",
       "      <td>0.76</td>\n",
       "      <td>0.26</td>\n",
       "      <td>2871</td>\n",
       "    </tr>\n",
       "    <tr>\n",
       "      <th>3</th>\n",
       "      <td>RandomForestRegressor</td>\n",
       "      <td>13.90</td>\n",
       "      <td>0.76</td>\n",
       "      <td>1886</td>\n",
       "    </tr>\n",
       "    <tr>\n",
       "      <th>4</th>\n",
       "      <td>CatBoostRegressor</td>\n",
       "      <td>22.50</td>\n",
       "      <td>0.17</td>\n",
       "      <td>1442</td>\n",
       "    </tr>\n",
       "    <tr>\n",
       "      <th>5</th>\n",
       "      <td>LGBMRegressor</td>\n",
       "      <td>0.33</td>\n",
       "      <td>0.09</td>\n",
       "      <td>1549</td>\n",
       "    </tr>\n",
       "  </tbody>\n",
       "</table>\n",
       "</div>"
      ],
      "text/plain": [
       "                   model  fit_time  predict time  rmse\n",
       "0       LinearRegression      2.40          1.23  2551\n",
       "1                RidgeCV      4.50          0.18  3058\n",
       "2  DecisionTreeRegressor      0.76          0.26  2871\n",
       "3  RandomForestRegressor     13.90          0.76  1886\n",
       "4      CatBoostRegressor     22.50          0.17  1442\n",
       "5          LGBMRegressor      0.33          0.09  1549"
      ]
     },
     "execution_count": 148,
     "metadata": {},
     "output_type": "execute_result"
    }
   ],
   "source": [
    "fit_predict_time"
   ]
  },
  {
   "cell_type": "markdown",
   "metadata": {},
   "source": [
    "<div style=\"border:solid blue 2.0px; padding: 10px\"> \n",
    "\n",
    "**Оценим** модели по нескольким параметрам:\n",
    " - быстрейшее время обучения показали модели LGBMRegressor и DecisionTreeRegressor\n",
    " - быстрейшее время предсказания показывают модель LGBMRegressor\n",
    " - лучшее качество предсказания показали модели CatBoostRegressor и LGBMRegressor\n",
    "\n",
    "<span style=\"color: white\">. </span>   \n",
    "    \n",
    "Выделим **три модели** с точки зения качества и проверим на тестовой выборке.\n",
    "Это:\n",
    " - **RandomForestRegressor** c параметрами:\n",
    "    - n_estimators = 80\n",
    "    - max_depth=9\n",
    "\n",
    "    \n",
    " - **CatBoostRegressor** c параметрами:\n",
    "    - depth = 10\n",
    "    - l2_leaf_reg = 1\n",
    "    - iterations = 1000\n",
    "    - learning_rate = 0.1\n",
    "\n",
    "    \n",
    " - **LGBMRegressor** c параметрами:\n",
    "    - colsample_bytree = 0.8\n",
    "    - learning_rate = 0.1\n",
    "    - max_depth = 10\n",
    "    - num_leaves = 90\n",
    "    - objective = 'regression'\n",
    "    - subsample = 0.8\n",
    "    \n",
    "</div>"
   ]
  },
  {
   "cell_type": "code",
   "execution_count": null,
   "metadata": {},
   "outputs": [],
   "source": []
  },
  {
   "cell_type": "markdown",
   "metadata": {},
   "source": [
    "### Проверка на тестовой выборке"
   ]
  },
  {
   "cell_type": "markdown",
   "metadata": {},
   "source": [
    "#### RandomForestRegressor"
   ]
  },
  {
   "cell_type": "code",
   "execution_count": 150,
   "metadata": {},
   "outputs": [
    {
     "name": "stdout",
     "output_type": "stream",
     "text": [
      "Wall time: 13.4 s\n",
      "Wall time: 719 ms\n"
     ]
    },
    {
     "data": {
      "text/plain": [
       "1826.2059454479804"
      ]
     },
     "execution_count": 150,
     "metadata": {},
     "output_type": "execute_result"
    }
   ],
   "source": [
    "model = RandomForestRegressor(\n",
    "    n_estimators=80,\n",
    "    max_depth=9,\n",
    "    random_state=42)\n",
    "\n",
    "%time model.fit(features_train_ore, target_train)\n",
    "\n",
    "%time predict_model = model.predict(features_test_ore)\n",
    "predict_model = pd.Series(predict_model, index=target_test.index)\n",
    "rmse_model = mean_squared_error(target_test, predict_model)**0.5\n",
    "rmse_model"
   ]
  },
  {
   "cell_type": "code",
   "execution_count": null,
   "metadata": {},
   "outputs": [],
   "source": []
  },
  {
   "cell_type": "markdown",
   "metadata": {},
   "source": [
    "#### CatBoostRegressor"
   ]
  },
  {
   "cell_type": "code",
   "execution_count": 151,
   "metadata": {},
   "outputs": [
    {
     "name": "stdout",
     "output_type": "stream",
     "text": [
      "0:\tlearn: 4295.3468560\ttotal: 24ms\tremaining: 24s\n",
      "200:\tlearn: 1476.1485967\ttotal: 4.52s\tremaining: 18s\n",
      "400:\tlearn: 1369.4288540\ttotal: 9.02s\tremaining: 13.5s\n",
      "600:\tlearn: 1306.8781449\ttotal: 13.5s\tremaining: 8.97s\n",
      "800:\tlearn: 1260.9007109\ttotal: 17.9s\tremaining: 4.46s\n",
      "999:\tlearn: 1224.2008557\ttotal: 22.6s\tremaining: 0us\n",
      "Wall time: 23.2 s\n",
      "Wall time: 165 ms\n"
     ]
    },
    {
     "data": {
      "text/plain": [
       "1222.4708454028262"
      ]
     },
     "execution_count": 151,
     "metadata": {},
     "output_type": "execute_result"
    }
   ],
   "source": [
    "model = CatBoostRegressor(loss_function='RMSE', iterations=1000, depth=10, l2_leaf_reg=1, learning_rate=0.1) \n",
    "%time model.fit(features_train_ore, target_train, verbose=200) \n",
    "\n",
    "%time predict_model = model.predict(features_test_ore)\n",
    "rmse_model = mean_squared_error(target_test, predict_model)**0.5\n",
    "rmse_model"
   ]
  },
  {
   "cell_type": "code",
   "execution_count": null,
   "metadata": {},
   "outputs": [],
   "source": []
  },
  {
   "cell_type": "markdown",
   "metadata": {},
   "source": [
    "#### Lightgbm"
   ]
  },
  {
   "cell_type": "code",
   "execution_count": 152,
   "metadata": {},
   "outputs": [
    {
     "name": "stdout",
     "output_type": "stream",
     "text": [
      "Wall time: 340 ms\n",
      "Wall time: 78.1 ms\n"
     ]
    },
    {
     "data": {
      "text/plain": [
       "1481.5199666031842"
      ]
     },
     "execution_count": 152,
     "metadata": {},
     "output_type": "execute_result"
    }
   ],
   "source": [
    "model = lgb.LGBMRegressor(\n",
    "    colsample_bytree = 0.8,\n",
    "    learning_rate = 0.1,\n",
    "    max_depth = 10,\n",
    "    num_leaves = 90,\n",
    "    objective = 'regression',\n",
    "    subsample = 0.8\n",
    ")\n",
    "\n",
    "%time model.fit(features_train_ore, target_train)\n",
    "%time predict_model = model.predict(features_test_ore)\n",
    "rmse_model = mean_squared_error(target_test, predict_model)**0.5\n",
    "rmse_model"
   ]
  },
  {
   "cell_type": "code",
   "execution_count": null,
   "metadata": {},
   "outputs": [],
   "source": []
  },
  {
   "cell_type": "markdown",
   "metadata": {},
   "source": [
    "## Вывод"
   ]
  },
  {
   "cell_type": "markdown",
   "metadata": {},
   "source": [
    "<div style=\"border:solid blue 2.0px; padding: 10px\"> \n",
    "\n",
    "В процессе проекта мы выяснили, для нашей задачи регресии разные модели показали себя по-разному.\n",
    "\n",
    "Тройка наилучших моделей: RandomForestRegressor, CatBoostRegressor, LGBMRegressor\n",
    " - лучшая модель с точки зрения качества CatBoostRegressor\n",
    " - модель LGBMRegressor не сильно проигрывает в качестве, но является быстрейшей по обучению и предсказанию\n",
    " - модель RandomForestRegressor уступает в скорости CatBoostRegressor, но выигрывает у CatBoostRegressor. Качество модели хучшее из тройки\n",
    " \n",
    "\n",
    "По совокупности параметров, **лучше всего себя показала модель LGBMRegressor**\n",
    "Она показывает хорошее качетво, не сильно уступая CatBoostRegressor, но является быстрейшей с явным преимущестовм.\n",
    "\n",
    "</div>"
   ]
  },
  {
   "cell_type": "code",
   "execution_count": null,
   "metadata": {},
   "outputs": [],
   "source": []
  }
 ],
 "metadata": {
  "ExecuteTimeLog": [
   {
    "duration": 392,
    "start_time": "2022-04-14T08:51:36.409Z"
   },
   {
    "duration": 64,
    "start_time": "2022-04-14T08:53:08.904Z"
   },
   {
    "duration": 2,
    "start_time": "2022-04-14T08:53:13.452Z"
   },
   {
    "duration": 8,
    "start_time": "2022-04-14T08:53:14.198Z"
   },
   {
    "duration": 791,
    "start_time": "2022-04-14T08:53:20.839Z"
   },
   {
    "duration": 132,
    "start_time": "2022-04-14T08:53:31.371Z"
   },
   {
    "duration": 97,
    "start_time": "2022-04-14T08:53:53.167Z"
   },
   {
    "duration": 14,
    "start_time": "2022-04-14T08:54:09.965Z"
   },
   {
    "duration": 91,
    "start_time": "2022-04-14T08:54:20.875Z"
   },
   {
    "duration": 1188,
    "start_time": "2022-04-14T08:58:46.586Z"
   },
   {
    "duration": 50,
    "start_time": "2022-04-14T08:59:43.953Z"
   },
   {
    "duration": 50,
    "start_time": "2022-04-14T09:00:08.201Z"
   },
   {
    "duration": 52,
    "start_time": "2022-04-14T09:03:37.849Z"
   },
   {
    "duration": 34,
    "start_time": "2022-04-14T09:33:29.511Z"
   },
   {
    "duration": 34,
    "start_time": "2022-04-14T09:33:41.600Z"
   },
   {
    "duration": 33,
    "start_time": "2022-04-14T09:33:55.632Z"
   },
   {
    "duration": 34,
    "start_time": "2022-04-14T11:30:54.556Z"
   },
   {
    "duration": 24,
    "start_time": "2022-04-14T11:31:03.628Z"
   },
   {
    "duration": 23,
    "start_time": "2022-04-14T11:32:27.997Z"
   },
   {
    "duration": 23,
    "start_time": "2022-04-14T11:32:34.389Z"
   },
   {
    "duration": 4,
    "start_time": "2022-04-14T12:01:45.184Z"
   },
   {
    "duration": 382,
    "start_time": "2022-04-14T14:47:06.373Z"
   },
   {
    "duration": 978,
    "start_time": "2022-04-14T14:47:08.076Z"
   },
   {
    "duration": 188,
    "start_time": "2022-04-14T14:47:09.056Z"
   },
   {
    "duration": 130,
    "start_time": "2022-04-14T14:47:09.246Z"
   },
   {
    "duration": 978,
    "start_time": "2022-04-14T14:47:09.379Z"
   },
   {
    "duration": 49,
    "start_time": "2022-04-14T14:47:10.359Z"
   },
   {
    "duration": 58,
    "start_time": "2022-04-14T14:47:10.411Z"
   },
   {
    "duration": 29,
    "start_time": "2022-04-14T14:47:10.471Z"
   },
   {
    "duration": 58,
    "start_time": "2022-04-14T14:47:10.502Z"
   },
   {
    "duration": 29,
    "start_time": "2022-04-14T14:47:10.562Z"
   },
   {
    "duration": 48,
    "start_time": "2022-04-14T14:47:10.593Z"
   },
   {
    "duration": 22,
    "start_time": "2022-04-14T14:47:10.643Z"
   },
   {
    "duration": 19,
    "start_time": "2022-04-14T14:47:10.692Z"
   },
   {
    "duration": 19,
    "start_time": "2022-04-14T14:47:11.037Z"
   },
   {
    "duration": 4,
    "start_time": "2022-04-14T14:47:12.564Z"
   },
   {
    "duration": 45,
    "start_time": "2022-04-14T14:47:12.972Z"
   },
   {
    "duration": 4,
    "start_time": "2022-04-14T14:47:13.300Z"
   },
   {
    "duration": 66,
    "start_time": "2022-04-14T15:23:08.757Z"
   },
   {
    "duration": 790,
    "start_time": "2022-04-14T15:24:44.558Z"
   },
   {
    "duration": 96,
    "start_time": "2022-04-14T15:24:54.254Z"
   },
   {
    "duration": 38,
    "start_time": "2022-04-14T15:28:46.005Z"
   },
   {
    "duration": 5,
    "start_time": "2022-04-14T15:28:48.943Z"
   },
   {
    "duration": 156,
    "start_time": "2022-04-14T15:28:49.302Z"
   },
   {
    "duration": 60,
    "start_time": "2022-04-14T15:32:24.519Z"
   },
   {
    "duration": 1005,
    "start_time": "2022-04-14T15:34:11.490Z"
   },
   {
    "duration": 144,
    "start_time": "2022-04-14T15:35:52.065Z"
   },
   {
    "duration": 76,
    "start_time": "2022-04-14T15:36:55.624Z"
   },
   {
    "duration": 123,
    "start_time": "2022-04-14T15:38:17.610Z"
   },
   {
    "duration": 282,
    "start_time": "2022-04-14T15:38:22.130Z"
   },
   {
    "duration": 1283,
    "start_time": "2022-04-14T15:38:29.126Z"
   },
   {
    "duration": 20,
    "start_time": "2022-04-14T15:38:34.249Z"
   },
   {
    "duration": 76,
    "start_time": "2022-04-14T15:39:08.762Z"
   },
   {
    "duration": 14,
    "start_time": "2022-04-14T15:52:17.812Z"
   },
   {
    "duration": 12,
    "start_time": "2022-04-14T15:53:38.041Z"
   },
   {
    "duration": 14,
    "start_time": "2022-04-14T15:53:42.364Z"
   },
   {
    "duration": 8,
    "start_time": "2022-04-14T15:55:15.652Z"
   },
   {
    "duration": 7,
    "start_time": "2022-04-14T15:55:55.227Z"
   },
   {
    "duration": 8,
    "start_time": "2022-04-14T16:02:31.390Z"
   },
   {
    "duration": 13,
    "start_time": "2022-04-14T16:06:50.928Z"
   },
   {
    "duration": 10,
    "start_time": "2022-04-14T16:07:51.217Z"
   },
   {
    "duration": 1093,
    "start_time": "2022-04-14T16:10:49.473Z"
   },
   {
    "duration": 1122,
    "start_time": "2022-04-14T16:11:00.673Z"
   },
   {
    "duration": 1001,
    "start_time": "2022-04-14T16:11:46.674Z"
   },
   {
    "duration": 2,
    "start_time": "2022-04-14T16:12:05.707Z"
   },
   {
    "duration": 7,
    "start_time": "2022-04-14T16:18:22.793Z"
   },
   {
    "duration": 8,
    "start_time": "2022-04-14T16:18:38.698Z"
   },
   {
    "duration": 3,
    "start_time": "2022-04-14T16:20:38.627Z"
   },
   {
    "duration": 10,
    "start_time": "2022-04-14T16:21:14.995Z"
   },
   {
    "duration": 13,
    "start_time": "2022-04-14T16:21:22.867Z"
   },
   {
    "duration": 9,
    "start_time": "2022-04-14T16:36:12.030Z"
   },
   {
    "duration": 3883,
    "start_time": "2022-04-14T16:36:21.245Z"
   },
   {
    "duration": 2,
    "start_time": "2022-04-14T16:37:24.526Z"
   },
   {
    "duration": 4,
    "start_time": "2022-04-14T16:37:45.501Z"
   },
   {
    "duration": 31,
    "start_time": "2022-04-14T16:39:07.885Z"
   },
   {
    "duration": 9,
    "start_time": "2022-04-14T16:39:19.670Z"
   },
   {
    "duration": 15,
    "start_time": "2022-04-14T16:40:10.429Z"
   },
   {
    "duration": 4,
    "start_time": "2022-04-14T16:43:57.686Z"
   },
   {
    "duration": 29,
    "start_time": "2022-04-14T16:45:05.478Z"
   },
   {
    "duration": 28,
    "start_time": "2022-04-14T16:45:34.127Z"
   },
   {
    "duration": 31,
    "start_time": "2022-04-14T16:47:02.311Z"
   },
   {
    "duration": 5,
    "start_time": "2022-04-14T16:48:18.496Z"
   },
   {
    "duration": 436,
    "start_time": "2022-04-14T16:48:25.679Z"
   },
   {
    "duration": 9,
    "start_time": "2022-04-14T16:48:37.000Z"
   },
   {
    "duration": 651,
    "start_time": "2022-04-14T16:50:45.929Z"
   },
   {
    "duration": 144,
    "start_time": "2022-04-14T16:50:46.582Z"
   },
   {
    "duration": 77,
    "start_time": "2022-04-14T16:50:46.727Z"
   },
   {
    "duration": 208,
    "start_time": "2022-04-14T16:50:46.806Z"
   },
   {
    "duration": 30,
    "start_time": "2022-04-14T16:50:47.016Z"
   },
   {
    "duration": 26,
    "start_time": "2022-04-14T16:50:47.048Z"
   },
   {
    "duration": 27,
    "start_time": "2022-04-14T16:50:47.076Z"
   },
   {
    "duration": 26,
    "start_time": "2022-04-14T16:50:47.257Z"
   },
   {
    "duration": 32,
    "start_time": "2022-04-14T16:50:47.465Z"
   },
   {
    "duration": 23,
    "start_time": "2022-04-14T16:50:47.881Z"
   },
   {
    "duration": 24,
    "start_time": "2022-04-14T16:50:48.112Z"
   },
   {
    "duration": 21,
    "start_time": "2022-04-14T16:50:48.320Z"
   },
   {
    "duration": 21,
    "start_time": "2022-04-14T16:50:48.520Z"
   },
   {
    "duration": 7,
    "start_time": "2022-04-14T16:50:48.728Z"
   },
   {
    "duration": 4,
    "start_time": "2022-04-14T16:50:50.168Z"
   },
   {
    "duration": 2,
    "start_time": "2022-04-14T16:50:50.595Z"
   },
   {
    "duration": 4,
    "start_time": "2022-04-14T16:50:51.257Z"
   },
   {
    "duration": 47,
    "start_time": "2022-04-14T16:50:51.768Z"
   },
   {
    "duration": 475,
    "start_time": "2022-04-14T16:51:03.032Z"
   },
   {
    "duration": 14,
    "start_time": "2022-04-14T16:51:37.185Z"
   },
   {
    "duration": 69,
    "start_time": "2022-04-14T16:59:55.835Z"
   },
   {
    "duration": 12,
    "start_time": "2022-04-14T17:00:00.290Z"
   },
   {
    "duration": 38,
    "start_time": "2022-04-14T17:00:20.307Z"
   },
   {
    "duration": 22,
    "start_time": "2022-04-14T17:00:35.754Z"
   },
   {
    "duration": 19,
    "start_time": "2022-04-14T17:00:43.707Z"
   },
   {
    "duration": 50,
    "start_time": "2022-04-14T17:04:37.131Z"
   },
   {
    "duration": 8,
    "start_time": "2022-04-14T17:04:45.076Z"
   },
   {
    "duration": 637,
    "start_time": "2022-04-14T17:04:51.379Z"
   },
   {
    "duration": 115,
    "start_time": "2022-04-14T17:04:52.018Z"
   },
   {
    "duration": 90,
    "start_time": "2022-04-14T17:04:52.134Z"
   },
   {
    "duration": 220,
    "start_time": "2022-04-14T17:04:52.226Z"
   },
   {
    "duration": 26,
    "start_time": "2022-04-14T17:04:52.448Z"
   },
   {
    "duration": 28,
    "start_time": "2022-04-14T17:04:52.476Z"
   },
   {
    "duration": 27,
    "start_time": "2022-04-14T17:04:52.549Z"
   },
   {
    "duration": 27,
    "start_time": "2022-04-14T17:04:52.739Z"
   },
   {
    "duration": 29,
    "start_time": "2022-04-14T17:04:52.949Z"
   },
   {
    "duration": 30,
    "start_time": "2022-04-14T17:04:53.147Z"
   },
   {
    "duration": 29,
    "start_time": "2022-04-14T17:04:53.348Z"
   },
   {
    "duration": 19,
    "start_time": "2022-04-14T17:04:53.539Z"
   },
   {
    "duration": 19,
    "start_time": "2022-04-14T17:04:53.755Z"
   },
   {
    "duration": 6,
    "start_time": "2022-04-14T17:04:53.963Z"
   },
   {
    "duration": 4,
    "start_time": "2022-04-14T17:04:54.621Z"
   },
   {
    "duration": 81,
    "start_time": "2022-04-14T17:04:55.060Z"
   },
   {
    "duration": 3725,
    "start_time": "2022-04-14T17:04:55.435Z"
   },
   {
    "duration": 0,
    "start_time": "2022-04-14T17:04:59.162Z"
   },
   {
    "duration": 3,
    "start_time": "2022-04-14T17:06:10.197Z"
   },
   {
    "duration": 40,
    "start_time": "2022-04-14T17:06:11.100Z"
   },
   {
    "duration": 467,
    "start_time": "2022-04-14T17:06:29.812Z"
   },
   {
    "duration": 15,
    "start_time": "2022-04-14T17:06:30.756Z"
   },
   {
    "duration": 40,
    "start_time": "2022-04-14T17:06:44.428Z"
   },
   {
    "duration": 1064,
    "start_time": "2022-04-14T17:11:06.941Z"
   },
   {
    "duration": 8,
    "start_time": "2022-04-14T17:13:43.089Z"
   },
   {
    "duration": 8,
    "start_time": "2022-04-14T17:17:10.111Z"
   },
   {
    "duration": 3431,
    "start_time": "2022-04-14T17:18:17.135Z"
   },
   {
    "duration": 18,
    "start_time": "2022-04-14T17:18:33.263Z"
   },
   {
    "duration": 92,
    "start_time": "2022-04-14T17:20:12.039Z"
   },
   {
    "duration": 28,
    "start_time": "2022-04-14T17:21:19.071Z"
   },
   {
    "duration": 7,
    "start_time": "2022-04-14T17:21:19.609Z"
   },
   {
    "duration": 72,
    "start_time": "2022-04-14T17:21:48.303Z"
   },
   {
    "duration": 623,
    "start_time": "2022-04-14T17:21:55.599Z"
   },
   {
    "duration": 109,
    "start_time": "2022-04-14T17:21:56.224Z"
   },
   {
    "duration": 75,
    "start_time": "2022-04-14T17:21:56.334Z"
   },
   {
    "duration": 227,
    "start_time": "2022-04-14T17:21:56.411Z"
   },
   {
    "duration": 26,
    "start_time": "2022-04-14T17:21:56.639Z"
   },
   {
    "duration": 28,
    "start_time": "2022-04-14T17:21:56.667Z"
   },
   {
    "duration": 27,
    "start_time": "2022-04-14T17:21:56.791Z"
   },
   {
    "duration": 26,
    "start_time": "2022-04-14T17:21:57.007Z"
   },
   {
    "duration": 28,
    "start_time": "2022-04-14T17:21:57.215Z"
   },
   {
    "duration": 30,
    "start_time": "2022-04-14T17:21:57.423Z"
   },
   {
    "duration": 30,
    "start_time": "2022-04-14T17:21:57.648Z"
   },
   {
    "duration": 19,
    "start_time": "2022-04-14T17:21:57.880Z"
   },
   {
    "duration": 20,
    "start_time": "2022-04-14T17:21:58.151Z"
   },
   {
    "duration": 7,
    "start_time": "2022-04-14T17:21:58.375Z"
   },
   {
    "duration": 4,
    "start_time": "2022-04-14T17:21:59.102Z"
   },
   {
    "duration": 4,
    "start_time": "2022-04-14T17:21:59.703Z"
   },
   {
    "duration": 63,
    "start_time": "2022-04-14T17:22:00.066Z"
   },
   {
    "duration": 492,
    "start_time": "2022-04-14T17:22:00.431Z"
   },
   {
    "duration": 86,
    "start_time": "2022-04-14T17:22:00.925Z"
   },
   {
    "duration": 50,
    "start_time": "2022-04-14T17:22:01.367Z"
   },
   {
    "duration": 3520,
    "start_time": "2022-04-14T17:22:01.783Z"
   },
   {
    "duration": 97,
    "start_time": "2022-04-14T17:22:05.305Z"
   },
   {
    "duration": 40,
    "start_time": "2022-04-14T17:22:18.495Z"
   },
   {
    "duration": 72,
    "start_time": "2022-04-14T17:22:43.919Z"
   },
   {
    "duration": 638,
    "start_time": "2022-04-14T17:23:35.216Z"
   },
   {
    "duration": 120,
    "start_time": "2022-04-14T17:23:35.855Z"
   },
   {
    "duration": 94,
    "start_time": "2022-04-14T17:23:35.977Z"
   },
   {
    "duration": 223,
    "start_time": "2022-04-14T17:23:36.073Z"
   },
   {
    "duration": 32,
    "start_time": "2022-04-14T17:23:36.298Z"
   },
   {
    "duration": 30,
    "start_time": "2022-04-14T17:23:36.332Z"
   },
   {
    "duration": 27,
    "start_time": "2022-04-14T17:23:36.447Z"
   },
   {
    "duration": 24,
    "start_time": "2022-04-14T17:23:36.664Z"
   },
   {
    "duration": 27,
    "start_time": "2022-04-14T17:23:36.863Z"
   },
   {
    "duration": 30,
    "start_time": "2022-04-14T17:23:37.055Z"
   },
   {
    "duration": 32,
    "start_time": "2022-04-14T17:23:37.255Z"
   },
   {
    "duration": 20,
    "start_time": "2022-04-14T17:23:37.448Z"
   },
   {
    "duration": 20,
    "start_time": "2022-04-14T17:23:37.631Z"
   },
   {
    "duration": 7,
    "start_time": "2022-04-14T17:23:37.814Z"
   },
   {
    "duration": 5,
    "start_time": "2022-04-14T17:23:38.190Z"
   },
   {
    "duration": 3,
    "start_time": "2022-04-14T17:23:38.375Z"
   },
   {
    "duration": 54,
    "start_time": "2022-04-14T17:23:38.566Z"
   },
   {
    "duration": 474,
    "start_time": "2022-04-14T17:23:38.759Z"
   },
   {
    "duration": 76,
    "start_time": "2022-04-14T17:23:39.235Z"
   },
   {
    "duration": 50,
    "start_time": "2022-04-14T17:23:39.313Z"
   },
   {
    "duration": 3303,
    "start_time": "2022-04-14T17:23:39.375Z"
   },
   {
    "duration": 105,
    "start_time": "2022-04-14T17:23:42.680Z"
   },
   {
    "duration": 45,
    "start_time": "2022-04-14T17:23:42.787Z"
   },
   {
    "duration": 64,
    "start_time": "2022-04-14T17:23:42.834Z"
   },
   {
    "duration": 2,
    "start_time": "2022-04-14T17:24:14.032Z"
   },
   {
    "duration": 25,
    "start_time": "2022-04-14T17:25:55.208Z"
   },
   {
    "duration": 12,
    "start_time": "2022-04-14T17:26:16.824Z"
   },
   {
    "duration": 57,
    "start_time": "2022-04-14T17:26:18.655Z"
   },
   {
    "duration": 61,
    "start_time": "2022-04-14T17:26:25.415Z"
   },
   {
    "duration": 57,
    "start_time": "2022-04-14T17:27:29.289Z"
   },
   {
    "duration": 567,
    "start_time": "2022-04-14T17:27:44.992Z"
   },
   {
    "duration": 57,
    "start_time": "2022-04-14T17:27:52.320Z"
   },
   {
    "duration": 16,
    "start_time": "2022-04-14T17:28:03.377Z"
   },
   {
    "duration": 4,
    "start_time": "2022-04-14T17:28:19.465Z"
   },
   {
    "duration": 4,
    "start_time": "2022-04-14T17:29:24.320Z"
   },
   {
    "duration": 110,
    "start_time": "2022-04-14T17:29:57.663Z"
   },
   {
    "duration": 6,
    "start_time": "2022-04-14T17:30:13.017Z"
   },
   {
    "duration": 113,
    "start_time": "2022-04-14T17:30:16.392Z"
   },
   {
    "duration": 3,
    "start_time": "2022-04-14T17:30:24.417Z"
   },
   {
    "duration": 3,
    "start_time": "2022-04-14T17:33:48.482Z"
   },
   {
    "duration": 47,
    "start_time": "2022-04-14T17:33:59.913Z"
   },
   {
    "duration": 413,
    "start_time": "2022-04-14T17:34:32.961Z"
   },
   {
    "duration": 30338,
    "start_time": "2022-04-14T17:35:01.290Z"
   },
   {
    "duration": 5,
    "start_time": "2022-04-14T17:36:13.258Z"
   },
   {
    "duration": 6,
    "start_time": "2022-04-14T17:38:56.931Z"
   },
   {
    "duration": 15,
    "start_time": "2022-04-14T17:41:41.530Z"
   },
   {
    "duration": 15,
    "start_time": "2022-04-14T17:42:50.436Z"
   },
   {
    "duration": 10,
    "start_time": "2022-04-14T17:43:03.187Z"
   },
   {
    "duration": 12,
    "start_time": "2022-04-14T17:43:58.308Z"
   },
   {
    "duration": 2387,
    "start_time": "2022-04-14T17:44:21.844Z"
   },
   {
    "duration": 21,
    "start_time": "2022-04-14T17:44:35.042Z"
   },
   {
    "duration": 27,
    "start_time": "2022-04-14T17:46:02.405Z"
   },
   {
    "duration": 32,
    "start_time": "2022-04-14T17:46:11.188Z"
   },
   {
    "duration": 19,
    "start_time": "2022-04-14T17:46:15.556Z"
   },
   {
    "duration": 10,
    "start_time": "2022-04-14T17:46:27.925Z"
   },
   {
    "duration": 21,
    "start_time": "2022-04-14T17:46:31.493Z"
   },
   {
    "duration": 3,
    "start_time": "2022-04-14T17:47:07.461Z"
   },
   {
    "duration": 3,
    "start_time": "2022-04-14T17:47:55.748Z"
   },
   {
    "duration": 19,
    "start_time": "2022-04-14T17:48:46.877Z"
   },
   {
    "duration": 12,
    "start_time": "2022-04-14T17:52:13.301Z"
   },
   {
    "duration": 1530,
    "start_time": "2022-04-15T08:37:54.764Z"
   },
   {
    "duration": 1128,
    "start_time": "2022-04-15T08:37:56.297Z"
   },
   {
    "duration": 176,
    "start_time": "2022-04-15T08:37:57.428Z"
   },
   {
    "duration": 143,
    "start_time": "2022-04-15T08:37:57.607Z"
   },
   {
    "duration": 1023,
    "start_time": "2022-04-15T08:37:57.753Z"
   },
   {
    "duration": 50,
    "start_time": "2022-04-15T08:37:58.778Z"
   },
   {
    "duration": 53,
    "start_time": "2022-04-15T08:37:58.831Z"
   },
   {
    "duration": 62,
    "start_time": "2022-04-15T08:37:58.887Z"
   },
   {
    "duration": 45,
    "start_time": "2022-04-15T08:37:58.952Z"
   },
   {
    "duration": 45,
    "start_time": "2022-04-15T08:38:01.744Z"
   },
   {
    "duration": 5,
    "start_time": "2022-04-15T08:43:47.691Z"
   },
   {
    "duration": 1137,
    "start_time": "2022-04-15T08:43:48.383Z"
   },
   {
    "duration": 169,
    "start_time": "2022-04-15T08:43:49.522Z"
   },
   {
    "duration": 144,
    "start_time": "2022-04-15T08:43:49.693Z"
   },
   {
    "duration": 337,
    "start_time": "2022-04-15T08:43:49.840Z"
   },
   {
    "duration": 55,
    "start_time": "2022-04-15T08:43:50.179Z"
   },
   {
    "duration": 52,
    "start_time": "2022-04-15T08:43:50.236Z"
   },
   {
    "duration": 65,
    "start_time": "2022-04-15T08:43:50.290Z"
   },
   {
    "duration": 43,
    "start_time": "2022-04-15T08:43:50.357Z"
   },
   {
    "duration": 63,
    "start_time": "2022-04-15T08:43:50.403Z"
   },
   {
    "duration": 61,
    "start_time": "2022-04-15T08:43:50.469Z"
   },
   {
    "duration": 36,
    "start_time": "2022-04-15T08:43:50.533Z"
   },
   {
    "duration": 32,
    "start_time": "2022-04-15T08:43:50.731Z"
   },
   {
    "duration": 33,
    "start_time": "2022-04-15T08:43:50.993Z"
   },
   {
    "duration": 12,
    "start_time": "2022-04-15T08:43:51.226Z"
   },
   {
    "duration": 5,
    "start_time": "2022-04-15T08:43:52.044Z"
   },
   {
    "duration": 6,
    "start_time": "2022-04-15T08:43:52.263Z"
   },
   {
    "duration": 85,
    "start_time": "2022-04-15T08:43:52.592Z"
   },
   {
    "duration": 753,
    "start_time": "2022-04-15T08:43:52.932Z"
   },
   {
    "duration": 119,
    "start_time": "2022-04-15T08:43:53.688Z"
   },
   {
    "duration": 84,
    "start_time": "2022-04-15T08:43:54.044Z"
   },
   {
    "duration": 72,
    "start_time": "2022-04-15T08:43:55.203Z"
   },
   {
    "duration": 6325,
    "start_time": "2022-04-15T08:43:56.012Z"
   },
   {
    "duration": 146,
    "start_time": "2022-04-15T08:44:02.339Z"
   },
   {
    "duration": 3,
    "start_time": "2022-04-15T08:44:15.804Z"
   },
   {
    "duration": 1089,
    "start_time": "2022-04-15T08:44:34.331Z"
   },
   {
    "duration": 174,
    "start_time": "2022-04-15T08:44:35.424Z"
   },
   {
    "duration": 138,
    "start_time": "2022-04-15T08:44:35.600Z"
   },
   {
    "duration": 347,
    "start_time": "2022-04-15T08:44:35.741Z"
   },
   {
    "duration": 55,
    "start_time": "2022-04-15T08:44:36.090Z"
   },
   {
    "duration": 54,
    "start_time": "2022-04-15T08:44:36.148Z"
   },
   {
    "duration": 63,
    "start_time": "2022-04-15T08:44:36.204Z"
   },
   {
    "duration": 60,
    "start_time": "2022-04-15T08:44:36.269Z"
   },
   {
    "duration": 63,
    "start_time": "2022-04-15T08:44:36.332Z"
   },
   {
    "duration": 14,
    "start_time": "2022-04-15T08:44:36.397Z"
   },
   {
    "duration": 19,
    "start_time": "2022-04-15T08:44:36.413Z"
   },
   {
    "duration": 8,
    "start_time": "2022-04-15T08:44:36.440Z"
   },
   {
    "duration": 3,
    "start_time": "2022-04-15T08:44:36.664Z"
   },
   {
    "duration": 13,
    "start_time": "2022-04-15T08:44:36.864Z"
   },
   {
    "duration": 6,
    "start_time": "2022-04-15T08:44:37.324Z"
   },
   {
    "duration": 5,
    "start_time": "2022-04-15T08:44:37.612Z"
   },
   {
    "duration": 89,
    "start_time": "2022-04-15T08:44:39.611Z"
   },
   {
    "duration": 757,
    "start_time": "2022-04-15T08:44:43.175Z"
   },
   {
    "duration": 163,
    "start_time": "2022-04-15T08:44:43.964Z"
   },
   {
    "duration": 91,
    "start_time": "2022-04-15T08:44:45.084Z"
   },
   {
    "duration": 71,
    "start_time": "2022-04-15T08:44:48.807Z"
   },
   {
    "duration": 4,
    "start_time": "2022-04-15T08:44:51.577Z"
   },
   {
    "duration": 129,
    "start_time": "2022-04-15T08:44:52.363Z"
   },
   {
    "duration": 50,
    "start_time": "2022-04-15T08:47:10.090Z"
   },
   {
    "duration": 96,
    "start_time": "2022-04-15T08:47:10.583Z"
   },
   {
    "duration": 4,
    "start_time": "2022-04-15T08:47:15.445Z"
   },
   {
    "duration": 106,
    "start_time": "2022-04-15T08:47:15.624Z"
   },
   {
    "duration": 45,
    "start_time": "2022-04-15T08:47:19.684Z"
   },
   {
    "duration": 7,
    "start_time": "2022-04-15T08:47:28.644Z"
   },
   {
    "duration": 106,
    "start_time": "2022-04-15T08:47:41.792Z"
   },
   {
    "duration": 7,
    "start_time": "2022-04-15T08:47:43.103Z"
   },
   {
    "duration": 1062,
    "start_time": "2022-04-15T08:52:36.424Z"
   },
   {
    "duration": 173,
    "start_time": "2022-04-15T08:52:37.488Z"
   },
   {
    "duration": 131,
    "start_time": "2022-04-15T08:52:37.664Z"
   },
   {
    "duration": 339,
    "start_time": "2022-04-15T08:52:37.798Z"
   },
   {
    "duration": 43,
    "start_time": "2022-04-15T08:52:38.139Z"
   },
   {
    "duration": 70,
    "start_time": "2022-04-15T08:52:38.184Z"
   },
   {
    "duration": 47,
    "start_time": "2022-04-15T08:52:38.257Z"
   },
   {
    "duration": 59,
    "start_time": "2022-04-15T08:52:38.306Z"
   },
   {
    "duration": 67,
    "start_time": "2022-04-15T08:52:38.368Z"
   },
   {
    "duration": 7,
    "start_time": "2022-04-15T08:52:38.437Z"
   },
   {
    "duration": 24,
    "start_time": "2022-04-15T08:52:38.446Z"
   },
   {
    "duration": 3,
    "start_time": "2022-04-15T08:52:38.552Z"
   },
   {
    "duration": 3,
    "start_time": "2022-04-15T08:52:38.764Z"
   },
   {
    "duration": 12,
    "start_time": "2022-04-15T08:52:38.944Z"
   },
   {
    "duration": 6,
    "start_time": "2022-04-15T08:52:39.364Z"
   },
   {
    "duration": 6,
    "start_time": "2022-04-15T08:52:39.541Z"
   },
   {
    "duration": 87,
    "start_time": "2022-04-15T08:52:39.784Z"
   },
   {
    "duration": 758,
    "start_time": "2022-04-15T08:52:39.977Z"
   },
   {
    "duration": 146,
    "start_time": "2022-04-15T08:52:40.738Z"
   },
   {
    "duration": 107,
    "start_time": "2022-04-15T08:52:40.886Z"
   },
   {
    "duration": 80,
    "start_time": "2022-04-15T08:52:40.995Z"
   },
   {
    "duration": 3,
    "start_time": "2022-04-15T08:52:41.077Z"
   },
   {
    "duration": 131,
    "start_time": "2022-04-15T08:52:41.483Z"
   },
   {
    "duration": 102,
    "start_time": "2022-04-15T08:52:42.204Z"
   },
   {
    "duration": 94,
    "start_time": "2022-04-15T08:52:42.724Z"
   },
   {
    "duration": 111,
    "start_time": "2022-04-15T08:52:44.040Z"
   },
   {
    "duration": 85,
    "start_time": "2022-04-15T08:52:45.368Z"
   },
   {
    "duration": 74,
    "start_time": "2022-04-15T08:53:13.225Z"
   },
   {
    "duration": 11,
    "start_time": "2022-04-15T09:03:26.884Z"
   },
   {
    "duration": 1030,
    "start_time": "2022-04-15T09:03:38.032Z"
   },
   {
    "duration": 183,
    "start_time": "2022-04-15T09:03:39.064Z"
   },
   {
    "duration": 13,
    "start_time": "2022-04-15T09:03:44.291Z"
   },
   {
    "duration": 1052,
    "start_time": "2022-04-15T09:04:18.451Z"
   },
   {
    "duration": 178,
    "start_time": "2022-04-15T09:04:19.506Z"
   },
   {
    "duration": 137,
    "start_time": "2022-04-15T09:04:19.687Z"
   },
   {
    "duration": 331,
    "start_time": "2022-04-15T09:04:20.340Z"
   },
   {
    "duration": 44,
    "start_time": "2022-04-15T09:04:21.285Z"
   },
   {
    "duration": 44,
    "start_time": "2022-04-15T09:04:21.899Z"
   },
   {
    "duration": 45,
    "start_time": "2022-04-15T09:04:22.543Z"
   },
   {
    "duration": 44,
    "start_time": "2022-04-15T09:04:23.124Z"
   },
   {
    "duration": 45,
    "start_time": "2022-04-15T09:04:23.572Z"
   },
   {
    "duration": 13,
    "start_time": "2022-04-15T09:04:23.951Z"
   },
   {
    "duration": 4,
    "start_time": "2022-04-15T09:04:24.383Z"
   },
   {
    "duration": 3,
    "start_time": "2022-04-15T09:04:24.704Z"
   },
   {
    "duration": 3,
    "start_time": "2022-04-15T09:04:24.924Z"
   },
   {
    "duration": 4,
    "start_time": "2022-04-15T09:04:25.143Z"
   },
   {
    "duration": 13,
    "start_time": "2022-04-15T09:04:26.063Z"
   },
   {
    "duration": 6,
    "start_time": "2022-04-15T09:04:28.572Z"
   },
   {
    "duration": 6,
    "start_time": "2022-04-15T09:04:30.335Z"
   },
   {
    "duration": 91,
    "start_time": "2022-04-15T09:04:31.684Z"
   },
   {
    "duration": 754,
    "start_time": "2022-04-15T09:04:36.884Z"
   },
   {
    "duration": 146,
    "start_time": "2022-04-15T09:04:37.640Z"
   },
   {
    "duration": 86,
    "start_time": "2022-04-15T09:04:37.892Z"
   },
   {
    "duration": 64,
    "start_time": "2022-04-15T09:04:42.904Z"
   },
   {
    "duration": 64,
    "start_time": "2022-04-15T09:04:46.945Z"
   },
   {
    "duration": 4,
    "start_time": "2022-04-15T09:05:19.392Z"
   },
   {
    "duration": 121,
    "start_time": "2022-04-15T09:05:19.646Z"
   },
   {
    "duration": 100,
    "start_time": "2022-04-15T09:05:21.297Z"
   },
   {
    "duration": 77,
    "start_time": "2022-04-15T09:05:21.824Z"
   },
   {
    "duration": 103,
    "start_time": "2022-04-15T09:05:34.873Z"
   },
   {
    "duration": 83,
    "start_time": "2022-04-15T09:05:38.645Z"
   },
   {
    "duration": 76,
    "start_time": "2022-04-15T09:05:45.513Z"
   },
   {
    "duration": 1441,
    "start_time": "2022-04-15T09:07:19.245Z"
   },
   {
    "duration": 53,
    "start_time": "2022-04-15T09:07:20.689Z"
   },
   {
    "duration": 7,
    "start_time": "2022-04-15T09:07:55.287Z"
   },
   {
    "duration": 611,
    "start_time": "2022-04-15T09:07:57.153Z"
   },
   {
    "duration": 4,
    "start_time": "2022-04-15T09:08:01.533Z"
   },
   {
    "duration": 3,
    "start_time": "2022-04-15T09:25:36.765Z"
   },
   {
    "duration": 2,
    "start_time": "2022-04-15T09:25:37.187Z"
   },
   {
    "duration": 7,
    "start_time": "2022-04-15T09:25:42.214Z"
   },
   {
    "duration": 158,
    "start_time": "2022-04-15T09:25:49.245Z"
   },
   {
    "duration": 4,
    "start_time": "2022-04-15T09:27:24.493Z"
   },
   {
    "duration": 122,
    "start_time": "2022-04-15T09:44:24.093Z"
   },
   {
    "duration": 209,
    "start_time": "2022-04-15T09:44:44.765Z"
   },
   {
    "duration": 213,
    "start_time": "2022-04-15T09:45:04.025Z"
   },
   {
    "duration": 5,
    "start_time": "2022-04-15T09:45:05.626Z"
   },
   {
    "duration": 58,
    "start_time": "2022-04-15T09:45:17.395Z"
   },
   {
    "duration": 40,
    "start_time": "2022-04-15T09:45:25.726Z"
   },
   {
    "duration": 95,
    "start_time": "2022-04-15T09:46:59.936Z"
   },
   {
    "duration": 7,
    "start_time": "2022-04-15T09:47:19.673Z"
   },
   {
    "duration": 159,
    "start_time": "2022-04-15T09:47:32.445Z"
   },
   {
    "duration": 3,
    "start_time": "2022-04-15T09:47:33.296Z"
   },
   {
    "duration": 40,
    "start_time": "2022-04-15T09:47:33.738Z"
   },
   {
    "duration": 122,
    "start_time": "2022-04-15T09:48:35.864Z"
   },
   {
    "duration": 494,
    "start_time": "2022-04-15T09:49:54.625Z"
   },
   {
    "duration": 40,
    "start_time": "2022-04-15T09:50:12.272Z"
   },
   {
    "duration": 115,
    "start_time": "2022-04-15T09:50:14.992Z"
   },
   {
    "duration": 422,
    "start_time": "2022-04-15T09:52:32.141Z"
   },
   {
    "duration": 5,
    "start_time": "2022-04-15T09:52:36.238Z"
   },
   {
    "duration": 12,
    "start_time": "2022-04-15T09:55:15.372Z"
   },
   {
    "duration": 13,
    "start_time": "2022-04-15T09:56:00.488Z"
   },
   {
    "duration": 118,
    "start_time": "2022-04-15T09:56:25.460Z"
   },
   {
    "duration": 1294,
    "start_time": "2022-04-15T09:56:28.837Z"
   },
   {
    "duration": 6,
    "start_time": "2022-04-15T09:56:32.853Z"
   },
   {
    "duration": 5,
    "start_time": "2022-04-15T09:56:44.573Z"
   },
   {
    "duration": 15,
    "start_time": "2022-04-15T09:57:48.859Z"
   },
   {
    "duration": 1495,
    "start_time": "2022-04-15T09:57:55.602Z"
   },
   {
    "duration": 446,
    "start_time": "2022-04-15T09:58:04.272Z"
   },
   {
    "duration": 1816,
    "start_time": "2022-04-15T10:02:29.459Z"
   },
   {
    "duration": 1928,
    "start_time": "2022-04-15T10:06:03.115Z"
   },
   {
    "duration": 18,
    "start_time": "2022-04-15T10:06:38.338Z"
   },
   {
    "duration": 14,
    "start_time": "2022-04-15T10:07:21.495Z"
   },
   {
    "duration": 3086,
    "start_time": "2022-04-15T10:07:42.056Z"
   },
   {
    "duration": 38,
    "start_time": "2022-04-15T10:07:56.796Z"
   },
   {
    "duration": 5,
    "start_time": "2022-04-15T10:14:19.109Z"
   },
   {
    "duration": 152,
    "start_time": "2022-04-15T10:36:56.406Z"
   },
   {
    "duration": 4,
    "start_time": "2022-04-15T10:36:57.299Z"
   },
   {
    "duration": 54,
    "start_time": "2022-04-15T10:36:57.802Z"
   },
   {
    "duration": 4,
    "start_time": "2022-04-15T10:37:03.010Z"
   },
   {
    "duration": 135,
    "start_time": "2022-04-15T10:37:33.517Z"
   },
   {
    "duration": 2199,
    "start_time": "2022-04-15T10:37:38.009Z"
   },
   {
    "duration": 1271,
    "start_time": "2022-04-15T10:37:40.211Z"
   },
   {
    "duration": 179,
    "start_time": "2022-04-15T10:37:43.107Z"
   },
   {
    "duration": 139,
    "start_time": "2022-04-15T10:37:43.602Z"
   },
   {
    "duration": 777,
    "start_time": "2022-04-15T10:37:43.929Z"
   },
   {
    "duration": 56,
    "start_time": "2022-04-15T10:37:44.710Z"
   },
   {
    "duration": 101,
    "start_time": "2022-04-15T10:37:44.769Z"
   },
   {
    "duration": 96,
    "start_time": "2022-04-15T10:37:44.874Z"
   },
   {
    "duration": 70,
    "start_time": "2022-04-15T10:37:44.973Z"
   },
   {
    "duration": 46,
    "start_time": "2022-04-15T10:37:45.212Z"
   },
   {
    "duration": 13,
    "start_time": "2022-04-15T10:37:45.801Z"
   },
   {
    "duration": 4,
    "start_time": "2022-04-15T10:37:46.154Z"
   },
   {
    "duration": 3,
    "start_time": "2022-04-15T10:37:46.528Z"
   },
   {
    "duration": 4,
    "start_time": "2022-04-15T10:37:46.963Z"
   },
   {
    "duration": 4,
    "start_time": "2022-04-15T10:37:47.311Z"
   },
   {
    "duration": 15,
    "start_time": "2022-04-15T10:37:47.552Z"
   },
   {
    "duration": 8,
    "start_time": "2022-04-15T10:37:49.041Z"
   },
   {
    "duration": 6,
    "start_time": "2022-04-15T10:37:53.309Z"
   },
   {
    "duration": 132,
    "start_time": "2022-04-15T10:37:54.029Z"
   },
   {
    "duration": 1381,
    "start_time": "2022-04-15T10:37:54.831Z"
   },
   {
    "duration": 233,
    "start_time": "2022-04-15T10:37:56.215Z"
   },
   {
    "duration": 113,
    "start_time": "2022-04-15T10:37:56.451Z"
   },
   {
    "duration": 70,
    "start_time": "2022-04-15T10:38:03.724Z"
   },
   {
    "duration": 68,
    "start_time": "2022-04-15T10:38:04.382Z"
   },
   {
    "duration": 3,
    "start_time": "2022-04-15T10:38:05.044Z"
   },
   {
    "duration": 138,
    "start_time": "2022-04-15T10:38:05.971Z"
   },
   {
    "duration": 99,
    "start_time": "2022-04-15T10:38:07.284Z"
   },
   {
    "duration": 94,
    "start_time": "2022-04-15T10:38:09.292Z"
   },
   {
    "duration": 108,
    "start_time": "2022-04-15T10:38:10.222Z"
   },
   {
    "duration": 82,
    "start_time": "2022-04-15T10:38:10.906Z"
   },
   {
    "duration": 76,
    "start_time": "2022-04-15T10:38:12.009Z"
   },
   {
    "duration": 4,
    "start_time": "2022-04-15T10:38:12.548Z"
   },
   {
    "duration": 4,
    "start_time": "2022-04-15T10:38:12.875Z"
   },
   {
    "duration": 4,
    "start_time": "2022-04-15T10:38:13.105Z"
   },
   {
    "duration": 8,
    "start_time": "2022-04-15T10:38:14.390Z"
   },
   {
    "duration": 149,
    "start_time": "2022-04-15T10:38:15.243Z"
   },
   {
    "duration": 4,
    "start_time": "2022-04-15T10:38:16.550Z"
   },
   {
    "duration": 116,
    "start_time": "2022-04-15T10:38:17.315Z"
   },
   {
    "duration": 4,
    "start_time": "2022-04-15T10:38:17.889Z"
   },
   {
    "duration": 1344,
    "start_time": "2022-04-15T10:38:18.222Z"
   },
   {
    "duration": 9184,
    "start_time": "2022-04-15T10:38:53.418Z"
   },
   {
    "duration": 35,
    "start_time": "2022-04-15T10:43:01.042Z"
   },
   {
    "duration": 18,
    "start_time": "2022-04-15T10:43:04.721Z"
   },
   {
    "duration": 6,
    "start_time": "2022-04-15T10:43:11.263Z"
   },
   {
    "duration": 6,
    "start_time": "2022-04-15T10:43:55.569Z"
   },
   {
    "duration": 6058,
    "start_time": "2022-04-15T10:44:06.721Z"
   },
   {
    "duration": 36,
    "start_time": "2022-04-15T10:45:42.341Z"
   },
   {
    "duration": 6,
    "start_time": "2022-04-15T10:45:42.967Z"
   },
   {
    "duration": 5,
    "start_time": "2022-04-15T10:45:43.422Z"
   },
   {
    "duration": 14,
    "start_time": "2022-04-15T10:46:19.441Z"
   },
   {
    "duration": 4,
    "start_time": "2022-04-15T10:46:25.085Z"
   },
   {
    "duration": 123,
    "start_time": "2022-04-15T10:46:34.551Z"
   },
   {
    "duration": 37,
    "start_time": "2022-04-15T10:46:43.309Z"
   },
   {
    "duration": 69558,
    "start_time": "2022-04-15T10:50:13.177Z"
   },
   {
    "duration": 6,
    "start_time": "2022-04-15T10:51:48.048Z"
   },
   {
    "duration": 24,
    "start_time": "2022-04-15T10:51:54.837Z"
   },
   {
    "duration": 64786,
    "start_time": "2022-04-15T10:54:18.253Z"
   },
   {
    "duration": 18,
    "start_time": "2022-04-15T10:55:23.124Z"
   },
   {
    "duration": 7,
    "start_time": "2022-04-15T10:56:14.800Z"
   },
   {
    "duration": 389,
    "start_time": "2022-04-15T10:56:28.467Z"
   },
   {
    "duration": 9,
    "start_time": "2022-04-15T10:57:15.357Z"
   },
   {
    "duration": 499,
    "start_time": "2022-04-15T10:57:16.069Z"
   },
   {
    "duration": 234,
    "start_time": "2022-04-15T10:58:28.768Z"
   },
   {
    "duration": 20,
    "start_time": "2022-04-15T10:59:09.629Z"
   },
   {
    "duration": 18,
    "start_time": "2022-04-15T10:59:16.990Z"
   },
   {
    "duration": 32,
    "start_time": "2022-04-15T10:59:26.919Z"
   },
   {
    "duration": 13,
    "start_time": "2022-04-15T11:00:14.931Z"
   },
   {
    "duration": 10,
    "start_time": "2022-04-15T11:00:22.024Z"
   },
   {
    "duration": 42,
    "start_time": "2022-04-15T11:00:25.408Z"
   },
   {
    "duration": 29,
    "start_time": "2022-04-15T11:00:46.767Z"
   },
   {
    "duration": 42,
    "start_time": "2022-04-15T11:02:26.936Z"
   },
   {
    "duration": 23,
    "start_time": "2022-04-15T11:03:03.929Z"
   },
   {
    "duration": 70,
    "start_time": "2022-04-15T11:03:05.860Z"
   },
   {
    "duration": 6991,
    "start_time": "2022-04-15T11:03:54.340Z"
   },
   {
    "duration": 184,
    "start_time": "2022-04-15T11:04:01.335Z"
   },
   {
    "duration": 146,
    "start_time": "2022-04-15T11:04:01.528Z"
   },
   {
    "duration": 424,
    "start_time": "2022-04-15T11:04:01.677Z"
   },
   {
    "duration": 69,
    "start_time": "2022-04-15T11:04:02.104Z"
   },
   {
    "duration": 77,
    "start_time": "2022-04-15T11:04:02.176Z"
   },
   {
    "duration": 64,
    "start_time": "2022-04-15T11:04:02.258Z"
   },
   {
    "duration": 100,
    "start_time": "2022-04-15T11:04:02.328Z"
   },
   {
    "duration": 73,
    "start_time": "2022-04-15T11:04:02.431Z"
   },
   {
    "duration": 40,
    "start_time": "2022-04-15T11:04:02.508Z"
   },
   {
    "duration": 17,
    "start_time": "2022-04-15T11:04:02.551Z"
   },
   {
    "duration": 16,
    "start_time": "2022-04-15T11:04:02.570Z"
   },
   {
    "duration": 10,
    "start_time": "2022-04-15T11:04:02.589Z"
   },
   {
    "duration": 14,
    "start_time": "2022-04-15T11:04:02.602Z"
   },
   {
    "duration": 43,
    "start_time": "2022-04-15T11:04:02.619Z"
   },
   {
    "duration": 13,
    "start_time": "2022-04-15T11:04:02.664Z"
   },
   {
    "duration": 20,
    "start_time": "2022-04-15T11:04:02.680Z"
   },
   {
    "duration": 104,
    "start_time": "2022-04-15T11:04:02.703Z"
   },
   {
    "duration": 862,
    "start_time": "2022-04-15T11:04:02.809Z"
   },
   {
    "duration": 176,
    "start_time": "2022-04-15T11:04:03.674Z"
   },
   {
    "duration": 99,
    "start_time": "2022-04-15T11:04:03.852Z"
   },
   {
    "duration": 93,
    "start_time": "2022-04-15T11:04:03.953Z"
   },
   {
    "duration": 84,
    "start_time": "2022-04-15T11:04:04.049Z"
   },
   {
    "duration": 9,
    "start_time": "2022-04-15T11:04:04.135Z"
   },
   {
    "duration": 175,
    "start_time": "2022-04-15T11:04:04.148Z"
   },
   {
    "duration": 128,
    "start_time": "2022-04-15T11:04:04.326Z"
   },
   {
    "duration": 108,
    "start_time": "2022-04-15T11:04:04.457Z"
   },
   {
    "duration": 119,
    "start_time": "2022-04-15T11:04:04.569Z"
   },
   {
    "duration": 87,
    "start_time": "2022-04-15T11:04:04.691Z"
   },
   {
    "duration": 94,
    "start_time": "2022-04-15T11:04:04.781Z"
   },
   {
    "duration": 3,
    "start_time": "2022-04-15T11:04:04.877Z"
   },
   {
    "duration": 7,
    "start_time": "2022-04-15T11:04:04.883Z"
   },
   {
    "duration": 32,
    "start_time": "2022-04-15T11:04:04.893Z"
   },
   {
    "duration": 16,
    "start_time": "2022-04-15T11:04:06.020Z"
   },
   {
    "duration": 162,
    "start_time": "2022-04-15T11:04:06.647Z"
   },
   {
    "duration": 5,
    "start_time": "2022-04-15T11:04:07.968Z"
   },
   {
    "duration": 128,
    "start_time": "2022-04-15T11:04:11.508Z"
   },
   {
    "duration": 4,
    "start_time": "2022-04-15T11:04:12.130Z"
   },
   {
    "duration": 5800,
    "start_time": "2022-04-15T11:04:12.368Z"
   },
   {
    "duration": 25,
    "start_time": "2022-04-15T11:04:18.171Z"
   },
   {
    "duration": 35,
    "start_time": "2022-04-15T11:04:18.199Z"
   },
   {
    "duration": 24,
    "start_time": "2022-04-15T11:04:18.237Z"
   },
   {
    "duration": 4,
    "start_time": "2022-04-15T11:04:24.381Z"
   },
   {
    "duration": 34,
    "start_time": "2022-04-15T11:04:24.631Z"
   },
   {
    "duration": 58949,
    "start_time": "2022-04-15T11:04:28.203Z"
   },
   {
    "duration": 86,
    "start_time": "2022-04-15T11:05:27.155Z"
   },
   {
    "duration": 23,
    "start_time": "2022-04-15T11:12:14.600Z"
   },
   {
    "duration": 73,
    "start_time": "2022-04-15T11:12:20.158Z"
   },
   {
    "duration": 5,
    "start_time": "2022-04-15T11:14:54.379Z"
   },
   {
    "duration": 142,
    "start_time": "2022-04-15T11:18:25.319Z"
   },
   {
    "duration": 80,
    "start_time": "2022-04-15T11:18:50.199Z"
   },
   {
    "duration": 2042,
    "start_time": "2022-04-15T11:18:53.259Z"
   },
   {
    "duration": 8241,
    "start_time": "2022-04-15T11:18:55.303Z"
   },
   {
    "duration": 200,
    "start_time": "2022-04-15T11:19:03.547Z"
   },
   {
    "duration": 154,
    "start_time": "2022-04-15T11:19:03.750Z"
   },
   {
    "duration": 906,
    "start_time": "2022-04-15T11:19:03.906Z"
   },
   {
    "duration": 58,
    "start_time": "2022-04-15T11:19:04.815Z"
   },
   {
    "duration": 86,
    "start_time": "2022-04-15T11:19:04.876Z"
   },
   {
    "duration": 83,
    "start_time": "2022-04-15T11:19:04.965Z"
   },
   {
    "duration": 87,
    "start_time": "2022-04-15T11:19:05.050Z"
   },
   {
    "duration": 62,
    "start_time": "2022-04-15T11:19:05.142Z"
   },
   {
    "duration": 30,
    "start_time": "2022-04-15T11:19:05.206Z"
   },
   {
    "duration": 6,
    "start_time": "2022-04-15T11:19:05.239Z"
   },
   {
    "duration": 9,
    "start_time": "2022-04-15T11:19:05.248Z"
   },
   {
    "duration": 13,
    "start_time": "2022-04-15T11:19:05.259Z"
   },
   {
    "duration": 20,
    "start_time": "2022-04-15T11:19:05.275Z"
   },
   {
    "duration": 40,
    "start_time": "2022-04-15T11:19:05.298Z"
   },
   {
    "duration": 8,
    "start_time": "2022-04-15T11:19:05.341Z"
   },
   {
    "duration": 9,
    "start_time": "2022-04-15T11:19:05.351Z"
   },
   {
    "duration": 140,
    "start_time": "2022-04-15T11:19:05.363Z"
   },
   {
    "duration": 907,
    "start_time": "2022-04-15T11:19:05.505Z"
   },
   {
    "duration": 198,
    "start_time": "2022-04-15T11:19:06.415Z"
   },
   {
    "duration": 117,
    "start_time": "2022-04-15T11:19:06.615Z"
   },
   {
    "duration": 128,
    "start_time": "2022-04-15T11:19:06.735Z"
   },
   {
    "duration": 118,
    "start_time": "2022-04-15T11:19:06.866Z"
   },
   {
    "duration": 3,
    "start_time": "2022-04-15T11:19:06.988Z"
   },
   {
    "duration": 247,
    "start_time": "2022-04-15T11:19:06.994Z"
   },
   {
    "duration": 155,
    "start_time": "2022-04-15T11:19:07.244Z"
   },
   {
    "duration": 158,
    "start_time": "2022-04-15T11:19:07.406Z"
   },
   {
    "duration": 129,
    "start_time": "2022-04-15T11:19:07.567Z"
   },
   {
    "duration": 154,
    "start_time": "2022-04-15T11:19:07.699Z"
   },
   {
    "duration": 110,
    "start_time": "2022-04-15T11:19:07.855Z"
   },
   {
    "duration": 3,
    "start_time": "2022-04-15T11:19:07.968Z"
   },
   {
    "duration": 7,
    "start_time": "2022-04-15T11:19:07.974Z"
   },
   {
    "duration": 10,
    "start_time": "2022-04-15T11:19:07.984Z"
   },
   {
    "duration": 36,
    "start_time": "2022-04-15T11:19:07.996Z"
   },
   {
    "duration": 151,
    "start_time": "2022-04-15T11:19:08.039Z"
   },
   {
    "duration": 6,
    "start_time": "2022-04-15T11:19:09.188Z"
   },
   {
    "duration": 131,
    "start_time": "2022-04-15T11:19:09.951Z"
   },
   {
    "duration": 4,
    "start_time": "2022-04-15T11:19:15.878Z"
   },
   {
    "duration": 5149,
    "start_time": "2022-04-15T11:19:16.198Z"
   },
   {
    "duration": 25,
    "start_time": "2022-04-15T11:19:21.350Z"
   },
   {
    "duration": 8,
    "start_time": "2022-04-15T11:19:21.377Z"
   },
   {
    "duration": 45,
    "start_time": "2022-04-15T11:19:21.387Z"
   },
   {
    "duration": 155,
    "start_time": "2022-04-15T11:19:28.659Z"
   },
   {
    "duration": 26,
    "start_time": "2022-04-15T11:19:31.440Z"
   },
   {
    "duration": 59079,
    "start_time": "2022-04-15T11:19:35.166Z"
   },
   {
    "duration": 5,
    "start_time": "2022-04-15T11:21:40.279Z"
   },
   {
    "duration": 19,
    "start_time": "2022-04-15T11:21:45.819Z"
   },
   {
    "duration": 6,
    "start_time": "2022-04-15T11:21:46.400Z"
   },
   {
    "duration": 62,
    "start_time": "2022-04-15T11:21:57.519Z"
   },
   {
    "duration": 8,
    "start_time": "2022-04-15T11:22:29.819Z"
   },
   {
    "duration": 49,
    "start_time": "2022-04-15T11:22:57.200Z"
   },
   {
    "duration": 5839,
    "start_time": "2022-04-15T11:24:24.866Z"
   },
   {
    "duration": 39,
    "start_time": "2022-04-15T11:24:30.708Z"
   },
   {
    "duration": 32,
    "start_time": "2022-04-15T11:24:30.749Z"
   },
   {
    "duration": 25,
    "start_time": "2022-04-15T11:24:30.784Z"
   },
   {
    "duration": 41,
    "start_time": "2022-04-15T11:24:30.811Z"
   },
   {
    "duration": 61,
    "start_time": "2022-04-15T11:24:30.855Z"
   },
   {
    "duration": 61626,
    "start_time": "2022-04-15T11:24:31.118Z"
   },
   {
    "duration": 83,
    "start_time": "2022-04-15T11:25:32.750Z"
   },
   {
    "duration": 123,
    "start_time": "2022-04-15T11:25:32.839Z"
   },
   {
    "duration": 12,
    "start_time": "2022-04-15T11:25:32.966Z"
   },
   {
    "duration": 102,
    "start_time": "2022-04-15T11:25:32.981Z"
   },
   {
    "duration": 21,
    "start_time": "2022-04-15T11:27:51.418Z"
   },
   {
    "duration": 101,
    "start_time": "2022-04-15T11:34:31.298Z"
   },
   {
    "duration": 41,
    "start_time": "2022-04-15T11:35:01.186Z"
   },
   {
    "duration": 1712,
    "start_time": "2022-04-15T11:35:23.472Z"
   },
   {
    "duration": 7981,
    "start_time": "2022-04-15T11:35:27.198Z"
   },
   {
    "duration": 192,
    "start_time": "2022-04-15T11:35:35.182Z"
   },
   {
    "duration": 149,
    "start_time": "2022-04-15T11:35:35.376Z"
   },
   {
    "duration": 972,
    "start_time": "2022-04-15T11:35:35.528Z"
   },
   {
    "duration": 50,
    "start_time": "2022-04-15T11:35:36.502Z"
   },
   {
    "duration": 65,
    "start_time": "2022-04-15T11:35:36.554Z"
   },
   {
    "duration": 57,
    "start_time": "2022-04-15T11:35:36.621Z"
   },
   {
    "duration": 51,
    "start_time": "2022-04-15T11:35:36.680Z"
   },
   {
    "duration": 52,
    "start_time": "2022-04-15T11:35:36.733Z"
   },
   {
    "duration": 41,
    "start_time": "2022-04-15T11:35:36.789Z"
   },
   {
    "duration": 8,
    "start_time": "2022-04-15T11:35:36.832Z"
   },
   {
    "duration": 34,
    "start_time": "2022-04-15T11:35:36.842Z"
   },
   {
    "duration": 19,
    "start_time": "2022-04-15T11:35:36.878Z"
   },
   {
    "duration": 44,
    "start_time": "2022-04-15T11:35:36.900Z"
   },
   {
    "duration": 58,
    "start_time": "2022-04-15T11:35:36.946Z"
   },
   {
    "duration": 19,
    "start_time": "2022-04-15T11:35:37.006Z"
   },
   {
    "duration": 34,
    "start_time": "2022-04-15T11:35:37.027Z"
   },
   {
    "duration": 134,
    "start_time": "2022-04-15T11:35:37.063Z"
   },
   {
    "duration": 777,
    "start_time": "2022-04-15T11:35:37.199Z"
   },
   {
    "duration": 150,
    "start_time": "2022-04-15T11:35:37.978Z"
   },
   {
    "duration": 102,
    "start_time": "2022-04-15T11:35:38.130Z"
   },
   {
    "duration": 89,
    "start_time": "2022-04-15T11:35:38.235Z"
   },
   {
    "duration": 65,
    "start_time": "2022-04-15T11:35:38.327Z"
   },
   {
    "duration": 4,
    "start_time": "2022-04-15T11:35:38.394Z"
   },
   {
    "duration": 151,
    "start_time": "2022-04-15T11:35:38.424Z"
   },
   {
    "duration": 118,
    "start_time": "2022-04-15T11:35:38.578Z"
   },
   {
    "duration": 106,
    "start_time": "2022-04-15T11:35:38.699Z"
   },
   {
    "duration": 115,
    "start_time": "2022-04-15T11:35:38.810Z"
   },
   {
    "duration": 97,
    "start_time": "2022-04-15T11:35:38.928Z"
   },
   {
    "duration": 70,
    "start_time": "2022-04-15T11:35:39.027Z"
   },
   {
    "duration": 4,
    "start_time": "2022-04-15T11:35:39.099Z"
   },
   {
    "duration": 28,
    "start_time": "2022-04-15T11:35:39.125Z"
   },
   {
    "duration": 22,
    "start_time": "2022-04-15T11:35:39.155Z"
   },
   {
    "duration": 18,
    "start_time": "2022-04-15T11:35:39.179Z"
   },
   {
    "duration": 146,
    "start_time": "2022-04-15T11:35:39.199Z"
   },
   {
    "duration": 4,
    "start_time": "2022-04-15T11:35:39.347Z"
   },
   {
    "duration": 136,
    "start_time": "2022-04-15T11:35:39.353Z"
   },
   {
    "duration": 4,
    "start_time": "2022-04-15T11:35:39.491Z"
   },
   {
    "duration": 4904,
    "start_time": "2022-04-15T11:35:39.497Z"
   },
   {
    "duration": 29,
    "start_time": "2022-04-15T11:35:44.404Z"
   },
   {
    "duration": 8,
    "start_time": "2022-04-15T11:35:44.435Z"
   },
   {
    "duration": 8,
    "start_time": "2022-04-15T11:35:44.445Z"
   },
   {
    "duration": 6,
    "start_time": "2022-04-15T11:35:44.455Z"
   },
   {
    "duration": 64,
    "start_time": "2022-04-15T11:35:44.463Z"
   },
   {
    "duration": 31395,
    "start_time": "2022-04-15T11:35:44.529Z"
   },
   {
    "duration": 96,
    "start_time": "2022-04-15T11:36:15.929Z"
   },
   {
    "duration": 24,
    "start_time": "2022-04-15T11:36:16.028Z"
   },
   {
    "duration": 6,
    "start_time": "2022-04-15T11:36:16.055Z"
   },
   {
    "duration": 21,
    "start_time": "2022-04-15T11:36:16.063Z"
   },
   {
    "duration": 88898,
    "start_time": "2022-04-15T11:36:16.127Z"
   },
   {
    "duration": 47,
    "start_time": "2022-04-15T14:30:06.909Z"
   },
   {
    "duration": 6,
    "start_time": "2022-04-15T14:30:58.721Z"
   },
   {
    "duration": 434,
    "start_time": "2022-04-15T14:31:14.437Z"
   },
   {
    "duration": 683,
    "start_time": "2022-04-15T14:31:19.828Z"
   },
   {
    "duration": 762,
    "start_time": "2022-04-15T14:31:23.345Z"
   },
   {
    "duration": 128,
    "start_time": "2022-04-15T14:31:24.108Z"
   },
   {
    "duration": 96,
    "start_time": "2022-04-15T14:31:24.237Z"
   },
   {
    "duration": 697,
    "start_time": "2022-04-15T14:31:24.335Z"
   },
   {
    "duration": 39,
    "start_time": "2022-04-15T14:31:25.034Z"
   },
   {
    "duration": 31,
    "start_time": "2022-04-15T14:31:25.075Z"
   },
   {
    "duration": 45,
    "start_time": "2022-04-15T14:31:25.108Z"
   },
   {
    "duration": 30,
    "start_time": "2022-04-15T14:31:25.155Z"
   },
   {
    "duration": 34,
    "start_time": "2022-04-15T14:31:25.187Z"
   },
   {
    "duration": 25,
    "start_time": "2022-04-15T14:31:25.223Z"
   },
   {
    "duration": 2,
    "start_time": "2022-04-15T14:31:25.267Z"
   },
   {
    "duration": 2,
    "start_time": "2022-04-15T14:31:25.481Z"
   },
   {
    "duration": 3,
    "start_time": "2022-04-15T14:31:25.841Z"
   },
   {
    "duration": 2,
    "start_time": "2022-04-15T14:31:26.061Z"
   },
   {
    "duration": 7,
    "start_time": "2022-04-15T14:31:26.261Z"
   },
   {
    "duration": 4,
    "start_time": "2022-04-15T14:31:26.961Z"
   },
   {
    "duration": 3,
    "start_time": "2022-04-15T14:31:27.161Z"
   },
   {
    "duration": 79,
    "start_time": "2022-04-15T14:31:27.361Z"
   },
   {
    "duration": 497,
    "start_time": "2022-04-15T14:31:27.568Z"
   },
   {
    "duration": 106,
    "start_time": "2022-04-15T14:31:28.066Z"
   },
   {
    "duration": 56,
    "start_time": "2022-04-15T14:31:28.174Z"
   },
   {
    "duration": 36,
    "start_time": "2022-04-15T14:31:28.389Z"
   },
   {
    "duration": 36,
    "start_time": "2022-04-15T14:31:28.621Z"
   },
   {
    "duration": 2,
    "start_time": "2022-04-15T14:31:29.181Z"
   },
   {
    "duration": 89,
    "start_time": "2022-04-15T14:31:29.185Z"
   },
   {
    "duration": 64,
    "start_time": "2022-04-15T14:31:29.602Z"
   },
   {
    "duration": 70,
    "start_time": "2022-04-15T14:31:29.908Z"
   },
   {
    "duration": 63,
    "start_time": "2022-04-15T14:31:30.589Z"
   },
   {
    "duration": 59,
    "start_time": "2022-04-15T14:31:30.653Z"
   },
   {
    "duration": 54,
    "start_time": "2022-04-15T14:31:30.921Z"
   },
   {
    "duration": 3,
    "start_time": "2022-04-15T14:31:31.245Z"
   },
   {
    "duration": 2,
    "start_time": "2022-04-15T14:31:31.521Z"
   },
   {
    "duration": 3,
    "start_time": "2022-04-15T14:31:31.868Z"
   },
   {
    "duration": 5,
    "start_time": "2022-04-15T14:31:33.340Z"
   },
   {
    "duration": 83,
    "start_time": "2022-04-15T14:31:33.681Z"
   },
   {
    "duration": 2,
    "start_time": "2022-04-15T14:31:34.201Z"
   },
   {
    "duration": 88,
    "start_time": "2022-04-15T14:31:34.672Z"
   },
   {
    "duration": 2,
    "start_time": "2022-04-15T14:31:35.041Z"
   },
   {
    "duration": 4599,
    "start_time": "2022-04-15T14:31:35.340Z"
   },
   {
    "duration": 17,
    "start_time": "2022-04-15T14:31:39.941Z"
   },
   {
    "duration": 4,
    "start_time": "2022-04-15T14:31:39.959Z"
   },
   {
    "duration": 6,
    "start_time": "2022-04-15T14:31:39.964Z"
   },
   {
    "duration": 3,
    "start_time": "2022-04-15T14:31:39.971Z"
   },
   {
    "duration": 15,
    "start_time": "2022-04-15T14:31:39.976Z"
   },
   {
    "duration": 109,
    "start_time": "2022-04-15T14:31:39.992Z"
   },
   {
    "duration": 0,
    "start_time": "2022-04-15T14:31:40.102Z"
   },
   {
    "duration": 64,
    "start_time": "2022-04-15T14:31:46.361Z"
   },
   {
    "duration": 9,
    "start_time": "2022-04-15T14:33:12.145Z"
   },
   {
    "duration": 3,
    "start_time": "2022-04-15T14:33:22.737Z"
   },
   {
    "duration": 9,
    "start_time": "2022-04-15T14:33:35.018Z"
   },
   {
    "duration": 9,
    "start_time": "2022-04-15T14:39:38.431Z"
   },
   {
    "duration": 3,
    "start_time": "2022-04-15T14:39:48.432Z"
   },
   {
    "duration": 2,
    "start_time": "2022-04-15T14:40:23.252Z"
   },
   {
    "duration": 19754,
    "start_time": "2022-04-15T14:43:10.799Z"
   },
   {
    "duration": 4,
    "start_time": "2022-04-15T14:44:17.143Z"
   },
   {
    "duration": 16,
    "start_time": "2022-04-15T14:44:26.192Z"
   },
   {
    "duration": 3,
    "start_time": "2022-04-15T14:46:09.119Z"
   },
   {
    "duration": 22,
    "start_time": "2022-04-15T14:46:12.972Z"
   },
   {
    "duration": 12,
    "start_time": "2022-04-15T14:49:52.108Z"
   },
   {
    "duration": 14,
    "start_time": "2022-04-15T14:52:19.392Z"
   },
   {
    "duration": 8,
    "start_time": "2022-04-15T14:52:41.201Z"
   },
   {
    "duration": 4,
    "start_time": "2022-04-15T14:53:01.993Z"
   },
   {
    "duration": 112739,
    "start_time": "2022-04-15T14:54:04.513Z"
   },
   {
    "duration": 4,
    "start_time": "2022-04-15T14:57:28.173Z"
   },
   {
    "duration": 2,
    "start_time": "2022-04-15T15:03:25.713Z"
   },
   {
    "duration": 9,
    "start_time": "2022-04-15T15:08:20.154Z"
   },
   {
    "duration": 2,
    "start_time": "2022-04-15T15:08:52.414Z"
   },
   {
    "duration": 14,
    "start_time": "2022-04-15T15:08:55.502Z"
   },
   {
    "duration": 9,
    "start_time": "2022-04-15T15:09:18.594Z"
   },
   {
    "duration": 80825,
    "start_time": "2022-04-15T15:12:58.524Z"
   },
   {
    "duration": 4,
    "start_time": "2022-04-15T15:15:07.899Z"
   },
   {
    "duration": 4,
    "start_time": "2022-04-15T15:23:55.477Z"
   },
   {
    "duration": 9,
    "start_time": "2022-04-15T15:25:02.760Z"
   },
   {
    "duration": 4,
    "start_time": "2022-04-15T15:25:08.659Z"
   },
   {
    "duration": 3,
    "start_time": "2022-04-15T15:31:36.964Z"
   },
   {
    "duration": 9,
    "start_time": "2022-04-15T15:31:37.784Z"
   },
   {
    "duration": 3,
    "start_time": "2022-04-15T15:31:47.704Z"
   },
   {
    "duration": 2,
    "start_time": "2022-04-15T15:31:48.224Z"
   },
   {
    "duration": 9,
    "start_time": "2022-04-15T15:31:48.684Z"
   },
   {
    "duration": 4,
    "start_time": "2022-04-15T15:32:34.724Z"
   },
   {
    "duration": 4,
    "start_time": "2022-04-15T15:32:37.492Z"
   },
   {
    "duration": 2728,
    "start_time": "2022-04-15T15:33:10.029Z"
   },
   {
    "duration": 1437,
    "start_time": "2022-04-15T15:33:12.759Z"
   },
   {
    "duration": 240,
    "start_time": "2022-04-15T15:33:14.198Z"
   },
   {
    "duration": 135,
    "start_time": "2022-04-15T15:33:14.439Z"
   },
   {
    "duration": 872,
    "start_time": "2022-04-15T15:33:14.577Z"
   },
   {
    "duration": 50,
    "start_time": "2022-04-15T15:33:15.451Z"
   },
   {
    "duration": 67,
    "start_time": "2022-04-15T15:33:15.504Z"
   },
   {
    "duration": 32,
    "start_time": "2022-04-15T15:33:15.574Z"
   },
   {
    "duration": 46,
    "start_time": "2022-04-15T15:33:15.608Z"
   },
   {
    "duration": 35,
    "start_time": "2022-04-15T15:33:15.655Z"
   },
   {
    "duration": 9,
    "start_time": "2022-04-15T15:33:15.691Z"
   },
   {
    "duration": 2,
    "start_time": "2022-04-15T15:33:15.702Z"
   },
   {
    "duration": 8,
    "start_time": "2022-04-15T15:33:15.706Z"
   },
   {
    "duration": 30,
    "start_time": "2022-04-15T15:33:15.717Z"
   },
   {
    "duration": 5,
    "start_time": "2022-04-15T15:33:15.749Z"
   },
   {
    "duration": 10,
    "start_time": "2022-04-15T15:33:15.756Z"
   },
   {
    "duration": 4,
    "start_time": "2022-04-15T15:33:15.768Z"
   },
   {
    "duration": 4,
    "start_time": "2022-04-15T15:33:15.773Z"
   },
   {
    "duration": 89,
    "start_time": "2022-04-15T15:33:15.778Z"
   },
   {
    "duration": 554,
    "start_time": "2022-04-15T15:33:15.868Z"
   },
   {
    "duration": 101,
    "start_time": "2022-04-15T15:33:16.424Z"
   },
   {
    "duration": 67,
    "start_time": "2022-04-15T15:33:16.526Z"
   },
   {
    "duration": 57,
    "start_time": "2022-04-15T15:33:16.595Z"
   },
   {
    "duration": 47,
    "start_time": "2022-04-15T15:33:16.655Z"
   },
   {
    "duration": 3,
    "start_time": "2022-04-15T15:33:16.703Z"
   },
   {
    "duration": 105,
    "start_time": "2022-04-15T15:33:16.707Z"
   },
   {
    "duration": 75,
    "start_time": "2022-04-15T15:33:16.813Z"
   },
   {
    "duration": 80,
    "start_time": "2022-04-15T15:33:16.890Z"
   },
   {
    "duration": 65,
    "start_time": "2022-04-15T15:33:16.972Z"
   },
   {
    "duration": 66,
    "start_time": "2022-04-15T15:33:17.038Z"
   },
   {
    "duration": 74,
    "start_time": "2022-04-15T15:33:17.107Z"
   },
   {
    "duration": 3,
    "start_time": "2022-04-15T15:33:17.183Z"
   },
   {
    "duration": 4,
    "start_time": "2022-04-15T15:33:17.188Z"
   },
   {
    "duration": 4,
    "start_time": "2022-04-15T15:33:17.194Z"
   },
   {
    "duration": 7,
    "start_time": "2022-04-15T15:33:22.609Z"
   },
   {
    "duration": 91,
    "start_time": "2022-04-15T15:33:22.864Z"
   },
   {
    "duration": 3,
    "start_time": "2022-04-15T15:33:23.552Z"
   },
   {
    "duration": 84,
    "start_time": "2022-04-15T15:33:24.498Z"
   },
   {
    "duration": 3,
    "start_time": "2022-04-15T15:33:24.759Z"
   },
   {
    "duration": 4942,
    "start_time": "2022-04-15T15:33:25.096Z"
   },
   {
    "duration": 19,
    "start_time": "2022-04-15T15:33:30.041Z"
   },
   {
    "duration": 12,
    "start_time": "2022-04-15T15:33:30.061Z"
   },
   {
    "duration": 9,
    "start_time": "2022-04-15T15:33:30.075Z"
   },
   {
    "duration": 11,
    "start_time": "2022-04-15T15:33:30.086Z"
   },
   {
    "duration": 20,
    "start_time": "2022-04-15T15:33:30.099Z"
   },
   {
    "duration": 4,
    "start_time": "2022-04-15T15:33:31.926Z"
   },
   {
    "duration": 6,
    "start_time": "2022-04-15T15:34:15.046Z"
   },
   {
    "duration": 3,
    "start_time": "2022-04-15T15:34:22.814Z"
   },
   {
    "duration": 4,
    "start_time": "2022-04-15T15:34:24.385Z"
   },
   {
    "duration": 3,
    "start_time": "2022-04-15T15:34:25.732Z"
   },
   {
    "duration": 1139,
    "start_time": "2022-04-15T15:35:13.586Z"
   },
   {
    "duration": 843,
    "start_time": "2022-04-15T15:35:14.727Z"
   },
   {
    "duration": 137,
    "start_time": "2022-04-15T15:35:15.572Z"
   },
   {
    "duration": 105,
    "start_time": "2022-04-15T15:35:15.711Z"
   },
   {
    "duration": 549,
    "start_time": "2022-04-15T15:35:15.817Z"
   },
   {
    "duration": 30,
    "start_time": "2022-04-15T15:35:16.368Z"
   },
   {
    "duration": 48,
    "start_time": "2022-04-15T15:35:16.400Z"
   },
   {
    "duration": 32,
    "start_time": "2022-04-15T15:35:16.450Z"
   },
   {
    "duration": 32,
    "start_time": "2022-04-15T15:35:16.483Z"
   },
   {
    "duration": 51,
    "start_time": "2022-04-15T15:35:16.517Z"
   },
   {
    "duration": 11,
    "start_time": "2022-04-15T15:35:16.569Z"
   },
   {
    "duration": 2,
    "start_time": "2022-04-15T15:35:16.581Z"
   },
   {
    "duration": 4,
    "start_time": "2022-04-15T15:35:16.585Z"
   },
   {
    "duration": 3,
    "start_time": "2022-04-15T15:35:16.596Z"
   },
   {
    "duration": 3,
    "start_time": "2022-04-15T15:35:16.812Z"
   },
   {
    "duration": 8,
    "start_time": "2022-04-15T15:35:17.004Z"
   },
   {
    "duration": 4,
    "start_time": "2022-04-15T15:35:17.397Z"
   },
   {
    "duration": 3,
    "start_time": "2022-04-15T15:35:17.612Z"
   },
   {
    "duration": 63,
    "start_time": "2022-04-15T15:35:17.804Z"
   },
   {
    "duration": 490,
    "start_time": "2022-04-15T15:35:18.012Z"
   },
   {
    "duration": 98,
    "start_time": "2022-04-15T15:35:18.504Z"
   },
   {
    "duration": 67,
    "start_time": "2022-04-15T15:35:18.604Z"
   },
   {
    "duration": 37,
    "start_time": "2022-04-15T15:35:18.804Z"
   },
   {
    "duration": 36,
    "start_time": "2022-04-15T15:35:19.004Z"
   },
   {
    "duration": 3,
    "start_time": "2022-04-15T15:35:19.219Z"
   },
   {
    "duration": 87,
    "start_time": "2022-04-15T15:35:19.464Z"
   },
   {
    "duration": 68,
    "start_time": "2022-04-15T15:35:19.664Z"
   },
   {
    "duration": 68,
    "start_time": "2022-04-15T15:35:20.046Z"
   },
   {
    "duration": 78,
    "start_time": "2022-04-15T15:35:20.326Z"
   },
   {
    "duration": 99,
    "start_time": "2022-04-15T15:35:20.878Z"
   },
   {
    "duration": 76,
    "start_time": "2022-04-15T15:35:21.184Z"
   },
   {
    "duration": 2,
    "start_time": "2022-04-15T15:35:21.744Z"
   },
   {
    "duration": 3,
    "start_time": "2022-04-15T15:35:22.224Z"
   },
   {
    "duration": 3,
    "start_time": "2022-04-15T15:35:22.444Z"
   },
   {
    "duration": 6,
    "start_time": "2022-04-15T15:35:23.266Z"
   },
   {
    "duration": 120,
    "start_time": "2022-04-15T15:35:23.466Z"
   },
   {
    "duration": 4,
    "start_time": "2022-04-15T15:35:24.498Z"
   },
   {
    "duration": 117,
    "start_time": "2022-04-15T15:35:24.965Z"
   },
   {
    "duration": 3,
    "start_time": "2022-04-15T15:35:25.284Z"
   },
   {
    "duration": 4544,
    "start_time": "2022-04-15T15:35:25.744Z"
   },
   {
    "duration": 13,
    "start_time": "2022-04-15T15:35:30.290Z"
   },
   {
    "duration": 15,
    "start_time": "2022-04-15T15:35:30.305Z"
   },
   {
    "duration": 19,
    "start_time": "2022-04-15T15:35:30.322Z"
   },
   {
    "duration": 398,
    "start_time": "2022-04-15T15:36:17.706Z"
   },
   {
    "duration": 1488,
    "start_time": "2022-04-18T10:51:49.065Z"
   },
   {
    "duration": 166,
    "start_time": "2022-04-18T10:51:50.554Z"
   },
   {
    "duration": 0,
    "start_time": "2022-04-18T10:51:50.723Z"
   },
   {
    "duration": 0,
    "start_time": "2022-04-18T10:51:50.724Z"
   },
   {
    "duration": 0,
    "start_time": "2022-04-18T10:51:50.725Z"
   },
   {
    "duration": 0,
    "start_time": "2022-04-18T10:51:50.726Z"
   },
   {
    "duration": 0,
    "start_time": "2022-04-18T10:51:50.727Z"
   },
   {
    "duration": 0,
    "start_time": "2022-04-18T10:51:50.728Z"
   },
   {
    "duration": 0,
    "start_time": "2022-04-18T10:51:50.729Z"
   },
   {
    "duration": 0,
    "start_time": "2022-04-18T10:51:50.730Z"
   },
   {
    "duration": 0,
    "start_time": "2022-04-18T10:51:50.731Z"
   },
   {
    "duration": 0,
    "start_time": "2022-04-18T10:51:50.732Z"
   },
   {
    "duration": 0,
    "start_time": "2022-04-18T10:51:50.733Z"
   },
   {
    "duration": 0,
    "start_time": "2022-04-18T10:51:50.734Z"
   },
   {
    "duration": 0,
    "start_time": "2022-04-18T10:51:50.735Z"
   },
   {
    "duration": 0,
    "start_time": "2022-04-18T10:51:50.736Z"
   },
   {
    "duration": 0,
    "start_time": "2022-04-18T10:51:50.737Z"
   },
   {
    "duration": 0,
    "start_time": "2022-04-18T10:51:50.738Z"
   },
   {
    "duration": 0,
    "start_time": "2022-04-18T10:51:50.739Z"
   },
   {
    "duration": 0,
    "start_time": "2022-04-18T10:51:50.740Z"
   },
   {
    "duration": 0,
    "start_time": "2022-04-18T10:51:50.741Z"
   },
   {
    "duration": 0,
    "start_time": "2022-04-18T10:51:50.742Z"
   },
   {
    "duration": 0,
    "start_time": "2022-04-18T10:51:50.743Z"
   },
   {
    "duration": 0,
    "start_time": "2022-04-18T10:51:50.779Z"
   },
   {
    "duration": 0,
    "start_time": "2022-04-18T10:51:50.781Z"
   },
   {
    "duration": 0,
    "start_time": "2022-04-18T10:51:50.782Z"
   },
   {
    "duration": 0,
    "start_time": "2022-04-18T10:51:50.782Z"
   },
   {
    "duration": 0,
    "start_time": "2022-04-18T10:51:50.788Z"
   },
   {
    "duration": 0,
    "start_time": "2022-04-18T10:51:50.790Z"
   },
   {
    "duration": 0,
    "start_time": "2022-04-18T10:51:50.791Z"
   },
   {
    "duration": 0,
    "start_time": "2022-04-18T10:51:50.792Z"
   },
   {
    "duration": 0,
    "start_time": "2022-04-18T10:51:50.793Z"
   },
   {
    "duration": 0,
    "start_time": "2022-04-18T10:51:50.794Z"
   },
   {
    "duration": 0,
    "start_time": "2022-04-18T10:51:50.794Z"
   },
   {
    "duration": 0,
    "start_time": "2022-04-18T10:51:50.795Z"
   },
   {
    "duration": 0,
    "start_time": "2022-04-18T10:51:50.796Z"
   },
   {
    "duration": 0,
    "start_time": "2022-04-18T10:51:50.797Z"
   },
   {
    "duration": 0,
    "start_time": "2022-04-18T10:51:50.798Z"
   },
   {
    "duration": 0,
    "start_time": "2022-04-18T10:51:50.799Z"
   },
   {
    "duration": 0,
    "start_time": "2022-04-18T10:51:50.800Z"
   },
   {
    "duration": 0,
    "start_time": "2022-04-18T10:51:50.801Z"
   },
   {
    "duration": 0,
    "start_time": "2022-04-18T10:51:50.802Z"
   },
   {
    "duration": 1,
    "start_time": "2022-04-18T10:51:50.802Z"
   },
   {
    "duration": 0,
    "start_time": "2022-04-18T10:51:50.803Z"
   },
   {
    "duration": 0,
    "start_time": "2022-04-18T10:51:50.804Z"
   },
   {
    "duration": 0,
    "start_time": "2022-04-18T10:51:50.805Z"
   },
   {
    "duration": 0,
    "start_time": "2022-04-18T10:51:50.806Z"
   },
   {
    "duration": 0,
    "start_time": "2022-04-18T10:51:50.807Z"
   },
   {
    "duration": 0,
    "start_time": "2022-04-18T10:51:50.808Z"
   },
   {
    "duration": 0,
    "start_time": "2022-04-18T10:51:50.809Z"
   },
   {
    "duration": 0,
    "start_time": "2022-04-18T10:51:50.810Z"
   },
   {
    "duration": 0,
    "start_time": "2022-04-18T10:51:50.811Z"
   },
   {
    "duration": 0,
    "start_time": "2022-04-18T10:51:50.812Z"
   },
   {
    "duration": 0,
    "start_time": "2022-04-18T10:51:50.813Z"
   },
   {
    "duration": 0,
    "start_time": "2022-04-18T10:51:50.814Z"
   },
   {
    "duration": 0,
    "start_time": "2022-04-18T10:51:50.814Z"
   },
   {
    "duration": 0,
    "start_time": "2022-04-18T10:51:50.816Z"
   },
   {
    "duration": 915,
    "start_time": "2022-04-18T10:54:13.525Z"
   },
   {
    "duration": 148,
    "start_time": "2022-04-18T10:54:16.475Z"
   },
   {
    "duration": 116,
    "start_time": "2022-04-18T10:54:16.632Z"
   },
   {
    "duration": 654,
    "start_time": "2022-04-18T10:54:16.774Z"
   },
   {
    "duration": 33,
    "start_time": "2022-04-18T10:54:17.431Z"
   },
   {
    "duration": 41,
    "start_time": "2022-04-18T10:54:17.473Z"
   },
   {
    "duration": 35,
    "start_time": "2022-04-18T10:54:17.516Z"
   },
   {
    "duration": 57,
    "start_time": "2022-04-18T10:54:17.553Z"
   },
   {
    "duration": 38,
    "start_time": "2022-04-18T10:54:17.612Z"
   },
   {
    "duration": 29,
    "start_time": "2022-04-18T10:54:17.653Z"
   },
   {
    "duration": 8,
    "start_time": "2022-04-18T10:54:17.715Z"
   },
   {
    "duration": 2,
    "start_time": "2022-04-18T10:54:18.535Z"
   },
   {
    "duration": 3,
    "start_time": "2022-04-18T10:54:18.563Z"
   },
   {
    "duration": 9,
    "start_time": "2022-04-18T10:54:18.605Z"
   },
   {
    "duration": 83,
    "start_time": "2022-04-18T10:54:18.667Z"
   },
   {
    "duration": 634,
    "start_time": "2022-04-18T10:54:18.752Z"
   },
   {
    "duration": 63,
    "start_time": "2022-04-18T10:54:19.389Z"
   },
   {
    "duration": 64,
    "start_time": "2022-04-18T10:54:19.454Z"
   },
   {
    "duration": 57,
    "start_time": "2022-04-18T10:54:19.521Z"
   },
   {
    "duration": 79,
    "start_time": "2022-04-18T10:54:19.580Z"
   },
   {
    "duration": 81,
    "start_time": "2022-04-18T10:54:19.673Z"
   },
   {
    "duration": 106,
    "start_time": "2022-04-18T10:54:19.755Z"
   },
   {
    "duration": 75,
    "start_time": "2022-04-18T10:54:19.863Z"
   },
   {
    "duration": 5,
    "start_time": "2022-04-18T10:54:19.940Z"
   },
   {
    "duration": 142,
    "start_time": "2022-04-18T10:54:19.947Z"
   },
   {
    "duration": 2,
    "start_time": "2022-04-18T10:54:20.091Z"
   },
   {
    "duration": 109,
    "start_time": "2022-04-18T10:54:20.095Z"
   },
   {
    "duration": 4711,
    "start_time": "2022-04-18T10:54:20.206Z"
   },
   {
    "duration": 4,
    "start_time": "2022-04-18T10:54:24.918Z"
   },
   {
    "duration": 10,
    "start_time": "2022-04-18T10:54:24.924Z"
   },
   {
    "duration": 6,
    "start_time": "2022-04-18T10:54:24.936Z"
   },
   {
    "duration": 855,
    "start_time": "2022-04-18T10:54:24.943Z"
   },
   {
    "duration": 4,
    "start_time": "2022-04-18T10:54:25.800Z"
   },
   {
    "duration": 40273,
    "start_time": "2022-04-18T10:54:25.806Z"
   },
   {
    "duration": 47,
    "start_time": "2022-04-18T10:55:39.611Z"
   },
   {
    "duration": 1645,
    "start_time": "2022-04-18T10:55:47.473Z"
   },
   {
    "duration": 900,
    "start_time": "2022-04-18T10:55:51.267Z"
   },
   {
    "duration": 146,
    "start_time": "2022-04-18T10:55:52.169Z"
   },
   {
    "duration": 100,
    "start_time": "2022-04-18T10:55:53.096Z"
   },
   {
    "duration": 443,
    "start_time": "2022-04-18T10:55:54.153Z"
   },
   {
    "duration": 32,
    "start_time": "2022-04-18T10:55:54.600Z"
   },
   {
    "duration": 42,
    "start_time": "2022-04-18T10:55:55.363Z"
   },
   {
    "duration": 33,
    "start_time": "2022-04-18T10:55:56.033Z"
   },
   {
    "duration": 32,
    "start_time": "2022-04-18T10:55:56.588Z"
   },
   {
    "duration": 41,
    "start_time": "2022-04-18T10:55:57.171Z"
   },
   {
    "duration": 8,
    "start_time": "2022-04-18T10:55:57.739Z"
   },
   {
    "duration": 7,
    "start_time": "2022-04-18T10:55:58.763Z"
   },
   {
    "duration": 5,
    "start_time": "2022-04-18T10:56:01.196Z"
   },
   {
    "duration": 3,
    "start_time": "2022-04-18T10:56:01.796Z"
   },
   {
    "duration": 7,
    "start_time": "2022-04-18T10:56:02.546Z"
   },
   {
    "duration": 76,
    "start_time": "2022-04-18T10:56:03.606Z"
   },
   {
    "duration": 649,
    "start_time": "2022-04-18T10:56:06.789Z"
   },
   {
    "duration": 72,
    "start_time": "2022-04-18T10:56:07.440Z"
   },
   {
    "duration": 46,
    "start_time": "2022-04-18T10:56:08.187Z"
   },
   {
    "duration": 46,
    "start_time": "2022-04-18T10:56:08.498Z"
   },
   {
    "duration": 79,
    "start_time": "2022-04-18T10:56:09.144Z"
   },
   {
    "duration": 87,
    "start_time": "2022-04-18T10:56:09.666Z"
   },
   {
    "duration": 99,
    "start_time": "2022-04-18T10:56:10.086Z"
   },
   {
    "duration": 76,
    "start_time": "2022-04-18T10:56:10.570Z"
   },
   {
    "duration": 5,
    "start_time": "2022-04-18T10:56:13.097Z"
   },
   {
    "duration": 113,
    "start_time": "2022-04-18T10:56:14.226Z"
   },
   {
    "duration": 3,
    "start_time": "2022-04-18T10:56:17.559Z"
   },
   {
    "duration": 94,
    "start_time": "2022-04-18T10:56:18.321Z"
   },
   {
    "duration": 4262,
    "start_time": "2022-04-18T10:56:21.035Z"
   },
   {
    "duration": 4,
    "start_time": "2022-04-18T10:56:25.299Z"
   },
   {
    "duration": 7,
    "start_time": "2022-04-18T10:56:25.305Z"
   },
   {
    "duration": 2,
    "start_time": "2022-04-18T10:56:31.757Z"
   },
   {
    "duration": 391,
    "start_time": "2022-04-18T10:56:32.156Z"
   },
   {
    "duration": 3,
    "start_time": "2022-04-18T10:56:54.369Z"
   },
   {
    "duration": 43120,
    "start_time": "2022-04-18T10:56:58.463Z"
   },
   {
    "duration": 50,
    "start_time": "2022-04-18T10:58:47.388Z"
   },
   {
    "duration": 8,
    "start_time": "2022-04-18T11:05:49.212Z"
   },
   {
    "duration": 1424,
    "start_time": "2022-04-18T11:16:10.296Z"
   },
   {
    "duration": 790,
    "start_time": "2022-04-18T11:16:14.759Z"
   },
   {
    "duration": 142,
    "start_time": "2022-04-18T11:16:15.551Z"
   },
   {
    "duration": 96,
    "start_time": "2022-04-18T11:16:16.312Z"
   },
   {
    "duration": 423,
    "start_time": "2022-04-18T11:16:16.941Z"
   },
   {
    "duration": 33,
    "start_time": "2022-04-18T11:16:18.029Z"
   },
   {
    "duration": 33,
    "start_time": "2022-04-18T11:16:18.597Z"
   },
   {
    "duration": 32,
    "start_time": "2022-04-18T11:16:19.097Z"
   },
   {
    "duration": 33,
    "start_time": "2022-04-18T11:16:19.610Z"
   },
   {
    "duration": 33,
    "start_time": "2022-04-18T11:16:20.088Z"
   },
   {
    "duration": 7,
    "start_time": "2022-04-18T11:16:20.541Z"
   },
   {
    "duration": 8,
    "start_time": "2022-04-18T11:16:21.010Z"
   },
   {
    "duration": 3,
    "start_time": "2022-04-18T11:16:24.042Z"
   },
   {
    "duration": 3,
    "start_time": "2022-04-18T11:16:24.893Z"
   },
   {
    "duration": 9,
    "start_time": "2022-04-18T11:16:24.898Z"
   },
   {
    "duration": 64,
    "start_time": "2022-04-18T11:16:26.477Z"
   },
   {
    "duration": 569,
    "start_time": "2022-04-18T11:16:27.253Z"
   },
   {
    "duration": 72,
    "start_time": "2022-04-18T11:16:27.824Z"
   },
   {
    "duration": 45,
    "start_time": "2022-04-18T11:16:27.957Z"
   },
   {
    "duration": 43,
    "start_time": "2022-04-18T11:16:28.494Z"
   },
   {
    "duration": 71,
    "start_time": "2022-04-18T11:16:29.203Z"
   },
   {
    "duration": 72,
    "start_time": "2022-04-18T11:16:29.652Z"
   },
   {
    "duration": 88,
    "start_time": "2022-04-18T11:16:29.985Z"
   },
   {
    "duration": 70,
    "start_time": "2022-04-18T11:16:30.493Z"
   },
   {
    "duration": 5,
    "start_time": "2022-04-18T11:16:32.485Z"
   },
   {
    "duration": 111,
    "start_time": "2022-04-18T11:16:33.335Z"
   },
   {
    "duration": 3,
    "start_time": "2022-04-18T11:16:35.812Z"
   },
   {
    "duration": 89,
    "start_time": "2022-04-18T11:16:36.086Z"
   },
   {
    "duration": 3984,
    "start_time": "2022-04-18T11:16:36.381Z"
   },
   {
    "duration": 4,
    "start_time": "2022-04-18T11:16:40.367Z"
   },
   {
    "duration": 8,
    "start_time": "2022-04-18T11:16:40.372Z"
   },
   {
    "duration": 2,
    "start_time": "2022-04-18T11:16:43.721Z"
   },
   {
    "duration": 383,
    "start_time": "2022-04-18T11:16:44.048Z"
   },
   {
    "duration": 5,
    "start_time": "2022-04-18T11:16:45.013Z"
   },
   {
    "duration": 23821,
    "start_time": "2022-04-18T11:16:46.154Z"
   },
   {
    "duration": 1356,
    "start_time": "2022-04-18T11:20:14.428Z"
   },
   {
    "duration": 821,
    "start_time": "2022-04-18T11:20:15.786Z"
   },
   {
    "duration": 146,
    "start_time": "2022-04-18T11:20:16.609Z"
   },
   {
    "duration": 116,
    "start_time": "2022-04-18T11:20:16.758Z"
   },
   {
    "duration": 435,
    "start_time": "2022-04-18T11:20:16.876Z"
   },
   {
    "duration": 34,
    "start_time": "2022-04-18T11:20:17.313Z"
   },
   {
    "duration": 50,
    "start_time": "2022-04-18T11:20:17.349Z"
   },
   {
    "duration": 44,
    "start_time": "2022-04-18T11:20:17.401Z"
   },
   {
    "duration": 42,
    "start_time": "2022-04-18T11:20:17.448Z"
   },
   {
    "duration": 37,
    "start_time": "2022-04-18T11:20:17.492Z"
   },
   {
    "duration": 16,
    "start_time": "2022-04-18T11:20:17.532Z"
   },
   {
    "duration": 25,
    "start_time": "2022-04-18T11:20:17.551Z"
   },
   {
    "duration": 3,
    "start_time": "2022-04-18T11:20:20.763Z"
   },
   {
    "duration": 4,
    "start_time": "2022-04-18T11:20:21.659Z"
   },
   {
    "duration": 6,
    "start_time": "2022-04-18T11:20:23.064Z"
   },
   {
    "duration": 68,
    "start_time": "2022-04-18T11:22:06.265Z"
   },
   {
    "duration": 625,
    "start_time": "2022-04-18T11:22:06.646Z"
   },
   {
    "duration": 71,
    "start_time": "2022-04-18T11:22:07.274Z"
   },
   {
    "duration": 66,
    "start_time": "2022-04-18T11:22:07.347Z"
   },
   {
    "duration": 46,
    "start_time": "2022-04-18T11:22:07.415Z"
   },
   {
    "duration": 78,
    "start_time": "2022-04-18T11:22:10.173Z"
   },
   {
    "duration": 87,
    "start_time": "2022-04-18T11:22:10.624Z"
   },
   {
    "duration": 94,
    "start_time": "2022-04-18T11:22:10.973Z"
   },
   {
    "duration": 10,
    "start_time": "2022-04-18T11:22:17.796Z"
   },
   {
    "duration": 4,
    "start_time": "2022-04-18T12:12:17.656Z"
   },
   {
    "duration": 755,
    "start_time": "2022-04-18T12:12:18.464Z"
   },
   {
    "duration": 156,
    "start_time": "2022-04-18T12:12:19.221Z"
   },
   {
    "duration": 96,
    "start_time": "2022-04-18T12:12:19.379Z"
   },
   {
    "duration": 290,
    "start_time": "2022-04-18T12:12:19.477Z"
   },
   {
    "duration": 33,
    "start_time": "2022-04-18T12:12:19.773Z"
   },
   {
    "duration": 33,
    "start_time": "2022-04-18T12:12:20.120Z"
   },
   {
    "duration": 32,
    "start_time": "2022-04-18T12:12:20.310Z"
   },
   {
    "duration": 32,
    "start_time": "2022-04-18T12:12:20.840Z"
   },
   {
    "duration": 33,
    "start_time": "2022-04-18T12:12:21.057Z"
   },
   {
    "duration": 8,
    "start_time": "2022-04-18T12:12:21.612Z"
   },
   {
    "duration": 7,
    "start_time": "2022-04-18T12:12:21.905Z"
   },
   {
    "duration": 3,
    "start_time": "2022-04-18T12:12:24.120Z"
   },
   {
    "duration": 4,
    "start_time": "2022-04-18T12:12:24.320Z"
   },
   {
    "duration": 6,
    "start_time": "2022-04-18T12:12:25.186Z"
   },
   {
    "duration": 58,
    "start_time": "2022-04-18T12:12:25.194Z"
   },
   {
    "duration": 581,
    "start_time": "2022-04-18T12:12:25.254Z"
   },
   {
    "duration": 71,
    "start_time": "2022-04-18T12:12:25.837Z"
   },
   {
    "duration": 48,
    "start_time": "2022-04-18T12:12:25.909Z"
   },
   {
    "duration": 60,
    "start_time": "2022-04-18T12:12:25.959Z"
   },
   {
    "duration": 69,
    "start_time": "2022-04-18T12:12:26.086Z"
   },
   {
    "duration": 75,
    "start_time": "2022-04-18T12:12:26.272Z"
   },
   {
    "duration": 91,
    "start_time": "2022-04-18T12:12:26.810Z"
   },
   {
    "duration": 65,
    "start_time": "2022-04-18T12:12:27.104Z"
   },
   {
    "duration": 10,
    "start_time": "2022-04-18T12:12:27.664Z"
   },
   {
    "duration": 5,
    "start_time": "2022-04-18T12:12:28.984Z"
   },
   {
    "duration": 94,
    "start_time": "2022-04-18T12:12:29.272Z"
   },
   {
    "duration": 3,
    "start_time": "2022-04-18T12:12:29.954Z"
   },
   {
    "duration": 90,
    "start_time": "2022-04-18T12:12:30.177Z"
   },
   {
    "duration": 4030,
    "start_time": "2022-04-18T12:12:30.657Z"
   },
   {
    "duration": 4,
    "start_time": "2022-04-18T12:12:34.689Z"
   },
   {
    "duration": 5,
    "start_time": "2022-04-18T12:12:35.336Z"
   },
   {
    "duration": 15,
    "start_time": "2022-04-18T12:12:42.096Z"
   },
   {
    "duration": 11,
    "start_time": "2022-04-18T12:30:44.293Z"
   },
   {
    "duration": 5,
    "start_time": "2022-04-18T12:30:50.277Z"
   },
   {
    "duration": 120,
    "start_time": "2022-04-18T12:30:50.614Z"
   },
   {
    "duration": 4,
    "start_time": "2022-04-18T12:32:40.628Z"
   },
   {
    "duration": 818,
    "start_time": "2022-04-18T12:32:41.425Z"
   },
   {
    "duration": 165,
    "start_time": "2022-04-18T12:32:42.246Z"
   },
   {
    "duration": 121,
    "start_time": "2022-04-18T12:32:42.413Z"
   },
   {
    "duration": 342,
    "start_time": "2022-04-18T12:32:42.536Z"
   },
   {
    "duration": 35,
    "start_time": "2022-04-18T12:32:42.880Z"
   },
   {
    "duration": 82,
    "start_time": "2022-04-18T12:32:42.918Z"
   },
   {
    "duration": 40,
    "start_time": "2022-04-18T12:32:43.002Z"
   },
   {
    "duration": 69,
    "start_time": "2022-04-18T12:32:43.045Z"
   },
   {
    "duration": 71,
    "start_time": "2022-04-18T12:32:43.117Z"
   },
   {
    "duration": 9,
    "start_time": "2022-04-18T12:32:43.196Z"
   },
   {
    "duration": 9,
    "start_time": "2022-04-18T12:32:43.403Z"
   },
   {
    "duration": 4,
    "start_time": "2022-04-18T12:32:44.315Z"
   },
   {
    "duration": 4,
    "start_time": "2022-04-18T12:32:44.643Z"
   },
   {
    "duration": 8,
    "start_time": "2022-04-18T12:32:44.827Z"
   },
   {
    "duration": 75,
    "start_time": "2022-04-18T12:32:45.692Z"
   },
   {
    "duration": 581,
    "start_time": "2022-04-18T12:32:46.465Z"
   },
   {
    "duration": 81,
    "start_time": "2022-04-18T12:32:47.049Z"
   },
   {
    "duration": 65,
    "start_time": "2022-04-18T12:32:47.132Z"
   },
   {
    "duration": 99,
    "start_time": "2022-04-18T12:32:47.200Z"
   },
   {
    "duration": 83,
    "start_time": "2022-04-18T12:32:47.417Z"
   },
   {
    "duration": 83,
    "start_time": "2022-04-18T12:32:47.601Z"
   },
   {
    "duration": 119,
    "start_time": "2022-04-18T12:32:47.786Z"
   },
   {
    "duration": 72,
    "start_time": "2022-04-18T12:32:47.963Z"
   },
   {
    "duration": 16,
    "start_time": "2022-04-18T12:32:48.157Z"
   },
   {
    "duration": 5,
    "start_time": "2022-04-18T12:32:49.091Z"
   },
   {
    "duration": 124,
    "start_time": "2022-04-18T12:32:49.281Z"
   },
   {
    "duration": 3,
    "start_time": "2022-04-18T12:32:50.881Z"
   },
   {
    "duration": 134,
    "start_time": "2022-04-18T12:32:51.067Z"
   },
   {
    "duration": 4785,
    "start_time": "2022-04-18T12:32:51.279Z"
   },
   {
    "duration": 8,
    "start_time": "2022-04-18T12:32:56.067Z"
   },
   {
    "duration": 22,
    "start_time": "2022-04-18T12:32:56.077Z"
   },
   {
    "duration": 6,
    "start_time": "2022-04-18T12:32:56.101Z"
   },
   {
    "duration": 416,
    "start_time": "2022-04-18T12:32:56.109Z"
   },
   {
    "duration": 5,
    "start_time": "2022-04-18T12:32:56.528Z"
   },
   {
    "duration": 1255,
    "start_time": "2022-04-18T15:47:42.979Z"
   },
   {
    "duration": 715,
    "start_time": "2022-04-18T15:47:44.236Z"
   },
   {
    "duration": 135,
    "start_time": "2022-04-18T15:47:44.952Z"
   },
   {
    "duration": 96,
    "start_time": "2022-04-18T15:47:45.089Z"
   },
   {
    "duration": 544,
    "start_time": "2022-04-18T15:47:45.187Z"
   },
   {
    "duration": 34,
    "start_time": "2022-04-18T15:47:45.733Z"
   },
   {
    "duration": 32,
    "start_time": "2022-04-18T15:47:45.769Z"
   },
   {
    "duration": 32,
    "start_time": "2022-04-18T15:47:45.802Z"
   },
   {
    "duration": 30,
    "start_time": "2022-04-18T15:47:45.848Z"
   },
   {
    "duration": 32,
    "start_time": "2022-04-18T15:47:45.880Z"
   },
   {
    "duration": 8,
    "start_time": "2022-04-18T15:47:45.914Z"
   },
   {
    "duration": 27,
    "start_time": "2022-04-18T15:47:45.923Z"
   },
   {
    "duration": 3,
    "start_time": "2022-04-18T15:47:48.294Z"
   },
   {
    "duration": 3,
    "start_time": "2022-04-18T15:47:48.454Z"
   },
   {
    "duration": 8,
    "start_time": "2022-04-18T15:47:48.581Z"
   },
   {
    "duration": 69,
    "start_time": "2022-04-18T15:47:48.869Z"
   },
   {
    "duration": 564,
    "start_time": "2022-04-18T15:47:49.181Z"
   },
   {
    "duration": 58,
    "start_time": "2022-04-18T15:47:49.746Z"
   },
   {
    "duration": 47,
    "start_time": "2022-04-18T15:47:49.806Z"
   },
   {
    "duration": 39,
    "start_time": "2022-04-18T15:47:49.855Z"
   },
   {
    "duration": 68,
    "start_time": "2022-04-18T15:47:49.919Z"
   },
   {
    "duration": 67,
    "start_time": "2022-04-18T15:47:50.062Z"
   },
   {
    "duration": 73,
    "start_time": "2022-04-18T15:47:50.231Z"
   },
   {
    "duration": 63,
    "start_time": "2022-04-18T15:47:50.694Z"
   },
   {
    "duration": 10,
    "start_time": "2022-04-18T15:47:50.854Z"
   },
   {
    "duration": 5,
    "start_time": "2022-04-18T15:47:51.765Z"
   },
   {
    "duration": 98,
    "start_time": "2022-04-18T15:47:51.934Z"
   },
   {
    "duration": 3,
    "start_time": "2022-04-18T15:47:52.406Z"
   },
   {
    "duration": 83,
    "start_time": "2022-04-18T15:47:52.590Z"
   },
   {
    "duration": 3828,
    "start_time": "2022-04-18T15:47:52.774Z"
   },
   {
    "duration": 3,
    "start_time": "2022-04-18T15:47:56.604Z"
   },
   {
    "duration": 6,
    "start_time": "2022-04-18T15:47:56.608Z"
   },
   {
    "duration": 2,
    "start_time": "2022-04-18T15:47:57.847Z"
   },
   {
    "duration": 358,
    "start_time": "2022-04-18T15:47:58.806Z"
   },
   {
    "duration": 3,
    "start_time": "2022-04-18T15:48:00.086Z"
   },
   {
    "duration": 25178,
    "start_time": "2022-04-18T15:48:01.471Z"
   },
   {
    "duration": 4,
    "start_time": "2022-04-18T15:51:35.892Z"
   },
   {
    "duration": 746,
    "start_time": "2022-04-18T15:51:36.868Z"
   },
   {
    "duration": 143,
    "start_time": "2022-04-18T15:51:37.616Z"
   },
   {
    "duration": 74,
    "start_time": "2022-04-18T15:51:37.761Z"
   },
   {
    "duration": 289,
    "start_time": "2022-04-18T15:51:37.847Z"
   },
   {
    "duration": 47,
    "start_time": "2022-04-18T15:51:38.138Z"
   },
   {
    "duration": 30,
    "start_time": "2022-04-18T15:51:38.186Z"
   },
   {
    "duration": 51,
    "start_time": "2022-04-18T15:51:38.218Z"
   },
   {
    "duration": 30,
    "start_time": "2022-04-18T15:51:38.271Z"
   },
   {
    "duration": 45,
    "start_time": "2022-04-18T15:51:38.303Z"
   },
   {
    "duration": 9,
    "start_time": "2022-04-18T15:51:38.355Z"
   },
   {
    "duration": 6,
    "start_time": "2022-04-18T15:51:38.421Z"
   },
   {
    "duration": 2,
    "start_time": "2022-04-18T15:51:39.204Z"
   },
   {
    "duration": 3,
    "start_time": "2022-04-18T15:51:39.372Z"
   },
   {
    "duration": 5,
    "start_time": "2022-04-18T15:51:39.532Z"
   },
   {
    "duration": 52,
    "start_time": "2022-04-18T15:51:39.868Z"
   },
   {
    "duration": 613,
    "start_time": "2022-04-18T15:51:40.172Z"
   },
   {
    "duration": 71,
    "start_time": "2022-04-18T15:51:40.787Z"
   },
   {
    "duration": 45,
    "start_time": "2022-04-18T15:51:40.859Z"
   },
   {
    "duration": 57,
    "start_time": "2022-04-18T15:51:40.905Z"
   },
   {
    "duration": 68,
    "start_time": "2022-04-18T15:51:40.971Z"
   },
   {
    "duration": 81,
    "start_time": "2022-04-18T15:51:41.140Z"
   },
   {
    "duration": 88,
    "start_time": "2022-04-18T15:51:41.300Z"
   },
   {
    "duration": 62,
    "start_time": "2022-04-18T15:51:41.469Z"
   },
   {
    "duration": 13,
    "start_time": "2022-04-18T15:51:41.644Z"
   },
   {
    "duration": 4,
    "start_time": "2022-04-18T15:51:42.361Z"
   },
   {
    "duration": 110,
    "start_time": "2022-04-18T15:51:43.548Z"
   },
   {
    "duration": 3,
    "start_time": "2022-04-18T15:51:44.876Z"
   },
   {
    "duration": 92,
    "start_time": "2022-04-18T15:51:45.036Z"
   },
   {
    "duration": 5385,
    "start_time": "2022-04-18T15:51:45.196Z"
   },
   {
    "duration": 3,
    "start_time": "2022-04-18T15:51:50.583Z"
   },
   {
    "duration": 7,
    "start_time": "2022-04-18T15:51:50.588Z"
   },
   {
    "duration": 4,
    "start_time": "2022-04-18T15:51:50.597Z"
   },
   {
    "duration": 398,
    "start_time": "2022-04-18T15:51:50.602Z"
   },
   {
    "duration": 3,
    "start_time": "2022-04-18T15:51:51.002Z"
   },
   {
    "duration": 36642,
    "start_time": "2022-04-18T15:51:51.007Z"
   },
   {
    "duration": 7,
    "start_time": "2022-04-18T15:57:41.546Z"
   },
   {
    "duration": 717,
    "start_time": "2022-04-18T15:57:42.441Z"
   },
   {
    "duration": 143,
    "start_time": "2022-04-18T15:57:43.161Z"
   },
   {
    "duration": 83,
    "start_time": "2022-04-18T15:57:43.306Z"
   },
   {
    "duration": 284,
    "start_time": "2022-04-18T15:57:43.392Z"
   },
   {
    "duration": 31,
    "start_time": "2022-04-18T15:57:43.678Z"
   },
   {
    "duration": 47,
    "start_time": "2022-04-18T15:57:43.712Z"
   },
   {
    "duration": 33,
    "start_time": "2022-04-18T15:57:43.761Z"
   },
   {
    "duration": 33,
    "start_time": "2022-04-18T15:57:43.796Z"
   },
   {
    "duration": 32,
    "start_time": "2022-04-18T15:57:43.961Z"
   },
   {
    "duration": 8,
    "start_time": "2022-04-18T15:57:44.138Z"
   },
   {
    "duration": 8,
    "start_time": "2022-04-18T15:57:44.314Z"
   },
   {
    "duration": 3,
    "start_time": "2022-04-18T15:57:45.185Z"
   },
   {
    "duration": 3,
    "start_time": "2022-04-18T15:57:45.393Z"
   },
   {
    "duration": 7,
    "start_time": "2022-04-18T15:57:45.546Z"
   },
   {
    "duration": 54,
    "start_time": "2022-04-18T15:57:46.073Z"
   },
   {
    "duration": 588,
    "start_time": "2022-04-18T15:57:47.961Z"
   },
   {
    "duration": 61,
    "start_time": "2022-04-18T15:57:48.550Z"
   },
   {
    "duration": 44,
    "start_time": "2022-04-18T15:57:49.369Z"
   },
   {
    "duration": 42,
    "start_time": "2022-04-18T15:57:49.682Z"
   },
   {
    "duration": 67,
    "start_time": "2022-04-18T15:57:50.073Z"
   },
   {
    "duration": 79,
    "start_time": "2022-04-18T15:57:50.234Z"
   },
   {
    "duration": 91,
    "start_time": "2022-04-18T15:57:50.386Z"
   },
   {
    "duration": 62,
    "start_time": "2022-04-18T15:57:50.561Z"
   },
   {
    "duration": 9,
    "start_time": "2022-04-18T15:57:50.706Z"
   },
   {
    "duration": 4,
    "start_time": "2022-04-18T15:57:51.290Z"
   },
   {
    "duration": 110,
    "start_time": "2022-04-18T15:57:51.465Z"
   },
   {
    "duration": 3,
    "start_time": "2022-04-18T15:57:52.217Z"
   },
   {
    "duration": 87,
    "start_time": "2022-04-18T15:57:52.410Z"
   },
   {
    "duration": 4669,
    "start_time": "2022-04-18T15:57:52.626Z"
   },
   {
    "duration": 4,
    "start_time": "2022-04-18T15:57:57.297Z"
   },
   {
    "duration": 6,
    "start_time": "2022-04-18T15:57:57.302Z"
   },
   {
    "duration": 4,
    "start_time": "2022-04-18T15:57:57.310Z"
   },
   {
    "duration": 390,
    "start_time": "2022-04-18T15:57:57.315Z"
   },
   {
    "duration": 3,
    "start_time": "2022-04-18T15:58:02.210Z"
   },
   {
    "duration": 35345,
    "start_time": "2022-04-18T15:58:02.802Z"
   },
   {
    "duration": 84,
    "start_time": "2022-04-18T16:40:17.872Z"
   },
   {
    "duration": 33,
    "start_time": "2022-04-18T16:40:18.017Z"
   },
   {
    "duration": 2086,
    "start_time": "2022-04-18T16:40:23.977Z"
   },
   {
    "duration": 1482,
    "start_time": "2022-04-18T16:40:26.066Z"
   },
   {
    "duration": 226,
    "start_time": "2022-04-18T16:40:27.550Z"
   },
   {
    "duration": 193,
    "start_time": "2022-04-18T16:40:27.778Z"
   },
   {
    "duration": 807,
    "start_time": "2022-04-18T16:40:27.973Z"
   },
   {
    "duration": 90,
    "start_time": "2022-04-18T16:40:28.781Z"
   },
   {
    "duration": 85,
    "start_time": "2022-04-18T16:40:28.873Z"
   },
   {
    "duration": 88,
    "start_time": "2022-04-18T16:40:28.960Z"
   },
   {
    "duration": 43,
    "start_time": "2022-04-18T16:40:32.226Z"
   },
   {
    "duration": 82,
    "start_time": "2022-04-18T16:40:32.402Z"
   },
   {
    "duration": 11,
    "start_time": "2022-04-18T16:40:32.603Z"
   },
   {
    "duration": 11,
    "start_time": "2022-04-18T16:40:33.883Z"
   },
   {
    "duration": 13,
    "start_time": "2022-04-18T16:40:36.635Z"
   },
   {
    "duration": 4,
    "start_time": "2022-04-18T16:40:47.852Z"
   },
   {
    "duration": 7,
    "start_time": "2022-04-18T16:40:50.155Z"
   },
   {
    "duration": 138,
    "start_time": "2022-04-18T16:41:17.325Z"
   },
   {
    "duration": 6,
    "start_time": "2022-04-18T17:21:06.251Z"
   },
   {
    "duration": 601,
    "start_time": "2022-04-18T17:21:07.549Z"
   },
   {
    "duration": 6,
    "start_time": "2022-04-18T17:21:16.349Z"
   },
   {
    "duration": 5716,
    "start_time": "2022-04-18T17:21:17.249Z"
   },
   {
    "duration": 1110,
    "start_time": "2022-04-18T17:21:23.048Z"
   },
   {
    "duration": 607,
    "start_time": "2022-04-18T17:21:24.160Z"
   },
   {
    "duration": 2025,
    "start_time": "2022-04-18T17:21:24.849Z"
   },
   {
    "duration": 208,
    "start_time": "2022-04-18T17:21:26.948Z"
   },
   {
    "duration": 310,
    "start_time": "2022-04-18T17:21:27.250Z"
   },
   {
    "duration": 290,
    "start_time": "2022-04-18T17:21:27.562Z"
   },
   {
    "duration": 304,
    "start_time": "2022-04-18T17:21:27.854Z"
   },
   {
    "duration": 210,
    "start_time": "2022-04-18T17:21:28.250Z"
   },
   {
    "duration": 11,
    "start_time": "2022-04-18T17:21:28.548Z"
   },
   {
    "duration": 85,
    "start_time": "2022-04-18T17:21:32.270Z"
   },
   {
    "duration": 7,
    "start_time": "2022-04-18T17:21:34.248Z"
   },
   {
    "duration": 7,
    "start_time": "2022-04-18T17:21:34.548Z"
   },
   {
    "duration": 8,
    "start_time": "2022-04-18T17:21:34.948Z"
   },
   {
    "duration": 317,
    "start_time": "2022-04-18T17:21:35.740Z"
   },
   {
    "duration": 4211,
    "start_time": "2022-04-18T17:21:37.248Z"
   },
   {
    "duration": 292,
    "start_time": "2022-04-18T17:21:41.462Z"
   },
   {
    "duration": 392,
    "start_time": "2022-04-18T17:21:41.757Z"
   },
   {
    "duration": 299,
    "start_time": "2022-04-18T17:21:42.157Z"
   },
   {
    "duration": 609,
    "start_time": "2022-04-18T17:21:45.650Z"
   },
   {
    "duration": 498,
    "start_time": "2022-04-18T17:21:46.350Z"
   },
   {
    "duration": 502,
    "start_time": "2022-04-18T17:21:47.860Z"
   },
   {
    "duration": 509,
    "start_time": "2022-04-18T17:21:49.148Z"
   },
   {
    "duration": 9,
    "start_time": "2022-04-18T17:21:51.648Z"
   },
   {
    "duration": 612,
    "start_time": "2022-04-18T17:21:52.848Z"
   },
   {
    "duration": 7,
    "start_time": "2022-04-18T17:21:54.847Z"
   },
   {
    "duration": 703,
    "start_time": "2022-04-18T17:21:55.248Z"
   },
   {
    "duration": 31999,
    "start_time": "2022-04-18T17:21:55.953Z"
   },
   {
    "duration": 93,
    "start_time": "2022-04-18T17:22:27.955Z"
   },
   {
    "duration": 95,
    "start_time": "2022-04-18T17:22:28.056Z"
   },
   {
    "duration": 6,
    "start_time": "2022-04-18T17:22:47.148Z"
   },
   {
    "duration": 10497,
    "start_time": "2022-04-18T17:22:47.458Z"
   },
   {
    "duration": 3,
    "start_time": "2022-04-18T17:23:00.063Z"
   },
   {
    "duration": 99,
    "start_time": "2022-04-18T17:23:18.548Z"
   },
   {
    "duration": 407,
    "start_time": "2022-04-18T17:23:19.749Z"
   },
   {
    "duration": 7,
    "start_time": "2022-04-18T17:23:23.649Z"
   },
   {
    "duration": 9,
    "start_time": "2022-04-18T17:23:23.849Z"
   },
   {
    "duration": 128,
    "start_time": "2022-04-20T08:13:58.402Z"
   },
   {
    "duration": 118,
    "start_time": "2022-04-20T08:14:27.096Z"
   }
  ],
  "kernelspec": {
   "display_name": "Python 3 (ipykernel)",
   "language": "python",
   "name": "python3"
  },
  "language_info": {
   "codemirror_mode": {
    "name": "ipython",
    "version": 3
   },
   "file_extension": ".py",
   "mimetype": "text/x-python",
   "name": "python",
   "nbconvert_exporter": "python",
   "pygments_lexer": "ipython3",
   "version": "3.9.7"
  },
  "toc": {
   "base_numbering": 1,
   "nav_menu": {},
   "number_sections": true,
   "sideBar": true,
   "skip_h1_title": true,
   "title_cell": "Table of Contents",
   "title_sidebar": "Contents",
   "toc_cell": false,
   "toc_position": {
    "height": "calc(100% - 180px)",
    "left": "10px",
    "top": "150px",
    "width": "299px"
   },
   "toc_section_display": true,
   "toc_window_display": true
  }
 },
 "nbformat": 4,
 "nbformat_minor": 2
}
