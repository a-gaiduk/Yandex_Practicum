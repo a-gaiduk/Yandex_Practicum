{
 "cells": [
  {
   "cell_type": "markdown",
   "metadata": {},
   "source": [
    "# Выбор локации для скважины"
   ]
  },
  {
   "cell_type": "markdown",
   "metadata": {},
   "source": [
    "Нужно решить, где бурить новую скважину.\n",
    "\n",
    "Предоставлены пробы нефти в трёх регионах: в каждом 10 000 месторождений, где измерили качество нефти и объём её запасов. Построим модель машинного обучения, которая поможет определить регион, где добыча принесёт наибольшую прибыль. \n"
   ]
  },
  {
   "cell_type": "code",
   "execution_count": 1,
   "metadata": {},
   "outputs": [],
   "source": [
    "import pandas as pd\n",
    "import matplotlib.pyplot as plt\n",
    "import numpy as np\n",
    "import seaborn as sns\n",
    "from scipy import stats as st\n",
    "sns.set(style=\"darkgrid\")\n",
    "pd.options.display.float_format = '{:,.2f}'.format\n",
    "\n",
    "import warnings\n",
    "warnings.simplefilter('ignore')\n",
    "\n",
    "from sklearn.linear_model import LinearRegression\n",
    "from sklearn.metrics import mean_squared_error\n",
    "from sklearn.model_selection import train_test_split\n",
    "\n",
    "from sklearn.preprocessing import StandardScaler\n",
    "from sklearn.utils import shuffle"
   ]
  },
  {
   "cell_type": "code",
   "execution_count": null,
   "metadata": {},
   "outputs": [],
   "source": []
  },
  {
   "cell_type": "markdown",
   "metadata": {},
   "source": [
    "## Загрузка и подготовка данных"
   ]
  },
  {
   "cell_type": "code",
   "execution_count": 2,
   "metadata": {},
   "outputs": [],
   "source": [
    "geo_data_0 = pd.read_csv('/datasets/geo_data_0.csv')\n",
    "geo_data_1 = pd.read_csv('/datasets/geo_data_1.csv')\n",
    "geo_data_2 = pd.read_csv('/datasets/geo_data_2.csv')"
   ]
  },
  {
   "cell_type": "code",
   "execution_count": 3,
   "metadata": {},
   "outputs": [
    {
     "data": {
      "text/html": [
       "<div>\n",
       "<style scoped>\n",
       "    .dataframe tbody tr th:only-of-type {\n",
       "        vertical-align: middle;\n",
       "    }\n",
       "\n",
       "    .dataframe tbody tr th {\n",
       "        vertical-align: top;\n",
       "    }\n",
       "\n",
       "    .dataframe thead th {\n",
       "        text-align: right;\n",
       "    }\n",
       "</style>\n",
       "<table border=\"1\" class=\"dataframe\">\n",
       "  <thead>\n",
       "    <tr style=\"text-align: right;\">\n",
       "      <th></th>\n",
       "      <th>id</th>\n",
       "      <th>f0</th>\n",
       "      <th>f1</th>\n",
       "      <th>f2</th>\n",
       "      <th>product</th>\n",
       "    </tr>\n",
       "  </thead>\n",
       "  <tbody>\n",
       "    <tr>\n",
       "      <td>0</td>\n",
       "      <td>txEyH</td>\n",
       "      <td>0.71</td>\n",
       "      <td>-0.50</td>\n",
       "      <td>1.22</td>\n",
       "      <td>105.28</td>\n",
       "    </tr>\n",
       "    <tr>\n",
       "      <td>1</td>\n",
       "      <td>2acmU</td>\n",
       "      <td>1.33</td>\n",
       "      <td>-0.34</td>\n",
       "      <td>4.37</td>\n",
       "      <td>73.04</td>\n",
       "    </tr>\n",
       "    <tr>\n",
       "      <td>2</td>\n",
       "      <td>409Wp</td>\n",
       "      <td>1.02</td>\n",
       "      <td>0.15</td>\n",
       "      <td>1.42</td>\n",
       "      <td>85.27</td>\n",
       "    </tr>\n",
       "  </tbody>\n",
       "</table>\n",
       "</div>"
      ],
      "text/plain": [
       "      id   f0    f1   f2  product\n",
       "0  txEyH 0.71 -0.50 1.22   105.28\n",
       "1  2acmU 1.33 -0.34 4.37    73.04\n",
       "2  409Wp 1.02  0.15 1.42    85.27"
      ]
     },
     "execution_count": 3,
     "metadata": {},
     "output_type": "execute_result"
    }
   ],
   "source": [
    "geo_data_0.head(3)"
   ]
  },
  {
   "cell_type": "code",
   "execution_count": 4,
   "metadata": {},
   "outputs": [
    {
     "name": "stdout",
     "output_type": "stream",
     "text": [
      "<class 'pandas.core.frame.DataFrame'>\n",
      "RangeIndex: 100000 entries, 0 to 99999\n",
      "Data columns (total 5 columns):\n",
      "id         100000 non-null object\n",
      "f0         100000 non-null float64\n",
      "f1         100000 non-null float64\n",
      "f2         100000 non-null float64\n",
      "product    100000 non-null float64\n",
      "dtypes: float64(4), object(1)\n",
      "memory usage: 3.8+ MB\n"
     ]
    }
   ],
   "source": [
    "geo_data_0.info()"
   ]
  },
  {
   "cell_type": "code",
   "execution_count": 5,
   "metadata": {},
   "outputs": [
    {
     "name": "stdout",
     "output_type": "stream",
     "text": [
      "<class 'pandas.core.frame.DataFrame'>\n",
      "RangeIndex: 100000 entries, 0 to 99999\n",
      "Data columns (total 5 columns):\n",
      "id         100000 non-null object\n",
      "f0         100000 non-null float64\n",
      "f1         100000 non-null float64\n",
      "f2         100000 non-null float64\n",
      "product    100000 non-null float64\n",
      "dtypes: float64(4), object(1)\n",
      "memory usage: 3.8+ MB\n"
     ]
    }
   ],
   "source": [
    "geo_data_1.info()"
   ]
  },
  {
   "cell_type": "code",
   "execution_count": 6,
   "metadata": {},
   "outputs": [
    {
     "name": "stdout",
     "output_type": "stream",
     "text": [
      "<class 'pandas.core.frame.DataFrame'>\n",
      "RangeIndex: 100000 entries, 0 to 99999\n",
      "Data columns (total 5 columns):\n",
      "id         100000 non-null object\n",
      "f0         100000 non-null float64\n",
      "f1         100000 non-null float64\n",
      "f2         100000 non-null float64\n",
      "product    100000 non-null float64\n",
      "dtypes: float64(4), object(1)\n",
      "memory usage: 3.8+ MB\n"
     ]
    }
   ],
   "source": [
    "geo_data_2.info()"
   ]
  },
  {
   "cell_type": "code",
   "execution_count": null,
   "metadata": {},
   "outputs": [],
   "source": []
  },
  {
   "cell_type": "markdown",
   "metadata": {},
   "source": [
    "### Дубликаты"
   ]
  },
  {
   "cell_type": "code",
   "execution_count": 7,
   "metadata": {},
   "outputs": [
    {
     "name": "stdout",
     "output_type": "stream",
     "text": [
      "Количество дублирующихся id в регионе 0: 10\n",
      "Количество дублирующихся id в регионе 1: 4\n",
      "Количество дублирующихся id в регионе 2: 4\n"
     ]
    }
   ],
   "source": [
    "print(f\"Количество дублирующихся id в регионе 0: {geo_data_0['id'].value_counts().pipe(lambda x: x[x>=2]).count()}\")\n",
    "print(f\"Количество дублирующихся id в регионе 1: {geo_data_1['id'].value_counts().pipe(lambda x: x[x>=2]).count()}\")\n",
    "print(f\"Количество дублирующихся id в регионе 2: {geo_data_2['id'].value_counts().pipe(lambda x: x[x>=2]).count()}\")"
   ]
  },
  {
   "cell_type": "markdown",
   "metadata": {},
   "source": [
    "<div style=\"border:solid gray 2.0px; padding: 10px\"> \n",
    "    \n",
    "    Мы видим, что в данных каждого региона есть дублирующиеся id\n",
    "    Непонятно, это разные скважины случайно получили одно и то же id, или это данные по одной и той же скважине в разное время?\n",
    "    \n",
    "    С учетом того, что таких данных не много, удалим их\n",
    "    \n",
    "</div>"
   ]
  },
  {
   "cell_type": "code",
   "execution_count": 8,
   "metadata": {},
   "outputs": [
    {
     "name": "stdout",
     "output_type": "stream",
     "text": [
      "размер датасета geo_data_0 до удаления дубликатов (100000, 5)\n",
      "размер датасета geo_data_1 до удаления дубликатов (100000, 5)\n",
      "размер датасета geo_data_2 до удаления дубликатов (100000, 5)\n",
      "\n",
      "размер датасета geo_data_0 после удаления дубликатов (99990, 5)\n",
      "размер датасета geo_data_1 после удаления дубликатов (99996, 5)\n",
      "размер датасета geo_data_2 после удаления дубликатов (99996, 5)\n"
     ]
    }
   ],
   "source": [
    "print(f'размер датасета geo_data_0 до удаления дубликатов {geo_data_0.shape}')\n",
    "print(f'размер датасета geo_data_1 до удаления дубликатов {geo_data_1.shape}')\n",
    "print(f'размер датасета geo_data_2 до удаления дубликатов {geo_data_2.shape}\\n')\n",
    "\n",
    "geo_data_0 = geo_data_0.drop_duplicates('id').reset_index(drop = True)\n",
    "geo_data_1 = geo_data_1.drop_duplicates('id').reset_index(drop = True)\n",
    "geo_data_2 = geo_data_2.drop_duplicates('id').reset_index(drop = True)\n",
    "\n",
    "print(f'размер датасета geo_data_0 после удаления дубликатов {geo_data_0.shape}')\n",
    "print(f'размер датасета geo_data_1 после удаления дубликатов {geo_data_1.shape}')\n",
    "print(f'размер датасета geo_data_2 после удаления дубликатов {geo_data_2.shape}')"
   ]
  },
  {
   "cell_type": "code",
   "execution_count": null,
   "metadata": {},
   "outputs": [],
   "source": []
  },
  {
   "cell_type": "markdown",
   "metadata": {},
   "source": [
    "### Масштаб признаков"
   ]
  },
  {
   "cell_type": "markdown",
   "metadata": {},
   "source": [
    "<div style=\"border:solid gray 2.0px; padding: 10px\"> \n",
    "    \n",
    "    Посмотрим масштаб признаков f0, f1, f2\n",
    "    \n",
    "</div>"
   ]
  },
  {
   "cell_type": "code",
   "execution_count": 9,
   "metadata": {},
   "outputs": [],
   "source": [
    "def dist_priznak(priznak):\n",
    "    plt.subplots(figsize = (10,6))\n",
    "    sns.distplot(geo_data_0[priznak], color=\"skyblue\", label=\"region1\", kde=True)\n",
    "    sns.distplot(geo_data_1[priznak], color=\"red\"    , label=\"region2\", kde=True)\n",
    "    sns.distplot(geo_data_2[priznak], color=\"green\"    , label=\"region3\", kde=True)\n",
    "    plt.title(f'Гистограмма признака {priznak} по регионам', fontsize = 15);\n",
    "    plt.xlabel(priznak, fontsize = 12)\n",
    "    plt.legend();"
   ]
  },
  {
   "cell_type": "code",
   "execution_count": null,
   "metadata": {},
   "outputs": [],
   "source": []
  },
  {
   "cell_type": "code",
   "execution_count": 10,
   "metadata": {},
   "outputs": [
    {
     "data": {
      "image/png": "[encoded data removed]",
      "text/plain": [
       "<Figure size 720x432 with 1 Axes>"
      ]
     },
     "metadata": {},
     "output_type": "display_data"
    }
   ],
   "source": [
    "dist_priznak('f0')"
   ]
  },
  {
   "cell_type": "code",
   "execution_count": 11,
   "metadata": {},
   "outputs": [
    {
     "data": {
      "image/png": "[encoded data removed]",
      "text/plain": [
       "<Figure size 720x432 with 1 Axes>"
      ]
     },
     "metadata": {},
     "output_type": "display_data"
    }
   ],
   "source": [
    "dist_priznak('f1')"
   ]
  },
  {
   "cell_type": "code",
   "execution_count": 12,
   "metadata": {},
   "outputs": [
    {
     "data": {
      "image/png": "[encoded data removed]",
      "text/plain": [
       "<Figure size 720x432 with 1 Axes>"
      ]
     },
     "metadata": {},
     "output_type": "display_data"
    }
   ],
   "source": [
    "dist_priznak('f2')"
   ]
  },
  {
   "cell_type": "markdown",
   "metadata": {},
   "source": [
    "<div style=\"border:solid gray 2.0px; padding: 10px\"> \n",
    "    \n",
    "    Видим, что масштаб всех трех признаков сопоставимый, поэтому масштабирование применять не будем\n",
    "    \n",
    "</div>"
   ]
  },
  {
   "cell_type": "code",
   "execution_count": null,
   "metadata": {},
   "outputs": [],
   "source": []
  },
  {
   "cell_type": "markdown",
   "metadata": {},
   "source": [
    "## Обучение и проверка модели"
   ]
  },
  {
   "cell_type": "code",
   "execution_count": 14,
   "metadata": {},
   "outputs": [],
   "source": [
    "def split_features_target(data, target, test_size=0.25, drop_col=None):\n",
    "    \n",
    "    name =[x for x in globals() if globals()[x] is data][0]\n",
    "    if drop_col:\n",
    "        data = data.drop(drop_col, axis=1)\n",
    "\n",
    "    data_train, data_valid = train_test_split(data, test_size=test_size, random_state=12345)\n",
    "    \n",
    "    print(f'Размер исходной выборки в датасете {name}: {data.shape}')\n",
    "    print(f'Размер обучающей выборки, полученной из датасета {name}: {data_train.shape}')\n",
    "    print(f'Размер валидационной выборки, полученной из датасета {name}: {data_valid.shape}')\n",
    "    print()\n",
    "\n",
    "    features_train = data_train.drop(target, axis=1)\n",
    "    target_train = data_train[target]\n",
    "    features_valid = data_valid.drop(target, axis=1)\n",
    "    target_valid = data_valid[target]\n",
    "    \n",
    "    return features_train, target_train, features_valid, target_valid"
   ]
  },
  {
   "cell_type": "code",
   "execution_count": 15,
   "metadata": {},
   "outputs": [
    {
     "name": "stdout",
     "output_type": "stream",
     "text": [
      "Размер исходной выборки в датасете geo_data_0: (99990, 4)\n",
      "Размер обучающей выборки, полученной из датасета geo_data_0: (74992, 4)\n",
      "Размер валидационной выборки, полученной из датасета geo_data_0: (24998, 4)\n",
      "\n",
      "Размер исходной выборки в датасете geo_data_1: (99996, 4)\n",
      "Размер обучающей выборки, полученной из датасета geo_data_1: (74997, 4)\n",
      "Размер валидационной выборки, полученной из датасета geo_data_1: (24999, 4)\n",
      "\n",
      "Размер исходной выборки в датасете geo_data_2: (99996, 4)\n",
      "Размер обучающей выборки, полученной из датасета geo_data_2: (74997, 4)\n",
      "Размер валидационной выборки, полученной из датасета geo_data_2: (24999, 4)\n",
      "\n"
     ]
    }
   ],
   "source": [
    "features_train_0, target_train_0, features_valid_0, target_valid_0 = split_features_target(data=geo_data_0, target='product', drop_col='id')\n",
    "features_train_1, target_train_1, features_valid_1, target_valid_1 = split_features_target(data=geo_data_1, target='product', drop_col='id')\n",
    "features_train_2, target_train_2, features_valid_2, target_valid_2 = split_features_target(data=geo_data_2, target='product', drop_col='id')"
   ]
  },
  {
   "cell_type": "code",
   "execution_count": null,
   "metadata": {},
   "outputs": [],
   "source": []
  },
  {
   "cell_type": "code",
   "execution_count": 16,
   "metadata": {},
   "outputs": [],
   "source": [
    "def model_profit(features_train, target_train, features_valid, target_valid):\n",
    "    model = LinearRegression()\n",
    "    model.fit(features_train, target_train)\n",
    "    predict_model = model.predict(features_valid)\n",
    "    predict_model = pd.Series(predict_model, index=target_valid.index)\n",
    "    rmse_model = mean_squared_error(target_valid, predict_model)**0.5\n",
    "    \n",
    "    predict_mean = pd.Series(target_train.mean(), index=target_valid.index)\n",
    "    rmse_mean = mean_squared_error(target_valid, predict_mean)**0.5\n",
    "    \n",
    "    return model, predict_model, rmse_model, rmse_mean"
   ]
  },
  {
   "cell_type": "code",
   "execution_count": 17,
   "metadata": {},
   "outputs": [],
   "source": [
    "model_0, predict_0, rmse_0, rmse_mean_0 = model_profit(features_train_0, target_train_0, features_valid_0, target_valid_0)\n",
    "model_1, predict_1, rmse_1, rmse_mean_1 = model_profit(features_train_1, target_train_1, features_valid_1, target_valid_1)\n",
    "model_2, predict_2, rmse_2, rmse_mean_2 = model_profit(features_train_2, target_train_2, features_valid_2, target_valid_2)"
   ]
  },
  {
   "cell_type": "code",
   "execution_count": 18,
   "metadata": {},
   "outputs": [
    {
     "name": "stdout",
     "output_type": "stream",
     "text": [
      "RMSE модели в регионе 0: 37.853527328872964\n",
      "RMSE модели, в регионе 0 если предсказывать средним числом : 44.379313806074194\n",
      "\n",
      "RMSE модели в регионе 1: 0.892059264771702\n",
      "RMSE модели, в регионе 1 если предсказывать средним числом : 45.903263550206404\n",
      "\n",
      "RMSE модели в регионе 2: 40.07585073246016\n",
      "RMSE модели, в регионе 2 если предсказывать средним числом : 44.68331298360565\n"
     ]
    }
   ],
   "source": [
    "print(f'RMSE модели в регионе 0: {rmse_0}')\n",
    "print(f'RMSE модели, в регионе 0 если предсказывать средним числом : {rmse_mean_0}')\n",
    "print()\n",
    "print(f'RMSE модели в регионе 1: {rmse_1}')\n",
    "print(f'RMSE модели, в регионе 1 если предсказывать средним числом : {rmse_mean_1}')\n",
    "print()\n",
    "print(f'RMSE модели в регионе 2: {rmse_2}')\n",
    "print(f'RMSE модели, в регионе 2 если предсказывать средним числом : {rmse_mean_2}')"
   ]
  },
  {
   "cell_type": "code",
   "execution_count": null,
   "metadata": {},
   "outputs": [],
   "source": []
  },
  {
   "cell_type": "markdown",
   "metadata": {},
   "source": [
    "## Подготовка к расчёту прибыли"
   ]
  },
  {
   "cell_type": "code",
   "execution_count": 19,
   "metadata": {},
   "outputs": [],
   "source": [
    "PRICE = 450000\n",
    "BUDGET_RERION = 10*10**9"
   ]
  },
  {
   "cell_type": "code",
   "execution_count": 20,
   "metadata": {},
   "outputs": [],
   "source": [
    "SAMPLE_SIZE_BEST_WELL = 200\n",
    "SAMPLE_SIZE_WELL = 500"
   ]
  },
  {
   "cell_type": "code",
   "execution_count": null,
   "metadata": {},
   "outputs": [],
   "source": []
  },
  {
   "cell_type": "markdown",
   "metadata": {},
   "source": [
    "### Безубыточный объем скважины"
   ]
  },
  {
   "cell_type": "markdown",
   "metadata": {},
   "source": [
    "<div style=\"border:solid gray 2.0px; padding: 10px\"> \n",
    "    \n",
    "    Разделив общий бюджет на количество скважин, получим бюджет на одну скважину.\n",
    "    Разделив бюджет на одну скважину на цену продукта, получим безубыточный объем скважины\n",
    "    \n",
    "</div>"
   ]
  },
  {
   "cell_type": "code",
   "execution_count": 21,
   "metadata": {},
   "outputs": [
    {
     "data": {
      "text/plain": [
       "111.11111111111111"
      ]
     },
     "execution_count": 21,
     "metadata": {},
     "output_type": "execute_result"
    }
   ],
   "source": [
    "VOLUME_OIL_WELL = BUDGET_RERION / SAMPLE_SIZE_BEST_WELL / PRICE\n",
    "VOLUME_OIL_WELL"
   ]
  },
  {
   "cell_type": "code",
   "execution_count": null,
   "metadata": {},
   "outputs": [],
   "source": []
  },
  {
   "cell_type": "markdown",
   "metadata": {},
   "source": [
    "<div style=\"border:solid gray 2.0px; padding: 10px\"> \n",
    "    \n",
    "**Вывод:**\n",
    "\n",
    "Безубыточный объем скважины равен 111.11 тыс. баррелей.\n",
    "    \n",
    "    \n",
    "</div>"
   ]
  },
  {
   "cell_type": "code",
   "execution_count": null,
   "metadata": {},
   "outputs": [],
   "source": []
  },
  {
   "cell_type": "markdown",
   "metadata": {},
   "source": [
    "## Расчёт прибыли и рисков "
   ]
  },
  {
   "cell_type": "markdown",
   "metadata": {},
   "source": [
    "### Функция для расчета прибыли"
   ]
  },
  {
   "cell_type": "markdown",
   "metadata": {},
   "source": [
    "<div style=\"border:solid gray 2.0px; padding: 10px\"> \n",
    "    \n",
    "Функция revenue расчитывает потенциальную прибыль региона от бурения заданного количества лучших с точки зрения предсказания объема сырья скважин.\n",
    "    \n",
    "Получает на вход выбранные скважины, предсказания объема сырья в них, и количество отбираемых скважин.\n",
    "\n",
    "Возвращает совокупный предполагаемый доход в результате освоения отобранных скважин\n",
    "\n",
    "    \n",
    "</div>"
   ]
  },
  {
   "cell_type": "code",
   "execution_count": 34,
   "metadata": {},
   "outputs": [],
   "source": [
    "def profit(target, predict, count=200, price=PRICE, budget_region=BUDGET_RERION):\n",
    "    predict_sorted = predict.sort_values(ascending=False)\n",
    "    selected = target[predict_sorted.index][:count]\n",
    "\n",
    "    return (price * selected.sum()) - budget_region"
   ]
  },
  {
   "cell_type": "code",
   "execution_count": null,
   "metadata": {},
   "outputs": [],
   "source": []
  },
  {
   "cell_type": "markdown",
   "metadata": {},
   "source": [
    "### Расчет прибыли"
   ]
  },
  {
   "cell_type": "markdown",
   "metadata": {},
   "source": [
    "<div style=\"border:solid gray 2.0px; padding: 10px\"> \n",
    "    \n",
    "    Создадим и наполним словарь, ключами которого будут регионы, а значениями показатели прибыли, полученные техникой Bootsrap\n",
    "    \n",
    "</div>"
   ]
  },
  {
   "cell_type": "code",
   "execution_count": 36,
   "metadata": {},
   "outputs": [],
   "source": [
    "state = np.random.RandomState(12345)\n",
    "def profit_region(target_valid, predict, items=1000, state=state, sample_size_well=SAMPLE_SIZE_WELL, sample_size_best_well=SAMPLE_SIZE_BEST_WELL):\n",
    "    profit_region=[]\n",
    "    for i in range(items):\n",
    "        target_subsample = target_valid.sample(frac=1/len(target_valid)*sample_size_well, replace=True, random_state=state)\n",
    "        predict_subsample = predict[target_subsample.index]\n",
    "        profit_region.append(profit(target_subsample, predict_subsample, sample_size_best_well))\n",
    "    return profit_region"
   ]
  },
  {
   "cell_type": "code",
   "execution_count": 37,
   "metadata": {},
   "outputs": [],
   "source": [
    "profit_dict = dict()\n",
    "profit_dict['region0'] = profit_region(target_valid_0, predict_0)\n",
    "profit_dict['region1'] = profit_region(target_valid_1, predict_1)\n",
    "profit_dict['region2'] = profit_region(target_valid_2, predict_2)"
   ]
  },
  {
   "cell_type": "code",
   "execution_count": null,
   "metadata": {},
   "outputs": [],
   "source": []
  },
  {
   "cell_type": "code",
   "execution_count": null,
   "metadata": {},
   "outputs": [],
   "source": []
  },
  {
   "cell_type": "markdown",
   "metadata": {},
   "source": [
    "<div style=\"border:solid gray 2.0px; padding: 10px\"> \n",
    "    \n",
    "    Построим распределение прибыли по регионам, чтобы оценить ее визуально\n",
    "    \n",
    "</div>"
   ]
  },
  {
   "cell_type": "code",
   "execution_count": 38,
   "metadata": {},
   "outputs": [
    {
     "data": {
      "image/png": "[encoded data removed]",
      "text/plain": [
       "<Figure size 864x576 with 3 Axes>"
      ]
     },
     "metadata": {},
     "output_type": "display_data"
    }
   ],
   "source": [
    "fig, axes = plt.subplots(1, 3, figsize=(12, 8), sharey=True)\n",
    "for axnum, (region, profits) in enumerate(profit_dict.items()):\n",
    "    data = pd.DataFrame(profits, columns=[region])    \n",
    "    ax = sns.boxplot(ax=axes[axnum], data = data)\n",
    "\n",
    "fig.suptitle('Распределение прибыли по регионам', fontsize=15);"
   ]
  },
  {
   "cell_type": "code",
   "execution_count": null,
   "metadata": {},
   "outputs": [],
   "source": []
  },
  {
   "cell_type": "code",
   "execution_count": 39,
   "metadata": {},
   "outputs": [
    {
     "data": {
      "image/png": "[encoded data removed]",
      "text/plain": [
       "<Figure size 720x432 with 1 Axes>"
      ]
     },
     "metadata": {},
     "output_type": "display_data"
    }
   ],
   "source": [
    "plt.subplots(figsize = (10,6))\n",
    "sns.distplot(pd.Series(profit_dict['region0']), color=\"skyblue\", label=\"region0\", kde=True)\n",
    "sns.distplot(pd.Series(profit_dict['region1']), color=\"red\"    , label=\"region1\", kde=True)\n",
    "sns.distplot(pd.Series(profit_dict['region2']), color=\"green\"  , label=\"region2\", kde=True)\n",
    "plt.title(f'Распределение прибыли по регионам', fontsize = 15);\n",
    "plt.xlabel('Прибыль', fontsize = 12)\n",
    "plt.legend();"
   ]
  },
  {
   "cell_type": "code",
   "execution_count": null,
   "metadata": {},
   "outputs": [],
   "source": []
  },
  {
   "cell_type": "code",
   "execution_count": null,
   "metadata": {},
   "outputs": [],
   "source": []
  },
  {
   "cell_type": "code",
   "execution_count": 40,
   "metadata": {},
   "outputs": [],
   "source": [
    "profits_reg = pd.DataFrame(columns=['region', 'mean', 'conf_int', 'risk_loss'])\n",
    "for region, profits in profit_dict.items():\n",
    "    profits_reg.loc[len(profits_reg)] = [\n",
    "        region, \n",
    "        np.mean(profits), \n",
    "        (pd.Series(profits).quantile(0.025), pd.Series(profits).quantile(0.975)),\n",
    "        (pd.Series(profits)<0).mean()*100\n",
    "    ]\n",
    "#        pd.Series(profits).pipe(lambda x: x[x<0]).count() / pd.Series(profits).count()*100\n",
    "    "
   ]
  },
  {
   "cell_type": "code",
   "execution_count": 41,
   "metadata": {},
   "outputs": [
    {
     "data": {
      "text/html": [
       "<div>\n",
       "<style scoped>\n",
       "    .dataframe tbody tr th:only-of-type {\n",
       "        vertical-align: middle;\n",
       "    }\n",
       "\n",
       "    .dataframe tbody tr th {\n",
       "        vertical-align: top;\n",
       "    }\n",
       "\n",
       "    .dataframe thead th {\n",
       "        text-align: right;\n",
       "    }\n",
       "</style>\n",
       "<table border=\"1\" class=\"dataframe\">\n",
       "  <thead>\n",
       "    <tr style=\"text-align: right;\">\n",
       "      <th></th>\n",
       "      <th>region</th>\n",
       "      <th>mean</th>\n",
       "      <th>conf_int</th>\n",
       "      <th>risk_loss</th>\n",
       "    </tr>\n",
       "  </thead>\n",
       "  <tbody>\n",
       "    <tr>\n",
       "      <td>0</td>\n",
       "      <td>region0</td>\n",
       "      <td>409,428,038.62</td>\n",
       "      <td>(-131536028.70166382, 944395582.7546725)</td>\n",
       "      <td>7.10</td>\n",
       "    </tr>\n",
       "    <tr>\n",
       "      <td>1</td>\n",
       "      <td>region1</td>\n",
       "      <td>536,400,199.44</td>\n",
       "      <td>(112954247.12370129, 998504156.6468805)</td>\n",
       "      <td>0.30</td>\n",
       "    </tr>\n",
       "    <tr>\n",
       "      <td>2</td>\n",
       "      <td>region2</td>\n",
       "      <td>339,478,034.20</td>\n",
       "      <td>(-224089221.74407586, 847067587.6863929)</td>\n",
       "      <td>11.80</td>\n",
       "    </tr>\n",
       "  </tbody>\n",
       "</table>\n",
       "</div>"
      ],
      "text/plain": [
       "    region           mean                                  conf_int  risk_loss\n",
       "0  region0 409,428,038.62  (-131536028.70166382, 944395582.7546725)       7.10\n",
       "1  region1 536,400,199.44   (112954247.12370129, 998504156.6468805)       0.30\n",
       "2  region2 339,478,034.20  (-224089221.74407586, 847067587.6863929)      11.80"
      ]
     },
     "execution_count": 41,
     "metadata": {},
     "output_type": "execute_result"
    }
   ],
   "source": [
    "profits_reg"
   ]
  },
  {
   "cell_type": "code",
   "execution_count": null,
   "metadata": {},
   "outputs": [],
   "source": []
  },
  {
   "cell_type": "markdown",
   "metadata": {},
   "source": [
    "### Вывод"
   ]
  },
  {
   "cell_type": "markdown",
   "metadata": {},
   "source": [
    "<div class=\"alert alert-block alert-warning\">\n",
    "\n",
    "    \n",
    "**Вывод:**\n",
    "    \n",
    "Риски убытков в каждом регионе разные:\n",
    " - region0: 7.1%\n",
    " - region1: 0.3%\n",
    " - region2: 11.8%\n",
    "    \n",
    "Рекомендуемый регион 1: доля риска 0.3%. Это единственный регион с долей риска меньше 2.5% (заданного максимального порога)\n",
    "    \n",
    "    \n",
    "</div>"
   ]
  },
  {
   "cell_type": "code",
   "execution_count": null,
   "metadata": {},
   "outputs": [],
   "source": []
  }
 ],
 "metadata": {
  "ExecuteTimeLog": [
   {
    "duration": 611,
    "start_time": "2022-03-02T16:00:30.621Z"
   },
   {
    "duration": 73,
    "start_time": "2022-03-02T16:00:47.461Z"
   },
   {
    "duration": 135,
    "start_time": "2022-03-02T16:00:51.441Z"
   },
   {
    "duration": 16,
    "start_time": "2022-03-02T16:01:00.643Z"
   },
   {
    "duration": 4,
    "start_time": "2022-03-02T16:08:42.360Z"
   },
   {
    "duration": 285,
    "start_time": "2022-03-02T18:17:49.709Z"
   },
   {
    "duration": 727,
    "start_time": "2022-03-02T18:17:53.889Z"
   },
   {
    "duration": 184,
    "start_time": "2022-03-02T18:17:57.310Z"
   },
   {
    "duration": 12,
    "start_time": "2022-03-02T18:17:57.564Z"
   },
   {
    "duration": 178,
    "start_time": "2022-03-02T18:17:58.449Z"
   },
   {
    "duration": 545,
    "start_time": "2022-03-03T21:27:26.254Z"
   },
   {
    "duration": 129,
    "start_time": "2022-03-03T21:27:27.943Z"
   },
   {
    "duration": 9,
    "start_time": "2022-03-03T21:27:29.334Z"
   },
   {
    "duration": 352,
    "start_time": "2022-03-03T21:27:42.322Z"
   },
   {
    "duration": 4,
    "start_time": "2022-03-03T21:27:55.233Z"
   },
   {
    "duration": 4,
    "start_time": "2022-03-03T21:27:55.634Z"
   },
   {
    "duration": 11,
    "start_time": "2022-03-03T21:28:04.873Z"
   },
   {
    "duration": 299,
    "start_time": "2022-03-03T21:31:16.354Z"
   },
   {
    "duration": 199,
    "start_time": "2022-03-03T21:31:26.134Z"
   },
   {
    "duration": 197,
    "start_time": "2022-03-03T21:31:35.838Z"
   },
   {
    "duration": 254,
    "start_time": "2022-03-03T21:38:32.943Z"
   },
   {
    "duration": 66,
    "start_time": "2022-03-03T21:41:40.860Z"
   },
   {
    "duration": 416,
    "start_time": "2022-03-03T21:41:45.540Z"
   },
   {
    "duration": 371,
    "start_time": "2022-03-03T21:41:46.499Z"
   },
   {
    "duration": 780,
    "start_time": "2022-03-03T21:41:47.500Z"
   },
   {
    "duration": 883,
    "start_time": "2022-03-03T21:41:59.257Z"
   },
   {
    "duration": 769,
    "start_time": "2022-03-03T21:42:31.019Z"
   },
   {
    "duration": 757,
    "start_time": "2022-03-03T21:42:55.579Z"
   },
   {
    "duration": 654,
    "start_time": "2022-03-03T21:43:19.979Z"
   },
   {
    "duration": 879,
    "start_time": "2022-03-03T21:44:12.019Z"
   },
   {
    "duration": 11,
    "start_time": "2022-03-03T21:52:08.180Z"
   },
   {
    "duration": 11,
    "start_time": "2022-03-03T21:52:13.779Z"
   },
   {
    "duration": 11,
    "start_time": "2022-03-03T21:52:19.981Z"
   },
   {
    "duration": 85,
    "start_time": "2022-03-03T21:59:03.581Z"
   },
   {
    "duration": 14,
    "start_time": "2022-03-03T21:59:35.580Z"
   },
   {
    "duration": 73,
    "start_time": "2022-03-03T22:00:28.141Z"
   },
   {
    "duration": 60,
    "start_time": "2022-03-03T22:00:55.341Z"
   },
   {
    "duration": 63,
    "start_time": "2022-03-03T22:01:06.461Z"
   },
   {
    "duration": 59,
    "start_time": "2022-03-03T22:01:11.701Z"
   },
   {
    "duration": 265,
    "start_time": "2022-03-03T22:01:16.981Z"
   },
   {
    "duration": 68,
    "start_time": "2022-03-03T22:01:21.659Z"
   },
   {
    "duration": 107,
    "start_time": "2022-03-03T22:02:56.996Z"
   },
   {
    "duration": 17,
    "start_time": "2022-03-03T22:03:25.866Z"
   },
   {
    "duration": 65,
    "start_time": "2022-03-03T22:06:43.531Z"
   },
   {
    "duration": 42,
    "start_time": "2022-03-03T22:08:58.480Z"
   },
   {
    "duration": 67,
    "start_time": "2022-03-03T22:09:50.692Z"
   },
   {
    "duration": 39,
    "start_time": "2022-03-03T22:09:54.181Z"
   },
   {
    "duration": 4,
    "start_time": "2022-03-03T22:21:40.252Z"
   },
   {
    "duration": 199,
    "start_time": "2022-03-03T22:26:24.018Z"
   },
   {
    "duration": 5,
    "start_time": "2022-03-03T22:26:46.779Z"
   },
   {
    "duration": 224,
    "start_time": "2022-03-03T22:26:50.468Z"
   },
   {
    "duration": 236,
    "start_time": "2022-03-03T22:27:08.492Z"
   },
   {
    "duration": 48,
    "start_time": "2022-03-03T22:31:47.690Z"
   },
   {
    "duration": 229,
    "start_time": "2022-03-03T22:32:10.400Z"
   },
   {
    "duration": 260,
    "start_time": "2022-03-03T22:32:25.348Z"
   },
   {
    "duration": 315,
    "start_time": "2022-03-03T22:33:11.990Z"
   },
   {
    "duration": 315,
    "start_time": "2022-03-03T22:35:23.390Z"
   },
   {
    "duration": 262,
    "start_time": "2022-03-03T22:35:40.019Z"
   },
   {
    "duration": 446,
    "start_time": "2022-03-03T22:35:59.501Z"
   },
   {
    "duration": 4,
    "start_time": "2022-03-03T22:36:02.981Z"
   },
   {
    "duration": 39,
    "start_time": "2022-03-03T22:38:26.360Z"
   },
   {
    "duration": 5,
    "start_time": "2022-03-03T22:39:08.420Z"
   },
   {
    "duration": 472,
    "start_time": "2022-03-03T22:40:13.691Z"
   },
   {
    "duration": 5,
    "start_time": "2022-03-03T22:40:19.579Z"
   },
   {
    "duration": 412,
    "start_time": "2022-03-03T22:41:00.450Z"
   },
   {
    "duration": 4,
    "start_time": "2022-03-03T22:41:02.122Z"
   },
   {
    "duration": 52,
    "start_time": "2022-03-03T22:43:48.898Z"
   },
   {
    "duration": 70,
    "start_time": "2022-03-03T22:44:01.870Z"
   },
   {
    "duration": 116,
    "start_time": "2022-03-03T22:45:00.130Z"
   },
   {
    "duration": 92,
    "start_time": "2022-03-04T08:23:24.335Z"
   },
   {
    "duration": 1519,
    "start_time": "2022-03-04T08:23:39.495Z"
   },
   {
    "duration": 465,
    "start_time": "2022-03-04T08:23:41.017Z"
   },
   {
    "duration": 114,
    "start_time": "2022-03-04T08:23:42.594Z"
   },
   {
    "duration": 95,
    "start_time": "2022-03-04T08:23:53.655Z"
   },
   {
    "duration": 156,
    "start_time": "2022-03-04T08:24:14.495Z"
   },
   {
    "duration": 99,
    "start_time": "2022-03-04T08:24:21.274Z"
   },
   {
    "duration": 252,
    "start_time": "2022-03-04T08:24:31.636Z"
   },
   {
    "duration": 283,
    "start_time": "2022-03-04T08:24:37.615Z"
   },
   {
    "duration": 96,
    "start_time": "2022-03-04T08:50:06.494Z"
   },
   {
    "duration": 373,
    "start_time": "2022-03-04T08:50:13.514Z"
   },
   {
    "duration": 5,
    "start_time": "2022-03-04T08:50:16.755Z"
   },
   {
    "duration": 92,
    "start_time": "2022-03-04T08:50:31.855Z"
   },
   {
    "duration": 437,
    "start_time": "2022-03-04T08:50:48.974Z"
   },
   {
    "duration": 422,
    "start_time": "2022-03-04T08:51:00.454Z"
   },
   {
    "duration": 5,
    "start_time": "2022-03-04T08:51:01.248Z"
   },
   {
    "duration": 339,
    "start_time": "2022-03-04T08:52:53.515Z"
   },
   {
    "duration": 86,
    "start_time": "2022-03-04T08:53:50.494Z"
   },
   {
    "duration": 367,
    "start_time": "2022-03-04T08:54:05.243Z"
   },
   {
    "duration": 359,
    "start_time": "2022-03-04T08:54:54.554Z"
   },
   {
    "duration": 323,
    "start_time": "2022-03-04T08:55:12.443Z"
   },
   {
    "duration": 91,
    "start_time": "2022-03-04T08:59:03.775Z"
   },
   {
    "duration": 326,
    "start_time": "2022-03-04T08:59:23.294Z"
   },
   {
    "duration": 382,
    "start_time": "2022-03-04T08:59:37.703Z"
   },
   {
    "duration": 326,
    "start_time": "2022-03-04T09:01:39.415Z"
   },
   {
    "duration": 91,
    "start_time": "2022-03-04T09:01:44.175Z"
   },
   {
    "duration": 357,
    "start_time": "2022-03-04T09:01:50.975Z"
   },
   {
    "duration": 97,
    "start_time": "2022-03-04T09:01:56.789Z"
   },
   {
    "duration": 375,
    "start_time": "2022-03-04T09:02:18.042Z"
   },
   {
    "duration": 36,
    "start_time": "2022-03-04T09:04:02.816Z"
   },
   {
    "duration": 54,
    "start_time": "2022-03-04T09:04:49.494Z"
   },
   {
    "duration": 42,
    "start_time": "2022-03-04T09:04:59.374Z"
   },
   {
    "duration": 331,
    "start_time": "2022-03-04T09:05:01.511Z"
   },
   {
    "duration": 483,
    "start_time": "2022-03-04T09:05:31.315Z"
   },
   {
    "duration": 44,
    "start_time": "2022-03-04T09:05:31.801Z"
   },
   {
    "duration": 295,
    "start_time": "2022-03-04T09:05:32.463Z"
   },
   {
    "duration": 107,
    "start_time": "2022-03-04T09:05:34.175Z"
   },
   {
    "duration": 18,
    "start_time": "2022-03-04T09:08:31.462Z"
   },
   {
    "duration": 14,
    "start_time": "2022-03-04T09:08:32.195Z"
   },
   {
    "duration": 15,
    "start_time": "2022-03-04T09:08:32.582Z"
   },
   {
    "duration": 458,
    "start_time": "2022-03-04T09:08:39.479Z"
   },
   {
    "duration": 13,
    "start_time": "2022-03-04T09:08:39.940Z"
   },
   {
    "duration": 15,
    "start_time": "2022-03-04T09:08:40.294Z"
   },
   {
    "duration": 15,
    "start_time": "2022-03-04T09:08:40.649Z"
   },
   {
    "duration": 442,
    "start_time": "2022-03-04T09:16:11.844Z"
   },
   {
    "duration": 13,
    "start_time": "2022-03-04T09:16:12.289Z"
   },
   {
    "duration": 14,
    "start_time": "2022-03-04T09:16:12.306Z"
   },
   {
    "duration": 15,
    "start_time": "2022-03-04T09:16:12.554Z"
   },
   {
    "duration": 263,
    "start_time": "2022-03-04T09:16:16.062Z"
   },
   {
    "duration": 125,
    "start_time": "2022-03-04T09:16:18.374Z"
   },
   {
    "duration": 117,
    "start_time": "2022-03-04T09:16:37.835Z"
   },
   {
    "duration": 7,
    "start_time": "2022-03-04T09:16:42.676Z"
   },
   {
    "duration": 482,
    "start_time": "2022-03-04T09:16:43.076Z"
   },
   {
    "duration": 19,
    "start_time": "2022-03-04T09:16:43.561Z"
   },
   {
    "duration": 19,
    "start_time": "2022-03-04T09:16:43.583Z"
   },
   {
    "duration": 22,
    "start_time": "2022-03-04T09:16:43.697Z"
   },
   {
    "duration": 306,
    "start_time": "2022-03-04T09:16:45.415Z"
   },
   {
    "duration": 156,
    "start_time": "2022-03-04T09:16:47.495Z"
   },
   {
    "duration": 7,
    "start_time": "2022-03-04T09:17:28.634Z"
   },
   {
    "duration": 470,
    "start_time": "2022-03-04T09:17:29.034Z"
   },
   {
    "duration": 14,
    "start_time": "2022-03-04T09:17:29.507Z"
   },
   {
    "duration": 16,
    "start_time": "2022-03-04T09:17:29.524Z"
   },
   {
    "duration": 16,
    "start_time": "2022-03-04T09:17:29.577Z"
   },
   {
    "duration": 270,
    "start_time": "2022-03-04T09:17:30.254Z"
   },
   {
    "duration": 125,
    "start_time": "2022-03-04T09:17:30.674Z"
   },
   {
    "duration": 1216,
    "start_time": "2022-03-04T09:19:07.962Z"
   },
   {
    "duration": 91,
    "start_time": "2022-03-04T09:20:55.615Z"
   },
   {
    "duration": 6,
    "start_time": "2022-03-04T09:20:59.215Z"
   },
   {
    "duration": 1387,
    "start_time": "2022-03-04T09:21:08.503Z"
   },
   {
    "duration": 1270,
    "start_time": "2022-03-04T09:21:25.404Z"
   },
   {
    "duration": 1149,
    "start_time": "2022-03-04T09:21:33.227Z"
   },
   {
    "duration": 8,
    "start_time": "2022-03-04T09:25:29.314Z"
   },
   {
    "duration": 71,
    "start_time": "2022-03-04T09:28:35.175Z"
   },
   {
    "duration": 89,
    "start_time": "2022-03-04T09:28:52.015Z"
   },
   {
    "duration": 85,
    "start_time": "2022-03-04T09:28:55.602Z"
   },
   {
    "duration": 5,
    "start_time": "2022-03-04T09:28:58.574Z"
   },
   {
    "duration": 38,
    "start_time": "2022-03-04T09:32:42.072Z"
   },
   {
    "duration": 11,
    "start_time": "2022-03-04T09:34:58.715Z"
   },
   {
    "duration": 39,
    "start_time": "2022-03-04T09:34:59.235Z"
   },
   {
    "duration": 11,
    "start_time": "2022-03-04T09:35:34.896Z"
   },
   {
    "duration": 10,
    "start_time": "2022-03-04T09:35:50.615Z"
   },
   {
    "duration": 50,
    "start_time": "2022-03-04T09:36:02.934Z"
   },
   {
    "duration": 12,
    "start_time": "2022-03-04T09:36:38.394Z"
   },
   {
    "duration": 6,
    "start_time": "2022-03-04T09:39:07.235Z"
   },
   {
    "duration": 6,
    "start_time": "2022-03-04T09:39:17.174Z"
   },
   {
    "duration": 6,
    "start_time": "2022-03-04T09:40:33.454Z"
   },
   {
    "duration": 6,
    "start_time": "2022-03-04T09:41:39.215Z"
   },
   {
    "duration": 6,
    "start_time": "2022-03-04T09:41:55.055Z"
   },
   {
    "duration": 13,
    "start_time": "2022-03-04T09:47:30.726Z"
   },
   {
    "duration": 452,
    "start_time": "2022-03-04T09:47:40.699Z"
   },
   {
    "duration": 1449,
    "start_time": "2022-03-04T09:47:53.896Z"
   },
   {
    "duration": 680,
    "start_time": "2022-03-04T09:48:07.919Z"
   },
   {
    "duration": 356,
    "start_time": "2022-03-04T09:54:50.107Z"
   },
   {
    "duration": 323,
    "start_time": "2022-03-04T09:55:10.799Z"
   },
   {
    "duration": 8,
    "start_time": "2022-03-04T09:58:32.784Z"
   },
   {
    "duration": 7,
    "start_time": "2022-03-04T10:00:37.299Z"
   },
   {
    "duration": 92,
    "start_time": "2022-03-04T10:04:47.979Z"
   },
   {
    "duration": 89,
    "start_time": "2022-03-04T10:06:34.923Z"
   },
   {
    "duration": 1561,
    "start_time": "2022-03-04T10:24:02.666Z"
   },
   {
    "duration": 492,
    "start_time": "2022-03-04T10:24:04.233Z"
   },
   {
    "duration": 15,
    "start_time": "2022-03-04T10:24:04.727Z"
   },
   {
    "duration": 32,
    "start_time": "2022-03-04T10:24:04.745Z"
   },
   {
    "duration": 33,
    "start_time": "2022-03-04T10:24:04.779Z"
   },
   {
    "duration": 17,
    "start_time": "2022-03-04T10:24:05.175Z"
   },
   {
    "duration": 273,
    "start_time": "2022-03-04T10:24:11.201Z"
   },
   {
    "duration": 237,
    "start_time": "2022-03-04T10:25:29.698Z"
   },
   {
    "duration": 132,
    "start_time": "2022-03-04T10:25:32.577Z"
   },
   {
    "duration": 7,
    "start_time": "2022-03-04T10:25:58.357Z"
   },
   {
    "duration": 8,
    "start_time": "2022-03-04T10:33:35.294Z"
   },
   {
    "duration": 474,
    "start_time": "2022-03-04T10:33:36.535Z"
   },
   {
    "duration": 16,
    "start_time": "2022-03-04T10:33:40.834Z"
   },
   {
    "duration": 15,
    "start_time": "2022-03-04T10:33:42.654Z"
   },
   {
    "duration": 19,
    "start_time": "2022-03-04T10:33:43.183Z"
   },
   {
    "duration": 14,
    "start_time": "2022-03-04T10:33:49.574Z"
   },
   {
    "duration": 251,
    "start_time": "2022-03-04T10:33:51.614Z"
   },
   {
    "duration": 118,
    "start_time": "2022-03-04T10:33:54.375Z"
   },
   {
    "duration": 6,
    "start_time": "2022-03-04T10:33:57.910Z"
   },
   {
    "duration": 1164,
    "start_time": "2022-03-04T10:34:00.975Z"
   },
   {
    "duration": 1183,
    "start_time": "2022-03-04T10:34:02.142Z"
   },
   {
    "duration": 1328,
    "start_time": "2022-03-04T10:34:03.328Z"
   },
   {
    "duration": 65,
    "start_time": "2022-03-04T10:34:15.822Z"
   },
   {
    "duration": 5,
    "start_time": "2022-03-04T10:34:16.554Z"
   },
   {
    "duration": 36,
    "start_time": "2022-03-04T10:34:24.874Z"
   },
   {
    "duration": 10,
    "start_time": "2022-03-04T10:34:25.862Z"
   },
   {
    "duration": 35,
    "start_time": "2022-03-04T10:34:26.595Z"
   },
   {
    "duration": 7,
    "start_time": "2022-03-04T10:34:29.155Z"
   },
   {
    "duration": 7,
    "start_time": "2022-03-04T10:34:36.755Z"
   },
   {
    "duration": 472,
    "start_time": "2022-03-04T10:37:18.974Z"
   },
   {
    "duration": 374,
    "start_time": "2022-03-04T10:38:02.334Z"
   },
   {
    "duration": 295,
    "start_time": "2022-03-04T10:38:35.002Z"
   },
   {
    "duration": 6,
    "start_time": "2022-03-04T10:40:38.572Z"
   },
   {
    "duration": 6,
    "start_time": "2022-03-04T10:41:01.254Z"
   },
   {
    "duration": 6,
    "start_time": "2022-03-04T11:40:10.320Z"
   },
   {
    "duration": 5,
    "start_time": "2022-03-04T11:40:10.977Z"
   },
   {
    "duration": 424,
    "start_time": "2022-03-04T11:40:21.437Z"
   },
   {
    "duration": 7,
    "start_time": "2022-03-04T11:40:36.397Z"
   },
   {
    "duration": 7,
    "start_time": "2022-03-04T11:40:46.718Z"
   },
   {
    "duration": 8,
    "start_time": "2022-03-04T11:41:28.242Z"
   },
   {
    "duration": 7,
    "start_time": "2022-03-04T11:43:41.639Z"
   },
   {
    "duration": 501,
    "start_time": "2022-03-04T11:43:42.680Z"
   },
   {
    "duration": 13,
    "start_time": "2022-03-04T11:43:43.184Z"
   },
   {
    "duration": 16,
    "start_time": "2022-03-04T11:43:46.499Z"
   },
   {
    "duration": 17,
    "start_time": "2022-03-04T11:43:46.767Z"
   },
   {
    "duration": 17,
    "start_time": "2022-03-04T11:43:47.048Z"
   },
   {
    "duration": 259,
    "start_time": "2022-03-04T11:43:50.400Z"
   },
   {
    "duration": 108,
    "start_time": "2022-03-04T11:43:51.521Z"
   },
   {
    "duration": 7,
    "start_time": "2022-03-04T11:43:58.111Z"
   },
   {
    "duration": 1297,
    "start_time": "2022-03-04T11:43:58.619Z"
   },
   {
    "duration": 1270,
    "start_time": "2022-03-04T11:44:00.880Z"
   },
   {
    "duration": 1237,
    "start_time": "2022-03-04T11:44:02.152Z"
   },
   {
    "duration": 59,
    "start_time": "2022-03-04T11:44:08.039Z"
   },
   {
    "duration": 5,
    "start_time": "2022-03-04T11:44:08.559Z"
   },
   {
    "duration": 34,
    "start_time": "2022-03-04T11:44:10.980Z"
   },
   {
    "duration": 10,
    "start_time": "2022-03-04T11:44:11.539Z"
   },
   {
    "duration": 88,
    "start_time": "2022-03-04T11:44:12.687Z"
   },
   {
    "duration": 8,
    "start_time": "2022-03-04T11:44:15.397Z"
   },
   {
    "duration": 8,
    "start_time": "2022-03-04T11:44:18.080Z"
   },
   {
    "duration": 254,
    "start_time": "2022-03-04T11:46:12.862Z"
   },
   {
    "duration": 15,
    "start_time": "2022-03-04T11:46:24.850Z"
   },
   {
    "duration": 8,
    "start_time": "2022-03-04T11:47:43.902Z"
   },
   {
    "duration": 7,
    "start_time": "2022-03-04T11:47:45.863Z"
   },
   {
    "duration": 4,
    "start_time": "2022-03-04T12:07:32.784Z"
   },
   {
    "duration": 6,
    "start_time": "2022-03-04T12:07:42.163Z"
   },
   {
    "duration": 3,
    "start_time": "2022-03-04T12:21:42.769Z"
   },
   {
    "duration": 460,
    "start_time": "2022-03-04T12:31:49.492Z"
   },
   {
    "duration": 4,
    "start_time": "2022-03-04T12:31:53.024Z"
   },
   {
    "duration": 4,
    "start_time": "2022-03-04T12:31:53.201Z"
   },
   {
    "duration": 5,
    "start_time": "2022-03-04T12:31:53.416Z"
   },
   {
    "duration": 5,
    "start_time": "2022-03-04T12:33:40.944Z"
   },
   {
    "duration": 4,
    "start_time": "2022-03-04T13:38:51.408Z"
   },
   {
    "duration": 292,
    "start_time": "2022-03-04T13:38:52.107Z"
   },
   {
    "duration": 11,
    "start_time": "2022-03-04T13:43:36.746Z"
   },
   {
    "duration": 5,
    "start_time": "2022-03-04T13:43:41.466Z"
   },
   {
    "duration": 5,
    "start_time": "2022-03-04T13:45:14.346Z"
   },
   {
    "duration": 279,
    "start_time": "2022-03-04T13:45:15.306Z"
   },
   {
    "duration": 5,
    "start_time": "2022-03-04T13:45:27.136Z"
   },
   {
    "duration": 249,
    "start_time": "2022-03-04T13:45:27.726Z"
   },
   {
    "duration": 68,
    "start_time": "2022-03-04T13:47:27.614Z"
   },
   {
    "duration": 6,
    "start_time": "2022-03-04T13:47:28.167Z"
   },
   {
    "duration": 32,
    "start_time": "2022-03-04T13:47:28.947Z"
   },
   {
    "duration": 11,
    "start_time": "2022-03-04T13:47:29.446Z"
   },
   {
    "duration": 28,
    "start_time": "2022-03-04T13:47:31.424Z"
   },
   {
    "duration": 9,
    "start_time": "2022-03-04T13:47:32.070Z"
   },
   {
    "duration": 7,
    "start_time": "2022-03-04T13:47:35.466Z"
   },
   {
    "duration": 4,
    "start_time": "2022-03-04T13:47:41.686Z"
   },
   {
    "duration": 4,
    "start_time": "2022-03-04T13:47:41.849Z"
   },
   {
    "duration": 6,
    "start_time": "2022-03-04T13:47:44.674Z"
   },
   {
    "duration": 4,
    "start_time": "2022-03-04T13:47:55.886Z"
   },
   {
    "duration": 5,
    "start_time": "2022-03-04T13:47:56.446Z"
   },
   {
    "duration": 289,
    "start_time": "2022-03-04T13:47:56.986Z"
   },
   {
    "duration": 246,
    "start_time": "2022-03-04T13:48:46.280Z"
   },
   {
    "duration": 280,
    "start_time": "2022-03-04T13:49:07.527Z"
   },
   {
    "duration": 6,
    "start_time": "2022-03-04T13:49:43.695Z"
   },
   {
    "duration": 6,
    "start_time": "2022-03-04T13:49:51.168Z"
   },
   {
    "duration": 5,
    "start_time": "2022-03-04T13:51:01.930Z"
   },
   {
    "duration": 8,
    "start_time": "2022-03-04T13:51:43.748Z"
   },
   {
    "duration": 97,
    "start_time": "2022-03-04T13:52:10.956Z"
   },
   {
    "duration": 78,
    "start_time": "2022-03-04T13:52:19.248Z"
   },
   {
    "duration": 95,
    "start_time": "2022-03-04T13:52:37.409Z"
   },
   {
    "duration": 90,
    "start_time": "2022-03-04T13:52:49.088Z"
   },
   {
    "duration": 8,
    "start_time": "2022-03-04T13:52:57.148Z"
   },
   {
    "duration": 9,
    "start_time": "2022-03-04T13:53:04.648Z"
   },
   {
    "duration": 4,
    "start_time": "2022-03-04T13:53:13.668Z"
   },
   {
    "duration": 6,
    "start_time": "2022-03-04T13:53:14.237Z"
   },
   {
    "duration": 7,
    "start_time": "2022-03-04T13:53:17.267Z"
   },
   {
    "duration": 4,
    "start_time": "2022-03-04T13:53:22.016Z"
   },
   {
    "duration": 5,
    "start_time": "2022-03-04T13:54:19.169Z"
   },
   {
    "duration": 4,
    "start_time": "2022-03-04T13:54:19.748Z"
   },
   {
    "duration": 3,
    "start_time": "2022-03-04T13:54:20.568Z"
   },
   {
    "duration": 145,
    "start_time": "2022-03-04T13:54:20.852Z"
   },
   {
    "duration": 271,
    "start_time": "2022-03-04T13:54:43.079Z"
   },
   {
    "duration": 282,
    "start_time": "2022-03-04T13:54:55.715Z"
   },
   {
    "duration": 7,
    "start_time": "2022-03-04T13:54:59.127Z"
   },
   {
    "duration": 5,
    "start_time": "2022-03-04T13:55:20.947Z"
   },
   {
    "duration": 7,
    "start_time": "2022-03-04T13:55:29.276Z"
   },
   {
    "duration": 4,
    "start_time": "2022-03-04T13:55:46.867Z"
   },
   {
    "duration": 5,
    "start_time": "2022-03-04T13:55:47.456Z"
   },
   {
    "duration": 4,
    "start_time": "2022-03-04T13:55:48.928Z"
   },
   {
    "duration": 132,
    "start_time": "2022-03-04T13:55:49.187Z"
   },
   {
    "duration": 208,
    "start_time": "2022-03-04T13:56:28.988Z"
   },
   {
    "duration": 21,
    "start_time": "2022-03-04T13:56:41.950Z"
   },
   {
    "duration": 73,
    "start_time": "2022-03-04T13:57:29.807Z"
   },
   {
    "duration": 5,
    "start_time": "2022-03-04T13:57:31.507Z"
   },
   {
    "duration": 48,
    "start_time": "2022-03-04T13:57:37.367Z"
   },
   {
    "duration": 12,
    "start_time": "2022-03-04T13:57:38.183Z"
   },
   {
    "duration": 37,
    "start_time": "2022-03-04T13:57:38.746Z"
   },
   {
    "duration": 8,
    "start_time": "2022-03-04T13:57:39.447Z"
   },
   {
    "duration": 8,
    "start_time": "2022-03-04T13:57:42.508Z"
   },
   {
    "duration": 3,
    "start_time": "2022-03-04T13:57:46.187Z"
   },
   {
    "duration": 4,
    "start_time": "2022-03-04T13:57:47.087Z"
   },
   {
    "duration": 3,
    "start_time": "2022-03-04T13:57:51.508Z"
   },
   {
    "duration": 5,
    "start_time": "2022-03-04T13:57:52.467Z"
   },
   {
    "duration": 3,
    "start_time": "2022-03-04T13:58:00.587Z"
   },
   {
    "duration": 5,
    "start_time": "2022-03-04T13:58:01.966Z"
   },
   {
    "duration": 5,
    "start_time": "2022-03-04T13:58:02.346Z"
   },
   {
    "duration": 3,
    "start_time": "2022-03-04T13:58:05.127Z"
   },
   {
    "duration": 13,
    "start_time": "2022-03-04T13:58:05.325Z"
   },
   {
    "duration": 8,
    "start_time": "2022-03-04T13:58:17.728Z"
   },
   {
    "duration": 7,
    "start_time": "2022-03-04T13:58:18.327Z"
   },
   {
    "duration": 6,
    "start_time": "2022-03-04T14:04:18.726Z"
   },
   {
    "duration": 4,
    "start_time": "2022-03-04T14:07:46.546Z"
   },
   {
    "duration": 5451,
    "start_time": "2022-03-04T14:11:07.546Z"
   },
   {
    "duration": 299,
    "start_time": "2022-03-04T14:11:19.404Z"
   },
   {
    "duration": 460,
    "start_time": "2022-03-04T14:11:35.404Z"
   },
   {
    "duration": 5,
    "start_time": "2022-03-04T14:12:49.805Z"
   },
   {
    "duration": 6070,
    "start_time": "2022-03-04T14:12:59.565Z"
   },
   {
    "duration": 455,
    "start_time": "2022-03-04T14:13:05.638Z"
   },
   {
    "duration": 3,
    "start_time": "2022-03-04T15:10:01.088Z"
   },
   {
    "duration": 497,
    "start_time": "2022-03-04T15:11:34.242Z"
   },
   {
    "duration": 12,
    "start_time": "2022-03-04T15:11:35.386Z"
   },
   {
    "duration": 22,
    "start_time": "2022-03-04T15:11:35.586Z"
   },
   {
    "duration": 22,
    "start_time": "2022-03-04T15:11:35.786Z"
   },
   {
    "duration": 15,
    "start_time": "2022-03-04T15:11:35.970Z"
   },
   {
    "duration": 306,
    "start_time": "2022-03-04T15:11:36.646Z"
   },
   {
    "duration": 127,
    "start_time": "2022-03-04T15:11:37.071Z"
   },
   {
    "duration": 6,
    "start_time": "2022-03-04T15:11:38.294Z"
   },
   {
    "duration": 1271,
    "start_time": "2022-03-04T15:11:38.794Z"
   },
   {
    "duration": 1318,
    "start_time": "2022-03-04T15:11:40.068Z"
   },
   {
    "duration": 1162,
    "start_time": "2022-03-04T15:11:41.389Z"
   },
   {
    "duration": 33,
    "start_time": "2022-03-04T15:11:50.146Z"
   },
   {
    "duration": 5,
    "start_time": "2022-03-04T15:11:50.707Z"
   },
   {
    "duration": 46,
    "start_time": "2022-03-04T15:11:53.274Z"
   },
   {
    "duration": 11,
    "start_time": "2022-03-04T15:11:54.068Z"
   },
   {
    "duration": 29,
    "start_time": "2022-03-04T15:11:54.726Z"
   },
   {
    "duration": 7,
    "start_time": "2022-03-04T15:11:55.406Z"
   },
   {
    "duration": 7,
    "start_time": "2022-03-04T15:11:59.507Z"
   },
   {
    "duration": 4,
    "start_time": "2022-03-04T15:12:02.126Z"
   },
   {
    "duration": 8,
    "start_time": "2022-03-04T15:12:06.247Z"
   },
   {
    "duration": 4,
    "start_time": "2022-03-04T15:12:06.445Z"
   },
   {
    "duration": 6,
    "start_time": "2022-03-04T15:12:07.407Z"
   },
   {
    "duration": 6,
    "start_time": "2022-03-04T15:12:13.835Z"
   },
   {
    "duration": 7,
    "start_time": "2022-03-04T15:12:55.743Z"
   },
   {
    "duration": 3639,
    "start_time": "2022-03-04T15:17:02.215Z"
   },
   {
    "duration": 4533,
    "start_time": "2022-03-04T15:17:22.586Z"
   },
   {
    "duration": 6779,
    "start_time": "2022-03-04T15:17:59.225Z"
   },
   {
    "duration": 291,
    "start_time": "2022-03-04T15:24:30.545Z"
   },
   {
    "duration": 9,
    "start_time": "2022-03-04T15:25:23.306Z"
   },
   {
    "duration": 81,
    "start_time": "2022-03-04T15:25:44.315Z"
   },
   {
    "duration": 7,
    "start_time": "2022-03-04T15:25:47.367Z"
   },
   {
    "duration": 7,
    "start_time": "2022-03-04T15:25:58.265Z"
   },
   {
    "duration": 11,
    "start_time": "2022-03-04T15:28:14.247Z"
   },
   {
    "duration": 13,
    "start_time": "2022-03-04T15:28:38.173Z"
   },
   {
    "duration": 4,
    "start_time": "2022-03-04T15:33:03.034Z"
   },
   {
    "duration": 4,
    "start_time": "2022-03-04T15:33:03.869Z"
   },
   {
    "duration": 10163,
    "start_time": "2022-03-04T15:33:16.973Z"
   },
   {
    "duration": 79,
    "start_time": "2022-03-04T15:33:27.139Z"
   },
   {
    "duration": 469,
    "start_time": "2022-03-04T15:34:22.345Z"
   },
   {
    "duration": 452,
    "start_time": "2022-03-04T15:34:30.106Z"
   },
   {
    "duration": 484,
    "start_time": "2022-03-04T15:34:36.465Z"
   },
   {
    "duration": 15,
    "start_time": "2022-03-04T15:36:30.266Z"
   },
   {
    "duration": 4,
    "start_time": "2022-03-04T15:36:51.225Z"
   },
   {
    "duration": 4,
    "start_time": "2022-03-04T15:36:52.565Z"
   },
   {
    "duration": 11638,
    "start_time": "2022-03-04T15:36:53.774Z"
   },
   {
    "duration": 458,
    "start_time": "2022-03-04T15:37:08.847Z"
   },
   {
    "duration": 462,
    "start_time": "2022-03-04T15:37:13.460Z"
   },
   {
    "duration": 5363,
    "start_time": "2022-03-04T15:37:31.687Z"
   },
   {
    "duration": 472,
    "start_time": "2022-03-04T15:37:37.053Z"
   },
   {
    "duration": 16250,
    "start_time": "2022-03-04T15:38:07.625Z"
   },
   {
    "duration": 4,
    "start_time": "2022-03-04T15:38:26.606Z"
   },
   {
    "duration": 16597,
    "start_time": "2022-03-04T15:38:26.846Z"
   },
   {
    "duration": 460,
    "start_time": "2022-03-04T15:38:46.925Z"
   },
   {
    "duration": 436,
    "start_time": "2022-03-04T15:38:51.132Z"
   },
   {
    "duration": 481,
    "start_time": "2022-03-04T15:38:51.573Z"
   },
   {
    "duration": 241,
    "start_time": "2022-03-05T07:49:30.066Z"
   },
   {
    "duration": 1957,
    "start_time": "2022-03-05T07:49:37.853Z"
   },
   {
    "duration": 340,
    "start_time": "2022-03-05T07:49:39.812Z"
   },
   {
    "duration": 9,
    "start_time": "2022-03-05T07:49:40.154Z"
   },
   {
    "duration": 13,
    "start_time": "2022-03-05T07:49:40.165Z"
   },
   {
    "duration": 9,
    "start_time": "2022-03-05T07:49:40.179Z"
   },
   {
    "duration": 10,
    "start_time": "2022-03-05T07:49:40.190Z"
   },
   {
    "duration": 179,
    "start_time": "2022-03-05T07:49:40.279Z"
   },
   {
    "duration": 71,
    "start_time": "2022-03-05T07:49:41.074Z"
   },
   {
    "duration": 7,
    "start_time": "2022-03-05T07:49:44.586Z"
   },
   {
    "duration": 680,
    "start_time": "2022-03-05T07:49:45.193Z"
   },
   {
    "duration": 686,
    "start_time": "2022-03-05T07:49:45.875Z"
   },
   {
    "duration": 704,
    "start_time": "2022-03-05T07:49:46.563Z"
   },
   {
    "duration": 32,
    "start_time": "2022-03-05T07:49:54.514Z"
   },
   {
    "duration": 4,
    "start_time": "2022-03-05T07:49:54.806Z"
   },
   {
    "duration": 29,
    "start_time": "2022-03-05T07:49:55.546Z"
   },
   {
    "duration": 9,
    "start_time": "2022-03-05T07:49:56.126Z"
   },
   {
    "duration": 31,
    "start_time": "2022-03-05T07:49:56.686Z"
   },
   {
    "duration": 5,
    "start_time": "2022-03-05T07:50:00.066Z"
   },
   {
    "duration": 7,
    "start_time": "2022-03-05T07:50:00.906Z"
   },
   {
    "duration": 9,
    "start_time": "2022-03-05T07:50:03.507Z"
   },
   {
    "duration": 2,
    "start_time": "2022-03-05T07:50:08.129Z"
   },
   {
    "duration": 3,
    "start_time": "2022-03-05T07:50:10.905Z"
   },
   {
    "duration": 3,
    "start_time": "2022-03-05T07:50:11.365Z"
   },
   {
    "duration": 4,
    "start_time": "2022-03-05T07:50:14.665Z"
   },
   {
    "duration": 3,
    "start_time": "2022-03-05T07:50:18.626Z"
   },
   {
    "duration": 3,
    "start_time": "2022-03-05T07:50:19.946Z"
   },
   {
    "duration": 14663,
    "start_time": "2022-03-05T07:50:26.005Z"
   },
   {
    "duration": 719,
    "start_time": "2022-03-05T07:50:50.406Z"
   },
   {
    "duration": 614,
    "start_time": "2022-03-05T07:54:54.825Z"
   },
   {
    "duration": 68,
    "start_time": "2022-03-05T08:05:15.480Z"
   },
   {
    "duration": 691,
    "start_time": "2022-03-05T08:05:28.709Z"
   },
   {
    "duration": 551,
    "start_time": "2022-03-05T08:06:18.329Z"
   },
   {
    "duration": 454,
    "start_time": "2022-03-05T08:07:43.402Z"
   },
   {
    "duration": 170,
    "start_time": "2022-03-05T08:08:21.152Z"
   },
   {
    "duration": 62,
    "start_time": "2022-03-05T08:08:53.408Z"
   },
   {
    "duration": 5,
    "start_time": "2022-03-05T08:08:56.300Z"
   },
   {
    "duration": 212,
    "start_time": "2022-03-05T08:09:42.600Z"
   },
   {
    "duration": 152,
    "start_time": "2022-03-05T08:10:00.968Z"
   },
   {
    "duration": 61,
    "start_time": "2022-03-05T08:15:23.001Z"
   },
   {
    "duration": 55,
    "start_time": "2022-03-05T08:15:34.073Z"
   },
   {
    "duration": 713,
    "start_time": "2022-03-05T08:15:46.182Z"
   },
   {
    "duration": 546,
    "start_time": "2022-03-05T08:15:50.181Z"
   },
   {
    "duration": 316,
    "start_time": "2022-03-05T08:16:32.937Z"
   },
   {
    "duration": 764,
    "start_time": "2022-03-05T08:17:59.900Z"
   },
   {
    "duration": 392,
    "start_time": "2022-03-05T08:19:43.821Z"
   },
   {
    "duration": 354,
    "start_time": "2022-03-05T08:19:58.982Z"
   },
   {
    "duration": 393,
    "start_time": "2022-03-05T08:20:26.561Z"
   },
   {
    "duration": 409,
    "start_time": "2022-03-05T08:24:42.640Z"
   },
   {
    "duration": 1159,
    "start_time": "2022-03-05T08:25:16.909Z"
   },
   {
    "duration": 368,
    "start_time": "2022-03-05T08:26:58.481Z"
   },
   {
    "duration": 450,
    "start_time": "2022-03-05T08:27:26.600Z"
   },
   {
    "duration": 377,
    "start_time": "2022-03-05T08:28:23.270Z"
   },
   {
    "duration": 349,
    "start_time": "2022-03-05T08:28:46.239Z"
   },
   {
    "duration": 409,
    "start_time": "2022-03-05T08:29:00.663Z"
   },
   {
    "duration": 196,
    "start_time": "2022-03-05T08:29:37.370Z"
   },
   {
    "duration": 186,
    "start_time": "2022-03-05T08:30:55.361Z"
   },
   {
    "duration": 742,
    "start_time": "2022-03-05T08:30:58.742Z"
   },
   {
    "duration": 703,
    "start_time": "2022-03-05T08:31:08.670Z"
   },
   {
    "duration": 579,
    "start_time": "2022-03-05T08:31:20.782Z"
   },
   {
    "duration": 555,
    "start_time": "2022-03-05T08:32:22.686Z"
   },
   {
    "duration": 768,
    "start_time": "2022-03-05T08:33:13.683Z"
   },
   {
    "duration": 175,
    "start_time": "2022-03-05T08:34:45.557Z"
   },
   {
    "duration": 8,
    "start_time": "2022-03-05T08:34:52.681Z"
   },
   {
    "duration": 8,
    "start_time": "2022-03-05T08:35:06.781Z"
   },
   {
    "duration": 371,
    "start_time": "2022-03-05T08:35:26.202Z"
   },
   {
    "duration": 378,
    "start_time": "2022-03-05T08:35:40.878Z"
   },
   {
    "duration": 676,
    "start_time": "2022-03-05T08:37:24.502Z"
   },
   {
    "duration": 361,
    "start_time": "2022-03-05T08:37:43.542Z"
   },
   {
    "duration": 356,
    "start_time": "2022-03-05T08:38:12.801Z"
   },
   {
    "duration": 869,
    "start_time": "2022-03-05T08:38:30.242Z"
   },
   {
    "duration": 357,
    "start_time": "2022-03-05T08:38:34.501Z"
   },
   {
    "duration": 439,
    "start_time": "2022-03-05T08:39:42.470Z"
   },
   {
    "duration": 466,
    "start_time": "2022-03-05T08:40:09.049Z"
   },
   {
    "duration": 356,
    "start_time": "2022-03-05T08:40:26.541Z"
   },
   {
    "duration": 534,
    "start_time": "2022-03-05T08:40:37.669Z"
   },
   {
    "duration": 369,
    "start_time": "2022-03-05T08:40:52.507Z"
   },
   {
    "duration": 380,
    "start_time": "2022-03-05T08:42:52.599Z"
   },
   {
    "duration": 473,
    "start_time": "2022-03-05T08:43:03.901Z"
   },
   {
    "duration": 375,
    "start_time": "2022-03-05T08:43:14.970Z"
   },
   {
    "duration": 370,
    "start_time": "2022-03-05T08:55:30.618Z"
   },
   {
    "duration": 437,
    "start_time": "2022-03-05T09:40:49.384Z"
   },
   {
    "duration": 178,
    "start_time": "2022-03-05T09:41:01.184Z"
   },
   {
    "duration": 225,
    "start_time": "2022-03-05T09:41:13.283Z"
   },
   {
    "duration": 180,
    "start_time": "2022-03-05T09:41:42.700Z"
   },
   {
    "duration": 217,
    "start_time": "2022-03-05T09:42:07.320Z"
   },
   {
    "duration": 7,
    "start_time": "2022-03-05T09:42:14.239Z"
   },
   {
    "duration": 4,
    "start_time": "2022-03-05T09:43:02.060Z"
   },
   {
    "duration": 208,
    "start_time": "2022-03-05T09:43:17.426Z"
   },
   {
    "duration": 12,
    "start_time": "2022-03-05T09:43:38.339Z"
   },
   {
    "duration": 6,
    "start_time": "2022-03-05T09:43:45.400Z"
   },
   {
    "duration": 56,
    "start_time": "2022-03-05T09:53:38.360Z"
   },
   {
    "duration": 223,
    "start_time": "2022-03-05T09:53:45.380Z"
   },
   {
    "duration": 167,
    "start_time": "2022-03-05T09:54:11.420Z"
   },
   {
    "duration": 181,
    "start_time": "2022-03-05T09:54:40.021Z"
   },
   {
    "duration": 15,
    "start_time": "2022-03-05T09:55:11.259Z"
   },
   {
    "duration": 66,
    "start_time": "2022-03-05T09:58:03.180Z"
   },
   {
    "duration": 19,
    "start_time": "2022-03-05T09:58:28.521Z"
   },
   {
    "duration": 8,
    "start_time": "2022-03-05T09:58:29.539Z"
   },
   {
    "duration": 62,
    "start_time": "2022-03-05T10:02:19.485Z"
   },
   {
    "duration": 26,
    "start_time": "2022-03-05T10:03:18.440Z"
   },
   {
    "duration": 8,
    "start_time": "2022-03-05T10:03:20.160Z"
   },
   {
    "duration": 27,
    "start_time": "2022-03-05T10:04:17.380Z"
   },
   {
    "duration": 8,
    "start_time": "2022-03-05T10:04:18.923Z"
   },
   {
    "duration": 183,
    "start_time": "2022-03-05T10:07:56.360Z"
   },
   {
    "duration": 207,
    "start_time": "2022-03-05T10:08:15.980Z"
   },
   {
    "duration": 61,
    "start_time": "2022-03-05T10:08:36.939Z"
   },
   {
    "duration": 216,
    "start_time": "2022-03-05T10:08:45.120Z"
   },
   {
    "duration": 29,
    "start_time": "2022-03-05T10:09:06.800Z"
   },
   {
    "duration": 8,
    "start_time": "2022-03-05T10:09:08.602Z"
   },
   {
    "duration": 4,
    "start_time": "2022-03-05T10:11:05.860Z"
   },
   {
    "duration": 343,
    "start_time": "2022-03-05T10:11:06.421Z"
   },
   {
    "duration": 7,
    "start_time": "2022-03-05T10:11:06.766Z"
   },
   {
    "duration": 13,
    "start_time": "2022-03-05T10:11:06.821Z"
   },
   {
    "duration": 13,
    "start_time": "2022-03-05T10:11:06.993Z"
   },
   {
    "duration": 12,
    "start_time": "2022-03-05T10:11:07.200Z"
   },
   {
    "duration": 188,
    "start_time": "2022-03-05T10:11:07.759Z"
   },
   {
    "duration": 73,
    "start_time": "2022-03-05T10:11:08.140Z"
   },
   {
    "duration": 4,
    "start_time": "2022-03-05T10:11:08.960Z"
   },
   {
    "duration": 711,
    "start_time": "2022-03-05T10:11:09.339Z"
   },
   {
    "duration": 791,
    "start_time": "2022-03-05T10:11:10.052Z"
   },
   {
    "duration": 678,
    "start_time": "2022-03-05T10:11:10.845Z"
   },
   {
    "duration": 28,
    "start_time": "2022-03-05T10:11:11.533Z"
   },
   {
    "duration": 4,
    "start_time": "2022-03-05T10:11:11.684Z"
   },
   {
    "duration": 28,
    "start_time": "2022-03-05T10:11:12.180Z"
   },
   {
    "duration": 7,
    "start_time": "2022-03-05T10:11:12.420Z"
   },
   {
    "duration": 107,
    "start_time": "2022-03-05T10:11:12.640Z"
   },
   {
    "duration": 7,
    "start_time": "2022-03-05T10:11:12.860Z"
   },
   {
    "duration": 6,
    "start_time": "2022-03-05T10:11:13.380Z"
   },
   {
    "duration": 2,
    "start_time": "2022-03-05T10:11:14.281Z"
   },
   {
    "duration": 3,
    "start_time": "2022-03-05T10:11:15.120Z"
   },
   {
    "duration": 3,
    "start_time": "2022-03-05T10:11:15.299Z"
   },
   {
    "duration": 4,
    "start_time": "2022-03-05T10:11:16.102Z"
   },
   {
    "duration": 5,
    "start_time": "2022-03-05T10:11:18.161Z"
   },
   {
    "duration": 5,
    "start_time": "2022-03-05T10:11:18.980Z"
   },
   {
    "duration": 16484,
    "start_time": "2022-03-05T10:11:19.301Z"
   },
   {
    "duration": 379,
    "start_time": "2022-03-05T10:11:54.342Z"
   },
   {
    "duration": 467,
    "start_time": "2022-03-05T10:12:05.060Z"
   },
   {
    "duration": 28,
    "start_time": "2022-03-05T10:12:46.615Z"
   },
   {
    "duration": 9,
    "start_time": "2022-03-05T10:12:48.000Z"
   },
   {
    "duration": 27,
    "start_time": "2022-03-05T10:15:14.340Z"
   },
   {
    "duration": 7,
    "start_time": "2022-03-05T10:15:15.660Z"
   },
   {
    "duration": 3,
    "start_time": "2022-03-08T21:23:21.084Z"
   },
   {
    "duration": 1110,
    "start_time": "2022-03-08T21:23:26.925Z"
   },
   {
    "duration": 352,
    "start_time": "2022-03-08T21:23:28.037Z"
   },
   {
    "duration": 11,
    "start_time": "2022-03-08T21:23:28.391Z"
   },
   {
    "duration": 10,
    "start_time": "2022-03-08T21:23:28.404Z"
   },
   {
    "duration": 10,
    "start_time": "2022-03-08T21:23:28.614Z"
   },
   {
    "duration": 11,
    "start_time": "2022-03-08T21:23:29.134Z"
   },
   {
    "duration": 182,
    "start_time": "2022-03-08T21:23:30.375Z"
   },
   {
    "duration": 66,
    "start_time": "2022-03-08T21:23:31.694Z"
   },
   {
    "duration": 4,
    "start_time": "2022-03-08T21:23:33.545Z"
   },
   {
    "duration": 635,
    "start_time": "2022-03-08T21:23:34.555Z"
   },
   {
    "duration": 648,
    "start_time": "2022-03-08T21:23:35.192Z"
   },
   {
    "duration": 660,
    "start_time": "2022-03-08T21:23:35.842Z"
   },
   {
    "duration": 2,
    "start_time": "2022-03-08T21:23:44.165Z"
   },
   {
    "duration": 2,
    "start_time": "2022-03-08T21:23:47.755Z"
   },
   {
    "duration": 425,
    "start_time": "2022-03-08T21:43:48.192Z"
   },
   {
    "duration": 44,
    "start_time": "2022-03-08T21:44:12.242Z"
   },
   {
    "duration": 47,
    "start_time": "2022-03-08T21:44:30.924Z"
   },
   {
    "duration": 44,
    "start_time": "2022-03-08T21:44:35.421Z"
   },
   {
    "duration": 45,
    "start_time": "2022-03-08T21:44:51.550Z"
   },
   {
    "duration": 3,
    "start_time": "2022-03-08T21:52:12.429Z"
   },
   {
    "duration": 21,
    "start_time": "2022-03-08T21:52:13.660Z"
   },
   {
    "duration": 66,
    "start_time": "2022-03-08T21:52:38.733Z"
   },
   {
    "duration": 4,
    "start_time": "2022-03-08T21:56:31.580Z"
   },
   {
    "duration": 296,
    "start_time": "2022-03-08T21:56:32.209Z"
   },
   {
    "duration": 5,
    "start_time": "2022-03-08T21:56:39.319Z"
   },
   {
    "duration": 70,
    "start_time": "2022-03-08T21:56:39.466Z"
   },
   {
    "duration": 4,
    "start_time": "2022-03-08T21:56:50.432Z"
   },
   {
    "duration": 625,
    "start_time": "2022-03-08T21:56:51.492Z"
   },
   {
    "duration": 4,
    "start_time": "2022-03-08T21:57:56.362Z"
   },
   {
    "duration": 581,
    "start_time": "2022-03-08T21:57:56.982Z"
   },
   {
    "duration": 5,
    "start_time": "2022-03-08T21:59:31.845Z"
   },
   {
    "duration": 63,
    "start_time": "2022-03-08T21:59:32.134Z"
   },
   {
    "duration": 4,
    "start_time": "2022-03-08T22:00:35.949Z"
   },
   {
    "duration": 60,
    "start_time": "2022-03-08T22:00:36.428Z"
   },
   {
    "duration": 3,
    "start_time": "2022-03-08T22:01:18.715Z"
   },
   {
    "duration": 3,
    "start_time": "2022-03-08T22:06:59.137Z"
   },
   {
    "duration": 607,
    "start_time": "2022-03-08T22:07:34.600Z"
   },
   {
    "duration": 4,
    "start_time": "2022-03-08T22:10:28.109Z"
   },
   {
    "duration": 63,
    "start_time": "2022-03-08T22:10:28.346Z"
   },
   {
    "duration": 4,
    "start_time": "2022-03-08T22:10:38.350Z"
   },
   {
    "duration": 3,
    "start_time": "2022-03-08T22:10:41.857Z"
   },
   {
    "duration": 593,
    "start_time": "2022-03-08T22:10:42.717Z"
   },
   {
    "duration": 2,
    "start_time": "2022-03-08T22:11:07.298Z"
   },
   {
    "duration": 586,
    "start_time": "2022-03-08T22:11:14.347Z"
   },
   {
    "duration": 293,
    "start_time": "2022-03-08T22:11:47.427Z"
   },
   {
    "duration": 7,
    "start_time": "2022-03-08T22:11:54.467Z"
   },
   {
    "duration": 5,
    "start_time": "2022-03-08T22:14:10.869Z"
   },
   {
    "duration": 630,
    "start_time": "2022-03-08T22:14:12.327Z"
   },
   {
    "duration": 6,
    "start_time": "2022-03-08T22:14:24.927Z"
   },
   {
    "duration": 587,
    "start_time": "2022-03-08T22:14:25.306Z"
   },
   {
    "duration": 12,
    "start_time": "2022-03-08T22:14:53.800Z"
   },
   {
    "duration": 603,
    "start_time": "2022-03-08T22:14:54.089Z"
   },
   {
    "duration": 5,
    "start_time": "2022-03-08T22:15:29.657Z"
   },
   {
    "duration": 625,
    "start_time": "2022-03-08T22:15:30.129Z"
   },
   {
    "duration": 3,
    "start_time": "2022-03-08T22:16:23.079Z"
   },
   {
    "duration": 5,
    "start_time": "2022-03-08T22:17:14.880Z"
   },
   {
    "duration": 37,
    "start_time": "2022-03-08T22:17:19.930Z"
   },
   {
    "duration": 6,
    "start_time": "2022-03-08T22:17:33.511Z"
   },
   {
    "duration": 4,
    "start_time": "2022-03-08T22:17:41.358Z"
   },
   {
    "duration": 3,
    "start_time": "2022-03-08T22:17:59.409Z"
   },
   {
    "duration": 655,
    "start_time": "2022-03-08T22:18:04.849Z"
   },
   {
    "duration": 4,
    "start_time": "2022-03-08T22:19:40.099Z"
   },
   {
    "duration": 769,
    "start_time": "2022-03-08T22:19:40.609Z"
   },
   {
    "duration": 3,
    "start_time": "2022-03-08T22:19:49.329Z"
   },
   {
    "duration": 11,
    "start_time": "2022-03-08T22:19:49.749Z"
   },
   {
    "duration": 4,
    "start_time": "2022-03-08T22:19:57.908Z"
   },
   {
    "duration": 127,
    "start_time": "2022-03-08T22:20:25.079Z"
   },
   {
    "duration": 3,
    "start_time": "2022-03-08T22:21:16.975Z"
   },
   {
    "duration": 3,
    "start_time": "2022-03-08T22:21:26.889Z"
   },
   {
    "duration": 4,
    "start_time": "2022-03-08T22:23:20.270Z"
   },
   {
    "duration": 4,
    "start_time": "2022-03-08T22:23:35.370Z"
   },
   {
    "duration": 2,
    "start_time": "2022-03-08T22:29:10.980Z"
   },
   {
    "duration": 4,
    "start_time": "2022-03-08T22:32:51.658Z"
   },
   {
    "duration": 2,
    "start_time": "2022-03-08T22:32:51.949Z"
   },
   {
    "duration": 3,
    "start_time": "2022-03-08T22:32:53.210Z"
   },
   {
    "duration": 3,
    "start_time": "2022-03-08T22:34:18.129Z"
   },
   {
    "duration": 3,
    "start_time": "2022-03-08T22:35:11.289Z"
   },
   {
    "duration": 3,
    "start_time": "2022-03-08T22:40:34.890Z"
   },
   {
    "duration": 2,
    "start_time": "2022-03-08T22:40:35.269Z"
   },
   {
    "duration": 501,
    "start_time": "2022-03-08T22:40:36.558Z"
   },
   {
    "duration": 817,
    "start_time": "2022-03-08T22:41:18.139Z"
   },
   {
    "duration": 3,
    "start_time": "2022-03-08T22:42:48.389Z"
   },
   {
    "duration": 95,
    "start_time": "2022-03-08T22:42:59.439Z"
   },
   {
    "duration": 3875,
    "start_time": "2022-03-08T22:43:11.659Z"
   },
   {
    "duration": 14,
    "start_time": "2022-03-08T22:43:15.536Z"
   },
   {
    "duration": 106,
    "start_time": "2022-03-08T22:50:22.366Z"
   },
   {
    "duration": 107,
    "start_time": "2022-03-08T22:50:33.837Z"
   },
   {
    "duration": 98,
    "start_time": "2022-03-08T22:51:12.964Z"
   },
   {
    "duration": 315,
    "start_time": "2022-03-08T22:51:29.690Z"
   },
   {
    "duration": 2826,
    "start_time": "2022-03-08T22:51:50.600Z"
   },
   {
    "duration": 15,
    "start_time": "2022-03-08T22:51:55.210Z"
   },
   {
    "duration": 3,
    "start_time": "2022-03-08T22:52:17.190Z"
   },
   {
    "duration": 14,
    "start_time": "2022-03-08T22:52:23.520Z"
   },
   {
    "duration": 97,
    "start_time": "2022-03-08T23:04:39.003Z"
   },
   {
    "duration": 3,
    "start_time": "2022-03-08T23:04:43.103Z"
   },
   {
    "duration": 2913,
    "start_time": "2022-03-08T23:04:43.742Z"
   },
   {
    "duration": 15,
    "start_time": "2022-03-08T23:04:53.733Z"
   },
   {
    "duration": 4,
    "start_time": "2022-03-08T23:08:44.413Z"
   },
   {
    "duration": 2877,
    "start_time": "2022-03-08T23:08:47.424Z"
   },
   {
    "duration": 14,
    "start_time": "2022-03-08T23:08:51.764Z"
   },
   {
    "duration": 8458,
    "start_time": "2022-03-08T23:09:12.304Z"
   },
   {
    "duration": 14,
    "start_time": "2022-03-08T23:09:20.764Z"
   },
   {
    "duration": 327,
    "start_time": "2022-03-08T23:11:14.954Z"
   },
   {
    "duration": 321,
    "start_time": "2022-03-08T23:13:04.643Z"
   },
   {
    "duration": 415,
    "start_time": "2022-03-08T23:13:27.693Z"
   },
   {
    "duration": 295,
    "start_time": "2022-03-08T23:16:55.613Z"
   },
   {
    "duration": 26,
    "start_time": "2022-03-08T23:17:04.034Z"
   },
   {
    "duration": 8,
    "start_time": "2022-03-08T23:17:09.564Z"
   },
   {
    "duration": 303,
    "start_time": "2022-03-08T23:18:14.137Z"
   },
   {
    "duration": 23,
    "start_time": "2022-03-08T23:18:32.949Z"
   },
   {
    "duration": 9,
    "start_time": "2022-03-08T23:18:37.966Z"
   },
   {
    "duration": 22,
    "start_time": "2022-03-08T23:18:47.439Z"
   },
   {
    "duration": 8,
    "start_time": "2022-03-08T23:18:48.098Z"
   },
   {
    "duration": 5,
    "start_time": "2022-03-08T23:23:31.065Z"
   },
   {
    "duration": 1148,
    "start_time": "2022-03-08T23:23:40.622Z"
   },
   {
    "duration": 335,
    "start_time": "2022-03-08T23:23:44.959Z"
   },
   {
    "duration": 12,
    "start_time": "2022-03-08T23:23:45.296Z"
   },
   {
    "duration": 10,
    "start_time": "2022-03-08T23:23:45.560Z"
   },
   {
    "duration": 10,
    "start_time": "2022-03-08T23:23:45.850Z"
   },
   {
    "duration": 11,
    "start_time": "2022-03-08T23:23:46.111Z"
   },
   {
    "duration": 144,
    "start_time": "2022-03-08T23:23:47.360Z"
   },
   {
    "duration": 60,
    "start_time": "2022-03-08T23:23:47.971Z"
   },
   {
    "duration": 3,
    "start_time": "2022-03-08T23:23:51.670Z"
   },
   {
    "duration": 627,
    "start_time": "2022-03-08T23:23:52.281Z"
   },
   {
    "duration": 627,
    "start_time": "2022-03-08T23:23:52.910Z"
   },
   {
    "duration": 663,
    "start_time": "2022-03-08T23:23:53.538Z"
   },
   {
    "duration": 2,
    "start_time": "2022-03-08T23:23:59.041Z"
   },
   {
    "duration": 5,
    "start_time": "2022-03-08T23:24:01.370Z"
   },
   {
    "duration": 41,
    "start_time": "2022-03-08T23:24:03.498Z"
   },
   {
    "duration": 3,
    "start_time": "2022-03-08T23:24:15.031Z"
   },
   {
    "duration": 163,
    "start_time": "2022-03-08T23:24:15.542Z"
   },
   {
    "duration": 4,
    "start_time": "2022-03-08T23:24:16.110Z"
   },
   {
    "duration": 2,
    "start_time": "2022-03-08T23:24:22.271Z"
   },
   {
    "duration": 2,
    "start_time": "2022-03-08T23:24:22.521Z"
   },
   {
    "duration": 4,
    "start_time": "2022-03-08T23:24:26.300Z"
   },
   {
    "duration": 3,
    "start_time": "2022-03-08T23:24:31.280Z"
   },
   {
    "duration": 2,
    "start_time": "2022-03-08T23:24:42.842Z"
   },
   {
    "duration": 368,
    "start_time": "2022-03-08T23:24:43.150Z"
   },
   {
    "duration": 4,
    "start_time": "2022-03-08T23:24:57.308Z"
   },
   {
    "duration": 8645,
    "start_time": "2022-03-08T23:25:01.371Z"
   },
   {
    "duration": 3,
    "start_time": "2022-03-08T23:25:25.680Z"
   },
   {
    "duration": 4,
    "start_time": "2022-03-08T23:25:47.490Z"
   },
   {
    "duration": 5,
    "start_time": "2022-03-08T23:26:20.859Z"
   },
   {
    "duration": 10367,
    "start_time": "2022-03-08T23:26:21.381Z"
   },
   {
    "duration": 4,
    "start_time": "2022-03-08T23:26:47.892Z"
   },
   {
    "duration": 5,
    "start_time": "2022-03-08T23:26:50.840Z"
   },
   {
    "duration": 10502,
    "start_time": "2022-03-08T23:26:52.160Z"
   },
   {
    "duration": 4,
    "start_time": "2022-03-08T23:27:02.664Z"
   },
   {
    "duration": 2,
    "start_time": "2022-03-08T23:27:05.429Z"
   },
   {
    "duration": 4,
    "start_time": "2022-03-08T23:27:05.810Z"
   },
   {
    "duration": 8624,
    "start_time": "2022-03-08T23:27:07.840Z"
   },
   {
    "duration": 351,
    "start_time": "2022-03-08T23:27:20.170Z"
   },
   {
    "duration": 423,
    "start_time": "2022-03-08T23:27:25.161Z"
   },
   {
    "duration": 21,
    "start_time": "2022-03-08T23:27:33.470Z"
   },
   {
    "duration": 8,
    "start_time": "2022-03-08T23:27:36.670Z"
   }
  ],
  "kernelspec": {
   "display_name": "Python 3 (ipykernel)",
   "language": "python",
   "name": "python3"
  },
  "language_info": {
   "codemirror_mode": {
    "name": "ipython",
    "version": 3
   },
   "file_extension": ".py",
   "mimetype": "text/x-python",
   "name": "python",
   "nbconvert_exporter": "python",
   "pygments_lexer": "ipython3",
   "version": "3.9.7"
  },
  "toc": {
   "base_numbering": 1,
   "nav_menu": {},
   "number_sections": true,
   "sideBar": true,
   "skip_h1_title": true,
   "title_cell": "Table of Contents",
   "title_sidebar": "Contents",
   "toc_cell": false,
   "toc_position": {
    "height": "calc(100% - 180px)",
    "left": "10px",
    "top": "150px",
    "width": "366.391px"
   },
   "toc_section_display": true,
   "toc_window_display": true
  }
 },
 "nbformat": 4,
 "nbformat_minor": 2
}
