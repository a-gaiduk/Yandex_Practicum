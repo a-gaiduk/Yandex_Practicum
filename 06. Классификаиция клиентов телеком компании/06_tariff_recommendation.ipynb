{
 "cells": [
  {
   "cell_type": "markdown",
   "metadata": {},
   "source": [
    "# Рекомендация тарифов"
   ]
  },
  {
   "cell_type": "markdown",
   "metadata": {},
   "source": [
    "В вашем распоряжении данные о поведении клиентов, которые уже перешли на эти тарифы (из проекта курса «Статистический анализ данных»). Нужно построить модель для задачи классификации, которая выберет подходящий тариф. Предобработка данных не понадобится — вы её уже сделали.\n",
    "\n",
    "Постройте модель с максимально большим значением *accuracy*. Чтобы сдать проект успешно, нужно довести долю правильных ответов по крайней мере до 0.75. Проверьте *accuracy* на тестовой выборке самостоятельно."
   ]
  },
  {
   "cell_type": "code",
   "execution_count": 15,
   "metadata": {},
   "outputs": [],
   "source": [
    "import pandas as pd\n",
    "\n",
    "import warnings\n",
    "warnings.simplefilter('ignore')\n",
    "\n",
    "from sklearn.model_selection import train_test_split\n",
    "from sklearn.tree import DecisionTreeClassifier\n",
    "from sklearn.ensemble import RandomForestClassifier\n",
    "from sklearn.linear_model import LogisticRegression\n",
    "from sklearn.metrics import accuracy_score\n",
    "from sklearn.neighbors import KNeighborsClassifier\n",
    "from sklearn.svm import SVC\n",
    "\n",
    "from sklearn.dummy import DummyClassifier"
   ]
  },
  {
   "cell_type": "code",
   "execution_count": null,
   "metadata": {},
   "outputs": [],
   "source": []
  },
  {
   "cell_type": "markdown",
   "metadata": {},
   "source": [
    "## Откройте и изучите файл"
   ]
  },
  {
   "cell_type": "code",
   "execution_count": 2,
   "metadata": {},
   "outputs": [],
   "source": [
    "data = pd.read_csv('/datasets/users_behavior.csv')"
   ]
  },
  {
   "cell_type": "code",
   "execution_count": 3,
   "metadata": {},
   "outputs": [
    {
     "data": {
      "text/html": [
       "<div>\n",
       "<style scoped>\n",
       "    .dataframe tbody tr th:only-of-type {\n",
       "        vertical-align: middle;\n",
       "    }\n",
       "\n",
       "    .dataframe tbody tr th {\n",
       "        vertical-align: top;\n",
       "    }\n",
       "\n",
       "    .dataframe thead th {\n",
       "        text-align: right;\n",
       "    }\n",
       "</style>\n",
       "<table border=\"1\" class=\"dataframe\">\n",
       "  <thead>\n",
       "    <tr style=\"text-align: right;\">\n",
       "      <th></th>\n",
       "      <th>calls</th>\n",
       "      <th>minutes</th>\n",
       "      <th>messages</th>\n",
       "      <th>mb_used</th>\n",
       "      <th>is_ultra</th>\n",
       "    </tr>\n",
       "  </thead>\n",
       "  <tbody>\n",
       "    <tr>\n",
       "      <td>0</td>\n",
       "      <td>40.0</td>\n",
       "      <td>311.90</td>\n",
       "      <td>83.0</td>\n",
       "      <td>19915.42</td>\n",
       "      <td>0</td>\n",
       "    </tr>\n",
       "    <tr>\n",
       "      <td>1</td>\n",
       "      <td>85.0</td>\n",
       "      <td>516.75</td>\n",
       "      <td>56.0</td>\n",
       "      <td>22696.96</td>\n",
       "      <td>0</td>\n",
       "    </tr>\n",
       "    <tr>\n",
       "      <td>2</td>\n",
       "      <td>77.0</td>\n",
       "      <td>467.66</td>\n",
       "      <td>86.0</td>\n",
       "      <td>21060.45</td>\n",
       "      <td>0</td>\n",
       "    </tr>\n",
       "    <tr>\n",
       "      <td>3</td>\n",
       "      <td>106.0</td>\n",
       "      <td>745.53</td>\n",
       "      <td>81.0</td>\n",
       "      <td>8437.39</td>\n",
       "      <td>1</td>\n",
       "    </tr>\n",
       "    <tr>\n",
       "      <td>4</td>\n",
       "      <td>66.0</td>\n",
       "      <td>418.74</td>\n",
       "      <td>1.0</td>\n",
       "      <td>14502.75</td>\n",
       "      <td>0</td>\n",
       "    </tr>\n",
       "  </tbody>\n",
       "</table>\n",
       "</div>"
      ],
      "text/plain": [
       "   calls  minutes  messages   mb_used  is_ultra\n",
       "0   40.0   311.90      83.0  19915.42         0\n",
       "1   85.0   516.75      56.0  22696.96         0\n",
       "2   77.0   467.66      86.0  21060.45         0\n",
       "3  106.0   745.53      81.0   8437.39         1\n",
       "4   66.0   418.74       1.0  14502.75         0"
      ]
     },
     "execution_count": 3,
     "metadata": {},
     "output_type": "execute_result"
    }
   ],
   "source": [
    "data.head()"
   ]
  },
  {
   "cell_type": "code",
   "execution_count": 4,
   "metadata": {},
   "outputs": [
    {
     "name": "stdout",
     "output_type": "stream",
     "text": [
      "<class 'pandas.core.frame.DataFrame'>\n",
      "RangeIndex: 3214 entries, 0 to 3213\n",
      "Data columns (total 5 columns):\n",
      "calls       3214 non-null float64\n",
      "minutes     3214 non-null float64\n",
      "messages    3214 non-null float64\n",
      "mb_used     3214 non-null float64\n",
      "is_ultra    3214 non-null int64\n",
      "dtypes: float64(4), int64(1)\n",
      "memory usage: 125.7 KB\n"
     ]
    }
   ],
   "source": [
    "data.info()"
   ]
  },
  {
   "cell_type": "code",
   "execution_count": null,
   "metadata": {},
   "outputs": [],
   "source": []
  },
  {
   "cell_type": "markdown",
   "metadata": {},
   "source": [
    "## Разбейте данные на выборки"
   ]
  },
  {
   "cell_type": "code",
   "execution_count": 5,
   "metadata": {},
   "outputs": [],
   "source": [
    "data_train, data_notrain = train_test_split(data, test_size=0.4, random_state=54863)\n",
    "data_test, data_validate = train_test_split(data_notrain, test_size=0.5, random_state=54863)"
   ]
  },
  {
   "cell_type": "code",
   "execution_count": 6,
   "metadata": {},
   "outputs": [
    {
     "name": "stdout",
     "output_type": "stream",
     "text": [
      "Размер исходной выборки: (3214, 5)\n",
      "Размер обучающей выборки: (1928, 5)\n",
      "Размер валидационной выборки: (643, 5)\n",
      "Размер тестовой выборки: (643, 5)\n"
     ]
    }
   ],
   "source": [
    "print(f'Размер исходной выборки: {data.shape}')\n",
    "print(f'Размер обучающей выборки: {data_train.shape}')\n",
    "print(f'Размер валидационной выборки: {data_validate.shape}')\n",
    "print(f'Размер тестовой выборки: {data_test.shape}')"
   ]
  },
  {
   "cell_type": "code",
   "execution_count": 7,
   "metadata": {},
   "outputs": [],
   "source": [
    "features_train = data_train.drop('is_ultra', axis=1)\n",
    "target_train = data_train['is_ultra']\n",
    "\n",
    "features_validate = data_validate.drop('is_ultra', axis=1)\n",
    "target_validate = data_validate['is_ultra']\n",
    "\n",
    "features_test = data_test.drop('is_ultra', axis=1)\n",
    "target_test = data_test['is_ultra']"
   ]
  },
  {
   "cell_type": "code",
   "execution_count": null,
   "metadata": {},
   "outputs": [],
   "source": []
  },
  {
   "cell_type": "markdown",
   "metadata": {},
   "source": [
    "## Исследование моделей"
   ]
  },
  {
   "cell_type": "code",
   "execution_count": null,
   "metadata": {},
   "outputs": [],
   "source": []
  },
  {
   "cell_type": "markdown",
   "metadata": {},
   "source": [
    "### Logistic Regression"
   ]
  },
  {
   "cell_type": "code",
   "execution_count": 8,
   "metadata": {},
   "outputs": [
    {
     "data": {
      "text/html": [
       "<div>\n",
       "<style scoped>\n",
       "    .dataframe tbody tr th:only-of-type {\n",
       "        vertical-align: middle;\n",
       "    }\n",
       "\n",
       "    .dataframe tbody tr th {\n",
       "        vertical-align: top;\n",
       "    }\n",
       "\n",
       "    .dataframe thead th {\n",
       "        text-align: right;\n",
       "    }\n",
       "</style>\n",
       "<table border=\"1\" class=\"dataframe\">\n",
       "  <thead>\n",
       "    <tr style=\"text-align: right;\">\n",
       "      <th></th>\n",
       "      <th>solver</th>\n",
       "      <th>penalty</th>\n",
       "      <th>c_value</th>\n",
       "      <th>accuracy</th>\n",
       "    </tr>\n",
       "  </thead>\n",
       "  <tbody>\n",
       "    <tr>\n",
       "      <td>21</td>\n",
       "      <td>warn</td>\n",
       "      <td>l1</td>\n",
       "      <td>0.25</td>\n",
       "      <td>0.734059</td>\n",
       "    </tr>\n",
       "  </tbody>\n",
       "</table>\n",
       "</div>"
      ],
      "text/plain": [
       "   solver penalty c_value  accuracy\n",
       "21   warn      l1    0.25  0.734059"
      ]
     },
     "execution_count": 8,
     "metadata": {},
     "output_type": "execute_result"
    }
   ],
   "source": [
    "\n",
    "solvers = ['warn']\n",
    "penalty = ['l2', 'l1']\n",
    "c_values = [100, 75, 50, 25, 10, 5, 2.0, 1.0, 0.5, 0.25, 0.1, 0.01]\n",
    "\n",
    "result_lr = pd.DataFrame(columns = ['solver', 'penalty', 'c_value', 'accuracy']) \n",
    "for solver in solvers:\n",
    "    for pen in penalty:\n",
    "        for c_value in c_values:\n",
    "            lr_model = LogisticRegression(C=c_value, penalty=pen, solver=solver, random_state=123)\n",
    "            lr_model.fit(features_train, target_train)\n",
    "            lr_predict = lr_model.predict(features_validate)\n",
    "            lr_acc = lr_model.score(features_validate, target_validate) \n",
    "            result_lr.loc[len(result_lr)] = [solver, pen, c_value, lr_acc]\n",
    "\n",
    "lr_max_acc = result_lr['accuracy'].max()\n",
    "result_lr.query('accuracy==@lr_max_acc')"
   ]
  },
  {
   "cell_type": "code",
   "execution_count": null,
   "metadata": {},
   "outputs": [],
   "source": []
  },
  {
   "cell_type": "markdown",
   "metadata": {},
   "source": [
    "### Random Forest"
   ]
  },
  {
   "cell_type": "code",
   "execution_count": 9,
   "metadata": {},
   "outputs": [
    {
     "data": {
      "text/html": [
       "<div>\n",
       "<style scoped>\n",
       "    .dataframe tbody tr th:only-of-type {\n",
       "        vertical-align: middle;\n",
       "    }\n",
       "\n",
       "    .dataframe tbody tr th {\n",
       "        vertical-align: top;\n",
       "    }\n",
       "\n",
       "    .dataframe thead th {\n",
       "        text-align: right;\n",
       "    }\n",
       "</style>\n",
       "<table border=\"1\" class=\"dataframe\">\n",
       "  <thead>\n",
       "    <tr style=\"text-align: right;\">\n",
       "      <th></th>\n",
       "      <th>n_estimators</th>\n",
       "      <th>max_features</th>\n",
       "      <th>criterion</th>\n",
       "      <th>accuracy</th>\n",
       "    </tr>\n",
       "  </thead>\n",
       "  <tbody>\n",
       "    <tr>\n",
       "      <td>40</td>\n",
       "      <td>31</td>\n",
       "      <td>sqrt</td>\n",
       "      <td>gini</td>\n",
       "      <td>0.796267</td>\n",
       "    </tr>\n",
       "    <tr>\n",
       "      <td>42</td>\n",
       "      <td>31</td>\n",
       "      <td>log2</td>\n",
       "      <td>gini</td>\n",
       "      <td>0.796267</td>\n",
       "    </tr>\n",
       "  </tbody>\n",
       "</table>\n",
       "</div>"
      ],
      "text/plain": [
       "   n_estimators max_features criterion  accuracy\n",
       "40           31         sqrt      gini  0.796267\n",
       "42           31         log2      gini  0.796267"
      ]
     },
     "execution_count": 9,
     "metadata": {},
     "output_type": "execute_result"
    }
   ],
   "source": [
    "\n",
    "n_estimators = range(1, 100, 3)\n",
    "max_features = ['sqrt', 'log2']\n",
    "criterion = ['gini', 'entropy']\n",
    "\n",
    "result_rf = pd.DataFrame(columns = ['n_estimators', 'max_features', 'criterion', 'accuracy']) \n",
    "for estimator in n_estimators:\n",
    "    for feature in max_features:\n",
    "        for crit in criterion:\n",
    "            rf_model = RandomForestClassifier(n_estimators = estimator, max_features = feature, criterion = crit, random_state=123)\n",
    "            rf_model.fit(features_train, target_train)\n",
    "            rf_predict = rf_model.predict(features_validate)\n",
    "            rf_acc = rf_model.score(features_validate, target_validate) \n",
    "            result_rf.loc[len(result_rf)] = [estimator, feature, crit, rf_acc]\n",
    "\n",
    "rf_max_acc = result_rf['accuracy'].max()\n",
    "result_rf.query('accuracy==@rf_max_acc')"
   ]
  },
  {
   "cell_type": "code",
   "execution_count": null,
   "metadata": {},
   "outputs": [],
   "source": []
  },
  {
   "cell_type": "markdown",
   "metadata": {},
   "source": [
    "### K-Nearest Neighbors"
   ]
  },
  {
   "cell_type": "code",
   "execution_count": 10,
   "metadata": {},
   "outputs": [
    {
     "data": {
      "text/html": [
       "<div>\n",
       "<style scoped>\n",
       "    .dataframe tbody tr th:only-of-type {\n",
       "        vertical-align: middle;\n",
       "    }\n",
       "\n",
       "    .dataframe tbody tr th {\n",
       "        vertical-align: top;\n",
       "    }\n",
       "\n",
       "    .dataframe thead th {\n",
       "        text-align: right;\n",
       "    }\n",
       "</style>\n",
       "<table border=\"1\" class=\"dataframe\">\n",
       "  <thead>\n",
       "    <tr style=\"text-align: right;\">\n",
       "      <th></th>\n",
       "      <th>n_neighbors</th>\n",
       "      <th>weights</th>\n",
       "      <th>metrics</th>\n",
       "      <th>accuracy</th>\n",
       "    </tr>\n",
       "  </thead>\n",
       "  <tbody>\n",
       "    <tr>\n",
       "      <td>28</td>\n",
       "      <td>9</td>\n",
       "      <td>distance</td>\n",
       "      <td>manhattan</td>\n",
       "      <td>0.768274</td>\n",
       "    </tr>\n",
       "  </tbody>\n",
       "</table>\n",
       "</div>"
      ],
      "text/plain": [
       "   n_neighbors   weights    metrics  accuracy\n",
       "28           9  distance  manhattan  0.768274"
      ]
     },
     "execution_count": 10,
     "metadata": {},
     "output_type": "execute_result"
    }
   ],
   "source": [
    "n_neighbors = range(1, 21, 2)\n",
    "weights = ['uniform', 'distance']\n",
    "metrics = ['euclidean', 'manhattan', 'minkowski']\n",
    "\n",
    "result_knn = pd.DataFrame(columns = ['n_neighbors', 'weights', 'metrics', 'accuracy']) \n",
    "for n_neighbor in n_neighbors:\n",
    "    for weight in weights:\n",
    "        for metric in metrics:\n",
    "            knn_model = KNeighborsClassifier(metric = metric, weights=weight, n_neighbors = n_neighbor)\n",
    "            knn_model.fit(features_train, target_train)\n",
    "            knn_predict = knn_model.predict(features_validate)\n",
    "            knn_acc = knn_model.score(features_validate, target_validate) \n",
    "            result_knn.loc[len(result_knn)] = [n_neighbor, weight, metric, knn_acc]\n",
    "\n",
    "knn_max_acc = result_knn['accuracy'].max()\n",
    "result_knn.query('accuracy==@knn_max_acc').head(5)\n"
   ]
  },
  {
   "cell_type": "code",
   "execution_count": null,
   "metadata": {},
   "outputs": [],
   "source": []
  },
  {
   "cell_type": "markdown",
   "metadata": {},
   "source": [
    "<div style=\"border:solid gray 2.0px; padding: 10px\"> \n",
    "    \n",
    "Модель Random Forest с такими параметрами показала наилучший результат на валидационной выборке (accuracy = 0.796)\n",
    " - n_estimators = 31\n",
    " - criterion = 'gini'\n",
    " - max_features: получились две равнозначный модели с разными значениями max_features: sqrt и log2\n",
    "    \n",
    "    \n",
    "    \n",
    "\n",
    "    На тестовой выборке проверим лучшие модели каждого типа\n",
    "\n",
    "<div>"
   ]
  },
  {
   "cell_type": "code",
   "execution_count": null,
   "metadata": {},
   "outputs": [],
   "source": []
  },
  {
   "cell_type": "markdown",
   "metadata": {},
   "source": [
    "## Проверка моделей на тестовой выборке"
   ]
  },
  {
   "cell_type": "markdown",
   "metadata": {},
   "source": [
    "### Logistic Regression"
   ]
  },
  {
   "cell_type": "code",
   "execution_count": 11,
   "metadata": {},
   "outputs": [
    {
     "data": {
      "text/plain": [
       "0.7418351477449455"
      ]
     },
     "execution_count": 11,
     "metadata": {},
     "output_type": "execute_result"
    }
   ],
   "source": [
    "lr_best_model = LogisticRegression(C=0.25, penalty='l1', solver='warn', random_state=123)\n",
    "lr_best_model.fit(features_train, target_train)\n",
    "lr_best_acc = lr_best_model.score(features_test, target_test) \n",
    "lr_best_acc"
   ]
  },
  {
   "cell_type": "code",
   "execution_count": null,
   "metadata": {},
   "outputs": [],
   "source": []
  },
  {
   "cell_type": "markdown",
   "metadata": {},
   "source": [
    "### Random Forest"
   ]
  },
  {
   "cell_type": "code",
   "execution_count": 12,
   "metadata": {},
   "outputs": [
    {
     "data": {
      "text/plain": [
       "0.8055987558320373"
      ]
     },
     "execution_count": 12,
     "metadata": {},
     "output_type": "execute_result"
    }
   ],
   "source": [
    "rf_best_model1 = RandomForestClassifier(n_estimators = 31, max_features = 'sqrt', criterion = 'gini', random_state=123)\n",
    "rf_best_model1.fit(features_train, target_train)\n",
    "rf_best_acc1 = rf_best_model1.score(features_test, target_test) \n",
    "rf_best_acc1"
   ]
  },
  {
   "cell_type": "code",
   "execution_count": 13,
   "metadata": {},
   "outputs": [
    {
     "data": {
      "text/plain": [
       "0.8055987558320373"
      ]
     },
     "execution_count": 13,
     "metadata": {},
     "output_type": "execute_result"
    }
   ],
   "source": [
    "rf_best_model2 = RandomForestClassifier(n_estimators = 31, max_features = 'log2', criterion = 'gini', random_state=123)\n",
    "rf_best_model2.fit(features_train, target_train)\n",
    "rf_best_acc2 = rf_best_model2.score(features_test, target_test) \n",
    "rf_best_acc2"
   ]
  },
  {
   "cell_type": "code",
   "execution_count": null,
   "metadata": {},
   "outputs": [],
   "source": []
  },
  {
   "cell_type": "markdown",
   "metadata": {},
   "source": [
    "### K-Nearest Neighbors"
   ]
  },
  {
   "cell_type": "code",
   "execution_count": 14,
   "metadata": {},
   "outputs": [
    {
     "data": {
      "text/plain": [
       "0.7713841368584758"
      ]
     },
     "execution_count": 14,
     "metadata": {},
     "output_type": "execute_result"
    }
   ],
   "source": [
    "knn_best_model = KNeighborsClassifier(metric = 'manhattan', weights='distance', n_neighbors = 9)\n",
    "knn_best_model.fit(features_train, target_train)\n",
    "knn_best_acc = knn_best_model.score(features_test, target_test) \n",
    "knn_best_acc"
   ]
  },
  {
   "cell_type": "code",
   "execution_count": null,
   "metadata": {},
   "outputs": [],
   "source": []
  },
  {
   "cell_type": "markdown",
   "metadata": {},
   "source": [
    "<div style=\"border:solid gray 2.0px; padding: 10px\"> \n",
    "    \n",
    "    На тестовой выборке модель Random Forest так же показала наилучший результат: accuracy = 0.806\n",
    "    \n",
    "<div>"
   ]
  },
  {
   "cell_type": "code",
   "execution_count": null,
   "metadata": {},
   "outputs": [],
   "source": []
  },
  {
   "cell_type": "markdown",
   "metadata": {},
   "source": [
    "## Проверка моделей на адекватность"
   ]
  },
  {
   "cell_type": "markdown",
   "metadata": {},
   "source": [
    "<div style=\"border:solid gray 2.0px; padding: 10px\"> \n",
    "    \n",
    "    Интересно, что тут имеется ввижу.\n",
    "    Проверим, что модели хотя бы не предсказывают каждый раз одно и то же значение\n",
    "    \n",
    "<div>"
   ]
  },
  {
   "cell_type": "code",
   "execution_count": null,
   "metadata": {},
   "outputs": [],
   "source": []
  },
  {
   "cell_type": "code",
   "execution_count": 36,
   "metadata": {},
   "outputs": [
    {
     "data": {
      "text/plain": [
       "0    591\n",
       "1     52\n",
       "dtype: int64"
      ]
     },
     "execution_count": 36,
     "metadata": {},
     "output_type": "execute_result"
    }
   ],
   "source": [
    "lr_best_model = LogisticRegression(C=0.25, penalty='l1', solver='warn', random_state=123)\n",
    "lr_best_model.fit(features_train, target_train)\n",
    "lr_best_predict = lr_best_model.predict(features_test)\n",
    "\n",
    "pd.Series(lr_best_predict).value_counts()"
   ]
  },
  {
   "cell_type": "code",
   "execution_count": null,
   "metadata": {},
   "outputs": [],
   "source": []
  },
  {
   "cell_type": "code",
   "execution_count": 37,
   "metadata": {},
   "outputs": [
    {
     "data": {
      "text/plain": [
       "0    474\n",
       "1    169\n",
       "dtype: int64"
      ]
     },
     "execution_count": 37,
     "metadata": {},
     "output_type": "execute_result"
    }
   ],
   "source": [
    "rf_best_model1 = RandomForestClassifier(n_estimators = 31, max_features = 'sqrt', criterion = 'gini', random_state=123)\n",
    "rf_best_model1.fit(features_train, target_train)\n",
    "rf_best_predict = rf_best_model1.predict(features_test)\n",
    "\n",
    "pd.Series(rf_best_predict).value_counts()"
   ]
  },
  {
   "cell_type": "code",
   "execution_count": null,
   "metadata": {},
   "outputs": [],
   "source": []
  },
  {
   "cell_type": "code",
   "execution_count": 38,
   "metadata": {},
   "outputs": [
    {
     "data": {
      "text/plain": [
       "0    544\n",
       "1     99\n",
       "dtype: int64"
      ]
     },
     "execution_count": 38,
     "metadata": {},
     "output_type": "execute_result"
    }
   ],
   "source": [
    "knn_best_model = KNeighborsClassifier(metric = 'manhattan', weights='distance', n_neighbors = 9)\n",
    "knn_best_model.fit(features_train, target_train)\n",
    "knn_best_predict = knn_best_model.predict(features_test)\n",
    "\n",
    "pd.Series(knn_best_predict).value_counts()"
   ]
  },
  {
   "cell_type": "markdown",
   "metadata": {},
   "source": [
    "<div style=\"border:solid gray 2.0px; padding: 10px\"> \n",
    "    \n",
    "    Не понял, в чем суть задания, если честно\n",
    "    \n",
    "    Ну, по крайней мере, модели предсказывают не одно и то же значение\n",
    "    \n",
    "    \n",
    "<div>"
   ]
  },
  {
   "cell_type": "code",
   "execution_count": null,
   "metadata": {},
   "outputs": [],
   "source": []
  },
  {
   "cell_type": "code",
   "execution_count": 25,
   "metadata": {},
   "outputs": [
    {
     "data": {
      "text/plain": [
       "0    69.917012\n",
       "1    30.082988\n",
       "Name: is_ultra, dtype: float64"
      ]
     },
     "execution_count": 25,
     "metadata": {},
     "output_type": "execute_result"
    }
   ],
   "source": [
    "target_train.value_counts() / target_train.count() * 100"
   ]
  },
  {
   "cell_type": "markdown",
   "metadata": {},
   "source": [
    "<div style=\"border:solid blue 2.0px; padding: 10px\"> \n",
    "    \n",
    "    Вообще, isultra = 0 (т.е. тариф smart) на тренировочной выборке составлял почти 70% от всей выборке.\n",
    "    С точки зрения модели, можно было пойти по этому пути и всем предсказывать 0. Получилось бы качество в 70%.\n",
    "\n",
    "    \n",
    "    Проверим, что покажет DummyClassifier на разных стратегиях\n",
    "    \n",
    "<div>"
   ]
  },
  {
   "cell_type": "code",
   "execution_count": null,
   "metadata": {},
   "outputs": [],
   "source": []
  },
  {
   "cell_type": "code",
   "execution_count": 31,
   "metadata": {},
   "outputs": [
    {
     "name": "stdout",
     "output_type": "stream",
     "text": [
      "Предсказания со стратегией most_frequent:\n",
      "0    643\n",
      "dtype: int64\n",
      "Предсказания со стратегией prior:\n",
      "0    643\n",
      "dtype: int64\n",
      "Предсказания со стратегией stratified:\n",
      "0    439\n",
      "1    204\n",
      "dtype: int64\n",
      "Предсказания со стратегией uniform:\n",
      "1    328\n",
      "0    315\n",
      "dtype: int64\n"
     ]
    },
    {
     "data": {
      "text/html": [
       "<div>\n",
       "<style scoped>\n",
       "    .dataframe tbody tr th:only-of-type {\n",
       "        vertical-align: middle;\n",
       "    }\n",
       "\n",
       "    .dataframe tbody tr th {\n",
       "        vertical-align: top;\n",
       "    }\n",
       "\n",
       "    .dataframe thead th {\n",
       "        text-align: right;\n",
       "    }\n",
       "</style>\n",
       "<table border=\"1\" class=\"dataframe\">\n",
       "  <thead>\n",
       "    <tr style=\"text-align: right;\">\n",
       "      <th></th>\n",
       "      <th>strategy</th>\n",
       "      <th>accuracy</th>\n",
       "    </tr>\n",
       "  </thead>\n",
       "  <tbody>\n",
       "    <tr>\n",
       "      <td>0</td>\n",
       "      <td>most_frequent</td>\n",
       "      <td>0.688958</td>\n",
       "    </tr>\n",
       "    <tr>\n",
       "      <td>1</td>\n",
       "      <td>prior</td>\n",
       "      <td>0.688958</td>\n",
       "    </tr>\n",
       "    <tr>\n",
       "      <td>2</td>\n",
       "      <td>stratified</td>\n",
       "      <td>0.628305</td>\n",
       "    </tr>\n",
       "    <tr>\n",
       "      <td>3</td>\n",
       "      <td>uniform</td>\n",
       "      <td>0.528771</td>\n",
       "    </tr>\n",
       "  </tbody>\n",
       "</table>\n",
       "</div>"
      ],
      "text/plain": [
       "        strategy  accuracy\n",
       "0  most_frequent  0.688958\n",
       "1          prior  0.688958\n",
       "2     stratified  0.628305\n",
       "3        uniform  0.528771"
      ]
     },
     "execution_count": 31,
     "metadata": {},
     "output_type": "execute_result"
    }
   ],
   "source": [
    "result_dummy_clf = pd.DataFrame(columns = ['strategy', 'accuracy']) \n",
    "\n",
    "for strategy in [\"most_frequent\", \"prior\", \"stratified\", \"uniform\"]:\n",
    "    dummy_clf = DummyClassifier(strategy=strategy)\n",
    "    dummy_clf.fit(features_train, target_train)\n",
    "\n",
    "    predict = pd.Series(dummy_clf.predict(features_test))\n",
    "    print(f\"Предсказания со стратегией {strategy}:\")\n",
    "    print(predict.value_counts())\n",
    "\n",
    "    acc_dummy_clf = dummy_clf.score(features_test, target_test)     \n",
    "    result_dummy_clf.loc[len(result_dummy_clf)] = [strategy, acc_dummy_clf]\n",
    "\n",
    "result_dummy_clf.head()"
   ]
  },
  {
   "cell_type": "markdown",
   "metadata": {},
   "source": [
    "<div style=\"border:solid blue 2.0px; padding: 10px\"> \n",
    "    \n",
    "    Стратегии most_frequent и prior пошли именно по этому пути\n",
    "    \n",
    "    Наша лучшая модель, что неплохо, выигрывает ))\n",
    "    \n",
    "<div>"
   ]
  },
  {
   "cell_type": "code",
   "execution_count": null,
   "metadata": {},
   "outputs": [],
   "source": []
  },
  {
   "cell_type": "markdown",
   "metadata": {},
   "source": [
    "## Вывод"
   ]
  },
  {
   "cell_type": "markdown",
   "metadata": {},
   "source": [
    "<div style=\"border:solid blue 2.0px; padding: 10px\"> \n",
    "    \n",
    "Мы попытались настроить разные модели, меняя гиперпараметры, чтобы получить наибольшую точность предсказания.\n",
    "    \n",
    "Лучшие модели разных типов:\n",
    "    \n",
    " - **Logistic Regression**:\n",
    "     - solver = warn\n",
    "     - penalty = l1\n",
    "     - c_value = 0.25\n",
    "     - accuracy на тестовой выборке: 0.741\n",
    "    \n",
    "    \n",
    " - **Random Forest**:\n",
    "     - n_estimators = 31\n",
    "     - max_features = sqrt\n",
    "     - criterion = gini\n",
    "     - accuracy на тестовой выборке:  = 0.805\n",
    "\n",
    "    \n",
    "- **K-Nearest Neighbors**:\n",
    "    - n_neighbors = 9\n",
    "    - weights = distance\n",
    "    - metrics = manhattan\n",
    "    - accuracy на тестовой выборке:  = 0.771\n",
    "    \n",
    "    \n",
    " \n",
    "-------------------\n",
    "   \n",
    "**Лучший результат показала модель Random Forest**\n",
    "    \n",
    "   \n",
    "<div>"
   ]
  },
  {
   "cell_type": "code",
   "execution_count": null,
   "metadata": {},
   "outputs": [],
   "source": []
  }
 ],
 "metadata": {
  "ExecuteTimeLog": [
   {
    "duration": 664,
    "start_time": "2022-02-05T21:15:32.036Z"
   },
   {
    "duration": 22,
    "start_time": "2022-02-05T21:15:33.388Z"
   },
   {
    "duration": 16,
    "start_time": "2022-02-05T21:15:43.328Z"
   },
   {
    "duration": 3,
    "start_time": "2022-02-05T21:49:12.901Z"
   },
   {
    "duration": 21,
    "start_time": "2022-02-05T21:49:13.760Z"
   },
   {
    "duration": 11,
    "start_time": "2022-02-05T21:49:14.114Z"
   },
   {
    "duration": 338,
    "start_time": "2022-02-05T21:49:15.181Z"
   },
   {
    "duration": 263,
    "start_time": "2022-02-05T21:49:25.399Z"
   },
   {
    "duration": 490,
    "start_time": "2022-02-05T21:49:48.947Z"
   },
   {
    "duration": 7,
    "start_time": "2022-02-05T21:49:51.941Z"
   },
   {
    "duration": 4,
    "start_time": "2022-02-05T21:49:54.140Z"
   },
   {
    "duration": 5,
    "start_time": "2022-02-05T21:50:00.220Z"
   },
   {
    "duration": 5,
    "start_time": "2022-02-05T21:50:00.755Z"
   },
   {
    "duration": 7,
    "start_time": "2022-02-05T21:50:14.527Z"
   },
   {
    "duration": 4,
    "start_time": "2022-02-05T21:50:15.020Z"
   },
   {
    "duration": 4,
    "start_time": "2022-02-05T21:50:15.439Z"
   },
   {
    "duration": 7,
    "start_time": "2022-02-05T22:04:01.801Z"
   },
   {
    "duration": 291,
    "start_time": "2022-02-05T22:06:21.781Z"
   },
   {
    "duration": 8,
    "start_time": "2022-02-05T22:06:26.793Z"
   },
   {
    "duration": 4,
    "start_time": "2022-02-05T22:06:27.249Z"
   },
   {
    "duration": 5,
    "start_time": "2022-02-05T22:06:57.272Z"
   },
   {
    "duration": 7,
    "start_time": "2022-02-05T22:16:00.569Z"
   },
   {
    "duration": 7,
    "start_time": "2022-02-05T22:16:27.102Z"
   },
   {
    "duration": 252,
    "start_time": "2022-02-05T22:25:56.368Z"
   },
   {
    "duration": 30,
    "start_time": "2022-02-05T22:26:11.701Z"
   },
   {
    "duration": 3,
    "start_time": "2022-02-05T22:26:13.238Z"
   },
   {
    "duration": 6,
    "start_time": "2022-02-05T22:26:18.448Z"
   },
   {
    "duration": 13,
    "start_time": "2022-02-05T22:35:06.860Z"
   },
   {
    "duration": 268,
    "start_time": "2022-02-05T22:35:27.928Z"
   },
   {
    "duration": 12,
    "start_time": "2022-02-05T22:35:41.547Z"
   },
   {
    "duration": 11,
    "start_time": "2022-02-05T22:35:46.920Z"
   },
   {
    "duration": 12,
    "start_time": "2022-02-05T22:35:55.125Z"
   },
   {
    "duration": 6,
    "start_time": "2022-02-05T22:36:18.699Z"
   },
   {
    "duration": 6,
    "start_time": "2022-02-05T22:36:27.017Z"
   },
   {
    "duration": 3,
    "start_time": "2022-02-05T22:36:33.764Z"
   },
   {
    "duration": 307,
    "start_time": "2022-02-05T23:18:21.132Z"
   },
   {
    "duration": 264,
    "start_time": "2022-02-05T23:18:33.250Z"
   },
   {
    "duration": 19,
    "start_time": "2022-02-05T23:20:13.977Z"
   },
   {
    "duration": 7,
    "start_time": "2022-02-05T23:21:18.880Z"
   },
   {
    "duration": 14,
    "start_time": "2022-02-05T23:32:18.147Z"
   },
   {
    "duration": 274,
    "start_time": "2022-02-05T23:32:48.300Z"
   },
   {
    "duration": 3,
    "start_time": "2022-02-05T23:33:42.560Z"
   },
   {
    "duration": 3,
    "start_time": "2022-02-05T23:33:42.881Z"
   },
   {
    "duration": 137,
    "start_time": "2022-02-05T23:33:43.230Z"
   },
   {
    "duration": 244,
    "start_time": "2022-02-05T23:35:08.669Z"
   },
   {
    "duration": 237,
    "start_time": "2022-02-05T23:35:17.102Z"
   },
   {
    "duration": 248,
    "start_time": "2022-02-05T23:35:24.560Z"
   },
   {
    "duration": 232,
    "start_time": "2022-02-05T23:35:28.221Z"
   },
   {
    "duration": 227,
    "start_time": "2022-02-05T23:35:31.144Z"
   },
   {
    "duration": 225,
    "start_time": "2022-02-05T23:35:34.241Z"
   },
   {
    "duration": 237,
    "start_time": "2022-02-05T23:35:38.308Z"
   },
   {
    "duration": 260,
    "start_time": "2022-02-05T23:35:40.981Z"
   },
   {
    "duration": 234,
    "start_time": "2022-02-05T23:35:43.460Z"
   },
   {
    "duration": 238,
    "start_time": "2022-02-05T23:35:45.983Z"
   },
   {
    "duration": 237,
    "start_time": "2022-02-05T23:35:48.754Z"
   },
   {
    "duration": 208,
    "start_time": "2022-02-06T13:53:43.093Z"
   },
   {
    "duration": 971,
    "start_time": "2022-02-06T13:53:50.597Z"
   },
   {
    "duration": 18,
    "start_time": "2022-02-06T13:53:51.570Z"
   },
   {
    "duration": 14,
    "start_time": "2022-02-06T13:53:51.590Z"
   },
   {
    "duration": 7,
    "start_time": "2022-02-06T13:53:52.142Z"
   },
   {
    "duration": 9,
    "start_time": "2022-02-06T13:53:55.032Z"
   },
   {
    "duration": 4,
    "start_time": "2022-02-06T13:53:55.354Z"
   },
   {
    "duration": 7,
    "start_time": "2022-02-06T13:53:58.004Z"
   },
   {
    "duration": 30,
    "start_time": "2022-02-06T13:54:01.521Z"
   },
   {
    "duration": 12,
    "start_time": "2022-02-06T13:54:04.252Z"
   },
   {
    "duration": 278,
    "start_time": "2022-02-06T14:11:16.578Z"
   },
   {
    "duration": 17523,
    "start_time": "2022-02-06T14:11:35.027Z"
   },
   {
    "duration": 17193,
    "start_time": "2022-02-06T14:13:42.938Z"
   },
   {
    "duration": 19321,
    "start_time": "2022-02-06T14:14:23.080Z"
   },
   {
    "duration": 19351,
    "start_time": "2022-02-06T14:16:10.464Z"
   },
   {
    "duration": 19207,
    "start_time": "2022-02-06T14:17:13.341Z"
   },
   {
    "duration": 13,
    "start_time": "2022-02-06T14:17:32.549Z"
   },
   {
    "duration": 3,
    "start_time": "2022-02-06T14:19:49.477Z"
   },
   {
    "duration": 62,
    "start_time": "2022-02-06T14:21:21.581Z"
   },
   {
    "duration": 30963,
    "start_time": "2022-02-06T14:21:27.380Z"
   },
   {
    "duration": 46246,
    "start_time": "2022-02-06T14:22:43.683Z"
   },
   {
    "duration": 6,
    "start_time": "2022-02-06T14:37:02.099Z"
   },
   {
    "duration": 1298,
    "start_time": "2022-02-06T14:39:05.499Z"
   },
   {
    "duration": 9,
    "start_time": "2022-02-06T14:39:16.588Z"
   },
   {
    "duration": 196,
    "start_time": "2022-02-06T14:39:39.078Z"
   },
   {
    "duration": 245,
    "start_time": "2022-02-06T14:39:51.116Z"
   },
   {
    "duration": 5,
    "start_time": "2022-02-06T14:40:01.735Z"
   },
   {
    "duration": 8,
    "start_time": "2022-02-06T14:40:44.913Z"
   },
   {
    "duration": 5,
    "start_time": "2022-02-06T14:41:21.212Z"
   },
   {
    "duration": 192,
    "start_time": "2022-02-06T14:42:48.106Z"
   },
   {
    "duration": 5,
    "start_time": "2022-02-06T14:43:03.737Z"
   },
   {
    "duration": 176,
    "start_time": "2022-02-06T14:43:32.542Z"
   },
   {
    "duration": 189,
    "start_time": "2022-02-06T14:43:41.677Z"
   },
   {
    "duration": 8,
    "start_time": "2022-02-06T14:44:21.796Z"
   },
   {
    "duration": 195,
    "start_time": "2022-02-06T14:44:40.504Z"
   },
   {
    "duration": 1244,
    "start_time": "2022-02-06T14:45:11.295Z"
   },
   {
    "duration": 1301,
    "start_time": "2022-02-06T14:45:28.363Z"
   },
   {
    "duration": 1218,
    "start_time": "2022-02-06T14:45:38.477Z"
   },
   {
    "duration": 1225,
    "start_time": "2022-02-06T14:46:04.923Z"
   },
   {
    "duration": 325,
    "start_time": "2022-02-06T14:47:33.004Z"
   },
   {
    "duration": 330,
    "start_time": "2022-02-06T14:48:11.442Z"
   },
   {
    "duration": 375,
    "start_time": "2022-02-06T14:48:24.615Z"
   },
   {
    "duration": 406,
    "start_time": "2022-02-06T14:48:45.142Z"
   },
   {
    "duration": 217,
    "start_time": "2022-02-06T14:49:00.511Z"
   },
   {
    "duration": 2,
    "start_time": "2022-02-06T14:49:07.774Z"
   },
   {
    "duration": 5,
    "start_time": "2022-02-06T14:49:10.193Z"
   },
   {
    "duration": 10,
    "start_time": "2022-02-06T14:49:15.434Z"
   },
   {
    "duration": 196,
    "start_time": "2022-02-06T14:49:55.860Z"
   },
   {
    "duration": 11,
    "start_time": "2022-02-06T14:50:38.348Z"
   },
   {
    "duration": 205,
    "start_time": "2022-02-06T14:50:58.003Z"
   },
   {
    "duration": 199,
    "start_time": "2022-02-06T14:56:41.900Z"
   },
   {
    "duration": 190,
    "start_time": "2022-02-06T14:56:55.360Z"
   },
   {
    "duration": 220,
    "start_time": "2022-02-06T14:57:23.920Z"
   },
   {
    "duration": 187,
    "start_time": "2022-02-06T14:57:36.720Z"
   },
   {
    "duration": 209,
    "start_time": "2022-02-06T14:57:52.008Z"
   },
   {
    "duration": 208,
    "start_time": "2022-02-06T14:57:55.740Z"
   },
   {
    "duration": 195,
    "start_time": "2022-02-06T14:58:23.988Z"
   },
   {
    "duration": 297,
    "start_time": "2022-02-06T14:58:38.700Z"
   },
   {
    "duration": 286,
    "start_time": "2022-02-06T14:58:42.408Z"
   },
   {
    "duration": 199,
    "start_time": "2022-02-06T14:58:45.780Z"
   },
   {
    "duration": 979,
    "start_time": "2022-02-06T14:58:57.884Z"
   },
   {
    "duration": 20,
    "start_time": "2022-02-06T14:58:59.524Z"
   },
   {
    "duration": 16,
    "start_time": "2022-02-06T14:58:59.925Z"
   },
   {
    "duration": 7,
    "start_time": "2022-02-06T14:59:00.872Z"
   },
   {
    "duration": 7,
    "start_time": "2022-02-06T14:59:04.004Z"
   },
   {
    "duration": 4,
    "start_time": "2022-02-06T14:59:04.332Z"
   },
   {
    "duration": 6,
    "start_time": "2022-02-06T14:59:06.724Z"
   },
   {
    "duration": 28,
    "start_time": "2022-02-06T14:59:09.104Z"
   },
   {
    "duration": 206,
    "start_time": "2022-02-06T14:59:17.445Z"
   },
   {
    "duration": 289,
    "start_time": "2022-02-06T14:59:28.413Z"
   },
   {
    "duration": 199,
    "start_time": "2022-02-06T14:59:32.276Z"
   },
   {
    "duration": 207,
    "start_time": "2022-02-06T15:00:08.125Z"
   },
   {
    "duration": 185,
    "start_time": "2022-02-06T15:00:58.724Z"
   },
   {
    "duration": 7995,
    "start_time": "2022-02-06T15:04:03.462Z"
   },
   {
    "duration": 8,
    "start_time": "2022-02-06T15:04:20.393Z"
   },
   {
    "duration": 5,
    "start_time": "2022-02-06T15:04:35.899Z"
   },
   {
    "duration": 118251,
    "start_time": "2022-02-06T15:07:51.329Z"
   },
   {
    "duration": 8,
    "start_time": "2022-02-06T15:10:15.002Z"
   },
   {
    "duration": 9,
    "start_time": "2022-02-06T15:10:22.373Z"
   },
   {
    "duration": 11,
    "start_time": "2022-02-06T15:10:55.630Z"
   },
   {
    "duration": 60963,
    "start_time": "2022-02-06T15:11:29.368Z"
   },
   {
    "duration": 40136,
    "start_time": "2022-02-06T15:14:12.838Z"
   },
   {
    "duration": 2093,
    "start_time": "2022-02-06T15:19:56.242Z"
   },
   {
    "duration": 2172,
    "start_time": "2022-02-06T15:20:14.688Z"
   },
   {
    "duration": 4,
    "start_time": "2022-02-06T15:20:18.060Z"
   },
   {
    "duration": 1349,
    "start_time": "2022-02-06T15:21:18.377Z"
   },
   {
    "duration": 1439,
    "start_time": "2022-02-06T15:25:10.600Z"
   },
   {
    "duration": 40189,
    "start_time": "2022-02-06T15:25:44.709Z"
   },
   {
    "duration": 11,
    "start_time": "2022-02-06T15:39:23.044Z"
   },
   {
    "duration": 11,
    "start_time": "2022-02-06T15:49:43.745Z"
   },
   {
    "duration": 26035,
    "start_time": "2022-02-06T15:51:23.039Z"
   },
   {
    "duration": 113,
    "start_time": "2022-02-06T15:56:21.851Z"
   },
   {
    "duration": 112,
    "start_time": "2022-02-06T15:56:54.211Z"
   },
   {
    "duration": 276,
    "start_time": "2022-02-06T16:06:47.589Z"
   },
   {
    "duration": 1347,
    "start_time": "2022-02-06T16:06:57.936Z"
   },
   {
    "duration": 1377,
    "start_time": "2022-02-06T16:07:03.650Z"
   },
   {
    "duration": 12,
    "start_time": "2022-02-06T16:09:27.375Z"
   },
   {
    "duration": 208,
    "start_time": "2022-02-06T16:21:08.214Z"
   },
   {
    "duration": 11,
    "start_time": "2022-02-06T16:21:14.856Z"
   },
   {
    "duration": 178,
    "start_time": "2022-02-06T16:21:29.256Z"
   },
   {
    "duration": 6,
    "start_time": "2022-02-06T16:21:36.036Z"
   },
   {
    "duration": 11,
    "start_time": "2022-02-06T16:23:03.377Z"
   },
   {
    "duration": 6,
    "start_time": "2022-02-06T16:23:03.723Z"
   },
   {
    "duration": 121,
    "start_time": "2022-02-06T16:23:20.696Z"
   },
   {
    "duration": 6,
    "start_time": "2022-02-06T16:23:21.355Z"
   },
   {
    "duration": 9,
    "start_time": "2022-02-06T16:24:06.343Z"
   },
   {
    "duration": 6,
    "start_time": "2022-02-06T16:24:06.693Z"
   },
   {
    "duration": 9,
    "start_time": "2022-02-06T16:24:19.015Z"
   },
   {
    "duration": 6,
    "start_time": "2022-02-06T16:24:19.356Z"
   },
   {
    "duration": 9,
    "start_time": "2022-02-06T16:24:21.776Z"
   },
   {
    "duration": 6,
    "start_time": "2022-02-06T16:24:21.984Z"
   },
   {
    "duration": 9,
    "start_time": "2022-02-06T16:24:38.456Z"
   },
   {
    "duration": 5,
    "start_time": "2022-02-06T16:24:38.658Z"
   },
   {
    "duration": 111,
    "start_time": "2022-02-06T16:24:41.617Z"
   },
   {
    "duration": 6,
    "start_time": "2022-02-06T16:24:41.799Z"
   },
   {
    "duration": 13,
    "start_time": "2022-02-06T16:26:56.764Z"
   },
   {
    "duration": 115,
    "start_time": "2022-02-06T16:26:58.232Z"
   },
   {
    "duration": 15,
    "start_time": "2022-02-06T16:26:59.908Z"
   },
   {
    "duration": 13,
    "start_time": "2022-02-06T16:27:07.296Z"
   },
   {
    "duration": 1042,
    "start_time": "2022-02-06T16:29:15.275Z"
   },
   {
    "duration": 28,
    "start_time": "2022-02-06T16:29:34.507Z"
   },
   {
    "duration": 19,
    "start_time": "2022-02-06T16:29:35.540Z"
   },
   {
    "duration": 15,
    "start_time": "2022-02-06T16:29:35.841Z"
   },
   {
    "duration": 7,
    "start_time": "2022-02-06T16:29:38.380Z"
   },
   {
    "duration": 15,
    "start_time": "2022-02-06T16:29:39.427Z"
   },
   {
    "duration": 9,
    "start_time": "2022-02-06T16:29:39.681Z"
   },
   {
    "duration": 9,
    "start_time": "2022-02-06T16:29:40.388Z"
   },
   {
    "duration": 311,
    "start_time": "2022-02-06T16:29:45.999Z"
   },
   {
    "duration": 3,
    "start_time": "2022-02-06T16:30:13.996Z"
   },
   {
    "duration": 18,
    "start_time": "2022-02-06T16:30:14.720Z"
   },
   {
    "duration": 8,
    "start_time": "2022-02-06T16:30:14.928Z"
   },
   {
    "duration": 7,
    "start_time": "2022-02-06T16:30:15.119Z"
   },
   {
    "duration": 7,
    "start_time": "2022-02-06T16:30:15.739Z"
   },
   {
    "duration": 4,
    "start_time": "2022-02-06T16:30:15.930Z"
   },
   {
    "duration": 8,
    "start_time": "2022-02-06T16:30:16.200Z"
   },
   {
    "duration": 207,
    "start_time": "2022-02-06T16:30:18.302Z"
   },
   {
    "duration": 178,
    "start_time": "2022-02-06T16:30:41.342Z"
   },
   {
    "duration": 11,
    "start_time": "2022-02-06T16:30:45.400Z"
   },
   {
    "duration": 18,
    "start_time": "2022-02-06T16:30:46.102Z"
   },
   {
    "duration": 9,
    "start_time": "2022-02-06T16:30:46.273Z"
   },
   {
    "duration": 6,
    "start_time": "2022-02-06T16:30:46.472Z"
   },
   {
    "duration": 6,
    "start_time": "2022-02-06T16:30:47.026Z"
   },
   {
    "duration": 4,
    "start_time": "2022-02-06T16:30:47.190Z"
   },
   {
    "duration": 6,
    "start_time": "2022-02-06T16:30:47.373Z"
   },
   {
    "duration": 186,
    "start_time": "2022-02-06T16:30:48.722Z"
   },
   {
    "duration": 26501,
    "start_time": "2022-02-06T16:30:52.426Z"
   },
   {
    "duration": 1509,
    "start_time": "2022-02-06T16:31:18.930Z"
   },
   {
    "duration": 192,
    "start_time": "2022-02-06T16:31:25.121Z"
   },
   {
    "duration": 112,
    "start_time": "2022-02-06T16:31:25.643Z"
   },
   {
    "duration": 114,
    "start_time": "2022-02-06T16:31:25.821Z"
   },
   {
    "duration": 13,
    "start_time": "2022-02-06T16:31:57.900Z"
   },
   {
    "duration": 119,
    "start_time": "2022-02-06T16:32:00.559Z"
   },
   {
    "duration": 116,
    "start_time": "2022-02-06T16:32:01.229Z"
   },
   {
    "duration": 11,
    "start_time": "2022-02-06T16:32:03.820Z"
   },
   {
    "duration": 13,
    "start_time": "2022-02-06T16:32:09.520Z"
   },
   {
    "duration": 117,
    "start_time": "2022-02-06T16:32:11.590Z"
   },
   {
    "duration": 12,
    "start_time": "2022-02-06T16:32:12.408Z"
   },
   {
    "duration": 56,
    "start_time": "2022-02-06T20:39:50.088Z"
   },
   {
    "duration": 1351,
    "start_time": "2022-02-07T08:48:48.605Z"
   },
   {
    "duration": 20,
    "start_time": "2022-02-07T08:49:01.289Z"
   },
   {
    "duration": 18,
    "start_time": "2022-02-07T08:49:01.592Z"
   },
   {
    "duration": 8,
    "start_time": "2022-02-07T08:49:02.088Z"
   },
   {
    "duration": 7,
    "start_time": "2022-02-07T08:49:02.969Z"
   },
   {
    "duration": 4,
    "start_time": "2022-02-07T08:49:03.169Z"
   },
   {
    "duration": 6,
    "start_time": "2022-02-07T08:49:03.389Z"
   },
   {
    "duration": 230,
    "start_time": "2022-02-07T08:49:04.629Z"
   },
   {
    "duration": 30056,
    "start_time": "2022-02-07T08:49:05.209Z"
   },
   {
    "duration": 1628,
    "start_time": "2022-02-07T08:49:35.267Z"
   },
   {
    "duration": 12,
    "start_time": "2022-02-07T08:49:36.898Z"
   },
   {
    "duration": 140,
    "start_time": "2022-02-07T08:49:36.912Z"
   },
   {
    "duration": 138,
    "start_time": "2022-02-07T08:49:37.054Z"
   },
   {
    "duration": 13,
    "start_time": "2022-02-07T08:49:37.194Z"
   },
   {
    "duration": 4,
    "start_time": "2022-02-07T08:50:42.259Z"
   },
   {
    "duration": 6,
    "start_time": "2022-02-07T08:53:46.608Z"
   },
   {
    "duration": 408,
    "start_time": "2022-02-07T09:01:29.428Z"
   },
   {
    "duration": 23,
    "start_time": "2022-02-07T09:01:54.668Z"
   },
   {
    "duration": 5,
    "start_time": "2022-02-07T09:02:43.409Z"
   },
   {
    "duration": 7,
    "start_time": "2022-02-07T09:03:57.369Z"
   },
   {
    "duration": 5,
    "start_time": "2022-02-07T09:04:08.230Z"
   },
   {
    "duration": 7,
    "start_time": "2022-02-07T09:04:43.887Z"
   },
   {
    "duration": 7,
    "start_time": "2022-02-07T09:07:44.979Z"
   },
   {
    "duration": 7,
    "start_time": "2022-02-07T09:07:56.337Z"
   },
   {
    "duration": 7,
    "start_time": "2022-02-07T09:08:01.188Z"
   },
   {
    "duration": 265,
    "start_time": "2022-02-07T09:13:39.941Z"
   },
   {
    "duration": 254,
    "start_time": "2022-02-07T09:14:05.521Z"
   },
   {
    "duration": 31,
    "start_time": "2022-02-07T09:14:23.981Z"
   },
   {
    "duration": 31,
    "start_time": "2022-02-07T09:15:58.749Z"
   },
   {
    "duration": 37,
    "start_time": "2022-02-07T09:16:19.487Z"
   },
   {
    "duration": 31,
    "start_time": "2022-02-07T09:16:28.419Z"
   }
  ],
  "kernelspec": {
   "display_name": "Python 3 (ipykernel)",
   "language": "python",
   "name": "python3"
  },
  "language_info": {
   "codemirror_mode": {
    "name": "ipython",
    "version": 3
   },
   "file_extension": ".py",
   "mimetype": "text/x-python",
   "name": "python",
   "nbconvert_exporter": "python",
   "pygments_lexer": "ipython3",
   "version": "3.9.7"
  },
  "toc": {
   "base_numbering": 1,
   "nav_menu": {},
   "number_sections": true,
   "sideBar": true,
   "skip_h1_title": true,
   "title_cell": "Table of Contents",
   "title_sidebar": "Contents",
   "toc_cell": false,
   "toc_position": {
    "height": "calc(100% - 180px)",
    "left": "10px",
    "top": "150px",
    "width": "366.391px"
   },
   "toc_section_display": true,
   "toc_window_display": true
  }
 },
 "nbformat": 4,
 "nbformat_minor": 2
}
