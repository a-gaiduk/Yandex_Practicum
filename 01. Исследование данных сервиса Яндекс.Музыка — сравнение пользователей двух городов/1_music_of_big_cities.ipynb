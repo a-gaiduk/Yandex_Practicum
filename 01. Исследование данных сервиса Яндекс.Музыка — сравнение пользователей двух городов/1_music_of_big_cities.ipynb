{
 "cells": [
  {
   "cell_type": "markdown",
   "metadata": {
    "id": "E0vqbgi9ay0H"
   },
   "source": [
    "# Яндекс.Музыка"
   ]
  },
  {
   "cell_type": "markdown",
   "metadata": {
    "id": "VUC88oWjTJw2"
   },
   "source": [
    "Сравнение Москвы и Петербурга окружено мифами. Например:\n",
    " * Москва — мегаполис, подчинённый жёсткому ритму рабочей недели;\n",
    " * Петербург — культурная столица, со своими вкусами.\n",
    "\n",
    "На данных Яндекс.Музыки вы сравните поведение пользователей двух столиц.\n",
    "\n",
    "**Цель исследования** — проверьте три гипотезы:\n",
    "1. Активность пользователей зависит от дня недели. Причём в Москве и Петербурге это проявляется по-разному.\n",
    "2. В понедельник утром в Москве преобладают одни жанры, а в Петербурге — другие. Так же и вечером пятницы преобладают разные жанры — в зависимости от города. \n",
    "3. Москва и Петербург предпочитают разные жанры музыки. В Москве чаще слушают поп-музыку, в Петербурге — русский рэп.\n",
    "\n",
    "**Ход исследования**\n",
    "\n",
    "Данные о поведении пользователей вы получите из файла `yandex_music_project.csv`. О качестве данных ничего не известно. Поэтому перед проверкой гипотез понадобится обзор данных. \n",
    "\n",
    "Вы проверите данные на ошибки и оцените их влияние на исследование. Затем, на этапе предобработки вы поищете возможность исправить самые критичные ошибки данных.\n",
    " \n",
    "Таким образом, исследование пройдёт в три этапа:\n",
    " 1. Обзор данных.\n",
    " 2. Предобработка данных.\n",
    " 3. Проверка гипотез.\n",
    "\n"
   ]
  },
  {
   "cell_type": "markdown",
   "metadata": {
    "id": "Ml1hmfXC_Zcs"
   },
   "source": [
    "## Обзор данных"
   ]
  },
  {
   "cell_type": "code",
   "execution_count": 41,
   "metadata": {
    "id": "AXN7PHPN_Zcs"
   },
   "outputs": [],
   "source": [
    "# импорт библиотеки pandas\n",
    "import pandas as pd"
   ]
  },
  {
   "cell_type": "code",
   "execution_count": 42,
   "metadata": {
    "id": "fFVu7vqh_Zct"
   },
   "outputs": [],
   "source": [
    "df = pd.read_csv('/datasets/yandex_music_project.csv')"
   ]
  },
  {
   "cell_type": "code",
   "execution_count": 43,
   "metadata": {
    "id": "oWTVX3gW_Zct"
   },
   "outputs": [
    {
     "data": {
      "text/html": [
       "<div>\n",
       "<style scoped>\n",
       "    .dataframe tbody tr th:only-of-type {\n",
       "        vertical-align: middle;\n",
       "    }\n",
       "\n",
       "    .dataframe tbody tr th {\n",
       "        vertical-align: top;\n",
       "    }\n",
       "\n",
       "    .dataframe thead th {\n",
       "        text-align: right;\n",
       "    }\n",
       "</style>\n",
       "<table border=\"1\" class=\"dataframe\">\n",
       "  <thead>\n",
       "    <tr style=\"text-align: right;\">\n",
       "      <th></th>\n",
       "      <th>userID</th>\n",
       "      <th>Track</th>\n",
       "      <th>artist</th>\n",
       "      <th>genre</th>\n",
       "      <th>City</th>\n",
       "      <th>time</th>\n",
       "      <th>Day</th>\n",
       "    </tr>\n",
       "  </thead>\n",
       "  <tbody>\n",
       "    <tr>\n",
       "      <td>0</td>\n",
       "      <td>FFB692EC</td>\n",
       "      <td>Kamigata To Boots</td>\n",
       "      <td>The Mass Missile</td>\n",
       "      <td>rock</td>\n",
       "      <td>Saint-Petersburg</td>\n",
       "      <td>20:28:33</td>\n",
       "      <td>Wednesday</td>\n",
       "    </tr>\n",
       "    <tr>\n",
       "      <td>1</td>\n",
       "      <td>55204538</td>\n",
       "      <td>Delayed Because of Accident</td>\n",
       "      <td>Andreas Rönnberg</td>\n",
       "      <td>rock</td>\n",
       "      <td>Moscow</td>\n",
       "      <td>14:07:09</td>\n",
       "      <td>Friday</td>\n",
       "    </tr>\n",
       "    <tr>\n",
       "      <td>2</td>\n",
       "      <td>20EC38</td>\n",
       "      <td>Funiculì funiculà</td>\n",
       "      <td>Mario Lanza</td>\n",
       "      <td>pop</td>\n",
       "      <td>Saint-Petersburg</td>\n",
       "      <td>20:58:07</td>\n",
       "      <td>Wednesday</td>\n",
       "    </tr>\n",
       "    <tr>\n",
       "      <td>3</td>\n",
       "      <td>A3DD03C9</td>\n",
       "      <td>Dragons in the Sunset</td>\n",
       "      <td>Fire + Ice</td>\n",
       "      <td>folk</td>\n",
       "      <td>Saint-Petersburg</td>\n",
       "      <td>08:37:09</td>\n",
       "      <td>Monday</td>\n",
       "    </tr>\n",
       "    <tr>\n",
       "      <td>4</td>\n",
       "      <td>E2DC1FAE</td>\n",
       "      <td>Soul People</td>\n",
       "      <td>Space Echo</td>\n",
       "      <td>dance</td>\n",
       "      <td>Moscow</td>\n",
       "      <td>08:34:34</td>\n",
       "      <td>Monday</td>\n",
       "    </tr>\n",
       "    <tr>\n",
       "      <td>5</td>\n",
       "      <td>842029A1</td>\n",
       "      <td>Преданная</td>\n",
       "      <td>IMPERVTOR</td>\n",
       "      <td>rusrap</td>\n",
       "      <td>Saint-Petersburg</td>\n",
       "      <td>13:09:41</td>\n",
       "      <td>Friday</td>\n",
       "    </tr>\n",
       "    <tr>\n",
       "      <td>6</td>\n",
       "      <td>4CB90AA5</td>\n",
       "      <td>True</td>\n",
       "      <td>Roman Messer</td>\n",
       "      <td>dance</td>\n",
       "      <td>Moscow</td>\n",
       "      <td>13:00:07</td>\n",
       "      <td>Wednesday</td>\n",
       "    </tr>\n",
       "    <tr>\n",
       "      <td>7</td>\n",
       "      <td>F03E1C1F</td>\n",
       "      <td>Feeling This Way</td>\n",
       "      <td>Polina Griffith</td>\n",
       "      <td>dance</td>\n",
       "      <td>Moscow</td>\n",
       "      <td>20:47:49</td>\n",
       "      <td>Wednesday</td>\n",
       "    </tr>\n",
       "    <tr>\n",
       "      <td>8</td>\n",
       "      <td>8FA1D3BE</td>\n",
       "      <td>И вновь продолжается бой</td>\n",
       "      <td>NaN</td>\n",
       "      <td>ruspop</td>\n",
       "      <td>Moscow</td>\n",
       "      <td>09:17:40</td>\n",
       "      <td>Friday</td>\n",
       "    </tr>\n",
       "    <tr>\n",
       "      <td>9</td>\n",
       "      <td>E772D5C0</td>\n",
       "      <td>Pessimist</td>\n",
       "      <td>NaN</td>\n",
       "      <td>dance</td>\n",
       "      <td>Saint-Petersburg</td>\n",
       "      <td>21:20:49</td>\n",
       "      <td>Wednesday</td>\n",
       "    </tr>\n",
       "  </tbody>\n",
       "</table>\n",
       "</div>"
      ],
      "text/plain": [
       "     userID                        Track            artist   genre  \\\n",
       "0  FFB692EC            Kamigata To Boots  The Mass Missile    rock   \n",
       "1  55204538  Delayed Because of Accident  Andreas Rönnberg    rock   \n",
       "2    20EC38            Funiculì funiculà       Mario Lanza     pop   \n",
       "3  A3DD03C9        Dragons in the Sunset        Fire + Ice    folk   \n",
       "4  E2DC1FAE                  Soul People        Space Echo   dance   \n",
       "5  842029A1                    Преданная         IMPERVTOR  rusrap   \n",
       "6  4CB90AA5                         True      Roman Messer   dance   \n",
       "7  F03E1C1F             Feeling This Way   Polina Griffith   dance   \n",
       "8  8FA1D3BE     И вновь продолжается бой               NaN  ruspop   \n",
       "9  E772D5C0                    Pessimist               NaN   dance   \n",
       "\n",
       "             City        time        Day  \n",
       "0  Saint-Petersburg  20:28:33  Wednesday  \n",
       "1            Moscow  14:07:09     Friday  \n",
       "2  Saint-Petersburg  20:58:07  Wednesday  \n",
       "3  Saint-Petersburg  08:37:09     Monday  \n",
       "4            Moscow  08:34:34     Monday  \n",
       "5  Saint-Petersburg  13:09:41     Friday  \n",
       "6            Moscow  13:00:07  Wednesday  \n",
       "7            Moscow  20:47:49  Wednesday  \n",
       "8            Moscow  09:17:40     Friday  \n",
       "9  Saint-Petersburg  21:20:49  Wednesday  "
      ]
     },
     "execution_count": 43,
     "metadata": {},
     "output_type": "execute_result"
    }
   ],
   "source": [
    "df.head(10)"
   ]
  },
  {
   "cell_type": "code",
   "execution_count": 44,
   "metadata": {
    "id": "DSf2kIb-_Zct"
   },
   "outputs": [
    {
     "name": "stdout",
     "output_type": "stream",
     "text": [
      "<class 'pandas.core.frame.DataFrame'>\n",
      "RangeIndex: 65079 entries, 0 to 65078\n",
      "Data columns (total 7 columns):\n",
      "  userID    65079 non-null object\n",
      "Track       63848 non-null object\n",
      "artist      57876 non-null object\n",
      "genre       63881 non-null object\n",
      "  City      65079 non-null object\n",
      "time        65079 non-null object\n",
      "Day         65079 non-null object\n",
      "dtypes: object(7)\n",
      "memory usage: 3.5+ MB\n"
     ]
    }
   ],
   "source": [
    "# получение общей информации о данных в таблице df\n",
    "df.info()"
   ]
  },
  {
   "cell_type": "markdown",
   "metadata": {
    "id": "TaQ2Iwbr_Zct"
   },
   "source": [
    "Итак, в таблице семь столбцов. Тип данных во всех столбцах — `object`.\n",
    "\n",
    "Согласно документации к данным:\n",
    "* `userID` — идентификатор пользователя;\n",
    "* `Track` — название трека;  \n",
    "* `artist` — имя исполнителя;\n",
    "* `genre` — название жанра;\n",
    "* `City` — город пользователя;\n",
    "* `time` — время начала прослушивания;\n",
    "* `Day` — день недели.\n",
    "\n",
    "В названиях колонок видны три нарушения стиля:\n",
    "1. Строчные буквы сочетаются с прописными.\n",
    "2. Встречаются пробелы.\n",
    "3. Не соответствие \"змеиному\" стилю написания\n",
    "\n",
    "\n",
    "\n",
    "Количество значений в столбцах различается. Значит, в данных есть пропущенные значения.\n"
   ]
  },
  {
   "cell_type": "markdown",
   "metadata": {
    "id": "MCB6-dXG_Zct"
   },
   "source": [
    "**Выводы**\n",
    "\n",
    "В каждой строке таблицы — данные о прослушанном треке. Часть колонок описывает саму композицию: название, исполнителя и жанр. Остальные данные рассказывают о пользователе: из какого он города, когда он слушал музыку. \n",
    "\n",
    "Предварительно можно утверждать, что, данных достаточно для проверки гипотез. Но встречаются пропуски в данных, а в названиях колонок — расхождения с хорошим стилем.\n",
    "\n",
    "Чтобы двигаться дальше, нужно устранить проблемы в данных."
   ]
  },
  {
   "cell_type": "code",
   "execution_count": null,
   "metadata": {},
   "outputs": [],
   "source": []
  },
  {
   "cell_type": "markdown",
   "metadata": {
    "id": "SjYF6Ub9_Zct"
   },
   "source": [
    "## Предобработка данных"
   ]
  },
  {
   "cell_type": "markdown",
   "metadata": {
    "id": "dIaKXr29_Zct"
   },
   "source": [
    "### Стиль заголовков"
   ]
  },
  {
   "cell_type": "code",
   "execution_count": 45,
   "metadata": {
    "id": "oKOTdF_Q_Zct"
   },
   "outputs": [
    {
     "data": {
      "text/plain": [
       "Index(['  userID', 'Track', 'artist', 'genre', '  City  ', 'time', 'Day'], dtype='object')"
      ]
     },
     "execution_count": 45,
     "metadata": {},
     "output_type": "execute_result"
    }
   ],
   "source": [
    "# перечень названий столбцов таблицы df\n",
    "df.columns"
   ]
  },
  {
   "cell_type": "code",
   "execution_count": 46,
   "metadata": {
    "id": "ISlFqs5y_Zct"
   },
   "outputs": [],
   "source": [
    "# переименование столбцов\n",
    "df = df.rename({\n",
    "    '  userID': 'user_id',\n",
    "    'Track'   : 'track',\n",
    "    '  City  ': 'city',\n",
    "    'Day'     : 'day'\n",
    "}, axis=1)"
   ]
  },
  {
   "cell_type": "code",
   "execution_count": 47,
   "metadata": {
    "id": "d4NOAmTW_Zct"
   },
   "outputs": [
    {
     "data": {
      "text/plain": [
       "Index(['user_id', 'track', 'artist', 'genre', 'city', 'time', 'day'], dtype='object')"
      ]
     },
     "execution_count": 47,
     "metadata": {},
     "output_type": "execute_result"
    }
   ],
   "source": [
    "# проверка результатов - перечень названий столбцов\n",
    "df.columns"
   ]
  },
  {
   "cell_type": "code",
   "execution_count": null,
   "metadata": {},
   "outputs": [],
   "source": []
  },
  {
   "cell_type": "markdown",
   "metadata": {
    "id": "5ISfbcfY_Zct"
   },
   "source": [
    "### Пропуски значений\n",
    "Сначала посчитайте, сколько в таблице пропущенных значений. Для этого достаточно двух методов `pandas`:"
   ]
  },
  {
   "cell_type": "code",
   "execution_count": 48,
   "metadata": {
    "id": "RskX29qr_Zct"
   },
   "outputs": [
    {
     "data": {
      "text/plain": [
       "user_id       0\n",
       "track      1231\n",
       "artist     7203\n",
       "genre      1198\n",
       "city          0\n",
       "time          0\n",
       "day           0\n",
       "dtype: int64"
      ]
     },
     "execution_count": 48,
     "metadata": {},
     "output_type": "execute_result"
    }
   ],
   "source": [
    "# подсчёт пропусков\n",
    "df.isna().sum()"
   ]
  },
  {
   "cell_type": "code",
   "execution_count": 49,
   "metadata": {
    "id": "KplB5qWs_Zct"
   },
   "outputs": [],
   "source": [
    "# перебор названий столбцов в цикле и замена пропущенных значений на 'unknown'\n",
    "columns_to_replace = ['track', 'artist', 'genre']\n",
    "for column in columns_to_replace:\n",
    "    df[column] = df[column].fillna('unknown')"
   ]
  },
  {
   "cell_type": "code",
   "execution_count": 50,
   "metadata": {
    "id": "Tq4nYRX4_Zct"
   },
   "outputs": [
    {
     "data": {
      "text/plain": [
       "user_id    0\n",
       "track      0\n",
       "artist     0\n",
       "genre      0\n",
       "city       0\n",
       "time       0\n",
       "day        0\n",
       "dtype: int64"
      ]
     },
     "execution_count": 50,
     "metadata": {},
     "output_type": "execute_result"
    }
   ],
   "source": [
    "# подсчёт пропусков\n",
    "df.isna().sum()"
   ]
  },
  {
   "cell_type": "code",
   "execution_count": null,
   "metadata": {},
   "outputs": [],
   "source": []
  },
  {
   "cell_type": "markdown",
   "metadata": {
    "id": "BWKRtBJ3_Zct"
   },
   "source": [
    "### Дубликаты"
   ]
  },
  {
   "cell_type": "code",
   "execution_count": 51,
   "metadata": {
    "id": "36eES_S0_Zct"
   },
   "outputs": [
    {
     "data": {
      "text/plain": [
       "3826"
      ]
     },
     "execution_count": 51,
     "metadata": {},
     "output_type": "execute_result"
    }
   ],
   "source": [
    "# подсчёт явных дубликатов\n",
    "df.duplicated().sum()"
   ]
  },
  {
   "cell_type": "code",
   "execution_count": 52,
   "metadata": {
    "id": "exFHq6tt_Zct"
   },
   "outputs": [],
   "source": [
    "# удаление явных дубликатов (с удалением старых индексов и формированием новых)\n",
    "df = df.drop_duplicates().reset_index(drop = True)"
   ]
  },
  {
   "cell_type": "code",
   "execution_count": 53,
   "metadata": {
    "id": "-8PuNWQ0_Zct"
   },
   "outputs": [
    {
     "data": {
      "text/plain": [
       "0"
      ]
     },
     "execution_count": 53,
     "metadata": {},
     "output_type": "execute_result"
    }
   ],
   "source": [
    "# проверка на отсутствие дубликатов\n",
    "df.duplicated().sum()"
   ]
  },
  {
   "cell_type": "code",
   "execution_count": 54,
   "metadata": {
    "id": "JIUcqzZN_Zct"
   },
   "outputs": [
    {
     "data": {
      "text/plain": [
       "array(['acid', 'acoustic', 'action', 'adult', 'africa', 'afrikaans',\n",
       "       'alternative', 'alternativepunk', 'ambient', 'americana',\n",
       "       'animated', 'anime', 'arabesk', 'arabic', 'arena',\n",
       "       'argentinetango', 'art', 'audiobook', 'author', 'avantgarde',\n",
       "       'axé', 'baile', 'balkan', 'beats', 'bigroom', 'black', 'bluegrass',\n",
       "       'blues', 'bollywood', 'bossa', 'brazilian', 'breakbeat', 'breaks',\n",
       "       'broadway', 'cantautori', 'cantopop', 'canzone', 'caribbean',\n",
       "       'caucasian', 'celtic', 'chamber', 'chanson', 'children', 'chill',\n",
       "       'chinese', 'choral', 'christian', 'christmas', 'classical',\n",
       "       'classicmetal', 'club', 'colombian', 'comedy', 'conjazz',\n",
       "       'contemporary', 'country', 'cuban', 'dance', 'dancehall',\n",
       "       'dancepop', 'dark', 'death', 'deep', 'deutschrock', 'deutschspr',\n",
       "       'dirty', 'disco', 'dnb', 'documentary', 'downbeat', 'downtempo',\n",
       "       'drum', 'dub', 'dubstep', 'eastern', 'easy', 'electronic',\n",
       "       'electropop', 'emo', 'entehno', 'epicmetal', 'estrada', 'ethnic',\n",
       "       'eurofolk', 'european', 'experimental', 'extrememetal', 'fado',\n",
       "       'fairytail', 'film', 'fitness', 'flamenco', 'folk', 'folklore',\n",
       "       'folkmetal', 'folkrock', 'folktronica', 'forró', 'frankreich',\n",
       "       'französisch', 'french', 'funk', 'future', 'gangsta', 'garage',\n",
       "       'german', 'ghazal', 'gitarre', 'glitch', 'gospel', 'gothic',\n",
       "       'grime', 'grunge', 'gypsy', 'handsup', \"hard'n'heavy\", 'hardcore',\n",
       "       'hardstyle', 'hardtechno', 'hip', 'hip-hop', 'hiphop',\n",
       "       'historisch', 'holiday', 'hop', 'horror', 'house', 'hymn', 'idm',\n",
       "       'independent', 'indian', 'indie', 'indipop', 'industrial',\n",
       "       'inspirational', 'instrumental', 'international', 'irish', 'jam',\n",
       "       'japanese', 'jazz', 'jewish', 'jpop', 'jungle', 'k-pop',\n",
       "       'karadeniz', 'karaoke', 'kayokyoku', 'korean', 'laiko', 'latin',\n",
       "       'latino', 'leftfield', 'local', 'lounge', 'loungeelectronic',\n",
       "       'lovers', 'malaysian', 'mandopop', 'marschmusik', 'meditative',\n",
       "       'mediterranean', 'melodic', 'metal', 'metalcore', 'mexican',\n",
       "       'middle', 'minimal', 'miscellaneous', 'modern', 'mood', 'mpb',\n",
       "       'muslim', 'native', 'neoklassik', 'neue', 'new', 'newage',\n",
       "       'newwave', 'nu', 'nujazz', 'numetal', 'oceania', 'old', 'opera',\n",
       "       'orchestral', 'other', 'piano', 'podcasts', 'pop', 'popdance',\n",
       "       'popelectronic', 'popeurodance', 'poprussian', 'post',\n",
       "       'posthardcore', 'postrock', 'power', 'progmetal', 'progressive',\n",
       "       'psychedelic', 'punjabi', 'punk', 'quebecois', 'ragga', 'ram',\n",
       "       'rancheras', 'rap', 'rave', 'reggae', 'reggaeton', 'regional',\n",
       "       'relax', 'religious', 'retro', 'rhythm', 'rnb', 'rnr', 'rock',\n",
       "       'rockabilly', 'rockalternative', 'rockindie', 'rockother',\n",
       "       'romance', 'roots', 'ruspop', 'rusrap', 'rusrock', 'russian',\n",
       "       'salsa', 'samba', 'scenic', 'schlager', 'self', 'sertanejo',\n",
       "       'shanson', 'shoegazing', 'showtunes', 'singer', 'ska', 'skarock',\n",
       "       'slow', 'smooth', 'soft', 'soul', 'soulful', 'sound', 'soundtrack',\n",
       "       'southern', 'specialty', 'speech', 'spiritual', 'sport',\n",
       "       'stonerrock', 'surf', 'swing', 'synthpop', 'synthrock',\n",
       "       'sängerportrait', 'tango', 'tanzorchester', 'taraftar', 'tatar',\n",
       "       'tech', 'techno', 'teen', 'thrash', 'top', 'traditional',\n",
       "       'tradjazz', 'trance', 'tribal', 'trip', 'triphop', 'tropical',\n",
       "       'türk', 'türkçe', 'ukrrock', 'unknown', 'urban', 'uzbek',\n",
       "       'variété', 'vi', 'videogame', 'vocal', 'western', 'world',\n",
       "       'worldbeat', 'ïîï', 'электроника'], dtype=object)"
      ]
     },
     "execution_count": 54,
     "metadata": {},
     "output_type": "execute_result"
    }
   ],
   "source": [
    "# Просмотр уникальных названий жанров\n",
    "df['genre'].sort_values().unique()"
   ]
  },
  {
   "cell_type": "code",
   "execution_count": 55,
   "metadata": {
    "id": "ErNDkmns_Zct"
   },
   "outputs": [],
   "source": [
    "# Функция для замены неявных дубликатов\n",
    "def replace_wrong_genres(data, wrong_genres, correct_genre):\n",
    "    for wrong_genre in wrong_genres:\n",
    "        data = data.replace(wrong_genre, correct_genre)\n",
    "    return data "
   ]
  },
  {
   "cell_type": "markdown",
   "metadata": {},
   "source": [
    "<div class=\"alert alert-success\">\n",
    "<b>✔️ Комментарий ревьюера:</b> Круто, теперь наша функция может работать для любого датафрейма\n",
    "</div>"
   ]
  },
  {
   "cell_type": "markdown",
   "metadata": {
    "id": "aDoBJxbA_Zct"
   },
   "source": [
    "Вызовите `replace_wrong_genres()` и передайте ей такие аргументы, чтобы она устранила неявные дубликаты: вместо `hip`, `hop` и `hip-hop` в таблице должно быть значение `hiphop`:"
   ]
  },
  {
   "cell_type": "code",
   "execution_count": 56,
   "metadata": {
    "id": "YN5i2hpmSo09"
   },
   "outputs": [],
   "source": [
    "# Устранение неявных дубликатов\n",
    "df['genre'] = replace_wrong_genres(df['genre'], ['hip', 'hip-hop', 'hop'], 'hiphop')\n",
    "df['genre'] = replace_wrong_genres(df['genre'], ['электроника'], 'electronic')"
   ]
  },
  {
   "cell_type": "code",
   "execution_count": 57,
   "metadata": {
    "id": "wvixALnFG15m"
   },
   "outputs": [
    {
     "data": {
      "text/plain": [
       "array(['acid', 'acoustic', 'action', 'adult', 'africa', 'afrikaans',\n",
       "       'alternative', 'alternativepunk', 'ambient', 'americana',\n",
       "       'animated', 'anime', 'arabesk', 'arabic', 'arena',\n",
       "       'argentinetango', 'art', 'audiobook', 'author', 'avantgarde',\n",
       "       'axé', 'baile', 'balkan', 'beats', 'bigroom', 'black', 'bluegrass',\n",
       "       'blues', 'bollywood', 'bossa', 'brazilian', 'breakbeat', 'breaks',\n",
       "       'broadway', 'cantautori', 'cantopop', 'canzone', 'caribbean',\n",
       "       'caucasian', 'celtic', 'chamber', 'chanson', 'children', 'chill',\n",
       "       'chinese', 'choral', 'christian', 'christmas', 'classical',\n",
       "       'classicmetal', 'club', 'colombian', 'comedy', 'conjazz',\n",
       "       'contemporary', 'country', 'cuban', 'dance', 'dancehall',\n",
       "       'dancepop', 'dark', 'death', 'deep', 'deutschrock', 'deutschspr',\n",
       "       'dirty', 'disco', 'dnb', 'documentary', 'downbeat', 'downtempo',\n",
       "       'drum', 'dub', 'dubstep', 'eastern', 'easy', 'electronic',\n",
       "       'electropop', 'emo', 'entehno', 'epicmetal', 'estrada', 'ethnic',\n",
       "       'eurofolk', 'european', 'experimental', 'extrememetal', 'fado',\n",
       "       'fairytail', 'film', 'fitness', 'flamenco', 'folk', 'folklore',\n",
       "       'folkmetal', 'folkrock', 'folktronica', 'forró', 'frankreich',\n",
       "       'französisch', 'french', 'funk', 'future', 'gangsta', 'garage',\n",
       "       'german', 'ghazal', 'gitarre', 'glitch', 'gospel', 'gothic',\n",
       "       'grime', 'grunge', 'gypsy', 'handsup', \"hard'n'heavy\", 'hardcore',\n",
       "       'hardstyle', 'hardtechno', 'hiphop', 'historisch', 'holiday',\n",
       "       'horror', 'house', 'hymn', 'idm', 'independent', 'indian', 'indie',\n",
       "       'indipop', 'industrial', 'inspirational', 'instrumental',\n",
       "       'international', 'irish', 'jam', 'japanese', 'jazz', 'jewish',\n",
       "       'jpop', 'jungle', 'k-pop', 'karadeniz', 'karaoke', 'kayokyoku',\n",
       "       'korean', 'laiko', 'latin', 'latino', 'leftfield', 'local',\n",
       "       'lounge', 'loungeelectronic', 'lovers', 'malaysian', 'mandopop',\n",
       "       'marschmusik', 'meditative', 'mediterranean', 'melodic', 'metal',\n",
       "       'metalcore', 'mexican', 'middle', 'minimal', 'miscellaneous',\n",
       "       'modern', 'mood', 'mpb', 'muslim', 'native', 'neoklassik', 'neue',\n",
       "       'new', 'newage', 'newwave', 'nu', 'nujazz', 'numetal', 'oceania',\n",
       "       'old', 'opera', 'orchestral', 'other', 'piano', 'podcasts', 'pop',\n",
       "       'popdance', 'popelectronic', 'popeurodance', 'poprussian', 'post',\n",
       "       'posthardcore', 'postrock', 'power', 'progmetal', 'progressive',\n",
       "       'psychedelic', 'punjabi', 'punk', 'quebecois', 'ragga', 'ram',\n",
       "       'rancheras', 'rap', 'rave', 'reggae', 'reggaeton', 'regional',\n",
       "       'relax', 'religious', 'retro', 'rhythm', 'rnb', 'rnr', 'rock',\n",
       "       'rockabilly', 'rockalternative', 'rockindie', 'rockother',\n",
       "       'romance', 'roots', 'ruspop', 'rusrap', 'rusrock', 'russian',\n",
       "       'salsa', 'samba', 'scenic', 'schlager', 'self', 'sertanejo',\n",
       "       'shanson', 'shoegazing', 'showtunes', 'singer', 'ska', 'skarock',\n",
       "       'slow', 'smooth', 'soft', 'soul', 'soulful', 'sound', 'soundtrack',\n",
       "       'southern', 'specialty', 'speech', 'spiritual', 'sport',\n",
       "       'stonerrock', 'surf', 'swing', 'synthpop', 'synthrock',\n",
       "       'sängerportrait', 'tango', 'tanzorchester', 'taraftar', 'tatar',\n",
       "       'tech', 'techno', 'teen', 'thrash', 'top', 'traditional',\n",
       "       'tradjazz', 'trance', 'tribal', 'trip', 'triphop', 'tropical',\n",
       "       'türk', 'türkçe', 'ukrrock', 'unknown', 'urban', 'uzbek',\n",
       "       'variété', 'vi', 'videogame', 'vocal', 'western', 'world',\n",
       "       'worldbeat', 'ïîï'], dtype=object)"
      ]
     },
     "execution_count": 57,
     "metadata": {},
     "output_type": "execute_result"
    }
   ],
   "source": [
    "# Проверка на неявные дубликаты\n",
    "df['genre'].sort_values().unique()"
   ]
  },
  {
   "cell_type": "markdown",
   "metadata": {
    "id": "jz6a9-7HQUDd"
   },
   "source": [
    "**Выводы**\n",
    "\n",
    "Предобработка обнаружила три проблемы в данных:\n",
    "\n",
    "- нарушения в стиле заголовков,\n",
    "- пропущенные значения,\n",
    "- дубликаты — явные и неявные.\n",
    "\n",
    "Вы исправили заголовки, чтобы упростить работу с таблицей. Без дубликатов исследование станет более точным.\n",
    "\n",
    "Пропущенные значения вы заменили на `'unknown'`. Ещё предстоит увидеть, не повредят ли исследованию пропуски в колонке `genre`.\n",
    "\n",
    "Теперь можно перейти к проверке гипотез. "
   ]
  },
  {
   "cell_type": "code",
   "execution_count": null,
   "metadata": {},
   "outputs": [],
   "source": []
  },
  {
   "cell_type": "markdown",
   "metadata": {
    "id": "WttZHXH0SqKk"
   },
   "source": [
    "## Проверка гипотез"
   ]
  },
  {
   "cell_type": "markdown",
   "metadata": {
    "id": "Im936VVi_Zcu"
   },
   "source": [
    "### Сравнение поведения пользователей двух столиц"
   ]
  },
  {
   "cell_type": "code",
   "execution_count": 58,
   "metadata": {
    "id": "0_Qs96oh_Zcu"
   },
   "outputs": [
    {
     "data": {
      "text/plain": [
       "city\n",
       "Moscow              42741\n",
       "Saint-Petersburg    18512\n",
       "Name: city, dtype: int64"
      ]
     },
     "execution_count": 58,
     "metadata": {},
     "output_type": "execute_result"
    }
   ],
   "source": [
    "# Подсчёт прослушиваний в каждом городе\n",
    "df.groupby('city')['city'].count()"
   ]
  },
  {
   "cell_type": "markdown",
   "metadata": {
    "id": "dzli3w8o_Zcu"
   },
   "source": [
    "В Москве прослушиваний больше, чем в Петербурге. Из этого не следует, что московские пользователи чаще слушают музыку. Просто самих пользователей в Москве больше."
   ]
  },
  {
   "cell_type": "code",
   "execution_count": 59,
   "metadata": {
    "id": "uZMKjiJz_Zcu"
   },
   "outputs": [
    {
     "data": {
      "text/plain": [
       "day\n",
       "Friday       21840\n",
       "Monday       21354\n",
       "Wednesday    18059\n",
       "Name: day, dtype: int64"
      ]
     },
     "execution_count": 59,
     "metadata": {},
     "output_type": "execute_result"
    }
   ],
   "source": [
    "# Подсчёт прослушиваний в каждый из трёх дней\n",
    "df.groupby('day')['day'].count()"
   ]
  },
  {
   "cell_type": "code",
   "execution_count": 60,
   "metadata": {
    "id": "Nz3GdQB1_Zcu"
   },
   "outputs": [],
   "source": [
    "def number_tracks(data, day, city):\n",
    "    # Функция для подсчёта прослушиваний для конкретного города и дня.\n",
    "    # С помощью последовательной фильтрации с логической индексацией она \n",
    "    # сначала получит из исходной таблицы строки с нужным днём,\n",
    "    # затем из результата отфильтрует строки с нужным городом,\n",
    "    # методом count() посчитает количество значений в колонке user_id. \n",
    "    # Это количество функция вернёт в качестве результата\n",
    "    \n",
    "    track_list = data[(data['day'] == day) & (data['city'] == city)]\n",
    "    track_list_count = track_list['user_id'].count()\n",
    "    \n",
    "    return track_list_count"
   ]
  },
  {
   "cell_type": "code",
   "execution_count": 61,
   "metadata": {
    "id": "rJcRATNQ_Zcu"
   },
   "outputs": [
    {
     "data": {
      "text/plain": [
       "15740"
      ]
     },
     "execution_count": 61,
     "metadata": {},
     "output_type": "execute_result"
    }
   ],
   "source": [
    "# количество прослушиваний в Москве по понедельникам\n",
    "number_tracks(df, day='Monday', city='Moscow')"
   ]
  },
  {
   "cell_type": "code",
   "execution_count": 62,
   "metadata": {
    "id": "hq_ncZ5T_Zcu"
   },
   "outputs": [
    {
     "data": {
      "text/plain": [
       "5614"
      ]
     },
     "execution_count": 62,
     "metadata": {},
     "output_type": "execute_result"
    }
   ],
   "source": [
    "# количество прослушиваний в Санкт-Петербурге по понедельникам\n",
    "number_tracks(df, day='Monday', city='Saint-Petersburg')"
   ]
  },
  {
   "cell_type": "code",
   "execution_count": 63,
   "metadata": {
    "id": "_NTy2VPU_Zcu"
   },
   "outputs": [
    {
     "data": {
      "text/plain": [
       "11056"
      ]
     },
     "execution_count": 63,
     "metadata": {},
     "output_type": "execute_result"
    }
   ],
   "source": [
    "# количество прослушиваний в Москве по средам\n",
    "number_tracks(df, day='Wednesday', city='Moscow')"
   ]
  },
  {
   "cell_type": "code",
   "execution_count": 64,
   "metadata": {
    "id": "j2y3TAwo_Zcu"
   },
   "outputs": [
    {
     "data": {
      "text/plain": [
       "7003"
      ]
     },
     "execution_count": 64,
     "metadata": {},
     "output_type": "execute_result"
    }
   ],
   "source": [
    "# количество прослушиваний в Санкт-Петербурге по средам\n",
    "number_tracks(df, day='Wednesday', city='Saint-Petersburg')"
   ]
  },
  {
   "cell_type": "code",
   "execution_count": 65,
   "metadata": {
    "id": "vYDw5u_K_Zcu"
   },
   "outputs": [
    {
     "data": {
      "text/plain": [
       "15945"
      ]
     },
     "execution_count": 65,
     "metadata": {},
     "output_type": "execute_result"
    }
   ],
   "source": [
    "# количество прослушиваний в Москве по пятницам\n",
    "number_tracks(df, day='Friday', city='Moscow')"
   ]
  },
  {
   "cell_type": "code",
   "execution_count": 66,
   "metadata": {
    "id": "8_yzFtW3_Zcu"
   },
   "outputs": [
    {
     "data": {
      "text/plain": [
       "5895"
      ]
     },
     "execution_count": 66,
     "metadata": {},
     "output_type": "execute_result"
    }
   ],
   "source": [
    "# количество прослушиваний в Санкт-Петербурге по пятницам\n",
    "number_tracks(df, day='Friday', city='Saint-Petersburg')"
   ]
  },
  {
   "cell_type": "markdown",
   "metadata": {
    "id": "7QXffbO-_Zcu"
   },
   "source": [
    "Создайте c помощью конструктора `pd.DataFrame` таблицу, где\n",
    "* названия колонок — `['city', 'monday', 'wednesday', 'friday']`;\n",
    "* данные — результаты, которые вы получили с помощью `number_tracks`."
   ]
  },
  {
   "cell_type": "code",
   "execution_count": 67,
   "metadata": {
    "id": "APAcLpOr_Zcu"
   },
   "outputs": [
    {
     "data": {
      "text/html": [
       "<div>\n",
       "<style scoped>\n",
       "    .dataframe tbody tr th:only-of-type {\n",
       "        vertical-align: middle;\n",
       "    }\n",
       "\n",
       "    .dataframe tbody tr th {\n",
       "        vertical-align: top;\n",
       "    }\n",
       "\n",
       "    .dataframe thead th {\n",
       "        text-align: right;\n",
       "    }\n",
       "</style>\n",
       "<table border=\"1\" class=\"dataframe\">\n",
       "  <thead>\n",
       "    <tr style=\"text-align: right;\">\n",
       "      <th></th>\n",
       "      <th>city</th>\n",
       "      <th>monday</th>\n",
       "      <th>wednesday</th>\n",
       "      <th>friday</th>\n",
       "    </tr>\n",
       "  </thead>\n",
       "  <tbody>\n",
       "    <tr>\n",
       "      <td>0</td>\n",
       "      <td>Moscow</td>\n",
       "      <td>15740</td>\n",
       "      <td>11056</td>\n",
       "      <td>15945</td>\n",
       "    </tr>\n",
       "    <tr>\n",
       "      <td>1</td>\n",
       "      <td>Saint-Petersburg</td>\n",
       "      <td>5614</td>\n",
       "      <td>7003</td>\n",
       "      <td>5895</td>\n",
       "    </tr>\n",
       "  </tbody>\n",
       "</table>\n",
       "</div>"
      ],
      "text/plain": [
       "               city  monday  wednesday  friday\n",
       "0            Moscow   15740      11056   15945\n",
       "1  Saint-Petersburg    5614       7003    5895"
      ]
     },
     "execution_count": 67,
     "metadata": {},
     "output_type": "execute_result"
    }
   ],
   "source": [
    "# Таблица с результатами\n",
    "pd.DataFrame(columns = ['city', 'monday', 'wednesday', 'friday'], \n",
    "             data = [\n",
    "                 ['Moscow',\n",
    "                  number_tracks(df, 'Monday'   , 'Moscow'),\n",
    "                  number_tracks(df, 'Wednesday', 'Moscow'),\n",
    "                  number_tracks(df, 'Friday'   , 'Moscow')], \n",
    "                 ['Saint-Petersburg',\n",
    "                  number_tracks(df, 'Monday'   , 'Saint-Petersburg'),\n",
    "                  number_tracks(df, 'Wednesday', 'Saint-Petersburg'),\n",
    "                  number_tracks(df, 'Friday'   , 'Saint-Petersburg')]\n",
    "             ]).head()"
   ]
  },
  {
   "cell_type": "markdown",
   "metadata": {
    "id": "-EgPIHYu_Zcu"
   },
   "source": [
    "**Выводы**\n",
    "\n",
    "Данные показывают разницу поведения пользователей:\n",
    "\n",
    "- В Москве пик прослушиваний приходится на понедельник и пятницу, а в среду заметен спад.\n",
    "- В Петербурге, наоборот, больше слушают музыку по средам. Активность в понедельник и пятницу здесь почти в равной мере уступает среде.\n",
    "\n",
    "Значит, данные говорят в пользу первой гипотезы."
   ]
  },
  {
   "cell_type": "code",
   "execution_count": null,
   "metadata": {},
   "outputs": [],
   "source": []
  },
  {
   "cell_type": "markdown",
   "metadata": {
    "id": "atZAxtq4_Zcu"
   },
   "source": [
    "### Музыка в начале и в конце недели"
   ]
  },
  {
   "cell_type": "markdown",
   "metadata": {
    "id": "eXrQqXFH_Zcu"
   },
   "source": [
    "Согласно второй гипотезе, утром в понедельник в Москве преобладают одни жанры, а в Петербурге — другие. Так же и вечером пятницы преобладают разные жанры — в зависимости от города."
   ]
  },
  {
   "cell_type": "code",
   "execution_count": 68,
   "metadata": {},
   "outputs": [
    {
     "data": {
      "text/plain": [
       "user_id    object\n",
       "track      object\n",
       "artist     object\n",
       "genre      object\n",
       "city       object\n",
       "time       object\n",
       "day        object\n",
       "dtype: object"
      ]
     },
     "execution_count": 68,
     "metadata": {},
     "output_type": "execute_result"
    }
   ],
   "source": [
    "df.dtypes"
   ]
  },
  {
   "cell_type": "code",
   "execution_count": 69,
   "metadata": {
    "id": "qeaFfM_P_Zcu"
   },
   "outputs": [],
   "source": [
    "moscow_general = df.query(\"city=='Moscow'\")"
   ]
  },
  {
   "cell_type": "code",
   "execution_count": 70,
   "metadata": {
    "id": "ORaVRKto_Zcu"
   },
   "outputs": [],
   "source": [
    "spb_general = df.query(\"city=='Saint-Petersburg'\")"
   ]
  },
  {
   "cell_type": "code",
   "execution_count": 71,
   "metadata": {
    "id": "laJT9BYl_Zcu"
   },
   "outputs": [],
   "source": [
    "def genre_weekday(table, time1, time2, day=None, head=None):\n",
    "    genre_df = table\n",
    "    if day:\n",
    "        genre_df = table[table['day'] == day]\n",
    "    genre_df = genre_df[genre_df['time'] > time1]\n",
    "    genre_df = genre_df[genre_df['time'] < time2]\n",
    "    genre_df_count = genre_df.groupby('genre')['genre'].count()\n",
    "    genre_df_sorted = genre_df_count.sort_values(ascending=False)\n",
    "    if head:\n",
    "        return (genre_df_sorted.head(head))\n",
    "    return (genre_df_sorted)\n"
   ]
  },
  {
   "cell_type": "code",
   "execution_count": 72,
   "metadata": {
    "id": "yz7itPUQ_Zcu"
   },
   "outputs": [
    {
     "data": {
      "text/plain": [
       "genre\n",
       "pop            781\n",
       "dance          549\n",
       "electronic     480\n",
       "rock           474\n",
       "hiphop         286\n",
       "ruspop         186\n",
       "world          181\n",
       "rusrap         175\n",
       "alternative    164\n",
       "unknown        161\n",
       "Name: genre, dtype: int64"
      ]
     },
     "execution_count": 72,
     "metadata": {},
     "output_type": "execute_result"
    }
   ],
   "source": [
    "genre_weekday(moscow_general, day='Monday', time1='07:00:00', time2='10:59:59', head=10)"
   ]
  },
  {
   "cell_type": "code",
   "execution_count": 73,
   "metadata": {
    "id": "kwUcHPdy_Zcu"
   },
   "outputs": [
    {
     "data": {
      "text/plain": [
       "genre\n",
       "pop            218\n",
       "dance          182\n",
       "rock           162\n",
       "electronic     147\n",
       "hiphop          80\n",
       "ruspop          64\n",
       "alternative     58\n",
       "rusrap          55\n",
       "jazz            44\n",
       "classical       40\n",
       "Name: genre, dtype: int64"
      ]
     },
     "execution_count": 73,
     "metadata": {},
     "output_type": "execute_result"
    }
   ],
   "source": [
    "genre_weekday(spb_general, day='Monday', time1='07:00:00', time2='10:59:59', head=10)"
   ]
  },
  {
   "cell_type": "code",
   "execution_count": 74,
   "metadata": {
    "id": "EzXVRE1o_Zcu"
   },
   "outputs": [
    {
     "data": {
      "text/plain": [
       "genre\n",
       "pop            713\n",
       "rock           517\n",
       "dance          495\n",
       "electronic     482\n",
       "hiphop         273\n",
       "world          208\n",
       "ruspop         170\n",
       "alternative    163\n",
       "classical      163\n",
       "rusrap         142\n",
       "Name: genre, dtype: int64"
      ]
     },
     "execution_count": 74,
     "metadata": {},
     "output_type": "execute_result"
    }
   ],
   "source": [
    "genre_weekday(moscow_general, day='Friday', time1='17:00:00', time2='22:59:59', head=10)"
   ]
  },
  {
   "cell_type": "code",
   "execution_count": 75,
   "metadata": {
    "id": "JZaEKu5v_Zcu"
   },
   "outputs": [
    {
     "data": {
      "text/plain": [
       "genre\n",
       "pop            256\n",
       "rock           216\n",
       "electronic     216\n",
       "dance          210\n",
       "hiphop          97\n",
       "alternative     63\n",
       "jazz            61\n",
       "classical       60\n",
       "rusrap          59\n",
       "world           54\n",
       "Name: genre, dtype: int64"
      ]
     },
     "execution_count": 75,
     "metadata": {},
     "output_type": "execute_result"
    }
   ],
   "source": [
    "genre_weekday(spb_general, day='Friday', time1='17:00:00', time2='22:59:59', head=10)"
   ]
  },
  {
   "cell_type": "markdown",
   "metadata": {
    "id": "wrCe4MNX_Zcu"
   },
   "source": [
    "**Выводы**\n",
    "\n",
    "Если сравнить топ-10 жанров в понедельник утром, можно сделать такие выводы:\n",
    "\n",
    "1. В Москве и Петербурге слушают похожую музыку. Единственное отличие — в московский рейтинг вошёл жанр “world”, а в петербургский — джаз и классика.\n",
    "\n",
    "2. В Москве пропущенных значений оказалось так много, что значение `'unknown'` заняло десятое место среди самых популярных жанров. Значит, пропущенные значения занимают существенную долю в данных и угрожают достоверности исследования.\n",
    "\n",
    "Вечер пятницы не меняет эту картину. Некоторые жанры поднимаются немного выше, другие спускаются, но в целом топ-10 остаётся тем же самым.\n",
    "\n",
    "Таким образом, вторая гипотеза подтвердилась лишь частично:\n",
    "* Пользователи слушают похожую музыку в начале недели и в конце.\n",
    "* Разница между Москвой и Петербургом не слишком выражена. В Москве чаще слушают русскую популярную музыку, в Петербурге — джаз.\n",
    "\n",
    "Однако пропуски в данных ставят под сомнение этот результат. В Москве их так много, что рейтинг топ-10 мог бы выглядеть иначе, если бы не утерянные  данные о жанрах."
   ]
  },
  {
   "cell_type": "code",
   "execution_count": null,
   "metadata": {},
   "outputs": [],
   "source": []
  },
  {
   "cell_type": "markdown",
   "metadata": {
    "id": "JolODAqr_Zcu"
   },
   "source": [
    "### Жанровые предпочтения в Москве и Петербурге\n",
    "\n",
    "Гипотеза: Петербург — столица рэпа, музыку этого жанра там слушают чаще, чем в Москве.  А Москва — город контрастов, в котором, тем не менее, преобладает поп-музыка."
   ]
  },
  {
   "cell_type": "code",
   "execution_count": 76,
   "metadata": {
    "id": "r19lIPke_Zcu"
   },
   "outputs": [],
   "source": [
    "moscow_genres = moscow_general.groupby('genre')['genre'].count().sort_values(ascending=False)"
   ]
  },
  {
   "cell_type": "code",
   "execution_count": 77,
   "metadata": {
    "id": "WhCSooF8_Zcv"
   },
   "outputs": [
    {
     "data": {
      "text/plain": [
       "genre\n",
       "pop            5892\n",
       "dance          4435\n",
       "rock           3965\n",
       "electronic     3786\n",
       "hiphop         2096\n",
       "classical      1616\n",
       "world          1432\n",
       "alternative    1379\n",
       "ruspop         1372\n",
       "rusrap         1161\n",
       "Name: genre, dtype: int64"
      ]
     },
     "execution_count": 77,
     "metadata": {},
     "output_type": "execute_result"
    }
   ],
   "source": [
    "moscow_genres.head(10)"
   ]
  },
  {
   "cell_type": "code",
   "execution_count": 78,
   "metadata": {
    "id": "gluLIpE7_Zcv"
   },
   "outputs": [],
   "source": [
    "spb_genres = spb_general.groupby('genre')['genre'].count().sort_values(ascending=False)"
   ]
  },
  {
   "cell_type": "code",
   "execution_count": 79,
   "metadata": {
    "id": "uaGJHjVU_Zcv"
   },
   "outputs": [
    {
     "data": {
      "text/plain": [
       "genre\n",
       "pop            2431\n",
       "dance          1932\n",
       "rock           1879\n",
       "electronic     1737\n",
       "hiphop          960\n",
       "alternative     649\n",
       "classical       646\n",
       "rusrap          564\n",
       "ruspop          538\n",
       "world           515\n",
       "Name: genre, dtype: int64"
      ]
     },
     "execution_count": 79,
     "metadata": {},
     "output_type": "execute_result"
    }
   ],
   "source": [
    "spb_genres.head(10)"
   ]
  },
  {
   "cell_type": "markdown",
   "metadata": {
    "id": "RY51YJYu_Zcv"
   },
   "source": [
    "**Выводы**"
   ]
  },
  {
   "cell_type": "markdown",
   "metadata": {
    "id": "nVhnJEm__Zcv"
   },
   "source": [
    "Гипотеза частично подтвердилась:\n",
    "* Поп-музыка — самый популярный жанр в Москве, как и предполагала гипотеза. Более того, в топ-10 жанров встречается близкий жанр — русская популярная музыка.\n",
    "* Вопреки ожиданиям, рэп одинаково популярен в Москве и Петербурге. \n"
   ]
  },
  {
   "cell_type": "code",
   "execution_count": null,
   "metadata": {},
   "outputs": [],
   "source": []
  },
  {
   "cell_type": "markdown",
   "metadata": {
    "id": "ykKQ0N65_Zcv"
   },
   "source": [
    "## Итоги исследования"
   ]
  },
  {
   "cell_type": "markdown",
   "metadata": {
    "id": "tjUwbHb3_Zcv"
   },
   "source": [
    "Вы проверили три гипотезы и установили:\n",
    "\n",
    "1. День недели по-разному влияет на активность пользователей в Москве и Петербурге. \n",
    "\n",
    "Первая гипотеза полностью подтвердилась.\n",
    "\n",
    "2. Музыкальные предпочтения не сильно меняются в течение недели — будь то Москва или Петербург. Небольшие различия заметны в начале недели, по понедельникам:\n",
    "* в Москве слушают музыку жанра “world”,\n",
    "* в Петербурге — джаз и классику.\n",
    "\n",
    "Таким образом, вторая гипотеза подтвердилась лишь отчасти. Этот результат мог оказаться иным, если бы не пропуски в данных.\n",
    "\n",
    "3. Во вкусах пользователей Москвы и Петербурга больше общего чем различий. Вопреки ожиданиям, предпочтения жанров в Петербурге напоминают московские.\n",
    "\n",
    "Третья гипотеза не подтвердилась. Если различия в предпочтениях и существуют, на основной массе пользователей они незаметны."
   ]
  },
  {
   "cell_type": "code",
   "execution_count": null,
   "metadata": {},
   "outputs": [],
   "source": []
  }
 ],
 "metadata": {
  "ExecuteTimeLog": [
   {
    "duration": 79,
    "start_time": "2021-11-16T16:42:38.476Z"
   },
   {
    "duration": 551,
    "start_time": "2021-11-16T16:42:44.316Z"
   },
   {
    "duration": 131,
    "start_time": "2021-11-16T16:42:47.190Z"
   },
   {
    "duration": 15,
    "start_time": "2021-11-16T16:43:17.476Z"
   },
   {
    "duration": 22,
    "start_time": "2021-11-16T16:43:30.796Z"
   },
   {
    "duration": 4,
    "start_time": "2021-11-16T17:28:38.876Z"
   },
   {
    "duration": 18,
    "start_time": "2021-11-16T17:32:32.620Z"
   },
   {
    "duration": 350,
    "start_time": "2021-11-16T17:32:41.351Z"
   },
   {
    "duration": 5,
    "start_time": "2021-11-16T17:32:44.681Z"
   },
   {
    "duration": 23,
    "start_time": "2021-11-16T17:33:34.736Z"
   },
   {
    "duration": 4,
    "start_time": "2021-11-16T17:33:36.536Z"
   },
   {
    "duration": 22,
    "start_time": "2021-11-16T17:35:26.382Z"
   },
   {
    "duration": 197,
    "start_time": "2021-11-16T17:41:57.564Z"
   },
   {
    "duration": 13,
    "start_time": "2021-11-16T17:42:04.045Z"
   },
   {
    "duration": 34,
    "start_time": "2021-11-16T17:42:13.026Z"
   },
   {
    "duration": 17,
    "start_time": "2021-11-16T17:42:25.752Z"
   },
   {
    "duration": 21,
    "start_time": "2021-11-16T17:42:26.656Z"
   },
   {
    "duration": 53,
    "start_time": "2021-11-16T17:43:37.785Z"
   },
   {
    "duration": 57,
    "start_time": "2021-11-16T17:45:48.229Z"
   },
   {
    "duration": 45,
    "start_time": "2021-11-16T17:45:53.826Z"
   },
   {
    "duration": 37,
    "start_time": "2021-11-16T18:05:36.526Z"
   },
   {
    "duration": 268,
    "start_time": "2021-11-16T18:05:48.967Z"
   },
   {
    "duration": 7,
    "start_time": "2021-11-16T18:05:54.813Z"
   },
   {
    "duration": 5,
    "start_time": "2021-11-16T18:06:12.766Z"
   },
   {
    "duration": 266,
    "start_time": "2021-11-16T18:06:18.903Z"
   },
   {
    "duration": 8,
    "start_time": "2021-11-16T18:07:30.666Z"
   },
   {
    "duration": 256,
    "start_time": "2021-11-16T18:08:26.949Z"
   },
   {
    "duration": 284,
    "start_time": "2021-11-16T18:08:31.872Z"
   },
   {
    "duration": 36,
    "start_time": "2021-11-16T18:09:36.247Z"
   },
   {
    "duration": 3,
    "start_time": "2021-11-16T18:19:12.626Z"
   },
   {
    "duration": 268,
    "start_time": "2021-11-16T18:21:36.666Z"
   },
   {
    "duration": 3,
    "start_time": "2021-11-16T18:21:43.605Z"
   },
   {
    "duration": 71,
    "start_time": "2021-11-16T18:21:44.574Z"
   },
   {
    "duration": 3,
    "start_time": "2021-11-16T18:23:09.288Z"
   },
   {
    "duration": 92,
    "start_time": "2021-11-16T18:23:10.184Z"
   },
   {
    "duration": 3,
    "start_time": "2021-11-16T18:24:07.826Z"
   },
   {
    "duration": 55,
    "start_time": "2021-11-16T18:24:08.746Z"
   },
   {
    "duration": 3,
    "start_time": "2021-11-16T18:27:46.852Z"
   },
   {
    "duration": 181,
    "start_time": "2021-11-16T18:27:49.067Z"
   },
   {
    "duration": 15,
    "start_time": "2021-11-16T18:30:24.567Z"
   },
   {
    "duration": 10,
    "start_time": "2021-11-16T18:30:45.247Z"
   },
   {
    "duration": 36,
    "start_time": "2021-11-16T18:30:53.256Z"
   },
   {
    "duration": 2,
    "start_time": "2021-11-16T18:31:19.527Z"
   },
   {
    "duration": 13,
    "start_time": "2021-11-16T18:31:20.126Z"
   },
   {
    "duration": 4,
    "start_time": "2021-11-16T18:44:07.766Z"
   },
   {
    "duration": 10,
    "start_time": "2021-11-16T18:45:06.559Z"
   },
   {
    "duration": 9,
    "start_time": "2021-11-16T18:45:42.652Z"
   },
   {
    "duration": 4,
    "start_time": "2021-11-16T18:46:19.246Z"
   },
   {
    "duration": 13,
    "start_time": "2021-11-16T18:46:29.566Z"
   },
   {
    "duration": 19,
    "start_time": "2021-11-16T19:00:02.288Z"
   },
   {
    "duration": 656,
    "start_time": "2021-11-16T19:48:09.361Z"
   },
   {
    "duration": 285,
    "start_time": "2021-11-16T19:49:55.803Z"
   },
   {
    "duration": 24,
    "start_time": "2021-11-16T19:50:02.062Z"
   },
   {
    "duration": 4,
    "start_time": "2021-11-16T19:50:14.061Z"
   },
   {
    "duration": 20,
    "start_time": "2021-11-16T19:50:47.961Z"
   },
   {
    "duration": 16,
    "start_time": "2021-11-16T19:51:41.181Z"
   },
   {
    "duration": 24,
    "start_time": "2021-11-16T19:52:10.142Z"
   },
   {
    "duration": 19,
    "start_time": "2021-11-16T19:52:10.763Z"
   },
   {
    "duration": 18,
    "start_time": "2021-11-16T19:52:33.360Z"
   },
   {
    "duration": 19,
    "start_time": "2021-11-16T19:52:44.181Z"
   },
   {
    "duration": 11,
    "start_time": "2021-11-16T19:59:29.761Z"
   },
   {
    "duration": 93,
    "start_time": "2021-11-16T20:08:21.241Z"
   },
   {
    "duration": 91,
    "start_time": "2021-11-16T20:10:12.582Z"
   },
   {
    "duration": 94,
    "start_time": "2021-11-16T20:10:28.096Z"
   },
   {
    "duration": 342,
    "start_time": "2021-11-16T20:11:09.441Z"
   },
   {
    "duration": 59,
    "start_time": "2021-11-16T20:11:18.441Z"
   },
   {
    "duration": 15,
    "start_time": "2021-11-16T20:13:49.802Z"
   },
   {
    "duration": 9,
    "start_time": "2021-11-16T20:14:06.761Z"
   },
   {
    "duration": 283,
    "start_time": "2021-11-16T20:20:00.158Z"
   },
   {
    "duration": 5,
    "start_time": "2021-11-16T20:20:03.181Z"
   },
   {
    "duration": 41,
    "start_time": "2021-11-16T20:24:11.682Z"
   },
   {
    "duration": 25,
    "start_time": "2021-11-16T20:24:28.087Z"
   },
   {
    "duration": 25,
    "start_time": "2021-11-16T20:24:47.583Z"
   },
   {
    "duration": 37,
    "start_time": "2021-11-16T20:25:00.942Z"
   },
   {
    "duration": 43,
    "start_time": "2021-11-16T20:26:16.302Z"
   },
   {
    "duration": 35,
    "start_time": "2021-11-16T20:26:31.867Z"
   },
   {
    "duration": 467,
    "start_time": "2021-11-16T20:31:54.005Z"
   },
   {
    "duration": 457,
    "start_time": "2021-11-16T20:32:00.372Z"
   },
   {
    "duration": 429,
    "start_time": "2021-11-16T20:32:21.547Z"
   },
   {
    "duration": 30,
    "start_time": "2021-11-16T20:32:44.823Z"
   },
   {
    "duration": 257,
    "start_time": "2021-11-16T20:33:02.908Z"
   },
   {
    "duration": 33,
    "start_time": "2021-11-16T20:33:19.235Z"
   },
   {
    "duration": 15,
    "start_time": "2021-11-16T20:34:04.343Z"
   },
   {
    "duration": 6772,
    "start_time": "2021-11-16T20:43:25.478Z"
   },
   {
    "duration": 264,
    "start_time": "2021-11-16T20:44:00.462Z"
   },
   {
    "duration": 255,
    "start_time": "2021-11-16T20:44:11.141Z"
   },
   {
    "duration": 22,
    "start_time": "2021-11-16T20:44:34.259Z"
   },
   {
    "duration": 7748,
    "start_time": "2021-11-16T20:45:16.271Z"
   },
   {
    "duration": 19,
    "start_time": "2021-11-16T20:45:44.312Z"
   },
   {
    "duration": 18,
    "start_time": "2021-11-16T20:46:01.052Z"
   },
   {
    "duration": 25,
    "start_time": "2021-11-16T20:46:14.312Z"
   },
   {
    "duration": 5,
    "start_time": "2021-11-16T20:47:00.601Z"
   },
   {
    "duration": 18,
    "start_time": "2021-11-16T20:48:16.425Z"
   },
   {
    "duration": 12,
    "start_time": "2021-11-16T20:49:06.204Z"
   },
   {
    "duration": 24,
    "start_time": "2021-11-16T20:49:43.318Z"
   },
   {
    "duration": 16,
    "start_time": "2021-11-16T20:50:18.824Z"
   },
   {
    "duration": 22,
    "start_time": "2021-11-16T20:50:19.624Z"
   },
   {
    "duration": 12,
    "start_time": "2021-11-16T21:02:50.785Z"
   },
   {
    "duration": 4,
    "start_time": "2021-11-16T21:05:34.384Z"
   },
   {
    "duration": 22,
    "start_time": "2021-11-16T21:05:54.713Z"
   },
   {
    "duration": 528,
    "start_time": "2021-11-16T21:05:57.505Z"
   },
   {
    "duration": 5,
    "start_time": "2021-11-16T21:17:10.024Z"
   },
   {
    "duration": 603,
    "start_time": "2021-11-16T21:17:11.825Z"
   },
   {
    "duration": 17,
    "start_time": "2021-11-16T21:18:21.464Z"
   },
   {
    "duration": 4,
    "start_time": "2021-11-16T21:19:46.565Z"
   },
   {
    "duration": 511,
    "start_time": "2021-11-16T21:20:05.164Z"
   },
   {
    "duration": 18,
    "start_time": "2021-11-16T21:20:37.705Z"
   },
   {
    "duration": 4,
    "start_time": "2021-11-16T21:21:56.825Z"
   },
   {
    "duration": 20,
    "start_time": "2021-11-16T21:21:57.544Z"
   },
   {
    "duration": 25,
    "start_time": "2021-11-16T21:22:04.545Z"
   },
   {
    "duration": 18,
    "start_time": "2021-11-16T21:23:29.965Z"
   },
   {
    "duration": 16,
    "start_time": "2021-11-16T21:23:30.724Z"
   },
   {
    "duration": 22,
    "start_time": "2021-11-16T21:23:54.005Z"
   },
   {
    "duration": 11,
    "start_time": "2021-11-16T21:24:18.844Z"
   },
   {
    "duration": 21,
    "start_time": "2021-11-16T21:29:54.166Z"
   },
   {
    "duration": 5,
    "start_time": "2021-11-16T21:30:02.388Z"
   },
   {
    "duration": 4,
    "start_time": "2021-11-16T21:30:48.287Z"
   },
   {
    "duration": 5,
    "start_time": "2021-11-16T21:31:06.064Z"
   },
   {
    "duration": 22,
    "start_time": "2021-11-16T21:33:26.985Z"
   },
   {
    "duration": 25,
    "start_time": "2021-11-16T21:33:32.844Z"
   },
   {
    "duration": 23,
    "start_time": "2021-11-16T21:33:37.425Z"
   },
   {
    "duration": 23,
    "start_time": "2021-11-16T21:33:42.904Z"
   },
   {
    "duration": 23,
    "start_time": "2021-11-16T21:33:49.824Z"
   },
   {
    "duration": 24,
    "start_time": "2021-11-16T21:34:04.904Z"
   },
   {
    "duration": 5,
    "start_time": "2021-11-16T21:34:08.765Z"
   },
   {
    "duration": 5,
    "start_time": "2021-11-16T21:34:15.384Z"
   },
   {
    "duration": 23,
    "start_time": "2021-11-16T21:34:29.785Z"
   },
   {
    "duration": 4,
    "start_time": "2021-11-16T21:35:01.565Z"
   },
   {
    "duration": 3,
    "start_time": "2021-11-16T21:35:16.541Z"
   },
   {
    "duration": 23,
    "start_time": "2021-11-16T21:35:26.581Z"
   },
   {
    "duration": 4,
    "start_time": "2021-11-16T21:35:27.725Z"
   },
   {
    "duration": 4,
    "start_time": "2021-11-16T21:35:31.225Z"
   },
   {
    "duration": 4,
    "start_time": "2021-11-16T21:36:16.072Z"
   },
   {
    "duration": 107,
    "start_time": "2021-11-16T21:36:27.606Z"
   },
   {
    "duration": 4,
    "start_time": "2021-11-16T21:37:25.305Z"
   },
   {
    "duration": 4,
    "start_time": "2021-11-16T21:37:32.085Z"
   },
   {
    "duration": 17,
    "start_time": "2021-11-16T21:37:45.430Z"
   },
   {
    "duration": 17,
    "start_time": "2021-11-16T21:37:54.284Z"
   },
   {
    "duration": 12,
    "start_time": "2021-11-16T21:38:06.825Z"
   },
   {
    "duration": 14,
    "start_time": "2021-11-16T21:38:07.385Z"
   },
   {
    "duration": 11,
    "start_time": "2021-11-16T21:38:08.024Z"
   },
   {
    "duration": 23,
    "start_time": "2021-11-16T21:39:12.945Z"
   },
   {
    "duration": 32,
    "start_time": "2021-11-16T21:39:16.685Z"
   },
   {
    "duration": 6,
    "start_time": "2021-11-16T21:39:21.604Z"
   },
   {
    "duration": 264,
    "start_time": "2021-11-16T21:41:08.053Z"
   },
   {
    "duration": 10,
    "start_time": "2021-11-16T21:41:20.584Z"
   },
   {
    "duration": 17,
    "start_time": "2021-11-16T21:42:05.805Z"
   },
   {
    "duration": 12,
    "start_time": "2021-11-16T21:42:20.584Z"
   },
   {
    "duration": 17,
    "start_time": "2021-11-16T21:42:36.025Z"
   },
   {
    "duration": 12,
    "start_time": "2021-11-16T21:42:42.505Z"
   },
   {
    "duration": 22,
    "start_time": "2021-11-16T21:43:11.105Z"
   },
   {
    "duration": 4,
    "start_time": "2021-11-16T21:43:14.546Z"
   },
   {
    "duration": 13,
    "start_time": "2021-11-16T21:43:28.725Z"
   },
   {
    "duration": 6,
    "start_time": "2021-11-16T21:43:35.965Z"
   },
   {
    "duration": 4,
    "start_time": "2021-11-16T21:50:25.153Z"
   },
   {
    "duration": 17,
    "start_time": "2021-11-16T21:50:30.146Z"
   },
   {
    "duration": 12,
    "start_time": "2021-11-16T21:50:30.665Z"
   },
   {
    "duration": 16,
    "start_time": "2021-11-16T21:50:30.944Z"
   },
   {
    "duration": 12,
    "start_time": "2021-11-16T21:50:31.265Z"
   },
   {
    "duration": 22,
    "start_time": "2021-11-16T21:50:33.084Z"
   },
   {
    "duration": 5,
    "start_time": "2021-11-16T21:50:33.804Z"
   },
   {
    "duration": 13,
    "start_time": "2021-11-16T21:50:34.965Z"
   },
   {
    "duration": 5,
    "start_time": "2021-11-16T21:50:35.664Z"
   },
   {
    "duration": 622,
    "start_time": "2021-11-17T08:24:42.498Z"
   },
   {
    "duration": 138,
    "start_time": "2021-11-17T08:24:43.122Z"
   },
   {
    "duration": 16,
    "start_time": "2021-11-17T08:24:43.263Z"
   },
   {
    "duration": 31,
    "start_time": "2021-11-17T08:24:43.281Z"
   },
   {
    "duration": 7,
    "start_time": "2021-11-17T08:24:43.314Z"
   },
   {
    "duration": 22,
    "start_time": "2021-11-17T08:24:43.322Z"
   },
   {
    "duration": 7,
    "start_time": "2021-11-17T08:24:43.346Z"
   },
   {
    "duration": 38,
    "start_time": "2021-11-17T08:24:43.356Z"
   },
   {
    "duration": 26,
    "start_time": "2021-11-17T08:24:43.396Z"
   },
   {
    "duration": 26,
    "start_time": "2021-11-17T08:24:43.423Z"
   },
   {
    "duration": 68,
    "start_time": "2021-11-17T08:24:43.451Z"
   },
   {
    "duration": 70,
    "start_time": "2021-11-17T08:24:43.521Z"
   },
   {
    "duration": 63,
    "start_time": "2021-11-17T08:24:43.593Z"
   },
   {
    "duration": 54,
    "start_time": "2021-11-17T08:24:43.657Z"
   },
   {
    "duration": 3,
    "start_time": "2021-11-17T08:24:43.713Z"
   },
   {
    "duration": 16,
    "start_time": "2021-11-17T08:24:43.718Z"
   },
   {
    "duration": 40,
    "start_time": "2021-11-17T08:24:43.736Z"
   },
   {
    "duration": 35,
    "start_time": "2021-11-17T08:24:43.777Z"
   },
   {
    "duration": 12,
    "start_time": "2021-11-17T08:24:43.814Z"
   },
   {
    "duration": 5,
    "start_time": "2021-11-17T08:24:43.828Z"
   },
   {
    "duration": 28,
    "start_time": "2021-11-17T08:24:43.835Z"
   },
   {
    "duration": 14,
    "start_time": "2021-11-17T08:24:43.864Z"
   },
   {
    "duration": 36,
    "start_time": "2021-11-17T08:24:43.881Z"
   },
   {
    "duration": 13,
    "start_time": "2021-11-17T08:24:43.919Z"
   },
   {
    "duration": 17,
    "start_time": "2021-11-17T08:24:43.935Z"
   },
   {
    "duration": 17,
    "start_time": "2021-11-17T08:24:43.955Z"
   },
   {
    "duration": 179,
    "start_time": "2021-11-17T08:24:43.973Z"
   },
   {
    "duration": -34523,
    "start_time": "2021-11-17T08:25:18.677Z"
   },
   {
    "duration": -34525,
    "start_time": "2021-11-17T08:25:18.680Z"
   },
   {
    "duration": -34525,
    "start_time": "2021-11-17T08:25:18.682Z"
   },
   {
    "duration": -34526,
    "start_time": "2021-11-17T08:25:18.684Z"
   },
   {
    "duration": -34527,
    "start_time": "2021-11-17T08:25:18.687Z"
   },
   {
    "duration": -34529,
    "start_time": "2021-11-17T08:25:18.690Z"
   },
   {
    "duration": -34529,
    "start_time": "2021-11-17T08:25:18.692Z"
   },
   {
    "duration": -34535,
    "start_time": "2021-11-17T08:25:18.699Z"
   },
   {
    "duration": -34535,
    "start_time": "2021-11-17T08:25:18.701Z"
   },
   {
    "duration": -34536,
    "start_time": "2021-11-17T08:25:18.703Z"
   },
   {
    "duration": -34536,
    "start_time": "2021-11-17T08:25:18.705Z"
   },
   {
    "duration": -34537,
    "start_time": "2021-11-17T08:25:18.707Z"
   },
   {
    "duration": -34538,
    "start_time": "2021-11-17T08:25:18.709Z"
   },
   {
    "duration": 68,
    "start_time": "2021-11-17T08:30:50.038Z"
   },
   {
    "duration": 6,
    "start_time": "2021-11-17T08:30:55.532Z"
   },
   {
    "duration": 25,
    "start_time": "2021-11-17T08:30:55.540Z"
   },
   {
    "duration": 8,
    "start_time": "2021-11-17T08:30:55.567Z"
   },
   {
    "duration": 5,
    "start_time": "2021-11-17T08:30:55.577Z"
   },
   {
    "duration": 28,
    "start_time": "2021-11-17T08:30:55.584Z"
   },
   {
    "duration": 13,
    "start_time": "2021-11-17T08:30:55.614Z"
   },
   {
    "duration": 17,
    "start_time": "2021-11-17T08:30:55.628Z"
   },
   {
    "duration": 13,
    "start_time": "2021-11-17T08:30:55.647Z"
   },
   {
    "duration": 54,
    "start_time": "2021-11-17T08:30:55.662Z"
   },
   {
    "duration": 4,
    "start_time": "2021-11-17T08:30:55.718Z"
   },
   {
    "duration": 19,
    "start_time": "2021-11-17T08:30:55.724Z"
   },
   {
    "duration": 5,
    "start_time": "2021-11-17T08:30:55.744Z"
   },
   {
    "duration": 1008,
    "start_time": "2021-11-17T08:46:48.015Z"
   },
   {
    "duration": 246,
    "start_time": "2021-11-17T08:46:49.026Z"
   },
   {
    "duration": 34,
    "start_time": "2021-11-17T08:46:50.913Z"
   },
   {
    "duration": 32,
    "start_time": "2021-11-17T08:46:51.655Z"
   },
   {
    "duration": 6,
    "start_time": "2021-11-17T08:46:54.475Z"
   },
   {
    "duration": 23,
    "start_time": "2021-11-17T08:46:55.296Z"
   },
   {
    "duration": 5,
    "start_time": "2021-11-17T08:46:56.155Z"
   },
   {
    "duration": 31,
    "start_time": "2021-11-17T08:46:57.043Z"
   },
   {
    "duration": 21,
    "start_time": "2021-11-17T08:46:58.075Z"
   },
   {
    "duration": 31,
    "start_time": "2021-11-17T08:46:59.655Z"
   },
   {
    "duration": 86,
    "start_time": "2021-11-17T08:47:01.355Z"
   },
   {
    "duration": 92,
    "start_time": "2021-11-17T08:47:02.912Z"
   },
   {
    "duration": 74,
    "start_time": "2021-11-17T08:47:04.175Z"
   },
   {
    "duration": 58,
    "start_time": "2021-11-17T08:47:07.635Z"
   },
   {
    "duration": 4,
    "start_time": "2021-11-17T08:47:10.196Z"
   },
   {
    "duration": 16,
    "start_time": "2021-11-17T08:47:11.834Z"
   },
   {
    "duration": 57,
    "start_time": "2021-11-17T08:47:13.215Z"
   },
   {
    "duration": 14,
    "start_time": "2021-11-17T08:47:16.275Z"
   },
   {
    "duration": 13,
    "start_time": "2021-11-17T08:47:19.275Z"
   },
   {
    "duration": 133,
    "start_time": "2021-11-17T08:47:23.838Z"
   },
   {
    "duration": 4,
    "start_time": "2021-11-17T08:47:49.556Z"
   },
   {
    "duration": 20,
    "start_time": "2021-11-17T08:48:00.938Z"
   },
   {
    "duration": 18,
    "start_time": "2021-11-17T08:48:02.376Z"
   },
   {
    "duration": 20,
    "start_time": "2021-11-17T08:48:02.629Z"
   },
   {
    "duration": 17,
    "start_time": "2021-11-17T08:48:02.850Z"
   },
   {
    "duration": 20,
    "start_time": "2021-11-17T08:48:03.055Z"
   },
   {
    "duration": 17,
    "start_time": "2021-11-17T08:48:03.272Z"
   },
   {
    "duration": 89,
    "start_time": "2021-11-17T08:48:16.696Z"
   },
   {
    "duration": 8,
    "start_time": "2021-11-17T08:48:22.795Z"
   },
   {
    "duration": 24,
    "start_time": "2021-11-17T08:48:23.764Z"
   },
   {
    "duration": 11,
    "start_time": "2021-11-17T08:48:29.455Z"
   },
   {
    "duration": 552,
    "start_time": "2021-11-17T08:51:15.755Z"
   },
   {
    "duration": 11,
    "start_time": "2021-11-17T08:51:31.665Z"
   },
   {
    "duration": 6,
    "start_time": "2021-11-17T08:51:38.424Z"
   },
   {
    "duration": 9,
    "start_time": "2021-11-17T08:51:59.895Z"
   },
   {
    "duration": 6,
    "start_time": "2021-11-17T08:52:00.790Z"
   },
   {
    "duration": 2,
    "start_time": "2021-11-17T09:03:56.707Z"
   },
   {
    "duration": 160,
    "start_time": "2021-11-17T09:03:56.711Z"
   },
   {
    "duration": 10,
    "start_time": "2021-11-17T09:03:56.873Z"
   },
   {
    "duration": 37,
    "start_time": "2021-11-17T09:03:56.885Z"
   },
   {
    "duration": 4,
    "start_time": "2021-11-17T09:03:56.924Z"
   },
   {
    "duration": 19,
    "start_time": "2021-11-17T09:03:56.930Z"
   },
   {
    "duration": 3,
    "start_time": "2021-11-17T09:03:56.952Z"
   },
   {
    "duration": 49,
    "start_time": "2021-11-17T09:03:56.958Z"
   },
   {
    "duration": 17,
    "start_time": "2021-11-17T09:03:57.009Z"
   },
   {
    "duration": 23,
    "start_time": "2021-11-17T09:03:57.028Z"
   },
   {
    "duration": 75,
    "start_time": "2021-11-17T09:03:57.053Z"
   },
   {
    "duration": 62,
    "start_time": "2021-11-17T09:03:57.130Z"
   },
   {
    "duration": 59,
    "start_time": "2021-11-17T09:03:57.194Z"
   },
   {
    "duration": 59,
    "start_time": "2021-11-17T09:03:57.255Z"
   },
   {
    "duration": 3,
    "start_time": "2021-11-17T09:03:57.316Z"
   },
   {
    "duration": 13,
    "start_time": "2021-11-17T09:03:57.320Z"
   },
   {
    "duration": 40,
    "start_time": "2021-11-17T09:03:57.335Z"
   },
   {
    "duration": 30,
    "start_time": "2021-11-17T09:03:57.377Z"
   },
   {
    "duration": 10,
    "start_time": "2021-11-17T09:03:57.410Z"
   },
   {
    "duration": 5,
    "start_time": "2021-11-17T09:03:57.423Z"
   },
   {
    "duration": 35,
    "start_time": "2021-11-17T09:03:57.430Z"
   },
   {
    "duration": 15,
    "start_time": "2021-11-17T09:03:57.466Z"
   },
   {
    "duration": 31,
    "start_time": "2021-11-17T09:03:57.483Z"
   },
   {
    "duration": 31,
    "start_time": "2021-11-17T09:03:57.515Z"
   },
   {
    "duration": 17,
    "start_time": "2021-11-17T09:03:57.548Z"
   },
   {
    "duration": 15,
    "start_time": "2021-11-17T09:03:57.568Z"
   },
   {
    "duration": 71,
    "start_time": "2021-11-17T09:03:57.607Z"
   },
   {
    "duration": 5,
    "start_time": "2021-11-17T09:03:57.680Z"
   },
   {
    "duration": 14,
    "start_time": "2021-11-17T09:03:57.707Z"
   },
   {
    "duration": 11,
    "start_time": "2021-11-17T09:03:57.723Z"
   },
   {
    "duration": 5,
    "start_time": "2021-11-17T09:03:57.736Z"
   },
   {
    "duration": 22,
    "start_time": "2021-11-17T09:03:57.743Z"
   },
   {
    "duration": 40,
    "start_time": "2021-11-17T09:03:57.767Z"
   },
   {
    "duration": 19,
    "start_time": "2021-11-17T09:03:57.810Z"
   },
   {
    "duration": 13,
    "start_time": "2021-11-17T09:03:57.831Z"
   },
   {
    "duration": 9,
    "start_time": "2021-11-17T09:03:57.847Z"
   },
   {
    "duration": 6,
    "start_time": "2021-11-17T09:03:57.858Z"
   },
   {
    "duration": 47,
    "start_time": "2021-11-17T09:03:57.866Z"
   },
   {
    "duration": 7,
    "start_time": "2021-11-17T09:03:57.915Z"
   }
  ],
  "colab": {
   "collapsed_sections": [
    "E0vqbgi9ay0H",
    "VUC88oWjTJw2"
   ],
   "name": "yandex_music_project_2021.2.ipynb",
   "provenance": []
  },
  "kernelspec": {
   "display_name": "Python 3 (ipykernel)",
   "language": "python",
   "name": "python3"
  },
  "language_info": {
   "codemirror_mode": {
    "name": "ipython",
    "version": 3
   },
   "file_extension": ".py",
   "mimetype": "text/x-python",
   "name": "python",
   "nbconvert_exporter": "python",
   "pygments_lexer": "ipython3",
   "version": "3.9.7"
  },
  "toc": {
   "base_numbering": 1,
   "nav_menu": {},
   "number_sections": true,
   "sideBar": true,
   "skip_h1_title": true,
   "title_cell": "Table of Contents",
   "title_sidebar": "Contents",
   "toc_cell": false,
   "toc_position": {},
   "toc_section_display": true,
   "toc_window_display": true
  }
 },
 "nbformat": 4,
 "nbformat_minor": 1
}
