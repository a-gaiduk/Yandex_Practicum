{
 "cells": [
  {
   "cell_type": "markdown",
   "metadata": {},
   "source": [
    "# Определение перспективного тарифа для телеком-компании"
   ]
  },
  {
   "cell_type": "code",
   "execution_count": 1,
   "metadata": {},
   "outputs": [],
   "source": [
    "import pandas as pd\n",
    "import matplotlib.pyplot as plt\n",
    "import numpy as np\n",
    "import seaborn as sns\n",
    "from scipy import stats as st\n",
    "sns.set(style=\"darkgrid\")\n",
    "pd.options.display.float_format = '{:,.2f}'.format"
   ]
  },
  {
   "cell_type": "code",
   "execution_count": null,
   "metadata": {},
   "outputs": [],
   "source": []
  },
  {
   "cell_type": "markdown",
   "metadata": {},
   "source": [
    "## общая информация"
   ]
  },
  {
   "cell_type": "code",
   "execution_count": 2,
   "metadata": {},
   "outputs": [],
   "source": [
    "calls    = pd.read_csv('/datasets/calls.csv')\n",
    "internet = pd.read_csv('/datasets/internet.csv')\n",
    "messages = pd.read_csv('/datasets/messages.csv')\n",
    "tariffs  = pd.read_csv('/datasets/tariffs.csv')\n",
    "users    = pd.read_csv('/datasets/users.csv')"
   ]
  },
  {
   "cell_type": "code",
   "execution_count": null,
   "metadata": {},
   "outputs": [],
   "source": []
  },
  {
   "cell_type": "code",
   "execution_count": 3,
   "metadata": {},
   "outputs": [
    {
     "name": "stdout",
     "output_type": "stream",
     "text": [
      "<class 'pandas.core.frame.DataFrame'>\n",
      "RangeIndex: 500 entries, 0 to 499\n",
      "Data columns (total 8 columns):\n",
      " #   Column      Non-Null Count  Dtype \n",
      "---  ------      --------------  ----- \n",
      " 0   user_id     500 non-null    int64 \n",
      " 1   age         500 non-null    int64 \n",
      " 2   churn_date  38 non-null     object\n",
      " 3   city        500 non-null    object\n",
      " 4   first_name  500 non-null    object\n",
      " 5   last_name   500 non-null    object\n",
      " 6   reg_date    500 non-null    object\n",
      " 7   tariff      500 non-null    object\n",
      "dtypes: int64(2), object(6)\n",
      "memory usage: 31.4+ KB\n"
     ]
    },
    {
     "data": {
      "text/html": [
       "<div>\n",
       "<style scoped>\n",
       "    .dataframe tbody tr th:only-of-type {\n",
       "        vertical-align: middle;\n",
       "    }\n",
       "\n",
       "    .dataframe tbody tr th {\n",
       "        vertical-align: top;\n",
       "    }\n",
       "\n",
       "    .dataframe thead th {\n",
       "        text-align: right;\n",
       "    }\n",
       "</style>\n",
       "<table border=\"1\" class=\"dataframe\">\n",
       "  <thead>\n",
       "    <tr style=\"text-align: right;\">\n",
       "      <th></th>\n",
       "      <th>user_id</th>\n",
       "      <th>age</th>\n",
       "      <th>churn_date</th>\n",
       "      <th>city</th>\n",
       "      <th>first_name</th>\n",
       "      <th>last_name</th>\n",
       "      <th>reg_date</th>\n",
       "      <th>tariff</th>\n",
       "    </tr>\n",
       "  </thead>\n",
       "  <tbody>\n",
       "    <tr>\n",
       "      <th>count</th>\n",
       "      <td>500.00</td>\n",
       "      <td>500.00</td>\n",
       "      <td>38</td>\n",
       "      <td>500</td>\n",
       "      <td>500</td>\n",
       "      <td>500</td>\n",
       "      <td>500</td>\n",
       "      <td>500</td>\n",
       "    </tr>\n",
       "    <tr>\n",
       "      <th>unique</th>\n",
       "      <td>NaN</td>\n",
       "      <td>NaN</td>\n",
       "      <td>33</td>\n",
       "      <td>76</td>\n",
       "      <td>246</td>\n",
       "      <td>419</td>\n",
       "      <td>270</td>\n",
       "      <td>2</td>\n",
       "    </tr>\n",
       "    <tr>\n",
       "      <th>top</th>\n",
       "      <td>NaN</td>\n",
       "      <td>NaN</td>\n",
       "      <td>2018-12-03</td>\n",
       "      <td>Москва</td>\n",
       "      <td>Радим</td>\n",
       "      <td>Андреенко</td>\n",
       "      <td>2018-05-28</td>\n",
       "      <td>smart</td>\n",
       "    </tr>\n",
       "    <tr>\n",
       "      <th>freq</th>\n",
       "      <td>NaN</td>\n",
       "      <td>NaN</td>\n",
       "      <td>2</td>\n",
       "      <td>99</td>\n",
       "      <td>6</td>\n",
       "      <td>5</td>\n",
       "      <td>8</td>\n",
       "      <td>351</td>\n",
       "    </tr>\n",
       "    <tr>\n",
       "      <th>mean</th>\n",
       "      <td>1,249.50</td>\n",
       "      <td>46.59</td>\n",
       "      <td>NaN</td>\n",
       "      <td>NaN</td>\n",
       "      <td>NaN</td>\n",
       "      <td>NaN</td>\n",
       "      <td>NaN</td>\n",
       "      <td>NaN</td>\n",
       "    </tr>\n",
       "    <tr>\n",
       "      <th>std</th>\n",
       "      <td>144.48</td>\n",
       "      <td>16.67</td>\n",
       "      <td>NaN</td>\n",
       "      <td>NaN</td>\n",
       "      <td>NaN</td>\n",
       "      <td>NaN</td>\n",
       "      <td>NaN</td>\n",
       "      <td>NaN</td>\n",
       "    </tr>\n",
       "    <tr>\n",
       "      <th>min</th>\n",
       "      <td>1,000.00</td>\n",
       "      <td>18.00</td>\n",
       "      <td>NaN</td>\n",
       "      <td>NaN</td>\n",
       "      <td>NaN</td>\n",
       "      <td>NaN</td>\n",
       "      <td>NaN</td>\n",
       "      <td>NaN</td>\n",
       "    </tr>\n",
       "    <tr>\n",
       "      <th>25%</th>\n",
       "      <td>1,124.75</td>\n",
       "      <td>32.00</td>\n",
       "      <td>NaN</td>\n",
       "      <td>NaN</td>\n",
       "      <td>NaN</td>\n",
       "      <td>NaN</td>\n",
       "      <td>NaN</td>\n",
       "      <td>NaN</td>\n",
       "    </tr>\n",
       "    <tr>\n",
       "      <th>50%</th>\n",
       "      <td>1,249.50</td>\n",
       "      <td>46.00</td>\n",
       "      <td>NaN</td>\n",
       "      <td>NaN</td>\n",
       "      <td>NaN</td>\n",
       "      <td>NaN</td>\n",
       "      <td>NaN</td>\n",
       "      <td>NaN</td>\n",
       "    </tr>\n",
       "    <tr>\n",
       "      <th>75%</th>\n",
       "      <td>1,374.25</td>\n",
       "      <td>62.00</td>\n",
       "      <td>NaN</td>\n",
       "      <td>NaN</td>\n",
       "      <td>NaN</td>\n",
       "      <td>NaN</td>\n",
       "      <td>NaN</td>\n",
       "      <td>NaN</td>\n",
       "    </tr>\n",
       "    <tr>\n",
       "      <th>max</th>\n",
       "      <td>1,499.00</td>\n",
       "      <td>75.00</td>\n",
       "      <td>NaN</td>\n",
       "      <td>NaN</td>\n",
       "      <td>NaN</td>\n",
       "      <td>NaN</td>\n",
       "      <td>NaN</td>\n",
       "      <td>NaN</td>\n",
       "    </tr>\n",
       "  </tbody>\n",
       "</table>\n",
       "</div>"
      ],
      "text/plain": [
       "        user_id    age  churn_date    city first_name  last_name    reg_date  \\\n",
       "count    500.00 500.00          38     500        500        500         500   \n",
       "unique      NaN    NaN          33      76        246        419         270   \n",
       "top         NaN    NaN  2018-12-03  Москва      Радим  Андреенко  2018-05-28   \n",
       "freq        NaN    NaN           2      99          6          5           8   \n",
       "mean   1,249.50  46.59         NaN     NaN        NaN        NaN         NaN   \n",
       "std      144.48  16.67         NaN     NaN        NaN        NaN         NaN   \n",
       "min    1,000.00  18.00         NaN     NaN        NaN        NaN         NaN   \n",
       "25%    1,124.75  32.00         NaN     NaN        NaN        NaN         NaN   \n",
       "50%    1,249.50  46.00         NaN     NaN        NaN        NaN         NaN   \n",
       "75%    1,374.25  62.00         NaN     NaN        NaN        NaN         NaN   \n",
       "max    1,499.00  75.00         NaN     NaN        NaN        NaN         NaN   \n",
       "\n",
       "       tariff  \n",
       "count     500  \n",
       "unique      2  \n",
       "top     smart  \n",
       "freq      351  \n",
       "mean      NaN  \n",
       "std       NaN  \n",
       "min       NaN  \n",
       "25%       NaN  \n",
       "50%       NaN  \n",
       "75%       NaN  \n",
       "max       NaN  "
      ]
     },
     "execution_count": 3,
     "metadata": {},
     "output_type": "execute_result"
    }
   ],
   "source": [
    "users.info()\n",
    "users.describe(include='all')"
   ]
  },
  {
   "cell_type": "code",
   "execution_count": null,
   "metadata": {},
   "outputs": [],
   "source": []
  },
  {
   "cell_type": "code",
   "execution_count": 4,
   "metadata": {},
   "outputs": [
    {
     "name": "stdout",
     "output_type": "stream",
     "text": [
      "<class 'pandas.core.frame.DataFrame'>\n",
      "RangeIndex: 202607 entries, 0 to 202606\n",
      "Data columns (total 4 columns):\n",
      " #   Column     Non-Null Count   Dtype  \n",
      "---  ------     --------------   -----  \n",
      " 0   id         202607 non-null  object \n",
      " 1   call_date  202607 non-null  object \n",
      " 2   duration   202607 non-null  float64\n",
      " 3   user_id    202607 non-null  int64  \n",
      "dtypes: float64(1), int64(1), object(2)\n",
      "memory usage: 6.2+ MB\n"
     ]
    },
    {
     "data": {
      "text/html": [
       "<div>\n",
       "<style scoped>\n",
       "    .dataframe tbody tr th:only-of-type {\n",
       "        vertical-align: middle;\n",
       "    }\n",
       "\n",
       "    .dataframe tbody tr th {\n",
       "        vertical-align: top;\n",
       "    }\n",
       "\n",
       "    .dataframe thead th {\n",
       "        text-align: right;\n",
       "    }\n",
       "</style>\n",
       "<table border=\"1\" class=\"dataframe\">\n",
       "  <thead>\n",
       "    <tr style=\"text-align: right;\">\n",
       "      <th></th>\n",
       "      <th>id</th>\n",
       "      <th>call_date</th>\n",
       "      <th>duration</th>\n",
       "      <th>user_id</th>\n",
       "    </tr>\n",
       "  </thead>\n",
       "  <tbody>\n",
       "    <tr>\n",
       "      <th>count</th>\n",
       "      <td>202607</td>\n",
       "      <td>202607</td>\n",
       "      <td>202,607.00</td>\n",
       "      <td>202,607.00</td>\n",
       "    </tr>\n",
       "    <tr>\n",
       "      <th>unique</th>\n",
       "      <td>202607</td>\n",
       "      <td>365</td>\n",
       "      <td>NaN</td>\n",
       "      <td>NaN</td>\n",
       "    </tr>\n",
       "    <tr>\n",
       "      <th>top</th>\n",
       "      <td>1000_0</td>\n",
       "      <td>2018-12-31</td>\n",
       "      <td>NaN</td>\n",
       "      <td>NaN</td>\n",
       "    </tr>\n",
       "    <tr>\n",
       "      <th>freq</th>\n",
       "      <td>1</td>\n",
       "      <td>1435</td>\n",
       "      <td>NaN</td>\n",
       "      <td>NaN</td>\n",
       "    </tr>\n",
       "    <tr>\n",
       "      <th>mean</th>\n",
       "      <td>NaN</td>\n",
       "      <td>NaN</td>\n",
       "      <td>6.76</td>\n",
       "      <td>1,253.94</td>\n",
       "    </tr>\n",
       "    <tr>\n",
       "      <th>std</th>\n",
       "      <td>NaN</td>\n",
       "      <td>NaN</td>\n",
       "      <td>5.84</td>\n",
       "      <td>144.72</td>\n",
       "    </tr>\n",
       "    <tr>\n",
       "      <th>min</th>\n",
       "      <td>NaN</td>\n",
       "      <td>NaN</td>\n",
       "      <td>0.00</td>\n",
       "      <td>1,000.00</td>\n",
       "    </tr>\n",
       "    <tr>\n",
       "      <th>25%</th>\n",
       "      <td>NaN</td>\n",
       "      <td>NaN</td>\n",
       "      <td>1.30</td>\n",
       "      <td>1,126.00</td>\n",
       "    </tr>\n",
       "    <tr>\n",
       "      <th>50%</th>\n",
       "      <td>NaN</td>\n",
       "      <td>NaN</td>\n",
       "      <td>6.00</td>\n",
       "      <td>1,260.00</td>\n",
       "    </tr>\n",
       "    <tr>\n",
       "      <th>75%</th>\n",
       "      <td>NaN</td>\n",
       "      <td>NaN</td>\n",
       "      <td>10.70</td>\n",
       "      <td>1,379.00</td>\n",
       "    </tr>\n",
       "    <tr>\n",
       "      <th>max</th>\n",
       "      <td>NaN</td>\n",
       "      <td>NaN</td>\n",
       "      <td>38.00</td>\n",
       "      <td>1,499.00</td>\n",
       "    </tr>\n",
       "  </tbody>\n",
       "</table>\n",
       "</div>"
      ],
      "text/plain": [
       "            id   call_date   duration    user_id\n",
       "count   202607      202607 202,607.00 202,607.00\n",
       "unique  202607         365        NaN        NaN\n",
       "top     1000_0  2018-12-31        NaN        NaN\n",
       "freq         1        1435        NaN        NaN\n",
       "mean       NaN         NaN       6.76   1,253.94\n",
       "std        NaN         NaN       5.84     144.72\n",
       "min        NaN         NaN       0.00   1,000.00\n",
       "25%        NaN         NaN       1.30   1,126.00\n",
       "50%        NaN         NaN       6.00   1,260.00\n",
       "75%        NaN         NaN      10.70   1,379.00\n",
       "max        NaN         NaN      38.00   1,499.00"
      ]
     },
     "execution_count": 4,
     "metadata": {},
     "output_type": "execute_result"
    }
   ],
   "source": [
    "calls.info()\n",
    "calls.describe(include='all')"
   ]
  },
  {
   "cell_type": "code",
   "execution_count": null,
   "metadata": {},
   "outputs": [],
   "source": []
  },
  {
   "cell_type": "code",
   "execution_count": 5,
   "metadata": {},
   "outputs": [
    {
     "name": "stdout",
     "output_type": "stream",
     "text": [
      "<class 'pandas.core.frame.DataFrame'>\n",
      "RangeIndex: 123036 entries, 0 to 123035\n",
      "Data columns (total 3 columns):\n",
      " #   Column        Non-Null Count   Dtype \n",
      "---  ------        --------------   ----- \n",
      " 0   id            123036 non-null  object\n",
      " 1   message_date  123036 non-null  object\n",
      " 2   user_id       123036 non-null  int64 \n",
      "dtypes: int64(1), object(2)\n",
      "memory usage: 2.8+ MB\n"
     ]
    },
    {
     "data": {
      "text/html": [
       "<div>\n",
       "<style scoped>\n",
       "    .dataframe tbody tr th:only-of-type {\n",
       "        vertical-align: middle;\n",
       "    }\n",
       "\n",
       "    .dataframe tbody tr th {\n",
       "        vertical-align: top;\n",
       "    }\n",
       "\n",
       "    .dataframe thead th {\n",
       "        text-align: right;\n",
       "    }\n",
       "</style>\n",
       "<table border=\"1\" class=\"dataframe\">\n",
       "  <thead>\n",
       "    <tr style=\"text-align: right;\">\n",
       "      <th></th>\n",
       "      <th>id</th>\n",
       "      <th>message_date</th>\n",
       "      <th>user_id</th>\n",
       "    </tr>\n",
       "  </thead>\n",
       "  <tbody>\n",
       "    <tr>\n",
       "      <th>count</th>\n",
       "      <td>123036</td>\n",
       "      <td>123036</td>\n",
       "      <td>123,036.00</td>\n",
       "    </tr>\n",
       "    <tr>\n",
       "      <th>unique</th>\n",
       "      <td>123036</td>\n",
       "      <td>364</td>\n",
       "      <td>NaN</td>\n",
       "    </tr>\n",
       "    <tr>\n",
       "      <th>top</th>\n",
       "      <td>1000_0</td>\n",
       "      <td>2018-12-31</td>\n",
       "      <td>NaN</td>\n",
       "    </tr>\n",
       "    <tr>\n",
       "      <th>freq</th>\n",
       "      <td>1</td>\n",
       "      <td>859</td>\n",
       "      <td>NaN</td>\n",
       "    </tr>\n",
       "    <tr>\n",
       "      <th>mean</th>\n",
       "      <td>NaN</td>\n",
       "      <td>NaN</td>\n",
       "      <td>1,256.99</td>\n",
       "    </tr>\n",
       "    <tr>\n",
       "      <th>std</th>\n",
       "      <td>NaN</td>\n",
       "      <td>NaN</td>\n",
       "      <td>143.52</td>\n",
       "    </tr>\n",
       "    <tr>\n",
       "      <th>min</th>\n",
       "      <td>NaN</td>\n",
       "      <td>NaN</td>\n",
       "      <td>1,000.00</td>\n",
       "    </tr>\n",
       "    <tr>\n",
       "      <th>25%</th>\n",
       "      <td>NaN</td>\n",
       "      <td>NaN</td>\n",
       "      <td>1,134.00</td>\n",
       "    </tr>\n",
       "    <tr>\n",
       "      <th>50%</th>\n",
       "      <td>NaN</td>\n",
       "      <td>NaN</td>\n",
       "      <td>1,271.00</td>\n",
       "    </tr>\n",
       "    <tr>\n",
       "      <th>75%</th>\n",
       "      <td>NaN</td>\n",
       "      <td>NaN</td>\n",
       "      <td>1,381.00</td>\n",
       "    </tr>\n",
       "    <tr>\n",
       "      <th>max</th>\n",
       "      <td>NaN</td>\n",
       "      <td>NaN</td>\n",
       "      <td>1,499.00</td>\n",
       "    </tr>\n",
       "  </tbody>\n",
       "</table>\n",
       "</div>"
      ],
      "text/plain": [
       "            id message_date    user_id\n",
       "count   123036       123036 123,036.00\n",
       "unique  123036          364        NaN\n",
       "top     1000_0   2018-12-31        NaN\n",
       "freq         1          859        NaN\n",
       "mean       NaN          NaN   1,256.99\n",
       "std        NaN          NaN     143.52\n",
       "min        NaN          NaN   1,000.00\n",
       "25%        NaN          NaN   1,134.00\n",
       "50%        NaN          NaN   1,271.00\n",
       "75%        NaN          NaN   1,381.00\n",
       "max        NaN          NaN   1,499.00"
      ]
     },
     "execution_count": 5,
     "metadata": {},
     "output_type": "execute_result"
    }
   ],
   "source": [
    "messages.info()\n",
    "messages.describe(include='all')"
   ]
  },
  {
   "cell_type": "code",
   "execution_count": null,
   "metadata": {},
   "outputs": [],
   "source": []
  },
  {
   "cell_type": "code",
   "execution_count": 6,
   "metadata": {},
   "outputs": [
    {
     "name": "stdout",
     "output_type": "stream",
     "text": [
      "<class 'pandas.core.frame.DataFrame'>\n",
      "RangeIndex: 149396 entries, 0 to 149395\n",
      "Data columns (total 5 columns):\n",
      " #   Column        Non-Null Count   Dtype  \n",
      "---  ------        --------------   -----  \n",
      " 0   Unnamed: 0    149396 non-null  int64  \n",
      " 1   id            149396 non-null  object \n",
      " 2   mb_used       149396 non-null  float64\n",
      " 3   session_date  149396 non-null  object \n",
      " 4   user_id       149396 non-null  int64  \n",
      "dtypes: float64(1), int64(2), object(2)\n",
      "memory usage: 5.7+ MB\n"
     ]
    },
    {
     "data": {
      "text/html": [
       "<div>\n",
       "<style scoped>\n",
       "    .dataframe tbody tr th:only-of-type {\n",
       "        vertical-align: middle;\n",
       "    }\n",
       "\n",
       "    .dataframe tbody tr th {\n",
       "        vertical-align: top;\n",
       "    }\n",
       "\n",
       "    .dataframe thead th {\n",
       "        text-align: right;\n",
       "    }\n",
       "</style>\n",
       "<table border=\"1\" class=\"dataframe\">\n",
       "  <thead>\n",
       "    <tr style=\"text-align: right;\">\n",
       "      <th></th>\n",
       "      <th>Unnamed: 0</th>\n",
       "      <th>id</th>\n",
       "      <th>mb_used</th>\n",
       "      <th>session_date</th>\n",
       "      <th>user_id</th>\n",
       "    </tr>\n",
       "  </thead>\n",
       "  <tbody>\n",
       "    <tr>\n",
       "      <th>count</th>\n",
       "      <td>149,396.00</td>\n",
       "      <td>149396</td>\n",
       "      <td>149,396.00</td>\n",
       "      <td>149396</td>\n",
       "      <td>149,396.00</td>\n",
       "    </tr>\n",
       "    <tr>\n",
       "      <th>unique</th>\n",
       "      <td>NaN</td>\n",
       "      <td>149396</td>\n",
       "      <td>NaN</td>\n",
       "      <td>365</td>\n",
       "      <td>NaN</td>\n",
       "    </tr>\n",
       "    <tr>\n",
       "      <th>top</th>\n",
       "      <td>NaN</td>\n",
       "      <td>1000_0</td>\n",
       "      <td>NaN</td>\n",
       "      <td>2018-12-31</td>\n",
       "      <td>NaN</td>\n",
       "    </tr>\n",
       "    <tr>\n",
       "      <th>freq</th>\n",
       "      <td>NaN</td>\n",
       "      <td>1</td>\n",
       "      <td>NaN</td>\n",
       "      <td>1057</td>\n",
       "      <td>NaN</td>\n",
       "    </tr>\n",
       "    <tr>\n",
       "      <th>mean</th>\n",
       "      <td>74,697.50</td>\n",
       "      <td>NaN</td>\n",
       "      <td>370.19</td>\n",
       "      <td>NaN</td>\n",
       "      <td>1,252.10</td>\n",
       "    </tr>\n",
       "    <tr>\n",
       "      <th>std</th>\n",
       "      <td>43,127.05</td>\n",
       "      <td>NaN</td>\n",
       "      <td>278.30</td>\n",
       "      <td>NaN</td>\n",
       "      <td>144.05</td>\n",
       "    </tr>\n",
       "    <tr>\n",
       "      <th>min</th>\n",
       "      <td>0.00</td>\n",
       "      <td>NaN</td>\n",
       "      <td>0.00</td>\n",
       "      <td>NaN</td>\n",
       "      <td>1,000.00</td>\n",
       "    </tr>\n",
       "    <tr>\n",
       "      <th>25%</th>\n",
       "      <td>37,348.75</td>\n",
       "      <td>NaN</td>\n",
       "      <td>138.19</td>\n",
       "      <td>NaN</td>\n",
       "      <td>1,130.00</td>\n",
       "    </tr>\n",
       "    <tr>\n",
       "      <th>50%</th>\n",
       "      <td>74,697.50</td>\n",
       "      <td>NaN</td>\n",
       "      <td>348.01</td>\n",
       "      <td>NaN</td>\n",
       "      <td>1,251.00</td>\n",
       "    </tr>\n",
       "    <tr>\n",
       "      <th>75%</th>\n",
       "      <td>112,046.25</td>\n",
       "      <td>NaN</td>\n",
       "      <td>559.55</td>\n",
       "      <td>NaN</td>\n",
       "      <td>1,380.00</td>\n",
       "    </tr>\n",
       "    <tr>\n",
       "      <th>max</th>\n",
       "      <td>149,395.00</td>\n",
       "      <td>NaN</td>\n",
       "      <td>1,724.83</td>\n",
       "      <td>NaN</td>\n",
       "      <td>1,499.00</td>\n",
       "    </tr>\n",
       "  </tbody>\n",
       "</table>\n",
       "</div>"
      ],
      "text/plain": [
       "        Unnamed: 0      id    mb_used session_date    user_id\n",
       "count   149,396.00  149396 149,396.00       149396 149,396.00\n",
       "unique         NaN  149396        NaN          365        NaN\n",
       "top            NaN  1000_0        NaN   2018-12-31        NaN\n",
       "freq           NaN       1        NaN         1057        NaN\n",
       "mean     74,697.50     NaN     370.19          NaN   1,252.10\n",
       "std      43,127.05     NaN     278.30          NaN     144.05\n",
       "min           0.00     NaN       0.00          NaN   1,000.00\n",
       "25%      37,348.75     NaN     138.19          NaN   1,130.00\n",
       "50%      74,697.50     NaN     348.01          NaN   1,251.00\n",
       "75%     112,046.25     NaN     559.55          NaN   1,380.00\n",
       "max     149,395.00     NaN   1,724.83          NaN   1,499.00"
      ]
     },
     "execution_count": 6,
     "metadata": {},
     "output_type": "execute_result"
    }
   ],
   "source": [
    "internet.info()\n",
    "internet.describe(include='all')"
   ]
  },
  {
   "cell_type": "code",
   "execution_count": null,
   "metadata": {},
   "outputs": [],
   "source": []
  },
  {
   "cell_type": "code",
   "execution_count": 7,
   "metadata": {},
   "outputs": [
    {
     "name": "stdout",
     "output_type": "stream",
     "text": [
      "<class 'pandas.core.frame.DataFrame'>\n",
      "RangeIndex: 2 entries, 0 to 1\n",
      "Data columns (total 8 columns):\n",
      " #   Column                 Non-Null Count  Dtype \n",
      "---  ------                 --------------  ----- \n",
      " 0   messages_included      2 non-null      int64 \n",
      " 1   mb_per_month_included  2 non-null      int64 \n",
      " 2   minutes_included       2 non-null      int64 \n",
      " 3   rub_monthly_fee        2 non-null      int64 \n",
      " 4   rub_per_gb             2 non-null      int64 \n",
      " 5   rub_per_message        2 non-null      int64 \n",
      " 6   rub_per_minute         2 non-null      int64 \n",
      " 7   tariff_name            2 non-null      object\n",
      "dtypes: int64(7), object(1)\n",
      "memory usage: 256.0+ bytes\n"
     ]
    },
    {
     "data": {
      "text/html": [
       "<div>\n",
       "<style scoped>\n",
       "    .dataframe tbody tr th:only-of-type {\n",
       "        vertical-align: middle;\n",
       "    }\n",
       "\n",
       "    .dataframe tbody tr th {\n",
       "        vertical-align: top;\n",
       "    }\n",
       "\n",
       "    .dataframe thead th {\n",
       "        text-align: right;\n",
       "    }\n",
       "</style>\n",
       "<table border=\"1\" class=\"dataframe\">\n",
       "  <thead>\n",
       "    <tr style=\"text-align: right;\">\n",
       "      <th></th>\n",
       "      <th>messages_included</th>\n",
       "      <th>mb_per_month_included</th>\n",
       "      <th>minutes_included</th>\n",
       "      <th>rub_monthly_fee</th>\n",
       "      <th>rub_per_gb</th>\n",
       "      <th>rub_per_message</th>\n",
       "      <th>rub_per_minute</th>\n",
       "      <th>tariff_name</th>\n",
       "    </tr>\n",
       "  </thead>\n",
       "  <tbody>\n",
       "    <tr>\n",
       "      <th>count</th>\n",
       "      <td>2.00</td>\n",
       "      <td>2.00</td>\n",
       "      <td>2.00</td>\n",
       "      <td>2.00</td>\n",
       "      <td>2.00</td>\n",
       "      <td>2.00</td>\n",
       "      <td>2.00</td>\n",
       "      <td>2</td>\n",
       "    </tr>\n",
       "    <tr>\n",
       "      <th>unique</th>\n",
       "      <td>NaN</td>\n",
       "      <td>NaN</td>\n",
       "      <td>NaN</td>\n",
       "      <td>NaN</td>\n",
       "      <td>NaN</td>\n",
       "      <td>NaN</td>\n",
       "      <td>NaN</td>\n",
       "      <td>2</td>\n",
       "    </tr>\n",
       "    <tr>\n",
       "      <th>top</th>\n",
       "      <td>NaN</td>\n",
       "      <td>NaN</td>\n",
       "      <td>NaN</td>\n",
       "      <td>NaN</td>\n",
       "      <td>NaN</td>\n",
       "      <td>NaN</td>\n",
       "      <td>NaN</td>\n",
       "      <td>smart</td>\n",
       "    </tr>\n",
       "    <tr>\n",
       "      <th>freq</th>\n",
       "      <td>NaN</td>\n",
       "      <td>NaN</td>\n",
       "      <td>NaN</td>\n",
       "      <td>NaN</td>\n",
       "      <td>NaN</td>\n",
       "      <td>NaN</td>\n",
       "      <td>NaN</td>\n",
       "      <td>1</td>\n",
       "    </tr>\n",
       "    <tr>\n",
       "      <th>mean</th>\n",
       "      <td>525.00</td>\n",
       "      <td>23,040.00</td>\n",
       "      <td>1,750.00</td>\n",
       "      <td>1,250.00</td>\n",
       "      <td>175.00</td>\n",
       "      <td>2.00</td>\n",
       "      <td>2.00</td>\n",
       "      <td>NaN</td>\n",
       "    </tr>\n",
       "    <tr>\n",
       "      <th>std</th>\n",
       "      <td>671.75</td>\n",
       "      <td>10,861.16</td>\n",
       "      <td>1,767.77</td>\n",
       "      <td>989.95</td>\n",
       "      <td>35.36</td>\n",
       "      <td>1.41</td>\n",
       "      <td>1.41</td>\n",
       "      <td>NaN</td>\n",
       "    </tr>\n",
       "    <tr>\n",
       "      <th>min</th>\n",
       "      <td>50.00</td>\n",
       "      <td>15,360.00</td>\n",
       "      <td>500.00</td>\n",
       "      <td>550.00</td>\n",
       "      <td>150.00</td>\n",
       "      <td>1.00</td>\n",
       "      <td>1.00</td>\n",
       "      <td>NaN</td>\n",
       "    </tr>\n",
       "    <tr>\n",
       "      <th>25%</th>\n",
       "      <td>287.50</td>\n",
       "      <td>19,200.00</td>\n",
       "      <td>1,125.00</td>\n",
       "      <td>900.00</td>\n",
       "      <td>162.50</td>\n",
       "      <td>1.50</td>\n",
       "      <td>1.50</td>\n",
       "      <td>NaN</td>\n",
       "    </tr>\n",
       "    <tr>\n",
       "      <th>50%</th>\n",
       "      <td>525.00</td>\n",
       "      <td>23,040.00</td>\n",
       "      <td>1,750.00</td>\n",
       "      <td>1,250.00</td>\n",
       "      <td>175.00</td>\n",
       "      <td>2.00</td>\n",
       "      <td>2.00</td>\n",
       "      <td>NaN</td>\n",
       "    </tr>\n",
       "    <tr>\n",
       "      <th>75%</th>\n",
       "      <td>762.50</td>\n",
       "      <td>26,880.00</td>\n",
       "      <td>2,375.00</td>\n",
       "      <td>1,600.00</td>\n",
       "      <td>187.50</td>\n",
       "      <td>2.50</td>\n",
       "      <td>2.50</td>\n",
       "      <td>NaN</td>\n",
       "    </tr>\n",
       "    <tr>\n",
       "      <th>max</th>\n",
       "      <td>1,000.00</td>\n",
       "      <td>30,720.00</td>\n",
       "      <td>3,000.00</td>\n",
       "      <td>1,950.00</td>\n",
       "      <td>200.00</td>\n",
       "      <td>3.00</td>\n",
       "      <td>3.00</td>\n",
       "      <td>NaN</td>\n",
       "    </tr>\n",
       "  </tbody>\n",
       "</table>\n",
       "</div>"
      ],
      "text/plain": [
       "        messages_included  mb_per_month_included  minutes_included  \\\n",
       "count                2.00                   2.00              2.00   \n",
       "unique                NaN                    NaN               NaN   \n",
       "top                   NaN                    NaN               NaN   \n",
       "freq                  NaN                    NaN               NaN   \n",
       "mean               525.00              23,040.00          1,750.00   \n",
       "std                671.75              10,861.16          1,767.77   \n",
       "min                 50.00              15,360.00            500.00   \n",
       "25%                287.50              19,200.00          1,125.00   \n",
       "50%                525.00              23,040.00          1,750.00   \n",
       "75%                762.50              26,880.00          2,375.00   \n",
       "max              1,000.00              30,720.00          3,000.00   \n",
       "\n",
       "        rub_monthly_fee  rub_per_gb  rub_per_message  rub_per_minute  \\\n",
       "count              2.00        2.00             2.00            2.00   \n",
       "unique              NaN         NaN              NaN             NaN   \n",
       "top                 NaN         NaN              NaN             NaN   \n",
       "freq                NaN         NaN              NaN             NaN   \n",
       "mean           1,250.00      175.00             2.00            2.00   \n",
       "std              989.95       35.36             1.41            1.41   \n",
       "min              550.00      150.00             1.00            1.00   \n",
       "25%              900.00      162.50             1.50            1.50   \n",
       "50%            1,250.00      175.00             2.00            2.00   \n",
       "75%            1,600.00      187.50             2.50            2.50   \n",
       "max            1,950.00      200.00             3.00            3.00   \n",
       "\n",
       "       tariff_name  \n",
       "count            2  \n",
       "unique           2  \n",
       "top          smart  \n",
       "freq             1  \n",
       "mean           NaN  \n",
       "std            NaN  \n",
       "min            NaN  \n",
       "25%            NaN  \n",
       "50%            NaN  \n",
       "75%            NaN  \n",
       "max            NaN  "
      ]
     },
     "execution_count": 7,
     "metadata": {},
     "output_type": "execute_result"
    }
   ],
   "source": [
    "tariffs.info()\n",
    "tariffs.describe(include='all')"
   ]
  },
  {
   "cell_type": "code",
   "execution_count": 8,
   "metadata": {},
   "outputs": [
    {
     "data": {
      "text/html": [
       "<div>\n",
       "<style scoped>\n",
       "    .dataframe tbody tr th:only-of-type {\n",
       "        vertical-align: middle;\n",
       "    }\n",
       "\n",
       "    .dataframe tbody tr th {\n",
       "        vertical-align: top;\n",
       "    }\n",
       "\n",
       "    .dataframe thead th {\n",
       "        text-align: right;\n",
       "    }\n",
       "</style>\n",
       "<table border=\"1\" class=\"dataframe\">\n",
       "  <thead>\n",
       "    <tr style=\"text-align: right;\">\n",
       "      <th></th>\n",
       "      <th>messages_included</th>\n",
       "      <th>mb_per_month_included</th>\n",
       "      <th>minutes_included</th>\n",
       "      <th>rub_monthly_fee</th>\n",
       "      <th>rub_per_gb</th>\n",
       "      <th>rub_per_message</th>\n",
       "      <th>rub_per_minute</th>\n",
       "      <th>tariff_name</th>\n",
       "    </tr>\n",
       "  </thead>\n",
       "  <tbody>\n",
       "    <tr>\n",
       "      <th>0</th>\n",
       "      <td>50</td>\n",
       "      <td>15360</td>\n",
       "      <td>500</td>\n",
       "      <td>550</td>\n",
       "      <td>200</td>\n",
       "      <td>3</td>\n",
       "      <td>3</td>\n",
       "      <td>smart</td>\n",
       "    </tr>\n",
       "    <tr>\n",
       "      <th>1</th>\n",
       "      <td>1000</td>\n",
       "      <td>30720</td>\n",
       "      <td>3000</td>\n",
       "      <td>1950</td>\n",
       "      <td>150</td>\n",
       "      <td>1</td>\n",
       "      <td>1</td>\n",
       "      <td>ultra</td>\n",
       "    </tr>\n",
       "  </tbody>\n",
       "</table>\n",
       "</div>"
      ],
      "text/plain": [
       "   messages_included  mb_per_month_included  minutes_included  \\\n",
       "0                 50                  15360               500   \n",
       "1               1000                  30720              3000   \n",
       "\n",
       "   rub_monthly_fee  rub_per_gb  rub_per_message  rub_per_minute tariff_name  \n",
       "0              550         200                3               3       smart  \n",
       "1             1950         150                1               1       ultra  "
      ]
     },
     "execution_count": 8,
     "metadata": {},
     "output_type": "execute_result"
    }
   ],
   "source": [
    "tariffs.head()"
   ]
  },
  {
   "cell_type": "code",
   "execution_count": 9,
   "metadata": {},
   "outputs": [],
   "source": []
  },
  {
   "cell_type": "markdown",
   "metadata": {},
   "source": [
    "## Подготовка данных"
   ]
  },
  {
   "cell_type": "markdown",
   "metadata": {},
   "source": [
    "### Приведение типов данных"
   ]
  },
  {
   "cell_type": "markdown",
   "metadata": {},
   "source": [
    "<div style=\"border:solid gray 2.0px; padding: 10px\"> \n",
    "    \n",
    "Приводим типы данных: \n",
    "    \n",
    " - строки меняем на даты\n",
    "    \n",
    " - при работе с числами часто видим, что Pandas некоторым столбцам присвоил избыточные типы данных, которые занимают лишнее место в памяти. Такие столбцы тоже приобразуем в соответствующий тип\n",
    "\n",
    "</div>"
   ]
  },
  {
   "cell_type": "code",
   "execution_count": 10,
   "metadata": {},
   "outputs": [],
   "source": [
    "users['churn_date']      = pd.to_datetime(users['churn_date'], format='%Y-%m-%d')\n",
    "users['reg_date']        = pd.to_datetime(users['reg_date'], format='%Y-%m-%d')\n",
    "users['age']             = users['age'].astype('uint8')\n",
    "\n",
    "calls['call_date']       = pd.to_datetime(calls['call_date'], format='%Y-%m-%d')\n",
    "calls['duration']        = calls['duration'].astype('float16')\n",
    "\n",
    "messages['message_date'] = pd.to_datetime(messages['message_date'], format='%Y-%m-%d')\n",
    "\n",
    "internet['session_date'] = pd.to_datetime(internet['session_date'], format='%Y-%m-%d')\n",
    "internet['mb_used']      = internet['mb_used'].astype('float16')\n",
    "\n",
    "\n",
    "tariffs['rub_monthly_fee']    = tariffs['rub_monthly_fee'].astype('uint16')\n",
    "tariffs['messages_included']  = tariffs['messages_included'].astype('uint16')\n",
    "tariffs['minutes_included']   = tariffs['minutes_included'].astype('uint16')\n",
    "tariffs['rub_monthly_fee']    = tariffs['rub_monthly_fee'].astype('uint16')\n",
    "tariffs['rub_per_gb']         = tariffs['rub_per_gb'].astype('uint8')\n",
    "tariffs['rub_per_message']    = tariffs['rub_per_message'].astype('uint8')\n",
    "tariffs['rub_per_minute']     = tariffs['rub_per_minute'].astype('uint8')\n"
   ]
  },
  {
   "cell_type": "code",
   "execution_count": 11,
   "metadata": {},
   "outputs": [
    {
     "data": {
      "text/plain": [
       "id                   object\n",
       "call_date    datetime64[ns]\n",
       "duration            float16\n",
       "user_id               int64\n",
       "dtype: object"
      ]
     },
     "execution_count": 11,
     "metadata": {},
     "output_type": "execute_result"
    }
   ],
   "source": [
    "calls.dtypes"
   ]
  },
  {
   "cell_type": "code",
   "execution_count": 12,
   "metadata": {},
   "outputs": [
    {
     "data": {
      "text/plain": [
       "Unnamed: 0               int64\n",
       "id                      object\n",
       "mb_used                float16\n",
       "session_date    datetime64[ns]\n",
       "user_id                  int64\n",
       "dtype: object"
      ]
     },
     "execution_count": 12,
     "metadata": {},
     "output_type": "execute_result"
    }
   ],
   "source": [
    "internet.dtypes"
   ]
  },
  {
   "cell_type": "code",
   "execution_count": 13,
   "metadata": {},
   "outputs": [
    {
     "data": {
      "text/plain": [
       "id                      object\n",
       "message_date    datetime64[ns]\n",
       "user_id                  int64\n",
       "dtype: object"
      ]
     },
     "execution_count": 13,
     "metadata": {},
     "output_type": "execute_result"
    }
   ],
   "source": [
    "messages.dtypes"
   ]
  },
  {
   "cell_type": "code",
   "execution_count": 14,
   "metadata": {},
   "outputs": [
    {
     "data": {
      "text/plain": [
       "messages_included        uint16\n",
       "mb_per_month_included     int64\n",
       "minutes_included         uint16\n",
       "rub_monthly_fee          uint16\n",
       "rub_per_gb                uint8\n",
       "rub_per_message           uint8\n",
       "rub_per_minute            uint8\n",
       "tariff_name              object\n",
       "dtype: object"
      ]
     },
     "execution_count": 14,
     "metadata": {},
     "output_type": "execute_result"
    }
   ],
   "source": [
    "tariffs.dtypes"
   ]
  },
  {
   "cell_type": "code",
   "execution_count": 15,
   "metadata": {},
   "outputs": [
    {
     "data": {
      "text/plain": [
       "user_id                int64\n",
       "age                    uint8\n",
       "churn_date    datetime64[ns]\n",
       "city                  object\n",
       "first_name            object\n",
       "last_name             object\n",
       "reg_date      datetime64[ns]\n",
       "tariff                object\n",
       "dtype: object"
      ]
     },
     "execution_count": 15,
     "metadata": {},
     "output_type": "execute_result"
    }
   ],
   "source": [
    "users.dtypes"
   ]
  },
  {
   "cell_type": "code",
   "execution_count": null,
   "metadata": {},
   "outputs": [],
   "source": []
  },
  {
   "cell_type": "markdown",
   "metadata": {},
   "source": [
    "### Ошибки в данных"
   ]
  },
  {
   "cell_type": "markdown",
   "metadata": {},
   "source": [
    "<div style=\"border:solid gray 2.0px; padding: 10px\"> \n",
    "    \n",
    "В датафрейме internet мы видим столбец **Unnamed: 0**, полностью повторяющий индекс.\n",
    "\n",
    "Удалим его \n",
    "    \n",
    "</div>"
   ]
  },
  {
   "cell_type": "code",
   "execution_count": 16,
   "metadata": {},
   "outputs": [
    {
     "data": {
      "text/html": [
       "<div>\n",
       "<style scoped>\n",
       "    .dataframe tbody tr th:only-of-type {\n",
       "        vertical-align: middle;\n",
       "    }\n",
       "\n",
       "    .dataframe tbody tr th {\n",
       "        vertical-align: top;\n",
       "    }\n",
       "\n",
       "    .dataframe thead th {\n",
       "        text-align: right;\n",
       "    }\n",
       "</style>\n",
       "<table border=\"1\" class=\"dataframe\">\n",
       "  <thead>\n",
       "    <tr style=\"text-align: right;\">\n",
       "      <th></th>\n",
       "      <th>Unnamed: 0</th>\n",
       "    </tr>\n",
       "  </thead>\n",
       "  <tbody>\n",
       "    <tr>\n",
       "      <th>0</th>\n",
       "      <td>0</td>\n",
       "    </tr>\n",
       "    <tr>\n",
       "      <th>1</th>\n",
       "      <td>1</td>\n",
       "    </tr>\n",
       "    <tr>\n",
       "      <th>2</th>\n",
       "      <td>2</td>\n",
       "    </tr>\n",
       "    <tr>\n",
       "      <th>3</th>\n",
       "      <td>3</td>\n",
       "    </tr>\n",
       "    <tr>\n",
       "      <th>4</th>\n",
       "      <td>4</td>\n",
       "    </tr>\n",
       "    <tr>\n",
       "      <th>...</th>\n",
       "      <td>...</td>\n",
       "    </tr>\n",
       "    <tr>\n",
       "      <th>149391</th>\n",
       "      <td>149391</td>\n",
       "    </tr>\n",
       "    <tr>\n",
       "      <th>149392</th>\n",
       "      <td>149392</td>\n",
       "    </tr>\n",
       "    <tr>\n",
       "      <th>149393</th>\n",
       "      <td>149393</td>\n",
       "    </tr>\n",
       "    <tr>\n",
       "      <th>149394</th>\n",
       "      <td>149394</td>\n",
       "    </tr>\n",
       "    <tr>\n",
       "      <th>149395</th>\n",
       "      <td>149395</td>\n",
       "    </tr>\n",
       "  </tbody>\n",
       "</table>\n",
       "<p>149396 rows × 1 columns</p>\n",
       "</div>"
      ],
      "text/plain": [
       "        Unnamed: 0\n",
       "0                0\n",
       "1                1\n",
       "2                2\n",
       "3                3\n",
       "4                4\n",
       "...            ...\n",
       "149391      149391\n",
       "149392      149392\n",
       "149393      149393\n",
       "149394      149394\n",
       "149395      149395\n",
       "\n",
       "[149396 rows x 1 columns]"
      ]
     },
     "execution_count": 16,
     "metadata": {},
     "output_type": "execute_result"
    }
   ],
   "source": [
    "internet[['Unnamed: 0']]"
   ]
  },
  {
   "cell_type": "code",
   "execution_count": 17,
   "metadata": {},
   "outputs": [
    {
     "name": "stderr",
     "output_type": "stream",
     "text": [
      "/opt/conda/lib/python3.7/site-packages/ipykernel_launcher.py:1: FutureWarning: In a future version of pandas all arguments of DataFrame.drop except for the argument 'labels' will be keyword-only\n",
      "  \"\"\"Entry point for launching an IPython kernel.\n"
     ]
    }
   ],
   "source": [
    "internet = internet.drop('Unnamed: 0', 1)"
   ]
  },
  {
   "cell_type": "code",
   "execution_count": null,
   "metadata": {},
   "outputs": [],
   "source": []
  },
  {
   "cell_type": "markdown",
   "metadata": {},
   "source": [
    "### Расчет помесячных данных"
   ]
  },
  {
   "cell_type": "markdown",
   "metadata": {},
   "source": [
    "<div style=\"border:solid gray 2.0px; padding: 10px\"> \n",
    "    \n",
    "Прежде, чем считать поменячные данные, вспомним, что каждый звонок в Мегалайне  округляется до минут в большую сторону.\n",
    "\n",
    "Поэтому насчитаем дополнительную колонку в датафрейме Calls, поторая будет показывать количество потраченных минут\n",
    "\n",
    "    \n",
    "</div>"
   ]
  },
  {
   "cell_type": "code",
   "execution_count": 18,
   "metadata": {},
   "outputs": [],
   "source": [
    "calls['duration_round']  = calls['duration'].apply(np.ceil)\n",
    "calls['duration_round']  = calls['duration_round'].astype('uint16')"
   ]
  },
  {
   "cell_type": "code",
   "execution_count": null,
   "metadata": {},
   "outputs": [],
   "source": []
  },
  {
   "cell_type": "markdown",
   "metadata": {},
   "source": [
    "#### Расчет помесячных данных по звонкам"
   ]
  },
  {
   "cell_type": "code",
   "execution_count": 19,
   "metadata": {},
   "outputs": [],
   "source": [
    "calls['date_month'] = calls['call_date'].values.astype('datetime64[M]')"
   ]
  },
  {
   "cell_type": "code",
   "execution_count": 20,
   "metadata": {},
   "outputs": [
    {
     "data": {
      "text/plain": [
       "id                        object\n",
       "call_date         datetime64[ns]\n",
       "duration                 float16\n",
       "user_id                    int64\n",
       "duration_round            uint16\n",
       "date_month        datetime64[ns]\n",
       "dtype: object"
      ]
     },
     "execution_count": 20,
     "metadata": {},
     "output_type": "execute_result"
    }
   ],
   "source": [
    "calls.dtypes"
   ]
  },
  {
   "cell_type": "code",
   "execution_count": 21,
   "metadata": {},
   "outputs": [
    {
     "data": {
      "text/html": [
       "<div>\n",
       "<style scoped>\n",
       "    .dataframe tbody tr th:only-of-type {\n",
       "        vertical-align: middle;\n",
       "    }\n",
       "\n",
       "    .dataframe tbody tr th {\n",
       "        vertical-align: top;\n",
       "    }\n",
       "\n",
       "    .dataframe thead th {\n",
       "        text-align: right;\n",
       "    }\n",
       "</style>\n",
       "<table border=\"1\" class=\"dataframe\">\n",
       "  <thead>\n",
       "    <tr style=\"text-align: right;\">\n",
       "      <th></th>\n",
       "      <th>id</th>\n",
       "      <th>call_date</th>\n",
       "      <th>duration</th>\n",
       "      <th>user_id</th>\n",
       "      <th>duration_round</th>\n",
       "      <th>date_month</th>\n",
       "    </tr>\n",
       "  </thead>\n",
       "  <tbody>\n",
       "    <tr>\n",
       "      <th>0</th>\n",
       "      <td>1000_0</td>\n",
       "      <td>2018-07-25</td>\n",
       "      <td>0.00</td>\n",
       "      <td>1000</td>\n",
       "      <td>0</td>\n",
       "      <td>2018-07-01</td>\n",
       "    </tr>\n",
       "    <tr>\n",
       "      <th>1</th>\n",
       "      <td>1000_1</td>\n",
       "      <td>2018-08-17</td>\n",
       "      <td>0.00</td>\n",
       "      <td>1000</td>\n",
       "      <td>0</td>\n",
       "      <td>2018-08-01</td>\n",
       "    </tr>\n",
       "    <tr>\n",
       "      <th>2</th>\n",
       "      <td>1000_2</td>\n",
       "      <td>2018-06-11</td>\n",
       "      <td>2.85</td>\n",
       "      <td>1000</td>\n",
       "      <td>3</td>\n",
       "      <td>2018-06-01</td>\n",
       "    </tr>\n",
       "    <tr>\n",
       "      <th>3</th>\n",
       "      <td>1000_3</td>\n",
       "      <td>2018-09-21</td>\n",
       "      <td>13.80</td>\n",
       "      <td>1000</td>\n",
       "      <td>14</td>\n",
       "      <td>2018-09-01</td>\n",
       "    </tr>\n",
       "    <tr>\n",
       "      <th>4</th>\n",
       "      <td>1000_4</td>\n",
       "      <td>2018-12-15</td>\n",
       "      <td>5.18</td>\n",
       "      <td>1000</td>\n",
       "      <td>6</td>\n",
       "      <td>2018-12-01</td>\n",
       "    </tr>\n",
       "  </tbody>\n",
       "</table>\n",
       "</div>"
      ],
      "text/plain": [
       "       id  call_date  duration  user_id  duration_round date_month\n",
       "0  1000_0 2018-07-25      0.00     1000               0 2018-07-01\n",
       "1  1000_1 2018-08-17      0.00     1000               0 2018-08-01\n",
       "2  1000_2 2018-06-11      2.85     1000               3 2018-06-01\n",
       "3  1000_3 2018-09-21     13.80     1000              14 2018-09-01\n",
       "4  1000_4 2018-12-15      5.18     1000               6 2018-12-01"
      ]
     },
     "execution_count": 21,
     "metadata": {},
     "output_type": "execute_result"
    }
   ],
   "source": [
    "calls.head(5)"
   ]
  },
  {
   "cell_type": "code",
   "execution_count": 22,
   "metadata": {},
   "outputs": [
    {
     "data": {
      "text/html": [
       "<div>\n",
       "<style scoped>\n",
       "    .dataframe tbody tr th:only-of-type {\n",
       "        vertical-align: middle;\n",
       "    }\n",
       "\n",
       "    .dataframe tbody tr th {\n",
       "        vertical-align: top;\n",
       "    }\n",
       "\n",
       "    .dataframe thead th {\n",
       "        text-align: right;\n",
       "    }\n",
       "</style>\n",
       "<table border=\"1\" class=\"dataframe\">\n",
       "  <thead>\n",
       "    <tr style=\"text-align: right;\">\n",
       "      <th></th>\n",
       "      <th>user_id</th>\n",
       "      <th>date_month</th>\n",
       "      <th>duration_count</th>\n",
       "      <th>duration_sum</th>\n",
       "    </tr>\n",
       "  </thead>\n",
       "  <tbody>\n",
       "    <tr>\n",
       "      <th>0</th>\n",
       "      <td>1000</td>\n",
       "      <td>2018-05-01</td>\n",
       "      <td>22</td>\n",
       "      <td>159</td>\n",
       "    </tr>\n",
       "    <tr>\n",
       "      <th>1</th>\n",
       "      <td>1000</td>\n",
       "      <td>2018-06-01</td>\n",
       "      <td>43</td>\n",
       "      <td>172</td>\n",
       "    </tr>\n",
       "    <tr>\n",
       "      <th>2</th>\n",
       "      <td>1000</td>\n",
       "      <td>2018-07-01</td>\n",
       "      <td>47</td>\n",
       "      <td>340</td>\n",
       "    </tr>\n",
       "    <tr>\n",
       "      <th>3</th>\n",
       "      <td>1000</td>\n",
       "      <td>2018-08-01</td>\n",
       "      <td>52</td>\n",
       "      <td>408</td>\n",
       "    </tr>\n",
       "    <tr>\n",
       "      <th>4</th>\n",
       "      <td>1000</td>\n",
       "      <td>2018-09-01</td>\n",
       "      <td>58</td>\n",
       "      <td>466</td>\n",
       "    </tr>\n",
       "  </tbody>\n",
       "</table>\n",
       "</div>"
      ],
      "text/plain": [
       "   user_id date_month  duration_count  duration_sum\n",
       "0     1000 2018-05-01              22           159\n",
       "1     1000 2018-06-01              43           172\n",
       "2     1000 2018-07-01              47           340\n",
       "3     1000 2018-08-01              52           408\n",
       "4     1000 2018-09-01              58           466"
      ]
     },
     "execution_count": 22,
     "metadata": {},
     "output_type": "execute_result"
    }
   ],
   "source": [
    "calls_users_month = calls \\\n",
    "    .groupby(['user_id', 'date_month']) \\\n",
    "    .agg(\n",
    "        {'duration_round': ['count', 'sum']\n",
    "        }) \\\n",
    "    .reset_index()\n",
    "\n",
    "calls_users_month.columns = ['user_id', 'date_month', 'duration_count', 'duration_sum']\n",
    "calls_users_month.head()"
   ]
  },
  {
   "cell_type": "code",
   "execution_count": null,
   "metadata": {},
   "outputs": [],
   "source": []
  },
  {
   "cell_type": "markdown",
   "metadata": {},
   "source": [
    "#### Расчет помесячных данных по сообщениям"
   ]
  },
  {
   "cell_type": "code",
   "execution_count": 23,
   "metadata": {},
   "outputs": [],
   "source": [
    "messages['date_month'] = messages['message_date'].values.astype('datetime64[M]')"
   ]
  },
  {
   "cell_type": "code",
   "execution_count": 24,
   "metadata": {},
   "outputs": [
    {
     "data": {
      "text/html": [
       "<div>\n",
       "<style scoped>\n",
       "    .dataframe tbody tr th:only-of-type {\n",
       "        vertical-align: middle;\n",
       "    }\n",
       "\n",
       "    .dataframe tbody tr th {\n",
       "        vertical-align: top;\n",
       "    }\n",
       "\n",
       "    .dataframe thead th {\n",
       "        text-align: right;\n",
       "    }\n",
       "</style>\n",
       "<table border=\"1\" class=\"dataframe\">\n",
       "  <thead>\n",
       "    <tr style=\"text-align: right;\">\n",
       "      <th></th>\n",
       "      <th>user_id</th>\n",
       "      <th>date_month</th>\n",
       "      <th>message_count</th>\n",
       "    </tr>\n",
       "  </thead>\n",
       "  <tbody>\n",
       "    <tr>\n",
       "      <th>0</th>\n",
       "      <td>1000</td>\n",
       "      <td>2018-05-01</td>\n",
       "      <td>22</td>\n",
       "    </tr>\n",
       "    <tr>\n",
       "      <th>1</th>\n",
       "      <td>1000</td>\n",
       "      <td>2018-06-01</td>\n",
       "      <td>60</td>\n",
       "    </tr>\n",
       "    <tr>\n",
       "      <th>2</th>\n",
       "      <td>1000</td>\n",
       "      <td>2018-07-01</td>\n",
       "      <td>75</td>\n",
       "    </tr>\n",
       "    <tr>\n",
       "      <th>3</th>\n",
       "      <td>1000</td>\n",
       "      <td>2018-08-01</td>\n",
       "      <td>81</td>\n",
       "    </tr>\n",
       "    <tr>\n",
       "      <th>4</th>\n",
       "      <td>1000</td>\n",
       "      <td>2018-09-01</td>\n",
       "      <td>57</td>\n",
       "    </tr>\n",
       "  </tbody>\n",
       "</table>\n",
       "</div>"
      ],
      "text/plain": [
       "   user_id date_month  message_count\n",
       "0     1000 2018-05-01             22\n",
       "1     1000 2018-06-01             60\n",
       "2     1000 2018-07-01             75\n",
       "3     1000 2018-08-01             81\n",
       "4     1000 2018-09-01             57"
      ]
     },
     "execution_count": 24,
     "metadata": {},
     "output_type": "execute_result"
    }
   ],
   "source": [
    "messages_users_month = messages \\\n",
    "    .groupby(['user_id', 'date_month']) \\\n",
    "    .agg(\n",
    "        {'message_date': ['count']\n",
    "        }) \\\n",
    "    .reset_index()\n",
    "\n",
    "messages_users_month.columns = ['user_id', 'date_month', 'message_count']\n",
    "messages_users_month.head()"
   ]
  },
  {
   "cell_type": "code",
   "execution_count": null,
   "metadata": {},
   "outputs": [],
   "source": []
  },
  {
   "cell_type": "markdown",
   "metadata": {},
   "source": [
    "#### Расчет объема израсходованного трафика по месяцам"
   ]
  },
  {
   "cell_type": "code",
   "execution_count": 25,
   "metadata": {},
   "outputs": [],
   "source": [
    "internet['date_month'] = internet['session_date'].values.astype('datetime64[M]')"
   ]
  },
  {
   "cell_type": "code",
   "execution_count": 26,
   "metadata": {},
   "outputs": [
    {
     "data": {
      "text/html": [
       "<div>\n",
       "<style scoped>\n",
       "    .dataframe tbody tr th:only-of-type {\n",
       "        vertical-align: middle;\n",
       "    }\n",
       "\n",
       "    .dataframe tbody tr th {\n",
       "        vertical-align: top;\n",
       "    }\n",
       "\n",
       "    .dataframe thead th {\n",
       "        text-align: right;\n",
       "    }\n",
       "</style>\n",
       "<table border=\"1\" class=\"dataframe\">\n",
       "  <thead>\n",
       "    <tr style=\"text-align: right;\">\n",
       "      <th></th>\n",
       "      <th>user_id</th>\n",
       "      <th>date_month</th>\n",
       "      <th>mb_used_sum</th>\n",
       "    </tr>\n",
       "  </thead>\n",
       "  <tbody>\n",
       "    <tr>\n",
       "      <th>0</th>\n",
       "      <td>1000</td>\n",
       "      <td>2018-05-01</td>\n",
       "      <td>2,254.00</td>\n",
       "    </tr>\n",
       "    <tr>\n",
       "      <th>1</th>\n",
       "      <td>1000</td>\n",
       "      <td>2018-06-01</td>\n",
       "      <td>23,232.00</td>\n",
       "    </tr>\n",
       "    <tr>\n",
       "      <th>2</th>\n",
       "      <td>1000</td>\n",
       "      <td>2018-07-01</td>\n",
       "      <td>14,008.00</td>\n",
       "    </tr>\n",
       "    <tr>\n",
       "      <th>3</th>\n",
       "      <td>1000</td>\n",
       "      <td>2018-08-01</td>\n",
       "      <td>14,056.00</td>\n",
       "    </tr>\n",
       "    <tr>\n",
       "      <th>4</th>\n",
       "      <td>1000</td>\n",
       "      <td>2018-09-01</td>\n",
       "      <td>14,568.00</td>\n",
       "    </tr>\n",
       "  </tbody>\n",
       "</table>\n",
       "</div>"
      ],
      "text/plain": [
       "   user_id date_month  mb_used_sum\n",
       "0     1000 2018-05-01     2,254.00\n",
       "1     1000 2018-06-01    23,232.00\n",
       "2     1000 2018-07-01    14,008.00\n",
       "3     1000 2018-08-01    14,056.00\n",
       "4     1000 2018-09-01    14,568.00"
      ]
     },
     "execution_count": 26,
     "metadata": {},
     "output_type": "execute_result"
    }
   ],
   "source": [
    "internet_users_month = internet \\\n",
    "    .groupby(['user_id', 'date_month']) \\\n",
    "    .agg(\n",
    "        {'mb_used': ['sum']\n",
    "        }) \\\n",
    "    .reset_index()\n",
    "\n",
    "internet_users_month.columns = ['user_id', 'date_month', 'mb_used_sum']\n",
    "internet_users_month.head()"
   ]
  },
  {
   "cell_type": "code",
   "execution_count": null,
   "metadata": {},
   "outputs": [],
   "source": []
  },
  {
   "cell_type": "markdown",
   "metadata": {},
   "source": [
    "#### Расчет помесячной выручки"
   ]
  },
  {
   "cell_type": "markdown",
   "metadata": {},
   "source": [
    "<div style=\"border:solid gray 2.0px; padding: 10px\"> \n",
    "    \n",
    "Объединим данные\n",
    "    \n",
    "</div>"
   ]
  },
  {
   "cell_type": "code",
   "execution_count": 27,
   "metadata": {},
   "outputs": [
    {
     "data": {
      "text/html": [
       "<div>\n",
       "<style scoped>\n",
       "    .dataframe tbody tr th:only-of-type {\n",
       "        vertical-align: middle;\n",
       "    }\n",
       "\n",
       "    .dataframe tbody tr th {\n",
       "        vertical-align: top;\n",
       "    }\n",
       "\n",
       "    .dataframe thead th {\n",
       "        text-align: right;\n",
       "    }\n",
       "</style>\n",
       "<table border=\"1\" class=\"dataframe\">\n",
       "  <thead>\n",
       "    <tr style=\"text-align: right;\">\n",
       "      <th></th>\n",
       "      <th>user_id</th>\n",
       "      <th>date_month</th>\n",
       "      <th>duration_count</th>\n",
       "      <th>duration_sum</th>\n",
       "      <th>message_count</th>\n",
       "      <th>mb_used_sum</th>\n",
       "      <th>age</th>\n",
       "      <th>churn_date</th>\n",
       "      <th>city</th>\n",
       "      <th>first_name</th>\n",
       "      <th>last_name</th>\n",
       "      <th>reg_date</th>\n",
       "      <th>tariff</th>\n",
       "      <th>messages_included</th>\n",
       "      <th>mb_per_month_included</th>\n",
       "      <th>minutes_included</th>\n",
       "      <th>rub_monthly_fee</th>\n",
       "      <th>rub_per_gb</th>\n",
       "      <th>rub_per_message</th>\n",
       "      <th>rub_per_minute</th>\n",
       "    </tr>\n",
       "  </thead>\n",
       "  <tbody>\n",
       "    <tr>\n",
       "      <th>0</th>\n",
       "      <td>1000</td>\n",
       "      <td>2018-05-01</td>\n",
       "      <td>22.00</td>\n",
       "      <td>159.00</td>\n",
       "      <td>22.00</td>\n",
       "      <td>2,254.00</td>\n",
       "      <td>52</td>\n",
       "      <td>NaT</td>\n",
       "      <td>Краснодар</td>\n",
       "      <td>Рафаил</td>\n",
       "      <td>Верещагин</td>\n",
       "      <td>2018-05-25</td>\n",
       "      <td>ultra</td>\n",
       "      <td>1000</td>\n",
       "      <td>30720</td>\n",
       "      <td>3000</td>\n",
       "      <td>1950</td>\n",
       "      <td>150</td>\n",
       "      <td>1</td>\n",
       "      <td>1</td>\n",
       "    </tr>\n",
       "    <tr>\n",
       "      <th>1</th>\n",
       "      <td>1000</td>\n",
       "      <td>2018-06-01</td>\n",
       "      <td>43.00</td>\n",
       "      <td>172.00</td>\n",
       "      <td>60.00</td>\n",
       "      <td>23,232.00</td>\n",
       "      <td>52</td>\n",
       "      <td>NaT</td>\n",
       "      <td>Краснодар</td>\n",
       "      <td>Рафаил</td>\n",
       "      <td>Верещагин</td>\n",
       "      <td>2018-05-25</td>\n",
       "      <td>ultra</td>\n",
       "      <td>1000</td>\n",
       "      <td>30720</td>\n",
       "      <td>3000</td>\n",
       "      <td>1950</td>\n",
       "      <td>150</td>\n",
       "      <td>1</td>\n",
       "      <td>1</td>\n",
       "    </tr>\n",
       "    <tr>\n",
       "      <th>2</th>\n",
       "      <td>1000</td>\n",
       "      <td>2018-07-01</td>\n",
       "      <td>47.00</td>\n",
       "      <td>340.00</td>\n",
       "      <td>75.00</td>\n",
       "      <td>14,008.00</td>\n",
       "      <td>52</td>\n",
       "      <td>NaT</td>\n",
       "      <td>Краснодар</td>\n",
       "      <td>Рафаил</td>\n",
       "      <td>Верещагин</td>\n",
       "      <td>2018-05-25</td>\n",
       "      <td>ultra</td>\n",
       "      <td>1000</td>\n",
       "      <td>30720</td>\n",
       "      <td>3000</td>\n",
       "      <td>1950</td>\n",
       "      <td>150</td>\n",
       "      <td>1</td>\n",
       "      <td>1</td>\n",
       "    </tr>\n",
       "    <tr>\n",
       "      <th>3</th>\n",
       "      <td>1000</td>\n",
       "      <td>2018-08-01</td>\n",
       "      <td>52.00</td>\n",
       "      <td>408.00</td>\n",
       "      <td>81.00</td>\n",
       "      <td>14,056.00</td>\n",
       "      <td>52</td>\n",
       "      <td>NaT</td>\n",
       "      <td>Краснодар</td>\n",
       "      <td>Рафаил</td>\n",
       "      <td>Верещагин</td>\n",
       "      <td>2018-05-25</td>\n",
       "      <td>ultra</td>\n",
       "      <td>1000</td>\n",
       "      <td>30720</td>\n",
       "      <td>3000</td>\n",
       "      <td>1950</td>\n",
       "      <td>150</td>\n",
       "      <td>1</td>\n",
       "      <td>1</td>\n",
       "    </tr>\n",
       "    <tr>\n",
       "      <th>4</th>\n",
       "      <td>1000</td>\n",
       "      <td>2018-09-01</td>\n",
       "      <td>58.00</td>\n",
       "      <td>466.00</td>\n",
       "      <td>57.00</td>\n",
       "      <td>14,568.00</td>\n",
       "      <td>52</td>\n",
       "      <td>NaT</td>\n",
       "      <td>Краснодар</td>\n",
       "      <td>Рафаил</td>\n",
       "      <td>Верещагин</td>\n",
       "      <td>2018-05-25</td>\n",
       "      <td>ultra</td>\n",
       "      <td>1000</td>\n",
       "      <td>30720</td>\n",
       "      <td>3000</td>\n",
       "      <td>1950</td>\n",
       "      <td>150</td>\n",
       "      <td>1</td>\n",
       "      <td>1</td>\n",
       "    </tr>\n",
       "  </tbody>\n",
       "</table>\n",
       "</div>"
      ],
      "text/plain": [
       "   user_id date_month  duration_count  duration_sum  message_count  \\\n",
       "0     1000 2018-05-01           22.00        159.00          22.00   \n",
       "1     1000 2018-06-01           43.00        172.00          60.00   \n",
       "2     1000 2018-07-01           47.00        340.00          75.00   \n",
       "3     1000 2018-08-01           52.00        408.00          81.00   \n",
       "4     1000 2018-09-01           58.00        466.00          57.00   \n",
       "\n",
       "   mb_used_sum  age churn_date       city first_name  last_name   reg_date  \\\n",
       "0     2,254.00   52        NaT  Краснодар     Рафаил  Верещагин 2018-05-25   \n",
       "1    23,232.00   52        NaT  Краснодар     Рафаил  Верещагин 2018-05-25   \n",
       "2    14,008.00   52        NaT  Краснодар     Рафаил  Верещагин 2018-05-25   \n",
       "3    14,056.00   52        NaT  Краснодар     Рафаил  Верещагин 2018-05-25   \n",
       "4    14,568.00   52        NaT  Краснодар     Рафаил  Верещагин 2018-05-25   \n",
       "\n",
       "  tariff  messages_included  mb_per_month_included  minutes_included  \\\n",
       "0  ultra               1000                  30720              3000   \n",
       "1  ultra               1000                  30720              3000   \n",
       "2  ultra               1000                  30720              3000   \n",
       "3  ultra               1000                  30720              3000   \n",
       "4  ultra               1000                  30720              3000   \n",
       "\n",
       "   rub_monthly_fee  rub_per_gb  rub_per_message  rub_per_minute  \n",
       "0             1950         150                1               1  \n",
       "1             1950         150                1               1  \n",
       "2             1950         150                1               1  \n",
       "3             1950         150                1               1  \n",
       "4             1950         150                1               1  "
      ]
     },
     "execution_count": 27,
     "metadata": {},
     "output_type": "execute_result"
    }
   ],
   "source": [
    "users_month = pd.merge(calls_users_month, messages_users_month, on =['user_id', 'date_month'], how='outer')\n",
    "users_month = pd.merge(users_month, internet_users_month, on =['user_id', 'date_month'], how='outer')\n",
    "\n",
    "users_month = pd.merge(users_month, users, on =['user_id'], how='outer')\n",
    "\n",
    "tariffs = tariffs.rename({'tariff_name': 'tariff'}, axis='columns')\n",
    "users_month = pd.merge(users_month, tariffs, on =['tariff'], how='outer')\n",
    "users_month.head(5)\n"
   ]
  },
  {
   "cell_type": "code",
   "execution_count": 28,
   "metadata": {},
   "outputs": [
    {
     "data": {
      "text/plain": [
       "date_month           2\n",
       "duration_count      42\n",
       "duration_sum        42\n",
       "message_count      499\n",
       "mb_used_sum         13\n",
       "churn_date        3027\n",
       "dtype: int64"
      ]
     },
     "execution_count": 28,
     "metadata": {},
     "output_type": "execute_result"
    }
   ],
   "source": [
    "users_month.isna().sum().pipe(lambda x: x[x!=0])"
   ]
  },
  {
   "cell_type": "code",
   "execution_count": 29,
   "metadata": {},
   "outputs": [
    {
     "data": {
      "text/html": [
       "<div>\n",
       "<style scoped>\n",
       "    .dataframe tbody tr th:only-of-type {\n",
       "        vertical-align: middle;\n",
       "    }\n",
       "\n",
       "    .dataframe tbody tr th {\n",
       "        vertical-align: top;\n",
       "    }\n",
       "\n",
       "    .dataframe thead th {\n",
       "        text-align: right;\n",
       "    }\n",
       "</style>\n",
       "<table border=\"1\" class=\"dataframe\">\n",
       "  <thead>\n",
       "    <tr style=\"text-align: right;\">\n",
       "      <th></th>\n",
       "      <th>user_id</th>\n",
       "      <th>date_month</th>\n",
       "      <th>duration_count</th>\n",
       "      <th>duration_sum</th>\n",
       "      <th>message_count</th>\n",
       "      <th>mb_used_sum</th>\n",
       "      <th>age</th>\n",
       "      <th>churn_date</th>\n",
       "      <th>city</th>\n",
       "      <th>first_name</th>\n",
       "      <th>last_name</th>\n",
       "      <th>reg_date</th>\n",
       "      <th>tariff</th>\n",
       "      <th>messages_included</th>\n",
       "      <th>mb_per_month_included</th>\n",
       "      <th>minutes_included</th>\n",
       "      <th>rub_monthly_fee</th>\n",
       "      <th>rub_per_gb</th>\n",
       "      <th>rub_per_message</th>\n",
       "      <th>rub_per_minute</th>\n",
       "    </tr>\n",
       "  </thead>\n",
       "  <tbody>\n",
       "    <tr>\n",
       "      <th>985</th>\n",
       "      <td>1128</td>\n",
       "      <td>NaT</td>\n",
       "      <td>NaN</td>\n",
       "      <td>NaN</td>\n",
       "      <td>NaN</td>\n",
       "      <td>NaN</td>\n",
       "      <td>51</td>\n",
       "      <td>2018-12-23</td>\n",
       "      <td>Волжский</td>\n",
       "      <td>Ксения</td>\n",
       "      <td>Агаева</td>\n",
       "      <td>2018-12-15</td>\n",
       "      <td>ultra</td>\n",
       "      <td>1000</td>\n",
       "      <td>30720</td>\n",
       "      <td>3000</td>\n",
       "      <td>1950</td>\n",
       "      <td>150</td>\n",
       "      <td>1</td>\n",
       "      <td>1</td>\n",
       "    </tr>\n",
       "    <tr>\n",
       "      <th>3215</th>\n",
       "      <td>1371</td>\n",
       "      <td>NaT</td>\n",
       "      <td>NaN</td>\n",
       "      <td>NaN</td>\n",
       "      <td>NaN</td>\n",
       "      <td>NaN</td>\n",
       "      <td>50</td>\n",
       "      <td>2018-12-30</td>\n",
       "      <td>Омск</td>\n",
       "      <td>Ириней</td>\n",
       "      <td>Трофимов</td>\n",
       "      <td>2018-12-25</td>\n",
       "      <td>smart</td>\n",
       "      <td>50</td>\n",
       "      <td>15360</td>\n",
       "      <td>500</td>\n",
       "      <td>550</td>\n",
       "      <td>200</td>\n",
       "      <td>3</td>\n",
       "      <td>3</td>\n",
       "    </tr>\n",
       "  </tbody>\n",
       "</table>\n",
       "</div>"
      ],
      "text/plain": [
       "      user_id date_month  duration_count  duration_sum  message_count  \\\n",
       "985      1128        NaT             NaN           NaN            NaN   \n",
       "3215     1371        NaT             NaN           NaN            NaN   \n",
       "\n",
       "      mb_used_sum  age churn_date      city first_name last_name   reg_date  \\\n",
       "985           NaN   51 2018-12-23  Волжский     Ксения    Агаева 2018-12-15   \n",
       "3215          NaN   50 2018-12-30      Омск     Ириней  Трофимов 2018-12-25   \n",
       "\n",
       "     tariff  messages_included  mb_per_month_included  minutes_included  \\\n",
       "985   ultra               1000                  30720              3000   \n",
       "3215  smart                 50                  15360               500   \n",
       "\n",
       "      rub_monthly_fee  rub_per_gb  rub_per_message  rub_per_minute  \n",
       "985              1950         150                1               1  \n",
       "3215              550         200                3               3  "
      ]
     },
     "execution_count": 29,
     "metadata": {},
     "output_type": "execute_result"
    }
   ],
   "source": [
    "users_month.query('date_month.isna()')"
   ]
  },
  {
   "cell_type": "code",
   "execution_count": 30,
   "metadata": {},
   "outputs": [],
   "source": [
    "users_month = users_month.query('date_month.notna()')\n",
    "\n",
    "for col in ['duration_count', 'duration_sum', 'message_count', 'mb_used_sum']:\n",
    "    users_month[col] = users_month[col].fillna(0)"
   ]
  },
  {
   "cell_type": "code",
   "execution_count": 31,
   "metadata": {},
   "outputs": [
    {
     "data": {
      "text/plain": [
       "((3214, 20), 498)"
      ]
     },
     "execution_count": 31,
     "metadata": {},
     "output_type": "execute_result"
    }
   ],
   "source": [
    "users_month.shape, users_month['user_id'].nunique()"
   ]
  },
  {
   "cell_type": "code",
   "execution_count": 32,
   "metadata": {},
   "outputs": [
    {
     "data": {
      "text/plain": [
       "churn_date    3027\n",
       "dtype: int64"
      ]
     },
     "execution_count": 32,
     "metadata": {},
     "output_type": "execute_result"
    }
   ],
   "source": [
    "users_month.isna().sum().pipe(lambda x: x[x!=0])"
   ]
  },
  {
   "cell_type": "code",
   "execution_count": null,
   "metadata": {},
   "outputs": [],
   "source": []
  },
  {
   "cell_type": "markdown",
   "metadata": {},
   "source": [
    "<div style=\"border:solid gray 2.0px; padding: 10px\"> \n",
    "    \n",
    "Посчитаем перерасход по количеству сообщений, минутам, и интернет трафику.\n",
    "    \n",
    "Если перерасход отрицательный, это значит, что пользователь не использовал бесплатный лимит. Отрицательные значения меняем на 0.\n",
    "    \n",
    "Перерасход по трафику округляем до гигабайт в большую сторону в соответствии с политикой Мегалайна\n",
    "    \n",
    "</div>"
   ]
  },
  {
   "cell_type": "code",
   "execution_count": 33,
   "metadata": {},
   "outputs": [],
   "source": [
    "\n",
    "users_month['messages_over'] = users_month['message_count'] - users_month['messages_included']\n",
    "users_month['messages_over'] = users_month['messages_over'].where(users_month['messages_over'] >= 0, 0)\n",
    "\n",
    "users_month['minutes_over'] = users_month['duration_sum'].astype('int16') - users_month['minutes_included'].astype('int16')\n",
    "users_month['minutes_over'] = users_month['minutes_over'].where(users_month['minutes_over'] >= 0, 0)\n",
    "\n",
    "users_month['mb_per_month_over'] = users_month['mb_used_sum'].astype('float16') - users_month['mb_per_month_included'].astype('float16')\n",
    "users_month['mb_per_month_over'] = users_month['mb_per_month_over'].where(users_month['mb_per_month_over'] >= 0, 0)\n",
    "\n",
    "users_month['gb_per_month_over'] = (users_month['mb_per_month_over'] / 1024).apply(np.ceil)"
   ]
  },
  {
   "cell_type": "code",
   "execution_count": null,
   "metadata": {},
   "outputs": [],
   "source": []
  },
  {
   "cell_type": "markdown",
   "metadata": {},
   "source": [
    "<div style=\"border:solid gray 2.0px; padding: 10px\"> \n",
    "    \n",
    "Посчитаем помесячную выручку для каждого пользователя как сумму абонентской платы и платы за перерасход\n",
    "    \n",
    "</div>"
   ]
  },
  {
   "cell_type": "code",
   "execution_count": 34,
   "metadata": {},
   "outputs": [],
   "source": [
    "users_month['rub_monthly'] = \\\n",
    "              users_month['messages_over']    * users_month['rub_per_message'] + \\\n",
    "              users_month['minutes_over']     * users_month['rub_per_minute']  + \\\n",
    "              users_month['gb_per_month_over']* users_month['rub_per_gb']      + \\\n",
    "              users_month['rub_monthly_fee']"
   ]
  },
  {
   "cell_type": "markdown",
   "metadata": {},
   "source": [
    "<div style=\"border:solid gray 2.0px; padding: 10px\"> \n",
    "    \n",
    "!!! Вот тут закрадываются сомнения, и вот с чем они связаны:\n",
    "\n",
    "    \n",
    "Тут не учтены издержки компании за предоставление того или иного кол-ва ресурсов: сообщений, смс и трафика.\n",
    "Причем эти издержки, скорее всего, не линейны: чем больше предоставляется ресурса, тем дешевле стоит его единица.\n",
    "    \n",
    "Интуитивно понятно, что более дорогой тариф будет приносить больше, если не учитывать издержки компании.\n",
    "А если их учитывать, то все не так очевидно.\n",
    "    \n",
    "    \n",
    "</div>"
   ]
  },
  {
   "cell_type": "code",
   "execution_count": null,
   "metadata": {},
   "outputs": [],
   "source": []
  },
  {
   "cell_type": "code",
   "execution_count": 35,
   "metadata": {},
   "outputs": [
    {
     "data": {
      "text/plain": [
       "smart   33.83\n",
       "ultra     NaN\n",
       "Name: tariff, dtype: float64"
      ]
     },
     "execution_count": 35,
     "metadata": {},
     "output_type": "execute_result"
    }
   ],
   "source": [
    "users_month.query('minutes_over>0')['tariff'].value_counts() / users_month['tariff'].value_counts() * 100\n",
    "#users_month.sort_values(by='rub_monthly', ascending=False).head(5)"
   ]
  },
  {
   "cell_type": "code",
   "execution_count": 36,
   "metadata": {},
   "outputs": [
    {
     "data": {
      "text/plain": [
       "smart   25.30\n",
       "ultra     NaN\n",
       "Name: tariff, dtype: float64"
      ]
     },
     "execution_count": 36,
     "metadata": {},
     "output_type": "execute_result"
    }
   ],
   "source": [
    "users_month.query('messages_over>0')['tariff'].value_counts() / users_month['tariff'].value_counts() * 100"
   ]
  },
  {
   "cell_type": "code",
   "execution_count": 37,
   "metadata": {},
   "outputs": [
    {
     "data": {
      "text/plain": [
       "smart   58.41\n",
       "ultra   13.60\n",
       "Name: tariff, dtype: float64"
      ]
     },
     "execution_count": 37,
     "metadata": {},
     "output_type": "execute_result"
    }
   ],
   "source": [
    "users_month.query('gb_per_month_over>0')['tariff'].value_counts() / users_month['tariff'].value_counts() * 100"
   ]
  },
  {
   "cell_type": "markdown",
   "metadata": {},
   "source": [
    "<div style=\"border:solid blue 2.0px; padding: 10px\"> \n",
    "    \n",
    "Интересно, что в нашей выборке превышение по сообщениям и минутам звонков наблюдается только в тарифе smart.\n",
    "    \n",
    "Превышение по интернет трафику в большинстве случаем мы тоже видим в тарифе smart.\n",
    "    \n",
    "Процент пользователей в тарифе **smart**, которые превышают допустимый лимит без переплат:\n",
    " - по звонкам: 33%\n",
    " - по сообщениям: 25%\n",
    " - по интернет трафику: 58%\n",
    "\n",
    "Процент пользователей в тарифе **ultra**, которые превышают допустимый лимит без переплат:\n",
    " - по звонкам: 0%\n",
    " - по сообщениям: 0%\n",
    " - по интернет трафику: 13%\n",
    "    \n",
    "</div>"
   ]
  },
  {
   "cell_type": "code",
   "execution_count": null,
   "metadata": {},
   "outputs": [],
   "source": []
  },
  {
   "cell_type": "markdown",
   "metadata": {},
   "source": [
    "## Анализ данных"
   ]
  },
  {
   "cell_type": "code",
   "execution_count": 38,
   "metadata": {},
   "outputs": [
    {
     "data": {
      "text/plain": [
       "user_id                           int64\n",
       "date_month               datetime64[ns]\n",
       "duration_count                  float64\n",
       "duration_sum                    float64\n",
       "message_count                   float64\n",
       "mb_used_sum                     float16\n",
       "age                               uint8\n",
       "churn_date               datetime64[ns]\n",
       "city                             object\n",
       "first_name                       object\n",
       "last_name                        object\n",
       "reg_date                 datetime64[ns]\n",
       "tariff                           object\n",
       "messages_included                uint16\n",
       "mb_per_month_included             int64\n",
       "minutes_included                 uint16\n",
       "rub_monthly_fee                  uint16\n",
       "rub_per_gb                        uint8\n",
       "rub_per_message                   uint8\n",
       "rub_per_minute                    uint8\n",
       "messages_over                   float64\n",
       "minutes_over                      int16\n",
       "mb_per_month_over               float16\n",
       "gb_per_month_over               float32\n",
       "rub_monthly                     float64\n",
       "dtype: object"
      ]
     },
     "execution_count": 38,
     "metadata": {},
     "output_type": "execute_result"
    }
   ],
   "source": [
    "users_month.dtypes"
   ]
  },
  {
   "cell_type": "code",
   "execution_count": 39,
   "metadata": {},
   "outputs": [
    {
     "data": {
      "text/plain": [
       "smart    2229\n",
       "ultra     985\n",
       "Name: tariff, dtype: int64"
      ]
     },
     "execution_count": 39,
     "metadata": {},
     "output_type": "execute_result"
    }
   ],
   "source": [
    "users_month['tariff'].value_counts()"
   ]
  },
  {
   "cell_type": "code",
   "execution_count": null,
   "metadata": {},
   "outputs": [],
   "source": []
  },
  {
   "cell_type": "markdown",
   "metadata": {},
   "source": [
    "### Статистики"
   ]
  },
  {
   "cell_type": "markdown",
   "metadata": {},
   "source": [
    "<div style=\"border:solid gray 2.0px; padding: 10px\"> \n",
    "    \n",
    "Посчитаем основные статистики, харакретизующие распределения кол-ва звонков, сообщений и объем интернет трафика в разрезе тарифов\n",
    "    \n",
    "</div>"
   ]
  },
  {
   "cell_type": "code",
   "execution_count": 40,
   "metadata": {},
   "outputs": [
    {
     "data": {
      "text/plain": [
       "0.00         13\n",
       "17,280.00    10\n",
       "20,896.00    10\n",
       "19,456.00     9\n",
       "18,416.00     8\n",
       "             ..\n",
       "9,312.00      1\n",
       "9,968.00      1\n",
       "12,880.00     1\n",
       "5,200.00      1\n",
       "11,048.00     1\n",
       "Name: mb_used_sum, Length: 1781, dtype: int64"
      ]
     },
     "execution_count": 40,
     "metadata": {},
     "output_type": "execute_result"
    }
   ],
   "source": [
    "users_month['mb_used_sum'].value_counts()"
   ]
  },
  {
   "cell_type": "code",
   "execution_count": null,
   "metadata": {},
   "outputs": [],
   "source": []
  },
  {
   "cell_type": "markdown",
   "metadata": {},
   "source": [
    "<div style=\"border:solid blue 2.0px; padding: 10px\"> \n",
    "    \n",
    "Посмотрим, что будет со статистиками при изменении типа данных столбца, на осовании которого они считаются\n",
    "\n",
    "    \n",
    "Чтобы не испортить исходные данные, будем создавать временный столбец 'mb_used_sum_temp', а потом его удалим\n",
    "    \n",
    "</div>"
   ]
  },
  {
   "cell_type": "code",
   "execution_count": 41,
   "metadata": {},
   "outputs": [
    {
     "name": "stdout",
     "output_type": "stream",
     "text": [
      "float64 \n",
      " tariff                       smart          ultra\n",
      "mb_used_sum_temp var 34,462,299.04 101,747,653.25\n",
      "                 std      5,870.46      10,087.00 \n",
      "\n",
      "float32 \n",
      " tariff                       smart          ultra\n",
      "mb_used_sum_temp var 34,462,300.00 101,747,656.00\n",
      "                 std      5,870.46      10,087.00 \n",
      "\n",
      "float16 \n",
      " tariff                  smart     ultra\n",
      "mb_used_sum_temp var      inf       inf\n",
      "                 std 5,870.46 10,087.00 \n",
      "\n",
      "int64 \n",
      " tariff                       smart          ultra\n",
      "mb_used_sum_temp var 34,462,339.55 101,747,729.72\n",
      "                 std      5,870.46      10,087.01 \n",
      "\n",
      "int32 \n",
      " tariff                       smart          ultra\n",
      "mb_used_sum_temp var 34,462,339.55 101,747,729.72\n",
      "                 std      5,870.46      10,087.01 \n",
      "\n",
      "int16 \n",
      " tariff                       smart          ultra\n",
      "mb_used_sum_temp var 40,542,318.88 253,074,271.51\n",
      "                 std      6,367.29      15,908.31 \n",
      "\n"
     ]
    },
    {
     "name": "stderr",
     "output_type": "stream",
     "text": [
      "/opt/conda/lib/python3.7/site-packages/ipykernel_launcher.py:5: FutureWarning: In a future version of pandas all arguments of DataFrame.drop except for the argument 'labels' will be keyword-only\n",
      "  \"\"\"\n"
     ]
    }
   ],
   "source": [
    "for mytype in ('float64', 'float32', 'float16', 'int64', 'int32', 'int16'):\n",
    "    users_month['mb_used_sum_temp']      = users_month['mb_used_sum'].astype(mytype)\n",
    "    print(mytype, '\\n', users_month.groupby('tariff').agg({'mb_used_sum_temp': [np.var, np.std]}).T,'\\n')\n",
    "\n",
    "users_month = users_month.drop('mb_used_sum_temp', 1)"
   ]
  },
  {
   "cell_type": "markdown",
   "metadata": {},
   "source": [
    "<div style=\"border:solid blue 2.0px; padding: 10px\"> \n",
    "    \n",
    "Удивительно, но только при float16 что-то идет не так.\n",
    "\n",
    "    \n",
    "Хотя, если посмотреть документацию: https://pyprog.pro/statistics_functions/var.html, все становится понятным: \"для чисел с плавающей точкой тип данных будет совпадать с типом данных входного массива\"\n",
    "\n",
    "    \n",
    "Т.е. если данные типа float, то значению статистики от присваивает такой же тип. А т.к. float16 не достаточно для таких больших значений нашем случае, он присваивает inf\n",
    "\n",
    "    \n",
    "</div>"
   ]
  },
  {
   "cell_type": "code",
   "execution_count": null,
   "metadata": {},
   "outputs": [],
   "source": []
  },
  {
   "cell_type": "code",
   "execution_count": 42,
   "metadata": {},
   "outputs": [
    {
     "data": {
      "text/html": [
       "<div>\n",
       "<style scoped>\n",
       "    .dataframe tbody tr th:only-of-type {\n",
       "        vertical-align: middle;\n",
       "    }\n",
       "\n",
       "    .dataframe tbody tr th {\n",
       "        vertical-align: top;\n",
       "    }\n",
       "\n",
       "    .dataframe thead th {\n",
       "        text-align: right;\n",
       "    }\n",
       "</style>\n",
       "<table border=\"1\" class=\"dataframe\">\n",
       "  <thead>\n",
       "    <tr style=\"text-align: right;\">\n",
       "      <th></th>\n",
       "      <th>tariff</th>\n",
       "      <th>smart</th>\n",
       "      <th>ultra</th>\n",
       "    </tr>\n",
       "  </thead>\n",
       "  <tbody>\n",
       "    <tr>\n",
       "      <th rowspan=\"4\" valign=\"top\">duration_sum</th>\n",
       "      <th>mean</th>\n",
       "      <td>417.93</td>\n",
       "      <td>526.62</td>\n",
       "    </tr>\n",
       "    <tr>\n",
       "      <th>median</th>\n",
       "      <td>422.00</td>\n",
       "      <td>518.00</td>\n",
       "    </tr>\n",
       "    <tr>\n",
       "      <th>var</th>\n",
       "      <td>36,219.32</td>\n",
       "      <td>100,873.63</td>\n",
       "    </tr>\n",
       "    <tr>\n",
       "      <th>std</th>\n",
       "      <td>190.31</td>\n",
       "      <td>317.61</td>\n",
       "    </tr>\n",
       "    <tr>\n",
       "      <th rowspan=\"4\" valign=\"top\">message_count</th>\n",
       "      <th>mean</th>\n",
       "      <td>33.38</td>\n",
       "      <td>49.36</td>\n",
       "    </tr>\n",
       "    <tr>\n",
       "      <th>median</th>\n",
       "      <td>28.00</td>\n",
       "      <td>38.00</td>\n",
       "    </tr>\n",
       "    <tr>\n",
       "      <th>var</th>\n",
       "      <td>796.81</td>\n",
       "      <td>2,285.27</td>\n",
       "    </tr>\n",
       "    <tr>\n",
       "      <th>std</th>\n",
       "      <td>28.23</td>\n",
       "      <td>47.80</td>\n",
       "    </tr>\n",
       "    <tr>\n",
       "      <th rowspan=\"4\" valign=\"top\">mb_used_sum</th>\n",
       "      <th>mean</th>\n",
       "      <td>16,208.26</td>\n",
       "      <td>19,468.89</td>\n",
       "    </tr>\n",
       "    <tr>\n",
       "      <th>median</th>\n",
       "      <td>16,512.00</td>\n",
       "      <td>19,312.00</td>\n",
       "    </tr>\n",
       "    <tr>\n",
       "      <th>var</th>\n",
       "      <td>34,462,300.00</td>\n",
       "      <td>101,747,656.00</td>\n",
       "    </tr>\n",
       "    <tr>\n",
       "      <th>std</th>\n",
       "      <td>5,870.46</td>\n",
       "      <td>10,087.00</td>\n",
       "    </tr>\n",
       "  </tbody>\n",
       "</table>\n",
       "</div>"
      ],
      "text/plain": [
       "tariff                       smart          ultra\n",
       "duration_sum  mean          417.93         526.62\n",
       "              median        422.00         518.00\n",
       "              var        36,219.32     100,873.63\n",
       "              std           190.31         317.61\n",
       "message_count mean           33.38          49.36\n",
       "              median         28.00          38.00\n",
       "              var           796.81       2,285.27\n",
       "              std            28.23          47.80\n",
       "mb_used_sum   mean       16,208.26      19,468.89\n",
       "              median     16,512.00      19,312.00\n",
       "              var    34,462,300.00 101,747,656.00\n",
       "              std         5,870.46      10,087.00"
      ]
     },
     "execution_count": 42,
     "metadata": {},
     "output_type": "execute_result"
    }
   ],
   "source": [
    "users_month['mb_used_sum']      = users_month['mb_used_sum'].astype('float32')\n",
    "\n",
    "users_month \\\n",
    "    .groupby('tariff') \\\n",
    "    .agg(\n",
    "        {'duration_sum': [np.mean, np.median, np.var, np.std],\n",
    "         'message_count': [np.mean, np.median, np.var, np.std],\n",
    "         'mb_used_sum': [np.mean, np.median, np.var, np.std]\n",
    "        }).T"
   ]
  },
  {
   "cell_type": "markdown",
   "metadata": {},
   "source": [
    "<div style=\"border:solid gray 2.0px; padding: 10px\"> \n",
    "    \n",
    "Мы видим, что разброс значений в тарифе ultra выше. Это не увивительно, ведь в этом тарифе намного больший объем опций идет бесплатно. И его пользователи не думают о перерасходе. \n",
    "    \n",
    "</div>"
   ]
  },
  {
   "cell_type": "code",
   "execution_count": null,
   "metadata": {},
   "outputs": [],
   "source": []
  },
  {
   "cell_type": "markdown",
   "metadata": {},
   "source": [
    "### Распределения"
   ]
  },
  {
   "cell_type": "code",
   "execution_count": 43,
   "metadata": {},
   "outputs": [],
   "source": [
    "smart = users_month.query(\"tariff=='smart'\")\n",
    "ultra = users_month.query(\"tariff=='ultra'\")"
   ]
  },
  {
   "cell_type": "markdown",
   "metadata": {},
   "source": [
    "<div style=\"border:solid gray 2.0px; padding: 10px\"> \n",
    "    \n",
    "1. Построим гистограммы распределений в разрезе по тарифам:\n",
    "    - суммарной длительности разговоров\n",
    "    - количества сообщений \n",
    "    - объема интернет трафика \n",
    "\n",
    "    где:\n",
    "    - <span style=\"color: blue\">синим </span> будет отмечено распределение тарифа smart\n",
    "    - <span style=\"color: red\">красным </span> будет отмечено распределение тарифа ultra\n",
    "\n",
    "   На эти гистограммы нанесем вертикальные линии, коотрые будут обозначать бесплатный лимит ресурса: синюю линию для тарифа smart, красную для тарифа ultra\n",
    "    \n",
    "    \n",
    "2. Построим график \"ящик с усами\" для еще более наглядной визуализации распределений\n",
    "    \n",
    "</div>"
   ]
  },
  {
   "cell_type": "code",
   "execution_count": null,
   "metadata": {},
   "outputs": [],
   "source": []
  },
  {
   "cell_type": "markdown",
   "metadata": {},
   "source": [
    "#### Количество минут разговора"
   ]
  },
  {
   "cell_type": "code",
   "execution_count": 44,
   "metadata": {},
   "outputs": [
    {
     "name": "stderr",
     "output_type": "stream",
     "text": [
      "/home/jovyan/.local/lib/python3.7/site-packages/seaborn/distributions.py:2619: FutureWarning: `distplot` is a deprecated function and will be removed in a future version. Please adapt your code to use either `displot` (a figure-level function with similar flexibility) or `histplot` (an axes-level function for histograms).\n",
      "  warnings.warn(msg, FutureWarning)\n",
      "/home/jovyan/.local/lib/python3.7/site-packages/seaborn/distributions.py:2619: FutureWarning: `distplot` is a deprecated function and will be removed in a future version. Please adapt your code to use either `displot` (a figure-level function with similar flexibility) or `histplot` (an axes-level function for histograms).\n",
      "  warnings.warn(msg, FutureWarning)\n"
     ]
    },
    {
     "data": {
      "image/png": "[encoded data removed]",
      "text/plain": [
       "<Figure size 792x504 with 1 Axes>"
      ]
     },
     "metadata": {},
     "output_type": "display_data"
    }
   ],
   "source": [
    "plt.subplots(figsize = (11,7))\n",
    "sns.distplot(smart['duration_sum'], color=\"skyblue\", label=\"smart\", kde=True)\n",
    "sns.distplot(ultra['duration_sum'], color=\"red\"    , label=\"ultra\", kde=True)\n",
    "plt.xlim(0, 3200)\n",
    "plt.title('Гистограмма месячной длительности разговоров в зависимости от тарифа', fontsize = 15);\n",
    "plt.xlabel(\"Количество минут\", fontsize = 12)\n",
    "plt.axvline(tariffs.query(\"tariff=='smart'\")['minutes_included'].max(), color='blue', linewidth=0.6, label=\"smart limit\")\n",
    "plt.axvline(tariffs.query(\"tariff=='ultra'\")['minutes_included'].max(), color='red', linewidth=0.6, label=\"ultra limit\")\n",
    "plt.legend();"
   ]
  },
  {
   "cell_type": "code",
   "execution_count": 45,
   "metadata": {},
   "outputs": [
    {
     "data": {
      "image/png": "[encoded data removed]",
      "text/plain": [
       "<Figure size 792x504 with 1 Axes>"
      ]
     },
     "metadata": {},
     "output_type": "display_data"
    }
   ],
   "source": [
    "plt.subplots(figsize = (11,7))\n",
    "sns.boxplot(x=\"duration_sum\", y=\"tariff\", data=users_month, palette='rainbow');\n",
    "plt.xlim(0, 3200)\n",
    "plt.title('Месячная длительность разговоров в зависимости от тарифа', fontsize = 15);\n",
    "plt.xlabel(\"Количество минут\", fontsize = 12)\n",
    "plt.ylabel(\"Тариф\", fontsize = 12);"
   ]
  },
  {
   "cell_type": "code",
   "execution_count": null,
   "metadata": {},
   "outputs": [],
   "source": []
  },
  {
   "cell_type": "markdown",
   "metadata": {},
   "source": [
    "#### Количество сообщений"
   ]
  },
  {
   "cell_type": "code",
   "execution_count": 46,
   "metadata": {},
   "outputs": [
    {
     "name": "stderr",
     "output_type": "stream",
     "text": [
      "/home/jovyan/.local/lib/python3.7/site-packages/seaborn/distributions.py:2619: FutureWarning: `distplot` is a deprecated function and will be removed in a future version. Please adapt your code to use either `displot` (a figure-level function with similar flexibility) or `histplot` (an axes-level function for histograms).\n",
      "  warnings.warn(msg, FutureWarning)\n",
      "/home/jovyan/.local/lib/python3.7/site-packages/seaborn/distributions.py:2619: FutureWarning: `distplot` is a deprecated function and will be removed in a future version. Please adapt your code to use either `displot` (a figure-level function with similar flexibility) or `histplot` (an axes-level function for histograms).\n",
      "  warnings.warn(msg, FutureWarning)\n"
     ]
    },
    {
     "data": {
      "image/png": "[encoded data removed]",
      "text/plain": [
       "<Figure size 792x504 with 1 Axes>"
      ]
     },
     "metadata": {},
     "output_type": "display_data"
    }
   ],
   "source": [
    "plt.subplots(figsize = (11,7))\n",
    "sns.distplot(smart['message_count'], color=\"skyblue\", label=\"smart\", kde=True)\n",
    "sns.distplot(ultra['message_count'], color=\"red\"    , label=\"ultra\", kde=True)\n",
    "plt.xlim(0, 300)\n",
    "plt.title('Гистограмма месячного количества сообщений в зависимости от тарифа', fontsize = 15);\n",
    "plt.xlabel(\"Количество сообщений\", fontsize = 12)\n",
    "plt.axvline(tariffs.query(\"tariff=='smart'\")['messages_included'].max(), color='blue', linewidth=0.6, label=\"smart limit\")\n",
    "plt.axvline(tariffs.query(\"tariff=='ultra'\")['messages_included'].max(), color='red', linewidth=0.6, label=\"ultra limit\")\n",
    "plt.legend();"
   ]
  },
  {
   "cell_type": "code",
   "execution_count": 47,
   "metadata": {},
   "outputs": [
    {
     "data": {
      "image/png": "[encoded data removed]",
      "text/plain": [
       "<Figure size 792x504 with 1 Axes>"
      ]
     },
     "metadata": {},
     "output_type": "display_data"
    }
   ],
   "source": [
    "plt.subplots(figsize = (11,7))\n",
    "sns.boxplot(x=\"message_count\", y=\"tariff\", data=users_month, palette='rainbow');\n",
    "plt.xlim(0, 300)\n",
    "plt.title('Месячное количество сообщений в зависимости от тарифа', fontsize = 15);\n",
    "plt.xlabel(\"Количество сообщений\", fontsize = 12)\n",
    "plt.ylabel(\"Тариф\", fontsize = 12);"
   ]
  },
  {
   "cell_type": "code",
   "execution_count": null,
   "metadata": {},
   "outputs": [],
   "source": []
  },
  {
   "cell_type": "markdown",
   "metadata": {},
   "source": [
    "#### Интернет трафик"
   ]
  },
  {
   "cell_type": "code",
   "execution_count": 48,
   "metadata": {},
   "outputs": [
    {
     "name": "stderr",
     "output_type": "stream",
     "text": [
      "/home/jovyan/.local/lib/python3.7/site-packages/seaborn/distributions.py:2619: FutureWarning: `distplot` is a deprecated function and will be removed in a future version. Please adapt your code to use either `displot` (a figure-level function with similar flexibility) or `histplot` (an axes-level function for histograms).\n",
      "  warnings.warn(msg, FutureWarning)\n",
      "/home/jovyan/.local/lib/python3.7/site-packages/seaborn/distributions.py:2619: FutureWarning: `distplot` is a deprecated function and will be removed in a future version. Please adapt your code to use either `displot` (a figure-level function with similar flexibility) or `histplot` (an axes-level function for histograms).\n",
      "  warnings.warn(msg, FutureWarning)\n"
     ]
    },
    {
     "data": {
      "image/png": "[encoded data removed]",
      "text/plain": [
       "<Figure size 792x504 with 1 Axes>"
      ]
     },
     "metadata": {},
     "output_type": "display_data"
    }
   ],
   "source": [
    "plt.subplots(figsize = (11,7))\n",
    "sns.distplot(smart['mb_used_sum'], color=\"skyblue\", label=\"smart\", kde=True)\n",
    "sns.distplot(ultra['mb_used_sum'], color=\"red\"    , label=\"ultra\", kde=True)\n",
    "plt.xlim(0, 60000)\n",
    "plt.title('Гистограмма месячного интернет трафика в зависимости от тарифа', fontsize = 15);\n",
    "plt.xlabel(\"Трафик (мб)\", fontsize = 12)\n",
    "plt.axvline(tariffs.query(\"tariff=='smart'\")['mb_per_month_included'].max(), color='blue', linewidth=0.6, label=\"smart limit\")\n",
    "plt.axvline(tariffs.query(\"tariff=='ultra'\")['mb_per_month_included'].max(), color='red', linewidth=0.6, label=\"ultra limit\")\n",
    "plt.legend();"
   ]
  },
  {
   "cell_type": "code",
   "execution_count": 49,
   "metadata": {},
   "outputs": [
    {
     "data": {
      "image/png": "[encoded data removed]",
      "text/plain": [
       "<Figure size 792x504 with 1 Axes>"
      ]
     },
     "metadata": {},
     "output_type": "display_data"
    }
   ],
   "source": [
    "plt.subplots(figsize = (11,7))\n",
    "sns.boxplot(x=\"mb_used_sum\", y=\"tariff\", data=users_month, palette='rainbow');\n",
    "plt.xlim(0, 60000)\n",
    "plt.title('Месячный интернет трафик в зависимости от тарифа', fontsize = 15);\n",
    "plt.xlabel(\"Трафик (мб)\", fontsize = 12)\n",
    "plt.ylabel(\"Тариф\", fontsize = 12);"
   ]
  },
  {
   "cell_type": "code",
   "execution_count": null,
   "metadata": {},
   "outputs": [],
   "source": []
  },
  {
   "cell_type": "markdown",
   "metadata": {},
   "source": [
    "## Проверка гипотез"
   ]
  },
  {
   "cell_type": "markdown",
   "metadata": {},
   "source": [
    "### Формулировка гипотез"
   ]
  },
  {
   "cell_type": "markdown",
   "metadata": {},
   "source": [
    "<div style=\"border:solid gray 2.0px; padding: 10px\"> \n",
    "    \n",
    "Сформируем нулевую и альтернативную гипотезы:\n",
    "\n",
    "**1. выручка тарифов \"Ультра\" и \"Смарт\"**\n",
    " - **Нулевая гипотеза:** средняя выручка тарифов \"Ультра\" и \"Смарт\" не различаются\n",
    " - **Альтернативная гипотеза:** средняя выручка тарифов \"Ультра\" и \"Смарт\" различаются\n",
    "\n",
    "<span style=\"color: white\">. </span>\n",
    "\n",
    "**2. средняя выручка пользователей из Москвы и других регионов:**\n",
    " - **Нулевая гипотеза:** средняя выручка пользователей из Москвы не отличается от выручки пользователей других регионов\n",
    " - **Альтернативная гипотеза:** средняя выручка пользователей из Москвы и других регионов отличаются\n",
    "\n",
    "</div>"
   ]
  },
  {
   "cell_type": "code",
   "execution_count": null,
   "metadata": {},
   "outputs": [],
   "source": []
  },
  {
   "cell_type": "markdown",
   "metadata": {},
   "source": [
    "### Проверка гипотезы о равенстве средней выручки тарифов «Ультра» и «Смарт» "
   ]
  },
  {
   "cell_type": "code",
   "execution_count": 50,
   "metadata": {},
   "outputs": [
    {
     "name": "stdout",
     "output_type": "stream",
     "text": [
      "Средняя выручка тарифа smart: 1288.8968147151188\n",
      "Средняя выручка тарифа ultra: 2070.0\n"
     ]
    }
   ],
   "source": [
    "print(\"Средняя выручка тарифа smart: \" + str(smart['rub_monthly'].mean()))\n",
    "print(\"Средняя выручка тарифа ultra: \" + str(ultra['rub_monthly'].mean()))"
   ]
  },
  {
   "cell_type": "code",
   "execution_count": null,
   "metadata": {},
   "outputs": [],
   "source": []
  },
  {
   "cell_type": "code",
   "execution_count": 51,
   "metadata": {},
   "outputs": [
    {
     "name": "stdout",
     "output_type": "stream",
     "text": [
      "p-значение: 4.8621675697159594e-161\n",
      "Отвергаем нулевую гипотезу\n"
     ]
    }
   ],
   "source": [
    "alpha = 0.01\n",
    "\n",
    "results = st.ttest_ind(\n",
    "    smart['rub_monthly'], \n",
    "    ultra['rub_monthly'])\n",
    "\n",
    "print('p-значение:', results.pvalue)\n",
    "\n",
    "if results.pvalue < alpha:\n",
    "    print(\"Отвергаем нулевую гипотезу\")\n",
    "else:\n",
    "    print(\"Не получилось отвергнуть нулевую гипотезу\")"
   ]
  },
  {
   "cell_type": "markdown",
   "metadata": {},
   "source": [
    "<div style=\"border:solid gray 2.0px; padding: 10px\"> \n",
    "    \n",
    "Отвергаем нулевую гипотезу, т.е. мы убедились, что выручки тарифов не равны.\n",
    "\n",
    "По среднему значению делаем вывод, что средняя выручка тарифа ultra значимо выше средней выручка тарифа smart\n",
    "\n",
    "</div>"
   ]
  },
  {
   "cell_type": "code",
   "execution_count": null,
   "metadata": {},
   "outputs": [],
   "source": []
  },
  {
   "cell_type": "markdown",
   "metadata": {},
   "source": [
    "### Проверка гипотезы о средней выручка пользователей из Москвы и других регионов"
   ]
  },
  {
   "cell_type": "code",
   "execution_count": 52,
   "metadata": {},
   "outputs": [],
   "source": [
    "moscow = users_month.query(\"city=='Москва'\")\n",
    "other = users_month.query(\"city!='Москва'\")"
   ]
  },
  {
   "cell_type": "code",
   "execution_count": 53,
   "metadata": {},
   "outputs": [
    {
     "name": "stdout",
     "output_type": "stream",
     "text": [
      "p-значение: 0.5464061529277844\n",
      "Не получилось отвергнуть нулевую гипотезу\n"
     ]
    }
   ],
   "source": [
    "alpha = 0.01\n",
    "\n",
    "results = st.ttest_ind(\n",
    "    moscow['rub_monthly'], \n",
    "    other['rub_monthly'])\n",
    "\n",
    "print('p-значение:', results.pvalue)\n",
    "\n",
    "if results.pvalue < alpha:\n",
    "    print(\"Отвергаем нулевую гипотезу\")\n",
    "else:\n",
    "    print(\"Не получилось отвергнуть нулевую гипотезу\")"
   ]
  },
  {
   "cell_type": "markdown",
   "metadata": {},
   "source": [
    "<div style=\"border:solid gray 2.0px; padding: 10px\"> \n",
    "    \n",
    "Не можем отвергнуть нулевую гипотезу, т.е. мы не можем утверждать с заданной степенью уверенности, что средние выборок Москвы и других городов отличаются\n",
    "\n",
    "</div>"
   ]
  },
  {
   "cell_type": "code",
   "execution_count": null,
   "metadata": {},
   "outputs": [],
   "source": []
  },
  {
   "cell_type": "markdown",
   "metadata": {},
   "source": [
    "## Сравнение выручки тарифов"
   ]
  },
  {
   "cell_type": "code",
   "execution_count": 54,
   "metadata": {},
   "outputs": [
    {
     "data": {
      "text/html": [
       "<div>\n",
       "<style scoped>\n",
       "    .dataframe tbody tr th:only-of-type {\n",
       "        vertical-align: middle;\n",
       "    }\n",
       "\n",
       "    .dataframe tbody tr th {\n",
       "        vertical-align: top;\n",
       "    }\n",
       "\n",
       "    .dataframe thead th {\n",
       "        text-align: right;\n",
       "    }\n",
       "</style>\n",
       "<table border=\"1\" class=\"dataframe\">\n",
       "  <thead>\n",
       "    <tr style=\"text-align: right;\">\n",
       "      <th></th>\n",
       "      <th>user_id</th>\n",
       "      <th>date_month</th>\n",
       "      <th>duration_count</th>\n",
       "      <th>duration_sum</th>\n",
       "      <th>message_count</th>\n",
       "      <th>mb_used_sum</th>\n",
       "      <th>age</th>\n",
       "      <th>churn_date</th>\n",
       "      <th>city</th>\n",
       "      <th>first_name</th>\n",
       "      <th>...</th>\n",
       "      <th>minutes_included</th>\n",
       "      <th>rub_monthly_fee</th>\n",
       "      <th>rub_per_gb</th>\n",
       "      <th>rub_per_message</th>\n",
       "      <th>rub_per_minute</th>\n",
       "      <th>messages_over</th>\n",
       "      <th>minutes_over</th>\n",
       "      <th>mb_per_month_over</th>\n",
       "      <th>gb_per_month_over</th>\n",
       "      <th>rub_monthly</th>\n",
       "    </tr>\n",
       "  </thead>\n",
       "  <tbody>\n",
       "    <tr>\n",
       "      <th>0</th>\n",
       "      <td>1000</td>\n",
       "      <td>2018-05-01</td>\n",
       "      <td>22.00</td>\n",
       "      <td>159.00</td>\n",
       "      <td>22.00</td>\n",
       "      <td>2,254.00</td>\n",
       "      <td>52</td>\n",
       "      <td>NaT</td>\n",
       "      <td>Краснодар</td>\n",
       "      <td>Рафаил</td>\n",
       "      <td>...</td>\n",
       "      <td>3000</td>\n",
       "      <td>1950</td>\n",
       "      <td>150</td>\n",
       "      <td>1</td>\n",
       "      <td>1</td>\n",
       "      <td>0.00</td>\n",
       "      <td>0</td>\n",
       "      <td>0.00</td>\n",
       "      <td>0.00</td>\n",
       "      <td>1,950.00</td>\n",
       "    </tr>\n",
       "    <tr>\n",
       "      <th>1</th>\n",
       "      <td>1000</td>\n",
       "      <td>2018-06-01</td>\n",
       "      <td>43.00</td>\n",
       "      <td>172.00</td>\n",
       "      <td>60.00</td>\n",
       "      <td>23,232.00</td>\n",
       "      <td>52</td>\n",
       "      <td>NaT</td>\n",
       "      <td>Краснодар</td>\n",
       "      <td>Рафаил</td>\n",
       "      <td>...</td>\n",
       "      <td>3000</td>\n",
       "      <td>1950</td>\n",
       "      <td>150</td>\n",
       "      <td>1</td>\n",
       "      <td>1</td>\n",
       "      <td>0.00</td>\n",
       "      <td>0</td>\n",
       "      <td>0.00</td>\n",
       "      <td>0.00</td>\n",
       "      <td>1,950.00</td>\n",
       "    </tr>\n",
       "    <tr>\n",
       "      <th>2</th>\n",
       "      <td>1000</td>\n",
       "      <td>2018-07-01</td>\n",
       "      <td>47.00</td>\n",
       "      <td>340.00</td>\n",
       "      <td>75.00</td>\n",
       "      <td>14,008.00</td>\n",
       "      <td>52</td>\n",
       "      <td>NaT</td>\n",
       "      <td>Краснодар</td>\n",
       "      <td>Рафаил</td>\n",
       "      <td>...</td>\n",
       "      <td>3000</td>\n",
       "      <td>1950</td>\n",
       "      <td>150</td>\n",
       "      <td>1</td>\n",
       "      <td>1</td>\n",
       "      <td>0.00</td>\n",
       "      <td>0</td>\n",
       "      <td>0.00</td>\n",
       "      <td>0.00</td>\n",
       "      <td>1,950.00</td>\n",
       "    </tr>\n",
       "    <tr>\n",
       "      <th>3</th>\n",
       "      <td>1000</td>\n",
       "      <td>2018-08-01</td>\n",
       "      <td>52.00</td>\n",
       "      <td>408.00</td>\n",
       "      <td>81.00</td>\n",
       "      <td>14,056.00</td>\n",
       "      <td>52</td>\n",
       "      <td>NaT</td>\n",
       "      <td>Краснодар</td>\n",
       "      <td>Рафаил</td>\n",
       "      <td>...</td>\n",
       "      <td>3000</td>\n",
       "      <td>1950</td>\n",
       "      <td>150</td>\n",
       "      <td>1</td>\n",
       "      <td>1</td>\n",
       "      <td>0.00</td>\n",
       "      <td>0</td>\n",
       "      <td>0.00</td>\n",
       "      <td>0.00</td>\n",
       "      <td>1,950.00</td>\n",
       "    </tr>\n",
       "    <tr>\n",
       "      <th>4</th>\n",
       "      <td>1000</td>\n",
       "      <td>2018-09-01</td>\n",
       "      <td>58.00</td>\n",
       "      <td>466.00</td>\n",
       "      <td>57.00</td>\n",
       "      <td>14,568.00</td>\n",
       "      <td>52</td>\n",
       "      <td>NaT</td>\n",
       "      <td>Краснодар</td>\n",
       "      <td>Рафаил</td>\n",
       "      <td>...</td>\n",
       "      <td>3000</td>\n",
       "      <td>1950</td>\n",
       "      <td>150</td>\n",
       "      <td>1</td>\n",
       "      <td>1</td>\n",
       "      <td>0.00</td>\n",
       "      <td>0</td>\n",
       "      <td>0.00</td>\n",
       "      <td>0.00</td>\n",
       "      <td>1,950.00</td>\n",
       "    </tr>\n",
       "  </tbody>\n",
       "</table>\n",
       "<p>5 rows × 25 columns</p>\n",
       "</div>"
      ],
      "text/plain": [
       "   user_id date_month  duration_count  duration_sum  message_count  \\\n",
       "0     1000 2018-05-01           22.00        159.00          22.00   \n",
       "1     1000 2018-06-01           43.00        172.00          60.00   \n",
       "2     1000 2018-07-01           47.00        340.00          75.00   \n",
       "3     1000 2018-08-01           52.00        408.00          81.00   \n",
       "4     1000 2018-09-01           58.00        466.00          57.00   \n",
       "\n",
       "   mb_used_sum  age churn_date       city first_name  ... minutes_included  \\\n",
       "0     2,254.00   52        NaT  Краснодар     Рафаил  ...             3000   \n",
       "1    23,232.00   52        NaT  Краснодар     Рафаил  ...             3000   \n",
       "2    14,008.00   52        NaT  Краснодар     Рафаил  ...             3000   \n",
       "3    14,056.00   52        NaT  Краснодар     Рафаил  ...             3000   \n",
       "4    14,568.00   52        NaT  Краснодар     Рафаил  ...             3000   \n",
       "\n",
       "  rub_monthly_fee rub_per_gb  rub_per_message  rub_per_minute  messages_over  \\\n",
       "0            1950        150                1               1           0.00   \n",
       "1            1950        150                1               1           0.00   \n",
       "2            1950        150                1               1           0.00   \n",
       "3            1950        150                1               1           0.00   \n",
       "4            1950        150                1               1           0.00   \n",
       "\n",
       "   minutes_over  mb_per_month_over  gb_per_month_over  rub_monthly  \n",
       "0             0               0.00               0.00     1,950.00  \n",
       "1             0               0.00               0.00     1,950.00  \n",
       "2             0               0.00               0.00     1,950.00  \n",
       "3             0               0.00               0.00     1,950.00  \n",
       "4             0               0.00               0.00     1,950.00  \n",
       "\n",
       "[5 rows x 25 columns]"
      ]
     },
     "execution_count": 54,
     "metadata": {},
     "output_type": "execute_result"
    }
   ],
   "source": [
    "users_month.head(5)"
   ]
  },
  {
   "cell_type": "code",
   "execution_count": 55,
   "metadata": {},
   "outputs": [
    {
     "data": {
      "text/html": [
       "<div>\n",
       "<style scoped>\n",
       "    .dataframe tbody tr th:only-of-type {\n",
       "        vertical-align: middle;\n",
       "    }\n",
       "\n",
       "    .dataframe tbody tr th {\n",
       "        vertical-align: top;\n",
       "    }\n",
       "\n",
       "    .dataframe thead th {\n",
       "        text-align: right;\n",
       "    }\n",
       "</style>\n",
       "<table border=\"1\" class=\"dataframe\">\n",
       "  <thead>\n",
       "    <tr style=\"text-align: right;\">\n",
       "      <th></th>\n",
       "      <th>rub_monthly</th>\n",
       "    </tr>\n",
       "    <tr>\n",
       "      <th>tariff</th>\n",
       "      <th></th>\n",
       "    </tr>\n",
       "  </thead>\n",
       "  <tbody>\n",
       "    <tr>\n",
       "      <th>smart</th>\n",
       "      <td>2,872,951.00</td>\n",
       "    </tr>\n",
       "    <tr>\n",
       "      <th>ultra</th>\n",
       "      <td>2,038,950.00</td>\n",
       "    </tr>\n",
       "  </tbody>\n",
       "</table>\n",
       "</div>"
      ],
      "text/plain": [
       "        rub_monthly\n",
       "tariff             \n",
       "smart  2,872,951.00\n",
       "ultra  2,038,950.00"
      ]
     },
     "execution_count": 55,
     "metadata": {},
     "output_type": "execute_result"
    }
   ],
   "source": [
    "users_month.groupby('tariff').agg({'rub_monthly': 'sum'})"
   ]
  },
  {
   "cell_type": "markdown",
   "metadata": {},
   "source": [
    "<div style=\"border:solid blue 2.0px; padding: 10px\"> \n",
    "    \n",
    "И побеждает боец в синем углу ринга: smart. Он берет большинством\n",
    "\n",
    "</div>"
   ]
  },
  {
   "cell_type": "code",
   "execution_count": null,
   "metadata": {},
   "outputs": [],
   "source": []
  },
  {
   "cell_type": "markdown",
   "metadata": {},
   "source": [
    "## Общий вывод"
   ]
  },
  {
   "cell_type": "markdown",
   "metadata": {},
   "source": [
    "<div style=\"border:solid blue 2.0px; padding: 10px\"> \n",
    "    \n",
    "**1. Сравнение тарифов ultra и smart**\n",
    "    \n",
    " - При прямой проверке \"в лоб\", мы получаем, что тариф ultra приносит больше выручки, чем тариф smart. Это было ожидаемо, ведь тариф ultra дороже в целом.\n",
    "    \n",
    " - С другой стороны, есть издержки компании Мегалайн, которая тратит собственные деньги на предоставление того или иного количества ресурсов пользователям. Скорее всего, эти издержки не линейны. Мы не можем принять, что (условно) одна минута стоит 20 копеек для Мегалайна. Очень жаль, что нет этих данных.\n",
    "    \n",
    " - С третьей стороны, по данным, мы видели, что пользователи тарифа smart часто не укладываются в лимиты, которые включены в стоимость абонентской платы. И вынуждены допупать ресурсы по более дорогой цене.\n",
    "\n",
    " - С четвертой стороны, в тариф ultra входит намного больше ресурсов для пользователя, а стоимость не так сильно разнится. Из чего можно сделать вывод, что единица ресурса для тарифа ultra стоит дешевле.\n",
    "    \n",
    "    Поэтому для более полной оценки, нужны издержки компании Мегалайн.\n",
    "    \n",
    "    Но если смотреть чистую выручку, тариф smart выигрывает\n",
    "\n",
    "<span style=\"color: white\">. </span>\n",
    "    \n",
    "**2. Сравнение пользователей Москвы и других городов**\n",
    "    \n",
    "    По данным выборок, которые у нас есть, мы не можем сделать вывод, что средние выручки пользователей Москвы и других городов отличаются.\n",
    "    \n",
    "    \n",
    "</div>"
   ]
  },
  {
   "cell_type": "code",
   "execution_count": null,
   "metadata": {},
   "outputs": [],
   "source": []
  }
 ],
 "metadata": {
  "ExecuteTimeLog": [
   {
    "duration": 591,
    "start_time": "2022-01-05T19:51:52.614Z"
   },
   {
    "duration": 221,
    "start_time": "2022-01-05T19:52:20.432Z"
   },
   {
    "duration": 809,
    "start_time": "2022-01-07T10:14:23.834Z"
   },
   {
    "duration": 788,
    "start_time": "2022-01-07T10:14:25.332Z"
   },
   {
    "duration": 29,
    "start_time": "2022-01-07T10:14:41.053Z"
   },
   {
    "duration": 77,
    "start_time": "2022-01-07T10:15:36.713Z"
   },
   {
    "duration": 117,
    "start_time": "2022-01-07T10:16:03.673Z"
   },
   {
    "duration": 118,
    "start_time": "2022-01-07T10:17:32.162Z"
   },
   {
    "duration": 68,
    "start_time": "2022-01-07T10:18:39.026Z"
   },
   {
    "duration": 67,
    "start_time": "2022-01-07T10:18:56.022Z"
   },
   {
    "duration": 79,
    "start_time": "2022-01-07T10:21:54.383Z"
   },
   {
    "duration": 30,
    "start_time": "2022-01-07T10:28:39.282Z"
   },
   {
    "duration": 45,
    "start_time": "2022-01-07T10:28:56.001Z"
   },
   {
    "duration": 11,
    "start_time": "2022-01-07T10:29:00.502Z"
   },
   {
    "duration": 15,
    "start_time": "2022-01-07T10:29:20.322Z"
   },
   {
    "duration": 24,
    "start_time": "2022-01-07T10:29:34.842Z"
   },
   {
    "duration": 4,
    "start_time": "2022-01-07T10:29:43.461Z"
   },
   {
    "duration": 70,
    "start_time": "2022-01-07T10:32:49.568Z"
   },
   {
    "duration": 84,
    "start_time": "2022-01-07T10:37:06.469Z"
   },
   {
    "duration": 70,
    "start_time": "2022-01-07T10:37:27.383Z"
   },
   {
    "duration": 73,
    "start_time": "2022-01-07T10:37:47.969Z"
   },
   {
    "duration": 19,
    "start_time": "2022-01-07T10:38:51.122Z"
   },
   {
    "duration": 554,
    "start_time": "2022-01-07T10:39:46.948Z"
   },
   {
    "duration": 328,
    "start_time": "2022-01-07T10:39:53.016Z"
   },
   {
    "duration": 6,
    "start_time": "2022-01-07T10:40:04.347Z"
   },
   {
    "duration": 345,
    "start_time": "2022-01-07T10:41:32.431Z"
   },
   {
    "duration": 4,
    "start_time": "2022-01-07T10:41:44.909Z"
   },
   {
    "duration": 42,
    "start_time": "2022-01-07T10:43:24.829Z"
   },
   {
    "duration": 34,
    "start_time": "2022-01-07T10:44:00.508Z"
   },
   {
    "duration": 43,
    "start_time": "2022-01-07T10:45:01.997Z"
   },
   {
    "duration": 88,
    "start_time": "2022-01-07T10:45:06.388Z"
   },
   {
    "duration": 9,
    "start_time": "2022-01-07T10:49:08.334Z"
   },
   {
    "duration": 1171,
    "start_time": "2022-01-07T10:49:11.265Z"
   },
   {
    "duration": 116,
    "start_time": "2022-01-07T13:37:10.800Z"
   },
   {
    "duration": 5,
    "start_time": "2022-01-07T13:37:32.021Z"
   },
   {
    "duration": 6,
    "start_time": "2022-01-07T13:37:35.300Z"
   },
   {
    "duration": 308,
    "start_time": "2022-01-07T13:37:36.700Z"
   },
   {
    "duration": 564,
    "start_time": "2022-01-07T13:37:45.510Z"
   },
   {
    "duration": 398,
    "start_time": "2022-01-07T13:37:47.880Z"
   },
   {
    "duration": 54,
    "start_time": "2022-01-07T13:37:48.488Z"
   },
   {
    "duration": 31,
    "start_time": "2022-01-07T13:37:52.859Z"
   },
   {
    "duration": 83,
    "start_time": "2022-01-07T13:37:56.140Z"
   },
   {
    "duration": 50,
    "start_time": "2022-01-07T13:37:56.980Z"
   },
   {
    "duration": 5,
    "start_time": "2022-01-07T13:38:03.148Z"
   },
   {
    "duration": 6,
    "start_time": "2022-01-07T13:38:08.168Z"
   },
   {
    "duration": 843,
    "start_time": "2022-01-07T13:38:08.639Z"
   },
   {
    "duration": 417,
    "start_time": "2022-01-07T13:38:16.770Z"
   },
   {
    "duration": 455,
    "start_time": "2022-01-07T13:38:32.340Z"
   },
   {
    "duration": 502,
    "start_time": "2022-01-07T13:38:39.620Z"
   },
   {
    "duration": 6,
    "start_time": "2022-01-07T13:40:41.161Z"
   },
   {
    "duration": 698,
    "start_time": "2022-01-07T13:40:41.580Z"
   },
   {
    "duration": 3,
    "start_time": "2022-01-07T13:42:02.500Z"
   },
   {
    "duration": 406,
    "start_time": "2022-01-07T13:42:03.580Z"
   },
   {
    "duration": 52,
    "start_time": "2022-01-07T13:42:04.193Z"
   },
   {
    "duration": 18,
    "start_time": "2022-01-07T13:42:11.530Z"
   },
   {
    "duration": 18,
    "start_time": "2022-01-07T13:42:18.440Z"
   },
   {
    "duration": 90,
    "start_time": "2022-01-07T13:42:19.780Z"
   },
   {
    "duration": 50,
    "start_time": "2022-01-07T13:42:21.548Z"
   },
   {
    "duration": 4,
    "start_time": "2022-01-07T13:42:25.842Z"
   },
   {
    "duration": 5,
    "start_time": "2022-01-07T13:42:28.606Z"
   },
   {
    "duration": 1077,
    "start_time": "2022-01-07T13:42:29.565Z"
   },
   {
    "duration": 5,
    "start_time": "2022-01-07T13:43:23.540Z"
   },
   {
    "duration": 3720,
    "start_time": "2022-01-07T13:43:23.940Z"
   },
   {
    "duration": 5,
    "start_time": "2022-01-07T13:43:50.277Z"
   },
   {
    "duration": 1382,
    "start_time": "2022-01-07T13:43:50.686Z"
   },
   {
    "duration": 6,
    "start_time": "2022-01-07T13:46:45.294Z"
   },
   {
    "duration": 269,
    "start_time": "2022-01-07T13:47:07.100Z"
   },
   {
    "duration": 5,
    "start_time": "2022-01-07T13:47:18.800Z"
   },
   {
    "duration": 6,
    "start_time": "2022-01-07T13:47:19.060Z"
   },
   {
    "duration": 820,
    "start_time": "2022-01-07T13:47:19.620Z"
   },
   {
    "duration": 286,
    "start_time": "2022-01-07T13:56:35.299Z"
   },
   {
    "duration": 401,
    "start_time": "2022-01-07T13:56:43.039Z"
   },
   {
    "duration": 53,
    "start_time": "2022-01-07T13:56:47.260Z"
   },
   {
    "duration": 266,
    "start_time": "2022-01-07T13:58:19.900Z"
   },
   {
    "duration": 52,
    "start_time": "2022-01-07T13:58:23.380Z"
   },
   {
    "duration": 5,
    "start_time": "2022-01-07T13:59:14.923Z"
   },
   {
    "duration": 383,
    "start_time": "2022-01-07T13:59:25.839Z"
   },
   {
    "duration": 5,
    "start_time": "2022-01-07T14:00:36.820Z"
   },
   {
    "duration": 911,
    "start_time": "2022-01-07T14:00:37.407Z"
   },
   {
    "duration": 6,
    "start_time": "2022-01-07T14:00:58.360Z"
   },
   {
    "duration": 640,
    "start_time": "2022-01-07T14:00:58.859Z"
   },
   {
    "duration": 5,
    "start_time": "2022-01-07T14:01:21.138Z"
   },
   {
    "duration": 588,
    "start_time": "2022-01-07T14:01:22.311Z"
   },
   {
    "duration": 6,
    "start_time": "2022-01-07T14:01:50.600Z"
   },
   {
    "duration": 549,
    "start_time": "2022-01-07T14:01:50.874Z"
   },
   {
    "duration": 6,
    "start_time": "2022-01-07T14:02:24.380Z"
   },
   {
    "duration": 696,
    "start_time": "2022-01-07T14:02:24.799Z"
   },
   {
    "duration": 6,
    "start_time": "2022-01-07T14:02:54.600Z"
   },
   {
    "duration": 737,
    "start_time": "2022-01-07T14:02:54.900Z"
   },
   {
    "duration": 6,
    "start_time": "2022-01-07T14:03:17.070Z"
   },
   {
    "duration": 615,
    "start_time": "2022-01-07T14:03:17.384Z"
   },
   {
    "duration": 9,
    "start_time": "2022-01-07T14:03:49.960Z"
   },
   {
    "duration": 609,
    "start_time": "2022-01-07T14:03:50.440Z"
   },
   {
    "duration": 491,
    "start_time": "2022-01-07T14:05:02.589Z"
   },
   {
    "duration": 708,
    "start_time": "2022-01-07T14:05:24.280Z"
   },
   {
    "duration": 7679,
    "start_time": "2022-01-07T14:12:28.480Z"
   },
   {
    "duration": 140,
    "start_time": "2022-01-07T14:12:36.022Z"
   },
   {
    "duration": 326,
    "start_time": "2022-01-07T14:13:07.681Z"
   },
   {
    "duration": 3,
    "start_time": "2022-01-07T14:13:14.060Z"
   },
   {
    "duration": 409,
    "start_time": "2022-01-07T14:13:14.803Z"
   },
   {
    "duration": 57,
    "start_time": "2022-01-07T14:13:15.436Z"
   },
   {
    "duration": 19,
    "start_time": "2022-01-07T14:13:19.360Z"
   },
   {
    "duration": 80,
    "start_time": "2022-01-07T14:13:20.879Z"
   },
   {
    "duration": 48,
    "start_time": "2022-01-07T14:13:35.940Z"
   },
   {
    "duration": 5,
    "start_time": "2022-01-07T14:14:50.641Z"
   },
   {
    "duration": 6,
    "start_time": "2022-01-07T14:14:53.300Z"
   },
   {
    "duration": 3,
    "start_time": "2022-01-07T14:16:38.180Z"
   },
   {
    "duration": 383,
    "start_time": "2022-01-07T14:16:38.660Z"
   },
   {
    "duration": 54,
    "start_time": "2022-01-07T14:16:39.045Z"
   },
   {
    "duration": 18,
    "start_time": "2022-01-07T14:16:44.560Z"
   },
   {
    "duration": 77,
    "start_time": "2022-01-07T14:16:49.940Z"
   },
   {
    "duration": 50,
    "start_time": "2022-01-07T14:16:50.860Z"
   },
   {
    "duration": 4,
    "start_time": "2022-01-07T14:16:55.961Z"
   },
   {
    "duration": 5,
    "start_time": "2022-01-07T14:16:59.000Z"
   },
   {
    "duration": 637,
    "start_time": "2022-01-07T14:17:00.161Z"
   },
   {
    "duration": 560,
    "start_time": "2022-01-07T14:17:02.520Z"
   },
   {
    "duration": 528,
    "start_time": "2022-01-07T14:50:17.422Z"
   },
   {
    "duration": 348,
    "start_time": "2022-01-07T14:50:37.448Z"
   },
   {
    "duration": 3,
    "start_time": "2022-01-07T14:50:58.190Z"
   },
   {
    "duration": 3,
    "start_time": "2022-01-07T14:51:06.088Z"
   },
   {
    "duration": 418,
    "start_time": "2022-01-07T14:51:06.508Z"
   },
   {
    "duration": 64,
    "start_time": "2022-01-07T14:51:06.928Z"
   },
   {
    "duration": 23,
    "start_time": "2022-01-07T14:51:07.208Z"
   },
   {
    "duration": 81,
    "start_time": "2022-01-07T14:51:09.409Z"
   },
   {
    "duration": 3,
    "start_time": "2022-01-07T14:51:10.688Z"
   },
   {
    "duration": 6,
    "start_time": "2022-01-07T14:51:12.928Z"
   },
   {
    "duration": 5,
    "start_time": "2022-01-07T14:51:13.889Z"
   },
   {
    "duration": 607,
    "start_time": "2022-01-07T14:51:15.209Z"
   },
   {
    "duration": 329,
    "start_time": "2022-01-07T14:51:16.628Z"
   },
   {
    "duration": 296,
    "start_time": "2022-01-07T14:51:19.212Z"
   },
   {
    "duration": 7,
    "start_time": "2022-01-07T14:52:33.728Z"
   },
   {
    "duration": 951,
    "start_time": "2022-01-07T14:53:09.088Z"
   },
   {
    "duration": 6,
    "start_time": "2022-01-07T14:54:17.528Z"
   },
   {
    "duration": 653,
    "start_time": "2022-01-07T14:54:20.028Z"
   },
   {
    "duration": 350,
    "start_time": "2022-01-07T14:54:24.110Z"
   },
   {
    "duration": 884,
    "start_time": "2022-01-07T14:54:37.210Z"
   },
   {
    "duration": 6,
    "start_time": "2022-01-07T14:55:01.322Z"
   },
   {
    "duration": 630,
    "start_time": "2022-01-07T14:55:01.788Z"
   },
   {
    "duration": 687,
    "start_time": "2022-01-07T14:55:23.288Z"
   },
   {
    "duration": 8,
    "start_time": "2022-01-07T14:55:30.081Z"
   },
   {
    "duration": 886,
    "start_time": "2022-01-07T14:55:31.408Z"
   },
   {
    "duration": 5,
    "start_time": "2022-01-07T14:56:19.689Z"
   },
   {
    "duration": 647,
    "start_time": "2022-01-07T14:56:19.969Z"
   },
   {
    "duration": 641,
    "start_time": "2022-01-07T14:56:23.240Z"
   },
   {
    "duration": 7,
    "start_time": "2022-01-07T14:56:26.890Z"
   },
   {
    "duration": 962,
    "start_time": "2022-01-07T14:56:27.088Z"
   },
   {
    "duration": 6,
    "start_time": "2022-01-07T14:58:17.797Z"
   },
   {
    "duration": 793,
    "start_time": "2022-01-07T14:58:18.409Z"
   },
   {
    "duration": 9,
    "start_time": "2022-01-07T14:59:38.529Z"
   },
   {
    "duration": 1062,
    "start_time": "2022-01-07T14:59:38.729Z"
   },
   {
    "duration": 6,
    "start_time": "2022-01-07T15:00:40.329Z"
   },
   {
    "duration": 685,
    "start_time": "2022-01-07T15:00:40.923Z"
   },
   {
    "duration": 5,
    "start_time": "2022-01-07T15:00:59.205Z"
   },
   {
    "duration": 662,
    "start_time": "2022-01-07T15:00:59.546Z"
   },
   {
    "duration": 653,
    "start_time": "2022-01-07T15:01:03.899Z"
   },
   {
    "duration": 904,
    "start_time": "2022-01-07T15:01:09.478Z"
   },
   {
    "duration": 5,
    "start_time": "2022-01-07T15:01:38.287Z"
   },
   {
    "duration": 633,
    "start_time": "2022-01-07T15:01:38.618Z"
   },
   {
    "duration": 656,
    "start_time": "2022-01-07T15:01:40.718Z"
   },
   {
    "duration": 7,
    "start_time": "2022-01-07T15:01:42.938Z"
   },
   {
    "duration": 1046,
    "start_time": "2022-01-07T15:01:43.878Z"
   },
   {
    "duration": 7128,
    "start_time": "2022-01-07T15:11:11.318Z"
   },
   {
    "duration": 13,
    "start_time": "2022-01-07T15:15:10.122Z"
   },
   {
    "duration": 14,
    "start_time": "2022-01-07T15:15:28.955Z"
   },
   {
    "duration": 10,
    "start_time": "2022-01-07T15:15:32.882Z"
   },
   {
    "duration": 2,
    "start_time": "2022-01-07T15:15:42.452Z"
   },
   {
    "duration": 1131,
    "start_time": "2022-01-07T15:17:21.081Z"
   },
   {
    "duration": 1021,
    "start_time": "2022-01-07T15:20:10.771Z"
   },
   {
    "duration": 989,
    "start_time": "2022-01-07T15:20:35.842Z"
   },
   {
    "duration": 4,
    "start_time": "2022-01-07T15:21:00.842Z"
   },
   {
    "duration": 10,
    "start_time": "2022-01-07T15:21:06.741Z"
   },
   {
    "duration": 253,
    "start_time": "2022-01-07T15:21:33.258Z"
   },
   {
    "duration": 8,
    "start_time": "2022-01-07T15:24:56.142Z"
   },
   {
    "duration": 959,
    "start_time": "2022-01-07T15:25:13.782Z"
   },
   {
    "duration": 9,
    "start_time": "2022-01-07T15:25:24.362Z"
   },
   {
    "duration": 6,
    "start_time": "2022-01-07T15:26:15.418Z"
   },
   {
    "duration": 811,
    "start_time": "2022-01-07T15:26:19.298Z"
   },
   {
    "duration": 1609,
    "start_time": "2022-01-07T15:26:28.038Z"
   },
   {
    "duration": 1298,
    "start_time": "2022-01-07T15:28:28.178Z"
   },
   {
    "duration": 6,
    "start_time": "2022-01-07T15:33:52.677Z"
   },
   {
    "duration": 587,
    "start_time": "2022-01-07T15:33:53.177Z"
   },
   {
    "duration": 704,
    "start_time": "2022-01-07T15:33:58.737Z"
   },
   {
    "duration": 3,
    "start_time": "2022-01-07T15:34:10.318Z"
   },
   {
    "duration": 1092,
    "start_time": "2022-01-07T15:34:12.581Z"
   },
   {
    "duration": 1437,
    "start_time": "2022-01-07T15:37:26.670Z"
   },
   {
    "duration": 1464,
    "start_time": "2022-01-07T15:45:06.000Z"
   },
   {
    "duration": 7,
    "start_time": "2022-01-07T15:46:52.039Z"
   },
   {
    "duration": 7,
    "start_time": "2022-01-07T16:13:47.185Z"
   },
   {
    "duration": 6,
    "start_time": "2022-01-07T16:13:56.324Z"
   },
   {
    "duration": 7,
    "start_time": "2022-01-07T16:29:10.604Z"
   },
   {
    "duration": 8,
    "start_time": "2022-01-07T16:29:16.499Z"
   },
   {
    "duration": 799,
    "start_time": "2022-01-07T16:29:34.225Z"
   },
   {
    "duration": 877,
    "start_time": "2022-01-07T16:29:51.844Z"
   },
   {
    "duration": 354,
    "start_time": "2022-01-07T16:30:13.744Z"
   },
   {
    "duration": 577,
    "start_time": "2022-01-07T16:30:19.824Z"
   },
   {
    "duration": 42,
    "start_time": "2022-01-07T16:34:33.283Z"
   },
   {
    "duration": 15,
    "start_time": "2022-01-07T16:35:23.124Z"
   },
   {
    "duration": 130,
    "start_time": "2022-01-07T16:35:39.287Z"
   },
   {
    "duration": 3,
    "start_time": "2022-01-07T16:38:06.404Z"
   },
   {
    "duration": 38,
    "start_time": "2022-01-07T16:38:07.365Z"
   },
   {
    "duration": 38,
    "start_time": "2022-01-07T16:38:08.543Z"
   },
   {
    "duration": 665,
    "start_time": "2022-01-07T16:40:54.212Z"
   },
   {
    "duration": 7,
    "start_time": "2022-01-07T16:41:40.781Z"
   },
   {
    "duration": 39,
    "start_time": "2022-01-07T16:41:41.537Z"
   },
   {
    "duration": 3,
    "start_time": "2022-01-07T16:41:50.204Z"
   },
   {
    "duration": 8,
    "start_time": "2022-01-07T16:41:51.703Z"
   },
   {
    "duration": 3,
    "start_time": "2022-01-07T16:42:21.339Z"
   },
   {
    "duration": 376,
    "start_time": "2022-01-07T16:42:21.559Z"
   },
   {
    "duration": 7,
    "start_time": "2022-01-07T16:42:24.399Z"
   },
   {
    "duration": 31,
    "start_time": "2022-01-07T16:42:26.059Z"
   },
   {
    "duration": 30,
    "start_time": "2022-01-07T16:43:35.542Z"
   },
   {
    "duration": 363,
    "start_time": "2022-01-07T16:43:57.977Z"
   },
   {
    "duration": 128,
    "start_time": "2022-01-07T16:44:45.795Z"
   },
   {
    "duration": 187,
    "start_time": "2022-01-07T16:45:03.147Z"
   },
   {
    "duration": 30,
    "start_time": "2022-01-07T16:45:33.922Z"
   },
   {
    "duration": 82,
    "start_time": "2022-01-07T16:53:13.518Z"
   },
   {
    "duration": 520,
    "start_time": "2022-01-07T16:53:23.142Z"
   },
   {
    "duration": 5,
    "start_time": "2022-01-07T16:53:27.037Z"
   },
   {
    "duration": 263,
    "start_time": "2022-01-07T16:53:46.937Z"
   },
   {
    "duration": 5,
    "start_time": "2022-01-07T16:53:47.367Z"
   },
   {
    "duration": 275,
    "start_time": "2022-01-07T16:53:51.857Z"
   },
   {
    "duration": 5,
    "start_time": "2022-01-07T16:53:52.217Z"
   },
   {
    "duration": 7,
    "start_time": "2022-01-07T16:59:00.857Z"
   },
   {
    "duration": 473,
    "start_time": "2022-01-07T16:59:01.617Z"
   },
   {
    "duration": 38,
    "start_time": "2022-01-07T16:59:02.357Z"
   },
   {
    "duration": 368,
    "start_time": "2022-01-07T16:59:03.414Z"
   },
   {
    "duration": 141,
    "start_time": "2022-01-07T16:59:03.901Z"
   },
   {
    "duration": 193,
    "start_time": "2022-01-07T16:59:05.577Z"
   },
   {
    "duration": 29,
    "start_time": "2022-01-07T16:59:09.579Z"
   },
   {
    "duration": 4,
    "start_time": "2022-01-07T20:49:35.443Z"
   },
   {
    "duration": 513,
    "start_time": "2022-01-07T20:49:37.164Z"
   },
   {
    "duration": 54,
    "start_time": "2022-01-07T20:49:37.801Z"
   },
   {
    "duration": 323,
    "start_time": "2022-01-07T20:49:38.364Z"
   },
   {
    "duration": 134,
    "start_time": "2022-01-07T20:49:38.804Z"
   },
   {
    "duration": 177,
    "start_time": "2022-01-07T20:49:39.372Z"
   },
   {
    "duration": 32,
    "start_time": "2022-01-07T20:49:40.584Z"
   },
   {
    "duration": 80,
    "start_time": "2022-01-07T20:49:45.124Z"
   },
   {
    "duration": 6,
    "start_time": "2022-01-07T20:50:29.104Z"
   },
   {
    "duration": 7,
    "start_time": "2022-01-07T20:50:50.931Z"
   },
   {
    "duration": 9,
    "start_time": "2022-01-07T20:51:27.483Z"
   },
   {
    "duration": 9,
    "start_time": "2022-01-07T20:51:52.469Z"
   },
   {
    "duration": 7,
    "start_time": "2022-01-07T20:52:05.849Z"
   },
   {
    "duration": 8,
    "start_time": "2022-01-07T20:52:13.924Z"
   },
   {
    "duration": 7,
    "start_time": "2022-01-07T20:52:30.692Z"
   },
   {
    "duration": 5,
    "start_time": "2022-01-07T20:52:51.324Z"
   },
   {
    "duration": 5,
    "start_time": "2022-01-07T20:53:11.475Z"
   },
   {
    "duration": 4,
    "start_time": "2022-01-07T20:53:15.124Z"
   },
   {
    "duration": 5,
    "start_time": "2022-01-07T20:53:22.396Z"
   },
   {
    "duration": 5,
    "start_time": "2022-01-07T20:53:28.345Z"
   },
   {
    "duration": 413,
    "start_time": "2022-01-07T20:55:31.824Z"
   },
   {
    "duration": 17,
    "start_time": "2022-01-07T20:56:41.044Z"
   },
   {
    "duration": 9,
    "start_time": "2022-01-07T20:57:00.356Z"
   },
   {
    "duration": 9,
    "start_time": "2022-01-07T20:57:06.243Z"
   },
   {
    "duration": 9,
    "start_time": "2022-01-07T21:04:12.287Z"
   },
   {
    "duration": 5,
    "start_time": "2022-01-07T21:20:43.764Z"
   },
   {
    "duration": 10,
    "start_time": "2022-01-07T21:22:40.483Z"
   },
   {
    "duration": 253,
    "start_time": "2022-01-07T21:25:13.484Z"
   },
   {
    "duration": 3,
    "start_time": "2022-01-07T21:26:05.598Z"
   },
   {
    "duration": 7189,
    "start_time": "2022-01-07T21:26:36.084Z"
   },
   {
    "duration": 13,
    "start_time": "2022-01-07T21:26:55.664Z"
   },
   {
    "duration": 23,
    "start_time": "2022-01-07T21:31:17.964Z"
   },
   {
    "duration": 5,
    "start_time": "2022-01-07T21:31:19.222Z"
   },
   {
    "duration": 290,
    "start_time": "2022-01-07T21:33:46.492Z"
   },
   {
    "duration": 247,
    "start_time": "2022-01-07T21:34:09.040Z"
   },
   {
    "duration": 253,
    "start_time": "2022-01-07T21:35:41.203Z"
   },
   {
    "duration": 24,
    "start_time": "2022-01-07T21:35:51.871Z"
   },
   {
    "duration": 6,
    "start_time": "2022-01-07T21:35:53.072Z"
   },
   {
    "duration": 11,
    "start_time": "2022-01-07T21:35:53.683Z"
   },
   {
    "duration": 5001,
    "start_time": "2022-01-07T21:37:46.345Z"
   },
   {
    "duration": 11,
    "start_time": "2022-01-07T21:38:15.275Z"
   },
   {
    "duration": 34,
    "start_time": "2022-01-07T21:38:26.267Z"
   },
   {
    "duration": 154,
    "start_time": "2022-01-07T21:39:19.243Z"
   },
   {
    "duration": 31,
    "start_time": "2022-01-07T21:39:32.683Z"
   },
   {
    "duration": 31,
    "start_time": "2022-01-07T21:40:30.483Z"
   },
   {
    "duration": 28,
    "start_time": "2022-01-07T21:40:38.463Z"
   },
   {
    "duration": 30,
    "start_time": "2022-01-07T21:40:54.202Z"
   },
   {
    "duration": 32,
    "start_time": "2022-01-07T21:41:20.862Z"
   },
   {
    "duration": 29,
    "start_time": "2022-01-07T21:52:03.031Z"
   },
   {
    "duration": 27,
    "start_time": "2022-01-07T21:52:10.144Z"
   },
   {
    "duration": 28,
    "start_time": "2022-01-07T21:53:00.901Z"
   },
   {
    "duration": 241,
    "start_time": "2022-01-07T21:57:47.198Z"
   },
   {
    "duration": 254,
    "start_time": "2022-01-07T21:59:11.225Z"
   },
   {
    "duration": 15,
    "start_time": "2022-01-07T21:59:20.782Z"
   },
   {
    "duration": 23,
    "start_time": "2022-01-07T21:59:22.344Z"
   },
   {
    "duration": 23,
    "start_time": "2022-01-07T22:00:07.665Z"
   },
   {
    "duration": 19,
    "start_time": "2022-01-07T22:07:22.767Z"
   },
   {
    "duration": 25,
    "start_time": "2022-01-07T22:12:14.235Z"
   },
   {
    "duration": 360,
    "start_time": "2022-01-07T22:35:59.502Z"
   },
   {
    "duration": 23,
    "start_time": "2022-01-07T22:39:20.142Z"
   },
   {
    "duration": 6,
    "start_time": "2022-01-07T22:39:20.711Z"
   },
   {
    "duration": 11,
    "start_time": "2022-01-07T22:39:21.312Z"
   },
   {
    "duration": 32,
    "start_time": "2022-01-07T22:39:23.332Z"
   },
   {
    "duration": 16,
    "start_time": "2022-01-07T22:39:38.302Z"
   },
   {
    "duration": 23,
    "start_time": "2022-01-07T22:39:38.543Z"
   },
   {
    "duration": 17,
    "start_time": "2022-01-07T22:39:46.383Z"
   },
   {
    "duration": 25,
    "start_time": "2022-01-07T22:39:46.543Z"
   },
   {
    "duration": 278,
    "start_time": "2022-01-07T22:40:25.862Z"
   },
   {
    "duration": 14,
    "start_time": "2022-01-07T22:43:30.703Z"
   },
   {
    "duration": 255,
    "start_time": "2022-01-07T22:44:44.423Z"
   },
   {
    "duration": 17,
    "start_time": "2022-01-07T22:45:16.262Z"
   },
   {
    "duration": 26,
    "start_time": "2022-01-07T22:46:33.631Z"
   },
   {
    "duration": 263,
    "start_time": "2022-01-07T22:49:15.862Z"
   },
   {
    "duration": 5,
    "start_time": "2022-01-07T22:49:20.023Z"
   },
   {
    "duration": 1136,
    "start_time": "2022-01-09T13:49:48.015Z"
   },
   {
    "duration": 394,
    "start_time": "2022-01-09T13:49:49.153Z"
   },
   {
    "duration": 36,
    "start_time": "2022-01-09T13:49:49.549Z"
   },
   {
    "duration": 357,
    "start_time": "2022-01-09T13:49:49.587Z"
   },
   {
    "duration": 164,
    "start_time": "2022-01-09T13:49:49.947Z"
   },
   {
    "duration": 175,
    "start_time": "2022-01-09T13:49:50.355Z"
   },
   {
    "duration": 33,
    "start_time": "2022-01-09T13:49:50.772Z"
   },
   {
    "duration": 75,
    "start_time": "2022-01-09T13:49:52.415Z"
   },
   {
    "duration": 6,
    "start_time": "2022-01-09T13:49:52.675Z"
   },
   {
    "duration": 5,
    "start_time": "2022-01-09T13:49:53.042Z"
   },
   {
    "duration": 5,
    "start_time": "2022-01-09T13:49:53.294Z"
   },
   {
    "duration": 5,
    "start_time": "2022-01-09T13:49:53.563Z"
   },
   {
    "duration": 5,
    "start_time": "2022-01-09T13:49:53.795Z"
   },
   {
    "duration": 9,
    "start_time": "2022-01-09T13:49:54.805Z"
   },
   {
    "duration": 10,
    "start_time": "2022-01-09T13:49:55.354Z"
   },
   {
    "duration": 10,
    "start_time": "2022-01-09T13:49:56.435Z"
   },
   {
    "duration": 24,
    "start_time": "2022-01-09T13:49:57.538Z"
   },
   {
    "duration": 5,
    "start_time": "2022-01-09T13:49:57.882Z"
   },
   {
    "duration": 11,
    "start_time": "2022-01-09T13:49:58.234Z"
   },
   {
    "duration": 37,
    "start_time": "2022-01-09T13:49:58.695Z"
   },
   {
    "duration": 15,
    "start_time": "2022-01-09T13:49:59.895Z"
   },
   {
    "duration": 267,
    "start_time": "2022-01-09T13:50:00.355Z"
   },
   {
    "duration": 14,
    "start_time": "2022-01-09T13:50:12.935Z"
   },
   {
    "duration": 21,
    "start_time": "2022-01-09T13:50:13.495Z"
   },
   {
    "duration": 17,
    "start_time": "2022-01-09T13:50:16.234Z"
   },
   {
    "duration": 207,
    "start_time": "2022-01-09T13:50:17.342Z"
   },
   {
    "duration": 31,
    "start_time": "2022-01-09T13:50:24.239Z"
   },
   {
    "duration": 25,
    "start_time": "2022-01-09T13:50:24.455Z"
   },
   {
    "duration": 28,
    "start_time": "2022-01-09T13:50:27.254Z"
   },
   {
    "duration": 5,
    "start_time": "2022-01-09T13:50:30.754Z"
   },
   {
    "duration": 22,
    "start_time": "2022-01-09T13:57:34.134Z"
   },
   {
    "duration": 32,
    "start_time": "2022-01-09T13:57:44.425Z"
   },
   {
    "duration": 38,
    "start_time": "2022-01-09T13:58:01.770Z"
   },
   {
    "duration": 40,
    "start_time": "2022-01-09T13:58:41.194Z"
   },
   {
    "duration": 35,
    "start_time": "2022-01-09T13:58:51.902Z"
   },
   {
    "duration": 39,
    "start_time": "2022-01-09T14:03:42.582Z"
   },
   {
    "duration": 6,
    "start_time": "2022-01-09T14:16:14.013Z"
   },
   {
    "duration": 4,
    "start_time": "2022-01-09T14:17:54.993Z"
   },
   {
    "duration": 9,
    "start_time": "2022-01-09T14:19:29.414Z"
   },
   {
    "duration": 4260,
    "start_time": "2022-01-09T14:22:51.033Z"
   },
   {
    "duration": 38,
    "start_time": "2022-01-09T14:23:08.093Z"
   },
   {
    "duration": 23,
    "start_time": "2022-01-09T14:23:14.813Z"
   },
   {
    "duration": 31,
    "start_time": "2022-01-09T14:24:15.794Z"
   },
   {
    "duration": 198,
    "start_time": "2022-01-09T14:25:03.796Z"
   },
   {
    "duration": 32,
    "start_time": "2022-01-09T14:25:08.812Z"
   },
   {
    "duration": 5,
    "start_time": "2022-01-09T14:25:13.133Z"
   },
   {
    "duration": 22,
    "start_time": "2022-01-09T14:25:13.812Z"
   },
   {
    "duration": 32,
    "start_time": "2022-01-09T14:25:57.152Z"
   },
   {
    "duration": 26,
    "start_time": "2022-01-09T14:25:57.612Z"
   },
   {
    "duration": 5,
    "start_time": "2022-01-09T14:26:15.493Z"
   },
   {
    "duration": 23,
    "start_time": "2022-01-09T14:26:15.855Z"
   },
   {
    "duration": 33,
    "start_time": "2022-01-09T14:26:50.152Z"
   },
   {
    "duration": 24,
    "start_time": "2022-01-09T14:26:50.450Z"
   },
   {
    "duration": 4659,
    "start_time": "2022-01-09T14:30:15.437Z"
   },
   {
    "duration": 7,
    "start_time": "2022-01-09T14:30:28.121Z"
   },
   {
    "duration": 7,
    "start_time": "2022-01-09T14:30:44.213Z"
   },
   {
    "duration": 17,
    "start_time": "2022-01-09T14:30:46.553Z"
   },
   {
    "duration": 4,
    "start_time": "2022-01-09T14:31:01.781Z"
   },
   {
    "duration": 27,
    "start_time": "2022-01-09T14:31:02.172Z"
   },
   {
    "duration": 5,
    "start_time": "2022-01-09T14:31:29.232Z"
   },
   {
    "duration": 22,
    "start_time": "2022-01-09T14:31:29.584Z"
   },
   {
    "duration": 8,
    "start_time": "2022-01-09T14:36:04.340Z"
   },
   {
    "duration": 23,
    "start_time": "2022-01-09T14:36:05.033Z"
   },
   {
    "duration": 8,
    "start_time": "2022-01-09T14:36:59.394Z"
   },
   {
    "duration": 23,
    "start_time": "2022-01-09T14:36:59.713Z"
   },
   {
    "duration": 35,
    "start_time": "2022-01-09T14:39:04.333Z"
   },
   {
    "duration": 7,
    "start_time": "2022-01-09T14:39:05.054Z"
   },
   {
    "duration": 27,
    "start_time": "2022-01-09T14:39:05.593Z"
   },
   {
    "duration": 22,
    "start_time": "2022-01-09T14:39:08.529Z"
   },
   {
    "duration": 34,
    "start_time": "2022-01-09T14:39:20.042Z"
   },
   {
    "duration": 5,
    "start_time": "2022-01-09T14:39:21.049Z"
   },
   {
    "duration": 24,
    "start_time": "2022-01-09T14:39:22.113Z"
   },
   {
    "duration": 6,
    "start_time": "2022-01-09T14:40:19.494Z"
   },
   {
    "duration": 7,
    "start_time": "2022-01-09T14:41:16.913Z"
   },
   {
    "duration": 28,
    "start_time": "2022-01-09T14:41:17.233Z"
   },
   {
    "duration": 6,
    "start_time": "2022-01-09T14:41:17.841Z"
   },
   {
    "duration": 7,
    "start_time": "2022-01-09T14:43:17.146Z"
   },
   {
    "duration": 24,
    "start_time": "2022-01-09T14:43:18.034Z"
   },
   {
    "duration": 5,
    "start_time": "2022-01-09T14:43:42.154Z"
   },
   {
    "duration": 11,
    "start_time": "2022-01-09T15:00:40.414Z"
   },
   {
    "duration": 32,
    "start_time": "2022-01-09T15:00:41.394Z"
   },
   {
    "duration": 24,
    "start_time": "2022-01-09T15:00:45.811Z"
   },
   {
    "duration": 12,
    "start_time": "2022-01-09T15:02:19.274Z"
   },
   {
    "duration": 24,
    "start_time": "2022-01-09T15:02:21.753Z"
   },
   {
    "duration": 11,
    "start_time": "2022-01-09T15:03:10.214Z"
   },
   {
    "duration": 22,
    "start_time": "2022-01-09T15:03:10.535Z"
   },
   {
    "duration": 16,
    "start_time": "2022-01-09T15:03:26.214Z"
   },
   {
    "duration": 22,
    "start_time": "2022-01-09T15:03:26.547Z"
   },
   {
    "duration": 12,
    "start_time": "2022-01-09T15:03:55.815Z"
   },
   {
    "duration": 22,
    "start_time": "2022-01-09T15:03:56.158Z"
   },
   {
    "duration": 177,
    "start_time": "2022-01-09T15:18:21.806Z"
   },
   {
    "duration": 55,
    "start_time": "2022-01-09T15:19:51.960Z"
   },
   {
    "duration": 5,
    "start_time": "2022-01-09T15:19:59.253Z"
   },
   {
    "duration": 6,
    "start_time": "2022-01-09T15:20:21.753Z"
   },
   {
    "duration": 25,
    "start_time": "2022-01-09T15:20:38.513Z"
   },
   {
    "duration": 21,
    "start_time": "2022-01-09T15:20:58.022Z"
   },
   {
    "duration": 24,
    "start_time": "2022-01-09T15:27:01.439Z"
   },
   {
    "duration": 21,
    "start_time": "2022-01-09T15:27:17.621Z"
   },
   {
    "duration": 6,
    "start_time": "2022-01-09T16:32:31.589Z"
   },
   {
    "duration": 7,
    "start_time": "2022-01-09T16:32:49.029Z"
   },
   {
    "duration": 290,
    "start_time": "2022-01-09T16:35:20.869Z"
   },
   {
    "duration": 178,
    "start_time": "2022-01-09T16:35:35.863Z"
   },
   {
    "duration": 284,
    "start_time": "2022-01-09T16:35:39.789Z"
   },
   {
    "duration": 170,
    "start_time": "2022-01-09T16:39:34.988Z"
   },
   {
    "duration": 176,
    "start_time": "2022-01-09T16:40:14.016Z"
   },
   {
    "duration": 180,
    "start_time": "2022-01-09T16:56:18.210Z"
   },
   {
    "duration": 296,
    "start_time": "2022-01-09T16:56:39.022Z"
   },
   {
    "duration": 323,
    "start_time": "2022-01-09T16:56:55.476Z"
   },
   {
    "duration": 319,
    "start_time": "2022-01-09T16:57:08.329Z"
   },
   {
    "duration": 9,
    "start_time": "2022-01-09T16:58:19.750Z"
   },
   {
    "duration": 63,
    "start_time": "2022-01-09T16:58:49.150Z"
   },
   {
    "duration": 17,
    "start_time": "2022-01-09T16:58:53.729Z"
   },
   {
    "duration": 19,
    "start_time": "2022-01-09T16:59:59.489Z"
   },
   {
    "duration": 74,
    "start_time": "2022-01-09T17:00:14.518Z"
   },
   {
    "duration": 15,
    "start_time": "2022-01-09T17:00:26.015Z"
   },
   {
    "duration": 22,
    "start_time": "2022-01-09T17:02:47.937Z"
   },
   {
    "duration": 22,
    "start_time": "2022-01-09T17:02:55.576Z"
   },
   {
    "duration": 32,
    "start_time": "2022-01-09T17:05:36.233Z"
   },
   {
    "duration": 25,
    "start_time": "2022-01-09T17:05:44.535Z"
   },
   {
    "duration": 22,
    "start_time": "2022-01-09T17:05:51.097Z"
   },
   {
    "duration": 24,
    "start_time": "2022-01-09T17:06:07.640Z"
   },
   {
    "duration": 24,
    "start_time": "2022-01-09T17:06:17.069Z"
   },
   {
    "duration": 21,
    "start_time": "2022-01-09T17:06:42.660Z"
   },
   {
    "duration": 195,
    "start_time": "2022-01-09T18:26:25.352Z"
   },
   {
    "duration": 6,
    "start_time": "2022-01-09T18:26:32.293Z"
   },
   {
    "duration": 170,
    "start_time": "2022-01-09T18:27:24.812Z"
   },
   {
    "duration": 169,
    "start_time": "2022-01-09T18:27:37.678Z"
   },
   {
    "duration": 408,
    "start_time": "2022-01-09T18:28:50.432Z"
   },
   {
    "duration": 10,
    "start_time": "2022-01-09T18:28:56.413Z"
   },
   {
    "duration": 267,
    "start_time": "2022-01-09T18:28:56.653Z"
   },
   {
    "duration": 193,
    "start_time": "2022-01-09T18:38:44.616Z"
   },
   {
    "duration": 266,
    "start_time": "2022-01-09T18:38:52.110Z"
   },
   {
    "duration": 359,
    "start_time": "2022-01-09T18:39:29.834Z"
   },
   {
    "duration": 367,
    "start_time": "2022-01-09T18:40:09.554Z"
   },
   {
    "duration": 349,
    "start_time": "2022-01-09T18:40:41.703Z"
   },
   {
    "duration": 403,
    "start_time": "2022-01-09T18:50:02.395Z"
   },
   {
    "duration": 626,
    "start_time": "2022-01-09T18:52:42.149Z"
   },
   {
    "duration": 641,
    "start_time": "2022-01-09T18:53:22.576Z"
   },
   {
    "duration": 430,
    "start_time": "2022-01-09T18:53:43.116Z"
   },
   {
    "duration": 439,
    "start_time": "2022-01-09T18:54:16.816Z"
   },
   {
    "duration": 430,
    "start_time": "2022-01-09T18:54:21.732Z"
   },
   {
    "duration": 433,
    "start_time": "2022-01-09T18:54:25.484Z"
   },
   {
    "duration": 412,
    "start_time": "2022-01-09T18:55:21.592Z"
   },
   {
    "duration": 586,
    "start_time": "2022-01-09T18:57:10.887Z"
   },
   {
    "duration": 568,
    "start_time": "2022-01-09T18:57:17.796Z"
   },
   {
    "duration": 574,
    "start_time": "2022-01-09T19:02:05.697Z"
   },
   {
    "duration": 577,
    "start_time": "2022-01-09T19:02:14.336Z"
   },
   {
    "duration": 471,
    "start_time": "2022-01-09T19:06:04.357Z"
   },
   {
    "duration": 482,
    "start_time": "2022-01-09T19:10:42.038Z"
   },
   {
    "duration": 634,
    "start_time": "2022-01-09T19:10:54.477Z"
   },
   {
    "duration": 617,
    "start_time": "2022-01-09T19:40:18.419Z"
   },
   {
    "duration": 651,
    "start_time": "2022-01-09T19:42:30.080Z"
   },
   {
    "duration": 635,
    "start_time": "2022-01-09T19:42:44.599Z"
   },
   {
    "duration": 184,
    "start_time": "2022-01-09T19:42:55.140Z"
   },
   {
    "duration": 288,
    "start_time": "2022-01-09T19:43:06.939Z"
   },
   {
    "duration": 204,
    "start_time": "2022-01-09T19:43:15.899Z"
   },
   {
    "duration": 8,
    "start_time": "2022-01-09T19:43:26.839Z"
   },
   {
    "duration": 11,
    "start_time": "2022-01-09T19:43:34.180Z"
   },
   {
    "duration": 580,
    "start_time": "2022-01-09T19:43:44.200Z"
   },
   {
    "duration": 509,
    "start_time": "2022-01-09T19:46:43.140Z"
   },
   {
    "duration": 612,
    "start_time": "2022-01-09T19:46:49.799Z"
   },
   {
    "duration": 637,
    "start_time": "2022-01-09T19:47:09.619Z"
   },
   {
    "duration": 9,
    "start_time": "2022-01-09T19:47:44.120Z"
   },
   {
    "duration": 709,
    "start_time": "2022-01-09T19:47:59.205Z"
   },
   {
    "duration": 21,
    "start_time": "2022-01-09T19:49:00.459Z"
   },
   {
    "duration": 8,
    "start_time": "2022-01-09T19:50:09.300Z"
   },
   {
    "duration": 558,
    "start_time": "2022-01-09T19:50:47.619Z"
   },
   {
    "duration": 568,
    "start_time": "2022-01-09T19:51:16.698Z"
   },
   {
    "duration": 604,
    "start_time": "2022-01-09T19:51:26.280Z"
   },
   {
    "duration": 5432,
    "start_time": "2022-01-09T19:53:44.220Z"
   },
   {
    "duration": 435,
    "start_time": "2022-01-09T19:53:58.920Z"
   },
   {
    "duration": 432,
    "start_time": "2022-01-09T19:54:09.301Z"
   },
   {
    "duration": 562,
    "start_time": "2022-01-09T19:54:37.861Z"
   },
   {
    "duration": 587,
    "start_time": "2022-01-09T19:54:53.479Z"
   },
   {
    "duration": 716,
    "start_time": "2022-01-09T19:55:06.519Z"
   },
   {
    "duration": 559,
    "start_time": "2022-01-09T19:55:11.769Z"
   },
   {
    "duration": 596,
    "start_time": "2022-01-09T20:00:43.163Z"
   },
   {
    "duration": 297,
    "start_time": "2022-01-09T20:01:09.630Z"
   },
   {
    "duration": 366,
    "start_time": "2022-01-10T13:29:28.896Z"
   },
   {
    "duration": 1433,
    "start_time": "2022-01-10T13:29:35.539Z"
   },
   {
    "duration": 490,
    "start_time": "2022-01-10T13:29:36.974Z"
   },
   {
    "duration": 56,
    "start_time": "2022-01-10T13:29:37.668Z"
   },
   {
    "duration": 363,
    "start_time": "2022-01-10T13:29:39.632Z"
   },
   {
    "duration": 165,
    "start_time": "2022-01-10T13:29:41.364Z"
   },
   {
    "duration": 226,
    "start_time": "2022-01-10T13:29:43.324Z"
   },
   {
    "duration": 48,
    "start_time": "2022-01-10T13:29:44.724Z"
   },
   {
    "duration": 11,
    "start_time": "2022-01-10T13:29:46.072Z"
   },
   {
    "duration": 114,
    "start_time": "2022-01-10T13:30:04.420Z"
   },
   {
    "duration": 6,
    "start_time": "2022-01-10T13:30:07.936Z"
   },
   {
    "duration": 7,
    "start_time": "2022-01-10T13:30:08.313Z"
   },
   {
    "duration": 9,
    "start_time": "2022-01-10T13:30:08.755Z"
   },
   {
    "duration": 6,
    "start_time": "2022-01-10T13:30:10.387Z"
   },
   {
    "duration": 10,
    "start_time": "2022-01-10T13:30:10.396Z"
   },
   {
    "duration": 12,
    "start_time": "2022-01-10T13:30:13.912Z"
   },
   {
    "duration": 13,
    "start_time": "2022-01-10T13:30:16.832Z"
   },
   {
    "duration": 14,
    "start_time": "2022-01-10T13:30:20.444Z"
   },
   {
    "duration": 29,
    "start_time": "2022-01-10T13:30:35.376Z"
   },
   {
    "duration": 7,
    "start_time": "2022-01-10T13:30:36.192Z"
   },
   {
    "duration": 13,
    "start_time": "2022-01-10T13:30:40.168Z"
   },
   {
    "duration": 45,
    "start_time": "2022-01-10T13:30:52.500Z"
   },
   {
    "duration": 20,
    "start_time": "2022-01-10T13:31:12.801Z"
   },
   {
    "duration": 31,
    "start_time": "2022-01-10T13:31:13.012Z"
   },
   {
    "duration": 22,
    "start_time": "2022-01-10T13:31:13.765Z"
   },
   {
    "duration": 35,
    "start_time": "2022-01-10T13:31:14.095Z"
   },
   {
    "duration": 54,
    "start_time": "2022-01-10T13:31:16.221Z"
   },
   {
    "duration": 24,
    "start_time": "2022-01-10T13:31:38.024Z"
   },
   {
    "duration": 38,
    "start_time": "2022-01-10T13:31:41.069Z"
   },
   {
    "duration": 34,
    "start_time": "2022-01-10T13:32:04.516Z"
   },
   {
    "duration": 20,
    "start_time": "2022-01-10T13:36:03.616Z"
   },
   {
    "duration": 327,
    "start_time": "2022-01-10T13:36:35.052Z"
   },
   {
    "duration": 23,
    "start_time": "2022-01-10T13:36:48.728Z"
   },
   {
    "duration": 23,
    "start_time": "2022-01-10T13:37:15.813Z"
   },
   {
    "duration": 29,
    "start_time": "2022-01-10T13:37:24.488Z"
   },
   {
    "duration": 13,
    "start_time": "2022-01-10T13:37:50.152Z"
   },
   {
    "duration": 16,
    "start_time": "2022-01-10T13:38:01.544Z"
   },
   {
    "duration": 4,
    "start_time": "2022-01-10T13:39:30.912Z"
   },
   {
    "duration": 3,
    "start_time": "2022-01-10T13:39:34.400Z"
   },
   {
    "duration": 13,
    "start_time": "2022-01-10T13:40:19.144Z"
   },
   {
    "duration": 12,
    "start_time": "2022-01-10T13:40:31.716Z"
   },
   {
    "duration": 798,
    "start_time": "2022-01-10T13:49:05.669Z"
   },
   {
    "duration": 5,
    "start_time": "2022-01-10T13:50:10.325Z"
   },
   {
    "duration": 500,
    "start_time": "2022-01-10T13:50:10.969Z"
   },
   {
    "duration": 52,
    "start_time": "2022-01-10T13:50:11.525Z"
   },
   {
    "duration": 362,
    "start_time": "2022-01-10T13:50:12.025Z"
   },
   {
    "duration": 166,
    "start_time": "2022-01-10T13:50:12.485Z"
   },
   {
    "duration": 217,
    "start_time": "2022-01-10T13:50:12.937Z"
   },
   {
    "duration": 49,
    "start_time": "2022-01-10T13:50:13.421Z"
   },
   {
    "duration": 12,
    "start_time": "2022-01-10T13:50:13.657Z"
   },
   {
    "duration": 102,
    "start_time": "2022-01-10T13:50:15.010Z"
   },
   {
    "duration": 7,
    "start_time": "2022-01-10T13:50:15.221Z"
   },
   {
    "duration": 7,
    "start_time": "2022-01-10T13:50:15.506Z"
   },
   {
    "duration": 6,
    "start_time": "2022-01-10T13:50:15.805Z"
   },
   {
    "duration": 7,
    "start_time": "2022-01-10T13:50:16.049Z"
   },
   {
    "duration": 6,
    "start_time": "2022-01-10T13:50:16.289Z"
   },
   {
    "duration": 13,
    "start_time": "2022-01-10T13:50:17.413Z"
   },
   {
    "duration": 11,
    "start_time": "2022-01-10T13:50:17.849Z"
   },
   {
    "duration": 13,
    "start_time": "2022-01-10T13:50:18.965Z"
   },
   {
    "duration": 34,
    "start_time": "2022-01-10T13:50:19.825Z"
   },
   {
    "duration": 7,
    "start_time": "2022-01-10T13:50:20.173Z"
   },
   {
    "duration": 13,
    "start_time": "2022-01-10T13:50:20.669Z"
   },
   {
    "duration": 43,
    "start_time": "2022-01-10T13:50:21.053Z"
   },
   {
    "duration": 19,
    "start_time": "2022-01-10T13:50:22.321Z"
   },
   {
    "duration": 30,
    "start_time": "2022-01-10T13:50:22.657Z"
   },
   {
    "duration": 23,
    "start_time": "2022-01-10T13:50:25.125Z"
   },
   {
    "duration": 33,
    "start_time": "2022-01-10T13:50:25.469Z"
   },
   {
    "duration": 53,
    "start_time": "2022-01-10T13:50:27.045Z"
   },
   {
    "duration": 21,
    "start_time": "2022-01-10T13:50:28.426Z"
   },
   {
    "duration": 3,
    "start_time": "2022-01-10T13:50:29.105Z"
   },
   {
    "duration": 2,
    "start_time": "2022-01-10T13:50:29.361Z"
   },
   {
    "duration": 7,
    "start_time": "2022-01-10T13:51:21.437Z"
   },
   {
    "duration": 15,
    "start_time": "2022-01-10T13:51:22.629Z"
   },
   {
    "duration": 13,
    "start_time": "2022-01-10T13:51:23.105Z"
   },
   {
    "duration": 12,
    "start_time": "2022-01-10T13:51:23.525Z"
   },
   {
    "duration": 8,
    "start_time": "2022-01-10T13:51:42.793Z"
   },
   {
    "duration": 9,
    "start_time": "2022-01-10T13:51:49.321Z"
   },
   {
    "duration": 32,
    "start_time": "2022-01-10T13:51:51.549Z"
   },
   {
    "duration": 13,
    "start_time": "2022-01-10T13:55:33.845Z"
   },
   {
    "duration": 1280,
    "start_time": "2022-01-10T13:55:34.849Z"
   },
   {
    "duration": 594,
    "start_time": "2022-01-10T13:55:36.132Z"
   },
   {
    "duration": 901,
    "start_time": "2022-01-10T13:55:42.547Z"
   },
   {
    "duration": 436,
    "start_time": "2022-01-10T13:55:44.237Z"
   },
   {
    "duration": 942,
    "start_time": "2022-01-10T13:55:47.929Z"
   },
   {
    "duration": 923,
    "start_time": "2022-01-10T13:56:01.730Z"
   },
   {
    "duration": 5,
    "start_time": "2022-01-10T14:00:46.254Z"
   },
   {
    "duration": 5,
    "start_time": "2022-01-10T14:08:28.866Z"
   },
   {
    "duration": 5,
    "start_time": "2022-01-10T14:09:36.275Z"
   },
   {
    "duration": 5,
    "start_time": "2022-01-10T14:20:55.054Z"
   },
   {
    "duration": 855,
    "start_time": "2022-01-10T14:55:30.801Z"
   },
   {
    "duration": 504,
    "start_time": "2022-01-10T14:56:39.201Z"
   },
   {
    "duration": 518,
    "start_time": "2022-01-10T14:57:15.178Z"
   },
   {
    "duration": 530,
    "start_time": "2022-01-10T14:57:25.442Z"
   },
   {
    "duration": 524,
    "start_time": "2022-01-10T14:57:47.305Z"
   },
   {
    "duration": 920,
    "start_time": "2022-01-10T15:00:23.714Z"
   },
   {
    "duration": 834,
    "start_time": "2022-01-10T15:00:33.489Z"
   },
   {
    "duration": 490,
    "start_time": "2022-01-10T15:02:31.849Z"
   },
   {
    "duration": 527,
    "start_time": "2022-01-10T15:02:55.058Z"
   },
   {
    "duration": 487,
    "start_time": "2022-01-10T15:03:33.382Z"
   },
   {
    "duration": 482,
    "start_time": "2022-01-10T15:13:33.232Z"
   },
   {
    "duration": 495,
    "start_time": "2022-01-10T15:18:13.962Z"
   },
   {
    "duration": 858,
    "start_time": "2022-01-10T15:21:39.879Z"
   },
   {
    "duration": 496,
    "start_time": "2022-01-10T15:22:50.759Z"
   },
   {
    "duration": 975,
    "start_time": "2022-01-10T15:24:51.631Z"
   },
   {
    "duration": 488,
    "start_time": "2022-01-10T15:27:40.515Z"
   },
   {
    "duration": 508,
    "start_time": "2022-01-10T15:28:38.471Z"
   },
   {
    "duration": 6,
    "start_time": "2022-01-10T15:29:20.112Z"
   },
   {
    "duration": 498,
    "start_time": "2022-01-10T15:29:20.979Z"
   },
   {
    "duration": 52,
    "start_time": "2022-01-10T15:29:21.575Z"
   },
   {
    "duration": 397,
    "start_time": "2022-01-10T15:29:22.847Z"
   },
   {
    "duration": 184,
    "start_time": "2022-01-10T15:29:25.611Z"
   },
   {
    "duration": 221,
    "start_time": "2022-01-10T15:29:27.075Z"
   },
   {
    "duration": 50,
    "start_time": "2022-01-10T15:29:28.459Z"
   },
   {
    "duration": 474,
    "start_time": "2022-01-10T15:30:17.463Z"
   },
   {
    "duration": 9051,
    "start_time": "2022-01-10T15:31:29.807Z"
   },
   {
    "duration": 501,
    "start_time": "2022-01-10T15:31:41.935Z"
   },
   {
    "duration": 408,
    "start_time": "2022-01-10T15:38:55.764Z"
   },
   {
    "duration": 434,
    "start_time": "2022-01-10T15:39:06.932Z"
   },
   {
    "duration": 3,
    "start_time": "2022-01-10T15:39:12.908Z"
   },
   {
    "duration": 1115,
    "start_time": "2022-01-10T15:39:52.956Z"
   },
   {
    "duration": 1209,
    "start_time": "2022-01-10T15:40:00.700Z"
   },
   {
    "duration": 6,
    "start_time": "2022-01-10T15:40:10.881Z"
   },
   {
    "duration": 708,
    "start_time": "2022-01-10T15:40:10.889Z"
   },
   {
    "duration": 49,
    "start_time": "2022-01-10T15:40:11.600Z"
   },
   {
    "duration": 540,
    "start_time": "2022-01-10T15:40:11.651Z"
   },
   {
    "duration": 193,
    "start_time": "2022-01-10T15:40:12.193Z"
   },
   {
    "duration": 247,
    "start_time": "2022-01-10T15:40:12.389Z"
   },
   {
    "duration": 47,
    "start_time": "2022-01-10T15:40:12.638Z"
   },
   {
    "duration": 242,
    "start_time": "2022-01-10T15:40:12.687Z"
   },
   {
    "duration": 635,
    "start_time": "2022-01-10T15:40:12.955Z"
   },
   {
    "duration": 104,
    "start_time": "2022-01-10T15:40:13.780Z"
   },
   {
    "duration": 55,
    "start_time": "2022-01-10T15:40:13.984Z"
   },
   {
    "duration": 44,
    "start_time": "2022-01-10T15:40:14.184Z"
   },
   {
    "duration": 54,
    "start_time": "2022-01-10T15:40:14.384Z"
   },
   {
    "duration": 23,
    "start_time": "2022-01-10T15:40:14.584Z"
   },
   {
    "duration": 38,
    "start_time": "2022-01-10T15:40:14.792Z"
   },
   {
    "duration": 13,
    "start_time": "2022-01-10T15:40:15.604Z"
   },
   {
    "duration": 16,
    "start_time": "2022-01-10T15:40:15.808Z"
   },
   {
    "duration": 12,
    "start_time": "2022-01-10T15:40:16.660Z"
   },
   {
    "duration": 30,
    "start_time": "2022-01-10T15:40:17.308Z"
   },
   {
    "duration": 29,
    "start_time": "2022-01-10T15:40:17.506Z"
   },
   {
    "duration": 92,
    "start_time": "2022-01-10T15:40:17.716Z"
   },
   {
    "duration": 154,
    "start_time": "2022-01-10T15:40:17.952Z"
   },
   {
    "duration": 19,
    "start_time": "2022-01-10T15:40:18.616Z"
   },
   {
    "duration": 32,
    "start_time": "2022-01-10T15:40:18.832Z"
   },
   {
    "duration": 22,
    "start_time": "2022-01-10T15:40:19.572Z"
   },
   {
    "duration": 155,
    "start_time": "2022-01-10T15:40:19.800Z"
   },
   {
    "duration": 57,
    "start_time": "2022-01-10T15:40:21.042Z"
   },
   {
    "duration": 20,
    "start_time": "2022-01-10T15:40:22.188Z"
   },
   {
    "duration": 3,
    "start_time": "2022-01-10T15:40:22.608Z"
   },
   {
    "duration": 3,
    "start_time": "2022-01-10T15:40:22.984Z"
   },
   {
    "duration": 3,
    "start_time": "2022-01-10T15:40:23.316Z"
   },
   {
    "duration": 9,
    "start_time": "2022-01-10T15:40:24.264Z"
   },
   {
    "duration": 17,
    "start_time": "2022-01-10T15:40:24.825Z"
   },
   {
    "duration": 48,
    "start_time": "2022-01-10T15:40:25.136Z"
   },
   {
    "duration": 12,
    "start_time": "2022-01-10T15:40:25.488Z"
   },
   {
    "duration": 7,
    "start_time": "2022-01-10T15:40:27.665Z"
   },
   {
    "duration": 9,
    "start_time": "2022-01-10T15:40:28.260Z"
   },
   {
    "duration": 32,
    "start_time": "2022-01-10T15:40:30.872Z"
   },
   {
    "duration": 13,
    "start_time": "2022-01-10T15:40:33.276Z"
   },
   {
    "duration": 942,
    "start_time": "2022-01-10T15:40:35.826Z"
   },
   {
    "duration": 496,
    "start_time": "2022-01-10T15:40:38.404Z"
   },
   {
    "duration": 851,
    "start_time": "2022-01-10T15:40:40.396Z"
   },
   {
    "duration": 510,
    "start_time": "2022-01-10T15:40:43.509Z"
   },
   {
    "duration": 890,
    "start_time": "2022-01-10T15:40:47.504Z"
   },
   {
    "duration": 993,
    "start_time": "2022-01-10T15:40:52.381Z"
   },
   {
    "duration": 480,
    "start_time": "2022-01-10T15:41:53.880Z"
   },
   {
    "duration": 495,
    "start_time": "2022-01-10T15:42:07.328Z"
   },
   {
    "duration": 744,
    "start_time": "2022-01-10T15:57:37.813Z"
   },
   {
    "duration": 287,
    "start_time": "2022-01-10T16:30:43.959Z"
   },
   {
    "duration": 8,
    "start_time": "2022-01-10T16:30:57.382Z"
   },
   {
    "duration": 6,
    "start_time": "2022-01-10T16:37:33.263Z"
   },
   {
    "duration": 8,
    "start_time": "2022-01-10T16:39:14.337Z"
   },
   {
    "duration": 11,
    "start_time": "2022-01-10T16:39:56.623Z"
   },
   {
    "duration": 17,
    "start_time": "2022-01-10T16:40:22.859Z"
   },
   {
    "duration": 13,
    "start_time": "2022-01-10T16:45:39.531Z"
   },
   {
    "duration": 4,
    "start_time": "2022-01-10T16:46:26.279Z"
   },
   {
    "duration": 7,
    "start_time": "2022-01-10T16:50:44.231Z"
   },
   {
    "duration": 7,
    "start_time": "2022-01-10T16:53:55.676Z"
   },
   {
    "duration": 290,
    "start_time": "2022-01-10T16:56:26.140Z"
   },
   {
    "duration": 6,
    "start_time": "2022-01-10T16:56:43.603Z"
   },
   {
    "duration": 34,
    "start_time": "2022-01-10T16:56:48.828Z"
   },
   {
    "duration": 6,
    "start_time": "2022-01-10T16:57:45.724Z"
   },
   {
    "duration": 281,
    "start_time": "2022-01-10T16:58:16.944Z"
   },
   {
    "duration": 92,
    "start_time": "2022-01-10T16:58:27.024Z"
   },
   {
    "duration": 6,
    "start_time": "2022-01-10T16:58:39.747Z"
   },
   {
    "duration": 5,
    "start_time": "2022-01-10T16:58:54.660Z"
   },
   {
    "duration": 6,
    "start_time": "2022-01-10T17:27:58.897Z"
   },
   {
    "duration": 517,
    "start_time": "2022-01-10T17:27:59.681Z"
   },
   {
    "duration": 51,
    "start_time": "2022-01-10T17:28:00.201Z"
   },
   {
    "duration": 377,
    "start_time": "2022-01-10T17:28:00.349Z"
   },
   {
    "duration": 172,
    "start_time": "2022-01-10T17:28:00.728Z"
   },
   {
    "duration": 198,
    "start_time": "2022-01-10T17:28:01.021Z"
   },
   {
    "duration": 45,
    "start_time": "2022-01-10T17:28:01.357Z"
   },
   {
    "duration": 12,
    "start_time": "2022-01-10T17:28:01.541Z"
   },
   {
    "duration": 110,
    "start_time": "2022-01-10T17:28:02.426Z"
   },
   {
    "duration": 6,
    "start_time": "2022-01-10T17:28:02.597Z"
   },
   {
    "duration": 7,
    "start_time": "2022-01-10T17:28:02.773Z"
   },
   {
    "duration": 7,
    "start_time": "2022-01-10T17:28:02.949Z"
   },
   {
    "duration": 7,
    "start_time": "2022-01-10T17:28:03.126Z"
   },
   {
    "duration": 8,
    "start_time": "2022-01-10T17:28:03.301Z"
   },
   {
    "duration": 13,
    "start_time": "2022-01-10T17:28:04.029Z"
   },
   {
    "duration": 12,
    "start_time": "2022-01-10T17:28:04.217Z"
   },
   {
    "duration": 12,
    "start_time": "2022-01-10T17:28:04.977Z"
   },
   {
    "duration": 30,
    "start_time": "2022-01-10T17:28:05.541Z"
   },
   {
    "duration": 7,
    "start_time": "2022-01-10T17:28:05.725Z"
   },
   {
    "duration": 14,
    "start_time": "2022-01-10T17:28:05.917Z"
   },
   {
    "duration": 48,
    "start_time": "2022-01-10T17:28:06.121Z"
   },
   {
    "duration": 20,
    "start_time": "2022-01-10T17:28:06.697Z"
   },
   {
    "duration": 32,
    "start_time": "2022-01-10T17:28:06.894Z"
   },
   {
    "duration": 22,
    "start_time": "2022-01-10T17:28:07.477Z"
   },
   {
    "duration": 33,
    "start_time": "2022-01-10T17:28:07.669Z"
   },
   {
    "duration": 62,
    "start_time": "2022-01-10T17:28:09.856Z"
   },
   {
    "duration": 19,
    "start_time": "2022-01-10T17:28:09.921Z"
   },
   {
    "duration": 9,
    "start_time": "2022-01-10T17:28:09.944Z"
   },
   {
    "duration": 18,
    "start_time": "2022-01-10T17:28:10.218Z"
   },
   {
    "duration": 16,
    "start_time": "2022-01-10T17:28:10.401Z"
   },
   {
    "duration": 15,
    "start_time": "2022-01-10T17:28:10.610Z"
   },
   {
    "duration": 9,
    "start_time": "2022-01-10T17:28:11.366Z"
   },
   {
    "duration": 9,
    "start_time": "2022-01-10T17:28:11.549Z"
   },
   {
    "duration": 33,
    "start_time": "2022-01-10T17:28:12.309Z"
   },
   {
    "duration": 17,
    "start_time": "2022-01-10T17:28:13.113Z"
   },
   {
    "duration": 934,
    "start_time": "2022-01-10T17:28:13.881Z"
   },
   {
    "duration": 487,
    "start_time": "2022-01-10T17:28:14.818Z"
   },
   {
    "duration": 795,
    "start_time": "2022-01-10T17:28:15.308Z"
   },
   {
    "duration": 498,
    "start_time": "2022-01-10T17:28:16.107Z"
   },
   {
    "duration": 968,
    "start_time": "2022-01-10T17:28:16.609Z"
   },
   {
    "duration": 577,
    "start_time": "2022-01-10T17:28:17.581Z"
   },
   {
    "duration": 8,
    "start_time": "2022-01-10T17:28:18.162Z"
   },
   {
    "duration": 9,
    "start_time": "2022-01-10T17:28:18.173Z"
   },
   {
    "duration": 13,
    "start_time": "2022-01-10T17:28:18.373Z"
   },
   {
    "duration": 7,
    "start_time": "2022-01-10T17:28:18.581Z"
   },
   {
    "duration": 1410,
    "start_time": "2022-01-12T05:08:01.770Z"
   },
   {
    "duration": 526,
    "start_time": "2022-01-12T05:08:03.183Z"
   },
   {
    "duration": 53,
    "start_time": "2022-01-12T05:08:03.713Z"
   },
   {
    "duration": 452,
    "start_time": "2022-01-12T05:08:03.769Z"
   },
   {
    "duration": 199,
    "start_time": "2022-01-12T05:08:04.223Z"
   },
   {
    "duration": 261,
    "start_time": "2022-01-12T05:08:04.424Z"
   },
   {
    "duration": 62,
    "start_time": "2022-01-12T05:08:04.688Z"
   },
   {
    "duration": 12,
    "start_time": "2022-01-12T05:08:04.753Z"
   },
   {
    "duration": 135,
    "start_time": "2022-01-12T05:08:04.772Z"
   },
   {
    "duration": 14,
    "start_time": "2022-01-12T05:08:04.910Z"
   },
   {
    "duration": 8,
    "start_time": "2022-01-12T05:08:04.926Z"
   },
   {
    "duration": 19,
    "start_time": "2022-01-12T05:08:04.936Z"
   },
   {
    "duration": 10,
    "start_time": "2022-01-12T05:08:04.957Z"
   },
   {
    "duration": 19,
    "start_time": "2022-01-12T05:08:04.969Z"
   },
   {
    "duration": 36,
    "start_time": "2022-01-12T05:08:04.990Z"
   },
   {
    "duration": 23,
    "start_time": "2022-01-12T05:08:05.030Z"
   },
   {
    "duration": 17,
    "start_time": "2022-01-12T05:08:05.055Z"
   },
   {
    "duration": 45,
    "start_time": "2022-01-12T05:08:05.074Z"
   },
   {
    "duration": 6,
    "start_time": "2022-01-12T05:08:05.121Z"
   },
   {
    "duration": 19,
    "start_time": "2022-01-12T05:08:05.130Z"
   },
   {
    "duration": 67,
    "start_time": "2022-01-12T05:08:05.151Z"
   },
   {
    "duration": 19,
    "start_time": "2022-01-12T05:08:05.221Z"
   },
   {
    "duration": 30,
    "start_time": "2022-01-12T05:08:05.242Z"
   },
   {
    "duration": 47,
    "start_time": "2022-01-12T05:08:05.275Z"
   },
   {
    "duration": 34,
    "start_time": "2022-01-12T05:08:05.324Z"
   },
   {
    "duration": 75,
    "start_time": "2022-01-12T05:08:05.360Z"
   },
   {
    "duration": 22,
    "start_time": "2022-01-12T05:08:05.440Z"
   },
   {
    "duration": 7,
    "start_time": "2022-01-12T05:08:05.465Z"
   },
   {
    "duration": 17,
    "start_time": "2022-01-12T05:08:05.474Z"
   },
   {
    "duration": 13,
    "start_time": "2022-01-12T05:08:05.518Z"
   },
   {
    "duration": 12,
    "start_time": "2022-01-12T05:08:05.534Z"
   },
   {
    "duration": 7,
    "start_time": "2022-01-12T05:08:05.549Z"
   },
   {
    "duration": 10,
    "start_time": "2022-01-12T05:08:05.558Z"
   },
   {
    "duration": 73,
    "start_time": "2022-01-12T05:08:05.571Z"
   },
   {
    "duration": 23,
    "start_time": "2022-01-12T05:08:05.646Z"
   },
   {
    "duration": 871,
    "start_time": "2022-01-12T05:08:05.671Z"
   },
   {
    "duration": 507,
    "start_time": "2022-01-12T05:08:06.544Z"
   },
   {
    "duration": 841,
    "start_time": "2022-01-12T05:08:07.054Z"
   },
   {
    "duration": 504,
    "start_time": "2022-01-12T05:08:07.897Z"
   },
   {
    "duration": 935,
    "start_time": "2022-01-12T05:08:08.404Z"
   },
   {
    "duration": 493,
    "start_time": "2022-01-12T05:08:09.341Z"
   },
   {
    "duration": 6,
    "start_time": "2022-01-12T05:08:09.836Z"
   },
   {
    "duration": 7,
    "start_time": "2022-01-12T05:08:09.844Z"
   },
   {
    "duration": 13,
    "start_time": "2022-01-12T05:08:09.853Z"
   },
   {
    "duration": 6,
    "start_time": "2022-01-12T05:08:09.868Z"
   },
   {
    "duration": 5,
    "start_time": "2022-01-12T05:10:36.538Z"
   },
   {
    "duration": 7,
    "start_time": "2022-01-12T05:11:31.715Z"
   },
   {
    "duration": 78,
    "start_time": "2022-01-12T05:19:08.957Z"
   },
   {
    "duration": 404,
    "start_time": "2022-01-12T05:19:33.488Z"
   },
   {
    "duration": 6,
    "start_time": "2022-01-12T05:19:40.235Z"
   },
   {
    "duration": 6,
    "start_time": "2022-01-12T05:19:51.068Z"
   },
   {
    "duration": 67,
    "start_time": "2022-01-12T05:23:52.424Z"
   },
   {
    "duration": 6,
    "start_time": "2022-01-12T05:24:08.318Z"
   },
   {
    "duration": 9,
    "start_time": "2022-01-12T05:24:21.550Z"
   },
   {
    "duration": 9,
    "start_time": "2022-01-12T05:24:42.355Z"
   },
   {
    "duration": 6,
    "start_time": "2022-01-12T05:24:50.697Z"
   },
   {
    "duration": 21,
    "start_time": "2022-01-12T05:25:18.690Z"
   },
   {
    "duration": 6,
    "start_time": "2022-01-12T05:25:28.257Z"
   },
   {
    "duration": 1056,
    "start_time": "2022-01-12T18:01:11.444Z"
   },
   {
    "duration": 355,
    "start_time": "2022-01-12T18:01:15.824Z"
   },
   {
    "duration": 37,
    "start_time": "2022-01-12T18:01:16.403Z"
   },
   {
    "duration": 289,
    "start_time": "2022-01-12T18:01:16.944Z"
   },
   {
    "duration": 136,
    "start_time": "2022-01-12T18:01:17.308Z"
   },
   {
    "duration": 201,
    "start_time": "2022-01-12T18:01:17.684Z"
   },
   {
    "duration": 37,
    "start_time": "2022-01-12T18:01:18.113Z"
   },
   {
    "duration": 8,
    "start_time": "2022-01-12T18:01:18.383Z"
   },
   {
    "duration": 74,
    "start_time": "2022-01-12T18:01:20.264Z"
   },
   {
    "duration": 4,
    "start_time": "2022-01-12T18:01:20.784Z"
   },
   {
    "duration": 6,
    "start_time": "2022-01-12T18:01:21.030Z"
   },
   {
    "duration": 12,
    "start_time": "2022-01-12T18:01:21.416Z"
   },
   {
    "duration": 5,
    "start_time": "2022-01-12T18:01:21.596Z"
   },
   {
    "duration": 5,
    "start_time": "2022-01-12T18:01:21.731Z"
   },
   {
    "duration": 9,
    "start_time": "2022-01-12T18:01:23.224Z"
   },
   {
    "duration": 9,
    "start_time": "2022-01-12T18:01:23.765Z"
   },
   {
    "duration": 10,
    "start_time": "2022-01-12T18:01:24.986Z"
   },
   {
    "duration": 21,
    "start_time": "2022-01-12T18:01:26.784Z"
   },
   {
    "duration": 5,
    "start_time": "2022-01-12T18:01:27.983Z"
   },
   {
    "duration": 9,
    "start_time": "2022-01-12T18:01:28.584Z"
   },
   {
    "duration": 41,
    "start_time": "2022-01-12T18:01:30.203Z"
   },
   {
    "duration": 17,
    "start_time": "2022-01-12T18:01:31.305Z"
   },
   {
    "duration": 22,
    "start_time": "2022-01-12T18:01:31.624Z"
   },
   {
    "duration": 22,
    "start_time": "2022-01-12T18:01:32.403Z"
   },
   {
    "duration": 21,
    "start_time": "2022-01-12T18:01:32.944Z"
   },
   {
    "duration": 33,
    "start_time": "2022-01-12T18:01:36.264Z"
   },
   {
    "duration": 4,
    "start_time": "2022-01-12T18:01:41.644Z"
   },
   {
    "duration": 294,
    "start_time": "2022-01-12T18:02:55.825Z"
   },
   {
    "duration": 204,
    "start_time": "2022-01-12T18:04:44.263Z"
   },
   {
    "duration": 23,
    "start_time": "2022-01-12T18:04:49.030Z"
   },
   {
    "duration": 19,
    "start_time": "2022-01-12T18:05:17.844Z"
   },
   {
    "duration": 22,
    "start_time": "2022-01-12T18:05:31.583Z"
   },
   {
    "duration": 29,
    "start_time": "2022-01-12T18:06:15.645Z"
   },
   {
    "duration": 19,
    "start_time": "2022-01-12T18:06:16.683Z"
   },
   {
    "duration": 4,
    "start_time": "2022-01-12T18:06:19.253Z"
   },
   {
    "duration": 26,
    "start_time": "2022-01-12T18:06:31.603Z"
   },
   {
    "duration": 20,
    "start_time": "2022-01-12T18:07:42.664Z"
   },
   {
    "duration": 6,
    "start_time": "2022-01-12T18:10:34.044Z"
   },
   {
    "duration": 44,
    "start_time": "2022-01-12T18:10:55.404Z"
   },
   {
    "duration": 7,
    "start_time": "2022-01-12T18:10:56.464Z"
   },
   {
    "duration": 7,
    "start_time": "2022-01-12T18:11:46.625Z"
   },
   {
    "duration": 8,
    "start_time": "2022-01-12T18:11:51.124Z"
   },
   {
    "duration": 8,
    "start_time": "2022-01-12T18:14:06.924Z"
   },
   {
    "duration": 9,
    "start_time": "2022-01-12T18:14:12.124Z"
   },
   {
    "duration": 21,
    "start_time": "2022-01-12T18:15:05.404Z"
   },
   {
    "duration": 27,
    "start_time": "2022-01-12T18:17:24.146Z"
   },
   {
    "duration": 7,
    "start_time": "2022-01-12T18:17:28.704Z"
   },
   {
    "duration": 13,
    "start_time": "2022-01-12T18:17:31.564Z"
   },
   {
    "duration": 10,
    "start_time": "2022-01-12T18:18:31.825Z"
   },
   {
    "duration": 9,
    "start_time": "2022-01-12T18:18:38.304Z"
   },
   {
    "duration": 8,
    "start_time": "2022-01-12T18:18:43.545Z"
   },
   {
    "duration": 242,
    "start_time": "2022-01-12T18:18:54.004Z"
   },
   {
    "duration": 3,
    "start_time": "2022-01-12T18:19:02.504Z"
   },
   {
    "duration": 32,
    "start_time": "2022-01-12T18:19:08.264Z"
   },
   {
    "duration": 8,
    "start_time": "2022-01-12T18:19:09.932Z"
   },
   {
    "duration": 3,
    "start_time": "2022-01-12T18:19:17.380Z"
   },
   {
    "duration": 18,
    "start_time": "2022-01-12T18:19:17.624Z"
   },
   {
    "duration": 6,
    "start_time": "2022-01-12T18:25:36.604Z"
   },
   {
    "duration": 4,
    "start_time": "2022-01-12T18:25:38.086Z"
   },
   {
    "duration": 63,
    "start_time": "2022-01-12T18:27:06.200Z"
   },
   {
    "duration": 71,
    "start_time": "2022-01-12T18:27:14.263Z"
   },
   {
    "duration": 6,
    "start_time": "2022-01-12T18:28:21.423Z"
   },
   {
    "duration": 4,
    "start_time": "2022-01-12T18:28:29.743Z"
   },
   {
    "duration": 9,
    "start_time": "2022-01-12T18:28:43.982Z"
   },
   {
    "duration": 15,
    "start_time": "2022-01-12T18:29:31.163Z"
   },
   {
    "duration": 5,
    "start_time": "2022-01-12T18:29:35.882Z"
   },
   {
    "duration": 11,
    "start_time": "2022-01-12T18:29:39.302Z"
   },
   {
    "duration": 8,
    "start_time": "2022-01-12T18:29:47.363Z"
   },
   {
    "duration": 8,
    "start_time": "2022-01-12T18:29:48.342Z"
   },
   {
    "duration": 3,
    "start_time": "2022-01-12T18:30:17.131Z"
   },
   {
    "duration": 4,
    "start_time": "2022-01-12T18:30:27.883Z"
   },
   {
    "duration": 4,
    "start_time": "2022-01-12T18:30:38.443Z"
   },
   {
    "duration": 4,
    "start_time": "2022-01-12T18:30:45.762Z"
   },
   {
    "duration": 5,
    "start_time": "2022-01-12T18:31:04.003Z"
   },
   {
    "duration": 6,
    "start_time": "2022-01-12T18:31:06.903Z"
   },
   {
    "duration": 10,
    "start_time": "2022-01-12T18:32:01.143Z"
   },
   {
    "duration": 10,
    "start_time": "2022-01-12T18:32:06.102Z"
   },
   {
    "duration": 9,
    "start_time": "2022-01-12T18:32:14.303Z"
   },
   {
    "duration": 11,
    "start_time": "2022-01-12T18:32:14.663Z"
   },
   {
    "duration": 14,
    "start_time": "2022-01-12T18:32:15.008Z"
   },
   {
    "duration": 6,
    "start_time": "2022-01-12T18:32:49.483Z"
   },
   {
    "duration": 6,
    "start_time": "2022-01-12T18:32:50.442Z"
   },
   {
    "duration": 18,
    "start_time": "2022-01-12T18:32:55.643Z"
   },
   {
    "duration": 61,
    "start_time": "2022-01-12T18:34:50.182Z"
   },
   {
    "duration": 18,
    "start_time": "2022-01-12T18:34:54.942Z"
   },
   {
    "duration": 24,
    "start_time": "2022-01-12T18:34:59.424Z"
   },
   {
    "duration": 201,
    "start_time": "2022-01-12T18:35:22.603Z"
   },
   {
    "duration": 197,
    "start_time": "2022-01-12T18:35:25.891Z"
   },
   {
    "duration": 64,
    "start_time": "2022-01-12T18:35:34.982Z"
   },
   {
    "duration": 3,
    "start_time": "2022-01-12T18:35:38.343Z"
   },
   {
    "duration": 4,
    "start_time": "2022-01-12T18:35:51.102Z"
   },
   {
    "duration": 5,
    "start_time": "2022-01-12T18:35:54.862Z"
   },
   {
    "duration": 5,
    "start_time": "2022-01-12T18:36:01.883Z"
   },
   {
    "duration": 6,
    "start_time": "2022-01-12T18:37:12.443Z"
   },
   {
    "duration": 73,
    "start_time": "2022-01-12T18:37:23.283Z"
   },
   {
    "duration": 92,
    "start_time": "2022-01-12T18:37:27.363Z"
   },
   {
    "duration": 5,
    "start_time": "2022-01-12T18:37:31.682Z"
   },
   {
    "duration": 329,
    "start_time": "2022-01-12T18:37:39.795Z"
   },
   {
    "duration": 6,
    "start_time": "2022-01-12T18:37:58.703Z"
   },
   {
    "duration": 4,
    "start_time": "2022-01-12T18:39:48.662Z"
   },
   {
    "duration": 18,
    "start_time": "2022-01-12T18:39:50.643Z"
   },
   {
    "duration": 66,
    "start_time": "2022-01-12T18:53:36.941Z"
   },
   {
    "duration": 67,
    "start_time": "2022-01-12T18:54:23.024Z"
   },
   {
    "duration": 221,
    "start_time": "2022-01-12T18:54:26.923Z"
   },
   {
    "duration": 77,
    "start_time": "2022-01-12T18:54:40.302Z"
   },
   {
    "duration": 82,
    "start_time": "2022-01-12T18:55:01.583Z"
   },
   {
    "duration": 58,
    "start_time": "2022-01-12T18:55:54.814Z"
   },
   {
    "duration": 41,
    "start_time": "2022-01-12T18:56:04.962Z"
   },
   {
    "duration": 47,
    "start_time": "2022-01-12T18:56:19.711Z"
   },
   {
    "duration": 37,
    "start_time": "2022-01-12T18:56:35.742Z"
   },
   {
    "duration": 35,
    "start_time": "2022-01-12T18:56:47.361Z"
   },
   {
    "duration": 47,
    "start_time": "2022-01-12T18:57:03.063Z"
   },
   {
    "duration": 40,
    "start_time": "2022-01-12T18:57:17.438Z"
   },
   {
    "duration": 47,
    "start_time": "2022-01-12T19:00:37.822Z"
   },
   {
    "duration": 39,
    "start_time": "2022-01-12T19:00:46.922Z"
   },
   {
    "duration": 52,
    "start_time": "2022-01-12T19:01:22.702Z"
   },
   {
    "duration": 60,
    "start_time": "2022-01-12T19:01:42.443Z"
   },
   {
    "duration": 43,
    "start_time": "2022-01-12T19:02:18.829Z"
   },
   {
    "duration": 3,
    "start_time": "2022-01-12T19:03:03.963Z"
   },
   {
    "duration": 20,
    "start_time": "2022-01-12T19:03:05.422Z"
   },
   {
    "duration": 3,
    "start_time": "2022-01-12T19:03:13.898Z"
   },
   {
    "duration": 17,
    "start_time": "2022-01-12T19:03:14.183Z"
   },
   {
    "duration": 4,
    "start_time": "2022-01-12T19:03:24.361Z"
   },
   {
    "duration": 20,
    "start_time": "2022-01-12T19:03:24.623Z"
   },
   {
    "duration": 191,
    "start_time": "2022-01-12T19:03:55.542Z"
   },
   {
    "duration": 233,
    "start_time": "2022-01-12T19:04:03.571Z"
   },
   {
    "duration": 7,
    "start_time": "2022-01-12T19:04:25.382Z"
   },
   {
    "duration": 4,
    "start_time": "2022-01-12T19:04:47.342Z"
   },
   {
    "duration": 401,
    "start_time": "2022-01-12T19:04:48.162Z"
   },
   {
    "duration": 53,
    "start_time": "2022-01-12T19:04:49.270Z"
   },
   {
    "duration": 311,
    "start_time": "2022-01-12T19:04:50.102Z"
   },
   {
    "duration": 132,
    "start_time": "2022-01-12T19:04:51.382Z"
   },
   {
    "duration": 191,
    "start_time": "2022-01-12T19:04:52.942Z"
   },
   {
    "duration": 41,
    "start_time": "2022-01-12T19:04:57.522Z"
   },
   {
    "duration": 10,
    "start_time": "2022-01-12T19:04:58.103Z"
   },
   {
    "duration": 198,
    "start_time": "2022-01-12T19:06:12.521Z"
   },
   {
    "duration": 8,
    "start_time": "2022-01-12T19:06:18.751Z"
   },
   {
    "duration": 3,
    "start_time": "2022-01-12T19:06:23.322Z"
   },
   {
    "duration": 68,
    "start_time": "2022-01-12T19:06:27.943Z"
   },
   {
    "duration": 4,
    "start_time": "2022-01-12T19:06:28.342Z"
   },
   {
    "duration": 6,
    "start_time": "2022-01-12T19:06:29.493Z"
   },
   {
    "duration": 5,
    "start_time": "2022-01-12T19:06:29.742Z"
   },
   {
    "duration": 6,
    "start_time": "2022-01-12T19:06:30.022Z"
   },
   {
    "duration": 6,
    "start_time": "2022-01-12T19:06:30.282Z"
   },
   {
    "duration": 10,
    "start_time": "2022-01-12T19:06:31.922Z"
   },
   {
    "duration": 9,
    "start_time": "2022-01-12T19:06:32.342Z"
   },
   {
    "duration": 7,
    "start_time": "2022-01-12T19:06:33.702Z"
   },
   {
    "duration": 19,
    "start_time": "2022-01-12T19:06:34.838Z"
   },
   {
    "duration": 5,
    "start_time": "2022-01-12T19:06:35.161Z"
   },
   {
    "duration": 8,
    "start_time": "2022-01-12T19:06:35.642Z"
   },
   {
    "duration": 25,
    "start_time": "2022-01-12T19:06:36.102Z"
   },
   {
    "duration": 13,
    "start_time": "2022-01-12T19:06:37.183Z"
   },
   {
    "duration": 20,
    "start_time": "2022-01-12T19:06:37.422Z"
   },
   {
    "duration": 15,
    "start_time": "2022-01-12T19:06:38.162Z"
   },
   {
    "duration": 22,
    "start_time": "2022-01-12T19:06:38.602Z"
   },
   {
    "duration": 33,
    "start_time": "2022-01-12T19:06:41.822Z"
   },
   {
    "duration": 7,
    "start_time": "2022-01-12T19:06:46.181Z"
   },
   {
    "duration": 2,
    "start_time": "2022-01-12T19:06:46.842Z"
   },
   {
    "duration": 14,
    "start_time": "2022-01-12T19:06:47.213Z"
   },
   {
    "duration": 4,
    "start_time": "2022-01-12T19:07:01.062Z"
   },
   {
    "duration": 4,
    "start_time": "2022-01-12T19:07:01.303Z"
   },
   {
    "duration": 17,
    "start_time": "2022-01-12T19:07:36.861Z"
   },
   {
    "duration": 4,
    "start_time": "2022-01-12T19:07:47.662Z"
   },
   {
    "duration": 4,
    "start_time": "2022-01-12T19:07:48.382Z"
   },
   {
    "duration": 9,
    "start_time": "2022-01-12T19:08:08.262Z"
   },
   {
    "duration": 5,
    "start_time": "2022-01-12T19:08:08.642Z"
   },
   {
    "duration": 9,
    "start_time": "2022-01-12T19:08:09.781Z"
   },
   {
    "duration": 12,
    "start_time": "2022-01-12T19:08:17.750Z"
   },
   {
    "duration": 5,
    "start_time": "2022-01-12T19:08:20.495Z"
   },
   {
    "duration": 12,
    "start_time": "2022-01-12T19:08:21.603Z"
   },
   {
    "duration": 11,
    "start_time": "2022-01-12T19:08:22.281Z"
   },
   {
    "duration": 10,
    "start_time": "2022-01-12T19:08:23.202Z"
   },
   {
    "duration": 5,
    "start_time": "2022-01-12T19:08:27.442Z"
   },
   {
    "duration": 5,
    "start_time": "2022-01-12T19:08:30.422Z"
   },
   {
    "duration": 6,
    "start_time": "2022-01-12T19:08:33.762Z"
   },
   {
    "duration": 187,
    "start_time": "2022-01-12T19:08:56.862Z"
   },
   {
    "duration": 215,
    "start_time": "2022-01-12T19:09:41.561Z"
   },
   {
    "duration": 38,
    "start_time": "2022-01-12T19:10:02.702Z"
   },
   {
    "duration": 40,
    "start_time": "2022-01-12T19:19:20.967Z"
   },
   {
    "duration": 18,
    "start_time": "2022-01-12T19:25:28.907Z"
   },
   {
    "duration": 8,
    "start_time": "2022-01-12T19:25:48.461Z"
   },
   {
    "duration": 565,
    "start_time": "2022-01-12T19:25:52.681Z"
   },
   {
    "duration": 273,
    "start_time": "2022-01-12T19:25:55.621Z"
   },
   {
    "duration": 528,
    "start_time": "2022-01-12T19:26:28.521Z"
   },
   {
    "duration": 280,
    "start_time": "2022-01-12T19:26:29.942Z"
   },
   {
    "duration": 565,
    "start_time": "2022-01-12T19:26:36.602Z"
   },
   {
    "duration": 270,
    "start_time": "2022-01-12T19:26:38.081Z"
   },
   {
    "duration": 542,
    "start_time": "2022-01-12T19:27:08.941Z"
   },
   {
    "duration": 280,
    "start_time": "2022-01-12T19:27:12.842Z"
   },
   {
    "duration": 4,
    "start_time": "2022-01-12T19:28:25.142Z"
   },
   {
    "duration": 5,
    "start_time": "2022-01-12T19:28:29.741Z"
   },
   {
    "duration": 7,
    "start_time": "2022-01-12T19:28:34.282Z"
   },
   {
    "duration": 5,
    "start_time": "2022-01-12T19:28:35.421Z"
   },
   {
    "duration": 16,
    "start_time": "2022-01-12T19:33:26.491Z"
   },
   {
    "duration": 10,
    "start_time": "2022-01-12T19:38:38.325Z"
   },
   {
    "duration": 5,
    "start_time": "2022-01-12T19:46:28.222Z"
   },
   {
    "duration": 360,
    "start_time": "2022-01-12T19:46:29.162Z"
   },
   {
    "duration": 31,
    "start_time": "2022-01-12T19:46:29.562Z"
   },
   {
    "duration": 269,
    "start_time": "2022-01-12T19:46:29.902Z"
   },
   {
    "duration": 128,
    "start_time": "2022-01-12T19:46:30.302Z"
   },
   {
    "duration": 171,
    "start_time": "2022-01-12T19:46:30.702Z"
   },
   {
    "duration": 26,
    "start_time": "2022-01-12T19:46:31.082Z"
   },
   {
    "duration": 7,
    "start_time": "2022-01-12T19:46:31.282Z"
   },
   {
    "duration": 2,
    "start_time": "2022-01-12T19:46:31.483Z"
   },
   {
    "duration": 66,
    "start_time": "2022-01-12T19:46:32.321Z"
   },
   {
    "duration": 4,
    "start_time": "2022-01-12T19:46:32.502Z"
   },
   {
    "duration": 5,
    "start_time": "2022-01-12T19:46:32.730Z"
   },
   {
    "duration": 7,
    "start_time": "2022-01-12T19:46:32.922Z"
   },
   {
    "duration": 6,
    "start_time": "2022-01-12T19:46:33.123Z"
   },
   {
    "duration": 6,
    "start_time": "2022-01-12T19:46:33.323Z"
   },
   {
    "duration": 8,
    "start_time": "2022-01-12T19:46:34.103Z"
   },
   {
    "duration": 13,
    "start_time": "2022-01-12T19:46:34.318Z"
   },
   {
    "duration": 8,
    "start_time": "2022-01-12T19:46:35.170Z"
   },
   {
    "duration": 18,
    "start_time": "2022-01-12T19:46:36.043Z"
   },
   {
    "duration": 5,
    "start_time": "2022-01-12T19:46:36.282Z"
   },
   {
    "duration": 8,
    "start_time": "2022-01-12T19:46:36.523Z"
   },
   {
    "duration": 34,
    "start_time": "2022-01-12T19:46:36.802Z"
   },
   {
    "duration": 18,
    "start_time": "2022-01-12T19:46:37.522Z"
   },
   {
    "duration": 19,
    "start_time": "2022-01-12T19:46:37.983Z"
   },
   {
    "duration": 15,
    "start_time": "2022-01-12T19:46:38.742Z"
   },
   {
    "duration": 22,
    "start_time": "2022-01-12T19:46:38.962Z"
   },
   {
    "duration": 34,
    "start_time": "2022-01-12T19:46:39.870Z"
   },
   {
    "duration": 11,
    "start_time": "2022-01-12T19:46:40.123Z"
   },
   {
    "duration": 15,
    "start_time": "2022-01-12T19:46:40.382Z"
   },
   {
    "duration": 7,
    "start_time": "2022-01-12T19:46:41.642Z"
   },
   {
    "duration": 4,
    "start_time": "2022-01-12T19:46:41.942Z"
   },
   {
    "duration": 7,
    "start_time": "2022-01-12T19:46:42.202Z"
   },
   {
    "duration": 10,
    "start_time": "2022-01-12T19:46:43.052Z"
   },
   {
    "duration": 5,
    "start_time": "2022-01-12T19:46:43.802Z"
   },
   {
    "duration": 13,
    "start_time": "2022-01-12T19:46:44.622Z"
   },
   {
    "duration": 12,
    "start_time": "2022-01-12T19:46:44.823Z"
   },
   {
    "duration": 9,
    "start_time": "2022-01-12T19:46:45.042Z"
   },
   {
    "duration": 4,
    "start_time": "2022-01-12T19:46:45.901Z"
   },
   {
    "duration": 6,
    "start_time": "2022-01-12T19:46:46.107Z"
   },
   {
    "duration": 6,
    "start_time": "2022-01-12T19:46:46.981Z"
   },
   {
    "duration": 40,
    "start_time": "2022-01-12T19:46:47.623Z"
   },
   {
    "duration": 19,
    "start_time": "2022-01-12T19:46:48.322Z"
   },
   {
    "duration": 8,
    "start_time": "2022-01-12T19:46:49.402Z"
   },
   {
    "duration": 604,
    "start_time": "2022-01-12T19:46:51.463Z"
   },
   {
    "duration": 283,
    "start_time": "2022-01-12T19:46:52.570Z"
   },
   {
    "duration": 634,
    "start_time": "2022-01-12T19:46:54.163Z"
   },
   {
    "duration": 405,
    "start_time": "2022-01-12T19:46:55.583Z"
   },
   {
    "duration": 576,
    "start_time": "2022-01-12T19:46:57.492Z"
   },
   {
    "duration": 290,
    "start_time": "2022-01-12T19:46:58.162Z"
   },
   {
    "duration": 5,
    "start_time": "2022-01-12T19:47:07.810Z"
   },
   {
    "duration": 5,
    "start_time": "2022-01-12T19:47:08.269Z"
   },
   {
    "duration": 8,
    "start_time": "2022-01-12T19:47:09.129Z"
   },
   {
    "duration": 4,
    "start_time": "2022-01-12T19:47:09.370Z"
   },
   {
    "duration": 15,
    "start_time": "2022-01-12T19:47:10.750Z"
   },
   {
    "duration": 8,
    "start_time": "2022-01-12T19:47:11.150Z"
   },
   {
    "duration": 1475,
    "start_time": "2022-01-13T05:42:36.874Z"
   },
   {
    "duration": 423,
    "start_time": "2022-01-13T05:42:38.352Z"
   },
   {
    "duration": 29,
    "start_time": "2022-01-13T05:42:38.777Z"
   },
   {
    "duration": 193,
    "start_time": "2022-01-13T05:42:38.808Z"
   },
   {
    "duration": 100,
    "start_time": "2022-01-13T05:42:39.002Z"
   },
   {
    "duration": 130,
    "start_time": "2022-01-13T05:42:39.104Z"
   },
   {
    "duration": 35,
    "start_time": "2022-01-13T05:42:39.235Z"
   },
   {
    "duration": 7,
    "start_time": "2022-01-13T05:42:39.272Z"
   },
   {
    "duration": 3,
    "start_time": "2022-01-13T05:42:39.281Z"
   },
   {
    "duration": 91,
    "start_time": "2022-01-13T05:42:39.286Z"
   },
   {
    "duration": 4,
    "start_time": "2022-01-13T05:42:39.379Z"
   },
   {
    "duration": 11,
    "start_time": "2022-01-13T05:42:39.384Z"
   },
   {
    "duration": 6,
    "start_time": "2022-01-13T05:42:39.396Z"
   },
   {
    "duration": 9,
    "start_time": "2022-01-13T05:42:39.403Z"
   },
   {
    "duration": 6,
    "start_time": "2022-01-13T05:42:39.413Z"
   },
   {
    "duration": 23,
    "start_time": "2022-01-13T05:42:39.420Z"
   },
   {
    "duration": 14,
    "start_time": "2022-01-13T05:42:39.444Z"
   },
   {
    "duration": 10,
    "start_time": "2022-01-13T05:42:39.460Z"
   },
   {
    "duration": 20,
    "start_time": "2022-01-13T05:42:39.471Z"
   },
   {
    "duration": 5,
    "start_time": "2022-01-13T05:42:39.493Z"
   },
   {
    "duration": 14,
    "start_time": "2022-01-13T05:42:39.500Z"
   },
   {
    "duration": 52,
    "start_time": "2022-01-13T05:42:39.515Z"
   },
   {
    "duration": 12,
    "start_time": "2022-01-13T05:42:39.570Z"
   },
   {
    "duration": 20,
    "start_time": "2022-01-13T05:42:39.584Z"
   },
   {
    "duration": 35,
    "start_time": "2022-01-13T05:42:39.606Z"
   },
   {
    "duration": 21,
    "start_time": "2022-01-13T05:42:39.643Z"
   },
   {
    "duration": 30,
    "start_time": "2022-01-13T05:42:39.666Z"
   },
   {
    "duration": 8,
    "start_time": "2022-01-13T05:42:39.697Z"
   },
   {
    "duration": 41,
    "start_time": "2022-01-13T05:42:39.707Z"
   },
   {
    "duration": 8,
    "start_time": "2022-01-13T05:42:39.749Z"
   },
   {
    "duration": 6,
    "start_time": "2022-01-13T05:42:39.759Z"
   },
   {
    "duration": 8,
    "start_time": "2022-01-13T05:42:39.766Z"
   },
   {
    "duration": 9,
    "start_time": "2022-01-13T05:42:39.775Z"
   },
   {
    "duration": 10,
    "start_time": "2022-01-13T05:42:39.786Z"
   },
   {
    "duration": 27,
    "start_time": "2022-01-13T05:42:39.798Z"
   },
   {
    "duration": 19,
    "start_time": "2022-01-13T05:42:39.827Z"
   },
   {
    "duration": 19,
    "start_time": "2022-01-13T05:42:39.847Z"
   },
   {
    "duration": 20,
    "start_time": "2022-01-13T05:42:39.867Z"
   },
   {
    "duration": 17,
    "start_time": "2022-01-13T05:42:39.888Z"
   },
   {
    "duration": 18,
    "start_time": "2022-01-13T05:42:39.907Z"
   },
   {
    "duration": 45,
    "start_time": "2022-01-13T05:42:39.927Z"
   },
   {
    "duration": 13,
    "start_time": "2022-01-13T05:42:39.974Z"
   },
   {
    "duration": 25,
    "start_time": "2022-01-13T05:42:39.988Z"
   },
   {
    "duration": 518,
    "start_time": "2022-01-13T05:42:40.014Z"
   },
   {
    "duration": 259,
    "start_time": "2022-01-13T05:42:40.534Z"
   },
   {
    "duration": 488,
    "start_time": "2022-01-13T05:42:40.795Z"
   },
   {
    "duration": 317,
    "start_time": "2022-01-13T05:42:41.284Z"
   },
   {
    "duration": 496,
    "start_time": "2022-01-13T05:42:41.603Z"
   },
   {
    "duration": 282,
    "start_time": "2022-01-13T05:42:42.100Z"
   },
   {
    "duration": 4,
    "start_time": "2022-01-13T05:42:42.383Z"
   },
   {
    "duration": 7,
    "start_time": "2022-01-13T05:42:42.388Z"
   },
   {
    "duration": 9,
    "start_time": "2022-01-13T05:42:42.396Z"
   },
   {
    "duration": 5,
    "start_time": "2022-01-13T05:42:42.407Z"
   },
   {
    "duration": 40,
    "start_time": "2022-01-13T05:42:42.413Z"
   },
   {
    "duration": 7,
    "start_time": "2022-01-13T05:42:42.455Z"
   }
  ],
  "kernelspec": {
   "display_name": "Python 3 (ipykernel)",
   "language": "python",
   "name": "python3"
  },
  "language_info": {
   "codemirror_mode": {
    "name": "ipython",
    "version": 3
   },
   "file_extension": ".py",
   "mimetype": "text/x-python",
   "name": "python",
   "nbconvert_exporter": "python",
   "pygments_lexer": "ipython3",
   "version": "3.9.7"
  },
  "toc": {
   "base_numbering": 1,
   "nav_menu": {},
   "number_sections": true,
   "sideBar": true,
   "skip_h1_title": true,
   "title_cell": "Table of Contents",
   "title_sidebar": "Contents",
   "toc_cell": false,
   "toc_position": {
    "height": "calc(100% - 180px)",
    "left": "10px",
    "top": "150px",
    "width": "393.391px"
   },
   "toc_section_display": true,
   "toc_window_display": true
  }
 },
 "nbformat": 4,
 "nbformat_minor": 2
}
