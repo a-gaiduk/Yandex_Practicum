{
 "cells": [
  {
   "cell_type": "markdown",
   "metadata": {
    "toc": true
   },
   "source": [
    "<h1>Содержание<span class=\"tocSkip\"></span></h1>\n",
    "<div class=\"toc\"><ul class=\"toc-item\"><li><ul class=\"toc-item\"><li><span><a href=\"#Общее-впечатление\" data-toc-modified-id=\"Общее-впечатление-0.1\"><span class=\"toc-item-num\">0.1&nbsp;&nbsp;</span><font color=\"orange\">Общее впечатление</font></a></span></li><li><span><a href=\"#Общее-впечатление-(ревью-2)\" data-toc-modified-id=\"Общее-впечатление-(ревью-2)-0.2\"><span class=\"toc-item-num\">0.2&nbsp;&nbsp;</span><font color=\"orange\">Общее впечатление (ревью 2)</font></a></span></li></ul></li><li><span><a href=\"#Подготовка-данных\" data-toc-modified-id=\"Подготовка-данных-1\"><span class=\"toc-item-num\">1&nbsp;&nbsp;</span>Подготовка данных</a></span></li><li><span><a href=\"#Исследование-задачи\" data-toc-modified-id=\"Исследование-задачи-2\"><span class=\"toc-item-num\">2&nbsp;&nbsp;</span>Исследование задачи</a></span><ul class=\"toc-item\"><li><span><a href=\"#Logistic-Regression\" data-toc-modified-id=\"Logistic-Regression-2.1\"><span class=\"toc-item-num\">2.1&nbsp;&nbsp;</span>Logistic Regression</a></span></li><li><span><a href=\"#RandomForestClassifier\" data-toc-modified-id=\"RandomForestClassifier-2.2\"><span class=\"toc-item-num\">2.2&nbsp;&nbsp;</span>RandomForestClassifier</a></span></li><li><span><a href=\"#K-Nearest-Neighbors\" data-toc-modified-id=\"K-Nearest-Neighbors-2.3\"><span class=\"toc-item-num\">2.3&nbsp;&nbsp;</span>K-Nearest Neighbors</a></span></li><li><span><a href=\"#Вывод\" data-toc-modified-id=\"Вывод-2.4\"><span class=\"toc-item-num\">2.4&nbsp;&nbsp;</span>Вывод</a></span></li></ul></li><li><span><a href=\"#Борьба-с-дисбалансом\" data-toc-modified-id=\"Борьба-с-дисбалансом-3\"><span class=\"toc-item-num\">3&nbsp;&nbsp;</span>Борьба с дисбалансом</a></span><ul class=\"toc-item\"><li><span><a href=\"#Взвешивание-классов\" data-toc-modified-id=\"Взвешивание-классов-3.1\"><span class=\"toc-item-num\">3.1&nbsp;&nbsp;</span>Взвешивание классов</a></span><ul class=\"toc-item\"><li><span><a href=\"#LogisticRegression\" data-toc-modified-id=\"LogisticRegression-3.1.1\"><span class=\"toc-item-num\">3.1.1&nbsp;&nbsp;</span>LogisticRegression</a></span></li><li><span><a href=\"#RandomForestClassifier\" data-toc-modified-id=\"RandomForestClassifier-3.1.2\"><span class=\"toc-item-num\">3.1.2&nbsp;&nbsp;</span>RandomForestClassifier</a></span></li></ul></li><li><span><a href=\"#Увеличение-выборки\" data-toc-modified-id=\"Увеличение-выборки-3.2\"><span class=\"toc-item-num\">3.2&nbsp;&nbsp;</span>Увеличение выборки</a></span><ul class=\"toc-item\"><li><span><a href=\"#LogisticRegression\" data-toc-modified-id=\"LogisticRegression-3.2.1\"><span class=\"toc-item-num\">3.2.1&nbsp;&nbsp;</span>LogisticRegression</a></span></li><li><span><a href=\"#RandomForestClassifier\" data-toc-modified-id=\"RandomForestClassifier-3.2.2\"><span class=\"toc-item-num\">3.2.2&nbsp;&nbsp;</span>RandomForestClassifier</a></span></li><li><span><a href=\"#K-Nearest-Neighbors\" data-toc-modified-id=\"K-Nearest-Neighbors-3.2.3\"><span class=\"toc-item-num\">3.2.3&nbsp;&nbsp;</span>K-Nearest Neighbors</a></span></li></ul></li><li><span><a href=\"#Уменьшение-выборки\" data-toc-modified-id=\"Уменьшение-выборки-3.3\"><span class=\"toc-item-num\">3.3&nbsp;&nbsp;</span>Уменьшение выборки</a></span><ul class=\"toc-item\"><li><span><a href=\"#LogisticRegression\" data-toc-modified-id=\"LogisticRegression-3.3.1\"><span class=\"toc-item-num\">3.3.1&nbsp;&nbsp;</span>LogisticRegression</a></span></li><li><span><a href=\"#RandomForestClassifier\" data-toc-modified-id=\"RandomForestClassifier-3.3.2\"><span class=\"toc-item-num\">3.3.2&nbsp;&nbsp;</span>RandomForestClassifier</a></span></li><li><span><a href=\"#K-Nearest-Neighbors\" data-toc-modified-id=\"K-Nearest-Neighbors-3.3.3\"><span class=\"toc-item-num\">3.3.3&nbsp;&nbsp;</span>K-Nearest Neighbors</a></span></li></ul></li><li><span><a href=\"#Вывод\" data-toc-modified-id=\"Вывод-3.4\"><span class=\"toc-item-num\">3.4&nbsp;&nbsp;</span>Вывод</a></span></li></ul></li><li><span><a href=\"#Тестирование-модели\" data-toc-modified-id=\"Тестирование-модели-4\"><span class=\"toc-item-num\">4&nbsp;&nbsp;</span>Тестирование модели</a></span></li><li><span><a href=\"#Вывод\" data-toc-modified-id=\"Вывод-5\"><span class=\"toc-item-num\">5&nbsp;&nbsp;</span>Вывод</a></span></li><li><span><a href=\"#Чек-лист-готовности-проекта\" data-toc-modified-id=\"Чек-лист-готовности-проекта-6\"><span class=\"toc-item-num\">6&nbsp;&nbsp;</span>Чек-лист готовности проекта</a></span></li></ul></div>"
   ]
  },
  {
   "cell_type": "markdown",
   "metadata": {},
   "source": [
    "# Отток клиентов"
   ]
  },
  {
   "cell_type": "markdown",
   "metadata": {},
   "source": [
    "Из «Бета-Банка» стали уходить клиенты. Каждый месяц. Немного, но заметно. Банковские маркетологи посчитали: сохранять текущих клиентов дешевле, чем привлекать новых.\n",
    "\n",
    "Нужно спрогнозировать, уйдёт клиент из банка в ближайшее время или нет. \n",
    "\n",
    "Источник данных: [https://www.kaggle.com/barelydedicated/bank-customer-churn-modeling](https://www.kaggle.com/barelydedicated/bank-customer-churn-modeling)"
   ]
  },
  {
   "cell_type": "markdown",
   "metadata": {},
   "source": [
    "## Подготовка данных"
   ]
  },
  {
   "cell_type": "code",
   "execution_count": 2,
   "metadata": {},
   "outputs": [],
   "source": [
    "import pandas as pd\n",
    "from sklearn.model_selection import train_test_split\n",
    "from sklearn.tree import DecisionTreeClassifier\n",
    "from sklearn.ensemble import RandomForestClassifier\n",
    "from sklearn.linear_model import LogisticRegression\n",
    "from sklearn.neighbors import KNeighborsClassifier\n",
    "from sklearn.metrics import roc_auc_score\n",
    "\n",
    "from sklearn.metrics import f1_score\n",
    "\n",
    "from sklearn.utils import shuffle\n",
    "from sklearn.preprocessing import StandardScaler\n",
    "from sklearn.metrics import roc_curve\n",
    "\n",
    "import matplotlib.pyplot as plt\n",
    "pd.options.mode.chained_assignment = None\n",
    "\n",
    "import warnings\n",
    "warnings.simplefilter('ignore')"
   ]
  },
  {
   "cell_type": "code",
   "execution_count": 3,
   "metadata": {},
   "outputs": [],
   "source": [
    "data = pd.read_csv('/datasets/Churn.csv')"
   ]
  },
  {
   "cell_type": "code",
   "execution_count": 4,
   "metadata": {},
   "outputs": [
    {
     "name": "stdout",
     "output_type": "stream",
     "text": [
      "<class 'pandas.core.frame.DataFrame'>\n",
      "RangeIndex: 10000 entries, 0 to 9999\n",
      "Data columns (total 14 columns):\n",
      "RowNumber          10000 non-null int64\n",
      "CustomerId         10000 non-null int64\n",
      "Surname            10000 non-null object\n",
      "CreditScore        10000 non-null int64\n",
      "Geography          10000 non-null object\n",
      "Gender             10000 non-null object\n",
      "Age                10000 non-null int64\n",
      "Tenure             9091 non-null float64\n",
      "Balance            10000 non-null float64\n",
      "NumOfProducts      10000 non-null int64\n",
      "HasCrCard          10000 non-null int64\n",
      "IsActiveMember     10000 non-null int64\n",
      "EstimatedSalary    10000 non-null float64\n",
      "Exited             10000 non-null int64\n",
      "dtypes: float64(3), int64(8), object(3)\n",
      "memory usage: 1.1+ MB\n"
     ]
    }
   ],
   "source": [
    "data.info()"
   ]
  },
  {
   "cell_type": "code",
   "execution_count": null,
   "metadata": {},
   "outputs": [],
   "source": []
  },
  {
   "cell_type": "markdown",
   "metadata": {},
   "source": [
    "<div style=\"border:solid gray 2.0px; padding: 10px\"> \n",
    "    \n",
    "**Подготовим данные:**\n",
    "    \n",
    "<span style=\"color: white\">. </span>         \n",
    "    \n",
    "**1. Удалим строки в датасете у которых есть пропуски.**\n",
    "    \n",
    "     В нашем датасете пропуски есть только в столбце Tenure (сколько лет человек является клиентом банка)\n",
    "<span style=\"color: white\">. </span>         \n",
    "    \n",
    "    \n",
    "**2. Удалим столбцы, которые не пригодятся в модели:**\n",
    "- RowNumber (индекс строки в данных)\n",
    "- CustomerId (уникальный идентификатор клиента)\n",
    "- Surname (фамилия)\n",
    "    \n",
    "<span style=\"color: white\">. </span>\n",
    "    \n",
    "**3. Выполним прямое кодирование для категориальных признаков:**\n",
    "- Geography (страна проживания)\n",
    "- Gender (пол)\n",
    "    \n",
    "<span style=\"color: white\">. </span>\n",
    "    \n",
    "**4. Стандартизируем числовые признаки:**\n",
    "- CreditScore (кредитный рейтинг)\n",
    "- Age (возраст)\n",
    "- Balance (баланс на счёте)\n",
    "- NumOfProducts (количество продуктов банка, используемых клиентом)\n",
    "- EstimatedSalary (предполагаемая зарплата)\n",
    "- Tenure (сколько лет человек является клиентом банка)\n",
    "\n",
    "<span style=\"color: white\">. </span>\n",
    "    \n",
    "**5. Разделим данные на тренировочные, тестовые и валидационные данные**\n",
    "    \n",
    "    На тестовых будем учиться, на валидационных проверять, а тестовые данные оставим для финаьной проверки лучших моделей\n",
    "    \n",
    "</div>"
   ]
  },
  {
   "cell_type": "code",
   "execution_count": 5,
   "metadata": {},
   "outputs": [],
   "source": [
    "data = data.query('Tenure.notnull()')"
   ]
  },
  {
   "cell_type": "code",
   "execution_count": 6,
   "metadata": {},
   "outputs": [],
   "source": [
    "data = data.drop(['RowNumber', 'CustomerId', 'Surname'], axis=1)"
   ]
  },
  {
   "cell_type": "code",
   "execution_count": 7,
   "metadata": {},
   "outputs": [
    {
     "data": {
      "text/plain": [
       "France     4550\n",
       "Germany    2293\n",
       "Spain      2248\n",
       "Name: Geography, dtype: int64"
      ]
     },
     "execution_count": 7,
     "metadata": {},
     "output_type": "execute_result"
    }
   ],
   "source": [
    "data['Geography'].value_counts()"
   ]
  },
  {
   "cell_type": "code",
   "execution_count": null,
   "metadata": {},
   "outputs": [],
   "source": []
  },
  {
   "cell_type": "code",
   "execution_count": 9,
   "metadata": {},
   "outputs": [],
   "source": [
    "data_ohe = pd.get_dummies(data, drop_first=True)"
   ]
  },
  {
   "cell_type": "code",
   "execution_count": 10,
   "metadata": {},
   "outputs": [
    {
     "data": {
      "text/html": [
       "<div>\n",
       "<style scoped>\n",
       "    .dataframe tbody tr th:only-of-type {\n",
       "        vertical-align: middle;\n",
       "    }\n",
       "\n",
       "    .dataframe tbody tr th {\n",
       "        vertical-align: top;\n",
       "    }\n",
       "\n",
       "    .dataframe thead th {\n",
       "        text-align: right;\n",
       "    }\n",
       "</style>\n",
       "<table border=\"1\" class=\"dataframe\">\n",
       "  <thead>\n",
       "    <tr style=\"text-align: right;\">\n",
       "      <th></th>\n",
       "      <th>CreditScore</th>\n",
       "      <th>Age</th>\n",
       "      <th>Tenure</th>\n",
       "      <th>Balance</th>\n",
       "      <th>NumOfProducts</th>\n",
       "      <th>HasCrCard</th>\n",
       "      <th>IsActiveMember</th>\n",
       "      <th>EstimatedSalary</th>\n",
       "      <th>Exited</th>\n",
       "      <th>Geography_Germany</th>\n",
       "      <th>Geography_Spain</th>\n",
       "      <th>Gender_Male</th>\n",
       "    </tr>\n",
       "  </thead>\n",
       "  <tbody>\n",
       "    <tr>\n",
       "      <td>0</td>\n",
       "      <td>619</td>\n",
       "      <td>42</td>\n",
       "      <td>2.0</td>\n",
       "      <td>0.00</td>\n",
       "      <td>1</td>\n",
       "      <td>1</td>\n",
       "      <td>1</td>\n",
       "      <td>101348.88</td>\n",
       "      <td>1</td>\n",
       "      <td>0</td>\n",
       "      <td>0</td>\n",
       "      <td>0</td>\n",
       "    </tr>\n",
       "    <tr>\n",
       "      <td>1</td>\n",
       "      <td>608</td>\n",
       "      <td>41</td>\n",
       "      <td>1.0</td>\n",
       "      <td>83807.86</td>\n",
       "      <td>1</td>\n",
       "      <td>0</td>\n",
       "      <td>1</td>\n",
       "      <td>112542.58</td>\n",
       "      <td>0</td>\n",
       "      <td>0</td>\n",
       "      <td>1</td>\n",
       "      <td>0</td>\n",
       "    </tr>\n",
       "    <tr>\n",
       "      <td>2</td>\n",
       "      <td>502</td>\n",
       "      <td>42</td>\n",
       "      <td>8.0</td>\n",
       "      <td>159660.80</td>\n",
       "      <td>3</td>\n",
       "      <td>1</td>\n",
       "      <td>0</td>\n",
       "      <td>113931.57</td>\n",
       "      <td>1</td>\n",
       "      <td>0</td>\n",
       "      <td>0</td>\n",
       "      <td>0</td>\n",
       "    </tr>\n",
       "  </tbody>\n",
       "</table>\n",
       "</div>"
      ],
      "text/plain": [
       "   CreditScore  Age  Tenure    Balance  NumOfProducts  HasCrCard  \\\n",
       "0          619   42     2.0       0.00              1          1   \n",
       "1          608   41     1.0   83807.86              1          0   \n",
       "2          502   42     8.0  159660.80              3          1   \n",
       "\n",
       "   IsActiveMember  EstimatedSalary  Exited  Geography_Germany  \\\n",
       "0               1        101348.88       1                  0   \n",
       "1               1        112542.58       0                  0   \n",
       "2               0        113931.57       1                  0   \n",
       "\n",
       "   Geography_Spain  Gender_Male  \n",
       "0                0            0  \n",
       "1                1            0  \n",
       "2                0            0  "
      ]
     },
     "execution_count": 10,
     "metadata": {},
     "output_type": "execute_result"
    }
   ],
   "source": [
    "data_ohe.head(3)"
   ]
  },
  {
   "cell_type": "code",
   "execution_count": 11,
   "metadata": {},
   "outputs": [
    {
     "name": "stdout",
     "output_type": "stream",
     "text": [
      "<class 'pandas.core.frame.DataFrame'>\n",
      "Int64Index: 9091 entries, 0 to 9998\n",
      "Data columns (total 12 columns):\n",
      "CreditScore          9091 non-null int64\n",
      "Age                  9091 non-null int64\n",
      "Tenure               9091 non-null float64\n",
      "Balance              9091 non-null float64\n",
      "NumOfProducts        9091 non-null int64\n",
      "HasCrCard            9091 non-null int64\n",
      "IsActiveMember       9091 non-null int64\n",
      "EstimatedSalary      9091 non-null float64\n",
      "Exited               9091 non-null int64\n",
      "Geography_Germany    9091 non-null uint8\n",
      "Geography_Spain      9091 non-null uint8\n",
      "Gender_Male          9091 non-null uint8\n",
      "dtypes: float64(3), int64(6), uint8(3)\n",
      "memory usage: 736.9 KB\n"
     ]
    }
   ],
   "source": [
    "data_ohe.info()"
   ]
  },
  {
   "cell_type": "code",
   "execution_count": null,
   "metadata": {},
   "outputs": [],
   "source": []
  },
  {
   "cell_type": "code",
   "execution_count": 12,
   "metadata": {},
   "outputs": [
    {
     "name": "stdout",
     "output_type": "stream",
     "text": [
      "Размер исходной выборки: (9091, 12)\n",
      "Размер обучающей выборки: (5454, 12)\n",
      "Размер валидационной выборки: (1819, 12)\n",
      "Размер тестовой выборки: (1818, 12)\n"
     ]
    }
   ],
   "source": [
    "data_train, data_notrain = train_test_split(data_ohe, test_size=0.4, random_state=12345)\n",
    "data_test, data_valid = train_test_split(data_notrain, test_size=0.5, random_state=12345)\n",
    "\n",
    "print(f'Размер исходной выборки: {data_ohe.shape}')\n",
    "print(f'Размер обучающей выборки: {data_train.shape}')\n",
    "print(f'Размер валидационной выборки: {data_valid.shape}')\n",
    "print(f'Размер тестовой выборки: {data_test.shape}')"
   ]
  },
  {
   "cell_type": "code",
   "execution_count": null,
   "metadata": {},
   "outputs": [],
   "source": []
  },
  {
   "cell_type": "code",
   "execution_count": 13,
   "metadata": {},
   "outputs": [],
   "source": [
    "numeric = ['CreditScore', 'Age', 'Balance', 'NumOfProducts', 'EstimatedSalary', 'Tenure']\n",
    "scaler = StandardScaler()\n",
    "scaler.fit(data_train[numeric])\n",
    "\n",
    "data_train[numeric] = scaler.transform(data_train[numeric])\n",
    "data_valid[numeric] = scaler.transform(data_valid[numeric])\n",
    "data_test[numeric]  = scaler.transform(data_test[numeric])"
   ]
  },
  {
   "cell_type": "code",
   "execution_count": null,
   "metadata": {},
   "outputs": [],
   "source": []
  },
  {
   "cell_type": "code",
   "execution_count": 14,
   "metadata": {},
   "outputs": [],
   "source": [
    "features_train = data_train.drop('Exited', axis=1)\n",
    "target_train = data_train['Exited']\n",
    "\n",
    "features_valid = data_valid.drop('Exited', axis=1)\n",
    "target_valid = data_valid['Exited']\n",
    "\n",
    "features_test = data_test.drop('Exited', axis=1)\n",
    "target_test = data_test['Exited']"
   ]
  },
  {
   "cell_type": "markdown",
   "metadata": {},
   "source": [
    "## Исследование задачи"
   ]
  },
  {
   "cell_type": "markdown",
   "metadata": {},
   "source": [
    "<div style=\"border:solid gray 2.0px; padding: 10px\"> \n",
    "    \n",
    "    Напишем функции для подбора параметров: \n",
    "    \n",
    "     - логистической регресии\n",
    "    \n",
    "     - дерева решений. подбор параметров модели будет происходить в два этапа:\n",
    "        - на первом этапе будем подбирать max_depth(максимальную глубину деревьев), max_features(число признаков для расщепления), criterion(критерий расшепления)\n",
    "        - сохраняя параметры лучшей модели, отобранной в первом этапе, будем менять число деревьев в лесу\n",
    "    \n",
    "     - k ближайших соседей\n",
    "    \n",
    "    \n",
    "    Функции будут сохранять в DataFrame F1-меру и AUC-ROC для каждой комбинации параметров и возвращать одну строку с максимальным значением F1-меры\n",
    "</div>"
   ]
  },
  {
   "cell_type": "code",
   "execution_count": null,
   "metadata": {},
   "outputs": [],
   "source": []
  },
  {
   "cell_type": "code",
   "execution_count": 15,
   "metadata": {},
   "outputs": [
    {
     "data": {
      "text/plain": [
       "0    79.354602\n",
       "1    20.645398\n",
       "Name: Exited, dtype: float64"
      ]
     },
     "execution_count": 15,
     "metadata": {},
     "output_type": "execute_result"
    }
   ],
   "source": [
    "data_train['Exited'].value_counts()/sum(data_train['Exited'].value_counts())*100"
   ]
  },
  {
   "cell_type": "code",
   "execution_count": null,
   "metadata": {},
   "outputs": [],
   "source": []
  },
  {
   "cell_type": "code",
   "execution_count": 16,
   "metadata": {},
   "outputs": [],
   "source": [
    "def logReg(features_train, target_train, features_valid, target_valid, class_weight=None):\n",
    "    penalty = ['l2', 'l1']\n",
    "    c_values = [100, 75, 50, 25, 10, 5, 2.0, 1.0, 0.5, 0.25, 0.1, 0.01]\n",
    "\n",
    "    result_lr = pd.DataFrame(columns = ['penalty', 'c_value', 'f1', 'auc_roc']) \n",
    "    for pen in penalty:\n",
    "        for c_value in c_values:\n",
    "            lr_model = LogisticRegression(C=c_value, penalty=pen, random_state=123, class_weight=class_weight)\n",
    "            lr_model.fit(features_train, target_train)\n",
    "            lr_predict = lr_model.predict(features_valid)\n",
    "            lr_f1 = f1_score(target_valid, lr_predict)\n",
    "\n",
    "            lr_probabilities_valid = lr_model.predict_proba(features_valid)\n",
    "            lr_probabilities_one_valid = lr_probabilities_valid[:, 1]\n",
    "            lr_auc_roc = roc_auc_score(target_valid, lr_probabilities_one_valid)\n",
    "            result_lr.loc[len(result_lr)] = [pen, c_value, lr_f1, lr_auc_roc]\n",
    "\n",
    "    lr_max_f1 = result_lr['f1'].max()\n",
    "    return result_lr.query('f1==@lr_max_f1').sort_values('auc_roc', ascending=False).head(1)"
   ]
  },
  {
   "cell_type": "code",
   "execution_count": null,
   "metadata": {},
   "outputs": [],
   "source": []
  },
  {
   "cell_type": "code",
   "execution_count": 17,
   "metadata": {},
   "outputs": [],
   "source": [
    "def randForest(features_train, target_train, features_valid, target_valid, class_weight=None):\n",
    "    \n",
    "    #подбираем max_depth, max_features, criterion\n",
    "    n_depth = range(1, 20, 3)\n",
    "    max_features = ['sqrt', 'log2']\n",
    "    criterion = ['gini', 'entropy']\n",
    "\n",
    "    result_rf = pd.DataFrame(columns = ['max_depth', 'max_features', 'criterion', 'f1', 'auc_roc']) \n",
    "    for depth in n_depth:\n",
    "        for feature in max_features:\n",
    "            for crit in criterion:\n",
    "                rf_model = RandomForestClassifier(\n",
    "                    max_depth = depth, \n",
    "                    max_features = feature, \n",
    "                    criterion = crit, \n",
    "                    random_state=123, \n",
    "                    class_weight=class_weight)\n",
    "                \n",
    "                rf_model.fit(features_train, target_train)\n",
    "                rf_predict = rf_model.predict(features_valid)\n",
    "                rf_f1 = f1_score(target_valid, rf_predict)\n",
    "                \n",
    "                rf_probabilities_valid = rf_model.predict_proba(features_valid)\n",
    "                rf_probabilities_one_valid = rf_probabilities_valid[:, 1]\n",
    "                rf_auc_roc = roc_auc_score(target_valid, rf_probabilities_one_valid)\n",
    "                \n",
    "                result_rf.loc[len(result_rf)] = [depth, feature, crit, rf_f1, rf_auc_roc]\n",
    "\n",
    "                \n",
    "    rf_max_f1 = result_rf['f1'].max()\n",
    "    result_rf_best = result_rf.query('f1==@rf_max_f1').sort_values('auc_roc', ascending=False).head(1)\n",
    "\n",
    "    #подбираем n_estimators\n",
    "    n_estimators = range(1, 100, 3)\n",
    "    result_rf = pd.DataFrame(columns = ['n_estimators', 'max_depth', 'max_features', 'criterion', 'f1', 'auc_roc']) \n",
    "    for estimator in n_estimators:\n",
    "        rf_model = RandomForestClassifier(\n",
    "            n_estimators = estimator, \n",
    "            max_depth = result_rf_best['max_depth'].item(), \n",
    "            max_features = result_rf_best['max_features'].item(), \n",
    "            criterion = result_rf_best['criterion'].item(),\n",
    "            class_weight=class_weight,\n",
    "            random_state=123)\n",
    "        rf_model.fit(features_train, target_train)\n",
    "        rf_predict = rf_model.predict(features_valid)\n",
    "        rf_f1 = f1_score(target_valid, rf_predict)\n",
    "        \n",
    "        rf_probabilities_valid = rf_model.predict_proba(features_valid)\n",
    "        rf_probabilities_one_valid = rf_probabilities_valid[:, 1]\n",
    "        rf_auc_roc = roc_auc_score(target_valid, rf_probabilities_one_valid)\n",
    "            \n",
    "        result_rf.loc[len(result_rf)] = [\n",
    "            estimator, \n",
    "            result_rf_best['max_depth'].item(),\n",
    "            result_rf_best['max_features'].item(), \n",
    "            result_rf_best['criterion'].item(),\n",
    "            rf_f1,\n",
    "            rf_auc_roc\n",
    "         ]\n",
    "        \n",
    "\n",
    "    rf_max_f1 = result_rf['f1'].max()\n",
    "    return result_rf.query('f1==@rf_max_f1').head(1)"
   ]
  },
  {
   "cell_type": "code",
   "execution_count": 18,
   "metadata": {},
   "outputs": [],
   "source": [
    "def kNeighbors(features_train, target_train, features_valid, target_valid):\n",
    "    n_neighbors = range(1, 21, 2)\n",
    "    weights = ['uniform', 'distance']\n",
    "    metrics = ['euclidean', 'manhattan', 'minkowski']\n",
    "\n",
    "    result_knn = pd.DataFrame(columns = ['n_neighbors', 'weights', 'metrics', 'f1', 'auc_roc']) \n",
    "    for n_neighbor in n_neighbors:\n",
    "        for weight in weights:\n",
    "            for metric in metrics:\n",
    "                knn_model = KNeighborsClassifier(metric = metric, weights=weight, n_neighbors = n_neighbor)\n",
    "                knn_model.fit(features_train, target_train)\n",
    "                knn_predict = knn_model.predict(features_valid)\n",
    "                knn_f1 = f1_score(target_valid, knn_predict)            \n",
    "\n",
    "                knn_probabilities_valid = knn_model.predict_proba(features_valid)\n",
    "                knn_probabilities_one_valid = knn_probabilities_valid[:, 1]\n",
    "                knn_auc_roc = roc_auc_score(target_valid, knn_probabilities_one_valid)\n",
    "\n",
    "                result_knn.loc[len(result_knn)] = [n_neighbor, weight, metric, knn_f1, knn_auc_roc]\n",
    "\n",
    "    knn_max_f1 = result_knn['f1'].max()\n",
    "    return result_knn.query('f1==@knn_max_f1').sort_values('auc_roc', ascending=False).head(1)"
   ]
  },
  {
   "cell_type": "code",
   "execution_count": null,
   "metadata": {},
   "outputs": [],
   "source": []
  },
  {
   "cell_type": "markdown",
   "metadata": {},
   "source": [
    "<div style=\"border:solid gray 2.0px; padding: 10px\"> \n",
    "    \n",
    "    Попробуем найти оптимальные параменты моделей без учета дисбаланса классов \n",
    "    \n",
    "</div>"
   ]
  },
  {
   "cell_type": "markdown",
   "metadata": {},
   "source": [
    "### Logistic Regression"
   ]
  },
  {
   "cell_type": "code",
   "execution_count": 19,
   "metadata": {},
   "outputs": [
    {
     "data": {
      "text/html": [
       "<div>\n",
       "<style scoped>\n",
       "    .dataframe tbody tr th:only-of-type {\n",
       "        vertical-align: middle;\n",
       "    }\n",
       "\n",
       "    .dataframe tbody tr th {\n",
       "        vertical-align: top;\n",
       "    }\n",
       "\n",
       "    .dataframe thead th {\n",
       "        text-align: right;\n",
       "    }\n",
       "</style>\n",
       "<table border=\"1\" class=\"dataframe\">\n",
       "  <thead>\n",
       "    <tr style=\"text-align: right;\">\n",
       "      <th></th>\n",
       "      <th>penalty</th>\n",
       "      <th>c_value</th>\n",
       "      <th>f1</th>\n",
       "      <th>auc_roc</th>\n",
       "    </tr>\n",
       "  </thead>\n",
       "  <tbody>\n",
       "    <tr>\n",
       "      <td>4</td>\n",
       "      <td>l2</td>\n",
       "      <td>10</td>\n",
       "      <td>0.321199</td>\n",
       "      <td>0.781011</td>\n",
       "    </tr>\n",
       "  </tbody>\n",
       "</table>\n",
       "</div>"
      ],
      "text/plain": [
       "  penalty c_value        f1   auc_roc\n",
       "4      l2      10  0.321199  0.781011"
      ]
     },
     "execution_count": 19,
     "metadata": {},
     "output_type": "execute_result"
    }
   ],
   "source": [
    "logReg(features_train, target_train, features_valid, target_valid)"
   ]
  },
  {
   "cell_type": "code",
   "execution_count": null,
   "metadata": {},
   "outputs": [],
   "source": []
  },
  {
   "cell_type": "markdown",
   "metadata": {},
   "source": [
    "### RandomForestClassifier"
   ]
  },
  {
   "cell_type": "code",
   "execution_count": 20,
   "metadata": {},
   "outputs": [
    {
     "data": {
      "text/html": [
       "<div>\n",
       "<style scoped>\n",
       "    .dataframe tbody tr th:only-of-type {\n",
       "        vertical-align: middle;\n",
       "    }\n",
       "\n",
       "    .dataframe tbody tr th {\n",
       "        vertical-align: top;\n",
       "    }\n",
       "\n",
       "    .dataframe thead th {\n",
       "        text-align: right;\n",
       "    }\n",
       "</style>\n",
       "<table border=\"1\" class=\"dataframe\">\n",
       "  <thead>\n",
       "    <tr style=\"text-align: right;\">\n",
       "      <th></th>\n",
       "      <th>n_estimators</th>\n",
       "      <th>max_depth</th>\n",
       "      <th>max_features</th>\n",
       "      <th>criterion</th>\n",
       "      <th>f1</th>\n",
       "      <th>auc_roc</th>\n",
       "    </tr>\n",
       "  </thead>\n",
       "  <tbody>\n",
       "    <tr>\n",
       "      <td>5</td>\n",
       "      <td>16</td>\n",
       "      <td>16</td>\n",
       "      <td>sqrt</td>\n",
       "      <td>entropy</td>\n",
       "      <td>0.585616</td>\n",
       "      <td>0.831854</td>\n",
       "    </tr>\n",
       "  </tbody>\n",
       "</table>\n",
       "</div>"
      ],
      "text/plain": [
       "  n_estimators max_depth max_features criterion        f1   auc_roc\n",
       "5           16        16         sqrt   entropy  0.585616  0.831854"
      ]
     },
     "execution_count": 20,
     "metadata": {},
     "output_type": "execute_result"
    }
   ],
   "source": [
    "randForest(features_train, target_train, features_valid, target_valid)"
   ]
  },
  {
   "cell_type": "code",
   "execution_count": null,
   "metadata": {},
   "outputs": [],
   "source": []
  },
  {
   "cell_type": "markdown",
   "metadata": {},
   "source": [
    "### K-Nearest Neighbors"
   ]
  },
  {
   "cell_type": "code",
   "execution_count": 21,
   "metadata": {},
   "outputs": [
    {
     "data": {
      "text/html": [
       "<div>\n",
       "<style scoped>\n",
       "    .dataframe tbody tr th:only-of-type {\n",
       "        vertical-align: middle;\n",
       "    }\n",
       "\n",
       "    .dataframe tbody tr th {\n",
       "        vertical-align: top;\n",
       "    }\n",
       "\n",
       "    .dataframe thead th {\n",
       "        text-align: right;\n",
       "    }\n",
       "</style>\n",
       "<table border=\"1\" class=\"dataframe\">\n",
       "  <thead>\n",
       "    <tr style=\"text-align: right;\">\n",
       "      <th></th>\n",
       "      <th>n_neighbors</th>\n",
       "      <th>weights</th>\n",
       "      <th>metrics</th>\n",
       "      <th>f1</th>\n",
       "      <th>auc_roc</th>\n",
       "    </tr>\n",
       "  </thead>\n",
       "  <tbody>\n",
       "    <tr>\n",
       "      <td>24</td>\n",
       "      <td>9</td>\n",
       "      <td>uniform</td>\n",
       "      <td>euclidean</td>\n",
       "      <td>0.534759</td>\n",
       "      <td>0.817639</td>\n",
       "    </tr>\n",
       "  </tbody>\n",
       "</table>\n",
       "</div>"
      ],
      "text/plain": [
       "   n_neighbors  weights    metrics        f1   auc_roc\n",
       "24           9  uniform  euclidean  0.534759  0.817639"
      ]
     },
     "execution_count": 21,
     "metadata": {},
     "output_type": "execute_result"
    }
   ],
   "source": [
    "kNeighbors(features_train, target_train, features_valid, target_valid)"
   ]
  },
  {
   "cell_type": "code",
   "execution_count": null,
   "metadata": {},
   "outputs": [],
   "source": []
  },
  {
   "cell_type": "markdown",
   "metadata": {},
   "source": [
    "### Вывод"
   ]
  },
  {
   "cell_type": "markdown",
   "metadata": {},
   "source": [
    "<div style=\"border:solid gray 2.0px; padding: 10px\"> \n",
    "    \n",
    "**Вывод:**\n",
    "    \n",
    "    Мы видим, что качество моделей недостаточно высокое.\n",
    "    \n",
    "    Так же по данным мы видим бисбаланс классов целевого признака (примерно 1 к 4м)\n",
    "    \n",
    "    Для увеличения качества моделей, будем бороться с дисбаласном классов. Для этого попробуем несколько способов:\n",
    "     - взвешивание классов\n",
    "     - увеливение выборки меньшего класса\n",
    "     - уменьшение выборки большего класса\n",
    "    \n",
    "    \n",
    "</div>"
   ]
  },
  {
   "cell_type": "code",
   "execution_count": null,
   "metadata": {},
   "outputs": [],
   "source": []
  },
  {
   "cell_type": "markdown",
   "metadata": {},
   "source": [
    "## Борьба с дисбалансом"
   ]
  },
  {
   "cell_type": "markdown",
   "metadata": {},
   "source": [
    "### Взвешивание классов"
   ]
  },
  {
   "cell_type": "markdown",
   "metadata": {},
   "source": [
    "#### LogisticRegression"
   ]
  },
  {
   "cell_type": "code",
   "execution_count": 22,
   "metadata": {},
   "outputs": [
    {
     "data": {
      "text/html": [
       "<div>\n",
       "<style scoped>\n",
       "    .dataframe tbody tr th:only-of-type {\n",
       "        vertical-align: middle;\n",
       "    }\n",
       "\n",
       "    .dataframe tbody tr th {\n",
       "        vertical-align: top;\n",
       "    }\n",
       "\n",
       "    .dataframe thead th {\n",
       "        text-align: right;\n",
       "    }\n",
       "</style>\n",
       "<table border=\"1\" class=\"dataframe\">\n",
       "  <thead>\n",
       "    <tr style=\"text-align: right;\">\n",
       "      <th></th>\n",
       "      <th>penalty</th>\n",
       "      <th>c_value</th>\n",
       "      <th>f1</th>\n",
       "      <th>auc_roc</th>\n",
       "    </tr>\n",
       "  </thead>\n",
       "  <tbody>\n",
       "    <tr>\n",
       "      <td>22</td>\n",
       "      <td>l1</td>\n",
       "      <td>0.1</td>\n",
       "      <td>0.506148</td>\n",
       "      <td>0.781762</td>\n",
       "    </tr>\n",
       "  </tbody>\n",
       "</table>\n",
       "</div>"
      ],
      "text/plain": [
       "   penalty c_value        f1   auc_roc\n",
       "22      l1     0.1  0.506148  0.781762"
      ]
     },
     "execution_count": 22,
     "metadata": {},
     "output_type": "execute_result"
    }
   ],
   "source": [
    "logReg(features_train, target_train, features_valid, target_valid, class_weight='balanced')"
   ]
  },
  {
   "cell_type": "code",
   "execution_count": null,
   "metadata": {},
   "outputs": [],
   "source": []
  },
  {
   "cell_type": "markdown",
   "metadata": {},
   "source": [
    "#### RandomForestClassifier"
   ]
  },
  {
   "cell_type": "code",
   "execution_count": 23,
   "metadata": {},
   "outputs": [
    {
     "data": {
      "text/html": [
       "<div>\n",
       "<style scoped>\n",
       "    .dataframe tbody tr th:only-of-type {\n",
       "        vertical-align: middle;\n",
       "    }\n",
       "\n",
       "    .dataframe tbody tr th {\n",
       "        vertical-align: top;\n",
       "    }\n",
       "\n",
       "    .dataframe thead th {\n",
       "        text-align: right;\n",
       "    }\n",
       "</style>\n",
       "<table border=\"1\" class=\"dataframe\">\n",
       "  <thead>\n",
       "    <tr style=\"text-align: right;\">\n",
       "      <th></th>\n",
       "      <th>n_estimators</th>\n",
       "      <th>max_depth</th>\n",
       "      <th>max_features</th>\n",
       "      <th>criterion</th>\n",
       "      <th>f1</th>\n",
       "      <th>auc_roc</th>\n",
       "    </tr>\n",
       "  </thead>\n",
       "  <tbody>\n",
       "    <tr>\n",
       "      <td>32</td>\n",
       "      <td>97</td>\n",
       "      <td>10</td>\n",
       "      <td>sqrt</td>\n",
       "      <td>gini</td>\n",
       "      <td>0.614306</td>\n",
       "      <td>0.860826</td>\n",
       "    </tr>\n",
       "  </tbody>\n",
       "</table>\n",
       "</div>"
      ],
      "text/plain": [
       "   n_estimators max_depth max_features criterion        f1   auc_roc\n",
       "32           97        10         sqrt      gini  0.614306  0.860826"
      ]
     },
     "execution_count": 23,
     "metadata": {},
     "output_type": "execute_result"
    }
   ],
   "source": [
    "randForest(features_train, target_train, features_valid, target_valid, class_weight='balanced')"
   ]
  },
  {
   "cell_type": "markdown",
   "metadata": {},
   "source": [
    "<div style=\"border:solid gray 2.0px; padding: 10px\"> \n",
    "    \n",
    "Ура!\n",
    "Значение F1-меры на валидационной выборке равно 0.614!\n",
    "    \n",
    "Расходимся по домам?\n",
    "    \n",
    "Останемся, вдруг будет еще лучше )\n",
    "    \n",
    "    \n",
    "</div>"
   ]
  },
  {
   "cell_type": "code",
   "execution_count": null,
   "metadata": {},
   "outputs": [],
   "source": []
  },
  {
   "cell_type": "markdown",
   "metadata": {},
   "source": [
    "### Увеличение выборки"
   ]
  },
  {
   "cell_type": "code",
   "execution_count": 24,
   "metadata": {},
   "outputs": [],
   "source": [
    "def upsample(features, target, repeat):\n",
    "    features_zeros = features[target == 0]\n",
    "    features_ones = features[target == 1]\n",
    "    target_zeros = target[target == 0]\n",
    "    target_ones = target[target == 1]\n",
    "\n",
    "    features_upsampled = pd.concat([features_zeros] + [features_ones] * repeat)\n",
    "    target_upsampled = pd.concat([target_zeros] + [target_ones] * repeat)\n",
    "    \n",
    "    features_upsampled, target_upsampled = shuffle(\n",
    "        features_upsampled, target_upsampled, random_state=12345)\n",
    "    \n",
    "    return features_upsampled, target_upsampled"
   ]
  },
  {
   "cell_type": "code",
   "execution_count": 25,
   "metadata": {},
   "outputs": [],
   "source": [
    "features_upsampled, target_upsampled = upsample(features_train, target_train, 3)"
   ]
  },
  {
   "cell_type": "code",
   "execution_count": null,
   "metadata": {},
   "outputs": [],
   "source": []
  },
  {
   "cell_type": "markdown",
   "metadata": {},
   "source": [
    "#### LogisticRegression"
   ]
  },
  {
   "cell_type": "code",
   "execution_count": 26,
   "metadata": {},
   "outputs": [
    {
     "data": {
      "text/html": [
       "<div>\n",
       "<style scoped>\n",
       "    .dataframe tbody tr th:only-of-type {\n",
       "        vertical-align: middle;\n",
       "    }\n",
       "\n",
       "    .dataframe tbody tr th {\n",
       "        vertical-align: top;\n",
       "    }\n",
       "\n",
       "    .dataframe thead th {\n",
       "        text-align: right;\n",
       "    }\n",
       "</style>\n",
       "<table border=\"1\" class=\"dataframe\">\n",
       "  <thead>\n",
       "    <tr style=\"text-align: right;\">\n",
       "      <th></th>\n",
       "      <th>penalty</th>\n",
       "      <th>c_value</th>\n",
       "      <th>f1</th>\n",
       "      <th>auc_roc</th>\n",
       "    </tr>\n",
       "  </thead>\n",
       "  <tbody>\n",
       "    <tr>\n",
       "      <td>22</td>\n",
       "      <td>l1</td>\n",
       "      <td>0.1</td>\n",
       "      <td>0.490566</td>\n",
       "      <td>0.782011</td>\n",
       "    </tr>\n",
       "  </tbody>\n",
       "</table>\n",
       "</div>"
      ],
      "text/plain": [
       "   penalty c_value        f1   auc_roc\n",
       "22      l1     0.1  0.490566  0.782011"
      ]
     },
     "execution_count": 26,
     "metadata": {},
     "output_type": "execute_result"
    }
   ],
   "source": [
    "logReg(features_upsampled, target_upsampled, features_valid, target_valid)"
   ]
  },
  {
   "cell_type": "code",
   "execution_count": null,
   "metadata": {},
   "outputs": [],
   "source": []
  },
  {
   "cell_type": "markdown",
   "metadata": {},
   "source": [
    "#### RandomForestClassifier"
   ]
  },
  {
   "cell_type": "code",
   "execution_count": 27,
   "metadata": {},
   "outputs": [
    {
     "data": {
      "text/html": [
       "<div>\n",
       "<style scoped>\n",
       "    .dataframe tbody tr th:only-of-type {\n",
       "        vertical-align: middle;\n",
       "    }\n",
       "\n",
       "    .dataframe tbody tr th {\n",
       "        vertical-align: top;\n",
       "    }\n",
       "\n",
       "    .dataframe thead th {\n",
       "        text-align: right;\n",
       "    }\n",
       "</style>\n",
       "<table border=\"1\" class=\"dataframe\">\n",
       "  <thead>\n",
       "    <tr style=\"text-align: right;\">\n",
       "      <th></th>\n",
       "      <th>n_estimators</th>\n",
       "      <th>max_depth</th>\n",
       "      <th>max_features</th>\n",
       "      <th>criterion</th>\n",
       "      <th>f1</th>\n",
       "      <th>auc_roc</th>\n",
       "    </tr>\n",
       "  </thead>\n",
       "  <tbody>\n",
       "    <tr>\n",
       "      <td>12</td>\n",
       "      <td>37</td>\n",
       "      <td>7</td>\n",
       "      <td>sqrt</td>\n",
       "      <td>entropy</td>\n",
       "      <td>0.621622</td>\n",
       "      <td>0.863129</td>\n",
       "    </tr>\n",
       "  </tbody>\n",
       "</table>\n",
       "</div>"
      ],
      "text/plain": [
       "   n_estimators max_depth max_features criterion        f1   auc_roc\n",
       "12           37         7         sqrt   entropy  0.621622  0.863129"
      ]
     },
     "execution_count": 27,
     "metadata": {},
     "output_type": "execute_result"
    }
   ],
   "source": [
    "randForest(features_upsampled, target_upsampled, features_valid, target_valid)"
   ]
  },
  {
   "cell_type": "markdown",
   "metadata": {},
   "source": [
    "<div style=\"border:solid gray 2.0px; padding: 10px\"> \n",
    "    \n",
    "Не зря остались\n",
    "    \n",
    "</div>"
   ]
  },
  {
   "cell_type": "code",
   "execution_count": null,
   "metadata": {},
   "outputs": [],
   "source": []
  },
  {
   "cell_type": "markdown",
   "metadata": {},
   "source": [
    "#### K-Nearest Neighbors"
   ]
  },
  {
   "cell_type": "code",
   "execution_count": 28,
   "metadata": {},
   "outputs": [
    {
     "data": {
      "text/html": [
       "<div>\n",
       "<style scoped>\n",
       "    .dataframe tbody tr th:only-of-type {\n",
       "        vertical-align: middle;\n",
       "    }\n",
       "\n",
       "    .dataframe tbody tr th {\n",
       "        vertical-align: top;\n",
       "    }\n",
       "\n",
       "    .dataframe thead th {\n",
       "        text-align: right;\n",
       "    }\n",
       "</style>\n",
       "<table border=\"1\" class=\"dataframe\">\n",
       "  <thead>\n",
       "    <tr style=\"text-align: right;\">\n",
       "      <th></th>\n",
       "      <th>n_neighbors</th>\n",
       "      <th>weights</th>\n",
       "      <th>metrics</th>\n",
       "      <th>f1</th>\n",
       "      <th>auc_roc</th>\n",
       "    </tr>\n",
       "  </thead>\n",
       "  <tbody>\n",
       "    <tr>\n",
       "      <td>55</td>\n",
       "      <td>19</td>\n",
       "      <td>uniform</td>\n",
       "      <td>manhattan</td>\n",
       "      <td>0.565056</td>\n",
       "      <td>0.824641</td>\n",
       "    </tr>\n",
       "  </tbody>\n",
       "</table>\n",
       "</div>"
      ],
      "text/plain": [
       "   n_neighbors  weights    metrics        f1   auc_roc\n",
       "55          19  uniform  manhattan  0.565056  0.824641"
      ]
     },
     "execution_count": 28,
     "metadata": {},
     "output_type": "execute_result"
    }
   ],
   "source": [
    "kNeighbors(features_upsampled, target_upsampled, features_valid, target_valid)"
   ]
  },
  {
   "cell_type": "code",
   "execution_count": null,
   "metadata": {},
   "outputs": [],
   "source": []
  },
  {
   "cell_type": "markdown",
   "metadata": {},
   "source": [
    "### Уменьшение выборки"
   ]
  },
  {
   "cell_type": "code",
   "execution_count": 29,
   "metadata": {},
   "outputs": [],
   "source": [
    "def downsample(features, target, fraction):\n",
    "    features_zeros = features[target == 0]\n",
    "    features_ones = features[target == 1]\n",
    "    target_zeros = target[target == 0]\n",
    "    target_ones = target[target == 1]\n",
    "\n",
    "    features_downsampled = pd.concat(\n",
    "        [features_zeros.sample(frac=fraction, random_state=12345)] + [features_ones])\n",
    "    target_downsampled = pd.concat(\n",
    "        [target_zeros.sample(frac=fraction, random_state=12345)] + [target_ones])\n",
    "    \n",
    "    features_downsampled, target_downsampled = shuffle(\n",
    "        features_downsampled, target_downsampled, random_state=12345)\n",
    "    \n",
    "    return features_downsampled, target_downsampled"
   ]
  },
  {
   "cell_type": "code",
   "execution_count": 30,
   "metadata": {},
   "outputs": [],
   "source": [
    "features_downsampled, target_downsampled = downsample(features_train, target_train, 0.5)"
   ]
  },
  {
   "cell_type": "code",
   "execution_count": null,
   "metadata": {},
   "outputs": [],
   "source": []
  },
  {
   "cell_type": "markdown",
   "metadata": {},
   "source": [
    "#### LogisticRegression"
   ]
  },
  {
   "cell_type": "code",
   "execution_count": 31,
   "metadata": {},
   "outputs": [
    {
     "data": {
      "text/html": [
       "<div>\n",
       "<style scoped>\n",
       "    .dataframe tbody tr th:only-of-type {\n",
       "        vertical-align: middle;\n",
       "    }\n",
       "\n",
       "    .dataframe tbody tr th {\n",
       "        vertical-align: top;\n",
       "    }\n",
       "\n",
       "    .dataframe thead th {\n",
       "        text-align: right;\n",
       "    }\n",
       "</style>\n",
       "<table border=\"1\" class=\"dataframe\">\n",
       "  <thead>\n",
       "    <tr style=\"text-align: right;\">\n",
       "      <th></th>\n",
       "      <th>penalty</th>\n",
       "      <th>c_value</th>\n",
       "      <th>f1</th>\n",
       "      <th>auc_roc</th>\n",
       "    </tr>\n",
       "  </thead>\n",
       "  <tbody>\n",
       "    <tr>\n",
       "      <td>21</td>\n",
       "      <td>l1</td>\n",
       "      <td>0.25</td>\n",
       "      <td>0.45045</td>\n",
       "      <td>0.77987</td>\n",
       "    </tr>\n",
       "  </tbody>\n",
       "</table>\n",
       "</div>"
      ],
      "text/plain": [
       "   penalty c_value       f1  auc_roc\n",
       "21      l1    0.25  0.45045  0.77987"
      ]
     },
     "execution_count": 31,
     "metadata": {},
     "output_type": "execute_result"
    }
   ],
   "source": [
    "logReg(features_downsampled, target_downsampled, features_valid, target_valid)"
   ]
  },
  {
   "cell_type": "code",
   "execution_count": null,
   "metadata": {},
   "outputs": [],
   "source": []
  },
  {
   "cell_type": "markdown",
   "metadata": {},
   "source": [
    "#### RandomForestClassifier"
   ]
  },
  {
   "cell_type": "code",
   "execution_count": 32,
   "metadata": {},
   "outputs": [
    {
     "data": {
      "text/html": [
       "<div>\n",
       "<style scoped>\n",
       "    .dataframe tbody tr th:only-of-type {\n",
       "        vertical-align: middle;\n",
       "    }\n",
       "\n",
       "    .dataframe tbody tr th {\n",
       "        vertical-align: top;\n",
       "    }\n",
       "\n",
       "    .dataframe thead th {\n",
       "        text-align: right;\n",
       "    }\n",
       "</style>\n",
       "<table border=\"1\" class=\"dataframe\">\n",
       "  <thead>\n",
       "    <tr style=\"text-align: right;\">\n",
       "      <th></th>\n",
       "      <th>n_estimators</th>\n",
       "      <th>max_depth</th>\n",
       "      <th>max_features</th>\n",
       "      <th>criterion</th>\n",
       "      <th>f1</th>\n",
       "      <th>auc_roc</th>\n",
       "    </tr>\n",
       "  </thead>\n",
       "  <tbody>\n",
       "    <tr>\n",
       "      <td>26</td>\n",
       "      <td>79</td>\n",
       "      <td>7</td>\n",
       "      <td>sqrt</td>\n",
       "      <td>entropy</td>\n",
       "      <td>0.615863</td>\n",
       "      <td>0.860828</td>\n",
       "    </tr>\n",
       "  </tbody>\n",
       "</table>\n",
       "</div>"
      ],
      "text/plain": [
       "   n_estimators max_depth max_features criterion        f1   auc_roc\n",
       "26           79         7         sqrt   entropy  0.615863  0.860828"
      ]
     },
     "execution_count": 32,
     "metadata": {},
     "output_type": "execute_result"
    }
   ],
   "source": [
    "randForest(features_downsampled, target_downsampled, features_valid, target_valid)"
   ]
  },
  {
   "cell_type": "code",
   "execution_count": null,
   "metadata": {},
   "outputs": [],
   "source": []
  },
  {
   "cell_type": "markdown",
   "metadata": {},
   "source": [
    "#### K-Nearest Neighbors"
   ]
  },
  {
   "cell_type": "code",
   "execution_count": 33,
   "metadata": {},
   "outputs": [
    {
     "data": {
      "text/html": [
       "<div>\n",
       "<style scoped>\n",
       "    .dataframe tbody tr th:only-of-type {\n",
       "        vertical-align: middle;\n",
       "    }\n",
       "\n",
       "    .dataframe tbody tr th {\n",
       "        vertical-align: top;\n",
       "    }\n",
       "\n",
       "    .dataframe thead th {\n",
       "        text-align: right;\n",
       "    }\n",
       "</style>\n",
       "<table border=\"1\" class=\"dataframe\">\n",
       "  <thead>\n",
       "    <tr style=\"text-align: right;\">\n",
       "      <th></th>\n",
       "      <th>n_neighbors</th>\n",
       "      <th>weights</th>\n",
       "      <th>metrics</th>\n",
       "      <th>f1</th>\n",
       "      <th>auc_roc</th>\n",
       "    </tr>\n",
       "  </thead>\n",
       "  <tbody>\n",
       "    <tr>\n",
       "      <td>34</td>\n",
       "      <td>11</td>\n",
       "      <td>distance</td>\n",
       "      <td>manhattan</td>\n",
       "      <td>0.577649</td>\n",
       "      <td>0.82668</td>\n",
       "    </tr>\n",
       "  </tbody>\n",
       "</table>\n",
       "</div>"
      ],
      "text/plain": [
       "   n_neighbors   weights    metrics        f1  auc_roc\n",
       "34          11  distance  manhattan  0.577649  0.82668"
      ]
     },
     "execution_count": 33,
     "metadata": {},
     "output_type": "execute_result"
    }
   ],
   "source": [
    "kNeighbors(features_downsampled, target_downsampled, features_valid, target_valid)"
   ]
  },
  {
   "cell_type": "code",
   "execution_count": null,
   "metadata": {},
   "outputs": [],
   "source": []
  },
  {
   "cell_type": "markdown",
   "metadata": {},
   "source": [
    "### Вывод"
   ]
  },
  {
   "cell_type": "markdown",
   "metadata": {},
   "source": [
    "<div style=\"border:solid gray 2.0px; padding: 10px\"> \n",
    "    \n",
    "**Вывод:**\n",
    "    \n",
    "Можно выделить **несколько** возможно удачных решений:\n",
    "    \n",
    "<span style=\"color: white\">. </span>   \n",
    "    \n",
    "- модель **RandomForestClassifier со взвешиванием классов** и параметрами:\n",
    "  - n_estimators = 97\t\n",
    "  - max_depth = 10\n",
    "  - max_features = sqrt\n",
    "  - criterion = gini\n",
    "    \n",
    "<span style=\"color: white\">. </span>       \n",
    "    \n",
    "- модель **RandomForestClassifier с предварительным увеличением меньшего класса** и параметрами:\n",
    "  - n_estimators = 37\t\n",
    "  - max_depth = 7\n",
    "  - max_features = sqrt\n",
    "  - criterion = entropy\n",
    "    \n",
    "<span style=\"color: white\">. </span>   \n",
    "\n",
    "    \n",
    "- модель **RandomForestClassifier с предварительным уменьшением большего класса** и параметрами:\n",
    "  - n_estimators = 79\n",
    "  - max_depth = 7\n",
    "  - max_features = sqrt\n",
    "  - criterion = entropy\n",
    "    \n",
    "\n",
    "<span style=\"color: white\">. </span>   \n",
    "    \n",
    "**Проверим их на тестовых данных**\n",
    "    \n",
    "</div>"
   ]
  },
  {
   "cell_type": "code",
   "execution_count": null,
   "metadata": {},
   "outputs": [],
   "source": []
  },
  {
   "cell_type": "markdown",
   "metadata": {},
   "source": [
    "## Тестирование модели"
   ]
  },
  {
   "cell_type": "code",
   "execution_count": 42,
   "metadata": {},
   "outputs": [],
   "source": [
    "def testRandForest(features_train, target_train, features_test, target_test, n_estimators, max_depth, max_features, criterion, class_weight=None):\n",
    "    rf_best_model = RandomForestClassifier(\n",
    "        n_estimators = n_estimators, \n",
    "        max_depth=max_depth , \n",
    "        max_features = max_features, \n",
    "        criterion = criterion, \n",
    "        random_state=12345, \n",
    "        class_weight=class_weight)\n",
    "\n",
    "    rf_best_model.fit(features_train, target_train)\n",
    "    rf_best_predict = rf_best_model.predict(features_test)\n",
    "    rf_best_f1 = f1_score(target_test, rf_best_predict)\n",
    "\n",
    "    rf_best_probabilities_valid = rf_best_model.predict_proba(features_test)\n",
    "    rf_best_probabilities_one_valid = rf_best_probabilities_valid[:, 1]\n",
    "    rf_best_auc_roc = roc_auc_score(target_test, rf_best_probabilities_one_valid)\n",
    "    \n",
    "    result_best_rf = pd.DataFrame(columns = ['f1', 'auc_roc'])\n",
    "    result_best_rf.loc[len(result_best_rf)] = [\n",
    "        rf_best_f1,\n",
    "        rf_best_auc_roc\n",
    "         ]    \n",
    "    \n",
    "    return rf_best_model, result_best_rf"
   ]
  },
  {
   "cell_type": "code",
   "execution_count": null,
   "metadata": {},
   "outputs": [],
   "source": []
  },
  {
   "cell_type": "code",
   "execution_count": 43,
   "metadata": {},
   "outputs": [
    {
     "data": {
      "text/html": [
       "<div>\n",
       "<style scoped>\n",
       "    .dataframe tbody tr th:only-of-type {\n",
       "        vertical-align: middle;\n",
       "    }\n",
       "\n",
       "    .dataframe tbody tr th {\n",
       "        vertical-align: top;\n",
       "    }\n",
       "\n",
       "    .dataframe thead th {\n",
       "        text-align: right;\n",
       "    }\n",
       "</style>\n",
       "<table border=\"1\" class=\"dataframe\">\n",
       "  <thead>\n",
       "    <tr style=\"text-align: right;\">\n",
       "      <th></th>\n",
       "      <th>f1</th>\n",
       "      <th>auc_roc</th>\n",
       "    </tr>\n",
       "  </thead>\n",
       "  <tbody>\n",
       "    <tr>\n",
       "      <td>0</td>\n",
       "      <td>0.633822</td>\n",
       "      <td>0.867895</td>\n",
       "    </tr>\n",
       "  </tbody>\n",
       "</table>\n",
       "</div>"
      ],
      "text/plain": [
       "         f1   auc_roc\n",
       "0  0.633822  0.867895"
      ]
     },
     "execution_count": 43,
     "metadata": {},
     "output_type": "execute_result"
    }
   ],
   "source": [
    "model, result  = testRandForest(\n",
    "    features_train = features_train,\n",
    "    target_train = target_train, \n",
    "    features_test = features_test, \n",
    "    target_test = target_test, \n",
    "    n_estimators = 97, \n",
    "    max_depth = 10, \n",
    "    max_features = 'sqrt',\n",
    "    criterion = 'gini', \n",
    "    class_weight='balanced'\n",
    ")\n",
    "\n",
    "result"
   ]
  },
  {
   "cell_type": "code",
   "execution_count": null,
   "metadata": {},
   "outputs": [],
   "source": []
  },
  {
   "cell_type": "code",
   "execution_count": 44,
   "metadata": {},
   "outputs": [
    {
     "data": {
      "text/html": [
       "<div>\n",
       "<style scoped>\n",
       "    .dataframe tbody tr th:only-of-type {\n",
       "        vertical-align: middle;\n",
       "    }\n",
       "\n",
       "    .dataframe tbody tr th {\n",
       "        vertical-align: top;\n",
       "    }\n",
       "\n",
       "    .dataframe thead th {\n",
       "        text-align: right;\n",
       "    }\n",
       "</style>\n",
       "<table border=\"1\" class=\"dataframe\">\n",
       "  <thead>\n",
       "    <tr style=\"text-align: right;\">\n",
       "      <th></th>\n",
       "      <th>f1</th>\n",
       "      <th>auc_roc</th>\n",
       "    </tr>\n",
       "  </thead>\n",
       "  <tbody>\n",
       "    <tr>\n",
       "      <td>0</td>\n",
       "      <td>0.637717</td>\n",
       "      <td>0.867293</td>\n",
       "    </tr>\n",
       "  </tbody>\n",
       "</table>\n",
       "</div>"
      ],
      "text/plain": [
       "         f1   auc_roc\n",
       "0  0.637717  0.867293"
      ]
     },
     "execution_count": 44,
     "metadata": {},
     "output_type": "execute_result"
    }
   ],
   "source": [
    "model, result = testRandForest(\n",
    "    features_train = features_upsampled,\n",
    "    target_train = target_upsampled, \n",
    "    features_test = features_test, \n",
    "    target_test = target_test, \n",
    "    n_estimators = 37, \n",
    "    max_depth = 7, \n",
    "    max_features = 'sqrt',\n",
    "    criterion = 'entropy', \n",
    "    class_weight=None\n",
    ")\n",
    "\n",
    "result"
   ]
  },
  {
   "cell_type": "code",
   "execution_count": 45,
   "metadata": {},
   "outputs": [
    {
     "data": {
      "text/plain": [
       "Text(0.5, 1.0, 'ROC-кривая')"
      ]
     },
     "execution_count": 45,
     "metadata": {},
     "output_type": "execute_result"
    },
    {
     "data": {
      "image/png": "[encoded data removed]",
      "text/plain": [
       "<Figure size 432x288 with 1 Axes>"
      ]
     },
     "metadata": {
      "needs_background": "light"
     },
     "output_type": "display_data"
    }
   ],
   "source": [
    "probabilities_test = model.predict_proba(features_test)\n",
    "probabilities_one_test = probabilities_test[:, 1]\n",
    "\n",
    "fpr, tpr, thresholds = roc_curve(target_test, probabilities_one_test)\n",
    "\n",
    "plt.figure()\n",
    "plt.plot(fpr, tpr)\n",
    "\n",
    "plt.plot([0, 1], [0, 1], linestyle='--')\n",
    "plt.xlim([0.0, 1.0])\n",
    "plt.ylim([0.0, 1.0])\n",
    "plt.xlabel('False Positive Rate')\n",
    "plt.ylabel('True Positive Rate')\n",
    "plt.title('ROC-кривая')"
   ]
  },
  {
   "cell_type": "code",
   "execution_count": null,
   "metadata": {},
   "outputs": [],
   "source": []
  },
  {
   "cell_type": "code",
   "execution_count": 46,
   "metadata": {},
   "outputs": [
    {
     "data": {
      "text/html": [
       "<div>\n",
       "<style scoped>\n",
       "    .dataframe tbody tr th:only-of-type {\n",
       "        vertical-align: middle;\n",
       "    }\n",
       "\n",
       "    .dataframe tbody tr th {\n",
       "        vertical-align: top;\n",
       "    }\n",
       "\n",
       "    .dataframe thead th {\n",
       "        text-align: right;\n",
       "    }\n",
       "</style>\n",
       "<table border=\"1\" class=\"dataframe\">\n",
       "  <thead>\n",
       "    <tr style=\"text-align: right;\">\n",
       "      <th></th>\n",
       "      <th>f1</th>\n",
       "      <th>auc_roc</th>\n",
       "    </tr>\n",
       "  </thead>\n",
       "  <tbody>\n",
       "    <tr>\n",
       "      <td>0</td>\n",
       "      <td>0.622807</td>\n",
       "      <td>0.869029</td>\n",
       "    </tr>\n",
       "  </tbody>\n",
       "</table>\n",
       "</div>"
      ],
      "text/plain": [
       "         f1   auc_roc\n",
       "0  0.622807  0.869029"
      ]
     },
     "execution_count": 46,
     "metadata": {},
     "output_type": "execute_result"
    }
   ],
   "source": [
    "model, result = testRandForest(\n",
    "    features_train = features_downsampled,\n",
    "    target_train = target_downsampled, \n",
    "    features_test = features_test, \n",
    "    target_test = target_test, \n",
    "    n_estimators = 79, \n",
    "    max_depth = 7, \n",
    "    max_features = 'sqrt',\n",
    "    criterion = 'entropy', \n",
    "    class_weight=None\n",
    ")\n",
    "\n",
    "result"
   ]
  },
  {
   "cell_type": "code",
   "execution_count": null,
   "metadata": {},
   "outputs": [],
   "source": []
  },
  {
   "cell_type": "markdown",
   "metadata": {},
   "source": [
    "## Вывод"
   ]
  },
  {
   "cell_type": "markdown",
   "metadata": {},
   "source": [
    "<div style=\"border:solid gray 2.0px; padding: 10px\"> \n",
    "\n",
    "Качество моделей, обученных с учетом дисбаланса классов оказалось в целом выше, чем без учета дисбаланса.\n",
    "\n",
    "<span style=\"color: white\">. </span>   \n",
    "\n",
    "\n",
    "Наивысшее значение F1-меры, которой удалось достичь (0.638 на тестовой выборке), имеет модель случайный лес со следующими параметрами:\n",
    "\n",
    " - n_estimators = 37\n",
    " - max_depth = 7\n",
    " - max_features = sqrt\n",
    " - criterion = entropy\n",
    " \n",
    " Модель была обучена с учетом дисбаланса классов: предварительно была увеличена доля меньшего класса на обучающей выборке в три раза\n",
    "\n",
    "</div>"
   ]
  },
  {
   "cell_type": "code",
   "execution_count": null,
   "metadata": {},
   "outputs": [],
   "source": []
  }
 ],
 "metadata": {
  "ExecuteTimeLog": [
   {
    "duration": 1461,
    "start_time": "2022-02-20T21:24:03.030Z"
   },
   {
    "duration": 33,
    "start_time": "2022-02-20T21:24:06.557Z"
   },
   {
    "duration": 14,
    "start_time": "2022-02-20T21:33:44.289Z"
   },
   {
    "duration": 30,
    "start_time": "2022-02-20T21:33:57.198Z"
   },
   {
    "duration": 9,
    "start_time": "2022-02-20T21:44:45.290Z"
   },
   {
    "duration": 43,
    "start_time": "2022-02-20T21:45:18.010Z"
   },
   {
    "duration": 9,
    "start_time": "2022-02-20T21:47:27.230Z"
   },
   {
    "duration": 21,
    "start_time": "2022-02-20T21:47:35.131Z"
   },
   {
    "duration": 91,
    "start_time": "2022-02-20T21:47:41.690Z"
   },
   {
    "duration": 5,
    "start_time": "2022-02-20T21:47:45.350Z"
   },
   {
    "duration": 8,
    "start_time": "2022-02-20T21:48:34.910Z"
   },
   {
    "duration": 12,
    "start_time": "2022-02-20T21:49:27.550Z"
   },
   {
    "duration": 17,
    "start_time": "2022-02-20T21:53:45.330Z"
   },
   {
    "duration": 33,
    "start_time": "2022-02-20T21:58:50.551Z"
   },
   {
    "duration": 16,
    "start_time": "2022-02-20T21:58:50.910Z"
   },
   {
    "duration": 9,
    "start_time": "2022-02-20T21:58:51.878Z"
   },
   {
    "duration": 5,
    "start_time": "2022-02-20T21:58:52.530Z"
   },
   {
    "duration": 18,
    "start_time": "2022-02-20T21:58:53.270Z"
   },
   {
    "duration": 8,
    "start_time": "2022-02-20T21:59:58.151Z"
   },
   {
    "duration": 22,
    "start_time": "2022-02-20T22:00:01.910Z"
   },
   {
    "duration": 18,
    "start_time": "2022-02-20T22:00:06.910Z"
   },
   {
    "duration": 6,
    "start_time": "2022-02-20T22:01:36.230Z"
   },
   {
    "duration": 27,
    "start_time": "2022-02-20T22:06:54.291Z"
   },
   {
    "duration": 20,
    "start_time": "2022-02-20T22:06:58.150Z"
   },
   {
    "duration": 20,
    "start_time": "2022-02-20T22:06:58.670Z"
   },
   {
    "duration": 17,
    "start_time": "2022-02-20T22:09:04.670Z"
   },
   {
    "duration": 14,
    "start_time": "2022-02-20T22:09:16.750Z"
   },
   {
    "duration": 13,
    "start_time": "2022-02-20T22:10:05.671Z"
   },
   {
    "duration": 17,
    "start_time": "2022-02-20T22:10:37.001Z"
   },
   {
    "duration": 13,
    "start_time": "2022-02-20T22:11:03.610Z"
   },
   {
    "duration": 508,
    "start_time": "2022-02-20T22:12:04.329Z"
   },
   {
    "duration": 12,
    "start_time": "2022-02-20T22:12:39.992Z"
   },
   {
    "duration": 10,
    "start_time": "2022-02-20T22:12:45.510Z"
   },
   {
    "duration": 13,
    "start_time": "2022-02-20T22:12:48.610Z"
   },
   {
    "duration": 5,
    "start_time": "2022-02-20T22:13:57.171Z"
   },
   {
    "duration": 404,
    "start_time": "2022-02-20T22:14:30.905Z"
   },
   {
    "duration": 30,
    "start_time": "2022-02-20T22:22:37.710Z"
   },
   {
    "duration": 13,
    "start_time": "2022-02-20T22:22:37.950Z"
   },
   {
    "duration": 9,
    "start_time": "2022-02-20T22:22:38.271Z"
   },
   {
    "duration": 6,
    "start_time": "2022-02-20T22:22:38.810Z"
   },
   {
    "duration": 10,
    "start_time": "2022-02-20T22:22:39.330Z"
   },
   {
    "duration": 23,
    "start_time": "2022-02-20T22:22:40.690Z"
   },
   {
    "duration": 20,
    "start_time": "2022-02-20T22:22:45.210Z"
   },
   {
    "duration": 18,
    "start_time": "2022-02-20T22:22:45.380Z"
   },
   {
    "duration": 15,
    "start_time": "2022-02-20T22:22:57.813Z"
   },
   {
    "duration": 10,
    "start_time": "2022-02-20T22:22:58.064Z"
   },
   {
    "duration": 17,
    "start_time": "2022-02-20T22:23:30.168Z"
   },
   {
    "duration": 354,
    "start_time": "2022-02-20T22:25:01.765Z"
   },
   {
    "duration": 265,
    "start_time": "2022-02-20T22:26:36.870Z"
   },
   {
    "duration": 5,
    "start_time": "2022-02-20T22:26:48.931Z"
   },
   {
    "duration": 42,
    "start_time": "2022-02-20T22:26:53.631Z"
   },
   {
    "duration": 288,
    "start_time": "2022-02-20T22:28:13.930Z"
   },
   {
    "duration": 6,
    "start_time": "2022-02-20T22:28:34.730Z"
   },
   {
    "duration": 106,
    "start_time": "2022-02-20T22:28:40.010Z"
   },
   {
    "duration": 309,
    "start_time": "2022-02-20T22:31:49.330Z"
   },
   {
    "duration": 267,
    "start_time": "2022-02-20T22:31:56.250Z"
   },
   {
    "duration": 12,
    "start_time": "2022-02-20T22:32:08.831Z"
   },
   {
    "duration": 13,
    "start_time": "2022-02-20T22:32:13.751Z"
   },
   {
    "duration": 68521,
    "start_time": "2022-02-20T22:32:38.830Z"
   },
   {
    "duration": 13,
    "start_time": "2022-02-20T22:33:47.354Z"
   },
   {
    "duration": 397,
    "start_time": "2022-02-20T22:37:11.530Z"
   },
   {
    "duration": 7,
    "start_time": "2022-02-20T22:37:36.931Z"
   },
   {
    "duration": 32,
    "start_time": "2022-02-20T22:37:37.190Z"
   },
   {
    "duration": 14,
    "start_time": "2022-02-20T22:37:37.389Z"
   },
   {
    "duration": 10,
    "start_time": "2022-02-20T22:37:37.670Z"
   },
   {
    "duration": 7,
    "start_time": "2022-02-20T22:37:37.912Z"
   },
   {
    "duration": 10,
    "start_time": "2022-02-20T22:37:38.131Z"
   },
   {
    "duration": 24,
    "start_time": "2022-02-20T22:37:38.317Z"
   },
   {
    "duration": 20,
    "start_time": "2022-02-20T22:37:38.531Z"
   },
   {
    "duration": 18,
    "start_time": "2022-02-20T22:37:38.739Z"
   },
   {
    "duration": 16,
    "start_time": "2022-02-20T22:37:39.212Z"
   },
   {
    "duration": 10,
    "start_time": "2022-02-20T22:37:40.130Z"
   },
   {
    "duration": 12,
    "start_time": "2022-02-20T22:37:42.972Z"
   },
   {
    "duration": 3,
    "start_time": "2022-02-20T22:37:43.190Z"
   },
   {
    "duration": 43,
    "start_time": "2022-02-20T22:37:43.950Z"
   },
   {
    "duration": 109,
    "start_time": "2022-02-20T22:37:47.734Z"
   },
   {
    "duration": 68328,
    "start_time": "2022-02-20T22:37:49.730Z"
   },
   {
    "duration": 418,
    "start_time": "2022-02-20T22:38:58.062Z"
   },
   {
    "duration": 426,
    "start_time": "2022-02-20T22:42:42.550Z"
   },
   {
    "duration": 6,
    "start_time": "2022-02-20T22:42:56.810Z"
   },
   {
    "duration": 5045,
    "start_time": "2022-02-20T22:43:03.071Z"
   },
   {
    "duration": 6,
    "start_time": "2022-02-20T22:43:14.203Z"
   },
   {
    "duration": 4794,
    "start_time": "2022-02-20T22:43:40.032Z"
   },
   {
    "duration": 8,
    "start_time": "2022-02-20T22:44:09.791Z"
   },
   {
    "duration": 4798,
    "start_time": "2022-02-20T22:44:58.830Z"
   },
   {
    "duration": 8,
    "start_time": "2022-02-20T22:45:03.631Z"
   },
   {
    "duration": 1449,
    "start_time": "2022-02-20T22:45:30.952Z"
   },
   {
    "duration": 33,
    "start_time": "2022-02-20T22:45:34.711Z"
   },
   {
    "duration": 13,
    "start_time": "2022-02-20T22:45:34.939Z"
   },
   {
    "duration": 13,
    "start_time": "2022-02-20T22:45:35.132Z"
   },
   {
    "duration": 6,
    "start_time": "2022-02-20T22:45:35.339Z"
   },
   {
    "duration": 19,
    "start_time": "2022-02-20T22:45:35.812Z"
   },
   {
    "duration": 28,
    "start_time": "2022-02-20T22:45:36.032Z"
   },
   {
    "duration": 25,
    "start_time": "2022-02-20T22:45:36.219Z"
   },
   {
    "duration": 23,
    "start_time": "2022-02-20T22:45:36.592Z"
   },
   {
    "duration": 22,
    "start_time": "2022-02-20T22:45:38.213Z"
   },
   {
    "duration": 13,
    "start_time": "2022-02-20T22:45:41.920Z"
   },
   {
    "duration": 9322,
    "start_time": "2022-02-20T22:45:53.815Z"
   },
   {
    "duration": 4799,
    "start_time": "2022-02-20T22:46:06.832Z"
   },
   {
    "duration": 321,
    "start_time": "2022-02-20T22:47:10.992Z"
   },
   {
    "duration": 411,
    "start_time": "2022-02-20T22:47:19.291Z"
   },
   {
    "duration": 4699,
    "start_time": "2022-02-20T22:48:10.431Z"
   },
   {
    "duration": 6,
    "start_time": "2022-02-20T22:48:28.692Z"
   },
   {
    "duration": 4582,
    "start_time": "2022-02-20T22:48:33.252Z"
   },
   {
    "duration": 88,
    "start_time": "2022-02-20T22:51:51.940Z"
   },
   {
    "duration": 117,
    "start_time": "2022-02-20T22:52:04.126Z"
   },
   {
    "duration": 74874,
    "start_time": "2022-02-20T22:52:04.971Z"
   },
   {
    "duration": -566,
    "start_time": "2022-02-20T22:53:20.414Z"
   },
   {
    "duration": 69183,
    "start_time": "2022-02-20T22:53:34.312Z"
   },
   {
    "duration": 424,
    "start_time": "2022-02-21T16:32:42.220Z"
   },
   {
    "duration": 1359,
    "start_time": "2022-02-21T16:32:47.851Z"
   },
   {
    "duration": 36,
    "start_time": "2022-02-21T16:32:49.212Z"
   },
   {
    "duration": 12,
    "start_time": "2022-02-21T16:32:49.251Z"
   },
   {
    "duration": 10,
    "start_time": "2022-02-21T16:32:49.550Z"
   },
   {
    "duration": 6,
    "start_time": "2022-02-21T16:32:52.470Z"
   },
   {
    "duration": 18,
    "start_time": "2022-02-21T16:32:52.730Z"
   },
   {
    "duration": 23,
    "start_time": "2022-02-21T16:32:53.230Z"
   },
   {
    "duration": 21,
    "start_time": "2022-02-21T16:32:53.788Z"
   },
   {
    "duration": 21,
    "start_time": "2022-02-21T16:32:54.250Z"
   },
   {
    "duration": 14,
    "start_time": "2022-02-21T16:32:57.990Z"
   },
   {
    "duration": 10,
    "start_time": "2022-02-21T16:32:58.970Z"
   },
   {
    "duration": 104,
    "start_time": "2022-02-21T16:33:07.431Z"
   },
   {
    "duration": 2423,
    "start_time": "2022-02-21T16:33:10.130Z"
   },
   {
    "duration": 17780,
    "start_time": "2022-02-21T16:37:08.570Z"
   },
   {
    "duration": 220,
    "start_time": "2022-02-21T16:38:44.851Z"
   },
   {
    "duration": 6,
    "start_time": "2022-02-21T16:41:02.411Z"
   },
   {
    "duration": 13171,
    "start_time": "2022-02-21T16:44:12.823Z"
   },
   {
    "duration": 191,
    "start_time": "2022-02-21T16:46:49.210Z"
   },
   {
    "duration": 571,
    "start_time": "2022-02-21T16:47:41.091Z"
   },
   {
    "duration": 237,
    "start_time": "2022-02-21T16:47:49.231Z"
   },
   {
    "duration": 4749,
    "start_time": "2022-02-21T16:49:44.107Z"
   },
   {
    "duration": 2400,
    "start_time": "2022-02-21T16:52:52.231Z"
   },
   {
    "duration": 26,
    "start_time": "2022-02-21T16:53:38.212Z"
   },
   {
    "duration": 12701,
    "start_time": "2022-02-21T16:54:35.451Z"
   },
   {
    "duration": 14,
    "start_time": "2022-02-21T16:55:47.572Z"
   },
   {
    "duration": 39027,
    "start_time": "2022-02-21T16:56:02.232Z"
   },
   {
    "duration": 12490,
    "start_time": "2022-02-21T16:58:44.792Z"
   },
   {
    "duration": 2453,
    "start_time": "2022-02-21T16:59:41.313Z"
   },
   {
    "duration": 12745,
    "start_time": "2022-02-21T16:59:59.032Z"
   },
   {
    "duration": 788,
    "start_time": "2022-02-21T17:01:05.851Z"
   },
   {
    "duration": 351,
    "start_time": "2022-02-21T17:03:59.233Z"
   },
   {
    "duration": 5,
    "start_time": "2022-02-21T17:46:55.318Z"
   },
   {
    "duration": 6,
    "start_time": "2022-02-21T17:47:35.240Z"
   },
   {
    "duration": 761,
    "start_time": "2022-02-21T17:47:36.720Z"
   },
   {
    "duration": 7,
    "start_time": "2022-02-21T17:47:50.657Z"
   },
   {
    "duration": 5,
    "start_time": "2022-02-21T17:48:18.840Z"
   },
   {
    "duration": 15,
    "start_time": "2022-02-21T17:48:19.199Z"
   },
   {
    "duration": 4718,
    "start_time": "2022-02-21T17:48:59.239Z"
   },
   {
    "duration": 3116,
    "start_time": "2022-02-21T17:50:55.300Z"
   },
   {
    "duration": 14789,
    "start_time": "2022-02-21T17:51:32.985Z"
   },
   {
    "duration": 15765,
    "start_time": "2022-02-21T17:52:54.488Z"
   },
   {
    "duration": 7,
    "start_time": "2022-02-21T17:54:24.747Z"
   },
   {
    "duration": 23,
    "start_time": "2022-02-21T17:54:24.958Z"
   },
   {
    "duration": 1555,
    "start_time": "2022-02-21T17:54:46.579Z"
   },
   {
    "duration": 3954,
    "start_time": "2022-02-21T17:55:50.599Z"
   },
   {
    "duration": 1330,
    "start_time": "2022-02-22T08:22:29.789Z"
   },
   {
    "duration": 31,
    "start_time": "2022-02-22T08:22:57.875Z"
   },
   {
    "duration": 12,
    "start_time": "2022-02-22T08:22:58.228Z"
   },
   {
    "duration": 15,
    "start_time": "2022-02-22T08:22:58.803Z"
   },
   {
    "duration": 6,
    "start_time": "2022-02-22T08:22:59.289Z"
   },
   {
    "duration": 20,
    "start_time": "2022-02-22T08:22:59.650Z"
   },
   {
    "duration": 25,
    "start_time": "2022-02-22T08:23:00.171Z"
   },
   {
    "duration": 21,
    "start_time": "2022-02-22T08:23:00.738Z"
   },
   {
    "duration": 19,
    "start_time": "2022-02-22T08:23:01.649Z"
   },
   {
    "duration": 15,
    "start_time": "2022-02-22T08:23:06.430Z"
   },
   {
    "duration": 11,
    "start_time": "2022-02-22T08:23:07.308Z"
   },
   {
    "duration": 6,
    "start_time": "2022-02-22T08:24:09.758Z"
   },
   {
    "duration": 16,
    "start_time": "2022-02-22T08:24:10.290Z"
   },
   {
    "duration": 1658,
    "start_time": "2022-02-22T08:24:15.313Z"
   },
   {
    "duration": 7011,
    "start_time": "2022-02-22T08:27:16.021Z"
   },
   {
    "duration": 8380,
    "start_time": "2022-02-22T08:32:01.499Z"
   },
   {
    "duration": 109,
    "start_time": "2022-02-22T08:39:23.681Z"
   },
   {
    "duration": 100,
    "start_time": "2022-02-22T08:40:04.849Z"
   },
   {
    "duration": 109,
    "start_time": "2022-02-22T08:40:47.569Z"
   },
   {
    "duration": 128,
    "start_time": "2022-02-22T08:40:54.188Z"
   },
   {
    "duration": 339,
    "start_time": "2022-02-22T08:41:18.173Z"
   },
   {
    "duration": 103,
    "start_time": "2022-02-22T08:41:48.469Z"
   },
   {
    "duration": 756,
    "start_time": "2022-02-22T08:42:00.244Z"
   },
   {
    "duration": 411,
    "start_time": "2022-02-22T08:42:13.988Z"
   },
   {
    "duration": 6,
    "start_time": "2022-02-22T08:42:20.556Z"
   },
   {
    "duration": 550,
    "start_time": "2022-02-22T08:42:31.750Z"
   },
   {
    "duration": 4810,
    "start_time": "2022-02-22T08:42:45.259Z"
   },
   {
    "duration": 1370,
    "start_time": "2022-02-22T08:44:19.621Z"
   },
   {
    "duration": 30,
    "start_time": "2022-02-22T08:44:23.799Z"
   },
   {
    "duration": 13,
    "start_time": "2022-02-22T08:44:24.057Z"
   },
   {
    "duration": 14,
    "start_time": "2022-02-22T08:44:24.440Z"
   },
   {
    "duration": 7,
    "start_time": "2022-02-22T08:44:24.791Z"
   },
   {
    "duration": 18,
    "start_time": "2022-02-22T08:44:25.019Z"
   },
   {
    "duration": 24,
    "start_time": "2022-02-22T08:44:25.210Z"
   },
   {
    "duration": 19,
    "start_time": "2022-02-22T08:44:25.459Z"
   },
   {
    "duration": 21,
    "start_time": "2022-02-22T08:44:25.864Z"
   },
   {
    "duration": 14,
    "start_time": "2022-02-22T08:44:27.108Z"
   },
   {
    "duration": 10,
    "start_time": "2022-02-22T08:44:27.485Z"
   },
   {
    "duration": 4928,
    "start_time": "2022-02-22T08:44:43.233Z"
   },
   {
    "duration": 14,
    "start_time": "2022-02-22T08:45:41.111Z"
   },
   {
    "duration": 4858,
    "start_time": "2022-02-22T08:46:51.211Z"
   },
   {
    "duration": 35,
    "start_time": "2022-02-22T08:47:08.340Z"
   },
   {
    "duration": 23150,
    "start_time": "2022-02-22T08:54:11.039Z"
   },
   {
    "duration": 233,
    "start_time": "2022-02-22T08:55:12.530Z"
   },
   {
    "duration": 92,
    "start_time": "2022-02-22T08:58:50.479Z"
   },
   {
    "duration": 8,
    "start_time": "2022-02-22T08:58:56.547Z"
   },
   {
    "duration": 4949,
    "start_time": "2022-02-22T08:59:00.218Z"
   },
   {
    "duration": 5040,
    "start_time": "2022-02-22T09:32:22.920Z"
   },
   {
    "duration": 8,
    "start_time": "2022-02-22T09:37:23.664Z"
   },
   {
    "duration": 6365,
    "start_time": "2022-02-22T09:37:27.406Z"
   },
   {
    "duration": 8,
    "start_time": "2022-02-22T09:37:43.175Z"
   },
   {
    "duration": 6310,
    "start_time": "2022-02-22T09:37:46.154Z"
   },
   {
    "duration": 11,
    "start_time": "2022-02-22T09:37:59.558Z"
   },
   {
    "duration": 8,
    "start_time": "2022-02-22T09:38:26.468Z"
   },
   {
    "duration": 7222,
    "start_time": "2022-02-22T09:38:40.844Z"
   },
   {
    "duration": 6,
    "start_time": "2022-02-22T09:44:36.253Z"
   },
   {
    "duration": 16,
    "start_time": "2022-02-22T09:44:37.964Z"
   },
   {
    "duration": 4841,
    "start_time": "2022-02-22T09:44:41.125Z"
   },
   {
    "duration": 7,
    "start_time": "2022-02-22T09:46:33.937Z"
   },
   {
    "duration": 15,
    "start_time": "2022-02-22T09:46:34.180Z"
   },
   {
    "duration": 4663,
    "start_time": "2022-02-22T09:46:36.104Z"
   },
   {
    "duration": 4310,
    "start_time": "2022-02-22T09:47:25.661Z"
   },
   {
    "duration": 4194,
    "start_time": "2022-02-22T09:47:41.374Z"
   },
   {
    "duration": 4692,
    "start_time": "2022-02-22T09:47:45.571Z"
   },
   {
    "duration": 9,
    "start_time": "2022-02-22T09:48:47.508Z"
   },
   {
    "duration": 8,
    "start_time": "2022-02-22T09:49:23.988Z"
   },
   {
    "duration": 6,
    "start_time": "2022-02-22T09:49:35.681Z"
   },
   {
    "duration": 17,
    "start_time": "2022-02-22T09:49:35.886Z"
   },
   {
    "duration": 4452,
    "start_time": "2022-02-22T09:49:37.920Z"
   },
   {
    "duration": 4289,
    "start_time": "2022-02-22T09:49:42.375Z"
   },
   {
    "duration": 4519,
    "start_time": "2022-02-22T09:51:45.756Z"
   },
   {
    "duration": 2388,
    "start_time": "2022-02-22T10:04:26.343Z"
   },
   {
    "duration": 6,
    "start_time": "2022-02-22T10:04:42.390Z"
   },
   {
    "duration": 6,
    "start_time": "2022-02-22T10:04:49.082Z"
   },
   {
    "duration": 9,
    "start_time": "2022-02-22T10:05:01.879Z"
   },
   {
    "duration": 5107,
    "start_time": "2022-02-22T10:05:05.965Z"
   },
   {
    "duration": 10,
    "start_time": "2022-02-22T10:05:28.040Z"
   },
   {
    "duration": 354,
    "start_time": "2022-02-22T10:05:35.403Z"
   },
   {
    "duration": 10,
    "start_time": "2022-02-22T10:05:38.920Z"
   },
   {
    "duration": 10,
    "start_time": "2022-02-22T10:07:02.344Z"
   },
   {
    "duration": 7265,
    "start_time": "2022-02-22T10:07:14.583Z"
   },
   {
    "duration": 10,
    "start_time": "2022-02-22T10:27:43.119Z"
   },
   {
    "duration": 14,
    "start_time": "2022-02-22T10:27:50.764Z"
   },
   {
    "duration": 10,
    "start_time": "2022-02-22T10:27:54.720Z"
   },
   {
    "duration": 101,
    "start_time": "2022-02-22T10:35:16.860Z"
   },
   {
    "duration": 11,
    "start_time": "2022-02-22T10:35:26.784Z"
   },
   {
    "duration": 10,
    "start_time": "2022-02-22T10:35:52.696Z"
   },
   {
    "duration": 3842,
    "start_time": "2022-02-22T10:36:16.306Z"
   },
   {
    "duration": 4820,
    "start_time": "2022-02-22T10:38:20.047Z"
   },
   {
    "duration": 4071,
    "start_time": "2022-02-22T10:38:36.307Z"
   },
   {
    "duration": 7,
    "start_time": "2022-02-22T10:40:21.763Z"
   },
   {
    "duration": 2387,
    "start_time": "2022-02-22T10:40:25.185Z"
   },
   {
    "duration": 8,
    "start_time": "2022-02-22T10:41:32.999Z"
   },
   {
    "duration": 16967,
    "start_time": "2022-02-22T10:41:36.220Z"
   },
   {
    "duration": 10,
    "start_time": "2022-02-22T10:42:25.030Z"
   },
   {
    "duration": 2964,
    "start_time": "2022-02-22T10:42:25.959Z"
   },
   {
    "duration": 9,
    "start_time": "2022-02-22T10:43:18.596Z"
   },
   {
    "duration": 16788,
    "start_time": "2022-02-22T10:43:19.969Z"
   },
   {
    "duration": 11,
    "start_time": "2022-02-22T10:43:42.597Z"
   },
   {
    "duration": 17771,
    "start_time": "2022-02-22T10:43:42.858Z"
   },
   {
    "duration": 11,
    "start_time": "2022-02-22T10:45:38.781Z"
   },
   {
    "duration": 4422,
    "start_time": "2022-02-22T10:45:39.627Z"
   },
   {
    "duration": 4767,
    "start_time": "2022-02-22T10:46:43.896Z"
   },
   {
    "duration": 4848,
    "start_time": "2022-02-22T10:47:00.020Z"
   },
   {
    "duration": 11,
    "start_time": "2022-02-22T10:47:13.400Z"
   },
   {
    "duration": 20307,
    "start_time": "2022-02-22T10:47:15.123Z"
   },
   {
    "duration": 133,
    "start_time": "2022-02-22T10:48:55.286Z"
   },
   {
    "duration": 20230,
    "start_time": "2022-02-22T10:48:55.700Z"
   },
   {
    "duration": 13,
    "start_time": "2022-02-22T10:49:17.740Z"
   },
   {
    "duration": 20677,
    "start_time": "2022-02-22T10:49:18.233Z"
   },
   {
    "duration": 11,
    "start_time": "2022-02-22T10:49:47.710Z"
   },
   {
    "duration": 20642,
    "start_time": "2022-02-22T10:49:47.920Z"
   },
   {
    "duration": 20243,
    "start_time": "2022-02-22T10:52:56.922Z"
   },
   {
    "duration": 15563,
    "start_time": "2022-02-22T10:54:28.362Z"
   },
   {
    "duration": 17759,
    "start_time": "2022-02-22T10:55:11.353Z"
   },
   {
    "duration": 8213,
    "start_time": "2022-02-22T10:55:50.961Z"
   },
   {
    "duration": 15,
    "start_time": "2022-02-22T11:00:22.279Z"
   },
   {
    "duration": 14,
    "start_time": "2022-02-22T11:00:39.364Z"
   },
   {
    "duration": 21735,
    "start_time": "2022-02-22T11:00:39.825Z"
   },
   {
    "duration": 21417,
    "start_time": "2022-02-22T11:01:25.289Z"
   },
   {
    "duration": 16260,
    "start_time": "2022-02-22T11:23:45.571Z"
   },
   {
    "duration": 19080,
    "start_time": "2022-02-22T11:24:25.084Z"
   },
   {
    "duration": 9005,
    "start_time": "2022-02-22T11:24:44.167Z"
   },
   {
    "duration": 90,
    "start_time": "2022-02-23T21:17:43.274Z"
   },
   {
    "duration": 6,
    "start_time": "2022-02-23T21:18:06.018Z"
   },
   {
    "duration": 1324,
    "start_time": "2022-02-23T21:19:16.841Z"
   },
   {
    "duration": 25,
    "start_time": "2022-02-23T21:19:20.699Z"
   },
   {
    "duration": 9,
    "start_time": "2022-02-23T21:19:21.276Z"
   },
   {
    "duration": 12,
    "start_time": "2022-02-23T21:19:26.156Z"
   },
   {
    "duration": 5,
    "start_time": "2022-02-23T21:19:26.816Z"
   },
   {
    "duration": 12,
    "start_time": "2022-02-23T21:19:27.356Z"
   },
   {
    "duration": 18,
    "start_time": "2022-02-23T21:19:28.270Z"
   },
   {
    "duration": 15,
    "start_time": "2022-02-23T21:19:30.909Z"
   },
   {
    "duration": 13,
    "start_time": "2022-02-23T21:19:31.257Z"
   },
   {
    "duration": 9,
    "start_time": "2022-02-23T21:19:49.736Z"
   },
   {
    "duration": 9,
    "start_time": "2022-02-23T21:19:55.836Z"
   },
   {
    "duration": 7,
    "start_time": "2022-02-23T21:19:56.916Z"
   },
   {
    "duration": 9,
    "start_time": "2022-02-23T21:20:00.837Z"
   },
   {
    "duration": 6,
    "start_time": "2022-02-23T21:20:03.316Z"
   },
   {
    "duration": 9,
    "start_time": "2022-02-23T21:20:04.266Z"
   },
   {
    "duration": 6,
    "start_time": "2022-02-23T21:20:05.276Z"
   },
   {
    "duration": 16082,
    "start_time": "2022-02-23T21:20:06.917Z"
   },
   {
    "duration": 15626,
    "start_time": "2022-02-23T21:21:47.078Z"
   },
   {
    "duration": 6,
    "start_time": "2022-02-23T21:26:37.718Z"
   },
   {
    "duration": 11,
    "start_time": "2022-02-23T21:26:39.544Z"
   },
   {
    "duration": 6,
    "start_time": "2022-02-23T21:26:40.595Z"
   },
   {
    "duration": 4608,
    "start_time": "2022-02-23T21:28:35.517Z"
   },
   {
    "duration": 15509,
    "start_time": "2022-02-23T21:28:40.127Z"
   },
   {
    "duration": 15641,
    "start_time": "2022-02-23T21:28:55.638Z"
   },
   {
    "duration": 4699,
    "start_time": "2022-02-23T21:34:39.323Z"
   },
   {
    "duration": 11144,
    "start_time": "2022-02-23T21:34:44.025Z"
   },
   {
    "duration": 5062,
    "start_time": "2022-02-23T21:36:03.558Z"
   },
   {
    "duration": 11629,
    "start_time": "2022-02-23T21:36:08.623Z"
   },
   {
    "duration": 4,
    "start_time": "2022-02-23T21:36:20.254Z"
   },
   {
    "duration": 26,
    "start_time": "2022-02-23T21:36:20.260Z"
   },
   {
    "duration": 4,
    "start_time": "2022-02-23T21:36:38.616Z"
   },
   {
    "duration": 13,
    "start_time": "2022-02-23T21:36:38.856Z"
   },
   {
    "duration": 5948,
    "start_time": "2022-02-23T21:36:41.876Z"
   },
   {
    "duration": 12873,
    "start_time": "2022-02-23T21:36:47.827Z"
   },
   {
    "duration": 18437,
    "start_time": "2022-02-23T21:40:36.032Z"
   },
   {
    "duration": 5,
    "start_time": "2022-02-23T21:41:30.672Z"
   },
   {
    "duration": 12,
    "start_time": "2022-02-23T21:41:31.033Z"
   },
   {
    "duration": 12,
    "start_time": "2022-02-23T21:41:40.993Z"
   },
   {
    "duration": 4113,
    "start_time": "2022-02-23T21:41:43.311Z"
   },
   {
    "duration": 7890,
    "start_time": "2022-02-23T21:42:20.191Z"
   },
   {
    "duration": 11010,
    "start_time": "2022-02-23T21:42:42.752Z"
   },
   {
    "duration": 5,
    "start_time": "2022-02-23T22:08:02.031Z"
   },
   {
    "duration": 5,
    "start_time": "2022-02-23T22:10:23.991Z"
   },
   {
    "duration": 1180,
    "start_time": "2022-02-23T22:10:24.536Z"
   },
   {
    "duration": 5,
    "start_time": "2022-02-23T22:10:33.391Z"
   },
   {
    "duration": 1103,
    "start_time": "2022-02-23T22:10:34.512Z"
   },
   {
    "duration": 6,
    "start_time": "2022-02-23T22:10:51.123Z"
   },
   {
    "duration": 589,
    "start_time": "2022-02-23T22:10:51.504Z"
   },
   {
    "duration": 261,
    "start_time": "2022-02-23T22:12:33.870Z"
   },
   {
    "duration": 321,
    "start_time": "2022-02-23T22:13:46.331Z"
   },
   {
    "duration": 215,
    "start_time": "2022-02-23T22:22:22.373Z"
   },
   {
    "duration": 1385,
    "start_time": "2022-02-25T11:09:58.755Z"
   },
   {
    "duration": 6,
    "start_time": "2022-02-25T11:10:08.736Z"
   },
   {
    "duration": 31,
    "start_time": "2022-02-25T11:10:12.095Z"
   },
   {
    "duration": 12,
    "start_time": "2022-02-25T11:10:13.215Z"
   },
   {
    "duration": 12,
    "start_time": "2022-02-25T11:10:19.555Z"
   },
   {
    "duration": 5,
    "start_time": "2022-02-25T11:10:20.236Z"
   },
   {
    "duration": 16,
    "start_time": "2022-02-25T11:10:21.115Z"
   },
   {
    "duration": 2,
    "start_time": "2022-02-25T11:10:31.557Z"
   },
   {
    "duration": 18,
    "start_time": "2022-02-25T11:10:34.036Z"
   },
   {
    "duration": 16,
    "start_time": "2022-02-25T11:10:34.416Z"
   },
   {
    "duration": 10,
    "start_time": "2022-02-25T11:10:37.216Z"
   },
   {
    "duration": 12,
    "start_time": "2022-02-25T11:10:47.798Z"
   },
   {
    "duration": 35,
    "start_time": "2022-02-25T11:10:56.456Z"
   },
   {
    "duration": 11,
    "start_time": "2022-02-25T11:12:09.115Z"
   },
   {
    "duration": 10,
    "start_time": "2022-02-25T11:14:54.836Z"
   },
   {
    "duration": 11,
    "start_time": "2022-02-25T11:14:59.856Z"
   },
   {
    "duration": 8,
    "start_time": "2022-02-25T11:15:15.529Z"
   },
   {
    "duration": 12,
    "start_time": "2022-02-25T11:15:20.945Z"
   },
   {
    "duration": 8,
    "start_time": "2022-02-25T11:15:28.256Z"
   },
   {
    "duration": 8,
    "start_time": "2022-02-25T11:16:27.413Z"
   },
   {
    "duration": 5042,
    "start_time": "2022-02-25T11:16:42.257Z"
   },
   {
    "duration": 21683,
    "start_time": "2022-02-25T11:17:56.257Z"
   },
   {
    "duration": 23072,
    "start_time": "2022-02-25T11:18:40.556Z"
   },
   {
    "duration": 5001,
    "start_time": "2022-02-25T11:19:27.604Z"
   },
   {
    "duration": 1512,
    "start_time": "2022-02-25T11:22:41.163Z"
   },
   {
    "duration": 36,
    "start_time": "2022-02-25T11:22:44.975Z"
   },
   {
    "duration": 12,
    "start_time": "2022-02-25T11:22:45.336Z"
   },
   {
    "duration": 13,
    "start_time": "2022-02-25T11:22:49.255Z"
   },
   {
    "duration": 7,
    "start_time": "2022-02-25T11:22:50.195Z"
   },
   {
    "duration": 17,
    "start_time": "2022-02-25T11:22:50.839Z"
   },
   {
    "duration": 3,
    "start_time": "2022-02-25T11:22:51.594Z"
   },
   {
    "duration": 20,
    "start_time": "2022-02-25T11:22:53.836Z"
   },
   {
    "duration": 19,
    "start_time": "2022-02-25T11:22:54.295Z"
   },
   {
    "duration": 27,
    "start_time": "2022-02-25T11:22:54.956Z"
   },
   {
    "duration": 14,
    "start_time": "2022-02-25T11:22:58.595Z"
   },
   {
    "duration": 34,
    "start_time": "2022-02-25T11:22:59.584Z"
   },
   {
    "duration": 11,
    "start_time": "2022-02-25T11:23:00.715Z"
   },
   {
    "duration": 11,
    "start_time": "2022-02-25T11:23:03.355Z"
   },
   {
    "duration": 8,
    "start_time": "2022-02-25T11:23:04.403Z"
   },
   {
    "duration": 14,
    "start_time": "2022-02-25T11:23:05.344Z"
   },
   {
    "duration": 9,
    "start_time": "2022-02-25T11:23:06.195Z"
   },
   {
    "duration": 4822,
    "start_time": "2022-02-25T11:23:26.278Z"
   },
   {
    "duration": 21453,
    "start_time": "2022-02-25T11:23:31.103Z"
   },
   {
    "duration": 23471,
    "start_time": "2022-02-25T11:24:12.003Z"
   },
   {
    "duration": 4814,
    "start_time": "2022-02-25T11:25:00.982Z"
   },
   {
    "duration": 16059,
    "start_time": "2022-02-25T11:25:05.799Z"
   },
   {
    "duration": 5,
    "start_time": "2022-02-25T11:25:38.316Z"
   },
   {
    "duration": 14,
    "start_time": "2022-02-25T11:25:38.735Z"
   },
   {
    "duration": 4697,
    "start_time": "2022-02-25T11:25:46.295Z"
   },
   {
    "duration": 18689,
    "start_time": "2022-02-25T11:25:50.996Z"
   },
   {
    "duration": 26892,
    "start_time": "2022-02-25T11:26:09.688Z"
   },
   {
    "duration": 6,
    "start_time": "2022-02-25T11:27:02.637Z"
   },
   {
    "duration": 14,
    "start_time": "2022-02-25T11:27:03.694Z"
   },
   {
    "duration": 5354,
    "start_time": "2022-02-25T11:27:05.454Z"
   },
   {
    "duration": 13438,
    "start_time": "2022-02-25T11:27:10.811Z"
   },
   {
    "duration": 20384,
    "start_time": "2022-02-25T11:27:24.253Z"
   },
   {
    "duration": 6,
    "start_time": "2022-02-25T11:29:53.195Z"
   },
   {
    "duration": 7,
    "start_time": "2022-02-25T11:40:51.534Z"
   },
   {
    "duration": 825,
    "start_time": "2022-02-25T11:40:54.094Z"
   },
   {
    "duration": 882,
    "start_time": "2022-02-25T11:41:47.695Z"
   },
   {
    "duration": 808,
    "start_time": "2022-02-25T11:42:09.523Z"
   },
   {
    "duration": 493,
    "start_time": "2022-02-25T11:43:32.155Z"
   },
   {
    "duration": 8,
    "start_time": "2022-02-25T11:43:52.884Z"
   },
   {
    "duration": 338,
    "start_time": "2022-02-25T11:45:23.355Z"
   },
   {
    "duration": 256,
    "start_time": "2022-02-25T11:45:47.875Z"
   },
   {
    "duration": 356,
    "start_time": "2022-02-25T11:45:55.537Z"
   },
   {
    "duration": 299,
    "start_time": "2022-02-25T11:46:08.594Z"
   },
   {
    "duration": 1531,
    "start_time": "2022-02-25T11:53:25.864Z"
   },
   {
    "duration": 6,
    "start_time": "2022-02-25T11:54:03.876Z"
   },
   {
    "duration": 30,
    "start_time": "2022-02-25T11:54:04.537Z"
   },
   {
    "duration": 13,
    "start_time": "2022-02-25T11:54:04.882Z"
   },
   {
    "duration": 12,
    "start_time": "2022-02-25T11:54:06.018Z"
   },
   {
    "duration": 6,
    "start_time": "2022-02-25T11:54:06.375Z"
   },
   {
    "duration": 12,
    "start_time": "2022-02-25T11:54:06.736Z"
   },
   {
    "duration": 2,
    "start_time": "2022-02-25T11:54:06.916Z"
   },
   {
    "duration": 20,
    "start_time": "2022-02-25T11:54:07.914Z"
   },
   {
    "duration": 19,
    "start_time": "2022-02-25T11:54:08.117Z"
   },
   {
    "duration": 11,
    "start_time": "2022-02-25T11:54:08.316Z"
   },
   {
    "duration": 13,
    "start_time": "2022-02-25T11:54:08.711Z"
   },
   {
    "duration": 34,
    "start_time": "2022-02-25T11:54:09.076Z"
   },
   {
    "duration": 12,
    "start_time": "2022-02-25T11:54:09.496Z"
   },
   {
    "duration": 14,
    "start_time": "2022-02-25T11:54:10.583Z"
   },
   {
    "duration": 7,
    "start_time": "2022-02-25T11:54:10.996Z"
   },
   {
    "duration": 12,
    "start_time": "2022-02-25T11:54:11.653Z"
   },
   {
    "duration": 8,
    "start_time": "2022-02-25T11:54:11.804Z"
   },
   {
    "duration": 4772,
    "start_time": "2022-02-25T11:54:12.731Z"
   },
   {
    "duration": 21661,
    "start_time": "2022-02-25T11:54:17.594Z"
   },
   {
    "duration": 23778,
    "start_time": "2022-02-25T11:54:39.258Z"
   },
   {
    "duration": 4959,
    "start_time": "2022-02-25T11:55:03.039Z"
   },
   {
    "duration": 16628,
    "start_time": "2022-02-25T11:55:08.000Z"
   },
   {
    "duration": 5,
    "start_time": "2022-02-25T11:55:24.630Z"
   },
   {
    "duration": 19,
    "start_time": "2022-02-25T11:55:24.637Z"
   },
   {
    "duration": 4949,
    "start_time": "2022-02-25T11:55:24.659Z"
   },
   {
    "duration": 18936,
    "start_time": "2022-02-25T11:55:29.610Z"
   },
   {
    "duration": 27740,
    "start_time": "2022-02-25T11:55:48.548Z"
   },
   {
    "duration": 6,
    "start_time": "2022-02-25T11:56:16.290Z"
   },
   {
    "duration": 21,
    "start_time": "2022-02-25T11:56:16.299Z"
   },
   {
    "duration": 5077,
    "start_time": "2022-02-25T11:56:16.322Z"
   },
   {
    "duration": 11481,
    "start_time": "2022-02-25T11:56:21.401Z"
   },
   {
    "duration": 16463,
    "start_time": "2022-02-25T11:56:32.885Z"
   },
   {
    "duration": 7,
    "start_time": "2022-02-25T11:56:49.350Z"
   },
   {
    "duration": 833,
    "start_time": "2022-02-25T11:56:49.359Z"
   },
   {
    "duration": 350,
    "start_time": "2022-02-25T11:56:50.195Z"
   },
   {
    "duration": 7,
    "start_time": "2022-02-25T12:01:17.755Z"
   },
   {
    "duration": 807,
    "start_time": "2022-02-25T12:01:18.543Z"
   },
   {
    "duration": 309,
    "start_time": "2022-02-25T12:01:20.452Z"
   },
   {
    "duration": 398,
    "start_time": "2022-02-25T12:01:23.196Z"
   },
   {
    "duration": 471,
    "start_time": "2022-02-25T12:01:24.516Z"
   },
   {
    "duration": 7,
    "start_time": "2022-02-25T12:07:32.396Z"
   },
   {
    "duration": 837,
    "start_time": "2022-02-25T12:07:33.497Z"
   },
   {
    "duration": 379,
    "start_time": "2022-02-25T12:12:58.424Z"
   },
   {
    "duration": 305,
    "start_time": "2022-02-25T12:13:01.536Z"
   },
   {
    "duration": 453,
    "start_time": "2022-02-25T12:13:05.085Z"
   }
  ],
  "kernelspec": {
   "display_name": "Python 3 (ipykernel)",
   "language": "python",
   "name": "python3"
  },
  "language_info": {
   "codemirror_mode": {
    "name": "ipython",
    "version": 3
   },
   "file_extension": ".py",
   "mimetype": "text/x-python",
   "name": "python",
   "nbconvert_exporter": "python",
   "pygments_lexer": "ipython3",
   "version": "3.9.7"
  },
  "toc": {
   "base_numbering": 1,
   "nav_menu": {},
   "number_sections": true,
   "sideBar": true,
   "skip_h1_title": true,
   "title_cell": "Содержание",
   "title_sidebar": "Contents",
   "toc_cell": true,
   "toc_position": {
    "height": "calc(100% - 180px)",
    "left": "10px",
    "top": "150px",
    "width": "366.375px"
   },
   "toc_section_display": true,
   "toc_window_display": true
  }
 },
 "nbformat": 4,
 "nbformat_minor": 2
}
