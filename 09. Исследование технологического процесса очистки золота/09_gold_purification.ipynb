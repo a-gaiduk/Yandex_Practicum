{
 "cells": [
  {
   "cell_type": "markdown",
   "metadata": {},
   "source": [
    "# Восстановление золота из руды"
   ]
  },
  {
   "cell_type": "markdown",
   "metadata": {},
   "source": [
    "Модель должна предсказать коэффициент восстановления золота из золотосодержащей руды. Используем данные с параметрами добычи и очистки. \n",
    "\n",
    "Модель поможет оптимизировать производство, чтобы не запускать предприятие с убыточными характеристиками."
   ]
  },
  {
   "cell_type": "code",
   "execution_count": 1,
   "metadata": {},
   "outputs": [],
   "source": [
    "import pandas as pd\n",
    "import numpy as np\n",
    "\n",
    "from sklearn.model_selection import train_test_split\n",
    "from sklearn.linear_model import LogisticRegression\n",
    "\n",
    "from sklearn.metrics import make_scorer\n",
    "\n",
    "from sklearn.linear_model import LinearRegression\n",
    "from sklearn.linear_model import RidgeCV\n",
    "from sklearn.ensemble import RandomForestRegressor\n",
    "from sklearn.neighbors import KNeighborsRegressor\n",
    "from sklearn.tree import DecisionTreeRegressor\n",
    "from sklearn.dummy import DummyRegressor\n",
    "\n",
    "from sklearn.metrics import mean_absolute_error\n",
    "from sklearn.model_selection import cross_val_score\n",
    "from sklearn.model_selection import GridSearchCV\n",
    "\n",
    "import matplotlib.pyplot as plt\n",
    "pd.options.mode.chained_assignment = None\n",
    "\n",
    "import seaborn as sns\n",
    "\n",
    "import warnings\n",
    "warnings.simplefilter('ignore')\n",
    "\n",
    "pd.set_option('display.max_rows', 5000)"
   ]
  },
  {
   "cell_type": "code",
   "execution_count": null,
   "metadata": {},
   "outputs": [],
   "source": []
  },
  {
   "cell_type": "markdown",
   "metadata": {},
   "source": [
    "## Подготовка данных"
   ]
  },
  {
   "cell_type": "markdown",
   "metadata": {},
   "source": [
    "### Обзор данных"
   ]
  },
  {
   "cell_type": "code",
   "execution_count": 2,
   "metadata": {},
   "outputs": [],
   "source": [
    "recovery_train = pd.read_csv('/datasets/gold_recovery_train_new.csv')\n",
    "recovery_test = pd.read_csv('/datasets/gold_recovery_test_new.csv')\n",
    "recovery_full = pd.read_csv('/datasets/gold_recovery_full_new.csv')"
   ]
  },
  {
   "cell_type": "code",
   "execution_count": 3,
   "metadata": {},
   "outputs": [
    {
     "data": {
      "text/html": [
       "<div>\n",
       "<style scoped>\n",
       "    .dataframe tbody tr th:only-of-type {\n",
       "        vertical-align: middle;\n",
       "    }\n",
       "\n",
       "    .dataframe tbody tr th {\n",
       "        vertical-align: top;\n",
       "    }\n",
       "\n",
       "    .dataframe thead th {\n",
       "        text-align: right;\n",
       "    }\n",
       "</style>\n",
       "<table border=\"1\" class=\"dataframe\">\n",
       "  <thead>\n",
       "    <tr style=\"text-align: right;\">\n",
       "      <th></th>\n",
       "      <th>date</th>\n",
       "      <th>final.output.concentrate_ag</th>\n",
       "      <th>final.output.concentrate_pb</th>\n",
       "      <th>final.output.concentrate_sol</th>\n",
       "      <th>final.output.concentrate_au</th>\n",
       "      <th>final.output.recovery</th>\n",
       "      <th>final.output.tail_ag</th>\n",
       "      <th>final.output.tail_pb</th>\n",
       "      <th>final.output.tail_sol</th>\n",
       "      <th>final.output.tail_au</th>\n",
       "      <th>...</th>\n",
       "      <th>secondary_cleaner.state.floatbank4_a_air</th>\n",
       "      <th>secondary_cleaner.state.floatbank4_a_level</th>\n",
       "      <th>secondary_cleaner.state.floatbank4_b_air</th>\n",
       "      <th>secondary_cleaner.state.floatbank4_b_level</th>\n",
       "      <th>secondary_cleaner.state.floatbank5_a_air</th>\n",
       "      <th>secondary_cleaner.state.floatbank5_a_level</th>\n",
       "      <th>secondary_cleaner.state.floatbank5_b_air</th>\n",
       "      <th>secondary_cleaner.state.floatbank5_b_level</th>\n",
       "      <th>secondary_cleaner.state.floatbank6_a_air</th>\n",
       "      <th>secondary_cleaner.state.floatbank6_a_level</th>\n",
       "    </tr>\n",
       "  </thead>\n",
       "  <tbody>\n",
       "    <tr>\n",
       "      <th>0</th>\n",
       "      <td>2016-01-15 00:00:00</td>\n",
       "      <td>6.055403</td>\n",
       "      <td>9.889648</td>\n",
       "      <td>5.507324</td>\n",
       "      <td>42.192020</td>\n",
       "      <td>70.541216</td>\n",
       "      <td>10.411962</td>\n",
       "      <td>0.895447</td>\n",
       "      <td>16.904297</td>\n",
       "      <td>2.143149</td>\n",
       "      <td>...</td>\n",
       "      <td>14.016835</td>\n",
       "      <td>-502.488007</td>\n",
       "      <td>12.099931</td>\n",
       "      <td>-504.715942</td>\n",
       "      <td>9.925633</td>\n",
       "      <td>-498.310211</td>\n",
       "      <td>8.079666</td>\n",
       "      <td>-500.470978</td>\n",
       "      <td>14.151341</td>\n",
       "      <td>-605.841980</td>\n",
       "    </tr>\n",
       "    <tr>\n",
       "      <th>1</th>\n",
       "      <td>2016-01-15 01:00:00</td>\n",
       "      <td>6.029369</td>\n",
       "      <td>9.968944</td>\n",
       "      <td>5.257781</td>\n",
       "      <td>42.701629</td>\n",
       "      <td>69.266198</td>\n",
       "      <td>10.462676</td>\n",
       "      <td>0.927452</td>\n",
       "      <td>16.634514</td>\n",
       "      <td>2.224930</td>\n",
       "      <td>...</td>\n",
       "      <td>13.992281</td>\n",
       "      <td>-505.503262</td>\n",
       "      <td>11.950531</td>\n",
       "      <td>-501.331529</td>\n",
       "      <td>10.039245</td>\n",
       "      <td>-500.169983</td>\n",
       "      <td>7.984757</td>\n",
       "      <td>-500.582168</td>\n",
       "      <td>13.998353</td>\n",
       "      <td>-599.787184</td>\n",
       "    </tr>\n",
       "    <tr>\n",
       "      <th>2</th>\n",
       "      <td>2016-01-15 02:00:00</td>\n",
       "      <td>6.055926</td>\n",
       "      <td>10.213995</td>\n",
       "      <td>5.383759</td>\n",
       "      <td>42.657501</td>\n",
       "      <td>68.116445</td>\n",
       "      <td>10.507046</td>\n",
       "      <td>0.953716</td>\n",
       "      <td>16.208849</td>\n",
       "      <td>2.257889</td>\n",
       "      <td>...</td>\n",
       "      <td>14.015015</td>\n",
       "      <td>-502.520901</td>\n",
       "      <td>11.912783</td>\n",
       "      <td>-501.133383</td>\n",
       "      <td>10.070913</td>\n",
       "      <td>-500.129135</td>\n",
       "      <td>8.013877</td>\n",
       "      <td>-500.517572</td>\n",
       "      <td>14.028663</td>\n",
       "      <td>-601.427363</td>\n",
       "    </tr>\n",
       "  </tbody>\n",
       "</table>\n",
       "<p>3 rows × 87 columns</p>\n",
       "</div>"
      ],
      "text/plain": [
       "                  date  final.output.concentrate_ag  \\\n",
       "0  2016-01-15 00:00:00                     6.055403   \n",
       "1  2016-01-15 01:00:00                     6.029369   \n",
       "2  2016-01-15 02:00:00                     6.055926   \n",
       "\n",
       "   final.output.concentrate_pb  final.output.concentrate_sol  \\\n",
       "0                     9.889648                      5.507324   \n",
       "1                     9.968944                      5.257781   \n",
       "2                    10.213995                      5.383759   \n",
       "\n",
       "   final.output.concentrate_au  final.output.recovery  final.output.tail_ag  \\\n",
       "0                    42.192020              70.541216             10.411962   \n",
       "1                    42.701629              69.266198             10.462676   \n",
       "2                    42.657501              68.116445             10.507046   \n",
       "\n",
       "   final.output.tail_pb  final.output.tail_sol  final.output.tail_au  ...  \\\n",
       "0              0.895447              16.904297              2.143149  ...   \n",
       "1              0.927452              16.634514              2.224930  ...   \n",
       "2              0.953716              16.208849              2.257889  ...   \n",
       "\n",
       "   secondary_cleaner.state.floatbank4_a_air  \\\n",
       "0                                 14.016835   \n",
       "1                                 13.992281   \n",
       "2                                 14.015015   \n",
       "\n",
       "   secondary_cleaner.state.floatbank4_a_level  \\\n",
       "0                                 -502.488007   \n",
       "1                                 -505.503262   \n",
       "2                                 -502.520901   \n",
       "\n",
       "   secondary_cleaner.state.floatbank4_b_air  \\\n",
       "0                                 12.099931   \n",
       "1                                 11.950531   \n",
       "2                                 11.912783   \n",
       "\n",
       "   secondary_cleaner.state.floatbank4_b_level  \\\n",
       "0                                 -504.715942   \n",
       "1                                 -501.331529   \n",
       "2                                 -501.133383   \n",
       "\n",
       "   secondary_cleaner.state.floatbank5_a_air  \\\n",
       "0                                  9.925633   \n",
       "1                                 10.039245   \n",
       "2                                 10.070913   \n",
       "\n",
       "   secondary_cleaner.state.floatbank5_a_level  \\\n",
       "0                                 -498.310211   \n",
       "1                                 -500.169983   \n",
       "2                                 -500.129135   \n",
       "\n",
       "   secondary_cleaner.state.floatbank5_b_air  \\\n",
       "0                                  8.079666   \n",
       "1                                  7.984757   \n",
       "2                                  8.013877   \n",
       "\n",
       "   secondary_cleaner.state.floatbank5_b_level  \\\n",
       "0                                 -500.470978   \n",
       "1                                 -500.582168   \n",
       "2                                 -500.517572   \n",
       "\n",
       "   secondary_cleaner.state.floatbank6_a_air  \\\n",
       "0                                 14.151341   \n",
       "1                                 13.998353   \n",
       "2                                 14.028663   \n",
       "\n",
       "   secondary_cleaner.state.floatbank6_a_level  \n",
       "0                                 -605.841980  \n",
       "1                                 -599.787184  \n",
       "2                                 -601.427363  \n",
       "\n",
       "[3 rows x 87 columns]"
      ]
     },
     "execution_count": 3,
     "metadata": {},
     "output_type": "execute_result"
    }
   ],
   "source": [
    "recovery_train.head(3)"
   ]
  },
  {
   "cell_type": "code",
   "execution_count": 4,
   "metadata": {
    "scrolled": false
   },
   "outputs": [
    {
     "name": "stdout",
     "output_type": "stream",
     "text": [
      "<class 'pandas.core.frame.DataFrame'>\n",
      "RangeIndex: 14149 entries, 0 to 14148\n",
      "Data columns (total 87 columns):\n",
      " #   Column                                              Non-Null Count  Dtype  \n",
      "---  ------                                              --------------  -----  \n",
      " 0   date                                                14149 non-null  object \n",
      " 1   final.output.concentrate_ag                         14148 non-null  float64\n",
      " 2   final.output.concentrate_pb                         14148 non-null  float64\n",
      " 3   final.output.concentrate_sol                        13938 non-null  float64\n",
      " 4   final.output.concentrate_au                         14149 non-null  float64\n",
      " 5   final.output.recovery                               14149 non-null  float64\n",
      " 6   final.output.tail_ag                                14149 non-null  float64\n",
      " 7   final.output.tail_pb                                14049 non-null  float64\n",
      " 8   final.output.tail_sol                               14144 non-null  float64\n",
      " 9   final.output.tail_au                                14149 non-null  float64\n",
      " 10  primary_cleaner.input.sulfate                       14129 non-null  float64\n",
      " 11  primary_cleaner.input.depressant                    14117 non-null  float64\n",
      " 12  primary_cleaner.input.feed_size                     14149 non-null  float64\n",
      " 13  primary_cleaner.input.xanthate                      14049 non-null  float64\n",
      " 14  primary_cleaner.output.concentrate_ag               14149 non-null  float64\n",
      " 15  primary_cleaner.output.concentrate_pb               14063 non-null  float64\n",
      " 16  primary_cleaner.output.concentrate_sol              13863 non-null  float64\n",
      " 17  primary_cleaner.output.concentrate_au               14149 non-null  float64\n",
      " 18  primary_cleaner.output.tail_ag                      14148 non-null  float64\n",
      " 19  primary_cleaner.output.tail_pb                      14134 non-null  float64\n",
      " 20  primary_cleaner.output.tail_sol                     14103 non-null  float64\n",
      " 21  primary_cleaner.output.tail_au                      14149 non-null  float64\n",
      " 22  primary_cleaner.state.floatbank8_a_air              14145 non-null  float64\n",
      " 23  primary_cleaner.state.floatbank8_a_level            14148 non-null  float64\n",
      " 24  primary_cleaner.state.floatbank8_b_air              14145 non-null  float64\n",
      " 25  primary_cleaner.state.floatbank8_b_level            14148 non-null  float64\n",
      " 26  primary_cleaner.state.floatbank8_c_air              14147 non-null  float64\n",
      " 27  primary_cleaner.state.floatbank8_c_level            14148 non-null  float64\n",
      " 28  primary_cleaner.state.floatbank8_d_air              14146 non-null  float64\n",
      " 29  primary_cleaner.state.floatbank8_d_level            14148 non-null  float64\n",
      " 30  rougher.calculation.sulfate_to_au_concentrate       14148 non-null  float64\n",
      " 31  rougher.calculation.floatbank10_sulfate_to_au_feed  14148 non-null  float64\n",
      " 32  rougher.calculation.floatbank11_sulfate_to_au_feed  14148 non-null  float64\n",
      " 33  rougher.calculation.au_pb_ratio                     14149 non-null  float64\n",
      " 34  rougher.input.feed_ag                               14149 non-null  float64\n",
      " 35  rougher.input.feed_pb                               14049 non-null  float64\n",
      " 36  rougher.input.feed_rate                             14141 non-null  float64\n",
      " 37  rougher.input.feed_size                             14005 non-null  float64\n",
      " 38  rougher.input.feed_sol                              14071 non-null  float64\n",
      " 39  rougher.input.feed_au                               14149 non-null  float64\n",
      " 40  rougher.input.floatbank10_sulfate                   14120 non-null  float64\n",
      " 41  rougher.input.floatbank10_xanthate                  14141 non-null  float64\n",
      " 42  rougher.input.floatbank11_sulfate                   14113 non-null  float64\n",
      " 43  rougher.input.floatbank11_xanthate                  13721 non-null  float64\n",
      " 44  rougher.output.concentrate_ag                       14149 non-null  float64\n",
      " 45  rougher.output.concentrate_pb                       14149 non-null  float64\n",
      " 46  rougher.output.concentrate_sol                      14127 non-null  float64\n",
      " 47  rougher.output.concentrate_au                       14149 non-null  float64\n",
      " 48  rougher.output.recovery                             14149 non-null  float64\n",
      " 49  rougher.output.tail_ag                              14148 non-null  float64\n",
      " 50  rougher.output.tail_pb                              14149 non-null  float64\n",
      " 51  rougher.output.tail_sol                             14149 non-null  float64\n",
      " 52  rougher.output.tail_au                              14149 non-null  float64\n",
      " 53  rougher.state.floatbank10_a_air                     14148 non-null  float64\n",
      " 54  rougher.state.floatbank10_a_level                   14148 non-null  float64\n",
      " 55  rougher.state.floatbank10_b_air                     14148 non-null  float64\n",
      " 56  rougher.state.floatbank10_b_level                   14148 non-null  float64\n",
      " 57  rougher.state.floatbank10_c_air                     14148 non-null  float64\n",
      " 58  rougher.state.floatbank10_c_level                   14148 non-null  float64\n",
      " 59  rougher.state.floatbank10_d_air                     14149 non-null  float64\n",
      " 60  rougher.state.floatbank10_d_level                   14149 non-null  float64\n",
      " 61  rougher.state.floatbank10_e_air                     13713 non-null  float64\n",
      " 62  rougher.state.floatbank10_e_level                   14149 non-null  float64\n",
      " 63  rougher.state.floatbank10_f_air                     14149 non-null  float64\n",
      " 64  rougher.state.floatbank10_f_level                   14149 non-null  float64\n",
      " 65  secondary_cleaner.output.tail_ag                    14147 non-null  float64\n",
      " 66  secondary_cleaner.output.tail_pb                    14139 non-null  float64\n",
      " 67  secondary_cleaner.output.tail_sol                   12544 non-null  float64\n",
      " 68  secondary_cleaner.output.tail_au                    14149 non-null  float64\n",
      " 69  secondary_cleaner.state.floatbank2_a_air            13932 non-null  float64\n",
      " 70  secondary_cleaner.state.floatbank2_a_level          14148 non-null  float64\n",
      " 71  secondary_cleaner.state.floatbank2_b_air            14128 non-null  float64\n",
      " 72  secondary_cleaner.state.floatbank2_b_level          14148 non-null  float64\n",
      " 73  secondary_cleaner.state.floatbank3_a_air            14145 non-null  float64\n",
      " 74  secondary_cleaner.state.floatbank3_a_level          14148 non-null  float64\n",
      " 75  secondary_cleaner.state.floatbank3_b_air            14148 non-null  float64\n",
      " 76  secondary_cleaner.state.floatbank3_b_level          14148 non-null  float64\n",
      " 77  secondary_cleaner.state.floatbank4_a_air            14143 non-null  float64\n",
      " 78  secondary_cleaner.state.floatbank4_a_level          14148 non-null  float64\n",
      " 79  secondary_cleaner.state.floatbank4_b_air            14148 non-null  float64\n",
      " 80  secondary_cleaner.state.floatbank4_b_level          14148 non-null  float64\n",
      " 81  secondary_cleaner.state.floatbank5_a_air            14148 non-null  float64\n",
      " 82  secondary_cleaner.state.floatbank5_a_level          14148 non-null  float64\n",
      " 83  secondary_cleaner.state.floatbank5_b_air            14148 non-null  float64\n",
      " 84  secondary_cleaner.state.floatbank5_b_level          14148 non-null  float64\n",
      " 85  secondary_cleaner.state.floatbank6_a_air            14147 non-null  float64\n",
      " 86  secondary_cleaner.state.floatbank6_a_level          14148 non-null  float64\n",
      "dtypes: float64(86), object(1)\n",
      "memory usage: 9.4+ MB\n"
     ]
    }
   ],
   "source": [
    "recovery_train.info()"
   ]
  },
  {
   "cell_type": "code",
   "execution_count": null,
   "metadata": {},
   "outputs": [],
   "source": []
  },
  {
   "cell_type": "code",
   "execution_count": 5,
   "metadata": {},
   "outputs": [
    {
     "name": "stdout",
     "output_type": "stream",
     "text": [
      "<class 'pandas.core.frame.DataFrame'>\n",
      "RangeIndex: 5290 entries, 0 to 5289\n",
      "Data columns (total 53 columns):\n",
      " #   Column                                      Non-Null Count  Dtype  \n",
      "---  ------                                      --------------  -----  \n",
      " 0   date                                        5290 non-null   object \n",
      " 1   primary_cleaner.input.sulfate               5286 non-null   float64\n",
      " 2   primary_cleaner.input.depressant            5285 non-null   float64\n",
      " 3   primary_cleaner.input.feed_size             5290 non-null   float64\n",
      " 4   primary_cleaner.input.xanthate              5286 non-null   float64\n",
      " 5   primary_cleaner.state.floatbank8_a_air      5290 non-null   float64\n",
      " 6   primary_cleaner.state.floatbank8_a_level    5290 non-null   float64\n",
      " 7   primary_cleaner.state.floatbank8_b_air      5290 non-null   float64\n",
      " 8   primary_cleaner.state.floatbank8_b_level    5290 non-null   float64\n",
      " 9   primary_cleaner.state.floatbank8_c_air      5290 non-null   float64\n",
      " 10  primary_cleaner.state.floatbank8_c_level    5290 non-null   float64\n",
      " 11  primary_cleaner.state.floatbank8_d_air      5290 non-null   float64\n",
      " 12  primary_cleaner.state.floatbank8_d_level    5290 non-null   float64\n",
      " 13  rougher.input.feed_ag                       5290 non-null   float64\n",
      " 14  rougher.input.feed_pb                       5290 non-null   float64\n",
      " 15  rougher.input.feed_rate                     5287 non-null   float64\n",
      " 16  rougher.input.feed_size                     5289 non-null   float64\n",
      " 17  rougher.input.feed_sol                      5269 non-null   float64\n",
      " 18  rougher.input.feed_au                       5290 non-null   float64\n",
      " 19  rougher.input.floatbank10_sulfate           5285 non-null   float64\n",
      " 20  rougher.input.floatbank10_xanthate          5290 non-null   float64\n",
      " 21  rougher.input.floatbank11_sulfate           5282 non-null   float64\n",
      " 22  rougher.input.floatbank11_xanthate          5265 non-null   float64\n",
      " 23  rougher.state.floatbank10_a_air             5290 non-null   float64\n",
      " 24  rougher.state.floatbank10_a_level           5290 non-null   float64\n",
      " 25  rougher.state.floatbank10_b_air             5290 non-null   float64\n",
      " 26  rougher.state.floatbank10_b_level           5290 non-null   float64\n",
      " 27  rougher.state.floatbank10_c_air             5290 non-null   float64\n",
      " 28  rougher.state.floatbank10_c_level           5290 non-null   float64\n",
      " 29  rougher.state.floatbank10_d_air             5290 non-null   float64\n",
      " 30  rougher.state.floatbank10_d_level           5290 non-null   float64\n",
      " 31  rougher.state.floatbank10_e_air             5290 non-null   float64\n",
      " 32  rougher.state.floatbank10_e_level           5290 non-null   float64\n",
      " 33  rougher.state.floatbank10_f_air             5290 non-null   float64\n",
      " 34  rougher.state.floatbank10_f_level           5290 non-null   float64\n",
      " 35  secondary_cleaner.state.floatbank2_a_air    5287 non-null   float64\n",
      " 36  secondary_cleaner.state.floatbank2_a_level  5290 non-null   float64\n",
      " 37  secondary_cleaner.state.floatbank2_b_air    5288 non-null   float64\n",
      " 38  secondary_cleaner.state.floatbank2_b_level  5290 non-null   float64\n",
      " 39  secondary_cleaner.state.floatbank3_a_air    5281 non-null   float64\n",
      " 40  secondary_cleaner.state.floatbank3_a_level  5290 non-null   float64\n",
      " 41  secondary_cleaner.state.floatbank3_b_air    5290 non-null   float64\n",
      " 42  secondary_cleaner.state.floatbank3_b_level  5290 non-null   float64\n",
      " 43  secondary_cleaner.state.floatbank4_a_air    5290 non-null   float64\n",
      " 44  secondary_cleaner.state.floatbank4_a_level  5290 non-null   float64\n",
      " 45  secondary_cleaner.state.floatbank4_b_air    5290 non-null   float64\n",
      " 46  secondary_cleaner.state.floatbank4_b_level  5290 non-null   float64\n",
      " 47  secondary_cleaner.state.floatbank5_a_air    5290 non-null   float64\n",
      " 48  secondary_cleaner.state.floatbank5_a_level  5290 non-null   float64\n",
      " 49  secondary_cleaner.state.floatbank5_b_air    5290 non-null   float64\n",
      " 50  secondary_cleaner.state.floatbank5_b_level  5290 non-null   float64\n",
      " 51  secondary_cleaner.state.floatbank6_a_air    5290 non-null   float64\n",
      " 52  secondary_cleaner.state.floatbank6_a_level  5290 non-null   float64\n",
      "dtypes: float64(52), object(1)\n",
      "memory usage: 2.1+ MB\n"
     ]
    }
   ],
   "source": [
    "recovery_test.info()"
   ]
  },
  {
   "cell_type": "code",
   "execution_count": null,
   "metadata": {},
   "outputs": [],
   "source": []
  },
  {
   "cell_type": "code",
   "execution_count": 6,
   "metadata": {},
   "outputs": [
    {
     "name": "stdout",
     "output_type": "stream",
     "text": [
      "<class 'pandas.core.frame.DataFrame'>\n",
      "RangeIndex: 19439 entries, 0 to 19438\n",
      "Data columns (total 87 columns):\n",
      " #   Column                                              Non-Null Count  Dtype  \n",
      "---  ------                                              --------------  -----  \n",
      " 0   date                                                19439 non-null  object \n",
      " 1   final.output.concentrate_ag                         19438 non-null  float64\n",
      " 2   final.output.concentrate_pb                         19438 non-null  float64\n",
      " 3   final.output.concentrate_sol                        19228 non-null  float64\n",
      " 4   final.output.concentrate_au                         19439 non-null  float64\n",
      " 5   final.output.recovery                               19439 non-null  float64\n",
      " 6   final.output.tail_ag                                19438 non-null  float64\n",
      " 7   final.output.tail_pb                                19338 non-null  float64\n",
      " 8   final.output.tail_sol                               19433 non-null  float64\n",
      " 9   final.output.tail_au                                19439 non-null  float64\n",
      " 10  primary_cleaner.input.sulfate                       19415 non-null  float64\n",
      " 11  primary_cleaner.input.depressant                    19402 non-null  float64\n",
      " 12  primary_cleaner.input.feed_size                     19439 non-null  float64\n",
      " 13  primary_cleaner.input.xanthate                      19335 non-null  float64\n",
      " 14  primary_cleaner.output.concentrate_ag               19439 non-null  float64\n",
      " 15  primary_cleaner.output.concentrate_pb               19323 non-null  float64\n",
      " 16  primary_cleaner.output.concentrate_sol              19069 non-null  float64\n",
      " 17  primary_cleaner.output.concentrate_au               19439 non-null  float64\n",
      " 18  primary_cleaner.output.tail_ag                      19435 non-null  float64\n",
      " 19  primary_cleaner.output.tail_pb                      19418 non-null  float64\n",
      " 20  primary_cleaner.output.tail_sol                     19377 non-null  float64\n",
      " 21  primary_cleaner.output.tail_au                      19439 non-null  float64\n",
      " 22  primary_cleaner.state.floatbank8_a_air              19435 non-null  float64\n",
      " 23  primary_cleaner.state.floatbank8_a_level            19438 non-null  float64\n",
      " 24  primary_cleaner.state.floatbank8_b_air              19435 non-null  float64\n",
      " 25  primary_cleaner.state.floatbank8_b_level            19438 non-null  float64\n",
      " 26  primary_cleaner.state.floatbank8_c_air              19437 non-null  float64\n",
      " 27  primary_cleaner.state.floatbank8_c_level            19438 non-null  float64\n",
      " 28  primary_cleaner.state.floatbank8_d_air              19436 non-null  float64\n",
      " 29  primary_cleaner.state.floatbank8_d_level            19438 non-null  float64\n",
      " 30  rougher.calculation.sulfate_to_au_concentrate       19437 non-null  float64\n",
      " 31  rougher.calculation.floatbank10_sulfate_to_au_feed  19437 non-null  float64\n",
      " 32  rougher.calculation.floatbank11_sulfate_to_au_feed  19437 non-null  float64\n",
      " 33  rougher.calculation.au_pb_ratio                     19439 non-null  float64\n",
      " 34  rougher.input.feed_ag                               19439 non-null  float64\n",
      " 35  rougher.input.feed_pb                               19339 non-null  float64\n",
      " 36  rougher.input.feed_rate                             19428 non-null  float64\n",
      " 37  rougher.input.feed_size                             19294 non-null  float64\n",
      " 38  rougher.input.feed_sol                              19340 non-null  float64\n",
      " 39  rougher.input.feed_au                               19439 non-null  float64\n",
      " 40  rougher.input.floatbank10_sulfate                   19405 non-null  float64\n",
      " 41  rougher.input.floatbank10_xanthate                  19431 non-null  float64\n",
      " 42  rougher.input.floatbank11_sulfate                   19395 non-null  float64\n",
      " 43  rougher.input.floatbank11_xanthate                  18986 non-null  float64\n",
      " 44  rougher.output.concentrate_ag                       19439 non-null  float64\n",
      " 45  rougher.output.concentrate_pb                       19439 non-null  float64\n",
      " 46  rougher.output.concentrate_sol                      19416 non-null  float64\n",
      " 47  rougher.output.concentrate_au                       19439 non-null  float64\n",
      " 48  rougher.output.recovery                             19439 non-null  float64\n",
      " 49  rougher.output.tail_ag                              19438 non-null  float64\n",
      " 50  rougher.output.tail_pb                              19439 non-null  float64\n",
      " 51  rougher.output.tail_sol                             19439 non-null  float64\n",
      " 52  rougher.output.tail_au                              19439 non-null  float64\n",
      " 53  rougher.state.floatbank10_a_air                     19438 non-null  float64\n",
      " 54  rougher.state.floatbank10_a_level                   19438 non-null  float64\n",
      " 55  rougher.state.floatbank10_b_air                     19438 non-null  float64\n",
      " 56  rougher.state.floatbank10_b_level                   19438 non-null  float64\n",
      " 57  rougher.state.floatbank10_c_air                     19438 non-null  float64\n",
      " 58  rougher.state.floatbank10_c_level                   19438 non-null  float64\n",
      " 59  rougher.state.floatbank10_d_air                     19439 non-null  float64\n",
      " 60  rougher.state.floatbank10_d_level                   19439 non-null  float64\n",
      " 61  rougher.state.floatbank10_e_air                     19003 non-null  float64\n",
      " 62  rougher.state.floatbank10_e_level                   19439 non-null  float64\n",
      " 63  rougher.state.floatbank10_f_air                     19439 non-null  float64\n",
      " 64  rougher.state.floatbank10_f_level                   19439 non-null  float64\n",
      " 65  secondary_cleaner.output.tail_ag                    19437 non-null  float64\n",
      " 66  secondary_cleaner.output.tail_pb                    19427 non-null  float64\n",
      " 67  secondary_cleaner.output.tail_sol                   17691 non-null  float64\n",
      " 68  secondary_cleaner.output.tail_au                    19439 non-null  float64\n",
      " 69  secondary_cleaner.state.floatbank2_a_air            19219 non-null  float64\n",
      " 70  secondary_cleaner.state.floatbank2_a_level          19438 non-null  float64\n",
      " 71  secondary_cleaner.state.floatbank2_b_air            19416 non-null  float64\n",
      " 72  secondary_cleaner.state.floatbank2_b_level          19438 non-null  float64\n",
      " 73  secondary_cleaner.state.floatbank3_a_air            19426 non-null  float64\n",
      " 74  secondary_cleaner.state.floatbank3_a_level          19438 non-null  float64\n",
      " 75  secondary_cleaner.state.floatbank3_b_air            19438 non-null  float64\n",
      " 76  secondary_cleaner.state.floatbank3_b_level          19438 non-null  float64\n",
      " 77  secondary_cleaner.state.floatbank4_a_air            19433 non-null  float64\n",
      " 78  secondary_cleaner.state.floatbank4_a_level          19438 non-null  float64\n",
      " 79  secondary_cleaner.state.floatbank4_b_air            19438 non-null  float64\n",
      " 80  secondary_cleaner.state.floatbank4_b_level          19438 non-null  float64\n",
      " 81  secondary_cleaner.state.floatbank5_a_air            19438 non-null  float64\n",
      " 82  secondary_cleaner.state.floatbank5_a_level          19438 non-null  float64\n",
      " 83  secondary_cleaner.state.floatbank5_b_air            19438 non-null  float64\n",
      " 84  secondary_cleaner.state.floatbank5_b_level          19438 non-null  float64\n",
      " 85  secondary_cleaner.state.floatbank6_a_air            19437 non-null  float64\n",
      " 86  secondary_cleaner.state.floatbank6_a_level          19438 non-null  float64\n",
      "dtypes: float64(86), object(1)\n",
      "memory usage: 12.9+ MB\n"
     ]
    }
   ],
   "source": [
    "recovery_full.info()"
   ]
  },
  {
   "cell_type": "code",
   "execution_count": null,
   "metadata": {},
   "outputs": [],
   "source": []
  },
  {
   "cell_type": "code",
   "execution_count": 7,
   "metadata": {},
   "outputs": [
    {
     "data": {
      "text/html": [
       "<div>\n",
       "<style scoped>\n",
       "    .dataframe tbody tr th:only-of-type {\n",
       "        vertical-align: middle;\n",
       "    }\n",
       "\n",
       "    .dataframe tbody tr th {\n",
       "        vertical-align: top;\n",
       "    }\n",
       "\n",
       "    .dataframe thead th {\n",
       "        text-align: right;\n",
       "    }\n",
       "</style>\n",
       "<table border=\"1\" class=\"dataframe\">\n",
       "  <thead>\n",
       "    <tr style=\"text-align: right;\">\n",
       "      <th></th>\n",
       "      <th>count</th>\n",
       "      <th>mean</th>\n",
       "      <th>std</th>\n",
       "      <th>min</th>\n",
       "      <th>25%</th>\n",
       "      <th>50%</th>\n",
       "      <th>75%</th>\n",
       "      <th>max</th>\n",
       "    </tr>\n",
       "  </thead>\n",
       "  <tbody>\n",
       "    <tr>\n",
       "      <th>final.output.concentrate_ag</th>\n",
       "      <td>14148.0</td>\n",
       "      <td>5.142034</td>\n",
       "      <td>1.369586</td>\n",
       "      <td>0.000000e+00</td>\n",
       "      <td>4.211620</td>\n",
       "      <td>4.994652</td>\n",
       "      <td>5.859540</td>\n",
       "      <td>1.600195e+01</td>\n",
       "    </tr>\n",
       "    <tr>\n",
       "      <th>final.output.concentrate_pb</th>\n",
       "      <td>14148.0</td>\n",
       "      <td>10.132960</td>\n",
       "      <td>1.654930</td>\n",
       "      <td>0.000000e+00</td>\n",
       "      <td>9.297355</td>\n",
       "      <td>10.297144</td>\n",
       "      <td>11.170603</td>\n",
       "      <td>1.703190e+01</td>\n",
       "    </tr>\n",
       "    <tr>\n",
       "      <th>final.output.concentrate_sol</th>\n",
       "      <td>13938.0</td>\n",
       "      <td>9.202849</td>\n",
       "      <td>2.790516</td>\n",
       "      <td>0.000000e+00</td>\n",
       "      <td>7.484645</td>\n",
       "      <td>8.845462</td>\n",
       "      <td>10.487508</td>\n",
       "      <td>1.812485e+01</td>\n",
       "    </tr>\n",
       "    <tr>\n",
       "      <th>final.output.concentrate_au</th>\n",
       "      <td>14149.0</td>\n",
       "      <td>44.003792</td>\n",
       "      <td>4.905261</td>\n",
       "      <td>0.000000e+00</td>\n",
       "      <td>43.276111</td>\n",
       "      <td>44.872436</td>\n",
       "      <td>46.166425</td>\n",
       "      <td>5.275664e+01</td>\n",
       "    </tr>\n",
       "    <tr>\n",
       "      <th>final.output.recovery</th>\n",
       "      <td>14149.0</td>\n",
       "      <td>66.518832</td>\n",
       "      <td>10.295402</td>\n",
       "      <td>0.000000e+00</td>\n",
       "      <td>62.545817</td>\n",
       "      <td>67.432775</td>\n",
       "      <td>72.346428</td>\n",
       "      <td>1.000000e+02</td>\n",
       "    </tr>\n",
       "    <tr>\n",
       "      <th>final.output.tail_ag</th>\n",
       "      <td>14149.0</td>\n",
       "      <td>9.607035</td>\n",
       "      <td>2.319069</td>\n",
       "      <td>0.000000e+00</td>\n",
       "      <td>7.997429</td>\n",
       "      <td>9.480270</td>\n",
       "      <td>11.003707</td>\n",
       "      <td>1.955215e+01</td>\n",
       "    </tr>\n",
       "    <tr>\n",
       "      <th>final.output.tail_pb</th>\n",
       "      <td>14049.0</td>\n",
       "      <td>2.597298</td>\n",
       "      <td>0.971843</td>\n",
       "      <td>0.000000e+00</td>\n",
       "      <td>1.905973</td>\n",
       "      <td>2.592022</td>\n",
       "      <td>3.241723</td>\n",
       "      <td>5.639565e+00</td>\n",
       "    </tr>\n",
       "    <tr>\n",
       "      <th>final.output.tail_sol</th>\n",
       "      <td>14144.0</td>\n",
       "      <td>10.512122</td>\n",
       "      <td>3.003617</td>\n",
       "      <td>0.000000e+00</td>\n",
       "      <td>8.811324</td>\n",
       "      <td>10.514621</td>\n",
       "      <td>11.933009</td>\n",
       "      <td>2.231773e+01</td>\n",
       "    </tr>\n",
       "    <tr>\n",
       "      <th>final.output.tail_au</th>\n",
       "      <td>14149.0</td>\n",
       "      <td>2.918421</td>\n",
       "      <td>0.903712</td>\n",
       "      <td>0.000000e+00</td>\n",
       "      <td>2.368607</td>\n",
       "      <td>2.851025</td>\n",
       "      <td>3.434764</td>\n",
       "      <td>8.197408e+00</td>\n",
       "    </tr>\n",
       "    <tr>\n",
       "      <th>primary_cleaner.input.sulfate</th>\n",
       "      <td>14129.0</td>\n",
       "      <td>133.320659</td>\n",
       "      <td>39.431659</td>\n",
       "      <td>3.111820e-03</td>\n",
       "      <td>107.006651</td>\n",
       "      <td>133.018328</td>\n",
       "      <td>159.825396</td>\n",
       "      <td>2.501278e+02</td>\n",
       "    </tr>\n",
       "    <tr>\n",
       "      <th>primary_cleaner.input.depressant</th>\n",
       "      <td>14117.0</td>\n",
       "      <td>8.866996</td>\n",
       "      <td>3.361589</td>\n",
       "      <td>0.000000e+00</td>\n",
       "      <td>6.040604</td>\n",
       "      <td>8.035811</td>\n",
       "      <td>11.522173</td>\n",
       "      <td>2.005226e+01</td>\n",
       "    </tr>\n",
       "    <tr>\n",
       "      <th>primary_cleaner.input.feed_size</th>\n",
       "      <td>14149.0</td>\n",
       "      <td>7.322310</td>\n",
       "      <td>0.614062</td>\n",
       "      <td>1.080000e+00</td>\n",
       "      <td>6.960000</td>\n",
       "      <td>7.290000</td>\n",
       "      <td>7.700000</td>\n",
       "      <td>1.047000e+01</td>\n",
       "    </tr>\n",
       "    <tr>\n",
       "      <th>primary_cleaner.input.xanthate</th>\n",
       "      <td>14049.0</td>\n",
       "      <td>0.885588</td>\n",
       "      <td>0.372714</td>\n",
       "      <td>4.632753e-06</td>\n",
       "      <td>0.607021</td>\n",
       "      <td>0.888749</td>\n",
       "      <td>1.100933</td>\n",
       "      <td>2.512968e+00</td>\n",
       "    </tr>\n",
       "    <tr>\n",
       "      <th>primary_cleaner.output.concentrate_ag</th>\n",
       "      <td>14149.0</td>\n",
       "      <td>8.200916</td>\n",
       "      <td>2.005185</td>\n",
       "      <td>0.000000e+00</td>\n",
       "      <td>7.107126</td>\n",
       "      <td>8.226247</td>\n",
       "      <td>9.504924</td>\n",
       "      <td>1.608163e+01</td>\n",
       "    </tr>\n",
       "    <tr>\n",
       "      <th>primary_cleaner.output.concentrate_pb</th>\n",
       "      <td>14063.0</td>\n",
       "      <td>9.588862</td>\n",
       "      <td>2.694296</td>\n",
       "      <td>0.000000e+00</td>\n",
       "      <td>8.333489</td>\n",
       "      <td>9.933520</td>\n",
       "      <td>11.310817</td>\n",
       "      <td>1.708128e+01</td>\n",
       "    </tr>\n",
       "    <tr>\n",
       "      <th>primary_cleaner.output.concentrate_sol</th>\n",
       "      <td>13863.0</td>\n",
       "      <td>10.114745</td>\n",
       "      <td>4.064076</td>\n",
       "      <td>0.000000e+00</td>\n",
       "      <td>7.488139</td>\n",
       "      <td>9.726566</td>\n",
       "      <td>13.052807</td>\n",
       "      <td>2.228085e+01</td>\n",
       "    </tr>\n",
       "    <tr>\n",
       "      <th>primary_cleaner.output.concentrate_au</th>\n",
       "      <td>14149.0</td>\n",
       "      <td>32.386836</td>\n",
       "      <td>5.798843</td>\n",
       "      <td>0.000000e+00</td>\n",
       "      <td>30.857764</td>\n",
       "      <td>33.225835</td>\n",
       "      <td>35.330145</td>\n",
       "      <td>4.593393e+01</td>\n",
       "    </tr>\n",
       "    <tr>\n",
       "      <th>primary_cleaner.output.tail_ag</th>\n",
       "      <td>14148.0</td>\n",
       "      <td>16.303929</td>\n",
       "      <td>3.739843</td>\n",
       "      <td>0.000000e+00</td>\n",
       "      <td>13.873147</td>\n",
       "      <td>15.800604</td>\n",
       "      <td>18.450109</td>\n",
       "      <td>2.945957e+01</td>\n",
       "    </tr>\n",
       "    <tr>\n",
       "      <th>primary_cleaner.output.tail_pb</th>\n",
       "      <td>14134.0</td>\n",
       "      <td>3.443398</td>\n",
       "      <td>1.490106</td>\n",
       "      <td>0.000000e+00</td>\n",
       "      <td>2.420259</td>\n",
       "      <td>3.218374</td>\n",
       "      <td>4.253218</td>\n",
       "      <td>9.634565e+00</td>\n",
       "    </tr>\n",
       "    <tr>\n",
       "      <th>primary_cleaner.output.tail_sol</th>\n",
       "      <td>14103.0</td>\n",
       "      <td>7.533566</td>\n",
       "      <td>2.133220</td>\n",
       "      <td>0.000000e+00</td>\n",
       "      <td>6.332548</td>\n",
       "      <td>7.714419</td>\n",
       "      <td>8.910664</td>\n",
       "      <td>2.062083e+01</td>\n",
       "    </tr>\n",
       "    <tr>\n",
       "      <th>primary_cleaner.output.tail_au</th>\n",
       "      <td>14149.0</td>\n",
       "      <td>3.839637</td>\n",
       "      <td>1.603544</td>\n",
       "      <td>0.000000e+00</td>\n",
       "      <td>2.867957</td>\n",
       "      <td>3.510337</td>\n",
       "      <td>4.492470</td>\n",
       "      <td>1.778892e+01</td>\n",
       "    </tr>\n",
       "    <tr>\n",
       "      <th>primary_cleaner.state.floatbank8_a_air</th>\n",
       "      <td>14145.0</td>\n",
       "      <td>1608.000064</td>\n",
       "      <td>128.394355</td>\n",
       "      <td>6.352155e-03</td>\n",
       "      <td>1595.695815</td>\n",
       "      <td>1601.824410</td>\n",
       "      <td>1699.716408</td>\n",
       "      <td>2.079531e+03</td>\n",
       "    </tr>\n",
       "    <tr>\n",
       "      <th>primary_cleaner.state.floatbank8_a_level</th>\n",
       "      <td>14148.0</td>\n",
       "      <td>-488.775525</td>\n",
       "      <td>35.704184</td>\n",
       "      <td>-7.986417e+02</td>\n",
       "      <td>-500.287952</td>\n",
       "      <td>-499.909375</td>\n",
       "      <td>-499.378551</td>\n",
       "      <td>-3.301342e+02</td>\n",
       "    </tr>\n",
       "    <tr>\n",
       "      <th>primary_cleaner.state.floatbank8_b_air</th>\n",
       "      <td>14145.0</td>\n",
       "      <td>1608.610983</td>\n",
       "      <td>131.112729</td>\n",
       "      <td>8.700416e-03</td>\n",
       "      <td>1558.959943</td>\n",
       "      <td>1601.818514</td>\n",
       "      <td>1700.215351</td>\n",
       "      <td>2.114907e+03</td>\n",
       "    </tr>\n",
       "    <tr>\n",
       "      <th>primary_cleaner.state.floatbank8_b_level</th>\n",
       "      <td>14148.0</td>\n",
       "      <td>-489.171786</td>\n",
       "      <td>33.604449</td>\n",
       "      <td>-7.401221e+02</td>\n",
       "      <td>-500.375645</td>\n",
       "      <td>-499.938003</td>\n",
       "      <td>-499.389658</td>\n",
       "      <td>-3.473544e+02</td>\n",
       "    </tr>\n",
       "    <tr>\n",
       "      <th>primary_cleaner.state.floatbank8_c_air</th>\n",
       "      <td>14147.0</td>\n",
       "      <td>1608.879407</td>\n",
       "      <td>134.266898</td>\n",
       "      <td>1.515882e-02</td>\n",
       "      <td>1549.871886</td>\n",
       "      <td>1601.574628</td>\n",
       "      <td>1700.464037</td>\n",
       "      <td>2.013156e+03</td>\n",
       "    </tr>\n",
       "    <tr>\n",
       "      <th>primary_cleaner.state.floatbank8_c_level</th>\n",
       "      <td>14148.0</td>\n",
       "      <td>-489.605549</td>\n",
       "      <td>35.624002</td>\n",
       "      <td>-7.998031e+02</td>\n",
       "      <td>-500.601718</td>\n",
       "      <td>-499.871346</td>\n",
       "      <td>-498.801774</td>\n",
       "      <td>-3.466534e+02</td>\n",
       "    </tr>\n",
       "    <tr>\n",
       "      <th>primary_cleaner.state.floatbank8_d_air</th>\n",
       "      <td>14146.0</td>\n",
       "      <td>1542.189963</td>\n",
       "      <td>278.316132</td>\n",
       "      <td>8.654609e-03</td>\n",
       "      <td>1452.678767</td>\n",
       "      <td>1600.168346</td>\n",
       "      <td>1699.358771</td>\n",
       "      <td>2.398904e+03</td>\n",
       "    </tr>\n",
       "    <tr>\n",
       "      <th>primary_cleaner.state.floatbank8_d_level</th>\n",
       "      <td>14148.0</td>\n",
       "      <td>-483.462423</td>\n",
       "      <td>47.100934</td>\n",
       "      <td>-7.997886e+02</td>\n",
       "      <td>-500.459917</td>\n",
       "      <td>-499.831833</td>\n",
       "      <td>-498.480341</td>\n",
       "      <td>-3.060183e+01</td>\n",
       "    </tr>\n",
       "    <tr>\n",
       "      <th>rougher.calculation.sulfate_to_au_concentrate</th>\n",
       "      <td>14148.0</td>\n",
       "      <td>40382.648631</td>\n",
       "      <td>380143.622167</td>\n",
       "      <td>-4.223520e+07</td>\n",
       "      <td>39994.296160</td>\n",
       "      <td>43684.308422</td>\n",
       "      <td>47760.406722</td>\n",
       "      <td>3.428099e+06</td>\n",
       "    </tr>\n",
       "    <tr>\n",
       "      <th>rougher.calculation.floatbank10_sulfate_to_au_feed</th>\n",
       "      <td>14148.0</td>\n",
       "      <td>3456.608298</td>\n",
       "      <td>5772.510248</td>\n",
       "      <td>-4.865987e+02</td>\n",
       "      <td>2527.093354</td>\n",
       "      <td>2975.892211</td>\n",
       "      <td>3716.360822</td>\n",
       "      <td>6.296390e+05</td>\n",
       "    </tr>\n",
       "    <tr>\n",
       "      <th>rougher.calculation.floatbank11_sulfate_to_au_feed</th>\n",
       "      <td>14148.0</td>\n",
       "      <td>3253.356387</td>\n",
       "      <td>6753.290662</td>\n",
       "      <td>-2.649828e+02</td>\n",
       "      <td>2512.200873</td>\n",
       "      <td>2899.807724</td>\n",
       "      <td>3596.534806</td>\n",
       "      <td>7.186850e+05</td>\n",
       "    </tr>\n",
       "    <tr>\n",
       "      <th>rougher.calculation.au_pb_ratio</th>\n",
       "      <td>14149.0</td>\n",
       "      <td>2.367314</td>\n",
       "      <td>0.873551</td>\n",
       "      <td>-1.054761e-02</td>\n",
       "      <td>1.999588</td>\n",
       "      <td>2.249275</td>\n",
       "      <td>2.660896</td>\n",
       "      <td>3.937927e+01</td>\n",
       "    </tr>\n",
       "    <tr>\n",
       "      <th>rougher.input.feed_ag</th>\n",
       "      <td>14149.0</td>\n",
       "      <td>8.579195</td>\n",
       "      <td>1.896284</td>\n",
       "      <td>1.000000e-02</td>\n",
       "      <td>7.132802</td>\n",
       "      <td>8.156092</td>\n",
       "      <td>9.918304</td>\n",
       "      <td>1.459603e+01</td>\n",
       "    </tr>\n",
       "    <tr>\n",
       "      <th>rougher.input.feed_pb</th>\n",
       "      <td>14049.0</td>\n",
       "      <td>3.522778</td>\n",
       "      <td>1.073394</td>\n",
       "      <td>1.000000e-02</td>\n",
       "      <td>2.780010</td>\n",
       "      <td>3.422677</td>\n",
       "      <td>4.226107</td>\n",
       "      <td>7.142594e+00</td>\n",
       "    </tr>\n",
       "    <tr>\n",
       "      <th>rougher.input.feed_rate</th>\n",
       "      <td>14141.0</td>\n",
       "      <td>474.027714</td>\n",
       "      <td>104.039838</td>\n",
       "      <td>1.278570e-02</td>\n",
       "      <td>420.781913</td>\n",
       "      <td>499.454777</td>\n",
       "      <td>547.334973</td>\n",
       "      <td>7.175088e+02</td>\n",
       "    </tr>\n",
       "    <tr>\n",
       "      <th>rougher.input.feed_size</th>\n",
       "      <td>14005.0</td>\n",
       "      <td>60.110518</td>\n",
       "      <td>22.418485</td>\n",
       "      <td>9.659576e+00</td>\n",
       "      <td>48.973027</td>\n",
       "      <td>55.373885</td>\n",
       "      <td>66.080172</td>\n",
       "      <td>4.849675e+02</td>\n",
       "    </tr>\n",
       "    <tr>\n",
       "      <th>rougher.input.feed_sol</th>\n",
       "      <td>14071.0</td>\n",
       "      <td>36.312593</td>\n",
       "      <td>4.956057</td>\n",
       "      <td>1.000000e-02</td>\n",
       "      <td>34.117635</td>\n",
       "      <td>37.020345</td>\n",
       "      <td>39.423265</td>\n",
       "      <td>4.836318e+01</td>\n",
       "    </tr>\n",
       "    <tr>\n",
       "      <th>rougher.input.feed_au</th>\n",
       "      <td>14149.0</td>\n",
       "      <td>7.866577</td>\n",
       "      <td>1.919506</td>\n",
       "      <td>1.000000e-02</td>\n",
       "      <td>6.596217</td>\n",
       "      <td>7.649138</td>\n",
       "      <td>9.066976</td>\n",
       "      <td>1.312604e+01</td>\n",
       "    </tr>\n",
       "    <tr>\n",
       "      <th>rougher.input.floatbank10_sulfate</th>\n",
       "      <td>14120.0</td>\n",
       "      <td>11.764931</td>\n",
       "      <td>3.278813</td>\n",
       "      <td>1.083112e-03</td>\n",
       "      <td>9.861100</td>\n",
       "      <td>11.688702</td>\n",
       "      <td>13.607115</td>\n",
       "      <td>3.611827e+01</td>\n",
       "    </tr>\n",
       "    <tr>\n",
       "      <th>rougher.input.floatbank10_xanthate</th>\n",
       "      <td>14141.0</td>\n",
       "      <td>5.854529</td>\n",
       "      <td>1.104263</td>\n",
       "      <td>1.427685e-03</td>\n",
       "      <td>5.117359</td>\n",
       "      <td>5.951071</td>\n",
       "      <td>6.602533</td>\n",
       "      <td>9.703448e+00</td>\n",
       "    </tr>\n",
       "    <tr>\n",
       "      <th>rougher.input.floatbank11_sulfate</th>\n",
       "      <td>14113.0</td>\n",
       "      <td>11.368685</td>\n",
       "      <td>3.743672</td>\n",
       "      <td>9.787336e-05</td>\n",
       "      <td>9.505507</td>\n",
       "      <td>11.384283</td>\n",
       "      <td>13.497134</td>\n",
       "      <td>3.798065e+01</td>\n",
       "    </tr>\n",
       "    <tr>\n",
       "      <th>rougher.input.floatbank11_xanthate</th>\n",
       "      <td>13721.0</td>\n",
       "      <td>5.894176</td>\n",
       "      <td>1.124233</td>\n",
       "      <td>2.904126e-04</td>\n",
       "      <td>5.199168</td>\n",
       "      <td>5.998460</td>\n",
       "      <td>6.699006</td>\n",
       "      <td>9.698407e+00</td>\n",
       "    </tr>\n",
       "    <tr>\n",
       "      <th>rougher.output.concentrate_ag</th>\n",
       "      <td>14149.0</td>\n",
       "      <td>11.775812</td>\n",
       "      <td>2.731747</td>\n",
       "      <td>0.000000e+00</td>\n",
       "      <td>10.486871</td>\n",
       "      <td>11.747362</td>\n",
       "      <td>13.426419</td>\n",
       "      <td>2.448027e+01</td>\n",
       "    </tr>\n",
       "    <tr>\n",
       "      <th>rougher.output.concentrate_pb</th>\n",
       "      <td>14149.0</td>\n",
       "      <td>7.664555</td>\n",
       "      <td>1.856279</td>\n",
       "      <td>0.000000e+00</td>\n",
       "      <td>6.850501</td>\n",
       "      <td>7.760435</td>\n",
       "      <td>8.601927</td>\n",
       "      <td>1.361707e+01</td>\n",
       "    </tr>\n",
       "    <tr>\n",
       "      <th>rougher.output.concentrate_sol</th>\n",
       "      <td>14127.0</td>\n",
       "      <td>28.302715</td>\n",
       "      <td>6.102982</td>\n",
       "      <td>0.000000e+00</td>\n",
       "      <td>26.703554</td>\n",
       "      <td>29.257545</td>\n",
       "      <td>31.743913</td>\n",
       "      <td>3.835119e+01</td>\n",
       "    </tr>\n",
       "    <tr>\n",
       "      <th>rougher.output.concentrate_au</th>\n",
       "      <td>14149.0</td>\n",
       "      <td>19.439958</td>\n",
       "      <td>3.765192</td>\n",
       "      <td>0.000000e+00</td>\n",
       "      <td>18.432161</td>\n",
       "      <td>19.947312</td>\n",
       "      <td>21.392714</td>\n",
       "      <td>2.814684e+01</td>\n",
       "    </tr>\n",
       "    <tr>\n",
       "      <th>rougher.output.recovery</th>\n",
       "      <td>14149.0</td>\n",
       "      <td>82.704502</td>\n",
       "      <td>14.479156</td>\n",
       "      <td>0.000000e+00</td>\n",
       "      <td>79.993067</td>\n",
       "      <td>85.299462</td>\n",
       "      <td>90.165021</td>\n",
       "      <td>1.000000e+02</td>\n",
       "    </tr>\n",
       "    <tr>\n",
       "      <th>rougher.output.tail_ag</th>\n",
       "      <td>14148.0</td>\n",
       "      <td>5.567124</td>\n",
       "      <td>1.039136</td>\n",
       "      <td>5.945623e-01</td>\n",
       "      <td>4.921647</td>\n",
       "      <td>5.722018</td>\n",
       "      <td>6.310633</td>\n",
       "      <td>1.271918e+01</td>\n",
       "    </tr>\n",
       "    <tr>\n",
       "      <th>rougher.output.tail_pb</th>\n",
       "      <td>14149.0</td>\n",
       "      <td>0.653277</td>\n",
       "      <td>0.263766</td>\n",
       "      <td>7.566066e-03</td>\n",
       "      <td>0.474047</td>\n",
       "      <td>0.625805</td>\n",
       "      <td>0.794326</td>\n",
       "      <td>3.778064e+00</td>\n",
       "    </tr>\n",
       "    <tr>\n",
       "      <th>rougher.output.tail_sol</th>\n",
       "      <td>14149.0</td>\n",
       "      <td>17.882853</td>\n",
       "      <td>3.432859</td>\n",
       "      <td>1.001465e+01</td>\n",
       "      <td>15.688727</td>\n",
       "      <td>18.015894</td>\n",
       "      <td>19.938672</td>\n",
       "      <td>6.611719e+01</td>\n",
       "    </tr>\n",
       "    <tr>\n",
       "      <th>rougher.output.tail_au</th>\n",
       "      <td>14149.0</td>\n",
       "      <td>1.757473</td>\n",
       "      <td>0.713187</td>\n",
       "      <td>2.067578e-02</td>\n",
       "      <td>1.310800</td>\n",
       "      <td>1.745513</td>\n",
       "      <td>2.186790</td>\n",
       "      <td>9.688980e+00</td>\n",
       "    </tr>\n",
       "    <tr>\n",
       "      <th>rougher.state.floatbank10_a_air</th>\n",
       "      <td>14148.0</td>\n",
       "      <td>1124.726280</td>\n",
       "      <td>169.310825</td>\n",
       "      <td>-4.107792e-02</td>\n",
       "      <td>999.799166</td>\n",
       "      <td>1001.685708</td>\n",
       "      <td>1299.505513</td>\n",
       "      <td>1.521980e+03</td>\n",
       "    </tr>\n",
       "    <tr>\n",
       "      <th>rougher.state.floatbank10_a_level</th>\n",
       "      <td>14148.0</td>\n",
       "      <td>-369.460950</td>\n",
       "      <td>93.952787</td>\n",
       "      <td>-6.502029e+02</td>\n",
       "      <td>-499.787867</td>\n",
       "      <td>-300.175125</td>\n",
       "      <td>-299.963153</td>\n",
       "      <td>-2.810393e+02</td>\n",
       "    </tr>\n",
       "    <tr>\n",
       "      <th>rougher.state.floatbank10_b_air</th>\n",
       "      <td>14148.0</td>\n",
       "      <td>1320.705069</td>\n",
       "      <td>183.155975</td>\n",
       "      <td>-6.533838e-01</td>\n",
       "      <td>1199.366448</td>\n",
       "      <td>1301.365123</td>\n",
       "      <td>1449.553689</td>\n",
       "      <td>1.809194e+03</td>\n",
       "    </tr>\n",
       "    <tr>\n",
       "      <th>rougher.state.floatbank10_b_level</th>\n",
       "      <td>14148.0</td>\n",
       "      <td>-464.258983</td>\n",
       "      <td>57.401954</td>\n",
       "      <td>-6.502600e+02</td>\n",
       "      <td>-500.183028</td>\n",
       "      <td>-499.764620</td>\n",
       "      <td>-400.425493</td>\n",
       "      <td>-2.963831e+02</td>\n",
       "    </tr>\n",
       "    <tr>\n",
       "      <th>rougher.state.floatbank10_c_air</th>\n",
       "      <td>14148.0</td>\n",
       "      <td>1299.360578</td>\n",
       "      <td>213.404094</td>\n",
       "      <td>-3.511233e-02</td>\n",
       "      <td>1103.095071</td>\n",
       "      <td>1300.213385</td>\n",
       "      <td>1450.350668</td>\n",
       "      <td>2.499129e+03</td>\n",
       "    </tr>\n",
       "    <tr>\n",
       "      <th>rougher.state.floatbank10_c_level</th>\n",
       "      <td>14148.0</td>\n",
       "      <td>-465.054849</td>\n",
       "      <td>55.904716</td>\n",
       "      <td>-6.409956e+02</td>\n",
       "      <td>-500.211863</td>\n",
       "      <td>-499.682528</td>\n",
       "      <td>-400.664736</td>\n",
       "      <td>-2.921555e+02</td>\n",
       "    </tr>\n",
       "    <tr>\n",
       "      <th>rougher.state.floatbank10_d_air</th>\n",
       "      <td>14149.0</td>\n",
       "      <td>1210.335236</td>\n",
       "      <td>210.431555</td>\n",
       "      <td>-5.542987e-01</td>\n",
       "      <td>1059.708509</td>\n",
       "      <td>1200.744308</td>\n",
       "      <td>1344.378462</td>\n",
       "      <td>1.817199e+03</td>\n",
       "    </tr>\n",
       "    <tr>\n",
       "      <th>rougher.state.floatbank10_d_level</th>\n",
       "      <td>14149.0</td>\n",
       "      <td>-465.457377</td>\n",
       "      <td>55.771393</td>\n",
       "      <td>-6.405190e+02</td>\n",
       "      <td>-500.359197</td>\n",
       "      <td>-499.465285</td>\n",
       "      <td>-401.052891</td>\n",
       "      <td>-2.083307e+02</td>\n",
       "    </tr>\n",
       "    <tr>\n",
       "      <th>rougher.state.floatbank10_e_air</th>\n",
       "      <td>13713.0</td>\n",
       "      <td>1090.213187</td>\n",
       "      <td>184.610118</td>\n",
       "      <td>-1.970275e+00</td>\n",
       "      <td>997.183864</td>\n",
       "      <td>1050.496363</td>\n",
       "      <td>1200.047746</td>\n",
       "      <td>1.922637e+03</td>\n",
       "    </tr>\n",
       "    <tr>\n",
       "      <th>rougher.state.floatbank10_e_level</th>\n",
       "      <td>14149.0</td>\n",
       "      <td>-464.919119</td>\n",
       "      <td>56.602962</td>\n",
       "      <td>-6.494439e+02</td>\n",
       "      <td>-500.250033</td>\n",
       "      <td>-499.611447</td>\n",
       "      <td>-400.596104</td>\n",
       "      <td>-2.721996e+02</td>\n",
       "    </tr>\n",
       "    <tr>\n",
       "      <th>rougher.state.floatbank10_f_air</th>\n",
       "      <td>14149.0</td>\n",
       "      <td>1035.490299</td>\n",
       "      <td>175.052279</td>\n",
       "      <td>-2.430587e+00</td>\n",
       "      <td>900.966986</td>\n",
       "      <td>1000.053757</td>\n",
       "      <td>1100.165435</td>\n",
       "      <td>1.706308e+03</td>\n",
       "    </tr>\n",
       "    <tr>\n",
       "      <th>rougher.state.floatbank10_f_level</th>\n",
       "      <td>14149.0</td>\n",
       "      <td>-464.688631</td>\n",
       "      <td>56.645965</td>\n",
       "      <td>-6.498810e+02</td>\n",
       "      <td>-500.476526</td>\n",
       "      <td>-499.364335</td>\n",
       "      <td>-401.014951</td>\n",
       "      <td>-1.917185e+02</td>\n",
       "    </tr>\n",
       "    <tr>\n",
       "      <th>secondary_cleaner.output.tail_ag</th>\n",
       "      <td>14147.0</td>\n",
       "      <td>14.281629</td>\n",
       "      <td>4.477126</td>\n",
       "      <td>0.000000e+00</td>\n",
       "      <td>12.177364</td>\n",
       "      <td>15.357951</td>\n",
       "      <td>17.230151</td>\n",
       "      <td>2.326474e+01</td>\n",
       "    </tr>\n",
       "    <tr>\n",
       "      <th>secondary_cleaner.output.tail_pb</th>\n",
       "      <td>14139.0</td>\n",
       "      <td>5.848863</td>\n",
       "      <td>2.861799</td>\n",
       "      <td>0.000000e+00</td>\n",
       "      <td>3.982298</td>\n",
       "      <td>5.442310</td>\n",
       "      <td>7.797948</td>\n",
       "      <td>1.704250e+01</td>\n",
       "    </tr>\n",
       "    <tr>\n",
       "      <th>secondary_cleaner.output.tail_sol</th>\n",
       "      <td>12544.0</td>\n",
       "      <td>6.938693</td>\n",
       "      <td>4.155487</td>\n",
       "      <td>0.000000e+00</td>\n",
       "      <td>3.225486</td>\n",
       "      <td>7.302639</td>\n",
       "      <td>10.547068</td>\n",
       "      <td>1.797617e+01</td>\n",
       "    </tr>\n",
       "    <tr>\n",
       "      <th>secondary_cleaner.output.tail_au</th>\n",
       "      <td>14149.0</td>\n",
       "      <td>4.246961</td>\n",
       "      <td>2.389060</td>\n",
       "      <td>0.000000e+00</td>\n",
       "      <td>3.153122</td>\n",
       "      <td>3.980210</td>\n",
       "      <td>4.883943</td>\n",
       "      <td>2.681164e+01</td>\n",
       "    </tr>\n",
       "    <tr>\n",
       "      <th>secondary_cleaner.state.floatbank2_a_air</th>\n",
       "      <td>13932.0</td>\n",
       "      <td>29.613649</td>\n",
       "      <td>5.800494</td>\n",
       "      <td>7.750256e-02</td>\n",
       "      <td>25.099584</td>\n",
       "      <td>30.027721</td>\n",
       "      <td>34.893057</td>\n",
       "      <td>5.265140e+01</td>\n",
       "    </tr>\n",
       "    <tr>\n",
       "      <th>secondary_cleaner.state.floatbank2_a_level</th>\n",
       "      <td>14148.0</td>\n",
       "      <td>-502.223914</td>\n",
       "      <td>60.281705</td>\n",
       "      <td>-7.996064e+02</td>\n",
       "      <td>-500.248814</td>\n",
       "      <td>-499.959206</td>\n",
       "      <td>-499.593198</td>\n",
       "      <td>-1.278756e+02</td>\n",
       "    </tr>\n",
       "    <tr>\n",
       "      <th>secondary_cleaner.state.floatbank2_b_air</th>\n",
       "      <td>14128.0</td>\n",
       "      <td>24.914403</td>\n",
       "      <td>5.994959</td>\n",
       "      <td>0.000000e+00</td>\n",
       "      <td>22.048294</td>\n",
       "      <td>27.022783</td>\n",
       "      <td>28.939454</td>\n",
       "      <td>3.515212e+01</td>\n",
       "    </tr>\n",
       "    <tr>\n",
       "      <th>secondary_cleaner.state.floatbank2_b_level</th>\n",
       "      <td>14148.0</td>\n",
       "      <td>-503.695706</td>\n",
       "      <td>62.837357</td>\n",
       "      <td>-7.998739e+02</td>\n",
       "      <td>-500.270997</td>\n",
       "      <td>-500.014092</td>\n",
       "      <td>-499.764112</td>\n",
       "      <td>-2.120647e+02</td>\n",
       "    </tr>\n",
       "    <tr>\n",
       "      <th>secondary_cleaner.state.floatbank3_a_air</th>\n",
       "      <td>14145.0</td>\n",
       "      <td>29.243372</td>\n",
       "      <td>5.637309</td>\n",
       "      <td>0.000000e+00</td>\n",
       "      <td>24.991662</td>\n",
       "      <td>28.016530</td>\n",
       "      <td>34.990095</td>\n",
       "      <td>4.426046e+01</td>\n",
       "    </tr>\n",
       "    <tr>\n",
       "      <th>secondary_cleaner.state.floatbank3_a_level</th>\n",
       "      <td>14148.0</td>\n",
       "      <td>-478.244059</td>\n",
       "      <td>54.655143</td>\n",
       "      <td>-7.996130e+02</td>\n",
       "      <td>-500.175065</td>\n",
       "      <td>-499.877837</td>\n",
       "      <td>-436.923166</td>\n",
       "      <td>-1.916788e+02</td>\n",
       "    </tr>\n",
       "    <tr>\n",
       "      <th>secondary_cleaner.state.floatbank3_b_air</th>\n",
       "      <td>14148.0</td>\n",
       "      <td>22.656261</td>\n",
       "      <td>4.996017</td>\n",
       "      <td>0.000000e+00</td>\n",
       "      <td>19.948436</td>\n",
       "      <td>22.037270</td>\n",
       "      <td>25.970365</td>\n",
       "      <td>3.507284e+01</td>\n",
       "    </tr>\n",
       "    <tr>\n",
       "      <th>secondary_cleaner.state.floatbank3_b_level</th>\n",
       "      <td>14148.0</td>\n",
       "      <td>-488.924046</td>\n",
       "      <td>41.928112</td>\n",
       "      <td>-7.591774e+02</td>\n",
       "      <td>-500.110581</td>\n",
       "      <td>-499.966809</td>\n",
       "      <td>-499.757501</td>\n",
       "      <td>-1.597423e+02</td>\n",
       "    </tr>\n",
       "    <tr>\n",
       "      <th>secondary_cleaner.state.floatbank4_a_air</th>\n",
       "      <td>14143.0</td>\n",
       "      <td>19.985454</td>\n",
       "      <td>5.657723</td>\n",
       "      <td>0.000000e+00</td>\n",
       "      <td>14.990775</td>\n",
       "      <td>20.001789</td>\n",
       "      <td>24.990826</td>\n",
       "      <td>3.011574e+01</td>\n",
       "    </tr>\n",
       "    <tr>\n",
       "      <th>secondary_cleaner.state.floatbank4_a_level</th>\n",
       "      <td>14148.0</td>\n",
       "      <td>-478.696836</td>\n",
       "      <td>50.736021</td>\n",
       "      <td>-7.997091e+02</td>\n",
       "      <td>-500.628656</td>\n",
       "      <td>-499.681450</td>\n",
       "      <td>-477.472413</td>\n",
       "      <td>-2.452392e+02</td>\n",
       "    </tr>\n",
       "    <tr>\n",
       "      <th>secondary_cleaner.state.floatbank4_b_air</th>\n",
       "      <td>14148.0</td>\n",
       "      <td>15.487065</td>\n",
       "      <td>5.255655</td>\n",
       "      <td>0.000000e+00</td>\n",
       "      <td>11.894558</td>\n",
       "      <td>14.975536</td>\n",
       "      <td>20.059375</td>\n",
       "      <td>2.400791e+01</td>\n",
       "    </tr>\n",
       "    <tr>\n",
       "      <th>secondary_cleaner.state.floatbank4_b_level</th>\n",
       "      <td>14148.0</td>\n",
       "      <td>-460.229416</td>\n",
       "      <td>58.843586</td>\n",
       "      <td>-7.998891e+02</td>\n",
       "      <td>-500.149000</td>\n",
       "      <td>-499.388738</td>\n",
       "      <td>-400.039008</td>\n",
       "      <td>-1.450711e+02</td>\n",
       "    </tr>\n",
       "    <tr>\n",
       "      <th>secondary_cleaner.state.floatbank5_a_air</th>\n",
       "      <td>14148.0</td>\n",
       "      <td>16.775136</td>\n",
       "      <td>5.831906</td>\n",
       "      <td>-3.720540e-01</td>\n",
       "      <td>11.083980</td>\n",
       "      <td>17.932223</td>\n",
       "      <td>21.346550</td>\n",
       "      <td>4.370993e+01</td>\n",
       "    </tr>\n",
       "    <tr>\n",
       "      <th>secondary_cleaner.state.floatbank5_a_level</th>\n",
       "      <td>14148.0</td>\n",
       "      <td>-483.956022</td>\n",
       "      <td>37.892788</td>\n",
       "      <td>-7.971425e+02</td>\n",
       "      <td>-500.363177</td>\n",
       "      <td>-499.702452</td>\n",
       "      <td>-487.712108</td>\n",
       "      <td>-2.750731e+02</td>\n",
       "    </tr>\n",
       "    <tr>\n",
       "      <th>secondary_cleaner.state.floatbank5_b_air</th>\n",
       "      <td>14148.0</td>\n",
       "      <td>13.064590</td>\n",
       "      <td>5.765617</td>\n",
       "      <td>6.462077e-01</td>\n",
       "      <td>8.994405</td>\n",
       "      <td>11.997547</td>\n",
       "      <td>17.982903</td>\n",
       "      <td>2.792600e+01</td>\n",
       "    </tr>\n",
       "    <tr>\n",
       "      <th>secondary_cleaner.state.floatbank5_b_level</th>\n",
       "      <td>14148.0</td>\n",
       "      <td>-483.966564</td>\n",
       "      <td>39.207913</td>\n",
       "      <td>-8.000062e+02</td>\n",
       "      <td>-500.105994</td>\n",
       "      <td>-499.914556</td>\n",
       "      <td>-453.186936</td>\n",
       "      <td>-1.573961e+02</td>\n",
       "    </tr>\n",
       "    <tr>\n",
       "      <th>secondary_cleaner.state.floatbank6_a_air</th>\n",
       "      <td>14147.0</td>\n",
       "      <td>19.577539</td>\n",
       "      <td>5.764417</td>\n",
       "      <td>1.953243e-01</td>\n",
       "      <td>14.989304</td>\n",
       "      <td>19.984175</td>\n",
       "      <td>24.991623</td>\n",
       "      <td>3.218891e+01</td>\n",
       "    </tr>\n",
       "    <tr>\n",
       "      <th>secondary_cleaner.state.floatbank6_a_level</th>\n",
       "      <td>14148.0</td>\n",
       "      <td>-506.798480</td>\n",
       "      <td>37.079249</td>\n",
       "      <td>-8.093987e+02</td>\n",
       "      <td>-500.745104</td>\n",
       "      <td>-500.061431</td>\n",
       "      <td>-499.536466</td>\n",
       "      <td>-1.044275e+02</td>\n",
       "    </tr>\n",
       "  </tbody>\n",
       "</table>\n",
       "</div>"
      ],
      "text/plain": [
       "                                                      count          mean  \\\n",
       "final.output.concentrate_ag                         14148.0      5.142034   \n",
       "final.output.concentrate_pb                         14148.0     10.132960   \n",
       "final.output.concentrate_sol                        13938.0      9.202849   \n",
       "final.output.concentrate_au                         14149.0     44.003792   \n",
       "final.output.recovery                               14149.0     66.518832   \n",
       "final.output.tail_ag                                14149.0      9.607035   \n",
       "final.output.tail_pb                                14049.0      2.597298   \n",
       "final.output.tail_sol                               14144.0     10.512122   \n",
       "final.output.tail_au                                14149.0      2.918421   \n",
       "primary_cleaner.input.sulfate                       14129.0    133.320659   \n",
       "primary_cleaner.input.depressant                    14117.0      8.866996   \n",
       "primary_cleaner.input.feed_size                     14149.0      7.322310   \n",
       "primary_cleaner.input.xanthate                      14049.0      0.885588   \n",
       "primary_cleaner.output.concentrate_ag               14149.0      8.200916   \n",
       "primary_cleaner.output.concentrate_pb               14063.0      9.588862   \n",
       "primary_cleaner.output.concentrate_sol              13863.0     10.114745   \n",
       "primary_cleaner.output.concentrate_au               14149.0     32.386836   \n",
       "primary_cleaner.output.tail_ag                      14148.0     16.303929   \n",
       "primary_cleaner.output.tail_pb                      14134.0      3.443398   \n",
       "primary_cleaner.output.tail_sol                     14103.0      7.533566   \n",
       "primary_cleaner.output.tail_au                      14149.0      3.839637   \n",
       "primary_cleaner.state.floatbank8_a_air              14145.0   1608.000064   \n",
       "primary_cleaner.state.floatbank8_a_level            14148.0   -488.775525   \n",
       "primary_cleaner.state.floatbank8_b_air              14145.0   1608.610983   \n",
       "primary_cleaner.state.floatbank8_b_level            14148.0   -489.171786   \n",
       "primary_cleaner.state.floatbank8_c_air              14147.0   1608.879407   \n",
       "primary_cleaner.state.floatbank8_c_level            14148.0   -489.605549   \n",
       "primary_cleaner.state.floatbank8_d_air              14146.0   1542.189963   \n",
       "primary_cleaner.state.floatbank8_d_level            14148.0   -483.462423   \n",
       "rougher.calculation.sulfate_to_au_concentrate       14148.0  40382.648631   \n",
       "rougher.calculation.floatbank10_sulfate_to_au_feed  14148.0   3456.608298   \n",
       "rougher.calculation.floatbank11_sulfate_to_au_feed  14148.0   3253.356387   \n",
       "rougher.calculation.au_pb_ratio                     14149.0      2.367314   \n",
       "rougher.input.feed_ag                               14149.0      8.579195   \n",
       "rougher.input.feed_pb                               14049.0      3.522778   \n",
       "rougher.input.feed_rate                             14141.0    474.027714   \n",
       "rougher.input.feed_size                             14005.0     60.110518   \n",
       "rougher.input.feed_sol                              14071.0     36.312593   \n",
       "rougher.input.feed_au                               14149.0      7.866577   \n",
       "rougher.input.floatbank10_sulfate                   14120.0     11.764931   \n",
       "rougher.input.floatbank10_xanthate                  14141.0      5.854529   \n",
       "rougher.input.floatbank11_sulfate                   14113.0     11.368685   \n",
       "rougher.input.floatbank11_xanthate                  13721.0      5.894176   \n",
       "rougher.output.concentrate_ag                       14149.0     11.775812   \n",
       "rougher.output.concentrate_pb                       14149.0      7.664555   \n",
       "rougher.output.concentrate_sol                      14127.0     28.302715   \n",
       "rougher.output.concentrate_au                       14149.0     19.439958   \n",
       "rougher.output.recovery                             14149.0     82.704502   \n",
       "rougher.output.tail_ag                              14148.0      5.567124   \n",
       "rougher.output.tail_pb                              14149.0      0.653277   \n",
       "rougher.output.tail_sol                             14149.0     17.882853   \n",
       "rougher.output.tail_au                              14149.0      1.757473   \n",
       "rougher.state.floatbank10_a_air                     14148.0   1124.726280   \n",
       "rougher.state.floatbank10_a_level                   14148.0   -369.460950   \n",
       "rougher.state.floatbank10_b_air                     14148.0   1320.705069   \n",
       "rougher.state.floatbank10_b_level                   14148.0   -464.258983   \n",
       "rougher.state.floatbank10_c_air                     14148.0   1299.360578   \n",
       "rougher.state.floatbank10_c_level                   14148.0   -465.054849   \n",
       "rougher.state.floatbank10_d_air                     14149.0   1210.335236   \n",
       "rougher.state.floatbank10_d_level                   14149.0   -465.457377   \n",
       "rougher.state.floatbank10_e_air                     13713.0   1090.213187   \n",
       "rougher.state.floatbank10_e_level                   14149.0   -464.919119   \n",
       "rougher.state.floatbank10_f_air                     14149.0   1035.490299   \n",
       "rougher.state.floatbank10_f_level                   14149.0   -464.688631   \n",
       "secondary_cleaner.output.tail_ag                    14147.0     14.281629   \n",
       "secondary_cleaner.output.tail_pb                    14139.0      5.848863   \n",
       "secondary_cleaner.output.tail_sol                   12544.0      6.938693   \n",
       "secondary_cleaner.output.tail_au                    14149.0      4.246961   \n",
       "secondary_cleaner.state.floatbank2_a_air            13932.0     29.613649   \n",
       "secondary_cleaner.state.floatbank2_a_level          14148.0   -502.223914   \n",
       "secondary_cleaner.state.floatbank2_b_air            14128.0     24.914403   \n",
       "secondary_cleaner.state.floatbank2_b_level          14148.0   -503.695706   \n",
       "secondary_cleaner.state.floatbank3_a_air            14145.0     29.243372   \n",
       "secondary_cleaner.state.floatbank3_a_level          14148.0   -478.244059   \n",
       "secondary_cleaner.state.floatbank3_b_air            14148.0     22.656261   \n",
       "secondary_cleaner.state.floatbank3_b_level          14148.0   -488.924046   \n",
       "secondary_cleaner.state.floatbank4_a_air            14143.0     19.985454   \n",
       "secondary_cleaner.state.floatbank4_a_level          14148.0   -478.696836   \n",
       "secondary_cleaner.state.floatbank4_b_air            14148.0     15.487065   \n",
       "secondary_cleaner.state.floatbank4_b_level          14148.0   -460.229416   \n",
       "secondary_cleaner.state.floatbank5_a_air            14148.0     16.775136   \n",
       "secondary_cleaner.state.floatbank5_a_level          14148.0   -483.956022   \n",
       "secondary_cleaner.state.floatbank5_b_air            14148.0     13.064590   \n",
       "secondary_cleaner.state.floatbank5_b_level          14148.0   -483.966564   \n",
       "secondary_cleaner.state.floatbank6_a_air            14147.0     19.577539   \n",
       "secondary_cleaner.state.floatbank6_a_level          14148.0   -506.798480   \n",
       "\n",
       "                                                              std  \\\n",
       "final.output.concentrate_ag                              1.369586   \n",
       "final.output.concentrate_pb                              1.654930   \n",
       "final.output.concentrate_sol                             2.790516   \n",
       "final.output.concentrate_au                              4.905261   \n",
       "final.output.recovery                                   10.295402   \n",
       "final.output.tail_ag                                     2.319069   \n",
       "final.output.tail_pb                                     0.971843   \n",
       "final.output.tail_sol                                    3.003617   \n",
       "final.output.tail_au                                     0.903712   \n",
       "primary_cleaner.input.sulfate                           39.431659   \n",
       "primary_cleaner.input.depressant                         3.361589   \n",
       "primary_cleaner.input.feed_size                          0.614062   \n",
       "primary_cleaner.input.xanthate                           0.372714   \n",
       "primary_cleaner.output.concentrate_ag                    2.005185   \n",
       "primary_cleaner.output.concentrate_pb                    2.694296   \n",
       "primary_cleaner.output.concentrate_sol                   4.064076   \n",
       "primary_cleaner.output.concentrate_au                    5.798843   \n",
       "primary_cleaner.output.tail_ag                           3.739843   \n",
       "primary_cleaner.output.tail_pb                           1.490106   \n",
       "primary_cleaner.output.tail_sol                          2.133220   \n",
       "primary_cleaner.output.tail_au                           1.603544   \n",
       "primary_cleaner.state.floatbank8_a_air                 128.394355   \n",
       "primary_cleaner.state.floatbank8_a_level                35.704184   \n",
       "primary_cleaner.state.floatbank8_b_air                 131.112729   \n",
       "primary_cleaner.state.floatbank8_b_level                33.604449   \n",
       "primary_cleaner.state.floatbank8_c_air                 134.266898   \n",
       "primary_cleaner.state.floatbank8_c_level                35.624002   \n",
       "primary_cleaner.state.floatbank8_d_air                 278.316132   \n",
       "primary_cleaner.state.floatbank8_d_level                47.100934   \n",
       "rougher.calculation.sulfate_to_au_concentrate       380143.622167   \n",
       "rougher.calculation.floatbank10_sulfate_to_au_feed    5772.510248   \n",
       "rougher.calculation.floatbank11_sulfate_to_au_feed    6753.290662   \n",
       "rougher.calculation.au_pb_ratio                          0.873551   \n",
       "rougher.input.feed_ag                                    1.896284   \n",
       "rougher.input.feed_pb                                    1.073394   \n",
       "rougher.input.feed_rate                                104.039838   \n",
       "rougher.input.feed_size                                 22.418485   \n",
       "rougher.input.feed_sol                                   4.956057   \n",
       "rougher.input.feed_au                                    1.919506   \n",
       "rougher.input.floatbank10_sulfate                        3.278813   \n",
       "rougher.input.floatbank10_xanthate                       1.104263   \n",
       "rougher.input.floatbank11_sulfate                        3.743672   \n",
       "rougher.input.floatbank11_xanthate                       1.124233   \n",
       "rougher.output.concentrate_ag                            2.731747   \n",
       "rougher.output.concentrate_pb                            1.856279   \n",
       "rougher.output.concentrate_sol                           6.102982   \n",
       "rougher.output.concentrate_au                            3.765192   \n",
       "rougher.output.recovery                                 14.479156   \n",
       "rougher.output.tail_ag                                   1.039136   \n",
       "rougher.output.tail_pb                                   0.263766   \n",
       "rougher.output.tail_sol                                  3.432859   \n",
       "rougher.output.tail_au                                   0.713187   \n",
       "rougher.state.floatbank10_a_air                        169.310825   \n",
       "rougher.state.floatbank10_a_level                       93.952787   \n",
       "rougher.state.floatbank10_b_air                        183.155975   \n",
       "rougher.state.floatbank10_b_level                       57.401954   \n",
       "rougher.state.floatbank10_c_air                        213.404094   \n",
       "rougher.state.floatbank10_c_level                       55.904716   \n",
       "rougher.state.floatbank10_d_air                        210.431555   \n",
       "rougher.state.floatbank10_d_level                       55.771393   \n",
       "rougher.state.floatbank10_e_air                        184.610118   \n",
       "rougher.state.floatbank10_e_level                       56.602962   \n",
       "rougher.state.floatbank10_f_air                        175.052279   \n",
       "rougher.state.floatbank10_f_level                       56.645965   \n",
       "secondary_cleaner.output.tail_ag                         4.477126   \n",
       "secondary_cleaner.output.tail_pb                         2.861799   \n",
       "secondary_cleaner.output.tail_sol                        4.155487   \n",
       "secondary_cleaner.output.tail_au                         2.389060   \n",
       "secondary_cleaner.state.floatbank2_a_air                 5.800494   \n",
       "secondary_cleaner.state.floatbank2_a_level              60.281705   \n",
       "secondary_cleaner.state.floatbank2_b_air                 5.994959   \n",
       "secondary_cleaner.state.floatbank2_b_level              62.837357   \n",
       "secondary_cleaner.state.floatbank3_a_air                 5.637309   \n",
       "secondary_cleaner.state.floatbank3_a_level              54.655143   \n",
       "secondary_cleaner.state.floatbank3_b_air                 4.996017   \n",
       "secondary_cleaner.state.floatbank3_b_level              41.928112   \n",
       "secondary_cleaner.state.floatbank4_a_air                 5.657723   \n",
       "secondary_cleaner.state.floatbank4_a_level              50.736021   \n",
       "secondary_cleaner.state.floatbank4_b_air                 5.255655   \n",
       "secondary_cleaner.state.floatbank4_b_level              58.843586   \n",
       "secondary_cleaner.state.floatbank5_a_air                 5.831906   \n",
       "secondary_cleaner.state.floatbank5_a_level              37.892788   \n",
       "secondary_cleaner.state.floatbank5_b_air                 5.765617   \n",
       "secondary_cleaner.state.floatbank5_b_level              39.207913   \n",
       "secondary_cleaner.state.floatbank6_a_air                 5.764417   \n",
       "secondary_cleaner.state.floatbank6_a_level              37.079249   \n",
       "\n",
       "                                                             min  \\\n",
       "final.output.concentrate_ag                         0.000000e+00   \n",
       "final.output.concentrate_pb                         0.000000e+00   \n",
       "final.output.concentrate_sol                        0.000000e+00   \n",
       "final.output.concentrate_au                         0.000000e+00   \n",
       "final.output.recovery                               0.000000e+00   \n",
       "final.output.tail_ag                                0.000000e+00   \n",
       "final.output.tail_pb                                0.000000e+00   \n",
       "final.output.tail_sol                               0.000000e+00   \n",
       "final.output.tail_au                                0.000000e+00   \n",
       "primary_cleaner.input.sulfate                       3.111820e-03   \n",
       "primary_cleaner.input.depressant                    0.000000e+00   \n",
       "primary_cleaner.input.feed_size                     1.080000e+00   \n",
       "primary_cleaner.input.xanthate                      4.632753e-06   \n",
       "primary_cleaner.output.concentrate_ag               0.000000e+00   \n",
       "primary_cleaner.output.concentrate_pb               0.000000e+00   \n",
       "primary_cleaner.output.concentrate_sol              0.000000e+00   \n",
       "primary_cleaner.output.concentrate_au               0.000000e+00   \n",
       "primary_cleaner.output.tail_ag                      0.000000e+00   \n",
       "primary_cleaner.output.tail_pb                      0.000000e+00   \n",
       "primary_cleaner.output.tail_sol                     0.000000e+00   \n",
       "primary_cleaner.output.tail_au                      0.000000e+00   \n",
       "primary_cleaner.state.floatbank8_a_air              6.352155e-03   \n",
       "primary_cleaner.state.floatbank8_a_level           -7.986417e+02   \n",
       "primary_cleaner.state.floatbank8_b_air              8.700416e-03   \n",
       "primary_cleaner.state.floatbank8_b_level           -7.401221e+02   \n",
       "primary_cleaner.state.floatbank8_c_air              1.515882e-02   \n",
       "primary_cleaner.state.floatbank8_c_level           -7.998031e+02   \n",
       "primary_cleaner.state.floatbank8_d_air              8.654609e-03   \n",
       "primary_cleaner.state.floatbank8_d_level           -7.997886e+02   \n",
       "rougher.calculation.sulfate_to_au_concentrate      -4.223520e+07   \n",
       "rougher.calculation.floatbank10_sulfate_to_au_feed -4.865987e+02   \n",
       "rougher.calculation.floatbank11_sulfate_to_au_feed -2.649828e+02   \n",
       "rougher.calculation.au_pb_ratio                    -1.054761e-02   \n",
       "rougher.input.feed_ag                               1.000000e-02   \n",
       "rougher.input.feed_pb                               1.000000e-02   \n",
       "rougher.input.feed_rate                             1.278570e-02   \n",
       "rougher.input.feed_size                             9.659576e+00   \n",
       "rougher.input.feed_sol                              1.000000e-02   \n",
       "rougher.input.feed_au                               1.000000e-02   \n",
       "rougher.input.floatbank10_sulfate                   1.083112e-03   \n",
       "rougher.input.floatbank10_xanthate                  1.427685e-03   \n",
       "rougher.input.floatbank11_sulfate                   9.787336e-05   \n",
       "rougher.input.floatbank11_xanthate                  2.904126e-04   \n",
       "rougher.output.concentrate_ag                       0.000000e+00   \n",
       "rougher.output.concentrate_pb                       0.000000e+00   \n",
       "rougher.output.concentrate_sol                      0.000000e+00   \n",
       "rougher.output.concentrate_au                       0.000000e+00   \n",
       "rougher.output.recovery                             0.000000e+00   \n",
       "rougher.output.tail_ag                              5.945623e-01   \n",
       "rougher.output.tail_pb                              7.566066e-03   \n",
       "rougher.output.tail_sol                             1.001465e+01   \n",
       "rougher.output.tail_au                              2.067578e-02   \n",
       "rougher.state.floatbank10_a_air                    -4.107792e-02   \n",
       "rougher.state.floatbank10_a_level                  -6.502029e+02   \n",
       "rougher.state.floatbank10_b_air                    -6.533838e-01   \n",
       "rougher.state.floatbank10_b_level                  -6.502600e+02   \n",
       "rougher.state.floatbank10_c_air                    -3.511233e-02   \n",
       "rougher.state.floatbank10_c_level                  -6.409956e+02   \n",
       "rougher.state.floatbank10_d_air                    -5.542987e-01   \n",
       "rougher.state.floatbank10_d_level                  -6.405190e+02   \n",
       "rougher.state.floatbank10_e_air                    -1.970275e+00   \n",
       "rougher.state.floatbank10_e_level                  -6.494439e+02   \n",
       "rougher.state.floatbank10_f_air                    -2.430587e+00   \n",
       "rougher.state.floatbank10_f_level                  -6.498810e+02   \n",
       "secondary_cleaner.output.tail_ag                    0.000000e+00   \n",
       "secondary_cleaner.output.tail_pb                    0.000000e+00   \n",
       "secondary_cleaner.output.tail_sol                   0.000000e+00   \n",
       "secondary_cleaner.output.tail_au                    0.000000e+00   \n",
       "secondary_cleaner.state.floatbank2_a_air            7.750256e-02   \n",
       "secondary_cleaner.state.floatbank2_a_level         -7.996064e+02   \n",
       "secondary_cleaner.state.floatbank2_b_air            0.000000e+00   \n",
       "secondary_cleaner.state.floatbank2_b_level         -7.998739e+02   \n",
       "secondary_cleaner.state.floatbank3_a_air            0.000000e+00   \n",
       "secondary_cleaner.state.floatbank3_a_level         -7.996130e+02   \n",
       "secondary_cleaner.state.floatbank3_b_air            0.000000e+00   \n",
       "secondary_cleaner.state.floatbank3_b_level         -7.591774e+02   \n",
       "secondary_cleaner.state.floatbank4_a_air            0.000000e+00   \n",
       "secondary_cleaner.state.floatbank4_a_level         -7.997091e+02   \n",
       "secondary_cleaner.state.floatbank4_b_air            0.000000e+00   \n",
       "secondary_cleaner.state.floatbank4_b_level         -7.998891e+02   \n",
       "secondary_cleaner.state.floatbank5_a_air           -3.720540e-01   \n",
       "secondary_cleaner.state.floatbank5_a_level         -7.971425e+02   \n",
       "secondary_cleaner.state.floatbank5_b_air            6.462077e-01   \n",
       "secondary_cleaner.state.floatbank5_b_level         -8.000062e+02   \n",
       "secondary_cleaner.state.floatbank6_a_air            1.953243e-01   \n",
       "secondary_cleaner.state.floatbank6_a_level         -8.093987e+02   \n",
       "\n",
       "                                                             25%  \\\n",
       "final.output.concentrate_ag                             4.211620   \n",
       "final.output.concentrate_pb                             9.297355   \n",
       "final.output.concentrate_sol                            7.484645   \n",
       "final.output.concentrate_au                            43.276111   \n",
       "final.output.recovery                                  62.545817   \n",
       "final.output.tail_ag                                    7.997429   \n",
       "final.output.tail_pb                                    1.905973   \n",
       "final.output.tail_sol                                   8.811324   \n",
       "final.output.tail_au                                    2.368607   \n",
       "primary_cleaner.input.sulfate                         107.006651   \n",
       "primary_cleaner.input.depressant                        6.040604   \n",
       "primary_cleaner.input.feed_size                         6.960000   \n",
       "primary_cleaner.input.xanthate                          0.607021   \n",
       "primary_cleaner.output.concentrate_ag                   7.107126   \n",
       "primary_cleaner.output.concentrate_pb                   8.333489   \n",
       "primary_cleaner.output.concentrate_sol                  7.488139   \n",
       "primary_cleaner.output.concentrate_au                  30.857764   \n",
       "primary_cleaner.output.tail_ag                         13.873147   \n",
       "primary_cleaner.output.tail_pb                          2.420259   \n",
       "primary_cleaner.output.tail_sol                         6.332548   \n",
       "primary_cleaner.output.tail_au                          2.867957   \n",
       "primary_cleaner.state.floatbank8_a_air               1595.695815   \n",
       "primary_cleaner.state.floatbank8_a_level             -500.287952   \n",
       "primary_cleaner.state.floatbank8_b_air               1558.959943   \n",
       "primary_cleaner.state.floatbank8_b_level             -500.375645   \n",
       "primary_cleaner.state.floatbank8_c_air               1549.871886   \n",
       "primary_cleaner.state.floatbank8_c_level             -500.601718   \n",
       "primary_cleaner.state.floatbank8_d_air               1452.678767   \n",
       "primary_cleaner.state.floatbank8_d_level             -500.459917   \n",
       "rougher.calculation.sulfate_to_au_concentrate       39994.296160   \n",
       "rougher.calculation.floatbank10_sulfate_to_au_feed   2527.093354   \n",
       "rougher.calculation.floatbank11_sulfate_to_au_feed   2512.200873   \n",
       "rougher.calculation.au_pb_ratio                         1.999588   \n",
       "rougher.input.feed_ag                                   7.132802   \n",
       "rougher.input.feed_pb                                   2.780010   \n",
       "rougher.input.feed_rate                               420.781913   \n",
       "rougher.input.feed_size                                48.973027   \n",
       "rougher.input.feed_sol                                 34.117635   \n",
       "rougher.input.feed_au                                   6.596217   \n",
       "rougher.input.floatbank10_sulfate                       9.861100   \n",
       "rougher.input.floatbank10_xanthate                      5.117359   \n",
       "rougher.input.floatbank11_sulfate                       9.505507   \n",
       "rougher.input.floatbank11_xanthate                      5.199168   \n",
       "rougher.output.concentrate_ag                          10.486871   \n",
       "rougher.output.concentrate_pb                           6.850501   \n",
       "rougher.output.concentrate_sol                         26.703554   \n",
       "rougher.output.concentrate_au                          18.432161   \n",
       "rougher.output.recovery                                79.993067   \n",
       "rougher.output.tail_ag                                  4.921647   \n",
       "rougher.output.tail_pb                                  0.474047   \n",
       "rougher.output.tail_sol                                15.688727   \n",
       "rougher.output.tail_au                                  1.310800   \n",
       "rougher.state.floatbank10_a_air                       999.799166   \n",
       "rougher.state.floatbank10_a_level                    -499.787867   \n",
       "rougher.state.floatbank10_b_air                      1199.366448   \n",
       "rougher.state.floatbank10_b_level                    -500.183028   \n",
       "rougher.state.floatbank10_c_air                      1103.095071   \n",
       "rougher.state.floatbank10_c_level                    -500.211863   \n",
       "rougher.state.floatbank10_d_air                      1059.708509   \n",
       "rougher.state.floatbank10_d_level                    -500.359197   \n",
       "rougher.state.floatbank10_e_air                       997.183864   \n",
       "rougher.state.floatbank10_e_level                    -500.250033   \n",
       "rougher.state.floatbank10_f_air                       900.966986   \n",
       "rougher.state.floatbank10_f_level                    -500.476526   \n",
       "secondary_cleaner.output.tail_ag                       12.177364   \n",
       "secondary_cleaner.output.tail_pb                        3.982298   \n",
       "secondary_cleaner.output.tail_sol                       3.225486   \n",
       "secondary_cleaner.output.tail_au                        3.153122   \n",
       "secondary_cleaner.state.floatbank2_a_air               25.099584   \n",
       "secondary_cleaner.state.floatbank2_a_level           -500.248814   \n",
       "secondary_cleaner.state.floatbank2_b_air               22.048294   \n",
       "secondary_cleaner.state.floatbank2_b_level           -500.270997   \n",
       "secondary_cleaner.state.floatbank3_a_air               24.991662   \n",
       "secondary_cleaner.state.floatbank3_a_level           -500.175065   \n",
       "secondary_cleaner.state.floatbank3_b_air               19.948436   \n",
       "secondary_cleaner.state.floatbank3_b_level           -500.110581   \n",
       "secondary_cleaner.state.floatbank4_a_air               14.990775   \n",
       "secondary_cleaner.state.floatbank4_a_level           -500.628656   \n",
       "secondary_cleaner.state.floatbank4_b_air               11.894558   \n",
       "secondary_cleaner.state.floatbank4_b_level           -500.149000   \n",
       "secondary_cleaner.state.floatbank5_a_air               11.083980   \n",
       "secondary_cleaner.state.floatbank5_a_level           -500.363177   \n",
       "secondary_cleaner.state.floatbank5_b_air                8.994405   \n",
       "secondary_cleaner.state.floatbank5_b_level           -500.105994   \n",
       "secondary_cleaner.state.floatbank6_a_air               14.989304   \n",
       "secondary_cleaner.state.floatbank6_a_level           -500.745104   \n",
       "\n",
       "                                                             50%  \\\n",
       "final.output.concentrate_ag                             4.994652   \n",
       "final.output.concentrate_pb                            10.297144   \n",
       "final.output.concentrate_sol                            8.845462   \n",
       "final.output.concentrate_au                            44.872436   \n",
       "final.output.recovery                                  67.432775   \n",
       "final.output.tail_ag                                    9.480270   \n",
       "final.output.tail_pb                                    2.592022   \n",
       "final.output.tail_sol                                  10.514621   \n",
       "final.output.tail_au                                    2.851025   \n",
       "primary_cleaner.input.sulfate                         133.018328   \n",
       "primary_cleaner.input.depressant                        8.035811   \n",
       "primary_cleaner.input.feed_size                         7.290000   \n",
       "primary_cleaner.input.xanthate                          0.888749   \n",
       "primary_cleaner.output.concentrate_ag                   8.226247   \n",
       "primary_cleaner.output.concentrate_pb                   9.933520   \n",
       "primary_cleaner.output.concentrate_sol                  9.726566   \n",
       "primary_cleaner.output.concentrate_au                  33.225835   \n",
       "primary_cleaner.output.tail_ag                         15.800604   \n",
       "primary_cleaner.output.tail_pb                          3.218374   \n",
       "primary_cleaner.output.tail_sol                         7.714419   \n",
       "primary_cleaner.output.tail_au                          3.510337   \n",
       "primary_cleaner.state.floatbank8_a_air               1601.824410   \n",
       "primary_cleaner.state.floatbank8_a_level             -499.909375   \n",
       "primary_cleaner.state.floatbank8_b_air               1601.818514   \n",
       "primary_cleaner.state.floatbank8_b_level             -499.938003   \n",
       "primary_cleaner.state.floatbank8_c_air               1601.574628   \n",
       "primary_cleaner.state.floatbank8_c_level             -499.871346   \n",
       "primary_cleaner.state.floatbank8_d_air               1600.168346   \n",
       "primary_cleaner.state.floatbank8_d_level             -499.831833   \n",
       "rougher.calculation.sulfate_to_au_concentrate       43684.308422   \n",
       "rougher.calculation.floatbank10_sulfate_to_au_feed   2975.892211   \n",
       "rougher.calculation.floatbank11_sulfate_to_au_feed   2899.807724   \n",
       "rougher.calculation.au_pb_ratio                         2.249275   \n",
       "rougher.input.feed_ag                                   8.156092   \n",
       "rougher.input.feed_pb                                   3.422677   \n",
       "rougher.input.feed_rate                               499.454777   \n",
       "rougher.input.feed_size                                55.373885   \n",
       "rougher.input.feed_sol                                 37.020345   \n",
       "rougher.input.feed_au                                   7.649138   \n",
       "rougher.input.floatbank10_sulfate                      11.688702   \n",
       "rougher.input.floatbank10_xanthate                      5.951071   \n",
       "rougher.input.floatbank11_sulfate                      11.384283   \n",
       "rougher.input.floatbank11_xanthate                      5.998460   \n",
       "rougher.output.concentrate_ag                          11.747362   \n",
       "rougher.output.concentrate_pb                           7.760435   \n",
       "rougher.output.concentrate_sol                         29.257545   \n",
       "rougher.output.concentrate_au                          19.947312   \n",
       "rougher.output.recovery                                85.299462   \n",
       "rougher.output.tail_ag                                  5.722018   \n",
       "rougher.output.tail_pb                                  0.625805   \n",
       "rougher.output.tail_sol                                18.015894   \n",
       "rougher.output.tail_au                                  1.745513   \n",
       "rougher.state.floatbank10_a_air                      1001.685708   \n",
       "rougher.state.floatbank10_a_level                    -300.175125   \n",
       "rougher.state.floatbank10_b_air                      1301.365123   \n",
       "rougher.state.floatbank10_b_level                    -499.764620   \n",
       "rougher.state.floatbank10_c_air                      1300.213385   \n",
       "rougher.state.floatbank10_c_level                    -499.682528   \n",
       "rougher.state.floatbank10_d_air                      1200.744308   \n",
       "rougher.state.floatbank10_d_level                    -499.465285   \n",
       "rougher.state.floatbank10_e_air                      1050.496363   \n",
       "rougher.state.floatbank10_e_level                    -499.611447   \n",
       "rougher.state.floatbank10_f_air                      1000.053757   \n",
       "rougher.state.floatbank10_f_level                    -499.364335   \n",
       "secondary_cleaner.output.tail_ag                       15.357951   \n",
       "secondary_cleaner.output.tail_pb                        5.442310   \n",
       "secondary_cleaner.output.tail_sol                       7.302639   \n",
       "secondary_cleaner.output.tail_au                        3.980210   \n",
       "secondary_cleaner.state.floatbank2_a_air               30.027721   \n",
       "secondary_cleaner.state.floatbank2_a_level           -499.959206   \n",
       "secondary_cleaner.state.floatbank2_b_air               27.022783   \n",
       "secondary_cleaner.state.floatbank2_b_level           -500.014092   \n",
       "secondary_cleaner.state.floatbank3_a_air               28.016530   \n",
       "secondary_cleaner.state.floatbank3_a_level           -499.877837   \n",
       "secondary_cleaner.state.floatbank3_b_air               22.037270   \n",
       "secondary_cleaner.state.floatbank3_b_level           -499.966809   \n",
       "secondary_cleaner.state.floatbank4_a_air               20.001789   \n",
       "secondary_cleaner.state.floatbank4_a_level           -499.681450   \n",
       "secondary_cleaner.state.floatbank4_b_air               14.975536   \n",
       "secondary_cleaner.state.floatbank4_b_level           -499.388738   \n",
       "secondary_cleaner.state.floatbank5_a_air               17.932223   \n",
       "secondary_cleaner.state.floatbank5_a_level           -499.702452   \n",
       "secondary_cleaner.state.floatbank5_b_air               11.997547   \n",
       "secondary_cleaner.state.floatbank5_b_level           -499.914556   \n",
       "secondary_cleaner.state.floatbank6_a_air               19.984175   \n",
       "secondary_cleaner.state.floatbank6_a_level           -500.061431   \n",
       "\n",
       "                                                             75%           max  \n",
       "final.output.concentrate_ag                             5.859540  1.600195e+01  \n",
       "final.output.concentrate_pb                            11.170603  1.703190e+01  \n",
       "final.output.concentrate_sol                           10.487508  1.812485e+01  \n",
       "final.output.concentrate_au                            46.166425  5.275664e+01  \n",
       "final.output.recovery                                  72.346428  1.000000e+02  \n",
       "final.output.tail_ag                                   11.003707  1.955215e+01  \n",
       "final.output.tail_pb                                    3.241723  5.639565e+00  \n",
       "final.output.tail_sol                                  11.933009  2.231773e+01  \n",
       "final.output.tail_au                                    3.434764  8.197408e+00  \n",
       "primary_cleaner.input.sulfate                         159.825396  2.501278e+02  \n",
       "primary_cleaner.input.depressant                       11.522173  2.005226e+01  \n",
       "primary_cleaner.input.feed_size                         7.700000  1.047000e+01  \n",
       "primary_cleaner.input.xanthate                          1.100933  2.512968e+00  \n",
       "primary_cleaner.output.concentrate_ag                   9.504924  1.608163e+01  \n",
       "primary_cleaner.output.concentrate_pb                  11.310817  1.708128e+01  \n",
       "primary_cleaner.output.concentrate_sol                 13.052807  2.228085e+01  \n",
       "primary_cleaner.output.concentrate_au                  35.330145  4.593393e+01  \n",
       "primary_cleaner.output.tail_ag                         18.450109  2.945957e+01  \n",
       "primary_cleaner.output.tail_pb                          4.253218  9.634565e+00  \n",
       "primary_cleaner.output.tail_sol                         8.910664  2.062083e+01  \n",
       "primary_cleaner.output.tail_au                          4.492470  1.778892e+01  \n",
       "primary_cleaner.state.floatbank8_a_air               1699.716408  2.079531e+03  \n",
       "primary_cleaner.state.floatbank8_a_level             -499.378551 -3.301342e+02  \n",
       "primary_cleaner.state.floatbank8_b_air               1700.215351  2.114907e+03  \n",
       "primary_cleaner.state.floatbank8_b_level             -499.389658 -3.473544e+02  \n",
       "primary_cleaner.state.floatbank8_c_air               1700.464037  2.013156e+03  \n",
       "primary_cleaner.state.floatbank8_c_level             -498.801774 -3.466534e+02  \n",
       "primary_cleaner.state.floatbank8_d_air               1699.358771  2.398904e+03  \n",
       "primary_cleaner.state.floatbank8_d_level             -498.480341 -3.060183e+01  \n",
       "rougher.calculation.sulfate_to_au_concentrate       47760.406722  3.428099e+06  \n",
       "rougher.calculation.floatbank10_sulfate_to_au_feed   3716.360822  6.296390e+05  \n",
       "rougher.calculation.floatbank11_sulfate_to_au_feed   3596.534806  7.186850e+05  \n",
       "rougher.calculation.au_pb_ratio                         2.660896  3.937927e+01  \n",
       "rougher.input.feed_ag                                   9.918304  1.459603e+01  \n",
       "rougher.input.feed_pb                                   4.226107  7.142594e+00  \n",
       "rougher.input.feed_rate                               547.334973  7.175088e+02  \n",
       "rougher.input.feed_size                                66.080172  4.849675e+02  \n",
       "rougher.input.feed_sol                                 39.423265  4.836318e+01  \n",
       "rougher.input.feed_au                                   9.066976  1.312604e+01  \n",
       "rougher.input.floatbank10_sulfate                      13.607115  3.611827e+01  \n",
       "rougher.input.floatbank10_xanthate                      6.602533  9.703448e+00  \n",
       "rougher.input.floatbank11_sulfate                      13.497134  3.798065e+01  \n",
       "rougher.input.floatbank11_xanthate                      6.699006  9.698407e+00  \n",
       "rougher.output.concentrate_ag                          13.426419  2.448027e+01  \n",
       "rougher.output.concentrate_pb                           8.601927  1.361707e+01  \n",
       "rougher.output.concentrate_sol                         31.743913  3.835119e+01  \n",
       "rougher.output.concentrate_au                          21.392714  2.814684e+01  \n",
       "rougher.output.recovery                                90.165021  1.000000e+02  \n",
       "rougher.output.tail_ag                                  6.310633  1.271918e+01  \n",
       "rougher.output.tail_pb                                  0.794326  3.778064e+00  \n",
       "rougher.output.tail_sol                                19.938672  6.611719e+01  \n",
       "rougher.output.tail_au                                  2.186790  9.688980e+00  \n",
       "rougher.state.floatbank10_a_air                      1299.505513  1.521980e+03  \n",
       "rougher.state.floatbank10_a_level                    -299.963153 -2.810393e+02  \n",
       "rougher.state.floatbank10_b_air                      1449.553689  1.809194e+03  \n",
       "rougher.state.floatbank10_b_level                    -400.425493 -2.963831e+02  \n",
       "rougher.state.floatbank10_c_air                      1450.350668  2.499129e+03  \n",
       "rougher.state.floatbank10_c_level                    -400.664736 -2.921555e+02  \n",
       "rougher.state.floatbank10_d_air                      1344.378462  1.817199e+03  \n",
       "rougher.state.floatbank10_d_level                    -401.052891 -2.083307e+02  \n",
       "rougher.state.floatbank10_e_air                      1200.047746  1.922637e+03  \n",
       "rougher.state.floatbank10_e_level                    -400.596104 -2.721996e+02  \n",
       "rougher.state.floatbank10_f_air                      1100.165435  1.706308e+03  \n",
       "rougher.state.floatbank10_f_level                    -401.014951 -1.917185e+02  \n",
       "secondary_cleaner.output.tail_ag                       17.230151  2.326474e+01  \n",
       "secondary_cleaner.output.tail_pb                        7.797948  1.704250e+01  \n",
       "secondary_cleaner.output.tail_sol                      10.547068  1.797617e+01  \n",
       "secondary_cleaner.output.tail_au                        4.883943  2.681164e+01  \n",
       "secondary_cleaner.state.floatbank2_a_air               34.893057  5.265140e+01  \n",
       "secondary_cleaner.state.floatbank2_a_level           -499.593198 -1.278756e+02  \n",
       "secondary_cleaner.state.floatbank2_b_air               28.939454  3.515212e+01  \n",
       "secondary_cleaner.state.floatbank2_b_level           -499.764112 -2.120647e+02  \n",
       "secondary_cleaner.state.floatbank3_a_air               34.990095  4.426046e+01  \n",
       "secondary_cleaner.state.floatbank3_a_level           -436.923166 -1.916788e+02  \n",
       "secondary_cleaner.state.floatbank3_b_air               25.970365  3.507284e+01  \n",
       "secondary_cleaner.state.floatbank3_b_level           -499.757501 -1.597423e+02  \n",
       "secondary_cleaner.state.floatbank4_a_air               24.990826  3.011574e+01  \n",
       "secondary_cleaner.state.floatbank4_a_level           -477.472413 -2.452392e+02  \n",
       "secondary_cleaner.state.floatbank4_b_air               20.059375  2.400791e+01  \n",
       "secondary_cleaner.state.floatbank4_b_level           -400.039008 -1.450711e+02  \n",
       "secondary_cleaner.state.floatbank5_a_air               21.346550  4.370993e+01  \n",
       "secondary_cleaner.state.floatbank5_a_level           -487.712108 -2.750731e+02  \n",
       "secondary_cleaner.state.floatbank5_b_air               17.982903  2.792600e+01  \n",
       "secondary_cleaner.state.floatbank5_b_level           -453.186936 -1.573961e+02  \n",
       "secondary_cleaner.state.floatbank6_a_air               24.991623  3.218891e+01  \n",
       "secondary_cleaner.state.floatbank6_a_level           -499.536466 -1.044275e+02  "
      ]
     },
     "execution_count": 7,
     "metadata": {},
     "output_type": "execute_result"
    }
   ],
   "source": [
    "recovery_train.describe().T"
   ]
  },
  {
   "cell_type": "code",
   "execution_count": 8,
   "metadata": {
    "scrolled": true
   },
   "outputs": [
    {
     "data": {
      "text/html": [
       "<div>\n",
       "<style scoped>\n",
       "    .dataframe tbody tr th:only-of-type {\n",
       "        vertical-align: middle;\n",
       "    }\n",
       "\n",
       "    .dataframe tbody tr th {\n",
       "        vertical-align: top;\n",
       "    }\n",
       "\n",
       "    .dataframe thead th {\n",
       "        text-align: right;\n",
       "    }\n",
       "</style>\n",
       "<table border=\"1\" class=\"dataframe\">\n",
       "  <thead>\n",
       "    <tr style=\"text-align: right;\">\n",
       "      <th></th>\n",
       "      <th>count</th>\n",
       "      <th>mean</th>\n",
       "      <th>std</th>\n",
       "      <th>min</th>\n",
       "      <th>25%</th>\n",
       "      <th>50%</th>\n",
       "      <th>75%</th>\n",
       "      <th>max</th>\n",
       "    </tr>\n",
       "  </thead>\n",
       "  <tbody>\n",
       "    <tr>\n",
       "      <th>primary_cleaner.input.sulfate</th>\n",
       "      <td>5286.0</td>\n",
       "      <td>174.839652</td>\n",
       "      <td>43.027080</td>\n",
       "      <td>2.566156e+00</td>\n",
       "      <td>147.121401</td>\n",
       "      <td>177.828489</td>\n",
       "      <td>208.125438</td>\n",
       "      <td>265.983123</td>\n",
       "    </tr>\n",
       "    <tr>\n",
       "      <th>primary_cleaner.input.depressant</th>\n",
       "      <td>5285.0</td>\n",
       "      <td>8.683596</td>\n",
       "      <td>3.072050</td>\n",
       "      <td>3.839482e-03</td>\n",
       "      <td>6.489555</td>\n",
       "      <td>8.052207</td>\n",
       "      <td>10.027764</td>\n",
       "      <td>40.000000</td>\n",
       "    </tr>\n",
       "    <tr>\n",
       "      <th>primary_cleaner.input.feed_size</th>\n",
       "      <td>5290.0</td>\n",
       "      <td>7.266339</td>\n",
       "      <td>0.610219</td>\n",
       "      <td>5.650000e+00</td>\n",
       "      <td>6.890000</td>\n",
       "      <td>7.250000</td>\n",
       "      <td>7.600000</td>\n",
       "      <td>15.500000</td>\n",
       "    </tr>\n",
       "    <tr>\n",
       "      <th>primary_cleaner.input.xanthate</th>\n",
       "      <td>5286.0</td>\n",
       "      <td>1.383803</td>\n",
       "      <td>0.643474</td>\n",
       "      <td>4.983673e-03</td>\n",
       "      <td>0.907623</td>\n",
       "      <td>1.197610</td>\n",
       "      <td>1.797819</td>\n",
       "      <td>4.102454</td>\n",
       "    </tr>\n",
       "    <tr>\n",
       "      <th>primary_cleaner.state.floatbank8_a_air</th>\n",
       "      <td>5290.0</td>\n",
       "      <td>1539.494325</td>\n",
       "      <td>116.797884</td>\n",
       "      <td>5.445860e-32</td>\n",
       "      <td>1498.935802</td>\n",
       "      <td>1585.129123</td>\n",
       "      <td>1602.076529</td>\n",
       "      <td>2103.103580</td>\n",
       "    </tr>\n",
       "    <tr>\n",
       "      <th>primary_cleaner.state.floatbank8_a_level</th>\n",
       "      <td>5290.0</td>\n",
       "      <td>-497.665883</td>\n",
       "      <td>19.952431</td>\n",
       "      <td>-7.953163e+02</td>\n",
       "      <td>-500.357298</td>\n",
       "      <td>-499.969164</td>\n",
       "      <td>-499.568951</td>\n",
       "      <td>-57.195404</td>\n",
       "    </tr>\n",
       "    <tr>\n",
       "      <th>primary_cleaner.state.floatbank8_b_air</th>\n",
       "      <td>5290.0</td>\n",
       "      <td>1545.174232</td>\n",
       "      <td>122.224588</td>\n",
       "      <td>6.647490e-32</td>\n",
       "      <td>1498.970993</td>\n",
       "      <td>1595.621798</td>\n",
       "      <td>1602.323545</td>\n",
       "      <td>1813.083671</td>\n",
       "    </tr>\n",
       "    <tr>\n",
       "      <th>primary_cleaner.state.floatbank8_b_level</th>\n",
       "      <td>5290.0</td>\n",
       "      <td>-500.273098</td>\n",
       "      <td>32.968307</td>\n",
       "      <td>-7.999970e+02</td>\n",
       "      <td>-500.703002</td>\n",
       "      <td>-500.028514</td>\n",
       "      <td>-499.293257</td>\n",
       "      <td>-142.527229</td>\n",
       "    </tr>\n",
       "    <tr>\n",
       "      <th>primary_cleaner.state.floatbank8_c_air</th>\n",
       "      <td>5290.0</td>\n",
       "      <td>1527.272362</td>\n",
       "      <td>122.538034</td>\n",
       "      <td>4.033736e-32</td>\n",
       "      <td>1473.229862</td>\n",
       "      <td>1549.594682</td>\n",
       "      <td>1601.143775</td>\n",
       "      <td>1715.053773</td>\n",
       "    </tr>\n",
       "    <tr>\n",
       "      <th>primary_cleaner.state.floatbank8_c_level</th>\n",
       "      <td>5290.0</td>\n",
       "      <td>-498.330680</td>\n",
       "      <td>21.964876</td>\n",
       "      <td>-7.999606e+02</td>\n",
       "      <td>-501.018117</td>\n",
       "      <td>-500.017711</td>\n",
       "      <td>-498.994130</td>\n",
       "      <td>-150.937035</td>\n",
       "    </tr>\n",
       "    <tr>\n",
       "      <th>primary_cleaner.state.floatbank8_d_air</th>\n",
       "      <td>5290.0</td>\n",
       "      <td>1544.844335</td>\n",
       "      <td>124.773081</td>\n",
       "      <td>4.039220e-32</td>\n",
       "      <td>1499.481404</td>\n",
       "      <td>1594.579112</td>\n",
       "      <td>1600.964772</td>\n",
       "      <td>1913.256561</td>\n",
       "    </tr>\n",
       "    <tr>\n",
       "      <th>primary_cleaner.state.floatbank8_d_level</th>\n",
       "      <td>5290.0</td>\n",
       "      <td>-500.199527</td>\n",
       "      <td>31.045257</td>\n",
       "      <td>-7.997943e+02</td>\n",
       "      <td>-500.452469</td>\n",
       "      <td>-500.023307</td>\n",
       "      <td>-499.607040</td>\n",
       "      <td>-158.950573</td>\n",
       "    </tr>\n",
       "    <tr>\n",
       "      <th>rougher.input.feed_ag</th>\n",
       "      <td>5290.0</td>\n",
       "      <td>9.371940</td>\n",
       "      <td>1.926264</td>\n",
       "      <td>5.684412e-01</td>\n",
       "      <td>8.112434</td>\n",
       "      <td>9.762654</td>\n",
       "      <td>10.652297</td>\n",
       "      <td>14.406130</td>\n",
       "    </tr>\n",
       "    <tr>\n",
       "      <th>rougher.input.feed_pb</th>\n",
       "      <td>5290.0</td>\n",
       "      <td>3.798082</td>\n",
       "      <td>0.954859</td>\n",
       "      <td>2.736769e-01</td>\n",
       "      <td>3.240251</td>\n",
       "      <td>3.740716</td>\n",
       "      <td>4.282634</td>\n",
       "      <td>6.905684</td>\n",
       "    </tr>\n",
       "    <tr>\n",
       "      <th>rougher.input.feed_rate</th>\n",
       "      <td>5287.0</td>\n",
       "      <td>489.800620</td>\n",
       "      <td>108.036326</td>\n",
       "      <td>2.985849e-03</td>\n",
       "      <td>407.020883</td>\n",
       "      <td>499.051440</td>\n",
       "      <td>575.307213</td>\n",
       "      <td>707.364020</td>\n",
       "    </tr>\n",
       "    <tr>\n",
       "      <th>rougher.input.feed_size</th>\n",
       "      <td>5289.0</td>\n",
       "      <td>55.951097</td>\n",
       "      <td>19.081758</td>\n",
       "      <td>4.636880e-02</td>\n",
       "      <td>43.906347</td>\n",
       "      <td>50.841029</td>\n",
       "      <td>62.431047</td>\n",
       "      <td>392.494040</td>\n",
       "    </tr>\n",
       "    <tr>\n",
       "      <th>rougher.input.feed_sol</th>\n",
       "      <td>5269.0</td>\n",
       "      <td>37.716648</td>\n",
       "      <td>5.491415</td>\n",
       "      <td>1.393488e+00</td>\n",
       "      <td>34.505576</td>\n",
       "      <td>37.980276</td>\n",
       "      <td>41.635385</td>\n",
       "      <td>53.477742</td>\n",
       "    </tr>\n",
       "    <tr>\n",
       "      <th>rougher.input.feed_au</th>\n",
       "      <td>5290.0</td>\n",
       "      <td>9.334682</td>\n",
       "      <td>1.619521</td>\n",
       "      <td>5.686322e-01</td>\n",
       "      <td>8.207814</td>\n",
       "      <td>9.593766</td>\n",
       "      <td>10.463538</td>\n",
       "      <td>13.731330</td>\n",
       "    </tr>\n",
       "    <tr>\n",
       "      <th>rougher.input.floatbank10_sulfate</th>\n",
       "      <td>5285.0</td>\n",
       "      <td>13.855759</td>\n",
       "      <td>3.350852</td>\n",
       "      <td>1.147460e-03</td>\n",
       "      <td>11.995006</td>\n",
       "      <td>14.003126</td>\n",
       "      <td>16.974284</td>\n",
       "      <td>24.280636</td>\n",
       "    </tr>\n",
       "    <tr>\n",
       "      <th>rougher.input.floatbank10_xanthate</th>\n",
       "      <td>5290.0</td>\n",
       "      <td>6.467745</td>\n",
       "      <td>1.065114</td>\n",
       "      <td>5.682328e-04</td>\n",
       "      <td>5.998779</td>\n",
       "      <td>6.498181</td>\n",
       "      <td>7.085457</td>\n",
       "      <td>8.910468</td>\n",
       "    </tr>\n",
       "    <tr>\n",
       "      <th>rougher.input.floatbank11_sulfate</th>\n",
       "      <td>5282.0</td>\n",
       "      <td>13.922328</td>\n",
       "      <td>3.223769</td>\n",
       "      <td>7.673764e-05</td>\n",
       "      <td>11.997200</td>\n",
       "      <td>14.004371</td>\n",
       "      <td>16.959671</td>\n",
       "      <td>24.280966</td>\n",
       "    </tr>\n",
       "    <tr>\n",
       "      <th>rougher.input.floatbank11_xanthate</th>\n",
       "      <td>5265.0</td>\n",
       "      <td>6.512103</td>\n",
       "      <td>0.886989</td>\n",
       "      <td>6.985269e-03</td>\n",
       "      <td>5.999157</td>\n",
       "      <td>6.498744</td>\n",
       "      <td>7.091808</td>\n",
       "      <td>8.621338</td>\n",
       "    </tr>\n",
       "    <tr>\n",
       "      <th>rougher.state.floatbank10_a_air</th>\n",
       "      <td>5290.0</td>\n",
       "      <td>1053.400166</td>\n",
       "      <td>121.139309</td>\n",
       "      <td>-4.206929e-02</td>\n",
       "      <td>999.205344</td>\n",
       "      <td>1000.472055</td>\n",
       "      <td>1006.254299</td>\n",
       "      <td>1423.274687</td>\n",
       "    </tr>\n",
       "    <tr>\n",
       "      <th>rougher.state.floatbank10_a_level</th>\n",
       "      <td>5290.0</td>\n",
       "      <td>-395.732530</td>\n",
       "      <td>91.085505</td>\n",
       "      <td>-6.579498e+02</td>\n",
       "      <td>-499.920565</td>\n",
       "      <td>-399.693363</td>\n",
       "      <td>-300.060056</td>\n",
       "      <td>-273.776101</td>\n",
       "    </tr>\n",
       "    <tr>\n",
       "      <th>rougher.state.floatbank10_b_air</th>\n",
       "      <td>5290.0</td>\n",
       "      <td>1318.926879</td>\n",
       "      <td>156.450366</td>\n",
       "      <td>-7.218064e-01</td>\n",
       "      <td>1200.871883</td>\n",
       "      <td>1302.254995</td>\n",
       "      <td>1433.955649</td>\n",
       "      <td>1706.640419</td>\n",
       "    </tr>\n",
       "    <tr>\n",
       "      <th>rougher.state.floatbank10_b_level</th>\n",
       "      <td>5290.0</td>\n",
       "      <td>-475.241428</td>\n",
       "      <td>45.649466</td>\n",
       "      <td>-6.502453e+02</td>\n",
       "      <td>-500.256114</td>\n",
       "      <td>-499.837803</td>\n",
       "      <td>-450.749619</td>\n",
       "      <td>-298.200051</td>\n",
       "    </tr>\n",
       "    <tr>\n",
       "      <th>rougher.state.floatbank10_c_air</th>\n",
       "      <td>5290.0</td>\n",
       "      <td>1301.595477</td>\n",
       "      <td>171.269667</td>\n",
       "      <td>-5.663551e-02</td>\n",
       "      <td>1199.651371</td>\n",
       "      <td>1300.202274</td>\n",
       "      <td>1406.594956</td>\n",
       "      <td>1731.017788</td>\n",
       "    </tr>\n",
       "    <tr>\n",
       "      <th>rougher.state.floatbank10_c_level</th>\n",
       "      <td>5290.0</td>\n",
       "      <td>-474.836671</td>\n",
       "      <td>45.859866</td>\n",
       "      <td>-6.475444e+02</td>\n",
       "      <td>-500.233831</td>\n",
       "      <td>-499.777222</td>\n",
       "      <td>-451.153188</td>\n",
       "      <td>-298.036852</td>\n",
       "    </tr>\n",
       "    <tr>\n",
       "      <th>rougher.state.floatbank10_d_air</th>\n",
       "      <td>5290.0</td>\n",
       "      <td>1214.847960</td>\n",
       "      <td>185.763319</td>\n",
       "      <td>-9.922190e-01</td>\n",
       "      <td>1093.368068</td>\n",
       "      <td>1207.014092</td>\n",
       "      <td>1391.497269</td>\n",
       "      <td>1775.218584</td>\n",
       "    </tr>\n",
       "    <tr>\n",
       "      <th>rougher.state.floatbank10_d_level</th>\n",
       "      <td>5290.0</td>\n",
       "      <td>-475.682272</td>\n",
       "      <td>47.844967</td>\n",
       "      <td>-6.483907e+02</td>\n",
       "      <td>-500.440610</td>\n",
       "      <td>-499.691917</td>\n",
       "      <td>-452.483463</td>\n",
       "      <td>-76.397327</td>\n",
       "    </tr>\n",
       "    <tr>\n",
       "      <th>rougher.state.floatbank10_e_air</th>\n",
       "      <td>5290.0</td>\n",
       "      <td>1056.648995</td>\n",
       "      <td>131.542839</td>\n",
       "      <td>-1.982295e+00</td>\n",
       "      <td>999.361403</td>\n",
       "      <td>1047.495449</td>\n",
       "      <td>1101.365315</td>\n",
       "      <td>1467.184843</td>\n",
       "    </tr>\n",
       "    <tr>\n",
       "      <th>rougher.state.floatbank10_e_level</th>\n",
       "      <td>5290.0</td>\n",
       "      <td>-469.029688</td>\n",
       "      <td>59.325990</td>\n",
       "      <td>-6.492675e+02</td>\n",
       "      <td>-500.190639</td>\n",
       "      <td>-499.765796</td>\n",
       "      <td>-450.957513</td>\n",
       "      <td>-139.753025</td>\n",
       "    </tr>\n",
       "    <tr>\n",
       "      <th>rougher.state.floatbank10_f_air</th>\n",
       "      <td>5290.0</td>\n",
       "      <td>997.949719</td>\n",
       "      <td>128.218869</td>\n",
       "      <td>-2.593390e+00</td>\n",
       "      <td>901.024994</td>\n",
       "      <td>999.441879</td>\n",
       "      <td>1050.433005</td>\n",
       "      <td>1476.588107</td>\n",
       "    </tr>\n",
       "    <tr>\n",
       "      <th>rougher.state.floatbank10_f_level</th>\n",
       "      <td>5290.0</td>\n",
       "      <td>-470.482465</td>\n",
       "      <td>60.759318</td>\n",
       "      <td>-6.499493e+02</td>\n",
       "      <td>-500.624783</td>\n",
       "      <td>-499.680986</td>\n",
       "      <td>-451.986460</td>\n",
       "      <td>-249.801043</td>\n",
       "    </tr>\n",
       "    <tr>\n",
       "      <th>secondary_cleaner.state.floatbank2_a_air</th>\n",
       "      <td>5287.0</td>\n",
       "      <td>26.312630</td>\n",
       "      <td>3.429852</td>\n",
       "      <td>2.053286e-01</td>\n",
       "      <td>24.942328</td>\n",
       "      <td>26.910569</td>\n",
       "      <td>28.091885</td>\n",
       "      <td>32.138727</td>\n",
       "    </tr>\n",
       "    <tr>\n",
       "      <th>secondary_cleaner.state.floatbank2_a_level</th>\n",
       "      <td>5290.0</td>\n",
       "      <td>-502.750897</td>\n",
       "      <td>28.756505</td>\n",
       "      <td>-7.840911e+02</td>\n",
       "      <td>-500.206517</td>\n",
       "      <td>-500.003902</td>\n",
       "      <td>-499.791639</td>\n",
       "      <td>-300.343670</td>\n",
       "    </tr>\n",
       "    <tr>\n",
       "      <th>secondary_cleaner.state.floatbank2_b_air</th>\n",
       "      <td>5288.0</td>\n",
       "      <td>21.949119</td>\n",
       "      <td>4.354961</td>\n",
       "      <td>6.063908e-03</td>\n",
       "      <td>20.002315</td>\n",
       "      <td>22.942603</td>\n",
       "      <td>24.985013</td>\n",
       "      <td>28.165864</td>\n",
       "    </tr>\n",
       "    <tr>\n",
       "      <th>secondary_cleaner.state.floatbank2_b_level</th>\n",
       "      <td>5290.0</td>\n",
       "      <td>-501.987097</td>\n",
       "      <td>34.582722</td>\n",
       "      <td>-7.977840e+02</td>\n",
       "      <td>-500.218030</td>\n",
       "      <td>-500.019058</td>\n",
       "      <td>-499.831532</td>\n",
       "      <td>-211.999273</td>\n",
       "    </tr>\n",
       "    <tr>\n",
       "      <th>secondary_cleaner.state.floatbank3_a_air</th>\n",
       "      <td>5281.0</td>\n",
       "      <td>25.402926</td>\n",
       "      <td>6.526457</td>\n",
       "      <td>0.000000e+00</td>\n",
       "      <td>22.982288</td>\n",
       "      <td>25.010105</td>\n",
       "      <td>30.002063</td>\n",
       "      <td>40.041997</td>\n",
       "    </tr>\n",
       "    <tr>\n",
       "      <th>secondary_cleaner.state.floatbank3_a_level</th>\n",
       "      <td>5290.0</td>\n",
       "      <td>-507.490314</td>\n",
       "      <td>47.620908</td>\n",
       "      <td>-7.997558e+02</td>\n",
       "      <td>-500.297951</td>\n",
       "      <td>-500.034578</td>\n",
       "      <td>-499.780163</td>\n",
       "      <td>-313.866425</td>\n",
       "    </tr>\n",
       "    <tr>\n",
       "      <th>secondary_cleaner.state.floatbank3_b_air</th>\n",
       "      <td>5290.0</td>\n",
       "      <td>20.982108</td>\n",
       "      <td>6.736179</td>\n",
       "      <td>1.521587e-17</td>\n",
       "      <td>17.967855</td>\n",
       "      <td>21.003164</td>\n",
       "      <td>26.976977</td>\n",
       "      <td>32.039365</td>\n",
       "    </tr>\n",
       "    <tr>\n",
       "      <th>secondary_cleaner.state.floatbank3_b_level</th>\n",
       "      <td>5290.0</td>\n",
       "      <td>-506.627916</td>\n",
       "      <td>44.528673</td>\n",
       "      <td>-8.093330e+02</td>\n",
       "      <td>-500.145128</td>\n",
       "      <td>-500.013819</td>\n",
       "      <td>-499.890608</td>\n",
       "      <td>-202.277366</td>\n",
       "    </tr>\n",
       "    <tr>\n",
       "      <th>secondary_cleaner.state.floatbank4_a_air</th>\n",
       "      <td>5290.0</td>\n",
       "      <td>16.320074</td>\n",
       "      <td>3.493583</td>\n",
       "      <td>1.079872e-16</td>\n",
       "      <td>14.036177</td>\n",
       "      <td>17.008468</td>\n",
       "      <td>18.038619</td>\n",
       "      <td>30.051797</td>\n",
       "    </tr>\n",
       "    <tr>\n",
       "      <th>secondary_cleaner.state.floatbank4_a_level</th>\n",
       "      <td>5290.0</td>\n",
       "      <td>-505.144570</td>\n",
       "      <td>31.427337</td>\n",
       "      <td>-7.997985e+02</td>\n",
       "      <td>-500.868258</td>\n",
       "      <td>-500.115727</td>\n",
       "      <td>-499.404224</td>\n",
       "      <td>-401.565212</td>\n",
       "    </tr>\n",
       "    <tr>\n",
       "      <th>secondary_cleaner.state.floatbank4_b_air</th>\n",
       "      <td>5290.0</td>\n",
       "      <td>13.735444</td>\n",
       "      <td>3.430484</td>\n",
       "      <td>2.489718e-17</td>\n",
       "      <td>12.028625</td>\n",
       "      <td>14.964860</td>\n",
       "      <td>15.962125</td>\n",
       "      <td>31.269706</td>\n",
       "    </tr>\n",
       "    <tr>\n",
       "      <th>secondary_cleaner.state.floatbank4_b_level</th>\n",
       "      <td>5290.0</td>\n",
       "      <td>-463.349858</td>\n",
       "      <td>86.189107</td>\n",
       "      <td>-8.008369e+02</td>\n",
       "      <td>-500.323028</td>\n",
       "      <td>-499.576513</td>\n",
       "      <td>-400.933805</td>\n",
       "      <td>-6.506986</td>\n",
       "    </tr>\n",
       "    <tr>\n",
       "      <th>secondary_cleaner.state.floatbank5_a_air</th>\n",
       "      <td>5290.0</td>\n",
       "      <td>12.804186</td>\n",
       "      <td>3.026591</td>\n",
       "      <td>6.922662e-02</td>\n",
       "      <td>10.914838</td>\n",
       "      <td>12.954182</td>\n",
       "      <td>15.097528</td>\n",
       "      <td>25.258848</td>\n",
       "    </tr>\n",
       "    <tr>\n",
       "      <th>secondary_cleaner.state.floatbank5_a_level</th>\n",
       "      <td>5290.0</td>\n",
       "      <td>-501.329122</td>\n",
       "      <td>17.951495</td>\n",
       "      <td>-7.973240e+02</td>\n",
       "      <td>-500.726841</td>\n",
       "      <td>-499.990332</td>\n",
       "      <td>-499.283191</td>\n",
       "      <td>-244.483566</td>\n",
       "    </tr>\n",
       "    <tr>\n",
       "      <th>secondary_cleaner.state.floatbank5_b_air</th>\n",
       "      <td>5290.0</td>\n",
       "      <td>9.881145</td>\n",
       "      <td>2.868205</td>\n",
       "      <td>5.280828e-01</td>\n",
       "      <td>8.036719</td>\n",
       "      <td>10.004301</td>\n",
       "      <td>11.997467</td>\n",
       "      <td>14.086866</td>\n",
       "    </tr>\n",
       "    <tr>\n",
       "      <th>secondary_cleaner.state.floatbank5_b_level</th>\n",
       "      <td>5290.0</td>\n",
       "      <td>-495.663398</td>\n",
       "      <td>34.535007</td>\n",
       "      <td>-8.002203e+02</td>\n",
       "      <td>-500.194668</td>\n",
       "      <td>-499.990535</td>\n",
       "      <td>-499.719913</td>\n",
       "      <td>-137.740004</td>\n",
       "    </tr>\n",
       "    <tr>\n",
       "      <th>secondary_cleaner.state.floatbank6_a_air</th>\n",
       "      <td>5290.0</td>\n",
       "      <td>17.304935</td>\n",
       "      <td>4.536544</td>\n",
       "      <td>-7.942623e-02</td>\n",
       "      <td>13.997317</td>\n",
       "      <td>16.014935</td>\n",
       "      <td>21.020013</td>\n",
       "      <td>26.705889</td>\n",
       "    </tr>\n",
       "    <tr>\n",
       "      <th>secondary_cleaner.state.floatbank6_a_level</th>\n",
       "      <td>5290.0</td>\n",
       "      <td>-501.793193</td>\n",
       "      <td>39.044215</td>\n",
       "      <td>-8.097415e+02</td>\n",
       "      <td>-500.690984</td>\n",
       "      <td>-500.007126</td>\n",
       "      <td>-499.373018</td>\n",
       "      <td>-123.307487</td>\n",
       "    </tr>\n",
       "  </tbody>\n",
       "</table>\n",
       "</div>"
      ],
      "text/plain": [
       "                                             count         mean         std  \\\n",
       "primary_cleaner.input.sulfate               5286.0   174.839652   43.027080   \n",
       "primary_cleaner.input.depressant            5285.0     8.683596    3.072050   \n",
       "primary_cleaner.input.feed_size             5290.0     7.266339    0.610219   \n",
       "primary_cleaner.input.xanthate              5286.0     1.383803    0.643474   \n",
       "primary_cleaner.state.floatbank8_a_air      5290.0  1539.494325  116.797884   \n",
       "primary_cleaner.state.floatbank8_a_level    5290.0  -497.665883   19.952431   \n",
       "primary_cleaner.state.floatbank8_b_air      5290.0  1545.174232  122.224588   \n",
       "primary_cleaner.state.floatbank8_b_level    5290.0  -500.273098   32.968307   \n",
       "primary_cleaner.state.floatbank8_c_air      5290.0  1527.272362  122.538034   \n",
       "primary_cleaner.state.floatbank8_c_level    5290.0  -498.330680   21.964876   \n",
       "primary_cleaner.state.floatbank8_d_air      5290.0  1544.844335  124.773081   \n",
       "primary_cleaner.state.floatbank8_d_level    5290.0  -500.199527   31.045257   \n",
       "rougher.input.feed_ag                       5290.0     9.371940    1.926264   \n",
       "rougher.input.feed_pb                       5290.0     3.798082    0.954859   \n",
       "rougher.input.feed_rate                     5287.0   489.800620  108.036326   \n",
       "rougher.input.feed_size                     5289.0    55.951097   19.081758   \n",
       "rougher.input.feed_sol                      5269.0    37.716648    5.491415   \n",
       "rougher.input.feed_au                       5290.0     9.334682    1.619521   \n",
       "rougher.input.floatbank10_sulfate           5285.0    13.855759    3.350852   \n",
       "rougher.input.floatbank10_xanthate          5290.0     6.467745    1.065114   \n",
       "rougher.input.floatbank11_sulfate           5282.0    13.922328    3.223769   \n",
       "rougher.input.floatbank11_xanthate          5265.0     6.512103    0.886989   \n",
       "rougher.state.floatbank10_a_air             5290.0  1053.400166  121.139309   \n",
       "rougher.state.floatbank10_a_level           5290.0  -395.732530   91.085505   \n",
       "rougher.state.floatbank10_b_air             5290.0  1318.926879  156.450366   \n",
       "rougher.state.floatbank10_b_level           5290.0  -475.241428   45.649466   \n",
       "rougher.state.floatbank10_c_air             5290.0  1301.595477  171.269667   \n",
       "rougher.state.floatbank10_c_level           5290.0  -474.836671   45.859866   \n",
       "rougher.state.floatbank10_d_air             5290.0  1214.847960  185.763319   \n",
       "rougher.state.floatbank10_d_level           5290.0  -475.682272   47.844967   \n",
       "rougher.state.floatbank10_e_air             5290.0  1056.648995  131.542839   \n",
       "rougher.state.floatbank10_e_level           5290.0  -469.029688   59.325990   \n",
       "rougher.state.floatbank10_f_air             5290.0   997.949719  128.218869   \n",
       "rougher.state.floatbank10_f_level           5290.0  -470.482465   60.759318   \n",
       "secondary_cleaner.state.floatbank2_a_air    5287.0    26.312630    3.429852   \n",
       "secondary_cleaner.state.floatbank2_a_level  5290.0  -502.750897   28.756505   \n",
       "secondary_cleaner.state.floatbank2_b_air    5288.0    21.949119    4.354961   \n",
       "secondary_cleaner.state.floatbank2_b_level  5290.0  -501.987097   34.582722   \n",
       "secondary_cleaner.state.floatbank3_a_air    5281.0    25.402926    6.526457   \n",
       "secondary_cleaner.state.floatbank3_a_level  5290.0  -507.490314   47.620908   \n",
       "secondary_cleaner.state.floatbank3_b_air    5290.0    20.982108    6.736179   \n",
       "secondary_cleaner.state.floatbank3_b_level  5290.0  -506.627916   44.528673   \n",
       "secondary_cleaner.state.floatbank4_a_air    5290.0    16.320074    3.493583   \n",
       "secondary_cleaner.state.floatbank4_a_level  5290.0  -505.144570   31.427337   \n",
       "secondary_cleaner.state.floatbank4_b_air    5290.0    13.735444    3.430484   \n",
       "secondary_cleaner.state.floatbank4_b_level  5290.0  -463.349858   86.189107   \n",
       "secondary_cleaner.state.floatbank5_a_air    5290.0    12.804186    3.026591   \n",
       "secondary_cleaner.state.floatbank5_a_level  5290.0  -501.329122   17.951495   \n",
       "secondary_cleaner.state.floatbank5_b_air    5290.0     9.881145    2.868205   \n",
       "secondary_cleaner.state.floatbank5_b_level  5290.0  -495.663398   34.535007   \n",
       "secondary_cleaner.state.floatbank6_a_air    5290.0    17.304935    4.536544   \n",
       "secondary_cleaner.state.floatbank6_a_level  5290.0  -501.793193   39.044215   \n",
       "\n",
       "                                                     min          25%  \\\n",
       "primary_cleaner.input.sulfate               2.566156e+00   147.121401   \n",
       "primary_cleaner.input.depressant            3.839482e-03     6.489555   \n",
       "primary_cleaner.input.feed_size             5.650000e+00     6.890000   \n",
       "primary_cleaner.input.xanthate              4.983673e-03     0.907623   \n",
       "primary_cleaner.state.floatbank8_a_air      5.445860e-32  1498.935802   \n",
       "primary_cleaner.state.floatbank8_a_level   -7.953163e+02  -500.357298   \n",
       "primary_cleaner.state.floatbank8_b_air      6.647490e-32  1498.970993   \n",
       "primary_cleaner.state.floatbank8_b_level   -7.999970e+02  -500.703002   \n",
       "primary_cleaner.state.floatbank8_c_air      4.033736e-32  1473.229862   \n",
       "primary_cleaner.state.floatbank8_c_level   -7.999606e+02  -501.018117   \n",
       "primary_cleaner.state.floatbank8_d_air      4.039220e-32  1499.481404   \n",
       "primary_cleaner.state.floatbank8_d_level   -7.997943e+02  -500.452469   \n",
       "rougher.input.feed_ag                       5.684412e-01     8.112434   \n",
       "rougher.input.feed_pb                       2.736769e-01     3.240251   \n",
       "rougher.input.feed_rate                     2.985849e-03   407.020883   \n",
       "rougher.input.feed_size                     4.636880e-02    43.906347   \n",
       "rougher.input.feed_sol                      1.393488e+00    34.505576   \n",
       "rougher.input.feed_au                       5.686322e-01     8.207814   \n",
       "rougher.input.floatbank10_sulfate           1.147460e-03    11.995006   \n",
       "rougher.input.floatbank10_xanthate          5.682328e-04     5.998779   \n",
       "rougher.input.floatbank11_sulfate           7.673764e-05    11.997200   \n",
       "rougher.input.floatbank11_xanthate          6.985269e-03     5.999157   \n",
       "rougher.state.floatbank10_a_air            -4.206929e-02   999.205344   \n",
       "rougher.state.floatbank10_a_level          -6.579498e+02  -499.920565   \n",
       "rougher.state.floatbank10_b_air            -7.218064e-01  1200.871883   \n",
       "rougher.state.floatbank10_b_level          -6.502453e+02  -500.256114   \n",
       "rougher.state.floatbank10_c_air            -5.663551e-02  1199.651371   \n",
       "rougher.state.floatbank10_c_level          -6.475444e+02  -500.233831   \n",
       "rougher.state.floatbank10_d_air            -9.922190e-01  1093.368068   \n",
       "rougher.state.floatbank10_d_level          -6.483907e+02  -500.440610   \n",
       "rougher.state.floatbank10_e_air            -1.982295e+00   999.361403   \n",
       "rougher.state.floatbank10_e_level          -6.492675e+02  -500.190639   \n",
       "rougher.state.floatbank10_f_air            -2.593390e+00   901.024994   \n",
       "rougher.state.floatbank10_f_level          -6.499493e+02  -500.624783   \n",
       "secondary_cleaner.state.floatbank2_a_air    2.053286e-01    24.942328   \n",
       "secondary_cleaner.state.floatbank2_a_level -7.840911e+02  -500.206517   \n",
       "secondary_cleaner.state.floatbank2_b_air    6.063908e-03    20.002315   \n",
       "secondary_cleaner.state.floatbank2_b_level -7.977840e+02  -500.218030   \n",
       "secondary_cleaner.state.floatbank3_a_air    0.000000e+00    22.982288   \n",
       "secondary_cleaner.state.floatbank3_a_level -7.997558e+02  -500.297951   \n",
       "secondary_cleaner.state.floatbank3_b_air    1.521587e-17    17.967855   \n",
       "secondary_cleaner.state.floatbank3_b_level -8.093330e+02  -500.145128   \n",
       "secondary_cleaner.state.floatbank4_a_air    1.079872e-16    14.036177   \n",
       "secondary_cleaner.state.floatbank4_a_level -7.997985e+02  -500.868258   \n",
       "secondary_cleaner.state.floatbank4_b_air    2.489718e-17    12.028625   \n",
       "secondary_cleaner.state.floatbank4_b_level -8.008369e+02  -500.323028   \n",
       "secondary_cleaner.state.floatbank5_a_air    6.922662e-02    10.914838   \n",
       "secondary_cleaner.state.floatbank5_a_level -7.973240e+02  -500.726841   \n",
       "secondary_cleaner.state.floatbank5_b_air    5.280828e-01     8.036719   \n",
       "secondary_cleaner.state.floatbank5_b_level -8.002203e+02  -500.194668   \n",
       "secondary_cleaner.state.floatbank6_a_air   -7.942623e-02    13.997317   \n",
       "secondary_cleaner.state.floatbank6_a_level -8.097415e+02  -500.690984   \n",
       "\n",
       "                                                    50%          75%  \\\n",
       "primary_cleaner.input.sulfate                177.828489   208.125438   \n",
       "primary_cleaner.input.depressant               8.052207    10.027764   \n",
       "primary_cleaner.input.feed_size                7.250000     7.600000   \n",
       "primary_cleaner.input.xanthate                 1.197610     1.797819   \n",
       "primary_cleaner.state.floatbank8_a_air      1585.129123  1602.076529   \n",
       "primary_cleaner.state.floatbank8_a_level    -499.969164  -499.568951   \n",
       "primary_cleaner.state.floatbank8_b_air      1595.621798  1602.323545   \n",
       "primary_cleaner.state.floatbank8_b_level    -500.028514  -499.293257   \n",
       "primary_cleaner.state.floatbank8_c_air      1549.594682  1601.143775   \n",
       "primary_cleaner.state.floatbank8_c_level    -500.017711  -498.994130   \n",
       "primary_cleaner.state.floatbank8_d_air      1594.579112  1600.964772   \n",
       "primary_cleaner.state.floatbank8_d_level    -500.023307  -499.607040   \n",
       "rougher.input.feed_ag                          9.762654    10.652297   \n",
       "rougher.input.feed_pb                          3.740716     4.282634   \n",
       "rougher.input.feed_rate                      499.051440   575.307213   \n",
       "rougher.input.feed_size                       50.841029    62.431047   \n",
       "rougher.input.feed_sol                        37.980276    41.635385   \n",
       "rougher.input.feed_au                          9.593766    10.463538   \n",
       "rougher.input.floatbank10_sulfate             14.003126    16.974284   \n",
       "rougher.input.floatbank10_xanthate             6.498181     7.085457   \n",
       "rougher.input.floatbank11_sulfate             14.004371    16.959671   \n",
       "rougher.input.floatbank11_xanthate             6.498744     7.091808   \n",
       "rougher.state.floatbank10_a_air             1000.472055  1006.254299   \n",
       "rougher.state.floatbank10_a_level           -399.693363  -300.060056   \n",
       "rougher.state.floatbank10_b_air             1302.254995  1433.955649   \n",
       "rougher.state.floatbank10_b_level           -499.837803  -450.749619   \n",
       "rougher.state.floatbank10_c_air             1300.202274  1406.594956   \n",
       "rougher.state.floatbank10_c_level           -499.777222  -451.153188   \n",
       "rougher.state.floatbank10_d_air             1207.014092  1391.497269   \n",
       "rougher.state.floatbank10_d_level           -499.691917  -452.483463   \n",
       "rougher.state.floatbank10_e_air             1047.495449  1101.365315   \n",
       "rougher.state.floatbank10_e_level           -499.765796  -450.957513   \n",
       "rougher.state.floatbank10_f_air              999.441879  1050.433005   \n",
       "rougher.state.floatbank10_f_level           -499.680986  -451.986460   \n",
       "secondary_cleaner.state.floatbank2_a_air      26.910569    28.091885   \n",
       "secondary_cleaner.state.floatbank2_a_level  -500.003902  -499.791639   \n",
       "secondary_cleaner.state.floatbank2_b_air      22.942603    24.985013   \n",
       "secondary_cleaner.state.floatbank2_b_level  -500.019058  -499.831532   \n",
       "secondary_cleaner.state.floatbank3_a_air      25.010105    30.002063   \n",
       "secondary_cleaner.state.floatbank3_a_level  -500.034578  -499.780163   \n",
       "secondary_cleaner.state.floatbank3_b_air      21.003164    26.976977   \n",
       "secondary_cleaner.state.floatbank3_b_level  -500.013819  -499.890608   \n",
       "secondary_cleaner.state.floatbank4_a_air      17.008468    18.038619   \n",
       "secondary_cleaner.state.floatbank4_a_level  -500.115727  -499.404224   \n",
       "secondary_cleaner.state.floatbank4_b_air      14.964860    15.962125   \n",
       "secondary_cleaner.state.floatbank4_b_level  -499.576513  -400.933805   \n",
       "secondary_cleaner.state.floatbank5_a_air      12.954182    15.097528   \n",
       "secondary_cleaner.state.floatbank5_a_level  -499.990332  -499.283191   \n",
       "secondary_cleaner.state.floatbank5_b_air      10.004301    11.997467   \n",
       "secondary_cleaner.state.floatbank5_b_level  -499.990535  -499.719913   \n",
       "secondary_cleaner.state.floatbank6_a_air      16.014935    21.020013   \n",
       "secondary_cleaner.state.floatbank6_a_level  -500.007126  -499.373018   \n",
       "\n",
       "                                                    max  \n",
       "primary_cleaner.input.sulfate                265.983123  \n",
       "primary_cleaner.input.depressant              40.000000  \n",
       "primary_cleaner.input.feed_size               15.500000  \n",
       "primary_cleaner.input.xanthate                 4.102454  \n",
       "primary_cleaner.state.floatbank8_a_air      2103.103580  \n",
       "primary_cleaner.state.floatbank8_a_level     -57.195404  \n",
       "primary_cleaner.state.floatbank8_b_air      1813.083671  \n",
       "primary_cleaner.state.floatbank8_b_level    -142.527229  \n",
       "primary_cleaner.state.floatbank8_c_air      1715.053773  \n",
       "primary_cleaner.state.floatbank8_c_level    -150.937035  \n",
       "primary_cleaner.state.floatbank8_d_air      1913.256561  \n",
       "primary_cleaner.state.floatbank8_d_level    -158.950573  \n",
       "rougher.input.feed_ag                         14.406130  \n",
       "rougher.input.feed_pb                          6.905684  \n",
       "rougher.input.feed_rate                      707.364020  \n",
       "rougher.input.feed_size                      392.494040  \n",
       "rougher.input.feed_sol                        53.477742  \n",
       "rougher.input.feed_au                         13.731330  \n",
       "rougher.input.floatbank10_sulfate             24.280636  \n",
       "rougher.input.floatbank10_xanthate             8.910468  \n",
       "rougher.input.floatbank11_sulfate             24.280966  \n",
       "rougher.input.floatbank11_xanthate             8.621338  \n",
       "rougher.state.floatbank10_a_air             1423.274687  \n",
       "rougher.state.floatbank10_a_level           -273.776101  \n",
       "rougher.state.floatbank10_b_air             1706.640419  \n",
       "rougher.state.floatbank10_b_level           -298.200051  \n",
       "rougher.state.floatbank10_c_air             1731.017788  \n",
       "rougher.state.floatbank10_c_level           -298.036852  \n",
       "rougher.state.floatbank10_d_air             1775.218584  \n",
       "rougher.state.floatbank10_d_level            -76.397327  \n",
       "rougher.state.floatbank10_e_air             1467.184843  \n",
       "rougher.state.floatbank10_e_level           -139.753025  \n",
       "rougher.state.floatbank10_f_air             1476.588107  \n",
       "rougher.state.floatbank10_f_level           -249.801043  \n",
       "secondary_cleaner.state.floatbank2_a_air      32.138727  \n",
       "secondary_cleaner.state.floatbank2_a_level  -300.343670  \n",
       "secondary_cleaner.state.floatbank2_b_air      28.165864  \n",
       "secondary_cleaner.state.floatbank2_b_level  -211.999273  \n",
       "secondary_cleaner.state.floatbank3_a_air      40.041997  \n",
       "secondary_cleaner.state.floatbank3_a_level  -313.866425  \n",
       "secondary_cleaner.state.floatbank3_b_air      32.039365  \n",
       "secondary_cleaner.state.floatbank3_b_level  -202.277366  \n",
       "secondary_cleaner.state.floatbank4_a_air      30.051797  \n",
       "secondary_cleaner.state.floatbank4_a_level  -401.565212  \n",
       "secondary_cleaner.state.floatbank4_b_air      31.269706  \n",
       "secondary_cleaner.state.floatbank4_b_level    -6.506986  \n",
       "secondary_cleaner.state.floatbank5_a_air      25.258848  \n",
       "secondary_cleaner.state.floatbank5_a_level  -244.483566  \n",
       "secondary_cleaner.state.floatbank5_b_air      14.086866  \n",
       "secondary_cleaner.state.floatbank5_b_level  -137.740004  \n",
       "secondary_cleaner.state.floatbank6_a_air      26.705889  \n",
       "secondary_cleaner.state.floatbank6_a_level  -123.307487  "
      ]
     },
     "execution_count": 8,
     "metadata": {},
     "output_type": "execute_result"
    }
   ],
   "source": [
    "recovery_test.describe().T"
   ]
  },
  {
   "cell_type": "code",
   "execution_count": 9,
   "metadata": {},
   "outputs": [
    {
     "data": {
      "text/html": [
       "<div>\n",
       "<style scoped>\n",
       "    .dataframe tbody tr th:only-of-type {\n",
       "        vertical-align: middle;\n",
       "    }\n",
       "\n",
       "    .dataframe tbody tr th {\n",
       "        vertical-align: top;\n",
       "    }\n",
       "\n",
       "    .dataframe thead th {\n",
       "        text-align: right;\n",
       "    }\n",
       "</style>\n",
       "<table border=\"1\" class=\"dataframe\">\n",
       "  <thead>\n",
       "    <tr style=\"text-align: right;\">\n",
       "      <th></th>\n",
       "      <th>count</th>\n",
       "      <th>mean</th>\n",
       "      <th>std</th>\n",
       "      <th>min</th>\n",
       "      <th>25%</th>\n",
       "      <th>50%</th>\n",
       "      <th>75%</th>\n",
       "      <th>max</th>\n",
       "    </tr>\n",
       "  </thead>\n",
       "  <tbody>\n",
       "    <tr>\n",
       "      <th>final.output.concentrate_ag</th>\n",
       "      <td>19438.0</td>\n",
       "      <td>5.168470</td>\n",
       "      <td>1.372348</td>\n",
       "      <td>0.000000e+00</td>\n",
       "      <td>4.251240</td>\n",
       "      <td>5.066094</td>\n",
       "      <td>5.895527</td>\n",
       "      <td>1.600195e+01</td>\n",
       "    </tr>\n",
       "    <tr>\n",
       "      <th>final.output.concentrate_pb</th>\n",
       "      <td>19438.0</td>\n",
       "      <td>9.978895</td>\n",
       "      <td>1.669240</td>\n",
       "      <td>0.000000e+00</td>\n",
       "      <td>9.137262</td>\n",
       "      <td>10.102433</td>\n",
       "      <td>11.035769</td>\n",
       "      <td>1.703190e+01</td>\n",
       "    </tr>\n",
       "    <tr>\n",
       "      <th>final.output.concentrate_sol</th>\n",
       "      <td>19228.0</td>\n",
       "      <td>9.501224</td>\n",
       "      <td>2.787537</td>\n",
       "      <td>0.000000e+00</td>\n",
       "      <td>7.722820</td>\n",
       "      <td>9.218961</td>\n",
       "      <td>10.947813</td>\n",
       "      <td>1.961572e+01</td>\n",
       "    </tr>\n",
       "    <tr>\n",
       "      <th>final.output.concentrate_au</th>\n",
       "      <td>19439.0</td>\n",
       "      <td>44.076513</td>\n",
       "      <td>5.129784</td>\n",
       "      <td>0.000000e+00</td>\n",
       "      <td>43.402215</td>\n",
       "      <td>45.011244</td>\n",
       "      <td>46.275313</td>\n",
       "      <td>5.275664e+01</td>\n",
       "    </tr>\n",
       "    <tr>\n",
       "      <th>final.output.recovery</th>\n",
       "      <td>19439.0</td>\n",
       "      <td>67.050208</td>\n",
       "      <td>10.125840</td>\n",
       "      <td>0.000000e+00</td>\n",
       "      <td>63.299712</td>\n",
       "      <td>68.172738</td>\n",
       "      <td>72.686642</td>\n",
       "      <td>1.000000e+02</td>\n",
       "    </tr>\n",
       "    <tr>\n",
       "      <th>final.output.tail_ag</th>\n",
       "      <td>19438.0</td>\n",
       "      <td>9.688589</td>\n",
       "      <td>2.328642</td>\n",
       "      <td>0.000000e+00</td>\n",
       "      <td>8.062878</td>\n",
       "      <td>9.743623</td>\n",
       "      <td>11.134294</td>\n",
       "      <td>1.955215e+01</td>\n",
       "    </tr>\n",
       "    <tr>\n",
       "      <th>final.output.tail_pb</th>\n",
       "      <td>19338.0</td>\n",
       "      <td>2.705795</td>\n",
       "      <td>0.949077</td>\n",
       "      <td>0.000000e+00</td>\n",
       "      <td>2.040119</td>\n",
       "      <td>2.748730</td>\n",
       "      <td>3.333216</td>\n",
       "      <td>5.804178e+00</td>\n",
       "    </tr>\n",
       "    <tr>\n",
       "      <th>final.output.tail_sol</th>\n",
       "      <td>19433.0</td>\n",
       "      <td>10.583728</td>\n",
       "      <td>2.868782</td>\n",
       "      <td>0.000000e+00</td>\n",
       "      <td>8.938947</td>\n",
       "      <td>10.622456</td>\n",
       "      <td>12.104271</td>\n",
       "      <td>2.231773e+01</td>\n",
       "    </tr>\n",
       "    <tr>\n",
       "      <th>final.output.tail_au</th>\n",
       "      <td>19439.0</td>\n",
       "      <td>3.042467</td>\n",
       "      <td>0.922808</td>\n",
       "      <td>0.000000e+00</td>\n",
       "      <td>2.461138</td>\n",
       "      <td>2.984909</td>\n",
       "      <td>3.571351</td>\n",
       "      <td>8.245022e+00</td>\n",
       "    </tr>\n",
       "    <tr>\n",
       "      <th>primary_cleaner.input.sulfate</th>\n",
       "      <td>19415.0</td>\n",
       "      <td>144.624774</td>\n",
       "      <td>44.464071</td>\n",
       "      <td>3.111820e-03</td>\n",
       "      <td>114.107029</td>\n",
       "      <td>143.232103</td>\n",
       "      <td>175.075656</td>\n",
       "      <td>2.659831e+02</td>\n",
       "    </tr>\n",
       "    <tr>\n",
       "      <th>primary_cleaner.input.depressant</th>\n",
       "      <td>19402.0</td>\n",
       "      <td>8.817039</td>\n",
       "      <td>3.286186</td>\n",
       "      <td>0.000000e+00</td>\n",
       "      <td>6.076909</td>\n",
       "      <td>8.038311</td>\n",
       "      <td>11.013521</td>\n",
       "      <td>4.000000e+01</td>\n",
       "    </tr>\n",
       "    <tr>\n",
       "      <th>primary_cleaner.input.feed_size</th>\n",
       "      <td>19439.0</td>\n",
       "      <td>7.307078</td>\n",
       "      <td>0.613509</td>\n",
       "      <td>1.080000e+00</td>\n",
       "      <td>6.940000</td>\n",
       "      <td>7.280000</td>\n",
       "      <td>7.670000</td>\n",
       "      <td>1.550000e+01</td>\n",
       "    </tr>\n",
       "    <tr>\n",
       "      <th>primary_cleaner.input.xanthate</th>\n",
       "      <td>19335.0</td>\n",
       "      <td>1.021795</td>\n",
       "      <td>0.513254</td>\n",
       "      <td>4.632753e-06</td>\n",
       "      <td>0.697224</td>\n",
       "      <td>0.940863</td>\n",
       "      <td>1.210990</td>\n",
       "      <td>4.102454e+00</td>\n",
       "    </tr>\n",
       "    <tr>\n",
       "      <th>primary_cleaner.output.concentrate_ag</th>\n",
       "      <td>19439.0</td>\n",
       "      <td>8.442408</td>\n",
       "      <td>2.054465</td>\n",
       "      <td>0.000000e+00</td>\n",
       "      <td>7.263288</td>\n",
       "      <td>8.507298</td>\n",
       "      <td>9.809001</td>\n",
       "      <td>1.608163e+01</td>\n",
       "    </tr>\n",
       "    <tr>\n",
       "      <th>primary_cleaner.output.concentrate_pb</th>\n",
       "      <td>19323.0</td>\n",
       "      <td>9.829530</td>\n",
       "      <td>2.556843</td>\n",
       "      <td>0.000000e+00</td>\n",
       "      <td>8.702328</td>\n",
       "      <td>10.152433</td>\n",
       "      <td>11.424971</td>\n",
       "      <td>1.708128e+01</td>\n",
       "    </tr>\n",
       "    <tr>\n",
       "      <th>primary_cleaner.output.concentrate_sol</th>\n",
       "      <td>19069.0</td>\n",
       "      <td>10.489499</td>\n",
       "      <td>3.909639</td>\n",
       "      <td>0.000000e+00</td>\n",
       "      <td>7.893893</td>\n",
       "      <td>10.314632</td>\n",
       "      <td>13.446702</td>\n",
       "      <td>2.245811e+01</td>\n",
       "    </tr>\n",
       "    <tr>\n",
       "      <th>primary_cleaner.output.concentrate_au</th>\n",
       "      <td>19439.0</td>\n",
       "      <td>32.119400</td>\n",
       "      <td>5.627611</td>\n",
       "      <td>0.000000e+00</td>\n",
       "      <td>30.463140</td>\n",
       "      <td>32.841295</td>\n",
       "      <td>35.048006</td>\n",
       "      <td>4.593393e+01</td>\n",
       "    </tr>\n",
       "    <tr>\n",
       "      <th>primary_cleaner.output.tail_ag</th>\n",
       "      <td>19435.0</td>\n",
       "      <td>16.145826</td>\n",
       "      <td>3.548598</td>\n",
       "      <td>0.000000e+00</td>\n",
       "      <td>14.017742</td>\n",
       "      <td>15.842836</td>\n",
       "      <td>18.013975</td>\n",
       "      <td>2.945957e+01</td>\n",
       "    </tr>\n",
       "    <tr>\n",
       "      <th>primary_cleaner.output.tail_pb</th>\n",
       "      <td>19418.0</td>\n",
       "      <td>3.435656</td>\n",
       "      <td>1.392536</td>\n",
       "      <td>0.000000e+00</td>\n",
       "      <td>2.504365</td>\n",
       "      <td>3.271153</td>\n",
       "      <td>4.181748</td>\n",
       "      <td>9.634565e+00</td>\n",
       "    </tr>\n",
       "    <tr>\n",
       "      <th>primary_cleaner.output.tail_sol</th>\n",
       "      <td>19377.0</td>\n",
       "      <td>7.973209</td>\n",
       "      <td>2.212677</td>\n",
       "      <td>0.000000e+00</td>\n",
       "      <td>6.747483</td>\n",
       "      <td>8.183673</td>\n",
       "      <td>9.548586</td>\n",
       "      <td>2.227636e+01</td>\n",
       "    </tr>\n",
       "    <tr>\n",
       "      <th>primary_cleaner.output.tail_au</th>\n",
       "      <td>19439.0</td>\n",
       "      <td>3.914179</td>\n",
       "      <td>1.593034</td>\n",
       "      <td>0.000000e+00</td>\n",
       "      <td>2.924844</td>\n",
       "      <td>3.623234</td>\n",
       "      <td>4.585705</td>\n",
       "      <td>1.778892e+01</td>\n",
       "    </tr>\n",
       "    <tr>\n",
       "      <th>primary_cleaner.state.floatbank8_a_air</th>\n",
       "      <td>19435.0</td>\n",
       "      <td>1589.353532</td>\n",
       "      <td>128.996838</td>\n",
       "      <td>5.445860e-32</td>\n",
       "      <td>1505.063192</td>\n",
       "      <td>1600.596566</td>\n",
       "      <td>1697.657718</td>\n",
       "      <td>2.103104e+03</td>\n",
       "    </tr>\n",
       "    <tr>\n",
       "      <th>primary_cleaner.state.floatbank8_a_level</th>\n",
       "      <td>19438.0</td>\n",
       "      <td>-491.195012</td>\n",
       "      <td>32.431842</td>\n",
       "      <td>-7.986417e+02</td>\n",
       "      <td>-500.308544</td>\n",
       "      <td>-499.926134</td>\n",
       "      <td>-499.433950</td>\n",
       "      <td>-5.719540e+01</td>\n",
       "    </tr>\n",
       "    <tr>\n",
       "      <th>primary_cleaner.state.floatbank8_b_air</th>\n",
       "      <td>19435.0</td>\n",
       "      <td>1591.344175</td>\n",
       "      <td>131.810879</td>\n",
       "      <td>6.647490e-32</td>\n",
       "      <td>1503.629878</td>\n",
       "      <td>1600.520975</td>\n",
       "      <td>1699.217656</td>\n",
       "      <td>2.114907e+03</td>\n",
       "    </tr>\n",
       "    <tr>\n",
       "      <th>primary_cleaner.state.floatbank8_b_level</th>\n",
       "      <td>19438.0</td>\n",
       "      <td>-492.192978</td>\n",
       "      <td>33.794822</td>\n",
       "      <td>-7.999970e+02</td>\n",
       "      <td>-500.437171</td>\n",
       "      <td>-499.956767</td>\n",
       "      <td>-499.373336</td>\n",
       "      <td>-1.425272e+02</td>\n",
       "    </tr>\n",
       "    <tr>\n",
       "      <th>primary_cleaner.state.floatbank8_c_air</th>\n",
       "      <td>19437.0</td>\n",
       "      <td>1586.669124</td>\n",
       "      <td>136.111402</td>\n",
       "      <td>4.033736e-32</td>\n",
       "      <td>1500.926924</td>\n",
       "      <td>1600.253890</td>\n",
       "      <td>1699.482929</td>\n",
       "      <td>2.013156e+03</td>\n",
       "    </tr>\n",
       "    <tr>\n",
       "      <th>primary_cleaner.state.floatbank8_c_level</th>\n",
       "      <td>19438.0</td>\n",
       "      <td>-491.980070</td>\n",
       "      <td>32.711455</td>\n",
       "      <td>-7.999606e+02</td>\n",
       "      <td>-500.703932</td>\n",
       "      <td>-499.909524</td>\n",
       "      <td>-498.857643</td>\n",
       "      <td>-1.509370e+02</td>\n",
       "    </tr>\n",
       "    <tr>\n",
       "      <th>primary_cleaner.state.floatbank8_d_air</th>\n",
       "      <td>19436.0</td>\n",
       "      <td>1542.912418</td>\n",
       "      <td>246.199602</td>\n",
       "      <td>4.039220e-32</td>\n",
       "      <td>1494.219469</td>\n",
       "      <td>1599.447470</td>\n",
       "      <td>1698.524904</td>\n",
       "      <td>2.398904e+03</td>\n",
       "    </tr>\n",
       "    <tr>\n",
       "      <th>primary_cleaner.state.floatbank8_d_level</th>\n",
       "      <td>19438.0</td>\n",
       "      <td>-488.017382</td>\n",
       "      <td>43.959780</td>\n",
       "      <td>-7.997943e+02</td>\n",
       "      <td>-500.458365</td>\n",
       "      <td>-499.905974</td>\n",
       "      <td>-499.064695</td>\n",
       "      <td>-3.060183e+01</td>\n",
       "    </tr>\n",
       "    <tr>\n",
       "      <th>rougher.calculation.sulfate_to_au_concentrate</th>\n",
       "      <td>19437.0</td>\n",
       "      <td>42171.189025</td>\n",
       "      <td>324362.111569</td>\n",
       "      <td>-4.223520e+07</td>\n",
       "      <td>40700.946040</td>\n",
       "      <td>44696.480712</td>\n",
       "      <td>48168.210371</td>\n",
       "      <td>3.428099e+06</td>\n",
       "    </tr>\n",
       "    <tr>\n",
       "      <th>rougher.calculation.floatbank10_sulfate_to_au_feed</th>\n",
       "      <td>19437.0</td>\n",
       "      <td>3393.052498</td>\n",
       "      <td>4943.845943</td>\n",
       "      <td>-4.865987e+02</td>\n",
       "      <td>2611.425833</td>\n",
       "      <td>3018.353876</td>\n",
       "      <td>3676.769750</td>\n",
       "      <td>6.296390e+05</td>\n",
       "    </tr>\n",
       "    <tr>\n",
       "      <th>rougher.calculation.floatbank11_sulfate_to_au_feed</th>\n",
       "      <td>19437.0</td>\n",
       "      <td>3256.854171</td>\n",
       "      <td>5781.423659</td>\n",
       "      <td>-2.649828e+02</td>\n",
       "      <td>2551.437587</td>\n",
       "      <td>2997.218088</td>\n",
       "      <td>3601.998911</td>\n",
       "      <td>7.186850e+05</td>\n",
       "    </tr>\n",
       "    <tr>\n",
       "      <th>rougher.calculation.au_pb_ratio</th>\n",
       "      <td>19439.0</td>\n",
       "      <td>2.420119</td>\n",
       "      <td>0.814935</td>\n",
       "      <td>-1.054761e-02</td>\n",
       "      <td>2.035434</td>\n",
       "      <td>2.309665</td>\n",
       "      <td>2.731794</td>\n",
       "      <td>3.937927e+01</td>\n",
       "    </tr>\n",
       "    <tr>\n",
       "      <th>rougher.input.feed_ag</th>\n",
       "      <td>19439.0</td>\n",
       "      <td>8.794927</td>\n",
       "      <td>1.936847</td>\n",
       "      <td>1.000000e-02</td>\n",
       "      <td>7.237967</td>\n",
       "      <td>8.593574</td>\n",
       "      <td>10.213771</td>\n",
       "      <td>1.459603e+01</td>\n",
       "    </tr>\n",
       "    <tr>\n",
       "      <th>rougher.input.feed_pb</th>\n",
       "      <td>19339.0</td>\n",
       "      <td>3.598085</td>\n",
       "      <td>1.049486</td>\n",
       "      <td>1.000000e-02</td>\n",
       "      <td>2.887280</td>\n",
       "      <td>3.534895</td>\n",
       "      <td>4.244161</td>\n",
       "      <td>7.142594e+00</td>\n",
       "    </tr>\n",
       "    <tr>\n",
       "      <th>rougher.input.feed_rate</th>\n",
       "      <td>19428.0</td>\n",
       "      <td>478.320042</td>\n",
       "      <td>105.373758</td>\n",
       "      <td>2.985849e-03</td>\n",
       "      <td>416.525453</td>\n",
       "      <td>499.416120</td>\n",
       "      <td>550.172183</td>\n",
       "      <td>7.175088e+02</td>\n",
       "    </tr>\n",
       "    <tr>\n",
       "      <th>rougher.input.feed_size</th>\n",
       "      <td>19294.0</td>\n",
       "      <td>58.970310</td>\n",
       "      <td>21.634478</td>\n",
       "      <td>4.636880e-02</td>\n",
       "      <td>47.435103</td>\n",
       "      <td>54.610197</td>\n",
       "      <td>65.023044</td>\n",
       "      <td>4.849675e+02</td>\n",
       "    </tr>\n",
       "    <tr>\n",
       "      <th>rougher.input.feed_sol</th>\n",
       "      <td>19340.0</td>\n",
       "      <td>36.695114</td>\n",
       "      <td>5.145445</td>\n",
       "      <td>1.000000e-02</td>\n",
       "      <td>34.207799</td>\n",
       "      <td>37.202650</td>\n",
       "      <td>40.039133</td>\n",
       "      <td>5.347774e+01</td>\n",
       "    </tr>\n",
       "    <tr>\n",
       "      <th>rougher.input.feed_au</th>\n",
       "      <td>19439.0</td>\n",
       "      <td>8.266097</td>\n",
       "      <td>1.955092</td>\n",
       "      <td>1.000000e-02</td>\n",
       "      <td>6.854384</td>\n",
       "      <td>8.125839</td>\n",
       "      <td>9.769917</td>\n",
       "      <td>1.373133e+01</td>\n",
       "    </tr>\n",
       "    <tr>\n",
       "      <th>rougher.input.floatbank10_sulfate</th>\n",
       "      <td>19405.0</td>\n",
       "      <td>12.334373</td>\n",
       "      <td>3.427317</td>\n",
       "      <td>1.083112e-03</td>\n",
       "      <td>10.000362</td>\n",
       "      <td>12.001174</td>\n",
       "      <td>14.716595</td>\n",
       "      <td>3.611827e+01</td>\n",
       "    </tr>\n",
       "    <tr>\n",
       "      <th>rougher.input.floatbank10_xanthate</th>\n",
       "      <td>19431.0</td>\n",
       "      <td>6.021474</td>\n",
       "      <td>1.127263</td>\n",
       "      <td>5.682328e-04</td>\n",
       "      <td>5.398678</td>\n",
       "      <td>6.008273</td>\n",
       "      <td>6.798051</td>\n",
       "      <td>9.703448e+00</td>\n",
       "    </tr>\n",
       "    <tr>\n",
       "      <th>rougher.input.floatbank11_sulfate</th>\n",
       "      <td>19395.0</td>\n",
       "      <td>12.064140</td>\n",
       "      <td>3.784221</td>\n",
       "      <td>7.673764e-05</td>\n",
       "      <td>9.998460</td>\n",
       "      <td>12.000204</td>\n",
       "      <td>14.636766</td>\n",
       "      <td>3.798065e+01</td>\n",
       "    </tr>\n",
       "    <tr>\n",
       "      <th>rougher.input.floatbank11_xanthate</th>\n",
       "      <td>18986.0</td>\n",
       "      <td>6.065533</td>\n",
       "      <td>1.099118</td>\n",
       "      <td>2.904126e-04</td>\n",
       "      <td>5.402368</td>\n",
       "      <td>6.098580</td>\n",
       "      <td>6.801233</td>\n",
       "      <td>9.698407e+00</td>\n",
       "    </tr>\n",
       "    <tr>\n",
       "      <th>rougher.output.concentrate_ag</th>\n",
       "      <td>19439.0</td>\n",
       "      <td>11.994759</td>\n",
       "      <td>2.733862</td>\n",
       "      <td>0.000000e+00</td>\n",
       "      <td>10.628337</td>\n",
       "      <td>12.098115</td>\n",
       "      <td>13.736996</td>\n",
       "      <td>2.448027e+01</td>\n",
       "    </tr>\n",
       "    <tr>\n",
       "      <th>rougher.output.concentrate_pb</th>\n",
       "      <td>19439.0</td>\n",
       "      <td>7.606272</td>\n",
       "      <td>1.796757</td>\n",
       "      <td>0.000000e+00</td>\n",
       "      <td>6.725987</td>\n",
       "      <td>7.742580</td>\n",
       "      <td>8.565199</td>\n",
       "      <td>1.361707e+01</td>\n",
       "    </tr>\n",
       "    <tr>\n",
       "      <th>rougher.output.concentrate_sol</th>\n",
       "      <td>19416.0</td>\n",
       "      <td>28.805571</td>\n",
       "      <td>5.944207</td>\n",
       "      <td>0.000000e+00</td>\n",
       "      <td>27.224120</td>\n",
       "      <td>29.835345</td>\n",
       "      <td>32.189933</td>\n",
       "      <td>3.835119e+01</td>\n",
       "    </tr>\n",
       "    <tr>\n",
       "      <th>rougher.output.concentrate_au</th>\n",
       "      <td>19439.0</td>\n",
       "      <td>19.772000</td>\n",
       "      <td>3.753600</td>\n",
       "      <td>0.000000e+00</td>\n",
       "      <td>18.802523</td>\n",
       "      <td>20.280214</td>\n",
       "      <td>21.717843</td>\n",
       "      <td>2.882451e+01</td>\n",
       "    </tr>\n",
       "    <tr>\n",
       "      <th>rougher.output.recovery</th>\n",
       "      <td>19439.0</td>\n",
       "      <td>83.328587</td>\n",
       "      <td>14.148086</td>\n",
       "      <td>0.000000e+00</td>\n",
       "      <td>81.037957</td>\n",
       "      <td>86.188892</td>\n",
       "      <td>90.010670</td>\n",
       "      <td>1.000000e+02</td>\n",
       "    </tr>\n",
       "    <tr>\n",
       "      <th>rougher.output.tail_ag</th>\n",
       "      <td>19438.0</td>\n",
       "      <td>5.588982</td>\n",
       "      <td>1.111288</td>\n",
       "      <td>5.945623e-01</td>\n",
       "      <td>4.889892</td>\n",
       "      <td>5.765802</td>\n",
       "      <td>6.389234</td>\n",
       "      <td>1.271918e+01</td>\n",
       "    </tr>\n",
       "    <tr>\n",
       "      <th>rougher.output.tail_pb</th>\n",
       "      <td>19439.0</td>\n",
       "      <td>0.645782</td>\n",
       "      <td>0.251526</td>\n",
       "      <td>7.566066e-03</td>\n",
       "      <td>0.477728</td>\n",
       "      <td>0.617465</td>\n",
       "      <td>0.778271</td>\n",
       "      <td>3.778064e+00</td>\n",
       "    </tr>\n",
       "    <tr>\n",
       "      <th>rougher.output.tail_sol</th>\n",
       "      <td>19439.0</td>\n",
       "      <td>18.057106</td>\n",
       "      <td>3.449218</td>\n",
       "      <td>1.001465e+01</td>\n",
       "      <td>15.822525</td>\n",
       "      <td>18.106867</td>\n",
       "      <td>20.088151</td>\n",
       "      <td>6.611719e+01</td>\n",
       "    </tr>\n",
       "    <tr>\n",
       "      <th>rougher.output.tail_au</th>\n",
       "      <td>19439.0</td>\n",
       "      <td>1.816391</td>\n",
       "      <td>0.680046</td>\n",
       "      <td>2.067578e-02</td>\n",
       "      <td>1.404207</td>\n",
       "      <td>1.808170</td>\n",
       "      <td>2.211861</td>\n",
       "      <td>9.688980e+00</td>\n",
       "    </tr>\n",
       "    <tr>\n",
       "      <th>rougher.state.floatbank10_a_air</th>\n",
       "      <td>19438.0</td>\n",
       "      <td>1105.315068</td>\n",
       "      <td>160.826798</td>\n",
       "      <td>-4.206929e-02</td>\n",
       "      <td>999.661867</td>\n",
       "      <td>1001.072890</td>\n",
       "      <td>1205.620588</td>\n",
       "      <td>1.521980e+03</td>\n",
       "    </tr>\n",
       "    <tr>\n",
       "      <th>rougher.state.floatbank10_a_level</th>\n",
       "      <td>19438.0</td>\n",
       "      <td>-376.610690</td>\n",
       "      <td>93.909667</td>\n",
       "      <td>-6.579498e+02</td>\n",
       "      <td>-499.835165</td>\n",
       "      <td>-300.263994</td>\n",
       "      <td>-299.981998</td>\n",
       "      <td>-2.737761e+02</td>\n",
       "    </tr>\n",
       "    <tr>\n",
       "      <th>rougher.state.floatbank10_b_air</th>\n",
       "      <td>19438.0</td>\n",
       "      <td>1320.221139</td>\n",
       "      <td>176.287095</td>\n",
       "      <td>-7.218064e-01</td>\n",
       "      <td>1199.626115</td>\n",
       "      <td>1301.579988</td>\n",
       "      <td>1448.630789</td>\n",
       "      <td>1.809194e+03</td>\n",
       "    </tr>\n",
       "    <tr>\n",
       "      <th>rougher.state.floatbank10_b_level</th>\n",
       "      <td>19438.0</td>\n",
       "      <td>-467.247826</td>\n",
       "      <td>54.673142</td>\n",
       "      <td>-6.502600e+02</td>\n",
       "      <td>-500.201130</td>\n",
       "      <td>-499.784045</td>\n",
       "      <td>-400.615589</td>\n",
       "      <td>-2.963831e+02</td>\n",
       "    </tr>\n",
       "    <tr>\n",
       "      <th>rougher.state.floatbank10_c_air</th>\n",
       "      <td>19438.0</td>\n",
       "      <td>1299.968799</td>\n",
       "      <td>202.804325</td>\n",
       "      <td>-5.663551e-02</td>\n",
       "      <td>1151.076301</td>\n",
       "      <td>1300.211537</td>\n",
       "      <td>1449.464001</td>\n",
       "      <td>2.499129e+03</td>\n",
       "    </tr>\n",
       "    <tr>\n",
       "      <th>rougher.state.floatbank10_c_level</th>\n",
       "      <td>19438.0</td>\n",
       "      <td>-467.716946</td>\n",
       "      <td>53.534825</td>\n",
       "      <td>-6.475444e+02</td>\n",
       "      <td>-500.217218</td>\n",
       "      <td>-499.713364</td>\n",
       "      <td>-400.985743</td>\n",
       "      <td>-2.921555e+02</td>\n",
       "    </tr>\n",
       "    <tr>\n",
       "      <th>rougher.state.floatbank10_d_air</th>\n",
       "      <td>19439.0</td>\n",
       "      <td>1211.563299</td>\n",
       "      <td>204.019326</td>\n",
       "      <td>-9.922190e-01</td>\n",
       "      <td>1061.051788</td>\n",
       "      <td>1201.569141</td>\n",
       "      <td>1352.880320</td>\n",
       "      <td>1.817199e+03</td>\n",
       "    </tr>\n",
       "    <tr>\n",
       "      <th>rougher.state.floatbank10_d_level</th>\n",
       "      <td>19439.0</td>\n",
       "      <td>-468.239912</td>\n",
       "      <td>53.921458</td>\n",
       "      <td>-6.483907e+02</td>\n",
       "      <td>-500.386386</td>\n",
       "      <td>-499.532412</td>\n",
       "      <td>-401.638550</td>\n",
       "      <td>-7.639733e+01</td>\n",
       "    </tr>\n",
       "    <tr>\n",
       "      <th>rougher.state.floatbank10_e_air</th>\n",
       "      <td>19003.0</td>\n",
       "      <td>1080.869685</td>\n",
       "      <td>172.149992</td>\n",
       "      <td>-1.982295e+00</td>\n",
       "      <td>998.675263</td>\n",
       "      <td>1050.029461</td>\n",
       "      <td>1199.425140</td>\n",
       "      <td>1.922637e+03</td>\n",
       "    </tr>\n",
       "    <tr>\n",
       "      <th>rougher.state.floatbank10_e_level</th>\n",
       "      <td>19439.0</td>\n",
       "      <td>-466.037742</td>\n",
       "      <td>57.384424</td>\n",
       "      <td>-6.494439e+02</td>\n",
       "      <td>-500.232191</td>\n",
       "      <td>-499.663089</td>\n",
       "      <td>-401.161191</td>\n",
       "      <td>-1.397530e+02</td>\n",
       "    </tr>\n",
       "    <tr>\n",
       "      <th>rougher.state.floatbank10_f_air</th>\n",
       "      <td>19439.0</td>\n",
       "      <td>1025.274256</td>\n",
       "      <td>164.487837</td>\n",
       "      <td>-2.593390e+00</td>\n",
       "      <td>900.995511</td>\n",
       "      <td>999.924821</td>\n",
       "      <td>1099.719692</td>\n",
       "      <td>1.706308e+03</td>\n",
       "    </tr>\n",
       "    <tr>\n",
       "      <th>rougher.state.floatbank10_f_level</th>\n",
       "      <td>19439.0</td>\n",
       "      <td>-466.265327</td>\n",
       "      <td>57.850263</td>\n",
       "      <td>-6.499493e+02</td>\n",
       "      <td>-500.522553</td>\n",
       "      <td>-499.471777</td>\n",
       "      <td>-401.511042</td>\n",
       "      <td>-1.917185e+02</td>\n",
       "    </tr>\n",
       "    <tr>\n",
       "      <th>secondary_cleaner.output.tail_ag</th>\n",
       "      <td>19437.0</td>\n",
       "      <td>14.586833</td>\n",
       "      <td>4.265202</td>\n",
       "      <td>0.000000e+00</td>\n",
       "      <td>12.640239</td>\n",
       "      <td>15.641902</td>\n",
       "      <td>17.358217</td>\n",
       "      <td>2.326474e+01</td>\n",
       "    </tr>\n",
       "    <tr>\n",
       "      <th>secondary_cleaner.output.tail_pb</th>\n",
       "      <td>19427.0</td>\n",
       "      <td>5.777703</td>\n",
       "      <td>2.774598</td>\n",
       "      <td>0.000000e+00</td>\n",
       "      <td>3.864733</td>\n",
       "      <td>5.344073</td>\n",
       "      <td>7.788467</td>\n",
       "      <td>1.704250e+01</td>\n",
       "    </tr>\n",
       "    <tr>\n",
       "      <th>secondary_cleaner.output.tail_sol</th>\n",
       "      <td>17691.0</td>\n",
       "      <td>7.167247</td>\n",
       "      <td>3.916079</td>\n",
       "      <td>0.000000e+00</td>\n",
       "      <td>3.845475</td>\n",
       "      <td>7.685827</td>\n",
       "      <td>10.411296</td>\n",
       "      <td>2.600077e+01</td>\n",
       "    </tr>\n",
       "    <tr>\n",
       "      <th>secondary_cleaner.output.tail_au</th>\n",
       "      <td>19439.0</td>\n",
       "      <td>4.339625</td>\n",
       "      <td>2.326751</td>\n",
       "      <td>0.000000e+00</td>\n",
       "      <td>3.182770</td>\n",
       "      <td>4.072412</td>\n",
       "      <td>5.063081</td>\n",
       "      <td>2.681164e+01</td>\n",
       "    </tr>\n",
       "    <tr>\n",
       "      <th>secondary_cleaner.state.floatbank2_a_air</th>\n",
       "      <td>19219.0</td>\n",
       "      <td>28.705564</td>\n",
       "      <td>5.458789</td>\n",
       "      <td>7.750256e-02</td>\n",
       "      <td>25.048462</td>\n",
       "      <td>29.099943</td>\n",
       "      <td>33.012536</td>\n",
       "      <td>5.265140e+01</td>\n",
       "    </tr>\n",
       "    <tr>\n",
       "      <th>secondary_cleaner.state.floatbank2_a_level</th>\n",
       "      <td>19438.0</td>\n",
       "      <td>-502.367331</td>\n",
       "      <td>53.571950</td>\n",
       "      <td>-7.996064e+02</td>\n",
       "      <td>-500.233700</td>\n",
       "      <td>-499.973250</td>\n",
       "      <td>-499.671261</td>\n",
       "      <td>-1.278756e+02</td>\n",
       "    </tr>\n",
       "    <tr>\n",
       "      <th>secondary_cleaner.state.floatbank2_b_air</th>\n",
       "      <td>19416.0</td>\n",
       "      <td>24.106800</td>\n",
       "      <td>5.749616</td>\n",
       "      <td>0.000000e+00</td>\n",
       "      <td>20.919853</td>\n",
       "      <td>25.043289</td>\n",
       "      <td>28.008197</td>\n",
       "      <td>3.515212e+01</td>\n",
       "    </tr>\n",
       "    <tr>\n",
       "      <th>secondary_cleaner.state.floatbank2_b_level</th>\n",
       "      <td>19438.0</td>\n",
       "      <td>-503.230712</td>\n",
       "      <td>56.567724</td>\n",
       "      <td>-7.998739e+02</td>\n",
       "      <td>-500.253794</td>\n",
       "      <td>-500.015439</td>\n",
       "      <td>-499.785698</td>\n",
       "      <td>-2.119993e+02</td>\n",
       "    </tr>\n",
       "    <tr>\n",
       "      <th>secondary_cleaner.state.floatbank3_a_air</th>\n",
       "      <td>19426.0</td>\n",
       "      <td>28.199338</td>\n",
       "      <td>6.134908</td>\n",
       "      <td>0.000000e+00</td>\n",
       "      <td>24.949227</td>\n",
       "      <td>27.982129</td>\n",
       "      <td>33.002798</td>\n",
       "      <td>4.426046e+01</td>\n",
       "    </tr>\n",
       "    <tr>\n",
       "      <th>secondary_cleaner.state.floatbank3_a_level</th>\n",
       "      <td>19438.0</td>\n",
       "      <td>-486.203350</td>\n",
       "      <td>54.412349</td>\n",
       "      <td>-7.997558e+02</td>\n",
       "      <td>-500.213546</td>\n",
       "      <td>-499.930680</td>\n",
       "      <td>-499.325739</td>\n",
       "      <td>-1.916788e+02</td>\n",
       "    </tr>\n",
       "    <tr>\n",
       "      <th>secondary_cleaner.state.floatbank3_b_air</th>\n",
       "      <td>19438.0</td>\n",
       "      <td>22.200645</td>\n",
       "      <td>5.574001</td>\n",
       "      <td>0.000000e+00</td>\n",
       "      <td>18.995924</td>\n",
       "      <td>22.011231</td>\n",
       "      <td>25.998206</td>\n",
       "      <td>3.507284e+01</td>\n",
       "    </tr>\n",
       "    <tr>\n",
       "      <th>secondary_cleaner.state.floatbank3_b_level</th>\n",
       "      <td>19438.0</td>\n",
       "      <td>-493.742107</td>\n",
       "      <td>43.372158</td>\n",
       "      <td>-8.093330e+02</td>\n",
       "      <td>-500.123034</td>\n",
       "      <td>-499.981902</td>\n",
       "      <td>-499.812834</td>\n",
       "      <td>-1.597423e+02</td>\n",
       "    </tr>\n",
       "    <tr>\n",
       "      <th>secondary_cleaner.state.floatbank4_a_air</th>\n",
       "      <td>19433.0</td>\n",
       "      <td>18.987674</td>\n",
       "      <td>5.411058</td>\n",
       "      <td>0.000000e+00</td>\n",
       "      <td>14.975734</td>\n",
       "      <td>18.017481</td>\n",
       "      <td>23.012470</td>\n",
       "      <td>3.011574e+01</td>\n",
       "    </tr>\n",
       "    <tr>\n",
       "      <th>secondary_cleaner.state.floatbank4_a_level</th>\n",
       "      <td>19438.0</td>\n",
       "      <td>-485.894516</td>\n",
       "      <td>47.758570</td>\n",
       "      <td>-7.997985e+02</td>\n",
       "      <td>-500.704892</td>\n",
       "      <td>-499.837793</td>\n",
       "      <td>-498.249730</td>\n",
       "      <td>-2.452392e+02</td>\n",
       "    </tr>\n",
       "    <tr>\n",
       "      <th>secondary_cleaner.state.floatbank4_b_air</th>\n",
       "      <td>19438.0</td>\n",
       "      <td>15.010366</td>\n",
       "      <td>4.890228</td>\n",
       "      <td>0.000000e+00</td>\n",
       "      <td>11.940294</td>\n",
       "      <td>14.971014</td>\n",
       "      <td>19.034162</td>\n",
       "      <td>3.126971e+01</td>\n",
       "    </tr>\n",
       "    <tr>\n",
       "      <th>secondary_cleaner.state.floatbank4_b_level</th>\n",
       "      <td>19438.0</td>\n",
       "      <td>-461.078636</td>\n",
       "      <td>67.405524</td>\n",
       "      <td>-8.008369e+02</td>\n",
       "      <td>-500.187742</td>\n",
       "      <td>-499.459786</td>\n",
       "      <td>-400.118106</td>\n",
       "      <td>-6.506986e+00</td>\n",
       "    </tr>\n",
       "    <tr>\n",
       "      <th>secondary_cleaner.state.floatbank5_a_air</th>\n",
       "      <td>19438.0</td>\n",
       "      <td>15.694452</td>\n",
       "      <td>5.510974</td>\n",
       "      <td>-3.720540e-01</td>\n",
       "      <td>10.988606</td>\n",
       "      <td>15.000036</td>\n",
       "      <td>18.026190</td>\n",
       "      <td>4.370993e+01</td>\n",
       "    </tr>\n",
       "    <tr>\n",
       "      <th>secondary_cleaner.state.floatbank5_a_level</th>\n",
       "      <td>19438.0</td>\n",
       "      <td>-488.684065</td>\n",
       "      <td>34.533396</td>\n",
       "      <td>-7.973240e+02</td>\n",
       "      <td>-500.458467</td>\n",
       "      <td>-499.802605</td>\n",
       "      <td>-498.384187</td>\n",
       "      <td>-2.444836e+02</td>\n",
       "    </tr>\n",
       "    <tr>\n",
       "      <th>secondary_cleaner.state.floatbank5_b_air</th>\n",
       "      <td>19438.0</td>\n",
       "      <td>12.198224</td>\n",
       "      <td>5.333024</td>\n",
       "      <td>5.280828e-01</td>\n",
       "      <td>8.971105</td>\n",
       "      <td>11.019433</td>\n",
       "      <td>14.019088</td>\n",
       "      <td>2.792600e+01</td>\n",
       "    </tr>\n",
       "    <tr>\n",
       "      <th>secondary_cleaner.state.floatbank5_b_level</th>\n",
       "      <td>19438.0</td>\n",
       "      <td>-487.149827</td>\n",
       "      <td>38.347312</td>\n",
       "      <td>-8.002203e+02</td>\n",
       "      <td>-500.129462</td>\n",
       "      <td>-499.935317</td>\n",
       "      <td>-499.436708</td>\n",
       "      <td>-1.377400e+02</td>\n",
       "    </tr>\n",
       "    <tr>\n",
       "      <th>secondary_cleaner.state.floatbank6_a_air</th>\n",
       "      <td>19437.0</td>\n",
       "      <td>18.959024</td>\n",
       "      <td>5.550498</td>\n",
       "      <td>-7.942623e-02</td>\n",
       "      <td>14.983037</td>\n",
       "      <td>19.960541</td>\n",
       "      <td>24.003170</td>\n",
       "      <td>3.218891e+01</td>\n",
       "    </tr>\n",
       "    <tr>\n",
       "      <th>secondary_cleaner.state.floatbank6_a_level</th>\n",
       "      <td>19438.0</td>\n",
       "      <td>-505.436305</td>\n",
       "      <td>37.689057</td>\n",
       "      <td>-8.097415e+02</td>\n",
       "      <td>-500.728067</td>\n",
       "      <td>-500.048400</td>\n",
       "      <td>-499.495378</td>\n",
       "      <td>-1.044275e+02</td>\n",
       "    </tr>\n",
       "  </tbody>\n",
       "</table>\n",
       "</div>"
      ],
      "text/plain": [
       "                                                      count          mean  \\\n",
       "final.output.concentrate_ag                         19438.0      5.168470   \n",
       "final.output.concentrate_pb                         19438.0      9.978895   \n",
       "final.output.concentrate_sol                        19228.0      9.501224   \n",
       "final.output.concentrate_au                         19439.0     44.076513   \n",
       "final.output.recovery                               19439.0     67.050208   \n",
       "final.output.tail_ag                                19438.0      9.688589   \n",
       "final.output.tail_pb                                19338.0      2.705795   \n",
       "final.output.tail_sol                               19433.0     10.583728   \n",
       "final.output.tail_au                                19439.0      3.042467   \n",
       "primary_cleaner.input.sulfate                       19415.0    144.624774   \n",
       "primary_cleaner.input.depressant                    19402.0      8.817039   \n",
       "primary_cleaner.input.feed_size                     19439.0      7.307078   \n",
       "primary_cleaner.input.xanthate                      19335.0      1.021795   \n",
       "primary_cleaner.output.concentrate_ag               19439.0      8.442408   \n",
       "primary_cleaner.output.concentrate_pb               19323.0      9.829530   \n",
       "primary_cleaner.output.concentrate_sol              19069.0     10.489499   \n",
       "primary_cleaner.output.concentrate_au               19439.0     32.119400   \n",
       "primary_cleaner.output.tail_ag                      19435.0     16.145826   \n",
       "primary_cleaner.output.tail_pb                      19418.0      3.435656   \n",
       "primary_cleaner.output.tail_sol                     19377.0      7.973209   \n",
       "primary_cleaner.output.tail_au                      19439.0      3.914179   \n",
       "primary_cleaner.state.floatbank8_a_air              19435.0   1589.353532   \n",
       "primary_cleaner.state.floatbank8_a_level            19438.0   -491.195012   \n",
       "primary_cleaner.state.floatbank8_b_air              19435.0   1591.344175   \n",
       "primary_cleaner.state.floatbank8_b_level            19438.0   -492.192978   \n",
       "primary_cleaner.state.floatbank8_c_air              19437.0   1586.669124   \n",
       "primary_cleaner.state.floatbank8_c_level            19438.0   -491.980070   \n",
       "primary_cleaner.state.floatbank8_d_air              19436.0   1542.912418   \n",
       "primary_cleaner.state.floatbank8_d_level            19438.0   -488.017382   \n",
       "rougher.calculation.sulfate_to_au_concentrate       19437.0  42171.189025   \n",
       "rougher.calculation.floatbank10_sulfate_to_au_feed  19437.0   3393.052498   \n",
       "rougher.calculation.floatbank11_sulfate_to_au_feed  19437.0   3256.854171   \n",
       "rougher.calculation.au_pb_ratio                     19439.0      2.420119   \n",
       "rougher.input.feed_ag                               19439.0      8.794927   \n",
       "rougher.input.feed_pb                               19339.0      3.598085   \n",
       "rougher.input.feed_rate                             19428.0    478.320042   \n",
       "rougher.input.feed_size                             19294.0     58.970310   \n",
       "rougher.input.feed_sol                              19340.0     36.695114   \n",
       "rougher.input.feed_au                               19439.0      8.266097   \n",
       "rougher.input.floatbank10_sulfate                   19405.0     12.334373   \n",
       "rougher.input.floatbank10_xanthate                  19431.0      6.021474   \n",
       "rougher.input.floatbank11_sulfate                   19395.0     12.064140   \n",
       "rougher.input.floatbank11_xanthate                  18986.0      6.065533   \n",
       "rougher.output.concentrate_ag                       19439.0     11.994759   \n",
       "rougher.output.concentrate_pb                       19439.0      7.606272   \n",
       "rougher.output.concentrate_sol                      19416.0     28.805571   \n",
       "rougher.output.concentrate_au                       19439.0     19.772000   \n",
       "rougher.output.recovery                             19439.0     83.328587   \n",
       "rougher.output.tail_ag                              19438.0      5.588982   \n",
       "rougher.output.tail_pb                              19439.0      0.645782   \n",
       "rougher.output.tail_sol                             19439.0     18.057106   \n",
       "rougher.output.tail_au                              19439.0      1.816391   \n",
       "rougher.state.floatbank10_a_air                     19438.0   1105.315068   \n",
       "rougher.state.floatbank10_a_level                   19438.0   -376.610690   \n",
       "rougher.state.floatbank10_b_air                     19438.0   1320.221139   \n",
       "rougher.state.floatbank10_b_level                   19438.0   -467.247826   \n",
       "rougher.state.floatbank10_c_air                     19438.0   1299.968799   \n",
       "rougher.state.floatbank10_c_level                   19438.0   -467.716946   \n",
       "rougher.state.floatbank10_d_air                     19439.0   1211.563299   \n",
       "rougher.state.floatbank10_d_level                   19439.0   -468.239912   \n",
       "rougher.state.floatbank10_e_air                     19003.0   1080.869685   \n",
       "rougher.state.floatbank10_e_level                   19439.0   -466.037742   \n",
       "rougher.state.floatbank10_f_air                     19439.0   1025.274256   \n",
       "rougher.state.floatbank10_f_level                   19439.0   -466.265327   \n",
       "secondary_cleaner.output.tail_ag                    19437.0     14.586833   \n",
       "secondary_cleaner.output.tail_pb                    19427.0      5.777703   \n",
       "secondary_cleaner.output.tail_sol                   17691.0      7.167247   \n",
       "secondary_cleaner.output.tail_au                    19439.0      4.339625   \n",
       "secondary_cleaner.state.floatbank2_a_air            19219.0     28.705564   \n",
       "secondary_cleaner.state.floatbank2_a_level          19438.0   -502.367331   \n",
       "secondary_cleaner.state.floatbank2_b_air            19416.0     24.106800   \n",
       "secondary_cleaner.state.floatbank2_b_level          19438.0   -503.230712   \n",
       "secondary_cleaner.state.floatbank3_a_air            19426.0     28.199338   \n",
       "secondary_cleaner.state.floatbank3_a_level          19438.0   -486.203350   \n",
       "secondary_cleaner.state.floatbank3_b_air            19438.0     22.200645   \n",
       "secondary_cleaner.state.floatbank3_b_level          19438.0   -493.742107   \n",
       "secondary_cleaner.state.floatbank4_a_air            19433.0     18.987674   \n",
       "secondary_cleaner.state.floatbank4_a_level          19438.0   -485.894516   \n",
       "secondary_cleaner.state.floatbank4_b_air            19438.0     15.010366   \n",
       "secondary_cleaner.state.floatbank4_b_level          19438.0   -461.078636   \n",
       "secondary_cleaner.state.floatbank5_a_air            19438.0     15.694452   \n",
       "secondary_cleaner.state.floatbank5_a_level          19438.0   -488.684065   \n",
       "secondary_cleaner.state.floatbank5_b_air            19438.0     12.198224   \n",
       "secondary_cleaner.state.floatbank5_b_level          19438.0   -487.149827   \n",
       "secondary_cleaner.state.floatbank6_a_air            19437.0     18.959024   \n",
       "secondary_cleaner.state.floatbank6_a_level          19438.0   -505.436305   \n",
       "\n",
       "                                                              std  \\\n",
       "final.output.concentrate_ag                              1.372348   \n",
       "final.output.concentrate_pb                              1.669240   \n",
       "final.output.concentrate_sol                             2.787537   \n",
       "final.output.concentrate_au                              5.129784   \n",
       "final.output.recovery                                   10.125840   \n",
       "final.output.tail_ag                                     2.328642   \n",
       "final.output.tail_pb                                     0.949077   \n",
       "final.output.tail_sol                                    2.868782   \n",
       "final.output.tail_au                                     0.922808   \n",
       "primary_cleaner.input.sulfate                           44.464071   \n",
       "primary_cleaner.input.depressant                         3.286186   \n",
       "primary_cleaner.input.feed_size                          0.613509   \n",
       "primary_cleaner.input.xanthate                           0.513254   \n",
       "primary_cleaner.output.concentrate_ag                    2.054465   \n",
       "primary_cleaner.output.concentrate_pb                    2.556843   \n",
       "primary_cleaner.output.concentrate_sol                   3.909639   \n",
       "primary_cleaner.output.concentrate_au                    5.627611   \n",
       "primary_cleaner.output.tail_ag                           3.548598   \n",
       "primary_cleaner.output.tail_pb                           1.392536   \n",
       "primary_cleaner.output.tail_sol                          2.212677   \n",
       "primary_cleaner.output.tail_au                           1.593034   \n",
       "primary_cleaner.state.floatbank8_a_air                 128.996838   \n",
       "primary_cleaner.state.floatbank8_a_level                32.431842   \n",
       "primary_cleaner.state.floatbank8_b_air                 131.810879   \n",
       "primary_cleaner.state.floatbank8_b_level                33.794822   \n",
       "primary_cleaner.state.floatbank8_c_air                 136.111402   \n",
       "primary_cleaner.state.floatbank8_c_level                32.711455   \n",
       "primary_cleaner.state.floatbank8_d_air                 246.199602   \n",
       "primary_cleaner.state.floatbank8_d_level                43.959780   \n",
       "rougher.calculation.sulfate_to_au_concentrate       324362.111569   \n",
       "rougher.calculation.floatbank10_sulfate_to_au_feed    4943.845943   \n",
       "rougher.calculation.floatbank11_sulfate_to_au_feed    5781.423659   \n",
       "rougher.calculation.au_pb_ratio                          0.814935   \n",
       "rougher.input.feed_ag                                    1.936847   \n",
       "rougher.input.feed_pb                                    1.049486   \n",
       "rougher.input.feed_rate                                105.373758   \n",
       "rougher.input.feed_size                                 21.634478   \n",
       "rougher.input.feed_sol                                   5.145445   \n",
       "rougher.input.feed_au                                    1.955092   \n",
       "rougher.input.floatbank10_sulfate                        3.427317   \n",
       "rougher.input.floatbank10_xanthate                       1.127263   \n",
       "rougher.input.floatbank11_sulfate                        3.784221   \n",
       "rougher.input.floatbank11_xanthate                       1.099118   \n",
       "rougher.output.concentrate_ag                            2.733862   \n",
       "rougher.output.concentrate_pb                            1.796757   \n",
       "rougher.output.concentrate_sol                           5.944207   \n",
       "rougher.output.concentrate_au                            3.753600   \n",
       "rougher.output.recovery                                 14.148086   \n",
       "rougher.output.tail_ag                                   1.111288   \n",
       "rougher.output.tail_pb                                   0.251526   \n",
       "rougher.output.tail_sol                                  3.449218   \n",
       "rougher.output.tail_au                                   0.680046   \n",
       "rougher.state.floatbank10_a_air                        160.826798   \n",
       "rougher.state.floatbank10_a_level                       93.909667   \n",
       "rougher.state.floatbank10_b_air                        176.287095   \n",
       "rougher.state.floatbank10_b_level                       54.673142   \n",
       "rougher.state.floatbank10_c_air                        202.804325   \n",
       "rougher.state.floatbank10_c_level                       53.534825   \n",
       "rougher.state.floatbank10_d_air                        204.019326   \n",
       "rougher.state.floatbank10_d_level                       53.921458   \n",
       "rougher.state.floatbank10_e_air                        172.149992   \n",
       "rougher.state.floatbank10_e_level                       57.384424   \n",
       "rougher.state.floatbank10_f_air                        164.487837   \n",
       "rougher.state.floatbank10_f_level                       57.850263   \n",
       "secondary_cleaner.output.tail_ag                         4.265202   \n",
       "secondary_cleaner.output.tail_pb                         2.774598   \n",
       "secondary_cleaner.output.tail_sol                        3.916079   \n",
       "secondary_cleaner.output.tail_au                         2.326751   \n",
       "secondary_cleaner.state.floatbank2_a_air                 5.458789   \n",
       "secondary_cleaner.state.floatbank2_a_level              53.571950   \n",
       "secondary_cleaner.state.floatbank2_b_air                 5.749616   \n",
       "secondary_cleaner.state.floatbank2_b_level              56.567724   \n",
       "secondary_cleaner.state.floatbank3_a_air                 6.134908   \n",
       "secondary_cleaner.state.floatbank3_a_level              54.412349   \n",
       "secondary_cleaner.state.floatbank3_b_air                 5.574001   \n",
       "secondary_cleaner.state.floatbank3_b_level              43.372158   \n",
       "secondary_cleaner.state.floatbank4_a_air                 5.411058   \n",
       "secondary_cleaner.state.floatbank4_a_level              47.758570   \n",
       "secondary_cleaner.state.floatbank4_b_air                 4.890228   \n",
       "secondary_cleaner.state.floatbank4_b_level              67.405524   \n",
       "secondary_cleaner.state.floatbank5_a_air                 5.510974   \n",
       "secondary_cleaner.state.floatbank5_a_level              34.533396   \n",
       "secondary_cleaner.state.floatbank5_b_air                 5.333024   \n",
       "secondary_cleaner.state.floatbank5_b_level              38.347312   \n",
       "secondary_cleaner.state.floatbank6_a_air                 5.550498   \n",
       "secondary_cleaner.state.floatbank6_a_level              37.689057   \n",
       "\n",
       "                                                             min  \\\n",
       "final.output.concentrate_ag                         0.000000e+00   \n",
       "final.output.concentrate_pb                         0.000000e+00   \n",
       "final.output.concentrate_sol                        0.000000e+00   \n",
       "final.output.concentrate_au                         0.000000e+00   \n",
       "final.output.recovery                               0.000000e+00   \n",
       "final.output.tail_ag                                0.000000e+00   \n",
       "final.output.tail_pb                                0.000000e+00   \n",
       "final.output.tail_sol                               0.000000e+00   \n",
       "final.output.tail_au                                0.000000e+00   \n",
       "primary_cleaner.input.sulfate                       3.111820e-03   \n",
       "primary_cleaner.input.depressant                    0.000000e+00   \n",
       "primary_cleaner.input.feed_size                     1.080000e+00   \n",
       "primary_cleaner.input.xanthate                      4.632753e-06   \n",
       "primary_cleaner.output.concentrate_ag               0.000000e+00   \n",
       "primary_cleaner.output.concentrate_pb               0.000000e+00   \n",
       "primary_cleaner.output.concentrate_sol              0.000000e+00   \n",
       "primary_cleaner.output.concentrate_au               0.000000e+00   \n",
       "primary_cleaner.output.tail_ag                      0.000000e+00   \n",
       "primary_cleaner.output.tail_pb                      0.000000e+00   \n",
       "primary_cleaner.output.tail_sol                     0.000000e+00   \n",
       "primary_cleaner.output.tail_au                      0.000000e+00   \n",
       "primary_cleaner.state.floatbank8_a_air              5.445860e-32   \n",
       "primary_cleaner.state.floatbank8_a_level           -7.986417e+02   \n",
       "primary_cleaner.state.floatbank8_b_air              6.647490e-32   \n",
       "primary_cleaner.state.floatbank8_b_level           -7.999970e+02   \n",
       "primary_cleaner.state.floatbank8_c_air              4.033736e-32   \n",
       "primary_cleaner.state.floatbank8_c_level           -7.999606e+02   \n",
       "primary_cleaner.state.floatbank8_d_air              4.039220e-32   \n",
       "primary_cleaner.state.floatbank8_d_level           -7.997943e+02   \n",
       "rougher.calculation.sulfate_to_au_concentrate      -4.223520e+07   \n",
       "rougher.calculation.floatbank10_sulfate_to_au_feed -4.865987e+02   \n",
       "rougher.calculation.floatbank11_sulfate_to_au_feed -2.649828e+02   \n",
       "rougher.calculation.au_pb_ratio                    -1.054761e-02   \n",
       "rougher.input.feed_ag                               1.000000e-02   \n",
       "rougher.input.feed_pb                               1.000000e-02   \n",
       "rougher.input.feed_rate                             2.985849e-03   \n",
       "rougher.input.feed_size                             4.636880e-02   \n",
       "rougher.input.feed_sol                              1.000000e-02   \n",
       "rougher.input.feed_au                               1.000000e-02   \n",
       "rougher.input.floatbank10_sulfate                   1.083112e-03   \n",
       "rougher.input.floatbank10_xanthate                  5.682328e-04   \n",
       "rougher.input.floatbank11_sulfate                   7.673764e-05   \n",
       "rougher.input.floatbank11_xanthate                  2.904126e-04   \n",
       "rougher.output.concentrate_ag                       0.000000e+00   \n",
       "rougher.output.concentrate_pb                       0.000000e+00   \n",
       "rougher.output.concentrate_sol                      0.000000e+00   \n",
       "rougher.output.concentrate_au                       0.000000e+00   \n",
       "rougher.output.recovery                             0.000000e+00   \n",
       "rougher.output.tail_ag                              5.945623e-01   \n",
       "rougher.output.tail_pb                              7.566066e-03   \n",
       "rougher.output.tail_sol                             1.001465e+01   \n",
       "rougher.output.tail_au                              2.067578e-02   \n",
       "rougher.state.floatbank10_a_air                    -4.206929e-02   \n",
       "rougher.state.floatbank10_a_level                  -6.579498e+02   \n",
       "rougher.state.floatbank10_b_air                    -7.218064e-01   \n",
       "rougher.state.floatbank10_b_level                  -6.502600e+02   \n",
       "rougher.state.floatbank10_c_air                    -5.663551e-02   \n",
       "rougher.state.floatbank10_c_level                  -6.475444e+02   \n",
       "rougher.state.floatbank10_d_air                    -9.922190e-01   \n",
       "rougher.state.floatbank10_d_level                  -6.483907e+02   \n",
       "rougher.state.floatbank10_e_air                    -1.982295e+00   \n",
       "rougher.state.floatbank10_e_level                  -6.494439e+02   \n",
       "rougher.state.floatbank10_f_air                    -2.593390e+00   \n",
       "rougher.state.floatbank10_f_level                  -6.499493e+02   \n",
       "secondary_cleaner.output.tail_ag                    0.000000e+00   \n",
       "secondary_cleaner.output.tail_pb                    0.000000e+00   \n",
       "secondary_cleaner.output.tail_sol                   0.000000e+00   \n",
       "secondary_cleaner.output.tail_au                    0.000000e+00   \n",
       "secondary_cleaner.state.floatbank2_a_air            7.750256e-02   \n",
       "secondary_cleaner.state.floatbank2_a_level         -7.996064e+02   \n",
       "secondary_cleaner.state.floatbank2_b_air            0.000000e+00   \n",
       "secondary_cleaner.state.floatbank2_b_level         -7.998739e+02   \n",
       "secondary_cleaner.state.floatbank3_a_air            0.000000e+00   \n",
       "secondary_cleaner.state.floatbank3_a_level         -7.997558e+02   \n",
       "secondary_cleaner.state.floatbank3_b_air            0.000000e+00   \n",
       "secondary_cleaner.state.floatbank3_b_level         -8.093330e+02   \n",
       "secondary_cleaner.state.floatbank4_a_air            0.000000e+00   \n",
       "secondary_cleaner.state.floatbank4_a_level         -7.997985e+02   \n",
       "secondary_cleaner.state.floatbank4_b_air            0.000000e+00   \n",
       "secondary_cleaner.state.floatbank4_b_level         -8.008369e+02   \n",
       "secondary_cleaner.state.floatbank5_a_air           -3.720540e-01   \n",
       "secondary_cleaner.state.floatbank5_a_level         -7.973240e+02   \n",
       "secondary_cleaner.state.floatbank5_b_air            5.280828e-01   \n",
       "secondary_cleaner.state.floatbank5_b_level         -8.002203e+02   \n",
       "secondary_cleaner.state.floatbank6_a_air           -7.942623e-02   \n",
       "secondary_cleaner.state.floatbank6_a_level         -8.097415e+02   \n",
       "\n",
       "                                                             25%  \\\n",
       "final.output.concentrate_ag                             4.251240   \n",
       "final.output.concentrate_pb                             9.137262   \n",
       "final.output.concentrate_sol                            7.722820   \n",
       "final.output.concentrate_au                            43.402215   \n",
       "final.output.recovery                                  63.299712   \n",
       "final.output.tail_ag                                    8.062878   \n",
       "final.output.tail_pb                                    2.040119   \n",
       "final.output.tail_sol                                   8.938947   \n",
       "final.output.tail_au                                    2.461138   \n",
       "primary_cleaner.input.sulfate                         114.107029   \n",
       "primary_cleaner.input.depressant                        6.076909   \n",
       "primary_cleaner.input.feed_size                         6.940000   \n",
       "primary_cleaner.input.xanthate                          0.697224   \n",
       "primary_cleaner.output.concentrate_ag                   7.263288   \n",
       "primary_cleaner.output.concentrate_pb                   8.702328   \n",
       "primary_cleaner.output.concentrate_sol                  7.893893   \n",
       "primary_cleaner.output.concentrate_au                  30.463140   \n",
       "primary_cleaner.output.tail_ag                         14.017742   \n",
       "primary_cleaner.output.tail_pb                          2.504365   \n",
       "primary_cleaner.output.tail_sol                         6.747483   \n",
       "primary_cleaner.output.tail_au                          2.924844   \n",
       "primary_cleaner.state.floatbank8_a_air               1505.063192   \n",
       "primary_cleaner.state.floatbank8_a_level             -500.308544   \n",
       "primary_cleaner.state.floatbank8_b_air               1503.629878   \n",
       "primary_cleaner.state.floatbank8_b_level             -500.437171   \n",
       "primary_cleaner.state.floatbank8_c_air               1500.926924   \n",
       "primary_cleaner.state.floatbank8_c_level             -500.703932   \n",
       "primary_cleaner.state.floatbank8_d_air               1494.219469   \n",
       "primary_cleaner.state.floatbank8_d_level             -500.458365   \n",
       "rougher.calculation.sulfate_to_au_concentrate       40700.946040   \n",
       "rougher.calculation.floatbank10_sulfate_to_au_feed   2611.425833   \n",
       "rougher.calculation.floatbank11_sulfate_to_au_feed   2551.437587   \n",
       "rougher.calculation.au_pb_ratio                         2.035434   \n",
       "rougher.input.feed_ag                                   7.237967   \n",
       "rougher.input.feed_pb                                   2.887280   \n",
       "rougher.input.feed_rate                               416.525453   \n",
       "rougher.input.feed_size                                47.435103   \n",
       "rougher.input.feed_sol                                 34.207799   \n",
       "rougher.input.feed_au                                   6.854384   \n",
       "rougher.input.floatbank10_sulfate                      10.000362   \n",
       "rougher.input.floatbank10_xanthate                      5.398678   \n",
       "rougher.input.floatbank11_sulfate                       9.998460   \n",
       "rougher.input.floatbank11_xanthate                      5.402368   \n",
       "rougher.output.concentrate_ag                          10.628337   \n",
       "rougher.output.concentrate_pb                           6.725987   \n",
       "rougher.output.concentrate_sol                         27.224120   \n",
       "rougher.output.concentrate_au                          18.802523   \n",
       "rougher.output.recovery                                81.037957   \n",
       "rougher.output.tail_ag                                  4.889892   \n",
       "rougher.output.tail_pb                                  0.477728   \n",
       "rougher.output.tail_sol                                15.822525   \n",
       "rougher.output.tail_au                                  1.404207   \n",
       "rougher.state.floatbank10_a_air                       999.661867   \n",
       "rougher.state.floatbank10_a_level                    -499.835165   \n",
       "rougher.state.floatbank10_b_air                      1199.626115   \n",
       "rougher.state.floatbank10_b_level                    -500.201130   \n",
       "rougher.state.floatbank10_c_air                      1151.076301   \n",
       "rougher.state.floatbank10_c_level                    -500.217218   \n",
       "rougher.state.floatbank10_d_air                      1061.051788   \n",
       "rougher.state.floatbank10_d_level                    -500.386386   \n",
       "rougher.state.floatbank10_e_air                       998.675263   \n",
       "rougher.state.floatbank10_e_level                    -500.232191   \n",
       "rougher.state.floatbank10_f_air                       900.995511   \n",
       "rougher.state.floatbank10_f_level                    -500.522553   \n",
       "secondary_cleaner.output.tail_ag                       12.640239   \n",
       "secondary_cleaner.output.tail_pb                        3.864733   \n",
       "secondary_cleaner.output.tail_sol                       3.845475   \n",
       "secondary_cleaner.output.tail_au                        3.182770   \n",
       "secondary_cleaner.state.floatbank2_a_air               25.048462   \n",
       "secondary_cleaner.state.floatbank2_a_level           -500.233700   \n",
       "secondary_cleaner.state.floatbank2_b_air               20.919853   \n",
       "secondary_cleaner.state.floatbank2_b_level           -500.253794   \n",
       "secondary_cleaner.state.floatbank3_a_air               24.949227   \n",
       "secondary_cleaner.state.floatbank3_a_level           -500.213546   \n",
       "secondary_cleaner.state.floatbank3_b_air               18.995924   \n",
       "secondary_cleaner.state.floatbank3_b_level           -500.123034   \n",
       "secondary_cleaner.state.floatbank4_a_air               14.975734   \n",
       "secondary_cleaner.state.floatbank4_a_level           -500.704892   \n",
       "secondary_cleaner.state.floatbank4_b_air               11.940294   \n",
       "secondary_cleaner.state.floatbank4_b_level           -500.187742   \n",
       "secondary_cleaner.state.floatbank5_a_air               10.988606   \n",
       "secondary_cleaner.state.floatbank5_a_level           -500.458467   \n",
       "secondary_cleaner.state.floatbank5_b_air                8.971105   \n",
       "secondary_cleaner.state.floatbank5_b_level           -500.129462   \n",
       "secondary_cleaner.state.floatbank6_a_air               14.983037   \n",
       "secondary_cleaner.state.floatbank6_a_level           -500.728067   \n",
       "\n",
       "                                                             50%  \\\n",
       "final.output.concentrate_ag                             5.066094   \n",
       "final.output.concentrate_pb                            10.102433   \n",
       "final.output.concentrate_sol                            9.218961   \n",
       "final.output.concentrate_au                            45.011244   \n",
       "final.output.recovery                                  68.172738   \n",
       "final.output.tail_ag                                    9.743623   \n",
       "final.output.tail_pb                                    2.748730   \n",
       "final.output.tail_sol                                  10.622456   \n",
       "final.output.tail_au                                    2.984909   \n",
       "primary_cleaner.input.sulfate                         143.232103   \n",
       "primary_cleaner.input.depressant                        8.038311   \n",
       "primary_cleaner.input.feed_size                         7.280000   \n",
       "primary_cleaner.input.xanthate                          0.940863   \n",
       "primary_cleaner.output.concentrate_ag                   8.507298   \n",
       "primary_cleaner.output.concentrate_pb                  10.152433   \n",
       "primary_cleaner.output.concentrate_sol                 10.314632   \n",
       "primary_cleaner.output.concentrate_au                  32.841295   \n",
       "primary_cleaner.output.tail_ag                         15.842836   \n",
       "primary_cleaner.output.tail_pb                          3.271153   \n",
       "primary_cleaner.output.tail_sol                         8.183673   \n",
       "primary_cleaner.output.tail_au                          3.623234   \n",
       "primary_cleaner.state.floatbank8_a_air               1600.596566   \n",
       "primary_cleaner.state.floatbank8_a_level             -499.926134   \n",
       "primary_cleaner.state.floatbank8_b_air               1600.520975   \n",
       "primary_cleaner.state.floatbank8_b_level             -499.956767   \n",
       "primary_cleaner.state.floatbank8_c_air               1600.253890   \n",
       "primary_cleaner.state.floatbank8_c_level             -499.909524   \n",
       "primary_cleaner.state.floatbank8_d_air               1599.447470   \n",
       "primary_cleaner.state.floatbank8_d_level             -499.905974   \n",
       "rougher.calculation.sulfate_to_au_concentrate       44696.480712   \n",
       "rougher.calculation.floatbank10_sulfate_to_au_feed   3018.353876   \n",
       "rougher.calculation.floatbank11_sulfate_to_au_feed   2997.218088   \n",
       "rougher.calculation.au_pb_ratio                         2.309665   \n",
       "rougher.input.feed_ag                                   8.593574   \n",
       "rougher.input.feed_pb                                   3.534895   \n",
       "rougher.input.feed_rate                               499.416120   \n",
       "rougher.input.feed_size                                54.610197   \n",
       "rougher.input.feed_sol                                 37.202650   \n",
       "rougher.input.feed_au                                   8.125839   \n",
       "rougher.input.floatbank10_sulfate                      12.001174   \n",
       "rougher.input.floatbank10_xanthate                      6.008273   \n",
       "rougher.input.floatbank11_sulfate                      12.000204   \n",
       "rougher.input.floatbank11_xanthate                      6.098580   \n",
       "rougher.output.concentrate_ag                          12.098115   \n",
       "rougher.output.concentrate_pb                           7.742580   \n",
       "rougher.output.concentrate_sol                         29.835345   \n",
       "rougher.output.concentrate_au                          20.280214   \n",
       "rougher.output.recovery                                86.188892   \n",
       "rougher.output.tail_ag                                  5.765802   \n",
       "rougher.output.tail_pb                                  0.617465   \n",
       "rougher.output.tail_sol                                18.106867   \n",
       "rougher.output.tail_au                                  1.808170   \n",
       "rougher.state.floatbank10_a_air                      1001.072890   \n",
       "rougher.state.floatbank10_a_level                    -300.263994   \n",
       "rougher.state.floatbank10_b_air                      1301.579988   \n",
       "rougher.state.floatbank10_b_level                    -499.784045   \n",
       "rougher.state.floatbank10_c_air                      1300.211537   \n",
       "rougher.state.floatbank10_c_level                    -499.713364   \n",
       "rougher.state.floatbank10_d_air                      1201.569141   \n",
       "rougher.state.floatbank10_d_level                    -499.532412   \n",
       "rougher.state.floatbank10_e_air                      1050.029461   \n",
       "rougher.state.floatbank10_e_level                    -499.663089   \n",
       "rougher.state.floatbank10_f_air                       999.924821   \n",
       "rougher.state.floatbank10_f_level                    -499.471777   \n",
       "secondary_cleaner.output.tail_ag                       15.641902   \n",
       "secondary_cleaner.output.tail_pb                        5.344073   \n",
       "secondary_cleaner.output.tail_sol                       7.685827   \n",
       "secondary_cleaner.output.tail_au                        4.072412   \n",
       "secondary_cleaner.state.floatbank2_a_air               29.099943   \n",
       "secondary_cleaner.state.floatbank2_a_level           -499.973250   \n",
       "secondary_cleaner.state.floatbank2_b_air               25.043289   \n",
       "secondary_cleaner.state.floatbank2_b_level           -500.015439   \n",
       "secondary_cleaner.state.floatbank3_a_air               27.982129   \n",
       "secondary_cleaner.state.floatbank3_a_level           -499.930680   \n",
       "secondary_cleaner.state.floatbank3_b_air               22.011231   \n",
       "secondary_cleaner.state.floatbank3_b_level           -499.981902   \n",
       "secondary_cleaner.state.floatbank4_a_air               18.017481   \n",
       "secondary_cleaner.state.floatbank4_a_level           -499.837793   \n",
       "secondary_cleaner.state.floatbank4_b_air               14.971014   \n",
       "secondary_cleaner.state.floatbank4_b_level           -499.459786   \n",
       "secondary_cleaner.state.floatbank5_a_air               15.000036   \n",
       "secondary_cleaner.state.floatbank5_a_level           -499.802605   \n",
       "secondary_cleaner.state.floatbank5_b_air               11.019433   \n",
       "secondary_cleaner.state.floatbank5_b_level           -499.935317   \n",
       "secondary_cleaner.state.floatbank6_a_air               19.960541   \n",
       "secondary_cleaner.state.floatbank6_a_level           -500.048400   \n",
       "\n",
       "                                                             75%           max  \n",
       "final.output.concentrate_ag                             5.895527  1.600195e+01  \n",
       "final.output.concentrate_pb                            11.035769  1.703190e+01  \n",
       "final.output.concentrate_sol                           10.947813  1.961572e+01  \n",
       "final.output.concentrate_au                            46.275313  5.275664e+01  \n",
       "final.output.recovery                                  72.686642  1.000000e+02  \n",
       "final.output.tail_ag                                   11.134294  1.955215e+01  \n",
       "final.output.tail_pb                                    3.333216  5.804178e+00  \n",
       "final.output.tail_sol                                  12.104271  2.231773e+01  \n",
       "final.output.tail_au                                    3.571351  8.245022e+00  \n",
       "primary_cleaner.input.sulfate                         175.075656  2.659831e+02  \n",
       "primary_cleaner.input.depressant                       11.013521  4.000000e+01  \n",
       "primary_cleaner.input.feed_size                         7.670000  1.550000e+01  \n",
       "primary_cleaner.input.xanthate                          1.210990  4.102454e+00  \n",
       "primary_cleaner.output.concentrate_ag                   9.809001  1.608163e+01  \n",
       "primary_cleaner.output.concentrate_pb                  11.424971  1.708128e+01  \n",
       "primary_cleaner.output.concentrate_sol                 13.446702  2.245811e+01  \n",
       "primary_cleaner.output.concentrate_au                  35.048006  4.593393e+01  \n",
       "primary_cleaner.output.tail_ag                         18.013975  2.945957e+01  \n",
       "primary_cleaner.output.tail_pb                          4.181748  9.634565e+00  \n",
       "primary_cleaner.output.tail_sol                         9.548586  2.227636e+01  \n",
       "primary_cleaner.output.tail_au                          4.585705  1.778892e+01  \n",
       "primary_cleaner.state.floatbank8_a_air               1697.657718  2.103104e+03  \n",
       "primary_cleaner.state.floatbank8_a_level             -499.433950 -5.719540e+01  \n",
       "primary_cleaner.state.floatbank8_b_air               1699.217656  2.114907e+03  \n",
       "primary_cleaner.state.floatbank8_b_level             -499.373336 -1.425272e+02  \n",
       "primary_cleaner.state.floatbank8_c_air               1699.482929  2.013156e+03  \n",
       "primary_cleaner.state.floatbank8_c_level             -498.857643 -1.509370e+02  \n",
       "primary_cleaner.state.floatbank8_d_air               1698.524904  2.398904e+03  \n",
       "primary_cleaner.state.floatbank8_d_level             -499.064695 -3.060183e+01  \n",
       "rougher.calculation.sulfate_to_au_concentrate       48168.210371  3.428099e+06  \n",
       "rougher.calculation.floatbank10_sulfate_to_au_feed   3676.769750  6.296390e+05  \n",
       "rougher.calculation.floatbank11_sulfate_to_au_feed   3601.998911  7.186850e+05  \n",
       "rougher.calculation.au_pb_ratio                         2.731794  3.937927e+01  \n",
       "rougher.input.feed_ag                                  10.213771  1.459603e+01  \n",
       "rougher.input.feed_pb                                   4.244161  7.142594e+00  \n",
       "rougher.input.feed_rate                               550.172183  7.175088e+02  \n",
       "rougher.input.feed_size                                65.023044  4.849675e+02  \n",
       "rougher.input.feed_sol                                 40.039133  5.347774e+01  \n",
       "rougher.input.feed_au                                   9.769917  1.373133e+01  \n",
       "rougher.input.floatbank10_sulfate                      14.716595  3.611827e+01  \n",
       "rougher.input.floatbank10_xanthate                      6.798051  9.703448e+00  \n",
       "rougher.input.floatbank11_sulfate                      14.636766  3.798065e+01  \n",
       "rougher.input.floatbank11_xanthate                      6.801233  9.698407e+00  \n",
       "rougher.output.concentrate_ag                          13.736996  2.448027e+01  \n",
       "rougher.output.concentrate_pb                           8.565199  1.361707e+01  \n",
       "rougher.output.concentrate_sol                         32.189933  3.835119e+01  \n",
       "rougher.output.concentrate_au                          21.717843  2.882451e+01  \n",
       "rougher.output.recovery                                90.010670  1.000000e+02  \n",
       "rougher.output.tail_ag                                  6.389234  1.271918e+01  \n",
       "rougher.output.tail_pb                                  0.778271  3.778064e+00  \n",
       "rougher.output.tail_sol                                20.088151  6.611719e+01  \n",
       "rougher.output.tail_au                                  2.211861  9.688980e+00  \n",
       "rougher.state.floatbank10_a_air                      1205.620588  1.521980e+03  \n",
       "rougher.state.floatbank10_a_level                    -299.981998 -2.737761e+02  \n",
       "rougher.state.floatbank10_b_air                      1448.630789  1.809194e+03  \n",
       "rougher.state.floatbank10_b_level                    -400.615589 -2.963831e+02  \n",
       "rougher.state.floatbank10_c_air                      1449.464001  2.499129e+03  \n",
       "rougher.state.floatbank10_c_level                    -400.985743 -2.921555e+02  \n",
       "rougher.state.floatbank10_d_air                      1352.880320  1.817199e+03  \n",
       "rougher.state.floatbank10_d_level                    -401.638550 -7.639733e+01  \n",
       "rougher.state.floatbank10_e_air                      1199.425140  1.922637e+03  \n",
       "rougher.state.floatbank10_e_level                    -401.161191 -1.397530e+02  \n",
       "rougher.state.floatbank10_f_air                      1099.719692  1.706308e+03  \n",
       "rougher.state.floatbank10_f_level                    -401.511042 -1.917185e+02  \n",
       "secondary_cleaner.output.tail_ag                       17.358217  2.326474e+01  \n",
       "secondary_cleaner.output.tail_pb                        7.788467  1.704250e+01  \n",
       "secondary_cleaner.output.tail_sol                      10.411296  2.600077e+01  \n",
       "secondary_cleaner.output.tail_au                        5.063081  2.681164e+01  \n",
       "secondary_cleaner.state.floatbank2_a_air               33.012536  5.265140e+01  \n",
       "secondary_cleaner.state.floatbank2_a_level           -499.671261 -1.278756e+02  \n",
       "secondary_cleaner.state.floatbank2_b_air               28.008197  3.515212e+01  \n",
       "secondary_cleaner.state.floatbank2_b_level           -499.785698 -2.119993e+02  \n",
       "secondary_cleaner.state.floatbank3_a_air               33.002798  4.426046e+01  \n",
       "secondary_cleaner.state.floatbank3_a_level           -499.325739 -1.916788e+02  \n",
       "secondary_cleaner.state.floatbank3_b_air               25.998206  3.507284e+01  \n",
       "secondary_cleaner.state.floatbank3_b_level           -499.812834 -1.597423e+02  \n",
       "secondary_cleaner.state.floatbank4_a_air               23.012470  3.011574e+01  \n",
       "secondary_cleaner.state.floatbank4_a_level           -498.249730 -2.452392e+02  \n",
       "secondary_cleaner.state.floatbank4_b_air               19.034162  3.126971e+01  \n",
       "secondary_cleaner.state.floatbank4_b_level           -400.118106 -6.506986e+00  \n",
       "secondary_cleaner.state.floatbank5_a_air               18.026190  4.370993e+01  \n",
       "secondary_cleaner.state.floatbank5_a_level           -498.384187 -2.444836e+02  \n",
       "secondary_cleaner.state.floatbank5_b_air               14.019088  2.792600e+01  \n",
       "secondary_cleaner.state.floatbank5_b_level           -499.436708 -1.377400e+02  \n",
       "secondary_cleaner.state.floatbank6_a_air               24.003170  3.218891e+01  \n",
       "secondary_cleaner.state.floatbank6_a_level           -499.495378 -1.044275e+02  "
      ]
     },
     "execution_count": 9,
     "metadata": {},
     "output_type": "execute_result"
    }
   ],
   "source": [
    "recovery_full.describe().T"
   ]
  },
  {
   "cell_type": "code",
   "execution_count": null,
   "metadata": {},
   "outputs": [],
   "source": []
  },
  {
   "cell_type": "code",
   "execution_count": null,
   "metadata": {},
   "outputs": [],
   "source": []
  },
  {
   "cell_type": "markdown",
   "metadata": {},
   "source": [
    "### Проверка эффективности обогащения"
   ]
  },
  {
   "cell_type": "markdown",
   "metadata": {},
   "source": [
    "<div style=\"border:solid gray 2.0px; padding: 10px\"> \n",
    "    \n",
    "    Проверим расчет эффективности обогащения\n",
    "\n",
    "</div>"
   ]
  },
  {
   "cell_type": "code",
   "execution_count": 10,
   "metadata": {},
   "outputs": [
    {
     "data": {
      "text/plain": [
       "9.73512347450521e-15"
      ]
     },
     "execution_count": 10,
     "metadata": {},
     "output_type": "execute_result"
    }
   ],
   "source": [
    "C = recovery_train['rougher.output.concentrate_au']\n",
    "F = recovery_train['rougher.input.feed_au']\n",
    "T = recovery_train['rougher.output.tail_au']\n",
    "\n",
    "mean_absolute_error(recovery_train['rougher.output.recovery'], (C*(F-T)) / (F*(C-T))*100)"
   ]
  },
  {
   "cell_type": "code",
   "execution_count": 11,
   "metadata": {},
   "outputs": [
    {
     "data": {
      "text/plain": [
       "12589    8.526513e-14\n",
       "10634    7.105427e-14\n",
       "4215     7.105427e-14\n",
       "8920     5.684342e-14\n",
       "3683     5.684342e-14\n",
       "dtype: float64"
      ]
     },
     "execution_count": 11,
     "metadata": {},
     "output_type": "execute_result"
    }
   ],
   "source": [
    "(recovery_train['rougher.output.recovery'] - (C*(F-T)) / (F*(C-T))*100) \\\n",
    "    .sort_values(ascending=False) \\\n",
    "    .head(5)"
   ]
  },
  {
   "cell_type": "markdown",
   "metadata": {},
   "source": [
    "<div style=\"border:solid gray 2.0px; padding: 10px\"> \n",
    "    \n",
    "    Проверка прошла успешно )\n",
    "    Эффективность обогащения, доступная в данных, и расчитанная нами, совпадает.\n",
    "    \n",
    "    Это хорошо, после предобраборки данных, нужно будет этот параметр пересчитать, т.к. данные, на основе которых он расчитывается, могут измениться\n",
    "\n",
    "</div>"
   ]
  },
  {
   "cell_type": "code",
   "execution_count": null,
   "metadata": {},
   "outputs": [],
   "source": []
  },
  {
   "cell_type": "markdown",
   "metadata": {},
   "source": [
    "### Анализ признаков, недоступных в тестовой выборке"
   ]
  },
  {
   "cell_type": "markdown",
   "metadata": {},
   "source": [
    "<div style=\"border:solid gray 2.0px; padding: 10px\"> \n",
    "    \n",
    "    Посмотрим, какие столбцы есть в тестовой выбрке и нет в тренировочной. И наоборот \n",
    "\n",
    "</div>"
   ]
  },
  {
   "cell_type": "code",
   "execution_count": 12,
   "metadata": {},
   "outputs": [],
   "source": [
    "recovery_train_columns = recovery_train.columns\n",
    "recovery_test_columns = recovery_test.columns"
   ]
  },
  {
   "cell_type": "code",
   "execution_count": 13,
   "metadata": {},
   "outputs": [],
   "source": [
    "diff_train_test_columns = list(set(recovery_train_columns) - set(recovery_test_columns))\n",
    "diff_test_train_columns = list(set(recovery_test_columns) - set(recovery_train_columns))"
   ]
  },
  {
   "cell_type": "code",
   "execution_count": 14,
   "metadata": {},
   "outputs": [
    {
     "data": {
      "text/plain": [
       "['final.output.concentrate_ag',\n",
       " 'final.output.concentrate_au',\n",
       " 'final.output.concentrate_pb',\n",
       " 'final.output.concentrate_sol',\n",
       " 'final.output.recovery',\n",
       " 'final.output.tail_ag',\n",
       " 'final.output.tail_au',\n",
       " 'final.output.tail_pb',\n",
       " 'final.output.tail_sol',\n",
       " 'primary_cleaner.output.concentrate_ag',\n",
       " 'primary_cleaner.output.concentrate_au',\n",
       " 'primary_cleaner.output.concentrate_pb',\n",
       " 'primary_cleaner.output.concentrate_sol',\n",
       " 'primary_cleaner.output.tail_ag',\n",
       " 'primary_cleaner.output.tail_au',\n",
       " 'primary_cleaner.output.tail_pb',\n",
       " 'primary_cleaner.output.tail_sol',\n",
       " 'rougher.calculation.au_pb_ratio',\n",
       " 'rougher.calculation.floatbank10_sulfate_to_au_feed',\n",
       " 'rougher.calculation.floatbank11_sulfate_to_au_feed',\n",
       " 'rougher.calculation.sulfate_to_au_concentrate',\n",
       " 'rougher.output.concentrate_ag',\n",
       " 'rougher.output.concentrate_au',\n",
       " 'rougher.output.concentrate_pb',\n",
       " 'rougher.output.concentrate_sol',\n",
       " 'rougher.output.recovery',\n",
       " 'rougher.output.tail_ag',\n",
       " 'rougher.output.tail_au',\n",
       " 'rougher.output.tail_pb',\n",
       " 'rougher.output.tail_sol',\n",
       " 'secondary_cleaner.output.tail_ag',\n",
       " 'secondary_cleaner.output.tail_au',\n",
       " 'secondary_cleaner.output.tail_pb',\n",
       " 'secondary_cleaner.output.tail_sol']"
      ]
     },
     "execution_count": 14,
     "metadata": {},
     "output_type": "execute_result"
    }
   ],
   "source": [
    "sorted(diff_train_test_columns)"
   ]
  },
  {
   "cell_type": "code",
   "execution_count": 15,
   "metadata": {},
   "outputs": [
    {
     "data": {
      "text/plain": [
       "[]"
      ]
     },
     "execution_count": 15,
     "metadata": {},
     "output_type": "execute_result"
    }
   ],
   "source": [
    "diff_test_train_columns"
   ]
  },
  {
   "cell_type": "markdown",
   "metadata": {},
   "source": [
    "<div style=\"border:solid gray 2.0px; padding: 10px\"> \n",
    "    \n",
    "    Видим, что переменные, содержащие параметры продукта (output) и расчетные характеристики (calculation) присутствуют только в тренировочной выборке. Так же в тестовой выборке нет целевых признаков (recovery)\n",
    "    \n",
    "    Радует то, что нет столбцов, которые есть в тестовой выборке, но нет в тренировочной )\n",
    "    \n",
    "    Удалим из тренировочной выборки столбцы, не доступные нам в тестовой выборке (кроме целевых признаков)\n",
    "\n",
    "</div>"
   ]
  },
  {
   "cell_type": "code",
   "execution_count": 16,
   "metadata": {},
   "outputs": [],
   "source": [
    "remove_col = list(set(diff_train_test_columns) - set(['final.output.recovery', 'rougher.output.recovery']))"
   ]
  },
  {
   "cell_type": "code",
   "execution_count": 17,
   "metadata": {},
   "outputs": [
    {
     "name": "stdout",
     "output_type": "stream",
     "text": [
      "Количество столбцов до удаления признаков: 87\n",
      "Количество столбцов после удаления признаков: 55\n"
     ]
    }
   ],
   "source": [
    "print(f\"Количество столбцов до удаления признаков: {len(recovery_train.columns)}\")\n",
    "recovery_train = recovery_train.drop(remove_col, axis=1)\n",
    "print(f\"Количество столбцов после удаления признаков: {len(recovery_train.columns)}\")"
   ]
  },
  {
   "cell_type": "code",
   "execution_count": null,
   "metadata": {},
   "outputs": [],
   "source": []
  },
  {
   "cell_type": "markdown",
   "metadata": {},
   "source": [
    "### Предобработка данных"
   ]
  },
  {
   "cell_type": "markdown",
   "metadata": {},
   "source": [
    "#### Сравнение тестовой и тренировочной выборок"
   ]
  },
  {
   "cell_type": "markdown",
   "metadata": {},
   "source": [
    "<div style=\"border:solid gray 2.0px; padding: 10px\"> \n",
    "    \n",
    "    Посмотрим пропуски\n",
    "\n",
    "</div>"
   ]
  },
  {
   "cell_type": "code",
   "execution_count": 18,
   "metadata": {},
   "outputs": [],
   "source": [
    "feature_columns = list(set(recovery_test.columns) - set(['date']))"
   ]
  },
  {
   "cell_type": "code",
   "execution_count": 19,
   "metadata": {},
   "outputs": [],
   "source": [
    "def show_missing(df):\n",
    "    return pd.DataFrame(\n",
    "        [round((df.isna().mean()*100),2), df.isna().sum()]).T \\\n",
    "        .rename(columns={0: 'percent_na', 1: 'count_na'}) \\\n",
    "        .query('count_na>=1') \\\n",
    "        .sort_values(by='count_na', ascending=False) \\\n",
    "        .style.background_gradient('coolwarm')"
   ]
  },
  {
   "cell_type": "code",
   "execution_count": 20,
   "metadata": {},
   "outputs": [
    {
     "data": {
      "text/html": [
       "<style  type=\"text/css\" >\n",
       "#T_8601c_row0_col0,#T_8601c_row0_col1{\n",
       "            background-color:  #b40426;\n",
       "            color:  #f1f1f1;\n",
       "        }#T_8601c_row1_col0{\n",
       "            background-color:  #e46e56;\n",
       "            color:  #000000;\n",
       "        }#T_8601c_row1_col1{\n",
       "            background-color:  #e7745b;\n",
       "            color:  #000000;\n",
       "        }#T_8601c_row2_col0,#T_8601c_row2_col1{\n",
       "            background-color:  #aac7fd;\n",
       "            color:  #000000;\n",
       "        }#T_8601c_row3_col0{\n",
       "            background-color:  #9abbff;\n",
       "            color:  #000000;\n",
       "        }#T_8601c_row3_col1{\n",
       "            background-color:  #9bbcff;\n",
       "            color:  #000000;\n",
       "        }#T_8601c_row4_col0,#T_8601c_row5_col0{\n",
       "            background-color:  #6b8df0;\n",
       "            color:  #000000;\n",
       "        }#T_8601c_row4_col1,#T_8601c_row5_col1{\n",
       "            background-color:  #6f92f3;\n",
       "            color:  #000000;\n",
       "        }#T_8601c_row6_col0,#T_8601c_row7_col0{\n",
       "            background-color:  #6485ec;\n",
       "            color:  #000000;\n",
       "        }#T_8601c_row6_col1,#T_8601c_row7_col1{\n",
       "            background-color:  #6282ea;\n",
       "            color:  #000000;\n",
       "        }#T_8601c_row8_col0,#T_8601c_row9_col0{\n",
       "            background-color:  #5572df;\n",
       "            color:  #000000;\n",
       "        }#T_8601c_row8_col1,#T_8601c_row9_col1{\n",
       "            background-color:  #5470de;\n",
       "            color:  #000000;\n",
       "        }#T_8601c_row10_col0{\n",
       "            background-color:  #485fd1;\n",
       "            color:  #f1f1f1;\n",
       "        }#T_8601c_row10_col1{\n",
       "            background-color:  #465ecf;\n",
       "            color:  #f1f1f1;\n",
       "        }#T_8601c_row11_col0,#T_8601c_row11_col1{\n",
       "            background-color:  #3b4cc0;\n",
       "            color:  #f1f1f1;\n",
       "        }</style><table id=\"T_8601c_\" ><thead>    <tr>        <th class=\"blank level0\" ></th>        <th class=\"col_heading level0 col0\" >percent_na</th>        <th class=\"col_heading level0 col1\" >count_na</th>    </tr></thead><tbody>\n",
       "                <tr>\n",
       "                        <th id=\"T_8601c_level0_row0\" class=\"row_heading level0 row0\" >rougher.input.floatbank11_xanthate</th>\n",
       "                        <td id=\"T_8601c_row0_col0\" class=\"data row0 col0\" >0.470000</td>\n",
       "                        <td id=\"T_8601c_row0_col1\" class=\"data row0 col1\" >25.000000</td>\n",
       "            </tr>\n",
       "            <tr>\n",
       "                        <th id=\"T_8601c_level0_row1\" class=\"row_heading level0 row1\" >rougher.input.feed_sol</th>\n",
       "                        <td id=\"T_8601c_row1_col0\" class=\"data row1 col0\" >0.400000</td>\n",
       "                        <td id=\"T_8601c_row1_col1\" class=\"data row1 col1\" >21.000000</td>\n",
       "            </tr>\n",
       "            <tr>\n",
       "                        <th id=\"T_8601c_level0_row2\" class=\"row_heading level0 row2\" >secondary_cleaner.state.floatbank3_a_air</th>\n",
       "                        <td id=\"T_8601c_row2_col0\" class=\"data row2 col0\" >0.170000</td>\n",
       "                        <td id=\"T_8601c_row2_col1\" class=\"data row2 col1\" >9.000000</td>\n",
       "            </tr>\n",
       "            <tr>\n",
       "                        <th id=\"T_8601c_level0_row3\" class=\"row_heading level0 row3\" >rougher.input.floatbank11_sulfate</th>\n",
       "                        <td id=\"T_8601c_row3_col0\" class=\"data row3 col0\" >0.150000</td>\n",
       "                        <td id=\"T_8601c_row3_col1\" class=\"data row3 col1\" >8.000000</td>\n",
       "            </tr>\n",
       "            <tr>\n",
       "                        <th id=\"T_8601c_level0_row4\" class=\"row_heading level0 row4\" >primary_cleaner.input.depressant</th>\n",
       "                        <td id=\"T_8601c_row4_col0\" class=\"data row4 col0\" >0.090000</td>\n",
       "                        <td id=\"T_8601c_row4_col1\" class=\"data row4 col1\" >5.000000</td>\n",
       "            </tr>\n",
       "            <tr>\n",
       "                        <th id=\"T_8601c_level0_row5\" class=\"row_heading level0 row5\" >rougher.input.floatbank10_sulfate</th>\n",
       "                        <td id=\"T_8601c_row5_col0\" class=\"data row5 col0\" >0.090000</td>\n",
       "                        <td id=\"T_8601c_row5_col1\" class=\"data row5 col1\" >5.000000</td>\n",
       "            </tr>\n",
       "            <tr>\n",
       "                        <th id=\"T_8601c_level0_row6\" class=\"row_heading level0 row6\" >primary_cleaner.input.sulfate</th>\n",
       "                        <td id=\"T_8601c_row6_col0\" class=\"data row6 col0\" >0.080000</td>\n",
       "                        <td id=\"T_8601c_row6_col1\" class=\"data row6 col1\" >4.000000</td>\n",
       "            </tr>\n",
       "            <tr>\n",
       "                        <th id=\"T_8601c_level0_row7\" class=\"row_heading level0 row7\" >primary_cleaner.input.xanthate</th>\n",
       "                        <td id=\"T_8601c_row7_col0\" class=\"data row7 col0\" >0.080000</td>\n",
       "                        <td id=\"T_8601c_row7_col1\" class=\"data row7 col1\" >4.000000</td>\n",
       "            </tr>\n",
       "            <tr>\n",
       "                        <th id=\"T_8601c_level0_row8\" class=\"row_heading level0 row8\" >rougher.input.feed_rate</th>\n",
       "                        <td id=\"T_8601c_row8_col0\" class=\"data row8 col0\" >0.060000</td>\n",
       "                        <td id=\"T_8601c_row8_col1\" class=\"data row8 col1\" >3.000000</td>\n",
       "            </tr>\n",
       "            <tr>\n",
       "                        <th id=\"T_8601c_level0_row9\" class=\"row_heading level0 row9\" >secondary_cleaner.state.floatbank2_a_air</th>\n",
       "                        <td id=\"T_8601c_row9_col0\" class=\"data row9 col0\" >0.060000</td>\n",
       "                        <td id=\"T_8601c_row9_col1\" class=\"data row9 col1\" >3.000000</td>\n",
       "            </tr>\n",
       "            <tr>\n",
       "                        <th id=\"T_8601c_level0_row10\" class=\"row_heading level0 row10\" >secondary_cleaner.state.floatbank2_b_air</th>\n",
       "                        <td id=\"T_8601c_row10_col0\" class=\"data row10 col0\" >0.040000</td>\n",
       "                        <td id=\"T_8601c_row10_col1\" class=\"data row10 col1\" >2.000000</td>\n",
       "            </tr>\n",
       "            <tr>\n",
       "                        <th id=\"T_8601c_level0_row11\" class=\"row_heading level0 row11\" >rougher.input.feed_size</th>\n",
       "                        <td id=\"T_8601c_row11_col0\" class=\"data row11 col0\" >0.020000</td>\n",
       "                        <td id=\"T_8601c_row11_col1\" class=\"data row11 col1\" >1.000000</td>\n",
       "            </tr>\n",
       "    </tbody></table>"
      ],
      "text/plain": [
       "<pandas.io.formats.style.Styler at 0x7efdec1d5d00>"
      ]
     },
     "execution_count": 20,
     "metadata": {},
     "output_type": "execute_result"
    }
   ],
   "source": [
    "show_missing(recovery_test)"
   ]
  },
  {
   "cell_type": "code",
   "execution_count": null,
   "metadata": {},
   "outputs": [],
   "source": []
  },
  {
   "cell_type": "code",
   "execution_count": 21,
   "metadata": {},
   "outputs": [
    {
     "data": {
      "text/html": [
       "<style  type=\"text/css\" >\n",
       "#T_51df7_row0_col0,#T_51df7_row0_col1{\n",
       "            background-color:  #b40426;\n",
       "            color:  #f1f1f1;\n",
       "        }#T_51df7_row1_col0{\n",
       "            background-color:  #bb1b2c;\n",
       "            color:  #f1f1f1;\n",
       "        }#T_51df7_row1_col1{\n",
       "            background-color:  #ba162b;\n",
       "            color:  #f1f1f1;\n",
       "        }#T_51df7_row2_col0{\n",
       "            background-color:  #dbdcde;\n",
       "            color:  #000000;\n",
       "        }#T_51df7_row2_col1{\n",
       "            background-color:  #dcdddd;\n",
       "            color:  #000000;\n",
       "        }#T_51df7_row3_col0,#T_51df7_row3_col1{\n",
       "            background-color:  #a9c6fd;\n",
       "            color:  #000000;\n",
       "        }#T_51df7_row4_col0,#T_51df7_row4_col1,#T_51df7_row5_col0,#T_51df7_row5_col1{\n",
       "            background-color:  #85a8fc;\n",
       "            color:  #000000;\n",
       "        }#T_51df7_row6_col0,#T_51df7_row6_col1{\n",
       "            background-color:  #7396f5;\n",
       "            color:  #000000;\n",
       "        }#T_51df7_row7_col0,#T_51df7_row7_col1{\n",
       "            background-color:  #536edd;\n",
       "            color:  #000000;\n",
       "        }#T_51df7_row8_col0,#T_51df7_row8_col1{\n",
       "            background-color:  #506bda;\n",
       "            color:  #000000;\n",
       "        }#T_51df7_row9_col0{\n",
       "            background-color:  #4c66d6;\n",
       "            color:  #000000;\n",
       "        }#T_51df7_row9_col1{\n",
       "            background-color:  #4e68d8;\n",
       "            color:  #000000;\n",
       "        }#T_51df7_row10_col0,#T_51df7_row10_col1,#T_51df7_row11_col1{\n",
       "            background-color:  #485fd1;\n",
       "            color:  #f1f1f1;\n",
       "        }#T_51df7_row11_col0{\n",
       "            background-color:  #465ecf;\n",
       "            color:  #f1f1f1;\n",
       "        }#T_51df7_row12_col0,#T_51df7_row12_col1,#T_51df7_row13_col0,#T_51df7_row13_col1{\n",
       "            background-color:  #3f53c6;\n",
       "            color:  #f1f1f1;\n",
       "        }#T_51df7_row14_col0,#T_51df7_row14_col1{\n",
       "            background-color:  #3d50c3;\n",
       "            color:  #f1f1f1;\n",
       "        }#T_51df7_row15_col0,#T_51df7_row15_col1,#T_51df7_row16_col0,#T_51df7_row16_col1,#T_51df7_row17_col0,#T_51df7_row17_col1,#T_51df7_row18_col1{\n",
       "            background-color:  #3c4ec2;\n",
       "            color:  #f1f1f1;\n",
       "        }#T_51df7_row18_col0,#T_51df7_row19_col0,#T_51df7_row19_col1,#T_51df7_row20_col0,#T_51df7_row20_col1,#T_51df7_row21_col0,#T_51df7_row21_col1,#T_51df7_row22_col0,#T_51df7_row22_col1,#T_51df7_row23_col0,#T_51df7_row23_col1,#T_51df7_row24_col0,#T_51df7_row24_col1,#T_51df7_row25_col0,#T_51df7_row25_col1,#T_51df7_row26_col0,#T_51df7_row26_col1,#T_51df7_row27_col0,#T_51df7_row27_col1,#T_51df7_row28_col0,#T_51df7_row28_col1,#T_51df7_row29_col0,#T_51df7_row29_col1,#T_51df7_row30_col0,#T_51df7_row30_col1,#T_51df7_row31_col0,#T_51df7_row31_col1,#T_51df7_row32_col0,#T_51df7_row32_col1,#T_51df7_row33_col0,#T_51df7_row33_col1,#T_51df7_row34_col0,#T_51df7_row34_col1,#T_51df7_row35_col0,#T_51df7_row35_col1,#T_51df7_row36_col0,#T_51df7_row36_col1,#T_51df7_row37_col0,#T_51df7_row37_col1,#T_51df7_row38_col0,#T_51df7_row38_col1,#T_51df7_row39_col0,#T_51df7_row39_col1,#T_51df7_row40_col0,#T_51df7_row40_col1,#T_51df7_row41_col0,#T_51df7_row41_col1,#T_51df7_row42_col0,#T_51df7_row42_col1,#T_51df7_row43_col0,#T_51df7_row43_col1{\n",
       "            background-color:  #3b4cc0;\n",
       "            color:  #f1f1f1;\n",
       "        }</style><table id=\"T_51df7_\" ><thead>    <tr>        <th class=\"blank level0\" ></th>        <th class=\"col_heading level0 col0\" >percent_na</th>        <th class=\"col_heading level0 col1\" >count_na</th>    </tr></thead><tbody>\n",
       "                <tr>\n",
       "                        <th id=\"T_51df7_level0_row0\" class=\"row_heading level0 row0\" >rougher.state.floatbank10_e_air</th>\n",
       "                        <td id=\"T_51df7_row0_col0\" class=\"data row0 col0\" >3.080000</td>\n",
       "                        <td id=\"T_51df7_row0_col1\" class=\"data row0 col1\" >436.000000</td>\n",
       "            </tr>\n",
       "            <tr>\n",
       "                        <th id=\"T_51df7_level0_row1\" class=\"row_heading level0 row1\" >rougher.input.floatbank11_xanthate</th>\n",
       "                        <td id=\"T_51df7_row1_col0\" class=\"data row1 col0\" >3.020000</td>\n",
       "                        <td id=\"T_51df7_row1_col1\" class=\"data row1 col1\" >428.000000</td>\n",
       "            </tr>\n",
       "            <tr>\n",
       "                        <th id=\"T_51df7_level0_row2\" class=\"row_heading level0 row2\" >secondary_cleaner.state.floatbank2_a_air</th>\n",
       "                        <td id=\"T_51df7_row2_col0\" class=\"data row2 col0\" >1.530000</td>\n",
       "                        <td id=\"T_51df7_row2_col1\" class=\"data row2 col1\" >217.000000</td>\n",
       "            </tr>\n",
       "            <tr>\n",
       "                        <th id=\"T_51df7_level0_row3\" class=\"row_heading level0 row3\" >rougher.input.feed_size</th>\n",
       "                        <td id=\"T_51df7_row3_col0\" class=\"data row3 col0\" >1.020000</td>\n",
       "                        <td id=\"T_51df7_row3_col1\" class=\"data row3 col1\" >144.000000</td>\n",
       "            </tr>\n",
       "            <tr>\n",
       "                        <th id=\"T_51df7_level0_row4\" class=\"row_heading level0 row4\" >rougher.input.feed_pb</th>\n",
       "                        <td id=\"T_51df7_row4_col0\" class=\"data row4 col0\" >0.710000</td>\n",
       "                        <td id=\"T_51df7_row4_col1\" class=\"data row4 col1\" >100.000000</td>\n",
       "            </tr>\n",
       "            <tr>\n",
       "                        <th id=\"T_51df7_level0_row5\" class=\"row_heading level0 row5\" >primary_cleaner.input.xanthate</th>\n",
       "                        <td id=\"T_51df7_row5_col0\" class=\"data row5 col0\" >0.710000</td>\n",
       "                        <td id=\"T_51df7_row5_col1\" class=\"data row5 col1\" >100.000000</td>\n",
       "            </tr>\n",
       "            <tr>\n",
       "                        <th id=\"T_51df7_level0_row6\" class=\"row_heading level0 row6\" >rougher.input.feed_sol</th>\n",
       "                        <td id=\"T_51df7_row6_col0\" class=\"data row6 col0\" >0.550000</td>\n",
       "                        <td id=\"T_51df7_row6_col1\" class=\"data row6 col1\" >78.000000</td>\n",
       "            </tr>\n",
       "            <tr>\n",
       "                        <th id=\"T_51df7_level0_row7\" class=\"row_heading level0 row7\" >rougher.input.floatbank11_sulfate</th>\n",
       "                        <td id=\"T_51df7_row7_col0\" class=\"data row7 col0\" >0.250000</td>\n",
       "                        <td id=\"T_51df7_row7_col1\" class=\"data row7 col1\" >36.000000</td>\n",
       "            </tr>\n",
       "            <tr>\n",
       "                        <th id=\"T_51df7_level0_row8\" class=\"row_heading level0 row8\" >primary_cleaner.input.depressant</th>\n",
       "                        <td id=\"T_51df7_row8_col0\" class=\"data row8 col0\" >0.230000</td>\n",
       "                        <td id=\"T_51df7_row8_col1\" class=\"data row8 col1\" >32.000000</td>\n",
       "            </tr>\n",
       "            <tr>\n",
       "                        <th id=\"T_51df7_level0_row9\" class=\"row_heading level0 row9\" >rougher.input.floatbank10_sulfate</th>\n",
       "                        <td id=\"T_51df7_row9_col0\" class=\"data row9 col0\" >0.200000</td>\n",
       "                        <td id=\"T_51df7_row9_col1\" class=\"data row9 col1\" >29.000000</td>\n",
       "            </tr>\n",
       "            <tr>\n",
       "                        <th id=\"T_51df7_level0_row10\" class=\"row_heading level0 row10\" >secondary_cleaner.state.floatbank2_b_air</th>\n",
       "                        <td id=\"T_51df7_row10_col0\" class=\"data row10 col0\" >0.150000</td>\n",
       "                        <td id=\"T_51df7_row10_col1\" class=\"data row10 col1\" >21.000000</td>\n",
       "            </tr>\n",
       "            <tr>\n",
       "                        <th id=\"T_51df7_level0_row11\" class=\"row_heading level0 row11\" >primary_cleaner.input.sulfate</th>\n",
       "                        <td id=\"T_51df7_row11_col0\" class=\"data row11 col0\" >0.140000</td>\n",
       "                        <td id=\"T_51df7_row11_col1\" class=\"data row11 col1\" >20.000000</td>\n",
       "            </tr>\n",
       "            <tr>\n",
       "                        <th id=\"T_51df7_level0_row12\" class=\"row_heading level0 row12\" >rougher.input.feed_rate</th>\n",
       "                        <td id=\"T_51df7_row12_col0\" class=\"data row12 col0\" >0.060000</td>\n",
       "                        <td id=\"T_51df7_row12_col1\" class=\"data row12 col1\" >8.000000</td>\n",
       "            </tr>\n",
       "            <tr>\n",
       "                        <th id=\"T_51df7_level0_row13\" class=\"row_heading level0 row13\" >rougher.input.floatbank10_xanthate</th>\n",
       "                        <td id=\"T_51df7_row13_col0\" class=\"data row13 col0\" >0.060000</td>\n",
       "                        <td id=\"T_51df7_row13_col1\" class=\"data row13 col1\" >8.000000</td>\n",
       "            </tr>\n",
       "            <tr>\n",
       "                        <th id=\"T_51df7_level0_row14\" class=\"row_heading level0 row14\" >secondary_cleaner.state.floatbank4_a_air</th>\n",
       "                        <td id=\"T_51df7_row14_col0\" class=\"data row14 col0\" >0.040000</td>\n",
       "                        <td id=\"T_51df7_row14_col1\" class=\"data row14 col1\" >6.000000</td>\n",
       "            </tr>\n",
       "            <tr>\n",
       "                        <th id=\"T_51df7_level0_row15\" class=\"row_heading level0 row15\" >primary_cleaner.state.floatbank8_b_air</th>\n",
       "                        <td id=\"T_51df7_row15_col0\" class=\"data row15 col0\" >0.030000</td>\n",
       "                        <td id=\"T_51df7_row15_col1\" class=\"data row15 col1\" >4.000000</td>\n",
       "            </tr>\n",
       "            <tr>\n",
       "                        <th id=\"T_51df7_level0_row16\" class=\"row_heading level0 row16\" >primary_cleaner.state.floatbank8_a_air</th>\n",
       "                        <td id=\"T_51df7_row16_col0\" class=\"data row16 col0\" >0.030000</td>\n",
       "                        <td id=\"T_51df7_row16_col1\" class=\"data row16 col1\" >4.000000</td>\n",
       "            </tr>\n",
       "            <tr>\n",
       "                        <th id=\"T_51df7_level0_row17\" class=\"row_heading level0 row17\" >secondary_cleaner.state.floatbank3_a_air</th>\n",
       "                        <td id=\"T_51df7_row17_col0\" class=\"data row17 col0\" >0.030000</td>\n",
       "                        <td id=\"T_51df7_row17_col1\" class=\"data row17 col1\" >4.000000</td>\n",
       "            </tr>\n",
       "            <tr>\n",
       "                        <th id=\"T_51df7_level0_row18\" class=\"row_heading level0 row18\" >primary_cleaner.state.floatbank8_d_air</th>\n",
       "                        <td id=\"T_51df7_row18_col0\" class=\"data row18 col0\" >0.020000</td>\n",
       "                        <td id=\"T_51df7_row18_col1\" class=\"data row18 col1\" >3.000000</td>\n",
       "            </tr>\n",
       "            <tr>\n",
       "                        <th id=\"T_51df7_level0_row19\" class=\"row_heading level0 row19\" >primary_cleaner.state.floatbank8_c_air</th>\n",
       "                        <td id=\"T_51df7_row19_col0\" class=\"data row19 col0\" >0.010000</td>\n",
       "                        <td id=\"T_51df7_row19_col1\" class=\"data row19 col1\" >2.000000</td>\n",
       "            </tr>\n",
       "            <tr>\n",
       "                        <th id=\"T_51df7_level0_row20\" class=\"row_heading level0 row20\" >secondary_cleaner.state.floatbank6_a_air</th>\n",
       "                        <td id=\"T_51df7_row20_col0\" class=\"data row20 col0\" >0.010000</td>\n",
       "                        <td id=\"T_51df7_row20_col1\" class=\"data row20 col1\" >2.000000</td>\n",
       "            </tr>\n",
       "            <tr>\n",
       "                        <th id=\"T_51df7_level0_row21\" class=\"row_heading level0 row21\" >secondary_cleaner.state.floatbank5_b_air</th>\n",
       "                        <td id=\"T_51df7_row21_col0\" class=\"data row21 col0\" >0.010000</td>\n",
       "                        <td id=\"T_51df7_row21_col1\" class=\"data row21 col1\" >1.000000</td>\n",
       "            </tr>\n",
       "            <tr>\n",
       "                        <th id=\"T_51df7_level0_row22\" class=\"row_heading level0 row22\" >secondary_cleaner.state.floatbank4_b_air</th>\n",
       "                        <td id=\"T_51df7_row22_col0\" class=\"data row22 col0\" >0.010000</td>\n",
       "                        <td id=\"T_51df7_row22_col1\" class=\"data row22 col1\" >1.000000</td>\n",
       "            </tr>\n",
       "            <tr>\n",
       "                        <th id=\"T_51df7_level0_row23\" class=\"row_heading level0 row23\" >primary_cleaner.state.floatbank8_b_level</th>\n",
       "                        <td id=\"T_51df7_row23_col0\" class=\"data row23 col0\" >0.010000</td>\n",
       "                        <td id=\"T_51df7_row23_col1\" class=\"data row23 col1\" >1.000000</td>\n",
       "            </tr>\n",
       "            <tr>\n",
       "                        <th id=\"T_51df7_level0_row24\" class=\"row_heading level0 row24\" >secondary_cleaner.state.floatbank3_a_level</th>\n",
       "                        <td id=\"T_51df7_row24_col0\" class=\"data row24 col0\" >0.010000</td>\n",
       "                        <td id=\"T_51df7_row24_col1\" class=\"data row24 col1\" >1.000000</td>\n",
       "            </tr>\n",
       "            <tr>\n",
       "                        <th id=\"T_51df7_level0_row25\" class=\"row_heading level0 row25\" >secondary_cleaner.state.floatbank2_b_level</th>\n",
       "                        <td id=\"T_51df7_row25_col0\" class=\"data row25 col0\" >0.010000</td>\n",
       "                        <td id=\"T_51df7_row25_col1\" class=\"data row25 col1\" >1.000000</td>\n",
       "            </tr>\n",
       "            <tr>\n",
       "                        <th id=\"T_51df7_level0_row26\" class=\"row_heading level0 row26\" >secondary_cleaner.state.floatbank5_a_level</th>\n",
       "                        <td id=\"T_51df7_row26_col0\" class=\"data row26 col0\" >0.010000</td>\n",
       "                        <td id=\"T_51df7_row26_col1\" class=\"data row26 col1\" >1.000000</td>\n",
       "            </tr>\n",
       "            <tr>\n",
       "                        <th id=\"T_51df7_level0_row27\" class=\"row_heading level0 row27\" >rougher.state.floatbank10_c_air</th>\n",
       "                        <td id=\"T_51df7_row27_col0\" class=\"data row27 col0\" >0.010000</td>\n",
       "                        <td id=\"T_51df7_row27_col1\" class=\"data row27 col1\" >1.000000</td>\n",
       "            </tr>\n",
       "            <tr>\n",
       "                        <th id=\"T_51df7_level0_row28\" class=\"row_heading level0 row28\" >secondary_cleaner.state.floatbank6_a_level</th>\n",
       "                        <td id=\"T_51df7_row28_col0\" class=\"data row28 col0\" >0.010000</td>\n",
       "                        <td id=\"T_51df7_row28_col1\" class=\"data row28 col1\" >1.000000</td>\n",
       "            </tr>\n",
       "            <tr>\n",
       "                        <th id=\"T_51df7_level0_row29\" class=\"row_heading level0 row29\" >secondary_cleaner.state.floatbank3_b_level</th>\n",
       "                        <td id=\"T_51df7_row29_col0\" class=\"data row29 col0\" >0.010000</td>\n",
       "                        <td id=\"T_51df7_row29_col1\" class=\"data row29 col1\" >1.000000</td>\n",
       "            </tr>\n",
       "            <tr>\n",
       "                        <th id=\"T_51df7_level0_row30\" class=\"row_heading level0 row30\" >rougher.state.floatbank10_a_air</th>\n",
       "                        <td id=\"T_51df7_row30_col0\" class=\"data row30 col0\" >0.010000</td>\n",
       "                        <td id=\"T_51df7_row30_col1\" class=\"data row30 col1\" >1.000000</td>\n",
       "            </tr>\n",
       "            <tr>\n",
       "                        <th id=\"T_51df7_level0_row31\" class=\"row_heading level0 row31\" >secondary_cleaner.state.floatbank4_b_level</th>\n",
       "                        <td id=\"T_51df7_row31_col0\" class=\"data row31 col0\" >0.010000</td>\n",
       "                        <td id=\"T_51df7_row31_col1\" class=\"data row31 col1\" >1.000000</td>\n",
       "            </tr>\n",
       "            <tr>\n",
       "                        <th id=\"T_51df7_level0_row32\" class=\"row_heading level0 row32\" >rougher.state.floatbank10_a_level</th>\n",
       "                        <td id=\"T_51df7_row32_col0\" class=\"data row32 col0\" >0.010000</td>\n",
       "                        <td id=\"T_51df7_row32_col1\" class=\"data row32 col1\" >1.000000</td>\n",
       "            </tr>\n",
       "            <tr>\n",
       "                        <th id=\"T_51df7_level0_row33\" class=\"row_heading level0 row33\" >primary_cleaner.state.floatbank8_a_level</th>\n",
       "                        <td id=\"T_51df7_row33_col0\" class=\"data row33 col0\" >0.010000</td>\n",
       "                        <td id=\"T_51df7_row33_col1\" class=\"data row33 col1\" >1.000000</td>\n",
       "            </tr>\n",
       "            <tr>\n",
       "                        <th id=\"T_51df7_level0_row34\" class=\"row_heading level0 row34\" >secondary_cleaner.state.floatbank5_a_air</th>\n",
       "                        <td id=\"T_51df7_row34_col0\" class=\"data row34 col0\" >0.010000</td>\n",
       "                        <td id=\"T_51df7_row34_col1\" class=\"data row34 col1\" >1.000000</td>\n",
       "            </tr>\n",
       "            <tr>\n",
       "                        <th id=\"T_51df7_level0_row35\" class=\"row_heading level0 row35\" >secondary_cleaner.state.floatbank2_a_level</th>\n",
       "                        <td id=\"T_51df7_row35_col0\" class=\"data row35 col0\" >0.010000</td>\n",
       "                        <td id=\"T_51df7_row35_col1\" class=\"data row35 col1\" >1.000000</td>\n",
       "            </tr>\n",
       "            <tr>\n",
       "                        <th id=\"T_51df7_level0_row36\" class=\"row_heading level0 row36\" >rougher.state.floatbank10_b_air</th>\n",
       "                        <td id=\"T_51df7_row36_col0\" class=\"data row36 col0\" >0.010000</td>\n",
       "                        <td id=\"T_51df7_row36_col1\" class=\"data row36 col1\" >1.000000</td>\n",
       "            </tr>\n",
       "            <tr>\n",
       "                        <th id=\"T_51df7_level0_row37\" class=\"row_heading level0 row37\" >rougher.state.floatbank10_c_level</th>\n",
       "                        <td id=\"T_51df7_row37_col0\" class=\"data row37 col0\" >0.010000</td>\n",
       "                        <td id=\"T_51df7_row37_col1\" class=\"data row37 col1\" >1.000000</td>\n",
       "            </tr>\n",
       "            <tr>\n",
       "                        <th id=\"T_51df7_level0_row38\" class=\"row_heading level0 row38\" >rougher.state.floatbank10_b_level</th>\n",
       "                        <td id=\"T_51df7_row38_col0\" class=\"data row38 col0\" >0.010000</td>\n",
       "                        <td id=\"T_51df7_row38_col1\" class=\"data row38 col1\" >1.000000</td>\n",
       "            </tr>\n",
       "            <tr>\n",
       "                        <th id=\"T_51df7_level0_row39\" class=\"row_heading level0 row39\" >primary_cleaner.state.floatbank8_c_level</th>\n",
       "                        <td id=\"T_51df7_row39_col0\" class=\"data row39 col0\" >0.010000</td>\n",
       "                        <td id=\"T_51df7_row39_col1\" class=\"data row39 col1\" >1.000000</td>\n",
       "            </tr>\n",
       "            <tr>\n",
       "                        <th id=\"T_51df7_level0_row40\" class=\"row_heading level0 row40\" >secondary_cleaner.state.floatbank5_b_level</th>\n",
       "                        <td id=\"T_51df7_row40_col0\" class=\"data row40 col0\" >0.010000</td>\n",
       "                        <td id=\"T_51df7_row40_col1\" class=\"data row40 col1\" >1.000000</td>\n",
       "            </tr>\n",
       "            <tr>\n",
       "                        <th id=\"T_51df7_level0_row41\" class=\"row_heading level0 row41\" >secondary_cleaner.state.floatbank3_b_air</th>\n",
       "                        <td id=\"T_51df7_row41_col0\" class=\"data row41 col0\" >0.010000</td>\n",
       "                        <td id=\"T_51df7_row41_col1\" class=\"data row41 col1\" >1.000000</td>\n",
       "            </tr>\n",
       "            <tr>\n",
       "                        <th id=\"T_51df7_level0_row42\" class=\"row_heading level0 row42\" >secondary_cleaner.state.floatbank4_a_level</th>\n",
       "                        <td id=\"T_51df7_row42_col0\" class=\"data row42 col0\" >0.010000</td>\n",
       "                        <td id=\"T_51df7_row42_col1\" class=\"data row42 col1\" >1.000000</td>\n",
       "            </tr>\n",
       "            <tr>\n",
       "                        <th id=\"T_51df7_level0_row43\" class=\"row_heading level0 row43\" >primary_cleaner.state.floatbank8_d_level</th>\n",
       "                        <td id=\"T_51df7_row43_col0\" class=\"data row43 col0\" >0.010000</td>\n",
       "                        <td id=\"T_51df7_row43_col1\" class=\"data row43 col1\" >1.000000</td>\n",
       "            </tr>\n",
       "    </tbody></table>"
      ],
      "text/plain": [
       "<pandas.io.formats.style.Styler at 0x7efdec190580>"
      ]
     },
     "execution_count": 21,
     "metadata": {},
     "output_type": "execute_result"
    }
   ],
   "source": [
    "show_missing(recovery_train[feature_columns])"
   ]
  },
  {
   "cell_type": "markdown",
   "metadata": {},
   "source": [
    "<div style=\"border:solid gray 2.0px; padding: 10px\"> \n",
    "    \n",
    "    В тренировочных данных признаки rougher.state.floatbank10_e_air и rougher.input.floatbank11_xanthate имеют по 3.08% и 3.02%  пропусков. \n",
    "    В тестовых данных в этих признаках 0 и 0.47% пропусков.\n",
    "    С учетом кодичества данных в тестовой и тренировочной выборках, очень маловероятно, что такое разделение могло пройти случайно\n",
    "    \n",
    "    Посмотрим, распределение гранул сырья в обоих выборках\n",
    "\n",
    "</div>"
   ]
  },
  {
   "cell_type": "code",
   "execution_count": null,
   "metadata": {},
   "outputs": [],
   "source": []
  },
  {
   "cell_type": "code",
   "execution_count": 22,
   "metadata": {},
   "outputs": [
    {
     "data": {
      "image/png": "[encoded data removed]",
      "text/plain": [
       "<Figure size 1008x576 with 1 Axes>"
      ]
     },
     "metadata": {
      "needs_background": "light"
     },
     "output_type": "display_data"
    }
   ],
   "source": [
    "data_train = recovery_train.loc[recovery_train['rougher.input.feed_size'].notnull()]\n",
    "data_test = recovery_test.loc[recovery_test['rougher.input.feed_size'].notnull()]\n",
    "\n",
    "plt.subplots(figsize = (14,8))\n",
    "sns.distplot(data_train['rougher.input.feed_size'], color=\"skyblue\", label=\"train\", kde=True)\n",
    "sns.distplot(data_test['rougher.input.feed_size'] , color=\"red\"    , label=\"test\", kde=True)\n",
    "\n",
    "plt.legend()\n",
    "plt.title('Гистограмма размеров гранул сырья по выборкам', fontsize = 15)\n",
    "plt.xlabel(\"Размер гранул\", fontsize = 12);\n"
   ]
  },
  {
   "cell_type": "code",
   "execution_count": 23,
   "metadata": {},
   "outputs": [
    {
     "data": {
      "text/plain": [
       "count    14005.000000\n",
       "mean        60.110518\n",
       "std         22.418485\n",
       "min          9.659576\n",
       "25%         48.973027\n",
       "50%         55.373885\n",
       "75%         66.080172\n",
       "max        484.967466\n",
       "Name: rougher.input.feed_size, dtype: float64"
      ]
     },
     "execution_count": 23,
     "metadata": {},
     "output_type": "execute_result"
    }
   ],
   "source": [
    "recovery_train['rougher.input.feed_size'].describe()"
   ]
  },
  {
   "cell_type": "code",
   "execution_count": 24,
   "metadata": {},
   "outputs": [
    {
     "data": {
      "text/plain": [
       "count    5289.000000\n",
       "mean       55.951097\n",
       "std        19.081758\n",
       "min         0.046369\n",
       "25%        43.906347\n",
       "50%        50.841029\n",
       "75%        62.431047\n",
       "max       392.494040\n",
       "Name: rougher.input.feed_size, dtype: float64"
      ]
     },
     "execution_count": 24,
     "metadata": {},
     "output_type": "execute_result"
    }
   ],
   "source": [
    "recovery_test['rougher.input.feed_size'].describe()"
   ]
  },
  {
   "cell_type": "markdown",
   "metadata": {},
   "source": [
    "<div style=\"border:solid gray 2.0px; padding: 10px\"> \n",
    "    \n",
    "    Распределения похожи, но не так сильно, как хотелось бы.\n",
    "\n",
    "</div>"
   ]
  },
  {
   "cell_type": "code",
   "execution_count": 25,
   "metadata": {},
   "outputs": [
    {
     "data": {
      "text/plain": [
       "0.2721333401923967"
      ]
     },
     "execution_count": 25,
     "metadata": {},
     "output_type": "execute_result"
    }
   ],
   "source": [
    "test_size = recovery_test.shape[0] / recovery_full.shape[0]\n",
    "test_size"
   ]
  },
  {
   "cell_type": "code",
   "execution_count": null,
   "metadata": {},
   "outputs": [],
   "source": []
  },
  {
   "cell_type": "markdown",
   "metadata": {},
   "source": [
    "#### Работа с пропусками"
   ]
  },
  {
   "cell_type": "code",
   "execution_count": 26,
   "metadata": {},
   "outputs": [
    {
     "data": {
      "text/html": [
       "<style  type=\"text/css\" >\n",
       "#T_f8195_row0_col0,#T_f8195_row0_col1{\n",
       "            background-color:  #b40426;\n",
       "            color:  #f1f1f1;\n",
       "        }#T_f8195_row1_col0,#T_f8195_row1_col1{\n",
       "            background-color:  #c12b30;\n",
       "            color:  #f1f1f1;\n",
       "        }#T_f8195_row2_col0{\n",
       "            background-color:  #d8dce2;\n",
       "            color:  #000000;\n",
       "        }#T_f8195_row2_col1{\n",
       "            background-color:  #d9dce1;\n",
       "            color:  #000000;\n",
       "        }#T_f8195_row3_col0,#T_f8195_row3_col1{\n",
       "            background-color:  #a5c3fe;\n",
       "            color:  #000000;\n",
       "        }#T_f8195_row4_col0,#T_f8195_row4_col1{\n",
       "            background-color:  #85a8fc;\n",
       "            color:  #000000;\n",
       "        }#T_f8195_row5_col0,#T_f8195_row6_col0,#T_f8195_row6_col1{\n",
       "            background-color:  #81a4fb;\n",
       "            color:  #000000;\n",
       "        }#T_f8195_row5_col1{\n",
       "            background-color:  #82a6fb;\n",
       "            color:  #000000;\n",
       "        }#T_f8195_row7_col0,#T_f8195_row7_col1{\n",
       "            background-color:  #5875e1;\n",
       "            color:  #000000;\n",
       "        }#T_f8195_row8_col0{\n",
       "            background-color:  #516ddb;\n",
       "            color:  #000000;\n",
       "        }#T_f8195_row8_col1{\n",
       "            background-color:  #536edd;\n",
       "            color:  #000000;\n",
       "        }#T_f8195_row9_col0{\n",
       "            background-color:  #4f69d9;\n",
       "            color:  #000000;\n",
       "        }#T_f8195_row9_col1{\n",
       "            background-color:  #506bda;\n",
       "            color:  #000000;\n",
       "        }#T_f8195_row10_col0,#T_f8195_row11_col0,#T_f8195_row11_col1{\n",
       "            background-color:  #4961d2;\n",
       "            color:  #f1f1f1;\n",
       "        }#T_f8195_row10_col1{\n",
       "            background-color:  #4a63d3;\n",
       "            color:  #f1f1f1;\n",
       "        }#T_f8195_row12_col0,#T_f8195_row12_col1{\n",
       "            background-color:  #4257c9;\n",
       "            color:  #f1f1f1;\n",
       "        }#T_f8195_row13_col0,#T_f8195_row13_col1{\n",
       "            background-color:  #4055c8;\n",
       "            color:  #f1f1f1;\n",
       "        }#T_f8195_row14_col0,#T_f8195_row14_col1{\n",
       "            background-color:  #3e51c5;\n",
       "            color:  #f1f1f1;\n",
       "        }#T_f8195_row15_col0,#T_f8195_row15_col1{\n",
       "            background-color:  #3d50c3;\n",
       "            color:  #f1f1f1;\n",
       "        }#T_f8195_row16_col0,#T_f8195_row16_col1,#T_f8195_row17_col0,#T_f8195_row17_col1,#T_f8195_row18_col0,#T_f8195_row18_col1{\n",
       "            background-color:  #3c4ec2;\n",
       "            color:  #f1f1f1;\n",
       "        }#T_f8195_row19_col0,#T_f8195_row19_col1,#T_f8195_row20_col0,#T_f8195_row20_col1,#T_f8195_row21_col0,#T_f8195_row21_col1,#T_f8195_row22_col0,#T_f8195_row22_col1,#T_f8195_row23_col0,#T_f8195_row23_col1,#T_f8195_row24_col0,#T_f8195_row24_col1,#T_f8195_row25_col0,#T_f8195_row25_col1,#T_f8195_row26_col0,#T_f8195_row26_col1,#T_f8195_row27_col0,#T_f8195_row27_col1,#T_f8195_row28_col0,#T_f8195_row28_col1,#T_f8195_row29_col0,#T_f8195_row29_col1,#T_f8195_row30_col0,#T_f8195_row30_col1,#T_f8195_row31_col0,#T_f8195_row31_col1,#T_f8195_row32_col0,#T_f8195_row32_col1,#T_f8195_row33_col0,#T_f8195_row33_col1,#T_f8195_row34_col0,#T_f8195_row34_col1,#T_f8195_row35_col0,#T_f8195_row35_col1,#T_f8195_row36_col0,#T_f8195_row36_col1,#T_f8195_row37_col0,#T_f8195_row37_col1,#T_f8195_row38_col0,#T_f8195_row38_col1,#T_f8195_row39_col0,#T_f8195_row39_col1,#T_f8195_row40_col0,#T_f8195_row40_col1,#T_f8195_row41_col0,#T_f8195_row41_col1,#T_f8195_row42_col0,#T_f8195_row42_col1,#T_f8195_row43_col0,#T_f8195_row43_col1{\n",
       "            background-color:  #3b4cc0;\n",
       "            color:  #f1f1f1;\n",
       "        }</style><table id=\"T_f8195_\" ><thead>    <tr>        <th class=\"blank level0\" ></th>        <th class=\"col_heading level0 col0\" >percent_na</th>        <th class=\"col_heading level0 col1\" >count_na</th>    </tr></thead><tbody>\n",
       "                <tr>\n",
       "                        <th id=\"T_f8195_level0_row0\" class=\"row_heading level0 row0\" >rougher.input.floatbank11_xanthate</th>\n",
       "                        <td id=\"T_f8195_row0_col0\" class=\"data row0 col0\" >2.330000</td>\n",
       "                        <td id=\"T_f8195_row0_col1\" class=\"data row0 col1\" >453.000000</td>\n",
       "            </tr>\n",
       "            <tr>\n",
       "                        <th id=\"T_f8195_level0_row1\" class=\"row_heading level0 row1\" >rougher.state.floatbank10_e_air</th>\n",
       "                        <td id=\"T_f8195_row1_col0\" class=\"data row1 col0\" >2.240000</td>\n",
       "                        <td id=\"T_f8195_row1_col1\" class=\"data row1 col1\" >436.000000</td>\n",
       "            </tr>\n",
       "            <tr>\n",
       "                        <th id=\"T_f8195_level0_row2\" class=\"row_heading level0 row2\" >secondary_cleaner.state.floatbank2_a_air</th>\n",
       "                        <td id=\"T_f8195_row2_col0\" class=\"data row2 col0\" >1.130000</td>\n",
       "                        <td id=\"T_f8195_row2_col1\" class=\"data row2 col1\" >220.000000</td>\n",
       "            </tr>\n",
       "            <tr>\n",
       "                        <th id=\"T_f8195_level0_row3\" class=\"row_heading level0 row3\" >rougher.input.feed_size</th>\n",
       "                        <td id=\"T_f8195_row3_col0\" class=\"data row3 col0\" >0.750000</td>\n",
       "                        <td id=\"T_f8195_row3_col1\" class=\"data row3 col1\" >145.000000</td>\n",
       "            </tr>\n",
       "            <tr>\n",
       "                        <th id=\"T_f8195_level0_row4\" class=\"row_heading level0 row4\" >primary_cleaner.input.xanthate</th>\n",
       "                        <td id=\"T_f8195_row4_col0\" class=\"data row4 col0\" >0.540000</td>\n",
       "                        <td id=\"T_f8195_row4_col1\" class=\"data row4 col1\" >104.000000</td>\n",
       "            </tr>\n",
       "            <tr>\n",
       "                        <th id=\"T_f8195_level0_row5\" class=\"row_heading level0 row5\" >rougher.input.feed_pb</th>\n",
       "                        <td id=\"T_f8195_row5_col0\" class=\"data row5 col0\" >0.510000</td>\n",
       "                        <td id=\"T_f8195_row5_col1\" class=\"data row5 col1\" >100.000000</td>\n",
       "            </tr>\n",
       "            <tr>\n",
       "                        <th id=\"T_f8195_level0_row6\" class=\"row_heading level0 row6\" >rougher.input.feed_sol</th>\n",
       "                        <td id=\"T_f8195_row6_col0\" class=\"data row6 col0\" >0.510000</td>\n",
       "                        <td id=\"T_f8195_row6_col1\" class=\"data row6 col1\" >99.000000</td>\n",
       "            </tr>\n",
       "            <tr>\n",
       "                        <th id=\"T_f8195_level0_row7\" class=\"row_heading level0 row7\" >rougher.input.floatbank11_sulfate</th>\n",
       "                        <td id=\"T_f8195_row7_col0\" class=\"data row7 col0\" >0.230000</td>\n",
       "                        <td id=\"T_f8195_row7_col1\" class=\"data row7 col1\" >44.000000</td>\n",
       "            </tr>\n",
       "            <tr>\n",
       "                        <th id=\"T_f8195_level0_row8\" class=\"row_heading level0 row8\" >primary_cleaner.input.depressant</th>\n",
       "                        <td id=\"T_f8195_row8_col0\" class=\"data row8 col0\" >0.190000</td>\n",
       "                        <td id=\"T_f8195_row8_col1\" class=\"data row8 col1\" >37.000000</td>\n",
       "            </tr>\n",
       "            <tr>\n",
       "                        <th id=\"T_f8195_level0_row9\" class=\"row_heading level0 row9\" >rougher.input.floatbank10_sulfate</th>\n",
       "                        <td id=\"T_f8195_row9_col0\" class=\"data row9 col0\" >0.170000</td>\n",
       "                        <td id=\"T_f8195_row9_col1\" class=\"data row9 col1\" >34.000000</td>\n",
       "            </tr>\n",
       "            <tr>\n",
       "                        <th id=\"T_f8195_level0_row10\" class=\"row_heading level0 row10\" >primary_cleaner.input.sulfate</th>\n",
       "                        <td id=\"T_f8195_row10_col0\" class=\"data row10 col0\" >0.120000</td>\n",
       "                        <td id=\"T_f8195_row10_col1\" class=\"data row10 col1\" >24.000000</td>\n",
       "            </tr>\n",
       "            <tr>\n",
       "                        <th id=\"T_f8195_level0_row11\" class=\"row_heading level0 row11\" >secondary_cleaner.state.floatbank2_b_air</th>\n",
       "                        <td id=\"T_f8195_row11_col0\" class=\"data row11 col0\" >0.120000</td>\n",
       "                        <td id=\"T_f8195_row11_col1\" class=\"data row11 col1\" >23.000000</td>\n",
       "            </tr>\n",
       "            <tr>\n",
       "                        <th id=\"T_f8195_level0_row12\" class=\"row_heading level0 row12\" >secondary_cleaner.state.floatbank3_a_air</th>\n",
       "                        <td id=\"T_f8195_row12_col0\" class=\"data row12 col0\" >0.070000</td>\n",
       "                        <td id=\"T_f8195_row12_col1\" class=\"data row12 col1\" >13.000000</td>\n",
       "            </tr>\n",
       "            <tr>\n",
       "                        <th id=\"T_f8195_level0_row13\" class=\"row_heading level0 row13\" >rougher.input.feed_rate</th>\n",
       "                        <td id=\"T_f8195_row13_col0\" class=\"data row13 col0\" >0.060000</td>\n",
       "                        <td id=\"T_f8195_row13_col1\" class=\"data row13 col1\" >11.000000</td>\n",
       "            </tr>\n",
       "            <tr>\n",
       "                        <th id=\"T_f8195_level0_row14\" class=\"row_heading level0 row14\" >rougher.input.floatbank10_xanthate</th>\n",
       "                        <td id=\"T_f8195_row14_col0\" class=\"data row14 col0\" >0.040000</td>\n",
       "                        <td id=\"T_f8195_row14_col1\" class=\"data row14 col1\" >8.000000</td>\n",
       "            </tr>\n",
       "            <tr>\n",
       "                        <th id=\"T_f8195_level0_row15\" class=\"row_heading level0 row15\" >secondary_cleaner.state.floatbank4_a_air</th>\n",
       "                        <td id=\"T_f8195_row15_col0\" class=\"data row15 col0\" >0.030000</td>\n",
       "                        <td id=\"T_f8195_row15_col1\" class=\"data row15 col1\" >6.000000</td>\n",
       "            </tr>\n",
       "            <tr>\n",
       "                        <th id=\"T_f8195_level0_row16\" class=\"row_heading level0 row16\" >primary_cleaner.state.floatbank8_b_air</th>\n",
       "                        <td id=\"T_f8195_row16_col0\" class=\"data row16 col0\" >0.020000</td>\n",
       "                        <td id=\"T_f8195_row16_col1\" class=\"data row16 col1\" >4.000000</td>\n",
       "            </tr>\n",
       "            <tr>\n",
       "                        <th id=\"T_f8195_level0_row17\" class=\"row_heading level0 row17\" >primary_cleaner.state.floatbank8_a_air</th>\n",
       "                        <td id=\"T_f8195_row17_col0\" class=\"data row17 col0\" >0.020000</td>\n",
       "                        <td id=\"T_f8195_row17_col1\" class=\"data row17 col1\" >4.000000</td>\n",
       "            </tr>\n",
       "            <tr>\n",
       "                        <th id=\"T_f8195_level0_row18\" class=\"row_heading level0 row18\" >primary_cleaner.state.floatbank8_d_air</th>\n",
       "                        <td id=\"T_f8195_row18_col0\" class=\"data row18 col0\" >0.020000</td>\n",
       "                        <td id=\"T_f8195_row18_col1\" class=\"data row18 col1\" >3.000000</td>\n",
       "            </tr>\n",
       "            <tr>\n",
       "                        <th id=\"T_f8195_level0_row19\" class=\"row_heading level0 row19\" >primary_cleaner.state.floatbank8_c_air</th>\n",
       "                        <td id=\"T_f8195_row19_col0\" class=\"data row19 col0\" >0.010000</td>\n",
       "                        <td id=\"T_f8195_row19_col1\" class=\"data row19 col1\" >2.000000</td>\n",
       "            </tr>\n",
       "            <tr>\n",
       "                        <th id=\"T_f8195_level0_row20\" class=\"row_heading level0 row20\" >secondary_cleaner.state.floatbank6_a_air</th>\n",
       "                        <td id=\"T_f8195_row20_col0\" class=\"data row20 col0\" >0.010000</td>\n",
       "                        <td id=\"T_f8195_row20_col1\" class=\"data row20 col1\" >2.000000</td>\n",
       "            </tr>\n",
       "            <tr>\n",
       "                        <th id=\"T_f8195_level0_row21\" class=\"row_heading level0 row21\" >secondary_cleaner.state.floatbank4_b_air</th>\n",
       "                        <td id=\"T_f8195_row21_col0\" class=\"data row21 col0\" >0.010000</td>\n",
       "                        <td id=\"T_f8195_row21_col1\" class=\"data row21 col1\" >1.000000</td>\n",
       "            </tr>\n",
       "            <tr>\n",
       "                        <th id=\"T_f8195_level0_row22\" class=\"row_heading level0 row22\" >secondary_cleaner.state.floatbank5_b_air</th>\n",
       "                        <td id=\"T_f8195_row22_col0\" class=\"data row22 col0\" >0.010000</td>\n",
       "                        <td id=\"T_f8195_row22_col1\" class=\"data row22 col1\" >1.000000</td>\n",
       "            </tr>\n",
       "            <tr>\n",
       "                        <th id=\"T_f8195_level0_row23\" class=\"row_heading level0 row23\" >secondary_cleaner.state.floatbank3_a_level</th>\n",
       "                        <td id=\"T_f8195_row23_col0\" class=\"data row23 col0\" >0.010000</td>\n",
       "                        <td id=\"T_f8195_row23_col1\" class=\"data row23 col1\" >1.000000</td>\n",
       "            </tr>\n",
       "            <tr>\n",
       "                        <th id=\"T_f8195_level0_row24\" class=\"row_heading level0 row24\" >primary_cleaner.state.floatbank8_b_level</th>\n",
       "                        <td id=\"T_f8195_row24_col0\" class=\"data row24 col0\" >0.010000</td>\n",
       "                        <td id=\"T_f8195_row24_col1\" class=\"data row24 col1\" >1.000000</td>\n",
       "            </tr>\n",
       "            <tr>\n",
       "                        <th id=\"T_f8195_level0_row25\" class=\"row_heading level0 row25\" >secondary_cleaner.state.floatbank2_b_level</th>\n",
       "                        <td id=\"T_f8195_row25_col0\" class=\"data row25 col0\" >0.010000</td>\n",
       "                        <td id=\"T_f8195_row25_col1\" class=\"data row25 col1\" >1.000000</td>\n",
       "            </tr>\n",
       "            <tr>\n",
       "                        <th id=\"T_f8195_level0_row26\" class=\"row_heading level0 row26\" >secondary_cleaner.state.floatbank5_a_level</th>\n",
       "                        <td id=\"T_f8195_row26_col0\" class=\"data row26 col0\" >0.010000</td>\n",
       "                        <td id=\"T_f8195_row26_col1\" class=\"data row26 col1\" >1.000000</td>\n",
       "            </tr>\n",
       "            <tr>\n",
       "                        <th id=\"T_f8195_level0_row27\" class=\"row_heading level0 row27\" >rougher.state.floatbank10_c_air</th>\n",
       "                        <td id=\"T_f8195_row27_col0\" class=\"data row27 col0\" >0.010000</td>\n",
       "                        <td id=\"T_f8195_row27_col1\" class=\"data row27 col1\" >1.000000</td>\n",
       "            </tr>\n",
       "            <tr>\n",
       "                        <th id=\"T_f8195_level0_row28\" class=\"row_heading level0 row28\" >secondary_cleaner.state.floatbank6_a_level</th>\n",
       "                        <td id=\"T_f8195_row28_col0\" class=\"data row28 col0\" >0.010000</td>\n",
       "                        <td id=\"T_f8195_row28_col1\" class=\"data row28 col1\" >1.000000</td>\n",
       "            </tr>\n",
       "            <tr>\n",
       "                        <th id=\"T_f8195_level0_row29\" class=\"row_heading level0 row29\" >secondary_cleaner.state.floatbank3_b_level</th>\n",
       "                        <td id=\"T_f8195_row29_col0\" class=\"data row29 col0\" >0.010000</td>\n",
       "                        <td id=\"T_f8195_row29_col1\" class=\"data row29 col1\" >1.000000</td>\n",
       "            </tr>\n",
       "            <tr>\n",
       "                        <th id=\"T_f8195_level0_row30\" class=\"row_heading level0 row30\" >rougher.state.floatbank10_a_air</th>\n",
       "                        <td id=\"T_f8195_row30_col0\" class=\"data row30 col0\" >0.010000</td>\n",
       "                        <td id=\"T_f8195_row30_col1\" class=\"data row30 col1\" >1.000000</td>\n",
       "            </tr>\n",
       "            <tr>\n",
       "                        <th id=\"T_f8195_level0_row31\" class=\"row_heading level0 row31\" >secondary_cleaner.state.floatbank4_b_level</th>\n",
       "                        <td id=\"T_f8195_row31_col0\" class=\"data row31 col0\" >0.010000</td>\n",
       "                        <td id=\"T_f8195_row31_col1\" class=\"data row31 col1\" >1.000000</td>\n",
       "            </tr>\n",
       "            <tr>\n",
       "                        <th id=\"T_f8195_level0_row32\" class=\"row_heading level0 row32\" >rougher.state.floatbank10_a_level</th>\n",
       "                        <td id=\"T_f8195_row32_col0\" class=\"data row32 col0\" >0.010000</td>\n",
       "                        <td id=\"T_f8195_row32_col1\" class=\"data row32 col1\" >1.000000</td>\n",
       "            </tr>\n",
       "            <tr>\n",
       "                        <th id=\"T_f8195_level0_row33\" class=\"row_heading level0 row33\" >primary_cleaner.state.floatbank8_a_level</th>\n",
       "                        <td id=\"T_f8195_row33_col0\" class=\"data row33 col0\" >0.010000</td>\n",
       "                        <td id=\"T_f8195_row33_col1\" class=\"data row33 col1\" >1.000000</td>\n",
       "            </tr>\n",
       "            <tr>\n",
       "                        <th id=\"T_f8195_level0_row34\" class=\"row_heading level0 row34\" >secondary_cleaner.state.floatbank5_a_air</th>\n",
       "                        <td id=\"T_f8195_row34_col0\" class=\"data row34 col0\" >0.010000</td>\n",
       "                        <td id=\"T_f8195_row34_col1\" class=\"data row34 col1\" >1.000000</td>\n",
       "            </tr>\n",
       "            <tr>\n",
       "                        <th id=\"T_f8195_level0_row35\" class=\"row_heading level0 row35\" >secondary_cleaner.state.floatbank2_a_level</th>\n",
       "                        <td id=\"T_f8195_row35_col0\" class=\"data row35 col0\" >0.010000</td>\n",
       "                        <td id=\"T_f8195_row35_col1\" class=\"data row35 col1\" >1.000000</td>\n",
       "            </tr>\n",
       "            <tr>\n",
       "                        <th id=\"T_f8195_level0_row36\" class=\"row_heading level0 row36\" >rougher.state.floatbank10_b_air</th>\n",
       "                        <td id=\"T_f8195_row36_col0\" class=\"data row36 col0\" >0.010000</td>\n",
       "                        <td id=\"T_f8195_row36_col1\" class=\"data row36 col1\" >1.000000</td>\n",
       "            </tr>\n",
       "            <tr>\n",
       "                        <th id=\"T_f8195_level0_row37\" class=\"row_heading level0 row37\" >rougher.state.floatbank10_c_level</th>\n",
       "                        <td id=\"T_f8195_row37_col0\" class=\"data row37 col0\" >0.010000</td>\n",
       "                        <td id=\"T_f8195_row37_col1\" class=\"data row37 col1\" >1.000000</td>\n",
       "            </tr>\n",
       "            <tr>\n",
       "                        <th id=\"T_f8195_level0_row38\" class=\"row_heading level0 row38\" >rougher.state.floatbank10_b_level</th>\n",
       "                        <td id=\"T_f8195_row38_col0\" class=\"data row38 col0\" >0.010000</td>\n",
       "                        <td id=\"T_f8195_row38_col1\" class=\"data row38 col1\" >1.000000</td>\n",
       "            </tr>\n",
       "            <tr>\n",
       "                        <th id=\"T_f8195_level0_row39\" class=\"row_heading level0 row39\" >primary_cleaner.state.floatbank8_c_level</th>\n",
       "                        <td id=\"T_f8195_row39_col0\" class=\"data row39 col0\" >0.010000</td>\n",
       "                        <td id=\"T_f8195_row39_col1\" class=\"data row39 col1\" >1.000000</td>\n",
       "            </tr>\n",
       "            <tr>\n",
       "                        <th id=\"T_f8195_level0_row40\" class=\"row_heading level0 row40\" >secondary_cleaner.state.floatbank5_b_level</th>\n",
       "                        <td id=\"T_f8195_row40_col0\" class=\"data row40 col0\" >0.010000</td>\n",
       "                        <td id=\"T_f8195_row40_col1\" class=\"data row40 col1\" >1.000000</td>\n",
       "            </tr>\n",
       "            <tr>\n",
       "                        <th id=\"T_f8195_level0_row41\" class=\"row_heading level0 row41\" >secondary_cleaner.state.floatbank3_b_air</th>\n",
       "                        <td id=\"T_f8195_row41_col0\" class=\"data row41 col0\" >0.010000</td>\n",
       "                        <td id=\"T_f8195_row41_col1\" class=\"data row41 col1\" >1.000000</td>\n",
       "            </tr>\n",
       "            <tr>\n",
       "                        <th id=\"T_f8195_level0_row42\" class=\"row_heading level0 row42\" >secondary_cleaner.state.floatbank4_a_level</th>\n",
       "                        <td id=\"T_f8195_row42_col0\" class=\"data row42 col0\" >0.010000</td>\n",
       "                        <td id=\"T_f8195_row42_col1\" class=\"data row42 col1\" >1.000000</td>\n",
       "            </tr>\n",
       "            <tr>\n",
       "                        <th id=\"T_f8195_level0_row43\" class=\"row_heading level0 row43\" >primary_cleaner.state.floatbank8_d_level</th>\n",
       "                        <td id=\"T_f8195_row43_col0\" class=\"data row43 col0\" >0.010000</td>\n",
       "                        <td id=\"T_f8195_row43_col1\" class=\"data row43 col1\" >1.000000</td>\n",
       "            </tr>\n",
       "    </tbody></table>"
      ],
      "text/plain": [
       "<pandas.io.formats.style.Styler at 0x7efd8ac2cf40>"
      ]
     },
     "execution_count": 26,
     "metadata": {},
     "output_type": "execute_result"
    }
   ],
   "source": [
    "show_missing(recovery_full[feature_columns])"
   ]
  },
  {
   "cell_type": "markdown",
   "metadata": {},
   "source": [
    "<div style=\"border:solid gray 2.0px; padding: 10px\"> \n",
    "    \n",
    "    Посмотрим, сколько пропусков в строчках\n",
    "\n",
    "</div>"
   ]
  },
  {
   "cell_type": "code",
   "execution_count": 27,
   "metadata": {},
   "outputs": [
    {
     "data": {
      "text/plain": [
       "0     16094\n",
       "1      2632\n",
       "2       477\n",
       "3       153\n",
       "4        51\n",
       "5        14\n",
       "6         9\n",
       "8         4\n",
       "7         2\n",
       "9         2\n",
       "44        1\n",
       "Name: count_na, dtype: int64"
      ]
     },
     "execution_count": 27,
     "metadata": {},
     "output_type": "execute_result"
    }
   ],
   "source": [
    "recovery_full['count_na'] = recovery_full.apply(lambda x: len(recovery_full.columns) - x.count(), axis=1)\n",
    "recovery_full['count_na'].value_counts().sort_values(ascending=False)"
   ]
  },
  {
   "cell_type": "markdown",
   "metadata": {},
   "source": [
    "<div style=\"border:solid gray 2.0px; padding: 10px\"> \n",
    "    \n",
    "    В тренировочной выборке есть одна строчка с 44 пропусками! Это много, удалим ее.\n",
    "\n",
    "</div>"
   ]
  },
  {
   "cell_type": "code",
   "execution_count": 28,
   "metadata": {},
   "outputs": [],
   "source": [
    "recovery_full = recovery_full.query('count_na!=44').drop('count_na', axis=1)"
   ]
  },
  {
   "cell_type": "code",
   "execution_count": null,
   "metadata": {},
   "outputs": [],
   "source": []
  },
  {
   "cell_type": "markdown",
   "metadata": {},
   "source": [
    "<div style=\"border:solid gray 2.0px; padding: 10px\"> \n",
    "    \n",
    "    Теперь восстановим данные. Воспользуемся из описания проекта информацией о  том, что соседние по времени параметры часто похожи.\n",
    "    \n",
    "    Идея восстановления: \n",
    "     - отсортировать данные по времени \n",
    "     - восстановить пропуск средним из предыдущего и последующего заполненных значений этого парамента.\n",
    "    \n",
    "    Напишем функцию (recovering), которая будет принимать столбец значений и возвращать столбец с восстановленными данными\n",
    "    \n",
    "   \n",
    "</div>"
   ]
  },
  {
   "cell_type": "code",
   "execution_count": 29,
   "metadata": {},
   "outputs": [],
   "source": [
    "def recovering(col):\n",
    "    bfill = col.fillna(method='bfill', axis=0)\n",
    "    ffill = col.fillna(method='ffill', axis=0)\n",
    "    col_rec = col.fillna((bfill+ffill)/2)\n",
    "    return pd.Series(col_rec)"
   ]
  },
  {
   "cell_type": "code",
   "execution_count": 30,
   "metadata": {},
   "outputs": [],
   "source": [
    "recovery_full['date'] = pd.to_datetime(recovery_full['date'], format='%Y-%m-%dT%H:%M:%S')\n",
    "recovery_full = recovery_full.sort_values('date')"
   ]
  },
  {
   "cell_type": "code",
   "execution_count": 31,
   "metadata": {},
   "outputs": [],
   "source": [
    "for col in feature_columns:\n",
    "    recovery_full[col] = recovering(recovery_full[col])"
   ]
  },
  {
   "cell_type": "code",
   "execution_count": 32,
   "metadata": {},
   "outputs": [
    {
     "data": {
      "text/html": [
       "<style  type=\"text/css\" >\n",
       "</style><table id=\"T_0a07a_\" ><thead>    <tr>        <th class=\"blank level0\" ></th>        <th class=\"col_heading level0 col0\" >percent_na</th>        <th class=\"col_heading level0 col1\" >count_na</th>    </tr></thead><tbody>\n",
       "        </tbody></table>"
      ],
      "text/plain": [
       "<pandas.io.formats.style.Styler at 0x7efd8aa0e8e0>"
      ]
     },
     "execution_count": 32,
     "metadata": {},
     "output_type": "execute_result"
    }
   ],
   "source": [
    "show_missing(recovery_full[feature_columns])"
   ]
  },
  {
   "cell_type": "code",
   "execution_count": null,
   "metadata": {},
   "outputs": [],
   "source": []
  },
  {
   "cell_type": "markdown",
   "metadata": {},
   "source": [
    "## Анализ данных"
   ]
  },
  {
   "cell_type": "markdown",
   "metadata": {},
   "source": [
    "### Концентрация металлов (Au, Ag, Pb) на различных этапах очистки"
   ]
  },
  {
   "cell_type": "code",
   "execution_count": 33,
   "metadata": {},
   "outputs": [],
   "source": [
    "def concentrate_distplot(df, element, element_label, hist=True):\n",
    "    fig = plt.figure(figsize=(14,8))\n",
    "\n",
    "    sns.distplot(df[f'rougher.input.feed{element}']                 , color=\"blue\"   , label=\"Исходное сырье\", kde=True, hist=hist)\n",
    "    sns.distplot(df[f'rougher.output.concentrate{element}']         , color=\"red\"    , label=\"После флотации\", kde=True, hist=hist)\n",
    "    sns.distplot(df[f'primary_cleaner.output.concentrate{element}'] , color=\"green\"  , label=\"После первичной очистки\", kde=True, hist=hist)\n",
    "    sns.distplot(df[f'final.output.concentrate{element}']           , color=\"orange\" , label=\"Финальный концентрат\", kde=True, hist=hist)\n",
    "\n",
    "    plt.title(f'Распределение суммарной концентрации на разных стадиях {element_label}', fontsize = 15)\n",
    "    plt.xlabel(\"Концентрация\", fontsize = 12)\n",
    "    plt.legend()\n",
    "    plt.show();"
   ]
  },
  {
   "cell_type": "code",
   "execution_count": 34,
   "metadata": {},
   "outputs": [
    {
     "data": {
      "image/png": "[encoded data removed]",
      "text/plain": [
       "<Figure size 1008x576 with 1 Axes>"
      ]
     },
     "metadata": {
      "needs_background": "light"
     },
     "output_type": "display_data"
    }
   ],
   "source": [
    "concentrate_distplot(recovery_full, element='_au', element_label='(золото)')"
   ]
  },
  {
   "cell_type": "code",
   "execution_count": 35,
   "metadata": {},
   "outputs": [
    {
     "data": {
      "image/png": "[encoded data removed]",
      "text/plain": [
       "<Figure size 1008x576 with 1 Axes>"
      ]
     },
     "metadata": {
      "needs_background": "light"
     },
     "output_type": "display_data"
    }
   ],
   "source": [
    "concentrate_distplot(recovery_full, element='_ag', element_label='(серебро)')"
   ]
  },
  {
   "cell_type": "code",
   "execution_count": 36,
   "metadata": {},
   "outputs": [
    {
     "data": {
      "image/png": "[encoded data removed]",
      "text/plain": [
       "<Figure size 1008x576 with 1 Axes>"
      ]
     },
     "metadata": {
      "needs_background": "light"
     },
     "output_type": "display_data"
    }
   ],
   "source": [
    "concentrate_distplot(recovery_full, element='_pb', element_label='(свинец)')"
   ]
  },
  {
   "cell_type": "markdown",
   "metadata": {},
   "source": [
    "<div style=\"border:solid gray 2.0px; padding: 10px\"> \n",
    "    \n",
    "    - концентрация золота эффективно увеличивается от стадии к стадии\n",
    "    - концентрация свинца увеличивается, на этапах флотации и первичной очистки\n",
    "    - концентрация серебра остается примерно на одном уровне\n",
    "    - интересно, что на входе золота и серебра было примерно поровну )\n",
    "    \n",
    "\n",
    "</div>"
   ]
  },
  {
   "cell_type": "code",
   "execution_count": null,
   "metadata": {},
   "outputs": [],
   "source": []
  },
  {
   "cell_type": "markdown",
   "metadata": {},
   "source": [
    "### Cуммарная концентрация всех веществ на разных стадиях"
   ]
  },
  {
   "cell_type": "markdown",
   "metadata": {},
   "source": [
    "<div style=\"border:solid gray 2.0px; padding: 10px\"> \n",
    "    \n",
    "    Добвим суммарные концентрации в данные и построим распределения\n",
    "    \n",
    "</div>"
   ]
  },
  {
   "cell_type": "code",
   "execution_count": 38,
   "metadata": {},
   "outputs": [],
   "source": [
    "for stage in ['rougher.input.feed', 'rougher.output.concentrate', 'primary_cleaner.output.concentrate', 'final.output.concentrate']:\n",
    "    stage_col = []\n",
    "    for element in ['au', 'ag', 'pb', 'sol']:\n",
    "        for column in recovery_full.columns:\n",
    "            if column.find(element)>=0 and column.find(stage)>=0:\n",
    "                stage_col.append(column)\n",
    "    recovery_full[stage] = recovery_full[stage_col].sum(axis=1)"
   ]
  },
  {
   "cell_type": "code",
   "execution_count": 39,
   "metadata": {},
   "outputs": [
    {
     "data": {
      "image/png": "[encoded data removed]",
      "text/plain": [
       "<Figure size 1008x576 with 1 Axes>"
      ]
     },
     "metadata": {
      "needs_background": "light"
     },
     "output_type": "display_data"
    }
   ],
   "source": [
    "concentrate_distplot(recovery_full, element='', element_label='(золото+серебро+свинец+соль)', hist=False)"
   ]
  },
  {
   "cell_type": "code",
   "execution_count": null,
   "metadata": {},
   "outputs": [],
   "source": []
  },
  {
   "cell_type": "markdown",
   "metadata": {},
   "source": [
    "<div style=\"border:solid gray 2.0px; padding: 10px\"> \n",
    "    \n",
    "    Видно, что есть пики около нуля, указывающие на нулевую суммарную концентрацию веществ.\n",
    "    Скорее врего, в этих случаях были ошибки в замером. Удалим такие строчки\n",
    "    \n",
    "</div>"
   ]
  },
  {
   "cell_type": "code",
   "execution_count": 40,
   "metadata": {},
   "outputs": [
    {
     "name": "stdout",
     "output_type": "stream",
     "text": [
      "Количество строк до чистки: 19438\n",
      "Количество строк после чистки: 18724\n"
     ]
    }
   ],
   "source": [
    "print(f\"Количество строк до чистки: {recovery_full.shape[0]}\")\n",
    "\n",
    "recovery_full = \\\n",
    "    recovery_full.loc[(\n",
    "        (recovery_full['rougher.input.feed']>0.1) & \n",
    "        (recovery_full['rougher.output.concentrate']>0.1) &\n",
    "        (recovery_full['primary_cleaner.output.concentrate']>0.1) &\n",
    "        (recovery_full['final.output.concentrate']>0.1) \\\n",
    "        )]\n",
    "         \n",
    "print(f\"Количество строк после чистки: {recovery_full.shape[0]}\")         "
   ]
  },
  {
   "cell_type": "code",
   "execution_count": null,
   "metadata": {},
   "outputs": [],
   "source": []
  },
  {
   "cell_type": "code",
   "execution_count": 41,
   "metadata": {},
   "outputs": [
    {
     "data": {
      "image/png": "[encoded data removed]",
      "text/plain": [
       "<Figure size 1008x576 with 1 Axes>"
      ]
     },
     "metadata": {
      "needs_background": "light"
     },
     "output_type": "display_data"
    }
   ],
   "source": [
    "concentrate_distplot(recovery_full, element='', element_label='(золото+серебро+свинец+соль)', hist=False)"
   ]
  },
  {
   "cell_type": "code",
   "execution_count": null,
   "metadata": {},
   "outputs": [],
   "source": []
  },
  {
   "cell_type": "markdown",
   "metadata": {},
   "source": [
    "## Модель"
   ]
  },
  {
   "cell_type": "markdown",
   "metadata": {},
   "source": [
    "### Функция для вычисления sMAPE"
   ]
  },
  {
   "cell_type": "code",
   "execution_count": 45,
   "metadata": {},
   "outputs": [],
   "source": [
    "def smape_total(smape_rougher, smape_final):\n",
    "    return smape_rougher*0.25 + smape_final*0.75\n",
    "\n",
    "def smape(target, pred):\n",
    "    target = np.array(target)\n",
    "    pred = np.array(pred)\n",
    "    return sum(abs(target - pred)/ (abs(target) + abs(pred)/2)) *100 / len(target)*(1)"
   ]
  },
  {
   "cell_type": "code",
   "execution_count": null,
   "metadata": {},
   "outputs": [],
   "source": []
  },
  {
   "cell_type": "markdown",
   "metadata": {},
   "source": [
    "### Разбиение выборки"
   ]
  },
  {
   "cell_type": "markdown",
   "metadata": {},
   "source": [
    "<div style=\"border:solid gray 2.0px; padding: 10px\"> \n",
    "    \n",
    "    Мы восстановили данные на полной выборке, теперь разобьем ее на тестовую и тренировочную, отобрав те же строчки, что и при первичном исхлдном разбиении\n",
    "    \n",
    "</div>"
   ]
  },
  {
   "cell_type": "code",
   "execution_count": 46,
   "metadata": {},
   "outputs": [],
   "source": [
    "date_train = recovery_train['date']\n",
    "date_test = recovery_test['date']\n",
    "\n",
    "recovery_train_new = recovery_full.query('date in @date_train')[recovery_train.columns]\n",
    "recovery_test_new = recovery_full.query('date in @date_test')[recovery_train.columns]"
   ]
  },
  {
   "cell_type": "code",
   "execution_count": 47,
   "metadata": {},
   "outputs": [
    {
     "name": "stdout",
     "output_type": "stream",
     "text": [
      "Размер тренировочной выборки: (13601, 55)\n",
      "Размер тестовой выборки: (5123, 55)\n"
     ]
    }
   ],
   "source": [
    "print(f\"Размер тренировочной выборки: {recovery_train_new.shape}\")\n",
    "print(f\"Размер тестовой выборки: {recovery_test_new.shape}\")"
   ]
  },
  {
   "cell_type": "code",
   "execution_count": 48,
   "metadata": {},
   "outputs": [],
   "source": [
    "features_train = recovery_train_new.drop(['rougher.output.recovery', 'final.output.recovery', 'date'], axis=1)\n",
    "target_train_rou = recovery_train_new['rougher.output.recovery']\n",
    "target_train_fin = recovery_train_new['final.output.recovery']\n",
    "\n",
    "features_test = recovery_test_new.drop(['rougher.output.recovery', 'final.output.recovery', 'date'], axis=1)\n",
    "target_test_rou = recovery_test_new['rougher.output.recovery']\n",
    "target_test_fin = recovery_test_new['final.output.recovery']"
   ]
  },
  {
   "cell_type": "code",
   "execution_count": null,
   "metadata": {},
   "outputs": [],
   "source": []
  },
  {
   "cell_type": "markdown",
   "metadata": {},
   "source": [
    "### Обучение моделей"
   ]
  },
  {
   "cell_type": "code",
   "execution_count": 49,
   "metadata": {},
   "outputs": [],
   "source": [
    "scorer =  make_scorer(smape, greater_is_better=False)"
   ]
  },
  {
   "cell_type": "code",
   "execution_count": null,
   "metadata": {},
   "outputs": [],
   "source": []
  },
  {
   "cell_type": "markdown",
   "metadata": {},
   "source": [
    "<div style=\"border:solid gray 2.0px; padding: 10px\"> \n",
    "    \n",
    "    Во избежание повторения кода, напишем две функции:\n",
    "     - reg_no_grid. Применяется для моделей, в которых не используем тюнинг гиперпараметров. Возвращает значение smape.\n",
    "     - reg_no_grid. Применяется для моделей, в которых используем тюнинг гиперпараметров. Возвращает гиперпараметры лучшей подобранной модели и ее smape.\n",
    "    \n",
    "</div>"
   ]
  },
  {
   "cell_type": "code",
   "execution_count": 50,
   "metadata": {},
   "outputs": [],
   "source": [
    "def reg_no_grid(model, features, target, scoring=scorer, cv=5):\n",
    "    return np.mean(cross_val_score(model, features, target, cv=cv, scoring=scoring))*(-1)"
   ]
  },
  {
   "cell_type": "code",
   "execution_count": 51,
   "metadata": {},
   "outputs": [],
   "source": [
    "def reg_grid(model, features, target, param_grid, scoring=scorer, cv=5):\n",
    "    search = GridSearchCV(model, param, scoring=scoring, cv=cv)\n",
    "    search.fit(features, target)\n",
    "    best_params = search.best_params_\n",
    "    best_score = search.best_score_\n",
    "    \n",
    "    return best_params, best_score*(-1)"
   ]
  },
  {
   "cell_type": "code",
   "execution_count": null,
   "metadata": {},
   "outputs": [],
   "source": []
  },
  {
   "cell_type": "markdown",
   "metadata": {},
   "source": [
    "#### LinearRegression"
   ]
  },
  {
   "cell_type": "code",
   "execution_count": 77,
   "metadata": {},
   "outputs": [
    {
     "data": {
      "text/plain": [
       "4.838172566100094"
      ]
     },
     "execution_count": 77,
     "metadata": {},
     "output_type": "execute_result"
    }
   ],
   "source": [
    "reg_no_grid(LinearRegression(), features_train, target_train_rou)"
   ]
  },
  {
   "cell_type": "code",
   "execution_count": 53,
   "metadata": {},
   "outputs": [
    {
     "data": {
      "text/plain": [
       "7.413642312060645"
      ]
     },
     "execution_count": 53,
     "metadata": {},
     "output_type": "execute_result"
    }
   ],
   "source": [
    "reg_no_grid(LinearRegression(), features_train, target_train_fin)"
   ]
  },
  {
   "cell_type": "code",
   "execution_count": null,
   "metadata": {},
   "outputs": [],
   "source": []
  },
  {
   "cell_type": "markdown",
   "metadata": {},
   "source": [
    "#### RidgeCV"
   ]
  },
  {
   "cell_type": "code",
   "execution_count": 54,
   "metadata": {},
   "outputs": [
    {
     "data": {
      "text/plain": [
       "4.835955108510445"
      ]
     },
     "execution_count": 54,
     "metadata": {},
     "output_type": "execute_result"
    }
   ],
   "source": [
    "reg_no_grid(RidgeCV(), features_train, target_train_rou)"
   ]
  },
  {
   "cell_type": "code",
   "execution_count": 55,
   "metadata": {},
   "outputs": [
    {
     "data": {
      "text/plain": [
       "7.409264811362661"
      ]
     },
     "execution_count": 55,
     "metadata": {},
     "output_type": "execute_result"
    }
   ],
   "source": [
    "reg_no_grid(RidgeCV(), features_train, target_train_fin)"
   ]
  },
  {
   "cell_type": "code",
   "execution_count": null,
   "metadata": {},
   "outputs": [],
   "source": []
  },
  {
   "cell_type": "markdown",
   "metadata": {},
   "source": [
    "#### KNeighborsRegressor"
   ]
  },
  {
   "cell_type": "code",
   "execution_count": 56,
   "metadata": {},
   "outputs": [],
   "source": [
    "param = {\n",
    "    'n_neighbors': range (1, 10)\n",
    "       }"
   ]
  },
  {
   "cell_type": "code",
   "execution_count": 57,
   "metadata": {},
   "outputs": [
    {
     "data": {
      "text/plain": [
       "({'n_neighbors': 7}, 6.167818962314304)"
      ]
     },
     "execution_count": 57,
     "metadata": {},
     "output_type": "execute_result"
    }
   ],
   "source": [
    "reg_grid(KNeighborsRegressor(), features_train, target_train_rou, param)"
   ]
  },
  {
   "cell_type": "code",
   "execution_count": 58,
   "metadata": {},
   "outputs": [
    {
     "data": {
      "text/plain": [
       "({'n_neighbors': 7}, 8.072046968404045)"
      ]
     },
     "execution_count": 58,
     "metadata": {},
     "output_type": "execute_result"
    }
   ],
   "source": [
    "reg_grid(KNeighborsRegressor(), features_train, target_train_fin, param)"
   ]
  },
  {
   "cell_type": "code",
   "execution_count": null,
   "metadata": {},
   "outputs": [],
   "source": []
  },
  {
   "cell_type": "markdown",
   "metadata": {},
   "source": [
    "#### DecisionTreeRegressor"
   ]
  },
  {
   "cell_type": "code",
   "execution_count": 59,
   "metadata": {},
   "outputs": [],
   "source": [
    "param = {\n",
    "    'max_depth': range (1, 100, 3)\n",
    "       }"
   ]
  },
  {
   "cell_type": "code",
   "execution_count": 60,
   "metadata": {},
   "outputs": [
    {
     "data": {
      "text/plain": [
       "({'max_depth': 4}, 4.82139207416338)"
      ]
     },
     "execution_count": 60,
     "metadata": {},
     "output_type": "execute_result"
    }
   ],
   "source": [
    "reg_grid(DecisionTreeRegressor(), features_train, target_train_rou, param)"
   ]
  },
  {
   "cell_type": "code",
   "execution_count": 61,
   "metadata": {},
   "outputs": [
    {
     "data": {
      "text/plain": [
       "({'max_depth': 4}, 6.572714315101512)"
      ]
     },
     "execution_count": 61,
     "metadata": {},
     "output_type": "execute_result"
    }
   ],
   "source": [
    "reg_grid(DecisionTreeRegressor(), features_train, target_train_fin, param)"
   ]
  },
  {
   "cell_type": "code",
   "execution_count": 62,
   "metadata": {},
   "outputs": [],
   "source": [
    "#({'max_depth': 13}, 2.356286967373085)\n",
    "#({'max_depth': 10}, 5.0106407339827275)"
   ]
  },
  {
   "cell_type": "markdown",
   "metadata": {},
   "source": [
    "#### RandomForestRegressor"
   ]
  },
  {
   "cell_type": "code",
   "execution_count": 63,
   "metadata": {},
   "outputs": [],
   "source": [
    "param = {\n",
    "    'max_depth': range(1, 50, 10),\n",
    "    'max_features': ['sqrt', 'log2'],\n",
    "    'n_estimators': range(1, 30, 5)\n",
    "}"
   ]
  },
  {
   "cell_type": "code",
   "execution_count": 64,
   "metadata": {},
   "outputs": [
    {
     "data": {
      "text/plain": [
       "({'max_depth': 21, 'max_features': 'log2', 'n_estimators': 21},\n",
       " 4.110092734509685)"
      ]
     },
     "execution_count": 64,
     "metadata": {},
     "output_type": "execute_result"
    }
   ],
   "source": [
    "reg_grid(RandomForestRegressor(), features_train, target_train_rou, param)"
   ]
  },
  {
   "cell_type": "code",
   "execution_count": 65,
   "metadata": {},
   "outputs": [
    {
     "data": {
      "text/plain": [
       "({'max_depth': 31, 'max_features': 'sqrt', 'n_estimators': 21},\n",
       " 6.252225608578103)"
      ]
     },
     "execution_count": 65,
     "metadata": {},
     "output_type": "execute_result"
    }
   ],
   "source": [
    "reg_grid(RandomForestRegressor(), features_train, target_train_fin, param)"
   ]
  },
  {
   "cell_type": "code",
   "execution_count": null,
   "metadata": {},
   "outputs": [],
   "source": []
  },
  {
   "cell_type": "markdown",
   "metadata": {},
   "source": [
    "#### DummyRegressor"
   ]
  },
  {
   "cell_type": "code",
   "execution_count": 67,
   "metadata": {},
   "outputs": [
    {
     "data": {
      "text/plain": [
       "5.255122122334912"
      ]
     },
     "execution_count": 67,
     "metadata": {},
     "output_type": "execute_result"
    }
   ],
   "source": [
    "model = DummyRegressor(strategy='median')\n",
    "np.mean(cross_val_score(model, features_train, target_train_rou, cv=5, scoring=scorer))*(-1)"
   ]
  },
  {
   "cell_type": "code",
   "execution_count": 68,
   "metadata": {},
   "outputs": [
    {
     "data": {
      "text/plain": [
       "7.034367489427623"
      ]
     },
     "execution_count": 68,
     "metadata": {},
     "output_type": "execute_result"
    }
   ],
   "source": [
    "model = DummyRegressor(strategy='median')\n",
    "np.mean(cross_val_score(model, features_train, target_train_fin, cv=5, scoring=scorer))*(-1)"
   ]
  },
  {
   "cell_type": "code",
   "execution_count": null,
   "metadata": {},
   "outputs": [],
   "source": []
  },
  {
   "cell_type": "markdown",
   "metadata": {},
   "source": [
    "### Тестирование лучшей модели"
   ]
  },
  {
   "cell_type": "markdown",
   "metadata": {},
   "source": [
    "<div style=\"border:solid gray 2.0px; padding: 10px\"> \n",
    "\n",
    "На валидационных данных:\n",
    "    \n",
    " - для предсказания **rougher.output.recovery** лучше всего себя показала модель RandomForestRegressor с гиперпараметрами:\n",
    "    - 'max_depth': 21\n",
    "    - 'max_features': 'log2'\n",
    "    - 'n_estimators': 21\n",
    "\n",
    "    \n",
    " - для предсказания **final.output.recovery** лучше всего себя показала модель RandomForestRegressor с гиперпараметрами:\n",
    "\n",
    "    - 'max_depth': 31\n",
    "    - 'max_features': 'sqrt'\n",
    "    - 'n_estimators': 21\n",
    "\n",
    "    \n",
    "</div>"
   ]
  },
  {
   "cell_type": "markdown",
   "metadata": {},
   "source": [
    "#### RandomForestRegressor"
   ]
  },
  {
   "cell_type": "code",
   "execution_count": 69,
   "metadata": {},
   "outputs": [],
   "source": [
    "def test_model(model, features_train, target_train, features_test, target_test, scoring=scorer, cv=5):\n",
    "    rou_search = GridSearchCV(model, param, scoring=scoring, cv=cv)\n",
    "    rou_search.fit(features_train, target_train)\n",
    "    return rou_search.score(features_test, target_test)*(-1)"
   ]
  },
  {
   "cell_type": "code",
   "execution_count": 70,
   "metadata": {},
   "outputs": [],
   "source": [
    "param = {'max_depth': [11], 'max_features': ['log2'], 'n_estimators': [26]}"
   ]
  },
  {
   "cell_type": "code",
   "execution_count": 71,
   "metadata": {},
   "outputs": [],
   "source": [
    "smape_rou = test_model(RandomForestRegressor(), features_train, target_train_rou, features_test, target_test_rou)\n",
    "smape_fin = test_model(RandomForestRegressor(), features_train, target_train_fin, features_test, target_test_fin)"
   ]
  },
  {
   "cell_type": "code",
   "execution_count": 72,
   "metadata": {},
   "outputs": [
    {
     "data": {
      "text/plain": [
       "4.9195819723840355"
      ]
     },
     "execution_count": 72,
     "metadata": {},
     "output_type": "execute_result"
    }
   ],
   "source": [
    "smape_total(smape_rou, smape_fin)"
   ]
  },
  {
   "cell_type": "code",
   "execution_count": null,
   "metadata": {},
   "outputs": [],
   "source": []
  },
  {
   "cell_type": "markdown",
   "metadata": {},
   "source": [
    "#### Сравнение с DummyRegressor"
   ]
  },
  {
   "cell_type": "code",
   "execution_count": 73,
   "metadata": {},
   "outputs": [],
   "source": [
    "smape_dummy_rou = smape(target_test_rou, pd.Series(target_train_rou.median(), index = target_test_rou.index))\n",
    "smape_dummy_fin = smape(target_test_fin, pd.Series(target_train_fin.median(), index = target_test_fin.index))"
   ]
  },
  {
   "cell_type": "code",
   "execution_count": 74,
   "metadata": {},
   "outputs": [
    {
     "data": {
      "text/plain": [
       "4.968913252558708"
      ]
     },
     "execution_count": 74,
     "metadata": {},
     "output_type": "execute_result"
    }
   ],
   "source": [
    "smape_total(smape_dummy_rou, smape_dummy_fin)"
   ]
  },
  {
   "cell_type": "code",
   "execution_count": null,
   "metadata": {},
   "outputs": [],
   "source": []
  },
  {
   "cell_type": "markdown",
   "metadata": {},
   "source": [
    "## Вывод"
   ]
  },
  {
   "cell_type": "markdown",
   "metadata": {},
   "source": [
    "<div style=\"border:solid gray 2.0px; padding: 10px\"> \n",
    "\n",
    "1. В процессе флотации и очистки руды, содержание золота эффективно увеличивается: концентрация золота на финальном этапе примерно в 5 раз выше, чем в исходной руде. \n",
    "    \n",
    "   При этом сожержание других металлов и соли остается примерно на том же уровне. \n",
    "    \n",
    "   Интересно, что в начальной смеси золотоносной руды золота и серебра было примерно поровну. Золоту повезло быть более ценным металлом. \n",
    "\n",
    "<span style=\"color: white\">. </span> \n",
    "\n",
    "2. Разные модели показывают себя по-разному в предсказании эффективности обогащения.\n",
    "    Лучше всего на обоих этапах показала себя модель RandomForestRegressor с гиперпараметрами:\n",
    "    - 'max_depth': 11\n",
    "    - 'max_features': 'log2'\n",
    "    - 'n_estimators': 26\n",
    "    \n",
    "</div>"
   ]
  },
  {
   "cell_type": "code",
   "execution_count": null,
   "metadata": {},
   "outputs": [],
   "source": []
  }
 ],
 "metadata": {
  "ExecuteTimeLog": [
   {
    "duration": 615,
    "start_time": "2022-03-10T18:02:07.412Z"
   },
   {
    "duration": 292,
    "start_time": "2022-03-10T18:03:05.812Z"
   },
   {
    "duration": 315,
    "start_time": "2022-03-10T18:03:15.091Z"
   },
   {
    "duration": 17,
    "start_time": "2022-03-10T18:03:39.152Z"
   },
   {
    "duration": 86,
    "start_time": "2022-03-10T18:51:04.144Z"
   },
   {
    "duration": 305,
    "start_time": "2022-03-10T20:47:32.187Z"
   },
   {
    "duration": 2,
    "start_time": "2022-03-10T20:47:36.648Z"
   },
   {
    "duration": 3,
    "start_time": "2022-03-10T20:47:37.154Z"
   },
   {
    "duration": 5,
    "start_time": "2022-03-10T20:47:43.227Z"
   },
   {
    "duration": 2,
    "start_time": "2022-03-10T20:48:02.148Z"
   },
   {
    "duration": 5,
    "start_time": "2022-03-10T20:48:20.307Z"
   },
   {
    "duration": 3,
    "start_time": "2022-03-10T21:04:14.513Z"
   },
   {
    "duration": 5,
    "start_time": "2022-03-10T21:04:14.904Z"
   },
   {
    "duration": 4,
    "start_time": "2022-03-10T21:04:15.586Z"
   },
   {
    "duration": 313,
    "start_time": "2022-03-11T09:02:11.555Z"
   },
   {
    "duration": 713,
    "start_time": "2022-03-11T09:02:19.155Z"
   },
   {
    "duration": 306,
    "start_time": "2022-03-11T09:02:20.514Z"
   },
   {
    "duration": 17,
    "start_time": "2022-03-11T09:02:21.634Z"
   },
   {
    "duration": 87,
    "start_time": "2022-03-11T09:02:22.755Z"
   },
   {
    "duration": 2,
    "start_time": "2022-03-11T09:02:28.796Z"
   },
   {
    "duration": 3,
    "start_time": "2022-03-11T09:02:30.275Z"
   },
   {
    "duration": 4,
    "start_time": "2022-03-11T09:02:32.915Z"
   },
   {
    "duration": 4,
    "start_time": "2022-03-11T09:02:33.555Z"
   },
   {
    "duration": 289,
    "start_time": "2022-03-11T09:02:35.435Z"
   },
   {
    "duration": 5,
    "start_time": "2022-03-11T09:02:52.435Z"
   },
   {
    "duration": 21,
    "start_time": "2022-03-11T09:10:23.837Z"
   },
   {
    "duration": 475,
    "start_time": "2022-03-11T09:11:14.117Z"
   },
   {
    "duration": 287,
    "start_time": "2022-03-11T09:11:48.849Z"
   },
   {
    "duration": 6,
    "start_time": "2022-03-11T09:12:17.852Z"
   },
   {
    "duration": 335,
    "start_time": "2022-03-11T09:17:24.959Z"
   },
   {
    "duration": 26,
    "start_time": "2022-03-11T09:17:28.246Z"
   },
   {
    "duration": 6,
    "start_time": "2022-03-11T09:17:40.847Z"
   },
   {
    "duration": 16,
    "start_time": "2022-03-11T09:17:41.480Z"
   },
   {
    "duration": 2,
    "start_time": "2022-03-11T09:17:51.558Z"
   },
   {
    "duration": 5,
    "start_time": "2022-03-11T09:17:54.118Z"
   },
   {
    "duration": 519,
    "start_time": "2022-03-11T09:57:20.762Z"
   },
   {
    "duration": 63,
    "start_time": "2022-03-11T09:57:40.042Z"
   },
   {
    "duration": 572,
    "start_time": "2022-03-11T09:57:44.357Z"
   },
   {
    "duration": 529,
    "start_time": "2022-03-11T09:58:29.402Z"
   },
   {
    "duration": 285,
    "start_time": "2022-03-11T09:59:33.283Z"
   },
   {
    "duration": 11,
    "start_time": "2022-03-11T10:00:51.763Z"
   },
   {
    "duration": 456,
    "start_time": "2022-03-11T10:01:29.523Z"
   },
   {
    "duration": 5,
    "start_time": "2022-03-11T10:01:54.523Z"
   },
   {
    "duration": 5,
    "start_time": "2022-03-11T10:02:02.443Z"
   },
   {
    "duration": 9,
    "start_time": "2022-03-11T10:02:21.523Z"
   },
   {
    "duration": 9,
    "start_time": "2022-03-11T10:02:31.855Z"
   },
   {
    "duration": 5,
    "start_time": "2022-03-11T10:03:59.004Z"
   },
   {
    "duration": 319,
    "start_time": "2022-03-11T10:04:07.283Z"
   },
   {
    "duration": 9,
    "start_time": "2022-03-11T10:04:13.124Z"
   },
   {
    "duration": 5,
    "start_time": "2022-03-11T10:04:20.660Z"
   },
   {
    "duration": 5,
    "start_time": "2022-03-11T10:04:21.124Z"
   },
   {
    "duration": 477,
    "start_time": "2022-03-11T11:55:49.538Z"
   },
   {
    "duration": 66,
    "start_time": "2022-03-11T11:56:33.158Z"
   },
   {
    "duration": 28,
    "start_time": "2022-03-11T12:00:01.370Z"
   },
   {
    "duration": 366,
    "start_time": "2022-03-11T12:02:50.083Z"
   },
   {
    "duration": 11,
    "start_time": "2022-03-11T12:02:59.768Z"
   },
   {
    "duration": 296,
    "start_time": "2022-03-11T12:03:14.569Z"
   },
   {
    "duration": 249,
    "start_time": "2022-03-11T12:03:23.290Z"
   },
   {
    "duration": 258,
    "start_time": "2022-03-11T12:03:57.508Z"
   },
   {
    "duration": 147,
    "start_time": "2022-03-11T12:04:19.514Z"
   },
   {
    "duration": 12,
    "start_time": "2022-03-11T12:23:03.190Z"
   },
   {
    "duration": 7,
    "start_time": "2022-03-11T12:25:42.789Z"
   },
   {
    "duration": 4,
    "start_time": "2022-03-11T12:32:49.611Z"
   },
   {
    "duration": 4,
    "start_time": "2022-03-11T12:32:52.886Z"
   },
   {
    "duration": 859,
    "start_time": "2022-03-11T12:52:10.315Z"
   },
   {
    "duration": 856,
    "start_time": "2022-03-11T12:52:32.127Z"
   },
   {
    "duration": 873,
    "start_time": "2022-03-11T12:52:44.447Z"
   },
   {
    "duration": 11,
    "start_time": "2022-03-11T13:23:46.645Z"
   },
   {
    "duration": 49,
    "start_time": "2022-03-11T13:23:47.764Z"
   },
   {
    "duration": 280,
    "start_time": "2022-03-11T13:30:41.844Z"
   },
   {
    "duration": 260,
    "start_time": "2022-03-11T13:31:07.424Z"
   },
   {
    "duration": 274,
    "start_time": "2022-03-11T13:31:12.584Z"
   },
   {
    "duration": 20,
    "start_time": "2022-03-11T13:31:20.992Z"
   },
   {
    "duration": 13,
    "start_time": "2022-03-11T13:41:16.762Z"
   },
   {
    "duration": 377,
    "start_time": "2022-03-11T13:41:53.521Z"
   },
   {
    "duration": 281,
    "start_time": "2022-03-11T13:43:13.080Z"
   },
   {
    "duration": 294,
    "start_time": "2022-03-11T13:43:29.100Z"
   },
   {
    "duration": 15,
    "start_time": "2022-03-11T13:44:01.470Z"
   },
   {
    "duration": 243,
    "start_time": "2022-03-11T14:03:52.654Z"
   },
   {
    "duration": 559,
    "start_time": "2022-03-11T14:06:33.932Z"
   },
   {
    "duration": 8,
    "start_time": "2022-03-11T14:07:54.481Z"
   },
   {
    "duration": 95415,
    "start_time": "2022-03-11T14:08:21.103Z"
   },
   {
    "duration": 467,
    "start_time": "2022-03-11T14:09:59.775Z"
   },
   {
    "duration": 266,
    "start_time": "2022-03-11T14:11:23.331Z"
   },
   {
    "duration": 21,
    "start_time": "2022-03-11T14:14:32.250Z"
   },
   {
    "duration": 14,
    "start_time": "2022-03-11T14:15:20.270Z"
   },
   {
    "duration": 9,
    "start_time": "2022-03-11T14:16:46.318Z"
   },
   {
    "duration": 11,
    "start_time": "2022-03-11T14:18:52.129Z"
   },
   {
    "duration": 16,
    "start_time": "2022-03-11T14:19:02.409Z"
   },
   {
    "duration": 536,
    "start_time": "2022-03-11T14:19:43.948Z"
   },
   {
    "duration": 359,
    "start_time": "2022-03-11T14:20:24.478Z"
   },
   {
    "duration": 497,
    "start_time": "2022-03-11T14:20:35.958Z"
   },
   {
    "duration": 84,
    "start_time": "2022-03-11T14:21:00.557Z"
   },
   {
    "duration": 17,
    "start_time": "2022-03-11T14:21:05.971Z"
   },
   {
    "duration": 18,
    "start_time": "2022-03-11T14:21:09.650Z"
   },
   {
    "duration": 517,
    "start_time": "2022-03-11T14:21:19.169Z"
   },
   {
    "duration": 521,
    "start_time": "2022-03-11T14:22:10.754Z"
   },
   {
    "duration": 517,
    "start_time": "2022-03-11T14:22:39.433Z"
   },
   {
    "duration": 12,
    "start_time": "2022-03-11T14:22:43.349Z"
   },
   {
    "duration": 274,
    "start_time": "2022-03-11T14:22:53.415Z"
   },
   {
    "duration": 14,
    "start_time": "2022-03-11T14:22:56.456Z"
   },
   {
    "duration": 10,
    "start_time": "2022-03-11T14:23:09.969Z"
   },
   {
    "duration": 15,
    "start_time": "2022-03-11T14:23:11.789Z"
   },
   {
    "duration": 284,
    "start_time": "2022-03-11T14:26:15.248Z"
   },
   {
    "duration": 264,
    "start_time": "2022-03-11T14:26:19.428Z"
   },
   {
    "duration": 267,
    "start_time": "2022-03-11T14:26:40.368Z"
   },
   {
    "duration": 11,
    "start_time": "2022-03-11T14:26:52.847Z"
   },
   {
    "duration": 295,
    "start_time": "2022-03-11T14:26:53.207Z"
   },
   {
    "duration": 3,
    "start_time": "2022-03-11T14:27:08.470Z"
   },
   {
    "duration": 370,
    "start_time": "2022-03-11T14:27:09.154Z"
   },
   {
    "duration": 23,
    "start_time": "2022-03-11T14:27:09.526Z"
   },
   {
    "duration": 17,
    "start_time": "2022-03-11T14:27:09.947Z"
   },
   {
    "duration": 12,
    "start_time": "2022-03-11T14:27:10.924Z"
   },
   {
    "duration": 252,
    "start_time": "2022-03-11T14:27:12.287Z"
   },
   {
    "duration": 146,
    "start_time": "2022-03-11T14:27:13.085Z"
   },
   {
    "duration": 9,
    "start_time": "2022-03-11T14:27:14.986Z"
   },
   {
    "duration": 7,
    "start_time": "2022-03-11T14:27:15.519Z"
   },
   {
    "duration": 3,
    "start_time": "2022-03-11T14:27:19.576Z"
   },
   {
    "duration": 3,
    "start_time": "2022-03-11T14:27:19.846Z"
   },
   {
    "duration": 4,
    "start_time": "2022-03-11T14:27:20.206Z"
   },
   {
    "duration": 4,
    "start_time": "2022-03-11T14:27:20.772Z"
   },
   {
    "duration": 67,
    "start_time": "2022-03-11T14:27:23.527Z"
   },
   {
    "duration": 867,
    "start_time": "2022-03-11T14:27:24.266Z"
   },
   {
    "duration": 11,
    "start_time": "2022-03-11T14:27:25.966Z"
   },
   {
    "duration": 49,
    "start_time": "2022-03-11T14:27:37.552Z"
   },
   {
    "duration": 14,
    "start_time": "2022-03-11T14:27:38.214Z"
   },
   {
    "duration": 355,
    "start_time": "2022-03-11T14:27:39.887Z"
   },
   {
    "duration": 6,
    "start_time": "2022-03-11T14:27:44.966Z"
   },
   {
    "duration": 277,
    "start_time": "2022-03-11T14:28:03.787Z"
   },
   {
    "duration": 14,
    "start_time": "2022-03-11T14:28:10.008Z"
   },
   {
    "duration": 279,
    "start_time": "2022-03-11T14:28:36.867Z"
   },
   {
    "duration": 14,
    "start_time": "2022-03-11T14:28:40.715Z"
   },
   {
    "duration": 19,
    "start_time": "2022-03-11T14:34:21.786Z"
   },
   {
    "duration": 511,
    "start_time": "2022-03-11T14:35:38.335Z"
   },
   {
    "duration": 696,
    "start_time": "2022-03-11T14:35:46.045Z"
   },
   {
    "duration": 17,
    "start_time": "2022-03-11T14:36:05.613Z"
   },
   {
    "duration": 376,
    "start_time": "2022-03-11T14:36:55.774Z"
   },
   {
    "duration": 9,
    "start_time": "2022-03-11T14:54:43.840Z"
   },
   {
    "duration": 5,
    "start_time": "2022-03-11T14:56:42.904Z"
   },
   {
    "duration": 19,
    "start_time": "2022-03-11T14:57:06.748Z"
   },
   {
    "duration": 8,
    "start_time": "2022-03-11T15:02:07.198Z"
   },
   {
    "duration": 8,
    "start_time": "2022-03-11T15:08:02.457Z"
   },
   {
    "duration": 56,
    "start_time": "2022-03-11T15:08:22.497Z"
   },
   {
    "duration": 255,
    "start_time": "2022-03-11T15:15:52.495Z"
   },
   {
    "duration": 4,
    "start_time": "2022-03-11T15:16:14.284Z"
   },
   {
    "duration": 280,
    "start_time": "2022-03-11T15:16:22.994Z"
   },
   {
    "duration": 3,
    "start_time": "2022-03-11T15:16:38.599Z"
   },
   {
    "duration": 4,
    "start_time": "2022-03-11T15:16:52.435Z"
   },
   {
    "duration": 4,
    "start_time": "2022-03-11T15:16:57.755Z"
   },
   {
    "duration": 261,
    "start_time": "2022-03-11T15:17:04.963Z"
   },
   {
    "duration": 4,
    "start_time": "2022-03-11T15:17:22.131Z"
   },
   {
    "duration": 85,
    "start_time": "2022-03-11T16:13:06.764Z"
   },
   {
    "duration": 4,
    "start_time": "2022-03-11T16:15:22.044Z"
   },
   {
    "duration": 281,
    "start_time": "2022-03-11T16:15:42.238Z"
   },
   {
    "duration": 4,
    "start_time": "2022-03-11T16:15:49.602Z"
   },
   {
    "duration": 8,
    "start_time": "2022-03-11T16:15:50.083Z"
   },
   {
    "duration": 264,
    "start_time": "2022-03-11T16:16:20.615Z"
   },
   {
    "duration": 19,
    "start_time": "2022-03-11T16:16:25.544Z"
   },
   {
    "duration": 4,
    "start_time": "2022-03-11T16:18:03.262Z"
   },
   {
    "duration": 9,
    "start_time": "2022-03-11T16:18:12.262Z"
   },
   {
    "duration": 6,
    "start_time": "2022-03-11T16:18:22.363Z"
   },
   {
    "duration": 20,
    "start_time": "2022-03-11T16:18:29.806Z"
   },
   {
    "duration": 6,
    "start_time": "2022-03-11T16:18:43.002Z"
   },
   {
    "duration": 15,
    "start_time": "2022-03-11T16:20:11.803Z"
   },
   {
    "duration": 13,
    "start_time": "2022-03-11T16:20:17.590Z"
   },
   {
    "duration": 14,
    "start_time": "2022-03-11T16:24:51.924Z"
   },
   {
    "duration": 17,
    "start_time": "2022-03-11T16:25:06.661Z"
   },
   {
    "duration": 3,
    "start_time": "2022-03-11T16:49:46.808Z"
   },
   {
    "duration": 4,
    "start_time": "2022-03-11T16:51:54.315Z"
   },
   {
    "duration": 30,
    "start_time": "2022-03-11T16:55:04.550Z"
   },
   {
    "duration": 146,
    "start_time": "2022-03-11T16:55:17.668Z"
   },
   {
    "duration": 4,
    "start_time": "2022-03-11T18:16:34.615Z"
   },
   {
    "duration": 52,
    "start_time": "2022-03-11T18:16:47.194Z"
   },
   {
    "duration": 29,
    "start_time": "2022-03-11T18:17:38.005Z"
   },
   {
    "duration": 5,
    "start_time": "2022-03-11T19:00:31.619Z"
   },
   {
    "duration": 399,
    "start_time": "2022-03-11T19:00:32.430Z"
   },
   {
    "duration": 22,
    "start_time": "2022-03-11T19:00:33.010Z"
   },
   {
    "duration": 18,
    "start_time": "2022-03-11T19:00:34.472Z"
   },
   {
    "duration": 11,
    "start_time": "2022-03-11T19:00:35.616Z"
   },
   {
    "duration": 264,
    "start_time": "2022-03-11T19:00:36.752Z"
   },
   {
    "duration": 146,
    "start_time": "2022-03-11T19:00:37.611Z"
   },
   {
    "duration": 10,
    "start_time": "2022-03-11T19:00:44.308Z"
   },
   {
    "duration": 8,
    "start_time": "2022-03-11T19:00:44.950Z"
   },
   {
    "duration": 3,
    "start_time": "2022-03-11T19:00:51.711Z"
   },
   {
    "duration": 4,
    "start_time": "2022-03-11T19:00:52.578Z"
   },
   {
    "duration": 4,
    "start_time": "2022-03-11T19:00:53.509Z"
   },
   {
    "duration": 255,
    "start_time": "2022-03-11T19:08:40.267Z"
   },
   {
    "duration": 3,
    "start_time": "2022-03-11T19:08:46.288Z"
   },
   {
    "duration": 9,
    "start_time": "2022-03-11T19:10:03.589Z"
   },
   {
    "duration": 10,
    "start_time": "2022-03-11T19:10:07.890Z"
   },
   {
    "duration": 4,
    "start_time": "2022-03-11T19:10:13.498Z"
   },
   {
    "duration": 381,
    "start_time": "2022-03-11T19:10:14.088Z"
   },
   {
    "duration": 21,
    "start_time": "2022-03-11T19:10:14.471Z"
   },
   {
    "duration": 17,
    "start_time": "2022-03-11T19:10:14.709Z"
   },
   {
    "duration": 13,
    "start_time": "2022-03-11T19:10:15.748Z"
   },
   {
    "duration": 305,
    "start_time": "2022-03-11T19:10:17.313Z"
   },
   {
    "duration": 143,
    "start_time": "2022-03-11T19:10:18.748Z"
   },
   {
    "duration": 7,
    "start_time": "2022-03-11T19:10:22.768Z"
   },
   {
    "duration": 9,
    "start_time": "2022-03-11T19:10:23.257Z"
   },
   {
    "duration": 2,
    "start_time": "2022-03-11T19:10:26.308Z"
   },
   {
    "duration": 3,
    "start_time": "2022-03-11T19:10:26.608Z"
   },
   {
    "duration": 4,
    "start_time": "2022-03-11T19:10:27.696Z"
   },
   {
    "duration": 300,
    "start_time": "2022-03-11T19:10:30.949Z"
   },
   {
    "duration": 271,
    "start_time": "2022-03-11T19:11:58.289Z"
   },
   {
    "duration": 3,
    "start_time": "2022-03-11T19:12:03.548Z"
   },
   {
    "duration": 7,
    "start_time": "2022-03-11T19:12:04.139Z"
   },
   {
    "duration": 4,
    "start_time": "2022-03-11T19:12:18.949Z"
   },
   {
    "duration": 4,
    "start_time": "2022-03-11T19:13:39.189Z"
   },
   {
    "duration": 72,
    "start_time": "2022-03-11T19:13:43.269Z"
   },
   {
    "duration": 875,
    "start_time": "2022-03-11T19:14:00.469Z"
   },
   {
    "duration": 4,
    "start_time": "2022-03-11T19:14:52.705Z"
   },
   {
    "duration": 366,
    "start_time": "2022-03-11T19:14:53.437Z"
   },
   {
    "duration": 21,
    "start_time": "2022-03-11T19:14:53.805Z"
   },
   {
    "duration": 17,
    "start_time": "2022-03-11T19:14:53.865Z"
   },
   {
    "duration": 11,
    "start_time": "2022-03-11T19:14:54.308Z"
   },
   {
    "duration": 250,
    "start_time": "2022-03-11T19:14:55.091Z"
   },
   {
    "duration": 148,
    "start_time": "2022-03-11T19:14:55.403Z"
   },
   {
    "duration": 7,
    "start_time": "2022-03-11T19:15:00.469Z"
   },
   {
    "duration": 10,
    "start_time": "2022-03-11T19:15:00.968Z"
   },
   {
    "duration": 3,
    "start_time": "2022-03-11T19:15:05.690Z"
   },
   {
    "duration": 3,
    "start_time": "2022-03-11T19:15:05.960Z"
   },
   {
    "duration": 5,
    "start_time": "2022-03-11T19:15:06.669Z"
   },
   {
    "duration": 4,
    "start_time": "2022-03-11T19:15:07.737Z"
   },
   {
    "duration": 3,
    "start_time": "2022-03-11T19:15:10.618Z"
   },
   {
    "duration": 8,
    "start_time": "2022-03-11T19:15:11.138Z"
   },
   {
    "duration": 2,
    "start_time": "2022-03-11T19:15:27.181Z"
   },
   {
    "duration": 7,
    "start_time": "2022-03-11T19:15:28.369Z"
   },
   {
    "duration": 3,
    "start_time": "2022-03-11T19:15:32.877Z"
   },
   {
    "duration": 47,
    "start_time": "2022-03-11T19:15:34.189Z"
   },
   {
    "duration": 781,
    "start_time": "2022-03-11T19:15:41.229Z"
   },
   {
    "duration": 9,
    "start_time": "2022-03-11T19:15:56.370Z"
   },
   {
    "duration": 26,
    "start_time": "2022-03-11T19:16:01.949Z"
   },
   {
    "duration": 11,
    "start_time": "2022-03-11T19:16:05.756Z"
   },
   {
    "duration": 4,
    "start_time": "2022-03-11T19:16:06.897Z"
   },
   {
    "duration": 267,
    "start_time": "2022-03-11T19:16:41.913Z"
   },
   {
    "duration": 19,
    "start_time": "2022-03-11T19:16:45.888Z"
   },
   {
    "duration": 4,
    "start_time": "2022-03-11T19:17:54.276Z"
   },
   {
    "duration": 267,
    "start_time": "2022-03-11T19:18:45.517Z"
   },
   {
    "duration": 3,
    "start_time": "2022-03-11T19:18:50.878Z"
   },
   {
    "duration": 4,
    "start_time": "2022-03-11T19:18:51.370Z"
   },
   {
    "duration": 271,
    "start_time": "2022-03-11T19:18:53.532Z"
   },
   {
    "duration": 522,
    "start_time": "2022-03-11T19:19:08.990Z"
   },
   {
    "duration": 42,
    "start_time": "2022-03-11T19:19:36.278Z"
   },
   {
    "duration": 18,
    "start_time": "2022-03-11T19:20:12.869Z"
   },
   {
    "duration": 15,
    "start_time": "2022-03-11T19:20:35.930Z"
   },
   {
    "duration": 4,
    "start_time": "2022-03-11T23:09:15.957Z"
   },
   {
    "duration": 397,
    "start_time": "2022-03-11T23:09:24.455Z"
   },
   {
    "duration": 24,
    "start_time": "2022-03-11T23:09:24.854Z"
   },
   {
    "duration": 16,
    "start_time": "2022-03-11T23:09:25.268Z"
   },
   {
    "duration": 11,
    "start_time": "2022-03-11T23:09:26.057Z"
   },
   {
    "duration": 243,
    "start_time": "2022-03-11T23:09:26.772Z"
   },
   {
    "duration": 139,
    "start_time": "2022-03-11T23:09:27.165Z"
   },
   {
    "duration": 8,
    "start_time": "2022-03-11T23:09:33.129Z"
   },
   {
    "duration": 10,
    "start_time": "2022-03-11T23:09:33.675Z"
   },
   {
    "duration": 3,
    "start_time": "2022-03-11T23:09:37.498Z"
   },
   {
    "duration": 4,
    "start_time": "2022-03-11T23:09:37.867Z"
   },
   {
    "duration": 5,
    "start_time": "2022-03-11T23:09:38.287Z"
   },
   {
    "duration": 4,
    "start_time": "2022-03-11T23:09:39.668Z"
   },
   {
    "duration": 3,
    "start_time": "2022-03-11T23:09:41.430Z"
   },
   {
    "duration": 8,
    "start_time": "2022-03-11T23:09:42.777Z"
   },
   {
    "duration": 6727,
    "start_time": "2022-03-11T23:11:59.428Z"
   },
   {
    "duration": 6274,
    "start_time": "2022-03-11T23:12:55.928Z"
   },
   {
    "duration": 27,
    "start_time": "2022-03-11T23:13:47.718Z"
   },
   {
    "duration": 509,
    "start_time": "2022-03-11T23:14:40.238Z"
   },
   {
    "duration": 4,
    "start_time": "2022-03-11T23:15:09.108Z"
   },
   {
    "duration": 3,
    "start_time": "2022-03-11T23:16:44.218Z"
   },
   {
    "duration": 551,
    "start_time": "2022-03-11T23:16:53.827Z"
   },
   {
    "duration": 549,
    "start_time": "2022-03-11T23:17:08.568Z"
   },
   {
    "duration": 553,
    "start_time": "2022-03-11T23:17:21.269Z"
   },
   {
    "duration": 168,
    "start_time": "2022-03-11T23:18:53.987Z"
   },
   {
    "duration": 562,
    "start_time": "2022-03-11T23:21:06.753Z"
   },
   {
    "duration": 540,
    "start_time": "2022-03-11T23:22:41.996Z"
   },
   {
    "duration": 3,
    "start_time": "2022-03-11T23:24:51.054Z"
   },
   {
    "duration": 551,
    "start_time": "2022-03-11T23:24:51.244Z"
   },
   {
    "duration": 301,
    "start_time": "2022-03-11T23:32:34.631Z"
   },
   {
    "duration": 78,
    "start_time": "2022-03-11T23:35:03.529Z"
   },
   {
    "duration": 3,
    "start_time": "2022-03-11T23:37:19.541Z"
   },
   {
    "duration": 265,
    "start_time": "2022-03-11T23:37:19.731Z"
   },
   {
    "duration": 531,
    "start_time": "2022-03-11T23:37:31.750Z"
   },
   {
    "duration": 390,
    "start_time": "2022-03-11T23:37:39.790Z"
   },
   {
    "duration": 4,
    "start_time": "2022-03-11T23:37:59.031Z"
   },
   {
    "duration": 553,
    "start_time": "2022-03-11T23:37:59.660Z"
   },
   {
    "duration": 277,
    "start_time": "2022-03-11T23:38:08.750Z"
   },
   {
    "duration": 263,
    "start_time": "2022-03-11T23:39:18.347Z"
   },
   {
    "duration": 359,
    "start_time": "2022-03-12T09:49:00.807Z"
   },
   {
    "duration": -125,
    "start_time": "2022-03-12T09:49:01.292Z"
   },
   {
    "duration": 314,
    "start_time": "2022-03-12T09:49:01.239Z"
   },
   {
    "duration": 296,
    "start_time": "2022-03-12T09:49:01.623Z"
   },
   {
    "duration": 301,
    "start_time": "2022-03-12T09:49:02.059Z"
   },
   {
    "duration": 1128,
    "start_time": "2022-03-12T09:49:10.459Z"
   },
   {
    "duration": 304,
    "start_time": "2022-03-12T09:49:11.589Z"
   },
   {
    "duration": 18,
    "start_time": "2022-03-12T09:49:11.895Z"
   },
   {
    "duration": 13,
    "start_time": "2022-03-12T09:49:12.199Z"
   },
   {
    "duration": 9,
    "start_time": "2022-03-12T09:49:13.130Z"
   },
   {
    "duration": 200,
    "start_time": "2022-03-12T09:49:13.938Z"
   },
   {
    "duration": 110,
    "start_time": "2022-03-12T09:49:14.338Z"
   },
   {
    "duration": 7,
    "start_time": "2022-03-12T09:49:17.671Z"
   },
   {
    "duration": 7,
    "start_time": "2022-03-12T09:49:17.680Z"
   },
   {
    "duration": 2,
    "start_time": "2022-03-12T09:49:18.979Z"
   },
   {
    "duration": 2,
    "start_time": "2022-03-12T09:49:19.339Z"
   },
   {
    "duration": 3,
    "start_time": "2022-03-12T09:49:19.619Z"
   },
   {
    "duration": 3,
    "start_time": "2022-03-12T09:49:19.947Z"
   },
   {
    "duration": 2,
    "start_time": "2022-03-12T09:49:20.779Z"
   },
   {
    "duration": 1565,
    "start_time": "2022-03-14T09:03:33.833Z"
   },
   {
    "duration": 419,
    "start_time": "2022-03-14T09:03:35.401Z"
   },
   {
    "duration": 38,
    "start_time": "2022-03-14T09:03:35.823Z"
   },
   {
    "duration": 24,
    "start_time": "2022-03-14T09:03:36.517Z"
   },
   {
    "duration": 16,
    "start_time": "2022-03-14T09:03:37.819Z"
   },
   {
    "duration": 375,
    "start_time": "2022-03-14T09:03:42.693Z"
   },
   {
    "duration": 198,
    "start_time": "2022-03-14T09:03:43.697Z"
   },
   {
    "duration": 194,
    "start_time": "2022-03-14T09:03:57.778Z"
   },
   {
    "duration": 14,
    "start_time": "2022-03-14T09:20:16.957Z"
   },
   {
    "duration": 13,
    "start_time": "2022-03-14T09:20:17.596Z"
   },
   {
    "duration": 4,
    "start_time": "2022-03-14T09:20:19.883Z"
   },
   {
    "duration": 5,
    "start_time": "2022-03-14T09:20:20.220Z"
   },
   {
    "duration": 6,
    "start_time": "2022-03-14T09:20:20.696Z"
   },
   {
    "duration": 5,
    "start_time": "2022-03-14T09:20:21.715Z"
   },
   {
    "duration": 4,
    "start_time": "2022-03-14T09:20:23.496Z"
   },
   {
    "duration": 92,
    "start_time": "2022-03-14T09:20:24.024Z"
   },
   {
    "duration": 12,
    "start_time": "2022-03-14T09:21:13.396Z"
   },
   {
    "duration": 424,
    "start_time": "2022-03-14T09:21:23.120Z"
   },
   {
    "duration": 5,
    "start_time": "2022-03-14T09:21:30.676Z"
   },
   {
    "duration": 403,
    "start_time": "2022-03-14T09:21:31.336Z"
   },
   {
    "duration": 46,
    "start_time": "2022-03-14T09:21:31.742Z"
   },
   {
    "duration": 39,
    "start_time": "2022-03-14T09:21:31.791Z"
   },
   {
    "duration": 19,
    "start_time": "2022-03-14T09:21:32.124Z"
   },
   {
    "duration": 396,
    "start_time": "2022-03-14T09:21:32.497Z"
   },
   {
    "duration": 222,
    "start_time": "2022-03-14T09:21:32.895Z"
   },
   {
    "duration": 9,
    "start_time": "2022-03-14T09:21:33.596Z"
   },
   {
    "duration": 11,
    "start_time": "2022-03-14T09:21:33.963Z"
   },
   {
    "duration": 4,
    "start_time": "2022-03-14T09:21:35.236Z"
   },
   {
    "duration": 5,
    "start_time": "2022-03-14T09:21:35.426Z"
   },
   {
    "duration": 6,
    "start_time": "2022-03-14T09:21:35.656Z"
   },
   {
    "duration": 5,
    "start_time": "2022-03-14T09:21:36.196Z"
   },
   {
    "duration": 4,
    "start_time": "2022-03-14T09:21:37.136Z"
   },
   {
    "duration": 12,
    "start_time": "2022-03-14T09:21:37.616Z"
   },
   {
    "duration": 5,
    "start_time": "2022-03-14T09:21:43.037Z"
   },
   {
    "duration": 843,
    "start_time": "2022-03-14T09:21:43.564Z"
   },
   {
    "duration": 75,
    "start_time": "2022-03-14T09:21:44.412Z"
   },
   {
    "duration": 1454,
    "start_time": "2022-03-14T09:25:02.862Z"
   },
   {
    "duration": 553,
    "start_time": "2022-03-14T09:25:04.319Z"
   },
   {
    "duration": 20,
    "start_time": "2022-03-14T09:26:58.717Z"
   },
   {
    "duration": 20,
    "start_time": "2022-03-14T09:48:09.796Z"
   },
   {
    "duration": 4,
    "start_time": "2022-03-14T09:48:11.416Z"
   },
   {
    "duration": 59,
    "start_time": "2022-03-14T09:48:15.737Z"
   },
   {
    "duration": 39,
    "start_time": "2022-03-14T09:48:16.696Z"
   },
   {
    "duration": 24,
    "start_time": "2022-03-14T09:48:52.596Z"
   },
   {
    "duration": 24,
    "start_time": "2022-03-14T09:48:53.036Z"
   },
   {
    "duration": 4,
    "start_time": "2022-03-14T09:53:45.816Z"
   },
   {
    "duration": 803,
    "start_time": "2022-03-14T09:53:46.756Z"
   },
   {
    "duration": 408,
    "start_time": "2022-03-14T09:58:37.076Z"
   },
   {
    "duration": 7,
    "start_time": "2022-03-14T10:01:14.916Z"
   },
   {
    "duration": 1446,
    "start_time": "2022-03-14T10:02:49.822Z"
   },
   {
    "duration": 13,
    "start_time": "2022-03-14T10:02:58.417Z"
   },
   {
    "duration": 323,
    "start_time": "2022-03-14T10:21:13.438Z"
   },
   {
    "duration": 317,
    "start_time": "2022-03-14T10:22:10.518Z"
   },
   {
    "duration": 123,
    "start_time": "2022-03-14T10:24:28.676Z"
   },
   {
    "duration": 340,
    "start_time": "2022-03-14T10:24:50.404Z"
   },
   {
    "duration": 399,
    "start_time": "2022-03-14T10:26:30.295Z"
   },
   {
    "duration": 110,
    "start_time": "2022-03-14T10:49:50.804Z"
   },
   {
    "duration": 314,
    "start_time": "2022-03-14T11:04:58.225Z"
   },
   {
    "duration": 312,
    "start_time": "2022-03-14T11:05:44.205Z"
   },
   {
    "duration": 191,
    "start_time": "2022-03-14T11:06:23.657Z"
   },
   {
    "duration": 170,
    "start_time": "2022-03-14T11:07:41.997Z"
   },
   {
    "duration": 82,
    "start_time": "2022-03-14T11:11:20.125Z"
   },
   {
    "duration": 301,
    "start_time": "2022-03-14T11:12:27.477Z"
   },
   {
    "duration": 5802,
    "start_time": "2022-03-14T11:12:36.146Z"
   },
   {
    "duration": 79,
    "start_time": "2022-03-14T11:13:11.026Z"
   },
   {
    "duration": 103,
    "start_time": "2022-03-14T11:15:03.625Z"
   },
   {
    "duration": 294,
    "start_time": "2022-03-14T11:16:20.976Z"
   },
   {
    "duration": 290,
    "start_time": "2022-03-14T11:16:26.758Z"
   },
   {
    "duration": 298,
    "start_time": "2022-03-14T11:17:03.177Z"
   },
   {
    "duration": 97,
    "start_time": "2022-03-14T11:17:30.117Z"
   },
   {
    "duration": 78,
    "start_time": "2022-03-14T11:17:43.937Z"
   },
   {
    "duration": 72,
    "start_time": "2022-03-14T11:20:37.298Z"
   },
   {
    "duration": 277,
    "start_time": "2022-03-14T11:20:44.857Z"
   },
   {
    "duration": 371,
    "start_time": "2022-03-14T11:25:20.037Z"
   },
   {
    "duration": 137,
    "start_time": "2022-03-14T11:27:36.705Z"
   },
   {
    "duration": 256,
    "start_time": "2022-03-14T11:27:47.285Z"
   },
   {
    "duration": 36,
    "start_time": "2022-03-14T11:37:34.752Z"
   },
   {
    "duration": 95,
    "start_time": "2022-03-14T11:41:12.439Z"
   },
   {
    "duration": 29,
    "start_time": "2022-03-14T11:41:24.871Z"
   },
   {
    "duration": 1596,
    "start_time": "2022-03-14T11:42:21.592Z"
   },
   {
    "duration": 13,
    "start_time": "2022-03-14T11:42:24.192Z"
   },
   {
    "duration": 87,
    "start_time": "2022-03-14T11:42:25.712Z"
   },
   {
    "duration": 28,
    "start_time": "2022-03-14T11:42:26.538Z"
   },
   {
    "duration": 1552,
    "start_time": "2022-03-14T11:43:13.591Z"
   },
   {
    "duration": 13,
    "start_time": "2022-03-14T11:43:15.146Z"
   },
   {
    "duration": 87,
    "start_time": "2022-03-14T11:43:18.908Z"
   },
   {
    "duration": 66,
    "start_time": "2022-03-14T11:43:22.971Z"
   },
   {
    "duration": 5,
    "start_time": "2022-03-14T11:43:35.810Z"
   },
   {
    "duration": 404,
    "start_time": "2022-03-14T11:43:36.491Z"
   },
   {
    "duration": 28,
    "start_time": "2022-03-14T11:43:36.897Z"
   },
   {
    "duration": 22,
    "start_time": "2022-03-14T11:43:36.954Z"
   },
   {
    "duration": 16,
    "start_time": "2022-03-14T11:43:37.451Z"
   },
   {
    "duration": 375,
    "start_time": "2022-03-14T11:43:37.871Z"
   },
   {
    "duration": 220,
    "start_time": "2022-03-14T11:43:38.249Z"
   },
   {
    "duration": 9,
    "start_time": "2022-03-14T11:43:39.191Z"
   },
   {
    "duration": 11,
    "start_time": "2022-03-14T11:43:39.491Z"
   },
   {
    "duration": 4,
    "start_time": "2022-03-14T11:43:40.690Z"
   },
   {
    "duration": 4,
    "start_time": "2022-03-14T11:43:40.903Z"
   },
   {
    "duration": 6,
    "start_time": "2022-03-14T11:43:41.151Z"
   },
   {
    "duration": 5,
    "start_time": "2022-03-14T11:43:41.390Z"
   },
   {
    "duration": 4,
    "start_time": "2022-03-14T11:43:42.091Z"
   },
   {
    "duration": 11,
    "start_time": "2022-03-14T11:43:42.311Z"
   },
   {
    "duration": 5,
    "start_time": "2022-03-14T11:43:46.250Z"
   },
   {
    "duration": 71,
    "start_time": "2022-03-14T11:43:46.452Z"
   },
   {
    "duration": 35,
    "start_time": "2022-03-14T11:43:46.669Z"
   },
   {
    "duration": 1443,
    "start_time": "2022-03-14T11:43:50.030Z"
   },
   {
    "duration": 531,
    "start_time": "2022-03-14T11:43:51.475Z"
   },
   {
    "duration": 17,
    "start_time": "2022-03-14T11:43:57.330Z"
   },
   {
    "duration": 22,
    "start_time": "2022-03-14T11:44:25.351Z"
   },
   {
    "duration": 5,
    "start_time": "2022-03-14T11:44:25.539Z"
   },
   {
    "duration": 57,
    "start_time": "2022-03-14T11:44:25.812Z"
   },
   {
    "duration": 38,
    "start_time": "2022-03-14T11:44:26.160Z"
   },
   {
    "duration": 27,
    "start_time": "2022-03-14T11:44:26.691Z"
   },
   {
    "duration": 26,
    "start_time": "2022-03-14T11:44:27.054Z"
   },
   {
    "duration": 7,
    "start_time": "2022-03-14T11:44:31.019Z"
   },
   {
    "duration": 1726,
    "start_time": "2022-03-14T11:44:36.391Z"
   },
   {
    "duration": 13,
    "start_time": "2022-03-14T11:44:38.120Z"
   },
   {
    "duration": 25,
    "start_time": "2022-03-14T11:44:50.347Z"
   },
   {
    "duration": 155,
    "start_time": "2022-03-14T11:45:35.079Z"
   },
   {
    "duration": 101,
    "start_time": "2022-03-14T11:45:39.326Z"
   },
   {
    "duration": 5,
    "start_time": "2022-03-14T11:55:00.480Z"
   },
   {
    "duration": 585,
    "start_time": "2022-03-14T11:55:01.139Z"
   },
   {
    "duration": 29,
    "start_time": "2022-03-14T11:55:01.727Z"
   },
   {
    "duration": 45,
    "start_time": "2022-03-14T11:55:01.758Z"
   },
   {
    "duration": 20,
    "start_time": "2022-03-14T11:55:01.864Z"
   },
   {
    "duration": 403,
    "start_time": "2022-03-14T11:55:02.250Z"
   },
   {
    "duration": 233,
    "start_time": "2022-03-14T11:55:02.656Z"
   },
   {
    "duration": 10,
    "start_time": "2022-03-14T11:55:03.210Z"
   },
   {
    "duration": 11,
    "start_time": "2022-03-14T11:55:03.385Z"
   },
   {
    "duration": 3,
    "start_time": "2022-03-14T11:55:04.402Z"
   },
   {
    "duration": 4,
    "start_time": "2022-03-14T11:55:04.587Z"
   },
   {
    "duration": 6,
    "start_time": "2022-03-14T11:55:04.810Z"
   },
   {
    "duration": 5,
    "start_time": "2022-03-14T11:55:05.001Z"
   },
   {
    "duration": 4,
    "start_time": "2022-03-14T11:55:05.430Z"
   },
   {
    "duration": 9,
    "start_time": "2022-03-14T11:55:05.627Z"
   },
   {
    "duration": 5,
    "start_time": "2022-03-14T11:55:07.871Z"
   },
   {
    "duration": 76,
    "start_time": "2022-03-14T11:55:09.018Z"
   },
   {
    "duration": 35,
    "start_time": "2022-03-14T11:55:09.891Z"
   },
   {
    "duration": 1464,
    "start_time": "2022-03-14T11:55:11.918Z"
   },
   {
    "duration": 544,
    "start_time": "2022-03-14T11:55:13.384Z"
   },
   {
    "duration": 18,
    "start_time": "2022-03-14T11:55:15.118Z"
   },
   {
    "duration": 20,
    "start_time": "2022-03-14T11:55:16.810Z"
   },
   {
    "duration": 5,
    "start_time": "2022-03-14T11:55:17.191Z"
   },
   {
    "duration": 53,
    "start_time": "2022-03-14T11:55:19.930Z"
   },
   {
    "duration": 36,
    "start_time": "2022-03-14T11:55:20.098Z"
   },
   {
    "duration": 1473,
    "start_time": "2022-03-14T11:55:36.664Z"
   },
   {
    "duration": 1119,
    "start_time": "2022-03-14T11:55:38.140Z"
   },
   {
    "duration": 41,
    "start_time": "2022-03-14T11:55:39.262Z"
   },
   {
    "duration": 33,
    "start_time": "2022-03-14T11:55:39.306Z"
   },
   {
    "duration": 47,
    "start_time": "2022-03-14T11:55:39.341Z"
   },
   {
    "duration": 380,
    "start_time": "2022-03-14T11:55:39.390Z"
   },
   {
    "duration": 237,
    "start_time": "2022-03-14T11:55:39.772Z"
   },
   {
    "duration": 16,
    "start_time": "2022-03-14T11:55:40.012Z"
   },
   {
    "duration": 11,
    "start_time": "2022-03-14T11:55:40.032Z"
   },
   {
    "duration": 4,
    "start_time": "2022-03-14T11:55:41.007Z"
   },
   {
    "duration": 5,
    "start_time": "2022-03-14T11:55:41.212Z"
   },
   {
    "duration": 8,
    "start_time": "2022-03-14T11:55:41.464Z"
   },
   {
    "duration": 5,
    "start_time": "2022-03-14T11:55:41.856Z"
   },
   {
    "duration": 4,
    "start_time": "2022-03-14T11:55:42.717Z"
   },
   {
    "duration": 12,
    "start_time": "2022-03-14T11:55:43.016Z"
   },
   {
    "duration": 5,
    "start_time": "2022-03-14T11:55:47.344Z"
   },
   {
    "duration": 949,
    "start_time": "2022-03-14T11:55:47.796Z"
   },
   {
    "duration": 45,
    "start_time": "2022-03-14T11:55:49.100Z"
   },
   {
    "duration": 1572,
    "start_time": "2022-03-14T11:55:52.474Z"
   },
   {
    "duration": 598,
    "start_time": "2022-03-14T11:55:54.050Z"
   },
   {
    "duration": 37,
    "start_time": "2022-03-14T11:55:54.651Z"
   },
   {
    "duration": 21,
    "start_time": "2022-03-14T11:55:56.764Z"
   },
   {
    "duration": 5,
    "start_time": "2022-03-14T11:55:57.244Z"
   },
   {
    "duration": 56,
    "start_time": "2022-03-14T11:55:58.176Z"
   },
   {
    "duration": 40,
    "start_time": "2022-03-14T11:55:58.727Z"
   },
   {
    "duration": 23,
    "start_time": "2022-03-14T11:55:59.976Z"
   },
   {
    "duration": 23,
    "start_time": "2022-03-14T11:56:00.476Z"
   },
   {
    "duration": 7,
    "start_time": "2022-03-14T11:56:03.870Z"
   },
   {
    "duration": 1503,
    "start_time": "2022-03-14T11:56:04.456Z"
   },
   {
    "duration": 24,
    "start_time": "2022-03-14T11:56:06.917Z"
   },
   {
    "duration": 15,
    "start_time": "2022-03-14T11:56:14.516Z"
   },
   {
    "duration": 96,
    "start_time": "2022-03-14T11:56:24.455Z"
   },
   {
    "duration": 75,
    "start_time": "2022-03-14T11:56:31.138Z"
   },
   {
    "duration": 1523,
    "start_time": "2022-03-14T11:59:59.385Z"
   },
   {
    "duration": 412,
    "start_time": "2022-03-14T12:00:00.911Z"
   },
   {
    "duration": 34,
    "start_time": "2022-03-14T12:00:01.326Z"
   },
   {
    "duration": 62,
    "start_time": "2022-03-14T12:00:01.362Z"
   },
   {
    "duration": 29,
    "start_time": "2022-03-14T12:00:01.427Z"
   },
   {
    "duration": 387,
    "start_time": "2022-03-14T12:00:01.471Z"
   },
   {
    "duration": 247,
    "start_time": "2022-03-14T12:00:01.862Z"
   },
   {
    "duration": 16,
    "start_time": "2022-03-14T12:00:02.737Z"
   },
   {
    "duration": 15,
    "start_time": "2022-03-14T12:00:02.954Z"
   },
   {
    "duration": 4,
    "start_time": "2022-03-14T12:00:04.305Z"
   },
   {
    "duration": 4,
    "start_time": "2022-03-14T12:00:04.557Z"
   },
   {
    "duration": 7,
    "start_time": "2022-03-14T12:00:04.737Z"
   },
   {
    "duration": 6,
    "start_time": "2022-03-14T12:00:04.959Z"
   },
   {
    "duration": 4,
    "start_time": "2022-03-14T12:00:05.525Z"
   },
   {
    "duration": 10,
    "start_time": "2022-03-14T12:00:05.725Z"
   },
   {
    "duration": 5,
    "start_time": "2022-03-14T12:00:07.505Z"
   },
   {
    "duration": 834,
    "start_time": "2022-03-14T12:00:07.925Z"
   },
   {
    "duration": 41,
    "start_time": "2022-03-14T12:00:08.846Z"
   },
   {
    "duration": 1429,
    "start_time": "2022-03-14T12:00:11.697Z"
   },
   {
    "duration": 565,
    "start_time": "2022-03-14T12:00:13.129Z"
   },
   {
    "duration": 22,
    "start_time": "2022-03-14T12:00:15.910Z"
   },
   {
    "duration": 22,
    "start_time": "2022-03-14T12:00:23.897Z"
   },
   {
    "duration": 4,
    "start_time": "2022-03-14T12:00:24.606Z"
   },
   {
    "duration": 58,
    "start_time": "2022-03-14T12:00:24.925Z"
   },
   {
    "duration": 37,
    "start_time": "2022-03-14T12:00:25.185Z"
   },
   {
    "duration": 26,
    "start_time": "2022-03-14T12:00:25.848Z"
   },
   {
    "duration": 22,
    "start_time": "2022-03-14T12:00:26.205Z"
   },
   {
    "duration": 7,
    "start_time": "2022-03-14T12:01:03.845Z"
   },
   {
    "duration": 1506,
    "start_time": "2022-03-14T12:01:04.225Z"
   },
   {
    "duration": 17,
    "start_time": "2022-03-14T12:01:05.734Z"
   },
   {
    "duration": 76,
    "start_time": "2022-03-14T12:03:48.658Z"
   },
   {
    "duration": 56,
    "start_time": "2022-03-14T12:03:53.477Z"
   },
   {
    "duration": 24,
    "start_time": "2022-03-14T12:06:39.885Z"
   },
   {
    "duration": 1830,
    "start_time": "2022-03-14T12:07:45.789Z"
   },
   {
    "duration": 29,
    "start_time": "2022-03-14T12:07:47.623Z"
   },
   {
    "duration": 82,
    "start_time": "2022-03-14T12:07:55.778Z"
   },
   {
    "duration": 56,
    "start_time": "2022-03-14T12:07:56.574Z"
   },
   {
    "duration": 5,
    "start_time": "2022-03-14T12:08:05.257Z"
   },
   {
    "duration": 475,
    "start_time": "2022-03-14T12:08:05.837Z"
   },
   {
    "duration": 41,
    "start_time": "2022-03-14T12:08:06.315Z"
   },
   {
    "duration": 59,
    "start_time": "2022-03-14T12:08:06.360Z"
   },
   {
    "duration": 26,
    "start_time": "2022-03-14T12:08:06.598Z"
   },
   {
    "duration": 494,
    "start_time": "2022-03-14T12:08:06.978Z"
   },
   {
    "duration": 220,
    "start_time": "2022-03-14T12:08:07.482Z"
   },
   {
    "duration": 9,
    "start_time": "2022-03-14T12:08:07.938Z"
   },
   {
    "duration": 11,
    "start_time": "2022-03-14T12:08:08.118Z"
   },
   {
    "duration": 4,
    "start_time": "2022-03-14T12:08:09.146Z"
   },
   {
    "duration": 4,
    "start_time": "2022-03-14T12:08:09.345Z"
   },
   {
    "duration": 6,
    "start_time": "2022-03-14T12:08:09.585Z"
   },
   {
    "duration": 5,
    "start_time": "2022-03-14T12:08:09.798Z"
   },
   {
    "duration": 4,
    "start_time": "2022-03-14T12:08:10.257Z"
   },
   {
    "duration": 9,
    "start_time": "2022-03-14T12:08:10.457Z"
   },
   {
    "duration": 5,
    "start_time": "2022-03-14T12:08:11.585Z"
   },
   {
    "duration": 68,
    "start_time": "2022-03-14T12:08:11.757Z"
   },
   {
    "duration": 34,
    "start_time": "2022-03-14T12:08:11.983Z"
   },
   {
    "duration": 1403,
    "start_time": "2022-03-14T12:08:12.845Z"
   },
   {
    "duration": 513,
    "start_time": "2022-03-14T12:08:14.251Z"
   },
   {
    "duration": 25,
    "start_time": "2022-03-14T12:08:14.767Z"
   },
   {
    "duration": 19,
    "start_time": "2022-03-14T12:08:14.795Z"
   },
   {
    "duration": 4,
    "start_time": "2022-03-14T12:08:15.125Z"
   },
   {
    "duration": 53,
    "start_time": "2022-03-14T12:08:15.357Z"
   },
   {
    "duration": 35,
    "start_time": "2022-03-14T12:08:15.617Z"
   },
   {
    "duration": 24,
    "start_time": "2022-03-14T12:08:16.677Z"
   },
   {
    "duration": 20,
    "start_time": "2022-03-14T12:08:17.019Z"
   },
   {
    "duration": 8,
    "start_time": "2022-03-14T12:08:31.498Z"
   },
   {
    "duration": 1570,
    "start_time": "2022-03-14T12:08:31.664Z"
   },
   {
    "duration": 23,
    "start_time": "2022-03-14T12:08:33.237Z"
   },
   {
    "duration": 4,
    "start_time": "2022-03-14T12:09:04.237Z"
   },
   {
    "duration": 119,
    "start_time": "2022-03-14T12:09:31.198Z"
   },
   {
    "duration": 45,
    "start_time": "2022-03-14T12:09:33.998Z"
   },
   {
    "duration": 89,
    "start_time": "2022-03-14T12:11:54.886Z"
   },
   {
    "duration": 44,
    "start_time": "2022-03-14T12:11:56.277Z"
   },
   {
    "duration": 1470,
    "start_time": "2022-03-14T12:14:19.478Z"
   },
   {
    "duration": 410,
    "start_time": "2022-03-14T12:14:20.951Z"
   },
   {
    "duration": 37,
    "start_time": "2022-03-14T12:14:21.364Z"
   },
   {
    "duration": 32,
    "start_time": "2022-03-14T12:14:21.403Z"
   },
   {
    "duration": 17,
    "start_time": "2022-03-14T12:14:21.437Z"
   },
   {
    "duration": 377,
    "start_time": "2022-03-14T12:14:21.457Z"
   },
   {
    "duration": 212,
    "start_time": "2022-03-14T12:14:21.836Z"
   },
   {
    "duration": 14,
    "start_time": "2022-03-14T12:14:22.140Z"
   },
   {
    "duration": 11,
    "start_time": "2022-03-14T12:14:22.338Z"
   },
   {
    "duration": 4,
    "start_time": "2022-03-14T12:14:23.317Z"
   },
   {
    "duration": 4,
    "start_time": "2022-03-14T12:14:23.498Z"
   },
   {
    "duration": 6,
    "start_time": "2022-03-14T12:14:23.698Z"
   },
   {
    "duration": 5,
    "start_time": "2022-03-14T12:14:23.873Z"
   },
   {
    "duration": 4,
    "start_time": "2022-03-14T12:14:24.281Z"
   },
   {
    "duration": 11,
    "start_time": "2022-03-14T12:14:24.478Z"
   },
   {
    "duration": 8,
    "start_time": "2022-03-14T12:14:25.478Z"
   },
   {
    "duration": 720,
    "start_time": "2022-03-14T12:14:25.638Z"
   },
   {
    "duration": 52,
    "start_time": "2022-03-14T12:14:26.361Z"
   },
   {
    "duration": 1541,
    "start_time": "2022-03-14T12:14:26.441Z"
   },
   {
    "duration": 541,
    "start_time": "2022-03-14T12:14:27.984Z"
   },
   {
    "duration": 16,
    "start_time": "2022-03-14T12:14:28.528Z"
   },
   {
    "duration": 39,
    "start_time": "2022-03-14T12:14:28.547Z"
   },
   {
    "duration": 4,
    "start_time": "2022-03-14T12:14:28.589Z"
   },
   {
    "duration": 57,
    "start_time": "2022-03-14T12:14:28.605Z"
   },
   {
    "duration": 37,
    "start_time": "2022-03-14T12:14:28.803Z"
   },
   {
    "duration": 23,
    "start_time": "2022-03-14T12:14:29.737Z"
   },
   {
    "duration": 22,
    "start_time": "2022-03-14T12:14:30.166Z"
   },
   {
    "duration": 7,
    "start_time": "2022-03-14T12:14:31.539Z"
   },
   {
    "duration": 1530,
    "start_time": "2022-03-14T12:14:32.078Z"
   },
   {
    "duration": 23,
    "start_time": "2022-03-14T12:14:33.611Z"
   },
   {
    "duration": 6,
    "start_time": "2022-03-14T12:14:37.619Z"
   },
   {
    "duration": 93,
    "start_time": "2022-03-14T12:14:44.706Z"
   },
   {
    "duration": 23,
    "start_time": "2022-03-14T12:14:50.458Z"
   },
   {
    "duration": 45,
    "start_time": "2022-03-14T12:14:55.898Z"
   },
   {
    "duration": 32,
    "start_time": "2022-03-14T12:19:51.640Z"
   },
   {
    "duration": 14,
    "start_time": "2022-03-14T12:20:41.039Z"
   },
   {
    "duration": 1581,
    "start_time": "2022-03-15T07:47:39.993Z"
   },
   {
    "duration": 902,
    "start_time": "2022-03-15T07:47:41.577Z"
   },
   {
    "duration": 25,
    "start_time": "2022-03-15T07:47:58.596Z"
   },
   {
    "duration": 406,
    "start_time": "2022-03-15T07:48:19.476Z"
   },
   {
    "duration": 230,
    "start_time": "2022-03-15T07:48:19.886Z"
   },
   {
    "duration": 387,
    "start_time": "2022-03-15T07:48:20.155Z"
   },
   {
    "duration": 486,
    "start_time": "2022-03-15T07:52:21.836Z"
   },
   {
    "duration": 320,
    "start_time": "2022-03-15T07:52:37.435Z"
   },
   {
    "duration": 6,
    "start_time": "2022-03-15T07:53:02.293Z"
   },
   {
    "duration": 6,
    "start_time": "2022-03-15T07:53:17.199Z"
   },
   {
    "duration": 4,
    "start_time": "2022-03-15T07:53:29.076Z"
   },
   {
    "duration": 5,
    "start_time": "2022-03-15T07:53:44.115Z"
   },
   {
    "duration": 716,
    "start_time": "2022-03-15T07:54:09.597Z"
   },
   {
    "duration": 511,
    "start_time": "2022-03-15T07:55:02.108Z"
   },
   {
    "duration": 76,
    "start_time": "2022-03-15T07:55:09.315Z"
   },
   {
    "duration": 14,
    "start_time": "2022-03-15T08:04:59.511Z"
   },
   {
    "duration": 1013,
    "start_time": "2022-03-15T08:08:06.470Z"
   },
   {
    "duration": 904,
    "start_time": "2022-03-15T08:08:14.551Z"
   },
   {
    "duration": 16,
    "start_time": "2022-03-15T08:13:35.171Z"
   },
   {
    "duration": 14,
    "start_time": "2022-03-15T08:13:35.385Z"
   },
   {
    "duration": 122,
    "start_time": "2022-03-15T08:20:48.451Z"
   },
   {
    "duration": 2348,
    "start_time": "2022-03-15T08:21:28.791Z"
   },
   {
    "duration": 531,
    "start_time": "2022-03-15T08:22:09.671Z"
   },
   {
    "duration": 25,
    "start_time": "2022-03-15T08:22:22.952Z"
   },
   {
    "duration": 4,
    "start_time": "2022-03-15T08:26:34.892Z"
   },
   {
    "duration": 19,
    "start_time": "2022-03-15T08:26:35.110Z"
   },
   {
    "duration": 113,
    "start_time": "2022-03-15T08:27:34.771Z"
   },
   {
    "duration": 29,
    "start_time": "2022-03-15T08:27:45.031Z"
   },
   {
    "duration": 149,
    "start_time": "2022-03-15T08:33:17.250Z"
   },
   {
    "duration": 3,
    "start_time": "2022-03-15T08:33:21.530Z"
   },
   {
    "duration": 31,
    "start_time": "2022-03-15T08:39:23.991Z"
   },
   {
    "duration": 4,
    "start_time": "2022-03-15T08:39:26.050Z"
   },
   {
    "duration": 136,
    "start_time": "2022-03-15T08:39:26.430Z"
   },
   {
    "duration": 39,
    "start_time": "2022-03-15T08:39:27.690Z"
   },
   {
    "duration": 5,
    "start_time": "2022-03-15T08:39:44.230Z"
   },
   {
    "duration": 24,
    "start_time": "2022-03-15T08:39:45.750Z"
   },
   {
    "duration": 6,
    "start_time": "2022-03-15T08:41:04.350Z"
   },
   {
    "duration": 927,
    "start_time": "2022-03-15T08:41:05.091Z"
   },
   {
    "duration": 32,
    "start_time": "2022-03-15T08:41:06.021Z"
   },
   {
    "duration": 29,
    "start_time": "2022-03-15T08:41:06.074Z"
   },
   {
    "duration": 21,
    "start_time": "2022-03-15T08:41:06.106Z"
   },
   {
    "duration": 39,
    "start_time": "2022-03-15T08:41:06.175Z"
   },
   {
    "duration": 393,
    "start_time": "2022-03-15T08:41:06.572Z"
   },
   {
    "duration": 258,
    "start_time": "2022-03-15T08:41:06.968Z"
   },
   {
    "duration": 445,
    "start_time": "2022-03-15T08:41:07.229Z"
   },
   {
    "duration": 11,
    "start_time": "2022-03-15T08:41:08.723Z"
   },
   {
    "duration": 12,
    "start_time": "2022-03-15T08:41:09.210Z"
   },
   {
    "duration": 3,
    "start_time": "2022-03-15T08:41:10.731Z"
   },
   {
    "duration": 5,
    "start_time": "2022-03-15T08:41:10.927Z"
   },
   {
    "duration": 6,
    "start_time": "2022-03-15T08:41:11.135Z"
   },
   {
    "duration": 5,
    "start_time": "2022-03-15T08:41:11.411Z"
   },
   {
    "duration": 4,
    "start_time": "2022-03-15T08:41:11.946Z"
   },
   {
    "duration": 9,
    "start_time": "2022-03-15T08:41:12.231Z"
   },
   {
    "duration": 3,
    "start_time": "2022-03-15T08:41:14.351Z"
   },
   {
    "duration": 6,
    "start_time": "2022-03-15T08:41:14.590Z"
   },
   {
    "duration": 38,
    "start_time": "2022-03-15T08:41:15.012Z"
   },
   {
    "duration": 74,
    "start_time": "2022-03-15T08:41:16.550Z"
   },
   {
    "duration": 826,
    "start_time": "2022-03-15T08:41:18.191Z"
   },
   {
    "duration": 12,
    "start_time": "2022-03-15T08:41:19.020Z"
   },
   {
    "duration": 11,
    "start_time": "2022-03-15T08:41:19.126Z"
   },
   {
    "duration": 75,
    "start_time": "2022-03-15T08:41:30.330Z"
   },
   {
    "duration": 2279,
    "start_time": "2022-03-15T08:41:31.951Z"
   },
   {
    "duration": 22,
    "start_time": "2022-03-15T08:41:35.951Z"
   },
   {
    "duration": 5,
    "start_time": "2022-03-15T08:41:39.070Z"
   },
   {
    "duration": 20,
    "start_time": "2022-03-15T08:41:39.255Z"
   },
   {
    "duration": 102,
    "start_time": "2022-03-15T08:41:39.451Z"
   },
   {
    "duration": 28,
    "start_time": "2022-03-15T08:41:39.649Z"
   },
   {
    "duration": 156,
    "start_time": "2022-03-15T08:45:05.745Z"
   },
   {
    "duration": 6,
    "start_time": "2022-03-15T08:45:10.718Z"
   },
   {
    "duration": 7,
    "start_time": "2022-03-15T08:45:49.488Z"
   },
   {
    "duration": 351,
    "start_time": "2022-03-15T08:54:29.900Z"
   },
   {
    "duration": 8,
    "start_time": "2022-03-15T08:54:43.388Z"
   },
   {
    "duration": 8,
    "start_time": "2022-03-15T08:55:02.783Z"
   },
   {
    "duration": 7,
    "start_time": "2022-03-15T08:58:09.826Z"
   },
   {
    "duration": 8,
    "start_time": "2022-03-15T08:58:43.858Z"
   },
   {
    "duration": 8,
    "start_time": "2022-03-15T09:07:34.440Z"
   },
   {
    "duration": 10,
    "start_time": "2022-03-15T09:07:47.068Z"
   },
   {
    "duration": 506,
    "start_time": "2022-03-15T09:16:34.639Z"
   },
   {
    "duration": 6,
    "start_time": "2022-03-15T09:17:04.260Z"
   },
   {
    "duration": 8,
    "start_time": "2022-03-15T09:17:48.336Z"
   },
   {
    "duration": 383,
    "start_time": "2022-03-15T09:19:15.419Z"
   },
   {
    "duration": 477,
    "start_time": "2022-03-15T09:19:29.019Z"
   },
   {
    "duration": 379,
    "start_time": "2022-03-15T09:19:45.728Z"
   },
   {
    "duration": 335,
    "start_time": "2022-03-15T09:19:55.759Z"
   },
   {
    "duration": 331,
    "start_time": "2022-03-15T09:20:51.655Z"
   },
   {
    "duration": 302,
    "start_time": "2022-03-15T09:20:59.600Z"
   },
   {
    "duration": 339,
    "start_time": "2022-03-15T09:21:24.679Z"
   },
   {
    "duration": 362,
    "start_time": "2022-03-15T09:21:30.399Z"
   },
   {
    "duration": 10,
    "start_time": "2022-03-15T09:21:46.239Z"
   },
   {
    "duration": 18,
    "start_time": "2022-03-15T09:22:02.019Z"
   },
   {
    "duration": 62,
    "start_time": "2022-03-15T09:22:09.099Z"
   },
   {
    "duration": 13,
    "start_time": "2022-03-15T09:22:12.584Z"
   },
   {
    "duration": 691,
    "start_time": "2022-03-15T09:27:48.839Z"
   },
   {
    "duration": 477,
    "start_time": "2022-03-15T09:28:30.392Z"
   },
   {
    "duration": 207,
    "start_time": "2022-03-15T09:28:30.671Z"
   },
   {
    "duration": 54,
    "start_time": "2022-03-15T09:28:49.681Z"
   },
   {
    "duration": 11,
    "start_time": "2022-03-15T09:28:50.619Z"
   },
   {
    "duration": 475,
    "start_time": "2022-03-15T09:29:23.660Z"
   },
   {
    "duration": 341,
    "start_time": "2022-03-15T09:29:51.639Z"
   },
   {
    "duration": 59,
    "start_time": "2022-03-15T09:29:57.459Z"
   },
   {
    "duration": 12,
    "start_time": "2022-03-15T09:29:58.198Z"
   },
   {
    "duration": 733,
    "start_time": "2022-03-15T09:30:02.760Z"
   },
   {
    "duration": 496,
    "start_time": "2022-03-15T09:30:32.159Z"
   },
   {
    "duration": 564,
    "start_time": "2022-03-15T09:32:00.959Z"
   },
   {
    "duration": 479,
    "start_time": "2022-03-15T09:33:41.982Z"
   },
   {
    "duration": 463,
    "start_time": "2022-03-15T09:34:16.188Z"
   },
   {
    "duration": 404,
    "start_time": "2022-03-15T09:34:33.939Z"
   },
   {
    "duration": 401,
    "start_time": "2022-03-15T09:35:11.379Z"
   },
   {
    "duration": 555,
    "start_time": "2022-03-15T09:35:45.104Z"
   },
   {
    "duration": 758,
    "start_time": "2022-03-15T09:35:56.228Z"
   },
   {
    "duration": 501,
    "start_time": "2022-03-15T09:36:48.831Z"
   },
   {
    "duration": 485,
    "start_time": "2022-03-15T09:41:51.140Z"
   },
   {
    "duration": 464,
    "start_time": "2022-03-15T09:41:55.738Z"
   },
   {
    "duration": 445,
    "start_time": "2022-03-15T09:44:11.852Z"
   },
   {
    "duration": 542,
    "start_time": "2022-03-15T09:44:19.285Z"
   },
   {
    "duration": 439,
    "start_time": "2022-03-15T09:44:25.318Z"
   },
   {
    "duration": 455,
    "start_time": "2022-03-15T09:45:16.058Z"
   },
   {
    "duration": 465,
    "start_time": "2022-03-15T09:45:34.879Z"
   },
   {
    "duration": 463,
    "start_time": "2022-03-15T09:46:46.463Z"
   },
   {
    "duration": 449,
    "start_time": "2022-03-15T09:46:53.899Z"
   },
   {
    "duration": 607,
    "start_time": "2022-03-15T09:46:59.018Z"
   },
   {
    "duration": 159,
    "start_time": "2022-03-15T09:47:42.325Z"
   },
   {
    "duration": 488,
    "start_time": "2022-03-15T09:47:47.440Z"
   },
   {
    "duration": 497,
    "start_time": "2022-03-15T09:48:12.041Z"
   },
   {
    "duration": 439,
    "start_time": "2022-03-15T09:48:19.317Z"
   },
   {
    "duration": 448,
    "start_time": "2022-03-15T09:50:10.306Z"
   },
   {
    "duration": 414,
    "start_time": "2022-03-15T09:50:21.380Z"
   },
   {
    "duration": 457,
    "start_time": "2022-03-15T09:50:37.039Z"
   },
   {
    "duration": 3,
    "start_time": "2022-03-15T09:50:52.838Z"
   },
   {
    "duration": 69,
    "start_time": "2022-03-15T09:54:04.624Z"
   },
   {
    "duration": 18,
    "start_time": "2022-03-15T09:54:05.179Z"
   },
   {
    "duration": 457,
    "start_time": "2022-03-15T09:54:06.858Z"
   },
   {
    "duration": 56,
    "start_time": "2022-03-15T09:54:18.659Z"
   },
   {
    "duration": 12,
    "start_time": "2022-03-15T09:54:19.898Z"
   },
   {
    "duration": 537,
    "start_time": "2022-03-15T09:54:22.880Z"
   },
   {
    "duration": 6,
    "start_time": "2022-03-15T09:59:44.598Z"
   },
   {
    "duration": 89,
    "start_time": "2022-03-15T10:03:23.818Z"
   },
   {
    "duration": 13,
    "start_time": "2022-03-15T10:03:24.198Z"
   },
   {
    "duration": 431,
    "start_time": "2022-03-15T10:03:34.779Z"
   },
   {
    "duration": 52,
    "start_time": "2022-03-15T10:04:02.886Z"
   },
   {
    "duration": 12,
    "start_time": "2022-03-15T10:04:03.198Z"
   },
   {
    "duration": 420,
    "start_time": "2022-03-15T10:04:04.058Z"
   },
   {
    "duration": 121,
    "start_time": "2022-03-15T10:19:50.118Z"
   },
   {
    "duration": 9,
    "start_time": "2022-03-15T10:19:56.392Z"
   },
   {
    "duration": 145,
    "start_time": "2022-03-15T10:27:23.559Z"
   },
   {
    "duration": 65,
    "start_time": "2022-03-15T10:27:33.540Z"
   },
   {
    "duration": 7,
    "start_time": "2022-03-15T10:27:52.459Z"
   },
   {
    "duration": 153,
    "start_time": "2022-03-15T10:28:30.362Z"
   },
   {
    "duration": 24,
    "start_time": "2022-03-15T10:28:45.621Z"
   },
   {
    "duration": 9,
    "start_time": "2022-03-15T10:29:03.840Z"
   },
   {
    "duration": 21,
    "start_time": "2022-03-15T10:31:00.661Z"
   },
   {
    "duration": 16,
    "start_time": "2022-03-15T10:31:01.655Z"
   },
   {
    "duration": 1092,
    "start_time": "2022-03-15T10:34:55.387Z"
   },
   {
    "duration": 892,
    "start_time": "2022-03-15T10:35:20.938Z"
   },
   {
    "duration": 1028,
    "start_time": "2022-03-15T10:36:07.663Z"
   },
   {
    "duration": 2424,
    "start_time": "2022-03-15T10:36:23.404Z"
   },
   {
    "duration": 1061,
    "start_time": "2022-03-15T10:40:17.001Z"
   },
   {
    "duration": 1856,
    "start_time": "2022-03-15T10:42:11.243Z"
   },
   {
    "duration": 1659,
    "start_time": "2022-03-15T10:42:35.263Z"
   },
   {
    "duration": 577,
    "start_time": "2022-03-15T10:43:51.589Z"
   },
   {
    "duration": 568,
    "start_time": "2022-03-15T10:44:23.463Z"
   },
   {
    "duration": 567,
    "start_time": "2022-03-15T10:44:34.094Z"
   },
   {
    "duration": 1193,
    "start_time": "2022-03-15T10:47:07.262Z"
   },
   {
    "duration": 989,
    "start_time": "2022-03-15T10:47:26.841Z"
   },
   {
    "duration": 599,
    "start_time": "2022-03-15T10:47:36.522Z"
   },
   {
    "duration": 599,
    "start_time": "2022-03-15T10:47:41.742Z"
   },
   {
    "duration": 905,
    "start_time": "2022-03-15T10:48:42.702Z"
   },
   {
    "duration": 912,
    "start_time": "2022-03-15T10:49:08.868Z"
   },
   {
    "duration": 906,
    "start_time": "2022-03-15T10:49:23.861Z"
   },
   {
    "duration": 932,
    "start_time": "2022-03-15T10:49:57.907Z"
   },
   {
    "duration": 560,
    "start_time": "2022-03-15T10:50:06.293Z"
   },
   {
    "duration": 905,
    "start_time": "2022-03-15T10:50:14.561Z"
   },
   {
    "duration": 906,
    "start_time": "2022-03-15T10:50:22.160Z"
   },
   {
    "duration": 920,
    "start_time": "2022-03-15T10:54:43.199Z"
   },
   {
    "duration": 746,
    "start_time": "2022-03-15T10:55:30.280Z"
   },
   {
    "duration": 916,
    "start_time": "2022-03-15T10:56:15.799Z"
   },
   {
    "duration": 918,
    "start_time": "2022-03-15T10:56:45.069Z"
   },
   {
    "duration": 133,
    "start_time": "2022-03-15T10:57:02.659Z"
   },
   {
    "duration": 901,
    "start_time": "2022-03-15T10:57:06.947Z"
   },
   {
    "duration": 575,
    "start_time": "2022-03-15T10:57:18.527Z"
   },
   {
    "duration": 846,
    "start_time": "2022-03-15T11:02:38.614Z"
   },
   {
    "duration": 658,
    "start_time": "2022-03-15T11:08:41.800Z"
   },
   {
    "duration": 648,
    "start_time": "2022-03-15T11:09:05.260Z"
   },
   {
    "duration": 677,
    "start_time": "2022-03-15T11:09:09.162Z"
   },
   {
    "duration": 551,
    "start_time": "2022-03-15T11:15:21.097Z"
   },
   {
    "duration": 595,
    "start_time": "2022-03-15T12:55:40.746Z"
   },
   {
    "duration": 211,
    "start_time": "2022-03-15T13:18:02.867Z"
   },
   {
    "duration": 61,
    "start_time": "2022-03-15T13:18:42.907Z"
   },
   {
    "duration": 30,
    "start_time": "2022-03-15T13:18:47.928Z"
   },
   {
    "duration": 101,
    "start_time": "2022-03-15T13:21:37.427Z"
   },
   {
    "duration": 64,
    "start_time": "2022-03-15T13:21:50.507Z"
   },
   {
    "duration": 20,
    "start_time": "2022-03-15T13:22:05.067Z"
   },
   {
    "duration": 6,
    "start_time": "2022-03-15T13:22:24.506Z"
   },
   {
    "duration": 964,
    "start_time": "2022-03-15T13:22:25.347Z"
   },
   {
    "duration": 28,
    "start_time": "2022-03-15T13:22:26.314Z"
   },
   {
    "duration": 44,
    "start_time": "2022-03-15T13:22:26.345Z"
   },
   {
    "duration": 21,
    "start_time": "2022-03-15T13:22:26.393Z"
   },
   {
    "duration": 69,
    "start_time": "2022-03-15T13:22:26.420Z"
   },
   {
    "duration": 419,
    "start_time": "2022-03-15T13:22:26.823Z"
   },
   {
    "duration": 264,
    "start_time": "2022-03-15T13:22:27.245Z"
   },
   {
    "duration": 478,
    "start_time": "2022-03-15T13:22:27.513Z"
   },
   {
    "duration": 11,
    "start_time": "2022-03-15T13:22:28.121Z"
   },
   {
    "duration": 13,
    "start_time": "2022-03-15T13:22:28.329Z"
   },
   {
    "duration": 3,
    "start_time": "2022-03-15T13:22:29.416Z"
   },
   {
    "duration": 5,
    "start_time": "2022-03-15T13:22:29.607Z"
   },
   {
    "duration": 6,
    "start_time": "2022-03-15T13:22:29.828Z"
   },
   {
    "duration": 5,
    "start_time": "2022-03-15T13:22:30.009Z"
   },
   {
    "duration": 4,
    "start_time": "2022-03-15T13:22:30.495Z"
   },
   {
    "duration": 11,
    "start_time": "2022-03-15T13:22:30.710Z"
   },
   {
    "duration": 4,
    "start_time": "2022-03-15T13:22:32.666Z"
   },
   {
    "duration": 5,
    "start_time": "2022-03-15T13:22:32.867Z"
   },
   {
    "duration": 47,
    "start_time": "2022-03-15T13:22:33.073Z"
   },
   {
    "duration": 86,
    "start_time": "2022-03-15T13:22:33.567Z"
   },
   {
    "duration": 1001,
    "start_time": "2022-03-15T13:22:38.327Z"
   },
   {
    "duration": 1004,
    "start_time": "2022-03-15T13:22:56.140Z"
   },
   {
    "duration": 780,
    "start_time": "2022-03-15T13:28:46.645Z"
   },
   {
    "duration": 1159,
    "start_time": "2022-03-15T13:29:14.637Z"
   },
   {
    "duration": 971,
    "start_time": "2022-03-15T13:29:31.827Z"
   },
   {
    "duration": 1166,
    "start_time": "2022-03-15T13:30:29.291Z"
   },
   {
    "duration": 1708,
    "start_time": "2022-03-15T13:30:41.862Z"
   },
   {
    "duration": 2950,
    "start_time": "2022-03-15T13:30:43.575Z"
   },
   {
    "duration": 53,
    "start_time": "2022-03-15T13:30:46.528Z"
   },
   {
    "duration": 29,
    "start_time": "2022-03-15T13:30:46.585Z"
   },
   {
    "duration": 77,
    "start_time": "2022-03-15T13:30:46.617Z"
   },
   {
    "duration": 28,
    "start_time": "2022-03-15T13:30:46.698Z"
   },
   {
    "duration": 451,
    "start_time": "2022-03-15T13:30:46.729Z"
   },
   {
    "duration": 251,
    "start_time": "2022-03-15T13:30:47.186Z"
   },
   {
    "duration": 599,
    "start_time": "2022-03-15T13:30:47.440Z"
   },
   {
    "duration": 32,
    "start_time": "2022-03-15T13:30:48.042Z"
   },
   {
    "duration": 14,
    "start_time": "2022-03-15T13:30:48.077Z"
   },
   {
    "duration": 16,
    "start_time": "2022-03-15T13:30:48.094Z"
   },
   {
    "duration": 7,
    "start_time": "2022-03-15T13:30:48.113Z"
   },
   {
    "duration": 7,
    "start_time": "2022-03-15T13:30:48.124Z"
   },
   {
    "duration": 7,
    "start_time": "2022-03-15T13:30:48.179Z"
   },
   {
    "duration": 5,
    "start_time": "2022-03-15T13:30:48.602Z"
   },
   {
    "duration": 25,
    "start_time": "2022-03-15T13:30:48.862Z"
   },
   {
    "duration": 5,
    "start_time": "2022-03-15T13:30:50.062Z"
   },
   {
    "duration": 5,
    "start_time": "2022-03-15T13:30:50.295Z"
   },
   {
    "duration": 2437,
    "start_time": "2022-03-15T13:30:50.803Z"
   },
   {
    "duration": 103,
    "start_time": "2022-03-15T13:30:53.244Z"
   },
   {
    "duration": 1071,
    "start_time": "2022-03-15T13:30:53.350Z"
   },
   {
    "duration": 1109,
    "start_time": "2022-03-15T13:31:00.842Z"
   },
   {
    "duration": 15,
    "start_time": "2022-03-15T13:31:06.943Z"
   },
   {
    "duration": 11,
    "start_time": "2022-03-15T13:31:07.462Z"
   },
   {
    "duration": 6,
    "start_time": "2022-03-15T13:31:10.362Z"
   },
   {
    "duration": 100,
    "start_time": "2022-03-15T13:31:11.742Z"
   },
   {
    "duration": 2699,
    "start_time": "2022-03-15T13:31:12.460Z"
   },
   {
    "duration": 40,
    "start_time": "2022-03-15T13:31:15.162Z"
   },
   {
    "duration": 4,
    "start_time": "2022-03-15T13:31:15.206Z"
   },
   {
    "duration": 18,
    "start_time": "2022-03-15T13:31:15.922Z"
   },
   {
    "duration": 125,
    "start_time": "2022-03-15T13:31:16.942Z"
   },
   {
    "duration": 27,
    "start_time": "2022-03-15T13:31:17.442Z"
   },
   {
    "duration": 7,
    "start_time": "2022-03-15T13:31:19.822Z"
   },
   {
    "duration": 2367,
    "start_time": "2022-03-15T13:31:20.486Z"
   },
   {
    "duration": 23,
    "start_time": "2022-03-15T13:31:22.856Z"
   },
   {
    "duration": 118,
    "start_time": "2022-03-15T13:31:22.884Z"
   },
   {
    "duration": 3,
    "start_time": "2022-03-15T13:31:25.142Z"
   },
   {
    "duration": 63,
    "start_time": "2022-03-15T13:31:26.322Z"
   },
   {
    "duration": 12,
    "start_time": "2022-03-15T13:31:26.850Z"
   },
   {
    "duration": 561,
    "start_time": "2022-03-15T13:31:28.718Z"
   },
   {
    "duration": 5,
    "start_time": "2022-03-15T13:31:29.282Z"
   },
   {
    "duration": 63,
    "start_time": "2022-03-15T13:31:33.224Z"
   },
   {
    "duration": 78,
    "start_time": "2022-03-15T13:31:34.430Z"
   },
   {
    "duration": 665,
    "start_time": "2022-03-15T13:31:47.400Z"
   },
   {
    "duration": 36,
    "start_time": "2022-03-15T13:31:56.130Z"
   },
   {
    "duration": 30,
    "start_time": "2022-03-15T13:43:27.902Z"
   },
   {
    "duration": 9,
    "start_time": "2022-03-15T14:31:04.562Z"
   },
   {
    "duration": 10,
    "start_time": "2022-03-15T14:31:54.572Z"
   },
   {
    "duration": 15,
    "start_time": "2022-03-15T14:32:25.271Z"
   },
   {
    "duration": 8,
    "start_time": "2022-03-15T14:34:50.983Z"
   },
   {
    "duration": 7,
    "start_time": "2022-03-15T14:34:51.724Z"
   },
   {
    "duration": 35,
    "start_time": "2022-03-15T14:35:38.923Z"
   },
   {
    "duration": 542,
    "start_time": "2022-03-15T14:37:29.863Z"
   },
   {
    "duration": 21,
    "start_time": "2022-03-15T14:38:08.152Z"
   },
   {
    "duration": 725,
    "start_time": "2022-03-15T14:38:09.743Z"
   },
   {
    "duration": 9,
    "start_time": "2022-03-15T14:41:55.628Z"
   },
   {
    "duration": 11,
    "start_time": "2022-03-15T14:42:20.343Z"
   },
   {
    "duration": 17,
    "start_time": "2022-03-15T14:42:40.710Z"
   },
   {
    "duration": 536,
    "start_time": "2022-03-15T14:42:42.301Z"
   },
   {
    "duration": 7,
    "start_time": "2022-03-15T14:43:13.923Z"
   },
   {
    "duration": 8,
    "start_time": "2022-03-15T14:43:14.154Z"
   },
   {
    "duration": 81,
    "start_time": "2022-03-15T14:54:28.962Z"
   },
   {
    "duration": 7,
    "start_time": "2022-03-15T14:54:33.390Z"
   },
   {
    "duration": 537,
    "start_time": "2022-03-15T14:54:36.484Z"
   },
   {
    "duration": 551,
    "start_time": "2022-03-15T14:54:45.183Z"
   },
   {
    "duration": 4,
    "start_time": "2022-03-15T14:59:52.291Z"
   },
   {
    "duration": 333,
    "start_time": "2022-03-15T15:01:25.782Z"
   },
   {
    "duration": 86,
    "start_time": "2022-03-15T15:01:58.483Z"
   },
   {
    "duration": 175,
    "start_time": "2022-03-15T15:01:58.883Z"
   },
   {
    "duration": 7,
    "start_time": "2022-03-15T15:02:04.371Z"
   },
   {
    "duration": 6,
    "start_time": "2022-03-15T15:02:05.051Z"
   },
   {
    "duration": 7,
    "start_time": "2022-03-15T15:02:12.382Z"
   },
   {
    "duration": 8,
    "start_time": "2022-03-15T15:03:57.103Z"
   },
   {
    "duration": 7,
    "start_time": "2022-03-15T15:04:38.903Z"
   },
   {
    "duration": 11,
    "start_time": "2022-03-15T15:04:56.191Z"
   },
   {
    "duration": 11,
    "start_time": "2022-03-15T15:05:00.482Z"
   },
   {
    "duration": 10,
    "start_time": "2022-03-15T15:05:03.911Z"
   },
   {
    "duration": 11,
    "start_time": "2022-03-15T15:05:07.522Z"
   },
   {
    "duration": 11,
    "start_time": "2022-03-15T15:05:11.942Z"
   },
   {
    "duration": 55,
    "start_time": "2022-03-15T15:06:29.627Z"
   },
   {
    "duration": 5,
    "start_time": "2022-03-15T15:06:33.342Z"
   },
   {
    "duration": 5,
    "start_time": "2022-03-15T15:08:41.471Z"
   },
   {
    "duration": 12,
    "start_time": "2022-03-15T15:11:34.203Z"
   },
   {
    "duration": 10,
    "start_time": "2022-03-15T15:11:38.784Z"
   },
   {
    "duration": 12,
    "start_time": "2022-03-15T15:11:42.202Z"
   },
   {
    "duration": 11,
    "start_time": "2022-03-15T15:11:45.610Z"
   },
   {
    "duration": 10,
    "start_time": "2022-03-15T15:11:48.723Z"
   },
   {
    "duration": 12,
    "start_time": "2022-03-15T15:22:25.133Z"
   },
   {
    "duration": 1572,
    "start_time": "2022-03-15T20:30:56.849Z"
   },
   {
    "duration": 910,
    "start_time": "2022-03-15T20:30:58.423Z"
   },
   {
    "duration": 42,
    "start_time": "2022-03-15T20:30:59.335Z"
   },
   {
    "duration": 27,
    "start_time": "2022-03-15T20:30:59.379Z"
   },
   {
    "duration": 44,
    "start_time": "2022-03-15T20:30:59.409Z"
   },
   {
    "duration": 25,
    "start_time": "2022-03-15T20:30:59.455Z"
   },
   {
    "duration": 402,
    "start_time": "2022-03-15T20:30:59.483Z"
   },
   {
    "duration": 233,
    "start_time": "2022-03-15T20:30:59.888Z"
   },
   {
    "duration": 444,
    "start_time": "2022-03-15T20:31:00.123Z"
   },
   {
    "duration": 14,
    "start_time": "2022-03-15T20:31:00.569Z"
   },
   {
    "duration": 12,
    "start_time": "2022-03-15T20:31:00.727Z"
   },
   {
    "duration": 3,
    "start_time": "2022-03-15T20:31:01.790Z"
   },
   {
    "duration": 5,
    "start_time": "2022-03-15T20:31:01.990Z"
   },
   {
    "duration": 7,
    "start_time": "2022-03-15T20:31:02.189Z"
   },
   {
    "duration": 5,
    "start_time": "2022-03-15T20:31:02.430Z"
   },
   {
    "duration": 4,
    "start_time": "2022-03-15T20:31:02.849Z"
   },
   {
    "duration": 11,
    "start_time": "2022-03-15T20:31:03.070Z"
   },
   {
    "duration": 4,
    "start_time": "2022-03-15T20:31:04.130Z"
   },
   {
    "duration": 5,
    "start_time": "2022-03-15T20:31:04.349Z"
   },
   {
    "duration": 769,
    "start_time": "2022-03-15T20:31:04.550Z"
   },
   {
    "duration": 89,
    "start_time": "2022-03-15T20:31:05.323Z"
   },
   {
    "duration": 859,
    "start_time": "2022-03-15T20:31:05.591Z"
   },
   {
    "duration": 12,
    "start_time": "2022-03-15T20:31:06.453Z"
   },
   {
    "duration": 10,
    "start_time": "2022-03-15T20:31:06.468Z"
   },
   {
    "duration": 5,
    "start_time": "2022-03-15T20:31:06.482Z"
   },
   {
    "duration": 173,
    "start_time": "2022-03-15T20:31:07.149Z"
   },
   {
    "duration": 2250,
    "start_time": "2022-03-15T20:31:07.569Z"
   },
   {
    "duration": 31,
    "start_time": "2022-03-15T20:31:09.822Z"
   },
   {
    "duration": 4,
    "start_time": "2022-03-15T20:31:09.857Z"
   },
   {
    "duration": 20,
    "start_time": "2022-03-15T20:31:09.864Z"
   },
   {
    "duration": 130,
    "start_time": "2022-03-15T20:31:09.887Z"
   },
   {
    "duration": 38,
    "start_time": "2022-03-15T20:31:10.020Z"
   },
   {
    "duration": 7,
    "start_time": "2022-03-15T20:31:10.717Z"
   },
   {
    "duration": 1558,
    "start_time": "2022-03-15T20:31:10.959Z"
   },
   {
    "duration": 23,
    "start_time": "2022-03-15T20:31:12.520Z"
   },
   {
    "duration": 112,
    "start_time": "2022-03-15T20:31:12.546Z"
   },
   {
    "duration": 3,
    "start_time": "2022-03-15T20:31:12.660Z"
   },
   {
    "duration": 52,
    "start_time": "2022-03-15T20:31:13.149Z"
   },
   {
    "duration": 12,
    "start_time": "2022-03-15T20:31:13.397Z"
   },
   {
    "duration": 467,
    "start_time": "2022-03-15T20:31:13.637Z"
   },
   {
    "duration": 3,
    "start_time": "2022-03-15T20:31:14.107Z"
   },
   {
    "duration": 60,
    "start_time": "2022-03-15T20:31:17.529Z"
   },
   {
    "duration": 7,
    "start_time": "2022-03-15T20:31:17.887Z"
   },
   {
    "duration": 518,
    "start_time": "2022-03-15T20:31:18.429Z"
   },
   {
    "duration": 34,
    "start_time": "2022-03-15T20:31:20.405Z"
   },
   {
    "duration": 516,
    "start_time": "2022-03-15T20:31:22.036Z"
   },
   {
    "duration": 8,
    "start_time": "2022-03-15T20:31:22.620Z"
   },
   {
    "duration": 7,
    "start_time": "2022-03-15T20:31:22.949Z"
   },
   {
    "duration": 5,
    "start_time": "2022-03-15T20:31:25.169Z"
   },
   {
    "duration": 12,
    "start_time": "2022-03-15T20:31:30.710Z"
   },
   {
    "duration": 7,
    "start_time": "2022-03-15T20:31:35.399Z"
   },
   {
    "duration": 790,
    "start_time": "2022-03-15T20:31:44.189Z"
   },
   {
    "duration": 7,
    "start_time": "2022-03-15T20:31:59.760Z"
   },
   {
    "duration": 622,
    "start_time": "2022-03-15T20:32:00.609Z"
   },
   {
    "duration": 11,
    "start_time": "2022-03-15T20:32:12.590Z"
   },
   {
    "duration": 8,
    "start_time": "2022-03-15T20:32:17.509Z"
   },
   {
    "duration": 29,
    "start_time": "2022-03-15T20:32:17.995Z"
   },
   {
    "duration": 16,
    "start_time": "2022-03-15T20:32:48.550Z"
   },
   {
    "duration": 335,
    "start_time": "2022-03-15T20:33:21.534Z"
   },
   {
    "duration": 328,
    "start_time": "2022-03-15T20:33:34.729Z"
   },
   {
    "duration": 15,
    "start_time": "2022-03-15T20:33:49.530Z"
   },
   {
    "duration": 13,
    "start_time": "2022-03-15T20:34:06.269Z"
   },
   {
    "duration": 8,
    "start_time": "2022-03-15T20:36:36.109Z"
   },
   {
    "duration": 4,
    "start_time": "2022-03-15T20:38:58.530Z"
   },
   {
    "duration": 5,
    "start_time": "2022-03-15T22:16:46.827Z"
   },
   {
    "duration": 306,
    "start_time": "2022-03-15T22:21:28.477Z"
   },
   {
    "duration": 324,
    "start_time": "2022-03-15T22:21:28.816Z"
   },
   {
    "duration": 24,
    "start_time": "2022-03-15T22:21:41.049Z"
   },
   {
    "duration": 3,
    "start_time": "2022-03-15T22:21:56.176Z"
   },
   {
    "duration": 3,
    "start_time": "2022-03-15T22:25:39.932Z"
   },
   {
    "duration": 322,
    "start_time": "2022-03-15T22:25:41.696Z"
   },
   {
    "duration": 4,
    "start_time": "2022-03-15T22:26:06.056Z"
   },
   {
    "duration": 98,
    "start_time": "2022-03-15T22:26:10.348Z"
   },
   {
    "duration": 348,
    "start_time": "2022-03-15T22:26:23.156Z"
   },
   {
    "duration": 6,
    "start_time": "2022-03-15T22:26:40.737Z"
   },
   {
    "duration": 347,
    "start_time": "2022-03-15T22:26:45.736Z"
   },
   {
    "duration": 4,
    "start_time": "2022-03-15T22:27:33.917Z"
   },
   {
    "duration": 358,
    "start_time": "2022-03-15T22:27:37.357Z"
   },
   {
    "duration": 6,
    "start_time": "2022-03-15T22:30:22.137Z"
   },
   {
    "duration": 4,
    "start_time": "2022-03-15T22:30:31.496Z"
   },
   {
    "duration": 4,
    "start_time": "2022-03-15T22:30:31.758Z"
   },
   {
    "duration": 3,
    "start_time": "2022-03-15T22:30:32.157Z"
   },
   {
    "duration": 360,
    "start_time": "2022-03-15T22:30:32.738Z"
   },
   {
    "duration": 342,
    "start_time": "2022-03-15T22:31:24.537Z"
   },
   {
    "duration": 4,
    "start_time": "2022-03-15T22:33:01.756Z"
   },
   {
    "duration": 3,
    "start_time": "2022-03-15T22:33:01.997Z"
   },
   {
    "duration": 3,
    "start_time": "2022-03-15T22:33:02.357Z"
   },
   {
    "duration": 345,
    "start_time": "2022-03-15T22:33:02.815Z"
   },
   {
    "duration": 381,
    "start_time": "2022-03-15T22:34:00.497Z"
   },
   {
    "duration": 30,
    "start_time": "2022-03-15T22:34:41.897Z"
   },
   {
    "duration": 3,
    "start_time": "2022-03-15T22:39:41.716Z"
   },
   {
    "duration": 3,
    "start_time": "2022-03-15T22:59:30.805Z"
   },
   {
    "duration": 1580,
    "start_time": "2022-03-15T23:00:27.964Z"
   },
   {
    "duration": 444,
    "start_time": "2022-03-15T23:02:15.317Z"
   },
   {
    "duration": 351,
    "start_time": "2022-03-15T23:06:04.476Z"
   },
   {
    "duration": 4,
    "start_time": "2022-03-15T23:06:41.016Z"
   },
   {
    "duration": 28,
    "start_time": "2022-03-15T23:06:41.876Z"
   },
   {
    "duration": 308,
    "start_time": "2022-03-15T23:06:43.056Z"
   },
   {
    "duration": 1489,
    "start_time": "2022-03-15T23:07:02.456Z"
   },
   {
    "duration": 1816,
    "start_time": "2022-03-15T23:08:35.737Z"
   },
   {
    "duration": 115,
    "start_time": "2022-03-15T23:09:35.336Z"
   },
   {
    "duration": 508,
    "start_time": "2022-03-15T23:10:14.036Z"
   },
   {
    "duration": 302,
    "start_time": "2022-03-15T23:10:24.455Z"
   },
   {
    "duration": 8,
    "start_time": "2022-03-15T23:22:02.496Z"
   },
   {
    "duration": 5,
    "start_time": "2022-03-15T23:22:04.656Z"
   },
   {
    "duration": 674,
    "start_time": "2022-03-15T23:22:04.937Z"
   },
   {
    "duration": 4,
    "start_time": "2022-03-15T23:22:12.656Z"
   },
   {
    "duration": 9,
    "start_time": "2022-03-15T23:22:13.876Z"
   },
   {
    "duration": 9,
    "start_time": "2022-03-15T23:22:27.977Z"
   },
   {
    "duration": 9,
    "start_time": "2022-03-15T23:22:45.117Z"
   },
   {
    "duration": 5,
    "start_time": "2022-03-15T23:22:59.036Z"
   },
   {
    "duration": 9,
    "start_time": "2022-03-15T23:22:59.436Z"
   },
   {
    "duration": 3,
    "start_time": "2022-03-15T23:23:22.697Z"
   },
   {
    "duration": 3,
    "start_time": "2022-03-15T23:23:24.827Z"
   },
   {
    "duration": 28,
    "start_time": "2022-03-15T23:23:25.456Z"
   },
   {
    "duration": 3,
    "start_time": "2022-03-15T23:23:29.736Z"
   },
   {
    "duration": 495,
    "start_time": "2022-03-15T23:23:31.716Z"
   },
   {
    "duration": 6,
    "start_time": "2022-03-15T23:24:15.796Z"
   },
   {
    "duration": 8,
    "start_time": "2022-03-15T23:24:16.116Z"
   },
   {
    "duration": 1331,
    "start_time": "2022-03-15T23:24:26.116Z"
   },
   {
    "duration": 6,
    "start_time": "2022-03-15T23:30:47.604Z"
   },
   {
    "duration": 5429,
    "start_time": "2022-03-15T23:30:48.877Z"
   },
   {
    "duration": 6,
    "start_time": "2022-03-15T23:31:18.156Z"
   },
   {
    "duration": 1948,
    "start_time": "2022-03-15T23:31:18.996Z"
   },
   {
    "duration": 6,
    "start_time": "2022-03-15T23:32:28.116Z"
   },
   {
    "duration": 7,
    "start_time": "2022-03-15T23:32:52.096Z"
   },
   {
    "duration": 4,
    "start_time": "2022-03-15T23:32:56.276Z"
   },
   {
    "duration": 8,
    "start_time": "2022-03-15T23:33:04.716Z"
   },
   {
    "duration": 6,
    "start_time": "2022-03-15T23:33:05.198Z"
   },
   {
    "duration": 10,
    "start_time": "2022-03-15T23:35:28.657Z"
   },
   {
    "duration": 7,
    "start_time": "2022-03-15T23:35:31.076Z"
   },
   {
    "duration": 5,
    "start_time": "2022-03-15T23:35:31.376Z"
   },
   {
    "duration": 6,
    "start_time": "2022-03-15T23:37:23.536Z"
   },
   {
    "duration": 10,
    "start_time": "2022-03-15T23:37:25.935Z"
   },
   {
    "duration": 6,
    "start_time": "2022-03-15T23:37:27.636Z"
   },
   {
    "duration": 7,
    "start_time": "2022-03-15T23:38:32.836Z"
   },
   {
    "duration": 8,
    "start_time": "2022-03-15T23:38:35.697Z"
   },
   {
    "duration": 6,
    "start_time": "2022-03-15T23:38:36.656Z"
   },
   {
    "duration": 3,
    "start_time": "2022-03-15T23:39:37.657Z"
   },
   {
    "duration": 9,
    "start_time": "2022-03-15T23:39:37.876Z"
   },
   {
    "duration": 5,
    "start_time": "2022-03-15T23:39:38.117Z"
   },
   {
    "duration": 8,
    "start_time": "2022-03-15T23:39:39.093Z"
   },
   {
    "duration": 4,
    "start_time": "2022-03-15T23:39:42.256Z"
   },
   {
    "duration": 8,
    "start_time": "2022-03-15T23:39:42.496Z"
   },
   {
    "duration": 6,
    "start_time": "2022-03-15T23:39:42.877Z"
   },
   {
    "duration": 7,
    "start_time": "2022-03-15T23:40:06.357Z"
   },
   {
    "duration": 8,
    "start_time": "2022-03-15T23:40:08.722Z"
   },
   {
    "duration": 5,
    "start_time": "2022-03-15T23:40:09.237Z"
   },
   {
    "duration": 5,
    "start_time": "2022-03-15T23:40:23.866Z"
   },
   {
    "duration": 7,
    "start_time": "2022-03-15T23:41:13.087Z"
   },
   {
    "duration": 8,
    "start_time": "2022-03-15T23:41:17.096Z"
   },
   {
    "duration": 6,
    "start_time": "2022-03-15T23:41:18.818Z"
   },
   {
    "duration": 5,
    "start_time": "2022-03-15T23:41:19.690Z"
   },
   {
    "duration": 98,
    "start_time": "2022-03-15T23:42:34.216Z"
   },
   {
    "duration": 6,
    "start_time": "2022-03-15T23:42:45.694Z"
   },
   {
    "duration": 8,
    "start_time": "2022-03-15T23:42:50.296Z"
   },
   {
    "duration": 6,
    "start_time": "2022-03-15T23:42:50.823Z"
   },
   {
    "duration": 5,
    "start_time": "2022-03-15T23:42:52.157Z"
   },
   {
    "duration": 6,
    "start_time": "2022-03-15T23:43:18.083Z"
   },
   {
    "duration": 7,
    "start_time": "2022-03-15T23:43:21.555Z"
   },
   {
    "duration": 6,
    "start_time": "2022-03-15T23:43:21.564Z"
   },
   {
    "duration": 6,
    "start_time": "2022-03-15T23:43:21.663Z"
   },
   {
    "duration": 7,
    "start_time": "2022-03-15T23:45:16.894Z"
   },
   {
    "duration": 3,
    "start_time": "2022-03-15T23:45:21.424Z"
   },
   {
    "duration": 11,
    "start_time": "2022-03-15T23:45:21.430Z"
   },
   {
    "duration": 5,
    "start_time": "2022-03-15T23:45:21.444Z"
   },
   {
    "duration": 632,
    "start_time": "2022-03-15T23:45:21.452Z"
   },
   {
    "duration": 7,
    "start_time": "2022-03-15T23:45:34.270Z"
   },
   {
    "duration": 4,
    "start_time": "2022-03-15T23:45:39.897Z"
   },
   {
    "duration": 7,
    "start_time": "2022-03-15T23:45:40.097Z"
   },
   {
    "duration": 4,
    "start_time": "2022-03-15T23:45:40.305Z"
   },
   {
    "duration": 5,
    "start_time": "2022-03-15T23:45:40.985Z"
   },
   {
    "duration": 6,
    "start_time": "2022-03-15T23:46:15.457Z"
   },
   {
    "duration": 8,
    "start_time": "2022-03-15T23:46:18.696Z"
   },
   {
    "duration": 7,
    "start_time": "2022-03-15T23:48:22.575Z"
   },
   {
    "duration": 9,
    "start_time": "2022-03-15T23:48:26.076Z"
   },
   {
    "duration": 7,
    "start_time": "2022-03-15T23:48:46.676Z"
   },
   {
    "duration": 9,
    "start_time": "2022-03-15T23:48:49.736Z"
   },
   {
    "duration": 4,
    "start_time": "2022-03-15T23:48:50.076Z"
   },
   {
    "duration": 613,
    "start_time": "2022-03-15T23:48:50.357Z"
   },
   {
    "duration": 7,
    "start_time": "2022-03-15T23:48:57.757Z"
   },
   {
    "duration": 669,
    "start_time": "2022-03-15T23:49:00.697Z"
   },
   {
    "duration": 7,
    "start_time": "2022-03-15T23:49:06.736Z"
   },
   {
    "duration": 5,
    "start_time": "2022-03-15T23:49:09.336Z"
   },
   {
    "duration": 7,
    "start_time": "2022-03-15T23:50:17.605Z"
   },
   {
    "duration": 7,
    "start_time": "2022-03-15T23:50:24.717Z"
   },
   {
    "duration": 3,
    "start_time": "2022-03-15T23:50:25.575Z"
   },
   {
    "duration": 668,
    "start_time": "2022-03-15T23:50:25.789Z"
   },
   {
    "duration": 7,
    "start_time": "2022-03-15T23:50:39.399Z"
   },
   {
    "duration": 6,
    "start_time": "2022-03-15T23:50:43.976Z"
   },
   {
    "duration": 7,
    "start_time": "2022-03-15T23:50:51.497Z"
   },
   {
    "duration": 6,
    "start_time": "2022-03-15T23:50:54.336Z"
   },
   {
    "duration": 1589,
    "start_time": "2022-03-15T23:51:17.556Z"
   },
   {
    "duration": 1473,
    "start_time": "2022-03-15T23:51:30.377Z"
   },
   {
    "duration": 7,
    "start_time": "2022-03-15T23:52:28.177Z"
   },
   {
    "duration": 6,
    "start_time": "2022-03-15T23:52:31.677Z"
   },
   {
    "duration": 1415,
    "start_time": "2022-03-15T23:52:37.937Z"
   },
   {
    "duration": 337,
    "start_time": "2022-03-15T23:53:34.697Z"
   },
   {
    "duration": 335,
    "start_time": "2022-03-15T23:55:42.177Z"
   },
   {
    "duration": 3,
    "start_time": "2022-03-15T23:56:13.437Z"
   },
   {
    "duration": 1973,
    "start_time": "2022-03-15T23:56:23.576Z"
   },
   {
    "duration": 7,
    "start_time": "2022-03-15T23:57:38.976Z"
   },
   {
    "duration": 3,
    "start_time": "2022-03-15T23:57:43.047Z"
   },
   {
    "duration": 9,
    "start_time": "2022-03-15T23:58:20.218Z"
   },
   {
    "duration": 3,
    "start_time": "2022-03-15T23:58:26.398Z"
   },
   {
    "duration": 10,
    "start_time": "2022-03-15T23:58:32.738Z"
   },
   {
    "duration": 21,
    "start_time": "2022-03-15T23:58:33.017Z"
   },
   {
    "duration": 4,
    "start_time": "2022-03-15T23:58:35.148Z"
   },
   {
    "duration": 1548,
    "start_time": "2022-03-15T23:58:58.597Z"
   },
   {
    "duration": 3,
    "start_time": "2022-03-15T23:59:08.637Z"
   },
   {
    "duration": 3,
    "start_time": "2022-03-16T00:04:36.837Z"
   },
   {
    "duration": 1888,
    "start_time": "2022-03-16T00:04:46.376Z"
   },
   {
    "duration": 2479,
    "start_time": "2022-03-16T00:04:53.365Z"
   },
   {
    "duration": 92596,
    "start_time": "2022-03-16T00:05:42.858Z"
   },
   {
    "duration": 6,
    "start_time": "2022-03-16T00:16:12.097Z"
   },
   {
    "duration": 1389,
    "start_time": "2022-03-16T00:16:22.358Z"
   },
   {
    "duration": 4,
    "start_time": "2022-03-16T00:16:25.416Z"
   },
   {
    "duration": 2365,
    "start_time": "2022-03-16T00:16:25.877Z"
   },
   {
    "duration": 27396,
    "start_time": "2022-03-16T00:16:28.247Z"
   },
   {
    "duration": 14355,
    "start_time": "2022-03-16T00:20:08.377Z"
   },
   {
    "duration": 10,
    "start_time": "2022-03-16T00:20:22.736Z"
   },
   {
    "duration": 408,
    "start_time": "2022-03-16T00:20:28.099Z"
   },
   {
    "duration": 146894,
    "start_time": "2022-03-16T00:20:53.857Z"
   },
   {
    "duration": 617,
    "start_time": "2022-03-16T00:23:20.754Z"
   },
   {
    "duration": 459,
    "start_time": "2022-03-16T00:24:41.919Z"
   },
   {
    "duration": 76085,
    "start_time": "2022-03-16T00:25:34.302Z"
   },
   {
    "duration": 355,
    "start_time": "2022-03-16T00:26:50.390Z"
   },
   {
    "duration": 402324,
    "start_time": "2022-03-16T00:29:02.980Z"
   },
   {
    "duration": 403,
    "start_time": "2022-03-16T00:35:45.307Z"
   },
   {
    "duration": 4905,
    "start_time": "2022-03-16T00:36:54.237Z"
   },
   {
    "duration": 28746,
    "start_time": "2022-03-16T00:37:58.138Z"
   },
   {
    "duration": 31676,
    "start_time": "2022-03-16T00:56:31.578Z"
   },
   {
    "duration": 6,
    "start_time": "2022-03-16T00:57:16.426Z"
   },
   {
    "duration": 3,
    "start_time": "2022-03-16T07:42:21.839Z"
   },
   {
    "duration": 256,
    "start_time": "2022-03-16T07:47:19.068Z"
   },
   {
    "duration": 386,
    "start_time": "2022-03-16T07:47:18.940Z"
   },
   {
    "duration": 179,
    "start_time": "2022-03-16T07:47:19.439Z"
   },
   {
    "duration": 188,
    "start_time": "2022-03-16T07:47:19.817Z"
   },
   {
    "duration": 177,
    "start_time": "2022-03-16T07:47:20.249Z"
   },
   {
    "duration": 259,
    "start_time": "2022-03-16T07:47:20.628Z"
   },
   {
    "duration": 362,
    "start_time": "2022-03-16T07:47:20.527Z"
   },
   {
    "duration": 189,
    "start_time": "2022-03-16T07:47:20.980Z"
   },
   {
    "duration": 1070,
    "start_time": "2022-03-16T07:47:26.890Z"
   },
   {
    "duration": 639,
    "start_time": "2022-03-16T07:47:29.795Z"
   },
   {
    "duration": 21,
    "start_time": "2022-03-16T07:47:30.436Z"
   },
   {
    "duration": 14,
    "start_time": "2022-03-16T07:47:30.598Z"
   },
   {
    "duration": 11,
    "start_time": "2022-03-16T07:47:31.269Z"
   },
   {
    "duration": 15,
    "start_time": "2022-03-16T07:47:31.709Z"
   },
   {
    "duration": 210,
    "start_time": "2022-03-16T07:47:32.069Z"
   },
   {
    "duration": 124,
    "start_time": "2022-03-16T07:47:32.281Z"
   },
   {
    "duration": 226,
    "start_time": "2022-03-16T07:47:32.449Z"
   },
   {
    "duration": 9,
    "start_time": "2022-03-16T07:47:33.469Z"
   },
   {
    "duration": 9,
    "start_time": "2022-03-16T07:47:33.660Z"
   },
   {
    "duration": 3,
    "start_time": "2022-03-16T07:47:34.643Z"
   },
   {
    "duration": 4,
    "start_time": "2022-03-16T07:47:34.869Z"
   },
   {
    "duration": 5,
    "start_time": "2022-03-16T07:47:35.069Z"
   },
   {
    "duration": 3,
    "start_time": "2022-03-16T07:47:35.239Z"
   },
   {
    "duration": 3,
    "start_time": "2022-03-16T07:47:35.648Z"
   },
   {
    "duration": 8,
    "start_time": "2022-03-16T07:47:35.869Z"
   },
   {
    "duration": 2,
    "start_time": "2022-03-16T07:47:36.878Z"
   },
   {
    "duration": 3,
    "start_time": "2022-03-16T07:47:37.069Z"
   },
   {
    "duration": 291,
    "start_time": "2022-03-16T07:47:37.289Z"
   },
   {
    "duration": 45,
    "start_time": "2022-03-16T07:47:37.687Z"
   },
   {
    "duration": 447,
    "start_time": "2022-03-16T07:47:38.337Z"
   },
   {
    "duration": 8,
    "start_time": "2022-03-16T07:47:38.786Z"
   },
   {
    "duration": 7,
    "start_time": "2022-03-16T07:47:38.796Z"
   },
   {
    "duration": 4,
    "start_time": "2022-03-16T07:47:39.158Z"
   },
   {
    "duration": 110,
    "start_time": "2022-03-16T07:47:39.888Z"
   },
   {
    "duration": 1193,
    "start_time": "2022-03-16T07:47:40.516Z"
   },
   {
    "duration": 30,
    "start_time": "2022-03-16T07:47:41.711Z"
   },
   {
    "duration": 3,
    "start_time": "2022-03-16T07:47:42.069Z"
   },
   {
    "duration": 12,
    "start_time": "2022-03-16T07:47:42.348Z"
   },
   {
    "duration": 75,
    "start_time": "2022-03-16T07:47:42.629Z"
   },
   {
    "duration": 18,
    "start_time": "2022-03-16T07:47:42.889Z"
   },
   {
    "duration": 4,
    "start_time": "2022-03-16T07:47:44.189Z"
   },
   {
    "duration": 908,
    "start_time": "2022-03-16T07:47:44.429Z"
   },
   {
    "duration": 10,
    "start_time": "2022-03-16T07:47:45.339Z"
   },
   {
    "duration": 53,
    "start_time": "2022-03-16T07:47:45.351Z"
   },
   {
    "duration": 2,
    "start_time": "2022-03-16T07:47:45.525Z"
   },
   {
    "duration": 30,
    "start_time": "2022-03-16T07:47:46.790Z"
   },
   {
    "duration": 7,
    "start_time": "2022-03-16T07:47:47.209Z"
   },
   {
    "duration": 362,
    "start_time": "2022-03-16T07:47:47.789Z"
   },
   {
    "duration": 2,
    "start_time": "2022-03-16T07:47:48.154Z"
   },
   {
    "duration": 47,
    "start_time": "2022-03-16T07:47:50.989Z"
   },
   {
    "duration": 4,
    "start_time": "2022-03-16T07:47:51.409Z"
   },
   {
    "duration": 293,
    "start_time": "2022-03-16T07:47:52.469Z"
   },
   {
    "duration": 20,
    "start_time": "2022-03-16T07:47:54.309Z"
   },
   {
    "duration": 294,
    "start_time": "2022-03-16T07:47:56.460Z"
   },
   {
    "duration": 5,
    "start_time": "2022-03-16T07:48:20.669Z"
   },
   {
    "duration": 5,
    "start_time": "2022-03-16T07:48:20.929Z"
   },
   {
    "duration": 7,
    "start_time": "2022-03-16T07:48:21.189Z"
   },
   {
    "duration": 4,
    "start_time": "2022-03-16T07:48:24.289Z"
   },
   {
    "duration": 2,
    "start_time": "2022-03-16T07:48:24.469Z"
   },
   {
    "duration": 2,
    "start_time": "2022-03-16T07:48:24.669Z"
   },
   {
    "duration": 5,
    "start_time": "2022-03-16T07:48:25.069Z"
   },
   {
    "duration": 16,
    "start_time": "2022-03-16T07:48:25.649Z"
   },
   {
    "duration": 3,
    "start_time": "2022-03-16T07:48:26.309Z"
   },
   {
    "duration": 2,
    "start_time": "2022-03-16T07:48:31.869Z"
   },
   {
    "duration": 2,
    "start_time": "2022-03-16T07:48:46.529Z"
   },
   {
    "duration": 1605,
    "start_time": "2022-03-16T07:48:46.729Z"
   },
   {
    "duration": 2,
    "start_time": "2022-03-16T07:48:54.489Z"
   },
   {
    "duration": 57,
    "start_time": "2022-03-16T07:50:31.834Z"
   },
   {
    "duration": 283,
    "start_time": "2022-03-16T07:50:38.114Z"
   },
   {
    "duration": 191,
    "start_time": "2022-03-16T07:50:46.894Z"
   },
   {
    "duration": 207,
    "start_time": "2022-03-16T07:51:33.514Z"
   },
   {
    "duration": 189,
    "start_time": "2022-03-16T07:52:04.494Z"
   },
   {
    "duration": 5,
    "start_time": "2022-03-16T07:52:47.354Z"
   },
   {
    "duration": 3,
    "start_time": "2022-03-16T07:52:53.554Z"
   },
   {
    "duration": 3,
    "start_time": "2022-03-16T07:54:16.274Z"
   },
   {
    "duration": 5,
    "start_time": "2022-03-16T07:54:20.834Z"
   },
   {
    "duration": 211,
    "start_time": "2022-03-16T07:54:28.014Z"
   },
   {
    "duration": 209,
    "start_time": "2022-03-16T07:55:22.413Z"
   },
   {
    "duration": 3,
    "start_time": "2022-03-16T07:55:43.933Z"
   },
   {
    "duration": 285,
    "start_time": "2022-03-16T07:55:45.112Z"
   },
   {
    "duration": 206,
    "start_time": "2022-03-16T07:57:15.453Z"
   },
   {
    "duration": 185,
    "start_time": "2022-03-16T07:58:58.814Z"
   },
   {
    "duration": 2,
    "start_time": "2022-03-16T07:59:46.574Z"
   },
   {
    "duration": 193,
    "start_time": "2022-03-16T08:03:32.014Z"
   },
   {
    "duration": 13,
    "start_time": "2022-03-16T08:03:43.826Z"
   },
   {
    "duration": 209,
    "start_time": "2022-03-16T08:07:36.874Z"
   },
   {
    "duration": 10202,
    "start_time": "2022-03-16T08:08:35.531Z"
   },
   {
    "duration": 10386,
    "start_time": "2022-03-16T08:08:57.770Z"
   },
   {
    "duration": 3,
    "start_time": "2022-03-16T08:09:08.158Z"
   },
   {
    "duration": 4,
    "start_time": "2022-03-16T08:12:27.415Z"
   },
   {
    "duration": 3,
    "start_time": "2022-03-16T08:17:26.694Z"
   },
   {
    "duration": 2,
    "start_time": "2022-03-16T08:17:38.623Z"
   },
   {
    "duration": 195,
    "start_time": "2022-03-16T08:21:37.850Z"
   },
   {
    "duration": 239,
    "start_time": "2022-03-16T08:22:14.297Z"
   },
   {
    "duration": 206,
    "start_time": "2022-03-16T08:22:18.932Z"
   },
   {
    "duration": 5,
    "start_time": "2022-03-16T08:36:32.514Z"
   },
   {
    "duration": 4,
    "start_time": "2022-03-16T08:36:47.575Z"
   },
   {
    "duration": 200,
    "start_time": "2022-03-16T08:37:14.275Z"
   },
   {
    "duration": 199,
    "start_time": "2022-03-16T08:37:26.435Z"
   },
   {
    "duration": 196,
    "start_time": "2022-03-16T08:39:17.112Z"
   },
   {
    "duration": 4,
    "start_time": "2022-03-16T08:41:54.375Z"
   },
   {
    "duration": 195,
    "start_time": "2022-03-16T08:42:09.216Z"
   },
   {
    "duration": 187,
    "start_time": "2022-03-16T08:42:53.804Z"
   },
   {
    "duration": 178,
    "start_time": "2022-03-16T08:43:16.076Z"
   },
   {
    "duration": 198,
    "start_time": "2022-03-16T08:43:21.416Z"
   },
   {
    "duration": 186,
    "start_time": "2022-03-16T08:44:20.437Z"
   },
   {
    "duration": 181,
    "start_time": "2022-03-16T08:44:57.878Z"
   },
   {
    "duration": 184,
    "start_time": "2022-03-16T08:45:09.500Z"
   },
   {
    "duration": 198,
    "start_time": "2022-03-16T08:45:13.237Z"
   },
   {
    "duration": 191,
    "start_time": "2022-03-16T08:47:25.685Z"
   },
   {
    "duration": 213,
    "start_time": "2022-03-16T08:47:38.497Z"
   },
   {
    "duration": 193,
    "start_time": "2022-03-16T08:48:07.918Z"
   },
   {
    "duration": 183,
    "start_time": "2022-03-16T08:48:24.156Z"
   },
   {
    "duration": 182,
    "start_time": "2022-03-16T08:51:27.697Z"
   },
   {
    "duration": 6729,
    "start_time": "2022-03-16T08:51:45.317Z"
   },
   {
    "duration": 4983,
    "start_time": "2022-03-16T08:52:08.757Z"
   },
   {
    "duration": 2381,
    "start_time": "2022-03-16T08:55:20.157Z"
   },
   {
    "duration": 172,
    "start_time": "2022-03-16T09:01:57.178Z"
   },
   {
    "duration": 77759,
    "start_time": "2022-03-16T09:02:15.219Z"
   },
   {
    "duration": 3,
    "start_time": "2022-03-16T09:04:04.672Z"
   },
   {
    "duration": 4,
    "start_time": "2022-03-16T09:04:10.718Z"
   },
   {
    "duration": 61,
    "start_time": "2022-03-16T09:29:38.701Z"
   },
   {
    "duration": 337,
    "start_time": "2022-03-16T09:29:45.461Z"
   },
   {
    "duration": 9,
    "start_time": "2022-03-16T09:29:49.700Z"
   },
   {
    "duration": 208,
    "start_time": "2022-03-16T09:29:49.880Z"
   },
   {
    "duration": 139893,
    "start_time": "2022-03-16T09:35:16.801Z"
   },
   {
    "duration": 342113,
    "start_time": "2022-03-16T09:40:56.881Z"
   },
   {
    "duration": 1248,
    "start_time": "2022-03-16T09:50:27.710Z"
   },
   {
    "duration": 700,
    "start_time": "2022-03-16T09:50:28.960Z"
   },
   {
    "duration": 21,
    "start_time": "2022-03-16T09:50:29.663Z"
   },
   {
    "duration": 19,
    "start_time": "2022-03-16T09:50:29.685Z"
   },
   {
    "duration": 32,
    "start_time": "2022-03-16T09:50:29.707Z"
   },
   {
    "duration": 17,
    "start_time": "2022-03-16T09:50:29.741Z"
   },
   {
    "duration": 249,
    "start_time": "2022-03-16T09:50:29.760Z"
   },
   {
    "duration": 146,
    "start_time": "2022-03-16T09:50:30.011Z"
   },
   {
    "duration": 246,
    "start_time": "2022-03-16T09:50:30.159Z"
   },
   {
    "duration": 7,
    "start_time": "2022-03-16T09:50:30.407Z"
   },
   {
    "duration": 8,
    "start_time": "2022-03-16T09:50:30.447Z"
   },
   {
    "duration": 2,
    "start_time": "2022-03-16T09:50:31.772Z"
   },
   {
    "duration": 10,
    "start_time": "2022-03-16T09:50:31.776Z"
   },
   {
    "duration": 4,
    "start_time": "2022-03-16T09:50:31.871Z"
   },
   {
    "duration": 4,
    "start_time": "2022-03-16T09:50:32.086Z"
   },
   {
    "duration": 3,
    "start_time": "2022-03-16T09:50:32.486Z"
   },
   {
    "duration": 9,
    "start_time": "2022-03-16T09:50:32.674Z"
   },
   {
    "duration": 3,
    "start_time": "2022-03-16T09:50:33.645Z"
   },
   {
    "duration": 4,
    "start_time": "2022-03-16T09:50:33.846Z"
   },
   {
    "duration": 386,
    "start_time": "2022-03-16T09:50:34.047Z"
   },
   {
    "duration": 47,
    "start_time": "2022-03-16T09:50:34.488Z"
   },
   {
    "duration": 449,
    "start_time": "2022-03-16T09:50:35.086Z"
   },
   {
    "duration": 11,
    "start_time": "2022-03-16T09:50:35.538Z"
   },
   {
    "duration": 11,
    "start_time": "2022-03-16T09:50:35.551Z"
   },
   {
    "duration": 4,
    "start_time": "2022-03-16T09:50:35.948Z"
   },
   {
    "duration": 210,
    "start_time": "2022-03-16T09:50:36.567Z"
   },
   {
    "duration": 1726,
    "start_time": "2022-03-16T09:50:36.963Z"
   },
   {
    "duration": 20,
    "start_time": "2022-03-16T09:50:38.691Z"
   },
   {
    "duration": 4,
    "start_time": "2022-03-16T09:50:38.714Z"
   },
   {
    "duration": 28,
    "start_time": "2022-03-16T09:50:38.719Z"
   },
   {
    "duration": 62,
    "start_time": "2022-03-16T09:50:38.749Z"
   },
   {
    "duration": 34,
    "start_time": "2022-03-16T09:50:38.813Z"
   },
   {
    "duration": 4,
    "start_time": "2022-03-16T09:50:39.927Z"
   },
   {
    "duration": 936,
    "start_time": "2022-03-16T09:50:40.326Z"
   },
   {
    "duration": 9,
    "start_time": "2022-03-16T09:50:41.264Z"
   },
   {
    "duration": 63,
    "start_time": "2022-03-16T09:50:41.274Z"
   },
   {
    "duration": 3,
    "start_time": "2022-03-16T09:50:41.459Z"
   },
   {
    "duration": 47,
    "start_time": "2022-03-16T09:50:43.636Z"
   },
   {
    "duration": 8,
    "start_time": "2022-03-16T09:50:43.684Z"
   },
   {
    "duration": 371,
    "start_time": "2022-03-16T09:50:43.788Z"
   },
   {
    "duration": 3,
    "start_time": "2022-03-16T09:50:47.406Z"
   },
   {
    "duration": 45,
    "start_time": "2022-03-16T09:50:53.474Z"
   },
   {
    "duration": 4,
    "start_time": "2022-03-16T09:50:53.553Z"
   },
   {
    "duration": 473,
    "start_time": "2022-03-16T09:50:53.560Z"
   },
   {
    "duration": 33,
    "start_time": "2022-03-16T09:50:54.036Z"
   },
   {
    "duration": 561,
    "start_time": "2022-03-16T09:50:54.072Z"
   },
   {
    "duration": 6,
    "start_time": "2022-03-16T09:50:54.634Z"
   },
   {
    "duration": 8,
    "start_time": "2022-03-16T09:50:54.643Z"
   },
   {
    "duration": 7,
    "start_time": "2022-03-16T09:50:54.653Z"
   },
   {
    "duration": 4,
    "start_time": "2022-03-16T09:50:56.367Z"
   },
   {
    "duration": 7,
    "start_time": "2022-03-16T09:50:56.373Z"
   },
   {
    "duration": 2,
    "start_time": "2022-03-16T09:50:56.417Z"
   },
   {
    "duration": 4,
    "start_time": "2022-03-16T09:50:57.967Z"
   },
   {
    "duration": 21,
    "start_time": "2022-03-16T09:50:58.016Z"
   },
   {
    "duration": 3,
    "start_time": "2022-03-16T09:50:58.507Z"
   },
   {
    "duration": 4,
    "start_time": "2022-03-16T09:51:01.189Z"
   },
   {
    "duration": 3,
    "start_time": "2022-03-16T09:51:02.467Z"
   },
   {
    "duration": 1309,
    "start_time": "2022-03-16T09:51:02.827Z"
   },
   {
    "duration": 261,
    "start_time": "2022-03-16T09:51:05.807Z"
   },
   {
    "duration": 4,
    "start_time": "2022-03-16T09:51:40.588Z"
   },
   {
    "duration": 1361,
    "start_time": "2022-03-16T09:51:55.476Z"
   },
   {
    "duration": 2473,
    "start_time": "2022-03-16T09:51:59.067Z"
   },
   {
    "duration": 10233,
    "start_time": "2022-03-16T09:52:20.386Z"
   },
   {
    "duration": 4,
    "start_time": "2022-03-16T09:52:30.621Z"
   },
   {
    "duration": 14,
    "start_time": "2022-03-16T09:52:30.633Z"
   },
   {
    "duration": 19,
    "start_time": "2022-03-16T09:52:30.649Z"
   },
   {
    "duration": 112704,
    "start_time": "2022-03-16T09:52:46.681Z"
   },
   {
    "duration": 4,
    "start_time": "2022-03-16T09:54:39.386Z"
   },
   {
    "duration": 5,
    "start_time": "2022-03-16T09:54:39.392Z"
   },
   {
    "duration": 10,
    "start_time": "2022-03-16T09:55:12.828Z"
   },
   {
    "duration": 449935,
    "start_time": "2022-03-16T09:55:13.107Z"
   },
   {
    "duration": 30344,
    "start_time": "2022-03-16T10:03:12.790Z"
   },
   {
    "duration": 5,
    "start_time": "2022-03-16T10:04:20.328Z"
   },
   {
    "duration": 4,
    "start_time": "2022-03-16T10:04:40.062Z"
   },
   {
    "duration": 143033,
    "start_time": "2022-03-16T10:06:02.009Z"
   },
   {
    "duration": 5,
    "start_time": "2022-03-16T10:08:25.044Z"
   },
   {
    "duration": 7,
    "start_time": "2022-03-16T10:08:25.051Z"
   },
   {
    "duration": 10410,
    "start_time": "2022-03-16T10:11:40.350Z"
   },
   {
    "duration": 3,
    "start_time": "2022-03-16T10:11:50.830Z"
   },
   {
    "duration": 4,
    "start_time": "2022-03-16T10:11:51.010Z"
   },
   {
    "duration": 247,
    "start_time": "2022-03-16T10:12:20.250Z"
   },
   {
    "duration": 180,
    "start_time": "2022-03-16T10:12:20.651Z"
   },
   {
    "duration": 185,
    "start_time": "2022-03-16T10:12:21.869Z"
   },
   {
    "duration": 59,
    "start_time": "2022-03-16T10:13:06.449Z"
   },
   {
    "duration": 24828,
    "start_time": "2022-03-16T10:13:11.310Z"
   },
   {
    "duration": 4,
    "start_time": "2022-03-16T10:13:36.140Z"
   },
   {
    "duration": 5,
    "start_time": "2022-03-16T10:13:36.146Z"
   },
   {
    "duration": 3,
    "start_time": "2022-03-16T10:15:33.434Z"
   },
   {
    "duration": 3,
    "start_time": "2022-03-16T10:15:33.791Z"
   },
   {
    "duration": 3,
    "start_time": "2022-03-16T10:15:34.931Z"
   },
   {
    "duration": 25589,
    "start_time": "2022-03-16T10:15:35.190Z"
   },
   {
    "duration": 4,
    "start_time": "2022-03-16T10:16:00.780Z"
   },
   {
    "duration": 17,
    "start_time": "2022-03-16T10:16:00.786Z"
   },
   {
    "duration": 3,
    "start_time": "2022-03-16T10:29:14.458Z"
   },
   {
    "duration": 5,
    "start_time": "2022-03-16T10:29:17.816Z"
   },
   {
    "duration": 18,
    "start_time": "2022-03-16T10:29:17.983Z"
   },
   {
    "duration": 3,
    "start_time": "2022-03-16T10:29:18.196Z"
   },
   {
    "duration": 3,
    "start_time": "2022-03-16T10:29:21.456Z"
   },
   {
    "duration": 3,
    "start_time": "2022-03-16T10:29:21.659Z"
   },
   {
    "duration": 3,
    "start_time": "2022-03-16T10:29:22.075Z"
   },
   {
    "duration": 1336,
    "start_time": "2022-03-16T10:29:25.396Z"
   },
   {
    "duration": 2070,
    "start_time": "2022-03-16T10:29:27.475Z"
   },
   {
    "duration": 10653,
    "start_time": "2022-03-16T10:29:40.820Z"
   },
   {
    "duration": 3,
    "start_time": "2022-03-16T10:29:51.475Z"
   },
   {
    "duration": 8,
    "start_time": "2022-03-16T10:29:51.480Z"
   },
   {
    "duration": 6,
    "start_time": "2022-03-16T10:29:51.489Z"
   },
   {
    "duration": 115438,
    "start_time": "2022-03-16T10:31:19.476Z"
   },
   {
    "duration": 4,
    "start_time": "2022-03-16T10:33:14.916Z"
   },
   {
    "duration": 4,
    "start_time": "2022-03-16T10:33:14.933Z"
   },
   {
    "duration": 1591687,
    "start_time": "2022-03-16T10:34:26.465Z"
   },
   {
    "duration": 4,
    "start_time": "2022-03-16T11:00:58.153Z"
   },
   {
    "duration": 7,
    "start_time": "2022-03-16T11:00:58.159Z"
   },
   {
    "duration": 8,
    "start_time": "2022-03-16T11:00:58.173Z"
   },
   {
    "duration": 231,
    "start_time": "2022-03-16T11:02:19.332Z"
   },
   {
    "duration": 3,
    "start_time": "2022-03-16T11:11:00.887Z"
   },
   {
    "duration": 315,
    "start_time": "2022-03-16T11:11:18.231Z"
   },
   {
    "duration": 24,
    "start_time": "2022-03-16T11:13:34.507Z"
   },
   {
    "duration": 24,
    "start_time": "2022-03-16T11:13:56.049Z"
   },
   {
    "duration": 24,
    "start_time": "2022-03-16T11:13:58.888Z"
   },
   {
    "duration": 27,
    "start_time": "2022-03-16T11:14:03.850Z"
   },
   {
    "duration": 7667502,
    "start_time": "2022-03-16T11:16:19.728Z"
   },
   {
    "duration": 176002,
    "start_time": "2022-03-16T13:24:30.360Z"
   },
   {
    "duration": 1085,
    "start_time": "2022-03-16T13:38:52.682Z"
   },
   {
    "duration": 718,
    "start_time": "2022-03-16T13:38:53.769Z"
   },
   {
    "duration": 21,
    "start_time": "2022-03-16T13:38:54.489Z"
   },
   {
    "duration": 32,
    "start_time": "2022-03-16T13:38:54.512Z"
   },
   {
    "duration": 11,
    "start_time": "2022-03-16T13:38:54.545Z"
   },
   {
    "duration": 16,
    "start_time": "2022-03-16T13:38:54.567Z"
   },
   {
    "duration": 234,
    "start_time": "2022-03-16T13:38:55.002Z"
   },
   {
    "duration": 138,
    "start_time": "2022-03-16T13:38:55.238Z"
   },
   {
    "duration": 235,
    "start_time": "2022-03-16T13:38:55.455Z"
   },
   {
    "duration": 8,
    "start_time": "2022-03-16T13:38:56.822Z"
   },
   {
    "duration": 9,
    "start_time": "2022-03-16T13:38:57.022Z"
   },
   {
    "duration": 2,
    "start_time": "2022-03-16T13:38:58.082Z"
   },
   {
    "duration": 3,
    "start_time": "2022-03-16T13:38:58.330Z"
   },
   {
    "duration": 4,
    "start_time": "2022-03-16T13:38:58.530Z"
   },
   {
    "duration": 4,
    "start_time": "2022-03-16T13:38:58.706Z"
   },
   {
    "duration": 2,
    "start_time": "2022-03-16T13:38:59.142Z"
   },
   {
    "duration": 9,
    "start_time": "2022-03-16T13:38:59.342Z"
   },
   {
    "duration": 3,
    "start_time": "2022-03-16T13:39:00.742Z"
   },
   {
    "duration": 4,
    "start_time": "2022-03-16T13:39:00.963Z"
   },
   {
    "duration": 305,
    "start_time": "2022-03-16T13:39:01.182Z"
   },
   {
    "duration": 47,
    "start_time": "2022-03-16T13:39:01.579Z"
   },
   {
    "duration": 455,
    "start_time": "2022-03-16T13:39:02.211Z"
   },
   {
    "duration": 8,
    "start_time": "2022-03-16T13:39:02.668Z"
   },
   {
    "duration": 7,
    "start_time": "2022-03-16T13:39:02.678Z"
   },
   {
    "duration": 4,
    "start_time": "2022-03-16T13:39:03.010Z"
   },
   {
    "duration": 127,
    "start_time": "2022-03-16T13:39:03.630Z"
   },
   {
    "duration": 1111,
    "start_time": "2022-03-16T13:39:04.050Z"
   },
   {
    "duration": 19,
    "start_time": "2022-03-16T13:39:05.164Z"
   },
   {
    "duration": 5,
    "start_time": "2022-03-16T13:39:05.187Z"
   },
   {
    "duration": 12,
    "start_time": "2022-03-16T13:39:05.263Z"
   },
   {
    "duration": 63,
    "start_time": "2022-03-16T13:39:05.482Z"
   },
   {
    "duration": 18,
    "start_time": "2022-03-16T13:39:05.705Z"
   },
   {
    "duration": 4,
    "start_time": "2022-03-16T13:39:06.751Z"
   },
   {
    "duration": 928,
    "start_time": "2022-03-16T13:39:06.950Z"
   },
   {
    "duration": 8,
    "start_time": "2022-03-16T13:39:07.880Z"
   },
   {
    "duration": 67,
    "start_time": "2022-03-16T13:39:07.890Z"
   },
   {
    "duration": 2,
    "start_time": "2022-03-16T13:39:07.959Z"
   },
   {
    "duration": 31,
    "start_time": "2022-03-16T13:39:09.182Z"
   },
   {
    "duration": 8,
    "start_time": "2022-03-16T13:39:09.662Z"
   },
   {
    "duration": 353,
    "start_time": "2022-03-16T13:39:10.322Z"
   },
   {
    "duration": 2,
    "start_time": "2022-03-16T13:39:10.677Z"
   },
   {
    "duration": 50,
    "start_time": "2022-03-16T13:39:13.503Z"
   },
   {
    "duration": 5,
    "start_time": "2022-03-16T13:39:13.694Z"
   },
   {
    "duration": 304,
    "start_time": "2022-03-16T13:39:13.922Z"
   },
   {
    "duration": 20,
    "start_time": "2022-03-16T13:39:14.863Z"
   },
   {
    "duration": 296,
    "start_time": "2022-03-16T13:39:15.422Z"
   },
   {
    "duration": 5,
    "start_time": "2022-03-16T13:39:15.974Z"
   },
   {
    "duration": 6,
    "start_time": "2022-03-16T13:39:16.230Z"
   },
   {
    "duration": 7,
    "start_time": "2022-03-16T13:39:16.543Z"
   },
   {
    "duration": 4,
    "start_time": "2022-03-16T13:39:17.616Z"
   },
   {
    "duration": 3,
    "start_time": "2022-03-16T13:39:18.961Z"
   },
   {
    "duration": 3,
    "start_time": "2022-03-16T13:39:19.882Z"
   },
   {
    "duration": 5,
    "start_time": "2022-03-16T13:39:32.346Z"
   },
   {
    "duration": 16,
    "start_time": "2022-03-16T13:39:32.578Z"
   },
   {
    "duration": 3,
    "start_time": "2022-03-16T13:39:33.062Z"
   },
   {
    "duration": 22,
    "start_time": "2022-03-16T13:39:37.942Z"
   },
   {
    "duration": 4,
    "start_time": "2022-03-16T13:39:38.173Z"
   },
   {
    "duration": 5,
    "start_time": "2022-03-16T13:39:39.782Z"
   },
   {
    "duration": 283,
    "start_time": "2022-03-16T13:41:46.925Z"
   },
   {
    "duration": 1310,
    "start_time": "2022-03-16T13:42:20.024Z"
   },
   {
    "duration": 271,
    "start_time": "2022-03-16T13:42:21.984Z"
   },
   {
    "duration": 1071,
    "start_time": "2022-03-16T13:42:27.764Z"
   },
   {
    "duration": 2138,
    "start_time": "2022-03-16T13:43:03.702Z"
   },
   {
    "duration": 2090,
    "start_time": "2022-03-16T13:43:05.843Z"
   },
   {
    "duration": 315,
    "start_time": "2022-03-16T13:46:45.040Z"
   },
   {
    "duration": 3,
    "start_time": "2022-03-16T13:46:49.142Z"
   },
   {
    "duration": 3,
    "start_time": "2022-03-16T13:47:37.533Z"
   },
   {
    "duration": 1224,
    "start_time": "2022-03-16T13:47:43.812Z"
   },
   {
    "duration": 1366,
    "start_time": "2022-03-16T13:48:13.371Z"
   },
   {
    "duration": 1842,
    "start_time": "2022-03-16T13:48:46.097Z"
   },
   {
    "duration": 1783,
    "start_time": "2022-03-16T13:48:57.254Z"
   },
   {
    "duration": 3,
    "start_time": "2022-03-16T13:59:06.690Z"
   },
   {
    "duration": 3,
    "start_time": "2022-03-16T13:59:26.562Z"
   },
   {
    "duration": 4,
    "start_time": "2022-03-16T13:59:27.020Z"
   },
   {
    "duration": 57,
    "start_time": "2022-03-16T14:01:21.369Z"
   },
   {
    "duration": 3,
    "start_time": "2022-03-16T14:01:42.128Z"
   },
   {
    "duration": 3,
    "start_time": "2022-03-16T14:01:42.720Z"
   },
   {
    "duration": 3,
    "start_time": "2022-03-16T14:01:44.156Z"
   },
   {
    "duration": 3,
    "start_time": "2022-03-16T14:01:44.458Z"
   },
   {
    "duration": 1301,
    "start_time": "2022-03-16T14:01:48.033Z"
   },
   {
    "duration": 1396,
    "start_time": "2022-03-16T14:01:49.337Z"
   },
   {
    "duration": 1603,
    "start_time": "2022-03-16T14:01:50.735Z"
   },
   {
    "duration": 2095,
    "start_time": "2022-03-16T14:01:52.343Z"
   },
   {
    "duration": 92,
    "start_time": "2022-03-16T14:01:54.443Z"
   },
   {
    "duration": 62,
    "start_time": "2022-03-16T14:02:06.031Z"
   },
   {
    "duration": 10415,
    "start_time": "2022-03-16T14:02:13.560Z"
   },
   {
    "duration": 10375,
    "start_time": "2022-03-16T14:02:55.799Z"
   },
   {
    "duration": 2,
    "start_time": "2022-03-16T14:03:37.579Z"
   },
   {
    "duration": 111192,
    "start_time": "2022-03-16T14:03:37.827Z"
   },
   {
    "duration": 122519,
    "start_time": "2022-03-16T14:05:29.021Z"
   },
   {
    "duration": 3,
    "start_time": "2022-03-16T14:13:08.152Z"
   },
   {
    "duration": 181212,
    "start_time": "2022-03-16T14:13:09.904Z"
   },
   {
    "duration": 208179,
    "start_time": "2022-03-16T14:16:11.118Z"
   },
   {
    "duration": 24,
    "start_time": "2022-03-16T14:36:22.626Z"
   },
   {
    "duration": 32,
    "start_time": "2022-03-16T14:36:23.346Z"
   },
   {
    "duration": 5330,
    "start_time": "2022-03-16T15:16:44.870Z"
   },
   {
    "duration": 4,
    "start_time": "2022-03-16T15:16:53.610Z"
   },
   {
    "duration": 186,
    "start_time": "2022-03-16T15:16:54.130Z"
   },
   {
    "duration": 4,
    "start_time": "2022-03-16T15:17:10.439Z"
   },
   {
    "duration": 182,
    "start_time": "2022-03-16T15:17:10.999Z"
   },
   {
    "duration": 7,
    "start_time": "2022-03-16T15:17:58.890Z"
   },
   {
    "duration": 213,
    "start_time": "2022-03-16T15:17:59.952Z"
   },
   {
    "duration": 4,
    "start_time": "2022-03-16T15:18:22.010Z"
   },
   {
    "duration": 3,
    "start_time": "2022-03-16T15:18:26.739Z"
   },
   {
    "duration": 183,
    "start_time": "2022-03-16T15:18:26.744Z"
   },
   {
    "duration": 3,
    "start_time": "2022-03-16T15:18:38.126Z"
   },
   {
    "duration": 11192,
    "start_time": "2022-03-16T15:18:38.146Z"
   },
   {
    "duration": 15648,
    "start_time": "2022-03-16T15:20:55.410Z"
   },
   {
    "duration": 5,
    "start_time": "2022-03-16T15:21:11.061Z"
   },
   {
    "duration": 6,
    "start_time": "2022-03-16T15:21:23.229Z"
   },
   {
    "duration": 192,
    "start_time": "2022-03-16T15:25:03.428Z"
   },
   {
    "duration": 464,
    "start_time": "2022-03-16T15:25:09.987Z"
   },
   {
    "duration": 48,
    "start_time": "2022-03-16T15:26:00.688Z"
   },
   {
    "duration": 11508,
    "start_time": "2022-03-16T15:29:17.563Z"
   },
   {
    "duration": 56,
    "start_time": "2022-03-16T15:31:39.562Z"
   },
   {
    "duration": 3,
    "start_time": "2022-03-16T15:31:43.969Z"
   },
   {
    "duration": 11265,
    "start_time": "2022-03-16T15:32:20.800Z"
   },
   {
    "duration": 12152,
    "start_time": "2022-03-16T15:32:36.300Z"
   },
   {
    "duration": 23916,
    "start_time": "2022-03-16T15:34:02.920Z"
   },
   {
    "duration": 5,
    "start_time": "2022-03-16T15:34:26.839Z"
   },
   {
    "duration": 213,
    "start_time": "2022-03-16T15:38:20.919Z"
   },
   {
    "duration": 29,
    "start_time": "2022-03-16T15:39:17.226Z"
   },
   {
    "duration": 194,
    "start_time": "2022-03-16T15:39:26.378Z"
   },
   {
    "duration": 174,
    "start_time": "2022-03-16T15:49:42.145Z"
   },
   {
    "duration": 6,
    "start_time": "2022-03-16T15:50:52.129Z"
   },
   {
    "duration": 15,
    "start_time": "2022-03-16T15:55:58.859Z"
   },
   {
    "duration": 6,
    "start_time": "2022-03-16T15:56:09.119Z"
   },
   {
    "duration": 6,
    "start_time": "2022-03-16T15:56:29.198Z"
   },
   {
    "duration": 5,
    "start_time": "2022-03-16T15:59:08.238Z"
   },
   {
    "duration": 7,
    "start_time": "2022-03-16T16:00:51.084Z"
   },
   {
    "duration": 4,
    "start_time": "2022-03-16T16:00:51.597Z"
   },
   {
    "duration": 2480,
    "start_time": "2022-03-16T16:03:21.096Z"
   },
   {
    "duration": 442,
    "start_time": "2022-03-16T16:04:50.636Z"
   },
   {
    "duration": 534,
    "start_time": "2022-03-16T16:05:05.676Z"
   },
   {
    "duration": 10,
    "start_time": "2022-03-16T16:06:20.843Z"
   },
   {
    "duration": 8,
    "start_time": "2022-03-16T16:06:21.396Z"
   },
   {
    "duration": 1118,
    "start_time": "2022-03-16T16:29:21.862Z"
   },
   {
    "duration": 727,
    "start_time": "2022-03-16T16:29:25.672Z"
   },
   {
    "duration": 22,
    "start_time": "2022-03-16T16:29:26.950Z"
   },
   {
    "duration": 16,
    "start_time": "2022-03-16T16:29:27.315Z"
   },
   {
    "duration": 10,
    "start_time": "2022-03-16T16:29:27.779Z"
   },
   {
    "duration": 22,
    "start_time": "2022-03-16T16:29:28.140Z"
   },
   {
    "duration": 229,
    "start_time": "2022-03-16T16:29:28.526Z"
   },
   {
    "duration": 131,
    "start_time": "2022-03-16T16:29:28.757Z"
   },
   {
    "duration": 249,
    "start_time": "2022-03-16T16:29:28.895Z"
   },
   {
    "duration": 7,
    "start_time": "2022-03-16T16:29:29.844Z"
   },
   {
    "duration": 9,
    "start_time": "2022-03-16T16:29:30.025Z"
   },
   {
    "duration": 3,
    "start_time": "2022-03-16T16:29:30.980Z"
   },
   {
    "duration": 3,
    "start_time": "2022-03-16T16:29:31.163Z"
   },
   {
    "duration": 5,
    "start_time": "2022-03-16T16:29:31.378Z"
   },
   {
    "duration": 4,
    "start_time": "2022-03-16T16:29:31.550Z"
   },
   {
    "duration": 3,
    "start_time": "2022-03-16T16:29:31.939Z"
   },
   {
    "duration": 8,
    "start_time": "2022-03-16T16:29:32.119Z"
   },
   {
    "duration": 2,
    "start_time": "2022-03-16T16:29:33.037Z"
   },
   {
    "duration": 4,
    "start_time": "2022-03-16T16:29:33.217Z"
   },
   {
    "duration": 308,
    "start_time": "2022-03-16T16:29:33.395Z"
   },
   {
    "duration": 48,
    "start_time": "2022-03-16T16:29:33.803Z"
   },
   {
    "duration": 451,
    "start_time": "2022-03-16T16:29:34.445Z"
   },
   {
    "duration": 7,
    "start_time": "2022-03-16T16:29:34.898Z"
   },
   {
    "duration": 28,
    "start_time": "2022-03-16T16:29:34.907Z"
   },
   {
    "duration": 6,
    "start_time": "2022-03-16T16:29:35.342Z"
   },
   {
    "duration": 118,
    "start_time": "2022-03-16T16:29:35.961Z"
   },
   {
    "duration": 1064,
    "start_time": "2022-03-16T16:29:36.330Z"
   },
   {
    "duration": 18,
    "start_time": "2022-03-16T16:29:37.396Z"
   },
   {
    "duration": 17,
    "start_time": "2022-03-16T16:29:37.416Z"
   },
   {
    "duration": 14,
    "start_time": "2022-03-16T16:29:37.513Z"
   },
   {
    "duration": 61,
    "start_time": "2022-03-16T16:29:37.706Z"
   },
   {
    "duration": 19,
    "start_time": "2022-03-16T16:29:37.899Z"
   },
   {
    "duration": 32,
    "start_time": "2022-03-16T16:29:38.851Z"
   },
   {
    "duration": 8,
    "start_time": "2022-03-16T16:29:39.034Z"
   },
   {
    "duration": 353,
    "start_time": "2022-03-16T16:29:39.226Z"
   },
   {
    "duration": 2,
    "start_time": "2022-03-16T16:29:39.581Z"
   },
   {
    "duration": 44,
    "start_time": "2022-03-16T16:29:40.989Z"
   },
   {
    "duration": 4,
    "start_time": "2022-03-16T16:29:41.174Z"
   },
   {
    "duration": 299,
    "start_time": "2022-03-16T16:29:41.362Z"
   },
   {
    "duration": 30,
    "start_time": "2022-03-16T16:29:41.938Z"
   },
   {
    "duration": 299,
    "start_time": "2022-03-16T16:29:42.362Z"
   },
   {
    "duration": 6,
    "start_time": "2022-03-16T16:29:42.770Z"
   },
   {
    "duration": 5,
    "start_time": "2022-03-16T16:29:43.035Z"
   },
   {
    "duration": 7,
    "start_time": "2022-03-16T16:29:43.230Z"
   },
   {
    "duration": 4,
    "start_time": "2022-03-16T16:29:43.921Z"
   },
   {
    "duration": 5,
    "start_time": "2022-03-16T16:29:44.471Z"
   },
   {
    "duration": 21,
    "start_time": "2022-03-16T16:29:44.676Z"
   },
   {
    "duration": 3,
    "start_time": "2022-03-16T16:29:44.876Z"
   },
   {
    "duration": 479,
    "start_time": "2022-03-16T16:29:45.534Z"
   },
   {
    "duration": 21,
    "start_time": "2022-03-16T16:29:46.014Z"
   },
   {
    "duration": 9,
    "start_time": "2022-03-16T16:29:46.038Z"
   },
   {
    "duration": 30,
    "start_time": "2022-03-16T16:29:47.268Z"
   },
   {
    "duration": 3,
    "start_time": "2022-03-16T16:29:47.491Z"
   },
   {
    "duration": 5,
    "start_time": "2022-03-16T16:30:26.290Z"
   },
   {
    "duration": 1153,
    "start_time": "2022-03-16T16:31:32.754Z"
   },
   {
    "duration": 724,
    "start_time": "2022-03-16T16:31:33.909Z"
   },
   {
    "duration": 20,
    "start_time": "2022-03-16T16:31:34.635Z"
   },
   {
    "duration": 17,
    "start_time": "2022-03-16T16:31:34.657Z"
   },
   {
    "duration": 10,
    "start_time": "2022-03-16T16:31:34.675Z"
   },
   {
    "duration": 48,
    "start_time": "2022-03-16T16:31:34.686Z"
   },
   {
    "duration": 227,
    "start_time": "2022-03-16T16:31:34.789Z"
   },
   {
    "duration": 137,
    "start_time": "2022-03-16T16:31:35.018Z"
   },
   {
    "duration": 248,
    "start_time": "2022-03-16T16:31:35.157Z"
   },
   {
    "duration": 7,
    "start_time": "2022-03-16T16:31:36.079Z"
   },
   {
    "duration": 8,
    "start_time": "2022-03-16T16:31:36.271Z"
   },
   {
    "duration": 2,
    "start_time": "2022-03-16T16:31:37.191Z"
   },
   {
    "duration": 3,
    "start_time": "2022-03-16T16:31:37.393Z"
   },
   {
    "duration": 4,
    "start_time": "2022-03-16T16:31:37.575Z"
   },
   {
    "duration": 4,
    "start_time": "2022-03-16T16:31:37.756Z"
   },
   {
    "duration": 2,
    "start_time": "2022-03-16T16:31:38.151Z"
   },
   {
    "duration": 9,
    "start_time": "2022-03-16T16:31:38.363Z"
   },
   {
    "duration": 3,
    "start_time": "2022-03-16T16:31:39.295Z"
   },
   {
    "duration": 3,
    "start_time": "2022-03-16T16:31:39.475Z"
   },
   {
    "duration": 298,
    "start_time": "2022-03-16T16:31:39.647Z"
   },
   {
    "duration": 46,
    "start_time": "2022-03-16T16:31:40.023Z"
   },
   {
    "duration": 519,
    "start_time": "2022-03-16T16:31:40.586Z"
   },
   {
    "duration": 8,
    "start_time": "2022-03-16T16:31:41.107Z"
   },
   {
    "duration": 23,
    "start_time": "2022-03-16T16:31:41.116Z"
   },
   {
    "duration": 4,
    "start_time": "2022-03-16T16:31:41.358Z"
   },
   {
    "duration": 45,
    "start_time": "2022-03-16T16:31:41.939Z"
   },
   {
    "duration": 1116,
    "start_time": "2022-03-16T16:31:42.322Z"
   },
   {
    "duration": 19,
    "start_time": "2022-03-16T16:31:43.440Z"
   },
   {
    "duration": 4,
    "start_time": "2022-03-16T16:31:43.461Z"
   },
   {
    "duration": 18,
    "start_time": "2022-03-16T16:31:43.467Z"
   },
   {
    "duration": 65,
    "start_time": "2022-03-16T16:31:43.656Z"
   },
   {
    "duration": 19,
    "start_time": "2022-03-16T16:31:43.846Z"
   },
   {
    "duration": 31,
    "start_time": "2022-03-16T16:31:44.871Z"
   },
   {
    "duration": 8,
    "start_time": "2022-03-16T16:31:45.047Z"
   },
   {
    "duration": 341,
    "start_time": "2022-03-16T16:31:45.240Z"
   },
   {
    "duration": 3,
    "start_time": "2022-03-16T16:31:45.583Z"
   },
   {
    "duration": 47,
    "start_time": "2022-03-16T16:31:47.041Z"
   },
   {
    "duration": 4,
    "start_time": "2022-03-16T16:31:47.208Z"
   },
   {
    "duration": 295,
    "start_time": "2022-03-16T16:31:47.406Z"
   },
   {
    "duration": 22,
    "start_time": "2022-03-16T16:31:47.995Z"
   },
   {
    "duration": 322,
    "start_time": "2022-03-16T16:31:48.468Z"
   },
   {
    "duration": 6,
    "start_time": "2022-03-16T16:31:48.866Z"
   },
   {
    "duration": 6,
    "start_time": "2022-03-16T16:31:49.082Z"
   },
   {
    "duration": 7,
    "start_time": "2022-03-16T16:31:49.294Z"
   },
   {
    "duration": 3,
    "start_time": "2022-03-16T16:31:49.890Z"
   },
   {
    "duration": 5,
    "start_time": "2022-03-16T16:31:50.495Z"
   },
   {
    "duration": 15,
    "start_time": "2022-03-16T16:31:50.664Z"
   },
   {
    "duration": 4,
    "start_time": "2022-03-16T16:31:50.882Z"
   },
   {
    "duration": 454,
    "start_time": "2022-03-16T16:31:51.502Z"
   },
   {
    "duration": 9,
    "start_time": "2022-03-16T16:31:51.958Z"
   },
   {
    "duration": 7,
    "start_time": "2022-03-16T16:31:51.969Z"
   },
   {
    "duration": 2,
    "start_time": "2022-03-16T16:31:52.881Z"
   },
   {
    "duration": 3,
    "start_time": "2022-03-16T16:31:53.554Z"
   },
   {
    "duration": 3,
    "start_time": "2022-03-16T16:31:53.740Z"
   },
   {
    "duration": 1494,
    "start_time": "2022-03-16T16:31:54.339Z"
   },
   {
    "duration": 1097,
    "start_time": "2022-03-16T16:31:55.836Z"
   },
   {
    "duration": 2100,
    "start_time": "2022-03-16T16:31:56.937Z"
   },
   {
    "duration": 1902,
    "start_time": "2022-03-16T16:31:59.040Z"
   },
   {
    "duration": 89,
    "start_time": "2022-03-16T16:32:00.944Z"
   },
   {
    "duration": 10706,
    "start_time": "2022-03-16T16:32:01.036Z"
   },
   {
    "duration": 11410,
    "start_time": "2022-03-16T16:32:11.744Z"
   },
   {
    "duration": 2,
    "start_time": "2022-03-16T16:32:23.157Z"
   },
   {
    "duration": 113247,
    "start_time": "2022-03-16T16:32:23.161Z"
   },
   {
    "duration": 123560,
    "start_time": "2022-03-16T16:34:16.410Z"
   },
   {
    "duration": 4,
    "start_time": "2022-03-16T16:36:19.972Z"
   },
   {
    "duration": 174468,
    "start_time": "2022-03-16T16:36:19.978Z"
   },
   {
    "duration": 186315,
    "start_time": "2022-03-16T16:39:14.448Z"
   },
   {
    "duration": 22,
    "start_time": "2022-03-16T16:42:20.765Z"
   },
   {
    "duration": 44,
    "start_time": "2022-03-16T16:42:20.789Z"
   },
   {
    "duration": 4,
    "start_time": "2022-03-16T16:42:20.834Z"
   },
   {
    "duration": 8,
    "start_time": "2022-03-16T16:42:20.840Z"
   },
   {
    "duration": 22072,
    "start_time": "2022-03-16T16:42:20.849Z"
   },
   {
    "duration": 3,
    "start_time": "2022-03-16T16:42:42.923Z"
   },
   {
    "duration": 13,
    "start_time": "2022-03-16T16:42:42.927Z"
   },
   {
    "duration": 4,
    "start_time": "2022-03-16T16:42:42.942Z"
   },
   {
    "duration": 58,
    "start_time": "2022-03-16T16:52:59.849Z"
   },
   {
    "duration": 3,
    "start_time": "2022-03-16T16:53:00.117Z"
   },
   {
    "duration": 4,
    "start_time": "2022-03-16T16:53:04.169Z"
   },
   {
    "duration": 3,
    "start_time": "2022-03-16T16:53:04.609Z"
   },
   {
    "duration": 22501,
    "start_time": "2022-03-16T16:53:04.937Z"
   },
   {
    "duration": 3,
    "start_time": "2022-03-16T16:53:27.440Z"
   },
   {
    "duration": 7,
    "start_time": "2022-03-16T16:53:27.445Z"
   },
   {
    "duration": 5,
    "start_time": "2022-03-16T16:53:27.454Z"
   },
   {
    "duration": 1722,
    "start_time": "2022-03-17T21:51:00.748Z"
   },
   {
    "duration": 758,
    "start_time": "2022-03-17T21:51:02.473Z"
   },
   {
    "duration": 22,
    "start_time": "2022-03-17T21:51:03.233Z"
   },
   {
    "duration": 18,
    "start_time": "2022-03-17T21:51:03.257Z"
   },
   {
    "duration": 13,
    "start_time": "2022-03-17T21:51:03.299Z"
   },
   {
    "duration": 19,
    "start_time": "2022-03-17T21:51:03.667Z"
   },
   {
    "duration": 213,
    "start_time": "2022-03-17T21:51:04.068Z"
   },
   {
    "duration": 114,
    "start_time": "2022-03-17T21:51:04.307Z"
   },
   {
    "duration": 229,
    "start_time": "2022-03-17T21:51:04.466Z"
   },
   {
    "duration": 9,
    "start_time": "2022-03-17T21:51:07.187Z"
   },
   {
    "duration": 8,
    "start_time": "2022-03-17T21:51:07.468Z"
   },
   {
    "duration": 2,
    "start_time": "2022-03-17T21:51:08.989Z"
   },
   {
    "duration": 3,
    "start_time": "2022-03-17T21:51:09.143Z"
   },
   {
    "duration": 4,
    "start_time": "2022-03-17T21:51:09.346Z"
   },
   {
    "duration": 4,
    "start_time": "2022-03-17T21:51:09.588Z"
   },
   {
    "duration": 3,
    "start_time": "2022-03-17T21:51:10.149Z"
   },
   {
    "duration": 7,
    "start_time": "2022-03-17T21:51:10.384Z"
   },
   {
    "duration": 3,
    "start_time": "2022-03-17T21:51:12.276Z"
   },
   {
    "duration": 3,
    "start_time": "2022-03-17T21:51:12.628Z"
   },
   {
    "duration": 57,
    "start_time": "2022-03-17T21:51:12.916Z"
   },
   {
    "duration": 31,
    "start_time": "2022-03-17T21:51:13.428Z"
   },
   {
    "duration": 599,
    "start_time": "2022-03-17T21:51:14.187Z"
   },
   {
    "duration": 10,
    "start_time": "2022-03-17T21:51:14.789Z"
   },
   {
    "duration": 8,
    "start_time": "2022-03-17T21:51:14.801Z"
   },
   {
    "duration": 4,
    "start_time": "2022-03-17T21:51:15.547Z"
   },
   {
    "duration": 117,
    "start_time": "2022-03-17T21:51:16.867Z"
   },
   {
    "duration": 808,
    "start_time": "2022-03-17T21:51:17.907Z"
   },
   {
    "duration": 22,
    "start_time": "2022-03-17T21:51:20.267Z"
   },
   {
    "duration": 4,
    "start_time": "2022-03-17T21:51:22.227Z"
   },
   {
    "duration": 14,
    "start_time": "2022-03-17T21:51:22.507Z"
   },
   {
    "duration": 50,
    "start_time": "2022-03-17T21:51:22.717Z"
   },
   {
    "duration": 21,
    "start_time": "2022-03-17T21:51:22.988Z"
   },
   {
    "duration": 2,
    "start_time": "2022-03-17T21:54:10.349Z"
   },
   {
    "duration": 2,
    "start_time": "2022-03-17T21:54:13.828Z"
   },
   {
    "duration": 6,
    "start_time": "2022-03-17T21:55:22.067Z"
   },
   {
    "duration": 5,
    "start_time": "2022-03-17T21:57:27.067Z"
   },
   {
    "duration": 1080,
    "start_time": "2022-03-17T21:57:52.347Z"
   },
   {
    "duration": 5,
    "start_time": "2022-03-17T21:58:16.827Z"
   },
   {
    "duration": 1489,
    "start_time": "2022-03-17T21:58:17.587Z"
   },
   {
    "duration": 5,
    "start_time": "2022-03-17T22:00:22.187Z"
   },
   {
    "duration": 104,
    "start_time": "2022-03-17T22:00:22.925Z"
   },
   {
    "duration": 5,
    "start_time": "2022-03-17T22:00:32.302Z"
   },
   {
    "duration": 1671,
    "start_time": "2022-03-17T22:00:32.547Z"
   },
   {
    "duration": 5,
    "start_time": "2022-03-17T22:03:13.427Z"
   },
   {
    "duration": 1511,
    "start_time": "2022-03-17T22:03:13.826Z"
   },
   {
    "duration": 1693,
    "start_time": "2022-03-17T22:04:03.187Z"
   },
   {
    "duration": 1506,
    "start_time": "2022-03-17T22:04:40.467Z"
   },
   {
    "duration": 3,
    "start_time": "2022-03-17T22:08:03.194Z"
   },
   {
    "duration": 54,
    "start_time": "2022-03-17T22:11:27.547Z"
   },
   {
    "duration": 1597,
    "start_time": "2022-03-17T22:11:30.369Z"
   },
   {
    "duration": 6,
    "start_time": "2022-03-17T22:11:59.506Z"
   },
   {
    "duration": 1575,
    "start_time": "2022-03-17T22:12:31.589Z"
   },
   {
    "duration": 5,
    "start_time": "2022-03-17T22:12:45.547Z"
   },
   {
    "duration": 1772,
    "start_time": "2022-03-17T22:12:46.227Z"
   },
   {
    "duration": 1559,
    "start_time": "2022-03-17T22:12:48.001Z"
   },
   {
    "duration": 1601,
    "start_time": "2022-03-17T22:12:49.562Z"
   },
   {
    "duration": 1097,
    "start_time": "2022-03-17T22:12:54.867Z"
   },
   {
    "duration": 29,
    "start_time": "2022-03-17T22:13:27.946Z"
   },
   {
    "duration": 1088,
    "start_time": "2022-03-17T22:13:29.386Z"
   },
   {
    "duration": 1462,
    "start_time": "2022-03-17T22:36:51.146Z"
   },
   {
    "duration": 747,
    "start_time": "2022-03-17T22:36:53.745Z"
   },
   {
    "duration": 21,
    "start_time": "2022-03-17T22:36:54.494Z"
   },
   {
    "duration": 30,
    "start_time": "2022-03-17T22:36:54.516Z"
   },
   {
    "duration": 11,
    "start_time": "2022-03-17T22:36:54.548Z"
   },
   {
    "duration": 17,
    "start_time": "2022-03-17T22:36:54.834Z"
   },
   {
    "duration": 215,
    "start_time": "2022-03-17T22:36:55.186Z"
   },
   {
    "duration": 127,
    "start_time": "2022-03-17T22:36:55.403Z"
   },
   {
    "duration": 239,
    "start_time": "2022-03-17T22:36:55.532Z"
   },
   {
    "duration": 9,
    "start_time": "2022-03-17T22:36:56.646Z"
   },
   {
    "duration": 8,
    "start_time": "2022-03-17T22:36:56.822Z"
   },
   {
    "duration": 3,
    "start_time": "2022-03-17T22:36:57.801Z"
   },
   {
    "duration": 3,
    "start_time": "2022-03-17T22:36:58.136Z"
   },
   {
    "duration": 4,
    "start_time": "2022-03-17T22:36:58.345Z"
   },
   {
    "duration": 4,
    "start_time": "2022-03-17T22:36:58.505Z"
   },
   {
    "duration": 3,
    "start_time": "2022-03-17T22:36:58.945Z"
   },
   {
    "duration": 9,
    "start_time": "2022-03-17T22:36:59.096Z"
   },
   {
    "duration": 3,
    "start_time": "2022-03-17T22:37:00.307Z"
   },
   {
    "duration": 4,
    "start_time": "2022-03-17T22:37:00.454Z"
   },
   {
    "duration": 56,
    "start_time": "2022-03-17T22:37:00.665Z"
   },
   {
    "duration": 30,
    "start_time": "2022-03-17T22:37:01.068Z"
   },
   {
    "duration": 638,
    "start_time": "2022-03-17T22:37:01.666Z"
   },
   {
    "duration": 9,
    "start_time": "2022-03-17T22:37:02.306Z"
   },
   {
    "duration": 52,
    "start_time": "2022-03-17T22:37:02.316Z"
   },
   {
    "duration": 5,
    "start_time": "2022-03-17T22:37:02.443Z"
   },
   {
    "duration": 31,
    "start_time": "2022-03-17T22:37:03.073Z"
   },
   {
    "duration": 808,
    "start_time": "2022-03-17T22:37:03.482Z"
   },
   {
    "duration": 21,
    "start_time": "2022-03-17T22:37:04.292Z"
   },
   {
    "duration": 3,
    "start_time": "2022-03-17T22:37:04.493Z"
   },
   {
    "duration": 12,
    "start_time": "2022-03-17T22:37:04.706Z"
   },
   {
    "duration": 49,
    "start_time": "2022-03-17T22:37:04.880Z"
   },
   {
    "duration": 20,
    "start_time": "2022-03-17T22:37:05.067Z"
   },
   {
    "duration": 5,
    "start_time": "2022-03-17T22:37:05.946Z"
   },
   {
    "duration": 1703,
    "start_time": "2022-03-17T22:37:06.108Z"
   },
   {
    "duration": 1534,
    "start_time": "2022-03-17T22:37:07.813Z"
   },
   {
    "duration": 1519,
    "start_time": "2022-03-17T22:37:09.349Z"
   },
   {
    "duration": 2,
    "start_time": "2022-03-17T22:37:10.870Z"
   },
   {
    "duration": 65,
    "start_time": "2022-03-17T22:37:10.873Z"
   },
   {
    "duration": 1134,
    "start_time": "2022-03-17T22:37:10.939Z"
   },
   {
    "duration": 20,
    "start_time": "2022-03-17T22:37:12.075Z"
   },
   {
    "duration": 1154,
    "start_time": "2022-03-17T22:37:12.097Z"
   },
   {
    "duration": 6,
    "start_time": "2022-03-17T22:37:13.252Z"
   },
   {
    "duration": 9,
    "start_time": "2022-03-17T22:37:13.261Z"
   },
   {
    "duration": 14,
    "start_time": "2022-03-17T22:37:13.272Z"
   },
   {
    "duration": 8,
    "start_time": "2022-03-17T22:37:13.288Z"
   },
   {
    "duration": 9,
    "start_time": "2022-03-17T22:37:13.297Z"
   },
   {
    "duration": 35,
    "start_time": "2022-03-17T22:37:13.308Z"
   },
   {
    "duration": 3,
    "start_time": "2022-03-17T22:37:13.866Z"
   },
   {
    "duration": 748,
    "start_time": "2022-03-17T22:37:14.482Z"
   },
   {
    "duration": 10,
    "start_time": "2022-03-17T22:37:15.233Z"
   },
   {
    "duration": 7,
    "start_time": "2022-03-17T22:37:15.245Z"
   },
   {
    "duration": 3,
    "start_time": "2022-03-17T22:37:15.905Z"
   },
   {
    "duration": 3,
    "start_time": "2022-03-17T22:37:16.745Z"
   },
   {
    "duration": 3,
    "start_time": "2022-03-17T22:37:16.932Z"
   },
   {
    "duration": 1154,
    "start_time": "2022-03-17T22:37:17.586Z"
   },
   {
    "duration": 1297,
    "start_time": "2022-03-17T22:37:18.743Z"
   },
   {
    "duration": 2097,
    "start_time": "2022-03-17T22:37:20.042Z"
   },
   {
    "duration": 1700,
    "start_time": "2022-03-17T22:37:22.142Z"
   },
   {
    "duration": 93,
    "start_time": "2022-03-17T22:37:23.844Z"
   },
   {
    "duration": 50359,
    "start_time": "2022-03-17T22:37:23.940Z"
   },
   {
    "duration": 48748,
    "start_time": "2022-03-17T22:38:14.301Z"
   },
   {
    "duration": 2,
    "start_time": "2022-03-17T22:39:03.051Z"
   },
   {
    "duration": 107354,
    "start_time": "2022-03-17T22:39:03.055Z"
   },
   {
    "duration": 118836,
    "start_time": "2022-03-17T22:40:50.411Z"
   },
   {
    "duration": 2,
    "start_time": "2022-03-17T22:42:49.249Z"
   },
   {
    "duration": 167606,
    "start_time": "2022-03-17T22:42:49.253Z"
   },
   {
    "duration": 179155,
    "start_time": "2022-03-17T22:45:36.861Z"
   },
   {
    "duration": 29,
    "start_time": "2022-03-17T22:48:36.017Z"
   },
   {
    "duration": 24,
    "start_time": "2022-03-17T22:48:36.047Z"
   },
   {
    "duration": 4,
    "start_time": "2022-03-17T22:48:36.072Z"
   },
   {
    "duration": 19,
    "start_time": "2022-03-17T22:48:36.077Z"
   },
   {
    "duration": 21293,
    "start_time": "2022-03-17T22:48:36.097Z"
   },
   {
    "duration": 4,
    "start_time": "2022-03-17T22:48:57.391Z"
   },
   {
    "duration": 8,
    "start_time": "2022-03-17T22:48:57.397Z"
   },
   {
    "duration": 12,
    "start_time": "2022-03-17T22:48:57.406Z"
   },
   {
    "duration": 2060,
    "start_time": "2022-03-19T13:10:03.808Z"
   },
   {
    "duration": 953,
    "start_time": "2022-03-19T13:10:09.303Z"
   },
   {
    "duration": 49,
    "start_time": "2022-03-19T13:10:10.258Z"
   },
   {
    "duration": 28,
    "start_time": "2022-03-19T13:10:10.310Z"
   },
   {
    "duration": 19,
    "start_time": "2022-03-19T13:10:10.341Z"
   },
   {
    "duration": 20,
    "start_time": "2022-03-19T13:10:10.439Z"
   },
   {
    "duration": 276,
    "start_time": "2022-03-19T13:10:10.824Z"
   },
   {
    "duration": 162,
    "start_time": "2022-03-19T13:10:11.104Z"
   },
   {
    "duration": 351,
    "start_time": "2022-03-19T13:10:11.269Z"
   },
   {
    "duration": 13,
    "start_time": "2022-03-19T13:10:12.465Z"
   },
   {
    "duration": 10,
    "start_time": "2022-03-19T13:10:12.637Z"
   },
   {
    "duration": 3,
    "start_time": "2022-03-19T13:10:13.674Z"
   },
   {
    "duration": 3,
    "start_time": "2022-03-19T13:10:13.865Z"
   },
   {
    "duration": 5,
    "start_time": "2022-03-19T13:10:14.071Z"
   },
   {
    "duration": 4,
    "start_time": "2022-03-19T13:10:14.286Z"
   },
   {
    "duration": 3,
    "start_time": "2022-03-19T13:10:14.726Z"
   },
   {
    "duration": 9,
    "start_time": "2022-03-19T13:10:14.945Z"
   },
   {
    "duration": 3,
    "start_time": "2022-03-19T13:10:16.325Z"
   },
   {
    "duration": 4,
    "start_time": "2022-03-19T13:10:16.792Z"
   },
   {
    "duration": 61,
    "start_time": "2022-03-19T13:10:17.026Z"
   },
   {
    "duration": 35,
    "start_time": "2022-03-19T13:10:17.745Z"
   },
   {
    "duration": 707,
    "start_time": "2022-03-19T13:10:18.725Z"
   },
   {
    "duration": 9,
    "start_time": "2022-03-19T13:10:19.434Z"
   },
   {
    "duration": 9,
    "start_time": "2022-03-19T13:10:19.483Z"
   },
   {
    "duration": 7,
    "start_time": "2022-03-19T13:10:20.602Z"
   },
   {
    "duration": 126,
    "start_time": "2022-03-19T13:10:24.908Z"
   },
   {
    "duration": 1047,
    "start_time": "2022-03-19T13:10:26.345Z"
   },
   {
    "duration": 32,
    "start_time": "2022-03-19T13:10:27.395Z"
   },
   {
    "duration": 4,
    "start_time": "2022-03-19T13:10:28.385Z"
   },
   {
    "duration": 14,
    "start_time": "2022-03-19T13:10:28.725Z"
   },
   {
    "duration": 68,
    "start_time": "2022-03-19T13:10:28.965Z"
   },
   {
    "duration": 21,
    "start_time": "2022-03-19T13:10:29.245Z"
   },
   {
    "duration": 6,
    "start_time": "2022-03-19T13:10:31.279Z"
   },
   {
    "duration": 1807,
    "start_time": "2022-03-19T13:10:31.595Z"
   },
   {
    "duration": 1662,
    "start_time": "2022-03-19T13:10:33.405Z"
   },
   {
    "duration": 1564,
    "start_time": "2022-03-19T13:10:35.069Z"
   },
   {
    "duration": 3,
    "start_time": "2022-03-19T13:10:36.636Z"
   },
   {
    "duration": 51,
    "start_time": "2022-03-19T13:10:39.226Z"
   },
   {
    "duration": 1495,
    "start_time": "2022-03-19T13:10:39.788Z"
   },
   {
    "duration": 34,
    "start_time": "2022-03-19T13:10:41.287Z"
   },
   {
    "duration": 1367,
    "start_time": "2022-03-19T13:10:42.019Z"
   },
   {
    "duration": 6,
    "start_time": "2022-03-19T13:10:43.420Z"
   },
   {
    "duration": 3,
    "start_time": "2022-03-19T13:10:43.631Z"
   },
   {
    "duration": 3,
    "start_time": "2022-03-19T13:10:43.855Z"
   },
   {
    "duration": 3,
    "start_time": "2022-03-19T13:12:20.679Z"
   },
   {
    "duration": 21,
    "start_time": "2022-03-19T13:12:51.065Z"
   },
   {
    "duration": 9,
    "start_time": "2022-03-19T13:13:12.115Z"
   },
   {
    "duration": 5,
    "start_time": "2022-03-19T13:24:00.507Z"
   },
   {
    "duration": 170,
    "start_time": "2022-03-19T13:24:01.065Z"
   },
   {
    "duration": 4,
    "start_time": "2022-03-19T13:24:47.429Z"
   },
   {
    "duration": 22,
    "start_time": "2022-03-19T13:24:47.752Z"
   },
   {
    "duration": 169,
    "start_time": "2022-03-19T13:24:48.293Z"
   },
   {
    "duration": 4,
    "start_time": "2022-03-19T13:24:53.772Z"
   },
   {
    "duration": 33,
    "start_time": "2022-03-19T14:18:13.166Z"
   },
   {
    "duration": 4,
    "start_time": "2022-03-19T14:18:14.166Z"
   },
   {
    "duration": 3,
    "start_time": "2022-03-19T14:18:45.267Z"
   },
   {
    "duration": 709,
    "start_time": "2022-03-19T14:20:25.026Z"
   },
   {
    "duration": 180,
    "start_time": "2022-03-19T14:48:21.766Z"
   },
   {
    "duration": 6,
    "start_time": "2022-03-19T14:49:54.035Z"
   },
   {
    "duration": 10,
    "start_time": "2022-03-19T14:50:02.726Z"
   },
   {
    "duration": 4,
    "start_time": "2022-03-19T14:50:11.126Z"
   },
   {
    "duration": 31,
    "start_time": "2022-03-19T14:50:12.230Z"
   },
   {
    "duration": 4,
    "start_time": "2022-03-19T14:50:12.566Z"
   },
   {
    "duration": 6,
    "start_time": "2022-03-19T14:50:13.047Z"
   },
   {
    "duration": 3,
    "start_time": "2022-03-19T14:50:16.766Z"
   },
   {
    "duration": 3,
    "start_time": "2022-03-19T14:50:19.614Z"
   },
   {
    "duration": 4,
    "start_time": "2022-03-19T14:50:20.006Z"
   },
   {
    "duration": 30,
    "start_time": "2022-03-19T14:50:26.886Z"
   },
   {
    "duration": 29,
    "start_time": "2022-03-19T14:50:49.770Z"
   },
   {
    "duration": 6,
    "start_time": "2022-03-19T14:51:13.970Z"
   },
   {
    "duration": 29,
    "start_time": "2022-03-19T14:51:20.682Z"
   },
   {
    "duration": 1443,
    "start_time": "2022-03-19T14:51:25.162Z"
   },
   {
    "duration": 1702,
    "start_time": "2022-03-19T14:52:05.207Z"
   },
   {
    "duration": 4262,
    "start_time": "2022-03-19T14:52:35.166Z"
   },
   {
    "duration": 3809,
    "start_time": "2022-03-19T14:52:39.506Z"
   },
   {
    "duration": 3,
    "start_time": "2022-03-19T14:52:47.445Z"
   },
   {
    "duration": 42007,
    "start_time": "2022-03-19T14:52:51.966Z"
   },
   {
    "duration": 44412,
    "start_time": "2022-03-19T14:53:33.975Z"
   },
   {
    "duration": 3,
    "start_time": "2022-03-19T14:57:18.749Z"
   },
   {
    "duration": 141442,
    "start_time": "2022-03-19T14:57:19.040Z"
   },
   {
    "duration": 159007,
    "start_time": "2022-03-19T14:59:40.484Z"
   },
   {
    "duration": 11,
    "start_time": "2022-03-19T15:02:19.493Z"
   },
   {
    "duration": 24,
    "start_time": "2022-03-19T15:02:19.507Z"
   },
   {
    "duration": 3,
    "start_time": "2022-03-19T15:03:45.027Z"
   },
   {
    "duration": 196838,
    "start_time": "2022-03-19T15:03:45.248Z"
   },
   {
    "duration": 214012,
    "start_time": "2022-03-19T15:07:02.089Z"
   },
   {
    "duration": 24,
    "start_time": "2022-03-19T15:12:46.284Z"
   },
   {
    "duration": 23,
    "start_time": "2022-03-19T15:12:48.874Z"
   },
   {
    "duration": 31,
    "start_time": "2022-03-19T15:19:21.120Z"
   },
   {
    "duration": 5,
    "start_time": "2022-03-19T15:19:21.660Z"
   },
   {
    "duration": 10,
    "start_time": "2022-03-19T15:20:39.427Z"
   },
   {
    "duration": 6,
    "start_time": "2022-03-19T15:20:49.347Z"
   },
   {
    "duration": 4,
    "start_time": "2022-03-19T15:20:50.882Z"
   },
   {
    "duration": 6,
    "start_time": "2022-03-19T15:21:23.507Z"
   },
   {
    "duration": 4,
    "start_time": "2022-03-19T15:21:26.546Z"
   },
   {
    "duration": 13322,
    "start_time": "2022-03-19T15:21:46.455Z"
   },
   {
    "duration": 4,
    "start_time": "2022-03-19T15:21:59.779Z"
   },
   {
    "duration": 10,
    "start_time": "2022-03-19T15:22:31.039Z"
   },
   {
    "duration": 5,
    "start_time": "2022-03-19T15:22:31.477Z"
   },
   {
    "duration": 1746,
    "start_time": "2022-03-19T15:28:47.290Z"
   },
   {
    "duration": 815,
    "start_time": "2022-03-19T15:28:49.038Z"
   },
   {
    "duration": 25,
    "start_time": "2022-03-19T15:28:49.855Z"
   },
   {
    "duration": 41,
    "start_time": "2022-03-19T15:28:49.882Z"
   },
   {
    "duration": 14,
    "start_time": "2022-03-19T15:28:49.925Z"
   },
   {
    "duration": 22,
    "start_time": "2022-03-19T15:28:49.941Z"
   },
   {
    "duration": 274,
    "start_time": "2022-03-19T15:28:49.965Z"
   },
   {
    "duration": 136,
    "start_time": "2022-03-19T15:28:50.242Z"
   },
   {
    "duration": 267,
    "start_time": "2022-03-19T15:28:50.379Z"
   },
   {
    "duration": 19,
    "start_time": "2022-03-19T15:28:50.991Z"
   },
   {
    "duration": 9,
    "start_time": "2022-03-19T15:28:51.215Z"
   },
   {
    "duration": 3,
    "start_time": "2022-03-19T15:28:52.154Z"
   },
   {
    "duration": 3,
    "start_time": "2022-03-19T15:28:52.369Z"
   },
   {
    "duration": 5,
    "start_time": "2022-03-19T15:28:52.568Z"
   },
   {
    "duration": 4,
    "start_time": "2022-03-19T15:28:52.750Z"
   },
   {
    "duration": 3,
    "start_time": "2022-03-19T15:28:53.116Z"
   },
   {
    "duration": 9,
    "start_time": "2022-03-19T15:28:53.329Z"
   },
   {
    "duration": 7,
    "start_time": "2022-03-19T15:28:54.509Z"
   },
   {
    "duration": 3,
    "start_time": "2022-03-19T15:28:54.725Z"
   },
   {
    "duration": 73,
    "start_time": "2022-03-19T15:28:54.884Z"
   },
   {
    "duration": 38,
    "start_time": "2022-03-19T15:28:55.290Z"
   },
   {
    "duration": 597,
    "start_time": "2022-03-19T15:28:55.885Z"
   },
   {
    "duration": 19,
    "start_time": "2022-03-19T15:28:56.484Z"
   },
   {
    "duration": 11,
    "start_time": "2022-03-19T15:28:56.507Z"
   },
   {
    "duration": 5,
    "start_time": "2022-03-19T15:28:56.685Z"
   },
   {
    "duration": 32,
    "start_time": "2022-03-19T15:28:57.269Z"
   },
   {
    "duration": 954,
    "start_time": "2022-03-19T15:28:57.680Z"
   },
   {
    "duration": 20,
    "start_time": "2022-03-19T15:28:58.636Z"
   },
   {
    "duration": 4,
    "start_time": "2022-03-19T15:28:58.686Z"
   },
   {
    "duration": 15,
    "start_time": "2022-03-19T15:28:58.893Z"
   },
   {
    "duration": 57,
    "start_time": "2022-03-19T15:28:59.099Z"
   },
   {
    "duration": 31,
    "start_time": "2022-03-19T15:28:59.285Z"
   },
   {
    "duration": 6,
    "start_time": "2022-03-19T15:29:00.119Z"
   },
   {
    "duration": 1869,
    "start_time": "2022-03-19T15:29:00.309Z"
   },
   {
    "duration": 1731,
    "start_time": "2022-03-19T15:29:02.180Z"
   },
   {
    "duration": 1710,
    "start_time": "2022-03-19T15:29:03.913Z"
   },
   {
    "duration": 3,
    "start_time": "2022-03-19T15:29:05.626Z"
   },
   {
    "duration": 61,
    "start_time": "2022-03-19T15:29:05.632Z"
   },
   {
    "duration": 1359,
    "start_time": "2022-03-19T15:29:05.695Z"
   },
   {
    "duration": 19,
    "start_time": "2022-03-19T15:29:07.056Z"
   },
   {
    "duration": 1223,
    "start_time": "2022-03-19T15:29:07.077Z"
   },
   {
    "duration": 4,
    "start_time": "2022-03-19T15:29:08.303Z"
   },
   {
    "duration": 17,
    "start_time": "2022-03-19T15:29:08.310Z"
   },
   {
    "duration": 6,
    "start_time": "2022-03-19T15:29:08.330Z"
   },
   {
    "duration": 11,
    "start_time": "2022-03-19T15:29:08.338Z"
   },
   {
    "duration": 38,
    "start_time": "2022-03-19T15:29:08.350Z"
   },
   {
    "duration": 12,
    "start_time": "2022-03-19T15:29:08.390Z"
   },
   {
    "duration": 11,
    "start_time": "2022-03-19T15:29:08.507Z"
   },
   {
    "duration": 4,
    "start_time": "2022-03-19T15:29:10.123Z"
   },
   {
    "duration": 4,
    "start_time": "2022-03-19T15:29:10.929Z"
   },
   {
    "duration": 4,
    "start_time": "2022-03-19T15:29:11.131Z"
   },
   {
    "duration": 1902,
    "start_time": "2022-03-19T15:29:11.709Z"
   },
   {
    "duration": 2099,
    "start_time": "2022-03-19T15:29:13.614Z"
   },
   {
    "duration": 4488,
    "start_time": "2022-03-19T15:29:15.716Z"
   },
   {
    "duration": 3395,
    "start_time": "2022-03-19T15:29:20.212Z"
   },
   {
    "duration": 12,
    "start_time": "2022-03-19T15:29:23.609Z"
   },
   {
    "duration": 41688,
    "start_time": "2022-03-19T15:29:23.623Z"
   },
   {
    "duration": 41877,
    "start_time": "2022-03-19T15:30:05.313Z"
   },
   {
    "duration": 3,
    "start_time": "2022-03-19T15:30:47.192Z"
   },
   {
    "duration": 132938,
    "start_time": "2022-03-19T15:30:47.201Z"
   },
   {
    "duration": 153183,
    "start_time": "2022-03-19T15:33:00.142Z"
   },
   {
    "duration": 3,
    "start_time": "2022-03-19T15:35:33.328Z"
   },
   {
    "duration": 26,
    "start_time": "2022-03-19T15:35:33.333Z"
   },
   {
    "duration": 227328,
    "start_time": "2022-03-19T15:35:33.361Z"
   },
   {
    "duration": 259696,
    "start_time": "2022-03-19T15:39:20.691Z"
   },
   {
    "duration": 12,
    "start_time": "2022-03-19T15:43:40.389Z"
   },
   {
    "duration": 31,
    "start_time": "2022-03-19T15:43:40.403Z"
   },
   {
    "duration": 23,
    "start_time": "2022-03-19T15:43:40.436Z"
   },
   {
    "duration": 5,
    "start_time": "2022-03-19T15:43:40.461Z"
   },
   {
    "duration": 8,
    "start_time": "2022-03-19T15:43:40.467Z"
   },
   {
    "duration": 11701,
    "start_time": "2022-03-19T15:43:40.477Z"
   },
   {
    "duration": 5,
    "start_time": "2022-03-19T15:43:52.180Z"
   },
   {
    "duration": 8,
    "start_time": "2022-03-19T15:43:52.200Z"
   },
   {
    "duration": 14,
    "start_time": "2022-03-19T15:43:52.209Z"
   },
   {
    "duration": 111,
    "start_time": "2022-03-19T15:44:34.929Z"
   },
   {
    "duration": 155,
    "start_time": "2022-03-19T15:45:38.467Z"
   },
   {
    "duration": 2046,
    "start_time": "2022-03-19T15:45:47.971Z"
   }
  ],
  "kernelspec": {
   "display_name": "Python 3 (ipykernel)",
   "language": "python",
   "name": "python3"
  },
  "language_info": {
   "codemirror_mode": {
    "name": "ipython",
    "version": 3
   },
   "file_extension": ".py",
   "mimetype": "text/x-python",
   "name": "python",
   "nbconvert_exporter": "python",
   "pygments_lexer": "ipython3",
   "version": "3.9.7"
  },
  "toc": {
   "base_numbering": 1,
   "nav_menu": {},
   "number_sections": true,
   "sideBar": true,
   "skip_h1_title": true,
   "title_cell": "Содержание",
   "title_sidebar": "Contents",
   "toc_cell": true,
   "toc_position": {
    "height": "calc(100% - 180px)",
    "left": "10px",
    "top": "150px",
    "width": "366.391px"
   },
   "toc_section_display": true,
   "toc_window_display": true
  }
 },
 "nbformat": 4,
 "nbformat_minor": 2
}
